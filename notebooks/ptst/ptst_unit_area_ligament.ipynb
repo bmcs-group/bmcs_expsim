{
 "cells": [
  {
   "cell_type": "markdown",
   "id": "4faf2840",
   "metadata": {},
   "source": [
    "# Axisym PTST with unit ligament area"
   ]
  },
  {
   "cell_type": "code",
   "execution_count": 1,
   "id": "5453e041-98d8-4951-923c-b64809a003dd",
   "metadata": {},
   "outputs": [],
   "source": [
    "%matplotlib widget\n",
    "import time\n",
    "from bmcs_expsim.utils.mlab_decorators import decorate_figure\n",
    "from mayavi import mlab\n",
    "import numpy as np\n",
    "np.seterr(divide='ignore', invalid='ignore') \n",
    "import warnings\n",
    "import matplotlib.pylab as plt"
   ]
  },
  {
   "cell_type": "code",
   "execution_count": 2,
   "id": "cd92087f",
   "metadata": {},
   "outputs": [],
   "source": [
    "from ibvpy.api import TStepBC , TFCyclicNonsymmetricConstant, TFBilinear\n",
    "from ibvpy.bcond import BCSlice, BCDof\n",
    "from ibvpy.xmodel.xdomain_fe_grid_axisym import XDomainFEGridAxiSym\n",
    "from ibvpy.xmodel.xdomain_interface import XDomainFEInterface"
   ]
  },
  {
   "cell_type": "code",
   "execution_count": 3,
   "id": "0af3b921",
   "metadata": {},
   "outputs": [],
   "source": [
    "from ibvpy.fets import FETS2D4Q\n",
    "from ibvpy.fets.fets1D5 import FETS1D52ULRH"
   ]
  },
  {
   "cell_type": "code",
   "execution_count": 4,
   "id": "c303f4c4",
   "metadata": {},
   "outputs": [],
   "source": [
    "from ibvpy.tmodel.viz3d_scalar_field import \\\n",
    "    Vis3DStateField, Viz3DScalarField\n",
    "from ibvpy.tmodel.viz3d_tensor_field import \\\n",
    "    Vis3DTensorField, Viz3DTensorField"
   ]
  },
  {
   "cell_type": "markdown",
   "id": "35b16d33",
   "metadata": {},
   "source": [
    "# Material models"
   ]
  },
  {
   "cell_type": "code",
   "execution_count": 5,
   "id": "12b9248d-6ee7-4b0c-ac3b-7c66012a2343",
   "metadata": {},
   "outputs": [],
   "source": [
    "from bmcs_matmod.slide.vslide_34_sw2 import Slide34\n",
    "from ibvpy.tmodel.mats3D.mats3D_elastic.vmats3D_elastic import \\\n",
    "    MATS3DElastic"
   ]
  },
  {
   "cell_type": "markdown",
   "id": "f2962828",
   "metadata": {},
   "source": [
    "# FE discretization - Displacement-controlled"
   ]
  },
  {
   "cell_type": "code",
   "execution_count": 6,
   "id": "ca631af3",
   "metadata": {
    "scrolled": true
   },
   "outputs": [],
   "source": [
    "n_y_e = 1\n",
    "n_inner_x_e = 1\n",
    "n_outer_x_e = 1\n",
    "L_x = 1.0\n",
    "P = 1.0\n",
    "R_in = P / (np.pi * 2)\n",
    "R_out = 2 * R_in\n",
    "xd_lower = XDomainFEGridAxiSym(coord_min=(0, 0),\n",
    "                          coord_max=(L_x, R_in),\n",
    "                          shape=(n_y_e, n_inner_x_e),\n",
    "                          integ_factor=2 * np.pi,\n",
    "                          fets=FETS2D4Q())\n",
    "xd_upper = XDomainFEGridAxiSym(coord_min=(0, R_in),\n",
    "                          coord_max=(L_x, R_out),\n",
    "                          shape=(n_y_e, n_outer_x_e),\n",
    "                          integ_factor=2 * np.pi,\n",
    "                          fets=FETS2D4Q())\n",
    "m1 = MATS3DElastic(E=10000, nu=0.3)\n",
    "m2 = MATS3DElastic(E=10000, nu=0.3)\n",
    "\n",
    "xd12 = XDomainFEInterface(\n",
    "    I=xd_lower.mesh.I[:, -1],\n",
    "    J=xd_upper.mesh.I[:, 0],\n",
    "    fets=FETS1D52ULRH()\n",
    ")"
   ]
  },
  {
   "cell_type": "code",
   "execution_count": 7,
   "id": "c7e23d56-c6cd-4850-b123-95fe5b1cac89",
   "metadata": {},
   "outputs": [],
   "source": [
    "#bond_m = Slide34(E_T=10000, E_N=10000)\n",
    "material_params =  dict(\n",
    "     E_T=1, gamma_T=500, K_T=0, S_T=0.5, c_T=6, bartau=3000, \n",
    "     E_N=1, S_N=0.05, c_N = 3, m = 0., f_t=2000, f_c=100000, f_c0 = 40000, eta=0.)\n",
    "bond_m = Slide34(**material_params)"
   ]
  },
  {
   "cell_type": "code",
   "execution_count": 8,
   "id": "cefa6985-d176-4087-b53f-01189fb75f5d",
   "metadata": {},
   "outputs": [],
   "source": [
    "axisym = BCSlice(slice=xd_lower.mesh[0, 0, 0, 0],\n",
    "                 var='u', dims=[1], value=0)\n",
    "fixed_upper_support = BCSlice(slice=xd_upper.mesh[0, :, 0, :],\n",
    "                 var='u', dims=[0], value=0)\n",
    "loaded_lower= BCSlice(slice=xd_lower.mesh[-1, :, -1, :],\n",
    "                  var='u', dims=[0], value=-.5)\n",
    "loaded_lower= BCSlice(slice=xd_lower.mesh[-1, 0, -1, 0],\n",
    "                  var='f', dims=[0], value=-1)"
   ]
  },
  {
   "cell_type": "code",
   "execution_count": 9,
   "id": "1dcb390a-f2c3-4680-b97c-654c95b0473f",
   "metadata": {},
   "outputs": [],
   "source": [
    "loaded_lower_dof = loaded_lower.dofs[0]"
   ]
  },
  {
   "cell_type": "code",
   "execution_count": 10,
   "id": "79fb19ab-319a-4c11-b1a3-4d792a3ac831",
   "metadata": {},
   "outputs": [],
   "source": [
    "loaded_lower_bc = BCDof(var='f', dof=loaded_lower_dof, value = -1 )\n",
    "unloaded_inner = BCSlice(slice=xd_lower.mesh[0, :, 0, :],\n",
    "                  var='u', dims=[0], value=0)\n",
    "bc1 = [axisym, fixed_upper_support, loaded_lower_bc]"
   ]
  },
  {
   "cell_type": "code",
   "execution_count": 11,
   "id": "d71e5250-997a-425f-bbc7-5175ca19f295",
   "metadata": {
    "tags": []
   },
   "outputs": [
    {
     "data": {
      "text/plain": [
       "[<ibvpy.sim.domain_state.DomainState at 0x7f5668ca9310>,\n",
       " <ibvpy.sim.domain_state.DomainState at 0x7f5668ca9db0>,\n",
       " <ibvpy.sim.domain_state.DomainState at 0x7f5668ca9d60>]"
      ]
     },
     "execution_count": 11,
     "metadata": {},
     "output_type": "execute_result"
    }
   ],
   "source": [
    "m = TStepBC(\n",
    "    domains=[(xd_lower, m1),\n",
    "             (xd_upper, m2),\n",
    "             (xd12, bond_m),\n",
    "             ],\n",
    "    bc=bc1,  # + bc2,\n",
    ")\n",
    "\n",
    "m.hist.vis_record = {\n",
    "#    'strain': Vis3DTensorField(var='eps_ab'),\n",
    "    'stress': Vis3DTensorField(var='sig_ab'),\n",
    "    #        'kinematic hardening': Vis3DStateField(var='z_a')\n",
    "}\n",
    "\n",
    "s = m.sim\n",
    "s.tloop.verbose = True\n",
    "s.tloop.k_max = 1000\n",
    "s.tline.step = 1\n",
    "s.tstep.fe_domain.serialized_subdomains"
   ]
  },
  {
   "cell_type": "code",
   "execution_count": 12,
   "id": "c95f5fa2",
   "metadata": {},
   "outputs": [],
   "source": [
    "#bond_m.interact()"
   ]
  },
  {
   "cell_type": "code",
   "execution_count": 13,
   "id": "cef0b911-0e10-444c-9083-23f63b6944a6",
   "metadata": {
    "scrolled": true
   },
   "outputs": [
    {
     "name": "stdout",
     "output_type": "stream",
     "text": [
      "t:\t 0.00u_N, u_T [[0. 0.]] [[0. 0.]] [[0. 0.]]\n",
      "sig_ [[[-0. -0.]\n",
      "  [-0. -0.]]]\n",
      "(0), \n",
      "\t 1.00u_N, u_T [[0. 0.]] [[0. 0.]] [[0. 0.]]\n",
      "sig_ [[[-0. -0.]\n",
      "  [-0. -0.]]]\n",
      "u_N, u_T [[-1.69008728e-05 -2.24810305e-05]] [[0.99985007 1.00014993]] [[0. 0.]]\n",
      "sig_ [[[ 9.99850071e-01 -1.69008728e-05]\n",
      "  [ 1.00014993e+00 -2.24810305e-05]]]\n",
      "(1), \n",
      "\n"
     ]
    }
   ],
   "source": [
    "xd12.hidden = True\n",
    "s.reset()\n",
    "s.run()"
   ]
  },
  {
   "cell_type": "markdown",
   "id": "1f81547f",
   "metadata": {},
   "source": [
    "# Plot the punch-through curve"
   ]
  },
  {
   "cell_type": "code",
   "execution_count": 14,
   "id": "30f88b7e",
   "metadata": {},
   "outputs": [],
   "source": [
    "F_to = m.hist.F_t\n",
    "U_to = m.hist.U_t"
   ]
  },
  {
   "cell_type": "code",
   "execution_count": 15,
   "id": "5116de67-1e78-4f1d-9970-e45aec667755",
   "metadata": {},
   "outputs": [
    {
     "data": {
      "text/plain": [
       "array([[[ 2,  3],\n",
       "        [ 6,  7]],\n",
       "\n",
       "       [[ 8,  9],\n",
       "        [12, 13]]])"
      ]
     },
     "execution_count": 15,
     "metadata": {},
     "output_type": "execute_result"
    }
   ],
   "source": [
    "xd12.o_Eia"
   ]
  },
  {
   "cell_type": "code",
   "execution_count": 16,
   "id": "9f99ac70-b142-47ef-be22-4a7373e37089",
   "metadata": {},
   "outputs": [
    {
     "data": {
      "text/plain": [
       "array([[[-9.99850071e-01,  3.52533164e-05],\n",
       "        [-1.00037377e+00,  2.47372491e-05]],\n",
       "\n",
       "       [[ 0.00000000e+00,  1.83524437e-05],\n",
       "        [-2.23837662e-04,  2.25621863e-06]]])"
      ]
     },
     "execution_count": 16,
     "metadata": {},
     "output_type": "execute_result"
    }
   ],
   "source": [
    "m.hist.U_t[-1][xd12.o_Eia]"
   ]
  },
  {
   "cell_type": "code",
   "execution_count": 17,
   "id": "6660108c-95cb-4280-96a0-e2de828518b0",
   "metadata": {},
   "outputs": [
    {
     "data": {
      "text/plain": [
       "array([ 9.99850071e-01, -1.69008728e-05])"
      ]
     },
     "execution_count": 17,
     "metadata": {},
     "output_type": "execute_result"
    }
   ],
   "source": [
    "xd12.map_U_to_field(U_to[-1])[0,0]"
   ]
  },
  {
   "cell_type": "code",
   "execution_count": 18,
   "id": "220e923e",
   "metadata": {},
   "outputs": [
    {
     "data": {
      "text/plain": [
       "(2, 16)"
      ]
     },
     "execution_count": 18,
     "metadata": {},
     "output_type": "execute_result"
    }
   ],
   "source": [
    "F_to.shape"
   ]
  },
  {
   "cell_type": "code",
   "execution_count": 19,
   "id": "8ee3cb43",
   "metadata": {},
   "outputs": [],
   "source": [
    "F_outer_t = np.sum(F_to[:, fixed_upper_support.dofs], axis=-1)\n",
    "F_inner_t = np.sum(F_to[:, loaded_lower.dofs], axis=-1)\n",
    "U_inner_right_t = np.average(U_to[:, loaded_lower.dofs], axis=-1)\n",
    "U_inner_left_t = np.average(U_to[:, unloaded_inner.dofs], axis=-1)\n",
    "#U_inner_bot_t = np.average(U_to[:, free_inner_y.dofs], axis=-1)"
   ]
  },
  {
   "cell_type": "code",
   "execution_count": 20,
   "id": "be243971",
   "metadata": {},
   "outputs": [
    {
     "data": {
      "application/vnd.jupyter.widget-view+json": {
       "model_id": "f954f8a9fe954e78befbca8900ea5e96",
       "version_major": 2,
       "version_minor": 0
      },
      "text/plain": [
       "Canvas(toolbar=Toolbar(toolitems=[('Home', 'Reset original view', 'home', 'home'), ('Back', 'Back to previous …"
      ]
     },
     "metadata": {},
     "output_type": "display_data"
    },
    {
     "data": {
      "text/plain": [
       "<matplotlib.legend.Legend at 0x7f56609b4ca0>"
      ]
     },
     "execution_count": 20,
     "metadata": {},
     "output_type": "execute_result"
    }
   ],
   "source": [
    "_, ax = plt.subplots(1,1)\n",
    "ax.plot(-U_inner_right_t, F_outer_t, label='F_outer(U_top)')\n",
    "ax.plot(-U_inner_left_t, F_outer_t, label='F_outer(U_top)')\n",
    "ax.plot(-U_inner_right_t, F_inner_t, label='F_inner(U_top)')\n",
    "#ax.plot(-U_inner_bot_t, F_inner_t, label='F_inner(U_bot)')\n",
    "ax.legend()"
   ]
  },
  {
   "cell_type": "code",
   "execution_count": 27,
   "id": "6d303963-9c6e-4adc-ad0a-0a34e25bd08a",
   "metadata": {},
   "outputs": [],
   "source": [
    "if True:\n",
    "    mlab.options.backend = 'envisage'\n",
    "    mlab.options.offscreen = False # 'envisage'\n",
    "    f_strain = mlab.figure()\n",
    "    scene = mlab.get_engine().scenes[-1]\n",
    "    scene.name = 'stress'\n",
    "    strain_viz = Viz3DTensorField(vis3d=m.hist['stress'])\n",
    "    strain_viz.setup()\n",
    "    strain_viz.warp_vector.filter.scale_factor = 0.1\n",
    "    strain_viz.plot(s.tstep.t_n)\n",
    "    mlab.show()"
   ]
  },
  {
   "cell_type": "code",
   "execution_count": 22,
   "id": "fa159b7e-462b-44bf-b1bc-a1f5dc3a3186",
   "metadata": {},
   "outputs": [],
   "source": [
    "states_t = [states_t[2] for states_t in m.hist.state_vars]\n",
    "var_names = states_t[0].keys()\n",
    "EpsSig_t = {\n",
    "    var_name: np.array([ state_dict[var_name] for state_dict in states_t ]) \n",
    "    for var_name in var_names \n",
    "}"
   ]
  },
  {
   "cell_type": "code",
   "execution_count": 23,
   "id": "8875bf8e-2dcd-4705-9f85-cf52efa7b1d4",
   "metadata": {},
   "outputs": [
    {
     "data": {
      "text/plain": [
       "dict_keys(['w_pi', 's_pi_x', 's_pi_y', 'z', 'alpha_x', 'alpha_y', 'omega_T', 'omega_N', 'sig_pi', 'tau_pi_x', 'tau_pi_y', 'Z', 'X_x', 'X_y', 'Y_T', 'Y_N'])"
      ]
     },
     "execution_count": 23,
     "metadata": {},
     "output_type": "execute_result"
    }
   ],
   "source": [
    "var_names"
   ]
  },
  {
   "cell_type": "code",
   "execution_count": 24,
   "id": "7e3aed39-09b2-4527-adaf-dcccce053372",
   "metadata": {},
   "outputs": [],
   "source": [
    "u_pi_N = EpsSig_t['w_pi']\n",
    "u_pi_Tx = EpsSig_t['s_pi_x']\n",
    "sig_pi_N = EpsSig_t['sig_pi']\n",
    "sig_pi_Tx = EpsSig_t['tau_pi_x']\n",
    "sig_pi_Ty = EpsSig_t['tau_pi_y']\n",
    "omega_Nx = EpsSig_t['omega_N']\n",
    "omega_Tx = EpsSig_t['omega_T']"
   ]
  },
  {
   "cell_type": "code",
   "execution_count": 25,
   "id": "f9e27a02-7826-4772-8f1a-39214856dbe5",
   "metadata": {},
   "outputs": [],
   "source": [
    "x_m = xd12.x_Eia[:,:,0].flatten()"
   ]
  },
  {
   "cell_type": "code",
   "execution_count": 26,
   "id": "f2a0285f-8322-44fa-841d-6be327f78c3f",
   "metadata": {},
   "outputs": [
    {
     "data": {
      "application/vnd.jupyter.widget-view+json": {
       "model_id": "5864fc6f515f43aeab0f7eba944ac6bd",
       "version_major": 2,
       "version_minor": 0
      },
      "text/plain": [
       "Canvas(toolbar=Toolbar(toolitems=[('Home', 'Reset original view', 'home', 'home'), ('Back', 'Back to previous …"
      ]
     },
     "metadata": {},
     "output_type": "display_data"
    },
    {
     "name": "stderr",
     "output_type": "stream",
     "text": [
      "<ipython-input-26-df7fb91e129e>:7: MatplotlibDeprecationWarning: Since 3.2, the parameter *where* must have the same size as [0.0 1.0] in fill_betweenx(). This will become an error two minor releases later.\n",
      "  ax.fill_between(x_m.flatten().flatten(), sig_pi_Tx[idx,:,:].flatten(), 0, 'o-', color='red', alpha=0.2)\n"
     ]
    },
    {
     "data": {
      "text/plain": [
       "<matplotlib.legend.Legend at 0x7f56608b1eb0>"
      ]
     },
     "execution_count": 26,
     "metadata": {},
     "output_type": "execute_result"
    }
   ],
   "source": [
    "_, (ax, ax_omega) = plt.subplots(1,2, figsize=(10,5))\n",
    "idx = -1\n",
    "ax_u = ax.twinx()\n",
    "ax.plot(x_m, sig_pi_N[idx,:,:].flatten(), color='blue', label='sig')\n",
    "ax_u.plot(x_m, u_pi_N[idx,:,:].flatten(), color='blue', linestyle='dashed', label='sig')\n",
    "ax.plot(x_m, sig_pi_Tx[idx,:,:].flatten(), 'o-', color='red', label='tau')\n",
    "ax.fill_between(x_m.flatten().flatten(), sig_pi_Tx[idx,:,:].flatten(), 0, 'o-', color='red', alpha=0.2)\n",
    "ax_u.plot(x_m, u_pi_Tx[idx,:,:].flatten(), color='red', linestyle='dashed', label='u_Tx')\n",
    "ax_omega.plot(x_m, omega_Nx[idx,:,:].flatten(), color='green', label='omega_N')\n",
    "ax_omega.plot(x_m, omega_Tx[idx,:,:].flatten(), color='green', linestyle='dashed', label='omega_T')\n",
    "ax.legend()\n",
    "ax_omega.legend()"
   ]
  },
  {
   "cell_type": "code",
   "execution_count": 25,
   "id": "a2d41bdf-d155-4eb9-b990-6057e97efbe7",
   "metadata": {},
   "outputs": [
    {
     "data": {
      "text/plain": [
       "array([[ 3.69767199,  3.44363753],\n",
       "       [ 3.44363753,  2.75394758],\n",
       "       [ 2.75394758,  1.23215998],\n",
       "       [ 1.23215998, -0.55897674],\n",
       "       [-0.55897674, -2.55754274],\n",
       "       [-2.55754274, -3.9001756 ],\n",
       "       [-3.9001756 , -5.14633512],\n",
       "       [-5.14633512, -6.6572502 ]])"
      ]
     },
     "execution_count": 25,
     "metadata": {},
     "output_type": "execute_result"
    }
   ],
   "source": [
    "sig_pi_Tx[-1]"
   ]
  },
  {
   "cell_type": "markdown",
   "id": "34cd5362-fef3-484d-83b1-efbc6899bd14",
   "metadata": {},
   "source": [
    "# FE discretization - Force-controlled"
   ]
  },
  {
   "cell_type": "code",
   "execution_count": null,
   "id": "dd628b59-ee02-408f-a207-e2b1f1102f2c",
   "metadata": {},
   "outputs": [],
   "source": []
  }
 ],
 "metadata": {
  "kernelspec": {
   "display_name": "bmcs_env",
   "language": "python",
   "name": "bmcs_env"
  },
  "language_info": {
   "codemirror_mode": {
    "name": "ipython",
    "version": 3
   },
   "file_extension": ".py",
   "mimetype": "text/x-python",
   "name": "python",
   "nbconvert_exporter": "python",
   "pygments_lexer": "ipython3",
   "version": "3.8.8"
  },
  "toc": {
   "base_numbering": 1,
   "nav_menu": {},
   "number_sections": true,
   "sideBar": true,
   "skip_h1_title": false,
   "title_cell": "Table of Contents",
   "title_sidebar": "Contents",
   "toc_cell": false,
   "toc_position": {},
   "toc_section_display": true,
   "toc_window_display": false
  }
 },
 "nbformat": 4,
 "nbformat_minor": 5
}
