{
 "cells": [
  {
   "cell_type": "markdown",
   "id": "4faf2840",
   "metadata": {},
   "source": [
    "# Axisym PTST with unit ligament area"
   ]
  },
  {
   "cell_type": "code",
   "execution_count": 1,
   "id": "5453e041-98d8-4951-923c-b64809a003dd",
   "metadata": {},
   "outputs": [],
   "source": [
    "%matplotlib widget\n",
    "import time\n",
    "from bmcs_expsim.utils.mlab_decorators import decorate_figure\n",
    "from mayavi import mlab\n",
    "import numpy as np\n",
    "np.seterr(divide='ignore', invalid='ignore') \n",
    "import warnings\n",
    "import matplotlib.pylab as plt\n",
    "import numpy as np"
   ]
  },
  {
   "cell_type": "code",
   "execution_count": 2,
   "id": "cd92087f",
   "metadata": {},
   "outputs": [],
   "source": [
    "from ibvpy.api import TStepBC , TFCyclicNonsymmetricConstant, TFBilinear\n",
    "from ibvpy.bcond import BCSlice, BCDof\n",
    "from ibvpy.xmodel.xdomain_fe_grid_axisym import XDomainFEGridAxiSym\n",
    "from ibvpy.xmodel.xdomain_interface import XDomainFEInterface"
   ]
  },
  {
   "cell_type": "code",
   "execution_count": 3,
   "id": "0af3b921",
   "metadata": {},
   "outputs": [],
   "source": [
    "from ibvpy.fets import FETS2D4Q\n",
    "from ibvpy.fets.fets1D5 import FETS1D52ULRH"
   ]
  },
  {
   "cell_type": "code",
   "execution_count": 4,
   "id": "c303f4c4",
   "metadata": {},
   "outputs": [],
   "source": [
    "from ibvpy.tmodel.viz3d_scalar_field import \\\n",
    "    Vis3DStateField, Viz3DScalarField\n",
    "from ibvpy.tmodel.viz3d_tensor_field import \\\n",
    "    Vis3DTensorField, Viz3DTensorField"
   ]
  },
  {
   "cell_type": "markdown",
   "id": "35b16d33",
   "metadata": {},
   "source": [
    "# Material models"
   ]
  },
  {
   "cell_type": "code",
   "execution_count": 5,
   "id": "12b9248d-6ee7-4b0c-ac3b-7c66012a2343",
   "metadata": {},
   "outputs": [],
   "source": [
    "from bmcs_matmod.slide.vslide_34_TN_axisym import Slide34\n",
    "from ibvpy.tmodel.mats3D.mats3D_elastic.vmats3D_elastic import \\\n",
    "    MATS3DElastic"
   ]
  },
  {
   "cell_type": "markdown",
   "id": "f2962828",
   "metadata": {},
   "source": [
    "# FE discretization - Force-controlled - 1N load"
   ]
  },
  {
   "cell_type": "markdown",
   "id": "824b15cd-0a1b-4b80-8e08-74b6ba39429f",
   "metadata": {},
   "source": [
    "## Ligament of unit area"
   ]
  },
  {
   "cell_type": "markdown",
   "id": "5ebc0a6c-b53f-4d6d-9029-9fe1956e0898",
   "metadata": {},
   "source": [
    "Expected $\\sigma_{\\mathrm{T}} = \\frac{Load}{Area} = \\frac{1}{1} = 1$ "
   ]
  },
  {
   "cell_type": "code",
   "execution_count": 129,
   "id": "ca631af3",
   "metadata": {
    "scrolled": true
   },
   "outputs": [],
   "source": [
    "n_y_e = 1\n",
    "n_inner_x_e = 1\n",
    "n_outer_x_e = 1\n",
    "L_x = 1.0\n",
    "P = 1.0\n",
    "R_in = P / (2 * np.pi) \n",
    "R_out = 2 * R_in\n",
    "xd_lower = XDomainFEGridAxiSym(coord_min=(0, 0),\n",
    "                          coord_max=(L_x, R_in),\n",
    "                          shape=(n_y_e, n_inner_x_e),\n",
    "                          integ_factor=2 * np.pi,\n",
    "                          fets=FETS2D4Q())\n",
    "xd_upper = XDomainFEGridAxiSym(coord_min=(0, R_in),\n",
    "                          coord_max=(L_x, R_out),\n",
    "                          shape=(n_y_e, n_outer_x_e),\n",
    "                          integ_factor=2 * np.pi,\n",
    "                          fets=FETS2D4Q())\n",
    "m1 = MATS3DElastic(E=10000, nu=0.3)\n",
    "m2 = MATS3DElastic(E=10000, nu=0.3)\n",
    "\n",
    "xd12 = XDomainFEInterface(\n",
    "    integ_factor = 2 * np.pi * R_in,\n",
    "    I=xd_lower.mesh.I[:, -1],\n",
    "    J=xd_upper.mesh.I[:, 0],\n",
    "    fets=FETS1D52ULRH()\n",
    ")"
   ]
  },
  {
   "cell_type": "code",
   "execution_count": 130,
   "id": "c7e23d56-c6cd-4850-b123-95fe5b1cac89",
   "metadata": {},
   "outputs": [],
   "source": [
    "#bond_m = Slide34(E_T=10000, E_N=10000)\n",
    "# material_params =  dict(\n",
    "#      E_T=1, gamma_T=500, K_T=0, S_T=0.5, c_T=6, bartau=3000, \n",
    "#      E_N=1, S_N=0.05, c_N = 3, m = 0., f_t=2000, f_c=100000, f_c0 = 40000, eta=0.)\n",
    "# bond_m = Slide34(**material_params)\n",
    "\n",
    "material_params =  dict(\n",
    "     E_T=1, gamma_T=500, K_T=0, S_T=0.5, c_T=6, bartau=3000, \n",
    "     E_N=1, S_N=0.05, c_N = 3, m = 0., f_t=2000, f_c=100000, f_c0 = 40000, eta=0.)\n",
    "bond_m = Slide34(**material_params)"
   ]
  },
  {
   "cell_type": "code",
   "execution_count": 131,
   "id": "cefa6985-d176-4087-b53f-01189fb75f5d",
   "metadata": {},
   "outputs": [],
   "source": [
    "axisym = BCSlice(slice=xd_lower.mesh[0, 0, 0, 0],\n",
    "                 var='u', dims=[1], value=0)\n",
    "fixed_upper_support = BCSlice(slice=xd_upper.mesh[0, :, 0, :],\n",
    "                 var='u', dims=[0], value=0)\n",
    "loaded_lower= BCSlice(slice=xd_lower.mesh[-1, :, -1, :],\n",
    "                  var='u', dims=[0], value=0)\n",
    "loaded_lower_dof = loaded_lower.dofs[0]\n",
    "loaded_lower_bc = BCDof(var='f', dof=loaded_lower_dof, value = -1)\n",
    "\n",
    "bc1 = [axisym, fixed_upper_support, loaded_lower_bc]"
   ]
  },
  {
   "cell_type": "code",
   "execution_count": 132,
   "id": "d71e5250-997a-425f-bbc7-5175ca19f295",
   "metadata": {
    "tags": []
   },
   "outputs": [
    {
     "data": {
      "text/plain": [
       "[<ibvpy.sim.domain_state.DomainState at 0x216d339b590>,\n",
       " <ibvpy.sim.domain_state.DomainState at 0x216d1c96db0>,\n",
       " <ibvpy.sim.domain_state.DomainState at 0x216d33a30e0>]"
      ]
     },
     "execution_count": 132,
     "metadata": {},
     "output_type": "execute_result"
    }
   ],
   "source": [
    "m = TStepBC(\n",
    "    domains=[(xd_lower, m1),\n",
    "             (xd_upper, m2),\n",
    "             (xd12, bond_m),\n",
    "             ],\n",
    "    bc=bc1,  # + bc2,\n",
    ")\n",
    "\n",
    "m.hist.vis_record = {\n",
    "#    'strain': Vis3DTensorField(var='eps_ab'),\n",
    "    'stress': Vis3DTensorField(var='sig_ab'),\n",
    "    #        'kinematic hardening': Vis3DStateField(var='z_a')\n",
    "}\n",
    "\n",
    "s = m.sim\n",
    "s.tloop.verbose = True\n",
    "s.tloop.k_max = 1000\n",
    "s.tline.step = 1\n",
    "s.tstep.fe_domain.serialized_subdomains"
   ]
  },
  {
   "cell_type": "code",
   "execution_count": 133,
   "id": "c95f5fa2",
   "metadata": {},
   "outputs": [],
   "source": [
    "#bond_m.interact()"
   ]
  },
  {
   "cell_type": "code",
   "execution_count": 134,
   "id": "cef0b911-0e10-444c-9083-23f63b6944a6",
   "metadata": {
    "scrolled": true
   },
   "outputs": [
    {
     "name": "stdout",
     "output_type": "stream",
     "text": [
      "t:\t 0.00(0), \n",
      "\t 1.00(1), \n",
      "\n"
     ]
    }
   ],
   "source": [
    "xd12.hidden = True\n",
    "s.reset()\n",
    "s.run()"
   ]
  },
  {
   "cell_type": "code",
   "execution_count": 135,
   "id": "1d8e7e31-dac2-46db-8344-d3ca115de1ab",
   "metadata": {},
   "outputs": [],
   "source": [
    "F_to = m.hist.F_t\n",
    "U_to = m.hist.U_t\n",
    "F_outer_t = np.sum(F_to[:, fixed_upper_support.dofs], axis=-1)\n",
    "F_inner_t = np.sum(F_to[:, loaded_lower.dofs], axis=-1)\n",
    "U_inner_right_t = np.average(U_to[:, loaded_lower.dofs], axis=-1)\n",
    "U_inner_left_t = np.average(U_to[:, unloaded_inner.dofs], axis=-1)"
   ]
  },
  {
   "cell_type": "code",
   "execution_count": 136,
   "id": "122baac2-7a3b-41a3-b48c-b3bb008f6993",
   "metadata": {},
   "outputs": [],
   "source": [
    "states_t = [states_t[2] for states_t in m.hist.state_vars]\n",
    "var_names = states_t[0].keys()\n",
    "EpsSig_t = {\n",
    "    var_name: np.array([ state_dict[var_name] for state_dict in states_t ]) \n",
    "    for var_name in var_names \n",
    "}\n",
    "u_pi_N = EpsSig_t['w_pi']\n",
    "u_pi_Tx = EpsSig_t['s_pi_x']\n",
    "sig_pi_N = EpsSig_t['sig_pi']\n",
    "sig_pi_Tx = EpsSig_t['tau_pi_x']\n",
    "sig_pi_Ty = EpsSig_t['tau_pi_y']\n",
    "omega_Nx = EpsSig_t['omega_N']\n",
    "omega_Tx = EpsSig_t['omega_T']\n",
    "x_m = xd12.x_Eia[:,:,0].flatten()"
   ]
  },
  {
   "cell_type": "code",
   "execution_count": 137,
   "id": "e06e891b-3180-4327-9ef9-4ca4e46109ce",
   "metadata": {},
   "outputs": [
    {
     "data": {
      "application/vnd.jupyter.widget-view+json": {
       "model_id": "7a7a26e28175491c9391e9e1f27f94eb",
       "version_major": 2,
       "version_minor": 0
      },
      "text/plain": [
       "Canvas(toolbar=Toolbar(toolitems=[('Home', 'Reset original view', 'home', 'home'), ('Back', 'Back to previous …"
      ]
     },
     "metadata": {},
     "output_type": "display_data"
    },
    {
     "data": {
      "text/plain": [
       "<matplotlib.legend.Legend at 0x216d35f9340>"
      ]
     },
     "execution_count": 137,
     "metadata": {},
     "output_type": "execute_result"
    }
   ],
   "source": [
    "_, (ax1, ax2) = plt.subplots(1,2)\n",
    "ax1.plot(-U_inner_right_t, F_outer_t, label='F_outer(U_top)')\n",
    "ax1.plot(-U_inner_left_t, F_outer_t, label='F_outer(U_top)')\n",
    "ax1.plot(-U_inner_right_t, F_inner_t, label='F_inner(U_top)')\n",
    "ax1.legend()\n",
    "idx = -1\n",
    "ax_u = ax2.twinx()\n",
    "ax2.plot(x_m, sig_pi_N[idx,:,:].flatten(), color='blue', label='sig')\n",
    "ax_u.plot(x_m, u_pi_N[idx,:,:].flatten(), color='blue', linestyle='dashed', label='sig')\n",
    "ax2.plot(x_m, sig_pi_Tx[idx,:,:].flatten(), 'o-', color='red', label='tau')\n",
    "#ax.fill_between(x_m.flatten().flatten(), sig_pi_Tx[idx,:,:].flatten(), 0, 'o-', color='red', alpha=0.2)\n",
    "ax_u.plot(x_m, u_pi_Tx[idx,:,:].flatten(), color='red', linestyle='dashed', label='u_Tx')\n",
    "ax2.legend()"
   ]
  },
  {
   "cell_type": "markdown",
   "id": "06def892-f848-4d86-9651-cb1986646d46",
   "metadata": {},
   "source": [
    "## Ligament area equal to 2 - Case 1: Perimiter = 2, Height = 1"
   ]
  },
  {
   "cell_type": "markdown",
   "id": "a37742c4-f499-4148-99c8-c53ebcbad589",
   "metadata": {},
   "source": [
    "Expected $\\sigma_{\\mathrm{T}} = \\frac{Load}{Area} = \\frac{1}{2} = 0.5$ "
   ]
  },
  {
   "cell_type": "code",
   "execution_count": 138,
   "id": "ac18efd5-ade7-49d7-885d-bc585a3a786c",
   "metadata": {
    "scrolled": true
   },
   "outputs": [],
   "source": [
    "n_y_e = 1\n",
    "n_inner_x_e = 1\n",
    "n_outer_x_e = 1\n",
    "L_x = 1.0\n",
    "P = 2.0\n",
    "R_in = P / (2 * np.pi) \n",
    "R_out = 2 * R_in\n",
    "xd_lower = XDomainFEGridAxiSym(coord_min=(0, 0),\n",
    "                          coord_max=(L_x, R_in),\n",
    "                          shape=(n_y_e, n_inner_x_e),\n",
    "                          integ_factor=2 * np.pi,\n",
    "                          fets=FETS2D4Q())\n",
    "xd_upper = XDomainFEGridAxiSym(coord_min=(0, R_in),\n",
    "                          coord_max=(L_x, R_out),\n",
    "                          shape=(n_y_e, n_outer_x_e),\n",
    "                          integ_factor=2 * np.pi,\n",
    "                          fets=FETS2D4Q())\n",
    "m1 = MATS3DElastic(E=10000, nu=0.3)\n",
    "m2 = MATS3DElastic(E=10000, nu=0.3)\n",
    "\n",
    "xd12 = XDomainFEInterface(\n",
    "    integ_factor = 2 * np.pi * R_in,\n",
    "    I=xd_lower.mesh.I[:, -1],\n",
    "    J=xd_upper.mesh.I[:, 0],\n",
    "    fets=FETS1D52ULRH()\n",
    ")"
   ]
  },
  {
   "cell_type": "code",
   "execution_count": 139,
   "id": "98b6d868-e0b6-4503-8d67-07a81382d39f",
   "metadata": {},
   "outputs": [],
   "source": [
    "#bond_m = Slide34(E_T=10000, E_N=10000)\n",
    "# material_params =  dict(\n",
    "#      E_T=1, gamma_T=500, K_T=0, S_T=0.5, c_T=6, bartau=3000, \n",
    "#      E_N=1, S_N=0.05, c_N = 3, m = 0., f_t=2000, f_c=100000, f_c0 = 40000, eta=0.)\n",
    "# bond_m = Slide34(**material_params)\n",
    "\n",
    "material_params =  dict(\n",
    "     E_T=1, gamma_T=500, K_T=0, S_T=0.5, c_T=6, bartau=3000, \n",
    "     E_N=1, S_N=0.05, c_N = 3, m = 0., f_t=2000, f_c=100000, f_c0 = 40000, eta=0.)\n",
    "bond_m = Slide34(**material_params)"
   ]
  },
  {
   "cell_type": "code",
   "execution_count": 140,
   "id": "3f71ff89-d7f0-4cba-88bc-96c0be6c19a3",
   "metadata": {},
   "outputs": [],
   "source": [
    "axisym = BCSlice(slice=xd_lower.mesh[0, 0, 0, 0],\n",
    "                 var='u', dims=[1], value=0)\n",
    "fixed_upper_support = BCSlice(slice=xd_upper.mesh[0, :, 0, :],\n",
    "                 var='u', dims=[0], value=0)\n",
    "loaded_lower= BCSlice(slice=xd_lower.mesh[-1, :, -1, :],\n",
    "                  var='u', dims=[0], value=0)\n",
    "loaded_lower_dof = loaded_lower.dofs[0]\n",
    "loaded_lower_bc = BCDof(var='f', dof=loaded_lower_dof, value = -1)\n",
    "\n",
    "bc1 = [axisym, fixed_upper_support, loaded_lower_bc]"
   ]
  },
  {
   "cell_type": "code",
   "execution_count": 141,
   "id": "58b6ae22-11d7-4e83-b5a5-dce7bd4e51c1",
   "metadata": {
    "tags": []
   },
   "outputs": [
    {
     "data": {
      "text/plain": [
       "[<ibvpy.sim.domain_state.DomainState at 0x216d4fcb130>,\n",
       " <ibvpy.sim.domain_state.DomainState at 0x216d28d6630>,\n",
       " <ibvpy.sim.domain_state.DomainState at 0x216d4fcbc20>]"
      ]
     },
     "execution_count": 141,
     "metadata": {},
     "output_type": "execute_result"
    }
   ],
   "source": [
    "m = TStepBC(\n",
    "    domains=[(xd_lower, m1),\n",
    "             (xd_upper, m2),\n",
    "             (xd12, bond_m),\n",
    "             ],\n",
    "    bc=bc1,  # + bc2,\n",
    ")\n",
    "\n",
    "m.hist.vis_record = {\n",
    "#    'strain': Vis3DTensorField(var='eps_ab'),\n",
    "    'stress': Vis3DTensorField(var='sig_ab'),\n",
    "    #        'kinematic hardening': Vis3DStateField(var='z_a')\n",
    "}\n",
    "\n",
    "s = m.sim\n",
    "s.tloop.verbose = True\n",
    "s.tloop.k_max = 1000\n",
    "s.tline.step = 1\n",
    "s.tstep.fe_domain.serialized_subdomains"
   ]
  },
  {
   "cell_type": "code",
   "execution_count": 142,
   "id": "7e8a7612-fd9f-4208-ba1d-558bc0082da7",
   "metadata": {},
   "outputs": [],
   "source": [
    "#bond_m.interact()"
   ]
  },
  {
   "cell_type": "code",
   "execution_count": 143,
   "id": "56e3948b-6ad0-49bf-80be-99a41d17c1a9",
   "metadata": {
    "scrolled": true
   },
   "outputs": [
    {
     "name": "stdout",
     "output_type": "stream",
     "text": [
      "t:\t 0.00(0), \n",
      "\t 1.00(1), \n",
      "\n"
     ]
    }
   ],
   "source": [
    "xd12.hidden = True\n",
    "s.reset()\n",
    "s.run()"
   ]
  },
  {
   "cell_type": "code",
   "execution_count": 144,
   "id": "20b321b3-e5f4-4921-bf94-0d4d6206f0ed",
   "metadata": {},
   "outputs": [],
   "source": [
    "F_to = m.hist.F_t\n",
    "U_to = m.hist.U_t\n",
    "F_outer_t = np.sum(F_to[:, fixed_upper_support.dofs], axis=-1)\n",
    "F_inner_t = np.sum(F_to[:, loaded_lower.dofs], axis=-1)\n",
    "U_inner_right_t = np.average(U_to[:, loaded_lower.dofs], axis=-1)\n",
    "U_inner_left_t = np.average(U_to[:, unloaded_inner.dofs], axis=-1)"
   ]
  },
  {
   "cell_type": "code",
   "execution_count": 145,
   "id": "17eeb9be-c8d1-464f-a098-6b15911243d5",
   "metadata": {},
   "outputs": [],
   "source": [
    "states_t = [states_t[2] for states_t in m.hist.state_vars]\n",
    "var_names = states_t[0].keys()\n",
    "EpsSig_t = {\n",
    "    var_name: np.array([ state_dict[var_name] for state_dict in states_t ]) \n",
    "    for var_name in var_names \n",
    "}\n",
    "u_pi_N = EpsSig_t['w_pi']\n",
    "u_pi_Tx = EpsSig_t['s_pi_x']\n",
    "sig_pi_N = EpsSig_t['sig_pi']\n",
    "sig_pi_Tx = EpsSig_t['tau_pi_x']\n",
    "sig_pi_Ty = EpsSig_t['tau_pi_y']\n",
    "omega_Nx = EpsSig_t['omega_N']\n",
    "omega_Tx = EpsSig_t['omega_T']\n",
    "x_m = xd12.x_Eia[:,:,0].flatten()"
   ]
  },
  {
   "cell_type": "code",
   "execution_count": 146,
   "id": "4b5d2b87-e3ba-4e49-97fa-f78d16bd2e92",
   "metadata": {},
   "outputs": [
    {
     "data": {
      "application/vnd.jupyter.widget-view+json": {
       "model_id": "223b32ea737f4812994d1b979229303e",
       "version_major": 2,
       "version_minor": 0
      },
      "text/plain": [
       "Canvas(toolbar=Toolbar(toolitems=[('Home', 'Reset original view', 'home', 'home'), ('Back', 'Back to previous …"
      ]
     },
     "metadata": {},
     "output_type": "display_data"
    },
    {
     "data": {
      "text/plain": [
       "<matplotlib.legend.Legend at 0x216d5221820>"
      ]
     },
     "execution_count": 146,
     "metadata": {},
     "output_type": "execute_result"
    }
   ],
   "source": [
    "_, (ax1, ax2) = plt.subplots(1,2)\n",
    "ax1.plot(-U_inner_right_t, F_outer_t, label='F_outer(U_top)')\n",
    "ax1.plot(-U_inner_left_t, F_outer_t, label='F_outer(U_top)')\n",
    "ax1.plot(-U_inner_right_t, F_inner_t, label='F_inner(U_top)')\n",
    "ax1.legend()\n",
    "idx = -1\n",
    "ax_u = ax2.twinx()\n",
    "ax2.plot(x_m, sig_pi_N[idx,:,:].flatten(), color='blue', label='sig')\n",
    "ax_u.plot(x_m, u_pi_N[idx,:,:].flatten(), color='blue', linestyle='dashed', label='sig')\n",
    "ax2.plot(x_m, sig_pi_Tx[idx,:,:].flatten(), 'o-', color='red', label='tau')\n",
    "#ax.fill_between(x_m.flatten().flatten(), sig_pi_Tx[idx,:,:].flatten(), 0, 'o-', color='red', alpha=0.2)\n",
    "ax_u.plot(x_m, u_pi_Tx[idx,:,:].flatten(), color='red', linestyle='dashed', label='u_Tx')\n",
    "ax2.legend()"
   ]
  },
  {
   "cell_type": "markdown",
   "id": "36621ec6-5c41-4d8f-8281-dc0b121ecd44",
   "metadata": {},
   "source": [
    "## Ligament area equal to 2 - Case 2: Perimiter = 1, Height = 2"
   ]
  },
  {
   "cell_type": "markdown",
   "id": "c30ba821-c518-4c16-a84d-e4a54dc4d052",
   "metadata": {},
   "source": [
    "Expected $\\sigma_{\\mathrm{T}} = \\frac{Load}{Area} = \\frac{1}{2} = 0.5$ "
   ]
  },
  {
   "cell_type": "code",
   "execution_count": 148,
   "id": "10dcbb83-fb6e-4369-a5eb-6e63cd91580c",
   "metadata": {
    "scrolled": true
   },
   "outputs": [],
   "source": [
    "n_y_e = 1\n",
    "n_inner_x_e = 1\n",
    "n_outer_x_e = 1\n",
    "L_x = 2.0\n",
    "P = 1.0\n",
    "R_in = P / (2 * np.pi) \n",
    "R_out = 2 * R_in\n",
    "xd_lower = XDomainFEGridAxiSym(coord_min=(0, 0),\n",
    "                          coord_max=(L_x, R_in),\n",
    "                          shape=(n_y_e, n_inner_x_e),\n",
    "                          integ_factor=2 * np.pi,\n",
    "                          fets=FETS2D4Q())\n",
    "xd_upper = XDomainFEGridAxiSym(coord_min=(0, R_in),\n",
    "                          coord_max=(L_x, R_out),\n",
    "                          shape=(n_y_e, n_outer_x_e),\n",
    "                          integ_factor=2 * np.pi,\n",
    "                          fets=FETS2D4Q())\n",
    "m1 = MATS3DElastic(E=10000, nu=0.3)\n",
    "m2 = MATS3DElastic(E=10000, nu=0.3)\n",
    "\n",
    "xd12 = XDomainFEInterface(\n",
    "    integ_factor = 2 * np.pi * R_in,\n",
    "    I=xd_lower.mesh.I[:, -1],\n",
    "    J=xd_upper.mesh.I[:, 0],\n",
    "    fets=FETS1D52ULRH()\n",
    ")"
   ]
  },
  {
   "cell_type": "code",
   "execution_count": 149,
   "id": "2bc0e460-6891-4d63-b8b6-53d9f968ea2a",
   "metadata": {},
   "outputs": [],
   "source": [
    "#bond_m = Slide34(E_T=10000, E_N=10000)\n",
    "# material_params =  dict(\n",
    "#      E_T=1, gamma_T=500, K_T=0, S_T=0.5, c_T=6, bartau=3000, \n",
    "#      E_N=1, S_N=0.05, c_N = 3, m = 0., f_t=2000, f_c=100000, f_c0 = 40000, eta=0.)\n",
    "# bond_m = Slide34(**material_params)\n",
    "\n",
    "material_params =  dict(\n",
    "     E_T=1, gamma_T=500, K_T=0, S_T=0.5, c_T=6, bartau=3000, \n",
    "     E_N=1, S_N=0.05, c_N = 3, m = 0., f_t=2000, f_c=100000, f_c0 = 40000, eta=0.)\n",
    "bond_m = Slide34(**material_params)"
   ]
  },
  {
   "cell_type": "code",
   "execution_count": 150,
   "id": "2a4633a3-ce0c-4011-8436-1a9e5c99a679",
   "metadata": {},
   "outputs": [],
   "source": [
    "axisym = BCSlice(slice=xd_lower.mesh[0, 0, 0, 0],\n",
    "                 var='u', dims=[1], value=0)\n",
    "fixed_upper_support = BCSlice(slice=xd_upper.mesh[0, :, 0, :],\n",
    "                 var='u', dims=[0], value=0)\n",
    "loaded_lower= BCSlice(slice=xd_lower.mesh[-1, :, -1, :],\n",
    "                  var='u', dims=[0], value=0)\n",
    "loaded_lower_dof = loaded_lower.dofs[0]\n",
    "loaded_lower_bc = BCDof(var='f', dof=loaded_lower_dof, value = -1)\n",
    "\n",
    "bc1 = [axisym, fixed_upper_support, loaded_lower_bc]"
   ]
  },
  {
   "cell_type": "code",
   "execution_count": 151,
   "id": "23bbf7d5-b646-4ec2-835c-dc09a026dad1",
   "metadata": {
    "tags": []
   },
   "outputs": [
    {
     "data": {
      "text/plain": [
       "[<ibvpy.sim.domain_state.DomainState at 0x216d5d86400>,\n",
       " <ibvpy.sim.domain_state.DomainState at 0x216d5167720>,\n",
       " <ibvpy.sim.domain_state.DomainState at 0x216d5d86ea0>]"
      ]
     },
     "execution_count": 151,
     "metadata": {},
     "output_type": "execute_result"
    }
   ],
   "source": [
    "m = TStepBC(\n",
    "    domains=[(xd_lower, m1),\n",
    "             (xd_upper, m2),\n",
    "             (xd12, bond_m),\n",
    "             ],\n",
    "    bc=bc1,  # + bc2,\n",
    ")\n",
    "\n",
    "m.hist.vis_record = {\n",
    "#    'strain': Vis3DTensorField(var='eps_ab'),\n",
    "    'stress': Vis3DTensorField(var='sig_ab'),\n",
    "    #        'kinematic hardening': Vis3DStateField(var='z_a')\n",
    "}\n",
    "\n",
    "s = m.sim\n",
    "s.tloop.verbose = True\n",
    "s.tloop.k_max = 1000\n",
    "s.tline.step = 1\n",
    "s.tstep.fe_domain.serialized_subdomains"
   ]
  },
  {
   "cell_type": "code",
   "execution_count": 152,
   "id": "641dc9ea-65f4-473a-9d4a-02f2afc84c6e",
   "metadata": {},
   "outputs": [],
   "source": [
    "#bond_m.interact()"
   ]
  },
  {
   "cell_type": "code",
   "execution_count": 153,
   "id": "a312b784-f3ac-496c-ada0-2b7142947285",
   "metadata": {
    "scrolled": true
   },
   "outputs": [
    {
     "name": "stdout",
     "output_type": "stream",
     "text": [
      "t:\t 0.00(0), \n",
      "\t 1.00(1), \n",
      "\n"
     ]
    }
   ],
   "source": [
    "xd12.hidden = True\n",
    "s.reset()\n",
    "s.run()"
   ]
  },
  {
   "cell_type": "code",
   "execution_count": 154,
   "id": "b546b446-3e9f-40d1-9d35-e6c4aa2d02a8",
   "metadata": {},
   "outputs": [],
   "source": [
    "F_to = m.hist.F_t\n",
    "U_to = m.hist.U_t\n",
    "F_outer_t = np.sum(F_to[:, fixed_upper_support.dofs], axis=-1)\n",
    "F_inner_t = np.sum(F_to[:, loaded_lower.dofs], axis=-1)\n",
    "U_inner_right_t = np.average(U_to[:, loaded_lower.dofs], axis=-1)\n",
    "U_inner_left_t = np.average(U_to[:, unloaded_inner.dofs], axis=-1)"
   ]
  },
  {
   "cell_type": "code",
   "execution_count": 155,
   "id": "90a78466-ed48-4937-86c2-1d4866df5579",
   "metadata": {},
   "outputs": [],
   "source": [
    "states_t = [states_t[2] for states_t in m.hist.state_vars]\n",
    "var_names = states_t[0].keys()\n",
    "EpsSig_t = {\n",
    "    var_name: np.array([ state_dict[var_name] for state_dict in states_t ]) \n",
    "    for var_name in var_names \n",
    "}\n",
    "u_pi_N = EpsSig_t['w_pi']\n",
    "u_pi_Tx = EpsSig_t['s_pi_x']\n",
    "sig_pi_N = EpsSig_t['sig_pi']\n",
    "sig_pi_Tx = EpsSig_t['tau_pi_x']\n",
    "sig_pi_Ty = EpsSig_t['tau_pi_y']\n",
    "omega_Nx = EpsSig_t['omega_N']\n",
    "omega_Tx = EpsSig_t['omega_T']\n",
    "x_m = xd12.x_Eia[:,:,0].flatten()"
   ]
  },
  {
   "cell_type": "code",
   "execution_count": 156,
   "id": "44df933e-99b1-4c75-b88a-91ccfb092a14",
   "metadata": {},
   "outputs": [
    {
     "data": {
      "application/vnd.jupyter.widget-view+json": {
       "model_id": "9c94b25a1d5c403ab77a7ba17f92344d",
       "version_major": 2,
       "version_minor": 0
      },
      "text/plain": [
       "Canvas(toolbar=Toolbar(toolitems=[('Home', 'Reset original view', 'home', 'home'), ('Back', 'Back to previous …"
      ]
     },
     "metadata": {},
     "output_type": "display_data"
    },
    {
     "data": {
      "text/plain": [
       "<matplotlib.legend.Legend at 0x216d5f922e0>"
      ]
     },
     "execution_count": 156,
     "metadata": {},
     "output_type": "execute_result"
    }
   ],
   "source": [
    "_, (ax1, ax2) = plt.subplots(1,2)\n",
    "ax1.plot(-U_inner_right_t, F_outer_t, label='F_outer(U_top)')\n",
    "ax1.plot(-U_inner_left_t, F_outer_t, label='F_outer(U_top)')\n",
    "ax1.plot(-U_inner_right_t, F_inner_t, label='F_inner(U_top)')\n",
    "ax1.legend()\n",
    "idx = -1\n",
    "ax_u = ax2.twinx()\n",
    "ax2.plot(x_m, sig_pi_N[idx,:,:].flatten(), color='blue', label='sig')\n",
    "ax_u.plot(x_m, u_pi_N[idx,:,:].flatten(), color='blue', linestyle='dashed', label='sig')\n",
    "ax2.plot(x_m, sig_pi_Tx[idx,:,:].flatten(), 'o-', color='red', label='tau')\n",
    "#ax.fill_between(x_m.flatten().flatten(), sig_pi_Tx[idx,:,:].flatten(), 0, 'o-', color='red', alpha=0.2)\n",
    "ax_u.plot(x_m, u_pi_Tx[idx,:,:].flatten(), color='red', linestyle='dashed', label='u_Tx')\n",
    "ax2.legend()"
   ]
  },
  {
   "cell_type": "markdown",
   "id": "31f8ff31-b931-4bbe-9145-38ec818479b8",
   "metadata": {},
   "source": [
    "# FE discretization - Displacement-controlled - 1 mm sliding"
   ]
  },
  {
   "cell_type": "markdown",
   "id": "96be4b29-3d7d-4f23-8e2c-51077a7b3282",
   "metadata": {},
   "source": [
    "## Ligament of area = 2"
   ]
  },
  {
   "cell_type": "markdown",
   "id": "154431ee-d2cc-4b7e-a07f-44cd48c2d48d",
   "metadata": {},
   "source": [
    "Expected $\\sigma_{\\mathrm{T}} = E_{\\mathrm{T}} *  u_{\\mathrm{T}} = 1 * 1 = 1$ \n",
    "Expected $F = \\sigma_{\\mathrm{T}} *  Area = 1 * 2 = 2$ "
   ]
  },
  {
   "cell_type": "code",
   "execution_count": 185,
   "id": "251ee5e5-fa1e-40d0-9391-1784322538cf",
   "metadata": {
    "scrolled": true
   },
   "outputs": [],
   "source": [
    "n_y_e = 1\n",
    "n_inner_x_e = 1\n",
    "n_outer_x_e = 1\n",
    "L_x = 1.0\n",
    "P = 2.0\n",
    "R_in = P / (2 * np.pi) \n",
    "R_out = 2 * R_in\n",
    "xd_lower = XDomainFEGridAxiSym(coord_min=(0, 0),\n",
    "                          coord_max=(L_x, R_in),\n",
    "                          shape=(n_y_e, n_inner_x_e),\n",
    "                          integ_factor=2 * np.pi,\n",
    "                          fets=FETS2D4Q())\n",
    "xd_upper = XDomainFEGridAxiSym(coord_min=(0, R_in),\n",
    "                          coord_max=(L_x, R_out),\n",
    "                          shape=(n_y_e, n_outer_x_e),\n",
    "                          integ_factor=2 * np.pi,\n",
    "                          fets=FETS2D4Q())\n",
    "m1 = MATS3DElastic(E=10000, nu=0.3)\n",
    "m2 = MATS3DElastic(E=10000, nu=0.3)\n",
    "\n",
    "xd12 = XDomainFEInterface(\n",
    "    integ_factor = 2 * np.pi * R_in,\n",
    "    I=xd_lower.mesh.I[:, -1],\n",
    "    J=xd_upper.mesh.I[:, 0],\n",
    "    fets=FETS1D52ULRH()\n",
    ")"
   ]
  },
  {
   "cell_type": "code",
   "execution_count": 186,
   "id": "2aa74266-e2af-45d5-904f-7b6194bf2c13",
   "metadata": {},
   "outputs": [],
   "source": [
    "#bond_m = Slide34(E_T=10000, E_N=10000)\n",
    "# material_params =  dict(\n",
    "#      E_T=1, gamma_T=500, K_T=0, S_T=0.5, c_T=6, bartau=3000, \n",
    "#      E_N=1, S_N=0.05, c_N = 3, m = 0., f_t=2000, f_c=100000, f_c0 = 40000, eta=0.)\n",
    "# bond_m = Slide34(**material_params)\n",
    "\n",
    "material_params =  dict(\n",
    "     E_T=1, gamma_T=500, K_T=0, S_T=0.5, c_T=6, bartau=3000, \n",
    "     E_N=1, S_N=0.05, c_N = 3, m = 0., f_t=2000, f_c=100000, f_c0 = 40000, eta=0.)\n",
    "bond_m = Slide34(**material_params)"
   ]
  },
  {
   "cell_type": "code",
   "execution_count": 187,
   "id": "ba43f9df-5b54-48bc-9a42-8b0e579c3ed0",
   "metadata": {},
   "outputs": [],
   "source": [
    "axisym = BCSlice(slice=xd_lower.mesh[0, 0, 0, 0],\n",
    "                 var='u', dims=[1], value=0)\n",
    "fixed_upper_support = BCSlice(slice=xd_upper.mesh[0, :, 0, :],\n",
    "                 var='u', dims=[0], value=0)\n",
    "loaded_lower= BCSlice(slice=xd_lower.mesh[-1, :, -1, :],\n",
    "                  var='u', dims=[0], value=0)\n",
    "loaded_lower_dof = loaded_lower.dofs[0]\n",
    "loaded_lower_bc = BCDof(var='u', dof=loaded_lower_dof, value = -1)\n",
    "\n",
    "bc1 = [axisym, fixed_upper_support, loaded_lower_bc]"
   ]
  },
  {
   "cell_type": "code",
   "execution_count": 188,
   "id": "efcf0ff1-3d8e-4d8f-beaf-4cfce353fea7",
   "metadata": {
    "tags": []
   },
   "outputs": [
    {
     "data": {
      "text/plain": [
       "[<ibvpy.sim.domain_state.DomainState at 0x216d7092d60>,\n",
       " <ibvpy.sim.domain_state.DomainState at 0x216d72d1810>,\n",
       " <ibvpy.sim.domain_state.DomainState at 0x216d72d1e00>]"
      ]
     },
     "execution_count": 188,
     "metadata": {},
     "output_type": "execute_result"
    }
   ],
   "source": [
    "m = TStepBC(\n",
    "    domains=[(xd_lower, m1),\n",
    "             (xd_upper, m2),\n",
    "             (xd12, bond_m),\n",
    "             ],\n",
    "    bc=bc1,  # + bc2,\n",
    ")\n",
    "\n",
    "m.hist.vis_record = {\n",
    "#    'strain': Vis3DTensorField(var='eps_ab'),\n",
    "    'stress': Vis3DTensorField(var='sig_ab'),\n",
    "    #        'kinematic hardening': Vis3DStateField(var='z_a')\n",
    "}\n",
    "\n",
    "s = m.sim\n",
    "s.tloop.verbose = True\n",
    "s.tloop.k_max = 1000\n",
    "s.tline.step = 1\n",
    "s.tstep.fe_domain.serialized_subdomains"
   ]
  },
  {
   "cell_type": "code",
   "execution_count": 189,
   "id": "344fa8dd-8f36-4842-89e1-a75fda7b3dbc",
   "metadata": {},
   "outputs": [],
   "source": [
    "#bond_m.interact()"
   ]
  },
  {
   "cell_type": "code",
   "execution_count": 190,
   "id": "311cac16-cf90-4e56-b4f0-b313dabfda38",
   "metadata": {
    "scrolled": true
   },
   "outputs": [
    {
     "name": "stdout",
     "output_type": "stream",
     "text": [
      "t:\t 0.00(0), \n",
      "\t 1.00(1), \n",
      "\n"
     ]
    }
   ],
   "source": [
    "xd12.hidden = True\n",
    "s.reset()\n",
    "s.run()"
   ]
  },
  {
   "cell_type": "code",
   "execution_count": 191,
   "id": "1b856cb5-353a-4ac7-b5e3-7ef2b3971a42",
   "metadata": {},
   "outputs": [],
   "source": [
    "F_to = m.hist.F_t\n",
    "U_to = m.hist.U_t\n",
    "F_outer_t = np.sum(F_to[:, fixed_upper_support.dofs], axis=-1)\n",
    "F_inner_t = np.sum(F_to[:, loaded_lower.dofs], axis=-1)\n",
    "U_inner_right_t = np.average(U_to[:, loaded_lower.dofs], axis=-1)\n",
    "U_inner_left_t = np.average(U_to[:, unloaded_inner.dofs], axis=-1)"
   ]
  },
  {
   "cell_type": "code",
   "execution_count": 192,
   "id": "88e6b224-f388-46cb-84dd-ab71cd13eaf2",
   "metadata": {},
   "outputs": [],
   "source": [
    "states_t = [states_t[2] for states_t in m.hist.state_vars]\n",
    "var_names = states_t[0].keys()\n",
    "EpsSig_t = {\n",
    "    var_name: np.array([ state_dict[var_name] for state_dict in states_t ]) \n",
    "    for var_name in var_names \n",
    "}\n",
    "u_pi_N = EpsSig_t['w_pi']\n",
    "u_pi_Tx = EpsSig_t['s_pi_x']\n",
    "sig_pi_N = EpsSig_t['sig_pi']\n",
    "sig_pi_Tx = EpsSig_t['tau_pi_x']\n",
    "sig_pi_Ty = EpsSig_t['tau_pi_y']\n",
    "omega_Nx = EpsSig_t['omega_N']\n",
    "omega_Tx = EpsSig_t['omega_T']\n",
    "x_m = xd12.x_Eia[:,:,0].flatten()"
   ]
  },
  {
   "cell_type": "code",
   "execution_count": 193,
   "id": "bed4b8c0-57e3-48d0-bf2a-172d964db993",
   "metadata": {},
   "outputs": [
    {
     "data": {
      "application/vnd.jupyter.widget-view+json": {
       "model_id": "0f55e69260264a16b8a2988ca5bc91b4",
       "version_major": 2,
       "version_minor": 0
      },
      "text/plain": [
       "Canvas(toolbar=Toolbar(toolitems=[('Home', 'Reset original view', 'home', 'home'), ('Back', 'Back to previous …"
      ]
     },
     "metadata": {},
     "output_type": "display_data"
    },
    {
     "data": {
      "text/plain": [
       "<matplotlib.legend.Legend at 0x216dddca790>"
      ]
     },
     "execution_count": 193,
     "metadata": {},
     "output_type": "execute_result"
    }
   ],
   "source": [
    "_, (ax1, ax2) = plt.subplots(1,2)\n",
    "ax1.plot(-U_inner_right_t, F_outer_t, label='F_outer(U_top)')\n",
    "ax1.plot(-U_inner_left_t, F_outer_t, label='F_outer(U_top)')\n",
    "ax1.plot(-U_inner_right_t, F_inner_t, label='F_inner(U_top)')\n",
    "ax1.legend()\n",
    "idx = -1\n",
    "ax_u = ax2.twinx()\n",
    "ax2.plot(x_m, sig_pi_N[idx,:,:].flatten(), color='blue', label='sig')\n",
    "ax_u.plot(x_m, u_pi_N[idx,:,:].flatten(), color='blue', linestyle='dashed', label='sig')\n",
    "ax2.plot(x_m, sig_pi_Tx[idx,:,:].flatten(), 'o-', color='red', label='tau')\n",
    "#ax.fill_between(x_m.flatten().flatten(), sig_pi_Tx[idx,:,:].flatten(), 0, 'o-', color='red', alpha=0.2)\n",
    "ax_u.plot(x_m, u_pi_Tx[idx,:,:].flatten(), color='red', linestyle='dashed', label='u_Tx')\n",
    "ax2.legend()"
   ]
  },
  {
   "cell_type": "markdown",
   "id": "e1a47727-8111-47b1-9e97-a67e78173a61",
   "metadata": {},
   "source": [
    "# FE discretization - Checking stresses at Mayavi "
   ]
  },
  {
   "cell_type": "markdown",
   "id": "2b27c18e-808a-446a-8e6f-2134798e1c0b",
   "metadata": {},
   "source": [
    "## Area of the section = 1, load = 1"
   ]
  },
  {
   "cell_type": "markdown",
   "id": "45e51170-9696-4403-b6f1-e85b39c23962",
   "metadata": {},
   "source": [
    "Expected $\\sigma_{x} =  \\frac{Load}{Area} =  \\frac{1}{1} = 1$ \n",
    "Expected $u_x = \\frac{\\sigma_{x}}{E} = \\frac{1}{1} = 1$ "
   ]
  },
  {
   "cell_type": "code",
   "execution_count": 6,
   "id": "e5dd96c0-c46e-4b7f-bcf7-03dd30a8bd67",
   "metadata": {
    "scrolled": true
   },
   "outputs": [],
   "source": [
    "n_y_e = 1\n",
    "n_inner_x_e = 1\n",
    "\n",
    "L_x = 1.0\n",
    "R_in = 1.0\n",
    "\n",
    "xd_lower = XDomainFEGridAxiSym(coord_min=(0, 0),\n",
    "                          coord_max=(L_x, R_in),\n",
    "                          shape=(n_y_e, n_inner_x_e),\n",
    "                          integ_factor=2 * np.pi,\n",
    "                          fets=FETS2D4Q())\n",
    "\n",
    "m1 = MATS3DElastic(E=1, nu=0.3)\n"
   ]
  },
  {
   "cell_type": "code",
   "execution_count": 18,
   "id": "c1e034bb-05fd-4095-9e2d-d61bfd0888a9",
   "metadata": {},
   "outputs": [],
   "source": [
    "axisym = BCSlice(slice=xd_lower.mesh[0, 0, 0, 0],\n",
    "                 var='u', dims=[1], value=0)\n",
    "fixed_support = BCSlice(slice=xd_lower.mesh[0, :, 0, :],\n",
    "                 var='u', dims=[0], value=0)\n",
    "loaded_lower= BCSlice(slice=xd_lower.mesh[-1, :, -1, :],\n",
    "                  var='u', dims=[0], value=-1.0)\n",
    "# loaded_lower_dof = loaded_lower.dofs[0]\n",
    "# loaded_lower_dof_2 = loaded_lower.dofs[1]\n",
    "\n",
    "# loaded_lower_bc = BCDof(var='f', dof=loaded_lower_dof, value = -0.5)\n",
    "# loaded_lower_bc_2 = BCDof(var='f', dof=loaded_lower_dof_2, value = -0.5)\n",
    "\n",
    "# bc1 = [axisym, fixed_support, loaded_lower_bc, loaded_lower_bc_2]\n",
    "\n"
   ]
  },
  {
   "cell_type": "code",
   "execution_count": 19,
   "id": "08cf02ff-4768-4b04-9044-bec44b908be1",
   "metadata": {},
   "outputs": [
    {
     "data": {
      "text/plain": [
       "0.5"
      ]
     },
     "execution_count": 19,
     "metadata": {},
     "output_type": "execute_result"
    }
   ],
   "source": [
    "F"
   ]
  },
  {
   "cell_type": "code",
   "execution_count": 20,
   "id": "a1262baf-746e-4c0b-864c-dc637fb90977",
   "metadata": {
    "tags": []
   },
   "outputs": [
    {
     "data": {
      "text/plain": [
       "[<ibvpy.sim.domain_state.DomainState at 0x2908ba5ef40>]"
      ]
     },
     "execution_count": 20,
     "metadata": {},
     "output_type": "execute_result"
    }
   ],
   "source": [
    "m = TStepBC(\n",
    "    domains=[(xd_lower, m1),\n",
    "             ],\n",
    "    bc=bc1,  # + bc2,\n",
    ")\n",
    "\n",
    "m.hist.vis_record = {\n",
    "#    'strain': Vis3DTensorField(var='eps_ab'),\n",
    "    'stress': Vis3DTensorField(var='sig_ab'),\n",
    "    #        'kinematic hardening': Vis3DStateField(var='z_a')\n",
    "}\n",
    "\n",
    "s = m.sim\n",
    "s.tloop.verbose = True\n",
    "s.tloop.k_max = 1000\n",
    "s.tline.step = 1\n",
    "s.tstep.fe_domain.serialized_subdomains"
   ]
  },
  {
   "cell_type": "code",
   "execution_count": 21,
   "id": "2d7df548-f750-4af1-82d6-02bbe1a518f3",
   "metadata": {},
   "outputs": [],
   "source": [
    "#bond_m.interact()"
   ]
  },
  {
   "cell_type": "code",
   "execution_count": 22,
   "id": "f6280f86-79b6-4184-8255-9c4d97d84ffa",
   "metadata": {
    "scrolled": true
   },
   "outputs": [
    {
     "name": "stdout",
     "output_type": "stream",
     "text": [
      "t:\t 0.00(0), \n",
      "\t 1.00(1), \n",
      "\n"
     ]
    }
   ],
   "source": [
    "s.reset()\n",
    "s.run()"
   ]
  },
  {
   "cell_type": "code",
   "execution_count": 23,
   "id": "9c181904-1442-465b-a3f8-6058dd9462c8",
   "metadata": {},
   "outputs": [],
   "source": [
    "F_to = m.hist.F_t\n",
    "U_to = m.hist.U_t\n",
    "F_inner_t = np.sum(F_to[:, loaded_lower.dofs], axis=-1)\n",
    "U_inner_right_t = np.average(U_to[:, loaded_lower.dofs], axis=-1)"
   ]
  },
  {
   "cell_type": "code",
   "execution_count": 24,
   "id": "a2570d20-8746-4175-9f2b-8dbb75ed4f6d",
   "metadata": {},
   "outputs": [
    {
     "data": {
      "application/vnd.jupyter.widget-view+json": {
       "model_id": "bde57eb657ad4c4390fd07535c826c34",
       "version_major": 2,
       "version_minor": 0
      },
      "text/plain": [
       "Canvas(toolbar=Toolbar(toolitems=[('Home', 'Reset original view', 'home', 'home'), ('Back', 'Back to previous …"
      ]
     },
     "metadata": {},
     "output_type": "display_data"
    },
    {
     "data": {
      "text/plain": [
       "<matplotlib.legend.Legend at 0x2908c145b50>"
      ]
     },
     "execution_count": 24,
     "metadata": {},
     "output_type": "execute_result"
    }
   ],
   "source": [
    "_, (ax1) = plt.subplots(1,1)\n",
    "ax1.plot(-U_inner_right_t, F_inner_t, label='F_inner(U_top)')\n",
    "ax1.legend()\n"
   ]
  },
  {
   "cell_type": "code",
   "execution_count": 25,
   "id": "04b59f5c-0a43-4f34-a1b6-601fc9239b82",
   "metadata": {},
   "outputs": [],
   "source": [
    "if True:\n",
    "    mlab.options.backend = 'envisage'\n",
    "    mlab.options.offscreen = False # 'envisage'\n",
    "    f_strain = mlab.figure()\n",
    "    scene = mlab.get_engine().scenes[-1]\n",
    "    scene.name = 'stress'\n",
    "    strain_viz = Viz3DTensorField(vis3d=m.hist['stress'])\n",
    "    strain_viz.setup()\n",
    "    strain_viz.warp_vector.filter.scale_factor = 0.1\n",
    "    strain_viz.plot(s.tstep.t_n)\n",
    "    mlab.show()"
   ]
  },
  {
   "cell_type": "markdown",
   "id": "1f81547f",
   "metadata": {},
   "source": [
    "# Plot the punch-through curve"
   ]
  },
  {
   "cell_type": "code",
   "execution_count": 14,
   "id": "30f88b7e",
   "metadata": {},
   "outputs": [],
   "source": [
    "F_to = m.hist.F_t\n",
    "U_to = m.hist.U_t"
   ]
  },
  {
   "cell_type": "code",
   "execution_count": 15,
   "id": "5116de67-1e78-4f1d-9970-e45aec667755",
   "metadata": {},
   "outputs": [
    {
     "data": {
      "text/plain": [
       "array([[[ 2,  3],\n",
       "        [ 6,  7]],\n",
       "\n",
       "       [[ 8,  9],\n",
       "        [12, 13]]])"
      ]
     },
     "execution_count": 15,
     "metadata": {},
     "output_type": "execute_result"
    }
   ],
   "source": [
    "xd12.o_Eia"
   ]
  },
  {
   "cell_type": "code",
   "execution_count": 16,
   "id": "9f99ac70-b142-47ef-be22-4a7373e37089",
   "metadata": {},
   "outputs": [
    {
     "data": {
      "text/plain": [
       "array([[[-1.00001650e+00,  3.58648321e-05],\n",
       "        [-9.99999850e-01, -2.63154163e-05]],\n",
       "\n",
       "       [[ 0.00000000e+00,  7.93241176e-06],\n",
       "        [-1.63545591e-05, -1.82771242e-06]]])"
      ]
     },
     "execution_count": 16,
     "metadata": {},
     "output_type": "execute_result"
    }
   ],
   "source": [
    "m.hist.U_t[-1][xd12.o_Eia]"
   ]
  },
  {
   "cell_type": "code",
   "execution_count": 17,
   "id": "6660108c-95cb-4280-96a0-e2de828518b0",
   "metadata": {},
   "outputs": [
    {
     "data": {
      "text/plain": [
       "array([ 1.00001650e+00, -2.79324204e-05])"
      ]
     },
     "execution_count": 17,
     "metadata": {},
     "output_type": "execute_result"
    }
   ],
   "source": [
    "xd12.map_U_to_field(U_to[-1])[0,0]"
   ]
  },
  {
   "cell_type": "code",
   "execution_count": 18,
   "id": "220e923e",
   "metadata": {},
   "outputs": [
    {
     "data": {
      "text/plain": [
       "(2, 16)"
      ]
     },
     "execution_count": 18,
     "metadata": {},
     "output_type": "execute_result"
    }
   ],
   "source": [
    "F_to.shape"
   ]
  },
  {
   "cell_type": "code",
   "execution_count": 19,
   "id": "8ee3cb43",
   "metadata": {},
   "outputs": [],
   "source": [
    "F_outer_t = np.sum(F_to[:, fixed_upper_support.dofs], axis=-1)\n",
    "F_inner_t = np.sum(F_to[:, loaded_lower.dofs], axis=-1)\n",
    "U_inner_right_t = np.average(U_to[:, loaded_lower.dofs], axis=-1)\n",
    "U_inner_left_t = np.average(U_to[:, unloaded_inner.dofs], axis=-1)\n",
    "#U_inner_bot_t = np.average(U_to[:, free_inner_y.dofs], axis=-1)"
   ]
  },
  {
   "cell_type": "code",
   "execution_count": 20,
   "id": "be243971",
   "metadata": {},
   "outputs": [
    {
     "data": {
      "application/vnd.jupyter.widget-view+json": {
       "model_id": "f1ab23f99f4d432db7f4aa13eea37dbb",
       "version_major": 2,
       "version_minor": 0
      },
      "text/plain": [
       "Canvas(toolbar=Toolbar(toolitems=[('Home', 'Reset original view', 'home', 'home'), ('Back', 'Back to previous …"
      ]
     },
     "metadata": {},
     "output_type": "display_data"
    },
    {
     "data": {
      "text/plain": [
       "<matplotlib.legend.Legend at 0x17147bb7820>"
      ]
     },
     "execution_count": 20,
     "metadata": {},
     "output_type": "execute_result"
    }
   ],
   "source": [
    "_, ax = plt.subplots(1,1)\n",
    "ax.plot(-U_inner_right_t, F_outer_t, label='F_outer(U_top)')\n",
    "ax.plot(-U_inner_left_t, F_outer_t, label='F_outer(U_top)')\n",
    "ax.plot(-U_inner_right_t, F_inner_t, label='F_inner(U_top)')\n",
    "#ax.plot(-U_inner_bot_t, F_inner_t, label='F_inner(U_bot)')\n",
    "ax.legend()"
   ]
  },
  {
   "cell_type": "code",
   "execution_count": 195,
   "id": "6d303963-9c6e-4adc-ad0a-0a34e25bd08a",
   "metadata": {},
   "outputs": [],
   "source": [
    "if True:\n",
    "    mlab.options.backend = 'envisage'\n",
    "    mlab.options.offscreen = False # 'envisage'\n",
    "    f_strain = mlab.figure()\n",
    "    scene = mlab.get_engine().scenes[-1]\n",
    "    scene.name = 'stress'\n",
    "    strain_viz = Viz3DTensorField(vis3d=m.hist['stress'])\n",
    "    strain_viz.setup()\n",
    "    strain_viz.warp_vector.filter.scale_factor = 0.1\n",
    "    strain_viz.plot(s.tstep.t_n)\n",
    "    mlab.show()"
   ]
  },
  {
   "cell_type": "code",
   "execution_count": 44,
   "id": "fa159b7e-462b-44bf-b1bc-a1f5dc3a3186",
   "metadata": {},
   "outputs": [],
   "source": [
    "states_t = [states_t[2] for states_t in m.hist.state_vars]\n",
    "var_names = states_t[0].keys()\n",
    "EpsSig_t = {\n",
    "    var_name: np.array([ state_dict[var_name] for state_dict in states_t ]) \n",
    "    for var_name in var_names \n",
    "}"
   ]
  },
  {
   "cell_type": "code",
   "execution_count": 45,
   "id": "8875bf8e-2dcd-4705-9f85-cf52efa7b1d4",
   "metadata": {},
   "outputs": [
    {
     "data": {
      "text/plain": [
       "dict_keys(['w_pi', 's_pi_x', 's_pi_y', 'z', 'alpha_x', 'alpha_y', 'omega_T', 'omega_N', 'sig_pi', 'tau_pi_x', 'tau_pi_y', 'Z', 'X_x', 'X_y', 'Y_T', 'Y_N'])"
      ]
     },
     "execution_count": 45,
     "metadata": {},
     "output_type": "execute_result"
    }
   ],
   "source": [
    "var_names"
   ]
  },
  {
   "cell_type": "code",
   "execution_count": 46,
   "id": "7e3aed39-09b2-4527-adaf-dcccce053372",
   "metadata": {},
   "outputs": [],
   "source": [
    "u_pi_N = EpsSig_t['w_pi']\n",
    "u_pi_Tx = EpsSig_t['s_pi_x']\n",
    "sig_pi_N = EpsSig_t['sig_pi']\n",
    "sig_pi_Tx = EpsSig_t['tau_pi_x']\n",
    "sig_pi_Ty = EpsSig_t['tau_pi_y']\n",
    "omega_Nx = EpsSig_t['omega_N']\n",
    "omega_Tx = EpsSig_t['omega_T']"
   ]
  },
  {
   "cell_type": "code",
   "execution_count": 47,
   "id": "f9e27a02-7826-4772-8f1a-39214856dbe5",
   "metadata": {},
   "outputs": [],
   "source": [
    "x_m = xd12.x_Eia[:,:,0].flatten()"
   ]
  },
  {
   "cell_type": "code",
   "execution_count": 48,
   "id": "f2a0285f-8322-44fa-841d-6be327f78c3f",
   "metadata": {},
   "outputs": [
    {
     "data": {
      "application/vnd.jupyter.widget-view+json": {
       "model_id": "0b4e00ecf55549a2a3c2b356b83bf5cf",
       "version_major": 2,
       "version_minor": 0
      },
      "text/plain": [
       "Canvas(toolbar=Toolbar(toolitems=[('Home', 'Reset original view', 'home', 'home'), ('Back', 'Back to previous …"
      ]
     },
     "metadata": {},
     "output_type": "display_data"
    },
    {
     "data": {
      "text/plain": [
       "<matplotlib.legend.Legend at 0x2632a7a5f70>"
      ]
     },
     "execution_count": 48,
     "metadata": {},
     "output_type": "execute_result"
    }
   ],
   "source": [
    "_, (ax, ax_omega) = plt.subplots(1,2, figsize=(10,5))\n",
    "idx = -1\n",
    "ax_u = ax.twinx()\n",
    "ax.plot(x_m, sig_pi_N[idx,:,:].flatten(), color='blue', label='sig')\n",
    "ax_u.plot(x_m, u_pi_N[idx,:,:].flatten(), color='blue', linestyle='dashed', label='sig')\n",
    "ax.plot(x_m, sig_pi_Tx[idx,:,:].flatten(), 'o-', color='red', label='tau')\n",
    "#ax.fill_between(x_m.flatten().flatten(), sig_pi_Tx[idx,:,:].flatten(), 0, 'o-', color='red', alpha=0.2)\n",
    "ax_u.plot(x_m, u_pi_Tx[idx,:,:].flatten(), color='red', linestyle='dashed', label='u_Tx')\n",
    "ax_omega.plot(x_m, omega_Nx[idx,:,:].flatten(), color='green', label='omega_N')\n",
    "ax_omega.plot(x_m, omega_Tx[idx,:,:].flatten(), color='green', linestyle='dashed', label='omega_T')\n",
    "ax.legend()\n",
    "ax_omega.legend()"
   ]
  },
  {
   "cell_type": "code",
   "execution_count": 25,
   "id": "a2d41bdf-d155-4eb9-b990-6057e97efbe7",
   "metadata": {},
   "outputs": [
    {
     "data": {
      "text/plain": [
       "array([[ 3.69767199,  3.44363753],\n",
       "       [ 3.44363753,  2.75394758],\n",
       "       [ 2.75394758,  1.23215998],\n",
       "       [ 1.23215998, -0.55897674],\n",
       "       [-0.55897674, -2.55754274],\n",
       "       [-2.55754274, -3.9001756 ],\n",
       "       [-3.9001756 , -5.14633512],\n",
       "       [-5.14633512, -6.6572502 ]])"
      ]
     },
     "execution_count": 25,
     "metadata": {},
     "output_type": "execute_result"
    }
   ],
   "source": [
    "sig_pi_Tx[-1]"
   ]
  },
  {
   "cell_type": "markdown",
   "id": "34cd5362-fef3-484d-83b1-efbc6899bd14",
   "metadata": {},
   "source": [
    "# FE discretization - Force-controlled"
   ]
  },
  {
   "cell_type": "code",
   "execution_count": 33,
   "id": "c367c3ed-f965-4f81-a359-dc353868ceaf",
   "metadata": {
    "scrolled": true
   },
   "outputs": [],
   "source": [
    "n_y_e = 1\n",
    "n_inner_x_e = 1\n",
    "n_outer_x_e = 1\n",
    "L_x = 1.0\n",
    "P = 1.0\n",
    "R_in = P \n",
    "R_out = 2 * R_in\n",
    "xd_lower = XDomainFEGridAxiSym(coord_min=(0, 0),\n",
    "                          coord_max=(L_x, R_in),\n",
    "                          shape=(n_y_e, n_inner_x_e),\n",
    "                          integ_factor=2 * np.pi,\n",
    "                          fets=FETS2D4Q())\n",
    "xd_upper = XDomainFEGridAxiSym(coord_min=(0, R_in),\n",
    "                          coord_max=(L_x, R_out),\n",
    "                          shape=(n_y_e, n_outer_x_e),\n",
    "                          integ_factor=2 * np.pi,\n",
    "                          fets=FETS2D4Q())\n",
    "m1 = MATS3DElastic(E=10000, nu=0.3)\n",
    "m2 = MATS3DElastic(E=10000, nu=0.3)\n",
    "\n",
    "xd12 = XDomainFEInterface(\n",
    "    I=xd_lower.mesh.I[:, -1],\n",
    "    J=xd_upper.mesh.I[:, 0],\n",
    "    fets=FETS1D52ULRH()\n",
    ")"
   ]
  },
  {
   "cell_type": "code",
   "execution_count": 34,
   "id": "0caaab3e-fdc6-4d00-9074-cf0f88add6e7",
   "metadata": {},
   "outputs": [],
   "source": [
    "#bond_m = Slide34(E_T=10000, E_N=10000)\n",
    "material_params =  dict(\n",
    "     E_T=1, gamma_T=500, K_T=0, S_T=0.5, c_T=6, bartau=3000, \n",
    "     E_N=1, S_N=0.05, c_N = 3, m = 0., f_t=2000, f_c=100000, f_c0 = 40000, eta=0.)\n",
    "bond_m = Slide34(**material_params)"
   ]
  },
  {
   "cell_type": "code",
   "execution_count": 37,
   "id": "8a432bcb-feb1-4630-8eeb-c8a12615f778",
   "metadata": {},
   "outputs": [],
   "source": [
    "axisym = BCSlice(slice=xd_lower.mesh[0, 0, 0, 0],\n",
    "                 var='u', dims=[1], value=0)\n",
    "fixed_upper_support = BCSlice(slice=xd_upper.mesh[0, :, 0, :],\n",
    "                 var='u', dims=[0], value=0)\n",
    "loaded_lower= BCSlice(slice=xd_lower.mesh[-1, :, -1, :],\n",
    "                  var='u', dims=[0], value=-.5)\n",
    "loaded_lower= BCSlice(slice=xd_lower.mesh[-1, -1, -1, -1],\n",
    "                  var='f', dims=[0], value=-1)\n"
   ]
  },
  {
   "cell_type": "code",
   "execution_count": 38,
   "id": "1158cd31-51d3-439a-bc9b-2a7730ac2ca6",
   "metadata": {},
   "outputs": [
    {
     "data": {
      "text/plain": [
       "6"
      ]
     },
     "execution_count": 38,
     "metadata": {},
     "output_type": "execute_result"
    }
   ],
   "source": [
    "loaded_lower_dof = loaded_lower.dofs[0]\n",
    "loaded_lower_dof"
   ]
  },
  {
   "cell_type": "code",
   "execution_count": 39,
   "id": "8a2f2b58-1975-46ba-8b10-d36fbcd78988",
   "metadata": {},
   "outputs": [],
   "source": [
    "loaded_lower_bc = BCDof(var='f', dof=loaded_lower_dof, value = -1 )\n",
    "unloaded_inner = BCSlice(slice=xd_lower.mesh[0, :, 0, :],\n",
    "                  var='u', dims=[0], value=0)\n",
    "bc1 = [axisym, fixed_upper_support, loaded_lower_bc]"
   ]
  },
  {
   "cell_type": "code",
   "execution_count": 40,
   "id": "1ea289ff-68f2-4877-ba9f-b5004ca6f772",
   "metadata": {
    "tags": []
   },
   "outputs": [
    {
     "data": {
      "text/plain": [
       "[<ibvpy.sim.domain_state.DomainState at 0x23a861d0130>,\n",
       " <ibvpy.sim.domain_state.DomainState at 0x23a8612a6d0>,\n",
       " <ibvpy.sim.domain_state.DomainState at 0x23a8612a220>]"
      ]
     },
     "execution_count": 40,
     "metadata": {},
     "output_type": "execute_result"
    }
   ],
   "source": [
    "m = TStepBC(\n",
    "    domains=[(xd_lower, m1),\n",
    "             (xd_upper, m2),\n",
    "             (xd12, bond_m),\n",
    "             ],\n",
    "    bc=bc1,  # + bc2,\n",
    ")\n",
    "\n",
    "m.hist.vis_record = {\n",
    "#    'strain': Vis3DTensorField(var='eps_ab'),\n",
    "    'stress': Vis3DTensorField(var='sig_ab'),\n",
    "    #        'kinematic hardening': Vis3DStateField(var='z_a')\n",
    "}\n",
    "\n",
    "s = m.sim\n",
    "s.tloop.verbose = True\n",
    "s.tloop.k_max = 1000\n",
    "s.tline.step = 1\n",
    "s.tstep.fe_domain.serialized_subdomains"
   ]
  },
  {
   "cell_type": "code",
   "execution_count": 41,
   "id": "1a2125c8-82a4-44f9-96f6-f275e4b723ac",
   "metadata": {},
   "outputs": [],
   "source": [
    "#bond_m.interact()"
   ]
  },
  {
   "cell_type": "code",
   "execution_count": 42,
   "id": "f52e210b-7376-46a8-a49a-886310f307ba",
   "metadata": {
    "scrolled": true
   },
   "outputs": [
    {
     "name": "stdout",
     "output_type": "stream",
     "text": [
      "t:\t 0.00(0), \n",
      "\t 1.00(1), \n",
      "\n"
     ]
    }
   ],
   "source": [
    "xd12.hidden = True\n",
    "s.reset()\n",
    "s.run()"
   ]
  },
  {
   "cell_type": "markdown",
   "id": "a544086c-774b-49df-af2f-1108f447a7fc",
   "metadata": {},
   "source": [
    "# Plot the punch-through curve"
   ]
  },
  {
   "cell_type": "code",
   "execution_count": 43,
   "id": "a1137a4d-4765-4e0d-88b7-f5fce56723c2",
   "metadata": {},
   "outputs": [],
   "source": [
    "F_to = m.hist.F_t\n",
    "U_to = m.hist.U_t"
   ]
  },
  {
   "cell_type": "code",
   "execution_count": 44,
   "id": "ad0fcaa8-206b-4ea1-8edb-5fd97cef5153",
   "metadata": {},
   "outputs": [
    {
     "data": {
      "text/plain": [
       "array([[[ 2,  3],\n",
       "        [ 6,  7]],\n",
       "\n",
       "       [[ 8,  9],\n",
       "        [12, 13]]])"
      ]
     },
     "execution_count": 44,
     "metadata": {},
     "output_type": "execute_result"
    }
   ],
   "source": [
    "xd12.o_Eia"
   ]
  },
  {
   "cell_type": "code",
   "execution_count": 45,
   "id": "4a82d54e-c48b-41f4-b45f-f3365e91e46d",
   "metadata": {},
   "outputs": [
    {
     "data": {
      "text/plain": [
       "array([[[-9.99991411e-01,  4.88573658e-06],\n",
       "        [-1.00002494e+00,  4.66343961e-06]],\n",
       "\n",
       "       [[ 0.00000000e+00,  7.93203062e-06],\n",
       "        [-1.63546672e-05, -1.82725804e-06]]])"
      ]
     },
     "execution_count": 45,
     "metadata": {},
     "output_type": "execute_result"
    }
   ],
   "source": [
    "m.hist.U_t[-1][xd12.o_Eia]"
   ]
  },
  {
   "cell_type": "code",
   "execution_count": 46,
   "id": "90a064db-f29a-4e18-9f4a-bd6dd7d26da4",
   "metadata": {},
   "outputs": [
    {
     "data": {
      "text/plain": [
       "array([9.99991411e-01, 3.04629405e-06])"
      ]
     },
     "execution_count": 46,
     "metadata": {},
     "output_type": "execute_result"
    }
   ],
   "source": [
    "xd12.map_U_to_field(U_to[-1])[0,0]"
   ]
  },
  {
   "cell_type": "code",
   "execution_count": 47,
   "id": "f23b9e1f-e8f3-4181-8dc8-a7a955180a4c",
   "metadata": {},
   "outputs": [
    {
     "data": {
      "text/plain": [
       "(2, 16)"
      ]
     },
     "execution_count": 47,
     "metadata": {},
     "output_type": "execute_result"
    }
   ],
   "source": [
    "F_to.shape"
   ]
  },
  {
   "cell_type": "code",
   "execution_count": 48,
   "id": "bce44d15-4764-4604-bfc8-7e1b5f697b55",
   "metadata": {},
   "outputs": [],
   "source": [
    "F_outer_t = np.sum(F_to[:, fixed_upper_support.dofs], axis=-1)\n",
    "F_inner_t = np.sum(F_to[:, loaded_lower.dofs], axis=-1)\n",
    "U_inner_right_t = np.average(U_to[:, loaded_lower.dofs], axis=-1)\n",
    "U_inner_left_t = np.average(U_to[:, unloaded_inner.dofs], axis=-1)\n",
    "#U_inner_bot_t = np.average(U_to[:, free_inner_y.dofs], axis=-1)"
   ]
  },
  {
   "cell_type": "code",
   "execution_count": 49,
   "id": "a7180bdc-e285-4de7-9312-77c128f0e7e8",
   "metadata": {},
   "outputs": [
    {
     "data": {
      "application/vnd.jupyter.widget-view+json": {
       "model_id": "352048dea6bc475cae9b53032371012f",
       "version_major": 2,
       "version_minor": 0
      },
      "text/plain": [
       "Canvas(toolbar=Toolbar(toolitems=[('Home', 'Reset original view', 'home', 'home'), ('Back', 'Back to previous …"
      ]
     },
     "metadata": {},
     "output_type": "display_data"
    },
    {
     "data": {
      "text/plain": [
       "<matplotlib.legend.Legend at 0x23a8abe8bb0>"
      ]
     },
     "execution_count": 49,
     "metadata": {},
     "output_type": "execute_result"
    }
   ],
   "source": [
    "_, ax = plt.subplots(1,1)\n",
    "ax.plot(-U_inner_right_t, F_outer_t, label='F_outer(U_top)')\n",
    "ax.plot(-U_inner_left_t, F_outer_t, label='F_outer(U_top)')\n",
    "ax.plot(-U_inner_right_t, F_inner_t, label='F_inner(U_top)')\n",
    "#ax.plot(-U_inner_bot_t, F_inner_t, label='F_inner(U_bot)')\n",
    "ax.legend()"
   ]
  },
  {
   "cell_type": "code",
   "execution_count": 23,
   "id": "f0c19a30-1a35-414c-be2e-60e974b79c4c",
   "metadata": {},
   "outputs": [],
   "source": [
    "if True:\n",
    "    mlab.options.backend = 'envisage'\n",
    "    mlab.options.offscreen = False # 'envisage'\n",
    "    f_strain = mlab.figure()\n",
    "    scene = mlab.get_engine().scenes[-1]\n",
    "    scene.name = 'stress'\n",
    "    strain_viz = Viz3DTensorField(vis3d=m.hist['stress'])\n",
    "    strain_viz.setup()\n",
    "    strain_viz.warp_vector.filter.scale_factor = 0.1\n",
    "    strain_viz.plot(s.tstep.t_n)\n",
    "    mlab.show()"
   ]
  },
  {
   "cell_type": "code",
   "execution_count": 50,
   "id": "86b56db4-229d-444c-b01f-5292c1e50f57",
   "metadata": {},
   "outputs": [],
   "source": [
    "states_t = [states_t[2] for states_t in m.hist.state_vars]\n",
    "var_names = states_t[0].keys()\n",
    "EpsSig_t = {\n",
    "    var_name: np.array([ state_dict[var_name] for state_dict in states_t ]) \n",
    "    for var_name in var_names \n",
    "}"
   ]
  },
  {
   "cell_type": "code",
   "execution_count": 51,
   "id": "a935fc14-2882-4a99-b47d-6a209f4b3bd4",
   "metadata": {},
   "outputs": [
    {
     "data": {
      "text/plain": [
       "dict_keys(['w_pi', 's_pi_x', 's_pi_y', 'z', 'alpha_x', 'alpha_y', 'omega_T', 'omega_N', 'sig_pi', 'tau_pi_x', 'tau_pi_y', 'Z', 'X_x', 'X_y', 'Y_T', 'Y_N'])"
      ]
     },
     "execution_count": 51,
     "metadata": {},
     "output_type": "execute_result"
    }
   ],
   "source": [
    "var_names"
   ]
  },
  {
   "cell_type": "code",
   "execution_count": 52,
   "id": "04ba514a-3408-4883-9642-27525301caca",
   "metadata": {},
   "outputs": [],
   "source": [
    "u_pi_N = EpsSig_t['w_pi']\n",
    "u_pi_Tx = EpsSig_t['s_pi_x']\n",
    "sig_pi_N = EpsSig_t['sig_pi']\n",
    "sig_pi_Tx = EpsSig_t['tau_pi_x']\n",
    "sig_pi_Ty = EpsSig_t['tau_pi_y']\n",
    "omega_Nx = EpsSig_t['omega_N']\n",
    "omega_Tx = EpsSig_t['omega_T']"
   ]
  },
  {
   "cell_type": "code",
   "execution_count": 53,
   "id": "e2ca436e-9b75-486f-91ac-23fd2e8eddc1",
   "metadata": {},
   "outputs": [],
   "source": [
    "x_m = xd12.x_Eia[:,:,0].flatten()"
   ]
  },
  {
   "cell_type": "code",
   "execution_count": 54,
   "id": "f16016ad-d9a1-4917-8a8a-4cb19781929d",
   "metadata": {},
   "outputs": [
    {
     "data": {
      "application/vnd.jupyter.widget-view+json": {
       "model_id": "50a2222a5d6d4185b49cc0297434eae9",
       "version_major": 2,
       "version_minor": 0
      },
      "text/plain": [
       "Canvas(toolbar=Toolbar(toolitems=[('Home', 'Reset original view', 'home', 'home'), ('Back', 'Back to previous …"
      ]
     },
     "metadata": {},
     "output_type": "display_data"
    },
    {
     "data": {
      "text/plain": [
       "<matplotlib.legend.Legend at 0x23a8a3c70a0>"
      ]
     },
     "execution_count": 54,
     "metadata": {},
     "output_type": "execute_result"
    }
   ],
   "source": [
    "_, (ax, ax_omega) = plt.subplots(1,2, figsize=(10,5))\n",
    "idx = -1\n",
    "ax_u = ax.twinx()\n",
    "ax.plot(x_m, sig_pi_N[idx,:,:].flatten(), color='blue', label='sig')\n",
    "ax_u.plot(x_m, u_pi_N[idx,:,:].flatten(), color='blue', linestyle='dashed', label='sig')\n",
    "ax.plot(x_m, sig_pi_Tx[idx,:,:].flatten(), 'o-', color='red', label='tau')\n",
    "#ax.fill_between(x_m.flatten().flatten(), sig_pi_Tx[idx,:,:].flatten(), 0, 'o-', color='red', alpha=0.2)\n",
    "ax_u.plot(x_m, u_pi_Tx[idx,:,:].flatten(), color='red', linestyle='dashed', label='u_Tx')\n",
    "ax_omega.plot(x_m, omega_Nx[idx,:,:].flatten(), color='green', label='omega_N')\n",
    "ax_omega.plot(x_m, omega_Tx[idx,:,:].flatten(), color='green', linestyle='dashed', label='omega_T')\n",
    "ax.legend()\n",
    "ax_omega.legend()"
   ]
  },
  {
   "cell_type": "code",
   "execution_count": 25,
   "id": "b4f9160c-017e-4aab-924a-eda01660e3c3",
   "metadata": {},
   "outputs": [
    {
     "data": {
      "text/plain": [
       "array([[ 3.69767199,  3.44363753],\n",
       "       [ 3.44363753,  2.75394758],\n",
       "       [ 2.75394758,  1.23215998],\n",
       "       [ 1.23215998, -0.55897674],\n",
       "       [-0.55897674, -2.55754274],\n",
       "       [-2.55754274, -3.9001756 ],\n",
       "       [-3.9001756 , -5.14633512],\n",
       "       [-5.14633512, -6.6572502 ]])"
      ]
     },
     "execution_count": 25,
     "metadata": {},
     "output_type": "execute_result"
    }
   ],
   "source": [
    "sig_pi_Tx[-1]"
   ]
  },
  {
   "cell_type": "code",
   "execution_count": null,
   "id": "dd628b59-ee02-408f-a207-e2b1f1102f2c",
   "metadata": {},
   "outputs": [],
   "source": []
  }
 ],
 "metadata": {
  "kernelspec": {
   "display_name": "bmcs_env",
   "language": "python",
   "name": "bmcs_env"
  },
  "language_info": {
   "codemirror_mode": {
    "name": "ipython",
    "version": 3
   },
   "file_extension": ".py",
   "mimetype": "text/x-python",
   "name": "python",
   "nbconvert_exporter": "python",
   "pygments_lexer": "ipython3",
   "version": "3.9.5"
  },
  "toc": {
   "base_numbering": 1,
   "nav_menu": {},
   "number_sections": true,
   "sideBar": true,
   "skip_h1_title": false,
   "title_cell": "Table of Contents",
   "title_sidebar": "Contents",
   "toc_cell": false,
   "toc_position": {},
   "toc_section_display": true,
   "toc_window_display": false
  }
 },
 "nbformat": 4,
 "nbformat_minor": 5
}
