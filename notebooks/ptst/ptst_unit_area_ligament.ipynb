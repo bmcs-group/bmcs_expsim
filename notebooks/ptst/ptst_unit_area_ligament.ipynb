{
 "cells": [
  {
   "cell_type": "markdown",
   "id": "4faf2840",
   "metadata": {},
   "source": [
    "# Axisym PTST with unit ligament area"
   ]
  },
  {
   "cell_type": "code",
   "execution_count": 1,
   "id": "5453e041-98d8-4951-923c-b64809a003dd",
   "metadata": {},
   "outputs": [],
   "source": [
    "%matplotlib widget\n",
    "import time\n",
    "from bmcs_expsim.utils.mlab_decorators import decorate_figure\n",
    "from mayavi import mlab\n",
    "import numpy as np\n",
    "np.seterr(divide='ignore', invalid='ignore') \n",
    "import warnings\n",
    "import matplotlib.pylab as plt\n",
    "import numpy as np"
   ]
  },
  {
   "cell_type": "code",
   "execution_count": 2,
   "id": "cd92087f",
   "metadata": {},
   "outputs": [],
   "source": [
    "from ibvpy.api import TStepBC , TFCyclicNonsymmetricConstant, TFBilinear\n",
    "from ibvpy.bcond import BCSlice, BCDof\n",
    "from ibvpy.xmodel.xdomain_fe_grid_axisym import XDomainFEGridAxiSym\n",
    "from ibvpy.xmodel.xdomain_interface import XDomainFEInterface"
   ]
  },
  {
   "cell_type": "code",
   "execution_count": 3,
   "id": "0af3b921",
   "metadata": {},
   "outputs": [],
   "source": [
    "from ibvpy.fets import FETS2D4Q\n",
    "from ibvpy.fets.fets1D5 import FETS1D52ULRH"
   ]
  },
  {
   "cell_type": "code",
   "execution_count": 4,
   "id": "c303f4c4",
   "metadata": {},
   "outputs": [],
   "source": [
    "from ibvpy.tmodel.viz3d_scalar_field import \\\n",
    "    Vis3DStateField, Viz3DScalarField\n",
    "from ibvpy.tmodel.viz3d_tensor_field import \\\n",
    "    Vis3DTensorField, Viz3DTensorField"
   ]
  },
  {
   "cell_type": "markdown",
   "id": "35b16d33",
   "metadata": {},
   "source": [
    "# Material models"
   ]
  },
  {
   "cell_type": "code",
   "execution_count": 5,
   "id": "12b9248d-6ee7-4b0c-ac3b-7c66012a2343",
   "metadata": {},
   "outputs": [],
   "source": [
    "from bmcs_matmod.slide.vslide_34_TN_axisym import Slide34\n",
    "from ibvpy.tmodel.mats3D.mats3D_elastic.vmats3D_elastic import \\\n",
    "    MATS3DElastic"
   ]
  },
  {
   "cell_type": "markdown",
   "id": "e1a47727-8111-47b1-9e97-a67e78173a61",
   "metadata": {},
   "source": [
    "# FE axisymmetric discretization - Applying lateral compression/tension"
   ]
  },
  {
   "cell_type": "markdown",
   "id": "2b27c18e-808a-446a-8e6f-2134798e1c0b",
   "metadata": {},
   "source": [
    "## Area of the section = 1, load = 1"
   ]
  },
  {
   "cell_type": "markdown",
   "id": "45e51170-9696-4403-b6f1-e85b39c23962",
   "metadata": {},
   "source": [
    "Expected $\\sigma_{x} =  \\frac{Load}{Area} =  \\frac{1}{1} = 1$ \n",
    "Expected $u_x = \\frac{\\sigma_{x}}{E} = \\frac{1}{1} = 1$ "
   ]
  },
  {
   "cell_type": "code",
   "execution_count": 6,
   "id": "8f58394b-64af-41e7-a0b0-157218bb6a66",
   "metadata": {
    "scrolled": true,
    "tags": []
   },
   "outputs": [],
   "source": [
    "n_y_e = 8\n",
    "n_inner_x_e = 4\n",
    "n_outer_x_e = 4\n",
    "L_x = 1.0\n",
    "P = 1.0\n",
    "R_in = P / (2 * np.pi) \n",
    "R_out = 2 * R_in\n",
    "xd_lower = XDomainFEGridAxiSym(coord_min=(0, 0),\n",
    "                          coord_max=(L_x, R_in),\n",
    "                          shape=(n_y_e, n_inner_x_e),\n",
    "                          integ_factor=2 * np.pi,\n",
    "                          fets=FETS2D4Q())\n",
    "xd_upper = XDomainFEGridAxiSym(coord_min=(0, R_in),\n",
    "                          coord_max=(L_x, R_out),\n",
    "                          shape=(n_y_e, n_outer_x_e),\n",
    "                          integ_factor=2 * np.pi,\n",
    "                          fets=FETS2D4Q())\n",
    "m1 = MATS3DElastic(E=10000, nu=0.3)\n",
    "m2 = MATS3DElastic(E=10000, nu=0.3)\n",
    "\n",
    "xd12 = XDomainFEInterface(\n",
    "    integ_factor = 2 * np.pi * R_in,\n",
    "    I=xd_upper.mesh.I[:, -1],\n",
    "    J=xd_lower.mesh.I[:, 0],\n",
    "    fets=FETS1D52ULRH()\n",
    ")"
   ]
  },
  {
   "cell_type": "code",
   "execution_count": 7,
   "id": "8219b3ef-adbe-4103-8acf-ec929d00bab3",
   "metadata": {},
   "outputs": [],
   "source": [
    "material_params =  dict(\n",
    "     E_T=10000, gamma_T=500, K_T=0, S_T=0.5, c_T=6, bartau=3000, \n",
    "     E_N=10000, S_N=0.05, c_N = 3, m = 0., f_t=2000, f_c=100000, f_c0 = 40000, eta=0.)\n",
    "bond_m = Slide34(**material_params)"
   ]
  },
  {
   "cell_type": "code",
   "execution_count": 8,
   "id": "6c6721de-f287-483b-818b-ab4f97f35fb6",
   "metadata": {},
   "outputs": [],
   "source": [
    "axisym = BCSlice(slice=xd_lower.mesh[:, 0, :, 0],\n",
    "                 var='u', dims=[1], value=0)\n",
    "fixed_upper_support = BCSlice(slice=xd_upper.mesh[0, :, 0, :],\n",
    "                 var='u', dims=[0], value=0)\n",
    "radial = BCSlice(slice=xd_upper.mesh[:, -1, :, -1],\n",
    "                 var='u', dims=[1], value=0.001)\n",
    "\n",
    "F = -1 / len(radial.dofs)\n",
    "\n",
    "radial_compression = [BCDof(var='f', dof=dof, value = F) \n",
    "                                      for dof in radial.dofs ]\n",
    "\n",
    "bc1 = [axisym, fixed_upper_support ] + radial_compression"
   ]
  },
  {
   "cell_type": "code",
   "execution_count": 9,
   "id": "063a8d0b-df81-417a-b13d-bdcdc8ef58b1",
   "metadata": {
    "tags": []
   },
   "outputs": [
    {
     "data": {
      "text/plain": [
       "[<ibvpy.sim.domain_state.DomainState at 0x2720f6db770>,\n",
       " <ibvpy.sim.domain_state.DomainState at 0x2720f6e23b0>,\n",
       " <ibvpy.sim.domain_state.DomainState at 0x2720f6e2360>]"
      ]
     },
     "execution_count": 9,
     "metadata": {},
     "output_type": "execute_result"
    }
   ],
   "source": [
    "m = TStepBC(\n",
    "    domains=[(xd_lower, m1),\n",
    "             (xd_upper, m2),\n",
    "             (xd12, bond_m),\n",
    "             ],\n",
    "    bc=bc1,  # + bc2,\n",
    ")\n",
    "\n",
    "m.hist.vis_record = {\n",
    "#    'strain': Vis3DTensorField(var='eps_ab'),\n",
    "    'stress': Vis3DTensorField(var='sig_ab'),\n",
    "    #        'kinematic hardening': Vis3DStateField(var='z_a')\n",
    "}\n",
    "\n",
    "s = m.sim\n",
    "s.tloop.verbose = True\n",
    "s.tloop.k_max = 1000\n",
    "s.tline.step = 0.1\n",
    "s.tstep.fe_domain.serialized_subdomains"
   ]
  },
  {
   "cell_type": "code",
   "execution_count": 10,
   "id": "3ba96541-e035-4a81-96b3-2e796469eeaf",
   "metadata": {},
   "outputs": [],
   "source": [
    "#bond_m.interact()"
   ]
  },
  {
   "cell_type": "code",
   "execution_count": 11,
   "id": "b60f4577-e837-4d6e-bbfc-1b1b5f80e690",
   "metadata": {
    "scrolled": true
   },
   "outputs": [
    {
     "name": "stdout",
     "output_type": "stream",
     "text": [
      "t:\t 0.00(0), \n",
      "\t 0.10(1), \n",
      "\t 0.20(1), \n",
      "\t 0.30(1), \n",
      "\t 0.40(1), \n",
      "\t 0.50(1), \n",
      "\t 0.60(1), \n",
      "\t 0.70(1), \n",
      "\t 0.80(1), \n",
      "\t 0.90(1), \n",
      "\t 1.00(1), \n",
      "\n"
     ]
    }
   ],
   "source": [
    "xd12.hidden = True\n",
    "s.reset()\n",
    "s.run()"
   ]
  },
  {
   "cell_type": "code",
   "execution_count": 12,
   "id": "733c2e2d-5a1e-4907-857b-c61c385ea386",
   "metadata": {},
   "outputs": [],
   "source": [
    "states_t = [states_t[2] for states_t in m.hist.state_vars]\n",
    "var_names = states_t[0].keys()\n",
    "EpsSig_t = {\n",
    "    var_name: np.array([ state_dict[var_name] for state_dict in states_t ]) \n",
    "    for var_name in var_names \n",
    "}\n",
    "u_pi_N = EpsSig_t['w_pi']\n",
    "u_pi_Tx = EpsSig_t['s_pi_x']\n",
    "sig_pi_N = EpsSig_t['sig_pi']\n",
    "sig_pi_Tx = EpsSig_t['tau_pi_x']\n",
    "sig_pi_Ty = EpsSig_t['tau_pi_y']\n",
    "omega_Nx = EpsSig_t['omega_N']\n",
    "omega_Tx = EpsSig_t['omega_T']\n",
    "x_m = xd12.x_Eia[:,:,0].flatten()"
   ]
  },
  {
   "cell_type": "code",
   "execution_count": 20,
   "id": "76bb7aed-25b5-4994-b8b3-341e6c6bcd20",
   "metadata": {},
   "outputs": [
    {
     "data": {
      "application/vnd.jupyter.widget-view+json": {
       "model_id": "818836717c2d471293d9968b80994d4b",
       "version_major": 2,
       "version_minor": 0
      },
      "text/plain": [
       "Canvas(toolbar=Toolbar(toolitems=[('Home', 'Reset original view', 'home', 'home'), ('Back', 'Back to previous …"
      ]
     },
     "metadata": {},
     "output_type": "display_data"
    },
    {
     "data": {
      "text/plain": [
       "<matplotlib.legend.Legend at 0x2722ceb9a30>"
      ]
     },
     "execution_count": 20,
     "metadata": {},
     "output_type": "execute_result"
    }
   ],
   "source": [
    "time = m.hist.t\n",
    "_, (ax1, ax2) = plt.subplots(1,2)\n",
    "ax1.plot(time, sig_pi_N[:,0,1].flatten(), label='sigma')\n",
    "ax1.plot(time, sig_pi_N[:,1,1].flatten(), label='sigma')\n",
    "ax1.set_xlabel('time')\n",
    "ax1.set_ylabel('normal stress')\n",
    "ax1.legend()\n",
    "\n",
    "ax2.plot(time, sig_pi_Tx[:,0,0].flatten(), color='red', label='tau')\n",
    "ax2.set_xlabel('time')\n",
    "ax2.set_ylabel('tangential stress')\n",
    "ax2.legend()"
   ]
  },
  {
   "cell_type": "code",
   "execution_count": 17,
   "id": "19ad08fd-312c-44f7-95e9-728a6ae2502a",
   "metadata": {},
   "outputs": [
    {
     "data": {
      "text/plain": [
       "(11, 4, 2)"
      ]
     },
     "execution_count": 17,
     "metadata": {},
     "output_type": "execute_result"
    }
   ],
   "source": [
    "sig_pi_N[:,:,:].shape"
   ]
  },
  {
   "cell_type": "code",
   "execution_count": 14,
   "id": "5d2bc6c5-f835-42a3-a57b-a62e0e57c58b",
   "metadata": {
    "tags": []
   },
   "outputs": [],
   "source": [
    "if True:\n",
    "    mlab.options.backend = 'envisage'\n",
    "    mlab.options.offscreen = False # 'envisage'\n",
    "    f_strain = mlab.figure()\n",
    "    scene = mlab.get_engine().scenes[-1]\n",
    "    scene.name = 'stress'\n",
    "    strain_viz = Viz3DTensorField(vis3d=m.hist['stress'])\n",
    "    strain_viz.setup()\n",
    "    strain_viz.warp_vector.filter.scale_factor = 0.1\n",
    "    strain_viz.plot(s.tstep.t_n)\n",
    "    mlab.show()"
   ]
  },
  {
   "cell_type": "markdown",
   "id": "7bc0f4a9-4bf9-4bd9-ae90-45d14f9d1017",
   "metadata": {},
   "source": [
    "# FE 2D discretization - Applying lateral compression/tension"
   ]
  },
  {
   "cell_type": "markdown",
   "id": "b975e73b-7d41-4994-96e6-ebb4f479d544",
   "metadata": {},
   "source": [
    "## Area of the section = 1, load = 1"
   ]
  },
  {
   "cell_type": "markdown",
   "id": "6a248d1b-88f9-41db-85e7-7108f270c8c8",
   "metadata": {},
   "source": [
    "Expected $\\sigma_{x} =  \\frac{Load}{Area} =  \\frac{1}{1} = 1$ \n",
    "Expected $u_x = \\frac{\\sigma_{x}}{E} = \\frac{1}{1} = 1$ "
   ]
  },
  {
   "cell_type": "code",
   "execution_count": 19,
   "id": "b1e73a36-a1c4-4af9-b24c-9369ffb750e2",
   "metadata": {
    "scrolled": true,
    "tags": []
   },
   "outputs": [],
   "source": [
    "n_y_e = 8\n",
    "n_inner_x_e = 4\n",
    "n_outer_x_e = 4\n",
    "L_x = 1.0\n",
    "P = 1.0\n",
    "R_in = P / (2 * np.pi) \n",
    "R_out = 2 * R_in\n",
    "xd_lower = XDomainFEGridAxiSym(coord_min=(0, 0),\n",
    "                          coord_max=(L_x, R_in),\n",
    "                          shape=(n_y_e, n_inner_x_e),\n",
    "                          fets=FETS2D4Q())\n",
    "xd_upper = XDomainFEGridAxiSym(coord_min=(0, R_in),\n",
    "                          coord_max=(L_x, R_out),\n",
    "                          shape=(n_y_e, n_outer_x_e),\n",
    "                          fets=FETS2D4Q())\n",
    "m1 = MATS3DElastic(E=10000, nu=0.3)\n",
    "m2 = MATS3DElastic(E=10000, nu=0.3)\n",
    "\n",
    "xd12 = XDomainFEInterface(\n",
    "    integ_factor = 2 * np.pi * R_in,\n",
    "    I=xd_upper.mesh.I[:, -1],\n",
    "    J=xd_lower.mesh.I[:, 0],\n",
    "    fets=FETS1D52ULRH()\n",
    ")"
   ]
  },
  {
   "cell_type": "code",
   "execution_count": 20,
   "id": "ed8c1091-f04b-4062-b487-da50fc060986",
   "metadata": {},
   "outputs": [],
   "source": [
    "material_params =  dict(\n",
    "     E_T=10000, gamma_T=500, K_T=0, S_T=0.5, c_T=6, bartau=3000, \n",
    "     E_N=10000, S_N=0.05, c_N = 3, m = 0., f_t=2000, f_c=100000, f_c0 = 40000, eta=0.)\n",
    "bond_m = Slide34(**material_params)"
   ]
  },
  {
   "cell_type": "code",
   "execution_count": 28,
   "id": "c9f2d4b8-6585-4669-a9d5-5dd912004631",
   "metadata": {},
   "outputs": [],
   "source": [
    "lower_fixed = BCSlice(slice=xd_lower.mesh[:, :, :, :],\n",
    "         var='u', dims=[0,1], value=0)\n",
    "    \n",
    "upper_compression_slice = BCSlice(slice=xd_upper.mesh[:, :, :, :],\n",
    "         var='u', dims=[1], value=0)\n",
    "compression_dofs = upper_compression_slice.dofs\n",
    "\n",
    "compression = -100 / len(compression_dofs)\n",
    "\n",
    "\n",
    "upper_compression_force_first = [BCDof(var='f', dof=dof, value = compression) \n",
    "             for dof in compression_dofs ]\n",
    "\n",
    "bc1 =  upper_compression_force_first + [lower_fixed]"
   ]
  },
  {
   "cell_type": "code",
   "execution_count": 29,
   "id": "5a9f9a7d-7996-4d7e-b347-f53fe65865cd",
   "metadata": {
    "tags": []
   },
   "outputs": [
    {
     "data": {
      "text/plain": [
       "[<ibvpy.sim.domain_state.DomainState at 0x11bbe377270>,\n",
       " <ibvpy.sim.domain_state.DomainState at 0x11bbe3778b0>,\n",
       " <ibvpy.sim.domain_state.DomainState at 0x11bbe377630>]"
      ]
     },
     "execution_count": 29,
     "metadata": {},
     "output_type": "execute_result"
    }
   ],
   "source": [
    "m = TStepBC(\n",
    "    domains=[(xd_lower, m1),\n",
    "             (xd_upper, m2),\n",
    "             (xd12, bond_m),\n",
    "             ],\n",
    "    bc=bc1,  # + bc2,\n",
    ")\n",
    "\n",
    "m.hist.vis_record = {\n",
    "#    'strain': Vis3DTensorField(var='eps_ab'),\n",
    "    'stress': Vis3DTensorField(var='sig_ab'),\n",
    "    #        'kinematic hardening': Vis3DStateField(var='z_a')\n",
    "}\n",
    "\n",
    "s = m.sim\n",
    "s.tloop.verbose = True\n",
    "s.tloop.k_max = 1000\n",
    "s.tline.step = 0.1\n",
    "s.tstep.fe_domain.serialized_subdomains"
   ]
  },
  {
   "cell_type": "code",
   "execution_count": 30,
   "id": "90a66f9b-ce0d-4318-b5fe-c514304b873c",
   "metadata": {},
   "outputs": [],
   "source": [
    "#bond_m.interact()"
   ]
  },
  {
   "cell_type": "code",
   "execution_count": 31,
   "id": "20a6daa9-8b77-4353-9afe-c3448ea3cd76",
   "metadata": {
    "scrolled": true
   },
   "outputs": [
    {
     "name": "stdout",
     "output_type": "stream",
     "text": [
      "t:\t 0.00(0), \n",
      "\t 0.10(1), \n",
      "\t 0.20(1), \n",
      "\t 0.30(1), \n",
      "\t 0.40(1), \n",
      "\t 0.50(1), \n",
      "\t 0.60(1), \n",
      "\t 0.70(1), \n",
      "\t 0.80(1), \n",
      "\t 0.90(1), \n",
      "\t 1.00(1), \n",
      "\n"
     ]
    }
   ],
   "source": [
    "xd12.hidden = True\n",
    "s.reset()\n",
    "s.run()"
   ]
  },
  {
   "cell_type": "code",
   "execution_count": 32,
   "id": "1c4ab08f-af19-4c96-b110-bec6355150bb",
   "metadata": {},
   "outputs": [],
   "source": [
    "states_t = [states_t[2] for states_t in m.hist.state_vars]\n",
    "var_names = states_t[0].keys()\n",
    "EpsSig_t = {\n",
    "    var_name: np.array([ state_dict[var_name] for state_dict in states_t ]) \n",
    "    for var_name in var_names \n",
    "}\n",
    "u_pi_N = EpsSig_t['w_pi']\n",
    "u_pi_Tx = EpsSig_t['s_pi_x']\n",
    "sig_pi_N = EpsSig_t['sig_pi']\n",
    "sig_pi_Tx = EpsSig_t['tau_pi_x']\n",
    "sig_pi_Ty = EpsSig_t['tau_pi_y']\n",
    "omega_Nx = EpsSig_t['omega_N']\n",
    "omega_Tx = EpsSig_t['omega_T']\n",
    "x_m = xd12.x_Eia[:,:,0].flatten()"
   ]
  },
  {
   "cell_type": "code",
   "execution_count": 33,
   "id": "aba83a6a-e893-42dc-b8a5-85533b002f1d",
   "metadata": {},
   "outputs": [
    {
     "data": {
      "application/vnd.jupyter.widget-view+json": {
       "model_id": "bbac5ae4987a4fdb904fdf91acc074db",
       "version_major": 2,
       "version_minor": 0
      },
      "text/plain": [
       "Canvas(toolbar=Toolbar(toolitems=[('Home', 'Reset original view', 'home', 'home'), ('Back', 'Back to previous …"
      ]
     },
     "metadata": {},
     "output_type": "display_data"
    },
    {
     "data": {
      "text/plain": [
       "<matplotlib.legend.Legend at 0x11bbd834580>"
      ]
     },
     "execution_count": 33,
     "metadata": {},
     "output_type": "execute_result"
    }
   ],
   "source": [
    "time = m.hist.t\n",
    "_, (ax1, ax2) = plt.subplots(1,2)\n",
    "ax1.plot(time, sig_pi_N[:,0,0].flatten(), label='sigma')\n",
    "ax1.plot(time, sig_pi_N[:,0,1].flatten(), label='sigma')\n",
    "ax1.set_xlabel('time')\n",
    "ax1.set_ylabel('normal stress')\n",
    "ax1.legend()\n",
    "\n",
    "ax2.plot(time, sig_pi_Tx[:,0,0].flatten(), color='red', label='tau')\n",
    "ax2.set_xlabel('time')\n",
    "ax2.set_ylabel('tangential stress')\n",
    "ax2.legend()"
   ]
  },
  {
   "cell_type": "code",
   "execution_count": 34,
   "id": "14b4c181-5fb5-489f-a806-4631cb8bd246",
   "metadata": {},
   "outputs": [],
   "source": [
    "if True:\n",
    "    mlab.options.backend = 'envisage'\n",
    "    mlab.options.offscreen = False # 'envisage'\n",
    "    f_strain = mlab.figure()\n",
    "    scene = mlab.get_engine().scenes[-1]\n",
    "    scene.name = 'stress'\n",
    "    strain_viz = Viz3DTensorField(vis3d=m.hist['stress'])\n",
    "    strain_viz.setup()\n",
    "    strain_viz.warp_vector.filter.scale_factor = 0.1\n",
    "    strain_viz.plot(s.tstep.t_n)\n",
    "    mlab.show()"
   ]
  },
  {
   "cell_type": "code",
   "execution_count": null,
   "id": "0812cf63-ab9f-42bb-ae30-65bd5a82ecdb",
   "metadata": {},
   "outputs": [],
   "source": []
  }
 ],
 "metadata": {
  "kernelspec": {
   "display_name": "bmcs_env",
   "language": "python",
   "name": "bmcs_env"
  },
  "language_info": {
   "codemirror_mode": {
    "name": "ipython",
    "version": 3
   },
   "file_extension": ".py",
   "mimetype": "text/x-python",
   "name": "python",
   "nbconvert_exporter": "python",
   "pygments_lexer": "ipython3",
   "version": "3.9.5"
  },
  "toc": {
   "base_numbering": 1,
   "nav_menu": {},
   "number_sections": true,
   "sideBar": true,
   "skip_h1_title": false,
   "title_cell": "Table of Contents",
   "title_sidebar": "Contents",
   "toc_cell": false,
   "toc_position": {},
   "toc_section_display": true,
   "toc_window_display": false
  }
 },
 "nbformat": 4,
 "nbformat_minor": 5
}
