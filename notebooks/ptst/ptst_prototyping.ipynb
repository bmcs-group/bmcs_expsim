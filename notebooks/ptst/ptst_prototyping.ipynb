{
 "cells": [
  {
   "cell_type": "markdown",
   "id": "4faf2840",
   "metadata": {},
   "source": [
    "# Axisim Punch-Through Shear Test"
   ]
  },
  {
   "cell_type": "markdown",
   "id": "57d69647-096b-4cdc-96bd-df4f418f617f",
   "metadata": {},
   "source": [
    "This example couples two domains via an zero-thickness interface. "
   ]
  },
  {
   "cell_type": "markdown",
   "id": "7d2814c0-0e91-4154-ae5e-f24918a0b1d0",
   "metadata": {},
   "source": [
    "State - 2021-07-19 [RC]:\n",
    "\n",
    "- Slide34 included with not verified material parameters. The push through test is running for a small step size\n",
    "- Add the force control boundary conditions in analogy to single facet example\n",
    "- Change of the parameters to brittle response leads to convergence problems at the transition to inelastic state - check the range which converges.\n",
    "- Either initial or secant stiffness has been used     "
   ]
  },
  {
   "cell_type": "code",
   "execution_count": 1,
   "id": "5453e041-98d8-4951-923c-b64809a003dd",
   "metadata": {},
   "outputs": [],
   "source": [
    "%matplotlib widget\n",
    "import time\n",
    "from bmcs_expsim.utils.mlab_decorators import decorate_figure\n",
    "from mayavi import mlab\n",
    "import numpy as np\n",
    "np.seterr(divide='ignore', invalid='ignore') \n",
    "import warnings\n",
    "import matplotlib.pylab as plt"
   ]
  },
  {
   "cell_type": "code",
   "execution_count": 16,
   "id": "cd92087f",
   "metadata": {},
   "outputs": [],
   "source": [
    "from ibvpy.api import TStepBC , TFCyclicNonsymmetricConstant, TFBilinear\n",
    "from ibvpy.bcond import BCSlice, BCDof\n",
    "from ibvpy.xmodel.xdomain_fe_grid_axisym import XDomainFEGridAxiSym\n",
    "from ibvpy.xmodel.xdomain_interface import XDomainFEInterface"
   ]
  },
  {
   "cell_type": "code",
   "execution_count": 3,
   "id": "0af3b921",
   "metadata": {},
   "outputs": [],
   "source": [
    "from ibvpy.fets import FETS2D4Q\n",
    "from ibvpy.fets.fets1D5 import FETS1D52ULRH"
   ]
  },
  {
   "cell_type": "code",
   "execution_count": 4,
   "id": "c303f4c4",
   "metadata": {},
   "outputs": [],
   "source": [
    "from ibvpy.tmodel.viz3d_scalar_field import \\\n",
    "    Vis3DStateField, Viz3DScalarField\n",
    "from ibvpy.tmodel.viz3d_tensor_field import \\\n",
    "    Vis3DTensorField, Viz3DTensorField"
   ]
  },
  {
   "cell_type": "markdown",
   "id": "35b16d33",
   "metadata": {},
   "source": [
    "# Material models"
   ]
  },
  {
   "cell_type": "code",
   "execution_count": 5,
   "id": "12b9248d-6ee7-4b0c-ac3b-7c66012a2343",
   "metadata": {},
   "outputs": [],
   "source": [
    "from bmcs_matmod.slide.vslide_34 import Slide34\n",
    "from ibvpy.tmodel.mats3D.mats3D_elastic.vmats3D_elastic import \\\n",
    "    MATS3DElastic"
   ]
  },
  {
   "cell_type": "markdown",
   "id": "f2962828",
   "metadata": {},
   "source": [
    "# FE discretization - Displacement-controlled"
   ]
  },
  {
   "cell_type": "code",
   "execution_count": 63,
   "id": "ca631af3",
   "metadata": {
    "scrolled": true
   },
   "outputs": [],
   "source": [
    "n_y_e = 10\n",
    "n_inner_x_e = 5\n",
    "n_outer_x_e = 5\n",
    "L_x = 200.0\n",
    "R_in = 100.0\n",
    "R_out = 200.0\n",
    "xd_lower = XDomainFEGridAxiSym(coord_min=(0, 0),\n",
    "                          coord_max=(L_x, R_in),\n",
    "                          shape=(n_y_e, n_inner_x_e),\n",
    "                          integ_factor=2 * np.pi,\n",
    "                          fets=FETS2D4Q())\n",
    "xd_upper = XDomainFEGridAxiSym(coord_min=(0, R_in),\n",
    "                          coord_max=(L_x, R_out),\n",
    "                          shape=(n_y_e, n_outer_x_e),\n",
    "                          integ_factor=2 * np.pi,\n",
    "                          fets=FETS2D4Q())\n",
    "m1 = MATS3DElastic(E=28000, nu=0.3)\n",
    "m2 = MATS3DElastic(E=28000, nu=0.3)\n",
    "\n",
    "xd12 = XDomainFEInterface(\n",
    "    I=xd_lower.mesh.I[1:-1, -1],\n",
    "    J=xd_upper.mesh.I[1:-1, 0],\n",
    "    fets=FETS1D52ULRH()\n",
    ")"
   ]
  },
  {
   "cell_type": "code",
   "execution_count": 64,
   "id": "c7e23d56-c6cd-4850-b123-95fe5b1cac89",
   "metadata": {},
   "outputs": [],
   "source": [
    "#bond_m = Slide34(E_T=10000, E_N=10000)\n",
    "material_params = dict(\n",
    "         E_T=100, gamma_T=200, K_T=0, S_T=0.05, c_T=3, bartau=3, \n",
    "         E_N=100, S_N=0.05, c_N = 3, m = 0.15, f_t=5, f_c=80, f_c0 = 40, eta=0.2)\n",
    "bond_m = Slide34(**material_params)"
   ]
  },
  {
   "cell_type": "code",
   "execution_count": 65,
   "id": "cefa6985-d176-4087-b53f-01189fb75f5d",
   "metadata": {},
   "outputs": [],
   "source": [
    "axisym = BCSlice(slice=xd_lower.mesh[0, 0, 0, 0],\n",
    "                 var='u', dims=[1], value=0)\n",
    "fixed_upper_support = BCSlice(slice=xd_upper.mesh[0, :, 0, :],\n",
    "                 var='u', dims=[0], value=0)\n",
    "loaded_lower= BCSlice(slice=xd_lower.mesh[-1, :, -1, :],\n",
    "                  var='u', dims=[0], value=0.5)\n",
    "# free_inner_y = BCSlice(slice=xd_inner.mesh[:, 0, :, 0],\n",
    "#                   var='u', dims=[1], value=0)\n",
    "bc1 = [axisym, fixed_upper_support, loaded_lower]"
   ]
  },
  {
   "cell_type": "code",
   "execution_count": 66,
   "id": "d71e5250-997a-425f-bbc7-5175ca19f295",
   "metadata": {
    "tags": []
   },
   "outputs": [
    {
     "data": {
      "text/plain": [
       "[<ibvpy.sim.domain_state.DomainState at 0x1865836b6d0>,\n",
       " <ibvpy.sim.domain_state.DomainState at 0x18658371ea0>,\n",
       " <ibvpy.sim.domain_state.DomainState at 0x18603369d60>]"
      ]
     },
     "execution_count": 66,
     "metadata": {},
     "output_type": "execute_result"
    }
   ],
   "source": [
    "m = TStepBC(\n",
    "    domains=[(xd_lower, m1),\n",
    "             (xd_upper, m2),\n",
    "             (xd12, bond_m),\n",
    "             ],\n",
    "    bc=bc1,  # + bc2,\n",
    ")\n",
    "\n",
    "m.hist.vis_record = {\n",
    "    'strain': Vis3DTensorField(var='eps_ab'),\n",
    "    #        'damage': Vis3DStateField(var='omega_a'),\n",
    "    #        'kinematic hardening': Vis3DStateField(var='z_a')\n",
    "}\n",
    "\n",
    "s = m.sim\n",
    "s.tloop.verbose = True\n",
    "s.tloop.k_max = 1000\n",
    "s.tline.step = 0.02\n",
    "s.tstep.fe_domain.serialized_subdomains"
   ]
  },
  {
   "cell_type": "code",
   "execution_count": 67,
   "id": "c95f5fa2",
   "metadata": {},
   "outputs": [],
   "source": [
    "#bond_m.interact()"
   ]
  },
  {
   "cell_type": "code",
   "execution_count": 68,
   "id": "cef0b911-0e10-444c-9083-23f63b6944a6",
   "metadata": {
    "scrolled": true
   },
   "outputs": [
    {
     "name": "stdout",
     "output_type": "stream",
     "text": [
      "t:\t 0.00(0), \n",
      "\t 0.02(1), \n",
      "\t 0.04(1), \n",
      "\t 0.06(1), \n",
      "\t 0.08(1), \n",
      "\t 0.10(1), \n",
      "\t 0.12(1), \n",
      "\t 0.14(1), \n",
      "\t 0.16(1), \n",
      "\t 0.18(1), \n",
      "\t 0.20(1), \n",
      "\t 0.22(1), \n",
      "\t 0.24(1), \n",
      "\t 0.26(1), \n",
      "\t 0.28(1), \n",
      "\t 0.30(1), \n",
      "\t 0.32(1), \n",
      "\t 0.34(1), \n",
      "\t 0.36(1), \n",
      "\t 0.38(1), \n",
      "\t 0.40(1), \n",
      "\t 0.42(1), \n",
      "\t 0.44(1), \n",
      "\t 0.46(1), \n",
      "\t 0.48(1), \n",
      "\t 0.50(1), \n",
      "\t 0.52(1), \n",
      "\t 0.54(1), \n",
      "\t 0.56(1), \n",
      "\t 0.58(1), \n",
      "\t 0.60(1), \n",
      "\t 0.62(1), \n",
      "\t 0.64(1), \n",
      "\t 0.66(1), \n",
      "\t 0.68(1), \n",
      "\t 0.70(1), \n",
      "\t 0.72(1), \n",
      "\t 0.74(1), \n",
      "\t 0.76(1), \n",
      "\t 0.78(1), \n",
      "\t 0.80(1), \n",
      "\t 0.82(1), \n",
      "\t 0.84(1), \n",
      "\t 0.86(1), \n",
      "\t 0.88(1), \n",
      "\t 0.90(1), \n",
      "\t 0.92(1), \n",
      "\t 0.94(1), \n",
      "\t 0.96(1), \n",
      "\t 0.98(1), \n",
      "\t 1.00(1), \n",
      "\n"
     ]
    }
   ],
   "source": [
    "xd12.hidden = True\n",
    "s.reset()\n",
    "s.run()"
   ]
  },
  {
   "cell_type": "markdown",
   "id": "1f81547f",
   "metadata": {},
   "source": [
    "# Plot the punch-through curve"
   ]
  },
  {
   "cell_type": "code",
   "execution_count": 69,
   "id": "30f88b7e",
   "metadata": {},
   "outputs": [],
   "source": [
    "F_to = m.hist.F_t\n",
    "U_to = m.hist.U_t"
   ]
  },
  {
   "cell_type": "code",
   "execution_count": 70,
   "id": "220e923e",
   "metadata": {},
   "outputs": [
    {
     "data": {
      "text/plain": [
       "(51, 264)"
      ]
     },
     "execution_count": 70,
     "metadata": {},
     "output_type": "execute_result"
    }
   ],
   "source": [
    "F_to.shape"
   ]
  },
  {
   "cell_type": "code",
   "execution_count": 71,
   "id": "8ee3cb43",
   "metadata": {},
   "outputs": [],
   "source": [
    "F_outer_t = np.sum(F_to[:, fixed_upper_support.dofs], axis=-1)\n",
    "F_inner_t = np.sum(F_to[:, loaded_lower.dofs], axis=-1)\n",
    "U_inner_top_t = np.average(U_to[:, loaded_lower.dofs], axis=-1)\n",
    "#U_inner_bot_t = np.average(U_to[:, free_inner_y.dofs], axis=-1)"
   ]
  },
  {
   "cell_type": "code",
   "execution_count": 72,
   "id": "be243971",
   "metadata": {},
   "outputs": [
    {
     "data": {
      "application/vnd.jupyter.widget-view+json": {
       "model_id": "d47c921a0a034685a1b4d98ac3883b8e",
       "version_major": 2,
       "version_minor": 0
      },
      "text/plain": [
       "Canvas(toolbar=Toolbar(toolitems=[('Home', 'Reset original view', 'home', 'home'), ('Back', 'Back to previous …"
      ]
     },
     "metadata": {},
     "output_type": "display_data"
    },
    {
     "data": {
      "text/plain": [
       "<matplotlib.legend.Legend at 0x18603187370>"
      ]
     },
     "execution_count": 72,
     "metadata": {},
     "output_type": "execute_result"
    }
   ],
   "source": [
    "_, ax = plt.subplots(1,1)\n",
    "ax.plot(-U_inner_top_t, F_outer_t, label='F_outer(U_top)')\n",
    "ax.plot(-U_inner_top_t, F_inner_t, label='F_inner(U_top)')\n",
    "#ax.plot(-U_inner_bot_t, F_inner_t, label='F_inner(U_bot)')\n",
    "ax.legend()"
   ]
  },
  {
   "cell_type": "code",
   "execution_count": 73,
   "id": "6d303963-9c6e-4adc-ad0a-0a34e25bd08a",
   "metadata": {},
   "outputs": [],
   "source": [
    "if True:\n",
    "    mlab.options.backend = 'envisage'\n",
    "    mlab.options.offscreen = False # 'envisage'\n",
    "    f_strain = mlab.figure()\n",
    "    scene = mlab.get_engine().scenes[-1]\n",
    "    scene.name = 'strain'\n",
    "    strain_viz = Viz3DTensorField(vis3d=m.hist['strain'])\n",
    "    strain_viz.setup()\n",
    "    strain_viz.warp_vector.filter.scale_factor = 0.1\n",
    "    strain_viz.plot(s.tstep.t_n)\n",
    "    mlab.show()"
   ]
  },
  {
   "cell_type": "code",
   "execution_count": 74,
   "id": "fa159b7e-462b-44bf-b1bc-a1f5dc3a3186",
   "metadata": {},
   "outputs": [],
   "source": [
    "states_t = [states_t[2] for states_t in m.hist.state_vars]\n",
    "var_names = states_t[0].keys()\n",
    "EpsSig_t = {\n",
    "    var_name: np.array([ state_dict[var_name] for state_dict in states_t ]) \n",
    "    for var_name in var_names \n",
    "}"
   ]
  },
  {
   "cell_type": "code",
   "execution_count": 75,
   "id": "7e3aed39-09b2-4527-adaf-dcccce053372",
   "metadata": {},
   "outputs": [],
   "source": [
    "sig_tx = EpsSig_t['sig_pi'].reshape(-1)\n",
    "tau_tx = EpsSig_t['tau_pi_x'].reshape(-1)\n",
    "omega_tx = EpsSig_t['omega_T'].reshape(-1)"
   ]
  },
  {
   "cell_type": "code",
   "execution_count": 76,
   "id": "f9e27a02-7826-4772-8f1a-39214856dbe5",
   "metadata": {},
   "outputs": [],
   "source": [
    "x_m = xd12.x_Eia[:,:,0].flatten()"
   ]
  },
  {
   "cell_type": "code",
   "execution_count": 77,
   "id": "f2a0285f-8322-44fa-841d-6be327f78c3f",
   "metadata": {},
   "outputs": [
    {
     "data": {
      "application/vnd.jupyter.widget-view+json": {
       "model_id": "246fff31879848a39eefd660ae92627b",
       "version_major": 2,
       "version_minor": 0
      },
      "text/plain": [
       "Canvas(toolbar=Toolbar(toolitems=[('Home', 'Reset original view', 'home', 'home'), ('Back', 'Back to previous …"
      ]
     },
     "metadata": {},
     "output_type": "display_data"
    },
    {
     "ename": "IndexError",
     "evalue": "too many indices for array: array is 1-dimensional, but 2 were indexed",
     "output_type": "error",
     "traceback": [
      "\u001b[1;31m---------------------------------------------------------------------------\u001b[0m",
      "\u001b[1;31mIndexError\u001b[0m                                Traceback (most recent call last)",
      "\u001b[1;32m<ipython-input-77-d6499d8452a9>\u001b[0m in \u001b[0;36m<module>\u001b[1;34m\u001b[0m\n\u001b[0;32m      2\u001b[0m \u001b[0midx\u001b[0m \u001b[1;33m=\u001b[0m \u001b[1;33m-\u001b[0m\u001b[1;36m1\u001b[0m\u001b[1;33m\u001b[0m\u001b[1;33m\u001b[0m\u001b[0m\n\u001b[0;32m      3\u001b[0m \u001b[0max_omega\u001b[0m \u001b[1;33m=\u001b[0m \u001b[0max\u001b[0m\u001b[1;33m.\u001b[0m\u001b[0mtwinx\u001b[0m\u001b[1;33m(\u001b[0m\u001b[1;33m)\u001b[0m\u001b[1;33m\u001b[0m\u001b[1;33m\u001b[0m\u001b[0m\n\u001b[1;32m----> 4\u001b[1;33m \u001b[0max\u001b[0m\u001b[1;33m.\u001b[0m\u001b[0mplot\u001b[0m\u001b[1;33m(\u001b[0m\u001b[0mx_m\u001b[0m\u001b[1;33m,\u001b[0m \u001b[0msig_tx\u001b[0m\u001b[1;33m[\u001b[0m\u001b[0midx\u001b[0m\u001b[1;33m,\u001b[0m\u001b[1;33m:\u001b[0m\u001b[1;33m]\u001b[0m\u001b[1;33m,\u001b[0m \u001b[0mcolor\u001b[0m\u001b[1;33m=\u001b[0m\u001b[1;34m'blue'\u001b[0m\u001b[1;33m,\u001b[0m \u001b[0mlabel\u001b[0m\u001b[1;33m=\u001b[0m\u001b[1;34m'sig'\u001b[0m\u001b[1;33m)\u001b[0m\u001b[1;33m\u001b[0m\u001b[1;33m\u001b[0m\u001b[0m\n\u001b[0m\u001b[0;32m      5\u001b[0m \u001b[0max\u001b[0m\u001b[1;33m.\u001b[0m\u001b[0mplot\u001b[0m\u001b[1;33m(\u001b[0m\u001b[0mx_m\u001b[0m\u001b[1;33m,\u001b[0m \u001b[0mtau_tx\u001b[0m\u001b[1;33m[\u001b[0m\u001b[0midx\u001b[0m\u001b[1;33m,\u001b[0m\u001b[1;33m:\u001b[0m\u001b[1;33m]\u001b[0m\u001b[1;33m,\u001b[0m \u001b[0mcolor\u001b[0m\u001b[1;33m=\u001b[0m\u001b[1;34m'red'\u001b[0m\u001b[1;33m,\u001b[0m \u001b[0mlabel\u001b[0m\u001b[1;33m=\u001b[0m\u001b[1;34m'tau'\u001b[0m\u001b[1;33m)\u001b[0m\u001b[1;33m\u001b[0m\u001b[1;33m\u001b[0m\u001b[0m\n\u001b[0;32m      6\u001b[0m \u001b[0max_omega\u001b[0m\u001b[1;33m.\u001b[0m\u001b[0mplot\u001b[0m\u001b[1;33m(\u001b[0m\u001b[0mx_m\u001b[0m\u001b[1;33m,\u001b[0m \u001b[0momega_tx\u001b[0m\u001b[1;33m[\u001b[0m\u001b[0midx\u001b[0m\u001b[1;33m,\u001b[0m\u001b[1;33m:\u001b[0m\u001b[1;33m]\u001b[0m\u001b[1;33m,\u001b[0m \u001b[0mcolor\u001b[0m\u001b[1;33m=\u001b[0m\u001b[1;34m'red'\u001b[0m\u001b[1;33m,\u001b[0m \u001b[0mlabel\u001b[0m\u001b[1;33m=\u001b[0m\u001b[1;34m'tau'\u001b[0m\u001b[1;33m)\u001b[0m\u001b[1;33m\u001b[0m\u001b[1;33m\u001b[0m\u001b[0m\n",
      "\u001b[1;31mIndexError\u001b[0m: too many indices for array: array is 1-dimensional, but 2 were indexed"
     ]
    }
   ],
   "source": [
    "_, ax = plt.subplots(1,1)\n",
    "idx = -1\n",
    "ax_omega = ax.twinx()\n",
    "ax.plot(x_m, sig_tx[idx,:], color='blue', label='sig')\n",
    "ax.plot(x_m, tau_tx[idx,:], color='red', label='tau')\n",
    "ax_omega.plot(x_m, omega_tx[idx,:], color='red', label='tau')\n",
    "ax.legend()"
   ]
  },
  {
   "cell_type": "code",
   "execution_count": 78,
   "id": "a2d41bdf-d155-4eb9-b990-6057e97efbe7",
   "metadata": {},
   "outputs": [
    {
     "data": {
      "text/plain": [
       "array([ -0.        ,  -0.        ,  -0.        ,  -0.        ,\n",
       "        -0.        ,  -0.        ,  -0.        ,  -0.        ,\n",
       "        -0.        ,  -0.        ,  -0.        ,  -0.        ,\n",
       "        -0.        ,  -0.        ,  -0.        ,  -0.        ,\n",
       "        -0.99753697,  -0.99718696,  -0.99718696,  -0.99701042,\n",
       "        -0.99701042,  -0.99693822,  -0.99693822,  -0.99694792,\n",
       "        -0.99694792,  -0.99703602,  -0.99703602,  -0.99720987,\n",
       "        -0.99720987,  -0.99749632,  -0.99749632,  -0.99796948,\n",
       "        -1.99507395,  -1.99437392,  -1.99437392,  -1.99402083,\n",
       "        -1.99402083,  -1.99387644,  -1.99387644,  -1.99389584,\n",
       "        -1.99389584,  -1.99407204,  -1.99407204,  -1.99441974,\n",
       "        -1.99441974,  -1.99499264,  -1.99499264,  -1.99593895,\n",
       "        -2.99261092,  -2.99156088,  -2.99156088,  -2.99103125,\n",
       "        -2.99103125,  -2.99081466,  -2.99081466,  -2.99084375,\n",
       "        -2.99084375,  -2.99110806,  -2.99110806,  -2.99162961,\n",
       "        -2.99162961,  -2.99248896,  -2.99248896,  -2.99390843,\n",
       "        -3.99014789,  -3.98874784,  -3.98874784,  -3.98804166,\n",
       "        -3.98804166,  -3.98775288,  -3.98775288,  -3.98779167,\n",
       "        -3.98779167,  -3.98814408,  -3.98814408,  -3.98883948,\n",
       "        -3.98883948,  -3.98998528,  -3.98998528,  -3.9918779 ,\n",
       "        -4.98768486,  -4.9859348 ,  -4.9859348 ,  -4.98505208,\n",
       "        -4.98505208,  -4.9846911 ,  -4.9846911 ,  -4.98473959,\n",
       "        -4.98473959,  -4.9851801 ,  -4.9851801 ,  -4.98604935,\n",
       "        -4.98604935,  -4.9874816 ,  -4.9874816 ,  -4.98984738,\n",
       "        -5.98522184,  -5.98312176,  -5.98312176,  -5.98206249,\n",
       "        -5.98206249,  -5.98162932,  -5.98162932,  -5.98168751,\n",
       "        -5.98168751,  -5.98221611,  -5.98221611,  -5.98325922,\n",
       "        -5.98325922,  -5.98497792,  -5.98497792,  -5.98781685,\n",
       "        -6.98275881,  -6.98030872,  -6.98030872,  -6.97907291,\n",
       "        -6.97907291,  -6.97856754,  -6.97856754,  -6.97863543,\n",
       "        -6.97863543,  -6.97925213,  -6.97925213,  -6.9804691 ,\n",
       "        -6.9804691 ,  -6.98247424,  -6.98247424,  -6.98578633,\n",
       "        -7.98029578,  -7.97749568,  -7.97749568,  -7.97608332,\n",
       "        -7.97608332,  -7.97550576,  -7.97550576,  -7.97558335,\n",
       "        -7.97558335,  -7.97628815,  -7.97628815,  -7.97767897,\n",
       "        -7.97767897,  -7.97997056,  -7.97997056,  -7.9837558 ,\n",
       "        -8.97783276,  -8.97468264,  -8.97468264,  -8.97309374,\n",
       "        -8.97309374,  -8.97244398,  -8.97244398,  -8.97253126,\n",
       "        -8.97253126,  -8.97332417,  -8.97332417,  -8.97488884,\n",
       "        -8.97488884,  -8.97746688,  -8.97746688,  -8.98172528,\n",
       "        -9.97536973,  -9.9718696 ,  -9.9718696 ,  -9.97010415,\n",
       "        -9.97010415,  -9.9693822 ,  -9.9693822 ,  -9.96947918,\n",
       "        -9.96947918,  -9.97036019,  -9.97036019,  -9.97209871,\n",
       "        -9.97209871,  -9.9749632 ,  -9.9749632 ,  -9.97969475,\n",
       "       -10.9729067 , -10.96905656, -10.96905656, -10.96711457,\n",
       "       -10.96711457, -10.96632042, -10.96632042, -10.9664271 ,\n",
       "       -10.9664271 , -10.96739621, -10.96739621, -10.96930858,\n",
       "       -10.96930858, -10.97245952, -10.97245952, -10.97766423,\n",
       "       -11.97044367, -11.96624352, -11.96624352, -11.96412498,\n",
       "       -11.96412498, -11.96325865, -11.96325865, -11.96337502,\n",
       "       -11.96337502, -11.96443223, -11.96443223, -11.96651845,\n",
       "       -11.96651845, -11.96995584, -11.96995584, -11.9756337 ,\n",
       "       -12.96798065, -12.96343048, -12.96343048, -12.9611354 ,\n",
       "       -12.9611354 , -12.96019687, -12.96019687, -12.96032294,\n",
       "       -12.96032294, -12.96146825, -12.96146825, -12.96372832,\n",
       "       -12.96372832, -12.96745216, -12.96745216, -12.97360318,\n",
       "       -13.96551762, -13.96061744, -13.96061744, -13.95814581,\n",
       "       -13.95814581, -13.95713509, -13.95713509, -13.95727086,\n",
       "       -13.95727086, -13.95850427, -13.95850427, -13.96093819,\n",
       "       -13.96093819, -13.96494848, -13.96494848, -13.97157265,\n",
       "       -14.96305459, -14.9578044 , -14.9578044 , -14.95515623,\n",
       "       -14.95515623, -14.95407331, -14.95407331, -14.95421877,\n",
       "       -14.95421877, -14.95554029, -14.95554029, -14.95814806,\n",
       "       -14.95814806, -14.9624448 , -14.9624448 , -14.96954213,\n",
       "       -15.96059157, -15.95499136, -15.95499136, -15.95216664,\n",
       "       -15.95216664, -15.95101153, -15.95101153, -15.95116669,\n",
       "       -15.95116669, -15.95257631, -15.95257631, -15.95535793,\n",
       "       -15.95535793, -15.95994112, -15.95994112, -15.9675116 ,\n",
       "       -16.95812854, -16.95217832, -16.95217832, -16.94917706,\n",
       "       -16.94917706, -16.94794975, -16.94794975, -16.94811461,\n",
       "       -16.94811461, -16.94961233, -16.94961233, -16.9525678 ,\n",
       "       -16.9525678 , -16.95743744, -16.95743744, -16.96548108,\n",
       "       -17.95566551, -17.94936528, -17.94936528, -17.94618747,\n",
       "       -17.94618747, -17.94488797, -17.94488797, -17.94506253,\n",
       "       -17.94506253, -17.94664834, -17.94664834, -17.94977767,\n",
       "       -17.94977767, -17.95493376, -17.95493376, -17.96345055,\n",
       "       -18.95320249, -18.94655224, -18.94655224, -18.94319789,\n",
       "       -18.94319789, -18.94182619, -18.94182619, -18.94201045,\n",
       "       -18.94201045, -18.94368436, -18.94368436, -18.94698755,\n",
       "       -18.94698755, -18.95243008, -18.95243008, -18.96142003,\n",
       "       -19.95073946, -19.94373921, -19.94373921, -19.9402083 ,\n",
       "       -19.9402083 , -19.93876441, -19.93876441, -19.93895837,\n",
       "       -19.93895837, -19.94072038, -19.94072038, -19.94419742,\n",
       "       -19.94419742, -19.9499264 , -19.9499264 , -19.9593895 ,\n",
       "       -20.94827643, -20.94092617, -20.94092617, -20.93721872,\n",
       "       -20.93721872, -20.93570263, -20.93570263, -20.93590628,\n",
       "       -20.93590628, -20.9377564 , -20.9377564 , -20.94140729,\n",
       "       -20.94140729, -20.94742272, -20.94742272, -20.95735898,\n",
       "       -21.9458134 , -21.93811313, -21.93811313, -21.93422913,\n",
       "       -21.93422913, -21.93264085, -21.93264085, -21.9328542 ,\n",
       "       -21.9328542 , -21.93479242, -21.93479242, -21.93861716,\n",
       "       -21.93861716, -21.94491903, -21.94491903, -21.95532845,\n",
       "       -22.94335038, -22.93530009, -22.93530009, -22.93123955,\n",
       "       -22.93123955, -22.92957907, -22.92957907, -22.92980212,\n",
       "       -22.92980212, -22.93182844, -22.93182844, -22.93582703,\n",
       "       -22.93582703, -22.94241535, -22.94241535, -22.95329793,\n",
       "       -23.94088735, -23.93248705, -23.93248705, -23.92824996,\n",
       "       -23.92824996, -23.92651729, -23.92651729, -23.92675004,\n",
       "       -23.92675004, -23.92886446, -23.92886446, -23.9330369 ,\n",
       "       -23.9330369 , -23.93991167, -23.93991167, -23.95126741,\n",
       "       -24.93842432, -24.92967401, -24.92967401, -24.92526038,\n",
       "       -24.92526038, -24.92345551, -24.92345551, -24.92369796,\n",
       "       -24.92369796, -24.92590048, -24.92590048, -24.93024677,\n",
       "       -24.93024677, -24.93740799, -24.93740799, -24.94923688,\n",
       "       -25.9359613 , -25.92686097, -25.92686097, -25.92227079,\n",
       "       -25.92227079, -25.92039373, -25.92039373, -25.92064587,\n",
       "       -25.92064587, -25.9229365 , -25.9229365 , -25.92745664,\n",
       "       -25.92745664, -25.93490431, -25.93490431, -25.94720636,\n",
       "       -26.93349827, -26.92404793, -26.92404793, -26.91928121,\n",
       "       -26.91928121, -26.91733195, -26.91733195, -26.91759379,\n",
       "       -26.91759379, -26.91997252, -26.91997252, -26.92466651,\n",
       "       -26.92466651, -26.93240063, -26.93240063, -26.94517583,\n",
       "       -27.93103524, -27.92123489, -27.92123489, -27.91629163,\n",
       "       -27.91629163, -27.91427017, -27.91427017, -27.91454171,\n",
       "       -27.91454171, -27.91700854, -27.91700854, -27.92187638,\n",
       "       -27.92187638, -27.92989695, -27.92989695, -27.94314531,\n",
       "       -28.92857221, -28.91842185, -28.91842185, -28.91330204,\n",
       "       -28.91330204, -28.91120839, -28.91120839, -28.91148963,\n",
       "       -28.91148963, -28.91404456, -28.91404456, -28.91908625,\n",
       "       -28.91908625, -28.92739327, -28.92739327, -28.94111478,\n",
       "       -29.92610919, -29.91560881, -29.91560881, -29.91031246,\n",
       "       -29.91031246, -29.90814661, -29.90814661, -29.90843755,\n",
       "       -29.90843755, -29.91108057, -29.91108057, -29.91629612,\n",
       "       -29.91629612, -29.92488959, -29.92488959, -29.93908426,\n",
       "       -30.92364616, -30.91279577, -30.91279577, -30.90732287,\n",
       "       -30.90732287, -30.90508483, -30.90508483, -30.90538547,\n",
       "       -30.90538547, -30.90811659, -30.90811659, -30.913506  ,\n",
       "       -30.913506  , -30.92238591, -30.92238591, -30.93705373,\n",
       "       -31.92118313, -31.90998273, -31.90998273, -31.90433329,\n",
       "       -31.90433329, -31.90202305, -31.90202305, -31.90233338,\n",
       "       -31.90233338, -31.90515261, -31.90515261, -31.91071587,\n",
       "       -31.91071587, -31.91988223, -31.91988223, -31.93502321,\n",
       "       -32.91872011, -32.90716969, -32.90716969, -32.9013437 ,\n",
       "       -32.9013437 , -32.89896127, -32.89896127, -32.8992813 ,\n",
       "       -32.8992813 , -32.90218863, -32.90218863, -32.90792574,\n",
       "       -32.90792574, -32.91737855, -32.91737855, -32.93299268,\n",
       "       -33.91625708, -33.90435665, -33.90435665, -33.89835412,\n",
       "       -33.89835412, -33.89589949, -33.89589949, -33.89622922,\n",
       "       -33.89622922, -33.89922465, -33.89922465, -33.90513561,\n",
       "       -33.90513561, -33.91487487, -33.91487487, -33.93096216,\n",
       "       -34.91379405, -34.90154361, -34.90154361, -34.89536453,\n",
       "       -34.89536453, -34.89283772, -34.89283772, -34.89317714,\n",
       "       -34.89317714, -34.89626067, -34.89626067, -34.90234548,\n",
       "       -34.90234548, -34.91237119, -34.91237119, -34.92893163,\n",
       "       -35.91133102, -35.89873057, -35.89873057, -35.89237495,\n",
       "       -35.89237495, -35.88977594, -35.88977594, -35.89012506,\n",
       "       -35.89012506, -35.89329669, -35.89329669, -35.89955535,\n",
       "       -35.89955535, -35.90986751, -35.90986751, -35.92690111,\n",
       "       -36.908868  , -36.89591753, -36.89591753, -36.88938536,\n",
       "       -36.88938536, -36.88671416, -36.88671416, -36.88707298,\n",
       "       -36.88707298, -36.89033271, -36.89033271, -36.89676522,\n",
       "       -36.89676522, -36.90736383, -36.90736383, -36.92487058,\n",
       "       -37.90640497, -37.89310449, -37.89310449, -37.88639578,\n",
       "       -37.88639578, -37.88365238, -37.88365238, -37.88402089,\n",
       "       -37.88402089, -37.88736873, -37.88736873, -37.89397509,\n",
       "       -37.89397509, -37.90486015, -37.90486015, -37.92284006,\n",
       "       -38.90394194, -38.89029145, -38.89029145, -38.88340619,\n",
       "       -38.88340619, -38.8805906 , -38.8805906 , -38.88096881,\n",
       "       -38.88096881, -38.88440475, -38.88440475, -38.89118496,\n",
       "       -38.89118496, -38.90235647, -38.90235647, -38.92080953,\n",
       "       -39.90147892, -39.88747841, -39.88747841, -39.88041661,\n",
       "       -39.88041661, -39.87752882, -39.87752882, -39.87791673,\n",
       "       -39.87791673, -39.88144077, -39.88144077, -39.88839483,\n",
       "       -39.88839483, -39.89985279, -39.89985279, -39.91877901,\n",
       "       -40.89901589, -40.88466537, -40.88466537, -40.87742702,\n",
       "       -40.87742702, -40.87446704, -40.87446704, -40.87486465,\n",
       "       -40.87486465, -40.87847678, -40.87847678, -40.8856047 ,\n",
       "       -40.8856047 , -40.89734911, -40.89734911, -40.91674848,\n",
       "       -41.89655286, -41.88185233, -41.88185233, -41.87443744,\n",
       "       -41.87443744, -41.87140526, -41.87140526, -41.87181257,\n",
       "       -41.87181257, -41.8755128 , -41.8755128 , -41.88281457,\n",
       "       -41.88281457, -41.89484543, -41.89484543, -41.91471796,\n",
       "       -42.89408983, -42.87903929, -42.87903929, -42.87144785,\n",
       "       -42.87144785, -42.86834348, -42.86834348, -42.86876048,\n",
       "       -42.86876048, -42.87254882, -42.87254882, -42.88002445,\n",
       "       -42.88002445, -42.89234175, -42.89234175, -42.91268743,\n",
       "       -43.89162681, -43.87622625, -43.87622625, -43.86845827,\n",
       "       -43.86845827, -43.8652817 , -43.8652817 , -43.8657084 ,\n",
       "       -43.8657084 , -43.86958484, -43.86958484, -43.87723432,\n",
       "       -43.87723432, -43.88983807, -43.88983807, -43.91065691,\n",
       "       -44.88916378, -44.87341321, -44.87341321, -44.86546868,\n",
       "       -44.86546868, -44.86221992, -44.86221992, -44.86265632,\n",
       "       -44.86265632, -44.86662086, -44.86662086, -44.87444419,\n",
       "       -44.87444419, -44.88733439, -44.88733439, -44.90862639,\n",
       "       -45.88670075, -45.87060017, -45.87060017, -45.8624791 ,\n",
       "       -45.8624791 , -45.85915814, -45.85915814, -45.85960424,\n",
       "       -45.85960424, -45.86365688, -45.86365688, -45.87165406,\n",
       "       -45.87165406, -45.88483071, -45.88483071, -45.90659586,\n",
       "       -46.88423773, -46.86778713, -46.86778713, -46.85948951,\n",
       "       -46.85948951, -46.85609636, -46.85609636, -46.85655216,\n",
       "       -46.85655216, -46.8606929 , -46.8606929 , -46.86886393,\n",
       "       -46.86886393, -46.88232703, -46.88232703, -46.90456534,\n",
       "       -47.8817747 , -47.86497409, -47.86497409, -47.85649993,\n",
       "       -47.85649993, -47.85303458, -47.85303458, -47.85350008,\n",
       "       -47.85350008, -47.85772892, -47.85772892, -47.8660738 ,\n",
       "       -47.8660738 , -47.87982335, -47.87982335, -47.90253481,\n",
       "       -48.87931167, -48.86216105, -48.86216105, -48.85351034,\n",
       "       -48.85351034, -48.8499728 , -48.8499728 , -48.85044799,\n",
       "       -48.85044799, -48.85476494, -48.85476494, -48.86328367,\n",
       "       -48.86328367, -48.87731967, -48.87731967, -48.90050429,\n",
       "       -49.87684864, -49.85934801, -49.85934801, -49.85052076,\n",
       "       -49.85052076, -49.84691102, -49.84691102, -49.84739591,\n",
       "       -49.84739591, -49.85180096, -49.85180096, -49.86049354,\n",
       "       -49.86049354, -49.87481599, -49.87481599, -49.89847376])"
      ]
     },
     "execution_count": 78,
     "metadata": {},
     "output_type": "execute_result"
    }
   ],
   "source": [
    "sig_tx"
   ]
  },
  {
   "cell_type": "markdown",
   "id": "34cd5362-fef3-484d-83b1-efbc6899bd14",
   "metadata": {},
   "source": [
    "# FE discretization - Force-controlled"
   ]
  },
  {
   "cell_type": "code",
   "execution_count": 12,
   "id": "0be2ce17-beab-41f4-adfc-755adbaf66cb",
   "metadata": {
    "scrolled": true
   },
   "outputs": [],
   "source": [
    "n_y_e = 10\n",
    "n_inner_x_e = 5\n",
    "n_outer_x_e = 5\n",
    "L_x = 200.0\n",
    "R_in = 100.0\n",
    "R_out = 200.0\n",
    "xd_lower = XDomainFEGridAxiSym(coord_min=(0, 0),\n",
    "                          coord_max=(L_x, R_in),\n",
    "                          shape=(n_y_e, n_inner_x_e),\n",
    "                          integ_factor=2 * np.pi,\n",
    "                          fets=FETS2D4Q())\n",
    "xd_upper = XDomainFEGridAxiSym(coord_min=(0, R_in),\n",
    "                          coord_max=(L_x, R_out),\n",
    "                          shape=(n_y_e, n_outer_x_e),\n",
    "                          integ_factor=2 * np.pi,\n",
    "                          fets=FETS2D4Q())\n",
    "m1 = MATS3DElastic(E=28000, nu=0.3)\n",
    "m2 = MATS3DElastic(E=28000, nu=0.3)\n",
    "\n",
    "xd12 = XDomainFEInterface(\n",
    "    I=xd_lower.mesh.I[1:-1, -1],\n",
    "    J=xd_upper.mesh.I[1:-1, 0],\n",
    "    fets=FETS1D52ULRH()\n",
    ")"
   ]
  },
  {
   "cell_type": "code",
   "execution_count": 13,
   "id": "a05c347e-f70a-4f72-b965-b47b7b1eeeec",
   "metadata": {},
   "outputs": [],
   "source": [
    "#bond_m = Slide34(E_T=10000, E_N=10000)\n",
    "material_params = dict(\n",
    "         E_T=100, gamma_T=200, K_T=0, S_T=0.05, c_T=3, bartau=3, \n",
    "         E_N=100, S_N=0.05, c_N = 3, m = 0.15, f_t=5, f_c=80, f_c0 = 40, eta=0.2)\n",
    "bond_m = Slide34(**material_params)"
   ]
  },
  {
   "cell_type": "code",
   "execution_count": 14,
   "id": "94820f32-5b5c-45b1-bc94-4254ce75eba6",
   "metadata": {},
   "outputs": [
    {
     "data": {
      "application/vnd.jupyter.widget-view+json": {
       "model_id": "64af8c34f5e247d1b0e9103323797e52",
       "version_major": 2,
       "version_minor": 0
      },
      "text/plain": [
       "VBox(children=(HBox(children=(VBox(children=(Tree(layout=Layout(align_items='stretch', border='solid 1px black…"
      ]
     },
     "metadata": {},
     "output_type": "display_data"
    }
   ],
   "source": [
    "tf_force = TFBilinear()\n",
    "tf_force.interact()"
   ]
  },
  {
   "cell_type": "code",
   "execution_count": 17,
   "id": "d2580dc8-80d5-46c6-888e-4cf5141a1463",
   "metadata": {},
   "outputs": [],
   "source": [
    "axisym = BCSlice(slice=xd_lower.mesh[0, 0, 0, 0],\n",
    "                 var='u', dims=[1], value=0)\n",
    "fixed_upper_support = BCSlice(slice=xd_upper.mesh[0, :, 0, :],\n",
    "                 var='u', dims=[0], value=0)\n",
    "loaded_lower_slice= BCSlice(slice=xd_lower.mesh[-1, :, -1, :],\n",
    "                  var='u', dims=[0], value=0.5)\n",
    "loaded_lower_dofs = loaded_lower_slice.dofs\n",
    "\n",
    "load = 500\n",
    "F = load / len(loaded_lower_dofs)\n",
    "\n",
    "loaded_lower = [BCDof(var='f', dof=dof, value = F, time_function=tf_force  ) \n",
    "                     for dof in loaded_lower_dofs]\n",
    "\n",
    "bc1 = [axisym, fixed_upper_support, loaded_lower]"
   ]
  },
  {
   "cell_type": "code",
   "execution_count": 18,
   "id": "dd6fb0db-9643-404a-ae7d-552459a34cf0",
   "metadata": {
    "tags": []
   },
   "outputs": [
    {
     "data": {
      "text/plain": [
       "[<ibvpy.sim.domain_state.DomainState at 0x1c9cebe89f0>,\n",
       " <ibvpy.sim.domain_state.DomainState at 0x1c9cebef6d0>,\n",
       " <ibvpy.sim.domain_state.DomainState at 0x1c9cebef680>]"
      ]
     },
     "execution_count": 18,
     "metadata": {},
     "output_type": "execute_result"
    }
   ],
   "source": [
    "m = TStepBC(\n",
    "    domains=[(xd_lower, m1),\n",
    "             (xd_upper, m2),\n",
    "             (xd12, bond_m),\n",
    "             ],\n",
    "    bc=bc1,  # + bc2,\n",
    ")\n",
    "\n",
    "m.hist.vis_record = {\n",
    "    'strain': Vis3DTensorField(var='eps_ab'),\n",
    "    #        'damage': Vis3DStateField(var='omega_a'),\n",
    "    #        'kinematic hardening': Vis3DStateField(var='z_a')\n",
    "}\n",
    "\n",
    "s = m.sim\n",
    "s.tloop.verbose = True\n",
    "s.tloop.k_max = 1000\n",
    "s.tline.step = 0.02\n",
    "s.tstep.fe_domain.serialized_subdomains"
   ]
  },
  {
   "cell_type": "code",
   "execution_count": 19,
   "id": "bb9a1935-8237-4755-8ba4-d3bcf5807ed2",
   "metadata": {},
   "outputs": [],
   "source": [
    "#bond_m.interact()"
   ]
  },
  {
   "cell_type": "code",
   "execution_count": 20,
   "id": "bab70f32-766f-453c-a215-5c44cd83d5e0",
   "metadata": {
    "scrolled": true
   },
   "outputs": [
    {
     "name": "stdout",
     "output_type": "stream",
     "text": [
      "t:\t 0.00"
     ]
    },
    {
     "ename": "TraitError",
     "evalue": "Each element of the 'bcond_list' trait of a BCondMngr instance must be an IBCond or None, but a value of [<ibvpy.bcond.bc_dof.BCDof object at 0x000001C9CE6D45E0>, <ibvpy.bcond.bc_dof.BCDof object at 0x000001C9CE6C6D60>, <ibvpy.bcond.bc_dof.BCDof object at 0x000001C9CE6C6BD0>, <ibvpy.bcond.bc_dof.BCDof object at 0x000001C9CE6C6C20>, <ibvpy.bcond.bc_dof.BCDof object at 0x000001C9CEB96E00>, <ibvpy.bcond.bc_dof.BCDof object at 0x000001C9CE6D4590>] <class 'list'> was specified.",
     "output_type": "error",
     "traceback": [
      "\u001b[1;31m---------------------------------------------------------------------------\u001b[0m",
      "\u001b[1;31mTraitError\u001b[0m                                Traceback (most recent call last)",
      "\u001b[1;32m<ipython-input-20-905e2f2b18d9>\u001b[0m in \u001b[0;36m<module>\u001b[1;34m\u001b[0m\n\u001b[0;32m      1\u001b[0m \u001b[0mxd12\u001b[0m\u001b[1;33m.\u001b[0m\u001b[0mhidden\u001b[0m \u001b[1;33m=\u001b[0m \u001b[1;32mTrue\u001b[0m\u001b[1;33m\u001b[0m\u001b[1;33m\u001b[0m\u001b[0m\n\u001b[0;32m      2\u001b[0m \u001b[0ms\u001b[0m\u001b[1;33m.\u001b[0m\u001b[0mreset\u001b[0m\u001b[1;33m(\u001b[0m\u001b[1;33m)\u001b[0m\u001b[1;33m\u001b[0m\u001b[1;33m\u001b[0m\u001b[0m\n\u001b[1;32m----> 3\u001b[1;33m \u001b[0ms\u001b[0m\u001b[1;33m.\u001b[0m\u001b[0mrun\u001b[0m\u001b[1;33m(\u001b[0m\u001b[1;33m)\u001b[0m\u001b[1;33m\u001b[0m\u001b[1;33m\u001b[0m\u001b[0m\n\u001b[0m",
      "\u001b[1;32mc:\\users\\marag\\pycharmprojects\\bmcs_ibvpy\\ibvpy\\sim\\sim_base.py\u001b[0m in \u001b[0;36mrun\u001b[1;34m(self)\u001b[0m\n\u001b[0;32m     57\u001b[0m         r'''Run a thread if it does not exist - do nothing otherwise\n\u001b[0;32m     58\u001b[0m         '''\n\u001b[1;32m---> 59\u001b[1;33m         \u001b[0mself\u001b[0m\u001b[1;33m.\u001b[0m\u001b[0mtloop\u001b[0m\u001b[1;33m(\u001b[0m\u001b[1;33m)\u001b[0m\u001b[1;33m\u001b[0m\u001b[1;33m\u001b[0m\u001b[0m\n\u001b[0m\u001b[0;32m     60\u001b[0m         \u001b[1;32mreturn\u001b[0m\u001b[1;33m\u001b[0m\u001b[1;33m\u001b[0m\u001b[0m\n\u001b[0;32m     61\u001b[0m \u001b[1;33m\u001b[0m\u001b[0m\n",
      "\u001b[1;32mc:\\users\\marag\\pycharmprojects\\bmcs_ibvpy\\ibvpy\\sim\\tloop.py\u001b[0m in \u001b[0;36m__call__\u001b[1;34m(self)\u001b[0m\n\u001b[0;32m     63\u001b[0m     \u001b[1;32mdef\u001b[0m \u001b[0m__call__\u001b[0m\u001b[1;33m(\u001b[0m\u001b[0mself\u001b[0m\u001b[1;33m)\u001b[0m\u001b[1;33m:\u001b[0m\u001b[1;33m\u001b[0m\u001b[1;33m\u001b[0m\u001b[0m\n\u001b[0;32m     64\u001b[0m         \u001b[0mself\u001b[0m\u001b[1;33m.\u001b[0m\u001b[0minit\u001b[0m\u001b[1;33m(\u001b[0m\u001b[1;33m)\u001b[0m\u001b[1;33m\u001b[0m\u001b[1;33m\u001b[0m\u001b[0m\n\u001b[1;32m---> 65\u001b[1;33m         \u001b[1;32mreturn\u001b[0m \u001b[0mself\u001b[0m\u001b[1;33m.\u001b[0m\u001b[0meval\u001b[0m\u001b[1;33m(\u001b[0m\u001b[1;33m)\u001b[0m\u001b[1;33m\u001b[0m\u001b[1;33m\u001b[0m\u001b[0m\n\u001b[0m",
      "\u001b[1;32mc:\\users\\marag\\pycharmprojects\\bmcs_ibvpy\\ibvpy\\sim\\tloop_implicit.py\u001b[0m in \u001b[0;36meval\u001b[1;34m(self)\u001b[0m\n\u001b[0;32m     36\u001b[0m             \u001b[1;31m# run the iteration loop\u001b[0m\u001b[1;33m\u001b[0m\u001b[1;33m\u001b[0m\u001b[1;33m\u001b[0m\u001b[0m\n\u001b[0;32m     37\u001b[0m             \u001b[1;32mwhile\u001b[0m \u001b[1;33m(\u001b[0m\u001b[0mk\u001b[0m \u001b[1;33m<\u001b[0m \u001b[0mself\u001b[0m\u001b[1;33m.\u001b[0m\u001b[0mk_max\u001b[0m\u001b[1;33m)\u001b[0m \u001b[1;32mand\u001b[0m \u001b[1;32mnot\u001b[0m \u001b[0mself\u001b[0m\u001b[1;33m.\u001b[0m\u001b[0muser_wants_abort\u001b[0m\u001b[1;33m:\u001b[0m\u001b[1;33m\u001b[0m\u001b[1;33m\u001b[0m\u001b[0m\n\u001b[1;32m---> 38\u001b[1;33m                 \u001b[1;32mif\u001b[0m \u001b[0mself\u001b[0m\u001b[1;33m.\u001b[0m\u001b[0mtstep\u001b[0m\u001b[1;33m.\u001b[0m\u001b[0mR_norm\u001b[0m \u001b[1;33m<\u001b[0m \u001b[0mself\u001b[0m\u001b[1;33m.\u001b[0m\u001b[0macc\u001b[0m\u001b[1;33m:\u001b[0m\u001b[1;33m\u001b[0m\u001b[1;33m\u001b[0m\u001b[0m\n\u001b[0m\u001b[0;32m     39\u001b[0m                     \u001b[1;32mif\u001b[0m \u001b[0mself\u001b[0m\u001b[1;33m.\u001b[0m\u001b[0mverbose\u001b[0m\u001b[1;33m:\u001b[0m\u001b[1;33m\u001b[0m\u001b[1;33m\u001b[0m\u001b[0m\n\u001b[0;32m     40\u001b[0m                         \u001b[0mprint\u001b[0m\u001b[1;33m(\u001b[0m\u001b[1;34m'(%g), '\u001b[0m \u001b[1;33m%\u001b[0m \u001b[0mk\u001b[0m\u001b[1;33m,\u001b[0m \u001b[0mend\u001b[0m\u001b[1;33m=\u001b[0m\u001b[1;34m'\\n'\u001b[0m\u001b[1;33m)\u001b[0m\u001b[1;33m\u001b[0m\u001b[1;33m\u001b[0m\u001b[0m\n",
      "\u001b[1;32mc:\\users\\marag\\pycharmprojects\\bmcs_ibvpy\\ibvpy\\sim\\tstep_bc.py\u001b[0m in \u001b[0;36m_get_R_norm\u001b[1;34m(self)\u001b[0m\n\u001b[0;32m    172\u001b[0m \u001b[1;33m\u001b[0m\u001b[0m\n\u001b[0;32m    173\u001b[0m     \u001b[1;32mdef\u001b[0m \u001b[0m_get_R_norm\u001b[0m\u001b[1;33m(\u001b[0m\u001b[0mself\u001b[0m\u001b[1;33m)\u001b[0m\u001b[1;33m:\u001b[0m\u001b[1;33m\u001b[0m\u001b[1;33m\u001b[0m\u001b[0m\n\u001b[1;32m--> 174\u001b[1;33m         \u001b[0mR\u001b[0m \u001b[1;33m=\u001b[0m \u001b[0mself\u001b[0m\u001b[1;33m.\u001b[0m\u001b[0mR\u001b[0m\u001b[1;33m\u001b[0m\u001b[1;33m\u001b[0m\u001b[0m\n\u001b[0m\u001b[0;32m    175\u001b[0m         \u001b[1;32mreturn\u001b[0m \u001b[0mnp\u001b[0m\u001b[1;33m.\u001b[0m\u001b[0msqrt\u001b[0m\u001b[1;33m(\u001b[0m\u001b[0mnp\u001b[0m\u001b[1;33m.\u001b[0m\u001b[0meinsum\u001b[0m\u001b[1;33m(\u001b[0m\u001b[1;34m'...i,...i'\u001b[0m\u001b[1;33m,\u001b[0m \u001b[0mR\u001b[0m\u001b[1;33m,\u001b[0m \u001b[0mR\u001b[0m\u001b[1;33m)\u001b[0m\u001b[1;33m)\u001b[0m\u001b[1;33m\u001b[0m\u001b[1;33m\u001b[0m\u001b[0m\n\u001b[0;32m    176\u001b[0m \u001b[1;33m\u001b[0m\u001b[0m\n",
      "\u001b[1;32mc:\\users\\marag\\pycharmprojects\\bmcs_ibvpy\\ibvpy\\sim\\tstep_bc.py\u001b[0m in \u001b[0;36m_get_R\u001b[1;34m(self)\u001b[0m\n\u001b[0;32m    178\u001b[0m \u001b[1;33m\u001b[0m\u001b[0m\n\u001b[0;32m    179\u001b[0m     \u001b[1;32mdef\u001b[0m \u001b[0m_get_R\u001b[0m\u001b[1;33m(\u001b[0m\u001b[0mself\u001b[0m\u001b[1;33m)\u001b[0m\u001b[1;33m:\u001b[0m\u001b[1;33m\u001b[0m\u001b[1;33m\u001b[0m\u001b[0m\n\u001b[1;32m--> 180\u001b[1;33m         \u001b[0mR\u001b[0m\u001b[1;33m,\u001b[0m \u001b[0m_\u001b[0m\u001b[1;33m,\u001b[0m \u001b[0m_\u001b[0m \u001b[1;33m=\u001b[0m \u001b[0mself\u001b[0m\u001b[1;33m.\u001b[0m\u001b[0mcorr_pred\u001b[0m\u001b[1;33m\u001b[0m\u001b[1;33m\u001b[0m\u001b[0m\n\u001b[0m\u001b[0;32m    181\u001b[0m         \u001b[1;32mreturn\u001b[0m \u001b[0mR\u001b[0m\u001b[1;33m.\u001b[0m\u001b[0mflatten\u001b[0m\u001b[1;33m(\u001b[0m\u001b[1;33m)\u001b[0m\u001b[1;33m\u001b[0m\u001b[1;33m\u001b[0m\u001b[0m\n\u001b[0;32m    182\u001b[0m \u001b[1;33m\u001b[0m\u001b[0m\n",
      "\u001b[1;32m~\\miniconda3\\envs\\bmcs_env\\lib\\site-packages\\traits\\has_traits.py\u001b[0m in \u001b[0;36mdecorator\u001b[1;34m(self)\u001b[0m\n\u001b[0;32m    925\u001b[0m         \u001b[0mresult\u001b[0m \u001b[1;33m=\u001b[0m \u001b[0mself\u001b[0m\u001b[1;33m.\u001b[0m\u001b[0m__dict__\u001b[0m\u001b[1;33m.\u001b[0m\u001b[0mget\u001b[0m\u001b[1;33m(\u001b[0m\u001b[0mname\u001b[0m\u001b[1;33m,\u001b[0m \u001b[0mUndefined\u001b[0m\u001b[1;33m)\u001b[0m\u001b[1;33m\u001b[0m\u001b[1;33m\u001b[0m\u001b[0m\n\u001b[0;32m    926\u001b[0m         \u001b[1;32mif\u001b[0m \u001b[0mresult\u001b[0m \u001b[1;32mis\u001b[0m \u001b[0mUndefined\u001b[0m\u001b[1;33m:\u001b[0m\u001b[1;33m\u001b[0m\u001b[1;33m\u001b[0m\u001b[0m\n\u001b[1;32m--> 927\u001b[1;33m             \u001b[0mself\u001b[0m\u001b[1;33m.\u001b[0m\u001b[0m__dict__\u001b[0m\u001b[1;33m[\u001b[0m\u001b[0mname\u001b[0m\u001b[1;33m]\u001b[0m \u001b[1;33m=\u001b[0m \u001b[0mresult\u001b[0m \u001b[1;33m=\u001b[0m \u001b[0mfunction\u001b[0m\u001b[1;33m(\u001b[0m\u001b[0mself\u001b[0m\u001b[1;33m)\u001b[0m\u001b[1;33m\u001b[0m\u001b[1;33m\u001b[0m\u001b[0m\n\u001b[0m\u001b[0;32m    928\u001b[0m \u001b[1;33m\u001b[0m\u001b[0m\n\u001b[0;32m    929\u001b[0m         \u001b[1;32mreturn\u001b[0m \u001b[0mresult\u001b[0m\u001b[1;33m\u001b[0m\u001b[1;33m\u001b[0m\u001b[0m\n",
      "\u001b[1;32mc:\\users\\marag\\pycharmprojects\\bmcs_ibvpy\\ibvpy\\sim\\tstep_bc.py\u001b[0m in \u001b[0;36m_get_corr_pred\u001b[1;34m(self)\u001b[0m\n\u001b[0;32m    121\u001b[0m     \u001b[1;33m@\u001b[0m\u001b[0mtr\u001b[0m\u001b[1;33m.\u001b[0m\u001b[0mcached_property\u001b[0m\u001b[1;33m\u001b[0m\u001b[1;33m\u001b[0m\u001b[0m\n\u001b[0;32m    122\u001b[0m     \u001b[1;32mdef\u001b[0m \u001b[0m_get_corr_pred\u001b[0m\u001b[1;33m(\u001b[0m\u001b[0mself\u001b[0m\u001b[1;33m)\u001b[0m\u001b[1;33m:\u001b[0m\u001b[1;33m\u001b[0m\u001b[1;33m\u001b[0m\u001b[0m\n\u001b[1;32m--> 123\u001b[1;33m         \u001b[0mself\u001b[0m\u001b[1;33m.\u001b[0m\u001b[0mK\u001b[0m\u001b[1;33m.\u001b[0m\u001b[0mreset_mtx\u001b[0m\u001b[1;33m(\u001b[0m\u001b[1;33m)\u001b[0m\u001b[1;33m\u001b[0m\u001b[1;33m\u001b[0m\u001b[0m\n\u001b[0m\u001b[0;32m    124\u001b[0m         f_Eis, K_ks, dof_Es = np.array(\n\u001b[0;32m    125\u001b[0m             [s.get_corr_pred(self.U_k, self.t_n, self.t_n1)\n",
      "\u001b[1;32m~\\miniconda3\\envs\\bmcs_env\\lib\\site-packages\\traits\\has_traits.py\u001b[0m in \u001b[0;36mdecorator\u001b[1;34m(self)\u001b[0m\n\u001b[0;32m    925\u001b[0m         \u001b[0mresult\u001b[0m \u001b[1;33m=\u001b[0m \u001b[0mself\u001b[0m\u001b[1;33m.\u001b[0m\u001b[0m__dict__\u001b[0m\u001b[1;33m.\u001b[0m\u001b[0mget\u001b[0m\u001b[1;33m(\u001b[0m\u001b[0mname\u001b[0m\u001b[1;33m,\u001b[0m \u001b[0mUndefined\u001b[0m\u001b[1;33m)\u001b[0m\u001b[1;33m\u001b[0m\u001b[1;33m\u001b[0m\u001b[0m\n\u001b[0;32m    926\u001b[0m         \u001b[1;32mif\u001b[0m \u001b[0mresult\u001b[0m \u001b[1;32mis\u001b[0m \u001b[0mUndefined\u001b[0m\u001b[1;33m:\u001b[0m\u001b[1;33m\u001b[0m\u001b[1;33m\u001b[0m\u001b[0m\n\u001b[1;32m--> 927\u001b[1;33m             \u001b[0mself\u001b[0m\u001b[1;33m.\u001b[0m\u001b[0m__dict__\u001b[0m\u001b[1;33m[\u001b[0m\u001b[0mname\u001b[0m\u001b[1;33m]\u001b[0m \u001b[1;33m=\u001b[0m \u001b[0mresult\u001b[0m \u001b[1;33m=\u001b[0m \u001b[0mfunction\u001b[0m\u001b[1;33m(\u001b[0m\u001b[0mself\u001b[0m\u001b[1;33m)\u001b[0m\u001b[1;33m\u001b[0m\u001b[1;33m\u001b[0m\u001b[0m\n\u001b[0m\u001b[0;32m    928\u001b[0m \u001b[1;33m\u001b[0m\u001b[0m\n\u001b[0;32m    929\u001b[0m         \u001b[1;32mreturn\u001b[0m \u001b[0mresult\u001b[0m\u001b[1;33m\u001b[0m\u001b[1;33m\u001b[0m\u001b[0m\n",
      "\u001b[1;32mc:\\users\\marag\\pycharmprojects\\bmcs_ibvpy\\ibvpy\\sim\\tstep_bc.py\u001b[0m in \u001b[0;36m_get_K\u001b[1;34m(self)\u001b[0m\n\u001b[0;32m     94\u001b[0m     \u001b[1;32mdef\u001b[0m \u001b[0m_get_K\u001b[0m\u001b[1;33m(\u001b[0m\u001b[0mself\u001b[0m\u001b[1;33m)\u001b[0m\u001b[1;33m:\u001b[0m\u001b[1;33m\u001b[0m\u001b[1;33m\u001b[0m\u001b[0m\n\u001b[0;32m     95\u001b[0m         \u001b[0mK\u001b[0m \u001b[1;33m=\u001b[0m \u001b[0mSysMtxAssembly\u001b[0m\u001b[1;33m(\u001b[0m\u001b[1;33m)\u001b[0m\u001b[1;33m\u001b[0m\u001b[1;33m\u001b[0m\u001b[0m\n\u001b[1;32m---> 96\u001b[1;33m         \u001b[0mself\u001b[0m\u001b[1;33m.\u001b[0m\u001b[0mbcond_mngr\u001b[0m\u001b[1;33m.\u001b[0m\u001b[0msetup\u001b[0m\u001b[1;33m(\u001b[0m\u001b[1;32mNone\u001b[0m\u001b[1;33m)\u001b[0m\u001b[1;33m\u001b[0m\u001b[1;33m\u001b[0m\u001b[0m\n\u001b[0m\u001b[0;32m     97\u001b[0m         \u001b[0mself\u001b[0m\u001b[1;33m.\u001b[0m\u001b[0mbcond_mngr\u001b[0m\u001b[1;33m.\u001b[0m\u001b[0mregister\u001b[0m\u001b[1;33m(\u001b[0m\u001b[0mK\u001b[0m\u001b[1;33m)\u001b[0m\u001b[1;33m\u001b[0m\u001b[1;33m\u001b[0m\u001b[0m\n\u001b[0;32m     98\u001b[0m         \u001b[1;32mreturn\u001b[0m \u001b[0mK\u001b[0m\u001b[1;33m\u001b[0m\u001b[1;33m\u001b[0m\u001b[0m\n",
      "\u001b[1;32m~\\miniconda3\\envs\\bmcs_env\\lib\\site-packages\\traits\\has_traits.py\u001b[0m in \u001b[0;36mdecorator\u001b[1;34m(self)\u001b[0m\n\u001b[0;32m    925\u001b[0m         \u001b[0mresult\u001b[0m \u001b[1;33m=\u001b[0m \u001b[0mself\u001b[0m\u001b[1;33m.\u001b[0m\u001b[0m__dict__\u001b[0m\u001b[1;33m.\u001b[0m\u001b[0mget\u001b[0m\u001b[1;33m(\u001b[0m\u001b[0mname\u001b[0m\u001b[1;33m,\u001b[0m \u001b[0mUndefined\u001b[0m\u001b[1;33m)\u001b[0m\u001b[1;33m\u001b[0m\u001b[1;33m\u001b[0m\u001b[0m\n\u001b[0;32m    926\u001b[0m         \u001b[1;32mif\u001b[0m \u001b[0mresult\u001b[0m \u001b[1;32mis\u001b[0m \u001b[0mUndefined\u001b[0m\u001b[1;33m:\u001b[0m\u001b[1;33m\u001b[0m\u001b[1;33m\u001b[0m\u001b[0m\n\u001b[1;32m--> 927\u001b[1;33m             \u001b[0mself\u001b[0m\u001b[1;33m.\u001b[0m\u001b[0m__dict__\u001b[0m\u001b[1;33m[\u001b[0m\u001b[0mname\u001b[0m\u001b[1;33m]\u001b[0m \u001b[1;33m=\u001b[0m \u001b[0mresult\u001b[0m \u001b[1;33m=\u001b[0m \u001b[0mfunction\u001b[0m\u001b[1;33m(\u001b[0m\u001b[0mself\u001b[0m\u001b[1;33m)\u001b[0m\u001b[1;33m\u001b[0m\u001b[1;33m\u001b[0m\u001b[0m\n\u001b[0m\u001b[0;32m    928\u001b[0m \u001b[1;33m\u001b[0m\u001b[0m\n\u001b[0;32m    929\u001b[0m         \u001b[1;32mreturn\u001b[0m \u001b[0mresult\u001b[0m\u001b[1;33m\u001b[0m\u001b[1;33m\u001b[0m\u001b[0m\n",
      "\u001b[1;32mc:\\users\\marag\\pycharmprojects\\bmcs_ibvpy\\ibvpy\\sim\\tstep_bc.py\u001b[0m in \u001b[0;36m_get_bcond_mngr\u001b[1;34m(self)\u001b[0m\n\u001b[0;32m     69\u001b[0m     \u001b[1;33m@\u001b[0m\u001b[0mtr\u001b[0m\u001b[1;33m.\u001b[0m\u001b[0mcached_property\u001b[0m\u001b[1;33m\u001b[0m\u001b[1;33m\u001b[0m\u001b[0m\n\u001b[0;32m     70\u001b[0m     \u001b[1;32mdef\u001b[0m \u001b[0m_get_bcond_mngr\u001b[0m\u001b[1;33m(\u001b[0m\u001b[0mself\u001b[0m\u001b[1;33m)\u001b[0m\u001b[1;33m:\u001b[0m\u001b[1;33m\u001b[0m\u001b[1;33m\u001b[0m\u001b[0m\n\u001b[1;32m---> 71\u001b[1;33m         \u001b[1;32mreturn\u001b[0m \u001b[0mBCondMngr\u001b[0m\u001b[1;33m(\u001b[0m\u001b[0mbcond_list\u001b[0m\u001b[1;33m=\u001b[0m\u001b[0mself\u001b[0m\u001b[1;33m.\u001b[0m\u001b[0mbc\u001b[0m\u001b[1;33m)\u001b[0m\u001b[1;33m\u001b[0m\u001b[1;33m\u001b[0m\u001b[0m\n\u001b[0m\u001b[0;32m     72\u001b[0m \u001b[1;33m\u001b[0m\u001b[0m\n\u001b[0;32m     73\u001b[0m     \u001b[1;32mdef\u001b[0m \u001b[0minit_state\u001b[0m\u001b[1;33m(\u001b[0m\u001b[0mself\u001b[0m\u001b[1;33m)\u001b[0m\u001b[1;33m:\u001b[0m\u001b[1;33m\u001b[0m\u001b[1;33m\u001b[0m\u001b[0m\n",
      "\u001b[1;32m~\\miniconda3\\envs\\bmcs_env\\lib\\site-packages\\bmcs_utils\\model.py\u001b[0m in \u001b[0;36m__init__\u001b[1;34m(self, *args, **kw)\u001b[0m\n\u001b[0;32m     18\u001b[0m \u001b[1;33m\u001b[0m\u001b[0m\n\u001b[0;32m     19\u001b[0m     \u001b[1;32mdef\u001b[0m \u001b[0m__init__\u001b[0m\u001b[1;33m(\u001b[0m\u001b[0mself\u001b[0m\u001b[1;33m,\u001b[0m\u001b[1;33m*\u001b[0m\u001b[0margs\u001b[0m\u001b[1;33m,\u001b[0m\u001b[1;33m**\u001b[0m\u001b[0mkw\u001b[0m\u001b[1;33m)\u001b[0m\u001b[1;33m:\u001b[0m\u001b[1;33m\u001b[0m\u001b[1;33m\u001b[0m\u001b[0m\n\u001b[1;32m---> 20\u001b[1;33m         \u001b[0msuper\u001b[0m\u001b[1;33m(\u001b[0m\u001b[1;33m)\u001b[0m\u001b[1;33m.\u001b[0m\u001b[0m__init__\u001b[0m\u001b[1;33m(\u001b[0m\u001b[1;33m*\u001b[0m\u001b[0margs\u001b[0m\u001b[1;33m,\u001b[0m \u001b[1;33m**\u001b[0m\u001b[0mkw\u001b[0m\u001b[1;33m)\u001b[0m\u001b[1;33m\u001b[0m\u001b[1;33m\u001b[0m\u001b[0m\n\u001b[0m\u001b[0;32m     21\u001b[0m         \u001b[0mself\u001b[0m\u001b[1;33m.\u001b[0m\u001b[0mupdate_observers\u001b[0m\u001b[1;33m(\u001b[0m\u001b[1;33m)\u001b[0m\u001b[1;33m\u001b[0m\u001b[1;33m\u001b[0m\u001b[0m\n\u001b[0;32m     22\u001b[0m \u001b[1;33m\u001b[0m\u001b[0m\n",
      "\u001b[1;32m~\\miniconda3\\envs\\bmcs_env\\lib\\site-packages\\traits\\trait_types.py\u001b[0m in \u001b[0;36mvalidate\u001b[1;34m(self, object, name, value)\u001b[0m\n\u001b[0;32m   2513\u001b[0m                 \u001b[1;32mreturn\u001b[0m \u001b[0mvalue\u001b[0m\u001b[1;33m\u001b[0m\u001b[1;33m\u001b[0m\u001b[0m\n\u001b[0;32m   2514\u001b[0m \u001b[1;33m\u001b[0m\u001b[0m\n\u001b[1;32m-> 2515\u001b[1;33m             \u001b[1;32mreturn\u001b[0m \u001b[0mTraitListObject\u001b[0m\u001b[1;33m(\u001b[0m\u001b[0mself\u001b[0m\u001b[1;33m,\u001b[0m \u001b[0mobject\u001b[0m\u001b[1;33m,\u001b[0m \u001b[0mname\u001b[0m\u001b[1;33m,\u001b[0m \u001b[0mvalue\u001b[0m\u001b[1;33m)\u001b[0m\u001b[1;33m\u001b[0m\u001b[1;33m\u001b[0m\u001b[0m\n\u001b[0m\u001b[0;32m   2516\u001b[0m \u001b[1;33m\u001b[0m\u001b[0m\n\u001b[0;32m   2517\u001b[0m         \u001b[0mself\u001b[0m\u001b[1;33m.\u001b[0m\u001b[0merror\u001b[0m\u001b[1;33m(\u001b[0m\u001b[0mobject\u001b[0m\u001b[1;33m,\u001b[0m \u001b[0mname\u001b[0m\u001b[1;33m,\u001b[0m \u001b[0mvalue\u001b[0m\u001b[1;33m)\u001b[0m\u001b[1;33m\u001b[0m\u001b[1;33m\u001b[0m\u001b[0m\n",
      "\u001b[1;32m~\\miniconda3\\envs\\bmcs_env\\lib\\site-packages\\traits\\trait_list_object.py\u001b[0m in \u001b[0;36m__init__\u001b[1;34m(self, trait, object, name, value)\u001b[0m\n\u001b[0;32m    580\u001b[0m         \u001b[0mself\u001b[0m\u001b[1;33m.\u001b[0m\u001b[0m_validate_length\u001b[0m\u001b[1;33m(\u001b[0m\u001b[0mlen\u001b[0m\u001b[1;33m(\u001b[0m\u001b[0mvalue\u001b[0m\u001b[1;33m)\u001b[0m\u001b[1;33m)\u001b[0m\u001b[1;33m\u001b[0m\u001b[1;33m\u001b[0m\u001b[0m\n\u001b[0;32m    581\u001b[0m \u001b[1;33m\u001b[0m\u001b[0m\n\u001b[1;32m--> 582\u001b[1;33m         super().__init__(\n\u001b[0m\u001b[0;32m    583\u001b[0m             \u001b[0mvalue\u001b[0m\u001b[1;33m,\u001b[0m\u001b[1;33m\u001b[0m\u001b[1;33m\u001b[0m\u001b[0m\n\u001b[0;32m    584\u001b[0m             \u001b[0mitem_validator\u001b[0m\u001b[1;33m=\u001b[0m\u001b[0mself\u001b[0m\u001b[1;33m.\u001b[0m\u001b[0m_item_validator\u001b[0m\u001b[1;33m,\u001b[0m\u001b[1;33m\u001b[0m\u001b[1;33m\u001b[0m\u001b[0m\n",
      "\u001b[1;32m~\\miniconda3\\envs\\bmcs_env\\lib\\site-packages\\traits\\trait_list_object.py\u001b[0m in \u001b[0;36m__init__\u001b[1;34m(self, iterable, item_validator, notifiers)\u001b[0m\n\u001b[0;32m    211\u001b[0m         \u001b[1;32mif\u001b[0m \u001b[0mitem_validator\u001b[0m \u001b[1;32mis\u001b[0m \u001b[1;32mnot\u001b[0m \u001b[1;32mNone\u001b[0m\u001b[1;33m:\u001b[0m\u001b[1;33m\u001b[0m\u001b[1;33m\u001b[0m\u001b[0m\n\u001b[0;32m    212\u001b[0m             \u001b[0mself\u001b[0m\u001b[1;33m.\u001b[0m\u001b[0mitem_validator\u001b[0m \u001b[1;33m=\u001b[0m \u001b[0mitem_validator\u001b[0m\u001b[1;33m\u001b[0m\u001b[1;33m\u001b[0m\u001b[0m\n\u001b[1;32m--> 213\u001b[1;33m         \u001b[0msuper\u001b[0m\u001b[1;33m(\u001b[0m\u001b[1;33m)\u001b[0m\u001b[1;33m.\u001b[0m\u001b[0m__init__\u001b[0m\u001b[1;33m(\u001b[0m\u001b[0mself\u001b[0m\u001b[1;33m.\u001b[0m\u001b[0mitem_validator\u001b[0m\u001b[1;33m(\u001b[0m\u001b[0mitem\u001b[0m\u001b[1;33m)\u001b[0m \u001b[1;32mfor\u001b[0m \u001b[0mitem\u001b[0m \u001b[1;32min\u001b[0m \u001b[0miterable\u001b[0m\u001b[1;33m)\u001b[0m\u001b[1;33m\u001b[0m\u001b[1;33m\u001b[0m\u001b[0m\n\u001b[0m\u001b[0;32m    214\u001b[0m         \u001b[1;32mif\u001b[0m \u001b[0mnotifiers\u001b[0m \u001b[1;32mis\u001b[0m \u001b[1;32mnot\u001b[0m \u001b[1;32mNone\u001b[0m\u001b[1;33m:\u001b[0m\u001b[1;33m\u001b[0m\u001b[1;33m\u001b[0m\u001b[0m\n\u001b[0;32m    215\u001b[0m             \u001b[0mself\u001b[0m\u001b[1;33m.\u001b[0m\u001b[0mnotifiers\u001b[0m \u001b[1;33m=\u001b[0m \u001b[0mlist\u001b[0m\u001b[1;33m(\u001b[0m\u001b[0mnotifiers\u001b[0m\u001b[1;33m)\u001b[0m\u001b[1;33m\u001b[0m\u001b[1;33m\u001b[0m\u001b[0m\n",
      "\u001b[1;32m~\\miniconda3\\envs\\bmcs_env\\lib\\site-packages\\traits\\trait_list_object.py\u001b[0m in \u001b[0;36m<genexpr>\u001b[1;34m(.0)\u001b[0m\n\u001b[0;32m    211\u001b[0m         \u001b[1;32mif\u001b[0m \u001b[0mitem_validator\u001b[0m \u001b[1;32mis\u001b[0m \u001b[1;32mnot\u001b[0m \u001b[1;32mNone\u001b[0m\u001b[1;33m:\u001b[0m\u001b[1;33m\u001b[0m\u001b[1;33m\u001b[0m\u001b[0m\n\u001b[0;32m    212\u001b[0m             \u001b[0mself\u001b[0m\u001b[1;33m.\u001b[0m\u001b[0mitem_validator\u001b[0m \u001b[1;33m=\u001b[0m \u001b[0mitem_validator\u001b[0m\u001b[1;33m\u001b[0m\u001b[1;33m\u001b[0m\u001b[0m\n\u001b[1;32m--> 213\u001b[1;33m         \u001b[0msuper\u001b[0m\u001b[1;33m(\u001b[0m\u001b[1;33m)\u001b[0m\u001b[1;33m.\u001b[0m\u001b[0m__init__\u001b[0m\u001b[1;33m(\u001b[0m\u001b[0mself\u001b[0m\u001b[1;33m.\u001b[0m\u001b[0mitem_validator\u001b[0m\u001b[1;33m(\u001b[0m\u001b[0mitem\u001b[0m\u001b[1;33m)\u001b[0m \u001b[1;32mfor\u001b[0m \u001b[0mitem\u001b[0m \u001b[1;32min\u001b[0m \u001b[0miterable\u001b[0m\u001b[1;33m)\u001b[0m\u001b[1;33m\u001b[0m\u001b[1;33m\u001b[0m\u001b[0m\n\u001b[0m\u001b[0;32m    214\u001b[0m         \u001b[1;32mif\u001b[0m \u001b[0mnotifiers\u001b[0m \u001b[1;32mis\u001b[0m \u001b[1;32mnot\u001b[0m \u001b[1;32mNone\u001b[0m\u001b[1;33m:\u001b[0m\u001b[1;33m\u001b[0m\u001b[1;33m\u001b[0m\u001b[0m\n\u001b[0;32m    215\u001b[0m             \u001b[0mself\u001b[0m\u001b[1;33m.\u001b[0m\u001b[0mnotifiers\u001b[0m \u001b[1;33m=\u001b[0m \u001b[0mlist\u001b[0m\u001b[1;33m(\u001b[0m\u001b[0mnotifiers\u001b[0m\u001b[1;33m)\u001b[0m\u001b[1;33m\u001b[0m\u001b[1;33m\u001b[0m\u001b[0m\n",
      "\u001b[1;32m~\\miniconda3\\envs\\bmcs_env\\lib\\site-packages\\traits\\trait_list_object.py\u001b[0m in \u001b[0;36m_item_validator\u001b[1;34m(self, value)\u001b[0m\n\u001b[0;32m    863\u001b[0m \u001b[1;33m\u001b[0m\u001b[0m\n\u001b[0;32m    864\u001b[0m         \u001b[1;32mtry\u001b[0m\u001b[1;33m:\u001b[0m\u001b[1;33m\u001b[0m\u001b[1;33m\u001b[0m\u001b[0m\n\u001b[1;32m--> 865\u001b[1;33m             \u001b[1;32mreturn\u001b[0m \u001b[0mtrait_validator\u001b[0m\u001b[1;33m(\u001b[0m\u001b[0mobject\u001b[0m\u001b[1;33m,\u001b[0m \u001b[0mself\u001b[0m\u001b[1;33m.\u001b[0m\u001b[0mname\u001b[0m\u001b[1;33m,\u001b[0m \u001b[0mvalue\u001b[0m\u001b[1;33m)\u001b[0m\u001b[1;33m\u001b[0m\u001b[1;33m\u001b[0m\u001b[0m\n\u001b[0m\u001b[0;32m    866\u001b[0m         \u001b[1;32mexcept\u001b[0m \u001b[0mTraitError\u001b[0m \u001b[1;32mas\u001b[0m \u001b[0mexcp\u001b[0m\u001b[1;33m:\u001b[0m\u001b[1;33m\u001b[0m\u001b[1;33m\u001b[0m\u001b[0m\n\u001b[0;32m    867\u001b[0m             \u001b[0mexcp\u001b[0m\u001b[1;33m.\u001b[0m\u001b[0mset_prefix\u001b[0m\u001b[1;33m(\u001b[0m\u001b[1;34m\"Each element of the\"\u001b[0m\u001b[1;33m)\u001b[0m\u001b[1;33m\u001b[0m\u001b[1;33m\u001b[0m\u001b[0m\n",
      "\u001b[1;32m~\\miniconda3\\envs\\bmcs_env\\lib\\site-packages\\traits\\trait_handlers.py\u001b[0m in \u001b[0;36mvalidate\u001b[1;34m(self, object, name, value)\u001b[0m\n\u001b[0;32m    333\u001b[0m             \u001b[1;32mreturn\u001b[0m \u001b[0mvalue\u001b[0m\u001b[1;33m\u001b[0m\u001b[1;33m\u001b[0m\u001b[0m\n\u001b[0;32m    334\u001b[0m \u001b[1;33m\u001b[0m\u001b[0m\n\u001b[1;32m--> 335\u001b[1;33m         \u001b[0mself\u001b[0m\u001b[1;33m.\u001b[0m\u001b[0merror\u001b[0m\u001b[1;33m(\u001b[0m\u001b[0mobject\u001b[0m\u001b[1;33m,\u001b[0m \u001b[0mname\u001b[0m\u001b[1;33m,\u001b[0m \u001b[0mvalue\u001b[0m\u001b[1;33m)\u001b[0m\u001b[1;33m\u001b[0m\u001b[1;33m\u001b[0m\u001b[0m\n\u001b[0m\u001b[0;32m    336\u001b[0m \u001b[1;33m\u001b[0m\u001b[0m\n\u001b[0;32m    337\u001b[0m     \u001b[1;32mdef\u001b[0m \u001b[0minfo\u001b[0m\u001b[1;33m(\u001b[0m\u001b[0mself\u001b[0m\u001b[1;33m)\u001b[0m\u001b[1;33m:\u001b[0m\u001b[1;33m\u001b[0m\u001b[1;33m\u001b[0m\u001b[0m\n",
      "\u001b[1;32m~\\miniconda3\\envs\\bmcs_env\\lib\\site-packages\\traits\\base_trait_handler.py\u001b[0m in \u001b[0;36merror\u001b[1;34m(self, object, name, value)\u001b[0m\n\u001b[0;32m     72\u001b[0m             \u001b[0mThe\u001b[0m \u001b[0mproposed\u001b[0m \u001b[0mnew\u001b[0m \u001b[0mvalue\u001b[0m \u001b[1;32mfor\u001b[0m \u001b[0mthe\u001b[0m \u001b[0mattribute\u001b[0m\u001b[1;33m.\u001b[0m\u001b[1;33m\u001b[0m\u001b[1;33m\u001b[0m\u001b[0m\n\u001b[0;32m     73\u001b[0m         \"\"\"\n\u001b[1;32m---> 74\u001b[1;33m         raise TraitError(\n\u001b[0m\u001b[0;32m     75\u001b[0m             \u001b[0mobject\u001b[0m\u001b[1;33m,\u001b[0m \u001b[0mname\u001b[0m\u001b[1;33m,\u001b[0m \u001b[0mself\u001b[0m\u001b[1;33m.\u001b[0m\u001b[0mfull_info\u001b[0m\u001b[1;33m(\u001b[0m\u001b[0mobject\u001b[0m\u001b[1;33m,\u001b[0m \u001b[0mname\u001b[0m\u001b[1;33m,\u001b[0m \u001b[0mvalue\u001b[0m\u001b[1;33m)\u001b[0m\u001b[1;33m,\u001b[0m \u001b[0mvalue\u001b[0m\u001b[1;33m\u001b[0m\u001b[1;33m\u001b[0m\u001b[0m\n\u001b[0;32m     76\u001b[0m         )\n",
      "\u001b[1;31mTraitError\u001b[0m: Each element of the 'bcond_list' trait of a BCondMngr instance must be an IBCond or None, but a value of [<ibvpy.bcond.bc_dof.BCDof object at 0x000001C9CE6D45E0>, <ibvpy.bcond.bc_dof.BCDof object at 0x000001C9CE6C6D60>, <ibvpy.bcond.bc_dof.BCDof object at 0x000001C9CE6C6BD0>, <ibvpy.bcond.bc_dof.BCDof object at 0x000001C9CE6C6C20>, <ibvpy.bcond.bc_dof.BCDof object at 0x000001C9CEB96E00>, <ibvpy.bcond.bc_dof.BCDof object at 0x000001C9CE6D4590>] <class 'list'> was specified."
     ]
    }
   ],
   "source": [
    "xd12.hidden = True\n",
    "s.reset()\n",
    "s.run()"
   ]
  },
  {
   "cell_type": "code",
   "execution_count": null,
   "id": "dd628b59-ee02-408f-a207-e2b1f1102f2c",
   "metadata": {},
   "outputs": [],
   "source": []
  }
 ],
 "metadata": {
  "kernelspec": {
   "display_name": "bmcs_env",
   "language": "python",
   "name": "bmcs_env"
  },
  "language_info": {
   "codemirror_mode": {
    "name": "ipython",
    "version": 3
   },
   "file_extension": ".py",
   "mimetype": "text/x-python",
   "name": "python",
   "nbconvert_exporter": "python",
   "pygments_lexer": "ipython3",
   "version": "3.9.5"
  },
  "toc": {
   "base_numbering": 1,
   "nav_menu": {},
   "number_sections": true,
   "sideBar": true,
   "skip_h1_title": false,
   "title_cell": "Table of Contents",
   "title_sidebar": "Contents",
   "toc_cell": false,
   "toc_position": {},
   "toc_section_display": true,
   "toc_window_display": false
  }
 },
 "nbformat": 4,
 "nbformat_minor": 5
}
