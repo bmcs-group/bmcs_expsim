{
 "cells": [
  {
   "cell_type": "markdown",
   "id": "4faf2840",
   "metadata": {},
   "source": [
    "# Axisim Punching-Through Shear Test"
   ]
  },
  {
   "cell_type": "markdown",
   "id": "57d69647-096b-4cdc-96bd-df4f418f617f",
   "metadata": {},
   "source": [
    "This example couples two domains via an zero-thickness interface. "
   ]
  },
  {
   "cell_type": "code",
   "execution_count": 8,
   "id": "5453e041-98d8-4951-923c-b64809a003dd",
   "metadata": {},
   "outputs": [],
   "source": [
    "%matplotlib widget\n",
    "import time\n",
    "from bmcs_expsim.utils.mlab_decorators import decorate_figure\n",
    "from mayavi import mlab\n",
    "import numpy as np\n",
    "import warnings"
   ]
  },
  {
   "cell_type": "code",
   "execution_count": 9,
   "id": "cd92087f",
   "metadata": {},
   "outputs": [],
   "source": [
    "from ibvpy.api import TStepBC\n",
    "from ibvpy.bcond import BCSlice\n",
    "from ibvpy.xmodel.xdomain_fe_grid_axisym import XDomainFEGridAxiSym\n",
    "from ibvpy.xmodel.xdomain_interface import XDomainFEInterface"
   ]
  },
  {
   "cell_type": "code",
   "execution_count": 10,
   "id": "0af3b921",
   "metadata": {},
   "outputs": [],
   "source": [
    "from ibvpy.fets import FETS2D4Q\n",
    "from ibvpy.fets.fets1D5 import FETS1D52ULRH"
   ]
  },
  {
   "cell_type": "code",
   "execution_count": 11,
   "id": "c303f4c4",
   "metadata": {},
   "outputs": [],
   "source": [
    "from ibvpy.tmodel.viz3d_scalar_field import \\\n",
    "    Vis3DStateField, Viz3DScalarField\n",
    "from ibvpy.tmodel.viz3d_tensor_field import \\\n",
    "    Vis3DTensorField, Viz3DTensorField"
   ]
  },
  {
   "cell_type": "markdown",
   "id": "35b16d33",
   "metadata": {},
   "source": [
    "# Material models"
   ]
  },
  {
   "cell_type": "code",
   "execution_count": 12,
   "id": "12b9248d-6ee7-4b0c-ac3b-7c66012a2343",
   "metadata": {},
   "outputs": [],
   "source": [
    "from bmcs_matmod.slide.vslide_34 import Slide34\n",
    "from ibvpy.tmodel.mats3D.mats3D_elastic.vmats3D_elastic import \\\n",
    "    MATS3DElastic"
   ]
  },
  {
   "cell_type": "markdown",
   "id": "f2962828",
   "metadata": {},
   "source": [
    "# FE discretization"
   ]
  },
  {
   "cell_type": "code",
   "execution_count": 13,
   "id": "ca631af3",
   "metadata": {
    "scrolled": true
   },
   "outputs": [
    {
     "data": {
      "text/plain": [
       "[<ibvpy.sim.domain_state.DomainState at 0x7f69072583b0>,\n",
       " <ibvpy.sim.domain_state.DomainState at 0x7f6907258f40>,\n",
       " <ibvpy.sim.domain_state.DomainState at 0x7f6907258ef0>]"
      ]
     },
     "execution_count": 13,
     "metadata": {},
     "output_type": "execute_result"
    }
   ],
   "source": [
    "n_x_e = 10\n",
    "n_inner_y_e = 5\n",
    "n_outer_y_e = 5\n",
    "L_x = 200.0\n",
    "R_in = 100.0\n",
    "R_out = 200.0\n",
    "xd_inner = XDomainFEGridAxiSym(coord_min=(0, 0),\n",
    "                          coord_max=(L_x, R_in),\n",
    "                          shape=(n_x_e, n_inner_y_e),\n",
    "                          integ_factor=2 * np.pi,\n",
    "                          fets=FETS2D4Q())\n",
    "xd_outer = XDomainFEGridAxiSym(coord_min=(0, R_in),\n",
    "                          coord_max=(L_x, R_out),\n",
    "                          shape=(n_x_e, n_outer_y_e),\n",
    "                          integ_factor=2 * np.pi,\n",
    "                          fets=FETS2D4Q())\n",
    "m1 = MATS3DElastic(E=28000, nu=0.3)\n",
    "m2 = MATS3DElastic(E=28000, nu=0.3)\n",
    "\n",
    "xd12 = XDomainFEInterface(\n",
    "    I=xd_inner.mesh.I[1:-1, -1],\n",
    "    J=xd_outer.mesh.I[1:-1, 0],\n",
    "    fets=FETS1D52ULRH()\n",
    ")\n",
    "bond_m = Slide34(E_T=10000, E_N=10000)\n",
    "\n",
    "fixed_y = BCSlice(slice=xd_inner.mesh[0, 0, 0, 0],\n",
    "                 var='u', dims=[1], value=0)\n",
    "fixed_outer_x = BCSlice(slice=xd_outer.mesh[0, :, 0, :],\n",
    "                 var='u', dims=[0], value=0)\n",
    "loaded_inner_x = BCSlice(slice=xd_inner.mesh[-1, :, -1, :],\n",
    "                  var='u', dims=[0], value=-0.1)\n",
    "bc1 = [fixed_y, fixed_outer_x, loaded_inner_x]\n",
    "\n",
    "m = TStepBC(\n",
    "    domains=[(xd_inner, m1),\n",
    "             (xd_outer, m2),\n",
    "             (xd12, bond_m),\n",
    "             ],\n",
    "    bc=bc1,  # + bc2,\n",
    ")\n",
    "\n",
    "m.hist.vis_record = {\n",
    "    'strain': Vis3DTensorField(var='eps_ab'),\n",
    "    #        'damage': Vis3DStateField(var='omega_a'),\n",
    "    #        'kinematic hardening': Vis3DStateField(var='z_a')\n",
    "}\n",
    "\n",
    "s = m.sim\n",
    "s.tloop.verbose = True\n",
    "s.tloop.k_max = 1000\n",
    "s.tline.step = 0.1\n",
    "s.tstep.fe_domain.serialized_subdomains"
   ]
  },
  {
   "cell_type": "code",
   "execution_count": 14,
   "id": "c95f5fa2",
   "metadata": {},
   "outputs": [
    {
     "data": {
      "application/vnd.jupyter.widget-view+json": {
       "model_id": "4458276f7a52429f9841284c612e52d4",
       "version_major": 2,
       "version_minor": 0
      },
      "text/plain": [
       "VBox(children=(HBox(children=(VBox(children=(Tree(layout=Layout(align_items='stretch', border='solid 1px black…"
      ]
     },
     "metadata": {},
     "output_type": "display_data"
    }
   ],
   "source": [
    "bond_m.interact()"
   ]
  },
  {
   "cell_type": "code",
   "execution_count": 7,
   "id": "cef0b911-0e10-444c-9083-23f63b6944a6",
   "metadata": {
    "scrolled": false
   },
   "outputs": [
    {
     "name": "stdout",
     "output_type": "stream",
     "text": [
      "t:\t 0.00"
     ]
    },
    {
     "name": "stderr",
     "output_type": "stream",
     "text": [
      "<lambdifygenerated-7>:4: RuntimeWarning: invalid value encountered in true_divide\n",
      "  return (array([[I*select([greater(O, (abs(sqrt((-X_x + tau_pi_x/(1 - omega_T))**2 + (-X_y + tau_pi_y/(1 - omega_T))**2)) - (Z + bartau)*(sig_pi/(-omega_N*Dummy_448 + 1) + f_t**2*m/(Z + bartau - 2*f_t*m))*(Z + bartau - 2*f_t*m)/(f_t**2*m))*sign(f_t)*sign(m)),greater(O, (abs(sqrt((-X_x + tau_pi_x/(1 - omega_T))**2 + (-X_y + tau_pi_y/(1 - omega_T))**2)) + (Z + bartau + f_c0*m)*(sig_pi/(-omega_N*Dummy_448 + 1) + f_c0 - m*(-f_c**2 + 2*f_c*f_c0 - f_c0**2)/(Z + bartau + 2*f_c*m - f_c0*m))*(Z + bartau + 2*f_c*m - f_c0*m)/(m*(-f_c**2 + 2*f_c*f_c0 - f_c0**2)))*sign(m)*sign(-f_c + f_c0)),True], [(-X_x + tau_pi_x/(1 - omega_T))*(f_t**2*m**2 - 2*f_t*m*(Z + bartau) + (Z + bartau)**2)**2/((1 - omega_T)*(Z + bartau)*sqrt(((-X_x + tau_pi_x/(1 - omega_T))**2 + (-X_y + tau_pi_y/(1 - omega_T))**2)*(f_t**2*m**2 - 2*f_t*m*(Z + bartau) + (Z + bartau)**2)**2/((Z + bartau)*(-Z - bartau + f_t*m)**2*(Z + bartau - 2*f_t*m)) + (sig_pi/(-omega_N*Dummy_448 + 1) + f_t**2*m/(Z + bartau - 2*f_t*m))**2*(f_t**2*m**2 - 2*f_t*m*(Z + bartau) + (Z + bartau)**2)**2/(f_t**2*(Z + bartau - f_t*m)**2))*(-Z - bartau + f_t*m)**2*(Z + bartau - 2*f_t*m)),(-X_x + tau_pi_x/(1 - omega_T))*(f_c**2*m**2 - 2*f_c*f_c0*m**2 + 2*f_c*m*(Z + bartau + f_c0*m) + f_c0**2*m**2 - 2*f_c0*m*(Z + bartau + f_c0*m) + (Z + bartau + f_c0*m)**2)**2/((1 - omega_T)*sqrt(((-X_x + tau_pi_x/(1 - omega_T))**2 + (-X_y + tau_pi_y/(1 - omega_T))**2)*(f_c**2*m**2 - 2*f_c*f_c0*m**2 + 2*f_c*m*(Z + bartau + f_c0*m) + f_c0**2*m**2 - 2*f_c0*m*(Z + bartau + f_c0*m) + (Z + bartau + f_c0*m)**2)**2/((-Z - bartau - f_c*m)**2*(Z + bartau + f_c0*m)*(Z + bartau + 2*f_c*m - f_c0*m)) + (sig_pi/(-omega_N*Dummy_448 + 1) + f_c0 - m*(-f_c**2 + 2*f_c*f_c0 - f_c0**2)/(Z + bartau + 2*f_c*m - f_c0*m))**2*(f_c**2*m**2 - 2*f_c*f_c0*m**2 + 2*f_c*m*(Z + bartau + f_c0*m) + f_c0**2*m**2 - 2*f_c0*m*(Z + bartau + f_c0*m) + (Z + bartau + f_c0*m)**2)**2/((f_c - f_c0)**2*(Z + bartau + f_c*m)**2))*(-Z - bartau - f_c*m)**2*(Z + bartau + f_c0*m)*(Z + bartau + 2*f_c*m - f_c0*m)),(-X_x + tau_pi_x/(1 - omega_T))/((1 - omega_T)*sqrt((-X_x + tau_pi_x/(1 - omega_T))**2 + (-X_y + tau_pi_y/(1 - omega_T))**2))], default=nan)], [I*select([greater(O, (abs(sqrt((-X_x + tau_pi_x/(1 - omega_T))**2 + (-X_y + tau_pi_y/(1 - omega_T))**2)) - (Z + bartau)*(sig_pi/(-omega_N*Dummy_448 + 1) + f_t**2*m/(Z + bartau - 2*f_t*m))*(Z + bartau - 2*f_t*m)/(f_t**2*m))*sign(f_t)*sign(m)),greater(O, (abs(sqrt((-X_x + tau_pi_x/(1 - omega_T))**2 + (-X_y + tau_pi_y/(1 - omega_T))**2)) + (Z + bartau + f_c0*m)*(sig_pi/(-omega_N*Dummy_448 + 1) + f_c0 - m*(-f_c**2 + 2*f_c*f_c0 - f_c0**2)/(Z + bartau + 2*f_c*m - f_c0*m))*(Z + bartau + 2*f_c*m - f_c0*m)/(m*(-f_c**2 + 2*f_c*f_c0 - f_c0**2)))*sign(m)*sign(-f_c + f_c0)),True], [(-X_y + tau_pi_y/(1 - omega_T))*(f_t**2*m**2 - 2*f_t*m*(Z + bartau) + (Z + bartau)**2)**2/((1 - omega_T)*(Z + bartau)*sqrt(((-X_x + tau_pi_x/(1 - omega_T))**2 + (-X_y + tau_pi_y/(1 - omega_T))**2)*(f_t**2*m**2 - 2*f_t*m*(Z + bartau) + (Z + bartau)**2)**2/((Z + bartau)*(-Z - bartau + f_t*m)**2*(Z + bartau - 2*f_t*m)) + (sig_pi/(-omega_N*Dummy_448 + 1) + f_t**2*m/(Z + bartau - 2*f_t*m))**2*(f_t**2*m**2 - 2*f_t*m*(Z + bartau) + (Z + bartau)**2)**2/(f_t**2*(Z + bartau - f_t*m)**2))*(-Z - bartau + f_t*m)**2*(Z + bartau - 2*f_t*m)),(-X_y + tau_pi_y/(1 - omega_T))*(f_c**2*m**2 - 2*f_c*f_c0*m**2 + 2*f_c*m*(Z + bartau + f_c0*m) + f_c0**2*m**2 - 2*f_c0*m*(Z + bartau + f_c0*m) + (Z + bartau + f_c0*m)**2)**2/((1 - omega_T)*sqrt(((-X_x + tau_pi_x/(1 - omega_T))**2 + (-X_y + tau_pi_y/(1 - omega_T))**2)*(f_c**2*m**2 - 2*f_c*f_c0*m**2 + 2*f_c*m*(Z + bartau + f_c0*m) + f_c0**2*m**2 - 2*f_c0*m*(Z + bartau + f_c0*m) + (Z + bartau + f_c0*m)**2)**2/((-Z - bartau - f_c*m)**2*(Z + bartau + f_c0*m)*(Z + bartau + 2*f_c*m - f_c0*m)) + (sig_pi/(-omega_N*Dummy_448 + 1) + f_c0 - m*(-f_c**2 + 2*f_c*f_c0 - f_c0**2)/(Z + bartau + 2*f_c*m - f_c0*m))**2*(f_c**2*m**2 - 2*f_c*f_c0*m**2 + 2*f_c*m*(Z + bartau + f_c0*m) + f_c0**2*m**2 - 2*f_c0*m*(Z + bartau + f_c0*m) + (Z + bartau + f_c0*m)**2)**2/((f_c - f_c0)**2*(Z + bartau + f_c*m)**2))*(-Z - bartau - f_c*m)**2*(Z + bartau + f_c0*m)*(Z + bartau + 2*f_c*m - f_c0*m)),(-X_y + tau_pi_y/(1 - omega_T))/((1 - omega_T)*sqrt((-X_x + tau_pi_x/(1 - omega_T))**2 + (-X_y + tau_pi_y/(1 - omega_T))**2))], default=nan)], [I*select([greater(O, (abs(sqrt((-X_x + tau_pi_x/(1 - omega_T))**2 + (-X_y + tau_pi_y/(1 - omega_T))**2)) - (Z + bartau)*(sig_pi/(-omega_N*Dummy_448 + 1) + f_t**2*m/(Z + bartau - 2*f_t*m))*(Z + bartau - 2*f_t*m)/(f_t**2*m))*sign(f_t)*sign(m)),greater(O, (abs(sqrt((-X_x + tau_pi_x/(1 - omega_T))**2 + (-X_y + tau_pi_y/(1 - omega_T))**2)) + (Z + bartau + f_c0*m)*(sig_pi/(-omega_N*Dummy_448 + 1) + f_c0 - m*(-f_c**2 + 2*f_c*f_c0 - f_c0**2)/(Z + bartau + 2*f_c*m - f_c0*m))*(Z + bartau + 2*f_c*m - f_c0*m)/(m*(-f_c**2 + 2*f_c*f_c0 - f_c0**2)))*sign(m)*sign(-f_c + f_c0)),True], [(sig_pi/(-omega_N*Dummy_448 + 1) + f_t**2*m/(Z + bartau - 2*f_t*m))*(f_t**2*m**2 - 2*f_t*m*(Z + bartau) + (Z + bartau)**2)**2/(f_t**2*(-omega_N*Dummy_448 + 1)*sqrt(((-X_x + tau_pi_x/(1 - omega_T))**2 + (-X_y + tau_pi_y/(1 - omega_T))**2)*(f_t**2*m**2 - 2*f_t*m*(Z + bartau) + (Z + bartau)**2)**2/((Z + bartau)*(-Z - bartau + f_t*m)**2*(Z + bartau - 2*f_t*m)) + (sig_pi/(-omega_N*Dummy_448 + 1) + f_t**2*m/(Z + bartau - 2*f_t*m))**2*(f_t**2*m**2 - 2*f_t*m*(Z + bartau) + (Z + bartau)**2)**2/(f_t**2*(Z + bartau - f_t*m)**2))*(Z + bartau - f_t*m)**2),(sig_pi/(-omega_N*Dummy_448 + 1) + f_c0 - m*(-f_c**2 + 2*f_c*f_c0 - f_c0**2)/(Z + bartau + 2*f_c*m - f_c0*m))*(f_c**2*m**2 - 2*f_c*f_c0*m**2 + 2*f_c*m*(Z + bartau + f_c0*m) + f_c0**2*m**2 - 2*f_c0*m*(Z + bartau + f_c0*m) + (Z + bartau + f_c0*m)**2)**2/((f_c - f_c0)**2*(-omega_N*Dummy_448 + 1)*sqrt(((-X_x + tau_pi_x/(1 - omega_T))**2 + (-X_y + tau_pi_y/(1 - omega_T))**2)*(f_c**2*m**2 - 2*f_c*f_c0*m**2 + 2*f_c*m*(Z + bartau + f_c0*m) + f_c0**2*m**2 - 2*f_c0*m*(Z + bartau + f_c0*m) + (Z + bartau + f_c0*m)**2)**2/((-Z - bartau - f_c*m)**2*(Z + bartau + f_c0*m)*(Z + bartau + 2*f_c*m - f_c0*m)) + (sig_pi/(-omega_N*Dummy_448 + 1) + f_c0 - m*(-f_c**2 + 2*f_c*f_c0 - f_c0**2)/(Z + bartau + 2*f_c*m - f_c0*m))**2*(f_c**2*m**2 - 2*f_c*f_c0*m**2 + 2*f_c*m*(Z + bartau + f_c0*m) + f_c0**2*m**2 - 2*f_c0*m*(Z + bartau + f_c0*m) + (Z + bartau + f_c0*m)**2)**2/((f_c - f_c0)**2*(Z + bartau + f_c*m)**2))*(Z + bartau + f_c*m)**2),m/(-omega_N*Dummy_448 + 1)], default=nan)], [I*select([greater(O, (abs(sqrt((-X_x + tau_pi_x/(1 - omega_T))**2 + (-X_y + tau_pi_y/(1 - omega_T))**2)) - (Z + bartau)*(sig_pi/(-omega_N*Dummy_448 + 1) + f_t**2*m/(Z + bartau - 2*f_t*m))*(Z + bartau - 2*f_t*m)/(f_t**2*m))*sign(f_t)*sign(m)),greater(O, (abs(sqrt((-X_x + tau_pi_x/(1 - omega_T))**2 + (-X_y + tau_pi_y/(1 - omega_T))**2)) + (Z + bartau + f_c0*m)*(sig_pi/(-omega_N*Dummy_448 + 1) + f_c0 - m*(-f_c**2 + 2*f_c*f_c0 - f_c0**2)/(Z + bartau + 2*f_c*m - f_c0*m))*(Z + bartau + 2*f_c*m - f_c0*m)/(m*(-f_c**2 + 2*f_c*f_c0 - f_c0**2)))*sign(m)*sign(-f_c + f_c0)),True], [-(2*Z + 2*bartau - 2*f_t*m)/(Z + bartau - 2*f_t*m) + (f_t**2*m**2 - 2*f_t*m*(Z + bartau) + (Z + bartau)**2)/(Z + bartau - 2*f_t*m)**2 + (-m*(sig_pi/(-omega_N*Dummy_448 + 1) + f_t**2*m/(Z + bartau - 2*f_t*m))*(f_t**2*m**2 - 2*f_t*m*(Z + bartau) + (Z + bartau)**2)**2/((Z + bartau - 2*f_t*m)**2*(Z + bartau - f_t*m)**2) + (1/2)*((-X_x + tau_pi_x/(1 - omega_T))**2 + (-X_y + tau_pi_y/(1 - omega_T))**2)*(4*Z + 4*bartau - 4*f_t*m)*(f_t**2*m**2 - 2*f_t*m*(Z + bartau) + (Z + bartau)**2)/((Z + bartau)*(-Z - bartau + f_t*m)**2*(Z + bartau - 2*f_t*m)) - 1/2*((-X_x + tau_pi_x/(1 - omega_T))**2 + (-X_y + tau_pi_y/(1 - omega_T))**2)*(f_t**2*m**2 - 2*f_t*m*(Z + bartau) + (Z + bartau)**2)**2/((Z + bartau)*(-Z - bartau + f_t*m)**2*(Z + bartau - 2*f_t*m)**2) + ((-X_x + tau_pi_x/(1 - omega_T))**2 + (-X_y + tau_pi_y/(1 - omega_T))**2)*(f_t**2*m**2 - 2*f_t*m*(Z + bartau) + (Z + bartau)**2)**2/((Z + bartau)*(-Z - bartau + f_t*m)**3*(Z + bartau - 2*f_t*m)) - 1/2*((-X_x + tau_pi_x/(1 - omega_T))**2 + (-X_y + tau_pi_y/(1 - omega_T))**2)*(f_t**2*m**2 - 2*f_t*m*(Z + bartau) + (Z + bartau)**2)**2/((Z + bartau)**2*(-Z - bartau + f_t*m)**2*(Z + bartau - 2*f_t*m)) + (1/2)*(sig_pi/(-omega_N*Dummy_448 + 1) + f_t**2*m/(Z + bartau - 2*f_t*m))**2*(4*Z + 4*bartau - 4*f_t*m)*(f_t**2*m**2 - 2*f_t*m*(Z + bartau) + (Z + bartau)**2)/(f_t**2*(Z + bartau - f_t*m)**2) - (sig_pi/(-omega_N*Dummy_448 + 1) + f_t**2*m/(Z + bartau - 2*f_t*m))**2*(f_t**2*m**2 - 2*f_t*m*(Z + bartau) + (Z + bartau)**2)**2/(f_t**2*(Z + bartau - f_t*m)**3))/sqrt(((-X_x + tau_pi_x/(1 - omega_T))**2 + (-X_y + tau_pi_y/(1 - omega_T))**2)*(f_t**2*m**2 - 2*f_t*m*(Z + bartau) + (Z + bartau)**2)**2/((Z + bartau)*(-Z - bartau + f_t*m)**2*(Z + bartau - 2*f_t*m)) + (sig_pi/(-omega_N*Dummy_448 + 1) + f_t**2*m/(Z + bartau - 2*f_t*m))**2*(f_t**2*m**2 - 2*f_t*m*(Z + bartau) + (Z + bartau)**2)**2/(f_t**2*(Z + bartau - f_t*m)**2)),-(2*Z + 2*bartau + 2*f_c*m)/(Z + bartau + 2*f_c*m - f_c0*m) + (f_c**2*m**2 - 2*f_c*f_c0*m**2 + 2*f_c*m*(Z + bartau + f_c0*m) + f_c0**2*m**2 - 2*f_c0*m*(Z + bartau + f_c0*m) + (Z + bartau + f_c0*m)**2)/(Z + bartau + 2*f_c*m - f_c0*m)**2 + (m*(-f_c**2 + 2*f_c*f_c0 - f_c0**2)*(sig_pi/(-omega_N*Dummy_448 + 1) + f_c0 - m*(-f_c**2 + 2*f_c*f_c0 - f_c0**2)/(Z + bartau + 2*f_c*m - f_c0*m))*(f_c**2*m**2 - 2*f_c*f_c0*m**2 + 2*f_c*m*(Z + bartau + f_c0*m) + f_c0**2*m**2 - 2*f_c0*m*(Z + bartau + f_c0*m) + (Z + bartau + f_c0*m)**2)**2/((f_c - f_c0)**2*(Z + bartau + f_c*m)**2*(Z + bartau + 2*f_c*m - f_c0*m)**2) + (1/2)*((-X_x + tau_pi_x/(1 - omega_T))**2 + (-X_y + tau_pi_y/(1 - omega_T))**2)*(4*Z + 4*bartau + 4*f_c*m)*(f_c**2*m**2 - 2*f_c*f_c0*m**2 + 2*f_c*m*(Z + bartau + f_c0*m) + f_c0**2*m**2 - 2*f_c0*m*(Z + bartau + f_c0*m) + (Z + bartau + f_c0*m)**2)/((-Z - bartau - f_c*m)**2*(Z + bartau + f_c0*m)*(Z + bartau + 2*f_c*m - f_c0*m)) - 1/2*((-X_x + tau_pi_x/(1 - omega_T))**2 + (-X_y + tau_pi_y/(1 - omega_T))**2)*(f_c**2*m**2 - 2*f_c*f_c0*m**2 + 2*f_c*m*(Z + bartau + f_c0*m) + f_c0**2*m**2 - 2*f_c0*m*(Z + bartau + f_c0*m) + (Z + bartau + f_c0*m)**2)**2/((-Z - bartau - f_c*m)**2*(Z + bartau + f_c0*m)*(Z + bartau + 2*f_c*m - f_c0*m)**2) - 1/2*((-X_x + tau_pi_x/(1 - omega_T))**2 + (-X_y + tau_pi_y/(1 - omega_T))**2)*(f_c**2*m**2 - 2*f_c*f_c0*m**2 + 2*f_c*m*(Z + bartau + f_c0*m) + f_c0**2*m**2 - 2*f_c0*m*(Z + bartau + f_c0*m) + (Z + bartau + f_c0*m)**2)**2/((-Z - bartau - f_c*m)**2*(Z + bartau + f_c0*m)**2*(Z + bartau + 2*f_c*m - f_c0*m)) + ((-X_x + tau_pi_x/(1 - omega_T))**2 + (-X_y + tau_pi_y/(1 - omega_T))**2)*(f_c**2*m**2 - 2*f_c*f_c0*m**2 + 2*f_c*m*(Z + bartau + f_c0*m) + f_c0**2*m**2 - 2*f_c0*m*(Z + bartau + f_c0*m) + (Z + bartau + f_c0*m)**2)**2/((-Z - bartau - f_c*m)**3*(Z + bartau + f_c0*m)*(Z + bartau + 2*f_c*m - f_c0*m)) + (1/2)*(4*Z + 4*bartau + 4*f_c*m)*(sig_pi/(-omega_N*Dummy_448 + 1) + f_c0 - m*(-f_c**2 + 2*f_c*f_c0 - f_c0**2)/(Z + bartau + 2*f_c*m - f_c0*m))**2*(f_c**2*m**2 - 2*f_c*f_c0*m**2 + 2*f_c*m*(Z + bartau + f_c0*m) + f_c0**2*m**2 - 2*f_c0*m*(Z + bartau + f_c0*m) + (Z + bartau + f_c0*m)**2)/((f_c - f_c0)**2*(Z + bartau + f_c*m)**2) - (sig_pi/(-omega_N*Dummy_448 + 1) + f_c0 - m*(-f_c**2 + 2*f_c*f_c0 - f_c0**2)/(Z + bartau + 2*f_c*m - f_c0*m))**2*(f_c**2*m**2 - 2*f_c*f_c0*m**2 + 2*f_c*m*(Z + bartau + f_c0*m) + f_c0**2*m**2 - 2*f_c0*m*(Z + bartau + f_c0*m) + (Z + bartau + f_c0*m)**2)**2/((f_c - f_c0)**2*(Z + bartau + f_c*m)**3))/sqrt(((-X_x + tau_pi_x/(1 - omega_T))**2 + (-X_y + tau_pi_y/(1 - omega_T))**2)*(f_c**2*m**2 - 2*f_c*f_c0*m**2 + 2*f_c*m*(Z + bartau + f_c0*m) + f_c0**2*m**2 - 2*f_c0*m*(Z + bartau + f_c0*m) + (Z + bartau + f_c0*m)**2)**2/((-Z - bartau - f_c*m)**2*(Z + bartau + f_c0*m)*(Z + bartau + 2*f_c*m - f_c0*m)) + (sig_pi/(-omega_N*Dummy_448 + 1) + f_c0 - m*(-f_c**2 + 2*f_c*f_c0 - f_c0**2)/(Z + bartau + 2*f_c*m - f_c0*m))**2*(f_c**2*m**2 - 2*f_c*f_c0*m**2 + 2*f_c*m*(Z + bartau + f_c0*m) + f_c0**2*m**2 - 2*f_c0*m*(Z + bartau + f_c0*m) + (Z + bartau + f_c0*m)**2)**2/((f_c - f_c0)**2*(Z + bartau + f_c*m)**2)),-1], default=nan)], [I*select([greater(O, (abs(sqrt((-X_x + tau_pi_x/(1 - omega_T))**2 + (-X_y + tau_pi_y/(1 - omega_T))**2)) - (Z + bartau)*(sig_pi/(-omega_N*Dummy_448 + 1) + f_t**2*m/(Z + bartau - 2*f_t*m))*(Z + bartau - 2*f_t*m)/(f_t**2*m))*sign(f_t)*sign(m)),greater(O, (abs(sqrt((-X_x + tau_pi_x/(1 - omega_T))**2 + (-X_y + tau_pi_y/(1 - omega_T))**2)) + (Z + bartau + f_c0*m)*(sig_pi/(-omega_N*Dummy_448 + 1) + f_c0 - m*(-f_c**2 + 2*f_c*f_c0 - f_c0**2)/(Z + bartau + 2*f_c*m - f_c0*m))*(Z + bartau + 2*f_c*m - f_c0*m)/(m*(-f_c**2 + 2*f_c*f_c0 - f_c0**2)))*sign(m)*sign(-f_c + f_c0)),True], [(1/2)*(2*X_x - 2*tau_pi_x/(1 - omega_T))*(f_t**2*m**2 - 2*f_t*m*(Z + bartau) + (Z + bartau)**2)**2/((Z + bartau)*sqrt(((-X_x + tau_pi_x/(1 - omega_T))**2 + (-X_y + tau_pi_y/(1 - omega_T))**2)*(f_t**2*m**2 - 2*f_t*m*(Z + bartau) + (Z + bartau)**2)**2/((Z + bartau)*(-Z - bartau + f_t*m)**2*(Z + bartau - 2*f_t*m)) + (sig_pi/(-omega_N*Dummy_448 + 1) + f_t**2*m/(Z + bartau - 2*f_t*m))**2*(f_t**2*m**2 - 2*f_t*m*(Z + bartau) + (Z + bartau)**2)**2/(f_t**2*(Z + bartau - f_t*m)**2))*(-Z - bartau + f_t*m)**2*(Z + bartau - 2*f_t*m)),(1/2)*(2*X_x - 2*tau_pi_x/(1 - omega_T))*(f_c**2*m**2 - 2*f_c*f_c0*m**2 + 2*f_c*m*(Z + bartau + f_c0*m) + f_c0**2*m**2 - 2*f_c0*m*(Z + bartau + f_c0*m) + (Z + bartau + f_c0*m)**2)**2/(sqrt(((-X_x + tau_pi_x/(1 - omega_T))**2 + (-X_y + tau_pi_y/(1 - omega_T))**2)*(f_c**2*m**2 - 2*f_c*f_c0*m**2 + 2*f_c*m*(Z + bartau + f_c0*m) + f_c0**2*m**2 - 2*f_c0*m*(Z + bartau + f_c0*m) + (Z + bartau + f_c0*m)**2)**2/((-Z - bartau - f_c*m)**2*(Z + bartau + f_c0*m)*(Z + bartau + 2*f_c*m - f_c0*m)) + (sig_pi/(-omega_N*Dummy_448 + 1) + f_c0 - m*(-f_c**2 + 2*f_c*f_c0 - f_c0**2)/(Z + bartau + 2*f_c*m - f_c0*m))**2*(f_c**2*m**2 - 2*f_c*f_c0*m**2 + 2*f_c*m*(Z + bartau + f_c0*m) + f_c0**2*m**2 - 2*f_c0*m*(Z + bartau + f_c0*m) + (Z + bartau + f_c0*m)**2)**2/((f_c - f_c0)**2*(Z + bartau + f_c*m)**2))*(-Z - bartau - f_c*m)**2*(Z + bartau + f_c0*m)*(Z + bartau + 2*f_c*m - f_c0*m)),(X_x - tau_pi_x/(1 - omega_T))/sqrt((-X_x + tau_pi_x/(1 - omega_T))**2 + (-X_y + tau_pi_y/(1 - omega_T))**2)], default=nan)], [I*select([greater(O, (abs(sqrt((-X_x + tau_pi_x/(1 - omega_T))**2 + (-X_y + tau_pi_y/(1 - omega_T))**2)) - (Z + bartau)*(sig_pi/(-omega_N*Dummy_448 + 1) + f_t**2*m/(Z + bartau - 2*f_t*m))*(Z + bartau - 2*f_t*m)/(f_t**2*m))*sign(f_t)*sign(m)),greater(O, (abs(sqrt((-X_x + tau_pi_x/(1 - omega_T))**2 + (-X_y + tau_pi_y/(1 - omega_T))**2)) + (Z + bartau + f_c0*m)*(sig_pi/(-omega_N*Dummy_448 + 1) + f_c0 - m*(-f_c**2 + 2*f_c*f_c0 - f_c0**2)/(Z + bartau + 2*f_c*m - f_c0*m))*(Z + bartau + 2*f_c*m - f_c0*m)/(m*(-f_c**2 + 2*f_c*f_c0 - f_c0**2)))*sign(m)*sign(-f_c + f_c0)),True], [(1/2)*(2*X_y - 2*tau_pi_y/(1 - omega_T))*(f_t**2*m**2 - 2*f_t*m*(Z + bartau) + (Z + bartau)**2)**2/((Z + bartau)*sqrt(((-X_x + tau_pi_x/(1 - omega_T))**2 + (-X_y + tau_pi_y/(1 - omega_T))**2)*(f_t**2*m**2 - 2*f_t*m*(Z + bartau) + (Z + bartau)**2)**2/((Z + bartau)*(-Z - bartau + f_t*m)**2*(Z + bartau - 2*f_t*m)) + (sig_pi/(-omega_N*Dummy_448 + 1) + f_t**2*m/(Z + bartau - 2*f_t*m))**2*(f_t**2*m**2 - 2*f_t*m*(Z + bartau) + (Z + bartau)**2)**2/(f_t**2*(Z + bartau - f_t*m)**2))*(-Z - bartau + f_t*m)**2*(Z + bartau - 2*f_t*m)),(1/2)*(2*X_y - 2*tau_pi_y/(1 - omega_T))*(f_c**2*m**2 - 2*f_c*f_c0*m**2 + 2*f_c*m*(Z + bartau + f_c0*m) + f_c0**2*m**2 - 2*f_c0*m*(Z + bartau + f_c0*m) + (Z + bartau + f_c0*m)**2)**2/(sqrt(((-X_x + tau_pi_x/(1 - omega_T))**2 + (-X_y + tau_pi_y/(1 - omega_T))**2)*(f_c**2*m**2 - 2*f_c*f_c0*m**2 + 2*f_c*m*(Z + bartau + f_c0*m) + f_c0**2*m**2 - 2*f_c0*m*(Z + bartau + f_c0*m) + (Z + bartau + f_c0*m)**2)**2/((-Z - bartau - f_c*m)**2*(Z + bartau + f_c0*m)*(Z + bartau + 2*f_c*m - f_c0*m)) + (sig_pi/(-omega_N*Dummy_448 + 1) + f_c0 - m*(-f_c**2 + 2*f_c*f_c0 - f_c0**2)/(Z + bartau + 2*f_c*m - f_c0*m))**2*(f_c**2*m**2 - 2*f_c*f_c0*m**2 + 2*f_c*m*(Z + bartau + f_c0*m) + f_c0**2*m**2 - 2*f_c0*m*(Z + bartau + f_c0*m) + (Z + bartau + f_c0*m)**2)**2/((f_c - f_c0)**2*(Z + bartau + f_c*m)**2))*(-Z - bartau - f_c*m)**2*(Z + bartau + f_c0*m)*(Z + bartau + 2*f_c*m - f_c0*m)),(X_y - tau_pi_y/(1 - omega_T))/sqrt((-X_x + tau_pi_x/(1 - omega_T))**2 + (-X_y + tau_pi_y/(1 - omega_T))**2)], default=nan)], [I*O], [I*O]]))\n",
      "<lambdifygenerated-8>:4: RuntimeWarning: invalid value encountered in true_divide\n",
      "  return (array([[I*O], [I*O], [I*O], [I*O], [I*O], [I*O], [I*select([greater(O, (abs(sqrt((-X_x + tau_pi_x/(1 - omega_T))**2 + (-X_y + tau_pi_y/(1 - omega_T))**2)) - (Z + bartau)*(sig_pi/(-omega_N*Dummy_451 + 1) + f_t**2*m/(Z + bartau - 2*f_t*m))*(Z + bartau - 2*f_t*m)/(f_t**2*m))*sign(f_t)*sign(m)),greater(O, (abs(sqrt((-X_x + tau_pi_x/(1 - omega_T))**2 + (-X_y + tau_pi_y/(1 - omega_T))**2)) + (Z + bartau + f_c0*m)*(sig_pi/(-omega_N*Dummy_451 + 1) + f_c0 - m*(-f_c**2 + 2*f_c*f_c0 - f_c0**2)/(Z + bartau + 2*f_c*m - f_c0*m))*(Z + bartau + 2*f_c*m - f_c0*m)/(m*(-f_c**2 + 2*f_c*f_c0 - f_c0**2)))*sign(m)*sign(-f_c + f_c0)),True], [(1/2)*(2*tau_pi_x*(-X_x + tau_pi_x/(1 - omega_T))/(1 - omega_T)**2 + 2*tau_pi_y*(-X_y + tau_pi_y/(1 - omega_T))/(1 - omega_T)**2)*(f_t**2*m**2 - 2*f_t*m*(Z + bartau) + (Z + bartau)**2)**2/((Z + bartau)*sqrt(((-X_x + tau_pi_x/(1 - omega_T))**2 + (-X_y + tau_pi_y/(1 - omega_T))**2)*(f_t**2*m**2 - 2*f_t*m*(Z + bartau) + (Z + bartau)**2)**2/((Z + bartau)*(-Z - bartau + f_t*m)**2*(Z + bartau - 2*f_t*m)) + (sig_pi/(-omega_N*Dummy_451 + 1) + f_t**2*m/(Z + bartau - 2*f_t*m))**2*(f_t**2*m**2 - 2*f_t*m*(Z + bartau) + (Z + bartau)**2)**2/(f_t**2*(Z + bartau - f_t*m)**2))*(-Z - bartau + f_t*m)**2*(Z + bartau - 2*f_t*m)),(1/2)*(2*tau_pi_x*(-X_x + tau_pi_x/(1 - omega_T))/(1 - omega_T)**2 + 2*tau_pi_y*(-X_y + tau_pi_y/(1 - omega_T))/(1 - omega_T)**2)*(f_c**2*m**2 - 2*f_c*f_c0*m**2 + 2*f_c*m*(Z + bartau + f_c0*m) + f_c0**2*m**2 - 2*f_c0*m*(Z + bartau + f_c0*m) + (Z + bartau + f_c0*m)**2)**2/(sqrt(((-X_x + tau_pi_x/(1 - omega_T))**2 + (-X_y + tau_pi_y/(1 - omega_T))**2)*(f_c**2*m**2 - 2*f_c*f_c0*m**2 + 2*f_c*m*(Z + bartau + f_c0*m) + f_c0**2*m**2 - 2*f_c0*m*(Z + bartau + f_c0*m) + (Z + bartau + f_c0*m)**2)**2/((-Z - bartau - f_c*m)**2*(Z + bartau + f_c0*m)*(Z + bartau + 2*f_c*m - f_c0*m)) + (sig_pi/(-omega_N*Dummy_451 + 1) + f_c0 - m*(-f_c**2 + 2*f_c*f_c0 - f_c0**2)/(Z + bartau + 2*f_c*m - f_c0*m))**2*(f_c**2*m**2 - 2*f_c*f_c0*m**2 + 2*f_c*m*(Z + bartau + f_c0*m) + f_c0**2*m**2 - 2*f_c0*m*(Z + bartau + f_c0*m) + (Z + bartau + f_c0*m)**2)**2/((f_c - f_c0)**2*(Z + bartau + f_c*m)**2))*(-Z - bartau - f_c*m)**2*(Z + bartau + f_c0*m)*(Z + bartau + 2*f_c*m - f_c0*m)),(tau_pi_x*(-X_x + tau_pi_x/(1 - omega_T))/(1 - omega_T)**2 + tau_pi_y*(-X_y + tau_pi_y/(1 - omega_T))/(1 - omega_T)**2)/sqrt((-X_x + tau_pi_x/(1 - omega_T))**2 + (-X_y + tau_pi_y/(1 - omega_T))**2)], default=nan)], [I*select([greater(O, (abs(sqrt((-X_x + tau_pi_x/(1 - omega_T))**2 + (-X_y + tau_pi_y/(1 - omega_T))**2)) - (Z + bartau)*(sig_pi/(-omega_N*Dummy_451 + 1) + f_t**2*m/(Z + bartau - 2*f_t*m))*(Z + bartau - 2*f_t*m)/(f_t**2*m))*sign(f_t)*sign(m)),greater(O, (abs(sqrt((-X_x + tau_pi_x/(1 - omega_T))**2 + (-X_y + tau_pi_y/(1 - omega_T))**2)) + (Z + bartau + f_c0*m)*(sig_pi/(-omega_N*Dummy_451 + 1) + f_c0 - m*(-f_c**2 + 2*f_c*f_c0 - f_c0**2)/(Z + bartau + 2*f_c*m - f_c0*m))*(Z + bartau + 2*f_c*m - f_c0*m)/(m*(-f_c**2 + 2*f_c*f_c0 - f_c0**2)))*sign(m)*sign(-f_c + f_c0)),True], [sig_pi*Dummy_451*(sig_pi/(-omega_N*Dummy_451 + 1) + f_t**2*m/(Z + bartau - 2*f_t*m))*(f_t**2*m**2 - 2*f_t*m*(Z + bartau) + (Z + bartau)**2)**2/(f_t**2*(-omega_N*Dummy_451 + 1)**2*sqrt(((-X_x + tau_pi_x/(1 - omega_T))**2 + (-X_y + tau_pi_y/(1 - omega_T))**2)*(f_t**2*m**2 - 2*f_t*m*(Z + bartau) + (Z + bartau)**2)**2/((Z + bartau)*(-Z - bartau + f_t*m)**2*(Z + bartau - 2*f_t*m)) + (sig_pi/(-omega_N*Dummy_451 + 1) + f_t**2*m/(Z + bartau - 2*f_t*m))**2*(f_t**2*m**2 - 2*f_t*m*(Z + bartau) + (Z + bartau)**2)**2/(f_t**2*(Z + bartau - f_t*m)**2))*(Z + bartau - f_t*m)**2),sig_pi*Dummy_451*(sig_pi/(-omega_N*Dummy_451 + 1) + f_c0 - m*(-f_c**2 + 2*f_c*f_c0 - f_c0**2)/(Z + bartau + 2*f_c*m - f_c0*m))*(f_c**2*m**2 - 2*f_c*f_c0*m**2 + 2*f_c*m*(Z + bartau + f_c0*m) + f_c0**2*m**2 - 2*f_c0*m*(Z + bartau + f_c0*m) + (Z + bartau + f_c0*m)**2)**2/((f_c - f_c0)**2*(-omega_N*Dummy_451 + 1)**2*sqrt(((-X_x + tau_pi_x/(1 - omega_T))**2 + (-X_y + tau_pi_y/(1 - omega_T))**2)*(f_c**2*m**2 - 2*f_c*f_c0*m**2 + 2*f_c*m*(Z + bartau + f_c0*m) + f_c0**2*m**2 - 2*f_c0*m*(Z + bartau + f_c0*m) + (Z + bartau + f_c0*m)**2)**2/((-Z - bartau - f_c*m)**2*(Z + bartau + f_c0*m)*(Z + bartau + 2*f_c*m - f_c0*m)) + (sig_pi/(-omega_N*Dummy_451 + 1) + f_c0 - m*(-f_c**2 + 2*f_c*f_c0 - f_c0**2)/(Z + bartau + 2*f_c*m - f_c0*m))**2*(f_c**2*m**2 - 2*f_c*f_c0*m**2 + 2*f_c*m*(Z + bartau + f_c0*m) + f_c0**2*m**2 - 2*f_c0*m*(Z + bartau + f_c0*m) + (Z + bartau + f_c0*m)**2)**2/((f_c - f_c0)**2*(Z + bartau + f_c*m)**2))*(Z + bartau + f_c*m)**2),sig_pi*Dummy_451*m/(-omega_N*Dummy_451 + 1)**2], default=nan)]]))\n",
      "<lambdifygenerated-10>:4: RuntimeWarning: invalid value encountered in true_divide\n",
      "  return (array([[select([less((abs(sqrt((-X_x + tau_pi_x/(1 - omega_T))**2 + (-X_y + tau_pi_y/(1 - omega_T))**2)) - (Z + bartau)*(sig_pi/(-omega_N*Dummy_457 + 1) + f_t**2*m/(Z + bartau - 2*f_t*m))*(Z + bartau - 2*f_t*m)/(f_t**2*m))*sign(f_t)*sign(m), 0),less((abs(sqrt((-X_x + tau_pi_x/(1 - omega_T))**2 + (-X_y + tau_pi_y/(1 - omega_T))**2)) + (Z + bartau + f_c0*m)*(sig_pi/(-omega_N*Dummy_457 + 1) + f_c0 - m*(-f_c**2 + 2*f_c*f_c0 - f_c0**2)/(Z + bartau + 2*f_c*m - f_c0*m))*(Z + bartau + 2*f_c*m - f_c0*m)/(m*(-f_c**2 + 2*f_c*f_c0 - f_c0**2)))*sign(m)*sign(-f_c + f_c0), 0),True], [(-X_x + tau_pi_x/(1 - omega_T))*(f_t**2*m**2 - 2*f_t*m*(Z + bartau) + (Z + bartau)**2)**2/((1 - omega_T)*(Z + bartau)*sqrt(((-X_x + tau_pi_x/(1 - omega_T))**2 + (-X_y + tau_pi_y/(1 - omega_T))**2)*(f_t**2*m**2 - 2*f_t*m*(Z + bartau) + (Z + bartau)**2)**2/((Z + bartau)*(-Z - bartau + f_t*m)**2*(Z + bartau - 2*f_t*m)) + (sig_pi/(-omega_N*Dummy_457 + 1) + f_t**2*m/(Z + bartau - 2*f_t*m))**2*(f_t**2*m**2 - 2*f_t*m*(Z + bartau) + (Z + bartau)**2)**2/(f_t**2*(Z + bartau - f_t*m)**2))*(-Z - bartau + f_t*m)**2*(Z + bartau - 2*f_t*m)),(-X_x + tau_pi_x/(1 - omega_T))*(f_c**2*m**2 - 2*f_c*f_c0*m**2 + 2*f_c*m*(Z + bartau + f_c0*m) + f_c0**2*m**2 - 2*f_c0*m*(Z + bartau + f_c0*m) + (Z + bartau + f_c0*m)**2)**2/((1 - omega_T)*sqrt(((-X_x + tau_pi_x/(1 - omega_T))**2 + (-X_y + tau_pi_y/(1 - omega_T))**2)*(f_c**2*m**2 - 2*f_c*f_c0*m**2 + 2*f_c*m*(Z + bartau + f_c0*m) + f_c0**2*m**2 - 2*f_c0*m*(Z + bartau + f_c0*m) + (Z + bartau + f_c0*m)**2)**2/((-Z - bartau - f_c*m)**2*(Z + bartau + f_c0*m)*(Z + bartau + 2*f_c*m - f_c0*m)) + (sig_pi/(-omega_N*Dummy_457 + 1) + f_c0 - m*(-f_c**2 + 2*f_c*f_c0 - f_c0**2)/(Z + bartau + 2*f_c*m - f_c0*m))**2*(f_c**2*m**2 - 2*f_c*f_c0*m**2 + 2*f_c*m*(Z + bartau + f_c0*m) + f_c0**2*m**2 - 2*f_c0*m*(Z + bartau + f_c0*m) + (Z + bartau + f_c0*m)**2)**2/((f_c - f_c0)**2*(Z + bartau + f_c*m)**2))*(-Z - bartau - f_c*m)**2*(Z + bartau + f_c0*m)*(Z + bartau + 2*f_c*m - f_c0*m)),(-X_x + tau_pi_x/(1 - omega_T))/((1 - omega_T)*sqrt((-X_x + tau_pi_x/(1 - omega_T))**2 + (-X_y + tau_pi_y/(1 - omega_T))**2))], default=nan)], [select([less((abs(sqrt((-X_x + tau_pi_x/(1 - omega_T))**2 + (-X_y + tau_pi_y/(1 - omega_T))**2)) - (Z + bartau)*(sig_pi/(-omega_N*Dummy_457 + 1) + f_t**2*m/(Z + bartau - 2*f_t*m))*(Z + bartau - 2*f_t*m)/(f_t**2*m))*sign(f_t)*sign(m), 0),less((abs(sqrt((-X_x + tau_pi_x/(1 - omega_T))**2 + (-X_y + tau_pi_y/(1 - omega_T))**2)) + (Z + bartau + f_c0*m)*(sig_pi/(-omega_N*Dummy_457 + 1) + f_c0 - m*(-f_c**2 + 2*f_c*f_c0 - f_c0**2)/(Z + bartau + 2*f_c*m - f_c0*m))*(Z + bartau + 2*f_c*m - f_c0*m)/(m*(-f_c**2 + 2*f_c*f_c0 - f_c0**2)))*sign(m)*sign(-f_c + f_c0), 0),True], [(-X_y + tau_pi_y/(1 - omega_T))*(f_t**2*m**2 - 2*f_t*m*(Z + bartau) + (Z + bartau)**2)**2/((1 - omega_T)*(Z + bartau)*sqrt(((-X_x + tau_pi_x/(1 - omega_T))**2 + (-X_y + tau_pi_y/(1 - omega_T))**2)*(f_t**2*m**2 - 2*f_t*m*(Z + bartau) + (Z + bartau)**2)**2/((Z + bartau)*(-Z - bartau + f_t*m)**2*(Z + bartau - 2*f_t*m)) + (sig_pi/(-omega_N*Dummy_457 + 1) + f_t**2*m/(Z + bartau - 2*f_t*m))**2*(f_t**2*m**2 - 2*f_t*m*(Z + bartau) + (Z + bartau)**2)**2/(f_t**2*(Z + bartau - f_t*m)**2))*(-Z - bartau + f_t*m)**2*(Z + bartau - 2*f_t*m)),(-X_y + tau_pi_y/(1 - omega_T))*(f_c**2*m**2 - 2*f_c*f_c0*m**2 + 2*f_c*m*(Z + bartau + f_c0*m) + f_c0**2*m**2 - 2*f_c0*m*(Z + bartau + f_c0*m) + (Z + bartau + f_c0*m)**2)**2/((1 - omega_T)*sqrt(((-X_x + tau_pi_x/(1 - omega_T))**2 + (-X_y + tau_pi_y/(1 - omega_T))**2)*(f_c**2*m**2 - 2*f_c*f_c0*m**2 + 2*f_c*m*(Z + bartau + f_c0*m) + f_c0**2*m**2 - 2*f_c0*m*(Z + bartau + f_c0*m) + (Z + bartau + f_c0*m)**2)**2/((-Z - bartau - f_c*m)**2*(Z + bartau + f_c0*m)*(Z + bartau + 2*f_c*m - f_c0*m)) + (sig_pi/(-omega_N*Dummy_457 + 1) + f_c0 - m*(-f_c**2 + 2*f_c*f_c0 - f_c0**2)/(Z + bartau + 2*f_c*m - f_c0*m))**2*(f_c**2*m**2 - 2*f_c*f_c0*m**2 + 2*f_c*m*(Z + bartau + f_c0*m) + f_c0**2*m**2 - 2*f_c0*m*(Z + bartau + f_c0*m) + (Z + bartau + f_c0*m)**2)**2/((f_c - f_c0)**2*(Z + bartau + f_c*m)**2))*(-Z - bartau - f_c*m)**2*(Z + bartau + f_c0*m)*(Z + bartau + 2*f_c*m - f_c0*m)),(-X_y + tau_pi_y/(1 - omega_T))/((1 - omega_T)*sqrt((-X_x + tau_pi_x/(1 - omega_T))**2 + (-X_y + tau_pi_y/(1 - omega_T))**2))], default=nan)], [select([less((abs(sqrt((-X_x + tau_pi_x/(1 - omega_T))**2 + (-X_y + tau_pi_y/(1 - omega_T))**2)) - (Z + bartau)*(sig_pi/(-omega_N*Dummy_457 + 1) + f_t**2*m/(Z + bartau - 2*f_t*m))*(Z + bartau - 2*f_t*m)/(f_t**2*m))*sign(f_t)*sign(m), 0),less((abs(sqrt((-X_x + tau_pi_x/(1 - omega_T))**2 + (-X_y + tau_pi_y/(1 - omega_T))**2)) + (Z + bartau + f_c0*m)*(sig_pi/(-omega_N*Dummy_457 + 1) + f_c0 - m*(-f_c**2 + 2*f_c*f_c0 - f_c0**2)/(Z + bartau + 2*f_c*m - f_c0*m))*(Z + bartau + 2*f_c*m - f_c0*m)/(m*(-f_c**2 + 2*f_c*f_c0 - f_c0**2)))*sign(m)*sign(-f_c + f_c0), 0),True], [(sig_pi/(-omega_N*Dummy_457 + 1) + f_t**2*m/(Z + bartau - 2*f_t*m))*(f_t**2*m**2 - 2*f_t*m*(Z + bartau) + (Z + bartau)**2)**2/(f_t**2*(-omega_N*Dummy_457 + 1)*sqrt(((-X_x + tau_pi_x/(1 - omega_T))**2 + (-X_y + tau_pi_y/(1 - omega_T))**2)*(f_t**2*m**2 - 2*f_t*m*(Z + bartau) + (Z + bartau)**2)**2/((Z + bartau)*(-Z - bartau + f_t*m)**2*(Z + bartau - 2*f_t*m)) + (sig_pi/(-omega_N*Dummy_457 + 1) + f_t**2*m/(Z + bartau - 2*f_t*m))**2*(f_t**2*m**2 - 2*f_t*m*(Z + bartau) + (Z + bartau)**2)**2/(f_t**2*(Z + bartau - f_t*m)**2))*(Z + bartau - f_t*m)**2),(sig_pi/(-omega_N*Dummy_457 + 1) + f_c0 - m*(-f_c**2 + 2*f_c*f_c0 - f_c0**2)/(Z + bartau + 2*f_c*m - f_c0*m))*(f_c**2*m**2 - 2*f_c*f_c0*m**2 + 2*f_c*m*(Z + bartau + f_c0*m) + f_c0**2*m**2 - 2*f_c0*m*(Z + bartau + f_c0*m) + (Z + bartau + f_c0*m)**2)**2/((f_c - f_c0)**2*(-omega_N*Dummy_457 + 1)*sqrt(((-X_x + tau_pi_x/(1 - omega_T))**2 + (-X_y + tau_pi_y/(1 - omega_T))**2)*(f_c**2*m**2 - 2*f_c*f_c0*m**2 + 2*f_c*m*(Z + bartau + f_c0*m) + f_c0**2*m**2 - 2*f_c0*m*(Z + bartau + f_c0*m) + (Z + bartau + f_c0*m)**2)**2/((-Z - bartau - f_c*m)**2*(Z + bartau + f_c0*m)*(Z + bartau + 2*f_c*m - f_c0*m)) + (sig_pi/(-omega_N*Dummy_457 + 1) + f_c0 - m*(-f_c**2 + 2*f_c*f_c0 - f_c0**2)/(Z + bartau + 2*f_c*m - f_c0*m))**2*(f_c**2*m**2 - 2*f_c*f_c0*m**2 + 2*f_c*m*(Z + bartau + f_c0*m) + f_c0**2*m**2 - 2*f_c0*m*(Z + bartau + f_c0*m) + (Z + bartau + f_c0*m)**2)**2/((f_c - f_c0)**2*(Z + bartau + f_c*m)**2))*(Z + bartau + f_c*m)**2),m/(-omega_N*Dummy_457 + 1)], default=nan)], [-select([less((abs(sqrt((-X_x + tau_pi_x/(1 - omega_T))**2 + (-X_y + tau_pi_y/(1 - omega_T))**2)) - (Z + bartau)*(sig_pi/(-omega_N*Dummy_457 + 1) + f_t**2*m/(Z + bartau - 2*f_t*m))*(Z + bartau - 2*f_t*m)/(f_t**2*m))*sign(f_t)*sign(m), 0),less((abs(sqrt((-X_x + tau_pi_x/(1 - omega_T))**2 + (-X_y + tau_pi_y/(1 - omega_T))**2)) + (Z + bartau + f_c0*m)*(sig_pi/(-omega_N*Dummy_457 + 1) + f_c0 - m*(-f_c**2 + 2*f_c*f_c0 - f_c0**2)/(Z + bartau + 2*f_c*m - f_c0*m))*(Z + bartau + 2*f_c*m - f_c0*m)/(m*(-f_c**2 + 2*f_c*f_c0 - f_c0**2)))*sign(m)*sign(-f_c + f_c0), 0),True], [-(2*Z + 2*bartau - 2*f_t*m)/(Z + bartau - 2*f_t*m) + (f_t**2*m**2 - 2*f_t*m*(Z + bartau) + (Z + bartau)**2)/(Z + bartau - 2*f_t*m)**2 + (-m*(sig_pi/(-omega_N*Dummy_457 + 1) + f_t**2*m/(Z + bartau - 2*f_t*m))*(f_t**2*m**2 - 2*f_t*m*(Z + bartau) + (Z + bartau)**2)**2/((Z + bartau - 2*f_t*m)**2*(Z + bartau - f_t*m)**2) + (1/2)*((-X_x + tau_pi_x/(1 - omega_T))**2 + (-X_y + tau_pi_y/(1 - omega_T))**2)*(4*Z + 4*bartau - 4*f_t*m)*(f_t**2*m**2 - 2*f_t*m*(Z + bartau) + (Z + bartau)**2)/((Z + bartau)*(-Z - bartau + f_t*m)**2*(Z + bartau - 2*f_t*m)) - 1/2*((-X_x + tau_pi_x/(1 - omega_T))**2 + (-X_y + tau_pi_y/(1 - omega_T))**2)*(f_t**2*m**2 - 2*f_t*m*(Z + bartau) + (Z + bartau)**2)**2/((Z + bartau)*(-Z - bartau + f_t*m)**2*(Z + bartau - 2*f_t*m)**2) + ((-X_x + tau_pi_x/(1 - omega_T))**2 + (-X_y + tau_pi_y/(1 - omega_T))**2)*(f_t**2*m**2 - 2*f_t*m*(Z + bartau) + (Z + bartau)**2)**2/((Z + bartau)*(-Z - bartau + f_t*m)**3*(Z + bartau - 2*f_t*m)) - 1/2*((-X_x + tau_pi_x/(1 - omega_T))**2 + (-X_y + tau_pi_y/(1 - omega_T))**2)*(f_t**2*m**2 - 2*f_t*m*(Z + bartau) + (Z + bartau)**2)**2/((Z + bartau)**2*(-Z - bartau + f_t*m)**2*(Z + bartau - 2*f_t*m)) + (1/2)*(sig_pi/(-omega_N*Dummy_457 + 1) + f_t**2*m/(Z + bartau - 2*f_t*m))**2*(4*Z + 4*bartau - 4*f_t*m)*(f_t**2*m**2 - 2*f_t*m*(Z + bartau) + (Z + bartau)**2)/(f_t**2*(Z + bartau - f_t*m)**2) - (sig_pi/(-omega_N*Dummy_457 + 1) + f_t**2*m/(Z + bartau - 2*f_t*m))**2*(f_t**2*m**2 - 2*f_t*m*(Z + bartau) + (Z + bartau)**2)**2/(f_t**2*(Z + bartau - f_t*m)**3))/sqrt(((-X_x + tau_pi_x/(1 - omega_T))**2 + (-X_y + tau_pi_y/(1 - omega_T))**2)*(f_t**2*m**2 - 2*f_t*m*(Z + bartau) + (Z + bartau)**2)**2/((Z + bartau)*(-Z - bartau + f_t*m)**2*(Z + bartau - 2*f_t*m)) + (sig_pi/(-omega_N*Dummy_457 + 1) + f_t**2*m/(Z + bartau - 2*f_t*m))**2*(f_t**2*m**2 - 2*f_t*m*(Z + bartau) + (Z + bartau)**2)**2/(f_t**2*(Z + bartau - f_t*m)**2)),-(2*Z + 2*bartau + 2*f_c*m)/(Z + bartau + 2*f_c*m - f_c0*m) + (f_c**2*m**2 - 2*f_c*f_c0*m**2 + 2*f_c*m*(Z + bartau + f_c0*m) + f_c0**2*m**2 - 2*f_c0*m*(Z + bartau + f_c0*m) + (Z + bartau + f_c0*m)**2)/(Z + bartau + 2*f_c*m - f_c0*m)**2 + (m*(-f_c**2 + 2*f_c*f_c0 - f_c0**2)*(sig_pi/(-omega_N*Dummy_457 + 1) + f_c0 - m*(-f_c**2 + 2*f_c*f_c0 - f_c0**2)/(Z + bartau + 2*f_c*m - f_c0*m))*(f_c**2*m**2 - 2*f_c*f_c0*m**2 + 2*f_c*m*(Z + bartau + f_c0*m) + f_c0**2*m**2 - 2*f_c0*m*(Z + bartau + f_c0*m) + (Z + bartau + f_c0*m)**2)**2/((f_c - f_c0)**2*(Z + bartau + f_c*m)**2*(Z + bartau + 2*f_c*m - f_c0*m)**2) + (1/2)*((-X_x + tau_pi_x/(1 - omega_T))**2 + (-X_y + tau_pi_y/(1 - omega_T))**2)*(4*Z + 4*bartau + 4*f_c*m)*(f_c**2*m**2 - 2*f_c*f_c0*m**2 + 2*f_c*m*(Z + bartau + f_c0*m) + f_c0**2*m**2 - 2*f_c0*m*(Z + bartau + f_c0*m) + (Z + bartau + f_c0*m)**2)/((-Z - bartau - f_c*m)**2*(Z + bartau + f_c0*m)*(Z + bartau + 2*f_c*m - f_c0*m)) - 1/2*((-X_x + tau_pi_x/(1 - omega_T))**2 + (-X_y + tau_pi_y/(1 - omega_T))**2)*(f_c**2*m**2 - 2*f_c*f_c0*m**2 + 2*f_c*m*(Z + bartau + f_c0*m) + f_c0**2*m**2 - 2*f_c0*m*(Z + bartau + f_c0*m) + (Z + bartau + f_c0*m)**2)**2/((-Z - bartau - f_c*m)**2*(Z + bartau + f_c0*m)*(Z + bartau + 2*f_c*m - f_c0*m)**2) - 1/2*((-X_x + tau_pi_x/(1 - omega_T))**2 + (-X_y + tau_pi_y/(1 - omega_T))**2)*(f_c**2*m**2 - 2*f_c*f_c0*m**2 + 2*f_c*m*(Z + bartau + f_c0*m) + f_c0**2*m**2 - 2*f_c0*m*(Z + bartau + f_c0*m) + (Z + bartau + f_c0*m)**2)**2/((-Z - bartau - f_c*m)**2*(Z + bartau + f_c0*m)**2*(Z + bartau + 2*f_c*m - f_c0*m)) + ((-X_x + tau_pi_x/(1 - omega_T))**2 + (-X_y + tau_pi_y/(1 - omega_T))**2)*(f_c**2*m**2 - 2*f_c*f_c0*m**2 + 2*f_c*m*(Z + bartau + f_c0*m) + f_c0**2*m**2 - 2*f_c0*m*(Z + bartau + f_c0*m) + (Z + bartau + f_c0*m)**2)**2/((-Z - bartau - f_c*m)**3*(Z + bartau + f_c0*m)*(Z + bartau + 2*f_c*m - f_c0*m)) + (1/2)*(4*Z + 4*bartau + 4*f_c*m)*(sig_pi/(-omega_N*Dummy_457 + 1) + f_c0 - m*(-f_c**2 + 2*f_c*f_c0 - f_c0**2)/(Z + bartau + 2*f_c*m - f_c0*m))**2*(f_c**2*m**2 - 2*f_c*f_c0*m**2 + 2*f_c*m*(Z + bartau + f_c0*m) + f_c0**2*m**2 - 2*f_c0*m*(Z + bartau + f_c0*m) + (Z + bartau + f_c0*m)**2)/((f_c - f_c0)**2*(Z + bartau + f_c*m)**2) - (sig_pi/(-omega_N*Dummy_457 + 1) + f_c0 - m*(-f_c**2 + 2*f_c*f_c0 - f_c0**2)/(Z + bartau + 2*f_c*m - f_c0*m))**2*(f_c**2*m**2 - 2*f_c*f_c0*m**2 + 2*f_c*m*(Z + bartau + f_c0*m) + f_c0**2*m**2 - 2*f_c0*m*(Z + bartau + f_c0*m) + (Z + bartau + f_c0*m)**2)**2/((f_c - f_c0)**2*(Z + bartau + f_c*m)**3))/sqrt(((-X_x + tau_pi_x/(1 - omega_T))**2 + (-X_y + tau_pi_y/(1 - omega_T))**2)*(f_c**2*m**2 - 2*f_c*f_c0*m**2 + 2*f_c*m*(Z + bartau + f_c0*m) + f_c0**2*m**2 - 2*f_c0*m*(Z + bartau + f_c0*m) + (Z + bartau + f_c0*m)**2)**2/((-Z - bartau - f_c*m)**2*(Z + bartau + f_c0*m)*(Z + bartau + 2*f_c*m - f_c0*m)) + (sig_pi/(-omega_N*Dummy_457 + 1) + f_c0 - m*(-f_c**2 + 2*f_c*f_c0 - f_c0**2)/(Z + bartau + 2*f_c*m - f_c0*m))**2*(f_c**2*m**2 - 2*f_c*f_c0*m**2 + 2*f_c*m*(Z + bartau + f_c0*m) + f_c0**2*m**2 - 2*f_c0*m*(Z + bartau + f_c0*m) + (Z + bartau + f_c0*m)**2)**2/((f_c - f_c0)**2*(Z + bartau + f_c*m)**2)),-1], default=nan)], [-select([less((abs(sqrt((-X_x + tau_pi_x/(1 - omega_T))**2 + (-X_y + tau_pi_y/(1 - omega_T))**2)) - (Z + bartau)*(sig_pi/(-omega_N*Dummy_457 + 1) + f_t**2*m/(Z + bartau - 2*f_t*m))*(Z + bartau - 2*f_t*m)/(f_t**2*m))*sign(f_t)*sign(m), 0),less((abs(sqrt((-X_x + tau_pi_x/(1 - omega_T))**2 + (-X_y + tau_pi_y/(1 - omega_T))**2)) + (Z + bartau + f_c0*m)*(sig_pi/(-omega_N*Dummy_457 + 1) + f_c0 - m*(-f_c**2 + 2*f_c*f_c0 - f_c0**2)/(Z + bartau + 2*f_c*m - f_c0*m))*(Z + bartau + 2*f_c*m - f_c0*m)/(m*(-f_c**2 + 2*f_c*f_c0 - f_c0**2)))*sign(m)*sign(-f_c + f_c0), 0),True], [(1/2)*(2*X_x - 2*tau_pi_x/(1 - omega_T))*(f_t**2*m**2 - 2*f_t*m*(Z + bartau) + (Z + bartau)**2)**2/((Z + bartau)*sqrt(((-X_x + tau_pi_x/(1 - omega_T))**2 + (-X_y + tau_pi_y/(1 - omega_T))**2)*(f_t**2*m**2 - 2*f_t*m*(Z + bartau) + (Z + bartau)**2)**2/((Z + bartau)*(-Z - bartau + f_t*m)**2*(Z + bartau - 2*f_t*m)) + (sig_pi/(-omega_N*Dummy_457 + 1) + f_t**2*m/(Z + bartau - 2*f_t*m))**2*(f_t**2*m**2 - 2*f_t*m*(Z + bartau) + (Z + bartau)**2)**2/(f_t**2*(Z + bartau - f_t*m)**2))*(-Z - bartau + f_t*m)**2*(Z + bartau - 2*f_t*m)),(1/2)*(2*X_x - 2*tau_pi_x/(1 - omega_T))*(f_c**2*m**2 - 2*f_c*f_c0*m**2 + 2*f_c*m*(Z + bartau + f_c0*m) + f_c0**2*m**2 - 2*f_c0*m*(Z + bartau + f_c0*m) + (Z + bartau + f_c0*m)**2)**2/(sqrt(((-X_x + tau_pi_x/(1 - omega_T))**2 + (-X_y + tau_pi_y/(1 - omega_T))**2)*(f_c**2*m**2 - 2*f_c*f_c0*m**2 + 2*f_c*m*(Z + bartau + f_c0*m) + f_c0**2*m**2 - 2*f_c0*m*(Z + bartau + f_c0*m) + (Z + bartau + f_c0*m)**2)**2/((-Z - bartau - f_c*m)**2*(Z + bartau + f_c0*m)*(Z + bartau + 2*f_c*m - f_c0*m)) + (sig_pi/(-omega_N*Dummy_457 + 1) + f_c0 - m*(-f_c**2 + 2*f_c*f_c0 - f_c0**2)/(Z + bartau + 2*f_c*m - f_c0*m))**2*(f_c**2*m**2 - 2*f_c*f_c0*m**2 + 2*f_c*m*(Z + bartau + f_c0*m) + f_c0**2*m**2 - 2*f_c0*m*(Z + bartau + f_c0*m) + (Z + bartau + f_c0*m)**2)**2/((f_c - f_c0)**2*(Z + bartau + f_c*m)**2))*(-Z - bartau - f_c*m)**2*(Z + bartau + f_c0*m)*(Z + bartau + 2*f_c*m - f_c0*m)),(X_x - tau_pi_x/(1 - omega_T))/sqrt((-X_x + tau_pi_x/(1 - omega_T))**2 + (-X_y + tau_pi_y/(1 - omega_T))**2)], default=nan)], [-select([less((abs(sqrt((-X_x + tau_pi_x/(1 - omega_T))**2 + (-X_y + tau_pi_y/(1 - omega_T))**2)) - (Z + bartau)*(sig_pi/(-omega_N*Dummy_457 + 1) + f_t**2*m/(Z + bartau - 2*f_t*m))*(Z + bartau - 2*f_t*m)/(f_t**2*m))*sign(f_t)*sign(m), 0),less((abs(sqrt((-X_x + tau_pi_x/(1 - omega_T))**2 + (-X_y + tau_pi_y/(1 - omega_T))**2)) + (Z + bartau + f_c0*m)*(sig_pi/(-omega_N*Dummy_457 + 1) + f_c0 - m*(-f_c**2 + 2*f_c*f_c0 - f_c0**2)/(Z + bartau + 2*f_c*m - f_c0*m))*(Z + bartau + 2*f_c*m - f_c0*m)/(m*(-f_c**2 + 2*f_c*f_c0 - f_c0**2)))*sign(m)*sign(-f_c + f_c0), 0),True], [(1/2)*(2*X_y - 2*tau_pi_y/(1 - omega_T))*(f_t**2*m**2 - 2*f_t*m*(Z + bartau) + (Z + bartau)**2)**2/((Z + bartau)*sqrt(((-X_x + tau_pi_x/(1 - omega_T))**2 + (-X_y + tau_pi_y/(1 - omega_T))**2)*(f_t**2*m**2 - 2*f_t*m*(Z + bartau) + (Z + bartau)**2)**2/((Z + bartau)*(-Z - bartau + f_t*m)**2*(Z + bartau - 2*f_t*m)) + (sig_pi/(-omega_N*Dummy_457 + 1) + f_t**2*m/(Z + bartau - 2*f_t*m))**2*(f_t**2*m**2 - 2*f_t*m*(Z + bartau) + (Z + bartau)**2)**2/(f_t**2*(Z + bartau - f_t*m)**2))*(-Z - bartau + f_t*m)**2*(Z + bartau - 2*f_t*m)),(1/2)*(2*X_y - 2*tau_pi_y/(1 - omega_T))*(f_c**2*m**2 - 2*f_c*f_c0*m**2 + 2*f_c*m*(Z + bartau + f_c0*m) + f_c0**2*m**2 - 2*f_c0*m*(Z + bartau + f_c0*m) + (Z + bartau + f_c0*m)**2)**2/(sqrt(((-X_x + tau_pi_x/(1 - omega_T))**2 + (-X_y + tau_pi_y/(1 - omega_T))**2)*(f_c**2*m**2 - 2*f_c*f_c0*m**2 + 2*f_c*m*(Z + bartau + f_c0*m) + f_c0**2*m**2 - 2*f_c0*m*(Z + bartau + f_c0*m) + (Z + bartau + f_c0*m)**2)**2/((-Z - bartau - f_c*m)**2*(Z + bartau + f_c0*m)*(Z + bartau + 2*f_c*m - f_c0*m)) + (sig_pi/(-omega_N*Dummy_457 + 1) + f_c0 - m*(-f_c**2 + 2*f_c*f_c0 - f_c0**2)/(Z + bartau + 2*f_c*m - f_c0*m))**2*(f_c**2*m**2 - 2*f_c*f_c0*m**2 + 2*f_c*m*(Z + bartau + f_c0*m) + f_c0**2*m**2 - 2*f_c0*m*(Z + bartau + f_c0*m) + (Z + bartau + f_c0*m)**2)**2/((f_c - f_c0)**2*(Z + bartau + f_c*m)**2))*(-Z - bartau - f_c*m)**2*(Z + bartau + f_c0*m)*(Z + bartau + 2*f_c*m - f_c0*m)),(X_y - tau_pi_y/(1 - omega_T))/sqrt((-X_x + tau_pi_x/(1 - omega_T))**2 + (-X_y + tau_pi_y/(1 - omega_T))**2)], default=nan)], [(1/2)*eta*((1 - omega_N)*(1 - omega_T))**((1/2)*c_NT)*(2*Y_N + 2*Y_T)/S_NT + Y_T*(1 - eta)*(1 - omega_T)**c_T/S_T], [(1/2)*eta*((1 - omega_N)*(1 - omega_T))**((1/2)*c_NT)*(2*Y_N + 2*Y_T)/S_NT + Y_N*Dummy_457*(1 - eta)*(1 - omega_N)**c_N/S_N]]))\n"
     ]
    },
    {
     "name": "stdout",
     "output_type": "stream",
     "text": [
      "(0), \n",
      "\t 0.10(5), \n",
      "\t 0.20(7), \n",
      "\t 0.30(7), \n",
      "\t 0.40(7), \n",
      "\t 0.50(7), \n",
      "\t 0.60(7), \n",
      "\t 0.70(7), \n",
      "\t 0.80(7), \n",
      "\t 0.90(7), \n",
      "\t 1.00(7), \n",
      "\n"
     ]
    }
   ],
   "source": [
    "xd12.hidden = True\n",
    "s.run()"
   ]
  },
  {
   "cell_type": "code",
   "execution_count": 9,
   "id": "1ebb112a-bf50-4f76-b4b5-8c295e2fa522",
   "metadata": {},
   "outputs": [],
   "source": [
    "f_strain = mlab.figure()\n",
    "strain_viz = Viz3DTensorField(vis3d=s.hist['strain'])\n",
    "strain_viz.setup()\n",
    "strain_viz.warp_vector.filter.scale_factor = 100.0\n",
    "strain_viz.plot(s.tstep.t_n)\n",
    "strain_viz.etc.filter\n",
    "strain_viz.d.timestep=10"
   ]
  },
  {
   "cell_type": "code",
   "execution_count": 10,
   "id": "b1bba9b8-ba81-4a53-93ad-880057a93af1",
   "metadata": {},
   "outputs": [
    {
     "name": "stdout",
     "output_type": "stream",
     "text": [
      "Notebook initialized with ipy backend.\n"
     ]
    },
    {
     "data": {
      "application/vnd.jupyter.widget-view+json": {
       "model_id": "bbee675b6b534c2a8fbdcfb8cdd4bcc5",
       "version_major": 2,
       "version_minor": 0
      },
      "text/plain": [
       "Image(value=b'\\x89PNG\\r\\n\\x1a\\n\\x00\\x00\\x00\\rIHDR\\x00\\x00\\x01\\x90\\x00\\x00\\x01^\\x08\\x02\\x00\\x00\\x00$?\\xde_\\x00\\…"
      ]
     },
     "metadata": {},
     "output_type": "display_data"
    }
   ],
   "source": [
    "mlab.init_notebook(backend='ipy')\n",
    "mlab.test_plot3d()"
   ]
  },
  {
   "cell_type": "code",
   "execution_count": 11,
   "id": "32dc5f43",
   "metadata": {},
   "outputs": [
    {
     "data": {
      "text/plain": [
       "<tvtk.tvtk_classes.extract_tensor_components.ExtractTensorComponents at 0x7f413408c3b0>"
      ]
     },
     "execution_count": 11,
     "metadata": {},
     "output_type": "execute_result"
    }
   ],
   "source": [
    "#mlab.options.offscreen = True # 'envisage'\n",
    "#f_strain = mlab.figure()\n",
    "#scene = mlab.get_engine().scenes[-1]\n",
    "#scene.name = 'strain'\n",
    "strain_viz = Viz3DTensorField(vis3d=s.hist['strain'])\n",
    "strain_viz.setup()\n",
    "strain_viz.warp_vector.filter.scale_factor = 100.0\n",
    "strain_viz.plot(s.tstep.t_n)\n",
    "strain_viz.etc.filter\n"
   ]
  },
  {
   "cell_type": "code",
   "execution_count": 12,
   "id": "f8d9d54e",
   "metadata": {
    "pycharm": {
     "name": "#%%\n"
    }
   },
   "outputs": [
    {
     "data": {
      "text/plain": [
       "(vtkmodules.vtkCommonDataModel.vtkPolyData)0x7f412c070b80"
      ]
     },
     "execution_count": 12,
     "metadata": {},
     "output_type": "execute_result"
    }
   ],
   "source": [
    "from tvtk.api import tvtk\n",
    "surf_tvtk = mlab.pipeline.get_vtk_src(strain_viz.surface)[0]\n",
    "surf_vtk = tvtk.to_vtk(surf_tvtk)\n",
    "surf_vtk"
   ]
  },
  {
   "cell_type": "code",
   "execution_count": 13,
   "id": "921cd799-9b0c-4f95-8cee-ce22f935bc02",
   "metadata": {},
   "outputs": [],
   "source": [
    "mlab.options.backend = 'envisage'\n",
    "mlab.options.offscreen = False # 'envisage'\n",
    "f_strain = mlab.figure()\n",
    "scene = mlab.get_engine().scenes[-1]\n",
    "scene.name = 'strain'\n",
    "strain_viz = Viz3DTensorField(vis3d=s.hist['strain'])\n",
    "strain_viz.setup()\n",
    "strain_viz.warp_vector.filter.scale_factor = 100.0\n",
    "strain_viz.plot(s.tstep.t_n)\n",
    "strain_viz.etc.filter\n",
    "decorate_figure(f_strain, strain_viz, 200, [70, 20, 0])\n",
    "\n",
    "mlab.show()"
   ]
  },
  {
   "cell_type": "code",
   "execution_count": null,
   "id": "18e27788",
   "metadata": {},
   "outputs": [],
   "source": [
    "import k3d\n",
    "\n",
    "model_matrix = (\n",
    "     10.0,  0.0, 0.0, 0.0,\n",
    "     0.0,  10.0, 0.0, 0.0,\n",
    "     0.0,  0.0, 10.0, 0.0,\n",
    "     0.0,  0.0, 0.0, 1.0\n",
    ")\n",
    "plot = k3d.plot()\n",
    "cow3d = k3d.vtk_poly_data(surf_vtk)\n",
    "#                         color_map=k3d.basic_color_maps.Jet, model_matrix=model_matrix)\n",
    "plot += cow3d\n",
    "plot.display()"
   ]
  },
  {
   "cell_type": "code",
   "execution_count": null,
   "id": "98a2c82d-15bb-4fb9-af36-f39f0e7a483c",
   "metadata": {},
   "outputs": [],
   "source": [
    "\n",
    "if False:\n",
    "    f_damage = mlab.figure()\n",
    "    scene = mlab.get_engine().scenes[-1]\n",
    "    scene.name = 'damage'\n",
    "    damage_viz = Viz3DScalarField(vis3d=s.hist['damage'])\n",
    "    damage_viz.setup()\n",
    "    damage_viz.warp_vector.filter.scale_factor = 100.0\n",
    "    damage_viz.plot(s.tstep.t_n)\n",
    "\n",
    "#decorate_figure(f_damage, damage_viz)\n",
    "decorate_figure(f_strain, strain_viz)\n",
    "mlab.show()"
   ]
  },
  {
   "cell_type": "code",
   "execution_count": null,
   "id": "17e78cfd-5ec5-4636-8c1e-c5584bf3aa18",
   "metadata": {},
   "outputs": [],
   "source": [
    "from mayavi.scripts import mayavi2"
   ]
  },
  {
   "cell_type": "code",
   "execution_count": null,
   "id": "3eaf4d62-c745-4f87-88f7-ecb802de6c69",
   "metadata": {},
   "outputs": [],
   "source": [
    "@mayavi2.standalone\n",
    "def view():\n",
    "    from mayavi.sources.vtk_data_source import VTKDataSource\n",
    "    from mayavi.modules.api import Outline, GridPlane\n",
    "\n",
    "    mayavi.new_scene()\n",
    "    src = VTKDataSource(data=sgrid)\n",
    "    mayavi.add_source(src)\n",
    "    mayavi.add_module(Outline())\n",
    "    g = GridPlane()\n",
    "    g.grid_plane.axis = 'x'\n",
    "    mayavi.add_module(g)\n",
    "    g = GridPlane()\n",
    "    g.grid_plane.axis = 'y'\n",
    "    mayavi.add_module(g)\n",
    "    g = GridPlane()\n",
    "    g.grid_plane.axis = 'z'\n",
    "    mayavi.add_module(g)\n",
    "\n",
    "view()\n"
   ]
  },
  {
   "cell_type": "code",
   "execution_count": null,
   "id": "5da180a4-2a1e-4029-80dc-125ea5fc637c",
   "metadata": {},
   "outputs": [],
   "source": []
  }
 ],
 "metadata": {
  "kernelspec": {
   "display_name": "bmcs_env",
   "language": "python",
   "name": "bmcs_env"
  },
  "language_info": {
   "codemirror_mode": {
    "name": "ipython",
    "version": 3
   },
   "file_extension": ".py",
   "mimetype": "text/x-python",
   "name": "python",
   "nbconvert_exporter": "python",
   "pygments_lexer": "ipython3",
   "version": "3.8.8"
  },
  "toc": {
   "base_numbering": 1,
   "nav_menu": {},
   "number_sections": true,
   "sideBar": true,
   "skip_h1_title": false,
   "title_cell": "Table of Contents",
   "title_sidebar": "Contents",
   "toc_cell": false,
   "toc_position": {},
   "toc_section_display": true,
   "toc_window_display": false
  }
 },
 "nbformat": 4,
 "nbformat_minor": 5
}
