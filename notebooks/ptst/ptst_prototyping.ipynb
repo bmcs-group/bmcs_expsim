{
 "cells": [
  {
   "cell_type": "markdown",
   "id": "4faf2840",
   "metadata": {},
   "source": [
    "# Axisim Punch-Through Shear Test"
   ]
  },
  {
   "cell_type": "markdown",
   "id": "57d69647-096b-4cdc-96bd-df4f418f617f",
   "metadata": {},
   "source": [
    "This example couples two domains via an zero-thickness interface. "
   ]
  },
  {
   "cell_type": "markdown",
   "id": "7d2814c0-0e91-4154-ae5e-f24918a0b1d0",
   "metadata": {},
   "source": [
    "State - 2021-07-12 [RC]:\n",
    "\n",
    "- Slide34 included with not verified material parameters. The push through test is running for a small step size\n",
    "- Change of the parameters to brittle response leads to convergence problems at the transition to inelastic state\n",
    "- Either initial or secant stiffness has been used     "
   ]
  },
  {
   "cell_type": "code",
   "execution_count": 1,
   "id": "5453e041-98d8-4951-923c-b64809a003dd",
   "metadata": {},
   "outputs": [],
   "source": [
    "%matplotlib widget\n",
    "import time\n",
    "from bmcs_expsim.utils.mlab_decorators import decorate_figure\n",
    "from mayavi import mlab\n",
    "import numpy as np\n",
    "import warnings\n",
    "import matplotlib.pylab as plt"
   ]
  },
  {
   "cell_type": "code",
   "execution_count": 2,
   "id": "cd92087f",
   "metadata": {},
   "outputs": [],
   "source": [
    "from ibvpy.api import TStepBC\n",
    "from ibvpy.bcond import BCSlice\n",
    "from ibvpy.xmodel.xdomain_fe_grid_axisym import XDomainFEGridAxiSym\n",
    "from ibvpy.xmodel.xdomain_interface import XDomainFEInterface"
   ]
  },
  {
   "cell_type": "code",
   "execution_count": 3,
   "id": "0af3b921",
   "metadata": {},
   "outputs": [],
   "source": [
    "from ibvpy.fets import FETS2D4Q\n",
    "from ibvpy.fets.fets1D5 import FETS1D52ULRH"
   ]
  },
  {
   "cell_type": "code",
   "execution_count": 4,
   "id": "c303f4c4",
   "metadata": {},
   "outputs": [],
   "source": [
    "from ibvpy.tmodel.viz3d_scalar_field import \\\n",
    "    Vis3DStateField, Viz3DScalarField\n",
    "from ibvpy.tmodel.viz3d_tensor_field import \\\n",
    "    Vis3DTensorField, Viz3DTensorField"
   ]
  },
  {
   "cell_type": "markdown",
   "id": "35b16d33",
   "metadata": {},
   "source": [
    "# Material models"
   ]
  },
  {
   "cell_type": "code",
   "execution_count": 5,
   "id": "12b9248d-6ee7-4b0c-ac3b-7c66012a2343",
   "metadata": {},
   "outputs": [],
   "source": [
    "from bmcs_matmod.slide.vslide_34 import Slide34\n",
    "from ibvpy.tmodel.mats3D.mats3D_elastic.vmats3D_elastic import \\\n",
    "    MATS3DElastic"
   ]
  },
  {
   "cell_type": "markdown",
   "id": "f2962828",
   "metadata": {},
   "source": [
    "# FE discretization"
   ]
  },
  {
   "cell_type": "code",
   "execution_count": 6,
   "id": "ca631af3",
   "metadata": {
    "scrolled": true
   },
   "outputs": [],
   "source": [
    "n_x_e = 10\n",
    "n_inner_y_e = 5\n",
    "n_outer_y_e = 5\n",
    "L_x = 200.0\n",
    "R_in = 100.0\n",
    "R_out = 200.0\n",
    "xd_inner = XDomainFEGridAxiSym(coord_min=(0, 0),\n",
    "                          coord_max=(L_x, R_in),\n",
    "                          shape=(n_x_e, n_inner_y_e),\n",
    "                          integ_factor=2 * np.pi,\n",
    "                          fets=FETS2D4Q())\n",
    "xd_outer = XDomainFEGridAxiSym(coord_min=(0, R_in),\n",
    "                          coord_max=(L_x, R_out),\n",
    "                          shape=(n_x_e, n_outer_y_e),\n",
    "                          integ_factor=2 * np.pi,\n",
    "                          fets=FETS2D4Q())\n",
    "m1 = MATS3DElastic(E=28000, nu=0.3)\n",
    "m2 = MATS3DElastic(E=28000, nu=0.3)\n",
    "\n",
    "xd12 = XDomainFEInterface(\n",
    "    I=xd_inner.mesh.I[1:-1, -1],\n",
    "    J=xd_outer.mesh.I[1:-1, 0],\n",
    "    fets=FETS1D52ULRH()\n",
    ")"
   ]
  },
  {
   "cell_type": "code",
   "execution_count": 7,
   "id": "c7e23d56-c6cd-4850-b123-95fe5b1cac89",
   "metadata": {},
   "outputs": [],
   "source": [
    "#bond_m = Slide34(E_T=10000, E_N=10000)\n",
    "material_params = dict(\n",
    "    E_T=1000, gamma_T=800, K_T=0, S_T=0.0005, c_T=1, bartau=3, \n",
    "    E_N=1000, S_N=0.001, c_N = 1, m = 0.01, f_t=3, f_c=20, f_c0=10, eta=0.0 # 0.5\n",
    ")\n",
    "bond_m = Slide34(**material_params)"
   ]
  },
  {
   "cell_type": "code",
   "execution_count": 8,
   "id": "d71e5250-997a-425f-bbc7-5175ca19f295",
   "metadata": {},
   "outputs": [
    {
     "data": {
      "text/plain": [
       "[<ibvpy.sim.domain_state.DomainState at 0x7fe1f51760e0>,\n",
       " <ibvpy.sim.domain_state.DomainState at 0x7fe1f5176c70>,\n",
       " <ibvpy.sim.domain_state.DomainState at 0x7fe1f5176c20>]"
      ]
     },
     "execution_count": 8,
     "metadata": {},
     "output_type": "execute_result"
    }
   ],
   "source": [
    "fixed_y = BCSlice(slice=xd_inner.mesh[0, 0, 0, 0],\n",
    "                 var='u', dims=[1], value=0)\n",
    "fixed_outer_x = BCSlice(slice=xd_outer.mesh[0, :, 0, :],\n",
    "                 var='u', dims=[0], value=0)\n",
    "loaded_inner_x = BCSlice(slice=xd_inner.mesh[-1, :, -1, :],\n",
    "                  var='u', dims=[0], value=-0.1)\n",
    "free_inner_x = BCSlice(slice=xd_inner.mesh[0, :, 0, :],\n",
    "                  var='u', dims=[0], value=0)\n",
    "bc1 = [fixed_y, fixed_outer_x, loaded_inner_x]\n",
    "\n",
    "m = TStepBC(\n",
    "    domains=[(xd_inner, m1),\n",
    "             (xd_outer, m2),\n",
    "             (xd12, bond_m),\n",
    "             ],\n",
    "    bc=bc1,  # + bc2,\n",
    ")\n",
    "\n",
    "m.hist.vis_record = {\n",
    "    'strain': Vis3DTensorField(var='eps_ab'),\n",
    "    #        'damage': Vis3DStateField(var='omega_a'),\n",
    "    #        'kinematic hardening': Vis3DStateField(var='z_a')\n",
    "}\n",
    "\n",
    "s = m.sim\n",
    "s.tloop.verbose = True\n",
    "s.tloop.k_max = 1000\n",
    "s.tline.step = 0.02\n",
    "s.tstep.fe_domain.serialized_subdomains"
   ]
  },
  {
   "cell_type": "code",
   "execution_count": 9,
   "id": "c95f5fa2",
   "metadata": {},
   "outputs": [
    {
     "data": {
      "application/vnd.jupyter.widget-view+json": {
       "model_id": "6930eb50afe440a59d464f2e2635eccd",
       "version_major": 2,
       "version_minor": 0
      },
      "text/plain": [
       "VBox(children=(HBox(children=(VBox(children=(Tree(layout=Layout(align_items='stretch', border='solid 1px black…"
      ]
     },
     "metadata": {},
     "output_type": "display_data"
    }
   ],
   "source": [
    "bond_m.interact()"
   ]
  },
  {
   "cell_type": "code",
   "execution_count": 10,
   "id": "cef0b911-0e10-444c-9083-23f63b6944a6",
   "metadata": {
    "scrolled": true
   },
   "outputs": [
    {
     "name": "stdout",
     "output_type": "stream",
     "text": [
      "t:\t 0.00"
     ]
    },
    {
     "name": "stderr",
     "output_type": "stream",
     "text": [
      "<lambdifygenerated-7>:4: RuntimeWarning: invalid value encountered in true_divide\n",
      "  return (array([[I*select([greater(O, (abs(sqrt((-X_x + tau_pi_x/(1 - omega_T))**2 + (-X_y + tau_pi_y/(1 - omega_T))**2)) - (Z + bartau)*(sig_pi/(-omega_N*Dummy_448 + 1) + f_t**2*m/(Z + bartau - 2*f_t*m))*(Z + bartau - 2*f_t*m)/(f_t**2*m))*sign(f_t)*sign(m)),greater(O, (abs(sqrt((-X_x + tau_pi_x/(1 - omega_T))**2 + (-X_y + tau_pi_y/(1 - omega_T))**2)) + (Z + bartau + f_c0*m)*(sig_pi/(-omega_N*Dummy_448 + 1) + f_c0 - m*(-f_c**2 + 2*f_c*f_c0 - f_c0**2)/(Z + bartau + 2*f_c*m - f_c0*m))*(Z + bartau + 2*f_c*m - f_c0*m)/(m*(-f_c**2 + 2*f_c*f_c0 - f_c0**2)))*sign(m)*sign(-f_c + f_c0)),True], [(-X_x + tau_pi_x/(1 - omega_T))*(f_t**2*m**2 - 2*f_t*m*(Z + bartau) + (Z + bartau)**2)**2/((1 - omega_T)*(Z + bartau)*sqrt(((-X_x + tau_pi_x/(1 - omega_T))**2 + (-X_y + tau_pi_y/(1 - omega_T))**2)*(f_t**2*m**2 - 2*f_t*m*(Z + bartau) + (Z + bartau)**2)**2/((Z + bartau)*(-Z - bartau + f_t*m)**2*(Z + bartau - 2*f_t*m)) + (sig_pi/(-omega_N*Dummy_448 + 1) + f_t**2*m/(Z + bartau - 2*f_t*m))**2*(f_t**2*m**2 - 2*f_t*m*(Z + bartau) + (Z + bartau)**2)**2/(f_t**2*(Z + bartau - f_t*m)**2))*(-Z - bartau + f_t*m)**2*(Z + bartau - 2*f_t*m)),(-X_x + tau_pi_x/(1 - omega_T))*(f_c**2*m**2 - 2*f_c*f_c0*m**2 + 2*f_c*m*(Z + bartau + f_c0*m) + f_c0**2*m**2 - 2*f_c0*m*(Z + bartau + f_c0*m) + (Z + bartau + f_c0*m)**2)**2/((1 - omega_T)*sqrt(((-X_x + tau_pi_x/(1 - omega_T))**2 + (-X_y + tau_pi_y/(1 - omega_T))**2)*(f_c**2*m**2 - 2*f_c*f_c0*m**2 + 2*f_c*m*(Z + bartau + f_c0*m) + f_c0**2*m**2 - 2*f_c0*m*(Z + bartau + f_c0*m) + (Z + bartau + f_c0*m)**2)**2/((-Z - bartau - f_c*m)**2*(Z + bartau + f_c0*m)*(Z + bartau + 2*f_c*m - f_c0*m)) + (sig_pi/(-omega_N*Dummy_448 + 1) + f_c0 - m*(-f_c**2 + 2*f_c*f_c0 - f_c0**2)/(Z + bartau + 2*f_c*m - f_c0*m))**2*(f_c**2*m**2 - 2*f_c*f_c0*m**2 + 2*f_c*m*(Z + bartau + f_c0*m) + f_c0**2*m**2 - 2*f_c0*m*(Z + bartau + f_c0*m) + (Z + bartau + f_c0*m)**2)**2/((f_c - f_c0)**2*(Z + bartau + f_c*m)**2))*(-Z - bartau - f_c*m)**2*(Z + bartau + f_c0*m)*(Z + bartau + 2*f_c*m - f_c0*m)),(-X_x + tau_pi_x/(1 - omega_T))/((1 - omega_T)*sqrt((-X_x + tau_pi_x/(1 - omega_T))**2 + (-X_y + tau_pi_y/(1 - omega_T))**2))], default=nan)], [I*select([greater(O, (abs(sqrt((-X_x + tau_pi_x/(1 - omega_T))**2 + (-X_y + tau_pi_y/(1 - omega_T))**2)) - (Z + bartau)*(sig_pi/(-omega_N*Dummy_448 + 1) + f_t**2*m/(Z + bartau - 2*f_t*m))*(Z + bartau - 2*f_t*m)/(f_t**2*m))*sign(f_t)*sign(m)),greater(O, (abs(sqrt((-X_x + tau_pi_x/(1 - omega_T))**2 + (-X_y + tau_pi_y/(1 - omega_T))**2)) + (Z + bartau + f_c0*m)*(sig_pi/(-omega_N*Dummy_448 + 1) + f_c0 - m*(-f_c**2 + 2*f_c*f_c0 - f_c0**2)/(Z + bartau + 2*f_c*m - f_c0*m))*(Z + bartau + 2*f_c*m - f_c0*m)/(m*(-f_c**2 + 2*f_c*f_c0 - f_c0**2)))*sign(m)*sign(-f_c + f_c0)),True], [(-X_y + tau_pi_y/(1 - omega_T))*(f_t**2*m**2 - 2*f_t*m*(Z + bartau) + (Z + bartau)**2)**2/((1 - omega_T)*(Z + bartau)*sqrt(((-X_x + tau_pi_x/(1 - omega_T))**2 + (-X_y + tau_pi_y/(1 - omega_T))**2)*(f_t**2*m**2 - 2*f_t*m*(Z + bartau) + (Z + bartau)**2)**2/((Z + bartau)*(-Z - bartau + f_t*m)**2*(Z + bartau - 2*f_t*m)) + (sig_pi/(-omega_N*Dummy_448 + 1) + f_t**2*m/(Z + bartau - 2*f_t*m))**2*(f_t**2*m**2 - 2*f_t*m*(Z + bartau) + (Z + bartau)**2)**2/(f_t**2*(Z + bartau - f_t*m)**2))*(-Z - bartau + f_t*m)**2*(Z + bartau - 2*f_t*m)),(-X_y + tau_pi_y/(1 - omega_T))*(f_c**2*m**2 - 2*f_c*f_c0*m**2 + 2*f_c*m*(Z + bartau + f_c0*m) + f_c0**2*m**2 - 2*f_c0*m*(Z + bartau + f_c0*m) + (Z + bartau + f_c0*m)**2)**2/((1 - omega_T)*sqrt(((-X_x + tau_pi_x/(1 - omega_T))**2 + (-X_y + tau_pi_y/(1 - omega_T))**2)*(f_c**2*m**2 - 2*f_c*f_c0*m**2 + 2*f_c*m*(Z + bartau + f_c0*m) + f_c0**2*m**2 - 2*f_c0*m*(Z + bartau + f_c0*m) + (Z + bartau + f_c0*m)**2)**2/((-Z - bartau - f_c*m)**2*(Z + bartau + f_c0*m)*(Z + bartau + 2*f_c*m - f_c0*m)) + (sig_pi/(-omega_N*Dummy_448 + 1) + f_c0 - m*(-f_c**2 + 2*f_c*f_c0 - f_c0**2)/(Z + bartau + 2*f_c*m - f_c0*m))**2*(f_c**2*m**2 - 2*f_c*f_c0*m**2 + 2*f_c*m*(Z + bartau + f_c0*m) + f_c0**2*m**2 - 2*f_c0*m*(Z + bartau + f_c0*m) + (Z + bartau + f_c0*m)**2)**2/((f_c - f_c0)**2*(Z + bartau + f_c*m)**2))*(-Z - bartau - f_c*m)**2*(Z + bartau + f_c0*m)*(Z + bartau + 2*f_c*m - f_c0*m)),(-X_y + tau_pi_y/(1 - omega_T))/((1 - omega_T)*sqrt((-X_x + tau_pi_x/(1 - omega_T))**2 + (-X_y + tau_pi_y/(1 - omega_T))**2))], default=nan)], [I*select([greater(O, (abs(sqrt((-X_x + tau_pi_x/(1 - omega_T))**2 + (-X_y + tau_pi_y/(1 - omega_T))**2)) - (Z + bartau)*(sig_pi/(-omega_N*Dummy_448 + 1) + f_t**2*m/(Z + bartau - 2*f_t*m))*(Z + bartau - 2*f_t*m)/(f_t**2*m))*sign(f_t)*sign(m)),greater(O, (abs(sqrt((-X_x + tau_pi_x/(1 - omega_T))**2 + (-X_y + tau_pi_y/(1 - omega_T))**2)) + (Z + bartau + f_c0*m)*(sig_pi/(-omega_N*Dummy_448 + 1) + f_c0 - m*(-f_c**2 + 2*f_c*f_c0 - f_c0**2)/(Z + bartau + 2*f_c*m - f_c0*m))*(Z + bartau + 2*f_c*m - f_c0*m)/(m*(-f_c**2 + 2*f_c*f_c0 - f_c0**2)))*sign(m)*sign(-f_c + f_c0)),True], [(sig_pi/(-omega_N*Dummy_448 + 1) + f_t**2*m/(Z + bartau - 2*f_t*m))*(f_t**2*m**2 - 2*f_t*m*(Z + bartau) + (Z + bartau)**2)**2/(f_t**2*(-omega_N*Dummy_448 + 1)*sqrt(((-X_x + tau_pi_x/(1 - omega_T))**2 + (-X_y + tau_pi_y/(1 - omega_T))**2)*(f_t**2*m**2 - 2*f_t*m*(Z + bartau) + (Z + bartau)**2)**2/((Z + bartau)*(-Z - bartau + f_t*m)**2*(Z + bartau - 2*f_t*m)) + (sig_pi/(-omega_N*Dummy_448 + 1) + f_t**2*m/(Z + bartau - 2*f_t*m))**2*(f_t**2*m**2 - 2*f_t*m*(Z + bartau) + (Z + bartau)**2)**2/(f_t**2*(Z + bartau - f_t*m)**2))*(Z + bartau - f_t*m)**2),(sig_pi/(-omega_N*Dummy_448 + 1) + f_c0 - m*(-f_c**2 + 2*f_c*f_c0 - f_c0**2)/(Z + bartau + 2*f_c*m - f_c0*m))*(f_c**2*m**2 - 2*f_c*f_c0*m**2 + 2*f_c*m*(Z + bartau + f_c0*m) + f_c0**2*m**2 - 2*f_c0*m*(Z + bartau + f_c0*m) + (Z + bartau + f_c0*m)**2)**2/((f_c - f_c0)**2*(-omega_N*Dummy_448 + 1)*sqrt(((-X_x + tau_pi_x/(1 - omega_T))**2 + (-X_y + tau_pi_y/(1 - omega_T))**2)*(f_c**2*m**2 - 2*f_c*f_c0*m**2 + 2*f_c*m*(Z + bartau + f_c0*m) + f_c0**2*m**2 - 2*f_c0*m*(Z + bartau + f_c0*m) + (Z + bartau + f_c0*m)**2)**2/((-Z - bartau - f_c*m)**2*(Z + bartau + f_c0*m)*(Z + bartau + 2*f_c*m - f_c0*m)) + (sig_pi/(-omega_N*Dummy_448 + 1) + f_c0 - m*(-f_c**2 + 2*f_c*f_c0 - f_c0**2)/(Z + bartau + 2*f_c*m - f_c0*m))**2*(f_c**2*m**2 - 2*f_c*f_c0*m**2 + 2*f_c*m*(Z + bartau + f_c0*m) + f_c0**2*m**2 - 2*f_c0*m*(Z + bartau + f_c0*m) + (Z + bartau + f_c0*m)**2)**2/((f_c - f_c0)**2*(Z + bartau + f_c*m)**2))*(Z + bartau + f_c*m)**2),m/(-omega_N*Dummy_448 + 1)], default=nan)], [I*select([greater(O, (abs(sqrt((-X_x + tau_pi_x/(1 - omega_T))**2 + (-X_y + tau_pi_y/(1 - omega_T))**2)) - (Z + bartau)*(sig_pi/(-omega_N*Dummy_448 + 1) + f_t**2*m/(Z + bartau - 2*f_t*m))*(Z + bartau - 2*f_t*m)/(f_t**2*m))*sign(f_t)*sign(m)),greater(O, (abs(sqrt((-X_x + tau_pi_x/(1 - omega_T))**2 + (-X_y + tau_pi_y/(1 - omega_T))**2)) + (Z + bartau + f_c0*m)*(sig_pi/(-omega_N*Dummy_448 + 1) + f_c0 - m*(-f_c**2 + 2*f_c*f_c0 - f_c0**2)/(Z + bartau + 2*f_c*m - f_c0*m))*(Z + bartau + 2*f_c*m - f_c0*m)/(m*(-f_c**2 + 2*f_c*f_c0 - f_c0**2)))*sign(m)*sign(-f_c + f_c0)),True], [-(2*Z + 2*bartau - 2*f_t*m)/(Z + bartau - 2*f_t*m) + (f_t**2*m**2 - 2*f_t*m*(Z + bartau) + (Z + bartau)**2)/(Z + bartau - 2*f_t*m)**2 + (-m*(sig_pi/(-omega_N*Dummy_448 + 1) + f_t**2*m/(Z + bartau - 2*f_t*m))*(f_t**2*m**2 - 2*f_t*m*(Z + bartau) + (Z + bartau)**2)**2/((Z + bartau - 2*f_t*m)**2*(Z + bartau - f_t*m)**2) + (1/2)*((-X_x + tau_pi_x/(1 - omega_T))**2 + (-X_y + tau_pi_y/(1 - omega_T))**2)*(4*Z + 4*bartau - 4*f_t*m)*(f_t**2*m**2 - 2*f_t*m*(Z + bartau) + (Z + bartau)**2)/((Z + bartau)*(-Z - bartau + f_t*m)**2*(Z + bartau - 2*f_t*m)) - 1/2*((-X_x + tau_pi_x/(1 - omega_T))**2 + (-X_y + tau_pi_y/(1 - omega_T))**2)*(f_t**2*m**2 - 2*f_t*m*(Z + bartau) + (Z + bartau)**2)**2/((Z + bartau)*(-Z - bartau + f_t*m)**2*(Z + bartau - 2*f_t*m)**2) + ((-X_x + tau_pi_x/(1 - omega_T))**2 + (-X_y + tau_pi_y/(1 - omega_T))**2)*(f_t**2*m**2 - 2*f_t*m*(Z + bartau) + (Z + bartau)**2)**2/((Z + bartau)*(-Z - bartau + f_t*m)**3*(Z + bartau - 2*f_t*m)) - 1/2*((-X_x + tau_pi_x/(1 - omega_T))**2 + (-X_y + tau_pi_y/(1 - omega_T))**2)*(f_t**2*m**2 - 2*f_t*m*(Z + bartau) + (Z + bartau)**2)**2/((Z + bartau)**2*(-Z - bartau + f_t*m)**2*(Z + bartau - 2*f_t*m)) + (1/2)*(sig_pi/(-omega_N*Dummy_448 + 1) + f_t**2*m/(Z + bartau - 2*f_t*m))**2*(4*Z + 4*bartau - 4*f_t*m)*(f_t**2*m**2 - 2*f_t*m*(Z + bartau) + (Z + bartau)**2)/(f_t**2*(Z + bartau - f_t*m)**2) - (sig_pi/(-omega_N*Dummy_448 + 1) + f_t**2*m/(Z + bartau - 2*f_t*m))**2*(f_t**2*m**2 - 2*f_t*m*(Z + bartau) + (Z + bartau)**2)**2/(f_t**2*(Z + bartau - f_t*m)**3))/sqrt(((-X_x + tau_pi_x/(1 - omega_T))**2 + (-X_y + tau_pi_y/(1 - omega_T))**2)*(f_t**2*m**2 - 2*f_t*m*(Z + bartau) + (Z + bartau)**2)**2/((Z + bartau)*(-Z - bartau + f_t*m)**2*(Z + bartau - 2*f_t*m)) + (sig_pi/(-omega_N*Dummy_448 + 1) + f_t**2*m/(Z + bartau - 2*f_t*m))**2*(f_t**2*m**2 - 2*f_t*m*(Z + bartau) + (Z + bartau)**2)**2/(f_t**2*(Z + bartau - f_t*m)**2)),-(2*Z + 2*bartau + 2*f_c*m)/(Z + bartau + 2*f_c*m - f_c0*m) + (f_c**2*m**2 - 2*f_c*f_c0*m**2 + 2*f_c*m*(Z + bartau + f_c0*m) + f_c0**2*m**2 - 2*f_c0*m*(Z + bartau + f_c0*m) + (Z + bartau + f_c0*m)**2)/(Z + bartau + 2*f_c*m - f_c0*m)**2 + (m*(-f_c**2 + 2*f_c*f_c0 - f_c0**2)*(sig_pi/(-omega_N*Dummy_448 + 1) + f_c0 - m*(-f_c**2 + 2*f_c*f_c0 - f_c0**2)/(Z + bartau + 2*f_c*m - f_c0*m))*(f_c**2*m**2 - 2*f_c*f_c0*m**2 + 2*f_c*m*(Z + bartau + f_c0*m) + f_c0**2*m**2 - 2*f_c0*m*(Z + bartau + f_c0*m) + (Z + bartau + f_c0*m)**2)**2/((f_c - f_c0)**2*(Z + bartau + f_c*m)**2*(Z + bartau + 2*f_c*m - f_c0*m)**2) + (1/2)*((-X_x + tau_pi_x/(1 - omega_T))**2 + (-X_y + tau_pi_y/(1 - omega_T))**2)*(4*Z + 4*bartau + 4*f_c*m)*(f_c**2*m**2 - 2*f_c*f_c0*m**2 + 2*f_c*m*(Z + bartau + f_c0*m) + f_c0**2*m**2 - 2*f_c0*m*(Z + bartau + f_c0*m) + (Z + bartau + f_c0*m)**2)/((-Z - bartau - f_c*m)**2*(Z + bartau + f_c0*m)*(Z + bartau + 2*f_c*m - f_c0*m)) - 1/2*((-X_x + tau_pi_x/(1 - omega_T))**2 + (-X_y + tau_pi_y/(1 - omega_T))**2)*(f_c**2*m**2 - 2*f_c*f_c0*m**2 + 2*f_c*m*(Z + bartau + f_c0*m) + f_c0**2*m**2 - 2*f_c0*m*(Z + bartau + f_c0*m) + (Z + bartau + f_c0*m)**2)**2/((-Z - bartau - f_c*m)**2*(Z + bartau + f_c0*m)*(Z + bartau + 2*f_c*m - f_c0*m)**2) - 1/2*((-X_x + tau_pi_x/(1 - omega_T))**2 + (-X_y + tau_pi_y/(1 - omega_T))**2)*(f_c**2*m**2 - 2*f_c*f_c0*m**2 + 2*f_c*m*(Z + bartau + f_c0*m) + f_c0**2*m**2 - 2*f_c0*m*(Z + bartau + f_c0*m) + (Z + bartau + f_c0*m)**2)**2/((-Z - bartau - f_c*m)**2*(Z + bartau + f_c0*m)**2*(Z + bartau + 2*f_c*m - f_c0*m)) + ((-X_x + tau_pi_x/(1 - omega_T))**2 + (-X_y + tau_pi_y/(1 - omega_T))**2)*(f_c**2*m**2 - 2*f_c*f_c0*m**2 + 2*f_c*m*(Z + bartau + f_c0*m) + f_c0**2*m**2 - 2*f_c0*m*(Z + bartau + f_c0*m) + (Z + bartau + f_c0*m)**2)**2/((-Z - bartau - f_c*m)**3*(Z + bartau + f_c0*m)*(Z + bartau + 2*f_c*m - f_c0*m)) + (1/2)*(4*Z + 4*bartau + 4*f_c*m)*(sig_pi/(-omega_N*Dummy_448 + 1) + f_c0 - m*(-f_c**2 + 2*f_c*f_c0 - f_c0**2)/(Z + bartau + 2*f_c*m - f_c0*m))**2*(f_c**2*m**2 - 2*f_c*f_c0*m**2 + 2*f_c*m*(Z + bartau + f_c0*m) + f_c0**2*m**2 - 2*f_c0*m*(Z + bartau + f_c0*m) + (Z + bartau + f_c0*m)**2)/((f_c - f_c0)**2*(Z + bartau + f_c*m)**2) - (sig_pi/(-omega_N*Dummy_448 + 1) + f_c0 - m*(-f_c**2 + 2*f_c*f_c0 - f_c0**2)/(Z + bartau + 2*f_c*m - f_c0*m))**2*(f_c**2*m**2 - 2*f_c*f_c0*m**2 + 2*f_c*m*(Z + bartau + f_c0*m) + f_c0**2*m**2 - 2*f_c0*m*(Z + bartau + f_c0*m) + (Z + bartau + f_c0*m)**2)**2/((f_c - f_c0)**2*(Z + bartau + f_c*m)**3))/sqrt(((-X_x + tau_pi_x/(1 - omega_T))**2 + (-X_y + tau_pi_y/(1 - omega_T))**2)*(f_c**2*m**2 - 2*f_c*f_c0*m**2 + 2*f_c*m*(Z + bartau + f_c0*m) + f_c0**2*m**2 - 2*f_c0*m*(Z + bartau + f_c0*m) + (Z + bartau + f_c0*m)**2)**2/((-Z - bartau - f_c*m)**2*(Z + bartau + f_c0*m)*(Z + bartau + 2*f_c*m - f_c0*m)) + (sig_pi/(-omega_N*Dummy_448 + 1) + f_c0 - m*(-f_c**2 + 2*f_c*f_c0 - f_c0**2)/(Z + bartau + 2*f_c*m - f_c0*m))**2*(f_c**2*m**2 - 2*f_c*f_c0*m**2 + 2*f_c*m*(Z + bartau + f_c0*m) + f_c0**2*m**2 - 2*f_c0*m*(Z + bartau + f_c0*m) + (Z + bartau + f_c0*m)**2)**2/((f_c - f_c0)**2*(Z + bartau + f_c*m)**2)),-1], default=nan)], [I*select([greater(O, (abs(sqrt((-X_x + tau_pi_x/(1 - omega_T))**2 + (-X_y + tau_pi_y/(1 - omega_T))**2)) - (Z + bartau)*(sig_pi/(-omega_N*Dummy_448 + 1) + f_t**2*m/(Z + bartau - 2*f_t*m))*(Z + bartau - 2*f_t*m)/(f_t**2*m))*sign(f_t)*sign(m)),greater(O, (abs(sqrt((-X_x + tau_pi_x/(1 - omega_T))**2 + (-X_y + tau_pi_y/(1 - omega_T))**2)) + (Z + bartau + f_c0*m)*(sig_pi/(-omega_N*Dummy_448 + 1) + f_c0 - m*(-f_c**2 + 2*f_c*f_c0 - f_c0**2)/(Z + bartau + 2*f_c*m - f_c0*m))*(Z + bartau + 2*f_c*m - f_c0*m)/(m*(-f_c**2 + 2*f_c*f_c0 - f_c0**2)))*sign(m)*sign(-f_c + f_c0)),True], [(1/2)*(2*X_x - 2*tau_pi_x/(1 - omega_T))*(f_t**2*m**2 - 2*f_t*m*(Z + bartau) + (Z + bartau)**2)**2/((Z + bartau)*sqrt(((-X_x + tau_pi_x/(1 - omega_T))**2 + (-X_y + tau_pi_y/(1 - omega_T))**2)*(f_t**2*m**2 - 2*f_t*m*(Z + bartau) + (Z + bartau)**2)**2/((Z + bartau)*(-Z - bartau + f_t*m)**2*(Z + bartau - 2*f_t*m)) + (sig_pi/(-omega_N*Dummy_448 + 1) + f_t**2*m/(Z + bartau - 2*f_t*m))**2*(f_t**2*m**2 - 2*f_t*m*(Z + bartau) + (Z + bartau)**2)**2/(f_t**2*(Z + bartau - f_t*m)**2))*(-Z - bartau + f_t*m)**2*(Z + bartau - 2*f_t*m)),(1/2)*(2*X_x - 2*tau_pi_x/(1 - omega_T))*(f_c**2*m**2 - 2*f_c*f_c0*m**2 + 2*f_c*m*(Z + bartau + f_c0*m) + f_c0**2*m**2 - 2*f_c0*m*(Z + bartau + f_c0*m) + (Z + bartau + f_c0*m)**2)**2/(sqrt(((-X_x + tau_pi_x/(1 - omega_T))**2 + (-X_y + tau_pi_y/(1 - omega_T))**2)*(f_c**2*m**2 - 2*f_c*f_c0*m**2 + 2*f_c*m*(Z + bartau + f_c0*m) + f_c0**2*m**2 - 2*f_c0*m*(Z + bartau + f_c0*m) + (Z + bartau + f_c0*m)**2)**2/((-Z - bartau - f_c*m)**2*(Z + bartau + f_c0*m)*(Z + bartau + 2*f_c*m - f_c0*m)) + (sig_pi/(-omega_N*Dummy_448 + 1) + f_c0 - m*(-f_c**2 + 2*f_c*f_c0 - f_c0**2)/(Z + bartau + 2*f_c*m - f_c0*m))**2*(f_c**2*m**2 - 2*f_c*f_c0*m**2 + 2*f_c*m*(Z + bartau + f_c0*m) + f_c0**2*m**2 - 2*f_c0*m*(Z + bartau + f_c0*m) + (Z + bartau + f_c0*m)**2)**2/((f_c - f_c0)**2*(Z + bartau + f_c*m)**2))*(-Z - bartau - f_c*m)**2*(Z + bartau + f_c0*m)*(Z + bartau + 2*f_c*m - f_c0*m)),(X_x - tau_pi_x/(1 - omega_T))/sqrt((-X_x + tau_pi_x/(1 - omega_T))**2 + (-X_y + tau_pi_y/(1 - omega_T))**2)], default=nan)], [I*select([greater(O, (abs(sqrt((-X_x + tau_pi_x/(1 - omega_T))**2 + (-X_y + tau_pi_y/(1 - omega_T))**2)) - (Z + bartau)*(sig_pi/(-omega_N*Dummy_448 + 1) + f_t**2*m/(Z + bartau - 2*f_t*m))*(Z + bartau - 2*f_t*m)/(f_t**2*m))*sign(f_t)*sign(m)),greater(O, (abs(sqrt((-X_x + tau_pi_x/(1 - omega_T))**2 + (-X_y + tau_pi_y/(1 - omega_T))**2)) + (Z + bartau + f_c0*m)*(sig_pi/(-omega_N*Dummy_448 + 1) + f_c0 - m*(-f_c**2 + 2*f_c*f_c0 - f_c0**2)/(Z + bartau + 2*f_c*m - f_c0*m))*(Z + bartau + 2*f_c*m - f_c0*m)/(m*(-f_c**2 + 2*f_c*f_c0 - f_c0**2)))*sign(m)*sign(-f_c + f_c0)),True], [(1/2)*(2*X_y - 2*tau_pi_y/(1 - omega_T))*(f_t**2*m**2 - 2*f_t*m*(Z + bartau) + (Z + bartau)**2)**2/((Z + bartau)*sqrt(((-X_x + tau_pi_x/(1 - omega_T))**2 + (-X_y + tau_pi_y/(1 - omega_T))**2)*(f_t**2*m**2 - 2*f_t*m*(Z + bartau) + (Z + bartau)**2)**2/((Z + bartau)*(-Z - bartau + f_t*m)**2*(Z + bartau - 2*f_t*m)) + (sig_pi/(-omega_N*Dummy_448 + 1) + f_t**2*m/(Z + bartau - 2*f_t*m))**2*(f_t**2*m**2 - 2*f_t*m*(Z + bartau) + (Z + bartau)**2)**2/(f_t**2*(Z + bartau - f_t*m)**2))*(-Z - bartau + f_t*m)**2*(Z + bartau - 2*f_t*m)),(1/2)*(2*X_y - 2*tau_pi_y/(1 - omega_T))*(f_c**2*m**2 - 2*f_c*f_c0*m**2 + 2*f_c*m*(Z + bartau + f_c0*m) + f_c0**2*m**2 - 2*f_c0*m*(Z + bartau + f_c0*m) + (Z + bartau + f_c0*m)**2)**2/(sqrt(((-X_x + tau_pi_x/(1 - omega_T))**2 + (-X_y + tau_pi_y/(1 - omega_T))**2)*(f_c**2*m**2 - 2*f_c*f_c0*m**2 + 2*f_c*m*(Z + bartau + f_c0*m) + f_c0**2*m**2 - 2*f_c0*m*(Z + bartau + f_c0*m) + (Z + bartau + f_c0*m)**2)**2/((-Z - bartau - f_c*m)**2*(Z + bartau + f_c0*m)*(Z + bartau + 2*f_c*m - f_c0*m)) + (sig_pi/(-omega_N*Dummy_448 + 1) + f_c0 - m*(-f_c**2 + 2*f_c*f_c0 - f_c0**2)/(Z + bartau + 2*f_c*m - f_c0*m))**2*(f_c**2*m**2 - 2*f_c*f_c0*m**2 + 2*f_c*m*(Z + bartau + f_c0*m) + f_c0**2*m**2 - 2*f_c0*m*(Z + bartau + f_c0*m) + (Z + bartau + f_c0*m)**2)**2/((f_c - f_c0)**2*(Z + bartau + f_c*m)**2))*(-Z - bartau - f_c*m)**2*(Z + bartau + f_c0*m)*(Z + bartau + 2*f_c*m - f_c0*m)),(X_y - tau_pi_y/(1 - omega_T))/sqrt((-X_x + tau_pi_x/(1 - omega_T))**2 + (-X_y + tau_pi_y/(1 - omega_T))**2)], default=nan)], [I*O], [I*O]]))\n",
      "<lambdifygenerated-8>:4: RuntimeWarning: invalid value encountered in true_divide\n",
      "  return (array([[I*O], [I*O], [I*O], [I*O], [I*O], [I*O], [I*select([greater(O, (abs(sqrt((-X_x + tau_pi_x/(1 - omega_T))**2 + (-X_y + tau_pi_y/(1 - omega_T))**2)) - (Z + bartau)*(sig_pi/(-omega_N*Dummy_451 + 1) + f_t**2*m/(Z + bartau - 2*f_t*m))*(Z + bartau - 2*f_t*m)/(f_t**2*m))*sign(f_t)*sign(m)),greater(O, (abs(sqrt((-X_x + tau_pi_x/(1 - omega_T))**2 + (-X_y + tau_pi_y/(1 - omega_T))**2)) + (Z + bartau + f_c0*m)*(sig_pi/(-omega_N*Dummy_451 + 1) + f_c0 - m*(-f_c**2 + 2*f_c*f_c0 - f_c0**2)/(Z + bartau + 2*f_c*m - f_c0*m))*(Z + bartau + 2*f_c*m - f_c0*m)/(m*(-f_c**2 + 2*f_c*f_c0 - f_c0**2)))*sign(m)*sign(-f_c + f_c0)),True], [(1/2)*(2*tau_pi_x*(-X_x + tau_pi_x/(1 - omega_T))/(1 - omega_T)**2 + 2*tau_pi_y*(-X_y + tau_pi_y/(1 - omega_T))/(1 - omega_T)**2)*(f_t**2*m**2 - 2*f_t*m*(Z + bartau) + (Z + bartau)**2)**2/((Z + bartau)*sqrt(((-X_x + tau_pi_x/(1 - omega_T))**2 + (-X_y + tau_pi_y/(1 - omega_T))**2)*(f_t**2*m**2 - 2*f_t*m*(Z + bartau) + (Z + bartau)**2)**2/((Z + bartau)*(-Z - bartau + f_t*m)**2*(Z + bartau - 2*f_t*m)) + (sig_pi/(-omega_N*Dummy_451 + 1) + f_t**2*m/(Z + bartau - 2*f_t*m))**2*(f_t**2*m**2 - 2*f_t*m*(Z + bartau) + (Z + bartau)**2)**2/(f_t**2*(Z + bartau - f_t*m)**2))*(-Z - bartau + f_t*m)**2*(Z + bartau - 2*f_t*m)),(1/2)*(2*tau_pi_x*(-X_x + tau_pi_x/(1 - omega_T))/(1 - omega_T)**2 + 2*tau_pi_y*(-X_y + tau_pi_y/(1 - omega_T))/(1 - omega_T)**2)*(f_c**2*m**2 - 2*f_c*f_c0*m**2 + 2*f_c*m*(Z + bartau + f_c0*m) + f_c0**2*m**2 - 2*f_c0*m*(Z + bartau + f_c0*m) + (Z + bartau + f_c0*m)**2)**2/(sqrt(((-X_x + tau_pi_x/(1 - omega_T))**2 + (-X_y + tau_pi_y/(1 - omega_T))**2)*(f_c**2*m**2 - 2*f_c*f_c0*m**2 + 2*f_c*m*(Z + bartau + f_c0*m) + f_c0**2*m**2 - 2*f_c0*m*(Z + bartau + f_c0*m) + (Z + bartau + f_c0*m)**2)**2/((-Z - bartau - f_c*m)**2*(Z + bartau + f_c0*m)*(Z + bartau + 2*f_c*m - f_c0*m)) + (sig_pi/(-omega_N*Dummy_451 + 1) + f_c0 - m*(-f_c**2 + 2*f_c*f_c0 - f_c0**2)/(Z + bartau + 2*f_c*m - f_c0*m))**2*(f_c**2*m**2 - 2*f_c*f_c0*m**2 + 2*f_c*m*(Z + bartau + f_c0*m) + f_c0**2*m**2 - 2*f_c0*m*(Z + bartau + f_c0*m) + (Z + bartau + f_c0*m)**2)**2/((f_c - f_c0)**2*(Z + bartau + f_c*m)**2))*(-Z - bartau - f_c*m)**2*(Z + bartau + f_c0*m)*(Z + bartau + 2*f_c*m - f_c0*m)),(tau_pi_x*(-X_x + tau_pi_x/(1 - omega_T))/(1 - omega_T)**2 + tau_pi_y*(-X_y + tau_pi_y/(1 - omega_T))/(1 - omega_T)**2)/sqrt((-X_x + tau_pi_x/(1 - omega_T))**2 + (-X_y + tau_pi_y/(1 - omega_T))**2)], default=nan)], [I*select([greater(O, (abs(sqrt((-X_x + tau_pi_x/(1 - omega_T))**2 + (-X_y + tau_pi_y/(1 - omega_T))**2)) - (Z + bartau)*(sig_pi/(-omega_N*Dummy_451 + 1) + f_t**2*m/(Z + bartau - 2*f_t*m))*(Z + bartau - 2*f_t*m)/(f_t**2*m))*sign(f_t)*sign(m)),greater(O, (abs(sqrt((-X_x + tau_pi_x/(1 - omega_T))**2 + (-X_y + tau_pi_y/(1 - omega_T))**2)) + (Z + bartau + f_c0*m)*(sig_pi/(-omega_N*Dummy_451 + 1) + f_c0 - m*(-f_c**2 + 2*f_c*f_c0 - f_c0**2)/(Z + bartau + 2*f_c*m - f_c0*m))*(Z + bartau + 2*f_c*m - f_c0*m)/(m*(-f_c**2 + 2*f_c*f_c0 - f_c0**2)))*sign(m)*sign(-f_c + f_c0)),True], [sig_pi*Dummy_451*(sig_pi/(-omega_N*Dummy_451 + 1) + f_t**2*m/(Z + bartau - 2*f_t*m))*(f_t**2*m**2 - 2*f_t*m*(Z + bartau) + (Z + bartau)**2)**2/(f_t**2*(-omega_N*Dummy_451 + 1)**2*sqrt(((-X_x + tau_pi_x/(1 - omega_T))**2 + (-X_y + tau_pi_y/(1 - omega_T))**2)*(f_t**2*m**2 - 2*f_t*m*(Z + bartau) + (Z + bartau)**2)**2/((Z + bartau)*(-Z - bartau + f_t*m)**2*(Z + bartau - 2*f_t*m)) + (sig_pi/(-omega_N*Dummy_451 + 1) + f_t**2*m/(Z + bartau - 2*f_t*m))**2*(f_t**2*m**2 - 2*f_t*m*(Z + bartau) + (Z + bartau)**2)**2/(f_t**2*(Z + bartau - f_t*m)**2))*(Z + bartau - f_t*m)**2),sig_pi*Dummy_451*(sig_pi/(-omega_N*Dummy_451 + 1) + f_c0 - m*(-f_c**2 + 2*f_c*f_c0 - f_c0**2)/(Z + bartau + 2*f_c*m - f_c0*m))*(f_c**2*m**2 - 2*f_c*f_c0*m**2 + 2*f_c*m*(Z + bartau + f_c0*m) + f_c0**2*m**2 - 2*f_c0*m*(Z + bartau + f_c0*m) + (Z + bartau + f_c0*m)**2)**2/((f_c - f_c0)**2*(-omega_N*Dummy_451 + 1)**2*sqrt(((-X_x + tau_pi_x/(1 - omega_T))**2 + (-X_y + tau_pi_y/(1 - omega_T))**2)*(f_c**2*m**2 - 2*f_c*f_c0*m**2 + 2*f_c*m*(Z + bartau + f_c0*m) + f_c0**2*m**2 - 2*f_c0*m*(Z + bartau + f_c0*m) + (Z + bartau + f_c0*m)**2)**2/((-Z - bartau - f_c*m)**2*(Z + bartau + f_c0*m)*(Z + bartau + 2*f_c*m - f_c0*m)) + (sig_pi/(-omega_N*Dummy_451 + 1) + f_c0 - m*(-f_c**2 + 2*f_c*f_c0 - f_c0**2)/(Z + bartau + 2*f_c*m - f_c0*m))**2*(f_c**2*m**2 - 2*f_c*f_c0*m**2 + 2*f_c*m*(Z + bartau + f_c0*m) + f_c0**2*m**2 - 2*f_c0*m*(Z + bartau + f_c0*m) + (Z + bartau + f_c0*m)**2)**2/((f_c - f_c0)**2*(Z + bartau + f_c*m)**2))*(Z + bartau + f_c*m)**2),sig_pi*Dummy_451*m/(-omega_N*Dummy_451 + 1)**2], default=nan)]]))\n",
      "<lambdifygenerated-10>:4: RuntimeWarning: invalid value encountered in true_divide\n",
      "  return (array([[select([less((abs(sqrt((-X_x + tau_pi_x/(1 - omega_T))**2 + (-X_y + tau_pi_y/(1 - omega_T))**2)) - (Z + bartau)*(sig_pi/(-omega_N*Dummy_457 + 1) + f_t**2*m/(Z + bartau - 2*f_t*m))*(Z + bartau - 2*f_t*m)/(f_t**2*m))*sign(f_t)*sign(m), 0),less((abs(sqrt((-X_x + tau_pi_x/(1 - omega_T))**2 + (-X_y + tau_pi_y/(1 - omega_T))**2)) + (Z + bartau + f_c0*m)*(sig_pi/(-omega_N*Dummy_457 + 1) + f_c0 - m*(-f_c**2 + 2*f_c*f_c0 - f_c0**2)/(Z + bartau + 2*f_c*m - f_c0*m))*(Z + bartau + 2*f_c*m - f_c0*m)/(m*(-f_c**2 + 2*f_c*f_c0 - f_c0**2)))*sign(m)*sign(-f_c + f_c0), 0),True], [(-X_x + tau_pi_x/(1 - omega_T))*(f_t**2*m**2 - 2*f_t*m*(Z + bartau) + (Z + bartau)**2)**2/((1 - omega_T)*(Z + bartau)*sqrt(((-X_x + tau_pi_x/(1 - omega_T))**2 + (-X_y + tau_pi_y/(1 - omega_T))**2)*(f_t**2*m**2 - 2*f_t*m*(Z + bartau) + (Z + bartau)**2)**2/((Z + bartau)*(-Z - bartau + f_t*m)**2*(Z + bartau - 2*f_t*m)) + (sig_pi/(-omega_N*Dummy_457 + 1) + f_t**2*m/(Z + bartau - 2*f_t*m))**2*(f_t**2*m**2 - 2*f_t*m*(Z + bartau) + (Z + bartau)**2)**2/(f_t**2*(Z + bartau - f_t*m)**2))*(-Z - bartau + f_t*m)**2*(Z + bartau - 2*f_t*m)),(-X_x + tau_pi_x/(1 - omega_T))*(f_c**2*m**2 - 2*f_c*f_c0*m**2 + 2*f_c*m*(Z + bartau + f_c0*m) + f_c0**2*m**2 - 2*f_c0*m*(Z + bartau + f_c0*m) + (Z + bartau + f_c0*m)**2)**2/((1 - omega_T)*sqrt(((-X_x + tau_pi_x/(1 - omega_T))**2 + (-X_y + tau_pi_y/(1 - omega_T))**2)*(f_c**2*m**2 - 2*f_c*f_c0*m**2 + 2*f_c*m*(Z + bartau + f_c0*m) + f_c0**2*m**2 - 2*f_c0*m*(Z + bartau + f_c0*m) + (Z + bartau + f_c0*m)**2)**2/((-Z - bartau - f_c*m)**2*(Z + bartau + f_c0*m)*(Z + bartau + 2*f_c*m - f_c0*m)) + (sig_pi/(-omega_N*Dummy_457 + 1) + f_c0 - m*(-f_c**2 + 2*f_c*f_c0 - f_c0**2)/(Z + bartau + 2*f_c*m - f_c0*m))**2*(f_c**2*m**2 - 2*f_c*f_c0*m**2 + 2*f_c*m*(Z + bartau + f_c0*m) + f_c0**2*m**2 - 2*f_c0*m*(Z + bartau + f_c0*m) + (Z + bartau + f_c0*m)**2)**2/((f_c - f_c0)**2*(Z + bartau + f_c*m)**2))*(-Z - bartau - f_c*m)**2*(Z + bartau + f_c0*m)*(Z + bartau + 2*f_c*m - f_c0*m)),(-X_x + tau_pi_x/(1 - omega_T))/((1 - omega_T)*sqrt((-X_x + tau_pi_x/(1 - omega_T))**2 + (-X_y + tau_pi_y/(1 - omega_T))**2))], default=nan)], [select([less((abs(sqrt((-X_x + tau_pi_x/(1 - omega_T))**2 + (-X_y + tau_pi_y/(1 - omega_T))**2)) - (Z + bartau)*(sig_pi/(-omega_N*Dummy_457 + 1) + f_t**2*m/(Z + bartau - 2*f_t*m))*(Z + bartau - 2*f_t*m)/(f_t**2*m))*sign(f_t)*sign(m), 0),less((abs(sqrt((-X_x + tau_pi_x/(1 - omega_T))**2 + (-X_y + tau_pi_y/(1 - omega_T))**2)) + (Z + bartau + f_c0*m)*(sig_pi/(-omega_N*Dummy_457 + 1) + f_c0 - m*(-f_c**2 + 2*f_c*f_c0 - f_c0**2)/(Z + bartau + 2*f_c*m - f_c0*m))*(Z + bartau + 2*f_c*m - f_c0*m)/(m*(-f_c**2 + 2*f_c*f_c0 - f_c0**2)))*sign(m)*sign(-f_c + f_c0), 0),True], [(-X_y + tau_pi_y/(1 - omega_T))*(f_t**2*m**2 - 2*f_t*m*(Z + bartau) + (Z + bartau)**2)**2/((1 - omega_T)*(Z + bartau)*sqrt(((-X_x + tau_pi_x/(1 - omega_T))**2 + (-X_y + tau_pi_y/(1 - omega_T))**2)*(f_t**2*m**2 - 2*f_t*m*(Z + bartau) + (Z + bartau)**2)**2/((Z + bartau)*(-Z - bartau + f_t*m)**2*(Z + bartau - 2*f_t*m)) + (sig_pi/(-omega_N*Dummy_457 + 1) + f_t**2*m/(Z + bartau - 2*f_t*m))**2*(f_t**2*m**2 - 2*f_t*m*(Z + bartau) + (Z + bartau)**2)**2/(f_t**2*(Z + bartau - f_t*m)**2))*(-Z - bartau + f_t*m)**2*(Z + bartau - 2*f_t*m)),(-X_y + tau_pi_y/(1 - omega_T))*(f_c**2*m**2 - 2*f_c*f_c0*m**2 + 2*f_c*m*(Z + bartau + f_c0*m) + f_c0**2*m**2 - 2*f_c0*m*(Z + bartau + f_c0*m) + (Z + bartau + f_c0*m)**2)**2/((1 - omega_T)*sqrt(((-X_x + tau_pi_x/(1 - omega_T))**2 + (-X_y + tau_pi_y/(1 - omega_T))**2)*(f_c**2*m**2 - 2*f_c*f_c0*m**2 + 2*f_c*m*(Z + bartau + f_c0*m) + f_c0**2*m**2 - 2*f_c0*m*(Z + bartau + f_c0*m) + (Z + bartau + f_c0*m)**2)**2/((-Z - bartau - f_c*m)**2*(Z + bartau + f_c0*m)*(Z + bartau + 2*f_c*m - f_c0*m)) + (sig_pi/(-omega_N*Dummy_457 + 1) + f_c0 - m*(-f_c**2 + 2*f_c*f_c0 - f_c0**2)/(Z + bartau + 2*f_c*m - f_c0*m))**2*(f_c**2*m**2 - 2*f_c*f_c0*m**2 + 2*f_c*m*(Z + bartau + f_c0*m) + f_c0**2*m**2 - 2*f_c0*m*(Z + bartau + f_c0*m) + (Z + bartau + f_c0*m)**2)**2/((f_c - f_c0)**2*(Z + bartau + f_c*m)**2))*(-Z - bartau - f_c*m)**2*(Z + bartau + f_c0*m)*(Z + bartau + 2*f_c*m - f_c0*m)),(-X_y + tau_pi_y/(1 - omega_T))/((1 - omega_T)*sqrt((-X_x + tau_pi_x/(1 - omega_T))**2 + (-X_y + tau_pi_y/(1 - omega_T))**2))], default=nan)], [select([less((abs(sqrt((-X_x + tau_pi_x/(1 - omega_T))**2 + (-X_y + tau_pi_y/(1 - omega_T))**2)) - (Z + bartau)*(sig_pi/(-omega_N*Dummy_457 + 1) + f_t**2*m/(Z + bartau - 2*f_t*m))*(Z + bartau - 2*f_t*m)/(f_t**2*m))*sign(f_t)*sign(m), 0),less((abs(sqrt((-X_x + tau_pi_x/(1 - omega_T))**2 + (-X_y + tau_pi_y/(1 - omega_T))**2)) + (Z + bartau + f_c0*m)*(sig_pi/(-omega_N*Dummy_457 + 1) + f_c0 - m*(-f_c**2 + 2*f_c*f_c0 - f_c0**2)/(Z + bartau + 2*f_c*m - f_c0*m))*(Z + bartau + 2*f_c*m - f_c0*m)/(m*(-f_c**2 + 2*f_c*f_c0 - f_c0**2)))*sign(m)*sign(-f_c + f_c0), 0),True], [(sig_pi/(-omega_N*Dummy_457 + 1) + f_t**2*m/(Z + bartau - 2*f_t*m))*(f_t**2*m**2 - 2*f_t*m*(Z + bartau) + (Z + bartau)**2)**2/(f_t**2*(-omega_N*Dummy_457 + 1)*sqrt(((-X_x + tau_pi_x/(1 - omega_T))**2 + (-X_y + tau_pi_y/(1 - omega_T))**2)*(f_t**2*m**2 - 2*f_t*m*(Z + bartau) + (Z + bartau)**2)**2/((Z + bartau)*(-Z - bartau + f_t*m)**2*(Z + bartau - 2*f_t*m)) + (sig_pi/(-omega_N*Dummy_457 + 1) + f_t**2*m/(Z + bartau - 2*f_t*m))**2*(f_t**2*m**2 - 2*f_t*m*(Z + bartau) + (Z + bartau)**2)**2/(f_t**2*(Z + bartau - f_t*m)**2))*(Z + bartau - f_t*m)**2),(sig_pi/(-omega_N*Dummy_457 + 1) + f_c0 - m*(-f_c**2 + 2*f_c*f_c0 - f_c0**2)/(Z + bartau + 2*f_c*m - f_c0*m))*(f_c**2*m**2 - 2*f_c*f_c0*m**2 + 2*f_c*m*(Z + bartau + f_c0*m) + f_c0**2*m**2 - 2*f_c0*m*(Z + bartau + f_c0*m) + (Z + bartau + f_c0*m)**2)**2/((f_c - f_c0)**2*(-omega_N*Dummy_457 + 1)*sqrt(((-X_x + tau_pi_x/(1 - omega_T))**2 + (-X_y + tau_pi_y/(1 - omega_T))**2)*(f_c**2*m**2 - 2*f_c*f_c0*m**2 + 2*f_c*m*(Z + bartau + f_c0*m) + f_c0**2*m**2 - 2*f_c0*m*(Z + bartau + f_c0*m) + (Z + bartau + f_c0*m)**2)**2/((-Z - bartau - f_c*m)**2*(Z + bartau + f_c0*m)*(Z + bartau + 2*f_c*m - f_c0*m)) + (sig_pi/(-omega_N*Dummy_457 + 1) + f_c0 - m*(-f_c**2 + 2*f_c*f_c0 - f_c0**2)/(Z + bartau + 2*f_c*m - f_c0*m))**2*(f_c**2*m**2 - 2*f_c*f_c0*m**2 + 2*f_c*m*(Z + bartau + f_c0*m) + f_c0**2*m**2 - 2*f_c0*m*(Z + bartau + f_c0*m) + (Z + bartau + f_c0*m)**2)**2/((f_c - f_c0)**2*(Z + bartau + f_c*m)**2))*(Z + bartau + f_c*m)**2),m/(-omega_N*Dummy_457 + 1)], default=nan)], [-select([less((abs(sqrt((-X_x + tau_pi_x/(1 - omega_T))**2 + (-X_y + tau_pi_y/(1 - omega_T))**2)) - (Z + bartau)*(sig_pi/(-omega_N*Dummy_457 + 1) + f_t**2*m/(Z + bartau - 2*f_t*m))*(Z + bartau - 2*f_t*m)/(f_t**2*m))*sign(f_t)*sign(m), 0),less((abs(sqrt((-X_x + tau_pi_x/(1 - omega_T))**2 + (-X_y + tau_pi_y/(1 - omega_T))**2)) + (Z + bartau + f_c0*m)*(sig_pi/(-omega_N*Dummy_457 + 1) + f_c0 - m*(-f_c**2 + 2*f_c*f_c0 - f_c0**2)/(Z + bartau + 2*f_c*m - f_c0*m))*(Z + bartau + 2*f_c*m - f_c0*m)/(m*(-f_c**2 + 2*f_c*f_c0 - f_c0**2)))*sign(m)*sign(-f_c + f_c0), 0),True], [-(2*Z + 2*bartau - 2*f_t*m)/(Z + bartau - 2*f_t*m) + (f_t**2*m**2 - 2*f_t*m*(Z + bartau) + (Z + bartau)**2)/(Z + bartau - 2*f_t*m)**2 + (-m*(sig_pi/(-omega_N*Dummy_457 + 1) + f_t**2*m/(Z + bartau - 2*f_t*m))*(f_t**2*m**2 - 2*f_t*m*(Z + bartau) + (Z + bartau)**2)**2/((Z + bartau - 2*f_t*m)**2*(Z + bartau - f_t*m)**2) + (1/2)*((-X_x + tau_pi_x/(1 - omega_T))**2 + (-X_y + tau_pi_y/(1 - omega_T))**2)*(4*Z + 4*bartau - 4*f_t*m)*(f_t**2*m**2 - 2*f_t*m*(Z + bartau) + (Z + bartau)**2)/((Z + bartau)*(-Z - bartau + f_t*m)**2*(Z + bartau - 2*f_t*m)) - 1/2*((-X_x + tau_pi_x/(1 - omega_T))**2 + (-X_y + tau_pi_y/(1 - omega_T))**2)*(f_t**2*m**2 - 2*f_t*m*(Z + bartau) + (Z + bartau)**2)**2/((Z + bartau)*(-Z - bartau + f_t*m)**2*(Z + bartau - 2*f_t*m)**2) + ((-X_x + tau_pi_x/(1 - omega_T))**2 + (-X_y + tau_pi_y/(1 - omega_T))**2)*(f_t**2*m**2 - 2*f_t*m*(Z + bartau) + (Z + bartau)**2)**2/((Z + bartau)*(-Z - bartau + f_t*m)**3*(Z + bartau - 2*f_t*m)) - 1/2*((-X_x + tau_pi_x/(1 - omega_T))**2 + (-X_y + tau_pi_y/(1 - omega_T))**2)*(f_t**2*m**2 - 2*f_t*m*(Z + bartau) + (Z + bartau)**2)**2/((Z + bartau)**2*(-Z - bartau + f_t*m)**2*(Z + bartau - 2*f_t*m)) + (1/2)*(sig_pi/(-omega_N*Dummy_457 + 1) + f_t**2*m/(Z + bartau - 2*f_t*m))**2*(4*Z + 4*bartau - 4*f_t*m)*(f_t**2*m**2 - 2*f_t*m*(Z + bartau) + (Z + bartau)**2)/(f_t**2*(Z + bartau - f_t*m)**2) - (sig_pi/(-omega_N*Dummy_457 + 1) + f_t**2*m/(Z + bartau - 2*f_t*m))**2*(f_t**2*m**2 - 2*f_t*m*(Z + bartau) + (Z + bartau)**2)**2/(f_t**2*(Z + bartau - f_t*m)**3))/sqrt(((-X_x + tau_pi_x/(1 - omega_T))**2 + (-X_y + tau_pi_y/(1 - omega_T))**2)*(f_t**2*m**2 - 2*f_t*m*(Z + bartau) + (Z + bartau)**2)**2/((Z + bartau)*(-Z - bartau + f_t*m)**2*(Z + bartau - 2*f_t*m)) + (sig_pi/(-omega_N*Dummy_457 + 1) + f_t**2*m/(Z + bartau - 2*f_t*m))**2*(f_t**2*m**2 - 2*f_t*m*(Z + bartau) + (Z + bartau)**2)**2/(f_t**2*(Z + bartau - f_t*m)**2)),-(2*Z + 2*bartau + 2*f_c*m)/(Z + bartau + 2*f_c*m - f_c0*m) + (f_c**2*m**2 - 2*f_c*f_c0*m**2 + 2*f_c*m*(Z + bartau + f_c0*m) + f_c0**2*m**2 - 2*f_c0*m*(Z + bartau + f_c0*m) + (Z + bartau + f_c0*m)**2)/(Z + bartau + 2*f_c*m - f_c0*m)**2 + (m*(-f_c**2 + 2*f_c*f_c0 - f_c0**2)*(sig_pi/(-omega_N*Dummy_457 + 1) + f_c0 - m*(-f_c**2 + 2*f_c*f_c0 - f_c0**2)/(Z + bartau + 2*f_c*m - f_c0*m))*(f_c**2*m**2 - 2*f_c*f_c0*m**2 + 2*f_c*m*(Z + bartau + f_c0*m) + f_c0**2*m**2 - 2*f_c0*m*(Z + bartau + f_c0*m) + (Z + bartau + f_c0*m)**2)**2/((f_c - f_c0)**2*(Z + bartau + f_c*m)**2*(Z + bartau + 2*f_c*m - f_c0*m)**2) + (1/2)*((-X_x + tau_pi_x/(1 - omega_T))**2 + (-X_y + tau_pi_y/(1 - omega_T))**2)*(4*Z + 4*bartau + 4*f_c*m)*(f_c**2*m**2 - 2*f_c*f_c0*m**2 + 2*f_c*m*(Z + bartau + f_c0*m) + f_c0**2*m**2 - 2*f_c0*m*(Z + bartau + f_c0*m) + (Z + bartau + f_c0*m)**2)/((-Z - bartau - f_c*m)**2*(Z + bartau + f_c0*m)*(Z + bartau + 2*f_c*m - f_c0*m)) - 1/2*((-X_x + tau_pi_x/(1 - omega_T))**2 + (-X_y + tau_pi_y/(1 - omega_T))**2)*(f_c**2*m**2 - 2*f_c*f_c0*m**2 + 2*f_c*m*(Z + bartau + f_c0*m) + f_c0**2*m**2 - 2*f_c0*m*(Z + bartau + f_c0*m) + (Z + bartau + f_c0*m)**2)**2/((-Z - bartau - f_c*m)**2*(Z + bartau + f_c0*m)*(Z + bartau + 2*f_c*m - f_c0*m)**2) - 1/2*((-X_x + tau_pi_x/(1 - omega_T))**2 + (-X_y + tau_pi_y/(1 - omega_T))**2)*(f_c**2*m**2 - 2*f_c*f_c0*m**2 + 2*f_c*m*(Z + bartau + f_c0*m) + f_c0**2*m**2 - 2*f_c0*m*(Z + bartau + f_c0*m) + (Z + bartau + f_c0*m)**2)**2/((-Z - bartau - f_c*m)**2*(Z + bartau + f_c0*m)**2*(Z + bartau + 2*f_c*m - f_c0*m)) + ((-X_x + tau_pi_x/(1 - omega_T))**2 + (-X_y + tau_pi_y/(1 - omega_T))**2)*(f_c**2*m**2 - 2*f_c*f_c0*m**2 + 2*f_c*m*(Z + bartau + f_c0*m) + f_c0**2*m**2 - 2*f_c0*m*(Z + bartau + f_c0*m) + (Z + bartau + f_c0*m)**2)**2/((-Z - bartau - f_c*m)**3*(Z + bartau + f_c0*m)*(Z + bartau + 2*f_c*m - f_c0*m)) + (1/2)*(4*Z + 4*bartau + 4*f_c*m)*(sig_pi/(-omega_N*Dummy_457 + 1) + f_c0 - m*(-f_c**2 + 2*f_c*f_c0 - f_c0**2)/(Z + bartau + 2*f_c*m - f_c0*m))**2*(f_c**2*m**2 - 2*f_c*f_c0*m**2 + 2*f_c*m*(Z + bartau + f_c0*m) + f_c0**2*m**2 - 2*f_c0*m*(Z + bartau + f_c0*m) + (Z + bartau + f_c0*m)**2)/((f_c - f_c0)**2*(Z + bartau + f_c*m)**2) - (sig_pi/(-omega_N*Dummy_457 + 1) + f_c0 - m*(-f_c**2 + 2*f_c*f_c0 - f_c0**2)/(Z + bartau + 2*f_c*m - f_c0*m))**2*(f_c**2*m**2 - 2*f_c*f_c0*m**2 + 2*f_c*m*(Z + bartau + f_c0*m) + f_c0**2*m**2 - 2*f_c0*m*(Z + bartau + f_c0*m) + (Z + bartau + f_c0*m)**2)**2/((f_c - f_c0)**2*(Z + bartau + f_c*m)**3))/sqrt(((-X_x + tau_pi_x/(1 - omega_T))**2 + (-X_y + tau_pi_y/(1 - omega_T))**2)*(f_c**2*m**2 - 2*f_c*f_c0*m**2 + 2*f_c*m*(Z + bartau + f_c0*m) + f_c0**2*m**2 - 2*f_c0*m*(Z + bartau + f_c0*m) + (Z + bartau + f_c0*m)**2)**2/((-Z - bartau - f_c*m)**2*(Z + bartau + f_c0*m)*(Z + bartau + 2*f_c*m - f_c0*m)) + (sig_pi/(-omega_N*Dummy_457 + 1) + f_c0 - m*(-f_c**2 + 2*f_c*f_c0 - f_c0**2)/(Z + bartau + 2*f_c*m - f_c0*m))**2*(f_c**2*m**2 - 2*f_c*f_c0*m**2 + 2*f_c*m*(Z + bartau + f_c0*m) + f_c0**2*m**2 - 2*f_c0*m*(Z + bartau + f_c0*m) + (Z + bartau + f_c0*m)**2)**2/((f_c - f_c0)**2*(Z + bartau + f_c*m)**2)),-1], default=nan)], [-select([less((abs(sqrt((-X_x + tau_pi_x/(1 - omega_T))**2 + (-X_y + tau_pi_y/(1 - omega_T))**2)) - (Z + bartau)*(sig_pi/(-omega_N*Dummy_457 + 1) + f_t**2*m/(Z + bartau - 2*f_t*m))*(Z + bartau - 2*f_t*m)/(f_t**2*m))*sign(f_t)*sign(m), 0),less((abs(sqrt((-X_x + tau_pi_x/(1 - omega_T))**2 + (-X_y + tau_pi_y/(1 - omega_T))**2)) + (Z + bartau + f_c0*m)*(sig_pi/(-omega_N*Dummy_457 + 1) + f_c0 - m*(-f_c**2 + 2*f_c*f_c0 - f_c0**2)/(Z + bartau + 2*f_c*m - f_c0*m))*(Z + bartau + 2*f_c*m - f_c0*m)/(m*(-f_c**2 + 2*f_c*f_c0 - f_c0**2)))*sign(m)*sign(-f_c + f_c0), 0),True], [(1/2)*(2*X_x - 2*tau_pi_x/(1 - omega_T))*(f_t**2*m**2 - 2*f_t*m*(Z + bartau) + (Z + bartau)**2)**2/((Z + bartau)*sqrt(((-X_x + tau_pi_x/(1 - omega_T))**2 + (-X_y + tau_pi_y/(1 - omega_T))**2)*(f_t**2*m**2 - 2*f_t*m*(Z + bartau) + (Z + bartau)**2)**2/((Z + bartau)*(-Z - bartau + f_t*m)**2*(Z + bartau - 2*f_t*m)) + (sig_pi/(-omega_N*Dummy_457 + 1) + f_t**2*m/(Z + bartau - 2*f_t*m))**2*(f_t**2*m**2 - 2*f_t*m*(Z + bartau) + (Z + bartau)**2)**2/(f_t**2*(Z + bartau - f_t*m)**2))*(-Z - bartau + f_t*m)**2*(Z + bartau - 2*f_t*m)),(1/2)*(2*X_x - 2*tau_pi_x/(1 - omega_T))*(f_c**2*m**2 - 2*f_c*f_c0*m**2 + 2*f_c*m*(Z + bartau + f_c0*m) + f_c0**2*m**2 - 2*f_c0*m*(Z + bartau + f_c0*m) + (Z + bartau + f_c0*m)**2)**2/(sqrt(((-X_x + tau_pi_x/(1 - omega_T))**2 + (-X_y + tau_pi_y/(1 - omega_T))**2)*(f_c**2*m**2 - 2*f_c*f_c0*m**2 + 2*f_c*m*(Z + bartau + f_c0*m) + f_c0**2*m**2 - 2*f_c0*m*(Z + bartau + f_c0*m) + (Z + bartau + f_c0*m)**2)**2/((-Z - bartau - f_c*m)**2*(Z + bartau + f_c0*m)*(Z + bartau + 2*f_c*m - f_c0*m)) + (sig_pi/(-omega_N*Dummy_457 + 1) + f_c0 - m*(-f_c**2 + 2*f_c*f_c0 - f_c0**2)/(Z + bartau + 2*f_c*m - f_c0*m))**2*(f_c**2*m**2 - 2*f_c*f_c0*m**2 + 2*f_c*m*(Z + bartau + f_c0*m) + f_c0**2*m**2 - 2*f_c0*m*(Z + bartau + f_c0*m) + (Z + bartau + f_c0*m)**2)**2/((f_c - f_c0)**2*(Z + bartau + f_c*m)**2))*(-Z - bartau - f_c*m)**2*(Z + bartau + f_c0*m)*(Z + bartau + 2*f_c*m - f_c0*m)),(X_x - tau_pi_x/(1 - omega_T))/sqrt((-X_x + tau_pi_x/(1 - omega_T))**2 + (-X_y + tau_pi_y/(1 - omega_T))**2)], default=nan)], [-select([less((abs(sqrt((-X_x + tau_pi_x/(1 - omega_T))**2 + (-X_y + tau_pi_y/(1 - omega_T))**2)) - (Z + bartau)*(sig_pi/(-omega_N*Dummy_457 + 1) + f_t**2*m/(Z + bartau - 2*f_t*m))*(Z + bartau - 2*f_t*m)/(f_t**2*m))*sign(f_t)*sign(m), 0),less((abs(sqrt((-X_x + tau_pi_x/(1 - omega_T))**2 + (-X_y + tau_pi_y/(1 - omega_T))**2)) + (Z + bartau + f_c0*m)*(sig_pi/(-omega_N*Dummy_457 + 1) + f_c0 - m*(-f_c**2 + 2*f_c*f_c0 - f_c0**2)/(Z + bartau + 2*f_c*m - f_c0*m))*(Z + bartau + 2*f_c*m - f_c0*m)/(m*(-f_c**2 + 2*f_c*f_c0 - f_c0**2)))*sign(m)*sign(-f_c + f_c0), 0),True], [(1/2)*(2*X_y - 2*tau_pi_y/(1 - omega_T))*(f_t**2*m**2 - 2*f_t*m*(Z + bartau) + (Z + bartau)**2)**2/((Z + bartau)*sqrt(((-X_x + tau_pi_x/(1 - omega_T))**2 + (-X_y + tau_pi_y/(1 - omega_T))**2)*(f_t**2*m**2 - 2*f_t*m*(Z + bartau) + (Z + bartau)**2)**2/((Z + bartau)*(-Z - bartau + f_t*m)**2*(Z + bartau - 2*f_t*m)) + (sig_pi/(-omega_N*Dummy_457 + 1) + f_t**2*m/(Z + bartau - 2*f_t*m))**2*(f_t**2*m**2 - 2*f_t*m*(Z + bartau) + (Z + bartau)**2)**2/(f_t**2*(Z + bartau - f_t*m)**2))*(-Z - bartau + f_t*m)**2*(Z + bartau - 2*f_t*m)),(1/2)*(2*X_y - 2*tau_pi_y/(1 - omega_T))*(f_c**2*m**2 - 2*f_c*f_c0*m**2 + 2*f_c*m*(Z + bartau + f_c0*m) + f_c0**2*m**2 - 2*f_c0*m*(Z + bartau + f_c0*m) + (Z + bartau + f_c0*m)**2)**2/(sqrt(((-X_x + tau_pi_x/(1 - omega_T))**2 + (-X_y + tau_pi_y/(1 - omega_T))**2)*(f_c**2*m**2 - 2*f_c*f_c0*m**2 + 2*f_c*m*(Z + bartau + f_c0*m) + f_c0**2*m**2 - 2*f_c0*m*(Z + bartau + f_c0*m) + (Z + bartau + f_c0*m)**2)**2/((-Z - bartau - f_c*m)**2*(Z + bartau + f_c0*m)*(Z + bartau + 2*f_c*m - f_c0*m)) + (sig_pi/(-omega_N*Dummy_457 + 1) + f_c0 - m*(-f_c**2 + 2*f_c*f_c0 - f_c0**2)/(Z + bartau + 2*f_c*m - f_c0*m))**2*(f_c**2*m**2 - 2*f_c*f_c0*m**2 + 2*f_c*m*(Z + bartau + f_c0*m) + f_c0**2*m**2 - 2*f_c0*m*(Z + bartau + f_c0*m) + (Z + bartau + f_c0*m)**2)**2/((f_c - f_c0)**2*(Z + bartau + f_c*m)**2))*(-Z - bartau - f_c*m)**2*(Z + bartau + f_c0*m)*(Z + bartau + 2*f_c*m - f_c0*m)),(X_y - tau_pi_y/(1 - omega_T))/sqrt((-X_x + tau_pi_x/(1 - omega_T))**2 + (-X_y + tau_pi_y/(1 - omega_T))**2)], default=nan)], [(1/2)*eta*((1 - omega_N)*(1 - omega_T))**((1/2)*c_NT)*(2*Y_N + 2*Y_T)/S_NT + Y_T*(1 - eta)*(1 - omega_T)**c_T/S_T], [(1/2)*eta*((1 - omega_N)*(1 - omega_T))**((1/2)*c_NT)*(2*Y_N + 2*Y_T)/S_NT + Y_N*Dummy_457*(1 - eta)*(1 - omega_N)**c_N/S_N]]))\n"
     ]
    },
    {
     "name": "stdout",
     "output_type": "stream",
     "text": [
      "(0), \n",
      "\t 0.02(1), \n",
      "\t 0.04(5), \n",
      "\t 0.06(5), \n",
      "\t 0.08(5), \n",
      "\t 0.10(5), \n",
      "\t 0.12(5), \n",
      "\t 0.14(5), \n",
      "\t 0.16(5), \n",
      "\t 0.18(5), \n",
      "\t 0.20(5), \n",
      "\t 0.22(5), \n",
      "\t 0.24(5), \n",
      "\t 0.26(5), \n",
      "\t 0.28(5), \n",
      "\t 0.30(5), \n",
      "\t 0.32(5), \n",
      "\t 0.34(5), \n",
      "\t 0.36(5), \n",
      "\t 0.38(5), \n",
      "\t 0.40(5), \n",
      "\t 0.42(5), \n",
      "\t 0.44(5), \n",
      "\t 0.46(5), \n",
      "\t 0.48(5), \n",
      "\t 0.50(5), \n",
      "\t 0.52(5), \n",
      "\t 0.54(5), \n",
      "\t 0.56(5), \n",
      "\t 0.58(5), \n",
      "\t 0.60(5), \n",
      "\t 0.62(5), \n",
      "\t 0.64(5), \n",
      "\t 0.66(5), \n",
      "\t 0.68(5), \n",
      "\t 0.70(5), \n",
      "\t 0.72(5), \n",
      "\t 0.74(5), \n",
      "\t 0.76(5), \n",
      "\t 0.78(5), \n",
      "\t 0.80(5), \n",
      "\t 0.82(5), \n",
      "\t 0.84(5), \n",
      "\t 0.86(5), \n",
      "\t 0.88(5), \n",
      "\t 0.90(5), \n",
      "\t 0.92(5), \n",
      "\t 0.94(5), \n",
      "\t 0.96(5), \n",
      "\t 0.98(5), \n",
      "\t 1.00(5), \n",
      "\n"
     ]
    }
   ],
   "source": [
    "xd12.hidden = True\n",
    "s.run()"
   ]
  },
  {
   "cell_type": "markdown",
   "id": "1f81547f",
   "metadata": {},
   "source": [
    "# Plot the punch-through curve"
   ]
  },
  {
   "cell_type": "code",
   "execution_count": 11,
   "id": "30f88b7e",
   "metadata": {},
   "outputs": [],
   "source": [
    "F_to = m.hist.F_t\n",
    "U_to = m.hist.U_t"
   ]
  },
  {
   "cell_type": "code",
   "execution_count": 12,
   "id": "220e923e",
   "metadata": {},
   "outputs": [
    {
     "data": {
      "text/plain": [
       "(51, 264)"
      ]
     },
     "execution_count": 12,
     "metadata": {},
     "output_type": "execute_result"
    }
   ],
   "source": [
    "F_to.shape"
   ]
  },
  {
   "cell_type": "code",
   "execution_count": 13,
   "id": "8ee3cb43",
   "metadata": {},
   "outputs": [],
   "source": [
    "F_l_t = np.sum(F_to[:, fixed_outer_x.dofs], axis=-1)\n",
    "F_r_t = np.sum(F_to[:, loaded_inner_x.dofs], axis=-1)\n",
    "U_r_t = np.average(U_to[:, loaded_inner_x.dofs], axis=-1)\n",
    "U_l_t = np.average(U_to[:, free_inner_x.dofs], axis=-1)"
   ]
  },
  {
   "cell_type": "code",
   "execution_count": 14,
   "id": "be243971",
   "metadata": {},
   "outputs": [
    {
     "data": {
      "application/vnd.jupyter.widget-view+json": {
       "model_id": "f1c4d82130104c4987197be9caae518d",
       "version_major": 2,
       "version_minor": 0
      },
      "text/plain": [
       "Canvas(toolbar=Toolbar(toolitems=[('Home', 'Reset original view', 'home', 'home'), ('Back', 'Back to previous …"
      ]
     },
     "metadata": {},
     "output_type": "display_data"
    },
    {
     "data": {
      "text/plain": [
       "[<matplotlib.lines.Line2D at 0x7f62729d1040>]"
      ]
     },
     "execution_count": 14,
     "metadata": {},
     "output_type": "execute_result"
    }
   ],
   "source": [
    "_, ax = plt.subplots(1,1)\n",
    "ax.plot(-U_r_t, -F_r_t)\n",
    "ax.plot(-U_r_t, F_l_t)\n",
    "ax.plot(-U_l_t, F_l_t)"
   ]
  },
  {
   "cell_type": "code",
   "execution_count": 15,
   "id": "6d303963-9c6e-4adc-ad0a-0a34e25bd08a",
   "metadata": {},
   "outputs": [],
   "source": [
    "mlab.options.backend = 'envisage'\n",
    "mlab.options.offscreen = False # 'envisage'\n",
    "f_strain = mlab.figure()\n",
    "scene = mlab.get_engine().scenes[-1]\n",
    "scene.name = 'strain'\n",
    "strain_viz = Viz3DTensorField(vis3d=m.hist['strain'])\n",
    "strain_viz.setup()\n",
    "strain_viz.warp_vector.filter.scale_factor = 0.1\n",
    "strain_viz.plot(s.tstep.t_n)\n",
    "mlab.show()"
   ]
  },
  {
   "cell_type": "code",
   "execution_count": null,
   "id": "fa159b7e-462b-44bf-b1bc-a1f5dc3a3186",
   "metadata": {},
   "outputs": [],
   "source": []
  }
 ],
 "metadata": {
  "kernelspec": {
   "display_name": "bmcs_env",
   "language": "python",
   "name": "bmcs_env"
  },
  "language_info": {
   "codemirror_mode": {
    "name": "ipython",
    "version": 3
   },
   "file_extension": ".py",
   "mimetype": "text/x-python",
   "name": "python",
   "nbconvert_exporter": "python",
   "pygments_lexer": "ipython3",
   "version": "3.8.8"
  },
  "toc": {
   "base_numbering": 1,
   "nav_menu": {},
   "number_sections": true,
   "sideBar": true,
   "skip_h1_title": false,
   "title_cell": "Table of Contents",
   "title_sidebar": "Contents",
   "toc_cell": false,
   "toc_position": {},
   "toc_section_display": true,
   "toc_window_display": false
  }
 },
 "nbformat": 4,
 "nbformat_minor": 5
}
