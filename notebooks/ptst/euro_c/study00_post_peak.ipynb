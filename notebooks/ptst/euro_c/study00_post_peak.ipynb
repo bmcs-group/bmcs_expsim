{
 "cells": [
  {
   "cell_type": "markdown",
   "id": "7fe163db-9193-44c1-9033-f79a48775c99",
   "metadata": {},
   "source": [
    "# **Studies for post-peak behavior - not included at Euro-C**"
   ]
  },
  {
   "cell_type": "markdown",
   "id": "e113a094-adc8-4217-98c9-3af72d8a35d5",
   "metadata": {},
   "source": [
    "Inspecting the snap-back problem"
   ]
  },
  {
   "cell_type": "code",
   "execution_count": null,
   "id": "d7b4549e-c36b-4c4c-96d2-8a71c0b9aae8",
   "metadata": {},
   "outputs": [],
   "source": [
    "%matplotlib widget\n",
    "import numpy as np\n",
    "np.seterr(divide='ignore', invalid='ignore')\n",
    "import matplotlib.pylab as plt\n",
    "from ibvpy.bcond import BCSlice, BCDof\n",
    "from ibvpy.fets import FETS3D8H\n",
    "from ibvpy.fets import FETS2D4Q\n",
    "from ibvpy.tmodel.mats3D import MATS3DElastic\n",
    "import bmcs_matmod.ms1.concrete_material_db as mp_db\n",
    "from ibvpy.tmodel.viz3d_scalar_field import \\\n",
    "    Vis3DStateField, Viz3DScalarField\n",
    "from ibvpy.tmodel.viz3d_tensor_field import \\\n",
    "    Vis3DTensorField, Viz3DTensorField\n",
    "from ibvpy.sim.tstep_bc import TStepBC\n",
    "from ibvpy.xmodel.xdomain_fe_grid import XDomainFEGrid\n",
    "from ibvpy.xmodel.xdomain_fe_grid_axisym import XDomainFEGridAxiSym\n",
    "from ibvpy.api import TStepBC, TFCyclicNonsymmetricConstant, TFBilinear\n",
    "from mayavi import mlab\n",
    "from bmcs_matmod.ms1 import MS13D\n",
    "from bmcs_matmod.ms1 import MS13D_damage_jir\n",
    "from ibvpy.tmodel.mats3D.mats3D_microplane.vmats3D_mpl_d_eeq import \\\n",
    "    MATS3DMplDamageEEQ\n",
    "from ibvpy.bcond import BCSliceI, BCDof\n",
    "from ibvpy.tfunction import TimeFunction, TFSelector, TFCyclicSin, TFCyclicNonsymmetricConstant\n",
    "import copy"
   ]
  },
  {
   "cell_type": "code",
   "execution_count": null,
   "id": "3cda00a6-1666-4a4f-a318-53aa06afe317",
   "metadata": {},
   "outputs": [],
   "source": [
    "# mp_ms1 = dict(\n",
    "#     E = 40e+3,\n",
    "#     nu = 0.18,\n",
    "#     Ad = 1000.0,\n",
    "#     eps_0 = 0.00001,\n",
    "#     K_N = 0.,\n",
    "#     sigma_N_0 = 1.,\n",
    "#     gamma_N = 0.,\n",
    "#     sigma_T_0 = 0.1,\n",
    "#     K_T = 10.0,\n",
    "#     gamma_T = 10.,\n",
    "#     S_T = 0.00000001,\n",
    "#     c_T = 1.0,\n",
    "#     r_T = 1.0,\n",
    "#     m_T = 0.1,\n",
    "#     p_T = 1.\n",
    "# )\n",
    "\n",
    "mp_mdm = dict(\n",
    "    epsilon_0 = 59.0e-6,\n",
    "    epsilon_f = 250.0e-6,\n",
    "    c_T = 0.02,\n",
    "    E = 28000,\n",
    "    nu = 0.18\n",
    ")"
   ]
  },
  {
   "cell_type": "markdown",
   "id": "e1a6a1a4-d857-4067-961e-3c69ba2b922c",
   "metadata": {
    "tags": []
   },
   "source": [
    "## Simple Ligament Discretization "
   ]
  },
  {
   "cell_type": "code",
   "execution_count": null,
   "id": "954027bf-04ee-4bd7-9351-3edbba85e615",
   "metadata": {},
   "outputs": [],
   "source": [
    "# mp_ms1 = dict(\n",
    "#     E = 28e+3,\n",
    "#     nu = 0.18,\n",
    "#     Ad = 1000.0,\n",
    "#     eps_0 = 0.00001,\n",
    "#     K_N = 100.,\n",
    "#     sigma_N_0 = 20.,\n",
    "#     gamma_N = 100.,\n",
    "#     sigma_T_0 = 1.,\n",
    "#     K_T = 1000.0,\n",
    "#     gamma_T = 1000.,\n",
    "#     S_T = 0.000001,\n",
    "#     c_T = 1.5,\n",
    "#     r_T = 1.0,\n",
    "#     m_T = 0.1,\n",
    "#     p_T = 1.\n",
    "# )\n",
    "\n",
    "# mp_ms1 = dict(\n",
    "#     E = 42e+3,\n",
    "#     nu = 0.2,\n",
    "#     Ad = 1800.0,\n",
    "#     eps_0 = 0.0001,\n",
    "#     K_N = 17000.,\n",
    "#     sigma_N_0 = 45.,\n",
    "#     gamma_N = 9000.,\n",
    "#     sigma_T_0 = 2.0,\n",
    "#     K_T = 20000.0,\n",
    "#     gamma_T = 500000,\n",
    "#     S_T = 0.0075,\n",
    "#     c_T = 9.,\n",
    "#     r_T = 15.,\n",
    "#     m_T = 0.004,\n",
    "#     p_T = 10.\n",
    "# )\n",
    "\n",
    "mp_ms1 = dict(\n",
    "    E = 40e+3,\n",
    "    nu = 0.2,\n",
    "    epsilon_0 = 60.0e-6,\n",
    "    epsilon_f = 250.0e-6,\n",
    "    c = 0.002,\n",
    "    K_N = 17000.,\n",
    "    sigma_N_0 = 45.,\n",
    "    gamma_N = 9000.,\n",
    "    sigma_T_0 = 2.0,\n",
    "    K_T = 20000.0,\n",
    "    gamma_T = 500000,\n",
    "    S_T = 0.0075,\n",
    "    c_T = 9.,\n",
    "    r_T = 15.,\n",
    "    m_T = 0.004,\n",
    "    p_T = 10.\n",
    ")\n",
    "\n",
    "\n",
    "# mp_ms1 = dict(\n",
    "#     E = 28e+3,\n",
    "#     nu = 0.18,\n",
    "#     epsilon_0 = 65.0e-5,\n",
    "#     epsilon_f = 200000.0e-5,\n",
    "#     c = 1.0,\n",
    "#     K_N = 100.,\n",
    "#     sigma_N_0 = 20.,\n",
    "#     gamma_N = 100.,\n",
    "#     sigma_T_0 = 1.,\n",
    "#     K_T = 1000.0,\n",
    "#     gamma_T = 1000.,\n",
    "#     S_T = 0.0000005,\n",
    "#     c_T = 1.5,\n",
    "#     r_T = 1.0,\n",
    "#     m_T = 0.0,\n",
    "#     p_T = 1.\n",
    "# )"
   ]
  },
  {
   "cell_type": "code",
   "execution_count": null,
   "id": "cfc8a405-15c0-4d2a-9687-08422101ab0e",
   "metadata": {},
   "outputs": [],
   "source": [
    "n_x_e = 5\n",
    "n_inner_y_e = 2\n",
    "n_outer_y_e = 2\n",
    "L_x = 50.0 # [mm]\n",
    "d_x = L_x / n_x_e\n",
    "R_in = 25 # [mm]\n",
    "dR = 2 # [mm]\n",
    "R_out = 50 # [mm]\n",
    "len_notch = 20\n",
    "n_notch = 1\n",
    "\n",
    "xmodel = XDomainFEGridAxiSym(integ_factor = 2 * np.pi,\n",
    "                               coord_min=(0+n_notch*d_x, R_in),\n",
    "                               coord_max=(L_x-n_notch*d_x, R_in+dR),\n",
    "                               shape=(n_x_e-2*n_notch, 1),\n",
    "                               fets=FETS2D4Q())\n",
    "\n",
    "E = 34000\n",
    "\n",
    "# m_inelastic = MS13D(**mp_ms1)\n",
    "m_inelastic_MS1 = MS13D_damage_jir(**mp_ms1)\n",
    "m_elastic = MATS3DElastic(E=40000, nu=0.18)\n",
    "m1 = TStepBC(\n",
    "    domains=[(xmodel, m_inelastic_MS1),\n",
    "             ]\n",
    ")"
   ]
  },
  {
   "cell_type": "code",
   "execution_count": null,
   "id": "2b77200b-9125-4358-be08-3e4e1aaea0f3",
   "metadata": {},
   "outputs": [],
   "source": [
    "tf_precrompression = TFBilinear(loading_ratio = 1.0, time_ratio=0.5)\n",
    "tf_sliding = TFBilinear(loading_ratio = 0.0, time_ratio=0.5)"
   ]
  },
  {
   "cell_type": "code",
   "execution_count": null,
   "id": "203202d7-3369-481b-bdb0-bf3fb2d5b24f",
   "metadata": {},
   "outputs": [],
   "source": [
    "slide_upper_slice = BCSliceI(slice=xmodel.mesh.I[:, -1],\n",
    "                                   var='u', dims=[0], value=0.0)\n",
    "slide_upper_dofs = slide_upper_slice.dofs\n",
    "\n",
    "slide_lower_slice = BCSliceI(slice=xmodel.mesh.I[:, 0],\n",
    "                                   var='u', dims=[0], value=0.0)\n",
    "slide_lower_dofs = slide_lower_slice.dofs\n",
    "\n",
    "confinement_upper_slice = BCSliceI(slice=xmodel.mesh.I[:, -1],\n",
    "                                   var='u', dims=[1], value=0.0)\n",
    "confinement_upper_dofs = confinement_upper_slice.dofs\n",
    "\n",
    "confinement_lower_slice = BCSliceI(slice=xmodel.mesh.I[:, 0],\n",
    "                                   var='u', dims=[1], value=0.0)\n",
    "confinement_lower_dofs = confinement_lower_slice.dofs\n"
   ]
  },
  {
   "cell_type": "code",
   "execution_count": null,
   "id": "79511e1c-883f-444b-8076-89decdfd9862",
   "metadata": {},
   "outputs": [],
   "source": [
    "factor = 1\n",
    "\n",
    "# Boundary conditions with inner side fixed\n",
    "\n",
    "slide = 0.015\n",
    "compression_stress = -0\n",
    "\n",
    "inner_fixed_0 = slide_lower_slice\n",
    "inner_fixed_1 = confinement_lower_slice\n",
    "upper_fixed_1 = confinement_upper_slice\n",
    "\n",
    "compression_force = compression_stress * 2 * np.pi * R_out * L_x / len(confinement_upper_dofs)\n",
    "upper_compression_force = [BCDof(var='f', dof=dof, value=compression_force, \n",
    "                                 time_function=tf_precrompression)\n",
    "                           for dof in confinement_upper_dofs]\n",
    "\n",
    "upper_compression_force = [BCDof(var='u', dof=dof, value=0.001, \n",
    "                                 time_function=tf_precrompression)\n",
    "                           for dof in confinement_upper_dofs]\n",
    "\n",
    "# upper_compression_force[0].value *= 0.5\n",
    "# upper_compression_force[-1].value *= 0.5\n",
    "\n",
    "slide_upper = [BCDof(var='u', dof=dof, value=slide, time_function=tf_sliding)\n",
    "                     for dof in slide_upper_dofs]\n",
    "bc1 = [inner_fixed_0, inner_fixed_1] + slide_upper + upper_compression_force\n",
    "# bc1 = [inner_fixed_0, inner_fixed_1,upper_fixed_1] + slide_upper"
   ]
  },
  {
   "cell_type": "code",
   "execution_count": null,
   "id": "aeeb0b9a-5415-4536-a19e-033cd85912e1",
   "metadata": {},
   "outputs": [],
   "source": [
    "m = copy.deepcopy(m1)\n",
    "m.bc=bc1\n",
    "m.hist.vis_record = {\n",
    "#    'strain': Vis3DTensorField(var='eps_ab'),\n",
    "    'damage': Vis3DTensorField(var='omega_ab'),\n",
    "    'stress': Vis3DTensorField(var='sig_ab'),\n",
    "    #        'kinematic hardening': Vis3DStateField(var='z_a')\n",
    "}\n",
    "\n",
    "s = m.sim\n",
    "s.tloop.verbose = False\n",
    "s.tloop.k_max = 1000\n",
    "s.tline.step = 0.01/factor\n",
    "# Accessing the following property - ensures serialization\n",
    "s.tstep.fe_domain.serialized_subdomains\n",
    "s.reset()\n",
    "s.run()"
   ]
  },
  {
   "cell_type": "code",
   "execution_count": null,
   "id": "98a61a03-e200-445e-8c1f-537d1b77ca45",
   "metadata": {},
   "outputs": [],
   "source": [
    "U_slide_eq = np.linspace(0,slide*factor,int(1/0.02*factor + 1))\n",
    "U_t = np.average(m.hist.U_t[:, slide_upper_dofs] - m.hist.U_t[:, slide_lower_dofs], axis=-1)\n",
    "F_t = np.sum(m.hist.F_t[:, slide_upper_dofs], axis=-1)\n",
    "U_t_confinement = np.average(m.hist.U_t[:, confinement_upper_dofs], axis=-1)\n",
    "F_t_confinement = np.sum(m.hist.F_t[:, confinement_upper_dofs], axis=-1)"
   ]
  },
  {
   "cell_type": "code",
   "execution_count": null,
   "id": "3fab8784-59a9-4f2f-81ed-fdf5af4922a0",
   "metadata": {},
   "outputs": [],
   "source": [
    "fig, (ax1,ax2,ax3) = plt.subplots(1,3)\n",
    "ax1.plot(U_t, F_t/1000, label='ligament')\n",
    "# ax1.plot(U_slide_differential_ligament, -F_slide/1000, label='PTST')\n",
    "ax1.set_ylabel('Force [kN]')\n",
    "ax1.set_xlabel('Displacement[mm]')\n",
    "ax1.legend()\n",
    "ax2.plot(U_t, U_t_confinement, label='ligament')\n",
    "ax3.plot(U_t_confinement, F_t_confinement/(2 * np.pi * (R_in+dR)*(L_x-n_notch*2*d_x)), label='ligament')\n",
    "# ax2.plot(-U_t/(L_x-n_notch*2*d_x), -F_t/(2 * np.pi * (R_in+dR)*(L_x-n_notch*2*d_x)))\n",
    "# # ax2.plot(-U_t/(L_x-n_notch*2*d_x), -F_t/(2 * np.pi * (R_in+dR)*(L_x-n_notch*2*d_x)))\n",
    "# # ax2.set_ylabel('Stress [MPa]')\n",
    "# # ax2.set_xlabel('Strain[-]')\n",
    "# G = np.trapz(F_t, x=U_t)/(2 * np.pi * (R_in+dR)*(L_x-n_notch*2*d_x))*1000\n",
    "# G2 = np.trapz(F_t/(2 * np.pi * (R_in+dR)), x=U_t/(L_x-n_notch*2*d_x))\n",
    "# print(G)\n",
    "# print(G2)\n",
    "# print(max(-F_t/1000))"
   ]
  },
  {
   "cell_type": "code",
   "execution_count": null,
   "id": "c4108f50-49f0-4db2-ad0c-2244b5a38b94",
   "metadata": {},
   "outputs": [],
   "source": [
    "if True:\n",
    "    mlab.options.backend = 'envisage'\n",
    "    mlab.options.offscreen = False # 'envisage'\n",
    "    f_strain = mlab.figure()\n",
    "    scene = mlab.get_engine().scenes[-1]\n",
    "    scene.name = 'stress'\n",
    "    strain_viz = Viz3DTensorField(vis3d=m.hist['damage'])\n",
    "    strain_viz.setup()\n",
    "    strain_viz.warp_vector.filter.scale_factor = 0.1\n",
    "    strain_viz.plot(s.tstep.t_n)\n",
    "    mlab.show()"
   ]
  },
  {
   "cell_type": "markdown",
   "id": "1c4e6078-acea-4c15-a3a6-1e382f49e53d",
   "metadata": {
    "tags": []
   },
   "source": [
    "## Complete PTST"
   ]
  },
  {
   "cell_type": "code",
   "execution_count": null,
   "id": "67ff492f-2496-486c-92e9-67edd7aa0e1d",
   "metadata": {
    "tags": []
   },
   "outputs": [],
   "source": [
    "n_x_e = 5\n",
    "n_inner_y_e = 2\n",
    "n_outer_y_e = 2\n",
    "L_x = 50.0 # [mm]\n",
    "d_x = L_x / n_x_e\n",
    "R_in = 25 # [mm]\n",
    "dR = 2 # [mm]\n",
    "R_out = 50 # [mm]\n",
    "len_notch = 30\n",
    "n_notch = 1\n",
    "# geo_transform\n",
    "# gmesh\n",
    "xd_inner = XDomainFEGridAxiSym(integ_factor = 2 * np.pi,\n",
    "                               coord_min=(0, 0),\n",
    "                               coord_max=(L_x, R_in),\n",
    "                               shape=(n_x_e, n_inner_y_e),\n",
    "                               fets=FETS2D4Q())\n",
    "xd_middle = XDomainFEGridAxiSym(integ_factor = 2 * np.pi,\n",
    "                               coord_min=(0+n_notch*d_x, R_in),\n",
    "                               coord_max=(L_x-n_notch*d_x, R_in+dR),\n",
    "                               shape=(n_x_e-2*n_notch, 1),\n",
    "                               fets=FETS2D4Q())\n",
    "xd_outer = XDomainFEGridAxiSym(integ_factor = 2 * np.pi,\n",
    "                               coord_min=(0, R_in+dR),\n",
    "                               coord_max=(L_x, R_out),\n",
    "                               shape=(n_x_e, n_outer_y_e),\n",
    "                               fets=FETS2D4Q())\n",
    "m_elastic = MATS3DElastic(E=40000, nu=0.18)\n",
    "m_inelastic_MDM = MATS3DMplDamageEEQ(**mp_mdm)\n",
    "\n",
    "# m_inelastic_MS1 = MS13D(**mp_ms1)\n",
    "m_inelastic_MS1 = MS13D_damage_jir(**mp_ms1)\n",
    "\n",
    "\n",
    "m1 = TStepBC(\n",
    "    domains=[(xd_inner, m_inelastic_MS1),\n",
    "             (xd_outer, m_inelastic_MS1),\n",
    "             (xd_middle, m_inelastic_MS1),\n",
    "             ]\n",
    ")"
   ]
  },
  {
   "cell_type": "markdown",
   "id": "29373558-9668-46a6-a697-ebe650527353",
   "metadata": {},
   "source": [
    "## Boundary and transition conditions"
   ]
  },
  {
   "cell_type": "code",
   "execution_count": null,
   "id": "044557ca-f2bb-4b1c-87d3-c3f0cd8b5f6e",
   "metadata": {},
   "outputs": [],
   "source": [
    "tf_precrompression = TFBilinear(loading_ratio = 1.0, time_ratio=0.1)\n",
    "tf_sliding = TFBilinear(loading_ratio = 0.0, time_ratio=0.1)\n",
    "#tf_sliding.interact()"
   ]
  },
  {
   "cell_type": "markdown",
   "id": "5e96e632-f400-452d-8f60-718a3213b314",
   "metadata": {},
   "source": [
    "### Kinematic links between the domains"
   ]
  },
  {
   "cell_type": "code",
   "execution_count": null,
   "id": "9893c53f-cc19-4e72-bc6c-5419650e7b9f",
   "metadata": {},
   "outputs": [],
   "source": [
    "link_inner_middle_0 = BCSliceI(var='u', dims=[0],\n",
    "                             # slice=xd_inner.mesh.I[:, -1], \n",
    "                             slice=xd_inner.mesh.I[n_notch:-n_notch, -1], \n",
    "                             link_slice=xd_middle.mesh.I[:, 0],\n",
    "                             link_coeffs=[1],\n",
    "                             link_dims=[0],\n",
    "                             value=0,\n",
    "                            )\n",
    "\n",
    "link_inner_middle_1 = BCSliceI(var='u', dims=[1],\n",
    "                             # slice=xd_inner.mesh.I[:, -1], \n",
    "                             slice=xd_inner.mesh.I[n_notch:-n_notch, -1], \n",
    "                             link_slice=xd_middle.mesh.I[:, 0],\n",
    "                             link_coeffs=[1],\n",
    "                             link_dims=[1],\n",
    "                             value=0,\n",
    "                            )\n",
    "\n",
    "link_middle_outer_0 = BCSliceI(var='u', dims=[0],\n",
    "                             slice=xd_outer.mesh.I[n_notch:-n_notch, 0], \n",
    "                             # slice=xd_outer.mesh.I[:, 0], \n",
    "                             link_slice=xd_middle.mesh.I[:, -1],\n",
    "                             link_coeffs=[1],\n",
    "                             link_dims=[0],\n",
    "                             value=0,\n",
    "                            )\n",
    "\n",
    "link_middle_outer_1 = BCSliceI(var='u', dims=[1],\n",
    "                             slice=xd_outer.mesh.I[n_notch:-n_notch, 0], \n",
    "                             # slice=xd_outer.mesh.I[:, 0], \n",
    "                             link_slice=xd_middle.mesh.I[:, -1],\n",
    "                             link_coeffs=[1],\n",
    "                             link_dims=[1],\n",
    "                             value=0,\n",
    "                            )\n",
    "\n",
    "# link_middle_outer = BCSliceI(var='u', dims=[0, 1],\n",
    "#                              slice=xd_middle.mesh.I[n_notch:-n_notch, 0], \n",
    "#                              # slice=xd_outer.mesh.I[:, 0], \n",
    "#                              link_slice=xd_outer.mesh.I[:, -1],\n",
    "#                              link_coeffs=[1, 1],\n",
    "#                              link_dims=[0, 1],\n",
    "#                              value=0,\n",
    "#                             )"
   ]
  },
  {
   "cell_type": "markdown",
   "id": "67bf4496-d30a-40e2-8fa2-297470c9c890",
   "metadata": {},
   "source": [
    "## Sliding dc + Precompression fc"
   ]
  },
  {
   "cell_type": "code",
   "execution_count": null,
   "id": "20384cf3-6190-4179-adb8-7ccee4bac9ee",
   "metadata": {},
   "outputs": [],
   "source": [
    "inner_fixed_1 = BCSliceI(slice=xd_inner.mesh.I[:, 0], var='u', dims=[1], value=0)\n",
    "outer_fixed_0 = BCSliceI(slice=xd_outer.mesh.I[0, :], var='u', dims=[0], value=0)\n",
    "inner_fixed_out_1 = BCSliceI(slice=xd_inner.mesh.I[:, -1], var='u', dims=[1], value=0)\n",
    "\n",
    "slide = 0.1\n",
    "inner_slide_slice = BCSliceI(slice=xd_inner.mesh.I[-1, :],\n",
    "                                   var='u', dims=[0], value=-0.1)\n",
    "\n",
    "slide_control_dofs = inner_slide_slice.dofs\n",
    "inner_slide = [BCDof(var='u', dof=dof, value=-slide, time_function=tf_sliding) \n",
    "                     for dof in slide_control_dofs ]\n",
    "\n",
    "\n",
    "outer_compression_slice = BCSliceI(slice=xd_outer.mesh.I[:, -1],\n",
    "                                   var='u', dims=[1], value=-0.1)\n",
    "\n",
    "compression_dofs = outer_compression_slice.dofs\n",
    "compression_stress = -10\n",
    "compression_force = compression_stress  * 2* np.pi* R_out * L_x / len(compression_dofs)\n",
    "outer_compression_force_first = [BCDof(var='f', dof=dof, value=compression_force, time_function=tf_precrompression) \n",
    "                                 for dof in compression_dofs ]\n",
    "\n",
    "compression_dofs_inner = inner_fixed_out_1.dofs\n",
    "outer_compression_force_inner_first = [BCDof(var='f', dof=dof, value=compression_force, time_function=tf_precrompression) \n",
    "                                 for dof in compression_dofs_inner ]\n",
    "\n",
    "\n",
    "# outer_compression_force_first = [BCDof(var='u', dof=dof, value=0.01, time_function=tf_precrompression) \n",
    "#                                  for dof in compression_dofs ]\n",
    "# outer_compression_force_first[0].value *=0.5\n",
    "# outer_compression_force_first[-1].value *=0.5\n",
    "outer_compression_force_inner_first[0].value *=0.5\n",
    "outer_compression_force_inner_first[-1].value *=0.5\n",
    "\n",
    "bc1 =   [inner_fixed_1,\n",
    "        outer_fixed_0,\n",
    "        link_middle_outer_0,\n",
    "         link_middle_outer_1,\n",
    "        link_inner_middle_0,\n",
    "         link_inner_middle_1\n",
    "        ]  + inner_slide  + outer_compression_force_first"
   ]
  },
  {
   "cell_type": "code",
   "execution_count": null,
   "id": "fa6206b7-1cf1-44ce-878c-2d7822587ae4",
   "metadata": {},
   "outputs": [],
   "source": [
    "ligament_upper_slide_slice = BCSliceI(slice=xd_middle.mesh.I[:, -1],\n",
    "                                   var='u', dims=[0], value=-0.1)\n",
    "ligament_upper_slide_dofs = ligament_upper_slide_slice.dofs\n",
    "\n",
    "ligament_lower_slide_slice = BCSliceI(slice=xd_middle.mesh.I[:, 0],\n",
    "                                   var='u', dims=[0], value=-0.1)\n",
    "ligament_lower_slide_dofs = ligament_lower_slide_slice.dofs\n",
    "\n",
    "ligament_upper_confinement_slice = BCSliceI(slice=xd_middle.mesh.I[:, -1],\n",
    "                                   var='u', dims=[1], value=-0.1)\n",
    "ligament_upper_confinement_dofs = ligament_upper_confinement_slice.dofs\n",
    "\n",
    "ligament_lower_confinement_slice = BCSliceI(slice=xd_middle.mesh.I[:, 0],\n",
    "                                   var='u', dims=[1], value=-0.1)\n",
    "ligament_lower_confinement_dofs = ligament_lower_confinement_slice.dofs"
   ]
  },
  {
   "cell_type": "code",
   "execution_count": null,
   "id": "b245b2fd-b006-4f23-a254-dec34981423a",
   "metadata": {
    "tags": []
   },
   "outputs": [],
   "source": [
    "m = copy.deepcopy(m1)\n",
    "m.bc=bc1\n",
    "m.hist.vis_record = {\n",
    "    'strain': Vis3DTensorField(var='eps_ab'),\n",
    "    'damage': Vis3DTensorField(var='omega_ab'),\n",
    "    'strain_p': Vis3DTensorField(var='eps_p_ab'),\n",
    "    'max_omega': Vis3DStateField(var='max_omega'),\n",
    "    'max_omega_T': Vis3DStateField(var='max_omega_T'),\n",
    "    'max_omega_N': Vis3DStateField(var='max_omega_N'),\n",
    "    'stress': Vis3DTensorField(var='sig_ab'),\n",
    "}\n",
    "\n",
    "s = m.sim\n",
    "s.tloop.verbose = True\n",
    "s.tloop.k_max = 1000\n",
    "s.tline.step = 0.01\n",
    "# Accessing the following property - ensures serialization\n",
    "s.tstep.fe_domain.serialized_subdomains"
   ]
  },
  {
   "cell_type": "code",
   "execution_count": null,
   "id": "1c314099-6adc-4129-ac74-41272fd49393",
   "metadata": {},
   "outputs": [],
   "source": [
    "s.reset()\n",
    "s.run()"
   ]
  },
  {
   "cell_type": "markdown",
   "id": "d08712d2-893e-4371-bdd0-f387e1a59cf2",
   "metadata": {},
   "source": [
    "## Postprocesing"
   ]
  },
  {
   "cell_type": "markdown",
   "id": "343f4284-2be6-42ae-9284-279196266fd0",
   "metadata": {},
   "source": [
    "### Access the last displacement step"
   ]
  },
  {
   "cell_type": "code",
   "execution_count": null,
   "id": "d055557f-49ff-483c-b532-c4ec207021fd",
   "metadata": {},
   "outputs": [],
   "source": [
    "F = m.hist.F_t\n",
    "U = m.hist.U_t"
   ]
  },
  {
   "cell_type": "code",
   "execution_count": null,
   "id": "74ea5c59-7545-4090-91ea-3a30b33fe68e",
   "metadata": {},
   "outputs": [],
   "source": [
    "F_slide = np.sum(F[:, slide_control_dofs], axis=-1)\n",
    "F_slide_ligament_upper = np.sum(F[:, ligament_upper_slide_dofs], axis=-1)\n",
    "F_slide_ligament_lower = np.sum(F[:, ligament_lower_slide_dofs], axis=-1)\n",
    "F_confinement_ligament_upper = np.sum(F[:, ligament_upper_confinement_dofs], axis=-1)\n",
    "F_confinement_ligament_lower = np.sum(F[:, ligament_lower_confinement_dofs], axis=-1)\n",
    "U_slide = np.average(U[:, slide_control_dofs], axis=-1)\n",
    "U_slide_ligament_upper = np.average(U[:, ligament_upper_slide_dofs], axis=-1)\n",
    "U_slide_ligament_lower = np.average(U[:, ligament_lower_slide_dofs], axis=-1)\n",
    "U_slide_differential_ligament = U_slide_ligament_upper - U_slide_ligament_lower"
   ]
  },
  {
   "cell_type": "code",
   "execution_count": null,
   "id": "e5d3b09e-94ab-481f-91bd-b9ab3d94779d",
   "metadata": {},
   "outputs": [],
   "source": [
    "_, ax = plt.subplots(1,1)\n",
    "ax.plot(U_slide_differential_ligament, F_slide_ligament_upper /1000)\n",
    "ax.set_ylabel('Force [kN]')\n",
    "ax.set_xlabel('Displacement at control[mm]')\n",
    "# ax.legend()"
   ]
  },
  {
   "cell_type": "code",
   "execution_count": null,
   "id": "7ade4a8b-1e71-4aef-8a3d-ad489f711b27",
   "metadata": {},
   "outputs": [],
   "source": [
    "if True:\n",
    "    mlab.options.backend = 'envisage'\n",
    "    mlab.options.offscreen = False # 'envisage'\n",
    "    f_strain = mlab.figure()\n",
    "    scene = mlab.get_engine().scenes[-1]\n",
    "    scene.name = 'damage'\n",
    "    strain_viz = Viz3DTensorField(vis3d=m.hist['stress'])\n",
    "    strain_viz.setup()\n",
    "    strain_viz.warp_vector.filter.scale_factor = 0.1\n",
    "    strain_viz.plot(s.tstep.t_n)\n",
    "    # strain_viz = Viz3DScalarField(vis3d=m.hist['max_omega_N'])\n",
    "    # strain_viz.setup()\n",
    "    # strain_viz.warp_vector.filter.scale_factor = 0.1\n",
    "    # strain_viz.plot(s.tstep.t_n)\n",
    "    mlab.show()"
   ]
  },
  {
   "cell_type": "markdown",
   "id": "77fa46a0-39b2-4d1c-ad67-452a41fc6ddb",
   "metadata": {},
   "source": [
    "### Study about slide profile at ligament"
   ]
  },
  {
   "cell_type": "code",
   "execution_count": null,
   "id": "846cf9e6-bf5f-46eb-a506-3fda1cdefabf",
   "metadata": {},
   "outputs": [],
   "source": [
    "_, ax = plt.subplots(1,1)\n",
    "for i in range(F[:, ligament_upper_confinement_dofs].shape[1]):\n",
    "    # ax.plot(U_slide_differential_ligament, U[:, ligament_upper_slide_dofs][:,i], label=str(i))\n",
    "    # ax.plot(U_slide_differential_ligament, U[:, ligament_lower_slide_dofs][:,i], label=str(i))\n",
    "    ax.plot(U_slide_differential_ligament, U[:, ligament_upper_slide_dofs][:,i] - U[:, ligament_lower_slide_dofs][:,i], label='Position' + str(i))\n",
    "ax.set_ylabel('Displacement at each ligament node [kN]')\n",
    "ax.set_xlabel('Diferential displacement at ligament [mm]')\n",
    "ax.legend()\n",
    "\n"
   ]
  },
  {
   "cell_type": "markdown",
   "id": "887df28f-9733-402f-b4ba-07cbbc60fdb0",
   "metadata": {},
   "source": [
    "### Study about confinement profile at ligament"
   ]
  },
  {
   "cell_type": "code",
   "execution_count": null,
   "id": "a0e9e1c3-5f51-4761-814e-6b12af80c048",
   "metadata": {},
   "outputs": [],
   "source": [
    "_, ax = plt.subplots(1,1)\n",
    "for i in range(F[:, ligament_upper_confinement_dofs].shape[1]):\n",
    "    # ax.plot(U_slide_differential_ligament[:], F[:, ligament_upper_confinement_dofs][:,i]/1000, label=str(i))\n",
    "    # ax.plot(U_slide_differential_ligament[:], F[:, ligament_lower_confinement_dofs][:,i]/1000, label=str(i))\n",
    "    ax.plot(U_slide_differential_ligament, (F[:, ligament_upper_confinement_dofs][:,i] - F[:, ligament_lower_confinement_dofs][:,i])/1000, label='Position' + str(i))\n",
    "ax.set_ylabel('Force at each ligament node [kN]')\n",
    "ax.set_xlabel('Diferential displacement at ligament [mm]')\n",
    "ax.legend()"
   ]
  },
  {
   "cell_type": "markdown",
   "id": "b5e6dcfd-d69b-407f-bdbc-d5f73cd39a92",
   "metadata": {},
   "source": [
    "### Study about dilatancy profile at ligament"
   ]
  },
  {
   "cell_type": "code",
   "execution_count": null,
   "id": "bfafb3e5-ddda-4d99-8e9e-00cf80659b06",
   "metadata": {},
   "outputs": [],
   "source": [
    "_, ax = plt.subplots(1,1)\n",
    "for i in range(F[:, ligament_upper_confinement_dofs].shape[1]):\n",
    "    # ax.plot(U_slide_differential_ligament[:], U[:, ligament_upper_confinement_dofs][:,i], label= 'Position' + str(i))\n",
    "    # ax.plot(U_slide_differential_ligament[:], U[:, ligament_lower_confinement_dofs][:,i], label= 'Position' + str(i))\n",
    "    ax.plot(U_slide_differential_ligament, U[:, ligament_upper_confinement_dofs][:,i] - U[:, ligament_lower_confinement_dofs][:,i], label = 'Position' + str(i))\n",
    "ax.set_ylabel('Dilatancy at each node [mm]')\n",
    "ax.set_xlabel('Diferential displacement at ligament [mm]')\n",
    "ax.legend()\n"
   ]
  }
 ],
 "metadata": {
  "kernelspec": {
   "display_name": "bmcs_env",
   "language": "python",
   "name": "bmcs_env"
  },
  "language_info": {
   "codemirror_mode": {
    "name": "ipython",
    "version": 3
   },
   "file_extension": ".py",
   "mimetype": "text/x-python",
   "name": "python",
   "nbconvert_exporter": "python",
   "pygments_lexer": "ipython3"
  }
 },
 "nbformat": 4,
 "nbformat_minor": 5
}
