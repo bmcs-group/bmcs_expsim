{
 "cells": [
  {
   "cell_type": "markdown",
   "id": "7fe163db-9193-44c1-9033-f79a48775c99",
   "metadata": {},
   "source": [
    "# **Studies for post-peak behavior**"
   ]
  },
  {
   "cell_type": "code",
   "execution_count": 1,
   "id": "d7b4549e-c36b-4c4c-96d2-8a71c0b9aae8",
   "metadata": {},
   "outputs": [],
   "source": [
    "%matplotlib widget\n",
    "import numpy as np\n",
    "np.seterr(divide='ignore', invalid='ignore')\n",
    "import matplotlib.pylab as plt\n",
    "from ibvpy.bcond import BCSlice, BCDof\n",
    "from ibvpy.fets import FETS3D8H\n",
    "from ibvpy.fets import FETS2D4Q\n",
    "from ibvpy.tmodel.mats3D import MATS3DElastic\n",
    "import bmcs_matmod.ms1.concrete_material_db as mp_db\n",
    "from ibvpy.tmodel.viz3d_scalar_field import \\\n",
    "    Vis3DStateField, Viz3DScalarField\n",
    "from ibvpy.tmodel.viz3d_tensor_field import \\\n",
    "    Vis3DTensorField, Viz3DTensorField\n",
    "from ibvpy.sim.tstep_bc import TStepBC\n",
    "from ibvpy.xmodel.xdomain_fe_grid import XDomainFEGrid\n",
    "from ibvpy.xmodel.xdomain_fe_grid_axisym import XDomainFEGridAxiSym\n",
    "from ibvpy.api import TStepBC, TFCyclicNonsymmetricConstant, TFBilinear\n",
    "from mayavi import mlab\n",
    "from bmcs_matmod.ms1 import MS13D\n",
    "from ibvpy.tmodel.mats3D.mats3D_microplane.vmats3D_mpl_d_eeq import \\\n",
    "    MATS3DMplDamageEEQ\n",
    "from ibvpy.bcond import BCSliceI, BCDof\n",
    "from ibvpy.tfunction import TimeFunction, TFSelector, TFCyclicSin, TFCyclicNonsymmetricConstant"
   ]
  },
  {
   "cell_type": "code",
   "execution_count": 2,
   "id": "3cda00a6-1666-4a4f-a318-53aa06afe317",
   "metadata": {},
   "outputs": [],
   "source": [
    "# mp_ms1 = dict(\n",
    "#     E = 40e+3,\n",
    "#     nu = 0.18,\n",
    "#     Ad = 1000.0,\n",
    "#     eps_0 = 0.00001,\n",
    "#     K_N = 0.,\n",
    "#     sigma_N_0 = 1.,\n",
    "#     gamma_N = 0.,\n",
    "#     sigma_T_0 = 0.1,\n",
    "#     K_T = 10.0,\n",
    "#     gamma_T = 10.,\n",
    "#     S_T = 0.00000001,\n",
    "#     c_T = 1.0,\n",
    "#     r_T = 1.0,\n",
    "#     m_T = 0.1,\n",
    "#     p_T = 1.\n",
    "# )\n",
    "\n",
    "mp_mdm = dict(\n",
    "    epsilon_0 = 59.0e-6,\n",
    "    epsilon_f = 250.0e-6,\n",
    "    c_T = 0.0,\n",
    "    E = 28000,\n",
    "    nu = 0.18\n",
    ")"
   ]
  },
  {
   "cell_type": "markdown",
   "id": "e1a6a1a4-d857-4067-961e-3c69ba2b922c",
   "metadata": {
    "tags": []
   },
   "source": [
    "## Simple Ligament Discretization "
   ]
  },
  {
   "cell_type": "code",
   "execution_count": 3,
   "id": "954027bf-04ee-4bd7-9351-3edbba85e615",
   "metadata": {},
   "outputs": [],
   "source": [
    "mp_ms1 = dict(\n",
    "    E = 28e+3,\n",
    "    nu = 0.18,\n",
    "    Ad = 5000.0,\n",
    "    eps_0 = 0.0001,\n",
    "    K_N = 0.,\n",
    "    sigma_N_0 = 20.,\n",
    "    gamma_N = 0.,\n",
    "    sigma_T_0 = 5,\n",
    "    K_T = 10.0,\n",
    "    gamma_T = 10.,\n",
    "    S_T = 0.000001,\n",
    "    c_T = 1.0,\n",
    "    r_T = 1.0,\n",
    "    m_T = 0.1,\n",
    "    p_T = 1.\n",
    ")"
   ]
  },
  {
   "cell_type": "code",
   "execution_count": null,
   "id": "cfc8a405-15c0-4d2a-9687-08422101ab0e",
   "metadata": {},
   "outputs": [],
   "source": [
    "n_x_e = 5\n",
    "n_inner_y_e = 2\n",
    "n_outer_y_e = 2\n",
    "L_x = 50.0 # [mm]\n",
    "d_x = L_x / n_x_e\n",
    "R_in = 25 # [mm]\n",
    "dR = 2 # [mm]\n",
    "R_out = 50 # [mm]\n",
    "len_notch = 20\n",
    "n_notch = 1\n",
    "\n",
    "xmodel = XDomainFEGridAxiSym(integ_factor = 2 * np.pi,\n",
    "                               coord_min=(0+n_notch*d_x, R_in),\n",
    "                               coord_max=(L_x-n_notch*d_x, R_in+dR),\n",
    "                               shape=(n_x_e-2*n_notch, 1),\n",
    "                               fets=FETS2D4Q())\n",
    "\n",
    "E = 34000\n",
    "\n",
    "m_inelastic = MS13D(**mp_ms1)\n",
    "m_elastic = MATS3DElastic(E=40000, nu=0.18)\n",
    "m = TStepBC(\n",
    "    domains=[(xmodel, m_inelastic),\n",
    "             ]\n",
    ")"
   ]
  },
  {
   "cell_type": "code",
   "execution_count": null,
   "id": "2b77200b-9125-4358-be08-3e4e1aaea0f3",
   "metadata": {},
   "outputs": [],
   "source": [
    "tf_precrompression = TFBilinear(loading_ratio = 1.0, time_ratio=0.0)\n",
    "tf_sliding = TFBilinear(loading_ratio = 0.0, time_ratio=0.0)"
   ]
  },
  {
   "cell_type": "code",
   "execution_count": null,
   "id": "203202d7-3369-481b-bdb0-bf3fb2d5b24f",
   "metadata": {},
   "outputs": [],
   "source": [
    "slide_upper_slice = BCSliceI(slice=xmodel.mesh.I[:, -1],\n",
    "                                   var='u', dims=[0], value=0.0)\n",
    "slide_upper_dofs = slide_upper_slice.dofs\n",
    "\n",
    "slide_lower_slice = BCSliceI(slice=xmodel.mesh.I[:, 0],\n",
    "                                   var='u', dims=[0], value=0.0)\n",
    "slide_lower_dofs = slide_lower_slice.dofs\n",
    "\n",
    "confinement_upper_slice = BCSliceI(slice=xmodel.mesh.I[:, -1],\n",
    "                                   var='u', dims=[1], value=0.0)\n",
    "confinement_upper_dofs = confinement_upper_slice.dofs\n",
    "\n",
    "confinement_lower_slice = BCSliceI(slice=xmodel.mesh.I[:, 0],\n",
    "                                   var='u', dims=[1], value=0.0)\n",
    "confinement_lower_dofs = confinement_lower_slice.dofs\n"
   ]
  },
  {
   "cell_type": "code",
   "execution_count": null,
   "id": "79511e1c-883f-444b-8076-89decdfd9862",
   "metadata": {},
   "outputs": [],
   "source": [
    "factor = 1\n",
    "\n",
    "# Boundary conditions with inner side fixed\n",
    "\n",
    "slide = 0.01\n",
    "compression_stress = -0\n",
    "\n",
    "inner_fixed_0 = slide_lower_slice\n",
    "inner_fixed_1 = confinement_lower_slice\n",
    "upper_fixed_1 = confinement_upper_slice\n",
    "\n",
    "compression_force = compression_stress * 2 * np.pi * R_out * L_x / len(confinement_upper_dofs)\n",
    "upper_compression_force = [BCDof(var='f', dof=dof, value=compression_force, \n",
    "                                 time_function=tf_precrompression)\n",
    "                           for dof in confinement_upper_dofs]\n",
    "upper_compression_force[0].value *= 0.5\n",
    "upper_compression_force[-1].value *= 0.5\n",
    "\n",
    "slide_upper = [BCDof(var='u', dof=dof, value=slide, time_function=tf_sliding)\n",
    "                     for dof in slide_upper_dofs]\n",
    "bc1 = [inner_fixed_0, inner_fixed_1] + slide_upper + upper_compression_force"
   ]
  },
  {
   "cell_type": "code",
   "execution_count": null,
   "id": "aeeb0b9a-5415-4536-a19e-033cd85912e1",
   "metadata": {},
   "outputs": [],
   "source": [
    "m.bc=bc1\n",
    "m.hist.vis_record = {\n",
    "#    'strain': Vis3DTensorField(var='eps_ab'),\n",
    "    'stress': Vis3DTensorField(var='sig_ab'),\n",
    "    #        'kinematic hardening': Vis3DStateField(var='z_a')\n",
    "}\n",
    "\n",
    "s = m.sim\n",
    "s.tloop.verbose = True\n",
    "s.tloop.k_max = 1000\n",
    "s.tline.step = 0.02/factor\n",
    "# Accessing the following property - ensures serialization\n",
    "s.tstep.fe_domain.serialized_subdomains\n",
    "s.reset()\n",
    "s.run()"
   ]
  },
  {
   "cell_type": "code",
   "execution_count": null,
   "id": "98a61a03-e200-445e-8c1f-537d1b77ca45",
   "metadata": {},
   "outputs": [],
   "source": [
    "U_slide_eq = np.linspace(0,slide*factor,int(1/0.02*factor + 1))\n",
    "U_t = np.average(m.hist.U_t[:, slide_upper_dofs] - m.hist.U_t[:, slide_lower_dofs], axis=-1)\n",
    "F_t = np.sum(m.hist.F_t[:, slide_upper_dofs], axis=-1)"
   ]
  },
  {
   "cell_type": "code",
   "execution_count": null,
   "id": "3fab8784-59a9-4f2f-81ed-fdf5af4922a0",
   "metadata": {},
   "outputs": [],
   "source": [
    "fig, (ax1) = plt.subplots(1)\n",
    "ax1.plot(U_t, F_t/1000, label='ligament')\n",
    "# ax1.plot(U_slide_differential_ligament, -F_slide/1000, label='PTST')\n",
    "ax1.set_ylabel('Force [kN]')\n",
    "ax1.set_xlabel('Displacement[mm]')\n",
    "ax1.legend()\n",
    "# ax2.plot(-U_t/(L_x-n_notch*2*d_x), -F_t/(2 * np.pi * (R_in+dR)*(L_x-n_notch*2*d_x)))\n",
    "# # ax2.plot(-U_t/(L_x-n_notch*2*d_x), -F_t/(2 * np.pi * (R_in+dR)*(L_x-n_notch*2*d_x)))\n",
    "# # ax2.set_ylabel('Stress [MPa]')\n",
    "# # ax2.set_xlabel('Strain[-]')\n",
    "# G = np.trapz(F_t, x=U_t)/(2 * np.pi * (R_in+dR)*(L_x-n_notch*2*d_x))*1000\n",
    "# G2 = np.trapz(F_t/(2 * np.pi * (R_in+dR)), x=U_t/(L_x-n_notch*2*d_x))\n",
    "# print(G)\n",
    "# print(G2)\n",
    "# print(max(-F_t/1000))"
   ]
  },
  {
   "cell_type": "code",
   "execution_count": null,
   "id": "c4108f50-49f0-4db2-ad0c-2244b5a38b94",
   "metadata": {},
   "outputs": [],
   "source": [
    "if True:\n",
    "    mlab.options.backend = 'envisage'\n",
    "    mlab.options.offscreen = False # 'envisage'\n",
    "    f_strain = mlab.figure()\n",
    "    scene = mlab.get_engine().scenes[-1]\n",
    "    scene.name = 'stress'\n",
    "    strain_viz = Viz3DTensorField(vis3d=m.hist['stress'])\n",
    "    strain_viz.setup()\n",
    "    strain_viz.warp_vector.filter.scale_factor = 0.1\n",
    "    strain_viz.plot(s.tstep.t_n)\n",
    "    mlab.show()"
   ]
  },
  {
   "cell_type": "markdown",
   "id": "1c4e6078-acea-4c15-a3a6-1e382f49e53d",
   "metadata": {
    "tags": []
   },
   "source": [
    "## Complete PTST"
   ]
  },
  {
   "cell_type": "code",
   "execution_count": 4,
   "id": "67ff492f-2496-486c-92e9-67edd7aa0e1d",
   "metadata": {
    "scrolled": true,
    "tags": []
   },
   "outputs": [],
   "source": [
    "n_x_e = 5\n",
    "n_inner_y_e = 2\n",
    "n_outer_y_e = 2\n",
    "L_x = 50.0 # [mm]\n",
    "d_x = L_x / n_x_e\n",
    "R_in = 25 # [mm]\n",
    "dR = 2 # [mm]\n",
    "R_out = 50 # [mm]\n",
    "len_notch = 30\n",
    "n_notch = 1\n",
    "# geo_transform\n",
    "# gmesh\n",
    "xd_inner = XDomainFEGridAxiSym(integ_factor = 2 * np.pi,\n",
    "                               coord_min=(0, 0),\n",
    "                               coord_max=(L_x, R_in),\n",
    "                               shape=(n_x_e, n_inner_y_e),\n",
    "                               fets=FETS2D4Q())\n",
    "xd_middle = XDomainFEGridAxiSym(integ_factor = 2 * np.pi,\n",
    "                               coord_min=(0+n_notch*d_x, R_in),\n",
    "                               coord_max=(L_x-n_notch*d_x, R_in+dR),\n",
    "                               shape=(n_x_e-2*n_notch, 1),\n",
    "                               fets=FETS2D4Q())\n",
    "xd_outer = XDomainFEGridAxiSym(integ_factor = 2 * np.pi,\n",
    "                               coord_min=(0, R_in+dR),\n",
    "                               coord_max=(L_x, R_out),\n",
    "                               shape=(n_x_e, n_outer_y_e),\n",
    "                               fets=FETS2D4Q())\n",
    "m_elastic = MATS3DElastic(E=40000, nu=0.18)\n",
    "m_inelastic_MDM = MATS3DMplDamageEEQ(**mp_mdm)\n",
    "\n",
    "m_inelastic_MS1 = MS13D(**mp_ms1)\n",
    "\n",
    "m = TStepBC(\n",
    "    domains=[(xd_inner, m_inelastic_MDM),\n",
    "             (xd_outer, m_inelastic_MDM),\n",
    "             (xd_middle, m_inelastic_MS1),\n",
    "             ]\n",
    ")"
   ]
  },
  {
   "cell_type": "markdown",
   "id": "29373558-9668-46a6-a697-ebe650527353",
   "metadata": {},
   "source": [
    "## Boundary and transition conditions"
   ]
  },
  {
   "cell_type": "code",
   "execution_count": 5,
   "id": "044557ca-f2bb-4b1c-87d3-c3f0cd8b5f6e",
   "metadata": {},
   "outputs": [],
   "source": [
    "tf_precrompression = TFBilinear(loading_ratio = 1.0, time_ratio=0.0)\n",
    "tf_sliding = TFBilinear(loading_ratio = 0.6, time_ratio=0.2)\n",
    "#tf_sliding.interact()"
   ]
  },
  {
   "cell_type": "markdown",
   "id": "5e96e632-f400-452d-8f60-718a3213b314",
   "metadata": {},
   "source": [
    "### Kinematic links between the domains"
   ]
  },
  {
   "cell_type": "code",
   "execution_count": 6,
   "id": "9893c53f-cc19-4e72-bc6c-5419650e7b9f",
   "metadata": {},
   "outputs": [],
   "source": [
    "link_inner_middle_0 = BCSliceI(var='u', dims=[0],\n",
    "                             # slice=xd_inner.mesh.I[:, -1], \n",
    "                             slice=xd_inner.mesh.I[n_notch:-n_notch, -1], \n",
    "                             link_slice=xd_middle.mesh.I[:, 0],\n",
    "                             link_coeffs=[1],\n",
    "                             link_dims=[0],\n",
    "                             value=0,\n",
    "                            )\n",
    "\n",
    "link_inner_middle_1 = BCSliceI(var='u', dims=[1],\n",
    "                             # slice=xd_inner.mesh.I[:, -1], \n",
    "                             slice=xd_inner.mesh.I[n_notch:-n_notch, -1], \n",
    "                             link_slice=xd_middle.mesh.I[:, 0],\n",
    "                             link_coeffs=[1],\n",
    "                             link_dims=[1],\n",
    "                             value=0,\n",
    "                            )\n",
    "\n",
    "link_middle_outer_0 = BCSliceI(var='u', dims=[0],\n",
    "                             slice=xd_outer.mesh.I[n_notch:-n_notch, 0], \n",
    "                             # slice=xd_outer.mesh.I[:, 0], \n",
    "                             link_slice=xd_middle.mesh.I[:, -1],\n",
    "                             link_coeffs=[1],\n",
    "                             link_dims=[0],\n",
    "                             value=0,\n",
    "                            )\n",
    "\n",
    "link_middle_outer_1 = BCSliceI(var='u', dims=[1],\n",
    "                             slice=xd_outer.mesh.I[n_notch:-n_notch, 0], \n",
    "                             # slice=xd_outer.mesh.I[:, 0], \n",
    "                             link_slice=xd_middle.mesh.I[:, -1],\n",
    "                             link_coeffs=[1],\n",
    "                             link_dims=[1],\n",
    "                             value=0,\n",
    "                            )\n",
    "\n",
    "# link_middle_outer = BCSliceI(var='u', dims=[0, 1],\n",
    "#                              slice=xd_middle.mesh.I[n_notch:-n_notch, 0], \n",
    "#                              # slice=xd_outer.mesh.I[:, 0], \n",
    "#                              link_slice=xd_outer.mesh.I[:, -1],\n",
    "#                              link_coeffs=[1, 1],\n",
    "#                              link_dims=[0, 1],\n",
    "#                              value=0,\n",
    "#                             )"
   ]
  },
  {
   "cell_type": "markdown",
   "id": "67bf4496-d30a-40e2-8fa2-297470c9c890",
   "metadata": {},
   "source": [
    "## Sliding dc + Precompression fc"
   ]
  },
  {
   "cell_type": "code",
   "execution_count": 8,
   "id": "20384cf3-6190-4179-adb8-7ccee4bac9ee",
   "metadata": {},
   "outputs": [],
   "source": [
    "inner_fixed_1 = BCSliceI(slice=xd_inner.mesh.I[:, 0], var='u', dims=[1], value=0)\n",
    "outer_fixed_0 = BCSliceI(slice=xd_outer.mesh.I[0, :], var='u', dims=[0], value=0)\n",
    "inner_fixed_out_1 = BCSliceI(slice=xd_inner.mesh.I[:, -1], var='u', dims=[1], value=0)\n",
    "\n",
    "slide = 0.04\n",
    "inner_slide_slice = BCSliceI(slice=xd_inner.mesh.I[-1, :],\n",
    "                                   var='u', dims=[0], value=-0.1)\n",
    "\n",
    "slide_control_dofs = inner_slide_slice.dofs\n",
    "inner_slide = [BCDof(var='u', dof=dof, value=-slide, time_function=tf_sliding) \n",
    "                     for dof in slide_control_dofs ]\n",
    "\n",
    "\n",
    "outer_compression_slice = BCSliceI(slice=xd_outer.mesh.I[:, -1],\n",
    "                                   var='u', dims=[1], value=-0.1)\n",
    "\n",
    "compression_dofs = outer_compression_slice.dofs\n",
    "compression_stress = -0\n",
    "compression_force = compression_stress  * 2* np.pi* R_out * L_x / len(compression_dofs)\n",
    "outer_compression_force_first = [BCDof(var='f', dof=dof, value=compression_force, time_function=tf_precrompression) \n",
    "                                 for dof in compression_dofs ]\n",
    "\n",
    "compression_dofs_inner = inner_fixed_out_1.dofs\n",
    "outer_compression_force_inner_first = [BCDof(var='f', dof=dof, value=compression_force, time_function=tf_precrompression) \n",
    "                                 for dof in compression_dofs_inner ]\n",
    "\n",
    "\n",
    "# outer_compression_force_first = [BCDof(var='u', dof=dof, value=0.01, time_function=tf_precrompression) \n",
    "#                                  for dof in compression_dofs ]\n",
    "# outer_compression_force_first[0].value *=0.5\n",
    "# outer_compression_force_first[-1].value *=0.5\n",
    "outer_compression_force_inner_first[0].value *=0.5\n",
    "outer_compression_force_inner_first[-1].value *=0.5\n",
    "\n",
    "bc1 =   [inner_fixed_1,\n",
    "        outer_fixed_0,\n",
    "        link_middle_outer_0,\n",
    "         link_middle_outer_1,\n",
    "        link_inner_middle_0,\n",
    "         link_inner_middle_1\n",
    "        ]  + inner_slide # + outer_compression_force_first"
   ]
  },
  {
   "cell_type": "code",
   "execution_count": 9,
   "id": "fa6206b7-1cf1-44ce-878c-2d7822587ae4",
   "metadata": {},
   "outputs": [],
   "source": [
    "ligament_upper_slide_slice = BCSliceI(slice=xd_middle.mesh.I[:, -1],\n",
    "                                   var='u', dims=[0], value=-0.1)\n",
    "ligament_upper_slide_dofs = ligament_upper_slide_slice.dofs\n",
    "\n",
    "ligament_lower_slide_slice = BCSliceI(slice=xd_middle.mesh.I[:, 0],\n",
    "                                   var='u', dims=[0], value=-0.1)\n",
    "ligament_lower_slide_dofs = ligament_lower_slide_slice.dofs\n",
    "\n",
    "ligament_upper_confinement_slice = BCSliceI(slice=xd_middle.mesh.I[:, -1],\n",
    "                                   var='u', dims=[1], value=-0.1)\n",
    "ligament_upper_confinement_dofs = ligament_upper_confinement_slice.dofs\n",
    "\n",
    "ligament_lower_confinement_slice = BCSliceI(slice=xd_middle.mesh.I[:, 0],\n",
    "                                   var='u', dims=[1], value=-0.1)\n",
    "ligament_lower_confinement_dofs = ligament_lower_confinement_slice.dofs"
   ]
  },
  {
   "cell_type": "code",
   "execution_count": 10,
   "id": "b245b2fd-b006-4f23-a254-dec34981423a",
   "metadata": {
    "tags": []
   },
   "outputs": [
    {
     "data": {
      "text/plain": [
       "[<ibvpy.sim.domain_state.DomainState at 0x7fc921c67d10>,\n",
       " <ibvpy.sim.domain_state.DomainState at 0x7fc92167c9a0>,\n",
       " <ibvpy.sim.domain_state.DomainState at 0x7fc9213555e0>]"
      ]
     },
     "execution_count": 10,
     "metadata": {},
     "output_type": "execute_result"
    }
   ],
   "source": [
    "m.bc=bc1\n",
    "m.hist.vis_record = {\n",
    "    'strain': Vis3DTensorField(var='eps_ab'),\n",
    "#    'damage': Vis3DTensorField(var='omega_ab'),\n",
    "    'strain_p': Vis3DTensorField(var='eps_p_ab'),\n",
    "    'max_omega': Vis3DStateField(var='max_omega'),\n",
    "#     'max_omega_T': Vis3DStateField(var='max_omega_T'),\n",
    "#     'max_omega_N': Vis3DStateField(var='max_omega_N'),\n",
    "}\n",
    "\n",
    "s = m.sim\n",
    "s.tloop.verbose = True\n",
    "s.tloop.k_max = 1000\n",
    "s.tline.step = 0.01\n",
    "# Accessing the following property - ensures serialization\n",
    "s.tstep.fe_domain.serialized_subdomains"
   ]
  },
  {
   "cell_type": "code",
   "execution_count": 11,
   "id": "1c314099-6adc-4129-ac74-41272fd49393",
   "metadata": {
    "scrolled": true
   },
   "outputs": [
    {
     "name": "stdout",
     "output_type": "stream",
     "text": [
      "t:\t 0.00(0), \n",
      "\t 0.01(1), \n",
      "\t 0.02(1), \n",
      "\t 0.03(1), \n",
      "\t 0.04(1), \n",
      "\t 0.05(10), \n",
      "\t 0.06(22), \n",
      "\t 0.07(20), \n",
      "\t 0.08(16), \n",
      "\t 0.09(15), \n",
      "\t 0.10(22), \n",
      "\t 0.11(27), \n",
      "\t 0.12(26), \n",
      "\t 0.13(51), \n",
      "\t 0.14(81), \n",
      "\t 0.15(113), \n",
      "\t 0.16(92), \n",
      "\t 0.17(61), \n",
      "\t 0.18(53), \n",
      "\t 0.19(41), \n",
      "\t 0.20(37), \n",
      "\t 0.21(32), \n",
      "\t 0.22(33), \n",
      "\t 0.23(34), \n",
      "\t 0.24(33), \n",
      "\t 0.25(32), \n",
      "\t 0.26(32), \n",
      "\t 0.27(32), \n",
      "\t 0.28(34), \n",
      "\t 0.29(33), \n",
      "\t 0.30(47), \n",
      "\t 0.31(44), \n",
      "\t 0.32(41), \n",
      "\t 0.33(40), \n",
      "\t 0.34(38), \n",
      "\t 0.35(36), \n",
      "\t 0.36(36), \n",
      "\t 0.37(34), \n",
      "\t 0.38(34), \n",
      "\t 0.39(33), \n",
      "\t 0.40(49), \n",
      "\t 0.41(46), \n",
      "\t 0.42(43), \n",
      "\t 0.43(42), \n",
      "\t 0.44(41), \n",
      "\t 0.45(38), \n",
      "\t 0.46(36), \n",
      "\t 0.47(36), \n",
      "\t 0.48(36), \n",
      "\t 0.49(42), \n",
      "\t 0.50(43), \n",
      "\t 0.51(41), \n",
      "\t 0.52(42), \n",
      "\t 0.53(41), \n",
      "\t 0.54(40), \n",
      "\t 0.55(38), \n",
      "\t 0.56(39), \n",
      "\t 0.57(40), \n",
      "\t 0.58(39), \n",
      "\t 0.59(39), \n",
      "\t 0.60(39), \n",
      "\t 0.61(81), \n",
      "\t 0.62(75), \n",
      "\t 0.63(73), \n",
      "\t 0.64(68), \n",
      "\t 0.65(63), \n",
      "\t 0.66(57), \n",
      "\t 0.67(53), \n",
      "\t 0.68(52), \n",
      "\t 0.69(57), \n",
      "\t 0.70(59), \n",
      "\t 0.71(57), \n",
      "\t 0.72(54), \n",
      "\t 0.73(59), \n",
      "\t 0.74(46), \n",
      "\t 0.75(47), \n",
      "\t 0.76(50), \n",
      "\t 0.77(52), \n",
      "\t 0.78(51), \n",
      "\t 0.79(52), \n",
      "\t 0.80(49), \n",
      "\t 0.81(48), \n",
      "\t 0.82(48), \n",
      "\t 0.83(48), \n",
      "\t 0.84(51), \n",
      "\t 0.85(50), \n",
      "\t 0.86(55), \n",
      "\t 0.87(55), \n",
      "\t 0.88(55), \n",
      "\t 0.89(54), \n",
      "\t 0.90(62), \n",
      "\t 0.91(58), \n",
      "\t 0.92(57), \n",
      "\t 0.93(107), \n",
      "\t 0.94(177), \n",
      "\t 0.95(133), \n",
      "\t 0.96(162), \n",
      "\t 0.97(188), \n",
      "\t 0.98(165), \n",
      "\t 0.99(173), \n",
      "\t 1.00(103), \n",
      "\n"
     ]
    }
   ],
   "source": [
    "s.reset()\n",
    "s.run()"
   ]
  },
  {
   "cell_type": "markdown",
   "id": "d08712d2-893e-4371-bdd0-f387e1a59cf2",
   "metadata": {},
   "source": [
    "## Postprocesing"
   ]
  },
  {
   "cell_type": "markdown",
   "id": "343f4284-2be6-42ae-9284-279196266fd0",
   "metadata": {},
   "source": [
    "### Access the last displacement step"
   ]
  },
  {
   "cell_type": "code",
   "execution_count": 12,
   "id": "d055557f-49ff-483c-b532-c4ec207021fd",
   "metadata": {},
   "outputs": [],
   "source": [
    "F = m.hist.F_t\n",
    "U = m.hist.U_t"
   ]
  },
  {
   "cell_type": "code",
   "execution_count": 13,
   "id": "74ea5c59-7545-4090-91ea-3a30b33fe68e",
   "metadata": {},
   "outputs": [],
   "source": [
    "F_slide = np.sum(F[:, slide_control_dofs], axis=-1)\n",
    "F_slide_ligament_upper = np.sum(F[:, ligament_upper_slide_dofs], axis=-1)\n",
    "F_slide_ligament_lower = np.sum(F[:, ligament_lower_slide_dofs], axis=-1)\n",
    "F_confinement_ligament_upper = np.sum(F[:, ligament_upper_confinement_dofs], axis=-1)\n",
    "F_confinement_ligament_lower = np.sum(F[:, ligament_lower_confinement_dofs], axis=-1)\n",
    "U_slide = np.average(U[:, slide_control_dofs], axis=-1)\n",
    "U_slide_ligament_upper = np.average(U[:, ligament_upper_slide_dofs], axis=-1)\n",
    "U_slide_ligament_lower = np.average(U[:, ligament_lower_slide_dofs], axis=-1)\n",
    "U_slide_differential_ligament = U_slide_ligament_upper - U_slide_ligament_lower"
   ]
  },
  {
   "cell_type": "code",
   "execution_count": 14,
   "id": "e5d3b09e-94ab-481f-91bd-b9ab3d94779d",
   "metadata": {},
   "outputs": [
    {
     "data": {
      "application/vnd.jupyter.widget-view+json": {
       "model_id": "c2ee1e5893354e1a9d8a700ac4d2d0bd",
       "version_major": 2,
       "version_minor": 0
      },
      "text/plain": [
       "Canvas(toolbar=Toolbar(toolitems=[('Home', 'Reset original view', 'home', 'home'), ('Back', 'Back to previous …"
      ]
     },
     "metadata": {},
     "output_type": "display_data"
    },
    {
     "data": {
      "text/plain": [
       "Text(0.5, 0, 'Displacement at control[mm]')"
      ]
     },
     "execution_count": 14,
     "metadata": {},
     "output_type": "execute_result"
    }
   ],
   "source": [
    "_, ax = plt.subplots(1,1)\n",
    "ax.plot(-U_slide, -F_slide/1000)\n",
    "ax.set_ylabel('Force [kN]')\n",
    "ax.set_xlabel('Displacement at control[mm]')\n",
    "# ax.legend()"
   ]
  },
  {
   "cell_type": "code",
   "execution_count": null,
   "id": "7ade4a8b-1e71-4aef-8a3d-ad489f711b27",
   "metadata": {},
   "outputs": [],
   "source": [
    "if True:\n",
    "    mlab.options.backend = 'envisage'\n",
    "    mlab.options.offscreen = False # 'envisage'\n",
    "    f_strain = mlab.figure()\n",
    "    scene = mlab.get_engine().scenes[-1]\n",
    "    scene.name = 'strain'\n",
    "    strain_viz = Viz3DTensorField(vis3d=m.hist['strain_p'])\n",
    "    strain_viz.setup()\n",
    "    strain_viz.warp_vector.filter.scale_factor = 0.1\n",
    "    strain_viz.plot(s.tstep.t_n)\n",
    "    strain_viz = Viz3DScalarField(vis3d=m.hist['max_omega'])\n",
    "    strain_viz.setup()\n",
    "    strain_viz.warp_vector.filter.scale_factor = 0.1\n",
    "    strain_viz.plot(s.tstep.t_n)\n",
    "    mlab.show()"
   ]
  },
  {
   "cell_type": "markdown",
   "id": "77fa46a0-39b2-4d1c-ad67-452a41fc6ddb",
   "metadata": {},
   "source": [
    "### Study about slide profile at ligament"
   ]
  },
  {
   "cell_type": "code",
   "execution_count": 61,
   "id": "846cf9e6-bf5f-46eb-a506-3fda1cdefabf",
   "metadata": {},
   "outputs": [
    {
     "data": {
      "application/vnd.jupyter.widget-view+json": {
       "model_id": "1ede94f6953d4833ad820c278a34fd57",
       "version_major": 2,
       "version_minor": 0
      },
      "text/plain": [
       "Canvas(toolbar=Toolbar(toolitems=[('Home', 'Reset original view', 'home', 'home'), ('Back', 'Back to previous …"
      ]
     },
     "metadata": {},
     "output_type": "display_data"
    },
    {
     "data": {
      "text/plain": [
       "<matplotlib.legend.Legend at 0x7f0aae7ea5b0>"
      ]
     },
     "execution_count": 61,
     "metadata": {},
     "output_type": "execute_result"
    }
   ],
   "source": [
    "_, ax = plt.subplots(1,1)\n",
    "for i in range(F[:, ligament_upper_confinement_dofs].shape[1]):\n",
    "    # ax.plot(U_slide_differential_ligament, U[:, ligament_upper_slide_dofs][:,i], label=str(i))\n",
    "    # ax.plot(U_slide_differential_ligament, U[:, ligament_lower_slide_dofs][:,i], label=str(i))\n",
    "    ax.plot(U_slide_differential_ligament, U[:, ligament_upper_slide_dofs][:,i] - U[:, ligament_lower_slide_dofs][:,i], label='Position' + str(i))\n",
    "ax.set_ylabel('Displacement at each ligament node [kN]')\n",
    "ax.set_xlabel('Diferential displacement at ligament [mm]')\n",
    "ax.legend()\n",
    "\n"
   ]
  },
  {
   "cell_type": "markdown",
   "id": "887df28f-9733-402f-b4ba-07cbbc60fdb0",
   "metadata": {},
   "source": [
    "### Study about confinement profile at ligament"
   ]
  },
  {
   "cell_type": "code",
   "execution_count": 62,
   "id": "a0e9e1c3-5f51-4761-814e-6b12af80c048",
   "metadata": {},
   "outputs": [
    {
     "data": {
      "application/vnd.jupyter.widget-view+json": {
       "model_id": "03422080dfa04cbb929c22dfbdb7bfbe",
       "version_major": 2,
       "version_minor": 0
      },
      "text/plain": [
       "Canvas(toolbar=Toolbar(toolitems=[('Home', 'Reset original view', 'home', 'home'), ('Back', 'Back to previous …"
      ]
     },
     "metadata": {},
     "output_type": "display_data"
    },
    {
     "data": {
      "text/plain": [
       "<matplotlib.legend.Legend at 0x7f0aae7fe160>"
      ]
     },
     "execution_count": 62,
     "metadata": {},
     "output_type": "execute_result"
    }
   ],
   "source": [
    "_, ax = plt.subplots(1,1)\n",
    "for i in range(F[:, ligament_upper_confinement_dofs].shape[1]):\n",
    "    # ax.plot(U_slide_differential_ligament[:], F[:, ligament_upper_confinement_dofs][:,i]/1000, label=str(i))\n",
    "    # ax.plot(U_slide_differential_ligament[:], F[:, ligament_lower_confinement_dofs][:,i]/1000, label=str(i))\n",
    "    ax.plot(U_slide_differential_ligament, (F[:, ligament_upper_confinement_dofs][:,i] - F[:, ligament_lower_confinement_dofs][:,i])/1000, label='Position' + str(i))\n",
    "ax.set_ylabel('Force at each ligament node [kN]')\n",
    "ax.set_xlabel('Diferential displacement at ligament [mm]')\n",
    "ax.legend()"
   ]
  },
  {
   "cell_type": "markdown",
   "id": "b5e6dcfd-d69b-407f-bdbc-d5f73cd39a92",
   "metadata": {},
   "source": [
    "### Study about dilatancy profile at ligament"
   ]
  },
  {
   "cell_type": "code",
   "execution_count": 119,
   "id": "bfafb3e5-ddda-4d99-8e9e-00cf80659b06",
   "metadata": {},
   "outputs": [
    {
     "data": {
      "text/plain": [
       "<matplotlib.legend.Legend at 0x19905c23bb0>"
      ]
     },
     "execution_count": 119,
     "metadata": {},
     "output_type": "execute_result"
    },
    {
     "data": {
      "application/vnd.jupyter.widget-view+json": {
       "model_id": "c71b12ed1f7f449c8437238ece5eff6b",
       "version_major": 2,
       "version_minor": 0
      },
      "text/html": [
       "\n",
       "            <div style=\"display: inline-block;\">\n",
       "                <div class=\"jupyter-widgets widget-label\" style=\"text-align: center;\">\n",
       "                    Figure\n",
       "                </div>\n",
       "                <img src='data:image/png;base64,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' width=640.0/>\n",
       "            </div>\n",
       "        "
      ],
      "text/plain": [
       "Canvas(toolbar=Toolbar(toolitems=[('Home', 'Reset original view', 'home', 'home'), ('Back', 'Back to previous …"
      ]
     },
     "metadata": {},
     "output_type": "display_data"
    }
   ],
   "source": [
    "_, ax = plt.subplots(1,1)\n",
    "for i in range(F[:, ligament_upper_confinement_dofs].shape[1]):\n",
    "    # ax.plot(U_slide_differential_ligament[:], U[:, ligament_upper_confinement_dofs][:,i], label= 'Position' + str(i))\n",
    "    # ax.plot(U_slide_differential_ligament[:], U[:, ligament_lower_confinement_dofs][:,i], label= 'Position' + str(i))\n",
    "    ax.plot(U_slide_differential_ligament, U[:, ligament_upper_confinement_dofs][:,i] - U[:, ligament_lower_confinement_dofs][:,i], label = 'Position' + str(i))\n",
    "ax.set_ylabel('Dilatancy at each node [mm]')\n",
    "ax.set_xlabel('Diferential displacement at ligament [mm]')\n",
    "ax.legend()\n"
   ]
  }
 ],
 "metadata": {
  "kernelspec": {
   "display_name": "bmcs_env",
   "language": "python",
   "name": "bmcs_env"
  },
  "language_info": {
   "codemirror_mode": {
    "name": "ipython",
    "version": 3
   },
   "file_extension": ".py",
   "mimetype": "text/x-python",
   "name": "python",
   "nbconvert_exporter": "python",
   "pygments_lexer": "ipython3",
   "version": "3.8.8"
  }
 },
 "nbformat": 4,
 "nbformat_minor": 5
}
