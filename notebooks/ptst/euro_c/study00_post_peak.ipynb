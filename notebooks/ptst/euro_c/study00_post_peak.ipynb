{
 "cells": [
  {
   "cell_type": "markdown",
   "id": "7fe163db-9193-44c1-9033-f79a48775c99",
   "metadata": {},
   "source": [
    "# **Studies for post-peak behavior - not included at Euro-C**"
   ]
  },
  {
   "cell_type": "markdown",
   "id": "e113a094-adc8-4217-98c9-3af72d8a35d5",
   "metadata": {},
   "source": [
    "Inspecting the snap-back problem"
   ]
  },
  {
   "cell_type": "code",
   "execution_count": 1,
   "id": "d7b4549e-c36b-4c4c-96d2-8a71c0b9aae8",
   "metadata": {},
   "outputs": [],
   "source": [
    "%matplotlib widget\n",
    "import numpy as np\n",
    "np.seterr(divide='ignore', invalid='ignore')\n",
    "import matplotlib.pylab as plt\n",
    "from ibvpy.bcond import BCSlice, BCDof\n",
    "from ibvpy.fets import FETS3D8H\n",
    "from ibvpy.fets import FETS2D4Q\n",
    "from ibvpy.tmodel.mats3D import MATS3DElastic\n",
    "import bmcs_matmod.ms1.concrete_material_db as mp_db\n",
    "from ibvpy.tmodel.viz3d_scalar_field import \\\n",
    "    Vis3DStateField, Viz3DScalarField\n",
    "from ibvpy.tmodel.viz3d_tensor_field import \\\n",
    "    Vis3DTensorField, Viz3DTensorField\n",
    "from ibvpy.sim.tstep_bc import TStepBC\n",
    "from ibvpy.xmodel.xdomain_fe_grid import XDomainFEGrid\n",
    "from ibvpy.xmodel.xdomain_fe_grid_axisym import XDomainFEGridAxiSym\n",
    "from ibvpy.api import TStepBC, TFCyclicNonsymmetricConstant, TFBilinear\n",
    "from mayavi import mlab\n",
    "from bmcs_matmod.ms1 import MS13D\n",
    "from bmcs_matmod.ms1 import MS13D_damage_jir\n",
    "from ibvpy.tmodel.mats3D.mats3D_microplane.vmats3D_mpl_d_eeq import \\\n",
    "    MATS3DMplDamageEEQ\n",
    "from ibvpy.bcond import BCSliceI, BCDof\n",
    "from ibvpy.tfunction import TimeFunction, TFSelector, TFCyclicSin, TFCyclicNonsymmetricConstant\n",
    "import copy"
   ]
  },
  {
   "cell_type": "code",
   "execution_count": 2,
   "id": "3cda00a6-1666-4a4f-a318-53aa06afe317",
   "metadata": {},
   "outputs": [],
   "source": [
    "# mp_ms1 = dict(\n",
    "#     E = 40e+3,\n",
    "#     nu = 0.18,\n",
    "#     Ad = 1000.0,\n",
    "#     eps_0 = 0.00001,\n",
    "#     K_N = 0.,\n",
    "#     sigma_N_0 = 1.,\n",
    "#     gamma_N = 0.,\n",
    "#     sigma_T_0 = 0.1,\n",
    "#     K_T = 10.0,\n",
    "#     gamma_T = 10.,\n",
    "#     S_T = 0.00000001,\n",
    "#     c_T = 1.0,\n",
    "#     r_T = 1.0,\n",
    "#     m_T = 0.1,\n",
    "#     p_T = 1.\n",
    "# )\n",
    "\n",
    "mp_mdm = dict(\n",
    "    epsilon_0 = 59.0e-6,\n",
    "    epsilon_f = 250.0e-6,\n",
    "    c_T = 0.02,\n",
    "    E = 28000,\n",
    "    nu = 0.18\n",
    ")"
   ]
  },
  {
   "cell_type": "markdown",
   "id": "e1a6a1a4-d857-4067-961e-3c69ba2b922c",
   "metadata": {
    "tags": []
   },
   "source": [
    "## Simple Ligament Discretization "
   ]
  },
  {
   "cell_type": "code",
   "execution_count": 142,
   "id": "954027bf-04ee-4bd7-9351-3edbba85e615",
   "metadata": {},
   "outputs": [],
   "source": [
    "# mp_ms1 = dict(\n",
    "#     E = 28e+3,\n",
    "#     nu = 0.18,\n",
    "#     Ad = 1000.0,\n",
    "#     eps_0 = 0.00001,\n",
    "#     K_N = 100.,\n",
    "#     sigma_N_0 = 20.,\n",
    "#     gamma_N = 100.,\n",
    "#     sigma_T_0 = 1.,\n",
    "#     K_T = 1000.0,\n",
    "#     gamma_T = 1000.,\n",
    "#     S_T = 0.000001,\n",
    "#     c_T = 1.5,\n",
    "#     r_T = 1.0,\n",
    "#     m_T = 0.1,\n",
    "#     p_T = 1.\n",
    "# )\n",
    "\n",
    "# mp_ms1 = dict(\n",
    "#     E = 42e+3,\n",
    "#     nu = 0.2,\n",
    "#     Ad = 1800.0,\n",
    "#     eps_0 = 0.0001,\n",
    "#     K_N = 17000.,\n",
    "#     sigma_N_0 = 45.,\n",
    "#     gamma_N = 9000.,\n",
    "#     sigma_T_0 = 2.0,\n",
    "#     K_T = 20000.0,\n",
    "#     gamma_T = 500000,\n",
    "#     S_T = 0.0075,\n",
    "#     c_T = 9.,\n",
    "#     r_T = 15.,\n",
    "#     m_T = 0.004,\n",
    "#     p_T = 10.\n",
    "# )\n",
    "\n",
    "mp_ms1 = dict(\n",
    "    E = 40e+3,\n",
    "    nu = 0.2,\n",
    "    epsilon_0 = 60.0e-6,\n",
    "    epsilon_f = 250.0e-6,\n",
    "    c = 0.002,\n",
    "    K_N = 17000.,\n",
    "    sigma_N_0 = 45.,\n",
    "    gamma_N = 9000.,\n",
    "    sigma_T_0 = 2.0,\n",
    "    K_T = 20000.0,\n",
    "    gamma_T = 500000,\n",
    "    S_T = 0.0075,\n",
    "    c_T = 9.,\n",
    "    r_T = 15.,\n",
    "    m_T = 0.004,\n",
    "    p_T = 10.\n",
    ")\n",
    "\n",
    "\n",
    "# mp_ms1 = dict(\n",
    "#     E = 28e+3,\n",
    "#     nu = 0.18,\n",
    "#     epsilon_0 = 65.0e-5,\n",
    "#     epsilon_f = 200000.0e-5,\n",
    "#     c = 1.0,\n",
    "#     K_N = 100.,\n",
    "#     sigma_N_0 = 20.,\n",
    "#     gamma_N = 100.,\n",
    "#     sigma_T_0 = 1.,\n",
    "#     K_T = 1000.0,\n",
    "#     gamma_T = 1000.,\n",
    "#     S_T = 0.0000005,\n",
    "#     c_T = 1.5,\n",
    "#     r_T = 1.0,\n",
    "#     m_T = 0.0,\n",
    "#     p_T = 1.\n",
    "# )"
   ]
  },
  {
   "cell_type": "code",
   "execution_count": 143,
   "id": "cfc8a405-15c0-4d2a-9687-08422101ab0e",
   "metadata": {},
   "outputs": [],
   "source": [
    "n_x_e = 5\n",
    "n_inner_y_e = 2\n",
    "n_outer_y_e = 2\n",
    "L_x = 50.0 # [mm]\n",
    "d_x = L_x / n_x_e\n",
    "R_in = 25 # [mm]\n",
    "dR = 2 # [mm]\n",
    "R_out = 50 # [mm]\n",
    "len_notch = 20\n",
    "n_notch = 1\n",
    "\n",
    "xmodel = XDomainFEGridAxiSym(integ_factor = 2 * np.pi,\n",
    "                               coord_min=(0+n_notch*d_x, R_in),\n",
    "                               coord_max=(L_x-n_notch*d_x, R_in+dR),\n",
    "                               shape=(n_x_e-2*n_notch, 1),\n",
    "                               fets=FETS2D4Q())\n",
    "\n",
    "E = 34000\n",
    "\n",
    "# m_inelastic = MS13D(**mp_ms1)\n",
    "m_inelastic_MS1 = MS13D_damage_jir(**mp_ms1)\n",
    "m_elastic = MATS3DElastic(E=40000, nu=0.18)\n",
    "m1 = TStepBC(\n",
    "    domains=[(xmodel, m_inelastic_MS1),\n",
    "             ]\n",
    ")"
   ]
  },
  {
   "cell_type": "code",
   "execution_count": 144,
   "id": "2b77200b-9125-4358-be08-3e4e1aaea0f3",
   "metadata": {},
   "outputs": [],
   "source": [
    "tf_precrompression = TFBilinear(loading_ratio = 1.0, time_ratio=0.5)\n",
    "tf_sliding = TFBilinear(loading_ratio = 0.0, time_ratio=0.5)"
   ]
  },
  {
   "cell_type": "code",
   "execution_count": 145,
   "id": "203202d7-3369-481b-bdb0-bf3fb2d5b24f",
   "metadata": {},
   "outputs": [],
   "source": [
    "slide_upper_slice = BCSliceI(slice=xmodel.mesh.I[:, -1],\n",
    "                                   var='u', dims=[0], value=0.0)\n",
    "slide_upper_dofs = slide_upper_slice.dofs\n",
    "\n",
    "slide_lower_slice = BCSliceI(slice=xmodel.mesh.I[:, 0],\n",
    "                                   var='u', dims=[0], value=0.0)\n",
    "slide_lower_dofs = slide_lower_slice.dofs\n",
    "\n",
    "confinement_upper_slice = BCSliceI(slice=xmodel.mesh.I[:, -1],\n",
    "                                   var='u', dims=[1], value=0.0)\n",
    "confinement_upper_dofs = confinement_upper_slice.dofs\n",
    "\n",
    "confinement_lower_slice = BCSliceI(slice=xmodel.mesh.I[:, 0],\n",
    "                                   var='u', dims=[1], value=0.0)\n",
    "confinement_lower_dofs = confinement_lower_slice.dofs\n"
   ]
  },
  {
   "cell_type": "code",
   "execution_count": 146,
   "id": "79511e1c-883f-444b-8076-89decdfd9862",
   "metadata": {},
   "outputs": [],
   "source": [
    "factor = 1\n",
    "\n",
    "# Boundary conditions with inner side fixed\n",
    "\n",
    "slide = 0.015\n",
    "compression_stress = -0\n",
    "\n",
    "inner_fixed_0 = slide_lower_slice\n",
    "inner_fixed_1 = confinement_lower_slice\n",
    "upper_fixed_1 = confinement_upper_slice\n",
    "\n",
    "compression_force = compression_stress * 2 * np.pi * R_out * L_x / len(confinement_upper_dofs)\n",
    "upper_compression_force = [BCDof(var='f', dof=dof, value=compression_force, \n",
    "                                 time_function=tf_precrompression)\n",
    "                           for dof in confinement_upper_dofs]\n",
    "\n",
    "upper_compression_force = [BCDof(var='u', dof=dof, value=0.001, \n",
    "                                 time_function=tf_precrompression)\n",
    "                           for dof in confinement_upper_dofs]\n",
    "\n",
    "# upper_compression_force[0].value *= 0.5\n",
    "# upper_compression_force[-1].value *= 0.5\n",
    "\n",
    "slide_upper = [BCDof(var='u', dof=dof, value=slide, time_function=tf_sliding)\n",
    "                     for dof in slide_upper_dofs]\n",
    "bc1 = [inner_fixed_0, inner_fixed_1] + slide_upper + upper_compression_force\n",
    "# bc1 = [inner_fixed_0, inner_fixed_1,upper_fixed_1] + slide_upper"
   ]
  },
  {
   "cell_type": "code",
   "execution_count": 147,
   "id": "aeeb0b9a-5415-4536-a19e-033cd85912e1",
   "metadata": {},
   "outputs": [],
   "source": [
    "m = copy.deepcopy(m1)\n",
    "m.bc=bc1\n",
    "m.hist.vis_record = {\n",
    "#    'strain': Vis3DTensorField(var='eps_ab'),\n",
    "    'damage': Vis3DTensorField(var='omega_ab'),\n",
    "    'stress': Vis3DTensorField(var='sig_ab'),\n",
    "    #        'kinematic hardening': Vis3DStateField(var='z_a')\n",
    "}\n",
    "\n",
    "s = m.sim\n",
    "s.tloop.verbose = False\n",
    "s.tloop.k_max = 1000\n",
    "s.tline.step = 0.01/factor\n",
    "# Accessing the following property - ensures serialization\n",
    "s.tstep.fe_domain.serialized_subdomains\n",
    "s.reset()\n",
    "s.run()"
   ]
  },
  {
   "cell_type": "code",
   "execution_count": 148,
   "id": "98a61a03-e200-445e-8c1f-537d1b77ca45",
   "metadata": {},
   "outputs": [],
   "source": [
    "U_slide_eq = np.linspace(0,slide*factor,int(1/0.02*factor + 1))\n",
    "U_t = np.average(m.hist.U_t[:, slide_upper_dofs] - m.hist.U_t[:, slide_lower_dofs], axis=-1)\n",
    "F_t = np.sum(m.hist.F_t[:, slide_upper_dofs], axis=-1)\n",
    "U_t_confinement = np.average(m.hist.U_t[:, confinement_upper_dofs], axis=-1)\n",
    "F_t_confinement = np.sum(m.hist.F_t[:, confinement_upper_dofs], axis=-1)"
   ]
  },
  {
   "cell_type": "code",
   "execution_count": 149,
   "id": "3fab8784-59a9-4f2f-81ed-fdf5af4922a0",
   "metadata": {},
   "outputs": [
    {
     "data": {
      "text/plain": [
       "[<matplotlib.lines.Line2D at 0x21d7f2f2070>]"
      ]
     },
     "execution_count": 149,
     "metadata": {},
     "output_type": "execute_result"
    },
    {
     "data": {
      "application/vnd.jupyter.widget-view+json": {
       "model_id": "494f42d0082d491797b324fb734791eb",
       "version_major": 2,
       "version_minor": 0
      },
      "text/html": [
       "\n",
       "            <div style=\"display: inline-block;\">\n",
       "                <div class=\"jupyter-widgets widget-label\" style=\"text-align: center;\">\n",
       "                    Figure\n",
       "                </div>\n",
       "                <img src='data:image/png;base64,iVBORw0KGgoAAAANSUhEUgAAAoAAAAHgCAYAAAA10dzkAAAAOXRFWHRTb2Z0d2FyZQBNYXRwbG90bGliIHZlcnNpb24zLjQuMywgaHR0cHM6Ly9tYXRwbG90bGliLm9yZy/MnkTPAAAACXBIWXMAAA9hAAAPYQGoP6dpAAB8CElEQVR4nO3deVxU5f4H8M9hgGEHBWFAEXBD0XKBVMw1E5eyvOlV64babra4ZAuZZd1fod0yKrcWzXatSPOWpliC3sAFBXNBRAVBBRFUNllnzu+PYUZGdpiZM8vn/XrNq+bMc87zneE4fHlWQRRFEURERERkNWykDoCIiIiIjIsJIBEREZGVYQJIREREZGWYABIRERFZGSaARERERFaGCSARERGRlWECSERERGRlmAASERERWRkmgERERERWhgkgERERkZVhAkhERERkZZgAEhEREVkZJoBEREREVoYJIBEREZGVYQJIREREZGWYABIRERFZGSaARERERFaGCSARERGRlWECSERERGRlmAASERERWRkmgERERERWhgkgERERkZVhAkhERERkZZgAEhEREVkZJoBEREREVoYJIBEREZGVYQJIREREZGWYABIRERFZGSaARERERFaGCSARERGRlWECSERERGRlmAASERERWRkmgERERERWhgkgERERkZVhAkhERERkZZgAEhEREVkZJoBEREREVoYJIBEREZGVYQJIREREZGWYABIRERFZGSaARERERFaGCSARERGRlWECSERERGRlmAASERERWRkmgERERERWhgkgERERkZVhAkhERERkZZgAEhEREVkZJoBEREREVoYJIBEREZGVYQJIREREZGWYABIRERFZGSaARERERFaGCSARERGRlWECSERERGRlmAASERERWRlbqQMwZyqVCpcuXYKrqysEQZA6HDJToiiipKQEfn5+sLExzt9kvHdJH3jvkrmS4t41NUwA2+HSpUvw9/eXOgyyEDk5OejSpYtR6uK9S/rEe5fMlTHvXVPDBLAdXF1dAahvIDc3N4mjIXNVXFwMf39/7f1kDLx3SR9475K5kuLeNTVMANtB0/3g5ubGLyJqN2N2Z/HeJX3ivUvmypqHEVhnxzcRERGRFWMCSERERGRlmAASERERWRkmgERERERWxiwSwL1792Ly5Mnw8/ODIAjYunWrzuuCIDT4+M9//tPoNTdu3NjgORUVFQZ+N0RERETSMosEsKysDP3798eqVasafD03N1fnsWHDBgiCgKlTpzZ5XTc3t3rnOjg4GOItEBEREZkMs1gGZuLEiZg4cWKjrysUCp3nv/zyC8aMGYNu3bo1eV1BEOqdS0RERGTpzKIFsDUuX76M3377DY899lizZUtLSxEQEIAuXbrg3nvvRUpKSpPlKysrUVxcrPMgIiIiMjcWlwB++eWXcHV1xQMPPNBkud69e2Pjxo3Ytm0bvv/+ezg4OODOO+9ERkZGo+dER0fD3d1d++B2RERERGSOLC4B3LBhA/71r381O5Zv6NChePjhh9G/f3+MGDECP/zwA3r16oWPP/640XOioqJQVFSkfeTk5Og7fDIha9asQVBQEBwcHBAaGop9+/Y1WT4hIQGhoaFwcHBAt27dsG7dunplYmNjERISArlcjpCQEGzZskXn9eYmPAHqTcyXLVsGPz8/ODo6YvTo0Thx4kS73isREVkXi0oA9+3bh/T0dDz++OOtPtfGxgZ33HFHky2Acrlcu/0QtyGybJs3b8aCBQuwZMkSpKSkYMSIEZg4cSKys7MbLJ+ZmYlJkyZhxIgRSElJwauvvornn38esbGx2jJJSUmYMWMGIiMjcfToUURGRmL69OlITk7WlmluwhMAvPvuu1i5ciVWrVqFQ4cOQaFQYNy4cSgpKdHfB0BERBZNEEVRlDqI1hAEAVu2bMGUKVPqvTZnzhwcP35c5xdqS4miiMGDB+O2227Dhg0bWnROcXEx3N3dUVRUxGTQwgwZMgSDBg3C2rVrtcf69OmDKVOmIDo6ul75l19+Gdu2bUNaWpr22Ny5c3H06FEkJSUBAGbMmIHi4mLs2LFDW2bChAlwcXFBbGxsvfuooXtdFEX4+flhwYIFePnllwGox6b6+PhgxYoVeOqpp1r0/pq6d0VRRHm1skXXIevhaCert2+qFN+B/N4lfeB9ZCazgEtLS3HmzBnt88zMTKSmpqJjx47o2rUrAPUP88cff8T777/f4DVmzZqFzp07a395v/nmmxg6dCh69uyJ4uJifPTRR0hNTcXq1asN/4Ys0I2qGnz4RwYeGNgFwQpXqcNpl6qqKhw+fBivvPKKzvGIiAgkJiY2eE5SUhIiIiJ0jo0fPx7r169HdXU17OzskJSUhIULF9Yr88EHH7Q4tszMTOTl5enUJZfLMWrUKCQmJjaaAFZWVqKyslL7vLEJTKIoYtq6JBw+f63FMZF1OPnWeDjZt/9Xxtq1a7F27VpkZWUBAPr27YvXX3+9yZUezMG5K6X4Zn82Hhrijx7e5v0dSNbBLLqAk5OTMXDgQAwcOBAAsGjRIgwcOBCvv/66tsymTZsgiiIefPDBBq+RnZ2N3Nxc7fPr16/jySefRJ8+fRAREYGLFy9i7969GDx4sGHfjIX64VAOPkk4h/mbUmBmjcr1FBQUQKlUwsfHR+e4j48P8vLyGjwnLy+vwfI1NTUoKChosszly5dbHJum/tbEBrR8AlN5tZLJHxlUly5dsHz5ciQnJyM5ORl33XUX7r//frMex7ol5QLu/fh/2PBXJlbGnZY6HKIWMYsWwNGjRzebVDz55JN48sknG309Pj5e5/kHH3zQqpYXalparnr82am8EuzLKMDIXp0kjqj9bu3uEkWx3rHmyt96vLXX1FdsUVFRWLRokfZ5cXFxs7PYk1+7G072slbHRpbJ0U4/98LkyZN1nr/99ttYu3Yt9u/fj759++qlDmOpUarw2tbj2HTo5oTAg5lX2/zvmsiYzCIBJNN3Ov/mBITP9p0z6wTQy8sLMpmsXotafn5+vZY3DYVC0WB5W1tbeHp6NlnG29u7xTPKNQuX5+XlwdfXt0WxAepuYrlc3qI6NJzsZXrp8iNqjFKpxI8//oiysjKEh4dLHU6r1ChVWLA5Fb/+nQtBAJ4d0wOf7D2HgtIqZBaUoVsnF6lDJGqSWXQBk2kTRRFnLpdqn+/LKMDJS+a7SLa9vT1CQ0MRFxenczwuLg7Dhg1r8Jzw8PB65Xft2oWwsDDY2dk1WaY1ww6CgoKgUCh0rlNVVYWEhIRGYyMyNceOHYOLiwvkcjnmzp2LLVu2ICQkpMGyprgAv1Il4oUfj+LXv3NhJxPwaWQYXogIRv8u7gCAQ1lXJY6QqHlMAKndcosqUFJZA1sbAeP7qluhPv/fOYmjap9Fixbh888/x4YNG5CWloaFCxciOzsbc+fOBaDuUp01a5a2/Ny5c3H+/HksWrQIaWlp2LBhA9avX4/Fixdry8yfPx+7du3CihUrcOrUKaxYsQK7d+/GvHnztGVKS0uRmpqK1NRUADcnPGmWnxEEAQsWLMA777yDLVu24Pjx45gzZw6cnJzw0EMPGeGTIWq/4OBgpKamYv/+/Xj66acxe/ZsnDx5ssGyUizA/9PhC5j88f+w80T9cbU5V2/gsS8P4ZfUS7C1EbD6oUEYF6L+3rsjsCMA4GAmx9GS6WP/DrXb6cvq7t9AL2fMG90DO09cxrbUS3hxfDB83R0ljq5tZsyYgcLCQrz11lvIzc1Fv379sH37dgQEBAAAcnNzddYEDAoKwvbt27Fw4UKsXr0afn5++OijjzB16lRtmWHDhmHTpk147bXXsHTpUnTv3h2bN29GWFiYtkxycjLGjBmjfa4Ztzd79mxs3LgRAPDSSy+hvLwc8+bNw7Vr1zBkyBDs2rULrq6ceUjmwd7eHj169AAAhIWF4dChQ/jwww/xySef1CvblvGr7fXdgfM4drEIT319GJP7++Hx4UEorqhGSvZ1rIk/g4pqFexkAj5+cCAi+t7cT/6OoI5A/Fm2AJJZYAJI7ZZR2/3by8cF/f09MDioIw5mXsWne8/hjcnmNai7rnnz5um0ztWlScbqGjVqFI4cOdLkNadNm4Zp06bpHKvbpdWSCU+CIGDZsmVYtmxZk+WIzIUoijrLFNXVlvGr7ZVXVKH9//8evYT/Hr2k8/qQoI74vyn90NNH94+u0IAOEAQg++oNXC6ugI9b0ztSEUmJXcDUbpoWwJ61a189f1dPAMB3B7KRX1zR6HlEZH1effVV7Nu3D1lZWTh27BiWLFmC+Ph4/Otf/5I6NADq8X2XS9TJ6OezwhAa0AFeLvYI9nHFnT08sXJ6f2x6cmi95A8A3Bzs0EehXlT4YCZbAcm0sQWQ2u10vqYFUP2FeGcPT4QGdMDh89ewLuEcXp/c8OBuIrI+ly9fRmRkJHJzc+Hu7o7bb78dv//+O8aNGyd1aACAKyWVUKpEyGwEjOntjbtDGp9d35DBQR1xMrcYh7KuYnJ/PwNFSdR+bAGkdlHPAFa3APbyUS97IAgC5o9VtwJ+e+A88kvYCkhEauvXr0dWVhYqKyuRn5+P3bt3m0zyBwC5ReUAAB9XOWQ2rV/L7+ZEELYAkmljAkjtcvF6OcqqlLCTCQj0ctYeH9HTC4O6eqCyRoVPEsx7RjARWQ/N+D+Fe9vG790R1AEAkH65BEXl1XqLi0jfmABSu2gmgAR5OcNOdvN2EgQB8+/uBQD4Zv95XLxeLkl8REStkVubAPp6tG0FA29XBwR6OkEUgZRsLgdDposJILWLdgJIAwOiR/b0wpCgjqisUWHFjlPGDo2IqNU0XcC+7ZjBe3sXDwDACTNeEJ8sHxNAapfTmiVgvOsngIIgYOm9IRAEYNvRSzh8nn8NE5Fpy21nFzAA9PVTzwQ+calILzERGQITQGqXjHzdCSC36tfZHf8M7QIA+PevJ6FSNb3GHRGRlDRjANuziH1fP/WWcGwBJFPGBJDaTKUSby4CrWh8F4rFEcFwtpchNec6fjl60VjhERG12s0xgO1vATxfeAPFFZwIQqaJCSC12cXr5SivVsJeZoOAjk6NlvN2c8C8Meptn/7v1zRcK6syVohERC2mVIm4XKxpAWx7AtjB2R6dayeRnGQrIJkoJoDUZpoJIN06OcNW1vSt9PiIIPTycUFhWRX+/WvDm74TEUmpsLQSNSoRNgLQyaV9289pWgGPX+Q4QDJNTACpzbQTQBqYAXwrua0MK6beDkEAfk65iPj0fEOHR0TUKpdqu3993Bya/aO2OZpxgGwBJFPFBJDaLONy0xNAbjWwawc8emcQAGDJluMo4dgYIjIhebVLwLRnBrDGzZnATADJNDEBpDZLb2INwMa8ENEL/h0dcfF6OZZsOQ5R5KxgIjIN2gkgekgA+3VWtwCeuVKKimplu69HpG9MAKlNlCoRZ/Jb3gWs4WRvi5gZAyCzEbDt6CX8kJxjqBCJiFpFuw2cW9uXgNHwcZPD09keSpWIU3kl7b4ekb4xAaQ2ybl6A5U1KshtbdC1iRnADQkN6IjFEcEAgDe2ndBOJiEikpJmDKBfO5aA0RAEAX1rWwE5EYRMERNAahNN0ta9kwtkNkKrz39qZDeM7NUJFdUqLNycyq5gIpKcPscAAhwHSKaNCSC1SYa2+7dlE0BuZWMjYOX0/rC3tcGJS8Xa8YRERFLR5xhAAOinnQnMFkAyPUwAqU1Ot2ECyK28XOQY2dMLALDjWJ5e4iIiagtVnUWgFe3YBq6ufp3VLYBpuSWcCEImhwkgtUlr1gBsyoR+vgCAnSeYABKRdArKKlGtVC8C7e3avkWgNbp2dIKnsz2qlCqcYCsgmRgmgNRqSpWIs1fa1wWsMa6PD2xtBJzKK0FmQZk+wiMiajXNDOBOrnLYtXMRaA1BEBAa0AEAcPj8Nb1ck0hfmABSq50vLENVjQoOdjbw79C6GcC3cneyQ3h3TwDAjuO5+giPiKjVLl3Xb/evhiYBTM5iAkimhQkgtZqm+7eHtwts2jAD+FYTa7uBfz/ObmAikkZ+iWYNQP10/2poEsAj2de42gGZFCaA1GraLeC82zf+TyOirw8EAfj7QhEuXLuhl2sSEbVGQUklAHUXsD716+wOe5kNCkqrkH2V329kOpgAUqudrl0Cpj0zgOvycpHjjsCOANgKSETSuFJaBUD9faRPDnYy7WxgdgOTKWECSK2mbQFs5wSQusb3VQAA9mYU6O2aREQtdaW2BVDfCSBwsxv4cDYTQDIdTACpVWqUKpy7op6t294lYOoa3kO9HuChzKuoqlHp7bpERC1RUGrIBFDdw3GEM4HJhDABpFbJKryBKqUKTvYydPbQ32y5Xj4u8HS2R3m1Eqk51/V2XSKiltAkgPoeAwgAgwI8AADpl0tQVF6t9+sTtQUTQGoVTfdvTz3NANYQBEG7HEziWXYDE5HxiKKo7QLuZIAWQG9XB3Tt6ARRBP/AJZPBBJBaRbMEjL4mgNQ1rLu6GzjxbKHer01E1JjSyhpU1g498XK1N0gdYZpxgFlXDXJ9otZiAkitctoAE0A0htW2AKZkX0N5FffNJCLjKKidAexsL4OTva1B6rgjSD0OkH/gkqlgAkitokkADdECGODphM4ejqhWijjEv5KJyEi0E0AMMP5PQzPRLSXnOkoqOA6QpMcEkFqsqkal3a9XnzOANXTHAfKvZCIyDkMuAaPh39EJAZ5OUKpEHMzkH7gkPbNIAPfu3YvJkyfDz88PgiBg69atOq/PmTMHgiDoPIYOHdrsdWNjYxESEgK5XI6QkBBs2bLFQO/AMmQVlqFGJcJFbgs/dweD1KHpBk7iRBAiMhLtDGADJoAAcGdtK+D/zvD7jaRnFglgWVkZ+vfvj1WrVjVaZsKECcjNzdU+tm/f3uQ1k5KSMGPGDERGRuLo0aOIjIzE9OnTceDAAX2HbzE03b89vF0gCPqbAVyXZiLIsYtFXC6BiIxCsw2coSaAaGi6gf9iAkgmwDCjXfVs4sSJmDhxYpNl5HI5FApFi68ZExODcePGISoqCgAQFRWFhIQExMTE4Pvvv29XvJZKMwPYEBNANBTuDujWyRnnrpQh6WwhJvRr+c+UiKgtrhhwEei6hnX3hCCov0svF1fAx80wPSlELWEWLYAtER8fD29vb/Tq1QtPPPEE8vPzmyyflJSEiIgInWPjx49HYmJio+dUVlaiuLhY52FNbm4Bp//xf3WN7NkJALA344pB6yEiAoArJepZwIZYBLouDyd73NbZHQBbAUl6FpEATpw4Ed9++y3+/PNPvP/++zh06BDuuusuVFZWNnpOXl4efHx8dI75+PggLy+v0XOio6Ph7u6uffj7++vtPZgDQ84ArmtUL3UCmJB+BaIoGrQuIiJDbgN3K44DJFNhEQngjBkzcM8996Bfv36YPHkyduzYgdOnT+O3335r8rxbx7GJotjk2LaoqCgUFRVpHzk5OXqJ3xxU1iiRVXgDABBs4ARwSLeOsLe1wcXr5Thbu+8wEZGhGDMBHFFnHCD/wCUpWUQCeCtfX18EBAQgIyOj0TIKhaJea19+fn69VsG65HI53NzcdB7WIrOgDEqVCFcHW/i4GfZL0sneFoMD1Yum7j3NbmAiMhxDbwN3q0EBHSC3tcHl4kpk5JcavD6ixlhkAlhYWIicnBz4+vo2WiY8PBxxcXE6x3bt2oVhw4YZOjyzdHMCiKvBZgDXpe0GZgJIRAZkjG3g6nKwk2nXO/0jremx6kSGZBYJYGlpKVJTU5GamgoAyMzMRGpqKrKzs1FaWorFixcjKSkJWVlZiI+Px+TJk+Hl5YV//OMf2mvMmjVLO+MXAObPn49du3ZhxYoVOHXqFFasWIHdu3djwYIFRn535uF0nuG2gGvIqGB1Arj/XCEqqrktHBEZhjG2gbvV3X3UPU1xJxsfc05kaGaRACYnJ2PgwIEYOHAgAGDRokUYOHAgXn/9dchkMhw7dgz3338/evXqhdmzZ6NXr15ISkqCq+vNsWrZ2dnIzc3VPh82bBg2bdqEL774Arfffjs2btyIzZs3Y8iQIUZ/f+ZAOwHE27Dj/zR6ervA190BlTUqrppPRAaj3QXEwDOA69IkgCk517X1ExmbWawDOHr06CYHy+7cubPZa8THx9c7Nm3aNEybNq09oVkNzVgVQy8BoyEIAkb27ITNyTlIOH0FI2u7hImI9MlYu4DUpXB3wO1d3PH3hSLsOZWP6XdY14oSZBrMogWQpFVRrcT5Qs0ewMbpAgZudgNzIggRGYoxZwDXpWkF3HXyslHrJdJgAkjNOnulFCoRcHe0M/hCqXVp9gXOyC9FYSm7SYhI/4y1DdytxoWoE8D/nbmC8iqOcybjYwJIzcqonQEcbKQZwBoeTvbaFsdDWdeMVi8RWY8r2i5g427L1lvhis4ejqioVnFRaJIEE0BqVrp2BxDjdf9q3FG7HuChLE4EISL902wDZ+wWQEEQtK2Au9kNTBJgAkjNMtYewA0ZHMQEkIgMR6oxgMDNbuA/0/O5KwgZHRNAapZmEWgpWwBPXCpGWWWN0esnIsumXQZGggQwNKAD7G1tcKWkEpkF3PaSjIsJIDWpvEqJnGvqPYClaAH083BEZw9HKFUiUrKvG71+IrJcoihqWwC9jTjBTcPBToYB/h4AgANc75SMjAkgNelMfilEEejobC/JX8jAzW7gg+wGJiI90tkGTqLvt6Ga7zcmgGRkTACpSacvG3cLuIZoJ4LwC5KI9EjT/etsL4OjvUySGIZ0Uy93deBcIccBklExAaQmnZZwAojGHYEdAAApOddQVfvXOhFRe2n2ATbm+qa3GtjVA7Y2Ai4VVeDCtXLJ4iDrwwSQmqTdA1jCBLCHtws6ONmholqF45eKJIuDiCyLlDOANZzsbXF7F3cAwP5zhZLFQdaHCSA1STMDuJe3dF3AgiAgjN3ARKRnppAAAnW6gfn9RkbEBJAaVVZZg4vX1V0SUnYBA8BtndV/IZ+9Umq0OtesWYOgoCA4ODggNDQU+/bta7J8QkICQkND4eDggG7dumHdunX1ysTGxiIkJARyuRwhISHYsmVLq+stLS3Fs88+iy5dusDR0RF9+vTB2rVr2/dmiayQZgyglF3AADCEE0FIAkwAqVEZ+epky8tFjg7Oxl0l/1a+7uptmnKLKoxS3+bNm7FgwQIsWbIEKSkpGDFiBCZOnIjs7OwGy2dmZmLSpEkYMWIEUlJS8Oqrr+L5559HbGystkxSUhJmzJiByMhIHD16FJGRkZg+fTqSk5NbVe/ChQvx+++/45tvvkFaWhoWLlyI5557Dr/88ovhPhAiC2QqLYChAR1gIwDZV28gt4jjAMk4mABSozTj/4IV0nX/avh5OAIALl03zpfjypUr8dhjj+Hxxx9Hnz59EBMTA39//0Zb2tatW4euXbsiJiYGffr0weOPP45HH30U7733nrZMTEwMxo0bh6ioKPTu3RtRUVEYO3Ys1qxZ06p6k5KSMHv2bIwePRqBgYF48skn0b9/f51EkoiaJ9U2cLdydbBDv9pejgPn2ApIxsEEkBp1Oq92Aoi3tN2/gG4LoKGXSqiqqsLhw4cRERGhczwiIgKJiYkNnpOUlFSv/Pjx45GcnIzq6uomyxw8eLBV9Q4fPhzbtm3DxYsXIYoi9uzZg9OnT2P8+PFte8NERhQdHY077rgDrq6u8Pb2xpQpU5Ceni5JLFdMpAUQuNkNfCCTE0HIOJgAUqNO13YBSz3+DwB83dUtgDeqlCguN+yWcAUFBVAqlfDx8dE57uPjg7y8vAbPycvLa7B8TU0NCgoKmixz+bJ6I/jCwsIW1fvRRx8hJCQEXbp0gb29PSZMmIA1a9Zg+PDhjb6nyspKFBcX6zyIpJCQkIBnnnkG+/fvR1xcHGpqahAREYGyMuNvhVZgImMAAWBwkHoiCMcBkrHYSh0Ama4ME1gEWsPRXoYOTna4dqMal4rK4e5kZ/A6BUHQeS6KYr1jzZW/9XhLrtlcmY8++gj79+/Htm3bEBAQgL1792LevHnw9fXF3Xff3WBs0dHRePPNNxuNnchYfv/9d53nX3zxBby9vXH48GGMHDnSaHHU3Qaukwm0AGrWOz17pQwFpZUm0SpJlo0tgNSg4opq7YQLKdcArEvTCmjoQdJeXl6QyWT1Wvvy8/Prtc5pKBSKBsvb2trC09OzyTLe3t4AAE9Pz2brLS8vx6uvvoqVK1di8uTJuP322/Hss89ixowZOuMNbxUVFYWioiLtIycnpwWfBJHhFRWp1/bs2LGjUes1hW3g6vJwskdvhfq7NpnbXpIRMAGkBmla/xRuDnB3NHxrW0v4eajHAV66btiZwPb29ggNDUVcXJzO8bi4OAwbNqzBc8LDw+uV37VrF8LCwmBnZ9dkmcGDB7e43urqalRXV8PGRvefrkwmg0rV+C4pcrkcbm5uOg8iqYmiiEWLFmH48OHo169fg2UMNXxBswSMi9xWsm3gbqXZ9pLrAZIxMAGkBmkWgO5pAt2/GsZqAQSARYsW4fPPP8eGDRu0S61kZ2dj7ty5ANQtarNmzdKWnzt3Ls6fP49FixYhLS0NGzZswPr167F48WJtmfnz52PXrl1YsWIFTp06hRUrVmD37t2YN29ei+t1c3PDqFGj8OKLLyI+Ph6ZmZnYuHEjvvrqK/zjH/8w+OdCpE/PPvss/v77b3z//feNlomOjoa7u7v24e/vr5e6NdvAeblIOwO4rsFcD5CMiGMAqUGmsAfwrTRLweQauAUQAGbMmIHCwkK89dZbyM3NRb9+/bB9+3YEBASoY8jN1VmbLygoCNu3b8fChQuxevVq+Pn54aOPPsLUqVO1ZYYNG4ZNmzbhtddew9KlS9G9e3ds3rwZYWFhLa4XADZt2oSoqCj861//wtWrVxEQEIC3335bmyQSmYPnnnsO27Ztw969e9GlS5dGy0VFRWHRokXa58XFxXpJAk1lDcC6NAlgWm4xiiuq4eZgGr0vZJmYAFKDMmpbAINNKgFUdwFfNNJagPPmzdNpnatr48aN9Y6NGjUKR44cafKa06ZNw7Rp03SO3dql1VS9gHos4RdffNFkPUSmShRFPPfcc9iyZQvi4+MRFBTUZHm5XA65XP9JmqnsAlKXj5sDAj2dkFV4A4fPX8OYYG+pQyILxi5galB6bQugaXYBG2c3ECLSv2eeeQbffPMNvvvuO7i6uiIvLw95eXkoLzfuDhim2AII3BwHyG5gMjQmgFTP9RtV2r+OTWUGMHBzMei8ogqoVIZdDJqIDGPt2rUoKirC6NGj4evrq31s3rzZqHGYagLIcYBkLOwCpno0E0A6ezjCRW46t4jC3QGCAFQpVSgsqzKprhsiahlD7+TTUpo/cqXeBu5WQ2oXhP77wnVUVCvhYGcaM5TJ8rAFkOo5bUILQNdlJ7PRLtjKDdOJqD2u1M4CNoVFoOvy7+gIhZsDqpUikrOuSR0OWTAmgFRPhgnOANbwrZ0JbOi1AInIshVoWwBNKwEUBAHDe3oBAPZlXJE4GrJkTACpnpsTQEwvAfSrHQfIFkAiaitT2wbuViNqE8C9GQUSR0KWjAkg1aNZAsbUuoABzgQmovYrMbFt4G41vIc6AUzLLUZ+Cb/ryDCYAJKOgtJKFJZVQRCAHt6mlwDe3A6OLYBE1DYFJrgNXF2eLnL066zervGvM2wFJMNgAkg6NBNA/Ds4wcnedGYAa7AFkIjayxS3gbvVyJ6dAAB7TzMBJMNgAkg6TLn7FwB8a1sAc9kCSERtZIq7gNxqRG0CuC+jgOuekkEwASQdprgHcF1+tS2Al0sqoeSXIhG1gakuAl3XoAAPONnLUFBaiVN5JVKHQxaICSDpMPUEsJOrHLY2ApQqkYOjiahNzCEBlNvKMLSbelFoLgdDhsAEkLREUdTuAmJKewDXJbMR4OOm7ga+cI3dwETUeuaQAAJ1l4NhAkj6xwSQtK6UVKKovBo2AtC9k2kmgADQtaMTACC78IbEkRCROTLVbeBuNTrYG4B6X+DiimqJoyFLYxYJ4N69ezF58mT4+flBEARs3bpV+1p1dTVefvll3HbbbXB2doafnx9mzZqFS5cuNXnNjRs3QhCEeo+KCuvtVtQsAB3o6WzS+08GeKoTwPNXmQASUeuZ6jZwtwryckYPbxdUK0XEp7MVkPTLLBLAsrIy9O/fH6tWrar32o0bN3DkyBEsXboUR44cwc8//4zTp0/jvvvua/a6bm5uyM3N1Xk4ODgY4i2YBVPv/tXo6qlpASyTOBIiMkemug1cQ8aF+AAAdp3IkzgSsjSmt9BbAyZOnIiJEyc2+Jq7uzvi4uJ0jn388ccYPHgwsrOz0bVr10avKwgCFAqFXmM1Z5o9gINNdAKIRkBHZwBsASSi1hNFEVdMeBu4W0WE+GBt/FnEp19BZY0SclvT7Z0h82IWLYCtVVRUBEEQ4OHh0WS50tJSBAQEoEuXLrj33nuRkpJinABNlCnvAVyXpgs4hwkgEbVSSWUNqmq3gTPldQA1+nfxgLerHKWVNdh/7qrU4ZAFsbgEsKKiAq+88goeeughuLm5NVqud+/e2LhxI7Zt24bvv/8eDg4OuPPOO5GRkdHoOZWVlSguLtZ5WApRFHFGuwi0aSeA/rWTQApKq1BaWSNxNERkTupuA2fKY501bGwE3F3bDRx3kt3ApD8WlQBWV1dj5syZUKlUWLNmTZNlhw4diocffhj9+/fHiBEj8MMPP6BXr174+OOPGz0nOjoa7u7u2oe/v7++34JkcosqUFJZA1sbAUFezlKH0yR3Rzt4ONkB4ExgImod7QxgE94G7lbjtAngZe4KQnpjMQlgdXU1pk+fjszMTMTFxTXZ+tcQGxsb3HHHHU22AEZFRaGoqEj7yMnJaW/YJkPT/Rvk5Qx7W9O/LQI0S8Fc5UQQImo5zT7A5tD9qzGsuyec7WW4XFyJYxeLpA6HLITp/6ZvAU3yl5GRgd27d8PT07PV1xBFEampqfD19W20jFwuh5ubm87DUmSY+A4gt+rqWTsRhC2ARNQK5rIIdF1yW5l2TcAdx9kNTPphFglgaWkpUlNTkZqaCgDIzMxEamoqsrOzUVNTg2nTpiE5ORnffvstlEol8vLykJeXh6qqKu01Zs2ahaioKO3zN998Ezt37sS5c+eQmpqKxx57DKmpqZg7d66x355JSM8zj/F/GpoWQM4EJqLWMMcEEADuuV3dOPHfo5fYDUx6YRbLwCQnJ2PMmDHa54sWLQIAzJ49G8uWLcO2bdsAAAMGDNA5b8+ePRg9ejQAIDs7GzY2N/Pd69ev48knn0ReXh7c3d0xcOBA7N27F4MHDzbsmzFRGfmaFkDTXgNQ4+ZagEwAiajlNGMAzakLGADu6u0NF7ktLl4vx5HsawgL7Ch1SGTmzCIBHD16NESx8b94mnpNIz4+Xuf5Bx98gA8++KC9oVkElUpEhmYGsMK8WgCz2QJIRK1gri2ADnYyRPT1wc9HLmLb0UtMAKndzKILmAzrwrVylFcrYS+z0SZWpi6gdgzgxevlqFaqJI6GiMyFZhs4c5oFrHH/gM4AgN/+zuX3HrUbE0DC6doJIN06OcNWZh63hLerHPa2NlCqRFy6Xi51OERkJgrMtAsYAO7s7glPZ3sUllXhrzMFUodDZs48ftuTQWmWgAk2k+5fQL04alfNRBCOAySiFqi7DZy5dQEDgK3MRjsZZNvRSxJHQ+aOCSCZ3RIwGpwJTEStYW7bwDXkvv5+AICdx/NQXqWUOBoyZ0wACelmsgXcrW7OBOZi0ETUPHPbBq4hg7p2QJcOjiirUuL3E7lSh0NmjAmglVOqRJy9okkAzWMJGI0AdgETUSuY6xIwddnYCJgept6G9PuDlrMbFRkfE0Ard76wDFU1KjjY2cC/g3nMANbQzATmUjBE1BIFZjwDuK5/hnWBjQAczLyKc7V/wBO1FhNAK6eZAdzT2xU2NoLE0bROkJc6ATxXUAYlV8YnomaY6xqAt/J1d8SY2q3hNh9iKyC1DRNAK3e6dvxfTzPr/gUA/45OsLe1QVWNCheusRWQiJpmCV3AGjPuUHcD/3T4gnZiC1FrMAG0ctolYMxsAggAyGwEdKttBdTsZEJE1BhLaQEE1FvDebvKUVhWhT/SLksdDpkhJoBWzlyXgNHoWRv3GY6DIaJmWFICaCuzwbTQLgCA7w5mSxwNmSMmgFasqkaFc1fUS6iYYxcwAPTopI6bLYBE1BxNF7C5TwLReHBwV9gIwL6MAu0f80QtxQTQimUVlqFGJcJFbovOHo5Sh9MmmsSVLYBE1BzNLGBLGAMIqMdBjwvxAQBs+CtL2mDI7DABtGLpebUzgH1cIAjmNQNYo4e3OgE8m18KUeRMYCJqmLlvA9eYR+8MAgD8fOQCrpVVSRwNmRMmgFYsw4wngGgEejpDZiOgtLIGecUVUodDRCbKEraBa8jgoI7o19kNlTUqjgWkVmECaMU0M4B7mnECaG9rg4DaLeE4DpCIGqMZ/+dqxtvANUQQBG0r4FdJWVwShlqMCaAV0yRM5twCCAA9a7uBz+QzASSihmn2AfayoNY/jXtv90MnVzkuF1fi178vSR0OmQkmgFaqolqJrEL1DGBz2wP4VppxgBlMAImoEZayDVxD7G1tMGdYIABgTfxZqLgzErUAE0ArdfZKKVQi4OFkZ/bjYXp6q1swzzIBJKJGXClRjxE29++7xkSGB8DNwRZn8kux43ie1OGQGWACaKU0ewD38nY12xnAGjdbALkOFhE17GYLoGUmgG4Odnikdizgx39msBWQmsUE0Eql56lby3opzLv7FwC6d3KBIADXblSjsHaZByKiuixpF5DGPHpnEFzktjiVV4I4bg9HzWACaKXMfQu4uhztZdqFrDkOkIgaYg0JoLuTHWYPCwCgbgXk2qjUFCaAVirdghJAgDOBiahpmmVgLHUMoMZjw7vByV6G4xeL8TvHAlITmABaobLKGly4Vg7AchJAzfs4lVcscSREZIoseRZwXR2d7fH4iG4AgHd3pqNayXUBqWFMAK2QppvUy0WOjs6W8WUY4ucGADhxiQkgEemy1G3gGvPkyG7wcrFHZkEZNnF3EGoEE0ArpJkBHGwBE0A0+tYmgKdyS6Dk7DciqqO4wjK3gWuMi9wW88f2BADE7M5AaWWNxBGRKWICaIVO59VuAedtGd2/ABDk5QJHOxnKq5XILOA4QCK6STMBxNK2gWvKzMFdEeTljMKyKnyacFbqcMgEMQG0Qqdru4AtZfwfAMhsBPTxVb8fdgMTUV2WvA1cY+xkNnhpfDAA4JO955BdeEPiiMjUMAG0QpoWwGCF5SSAANDXzx0AE0Ai0nVz/J9ljHluqQn9FBjW3ROVNSq89esJqcMhE8ME0MoU3ahGXrF6S6SeZr4H8K36aieCFEkcCRGZkgIrWQLmVoIg4K37+8FOJmB3Wj52n+Ti0HQTE0Arc7p2uzQ/dwe4OdhJHI1+1W0B5AKoRKRh6dvANaWHtwseG65eFubNX0+golopcURkKpgAWhntHsAW1v0LqLe1s7URcP1GNS4VVbT7emvWrEFQUBAcHBwQGhqKffv2NVk+ISEBoaGhcHBwQLdu3bBu3bp6ZWJjYxESEgK5XI6QkBBs2bKlTfWmpaXhvvvug7u7O1xdXTF06FBkZ3O5B6KGWMMuIE157q4e8HV3QM7VcsTszpA6HDIRTACtjHb8nwVNANGQ28rQo3ZHkOMX29cNvHnzZixYsABLlixBSkoKRowYgYkTJzaaZGVmZmLSpEkYMWIEUlJS8Oqrr+L5559HbGystkxSUhJmzJiByMhIHD16FJGRkZg+fTqSk5NbVe/Zs2cxfPhw9O7dG/Hx8Th69CiWLl0KBweHdr1nIktlLbuANMZZbou37u8HAPh071mkZF+TOCIyBUwArYxmC7ieFpgAAkC/zvqZCLJy5Uo89thjePzxx9GnTx/ExMTA398fa9eubbD8unXr0LVrV8TExKBPnz54/PHH8eijj+K9997TlomJicG4ceMQFRWF3r17IyoqCmPHjsWaNWtaVe+SJUswadIkvPvuuxg4cCC6deuGe+65B97e3u16z0SWytpbAAFgXIgPpgzwg0oEXvzpb3YFExNAa3P6snoJGEtsAQRuTgQ52Y6JIFVVVTh8+DAiIiJ0jkdERCAxMbHBc5KSkuqVHz9+PJKTk1FdXd1kmYMHD7a4XpVKhd9++w29evXC+PHj4e3tjSFDhmDr1q1tfr9ExrR3715MnjwZfn5+EATBKPeutWwD15xl9/WFl4scZ/JL2RVMsNXnxbZt29bqc8aNGwdHR0d9hkGNKCitxNWyKggCtF2llkYfS8EUFBRAqVTCx8dH57iPjw/y8hreXD0vL6/B8jU1NSgoKICvr2+jZS5fVs/MKywsbLbe/Px8lJaWYvny5fi///s/rFixAr///jseeOAB7NmzB6NGjWowvsrKSlRWVmqfFxdzqRySRllZGfr3749HHnkEU6dONXh9oihafRewhoeTPd75Rz88+fVhfLr3LEYHd8LQbp5Sh0US0WsCOGXKlFaVFwQBGRkZ6Natmz7DoEZoxv917egER3vLXA1fsxh0blEFCksr4dmOLh9BEHSei6JY71hz5W893pJrNlVGpVJvZ3X//fdj4cKFAIABAwYgMTER69atazQBjI6Oxptvvtlo7ETGMnHiREycONFo9RVX1KBKqf53Y81dwBoRfRWYFtoFPx2+gAWbUrF9/giL2ROeWkfvXcB5eXlQqVQtejg5Oem7emqCZvyfJe0AcitXBzt06+QMADh64XqbruHl5QWZTFavtS8/P79e65yGQqFosLytrS08PT2bLKMZu+fp6dlsvV5eXrC1tUVISIhOmT59+jQ5CzgqKgpFRUXaR05OTqNliUxJZWUliouLdR6tYY3bwDXnzfv6olsnZ+QVV+Cln45y2SwrpdcEcPbs2a3qzn344Yfh5ubWbLnmxoyIoohly5bBz88Pjo6OGD16NE6caH7V85YsyWFJLH38n8agrh0AAEfOX2/T+fb29ggNDUVcXJzO8bi4OAwbNqzBc8LDw+uV37VrF8LCwmBnZ9dkmcGDB7e4Xnt7e9xxxx1IT0/XKXP69GkEBAQ0+p7kcjnc3Nx0HkTmIDo6Gu7u7tqHv79/q86/YoXbwDXHWW6Ljx8cCHtbG+xOy8eGv7KkDokkoNcE8IsvvoCra8uTi7Vr18LLy6vZcpoxI6tWrWrw9XfffRcrV67EqlWrcOjQISgUCowbNw4lJSWNXrOxJTkOHDjQ4vjNzWntDGDLHP+nERqgTgAPn2/7UgeLFi3C559/jg0bNiAtLQ0LFy5EdnY25s6dC0DdojZr1ixt+blz5+L8+fNYtGgR0tLSsGHDBqxfvx6LFy/Wlpk/fz527dqFFStW4NSpU1ixYgV2796NefPmtbheAHjxxRexefNmfPbZZzhz5gxWrVqF//73vzrXIbIU7W291rQAdmL3r46+fu547Z4+AIB3tqch8WyBxBGR0YlmBoC4ZcsW7XOVSiUqFApx+fLl2mMVFRWiu7u7uG7dukavM336dHHChAk6x8aPHy/OnDmzxbEUFRWJAMSioqKWvwGJqFQqsd/rv4sBL/8qpuWafrztkZ5XLAa8/KvY+7UdYnWNss3XWb16tRgQECDa29uLgwYNEhMSErSvzZ49Wxw1apRO+fj4eHHgwIGivb29GBgYKK5du7beNX/88UcxODhYtLOzE3v37i3GxsbWu4+aqldj/fr1Yo8ePUQHBwexf//+4tatW1v13hq7d8sqq8WAl38VA17+VSyrrG7VNcn6tPc78Nbvc0PU+cX/zokBL/8qPv1NchsitGwqlUpcsClFDHj5V3HAmzvF7MIyqUMyGnP6/W0oep0EAgCPPvpos2UEQcD69ev1Ul9mZiby8vJ0ls6Qy+UYNWoUEhMT8dRTTzV4XlJSknYQvcb48eMRExOjl7hMTW5RBUoqa2BrI6Cbl2W3APbo5AJXB1uUVNTgVF6Jdm3A1po3b16jrWobN26sd2zUqFE4cuRIk9ecNm0apk2bpnPs1jFNTdWr8eijj7bo3xqRtbPmbeCaIwgCoh+4DRn5JTh+sRhPfX0YPz0dDid7vacGZIL0Pgnk2rVrjT4KCgqwadOmBn95tpVmwHxrluzQnNfac9o7GFlKmu7fQC9n2Nta9vKPNjYCBmrGAXLFeyKTUlpaitTUVKSmpgJQ/xGfmppqsK0MtUvAMAFskIOdDJ9EhsHT2R4nc4vx3HcpqKmdNU2WTe9pfmMTKX755Re8+uqrkMvleP311/VdbauX7GjLOea8lIYmAQy2wD2AGxLatQP2nr6Cw+evYVZ4oNThEFGt5ORkjBkzRvt80aJFANSTCPXZOKCh3QWEk0Aa1dnDEZ/OCsVDnx3AH6fysfSXE3jnH/2a/R1K5s3gTUF//fUXhg8fjoceegj33nsvzp07h1deeUVv11coFADQqiU7NOe19hxzXkojPU89A7iXt5UkgAFsASQyRaNHj4YoivUehkj+AG4D11KhAR3x4cyBEATg+4PZWPXnGalDIgMzWAJ44sQJTJ48GaNHj0ZwcDDS09OxYsUKdOjQQa/1BAUFQaFQ6CydUVVVhYSEhEaX7AAaX5KjqXPMeSmNmy2Alj3+T6O/vzsEAci5Wo784gqpwyEiiWiXgbHybeBaYkI/BZZN7gsAeD/uNL74K1PiiMiQ9J4A5uTk4JFHHsGAAQNga2uLo0ePYv369ejSpUubr9nUmBFBELBgwQK888472LJlC44fP445c+bAyckJDz30kPYas2bNQlRUlPZ5Y0tyLFiwoM1xmiqlSkRGvuUvAl2Xq4Oddr1DtgISWSdRFFFQxkkgrTF7WCCev6sHAODN/57EtwfOSxwRGYrexwAGBwdDEAS88MILGDZsGM6cOYMzZ+o3Jd93330tvmZzY0ZeeukllJeXY968ebh27RqGDBmCXbt26axJmJ2dDRubm/nusGHDsGnTJrz22mtYunQpunfvjs2bN2PIkCFtedsmLefqDVRUq2Bva4MAT2epwzGa0IAOOJVXgiPZ1zGhn6/U4RCRkRVX1KCqRj2hwdr3AW6NheN6obJGhU/2nsOSLcdhZ2OD6Xe0bgFuMn16TwArKtTdbe+++26jZQRBgFKpbPE1NWNGmrresmXLsGzZskbLxMfH1zvW0JIclkizBVxPbxfIbKxnUO+grh3w7YFsHMq6KnUoRCQBTfcvt4FrHUEQ8MrE3qisUWFjYhZeiv0bpZU1eHR4kNShkR7pPQHUbFZPpuN0Xu34Pyvp/tUY0q0jAODvC0UoqaiGq4OdxBERkTFpdwFh61+rCYKANyaHwNZGwOf/y8Rbv55EaWUNnrurB2cHWwiDTQK5fv16o6811CVMhnM6v3YGsJUsAaPRpYMTAjydoFSJOJjJVkAia8MZwO0jCAKW3NMHC+/uBQBYGXcaS385znUCLYTBEsBJkyahvLy83vH09HSMHj3aUNVSA6y1BRAAhnVX7zX915lCiSMhImMr0MwAduUM4LYSBAHz7+6JNyaHQBCAb/Zn4/GvklFaWSN1aNROBksAO3TogH/84x+oqbl5k6SlpWH06NGYOnWqoaqlW1TVqHD2inW2AALA8B6aBJAbnRNZmyul3AVEXx65Mwhr/xUKBzsbxKdfwbS1icguvCF1WNQOBksAY2NjUVZWhoceegiiKOL48eMYPXo0HnzwQXz44YeGqpZukVVYhhqVCBe5LfzcHaQOx+jCu3sCUE+EyS/heoBE1qSghEvA6NOEfgpsejIcXi5ynMorweRV/0PC6StSh0VtZLAE0MHBAb/++isyMjLwz3/+E2PHjsWsWbOwcuVKQ1VJDUiv7f7t6eNilQN3Ozrbo6+fesHupLPsBiayJtwGTv8G+Hvgv8/diQH+Higqr8acLw4iZvdpKFWNr9RBpkmvCWBxcbHOQxAEbN68GQcPHsTUqVOxdOlS7WtkHNodQKxw/J/GnewGJrJKVzgJxCB83R2x+amheHCwP0QRiNmdgQc/24/covrj/sl06TUB9PDwQIcOHXQeffr0wYULF7Bu3Tp06NBBW4aMQ9MCaC07gDTkZgJY2OR6kkRkWTSTQLgMjP7JbWWIfuB2xMwYAGd7GQ5mXsWEmH34JfUiv2fNhF7XAdyzZ48+L0d6cHMPYOtNAO8I7AA7mYCL18txvvAGAr2sZzcUImsliiIKSjVjADkL2FCmDOyMAf4eeH5TCv6+UIT5m1Kx41ge/u8f/djyauL0mgCOGjVKn5ejdiqvUuL8VfUsrZ4+LhJHIx0ne1sM7NoBBzOvYt+ZAiaARFaguKIGVbXr1TERMaxAL2fEPj0Ma/acxcd/ZuD3E3lIOleIqIm9MT3MHzZWtAOVOdFrF/Dff//dqp1ATpw4obNMDOnXmfxSiKJ6IoS1L4MwqlcnAMCfaZcljoSIjEG7DZwDt4EzBjuZDebf3RO/PHsnQnzdUFRejVd+PoZ/fpKEE5eKpA6PGqDXBHDgwIEoLGz5TMvw8HBkZ2frMwSqQ7MHcC8rnQFc17gQHwDAX2cLUcYFTIksXgHXAJREXz93bHv2Trx2Tx842ctw+Pw13Pvx/xD189/apJxMg167gEVRxNKlS+Hk5NSi8lVVVfqsnm6hGf/XW+EmcSTS6+ntggBPJ5wvvIF9GVcwoZ+v1CERkQFxGzjp2Mps8PiIbph0my/e2Z6GX//OxfcHc7At9RIeH9ENj48I4t7sJkCvCeDIkSORnp7e4vLh4eFwdHTUZwhUB2cA3yQIAu7u44P1/8tE3Ml8JoBEFu4KZwBLzs/DEaseGoQ5w67irV9P4u8LRfjwjwx8lZSFuaO64+GhAXCW6zUNoVbQ6ycfHx+vz8tRO92cAWy9E0Dq0iSAf566DKVKhIwDk4ks1s0WQM4AllpYYEdsnXcndhzPw/tx6Th3pQzRO05hXcJZPDY8CJFDA+HuxBZBYzPYTiAkraIb1cgtUm991pMtgADUy8G4O9rh2o1qHD5/TepwiMiAuA2cabGxEXDP7b7YtWAk/jPtdgR5OePajWq8t+s0wpf/gWXbTiDnKvcWNiYmgBbqdL669c/P3QFuHGsBQD0u5a7e3gCA3ZwNTGTRrnAbOJNkK7PBP8P8EbdwJD6cOQC9Fa64UaXExsQsjPzPHjy28RDi0/Oh4tZyBscE0EJpxv9Z8wLQDbm7j3o2cNzJy1ytnsiCcRawabOV2eD+AZ2xY/4IfP3YYIzs1QmiCPxxKh9zvjiEkf/Zgw93Z+DidW4vZygcfWmhNOP/ejEB1DEquBPsZTbILCjD6culTJCJLJRmGzi2AJo2QRAwomcnjOjZCWevlOLb/dn48XAOLlwrxwe7TyPmj9MI7+aJKQM7Y0I/BXu09IgtgBZK2wLI8X86XOS2GBWsXhR629GLEkdDRIbAbeDMU/dOLnh9cggOvno3PpjRH0O7dYQoAolnC/HST38j7P924/Evk7El5QKKK6qlDtfsGTQB/Prrr3HnnXfCz88P58+fBwDExMTgl19+MWS1Vk8UxZstgEwA67mvvx8A4JfUS+wGJrJAxeXcBs6cOdrL8I+BXbDpyXDse2kMXhwfjB7eLqiqUWF32mUs3HwUg96Kw8OfH8CXiVnILuTkkbYwWAK4du1aLFq0CJMmTcL169ehVCoBAB4eHoiJiTFUtQT14OdrN6phIwA9vLkEzK3u7uMDJ3sZLlwrx5Hs61KHQ0R6ppkAwm3gzJ9/Ryc8M6YH4haOxM4FI/H8XT3Qw9sFNSoR/ztTgDe2ncDI/+zBXe/H483/nsAfaZdRyt2eWsRgYwA//vhjfPbZZ5gyZQqWL1+uPR4WFobFixcbqlrCze7fQC9nfvk1wNFehvF9FdiSchHbUi8iNKCD1CERkR5xAojlEQQBwQpXBCuCsSgiGOeulGJ32mXsTsvH4fPXcO5KGc5dKcMXf2XB1kbAbV3cMSTIEyN7eSG8m6fVb4faEIO1AGZmZmLgwIH1jsvlcpSVlRmqWgLH/7XEfQPU3cC/HctFTW1XERFZhiucAGLxunVywZMju+OHp8KR8vo4rP3XIDw0pCsCPJ1QoxKRkn0d6xLO4qHPDmB3Wr7U4Zokg7UABgUFITU1FQEBATrHd+zYgZCQEENVS7g5A5gLQDdueA8vdHS2R0FpFRLPFmJkr05Sh0REesIWQOvi5mCHibf5YuJt6i0+c67ewP5zhVgTfxaZBWXIK66QOELTZLAE8MUXX8QzzzyDiooKiKKIgwcP4vvvv0d0dDQ+//xzQ1VLANIvlwIAenOJk0bZyWww6TYFvtmfjV9SLzEBJLIg3AbOuvl3dIJ/Ryf8eSofmQXscWyMwRLARx55BDU1NXjppZdw48YNPPTQQ+jcuTM+/PBDzJw501DVWj2VSkTGZS4C3RKTbvPFN/uzsS/jCkRR5BgRIgvBbeCImmfQhaCfeOIJPPHEEygoKIBKpYK3t7chqyMAF66V40aVEva2Ngjo6CR1OCZtUNcOsJfZIL+kEucLbyDQy1nqkIhID7gNHFHzDDoJJCMjAwDg5eWlTf4yMjKQlZVlqGqt3qm8YgBAj04usJVxne+mONjJ0N/fHQBwMPOqxNEQkb5wDCBR8wyWIcyZMweJiYn1jh84cABz5swxVLVWTzMBhOP/WmZwUEcAwAEmgEQWg9vAETXPYAlgSkoK7rzzznrHhw4ditTUVENVa/VO5XEP4NYYHOQJADiYVShxJESkD3W3gevEBJCoUQZLAAVBQElJSb3jRUVF2l1BSP9OcwJIq4QGdIDMRkDO1XJcul4udThE1E51t4HzdOYsYKLGGCwBHDFiBKKjo3WSPaVSiejoaAwfPtxQ1Vq1qhoVzl1RT3nnItAt4yK3RT8/NwAcB0hkCbgNHFHLGGwW8IoVKzBq1CgEBwdjxIgRAIB9+/ahuLgYf/75p6GqtWrnCkpRoxLh6mALX3cHqcMxG4ODOuLohSIcyLyKKQM7Sx0OEbWDZhcQTgAhaprBWgD79u2Lv//+G9OnT0d+fj5KSkowa9YsnDp1Cv369TNUtVat7hZwXNOu5bTjADM5DpDI3BVwCRiiFjFIC2B1dTUiIiLwySef4J133jFEFdSAdE4AaZM7AjsAAM5eKUNBaSUXjyUyY1wChqhlDNICaGdnh+PHj7MVysi4BEzbeDjZaz8zjgMkMm/cBo6oZQzWBTxr1iysX7/eUJenBqTXJoC9OAGk1YZ2U3cD78sokDgSImoP7RhAdgETNclgk0Cqqqrw+eefIy4uDmFhYXB21t1ma+XKlXqrKzAwEOfPn693fN68eVi9enW94/Hx8RgzZky942lpaejdu7fe4jKm0soa5FxVL2PCGcCtNyq4EzYmZmHvae4LTGTONGsAcigHUdMMlgAeP34cgwYNAgCcPn1a5zV9/3I9dOiQznIzx48fx7hx4/DPf/6zyfPS09Ph5uamfd6pUye9xmVMGbWtf51c5ejAta9abWiQJ+xtbXDxejnO5JeiJ5NoIrN0swuYCSBRUwyWAO7Zs8dQl67n1sRt+fLl6N69O0aNGtXked7e3vDw8DBgZMajmQDC8X9t42gvw5CgjtiXUYCE01eYABKZqSvcBo6oRQw2BrCuCxcu4OLFi8aoClVVVfjmm2/w6KOPNtvSOHDgQPj6+mLs2LEtSlgrKytRXFys8zAVp+osAUNtMzrYGwCQcPqKxJEQUVuIoohCbgNH1CIGSwBVKhXeeustuLu7IyAgAF27doWHhwf+/e9/Q6VSGapabN26FdevX8ecOXMaLePr64tPP/0UsbGx+PnnnxEcHIyxY8di7969TV47Ojoa7u7u2oe/v7+eo2877RqAbAFss1G91C3JB85dxY2qGomjIaLW4jZwRC1nsC7gJUuWYP369Vi+fDnuvPNOiKKIv/76C8uWLUNFRQXefvttg9S7fv16TJw4EX5+fo2WCQ4ORnBwsPZ5eHg4cnJy8N5772HkyJGNnhcVFYVFixZpnxcXF5tEEiiKonYGcG+FWzOlqTHdOzmjs4cjLl4vx4FzVzGmt7fUIRFRK3AbOKKWM1gC+OWXX+Lzzz/Hfffdpz3Wv39/dO7cGfPmzTNIAnj+/Hns3r0bP//8c6vPHTp0KL755psmy8jlcsjlptetUFBahatlVRAEoKePi9ThmC1BEDAquBO+O5CN+PR8JoBEZoZLwBC1nMG6gK9evdrgkiq9e/fG1auGWWz3iy++gLe3N+65555Wn5uSkgJfX18DRGV4mu7fQE9n/tXbTqNru4E5DpDI/HAGMFHLGSwB7N+/P1atWlXv+KpVq9C/f3+916dSqfDFF19g9uzZsLXVbdiMiorCrFmztM9jYmKwdetWZGRk4MSJE4iKikJsbCyeffZZvcdlDKfy1JNROAGk/Yb18IKdTEBW4Q2cyS+ROhwiagVuA0fUcgbrAn733Xdxzz33YPfu3QgPD4cgCEhMTEROTg62b9+u9/p2796N7OxsPProo/Vey83NRXZ2tvZ5VVUVFi9ejIsXL8LR0RF9+/bFb7/9hkmTJuk9LmPgBBD9cZHbYngPL+xJv4Ltx/Lw/Fh+pkTmQrsEDLeBI2qWwRLAUaNG4fTp01i9ejVOnToFURTxwAMPYN68eU1O0GiriIgIiKLY4GsbN27Uef7SSy/hpZde0nsMUuEewPo18Tbf2gQwF8+P7Sl1OETUQtoWQI4BJGqW3hPAc+fOISgoCIIgwM/Pz2CzfUlNpRJx+nIpAKAXE0C9iAjxwas2Ak7lleDslVJ078SJNUTmgNvAEbWc3scA9uzZE1eu3BxAP2PGDFy+fFnf1VCt7Ks3UF6thNzWBoGezs2fQM3ycLLHnT28UHLkNwy+vQ8cHBwQGhqKffv2NXleQkICQkND4eDggG7dumHdunX1ysTGxiIkJARyuRwhISHYsmVLvTJr1qxBUFBQi+p96qmnIAgCYmJiWv0+iSwNJ4EQtZzeE8Bbu2G3b9+OsrIyfVdDtTQ7gPT0cYHMRr97LFuzDnmHcPWPz+A76iGkpKRgxIgRmDhxos5Y0royMzMxadIkjBgxAikpKXj11Vfx/PPPIzY2VlsmKSkJM2bMQGRkJI4ePYrIyEhMnz4dycnJ2jKbN2/GggULsGTJkmbr3bp1Kw4cOGCQIRVE5ojLwBC1nFG2giPD0U4A8eEC0Pq0b8uXcO0fgdLAkXDo1BUxMTHw9/fH2rVrGyy/bt06dO2qLtenTx88/vjjePTRR/Hee+9py8TExGDcuHGIiopC7969ERUVhbFjx2LNmjXaMitXrsRjjz2Gxx9/HH369Gm03osXL+LZZ5/Ft99+Czs7O8N8CEQG0ppW7paquw0c9wEmap7eE0BBEOrtwdvcnrzUdpoJIMEKjlPTl6qqKhxNOYKB4epdYbYfywWgnmiUmJjY4DlJSUmIiIjQOTZ+/HgkJyejurq6yTIHDx7U1nv48OF6ZW6tV6VSITIyEi+++CL69u3bovdkyvtYk3VpTSt3a3AbOKLW0fskEFEUMWfOHO2OGRUVFZg7dy6cnXXHp7Vltw6qT7sGILeA05uCggIolUqMHdgTG84AW1MuYt7o7vDx8UFeXl6D5+Tl5cHHx0fnmI+PD2pqalBQUABfX99Gy2jGyBYWFkKpVDZYpm69K1asgK2tLZ5//vkWv6fo6Gi8+eabLS5PZCh1W7kBdcv4zp07sXbtWkRHR7f5uldKKwBwGziiltJ7Ajh79myd5w8//LC+q6BaFdVKZBaox1dyCRj9G9ajE747X4qM/FKk5FyHKIpNtmbf+ppmPGzd4w2Vaa7FvG6Zw4cP48MPP8SRI0da1bJuqvtYk3XRtHK/8sorOsebal2vrKxEZWWl9nljrddXStTdvxz/R9Qyek8Av/jiC31fkhpxJr8UKhHo4GQHb37p6Y2XlxdkMhlKrhVgUr8g/JxyET8cykF5fn691jkNhUJRr3UwPz8ftra28PT0bLKMt7c3cnJy4OnpCZlM1mAZTb379u1Dfn4+unbtqn1dqVTihRdeQExMDLKyshqMz1T3sSbromldb66Vu66Wtl5zBjBR63ASiBk7VWcHEI6z1B97e3uEhoYiLi4O0+9Qt5L99+gl7NwVh2HDhjV4Tnh4OOLi4nSO7dq1C2FhYdpJGo2VGTx4cL1664qLu1lvZGQk/v77b6Smpmoffn5+ePHFF7Fz5872v3kiI2hJS7hGVFQUioqKtI+cnJwGy91zmy8Ov3Y3YmYM0He4RBbJYDuBkOGl147/683xf3q3aNEiREZGIjQ0FJ1qZEj/Yyuqzp/H3LlzAah/KV28eBFfffUVAGDu3LlYtWoVFi1ahCeeeAJJSUlYv349vv/+e+0158+fj5EjR2LFihW4//778csvv2D37t3YuXOndrkYTb1hYWEIDw/Hp59+iuzsbG29np6e2hZFDTs7OygUCgQHBxvjoyFqM03relOt3Ldqaeu1jY0AT7b+EbUYE0Azdop7ABvMjBkzUFhYiH//+9+4eOkSbDp2RfjT/0FAQACA+vtLBwUFYfv27Vi4cCFWr14NPz8/fPTRR5g6daq2zLBhw7Bp0ya89tprWLp0Kbp3747NmzcjLCysXr1vvfUWcnNz0a9fP2zfvl1bL5E5q9vK/Y9//EN7PC4uDvfff7+EkRFZHyaAZowJoGHNmzcP8+bNw+XiCoRH/4EsEdqt4W7dXxpQ73995MiRJq85bdo0TJs2TefYrYPaNfW2VGPj/ohMUXOt3ERkHEwAzdTVsirtqvfBPkwADcnHzQF39fbG7rR8fJWYhTfv7yd1SERmi63cRKaBk0DMlGb9v64dneAsZx5vaI/cGQQA+CH5Aq7fqJI4GiLzNm/ePGRlZaGyshKHDx/GyJEjpQ6JyOowATRT6ez+Naph3T0R4uuG8molvj3Qvh0LiIiIpMYE0EydylUngFwA2jgEQcATI9WtgBsTs1BZo5Q4IiIiorZjAmimTl3WJIBcAsZY7r3dDwo3B1wpqcQvqZekDoeIiKjNmACaIZVKRMZldgEbm53MBo/cGQgA+HzfOahUorQBERERtRETQDOUc+0GblQpYW9rg0BPJ6nDsSoPDukKV7ktTl8uxfbjuVKHQ0RE1CZMAM1QWu34v57eLrCV8UdoTG4Odnh8RDcAwMpdp1GjVEkcERERUesxezBDmhnAHP8njcdGBKGjsz3OFZQh9sgFqcMhIiJqNSaAZij9smYPYI7/k4KL3BbzRncHAHy4OwMV1ZwRTERE5oUJoBnSLgHjywRQKg8PDYDCzQGXiirwzf7zUodDRETUKkwAzUx5lRKZhWUA2AUsJQc7Gebf3RMA8OEfGdpt+YiIiMwBE0Azc/pyCUQR8HKxRydXudThWLXpYf7o19kNJRU1iN6eJnU4RERELcYE0Mxo9gBm65/0ZDYC/n1/PwgC8HPKRRw4Vyh1SERERC3CBNDMpHELOJMysGsHzLyjKwBg6S/HUc1lYYiIyAwwATQz2hZAX7YAmoqXxgejo7M9Tl8uxao/z0gdDhERUbOYAJoRURRxKo8tgKamg7M93pgcAgBYtecMjmRfkzgiIiKipjEBNCOXiytx/UY1ZDYCeni7SB0O1XH/gM64f4AflCoRCzenoqyyRuqQiIiIGsUE0Iyk1Xb/dvNyhoOdTOJo6FZv3d8Pfu4OOF94A2/996TU4RARETWKCaAZubkANMf/mSJ3Rzu8P30ABAHYnJyDTQezpQ6JiIioQUwAzcjNJWA4/s9UhXf3xAvjegFQzwpOzroqcURERET1MQE0I+mcAGIWnhnTA5NuU6BaKWLuN4dx6Xq51CERERHpYAJoJqpqVDiTXwqAXcCmThAE/Gdaf/RWuKKgtApzvjiIa2VVUodFRESkxQTQTJzJL0WNSoSrgy383B2kDoea4Sy3xWezwuDjJsfpy6WY88VBlHJmMBERmQgmgGYiLVc9/q+Pwg2CIEgcDbWEf0cnfPPYEHRwssPRC0V4bOMhVFQrpQ6LiIjIMhLAZcuWQRAEnYdCoWjynISEBISGhsLBwQHdunXDunXrjBRt22gmgPTx5fg/c9LTxxVfPToELnJbHMi8ivX/y5Q6JCIiIthKHYC+9O3bF7t379Y+l8kaXycvMzMTkyZNwhNPPIFvvvkGf/31F+bNm4dOnTph6tSpxgi31TR7APfh+D+zc1sXd6yfHYbYIxfw5MhuUodDRERkOQmgra1ts61+GuvWrUPXrl0RExMDAOjTpw+Sk5Px3nvvmWQCKIrizS5gJoBmaUg3Twzp5il1GERERAAspAsYADIyMuDn54egoCDMnDkT586da7RsUlISIiIidI6NHz8eycnJqK6uNnSorXalpBKFZVWwEYBePuwCJiIiovaxiARwyJAh+Oqrr7Bz50589tlnyMvLw7Bhw1BYWNhg+by8PPj4+Ogc8/HxQU1NDQoKChqtp7KyEsXFxToPYzhZ2/oX6OUMR3tuAUdERETtYxEJ4MSJEzF16lTcdtttuPvuu/Hbb78BAL788stGz7l1Jq0oig0erys6Ohru7u7ah7+/vx6ibx7H/xEREZE+WUQCeCtnZ2fcdtttyMjIaPB1hUKBvLw8nWP5+fmwtbWFp2fj47SioqJQVFSkfeTk5Og17sZoZgCHMAEkIiIiPbCYSSB1VVZWIi0tDSNGjGjw9fDwcPz3v//VObZr1y6EhYXBzs6u0evK5XLI5XK9xtoSNyeAcPwfERERtZ9FtAAuXrwYCQkJyMzMxIEDBzBt2jQUFxdj9uzZANQtd7NmzdKWnzt3Ls6fP49FixYhLS0NGzZswPr167F48WKp3kKjKqqVOHulDAC7gImIiEg/LKIF8MKFC3jwwQdRUFCATp06YejQodi/fz8CAgIAALm5ucjOztaWDwoKwvbt27Fw4UKsXr0afn5++Oijj0xyCZgz+aVQqkS4O9pB4cYt4IiIiKj9LCIB3LRpU5Ovb9y4sd6xUaNG4ciRIwaKSH9O1un+5RZwREREpA8W0QVsybgANBEREekbE0ATxwSQiIiI9I0JoAlTbwGnXgOQS8AQERGRvjABNGGXiipQVF4NWxsBPX1cpA6HiIiILAQTQBN28pK6+7eHtwvkttwCjoiIiPSDCaAJ0ySAIX7s/iUiIiL9YQJowk5cKgLA8X9ERESkX0wATZhmDcC+fu4SR0JERESWhAmgiSoqr8aFa+UA2AJIRERE+sUE0ERp1v/r7OEIdyc7iaMhIiIiS8IE0ESduKTp/mXrHxEREekXE0ATxRnAREREZChMAE2UZgIIx/8RERGRvjEBNEFVNSqcyVdvAde3M2cAExERkX4xATRBGfklqFaKcHe0g5+7g9ThEBERkYVhAmiCNBNAQnzdIAiCxNEQERGRpWECaII4AYSIiIgMiQmgCTp2Ub0F3G0c/0dEREQGwATQxChVorYFsB8TQCIiojYpKK0EAJRW1EgciWliAmhizl0pRXm1Ek72MgR5OUsdDhERkVk6lHUNAPBL6kWJIzFNTABNjKb7t6+fG2Q2nAAipTVr1iAoKAgODg4IDQ3Fvn37miyfkJCA0NBQODg4oFu3bli3bl29MrGxsQgJCYFcLkdISAi2bNnSqnqrq6vx8ssv47bbboOzszP8/Pwwa9YsXLp0qf1vmIiIrAYTQBNz/KJmCzh2/0pp8+bNWLBgAZYsWYKUlBSMGDECEydORHZ2doPlMzMzMWnSJIwYMQIpKSl49dVX8fzzzyM2NlZbJikpCTNmzEBkZCSOHj2KyMhITJ8+HcnJyS2u98aNGzhy5AiWLl2KI0eO4Oeff8bp06dx3333GfYDIdKDt99+G8OGDYOTkxM8PDykDofIqgmiKIpSB2GuiouL4e7ujqKiIri56WfG7vR1STiYdRXv/7M/poZ20cs1qfWGDBmCQYMGYe3atdpjffr0wZQpUxAdHV2v/Msvv4xt27YhLS1Ne2zu3Lk4evQokpKSAAAzZsxAcXExduzYoS0zYcIEuLi4IDY2FkVFRRg3blyr6gWAQ4cOYfDgwTh//jy6du3aovfX2L17o6oGIa/vBACcfGs8nOxtW3Q9sk6t/Q5844034OHhgQsXLmD9+vW4fv26wesk6xX4ym8AgN4KV/y+YKTOa7yP2AJoUlQqEScuqbuAOQFEOlVVVTh8+DAiIiJ0jkdERCAxMbHBc5KSkuqVHz9+PJKTk1FdXd1kmYMHD7a5XgAoKiqCIAhNtqhUVlaiuLhY50FkbG+++SYWLlyI2267TepQiKweE0ATkllYhrIqJRzsbNC9EyeASKWgoABKpRI+Pj46x318fJCXl9fgOXl5eQ2Wr6mpQUFBQZNlLl++DAAoLCxsdb0VFRV45ZVX8NBDDzX5V2x0dDTc3d21D39//0bLEhGR5WMCaEKO104A6ePrBlsZfzRSu3UXFlEUm9yZpaHytx5vyTVbWm91dTVmzpwJlUqFNWvWNPFOgKioKBQVFWkfOTk5TZYnMhVsvSYyDGYZJuQ4F4A2CV5eXpDJZPVa3fLz8+u1zmkoFIoGy9va2sLT07PJMt7e3gAAT0/PFtdbXV2N6dOnIzMzE3Fxcc2OYZHL5XBzc9N5EOmLu7s7BEFo9FF3olNrsfWayDCYAJoQzRIw/TgDWFL29vYIDQ1FXFyczvG4uDgMGzaswXPCw8Prld+1axfCwsJgZ2fXZJnBgwe3ql5N8peRkYHdu3drE0wiqRw6dAhpaWmNPvr169fma7P1msgwOMXPRKhUIk5c5A4gpmLRokWIjIxEWFgYwsPD8emnnyI7Oxtz584FoP6ldPHiRXz11VcA1DN+V61ahUWLFuGJJ55AUlIS1q9fj++//157zfnz52PkyJFYsWIF7r//fvzyyy/YvXs3du7cqV0uprl6a2pqMG3aNBw5cgS//vorlEqltsWwY8eOsLe3N+bHRAQA6NWrl8FaleVyOeRyuUGuTWTNmACaiPNXb6Cksgb2tjbo6eMidThWb8aMGSgsLMRbb72F3Nxc9OvXD9u3b0dAQAAAIDc3V2dNwKCgIGzfvh0LFy7E6tWr4efnh48++ghTp07Vlhk2bBg2bdqE1157DUuXLkX37t2xefNmhIWFtbjeCxcuYNu2bQCAAQMG6MS8Z88ejB492kCfCFH7ZWdn4+rVq8jOzoZSqURqaioAoEePHnBx4fcekTFxHcB20Oc6QltTLmLB5lQM7OqBLfPu1FOEZA6kWI+K6wCSPrT23p0zZw6+/PLLesdb88cL12+jluI6gE3jGEATkZpzHQDQv4uHpHEQERnKxo0bIYpivQdbromMjwmgiUipTQAHdvWQNA4iIiKyfEwATUBljRJpl9QTQAb4e0gbDBEREVk8JoAmIC23BFVKFTo626NrRyepwyEiIiILxwTQBKRmXwMA9O/i3uROE0RERET6wATQBBy9oF4Auj+7f4mIiMgImACaAM0MYI7/IyIiImOwiAQwOjoad9xxB1xdXeHt7Y0pU6YgPT29yXPi4+Mb3LPy1KlTRopa7fqNKmQWlAFgAkhERETGYREJYEJCAp555hns378fcXFxqKmpQUREBMrKypo9Nz09Hbm5udpHz549jRDxTZrWvyAvZ3g4cRsvIiIiMjyLWOb/999/13n+xRdfwNvbG4cPH8bIkSMbOUvN29sbHh4eBoyuaUdz1OP/2PpHRERExmIRLYC3KipSJ1UdO3ZstuzAgQPh6+uLsWPHYs+ePYYOrZ7UnJszgImIiIiMwSJaAOsSRRGLFi3C8OHD0a9fv0bL+fr64tNPP0VoaCgqKyvx9ddfY+zYsYiPj2+01bCyshKVlZXa58XFxe2KVakSkXxenQAOCujQrmsRERERtZTFJYDPPvss/v77b/zvf/9rslxwcDCCg4O1z8PDw5GTk4P33nuv0QQwOjoab775pt5iPXmpGCUVNXB1sEVfP7YAEhERkXFYVBfwc889h23btmHPnj3o0qVLq88fOnQoMjIyGn09KioKRUVF2kdOTk57wkXSuQIAwJCgjpDZcAFoIiIiMg6LaAEURRHPPfcctmzZgvj4eAQFBbXpOikpKfD19W30dblcDrlc3tYw69l/7ioAYGg3T71dk4iIiKg5FpEAPvPMM/juu+/wyy+/wNXVFXl5eQAAd3d3ODo6AlC33l28eBFfffUVACAmJgaBgYHo27cvqqqq8M033yA2NhaxsbFGiblGqcLBTCaAREREZHwWkQCuXbsWADB69Gid41988QXmzJkDAMjNzUV2drb2taqqKixevBgXL16Eo6Mj+vbti99++w2TJk0ySszHLxWjtLIGbg626OPrZpQ6iYiIiAALSQBFUWy2zMaNG3Wev/TSS3jppZcMFFHz9p8rBAAM6ebJ8X9ERERkVBY1CcScJJ1VJ4Ds/iUiIiJjYwIogWqlCoey1OP/wpkAEhERkZExAZTAsYtFuFGlhIeTHXorXKUOh4iIiKwME0AJ7DmVD0C9/p8Nx/8RERGRkTEBNDKlSsSPyRcAAPfe7idxNERERGSNmAAa2d7TV5BXXAEPJztE9PWROhwiIiKyQkwAjWzTIfVahA8M7AK5rUziaIiIiMgaMQE0ovySCvyRph7/N+MOf4mjISIiImvFBNCIfj5yETUqEQO7eiCYs3+JiIhIIkwAjUQURWw+lAMAmMnWPyIiIpIQE0AjSTxbiMyCMjjbyzj7l4iIiCTFBNBINiZmAQCmhnaBs9witmAmIiIiM8UE0Ahyrt7AH2mXAQCzwgMkjoaIiIisHRNAI/j2QDZUIjC8hxd6eHPyBxEREUmLCaCBVVQrtWv/sfWPiIiITAETQAPbdvQSrt+oRmcPR4ztw50/iIiISHpMAA3sl9SLAICHhwZAZiNIHA0RERERE0CDu3CtHAAQGtBB4kiIiIiI1JgAGpAoirhcXAEA8HGTSxwNERERkRoTQAMqLq9BRbUKAODj5iBxNERERERqTAAN6HKJuvXP3dEODnYyiaMhIiIiUmMCaEDs/iUiIiJTxATQgPKKNAkgu3+JiIjIdDABNKD8kkoATACJiIjItDABNCB2ARMREZEpYgJoQOwCJiIiIlNkK3UAluyygbqAlUolqqur9XpNMhw7OzvIZJwFTkREpoMJoAHlF+u3BVAUReTl5eH69et6uR4Zj4eHBxQKBQSB2wESEZH0mAAaiFIlaieBKPSUAGqSP29vbzg5OTGZMAOiKOLGjRvIz88HAPj6+kocERERERNAgyksq4RSJUIQAC8X+3ZfT6lUapM/T09PPURIxuLo6AgAyM/Ph7e3N7uDiYhIcpwEYiD5xerWPy8XOWxl7f+YNWP+nJyc2n0tMj7Nz41jN4mIyBQwATQQzRIw+ur+1WC3r3niz42IiEwJE0ADyeMagERERGSimAAayOXaLmBvrgGI0aNHY8GCBQCAwMBAxMTESBoPERGRteMkEAPJN1AXsLk7dOgQnJ2dpQ5Db0aPHo0BAwYwqSUiIrPCBNBA2AXcsE6dOkkdAhERkdVjF7CBsAu4Ybd2AZ86dQrDhw+Hg4MDQkJCsHv3bgiCgK1bt2rLvPzyy+jVqxecnJzQrVs3LF26VGc27bJlyzBgwABs2LABXbt2hYuLC55++mkolUq8++67UCgU8Pb2xttvv60TS1FREZ588kl4e3vDzc0Nd911F44ePVrvul9//TUCAwPh7u6OmTNnoqSkBAAwZ84cJCQk4MMPP4QgCBAEAVlZWQb53IiIiPSJLYAGYowuYFEUUV6tNNj1m+JoJ2v3zFaVSoUpU6aga9euOHDgAEpKSvDCCy/UK+fq6oqNGzfCz88Px44dwxNPPAFXV1e89NJL2jJnz57Fjh078Pvvv+Ps2bOYNm0aMjMz0atXLyQkJCAxMRGPPvooxo4di6FDh0IURdxzzz3o2LEjtm/fDnd3d3zyyScYO3YsTp8+jY4dO2qvu3XrVvz666+4du0apk+fjuXLl+Ptt9/Ghx9+iNOnT6Nfv3546623ALCFk4iIzINFJYBr1qzBf/7zH+Tm5qJv376IiYnBiBEjGi2fkJCARYsW4cSJE/Dz88NLL72EuXPntjuOyholCsuqAOh/H+C6yquVCHl9p8Gu35STb42Hk337bp9du3bh7NmziI+Ph0KhAAC8/fbbGDdunE651157Tfv/gYGBeOGFF7B582adBFClUmHDhg1wdXVFSEgIxowZg/T0dGzfvh02NjYIDg7GihUrEB8fj6FDh2LPnj04duwY8vPzIZeru+nfe+89bN26FT/99BOefPJJHDp0CGVlZfjtt9+QlZWFmJgYREZG4o8//sDbb78Nd3d32Nvbw8nJCQqFAgkJCbjnnnuavJ+2bNmCf//73zh79iy6d++Ot99+G2PHjtUp09x9LIoi3nzzTXz66ae4du0ahgwZgtWrV6Nv377t+nkQEZH1sJgu4M2bN2PBggVYsmQJUlJSMGLECEycOBHZ2dkNls/MzMSkSZMwYsQIpKSk4NVXX8Xzzz+P2NjYdsdypXYLOHuZDTo42bX7epYqPT0d/v7+2uQPAAYPHlyv3E8//YThw4dDoVDAxcUFS5curfdzDQwMhKurq/a5j48PQkJCYGNjo3NMsyXb4cOHUVpaCk9PT7i4uGgfmZmZOHv2LDZv3ozff/8dCoVC535ycHDQXqOultxPqampiIyMRGRkJI4ePYrIyEhMnz4dycnJ2jItuY/fffddrFy5EqtWrcKhQ4egUCgwbtw4bdc0kSnKysrCY489hqCgIDg6OqJ79+544403UFVVJXVoRFbJYloAV65cicceewyPP/44ACAmJgY7d+7E2rVrER0dXa/8unXr0LVrV+14tD59+iA5ORnvvfcepk6d2q5Ybo7/kxt0AWBHOxlOvjXeYNdvru72EkWx2c9n//79mDlzJt58802MHz8e7u7u2LRpE95//32dcnZ2uom2IAgNHlOpVADULYa+vr6Ij4+vV6eHhwfuueceDBw4EDU1NejTp4/2fkpMTNReo66W3E9fffUVxo4di6ioKABAVFQUEhISsGbNGu11mruPRVFETEwMlixZggceeAAA8OWXX8LHxwffffcdnnrqqSY/TyKpnDp1CiqVCp988gl69OiB48eP44knnkBZWRnee+89qcMjsjoWkQBWVVXh8OHDeOWVV3SOR0REIDExscFzkpKSEBERoXNs/PjxWL9+Paqrq+slDwBQWVmJyspK7fPi4uIGr31ZOwPYsBNABEFodzeslHr37o3s7GxcvnwZPj4+ANTLxNT1119/ISAgAEuWLNEeO3/+fLvrHjRoEPLy8mBra4vAwECd1zT309SpU5Genq49HhERgd9++02nrL29PZRKZbP3E6BuAVy4cGG9Mh988IFOvU3dx5mZmcjLy9OpSy6XY9SoUUhMTGw0AWzpvUtkKBMmTMCECRO0z7t164b09HSsXbuWCSCRBCyiC7igoABKpVKbRGj4+PggLy+vwXPy8vIaLF9TU4OCgoIGz4mOjoa7u7v24e/v32A5TQLo7colYJoybtw4dO/eHbNnz8bff/+Nv/76S5voaVoGe/TogezsbGzatAlnz57FRx99hC1btrS77rvvvhvh4eGYMmUKdu7ciaysLCQmJuK1117DH3/8AaVSCRcXF51zfHx86iVOgYGBOHDgAHJycuDi4qLTOnjr/VRQUABvb+9617x8+TIAoLCwsNn7WPPf1tzrQMvvXSJjKioq0k64akxlZSWKi4t1HkStEeRlOWvP6pNFJIAat3YnNtfF2FD5ho5rREVFoaioSPvIyclpsNzQbp54/d4QPDCoS2vCtzoymQxbt25FaWkp7rjjDjz++OPaCR8ODurW0/vvvx8LFy7Es88+iwEDBiAxMRFLly5td92CIGD79u0YOXIkHn30UfTq1QszZ85EVlYWvLy8Gjynoftp8eLFkMlkOH/+PN555x2dsXoN3U8tuUf1Vaault67mmEFJ98ar5dufqLGnD17Fh9//HGzE+/4xwu11a6FI3HPbb54f3p/qUMxTaIFqKysFGUymfjzzz/rHH/++efFkSNHNnjOiBEjxOeff17n2M8//yza2tqKVVVVLaq3qKhIBCAWFRW1LfBWKC8vF0+ePCmWl5cbvC4p/e9//xMBiGfOnJEsBkPcT+Xl5aJCoRBXrFihU2blypWiv7+/CEC8cuVKs/WePXtWBCAeOXJEp8x9990nzpo1q8Xv0Zj3LlkuzX3U3OPQoUM65128eFHs0aOH+NhjjzVbR0VFhVhUVKR95OTk8N6lduN3oChaRAugvb09QkNDERcXp3M8Li4Ow4YNa/Cc8PDweuV37dqFsLCwBsf/kWFs2bIFcXFxyMrKwu7du/Hkk0/izjvvRPfu3SWLyVD304ABA/Dnn3/WK6OZ+dySeoOCgqBQKHTKVFVVISEhodHYiAzt0KFDSEtLa/TRr18/bdlLly5hzJgxCA8Px6efftrsteVyOdzc3HQeRKQHUmeg+rJp0ybRzs5OXL9+vXjy5ElxwYIForOzs5iVlSWKoii+8sorYmRkpLb8uXPnRCcnJ3HhwoXiyZMnxfXr14t2dnbiTz/91OI62QLYfl9++aXYo0cPUS6Xi507dxZnz54tFhQUSB2W3u+n8vJy8dtvvxVlMpm4fPlyMS0tTVy+fLloa2sr/vHHH9r7qLl6RVEUly9fLrq7u4s///yzeOzYMfHBBx8UfX19xeLi4ha/P/71S/rQ2vvowoULYs+ePcWZM2eKNTU1RqmTqCG8j0TRYhJAURTF1atXiwEBAaK9vb04aNAgMSEhQfva7NmzxVGjRumUj4+PFwcOHCja29uLgYGB4tq1a1tVHxNAy6bP+0nz8/v222/F4OBg0c7OTuzdu7cYGxtb7z5qql5RFEWVSiW+8cYbokKhEOVyuThy5Ejx2LFjrXpv/PIjfWjNfaTp9r3rrrvECxcuiLm5udqHoeokagzvI1EURLF2pDq1WnFxMdzd3VFUVGTwbomKigpkZmYiKChIO0GCzEdTPz9j3kdS1kmWpzX30caNG/HII480+Fprfg3x3iV94H1kYbOArQHzdfPEnxtZuzlz5kBU9zrVexCR8TEBNBOaiQQ3btyQOBJqC83PjROMiIjIFJjvNhJWRiaTwcPDQ7sPrZOTk0G3mSP9EEURN27cQH5+Pjw8PCCTcW09IiKSHhNAM6JQKABAmwSS+fDw8ND+/IiIiKTGBNCMCIIAX19feHt7a/eXJdNnZ2fHlj8iIjIpTADNkEwmY0JBREREbcZJIERERERWhgkgERERkZVhAkhERERkZTgGsB00C5gWFxdLHAmZM839Y8wFcXnvkj7w3iVzJcW9a2qYALZDSUkJAMDf31/iSMgSlJSUwN3d3Wh1Abx3ST9475K5Mua9a2q4F3A7qFQqXLp0Ca6urvUWZS4uLoa/vz9ycnKsdp9BQ7Kkz1cURZSUlMDPzw82NsYZlcF7VzqW9Pny3jVN/BzUmvocpLh3TQ1bANvBxsYGXbp0abKMm5ubVf8DNDRL+XyN/Rco713pWcrny3vXdPFzUGvsc7DWlj8N60x7iYiIiKwYE0AiIiIiK8ME0EDkcjneeOMNyOVyqUOxSPx8DYefrWHx8zUcfrZq/BzU+Dk0jZNAiIiIiKwMWwCJiIiIrAwTQCIiIiIrwwSQiIiIyMowASQiIiKyMkwAW2jNmjUICgqCg4MDQkNDsW/fvibLJyQkIDQ0FA4ODujWrRvWrVtXr0xsbCxCQkIgl8sREhKCLVu2GCp8k6fvz/fEiROYOnUqAgMDIQgCYmJiDBi9aeO9a1i8d9tGqvuyuXpFUcSyZcvg5+cHR0dHjB49GidOnGjfm22GqX4Wc+bMgSAIOo+hQ4e27802QYrPYe/evZg8eTL8/PwgCAK2bt1a7xpS3BNGIVKzNm3aJNrZ2YmfffaZePLkSXH+/Pmis7OzeP78+QbLnzt3TnRychLnz58vnjx5Uvzss89EOzs78aefftKWSUxMFGUymfjOO++IaWlp4jvvvCPa2tqK+/fvN9bbMhmG+HwPHjwoLl68WPz+++9FhUIhfvDBB0Z6N6aF965h8d5tG6nuy5bUu3z5ctHV1VWMjY0Vjx07Js6YMUP09fUVi4uLre6zmD17tjhhwgQxNzdX+ygsLLSoz2H79u3ikiVLxNjYWBGAuGXLlnp1GfueMBYmgC0wePBgce7cuTrHevfuLb7yyisNln/ppZfE3r176xx76qmnxKFDh2qfT58+XZwwYYJOmfHjx4szZ87UU9TmwxCfb10BAQEW+Uu0JXjvGhbv3baR6r5srl6VSiUqFApx+fLl2tcrKipEd3d3cd26da14hy1nqp+FKKoTwPvvv79V76etTOG7qqEEUIp7wljYBdyMqqoqHD58GBERETrHIyIikJiY2OA5SUlJ9cqPHz8eycnJqK6ubrJMY9e0VIb6fIn3rqHx3m0bqe7LltSbmZmJvLw8nTJyuRyjRo0yyP1typ+FRnx8PLy9vdGrVy888cQTyM/Pb/0bbYYpf1cZ+54wJiaAzSgoKIBSqYSPj4/OcR8fH+Tl5TV4Tl5eXoPla2pqUFBQ0GSZxq5pqQz1+RLvXUPjvds2Ut2XLalX819j3d+m/FkAwMSJE/Htt9/izz//xPvvv49Dhw7hrrvuQmVlZdvecCNM+bvK2PeEMdlKHYC5EARB57koivWONVf+1uOtvaYlM8TnS2q8dw2L927bSHVf6quMPpnqZzFjxgzt//fr1w9hYWEICAjAb7/9hgceeKCpt9QmpvxdZYnfeWwBbIaXlxdkMlm9TD8/P7/eXwQaCoWiwfK2trbw9PRsskxj17RUhvp8ifeuofHebRup7suW1KtQKADAaPe3KX8WDfH19UVAQAAyMjJa9gZbyJS/q4x9TxgTE8Bm2NvbIzQ0FHFxcTrH4+LiMGzYsAbPCQ8Pr1d+165dCAsLg52dXZNlGrumpTLU50u8dw2N927bSHVftqTeoKAgKBQKnTJVVVVISEgwyP1typ9FQwoLC5GTkwNfX9+WvcEWMuXvKmPfE0ZlxAknZkszPX39+vXiyZMnxQULFojOzs5iVlaWKIqi+Morr4iRkZHa8prp6QsXLhRPnjwprl+/vt709L/++kuUyWTi8uXLxbS0NHH58uVWv5SGPj/fyspKMSUlRUxJSRF9fX3FxYsXiykpKWJGRobR35+UeO8aFu/dtpHqvmyuXlFUL/nh7u4u/vzzz+KxY8fEBx980CjLwJjaZ1FSUiK+8MILYmJiopiZmSnu2bNHDA8PFzt37myQz0Kqz6GkpET77w2AuHLlSjElJaXe0kDGvCeMhQlgC61evVoMCAgQ7e3txUGDBokJCQna12bPni2OGjVKp3x8fLw4cOBA0d7eXgwMDBTXrl1b75o//vijGBwcLNrZ2Ym9e/cWY2NjDf02TJa+P9/MzEwRQL3HrdexBrx3DYv3bttIdV82Va8oqpf9eOONN0SFQiHK5XJx5MiR4rFjx/Tzphthip/FjRs3xIiICLFTp06inZ2d2LVrV3H27Nlidna2/t54K+Ix1OewZ8+eBv+9zZ49W1tGinvCGARRrB01SURERERWgWMAiYiIiKwME0AiIiIiK8MEkIiIiMjKMAEkIiIisjJMAImIiIisDBNAIiIiIivDBJCIiIjIyjABNBGCIGDr1q16uVZWVhYEQUBqaqpermeO4uPjIQgCBEHAlClTJIlhzpw52hj09bMlIiLSByaABlY3CbCzs4OPjw/GjRuHDRs2QKVSacvl5uZi4sSJEkZqvkaPHo0FCxY0+Fp6ejo2btxo1Hg0PvzwQ+Tm5kpSNxERUVOYABrBhAkTkJubi6ysLOzYsQNjxozB/Pnzce+996KmpgYAoFAoIJfLJY7U8nh7e8PDw0OSut3d3aFQKCSpm4iIqClMAI1ALpdDoVCgc+fOGDRoEF599VX88ssv2LFjh7Z1qm43YVVVFZ599ln4+vrCwcEBgYGBiI6O1l5PEASsXbsWEydOhKOjI4KCgvDjjz82Wr9SqcRjjz2GoKAgODo6Ijg4GB9++GG9chs2bEDfvn0hl8vh6+uLZ599VvtaUVERnnzySXh7e8PNzQ133XUXjh49qn192bJlGDBgADZs2ICuXbvCxcUFTz/9NJRKJd59910oFAp4e3vj7bff1qmzpdf9+uuvERgYCHd3d8ycORMlJSUA1C2sCQkJ+PDDD7UtrVlZWY1+FqNHj8Zzzz2HBQsWoEOHDvDx8cGnn36KsrIyPPLII3B1dUX37t2xY8cO7Tma7uSdO3di4MCBcHR0xF133YX8/Hzs2LEDffr0gZubGx588EHcuHGj0bqJiIhMBRNAidx1113o378/fv7553qvffTRR9i2bRt++OEHpKen45tvvkFgYKBOmaVLl2Lq1Kk4evQoHn74YTz44INIS0trsC6VSoUuXbrghx9+wMmTJ/H666/j1VdfxQ8//KAts3btWjzzzDN48skncezYMWzbtg09evQAAIiiiHvuuQd5eXnYvn07Dh8+jEGDBmHs2LG4evWq9hpnz57Fjh078Pvvv+P777/Hhg0bcM899+DChQtISEjAihUr8Nprr2H//v2tvu7WrVvx66+/4tdff0VCQgKWL18OQN3NGh4ejieeeAK5ubnIzc2Fv79/k5/9l19+CS8vLxw8eBDPPfccnn76afzzn//EsGHDcOTIEYwfPx6RkZH1krlly5Zh1apVSExMRE5ODqZPn46YmBh89913+O233xAXF4ePP/64ybqJiIhMgkgGNXv2bPH+++9v8LUZM2aIffr0EUVRFAGIW7ZsEUVRFJ977jnxrrvuElUqVYPnARDnzp2rc2zIkCHi008/LYqiKGZmZooAxJSUlEbjmjdvnjh16lTtcz8/P3HJkiUNlv3jjz9ENzc3saKiQud49+7dxU8++UQURVF84403RCcnJ7G4uFj7+vjx48XAwEBRqVRqjwUHB4vR0dHtuu6LL74oDhkyRPt81KhR4vz583WusWfPHhGAeO3aNZ3jo0aNEocPH659XlNTIzo7O4uRkZHaY7m5uSIAMSkpSedau3fv1paJjo4WAYhnz57VHnvqqafE8ePH3/rx6fxsiYiITIGtdKkniaIIQRDqHZ8zZw7GjRuH4OBgTJgwAffeey8iIiJ0yoSHh9d73tSs33Xr1uHzzz/H+fPnUV5ejqqqKgwYMAAAkJ+fj0uXLmHs2LENnnv48GGUlpbC09NT53h5eTnOnj2rfR4YGAhXV1ftcx8fH8hkMtjY2Ogcy8/Pb9d1fX19tddoi9tvv137/zKZDJ6enrjtttt0YgRQr4665/n4+MDJyQndunXTOXbw4ME2x0VERGQsTAAllJaWhqCgoHrHBw0ahMzMTOzYsQO7d+/G9OnTcffdd+Onn35q8noNJZMA8MMPP2DhwoV4//33ER4eDldXV/znP//BgQMHAACOjo5NXlelUsHX1xfx8fH1Xqs7wcLOzq5ePA0d08x+bs91686gbq3m4tR8jrfWcWsZfcdFRERkLEwAJfLnn3/i2LFjWLhwYYOvu7m5YcaMGZgxYwamTZuGCRMm4OrVq+jYsSMAYP/+/Zg1a5a2/P79+zFw4MAGr7Vv3z4MGzYM8+bN0x6r28Lm6uqKwMBA/PHHHxgzZky98wcNGoS8vDzY2trWG4vYHvq6rr29PZRKpd7iIiIisnRMAI2gsrISeXl5UCqVuHz5Mn7//XdER0fj3nvv1UniND744AP4+vpiwIABsLGxwY8//giFQqHTKvbjjz8iLCwMw4cPx7fffouDBw9i/fr1Ddbfo0cPfPXVV9i5cyeCgoLw9ddf49ChQzqtj8uWLcPcuXPh7e2NiRMnoqSkBH/99Reee+453H333QgPD8eUKVOwYsUKBAcH49KlS9i+fTumTJmCsLCwNn0u+rpuYGAgDhw4gKysLLi4uGiTZCIiImoYE0Aj+P333+Hr6wtbW1t06NAB/fv3x0cffYTZs2frjI/TcHFxwYoVK5CRkQGZTIY77rgD27dv1yn75ptvYtOmTZg3bx4UCgW+/fZbhISENFj/3LlzkZqaihkzZkAQBDz44IOYN2+ezlIns2fPRkVFBT744AMsXrwYXl5emDZtGgB11+b27duxZMkSPProo7hy5QoUCgVGjhypHS/XFvq67uLFizF79myEhISgvLwcmZmZbY6JiIjIGgiiKIpSB0GtIwgCtmzZItkWZ+YgPj4eY8aMwbVr1yRbCFqDPy8iIjI1XAeQLFqXLl3w4IMPSlL33Llz4eLiIkndRERETWELoBlii1LzysvLcfHiRQDqLnUptmTLz89HcXExAPXSNc7OzkaPgYiIqCFMAImIiIisDLuAiYiIiKwME0AiIiIiK8MEkIiIiMjKMAEkIiIisjJMAImIiIisDBNAIiIiIivDBJCIiIjIyjABJCIiIrIyTACJiIiIrMz/A39wFvphN2iDAAAAAElFTkSuQmCC' width=640.0/>\n",
       "            </div>\n",
       "        "
      ],
      "text/plain": [
       "Canvas(toolbar=Toolbar(toolitems=[('Home', 'Reset original view', 'home', 'home'), ('Back', 'Back to previous …"
      ]
     },
     "metadata": {},
     "output_type": "display_data"
    }
   ],
   "source": [
    "fig, (ax1,ax2,ax3) = plt.subplots(1,3)\n",
    "ax1.plot(U_t, F_t/1000, label='ligament')\n",
    "# ax1.plot(U_slide_differential_ligament, -F_slide/1000, label='PTST')\n",
    "ax1.set_ylabel('Force [kN]')\n",
    "ax1.set_xlabel('Displacement[mm]')\n",
    "ax1.legend()\n",
    "ax2.plot(U_t, U_t_confinement, label='ligament')\n",
    "ax3.plot(U_t_confinement, F_t_confinement/(2 * np.pi * (R_in+dR)*(L_x-n_notch*2*d_x)), label='ligament')\n",
    "# ax2.plot(-U_t/(L_x-n_notch*2*d_x), -F_t/(2 * np.pi * (R_in+dR)*(L_x-n_notch*2*d_x)))\n",
    "# # ax2.plot(-U_t/(L_x-n_notch*2*d_x), -F_t/(2 * np.pi * (R_in+dR)*(L_x-n_notch*2*d_x)))\n",
    "# # ax2.set_ylabel('Stress [MPa]')\n",
    "# # ax2.set_xlabel('Strain[-]')\n",
    "# G = np.trapz(F_t, x=U_t)/(2 * np.pi * (R_in+dR)*(L_x-n_notch*2*d_x))*1000\n",
    "# G2 = np.trapz(F_t/(2 * np.pi * (R_in+dR)), x=U_t/(L_x-n_notch*2*d_x))\n",
    "# print(G)\n",
    "# print(G2)\n",
    "# print(max(-F_t/1000))"
   ]
  },
  {
   "cell_type": "code",
   "execution_count": 150,
   "id": "c4108f50-49f0-4db2-ad0c-2244b5a38b94",
   "metadata": {},
   "outputs": [],
   "source": [
    "if True:\n",
    "    mlab.options.backend = 'envisage'\n",
    "    mlab.options.offscreen = False # 'envisage'\n",
    "    f_strain = mlab.figure()\n",
    "    scene = mlab.get_engine().scenes[-1]\n",
    "    scene.name = 'stress'\n",
    "    strain_viz = Viz3DTensorField(vis3d=m.hist['damage'])\n",
    "    strain_viz.setup()\n",
    "    strain_viz.warp_vector.filter.scale_factor = 0.1\n",
    "    strain_viz.plot(s.tstep.t_n)\n",
    "    mlab.show()"
   ]
  },
  {
   "cell_type": "markdown",
   "id": "1c4e6078-acea-4c15-a3a6-1e382f49e53d",
   "metadata": {
    "tags": []
   },
   "source": [
    "## Complete PTST"
   ]
  },
  {
   "cell_type": "code",
   "execution_count": 151,
   "id": "67ff492f-2496-486c-92e9-67edd7aa0e1d",
   "metadata": {
    "scrolled": true,
    "tags": []
   },
   "outputs": [],
   "source": [
    "n_x_e = 5\n",
    "n_inner_y_e = 2\n",
    "n_outer_y_e = 2\n",
    "L_x = 50.0 # [mm]\n",
    "d_x = L_x / n_x_e\n",
    "R_in = 25 # [mm]\n",
    "dR = 2 # [mm]\n",
    "R_out = 50 # [mm]\n",
    "len_notch = 30\n",
    "n_notch = 1\n",
    "# geo_transform\n",
    "# gmesh\n",
    "xd_inner = XDomainFEGridAxiSym(integ_factor = 2 * np.pi,\n",
    "                               coord_min=(0, 0),\n",
    "                               coord_max=(L_x, R_in),\n",
    "                               shape=(n_x_e, n_inner_y_e),\n",
    "                               fets=FETS2D4Q())\n",
    "xd_middle = XDomainFEGridAxiSym(integ_factor = 2 * np.pi,\n",
    "                               coord_min=(0+n_notch*d_x, R_in),\n",
    "                               coord_max=(L_x-n_notch*d_x, R_in+dR),\n",
    "                               shape=(n_x_e-2*n_notch, 1),\n",
    "                               fets=FETS2D4Q())\n",
    "xd_outer = XDomainFEGridAxiSym(integ_factor = 2 * np.pi,\n",
    "                               coord_min=(0, R_in+dR),\n",
    "                               coord_max=(L_x, R_out),\n",
    "                               shape=(n_x_e, n_outer_y_e),\n",
    "                               fets=FETS2D4Q())\n",
    "m_elastic = MATS3DElastic(E=40000, nu=0.18)\n",
    "m_inelastic_MDM = MATS3DMplDamageEEQ(**mp_mdm)\n",
    "\n",
    "# m_inelastic_MS1 = MS13D(**mp_ms1)\n",
    "m_inelastic_MS1 = MS13D_damage_jir(**mp_ms1)\n",
    "\n",
    "\n",
    "m1 = TStepBC(\n",
    "    domains=[(xd_inner, m_inelastic_MS1),\n",
    "             (xd_outer, m_inelastic_MS1),\n",
    "             (xd_middle, m_inelastic_MS1),\n",
    "             ]\n",
    ")"
   ]
  },
  {
   "cell_type": "markdown",
   "id": "29373558-9668-46a6-a697-ebe650527353",
   "metadata": {},
   "source": [
    "## Boundary and transition conditions"
   ]
  },
  {
   "cell_type": "code",
   "execution_count": 175,
   "id": "044557ca-f2bb-4b1c-87d3-c3f0cd8b5f6e",
   "metadata": {},
   "outputs": [],
   "source": [
    "tf_precrompression = TFBilinear(loading_ratio = 1.0, time_ratio=0.1)\n",
    "tf_sliding = TFBilinear(loading_ratio = 0.0, time_ratio=0.1)\n",
    "#tf_sliding.interact()"
   ]
  },
  {
   "cell_type": "markdown",
   "id": "5e96e632-f400-452d-8f60-718a3213b314",
   "metadata": {},
   "source": [
    "### Kinematic links between the domains"
   ]
  },
  {
   "cell_type": "code",
   "execution_count": 176,
   "id": "9893c53f-cc19-4e72-bc6c-5419650e7b9f",
   "metadata": {},
   "outputs": [],
   "source": [
    "link_inner_middle_0 = BCSliceI(var='u', dims=[0],\n",
    "                             # slice=xd_inner.mesh.I[:, -1], \n",
    "                             slice=xd_inner.mesh.I[n_notch:-n_notch, -1], \n",
    "                             link_slice=xd_middle.mesh.I[:, 0],\n",
    "                             link_coeffs=[1],\n",
    "                             link_dims=[0],\n",
    "                             value=0,\n",
    "                            )\n",
    "\n",
    "link_inner_middle_1 = BCSliceI(var='u', dims=[1],\n",
    "                             # slice=xd_inner.mesh.I[:, -1], \n",
    "                             slice=xd_inner.mesh.I[n_notch:-n_notch, -1], \n",
    "                             link_slice=xd_middle.mesh.I[:, 0],\n",
    "                             link_coeffs=[1],\n",
    "                             link_dims=[1],\n",
    "                             value=0,\n",
    "                            )\n",
    "\n",
    "link_middle_outer_0 = BCSliceI(var='u', dims=[0],\n",
    "                             slice=xd_outer.mesh.I[n_notch:-n_notch, 0], \n",
    "                             # slice=xd_outer.mesh.I[:, 0], \n",
    "                             link_slice=xd_middle.mesh.I[:, -1],\n",
    "                             link_coeffs=[1],\n",
    "                             link_dims=[0],\n",
    "                             value=0,\n",
    "                            )\n",
    "\n",
    "link_middle_outer_1 = BCSliceI(var='u', dims=[1],\n",
    "                             slice=xd_outer.mesh.I[n_notch:-n_notch, 0], \n",
    "                             # slice=xd_outer.mesh.I[:, 0], \n",
    "                             link_slice=xd_middle.mesh.I[:, -1],\n",
    "                             link_coeffs=[1],\n",
    "                             link_dims=[1],\n",
    "                             value=0,\n",
    "                            )\n",
    "\n",
    "# link_middle_outer = BCSliceI(var='u', dims=[0, 1],\n",
    "#                              slice=xd_middle.mesh.I[n_notch:-n_notch, 0], \n",
    "#                              # slice=xd_outer.mesh.I[:, 0], \n",
    "#                              link_slice=xd_outer.mesh.I[:, -1],\n",
    "#                              link_coeffs=[1, 1],\n",
    "#                              link_dims=[0, 1],\n",
    "#                              value=0,\n",
    "#                             )"
   ]
  },
  {
   "cell_type": "markdown",
   "id": "67bf4496-d30a-40e2-8fa2-297470c9c890",
   "metadata": {},
   "source": [
    "## Sliding dc + Precompression fc"
   ]
  },
  {
   "cell_type": "code",
   "execution_count": 198,
   "id": "20384cf3-6190-4179-adb8-7ccee4bac9ee",
   "metadata": {},
   "outputs": [],
   "source": [
    "inner_fixed_1 = BCSliceI(slice=xd_inner.mesh.I[:, 0], var='u', dims=[1], value=0)\n",
    "outer_fixed_0 = BCSliceI(slice=xd_outer.mesh.I[0, :], var='u', dims=[0], value=0)\n",
    "inner_fixed_out_1 = BCSliceI(slice=xd_inner.mesh.I[:, -1], var='u', dims=[1], value=0)\n",
    "\n",
    "slide = 0.1\n",
    "inner_slide_slice = BCSliceI(slice=xd_inner.mesh.I[-1, :],\n",
    "                                   var='u', dims=[0], value=-0.1)\n",
    "\n",
    "slide_control_dofs = inner_slide_slice.dofs\n",
    "inner_slide = [BCDof(var='u', dof=dof, value=-slide, time_function=tf_sliding) \n",
    "                     for dof in slide_control_dofs ]\n",
    "\n",
    "\n",
    "outer_compression_slice = BCSliceI(slice=xd_outer.mesh.I[:, -1],\n",
    "                                   var='u', dims=[1], value=-0.1)\n",
    "\n",
    "compression_dofs = outer_compression_slice.dofs\n",
    "compression_stress = -10\n",
    "compression_force = compression_stress  * 2* np.pi* R_out * L_x / len(compression_dofs)\n",
    "outer_compression_force_first = [BCDof(var='f', dof=dof, value=compression_force, time_function=tf_precrompression) \n",
    "                                 for dof in compression_dofs ]\n",
    "\n",
    "compression_dofs_inner = inner_fixed_out_1.dofs\n",
    "outer_compression_force_inner_first = [BCDof(var='f', dof=dof, value=compression_force, time_function=tf_precrompression) \n",
    "                                 for dof in compression_dofs_inner ]\n",
    "\n",
    "\n",
    "# outer_compression_force_first = [BCDof(var='u', dof=dof, value=0.01, time_function=tf_precrompression) \n",
    "#                                  for dof in compression_dofs ]\n",
    "# outer_compression_force_first[0].value *=0.5\n",
    "# outer_compression_force_first[-1].value *=0.5\n",
    "outer_compression_force_inner_first[0].value *=0.5\n",
    "outer_compression_force_inner_first[-1].value *=0.5\n",
    "\n",
    "bc1 =   [inner_fixed_1,\n",
    "        outer_fixed_0,\n",
    "        link_middle_outer_0,\n",
    "         link_middle_outer_1,\n",
    "        link_inner_middle_0,\n",
    "         link_inner_middle_1\n",
    "        ]  + inner_slide  + outer_compression_force_first"
   ]
  },
  {
   "cell_type": "code",
   "execution_count": 199,
   "id": "fa6206b7-1cf1-44ce-878c-2d7822587ae4",
   "metadata": {},
   "outputs": [],
   "source": [
    "ligament_upper_slide_slice = BCSliceI(slice=xd_middle.mesh.I[:, -1],\n",
    "                                   var='u', dims=[0], value=-0.1)\n",
    "ligament_upper_slide_dofs = ligament_upper_slide_slice.dofs\n",
    "\n",
    "ligament_lower_slide_slice = BCSliceI(slice=xd_middle.mesh.I[:, 0],\n",
    "                                   var='u', dims=[0], value=-0.1)\n",
    "ligament_lower_slide_dofs = ligament_lower_slide_slice.dofs\n",
    "\n",
    "ligament_upper_confinement_slice = BCSliceI(slice=xd_middle.mesh.I[:, -1],\n",
    "                                   var='u', dims=[1], value=-0.1)\n",
    "ligament_upper_confinement_dofs = ligament_upper_confinement_slice.dofs\n",
    "\n",
    "ligament_lower_confinement_slice = BCSliceI(slice=xd_middle.mesh.I[:, 0],\n",
    "                                   var='u', dims=[1], value=-0.1)\n",
    "ligament_lower_confinement_dofs = ligament_lower_confinement_slice.dofs"
   ]
  },
  {
   "cell_type": "code",
   "execution_count": 200,
   "id": "b245b2fd-b006-4f23-a254-dec34981423a",
   "metadata": {
    "tags": []
   },
   "outputs": [
    {
     "data": {
      "text/plain": [
       "[<ibvpy.sim.domain_state.DomainState at 0x21d77b9cd10>,\n",
       " <ibvpy.sim.domain_state.DomainState at 0x21d1a7667c0>,\n",
       " <ibvpy.sim.domain_state.DomainState at 0x21d1a766720>]"
      ]
     },
     "execution_count": 200,
     "metadata": {},
     "output_type": "execute_result"
    }
   ],
   "source": [
    "m = copy.deepcopy(m1)\n",
    "m.bc=bc1\n",
    "m.hist.vis_record = {\n",
    "    'strain': Vis3DTensorField(var='eps_ab'),\n",
    "    'damage': Vis3DTensorField(var='omega_ab'),\n",
    "    'strain_p': Vis3DTensorField(var='eps_p_ab'),\n",
    "    'max_omega': Vis3DStateField(var='max_omega'),\n",
    "    'max_omega_T': Vis3DStateField(var='max_omega_T'),\n",
    "    'max_omega_N': Vis3DStateField(var='max_omega_N'),\n",
    "    'stress': Vis3DTensorField(var='sig_ab'),\n",
    "}\n",
    "\n",
    "s = m.sim\n",
    "s.tloop.verbose = True\n",
    "s.tloop.k_max = 1000\n",
    "s.tline.step = 0.01\n",
    "# Accessing the following property - ensures serialization\n",
    "s.tstep.fe_domain.serialized_subdomains"
   ]
  },
  {
   "cell_type": "code",
   "execution_count": 201,
   "id": "1c314099-6adc-4129-ac74-41272fd49393",
   "metadata": {
    "scrolled": true
   },
   "outputs": [
    {
     "name": "stdout",
     "output_type": "stream",
     "text": [
      "t:\t 0.00(0), \n",
      "\t 0.01(1), \n",
      "\t 0.02(1), \n",
      "\t 0.03(1), \n",
      "\t 0.04(14), \n",
      "\t 0.05(34), \n",
      "\t 0.06(45), \n",
      "\t 0.07(27), \n",
      "\t 0.08(77), \n",
      "\t 0.09(32), \n",
      "\t 0.10(21), \n",
      "\t 0.11(10), \n",
      "\t 0.12(9), \n",
      "\t 0.13(9), \n",
      "\t 0.14(9), \n",
      "\t 0.15(9), \n",
      "\t 0.16(9), \n",
      "\t 0.17(9), \n",
      "\t 0.18(9), \n",
      "\t 0.19(9), \n",
      "\t 0.20(9), \n",
      "\t 0.21(9), \n",
      "\t 0.22(9), \n",
      "\t 0.23(11), \n",
      "\t 0.24(11), \n",
      "\t 0.25(31), \n",
      "\t 0.26(26), \n",
      "\t 0.27(39), \n",
      "\t 0.28(45), \n",
      "\t 0.29(25), \n",
      "\t 0.30(23), \n",
      "\t 0.31(23), \n",
      "\t 0.32(23), \n",
      "\t 0.33(32), \n",
      "\t 0.34(29), \n",
      "\t 0.35(26), \n",
      "\t 0.36(19), \n",
      "\t 0.37(16), \n",
      "\t 0.38(21), \n",
      "\t 0.39(21), \n",
      "\t 0.40(21), \n",
      "\t 0.41(23), \n",
      "\t 0.42(38), \n",
      "\t 0.43(34), \n",
      "\t 0.44(29), \n",
      "\t 0.45(156), \n",
      "\t 0.46(271), \n",
      "\t 0.47(85), \n",
      "\t 0.48(67), \n",
      "\t 0.49(37), \n",
      "\t 0.50(44), \n",
      "\t 0.51(34), \n",
      "\t 0.52(31), \n",
      "\t 0.53(31), \n",
      "\t 0.54(40), \n",
      "\t 0.55(50), \n",
      "\t 0.56(35), \n",
      "\t 0.57(48), \n",
      "\t 0.58(38), \n",
      "\t 0.59(57), \n",
      "\t 0.60(38), \n",
      "\t 0.61(42), \n",
      "\t 0.62(48), \n",
      "\t 0.63(37), \n",
      "\t 0.64(30), \n",
      "\t 0.65(29), \n",
      "\t 0.66(28), \n",
      "\t 0.67(31), \n",
      "\t 0.68(27), \n",
      "\t 0.69(22), \n",
      "\t 0.70(250), \n",
      "\t 0.71(43), \n",
      "\t 0.72(2), \n",
      "\t 0.73(2), \n",
      "\t 0.74(2), \n",
      "\t 0.75(2), \n",
      "\t 0.76(2), \n",
      "\t 0.77(2), \n",
      "\t 0.78(2), \n",
      "\t 0.79(2), \n",
      "\t 0.80(2), \n",
      "\t 0.81(2), \n",
      "\t 0.82(2), \n",
      "\t 0.83(2), \n",
      "\t 0.84(2), \n",
      "\t 0.85(2), \n",
      "\t 0.86(2), \n",
      "\t 0.87(2), \n",
      "\t 0.88(2), \n",
      "\t 0.89(2), \n",
      "\t 0.90(2), \n",
      "\t 0.91(2), \n",
      "\t 0.92(2), \n",
      "\t 0.93(2), \n",
      "\t 0.94(2), \n",
      "\t 0.95(2), \n",
      "\t 0.96(3), \n",
      "\t 0.97(3), \n",
      "\t 0.98(3), \n",
      "\t 0.99(3), \n",
      "\t 1.00(3), \n",
      "\n"
     ]
    }
   ],
   "source": [
    "s.reset()\n",
    "s.run()"
   ]
  },
  {
   "cell_type": "markdown",
   "id": "d08712d2-893e-4371-bdd0-f387e1a59cf2",
   "metadata": {},
   "source": [
    "## Postprocesing"
   ]
  },
  {
   "cell_type": "markdown",
   "id": "343f4284-2be6-42ae-9284-279196266fd0",
   "metadata": {},
   "source": [
    "### Access the last displacement step"
   ]
  },
  {
   "cell_type": "code",
   "execution_count": 202,
   "id": "d055557f-49ff-483c-b532-c4ec207021fd",
   "metadata": {},
   "outputs": [],
   "source": [
    "F = m.hist.F_t\n",
    "U = m.hist.U_t"
   ]
  },
  {
   "cell_type": "code",
   "execution_count": 203,
   "id": "74ea5c59-7545-4090-91ea-3a30b33fe68e",
   "metadata": {},
   "outputs": [],
   "source": [
    "F_slide = np.sum(F[:, slide_control_dofs], axis=-1)\n",
    "F_slide_ligament_upper = np.sum(F[:, ligament_upper_slide_dofs], axis=-1)\n",
    "F_slide_ligament_lower = np.sum(F[:, ligament_lower_slide_dofs], axis=-1)\n",
    "F_confinement_ligament_upper = np.sum(F[:, ligament_upper_confinement_dofs], axis=-1)\n",
    "F_confinement_ligament_lower = np.sum(F[:, ligament_lower_confinement_dofs], axis=-1)\n",
    "U_slide = np.average(U[:, slide_control_dofs], axis=-1)\n",
    "U_slide_ligament_upper = np.average(U[:, ligament_upper_slide_dofs], axis=-1)\n",
    "U_slide_ligament_lower = np.average(U[:, ligament_lower_slide_dofs], axis=-1)\n",
    "U_slide_differential_ligament = U_slide_ligament_upper - U_slide_ligament_lower"
   ]
  },
  {
   "cell_type": "code",
   "execution_count": 208,
   "id": "e5d3b09e-94ab-481f-91bd-b9ab3d94779d",
   "metadata": {},
   "outputs": [
    {
     "data": {
      "text/plain": [
       "Text(0.5, 0, 'Displacement at control[mm]')"
      ]
     },
     "execution_count": 208,
     "metadata": {},
     "output_type": "execute_result"
    },
    {
     "data": {
      "application/vnd.jupyter.widget-view+json": {
       "model_id": "5b1cb917adc14d6090d2f554843b783e",
       "version_major": 2,
       "version_minor": 0
      },
      "text/html": [
       "\n",
       "            <div style=\"display: inline-block;\">\n",
       "                <div class=\"jupyter-widgets widget-label\" style=\"text-align: center;\">\n",
       "                    Figure\n",
       "                </div>\n",
       "                <img src='data:image/png;base64,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' width=640.0/>\n",
       "            </div>\n",
       "        "
      ],
      "text/plain": [
       "Canvas(toolbar=Toolbar(toolitems=[('Home', 'Reset original view', 'home', 'home'), ('Back', 'Back to previous …"
      ]
     },
     "metadata": {},
     "output_type": "display_data"
    }
   ],
   "source": [
    "_, ax = plt.subplots(1,1)\n",
    "ax.plot(U_slide_differential_ligament, F_slide_ligament_upper /1000)\n",
    "ax.set_ylabel('Force [kN]')\n",
    "ax.set_xlabel('Displacement at control[mm]')\n",
    "# ax.legend()"
   ]
  },
  {
   "cell_type": "code",
   "execution_count": 174,
   "id": "7ade4a8b-1e71-4aef-8a3d-ad489f711b27",
   "metadata": {},
   "outputs": [],
   "source": [
    "if True:\n",
    "    mlab.options.backend = 'envisage'\n",
    "    mlab.options.offscreen = False # 'envisage'\n",
    "    f_strain = mlab.figure()\n",
    "    scene = mlab.get_engine().scenes[-1]\n",
    "    scene.name = 'damage'\n",
    "    strain_viz = Viz3DTensorField(vis3d=m.hist['stress'])\n",
    "    strain_viz.setup()\n",
    "    strain_viz.warp_vector.filter.scale_factor = 0.1\n",
    "    strain_viz.plot(s.tstep.t_n)\n",
    "    # strain_viz = Viz3DScalarField(vis3d=m.hist['max_omega_N'])\n",
    "    # strain_viz.setup()\n",
    "    # strain_viz.warp_vector.filter.scale_factor = 0.1\n",
    "    # strain_viz.plot(s.tstep.t_n)\n",
    "    mlab.show()"
   ]
  },
  {
   "cell_type": "markdown",
   "id": "77fa46a0-39b2-4d1c-ad67-452a41fc6ddb",
   "metadata": {},
   "source": [
    "### Study about slide profile at ligament"
   ]
  },
  {
   "cell_type": "code",
   "execution_count": 61,
   "id": "846cf9e6-bf5f-46eb-a506-3fda1cdefabf",
   "metadata": {},
   "outputs": [
    {
     "data": {
      "application/vnd.jupyter.widget-view+json": {
       "model_id": "1ede94f6953d4833ad820c278a34fd57",
       "version_major": 2,
       "version_minor": 0
      },
      "text/plain": [
       "Canvas(toolbar=Toolbar(toolitems=[('Home', 'Reset original view', 'home', 'home'), ('Back', 'Back to previous …"
      ]
     },
     "metadata": {},
     "output_type": "display_data"
    },
    {
     "data": {
      "text/plain": [
       "<matplotlib.legend.Legend at 0x7f0aae7ea5b0>"
      ]
     },
     "execution_count": 61,
     "metadata": {},
     "output_type": "execute_result"
    }
   ],
   "source": [
    "_, ax = plt.subplots(1,1)\n",
    "for i in range(F[:, ligament_upper_confinement_dofs].shape[1]):\n",
    "    # ax.plot(U_slide_differential_ligament, U[:, ligament_upper_slide_dofs][:,i], label=str(i))\n",
    "    # ax.plot(U_slide_differential_ligament, U[:, ligament_lower_slide_dofs][:,i], label=str(i))\n",
    "    ax.plot(U_slide_differential_ligament, U[:, ligament_upper_slide_dofs][:,i] - U[:, ligament_lower_slide_dofs][:,i], label='Position' + str(i))\n",
    "ax.set_ylabel('Displacement at each ligament node [kN]')\n",
    "ax.set_xlabel('Diferential displacement at ligament [mm]')\n",
    "ax.legend()\n",
    "\n"
   ]
  },
  {
   "cell_type": "markdown",
   "id": "887df28f-9733-402f-b4ba-07cbbc60fdb0",
   "metadata": {},
   "source": [
    "### Study about confinement profile at ligament"
   ]
  },
  {
   "cell_type": "code",
   "execution_count": 62,
   "id": "a0e9e1c3-5f51-4761-814e-6b12af80c048",
   "metadata": {},
   "outputs": [
    {
     "data": {
      "application/vnd.jupyter.widget-view+json": {
       "model_id": "03422080dfa04cbb929c22dfbdb7bfbe",
       "version_major": 2,
       "version_minor": 0
      },
      "text/plain": [
       "Canvas(toolbar=Toolbar(toolitems=[('Home', 'Reset original view', 'home', 'home'), ('Back', 'Back to previous …"
      ]
     },
     "metadata": {},
     "output_type": "display_data"
    },
    {
     "data": {
      "text/plain": [
       "<matplotlib.legend.Legend at 0x7f0aae7fe160>"
      ]
     },
     "execution_count": 62,
     "metadata": {},
     "output_type": "execute_result"
    }
   ],
   "source": [
    "_, ax = plt.subplots(1,1)\n",
    "for i in range(F[:, ligament_upper_confinement_dofs].shape[1]):\n",
    "    # ax.plot(U_slide_differential_ligament[:], F[:, ligament_upper_confinement_dofs][:,i]/1000, label=str(i))\n",
    "    # ax.plot(U_slide_differential_ligament[:], F[:, ligament_lower_confinement_dofs][:,i]/1000, label=str(i))\n",
    "    ax.plot(U_slide_differential_ligament, (F[:, ligament_upper_confinement_dofs][:,i] - F[:, ligament_lower_confinement_dofs][:,i])/1000, label='Position' + str(i))\n",
    "ax.set_ylabel('Force at each ligament node [kN]')\n",
    "ax.set_xlabel('Diferential displacement at ligament [mm]')\n",
    "ax.legend()"
   ]
  },
  {
   "cell_type": "markdown",
   "id": "b5e6dcfd-d69b-407f-bdbc-d5f73cd39a92",
   "metadata": {},
   "source": [
    "### Study about dilatancy profile at ligament"
   ]
  },
  {
   "cell_type": "code",
   "execution_count": 119,
   "id": "bfafb3e5-ddda-4d99-8e9e-00cf80659b06",
   "metadata": {},
   "outputs": [
    {
     "data": {
      "text/plain": [
       "<matplotlib.legend.Legend at 0x19905c23bb0>"
      ]
     },
     "execution_count": 119,
     "metadata": {},
     "output_type": "execute_result"
    },
    {
     "data": {
      "application/vnd.jupyter.widget-view+json": {
       "model_id": "c71b12ed1f7f449c8437238ece5eff6b",
       "version_major": 2,
       "version_minor": 0
      },
      "text/html": [
       "\n",
       "            <div style=\"display: inline-block;\">\n",
       "                <div class=\"jupyter-widgets widget-label\" style=\"text-align: center;\">\n",
       "                    Figure\n",
       "                </div>\n",
       "                <img src='data:image/png;base64,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' width=640.0/>\n",
       "            </div>\n",
       "        "
      ],
      "text/plain": [
       "Canvas(toolbar=Toolbar(toolitems=[('Home', 'Reset original view', 'home', 'home'), ('Back', 'Back to previous …"
      ]
     },
     "metadata": {},
     "output_type": "display_data"
    }
   ],
   "source": [
    "_, ax = plt.subplots(1,1)\n",
    "for i in range(F[:, ligament_upper_confinement_dofs].shape[1]):\n",
    "    # ax.plot(U_slide_differential_ligament[:], U[:, ligament_upper_confinement_dofs][:,i], label= 'Position' + str(i))\n",
    "    # ax.plot(U_slide_differential_ligament[:], U[:, ligament_lower_confinement_dofs][:,i], label= 'Position' + str(i))\n",
    "    ax.plot(U_slide_differential_ligament, U[:, ligament_upper_confinement_dofs][:,i] - U[:, ligament_lower_confinement_dofs][:,i], label = 'Position' + str(i))\n",
    "ax.set_ylabel('Dilatancy at each node [mm]')\n",
    "ax.set_xlabel('Diferential displacement at ligament [mm]')\n",
    "ax.legend()\n"
   ]
  }
 ],
 "metadata": {
  "kernelspec": {
   "display_name": "bmcs_env",
   "language": "python",
   "name": "bmcs_env"
  },
  "language_info": {
   "codemirror_mode": {
    "name": "ipython",
    "version": 3
   },
   "file_extension": ".py",
   "mimetype": "text/x-python",
   "name": "python",
   "nbconvert_exporter": "python",
   "pygments_lexer": "ipython3",
   "version": "3.9.7"
  }
 },
 "nbformat": 4,
 "nbformat_minor": 5
}
