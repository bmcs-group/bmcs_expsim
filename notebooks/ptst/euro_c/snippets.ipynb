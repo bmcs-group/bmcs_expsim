{
 "cells": [
  {
   "cell_type": "markdown",
   "id": "7fe163db-9193-44c1-9033-f79a48775c99",
   "metadata": {},
   "source": [
    "# **Snippets from studies not included at Euro-C paper**"
   ]
  },
  {
   "cell_type": "markdown",
   "id": "a1af772b-a50e-4b71-873e-6713eda2ec74",
   "metadata": {},
   "source": [
    "Includes shear test 3D, tensile test axisymm, investigation of state variables profile at ligament"
   ]
  },
  {
   "cell_type": "code",
   "execution_count": null,
   "id": "d7b4549e-c36b-4c4c-96d2-8a71c0b9aae8",
   "metadata": {},
   "outputs": [],
   "source": [
    "%matplotlib widget\n",
    "import numpy as np\n",
    "np.seterr(divide='ignore', invalid='ignore') \n",
    "import matplotlib.pylab as plt\n",
    "from ibvpy.bcond import BCSlice, BCDof\n",
    "from ibvpy.fets import FETS3D8H\n",
    "from ibvpy.fets import FETS2D4Q\n",
    "from ibvpy.tmodel.mats3D import MATS3DElastic\n",
    "import bmcs_matmod.ms1.concrete_material_db as mp_db\n",
    "from ibvpy.tmodel.viz3d_scalar_field import \\\n",
    "    Vis3DStateField, Viz3DScalarField\n",
    "from ibvpy.tmodel.viz3d_tensor_field import \\\n",
    "    Vis3DTensorField, Viz3DTensorField\n",
    "from ibvpy.sim.tstep_bc import TStepBC\n",
    "from ibvpy.xmodel.xdomain_fe_grid import XDomainFEGrid\n",
    "from ibvpy.xmodel.xdomain_fe_grid_axisym import XDomainFEGridAxiSym\n",
    "from ibvpy.api import TStepBC, TFCyclicNonsymmetricConstant, TFBilinear\n",
    "from mayavi import mlab\n",
    "from bmcs_matmod.ms1 import MS13D\n",
    "from ibvpy.tmodel.mats3D.mats3D_microplane.vmats3D_mpl_d_eeq import \\\n",
    "    MATS3DMplDamageEEQ\n",
    "from ibvpy.bcond import BCSliceI, BCDof\n",
    "from ibvpy.tfunction import TimeFunction, TFSelector, TFCyclicSin, TFCyclicNonsymmetricConstant\n",
    "import copy"
   ]
  },
  {
   "cell_type": "code",
   "execution_count": null,
   "id": "9883ccfa-7982-48f8-b25e-3c71cfd32b4a",
   "metadata": {},
   "outputs": [],
   "source": [
    "def get_damage(m):   \n",
    "    radial_damage = []\n",
    "    hoop_damage = []\n",
    "    shear_damage = []\n",
    "\n",
    "    for i in range(len(m.hist.state_vars)):\n",
    "        omega_T_Emn = np.average(m.hist.state_vars[i][0]['omega_T_Emn'],axis=1)\n",
    "        omega_N_Emn = np.average(m.hist.state_vars[i][0]['omega_N_Emn'],axis=1)\n",
    "        beta_N = 1. - omega_N_Emn\n",
    "        beta_T = 1. - omega_T_Emn\n",
    "        delta = m_inelastic.DELTA\n",
    "\n",
    "        beta_ijkl = np.einsum('n, ...n,ni, nj, nk, nl -> ...ijkl', m_inelastic._MPW, beta_N, m_inelastic._MPN, m_inelastic._MPN, m_inelastic._MPN,\n",
    "                              m_inelastic._MPN) + \\\n",
    "                    0.25 * (np.einsum('n, ...n,ni, nk, jl -> ...ijkl', m_inelastic._MPW, beta_T, m_inelastic._MPN, m_inelastic._MPN, delta) +\n",
    "                            np.einsum('n, ...n,ni, nl, jk -> ...ijkl', m_inelastic._MPW, beta_T, m_inelastic._MPN, m_inelastic._MPN, delta) +\n",
    "                            np.einsum('n, ...n,nj, nk, il -> ...ijkl', m_inelastic._MPW, beta_T, m_inelastic._MPN, m_inelastic._MPN, delta) +\n",
    "                            np.einsum('n, ...n,nj, nl, ik -> ...ijkl', m_inelastic._MPW, beta_T, m_inelastic._MPN, m_inelastic._MPN, delta) -\n",
    "                            4.0 * np.einsum('n, ...n, ni, nj, nk, nl -> ...ijkl', m_inelastic._MPW, beta_T, m_inelastic._MPN,\n",
    "                                            m_inelastic._MPN, m_inelastic._MPN, m_inelastic._MPN))\n",
    "\n",
    "        radial_damage.append(1-(beta_ijkl**2)[0,1,1,1,1])\n",
    "        hoop_damage.append(1-(beta_ijkl**2)[0,2,2,2,2])\n",
    "        shear_damage.append(1-((beta_ijkl)[0,1,0,1,0]*2)**2)\n",
    "    return radial_damage, hoop_damage, shear_damage\n"
   ]
  },
  {
   "cell_type": "code",
   "execution_count": null,
   "id": "709f1bea-6619-48d7-99a3-486b3d380dd3",
   "metadata": {},
   "outputs": [],
   "source": [
    "def get_omega_N(m):\n",
    "    omega_N_11 = np.zeros((len(m.hist.state_vars),8))\n",
    "    for i in range(len(m.hist.state_vars)):\n",
    "        omega_N_11[i] = np.array([ m.hist.state_vars[i][0]['omega_N_Emn'][0,0][j] for j in [8, 9, 10,11, 16, 17, 18 ,19]])\n",
    "        \n",
    "    omega_N_01 = np.zeros((len(m.hist.state_vars),20))\n",
    "    for i in range(len(m.hist.state_vars)):\n",
    "        omega_N_01[i] = np.array([ m.hist.state_vars[i][0]['omega_N_Emn'][0,0][j] for j in [0,1,2,3,4,5,6,7,12,13,14,15,20,21,22,23,24,25,26,27]])\n",
    "    return omega_N_01, omega_N_11 "
   ]
  },
  {
   "cell_type": "code",
   "execution_count": null,
   "id": "ce25f6a9-f75d-4fd3-b9df-145f352eaf55",
   "metadata": {},
   "outputs": [],
   "source": [
    "def get_omega_T(m):\n",
    "    omega_T_11 = np.zeros((len(m.hist.state_vars),8))\n",
    "    for i in range(len(m.hist.state_vars)):\n",
    "        omega_T_11[i] = np.array([ m.hist.state_vars[i][0]['omega_T_Emn'][0,0][j] for j in [8, 9, 10,11, 16, 17, 18 ,19]])\n",
    "        \n",
    "    omega_T_01 = np.zeros((len(m.hist.state_vars),20))\n",
    "    for i in range(len(m.hist.state_vars)):\n",
    "        omega_T_01[i] = np.array([ m.hist.state_vars[i][0]['omega_T_Emn'][0,0][j] for j in [0,1,2,3,4,5,6,7,12,13,14,15,20,21,22,23,24,25,26,27]])\n",
    "        \n",
    "    return omega_T_01, omega_T_11   "
   ]
  },
  {
   "cell_type": "code",
   "execution_count": null,
   "id": "250d4f2e-3756-4ebb-8baf-b0da435b00ff",
   "metadata": {},
   "outputs": [],
   "source": [
    "def get_sigma_N(m):\n",
    "    \n",
    "    sigma_N_11 = np.zeros((len(m.hist.state_vars),8))\n",
    "    for i in range(len(m.hist.state_vars)):\n",
    "        eps_Emab = xmodel.map_U_to_field(m.hist.U_t[i])\n",
    "        eps_N_Emn = m_inelastic._get_e_N_Emn_2(eps_Emab)\n",
    "        eps_N_Emn = np.array([ eps_N_Emn[0,0][j] for j in [8, 9, 10,11, 16, 17, 18 ,19]])\n",
    "        E_N = m_inelastic.E / (1.0 - 2.0 * m_inelastic.nu)\n",
    "        omega_N_Emn = np.array([ m.hist.state_vars[i][0]['omega_N_Emn'][0,0][j] for j in [8, 9, 10,11, 16, 17, 18 ,19]])\n",
    "        eps_N_p_Emn = np.array([ m.hist.state_vars[i][0]['eps_N_p_Emn'][0,0][j] for j in [8, 9, 10,11, 16, 17, 18 ,19]])\n",
    "        sigma_N_11[i] = (1.0 - omega_N_Emn ) * E_N * (eps_N_Emn - eps_N_p_Emn)\n",
    "        \n",
    "    sigma_N_01 = np.zeros((len(m.hist.state_vars),20))\n",
    "    for i in range(len(m.hist.state_vars)):\n",
    "        eps_Emab = xmodel.map_U_to_field(m.hist.U_t[i])\n",
    "        eps_N_Emn = m_inelastic._get_e_N_Emn_2(eps_Emab)\n",
    "        eps_N_Emn = np.array([ eps_N_Emn[0,0][j] for j in [0,1,2,3,4,5,6,7,12,13,14,15,20,21,22,23,24,25,26,27]])\n",
    "        E_N = m_inelastic.E / (1.0 - 2.0 * m_inelastic.nu)\n",
    "        omega_N_Emn = np.array([ m.hist.state_vars[i][0]['omega_N_Emn'][0,0][j] for j in [0,1,2,3,4,5,6,7,12,13,14,15,20,21,22,23,24,25,26,27]])\n",
    "        eps_N_p_Emn = np.array([ m.hist.state_vars[i][0]['eps_N_p_Emn'][0,0][j] for j in [0,1,2,3,4,5,6,7,12,13,14,15,20,21,22,23,24,25,26,27]])\n",
    "        sigma_N_01[i] = (1.0 - omega_N_Emn ) * E_N * (eps_N_Emn - eps_N_p_Emn)\n",
    "    \n",
    "    sigma_radial = np.zeros(len(m.hist.state_vars))\n",
    "    for i in range(len(m.hist.state_vars)):\n",
    "        eps_Emab = xmodel.map_U_to_field(m.hist.U_t[i])\n",
    "        omega_T_Emn = np.average(m.hist.state_vars[i][0]['omega_T_Emn'],axis=1)\n",
    "        omega_N_Emn = np.average(m.hist.state_vars[i][0]['omega_N_Emn'],axis=1)\n",
    "        eps_T_pi_Emna = np.average(m.hist.state_vars[i][0]['eps_T_pi_Emna'],axis=1)\n",
    "        eps_N_p_Emn = np.average(m.hist.state_vars[i][0]['eps_N_p_Emn'],axis=1)\n",
    "        \n",
    "        beta_N = 1. - omega_N_Emn\n",
    "        beta_T = 1. - omega_T_Emn\n",
    "        delta = m_inelastic.DELTA\n",
    "\n",
    "        beta_Emabcd = np.einsum('n, ...n,ni, nj, nk, nl -> ...ijkl', m_inelastic._MPW, beta_N, m_inelastic._MPN, m_inelastic._MPN, m_inelastic._MPN,\n",
    "                              m_inelastic._MPN) + \\\n",
    "                    0.25 * (np.einsum('n, ...n,ni, nk, jl -> ...ijkl', m_inelastic._MPW, beta_T, m_inelastic._MPN, m_inelastic._MPN, delta) +\n",
    "                            np.einsum('n, ...n,ni, nl, jk -> ...ijkl', m_inelastic._MPW, beta_T, m_inelastic._MPN, m_inelastic._MPN, delta) +\n",
    "                            np.einsum('n, ...n,nj, nk, il -> ...ijkl', m_inelastic._MPW, beta_T, m_inelastic._MPN, m_inelastic._MPN, delta) +\n",
    "                            np.einsum('n, ...n,nj, nl, ik -> ...ijkl', m_inelastic._MPW, beta_T, m_inelastic._MPN, m_inelastic._MPN, delta) -\n",
    "                            4.0 * np.einsum('n, ...n, ni, nj, nk, nl -> ...ijkl', m_inelastic._MPW, beta_T, m_inelastic._MPN,\n",
    "                                            m_inelastic._MPN, m_inelastic._MPN, m_inelastic._MPN))\n",
    "\n",
    "        D_Emabcd = np.einsum(\n",
    "                     '...ijab, abef, ...cdef->...ijcd',\n",
    "                     beta_Emabcd, m_inelastic.D_abef, beta_Emabcd\n",
    "                )\n",
    "\n",
    "        eps_p_Emab = (\n",
    "        np.einsum('n,...n,na,nb->...ab',\n",
    "                  m_inelastic._MPW, eps_N_p_Emn, m_inelastic._MPN, m_inelastic._MPN) +\n",
    "        0.5 * (\n",
    "                np.einsum('n,...nf,na,fb->...ab',\n",
    "                          m_inelastic._MPW, eps_T_pi_Emna, m_inelastic._MPN, m_inelastic.DELTA) +\n",
    "                np.einsum('n,...nf,nb,fa->...ab',\n",
    "                          m_inelastic._MPW, eps_T_pi_Emna, m_inelastic._MPN, m_inelastic.DELTA)\n",
    "        )\n",
    "        )\n",
    "        eps_e_Emab = eps_Emab - eps_p_Emab\n",
    "\n",
    "        sig_Emab = np.einsum(\n",
    "            '...abcd,...cd,...ab->...ab',\n",
    "            D_Emabcd, eps_e_Emab, m_inelastic.DELTA\n",
    "                ) \n",
    "        sigma_11 = sig_Emab[0,:,1,1]\n",
    "        sigma_radial[i] = max(sigma_11)\n",
    "        \n",
    "    return sigma_N_01, sigma_N_11, sigma_radial"
   ]
  },
  {
   "cell_type": "markdown",
   "id": "f3ddbe26-8771-44a0-a0dd-2b17a9699358",
   "metadata": {
    "tags": []
   },
   "source": [
    "## Shear test"
   ]
  },
  {
   "cell_type": "code",
   "execution_count": null,
   "id": "5af5cb56-dcfb-488e-b23c-637d81bf4964",
   "metadata": {
    "tags": []
   },
   "outputs": [],
   "source": [
    "CAxisymm = dict(\n",
    "    E = 42e+3,\n",
    "    nu = 0.2,\n",
    "    Ad = 18000.0,\n",
    "    eps_0 = 0.0001,\n",
    "    K_N = 17000.,\n",
    "    sigma_N_0 = 45.,\n",
    "    gamma_N = 9000.,\n",
    "    sigma_T_0 = 2.0,\n",
    "    K_T = 20000.0,\n",
    "    gamma_T = 500000,\n",
    "    S_T = 0.0075,\n",
    "    c_T = 9.,\n",
    "    r_T = 15.,\n",
    "    m_T = 0.004,\n",
    "    p_T = 10.\n",
    ")"
   ]
  },
  {
   "cell_type": "code",
   "execution_count": null,
   "id": "e1202645-431f-4834-89e0-2bdec6c0cb9c",
   "metadata": {},
   "outputs": [],
   "source": [
    "size_x = 1\n",
    "size_y = 1\n",
    "size_z = 1\n",
    "n_e_x = 1\n",
    "n_e_y = 1\n",
    "n_e_z = 1\n",
    "\n",
    "xmodel = XDomainFEGrid(coord_min=(0, 0, 0),\n",
    "                       coord_max=(size_x ,size_y, size_z),\n",
    "                       shape=(n_e_x, n_e_y, n_e_z),\n",
    "                     integ_factor=1,\n",
    "                     fets=FETS3D8H())\n",
    "\n",
    "m_inelastic = MS13D(**CAxisymm)\n",
    "m = TStepBC(\n",
    "    domains=[(xmodel, m_inelastic),\n",
    "             ]\n",
    ")"
   ]
  },
  {
   "cell_type": "code",
   "execution_count": null,
   "id": "cbf7bb07-1077-4586-b402-e4d2eb2de4fa",
   "metadata": {},
   "outputs": [],
   "source": [
    "tf_precrompression = TFBilinear(loading_ratio = 1.0, time_ratio=1.0)\n",
    "tf_sliding = TFBilinear(loading_ratio = 0.0, time_ratio=1.0)"
   ]
  },
  {
   "cell_type": "code",
   "execution_count": null,
   "id": "3dd26a95-db67-4c82-af7b-9caf5365b8f0",
   "metadata": {
    "tags": []
   },
   "outputs": [],
   "source": [
    "w_max = -0.005\n",
    "\n",
    "# Uniaxial tension/compression\n",
    "\n",
    "\n",
    "support = BCSlice(slice=xmodel.mesh[0, :, :, 0, :, :],\n",
    "                 var='u', dims=[0,1,2], value=0.0)\n",
    "\n",
    "slide_slice = BCSlice(slice=xmodel.mesh[-1, :, :, -1, :, :],\n",
    "                 var='u', dims=[1], value=w_max)\n",
    "slide_dofs = slide_slice.dofs\n",
    "slide = [BCDof(var='u', dof=dof, value=w_max , time_function=tf_sliding) \n",
    "                     for dof in slide_dofs ]\n",
    "\n",
    "back_side = BCSlice(slice=xmodel.mesh[0, :, :, :, :, 0],\n",
    "                 var='u', dims=[2], value=0.0)\n",
    "\n",
    "compression_slice = BCSlice(slice=xmodel.mesh[-1, :, :, -1, :, :],\n",
    "                 var='u', dims=[0], value=0.0)\n",
    "compression_dofs = compression_slice.dofs\n",
    "compression_force = 0 * (size_y*size_z) / len(compression_dofs)\n",
    "compression_force_first = [BCDof(var='f', dof=dof, value=compression_force, time_function=tf_precrompression) \n",
    "                                 for dof in compression_dofs ]\n"
   ]
  },
  {
   "cell_type": "code",
   "execution_count": null,
   "id": "01bc6e20-0fb9-4743-bc8a-261a51755460",
   "metadata": {},
   "outputs": [],
   "source": [
    "support.dofs"
   ]
  },
  {
   "cell_type": "code",
   "execution_count": null,
   "id": "1444e395-1bf2-4f41-be57-52666cf9e081",
   "metadata": {},
   "outputs": [],
   "source": [
    "xmodel.mesh[:, :, :, 0, -1, 0].dofs"
   ]
  },
  {
   "cell_type": "code",
   "execution_count": null,
   "id": "f8a5eb45-8cdc-43df-b399-02608c0fb87f",
   "metadata": {},
   "outputs": [],
   "source": [
    "bc1 = [support, slide_slice, compression_slice, back_side]"
   ]
  },
  {
   "cell_type": "code",
   "execution_count": null,
   "id": "9570c84e-ee0e-4b0c-ab10-dd8ec3aa7c3c",
   "metadata": {},
   "outputs": [],
   "source": [
    "m.bc=bc1\n",
    "# m.hist.vis_record = {\n",
    "#     'stress': Vis3DTensorField(var='sig_ab'),\n",
    "#     # 'damage': Vis3DTensorField(var='omega_ab'),\n",
    "#     #        'kinematic hardening': Vis3DStateField(var='z_a')\n",
    "# }\n",
    "\n",
    "m.hist.vis_record = {\n",
    "#    'strain': Vis3DTensorField(var='eps_ab'),\n",
    "    'stress': Vis3DTensorField(var='sig_ab'),\n",
    "    'damage': Vis3DTensorField(var='omega_ab'),\n",
    "    #        'kinematic hardening': Vis3DStateField(var='z_a')\n",
    "}\n",
    "\n",
    "s = m.sim\n",
    "s.tloop.verbose = False\n",
    "s.tloop.k_max = 1000\n",
    "s.tline.step = 0.01\n",
    "# Accessing the following property - ensures serialization\n",
    "s.tstep.fe_domain.serialized_subdomains\n",
    "s.reset()\n",
    "try:\n",
    "    s.run()\n",
    "except:\n",
    "    pass"
   ]
  },
  {
   "cell_type": "code",
   "execution_count": null,
   "id": "2c05cb7d-e9b2-4512-9317-1f210812c5aa",
   "metadata": {},
   "outputs": [],
   "source": [
    "m.hist.vis_record['stress']"
   ]
  },
  {
   "cell_type": "code",
   "execution_count": null,
   "id": "fa08e7c9-dcec-46cf-92c0-491cb09b867f",
   "metadata": {},
   "outputs": [],
   "source": [
    "U_last = m.hist.U_t[-1]\n",
    "F_last = m.hist.U_t[-1]\n",
    "U_t = np.average(m.hist.U_t[:, slide_dofs], axis=-1)\n",
    "F_t = np.sum(m.hist.F_t[:, slide_dofs], axis=-1)\n",
    "fig, (ax1,ax2) = plt.subplots(1, 2)\n",
    "ax1.plot(U_t, F_t)\n",
    "ax1.set_ylabel('Force [N]')\n",
    "ax1.set_xlabel('Displacement[mm]')\n",
    "ax2.plot(U_t/size_x, F_t/(size_y*size_z))\n",
    "ax2.set_ylabel('Stress [MPa]')\n",
    "ax2.set_xlabel('Strain[-]')\n",
    "G = np.trapz(F_t, x=U_t)/((size_z)*(size_y))*1000\n",
    "G2 = np.trapz(F_t/(size_y*size_z), x=U_t/size_x)\n",
    "print(G)\n",
    "print(G2)"
   ]
  },
  {
   "cell_type": "code",
   "execution_count": null,
   "id": "a2b719a7-f98a-4b37-8ec3-c3af51105fd1",
   "metadata": {},
   "outputs": [],
   "source": [
    "if False:\n",
    "    mlab.options.backend = 'envisage'\n",
    "    mlab.options.offscreen = False # 'envisage'\n",
    "    f_strain = mlab.figure()\n",
    "    scene = mlab.get_engine().scenes[-1]\n",
    "    scene.name = 'stress'\n",
    "    strain_viz = Viz3DTensorField(vis3d=m.hist['stress'])\n",
    "    strain_viz.setup()\n",
    "    strain_viz.warp_vector.filter.scale_factor = 0.1\n",
    "    strain_viz.plot(s.tstep.t_n)\n",
    "    mlab.show()"
   ]
  },
  {
   "cell_type": "markdown",
   "id": "ade949ba-cfd0-4d30-bcca-46fe09ada756",
   "metadata": {
    "tags": []
   },
   "source": [
    "# Unit element axisymmetric"
   ]
  },
  {
   "cell_type": "code",
   "execution_count": null,
   "id": "af72b848-e590-433b-93a4-bf2687a18faf",
   "metadata": {},
   "outputs": [],
   "source": [
    "CAxisymm = dict(\n",
    "    E = 40e+3,\n",
    "    nu = 0.2,\n",
    "    Ad = 7000.0,\n",
    "    eps_0 = 0.00001,\n",
    "    K_N = 1000.,\n",
    "    sigma_N_0 = 40.,\n",
    "    gamma_N = 20000.,\n",
    "    sigma_T_0 = 2.0,\n",
    "    K_T = 5000.0,\n",
    "    gamma_T = 10000,\n",
    "    S_T = 0.004,\n",
    "    c_T = 5.,\n",
    "    r_T = 8.,\n",
    "    m_T = 0.2,\n",
    "    p_T = 8.\n",
    ")"
   ]
  },
  {
   "cell_type": "markdown",
   "id": "01ed64d0-f2f2-4b12-9d17-bf541c14a234",
   "metadata": {},
   "source": [
    "## Tensile test"
   ]
  },
  {
   "cell_type": "code",
   "execution_count": null,
   "id": "1377cc85-f6d8-41ce-b3f7-ea117f9d525a",
   "metadata": {},
   "outputs": [],
   "source": [
    "n_x_e = 3\n",
    "n_inner_y_e = 1\n",
    "n_outer_y_e = 1\n",
    "L_x = 90.0 # [mm]\n",
    "d_x = L_x / n_x_e\n",
    "R_in = 25 # [mm]\n",
    "dR = 4 # [mm]\n",
    "R_out = 50 # [mm]\n",
    "len_notch = 30\n",
    "n_notch = 1\n",
    "\n",
    "xmodel = XDomainFEGridAxiSym(integ_factor = 2 * np.pi,\n",
    "                               coord_min=(0+n_notch*d_x, R_in),\n",
    "                               coord_max=(L_x-n_notch*d_x, R_in+dR),\n",
    "                               shape=(n_x_e-2*n_notch, 1),\n",
    "                               fets=FETS2D4Q())\n",
    "\n",
    "m_inelastic = MS13D(**CAxisymm)\n",
    "m_elastic = MATS3DElastic(E=40000, nu=0.18)\n",
    "m = TStepBC(\n",
    "    domains=[(xmodel, m_inelastic),\n",
    "             ]\n",
    ")"
   ]
  },
  {
   "cell_type": "code",
   "execution_count": null,
   "id": "79280448-2037-4cf2-b3b5-5f03ff05806a",
   "metadata": {},
   "outputs": [],
   "source": [
    "tf_precrompression = TFBilinear(loading_ratio = 1.0, time_ratio=1.0)\n",
    "tf_sliding = TFBilinear(loading_ratio = 0.0, time_ratio=1.0)"
   ]
  },
  {
   "cell_type": "code",
   "execution_count": null,
   "id": "88481066-f471-4167-9985-4e17f3e9b754",
   "metadata": {},
   "outputs": [],
   "source": [
    "slide_upper_slice = BCSliceI(slice=xmodel.mesh.I[:, -1],\n",
    "                                   var='u', dims=[0], value=0.0)\n",
    "slide_upper_dofs = slide_upper_slice.dofs\n",
    "\n",
    "slide_lower_slice = BCSliceI(slice=xmodel.mesh.I[:, 0],\n",
    "                                   var='u', dims=[0], value=0.0)\n",
    "slide_lower_dofs = slide_lower_slice.dofs\n",
    "\n",
    "confinement_upper_slice = BCSliceI(slice=xmodel.mesh.I[:, -1],\n",
    "                                   var='u', dims=[1], value=0.0)\n",
    "confinement_upper_dofs = confinement_upper_slice.dofs\n",
    "\n",
    "confinement_lower_slice = BCSliceI(slice=xmodel.mesh.I[:, 0],\n",
    "                                   var='u', dims=[1], value=0.0)\n",
    "confinement_lower_dofs = confinement_lower_slice.dofs"
   ]
  },
  {
   "cell_type": "code",
   "execution_count": null,
   "id": "2a79db44-a48c-4083-a71a-2d4fd7298eda",
   "metadata": {
    "tags": []
   },
   "outputs": [],
   "source": [
    "w_max = 0.003\n",
    "\n",
    "m = TStepBC(\n",
    "domains=[(xmodel, m_inelastic),\n",
    "         ]\n",
    ")\n",
    "\n",
    "inner_fixed_0 = slide_lower_slice\n",
    "inner_fixed_1 = confinement_lower_slice\n",
    "\n",
    "upper_compression_force = [BCDof(var='u', dof=dof, value=w_max, \n",
    "                                 time_function=tf_precrompression)\n",
    "                           for dof in confinement_upper_dofs]\n",
    "\n",
    "bc1 = [inner_fixed_0, inner_fixed_1] + upper_compression_force\n",
    "\n",
    "m.bc=bc1\n",
    "m.hist.vis_record = {\n",
    "   'strain': Vis3DTensorField(var='eps_ab'),\n",
    "    'stress': Vis3DTensorField(var='sig_ab'),\n",
    "    #        'kinematic hardening': Vis3DStateField(var='z_a')\n",
    "}\n",
    "\n",
    "s = m.sim\n",
    "s.tloop.verbose = False\n",
    "s.tloop.k_max = 1000\n",
    "s.tline.step = 0.02\n",
    "# Accessing the following property - ensures serialization\n",
    "s.tstep.fe_domain.serialized_subdomains\n",
    "s.reset()\n",
    "s.run()\n"
   ]
  },
  {
   "cell_type": "code",
   "execution_count": null,
   "id": "6a02c22b-033e-4a05-a9b1-37cd76b414dd",
   "metadata": {},
   "outputs": [],
   "source": [
    "idx = 40\n",
    "U_last = m.hist.U_t[idx]"
   ]
  },
  {
   "cell_type": "code",
   "execution_count": null,
   "id": "5d674fd1-1070-489e-95b5-7bc31b076256",
   "metadata": {},
   "outputs": [],
   "source": [
    "eps_Emab = m.fe_domain[0].xmodel.map_U_to_field(U_last)\n",
    "eps_Emab"
   ]
  },
  {
   "cell_type": "code",
   "execution_count": null,
   "id": "ceac9986-dd37-4755-884c-399700fff83a",
   "metadata": {},
   "outputs": [],
   "source": [
    "state_vars = m.hist.state_vars[idx][0]"
   ]
  },
  {
   "cell_type": "code",
   "execution_count": null,
   "id": "6b8a90da-3ccc-461f-9bab-04dd513309c8",
   "metadata": {},
   "outputs": [],
   "source": [
    "m.fe_domain[0].tmodel.__class__"
   ]
  },
  {
   "cell_type": "code",
   "execution_count": null,
   "id": "f90e5b84-3be9-4cb8-87b3-4ab5f1f1205e",
   "metadata": {},
   "outputs": [],
   "source": [
    "m.fe_domain[0].tmodel.get_corr_pred(eps_Emab,1,**state_vars)"
   ]
  },
  {
   "cell_type": "code",
   "execution_count": null,
   "id": "86530c5d-d3c4-4a07-821b-20a0569e1bae",
   "metadata": {},
   "outputs": [],
   "source": [
    "plt.style.use('default')\n",
    "\n",
    "# plt.tight_layout()\n",
    "\n",
    "cm = 1/2.54  # centimeters in inches\n",
    "fig, ((ax1,ax2,ax3), (ax4,ax5,ax6), (ax7,ax8,ax9), (ax10,ax11,ax12), (ax13,ax14,ax15)) = plt.subplots(5, 3,figsize=(40*cm, 30*cm))\n",
    "\n",
    "# txt=str(CAxisymm)\n",
    "\n",
    "\n",
    "idx = 2\n",
    "# m = m_list_monotnonic[idx]\n",
    "# compression = compression_level[idx]\n",
    "# plt.rcParams[\"font.family\"] = \"Times New Roman\"\n",
    "compression = 0\n",
    "    \n",
    "U_slide = np.average(m.hist.U_t[:, slide_upper_dofs], axis=-1)\n",
    "U_dilatancy  =m.hist.U_t[:, confinement_upper_dofs[0]]\n",
    "F_slide = np.sum(m.hist.F_t[:, slide_upper_dofs], axis=-1)\n",
    "radial_damage, hoop_damage, shear_damage = get_damage(m)\n",
    "\n",
    "F_confinement = np.sum(m.hist.F_t[:, confinement_upper_dofs], axis=-1)\n",
    "\n",
    "\n",
    "ax1.plot(U_dilatancy, F_confinement/(2 * np.pi * (R_in+dR)*(L_x-n_notch*2*d_x)), label=str(compression))\n",
    "ax1.set_ylabel('confinement [MPa]', fontsize=10)\n",
    "ax1.set_xlabel('slip [mm]', fontsize=10)\n",
    "\n",
    "ax2.plot(U_dilatancy, F_slide/1000, label=str(compression))\n",
    "ax2.set_ylabel('shear force [kN]', fontsize=10)\n",
    "ax2.set_xlabel('slip [mm]', fontsize=10)\n",
    "\n",
    "ax3.plot(U_dilatancy, U_dilatancy, label=str(compression))\n",
    "ax3.set_ylabel('dilatancy [mm]', fontsize=10)\n",
    "ax3.set_xlabel('slip [mm]', fontsize=10)\n",
    "\n",
    "\n",
    "# ax4.plot(U_slide, radial_damage, label='radial damage'+str(compression))\n",
    "ax4.plot(U_dilatancy, radial_damage, label='radial damage'+str(compression))\n",
    "ax4.set_ylabel('radial damage [-]', fontsize=10)\n",
    "ax4.set_xlabel('slip [mm]', fontsize=10)\n",
    "ax4.set_ylim(-0.05,1.05)\n",
    "\n",
    "ax5.plot(U_dilatancy, hoop_damage, label='hoop damage'+str(compression))\n",
    "ax5.set_ylabel('hoop damage[-]', fontsize=10)\n",
    "ax5.set_xlabel('slip [mm]', fontsize=10)\n",
    "ax5.set_ylim(-0.05,1.05)\n",
    "\n",
    "# ax6.plot(F_slide/1000, shear_damage, label='shear damage'+str(compression))\n",
    "ax6.plot(U_dilatancy, shear_damage, label='shear damage'+str(compression))\n",
    "ax6.set_ylabel('shear damage[-]', fontsize=10)\n",
    "ax6.set_xlabel('slip [mm]', fontsize=10)\n",
    "ax6.set_ylim(-0.05,1.05)\n",
    "\n",
    "omega_N_01, omega_N_11 = get_omega_N(m) \n",
    "ax7.plot(U_dilatancy, omega_N_11)\n",
    "ax7.set_ylabel('normal damage, radial driection', fontsize=10)\n",
    "ax7.set_xlabel('slip [mm]', fontsize=10)\n",
    "ax7.set_ylim(-0.05,1.05)\n",
    "\n",
    "\n",
    "ax8.plot(U_dilatancy, omega_N_01, label='shear damage'+str(compression))\n",
    "ax8.set_ylabel('normal damage rest', fontsize=10)\n",
    "ax8.set_xlabel('slip [mm]', fontsize=10)\n",
    "ax8.set_ylim(-0.05,1.05)\n",
    "\n",
    "omega_T_01, omega_T_11 = get_omega_T(m) \n",
    "ax10.plot(U_dilatancy, omega_T_11)\n",
    "ax10.set_ylabel('tg damage, radial driection', fontsize=10)\n",
    "ax10.set_xlabel('slip [mm]', fontsize=10)\n",
    "ax10.set_ylim(-0.05,1.05)\n",
    "\n",
    "\n",
    "ax11.plot(U_dilatancy, omega_T_01, label='shear damage'+str(compression))\n",
    "ax11.set_ylabel('tg damage rest', fontsize=10)\n",
    "ax11.set_xlabel('slip [mm]', fontsize=10)\n",
    "ax11.set_ylim(-0.05,1.05)\n",
    "    \n",
    "sigma_N_01, sigma_N_11, sigma_radial = get_sigma_N(m) \n",
    "ax13.plot(U_dilatancy, sigma_N_11)\n",
    "ax13.set_ylabel('normal stress, radial driection', fontsize=10)\n",
    "ax13.set_xlabel('slip [mm]', fontsize=10)\n",
    "# ax13.set_ylim(-0.05,1.05)\n",
    "\n",
    "\n",
    "ax14.plot(U_dilatancy, sigma_N_01, label='shear damage'+str(compression))\n",
    "ax14.set_ylabel('normal stress rest', fontsize=10)\n",
    "ax14.set_xlabel('slip [mm]', fontsize=10)\n",
    "# ax14.set_ylim(-0.05,1.05)\n",
    "\n",
    "ax15.plot(U_dilatancy, sigma_radial)\n",
    "ax15.set_ylabel('macroscopic radial stress', fontsize=10)\n",
    "ax15.set_xlabel('slip [mm]', fontsize=10)\n",
    "\n",
    "left  = 0.05  # the left side of the subplots of the figure\n",
    "right = 0.95  # the right side of the subplots of the figure\n",
    "bottom = 0.05   # the bottom of the subplots of the figure\n",
    "top = 0.95      # the top of the subplots of the figure\n",
    "wspace = 0.2   # the amount of width reserved for blank space between subplots\n",
    "hspace = 0.2   # the amount of height reserved for white space between subplots\n",
    "plt.subplots_adjust(left=left, bottom=bottom, right=right, top=top, wspace=wspace, hspace=hspace)\n"
   ]
  },
  {
   "cell_type": "code",
   "execution_count": null,
   "id": "412983b1-7a14-4582-9d9d-d1d6fac2458b",
   "metadata": {},
   "outputs": [],
   "source": [
    "if False:\n",
    "    mlab.options.backend = 'envisage'\n",
    "    mlab.options.offscreen = False # 'envisage'\n",
    "    f_strain = mlab.figure()\n",
    "    scene = mlab.get_engine().scenes[-1]\n",
    "    scene.name = 'stress'\n",
    "    strain_viz = Viz3DTensorField(vis3d=m.hist['stress'])\n",
    "    strain_viz.setup()\n",
    "    strain_viz.warp_vector.filter.scale_factor = 0.1\n",
    "    strain_viz.plot(s.tstep.t_n)\n",
    "    mlab.show()"
   ]
  },
  {
   "cell_type": "markdown",
   "id": "1c4e6078-acea-4c15-a3a6-1e382f49e53d",
   "metadata": {
    "tags": []
   },
   "source": [
    "## Complete PTST - study about state variables profiles"
   ]
  },
  {
   "cell_type": "code",
   "execution_count": null,
   "id": "67ff492f-2496-486c-92e9-67edd7aa0e1d",
   "metadata": {
    "tags": []
   },
   "outputs": [],
   "source": [
    "n_x_e = 5\n",
    "n_inner_y_e = 2\n",
    "n_outer_y_e = 2\n",
    "L_x = 50.0 # [mm]\n",
    "d_x = L_x / n_x_e\n",
    "R_in = 25 # [mm]\n",
    "dR = 2 # [mm]\n",
    "R_out = 50 # [mm]\n",
    "len_notch = 20\n",
    "n_notch = 1\n",
    "# geo_transform\n",
    "# gmesh\n",
    "xd_inner = XDomainFEGridAxiSym(integ_factor = 2 * np.pi,\n",
    "                               coord_min=(0, 0),\n",
    "                               coord_max=(L_x, R_in),\n",
    "                               shape=(n_x_e, n_inner_y_e),\n",
    "                               fets=FETS2D4Q())\n",
    "xd_middle = XDomainFEGridAxiSym(integ_factor = 2 * np.pi,\n",
    "                               coord_min=(0+n_notch*d_x, R_in),\n",
    "                               coord_max=(L_x-n_notch*d_x, R_in+dR),\n",
    "                               shape=(n_x_e-2*n_notch, 1),\n",
    "                               fets=FETS2D4Q())\n",
    "xd_outer = XDomainFEGridAxiSym(integ_factor = 2 * np.pi,\n",
    "                               coord_min=(0, R_in+dR),\n",
    "                               coord_max=(L_x, R_out),\n",
    "                               shape=(n_x_e, n_outer_y_e),\n",
    "                               fets=FETS2D4Q())\n",
    "m_elastic = MATS3DElastic(E=40000, nu=0.18)\n",
    "# m_inelastic_MDM = MATS3DMplDamageEEQ(**CAxisymmMDM)\n",
    "\n",
    "\n",
    "m_inelastic = MS13D(**CAxisymm)\n",
    "\n",
    "m = TStepBC(\n",
    "    domains=[(xd_inner, m_inelastic),\n",
    "             (xd_outer, m_inelastic),\n",
    "             (xd_middle, m_inelastic),\n",
    "             ]\n",
    ")"
   ]
  },
  {
   "cell_type": "markdown",
   "id": "29373558-9668-46a6-a697-ebe650527353",
   "metadata": {},
   "source": [
    "## Boundary and transition conditions"
   ]
  },
  {
   "cell_type": "code",
   "execution_count": null,
   "id": "044557ca-f2bb-4b1c-87d3-c3f0cd8b5f6e",
   "metadata": {},
   "outputs": [],
   "source": [
    "tf_precrompression = TFBilinear(loading_ratio = 1.0, time_ratio=0.1)\n",
    "tf_sliding = TFBilinear(loading_ratio = 0.0, time_ratio=0.1)"
   ]
  },
  {
   "cell_type": "markdown",
   "id": "5e96e632-f400-452d-8f60-718a3213b314",
   "metadata": {},
   "source": [
    "### Kinematic links between the domains"
   ]
  },
  {
   "cell_type": "code",
   "execution_count": null,
   "id": "9893c53f-cc19-4e72-bc6c-5419650e7b9f",
   "metadata": {},
   "outputs": [],
   "source": [
    "link_inner_middle_0 = BCSliceI(var='u', dims=[0],\n",
    "                             # slice=xd_inner.mesh.I[:, -1], \n",
    "                             slice=xd_inner.mesh.I[n_notch:-n_notch, -1], \n",
    "                             link_slice=xd_middle.mesh.I[:, 0],\n",
    "                             link_coeffs=[1],\n",
    "                             link_dims=[0],\n",
    "                             value=0,\n",
    "                            )\n",
    "\n",
    "link_inner_middle_1 = BCSliceI(var='u', dims=[1],\n",
    "                             # slice=xd_inner.mesh.I[:, -1], \n",
    "                             slice=xd_inner.mesh.I[n_notch:-n_notch, -1], \n",
    "                             link_slice=xd_middle.mesh.I[:, 0],\n",
    "                             link_coeffs=[1],\n",
    "                             link_dims=[1],\n",
    "                             value=0,\n",
    "                            )\n",
    "\n",
    "link_middle_outer_0 = BCSliceI(var='u', dims=[0],\n",
    "                             slice=xd_outer.mesh.I[n_notch:-n_notch, 0], \n",
    "                             # slice=xd_outer.mesh.I[:, 0], \n",
    "                             link_slice=xd_middle.mesh.I[:, -1],\n",
    "                             link_coeffs=[1],\n",
    "                             link_dims=[0],\n",
    "                             value=0,\n",
    "                            )\n",
    "\n",
    "link_middle_outer_1 = BCSliceI(var='u', dims=[1],\n",
    "                             slice=xd_outer.mesh.I[n_notch:-n_notch, 0], \n",
    "                             # slice=xd_outer.mesh.I[:, 0], \n",
    "                             link_slice=xd_middle.mesh.I[:, -1],\n",
    "                             link_coeffs=[1],\n",
    "                             link_dims=[1],\n",
    "                             value=0,\n",
    "                            )\n",
    "\n",
    "# link_middle_outer = BCSliceI(var='u', dims=[0, 1],\n",
    "#                              slice=xd_middle.mesh.I[n_notch:-n_notch, 0], \n",
    "#                              # slice=xd_outer.mesh.I[:, 0], \n",
    "#                              link_slice=xd_outer.mesh.I[:, -1],\n",
    "#                              link_coeffs=[1, 1],\n",
    "#                              link_dims=[0, 1],\n",
    "#                              value=0,\n",
    "#                             )"
   ]
  },
  {
   "cell_type": "markdown",
   "id": "67bf4496-d30a-40e2-8fa2-297470c9c890",
   "metadata": {},
   "source": [
    "## Sliding dc + Precompression fc"
   ]
  },
  {
   "cell_type": "code",
   "execution_count": null,
   "id": "20384cf3-6190-4179-adb8-7ccee4bac9ee",
   "metadata": {},
   "outputs": [],
   "source": [
    "inner_fixed_1 = BCSliceI(slice=xd_inner.mesh.I[:, 0], var='u', dims=[1], value=0)\n",
    "outer_fixed_0 = BCSliceI(slice=xd_outer.mesh.I[0, :], var='u', dims=[0], value=0)\n",
    "outer_fixed_1 = BCSliceI(slice=xd_outer.mesh.I[:, -1], var='u', dims=[1], value=0)\n",
    "\n",
    "inner_fixed_out_1 = BCSliceI(slice=xd_inner.mesh.I[:, -1], var='u', dims=[1], value=0)\n",
    "\n",
    "slide = 1.00\n",
    "inner_slide_slice = BCSliceI(slice=xd_inner.mesh.I[-1, :],\n",
    "                                   var='u', dims=[0], value=-0.1)\n",
    "\n",
    "slide_control_dofs = inner_slide_slice.dofs\n",
    "inner_slide = [BCDof(var='u', dof=dof, value=-slide, time_function=tf_sliding) \n",
    "                     for dof in slide_control_dofs ]\n",
    "\n",
    "\n",
    "outer_compression_slice = BCSliceI(slice=xd_outer.mesh.I[:, -1],\n",
    "                                   var='u', dims=[1], value=-0.1)\n",
    "\n",
    "compression_dofs = outer_compression_slice.dofs\n",
    "compression_stress = -10\n",
    "compression_force = compression_stress  * 2* np.pi* R_out * L_x / len(compression_dofs)\n",
    "outer_compression_force_first = [BCDof(var='f', dof=dof, value=compression_force, time_function=tf_precrompression) \n",
    "                                 for dof in compression_dofs ]\n",
    "\n",
    "compression_dofs_inner = inner_fixed_out_1.dofs\n",
    "outer_compression_force_inner_first = [BCDof(var='f', dof=dof, value=compression_force, time_function=tf_precrompression) \n",
    "                                 for dof in compression_dofs_inner ]\n",
    "\n",
    "\n",
    "# outer_compression_force_first = [BCDof(var='u', dof=dof, value=0.01, time_function=tf_precrompression) \n",
    "#                                  for dof in compression_dofs ]\n",
    "# outer_compression_force_first[0].value *=0.5\n",
    "# outer_compression_force_first[-1].value *=0.5\n",
    "outer_compression_force_inner_first[0].value *=0.5\n",
    "outer_compression_force_inner_first[-1].value *=0.5\n",
    "\n",
    "bc1 =   [inner_fixed_1,\n",
    "        outer_fixed_0,\n",
    "        link_middle_outer_0,\n",
    "         link_middle_outer_1,\n",
    "        link_inner_middle_0,\n",
    "         link_inner_middle_1\n",
    "        ]  + inner_slide + outer_compression_force_first"
   ]
  },
  {
   "cell_type": "code",
   "execution_count": null,
   "id": "fa6206b7-1cf1-44ce-878c-2d7822587ae4",
   "metadata": {},
   "outputs": [],
   "source": [
    "ligament_upper_slide_slice = BCSliceI(slice=xd_middle.mesh.I[:, -1],\n",
    "                                   var='u', dims=[0], value=-0.1)\n",
    "ligament_upper_slide_dofs = ligament_upper_slide_slice.dofs\n",
    "\n",
    "ligament_lower_slide_slice = BCSliceI(slice=xd_middle.mesh.I[:, 0],\n",
    "                                   var='u', dims=[0], value=-0.1)\n",
    "ligament_lower_slide_dofs = ligament_lower_slide_slice.dofs\n",
    "\n",
    "ligament_upper_confinement_slice = BCSliceI(slice=xd_middle.mesh.I[:, -1],\n",
    "                                   var='u', dims=[1], value=-0.1)\n",
    "ligament_upper_confinement_dofs = ligament_upper_confinement_slice.dofs\n",
    "\n",
    "ligament_lower_confinement_slice = BCSliceI(slice=xd_middle.mesh.I[:, 0],\n",
    "                                   var='u', dims=[1], value=-0.1)\n",
    "ligament_lower_confinement_dofs = ligament_lower_confinement_slice.dofs"
   ]
  },
  {
   "cell_type": "code",
   "execution_count": null,
   "id": "b245b2fd-b006-4f23-a254-dec34981423a",
   "metadata": {
    "tags": []
   },
   "outputs": [],
   "source": [
    "m.bc=bc1\n",
    "m.hist.vis_record = {\n",
    "#    'strain': Vis3DTensorField(var='eps_ab'),\n",
    "    'stress': Vis3DTensorField(var='sig_ab'),\n",
    "    #        'kinematic hardening': Vis3DStateField(var='z_a')\n",
    "}\n",
    "\n",
    "s = m.sim\n",
    "s.tloop.verbose = True\n",
    "s.tloop.k_max = 1000\n",
    "s.tline.step = 0.01\n",
    "# Accessing the following property - ensures serialization\n",
    "s.tstep.fe_domain.serialized_subdomains"
   ]
  },
  {
   "cell_type": "code",
   "execution_count": null,
   "id": "1c314099-6adc-4129-ac74-41272fd49393",
   "metadata": {},
   "outputs": [],
   "source": [
    "s.reset()\n",
    "s.run()"
   ]
  },
  {
   "cell_type": "markdown",
   "id": "d08712d2-893e-4371-bdd0-f387e1a59cf2",
   "metadata": {},
   "source": [
    "## Postprocesing"
   ]
  },
  {
   "cell_type": "markdown",
   "id": "343f4284-2be6-42ae-9284-279196266fd0",
   "metadata": {},
   "source": [
    "### Access the last displacement step"
   ]
  },
  {
   "cell_type": "code",
   "execution_count": null,
   "id": "d055557f-49ff-483c-b532-c4ec207021fd",
   "metadata": {},
   "outputs": [],
   "source": [
    "F = m.hist.F_t\n",
    "U = m.hist.U_t"
   ]
  },
  {
   "cell_type": "code",
   "execution_count": null,
   "id": "74ea5c59-7545-4090-91ea-3a30b33fe68e",
   "metadata": {},
   "outputs": [],
   "source": [
    "F_slide = np.sum(F[:, slide_control_dofs], axis=-1)\n",
    "F_slide_ligament_upper = np.sum(F[:, ligament_upper_slide_dofs], axis=-1)\n",
    "F_slide_ligament_lower = np.sum(F[:, ligament_lower_slide_dofs], axis=-1)\n",
    "F_confinement_ligament_upper = np.sum(F[:, ligament_upper_confinement_dofs], axis=-1)\n",
    "F_confinement_ligament_lower = np.sum(F[:, ligament_lower_confinement_dofs], axis=-1)\n",
    "U_slide = np.average(U[:, slide_control_dofs], axis=-1)\n",
    "U_slide_ligament_upper = np.average(U[:, ligament_upper_slide_dofs], axis=-1)\n",
    "U_slide_ligament_lower = np.average(U[:, ligament_lower_slide_dofs], axis=-1)\n",
    "U_slide_differential_ligament = U_slide_ligament_upper - U_slide_ligament_lower"
   ]
  },
  {
   "cell_type": "code",
   "execution_count": null,
   "id": "e5d3b09e-94ab-481f-91bd-b9ab3d94779d",
   "metadata": {},
   "outputs": [],
   "source": [
    "_, ax = plt.subplots(1,1)\n",
    "ax.plot(-U_slide, -F_slide/1000)\n",
    "ax.set_ylabel('Force [kN]')\n",
    "ax.set_xlabel('Displacement at control[mm]')\n",
    "# ax.legend()"
   ]
  },
  {
   "cell_type": "code",
   "execution_count": null,
   "id": "a6133c0f-9d9f-4e55-aadd-4040068c823c",
   "metadata": {},
   "outputs": [],
   "source": [
    "_, ax = plt.subplots(1,1)\n",
    "ax.plot(abs(U_slide_differential_ligament), F_slide_ligament_upper/1000)\n",
    "ax.set_ylabel('Force [kN]')\n",
    "ax.set_xlabel('Diferential displacement at ligament [mm]')\n",
    "# ax.legend()\n",
    "# abs(U_slide_middle_inner - U_slide_middle)[-1]"
   ]
  },
  {
   "cell_type": "code",
   "execution_count": null,
   "id": "ea32966d-6eac-4e3d-9b0a-a04df3c665d1",
   "metadata": {},
   "outputs": [],
   "source": [
    "_, ax = plt.subplots(1,1)\n",
    "ax.plot(-U_slide, abs(U_slide_differential_ligament))\n",
    "ax.set_ylabel('Diferential displacement at ligament [mm]')\n",
    "ax.set_xlabel('Displacement at control [mm]')\n",
    "# ax.legend()"
   ]
  },
  {
   "cell_type": "code",
   "execution_count": null,
   "id": "734dbc2f-e370-4c3d-850f-65995681a20c",
   "metadata": {},
   "outputs": [],
   "source": [
    "_, ax = plt.subplots(1,1)\n",
    "ax.plot(U_slide_differential_ligament, F_confinement_ligament_upper/1000, label='Upper interface')\n",
    "ax.plot(U_slide_differential_ligament, F_confinement_ligament_lower/1000, label='Lower interface')\n",
    "ax.set_ylabel('Confinement Force [kN]')\n",
    "ax.set_xlabel('Diferential displacement at ligament  [mm]')\n",
    "ax.legend()"
   ]
  },
  {
   "cell_type": "markdown",
   "id": "77fa46a0-39b2-4d1c-ad67-452a41fc6ddb",
   "metadata": {},
   "source": [
    "### Study about slide profile at ligament"
   ]
  },
  {
   "cell_type": "code",
   "execution_count": null,
   "id": "846cf9e6-bf5f-46eb-a506-3fda1cdefabf",
   "metadata": {},
   "outputs": [],
   "source": [
    "_, ax = plt.subplots(1,1)\n",
    "for i in range(F[:, ligament_upper_confinement_dofs].shape[1]):\n",
    "    # ax.plot(U_slide_differential_ligament, U[:, ligament_upper_slide_dofs][:,i], label=str(i))\n",
    "    # ax.plot(U_slide_differential_ligament, U[:, ligament_lower_slide_dofs][:,i], label=str(i))\n",
    "    ax.plot(U_slide_differential_ligament, U[:, ligament_upper_slide_dofs][:,i] - U[:, ligament_lower_slide_dofs][:,i], label='Position' + str(i))\n",
    "ax.set_ylabel('Displacement at each ligament node [mm]')\n",
    "ax.set_xlabel('Diferential displacement at ligament [mm]')\n",
    "ax.legend()\n",
    "\n"
   ]
  },
  {
   "cell_type": "code",
   "execution_count": null,
   "id": "579a1d42-a799-4976-994a-3584089b1f75",
   "metadata": {},
   "outputs": [],
   "source": [
    "_, ax = plt.subplots(1,1)\n",
    "for i in range(F[:, ligament_upper_confinement_dofs].shape[1]):\n",
    "    ax.plot(-U_slide, ((U[:, ligament_upper_slide_dofs][:,i] - U[:, ligament_lower_slide_dofs][:,i]))/-(U_slide), label='Position' + str(i))\n",
    "    # print(((U[:, middle_confinement_dofs][:,i] - U[:, middle_confinement_inner_dofs][:,i])/-(U_slide))[-1])\n",
    "ax.set_ylabel('Tg of differential displacement at each ligament node [mm/mm]')\n",
    "ax.set_xlabel('Displacement at control[mm]')\n",
    "ax.legend()"
   ]
  },
  {
   "cell_type": "markdown",
   "id": "887df28f-9733-402f-b4ba-07cbbc60fdb0",
   "metadata": {},
   "source": [
    "### Study about confinement profile at ligament"
   ]
  },
  {
   "cell_type": "code",
   "execution_count": null,
   "id": "a0e9e1c3-5f51-4761-814e-6b12af80c048",
   "metadata": {},
   "outputs": [],
   "source": [
    "_, ax = plt.subplots(1,1)\n",
    "for i in range(F[:, ligament_upper_confinement_dofs].shape[1]):\n",
    "    # ax.plot(U_slide_differential_ligament[:], F[:, ligament_upper_confinement_dofs][:,i]/1000, label=str(i))\n",
    "    # ax.plot(U_slide_differential_ligament[:], F[:, ligament_lower_confinement_dofs][:,i]/1000, label=str(i))\n",
    "    ax.plot(U_slide_differential_ligament, (F[:, ligament_upper_confinement_dofs][:,i] - F[:, ligament_lower_confinement_dofs][:,i])/1000, label='Position' + str(i))\n",
    "ax.set_ylabel('Force at each ligament node [kN]')\n",
    "ax.set_xlabel('Diferential displacement at ligament [mm]')\n",
    "ax.legend()"
   ]
  },
  {
   "cell_type": "code",
   "execution_count": null,
   "id": "62753d92-c6cd-4cb5-90b2-226b5d236830",
   "metadata": {},
   "outputs": [],
   "source": [
    "_, ax = plt.subplots(1,1)\n",
    "for i in range(F[:, ligament_upper_confinement_dofs].shape[1]):\n",
    "    #ax.plot(-U_slide[:], (F[:, ligament_upper_confinement_dofs][:,i] - F[:, ligament_lower_confinement_dofs][:,i])/ (2* np.pi* R_out * L_x ), label=str(i))\n",
    "    ax.plot(-U_slide[:], ((F[:, ligament_upper_confinement_dofs][:,i] - F[:, ligament_lower_confinement_dofs][:,i])/ 1000)/-(U_slide), label='Position' + str(i))\n",
    "    print(((F[:, ligament_upper_confinement_dofs][:,i] - F[:, ligament_lower_confinement_dofs][:,i])/-(U_slide))[-1])\n",
    "ax.set_ylabel('Tg of differential confinement at each ligament node [kN/mm]')\n",
    "ax.set_xlabel('Displacement at control [mm]')\n",
    "ax.legend()"
   ]
  },
  {
   "cell_type": "markdown",
   "id": "b5e6dcfd-d69b-407f-bdbc-d5f73cd39a92",
   "metadata": {},
   "source": [
    "### Study about dilatancy profile at ligament "
   ]
  },
  {
   "cell_type": "code",
   "execution_count": null,
   "id": "bfafb3e5-ddda-4d99-8e9e-00cf80659b06",
   "metadata": {},
   "outputs": [],
   "source": [
    "_, ax = plt.subplots(1,1)\n",
    "for i in range(F[:, ligament_upper_confinement_dofs].shape[1]):\n",
    "    # ax.plot(U_slide_differential_ligament[:], U[:, ligament_upper_confinement_dofs][:,i], label= 'Position' + str(i))\n",
    "    # ax.plot(U_slide_differential_ligament[:], U[:, ligament_lower_confinement_dofs][:,i], label= 'Position' + str(i))\n",
    "    ax.plot(U_slide_differential_ligament, U[:, ligament_upper_confinement_dofs][:,i] - U[:, ligament_lower_confinement_dofs][:,i], label = 'Position' + str(i))\n",
    "ax.set_ylabel('Dilatancy at each node [mm]')\n",
    "ax.set_xlabel('Diferential displacement at ligament [mm]')\n",
    "ax.legend()\n"
   ]
  },
  {
   "cell_type": "code",
   "execution_count": null,
   "id": "79162c28-e006-4ba6-8a79-bbd2ba27f54c",
   "metadata": {},
   "outputs": [],
   "source": [
    "_, ax = plt.subplots(1,1)\n",
    "for i in range(F[:, ligament_upper_confinement_dofs].shape[1]):\n",
    "    ax.plot(-(U_slide),  (U[:, ligament_upper_confinement_dofs][:,i] - U[:, ligament_lower_confinement_dofs][:,i])/-(U_slide))\n",
    "    # print((( U[:, middle_control_dofs][:,i] - U[:, middle_inner_control_dofs][:,i])/-(U_slide))[-1])\n",
    "ax.set_ylabel('Tg of differential dilatany at each ligament node [mm/mm]')\n",
    "ax.set_xlabel('Control displacement [mm]')\n",
    "# ax.legend()"
   ]
  },
  {
   "cell_type": "code",
   "execution_count": null,
   "id": "7ade4a8b-1e71-4aef-8a3d-ad489f711b27",
   "metadata": {},
   "outputs": [],
   "source": [
    "if False:\n",
    "    mlab.options.backend = 'envisage'\n",
    "    mlab.options.offscreen = False # 'envisage'\n",
    "    f_strain = mlab.figure()\n",
    "    scene = mlab.get_engine().scenes[-1]\n",
    "    scene.name = 'stress'\n",
    "    strain_viz = Viz3DTensorField(vis3d=m.hist['stress'])\n",
    "    strain_viz.setup()\n",
    "    strain_viz.warp_vector.filter.scale_factor = 0.1\n",
    "    strain_viz.plot(s.tstep.t_n)\n",
    "    mlab.show()"
   ]
  },
  {
   "cell_type": "markdown",
   "id": "e1a6a1a4-d857-4067-961e-3c69ba2b922c",
   "metadata": {
    "tags": []
   },
   "source": [
    "## Unit element Axisymm"
   ]
  },
  {
   "cell_type": "code",
   "execution_count": null,
   "id": "2e77713a",
   "metadata": {},
   "outputs": [],
   "source": [
    "n_x_e = 3\n",
    "n_inner_y_e = 1\n",
    "n_outer_y_e = 1\n",
    "L_x = 90.0 # [mm]\n",
    "d_x = L_x / n_x_e\n",
    "R_in = 25 # [mm]\n",
    "dR = 4 # [mm]\n",
    "R_out = 50 # [mm]\n",
    "len_notch = 30\n",
    "n_notch = 1\n",
    "\n",
    "xmodel = XDomainFEGridAxiSym(integ_factor = 2 * np.pi,\n",
    "                               coord_min=(0+n_notch*d_x, R_in),\n",
    "                               coord_max=(L_x-n_notch*d_x, R_in+dR),\n",
    "                               shape=(n_x_e-2*n_notch, 1),\n",
    "                               fets=FETS2D4Q())\n",
    "\n",
    "m_inelastic = MS13D(**CAxisymm)\n",
    "m_elastic = MATS3DElastic(E=40000, nu=0.18)\n",
    "m = TStepBC(\n",
    "    domains=[(xmodel, m_inelastic),\n",
    "             ]\n",
    ")"
   ]
  },
  {
   "cell_type": "code",
   "execution_count": null,
   "id": "da00f621",
   "metadata": {},
   "outputs": [],
   "source": [
    "tf_precrompression = TFBilinear(loading_ratio = 1.0, time_ratio=0.1)\n",
    "tf_sliding = TFBilinear(loading_ratio = 0.0, time_ratio=0.1)"
   ]
  },
  {
   "cell_type": "code",
   "execution_count": null,
   "id": "eaa4bf7c",
   "metadata": {},
   "outputs": [],
   "source": [
    "slide_upper_slice = BCSliceI(slice=xmodel.mesh.I[:, -1],\n",
    "                                   var='u', dims=[0], value=0.0)\n",
    "slide_upper_dofs = slide_upper_slice.dofs\n",
    "\n",
    "slide_lower_slice = BCSliceI(slice=xmodel.mesh.I[:, 0],\n",
    "                                   var='u', dims=[0], value=0.0)\n",
    "slide_lower_dofs = slide_lower_slice.dofs\n",
    "\n",
    "confinement_upper_slice = BCSliceI(slice=xmodel.mesh.I[:, -1],\n",
    "                                   var='u', dims=[1], value=0.0)\n",
    "confinement_upper_dofs = confinement_upper_slice.dofs\n",
    "\n",
    "confinement_lower_slice = BCSliceI(slice=xmodel.mesh.I[:, 0],\n",
    "                                   var='u', dims=[1], value=0.0)\n",
    "confinement_lower_dofs = confinement_lower_slice.dofs\n"
   ]
  },
  {
   "cell_type": "code",
   "execution_count": null,
   "id": "79511e1c-883f-444b-8076-89decdfd9862",
   "metadata": {},
   "outputs": [],
   "source": [
    "factor = 1\n",
    "\n",
    "# Boundary conditions with inner side fixed\n",
    "\n",
    "slide = 0.05\n",
    "compression_stress = -0\n",
    "\n",
    "inner_fixed_0 = slide_lower_slice\n",
    "inner_fixed_1 = confinement_lower_slice\n",
    "\n",
    "compression_force = compression_stress  * 2 * np.pi* R_out * L_x / len(confinement_upper_dofs)\n",
    "upper_compression_force = [BCDof(var='f', dof=dof, value=compression_force, time_function=tf_precrompression) \n",
    "                                 for dof in confinement_upper_dofs ]\n",
    "upper_compression_force[0].value *=0.5\n",
    "upper_compression_force[-1].value *=0.5\n",
    "\n",
    "slide_upper = [BCDof(var='u', dof=dof, value=slide , time_function=tf_sliding) \n",
    "                     for dof in slide_upper_dofs ]\n",
    "bc1 = [inner_fixed_0, inner_fixed_1] + slide_upper #+ upper_compression_force\n",
    "\n",
    "# Boundary conditions with differential definition of ligament bc\n",
    "\n",
    "inner_fixed_0 = slide_lower_slice\n",
    "inner_fixed_1 = confinement_lower_slice\n",
    "delta_dilatancy = U[:, ligament_upper_confinement_dofs] - U[:, ligament_lower_confinement_dofs]\n",
    "delta_confinement = F[:, ligament_upper_confinement_dofs] - F[:, ligament_lower_confinement_dofs]\n",
    "delta_slide = U[:, ligament_upper_slide_dofs] - U[:, ligament_lower_slide_dofs]\n",
    "\n",
    "confinement_upper_0 = BCDof(var='u', dof=confinement_upper_dofs[0], value=delta_dilatancy[-1,0]*factor, time_function=tf_sliding)\n",
    "confinement_upper_1 = BCDof(var='u', dof=confinement_upper_dofs[1], value=delta_dilatancy[-1,1]*factor, time_function=tf_sliding)\n",
    "confinement_upper_2 = BCDof(var='u', dof=confinement_upper_dofs[2], value=delta_dilatancy[-1,2]*factor, time_function=tf_sliding)\n",
    "confinement_upper_3 = BCDof(var='u', dof=confinement_upper_dofs[3], value=delta_dilatancy[-1,3]*factor, time_function=tf_sliding)\n",
    "\n",
    "slide_upper_0 = BCDof(var='u', dof=slide_upper_dofs[0], value=delta_slide[-1,0]*factor, time_function=tf_sliding)\n",
    "slide_upper_1 = BCDof(var='u', dof=slide_upper_dofs[1], value=delta_slide[-1,1]*factor, time_function=tf_sliding)\n",
    "slide_upper_2 = BCDof(var='u', dof=slide_upper_dofs[2], value=delta_slide[-1,2]*factor, time_function=tf_sliding)\n",
    "slide_upper_3 = BCDof(var='u', dof=slide_upper_dofs[3], value=delta_slide[-1,3]*factor, time_function=tf_sliding)\n",
    "\n",
    "\n",
    "bc2 =   [confinement_upper_0, slide_upper_0,\n",
    "        confinement_upper_1, slide_upper_1,\n",
    "        confinement_upper_2, slide_upper_2,\n",
    "        confinement_upper_3, slide_upper_3,\n",
    "        inner_fixed_0, inner_fixed_1] \n",
    "\n",
    "\n",
    "# Boundary conditions with differential slide definition of ligament bc\n",
    "\n",
    "inner_fixed_0 = slide_lower_slice\n",
    "inner_fixed_1 = confinement_lower_slice\n",
    "delta_slide = U[:, ligament_upper_slide_dofs] - U[:, ligament_lower_slide_dofs]\n",
    "\n",
    "slide_upper_0 = BCDof(var='u', dof=slide_upper_dofs[0], value=delta_slide[-1,0]*factor, time_function=tf_sliding)\n",
    "slide_upper_1 = BCDof(var='u', dof=slide_upper_dofs[1], value=delta_slide[-1,1]*factor, time_function=tf_sliding)\n",
    "slide_upper_2 = BCDof(var='u', dof=slide_upper_dofs[2], value=delta_slide[-1,2]*factor, time_function=tf_sliding)\n",
    "slide_upper_3 = BCDof(var='u', dof=slide_upper_dofs[3], value=delta_slide[-1,3]*factor, time_function=tf_sliding)\n",
    "\n",
    "\n",
    "bc3 =   [slide_upper_0,\n",
    "        slide_upper_1, \n",
    "        slide_upper_2, \n",
    "        slide_upper_3, \n",
    "        inner_fixed_0, inner_fixed_1] \n",
    "\n",
    "# Boundary conditions with full definition of ligament bc\n",
    "\n",
    "\n",
    "confinement_upper_0 = BCDof(var='f', dof=confinement_upper_dofs[0], value=F[:, ligament_upper_confinement_dofs][-1,0]*factor, time_function=tf_sliding)\n",
    "confinement_upper_1 = BCDof(var='f', dof=confinement_upper_dofs[1], value=F[:, ligament_upper_confinement_dofs][-1,1]*factor, time_function=tf_sliding)\n",
    "confinement_upper_2 = BCDof(var='f', dof=confinement_upper_dofs[2], value=F[:, ligament_upper_confinement_dofs][-1,2]*factor, time_function=tf_sliding)\n",
    "confinement_upper_3 = BCDof(var='f', dof=confinement_upper_dofs[3], value=F[:, ligament_upper_confinement_dofs][-1,3]*factor, time_function=tf_sliding)\n",
    "\n",
    "confinement_lower_0 = BCDof(var='f', dof=confinement_lower_dofs[0], value=F[:, ligament_lower_confinement_dofs][-1,0]*factor, time_function=tf_sliding)\n",
    "confinement_lower_1 = BCDof(var='f', dof=confinement_lower_dofs[1], value=F[:, ligament_lower_confinement_dofs][-1,1]*factor, time_function=tf_sliding)\n",
    "confinement_lower_2 = BCDof(var='f', dof=confinement_lower_dofs[2], value=F[:, ligament_lower_confinement_dofs][-1,2]*factor, time_function=tf_sliding)\n",
    "confinement_lower_3 = BCDof(var='f', dof=confinement_lower_dofs[3], value=F[:, ligament_lower_confinement_dofs][-1,3]*factor, time_function=tf_sliding)\n",
    "\n",
    "slide_upper_0 = BCDof(var='u', dof=slide_upper_dofs[0], value=U[:, ligament_upper_slide_dofs][-1,0]*factor, time_function=tf_sliding)\n",
    "slide_upper_1 = BCDof(var='u', dof=slide_upper_dofs[1], value=U[:, ligament_upper_slide_dofs][-1,1]*factor, time_function=tf_sliding)\n",
    "slide_upper_2 = BCDof(var='u', dof=slide_upper_dofs[2], value=U[:, ligament_upper_slide_dofs][-1,2]*factor, time_function=tf_sliding)\n",
    "slide_upper_3 = BCDof(var='u', dof=slide_upper_dofs[3], value=U[:, ligament_upper_slide_dofs][-1,3]*factor, time_function=tf_sliding)\n",
    "\n",
    "slide_lower_0 = BCDof(var='u', dof=slide_lower_dofs[0], value=U[:, ligament_lower_slide_dofs][-1,0]*factor, time_function=tf_sliding)\n",
    "slide_lower_1 = BCDof(var='u', dof=slide_lower_dofs[1], value=U[:, ligament_lower_slide_dofs][-1,1]*factor, time_function=tf_sliding)\n",
    "slide_lower_2 = BCDof(var='u', dof=slide_lower_dofs[2], value=U[:, ligament_lower_slide_dofs][-1,2]*factor, time_function=tf_sliding)\n",
    "slide_lower_3 = BCDof(var='u', dof=slide_lower_dofs[3], value=U[:, ligament_lower_slide_dofs][-1,3]*factor, time_function=tf_sliding)\n",
    "\n",
    "\n",
    "bc4 =   [confinement_upper_0, confinement_lower_0, slide_upper_0, slide_lower_0,\n",
    "        confinement_upper_1, confinement_lower_1, slide_upper_1, slide_lower_1,\n",
    "        confinement_upper_2, confinement_lower_2, slide_upper_2, slide_lower_2,\n",
    "        confinement_upper_3, confinement_lower_3, slide_upper_3, slide_lower_3\n",
    "            ] "
   ]
  },
  {
   "cell_type": "code",
   "execution_count": null,
   "id": "aeeb0b9a-5415-4536-a19e-033cd85912e1",
   "metadata": {},
   "outputs": [],
   "source": [
    "m1 = copy.deepcopy(m)\n",
    "m1.bc=bc1\n",
    "m1.hist.vis_record = {\n",
    "#    'strain': Vis3DTensorField(var='eps_ab'),\n",
    "    'stress': Vis3DTensorField(var='sig_ab'),\n",
    "    #        'kinematic hardening': Vis3DStateField(var='z_a')\n",
    "}\n",
    "\n",
    "s1 = m1.sim\n",
    "s1.tloop.verbose = False\n",
    "s1.tloop.k_max = 1000\n",
    "s1.tline.step = 0.005/factor\n",
    "# Accessing the following property - ensures serialization\n",
    "s1.tstep.fe_domain.serialized_subdomains\n",
    "s1.reset()\n",
    "s1.run()"
   ]
  },
  {
   "cell_type": "code",
   "execution_count": null,
   "id": "92d02930-bfca-4ff3-aa80-b3f3030faba5",
   "metadata": {},
   "outputs": [],
   "source": [
    "U_t1 = np.average(m1.hist.U_t[:, slide_upper_dofs] - m1.hist.U_t[:, slide_lower_dofs], axis=-1)\n",
    "F_t1 = np.sum(m1.hist.F_t[:, slide_upper_dofs], axis=-1)"
   ]
  },
  {
   "cell_type": "code",
   "execution_count": null,
   "id": "dc505bbc-b6fd-4eae-87cf-d81105d0d48e",
   "metadata": {},
   "outputs": [],
   "source": [
    "m2 = copy.deepcopy(m)\n",
    "m2.bc=bc2\n",
    "m2.hist.vis_record = {\n",
    "#    'strain': Vis3DTensorField(var='eps_ab'),\n",
    "    'stress': Vis3DTensorField(var='sig_ab'),\n",
    "    #        'kinematic hardening': Vis3DStateField(var='z_a')\n",
    "}\n",
    "\n",
    "s2 = m2.sim\n",
    "s2.tloop.verbose = False\n",
    "s2.tloop.k_max = 1000\n",
    "s2.tline.step = 0.005/factor\n",
    "# Accessing the following property - ensures serialization\n",
    "s2.tstep.fe_domain.serialized_subdomains\n",
    "s2.reset()\n",
    "s2.run()"
   ]
  },
  {
   "cell_type": "code",
   "execution_count": null,
   "id": "d6f3527e-7327-43d5-a77f-fb4df399024e",
   "metadata": {},
   "outputs": [],
   "source": [
    "U_t2 = np.average(m2.hist.U_t[:, slide_upper_dofs] - m2.hist.U_t[:, slide_lower_dofs], axis=-1)\n",
    "F_t2 = np.sum(m2.hist.F_t[:, slide_upper_dofs], axis=-1)"
   ]
  },
  {
   "cell_type": "code",
   "execution_count": null,
   "id": "fd2c7d43-03fc-40aa-9799-e30328b2dc40",
   "metadata": {},
   "outputs": [],
   "source": [
    "# m3 = copy.deepcopy(m)\n",
    "# m3.bc=bc3\n",
    "# m3.hist.vis_record = {\n",
    "# #    'strain': Vis3DTensorField(var='eps_ab'),\n",
    "#     'stress': Vis3DTensorField(var='sig_ab'),\n",
    "#     #        'kinematic hardening': Vis3DStateField(var='z_a')\n",
    "# }\n",
    "\n",
    "# s3 = m3.sim\n",
    "# s3.tloop.verbose = False\n",
    "# s3.tloop.k_max = 1000\n",
    "# s3.tline.step = 0.005/factor\n",
    "# # Accessing the following property - ensures serialization\n",
    "# s3.tstep.fe_domain.serialized_subdomains\n",
    "# s3.reset()\n",
    "# s3.run()"
   ]
  },
  {
   "cell_type": "code",
   "execution_count": null,
   "id": "98a61a03-e200-445e-8c1f-537d1b77ca45",
   "metadata": {},
   "outputs": [],
   "source": [
    "# U_t3 = np.average(m3.hist.U_t[:, slide_upper_dofs] - m3.hist.U_t[:, slide_lower_dofs], axis=-1)\n",
    "# F_t3 = np.sum(m3.hist.F_t[:, slide_upper_dofs], axis=-1)"
   ]
  },
  {
   "cell_type": "code",
   "execution_count": null,
   "id": "3fab8784-59a9-4f2f-81ed-fdf5af4922a0",
   "metadata": {},
   "outputs": [],
   "source": [
    "fig, (ax1) = plt.subplots(1)\n",
    "ax1.plot(U_t1, F_t1/1000, label='simple bc')\n",
    "ax1.plot(U_t2, F_t2/1000, label='refined bc')\n",
    "# ax1.plot(U_t3, F_t3/1000, label='transferred bc')\n",
    "ax1.plot(U_slide_differential_ligament, -F_slide/1000, '--', label='full PTST')\n",
    "ax1.set_ylabel('Force [kN]')\n",
    "ax1.set_xlabel('Displacement[mm]')\n",
    "ax1.legend()\n",
    "# ax2.plot(-U_t/(L_x-n_notch*2*d_x), -F_t/(2 * np.pi * (R_in+dR)*(L_x-n_notch*2*d_x)))\n",
    "# # ax2.plot(-U_t/(L_x-n_notch*2*d_x), -F_t/(2 * np.pi * (R_in+dR)*(L_x-n_notch*2*d_x)))\n",
    "# # ax2.set_ylabel('Stress [MPa]')\n",
    "# # ax2.set_xlabel('Strain[-]')\n",
    "# G = np.trapz(F_t, x=U_t)/(2 * np.pi * (R_in+dR)*(L_x-n_notch*2*d_x))*1000\n",
    "# G2 = np.trapz(F_t/(2 * np.pi * (R_in+dR)), x=U_t/(L_x-n_notch*2*d_x))\n",
    "# print(G)\n",
    "# print(G2)\n",
    "# print(max(-F_t/1000))"
   ]
  },
  {
   "cell_type": "code",
   "execution_count": null,
   "id": "c4108f50-49f0-4db2-ad0c-2244b5a38b94",
   "metadata": {},
   "outputs": [],
   "source": [
    "if True:\n",
    "    mlab.options.backend = 'envisage'\n",
    "    mlab.options.offscreen = False # 'envisage'\n",
    "    f_strain = mlab.figure()\n",
    "    scene = mlab.get_engine().scenes[-1]\n",
    "    scene.name = 'stress'\n",
    "    strain_viz = Viz3DTensorField(vis3d=m.hist['stress'])\n",
    "    strain_viz.setup()\n",
    "    strain_viz.warp_vector.filter.scale_factor = 0.1\n",
    "    strain_viz.plot(s.tstep.t_n)\n",
    "    mlab.show()"
   ]
  },
  {
   "cell_type": "code",
   "execution_count": null,
   "id": "a91f98bf-9b86-47dc-bb73-452103866fdc",
   "metadata": {
    "tags": []
   },
   "outputs": [],
   "source": [
    "# m.fe_domain[2].state_k"
   ]
  },
  {
   "cell_type": "markdown",
   "id": "335c0425-62d5-4eba-a2b7-5e2ff64f4e81",
   "metadata": {},
   "source": [
    "## Postprocesing"
   ]
  },
  {
   "cell_type": "markdown",
   "id": "0ce3b92a-fe47-44af-873a-06820678ada1",
   "metadata": {
    "tags": []
   },
   "source": [
    "### Study about slide profile at ligament - PTST vs simple bc"
   ]
  },
  {
   "cell_type": "code",
   "execution_count": null,
   "id": "deed6385-16bd-4542-8fae-90f0c520e9f1",
   "metadata": {},
   "outputs": [],
   "source": [
    "_, ax = plt.subplots(1,1)\n",
    "for i in range(F[:, ligament_upper_confinement_dofs].shape[1]):\n",
    "    ax.plot(U_slide_differential_ligament, U[:, ligament_upper_slide_dofs][:,i] - U[:, ligament_lower_slide_dofs][:,i], '--', label='Position PTST' + str(i))\n",
    "    ax.plot(U_t1, m1.hist.U_t[:, slide_upper_dofs][:,i] - m1.hist.U_t[:, slide_lower_dofs][:,i], label='Position simple' + str(i))\n",
    "ax.set_ylabel('Displacement at each ligament node [kN]')\n",
    "ax.set_xlabel('Diferential displacement at ligament [mm]')\n",
    "ax.legend()\n",
    "\n"
   ]
  },
  {
   "cell_type": "markdown",
   "id": "ea125c83-2ce0-40e0-aadb-fe5a642d13ac",
   "metadata": {
    "tags": []
   },
   "source": [
    "### Study about slide profile at ligament - PTST vs refined bc"
   ]
  },
  {
   "cell_type": "code",
   "execution_count": null,
   "id": "9b37765d-351c-489b-a90c-217435beac5f",
   "metadata": {},
   "outputs": [],
   "source": [
    "_, ax = plt.subplots(1,1)\n",
    "for i in range(F[:, ligament_upper_confinement_dofs].shape[1]):\n",
    "    ax.plot(U_slide_differential_ligament, U[:, ligament_upper_slide_dofs][:,i] - U[:, ligament_lower_slide_dofs][:,i], '--', label='Position PTST' + str(i))\n",
    "    ax.plot(U_t2, m2.hist.U_t[:, slide_upper_dofs][:,i] - m2.hist.U_t[:, slide_lower_dofs][:,i], label='Position simple' + str(i))\n",
    "ax.set_ylabel('Displacement at each ligament node [kN]')\n",
    "ax.set_xlabel('Diferential displacement at ligament [mm]')\n",
    "ax.legend()"
   ]
  },
  {
   "cell_type": "markdown",
   "id": "b482244f-5197-45a5-ade4-2a4023b5f0a2",
   "metadata": {},
   "source": [
    "### Study about confinement profile at ligament - PTST vs simple bc"
   ]
  },
  {
   "cell_type": "code",
   "execution_count": null,
   "id": "1f07983e-5ddc-4354-8b49-263e767b6162",
   "metadata": {},
   "outputs": [],
   "source": [
    "_, ax = plt.subplots(1,1)\n",
    "for i in range(F[:, ligament_upper_confinement_dofs].shape[1]):\n",
    "    ax.plot(U_slide_differential_ligament, (F[:, ligament_upper_confinement_dofs][:,i] - F[:, ligament_lower_confinement_dofs][:,i])/1000, '--', label='Position PTST' + str(i))\n",
    "    ax.plot(U_t1, (m1.hist.F_t[:, confinement_upper_dofs][:,i]- m1.hist.F_t[:, confinement_lower_dofs][:,i])/1000, label='Position simple' + str(i))\n",
    "ax.set_ylabel('Force at each ligament node [kN]')\n",
    "ax.set_xlabel('Diferential displacement at ligament [mm]')\n",
    "ax.legend()"
   ]
  },
  {
   "cell_type": "markdown",
   "id": "eacafce6-02ae-4caf-b4de-7d1660155581",
   "metadata": {
    "tags": []
   },
   "source": [
    "### Study about slide profile at ligament - PTST vs refined bc"
   ]
  },
  {
   "cell_type": "code",
   "execution_count": null,
   "id": "092235fd-2262-461e-b203-8e23aa524a64",
   "metadata": {},
   "outputs": [],
   "source": [
    "_, ax = plt.subplots(1,1)\n",
    "for i in range(F[:, ligament_upper_confinement_dofs].shape[1]):\n",
    "    ax.plot(U_slide_differential_ligament, (F[:, ligament_upper_confinement_dofs][:,i] - F[:, ligament_lower_confinement_dofs][:,i])/1000, '--',label='Position PTST' + str(i))\n",
    "    ax.plot(U_t2, (m2.hist.F_t[:, confinement_upper_dofs][:,i] - m2.hist.F_t[:, confinement_lower_dofs][:,i])/1000, label='Position simple' + str(i))\n",
    "ax.set_ylabel('Force at each ligament node [kN]')\n",
    "ax.set_xlabel('Diferential displacement at ligament [mm]')\n",
    "ax.legend()"
   ]
  },
  {
   "cell_type": "markdown",
   "id": "77bde1c3-290c-4894-87ee-412327a0b596",
   "metadata": {},
   "source": [
    "### Study about dilatancy profile at ligament - PTST vs simple bc"
   ]
  },
  {
   "cell_type": "code",
   "execution_count": null,
   "id": "de495207-dddd-42dd-9ffd-d9d19108f3d6",
   "metadata": {},
   "outputs": [],
   "source": [
    "_, ax = plt.subplots(1,1)\n",
    "for i in range(F[:, ligament_upper_confinement_dofs].shape[1]):\n",
    "    ax.plot(U_slide_differential_ligament, U[:, ligament_upper_confinement_dofs][:,i] - U[:, ligament_lower_confinement_dofs][:,i], '--', label = 'Position PTST' + str(i))\n",
    "    ax.plot(U_t1, (m1.hist.U_t[:, confinement_upper_dofs][:,i] - m1.hist.U_t[:, confinement_lower_dofs][:,i]), label='Position simple' + str(i))\n",
    "ax.set_ylabel('Dilatancy at each node [mm]')\n",
    "ax.set_xlabel('Diferential displacement at ligament [mm]')\n",
    "ax.legend()\n"
   ]
  },
  {
   "cell_type": "markdown",
   "id": "492954f1-1f59-48e6-be84-f2a7ff7a40fd",
   "metadata": {},
   "source": [
    "### Study about dilatancy profile at ligament - PTST vs refined bc"
   ]
  },
  {
   "cell_type": "code",
   "execution_count": null,
   "id": "1eb951a4-fe2b-4f72-a91f-e61470dd1806",
   "metadata": {},
   "outputs": [],
   "source": [
    "_, ax = plt.subplots(1,1)\n",
    "for i in range(F[:, ligament_upper_confinement_dofs].shape[1]):\n",
    "    ax.plot(U_slide_differential_ligament, U[:, ligament_upper_confinement_dofs][:,i] - U[:, ligament_lower_confinement_dofs][:,i], '--', label = 'Position PTST' + str(i))\n",
    "    ax.plot(U_t2, (m2.hist.U_t[:, confinement_upper_dofs][:,i] - m2.hist.U_t[:, confinement_lower_dofs][:,i]), label='Position simple' + str(i))\n",
    "ax.set_ylabel('Dilatancy at each node [mm]')\n",
    "ax.set_xlabel('Diferential displacement at ligament [mm]')\n",
    "ax.legend()\n"
   ]
  },
  {
   "cell_type": "code",
   "execution_count": null,
   "id": "9bbab7dc-efd6-40d7-b7d7-4c747d981169",
   "metadata": {},
   "outputs": [],
   "source": []
  }
 ],
 "metadata": {
  "kernelspec": {
   "display_name": "bmcs_env",
   "language": "python",
   "name": "bmcs_env"
  },
  "language_info": {
   "codemirror_mode": {
    "name": "ipython",
    "version": 3
   },
   "file_extension": ".py",
   "mimetype": "text/x-python",
   "name": "python",
   "nbconvert_exporter": "python",
   "pygments_lexer": "ipython3"
  }
 },
 "nbformat": 4,
 "nbformat_minor": 5
}
