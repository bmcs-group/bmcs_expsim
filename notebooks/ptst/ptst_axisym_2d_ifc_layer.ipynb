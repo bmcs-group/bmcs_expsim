{
 "cells": [
  {
   "cell_type": "markdown",
   "id": "4faf2840",
   "metadata": {},
   "source": [
    "# PTST Idealization using axi-symmetric 2D interface layer"
   ]
  },
  {
   "cell_type": "markdown",
   "id": "5fa9f3d2-37c4-4ded-a75b-4a51d82b1e0a",
   "metadata": {},
   "source": [
    "## Purpose of the notebook"
   ]
  },
  {
   "cell_type": "markdown",
   "id": "1c7b4fa4-4629-4c9b-89fd-46473f5620f2",
   "metadata": {},
   "source": [
    "Verify the axi-symmetric model in an elastic state to ensure that the confinement is\n",
    "correctly reproduced. This notebook serves as a basis for 3D degradation within\n",
    "a ligament/bond zone in axi-symmetric models. Examples are\n",
    " - PTST\n",
    " - prestressing\n",
    " - confined bond configuration\n",
    " - effect of splitting cracks\n",
    " - restrained splitting cracks in fatigue tests"
   ]
  },
  {
   "cell_type": "markdown",
   "id": "c733ba8c-1083-4a87-8c81-51f87c068a87",
   "metadata": {},
   "source": [
    "## Implementation remarks"
   ]
  },
  {
   "cell_type": "markdown",
   "id": "89062103-111b-45eb-b4b8-4ee80b791faf",
   "metadata": {},
   "source": [
    "- The notebook now uses `BCSliceI` - to ensure the same order of nodes along an \n",
    "interfaces\n",
    "- Compression is applied using individual `BCDof` instances without integration \n",
    "  over the boundary. This should be changed to BCSliceE - which can use the \n",
    "  finite element shape functions to integrate over the element domain"
   ]
  },
  {
   "cell_type": "markdown",
   "id": "19df0a6e-14c4-43fc-8674-7a04fabda8d5",
   "metadata": {},
   "source": [
    "# Elastic material model for the ligament"
   ]
  },
  {
   "cell_type": "markdown",
   "id": "b0dadb7e-5242-494d-9fbd-5065687b1bda",
   "metadata": {},
   "source": [
    " - check the uniformity of the radial stress "
   ]
  },
  {
   "cell_type": "code",
   "execution_count": 73,
   "id": "5453e041-98d8-4951-923c-b64809a003dd",
   "metadata": {},
   "outputs": [],
   "source": [
    "%matplotlib widget\n",
    "import time\n",
    "from bmcs_expsim.utils.mlab_decorators import decorate_figure\n",
    "from mayavi import mlab\n",
    "import numpy as np\n",
    "np.seterr(divide='ignore', invalid='ignore') \n",
    "import warnings\n",
    "import matplotlib.pylab as plt\n",
    "import numpy as np\n",
    "from ibvpy.api import TStepBC, TFCyclicNonsymmetricConstant, TFBilinear\n",
    "from ibvpy.bcond import BCSliceI, BCDof\n",
    "from ibvpy.xmodel.xdomain_fe_grid_axisym import XDomainFEGridAxiSym\n",
    "from ibvpy.fets import FETS2D4Q\n",
    "from ibvpy.tmodel.viz3d_scalar_field import \\\n",
    "    Vis3DStateField, Viz3DScalarField\n",
    "from ibvpy.tmodel.viz3d_tensor_field import \\\n",
    "    Vis3DTensorField, Viz3DTensorField\n",
    "from ibvpy.tmodel.mats3D.mats3D_elastic.vmats3D_elastic import \\\n",
    "    MATS3DElastic\n",
    "from ibvpy.tmodel.mats2D.mats2D_elastic.vmats2D_elastic import \\\n",
    "    MATS2DElastic"
   ]
  },
  {
   "cell_type": "markdown",
   "id": "2fdaf708-abed-418a-aaba-c6d00ebb6ec8",
   "metadata": {},
   "source": [
    "## FE Axisymmetric discretization"
   ]
  },
  {
   "cell_type": "code",
   "execution_count": 67,
   "id": "86afb862-3f07-4dd1-b5e8-b8f6c0f470d8",
   "metadata": {
    "scrolled": true,
    "tags": []
   },
   "outputs": [],
   "source": [
    "n_x_e = 20\n",
    "n_inner_y_e = 10\n",
    "n_outer_y_e = 10\n",
    "L_x = 100.0 # [mm]\n",
    "d_x = L_x / n_x_e\n",
    "R_in = 25 # [mm]\n",
    "dR = 10 # [mm]\n",
    "R_out = 50 # [mm]\n",
    "len_notch = 10\n",
    "n_notch = 2\n",
    "# geo_transform\n",
    "# gmesh\n",
    "xd_inner = XDomainFEGridAxiSym(integ_factor = 2 * np.pi,\n",
    "                               coord_min=(0, 0),\n",
    "                               coord_max=(L_x, R_in),\n",
    "                               shape=(n_x_e, n_inner_y_e),\n",
    "                               fets=FETS2D4Q())\n",
    "xd_middle = XDomainFEGridAxiSym(integ_factor = 2 * np.pi,\n",
    "                               coord_min=(0+n_notch*d_x, R_in),\n",
    "                               coord_max=(L_x-n_notch*d_x, R_in+dR),\n",
    "                               shape=(n_x_e-2*n_notch, 1),\n",
    "                               fets=FETS2D4Q())\n",
    "xd_outer = XDomainFEGridAxiSym(integ_factor = 2 * np.pi,\n",
    "                               coord_min=(0, R_in+dR),\n",
    "                               coord_max=(L_x, R_out),\n",
    "                               shape=(n_x_e, n_outer_y_e),\n",
    "                               fets=FETS2D4Q())\n",
    "m_elastic = MATS3DElastic(E=37000, nu=0.18)\n",
    "m_inelastic = MATS3DElastic(E=37000, nu=0.18)\n",
    "m = TStepBC(\n",
    "    domains=[(xd_inner, m_elastic),\n",
    "             (xd_outer, m_elastic),\n",
    "             (xd_middle, m_inelastic),\n",
    "             ]\n",
    ")"
   ]
  },
  {
   "cell_type": "markdown",
   "id": "e176c27b-f225-453c-8b10-5b1489a90538",
   "metadata": {},
   "source": [
    "## Boundary and transition conditions"
   ]
  },
  {
   "cell_type": "markdown",
   "id": "7d260272-0225-4568-a8d0-c92a30094cdf",
   "metadata": {},
   "source": [
    "### Kinematic links between the domains"
   ]
  },
  {
   "cell_type": "code",
   "execution_count": 68,
   "id": "303ddd73-4f3e-454c-ac2c-6a01f13b72b6",
   "metadata": {},
   "outputs": [],
   "source": [
    "link_inner_middle = BCSliceI(var='u', dims=[0, 1],\n",
    "                             slice=xd_inner.mesh.I[n_notch:-n_notch, -1], \n",
    "                             link_slice=xd_middle.mesh.I[:, 0],\n",
    "                             link_coeffs=[1.0, 1.0],\n",
    "                             link_dims=[0, 1],\n",
    "                             value=0.0\n",
    "                            )\n",
    "link_middle_outer = BCSliceI(slice=xd_outer.mesh.I[n_notch:-n_notch, 0], \n",
    "                             var='u', dims=[0, 1],\n",
    "                             link_slice=xd_middle.mesh.I[:, -1],\n",
    "                             link_coeffs=[1, 1],\n",
    "                             link_dims=[0, 1],\n",
    "                             value=0,\n",
    "                            )"
   ]
  },
  {
   "cell_type": "markdown",
   "id": "33fdcf27-0a5f-439c-9ed0-e353a2e78c02",
   "metadata": {},
   "source": [
    "### Compression/Traction fc"
   ]
  },
  {
   "cell_type": "code",
   "execution_count": 69,
   "id": "2690f169-bddb-4d7a-87c8-924cf3cfed90",
   "metadata": {
    "tags": []
   },
   "outputs": [],
   "source": [
    "inner_fixed_1 = BCSliceI(slice=xd_inner.mesh.I[:, 0], var='u', dims=[1], value=0)\n",
    "outer_fixed_0 = BCSliceI(slice=xd_outer.mesh.I[0, :], var='u', dims=[0], value=0)\n",
    "\n",
    "outer_compression_slice = BCSliceI(slice=xd_outer.mesh.I[:, -1],\n",
    "                                   var='u', dims=[1], value=0.01)\n",
    "\n",
    "compression_dofs = outer_compression_slice.dofs\n",
    "compression = -10000*L_x / len(compression_dofs)\n",
    "outer_compression_force_first = [BCDof(var='f', dof=dof, value=compression) \n",
    "                                 for dof in compression_dofs ]\n",
    "outer_compression_force_first[0].value *=0.5\n",
    "outer_compression_force_first[-1].value *=0.5\n",
    "bc1 = [inner_fixed_1, \n",
    "#       outer_fixed_0,\n",
    "       link_inner_middle,\n",
    "       link_middle_outer\n",
    "      ] + outer_compression_force_first"
   ]
  },
  {
   "cell_type": "markdown",
   "id": "b6eae98d-d05c-4f33-949a-ffd8d17d4d9e",
   "metadata": {},
   "source": [
    "### Sliding dc"
   ]
  },
  {
   "cell_type": "code",
   "execution_count": 70,
   "id": "0449a6e2-74ba-456e-8341-e87b5f65fefd",
   "metadata": {
    "tags": []
   },
   "outputs": [],
   "source": [
    "#lower_fixed_0 = BCSlice(slice=xd_lower.mesh[:, 0, :, 0], var='u', dims=[1], value=0)\n",
    "#upper_fixed_1 = BCSlice(slice=xd_upper.mesh[0, :, 0, :], var='u', dims=[0], value=0)\n",
    "#\n",
    "#lower_slide = BCSlice(slice=xd_lower.mesh[0, :, 0, :], var='u', dims=[0], value=6)\n",
    "#\n",
    "#\n",
    "#bc1 =   [lower_fixed_0, upper_fixed_1, lower_slide]"
   ]
  },
  {
   "cell_type": "markdown",
   "id": "25cf6602-f09e-45cb-9916-29dd9857bed4",
   "metadata": {},
   "source": [
    "### Sliding fc"
   ]
  },
  {
   "cell_type": "code",
   "execution_count": 71,
   "id": "c3b5ccf9-7691-44af-943f-eb3d6253e34f",
   "metadata": {
    "tags": []
   },
   "outputs": [],
   "source": [
    "#lower_fixed_0 = BCSlice(slice=xd_lower.mesh[:, 0, :, 0], var='u', dims=[1], value=0)\n",
    "#upper_fixed_1 = BCSlice(slice=xd_upper.mesh[0, :, 0, :], var='u', dims=[0], value=0)\n",
    "#\n",
    "#\n",
    "#\n",
    "#lower_slide = BCSlice(slice=xd_lower.mesh[0, :, 0, :], var='u', dims=[0], value=0)\n",
    "#Force = 10 / len(lower_slide.dofs)\n",
    "#lower_slide_force = [BCDof(var='f', dof=dof, value = Force) \n",
    "#             for dof in lower_slide.dofs]\n",
    "#\n",
    "#bc1 =   [lower_fixed_0, upper_fixed_1] + lower_slide_force"
   ]
  },
  {
   "cell_type": "code",
   "execution_count": 60,
   "id": "f78b8f97-b72d-4433-849b-628c3871052b",
   "metadata": {
    "tags": []
   },
   "outputs": [
    {
     "data": {
      "text/plain": [
       "[<ibvpy.sim.domain_state.DomainState at 0x7fe2dbb89e00>,\n",
       " <ibvpy.sim.domain_state.DomainState at 0x7fe2dbbac950>,\n",
       " <ibvpy.sim.domain_state.DomainState at 0x7fe2e0544db0>]"
      ]
     },
     "execution_count": 60,
     "metadata": {},
     "output_type": "execute_result"
    }
   ],
   "source": [
    "m.bc=bc1\n",
    "m.hist.vis_record = {\n",
    "#    'strain': Vis3DTensorField(var='eps_ab'),\n",
    "    'stress': Vis3DTensorField(var='sig_ab'),\n",
    "    #        'kinematic hardening': Vis3DStateField(var='z_a')\n",
    "}\n",
    "\n",
    "s = m.sim\n",
    "s.tloop.verbose = True\n",
    "s.tloop.k_max = 1000\n",
    "s.tline.step = 0.1\n",
    "# Accessing the following property - ensures serialization\n",
    "s.tstep.fe_domain.serialized_subdomains"
   ]
  },
  {
   "cell_type": "code",
   "execution_count": 61,
   "id": "a401abc5-87a1-446b-8efc-9b2014bddcf4",
   "metadata": {
    "scrolled": true
   },
   "outputs": [
    {
     "name": "stdout",
     "output_type": "stream",
     "text": [
      "t:\t 0.00(0), \n",
      "\t 0.10(1), \n",
      "\t 0.20(1), \n",
      "\t 0.30(1), \n",
      "\t 0.40(1), \n",
      "\t 0.50(1), \n",
      "\t 0.60(1), \n",
      "\t 0.70(1), \n",
      "\t 0.80(1), \n",
      "\t 0.90(1), \n",
      "\t 1.00(1), \n",
      "\n"
     ]
    }
   ],
   "source": [
    "s.reset()\n",
    "s.run()"
   ]
  },
  {
   "cell_type": "markdown",
   "id": "59775c06-34e3-45b3-baf2-edcdacb4e930",
   "metadata": {},
   "source": [
    "## Postprocesing"
   ]
  },
  {
   "cell_type": "markdown",
   "id": "c5ae3e81-4545-454c-a6d3-d2c2e0c5d449",
   "metadata": {},
   "source": [
    "### Access the last displacement step"
   ]
  },
  {
   "cell_type": "code",
   "execution_count": 62,
   "id": "722b2c59-9978-4f51-b84a-74e4e4d5b1a1",
   "metadata": {},
   "outputs": [],
   "source": [
    "U_last = m.hist.U_t[-1]"
   ]
  },
  {
   "cell_type": "code",
   "execution_count": 63,
   "id": "5e8be362-3b40-42d4-8a89-af5768a6974b",
   "metadata": {},
   "outputs": [
    {
     "data": {
      "text/plain": [
       "(array([[-1.09606153e-02, -1.68541575e-02],\n",
       "        [-1.13161723e-02, -3.65336555e-02],\n",
       "        [-9.49107992e-03, -2.05594421e-02],\n",
       "        [-1.07469740e-02, -2.98337601e-02],\n",
       "        [-8.90442279e-03, -1.97726155e-02],\n",
       "        [-1.05895966e-02, -2.69007319e-02],\n",
       "        [-8.37629507e-03, -1.85918671e-02],\n",
       "        [-1.01037060e-02, -2.49618675e-02],\n",
       "        [-7.77192498e-03, -1.75356618e-02],\n",
       "        [-9.32190626e-03, -2.37190153e-02],\n",
       "        [-7.06248776e-03, -1.67540370e-02],\n",
       "        [-8.30010274e-03, -2.29528120e-02],\n",
       "        [-6.25541331e-03, -1.62415953e-02],\n",
       "        [-7.10747116e-03, -2.25104855e-02],\n",
       "        [-5.37646084e-03, -1.59581247e-02],\n",
       "        [-5.80869592e-03, -2.22853621e-02],\n",
       "        [-4.45992745e-03, -1.58680702e-02],\n",
       "        [-4.45992745e-03, -2.22168317e-02],\n",
       "        [-3.54339405e-03, -1.59581247e-02],\n",
       "        [-3.11115898e-03, -2.22853621e-02],\n",
       "        [-2.66444159e-03, -1.62415953e-02],\n",
       "        [-1.81238373e-03, -2.25104855e-02],\n",
       "        [-1.85736713e-03, -1.67540370e-02],\n",
       "        [-6.19752156e-04, -2.29528120e-02],\n",
       "        [-1.14792991e-03, -1.75356618e-02],\n",
       "        [ 4.02051368e-04, -2.37190153e-02],\n",
       "        [-5.43559825e-04, -1.85918671e-02],\n",
       "        [ 1.18385114e-03, -2.49618675e-02],\n",
       "        [-1.54321013e-05, -1.97726155e-02],\n",
       "        [ 1.66974169e-03, -2.69007319e-02],\n",
       "        [ 5.71225027e-04, -2.05594421e-02],\n",
       "        [ 1.82711913e-03, -2.98337601e-02],\n",
       "        [ 2.04076042e-03, -1.68541575e-02],\n",
       "        [ 2.39631739e-03, -3.65336555e-02]]),\n",
       " array([[-2.11066858e-02,  0.00000000e+00],\n",
       "        [-2.10444504e-02, -5.37412090e-04],\n",
       "        [-2.08937361e-02, -1.03941594e-03],\n",
       "        [-2.06295035e-02, -1.46981021e-03],\n",
       "        [-2.02187355e-02, -1.78929115e-03],\n",
       "        [-1.96083417e-02, -1.95574207e-03],\n",
       "        [-1.87149560e-02, -1.92883695e-03],\n",
       "        [-1.74127443e-02, -1.68504238e-03],\n",
       "        [-1.55295994e-02, -1.25602367e-03],\n",
       "        [-1.28978093e-02, -8.11082350e-04],\n",
       "        [-1.04658149e-02, -8.80245227e-04],\n",
       "        [-2.03462803e-02,  0.00000000e+00],\n",
       "        [-2.02903490e-02, -8.86880514e-04],\n",
       "        [-2.01543334e-02, -1.76412233e-03],\n",
       "        [-1.99157607e-02, -2.62543498e-03],\n",
       "        [-1.95459888e-02, -3.46359033e-03],\n",
       "        [-1.90006627e-02, -4.27043927e-03],\n",
       "        [-1.82139242e-02, -5.03262928e-03],\n",
       "        [-1.70933171e-02, -5.71864433e-03],\n",
       "        [-1.55187678e-02, -6.24589573e-03],\n",
       "        [-1.33550779e-02, -6.41318982e-03],\n",
       "        [-9.77407543e-03, -5.85608941e-03],\n",
       "        [-1.88654027e-02,  0.00000000e+00],\n",
       "        [-1.88027436e-02, -1.35665878e-03],\n",
       "        [-1.86514499e-02, -2.72840003e-03],\n",
       "        [-1.83907424e-02, -4.12789810e-03],\n",
       "        [-1.79989541e-02, -5.57090500e-03],\n",
       "        [-1.74466320e-02, -7.07569514e-03],\n",
       "        [-1.66970859e-02, -8.66382011e-03],\n",
       "        [-1.57094458e-02, -1.03632239e-02],\n",
       "        [-1.44409750e-02, -1.22206054e-02],\n",
       "        [-1.28103334e-02, -1.43375191e-02],\n",
       "        [-1.09606153e-02, -1.68541575e-02],\n",
       "        [-1.66567807e-02,  0.00000000e+00],\n",
       "        [-1.65828485e-02, -1.72901439e-03],\n",
       "        [-1.64072509e-02, -3.47879558e-03],\n",
       "        [-1.61119718e-02, -5.26635515e-03],\n",
       "        [-1.56827171e-02, -7.11082170e-03],\n",
       "        [-1.51025792e-02, -9.03264498e-03],\n",
       "        [-1.43532597e-02, -1.10540560e-02],\n",
       "        [-1.34175644e-02, -1.31996509e-02],\n",
       "        [-1.22830929e-02, -1.54945600e-02],\n",
       "        [-1.09771039e-02, -1.79477056e-02],\n",
       "        [-9.49107992e-03, -2.05594421e-02],\n",
       "        [-1.41053922e-02,  0.00000000e+00],\n",
       "        [-1.40289024e-02, -1.91247574e-03],\n",
       "        [-1.38494860e-02, -3.83692891e-03],\n",
       "        [-1.35542220e-02, -5.78240182e-03],\n",
       "        [-1.31380575e-02, -7.75673741e-03],\n",
       "        [-1.25981575e-02, -9.76451271e-03],\n",
       "        [-1.19366876e-02, -1.18046343e-02],\n",
       "        [-1.11670820e-02, -1.38662041e-02],\n",
       "        [-1.03278981e-02, -1.59216849e-02],\n",
       "        [-9.49808316e-03, -1.79220545e-02],\n",
       "        [-8.90442279e-03, -1.97726155e-02],\n",
       "        [-1.16462777e-02,  0.00000000e+00],\n",
       "        [-1.15799311e-02, -1.93373482e-03],\n",
       "        [-1.14261310e-02, -3.86782527e-03],\n",
       "        [-1.11785485e-02, -5.80197581e-03],\n",
       "        [-1.08411668e-02, -7.73325413e-03],\n",
       "        [-1.04238945e-02, -9.65497056e-03],\n",
       "        [-9.94553756e-03, -1.15553993e-02],\n",
       "        [-9.43894765e-03, -1.34170787e-02],\n",
       "        [-8.95676892e-03, -1.52184676e-02],\n",
       "        [-8.58031840e-03, -1.69393594e-02],\n",
       "        [-8.37629507e-03, -1.85918671e-02],\n",
       "        [-9.54380480e-03,  0.00000000e+00],\n",
       "        [-9.49525295e-03, -1.86676657e-03],\n",
       "        [-9.38398295e-03, -3.72698823e-03],\n",
       "        [-9.20887541e-03, -5.57549288e-03],\n",
       "        [-8.97860245e-03, -7.40523882e-03],\n",
       "        [-8.70803174e-03, -9.20768682e-03],\n",
       "        [-8.41931226e-03, -1.09731576e-02],\n",
       "        [-8.14285776e-03, -1.26921677e-02],\n",
       "        [-7.91690844e-03, -1.43580610e-02],\n",
       "        [-7.77978392e-03, -1.59716738e-02],\n",
       "        [-7.77192498e-03, -1.75356618e-02],\n",
       "        [-7.86062590e-03,  0.00000000e+00],\n",
       "        [-7.83014684e-03, -1.77606092e-03],\n",
       "        [-7.76104766e-03, -3.54390310e-03],\n",
       "        [-7.65467255e-03, -5.29754378e-03],\n",
       "        [-7.51961653e-03, -7.03030736e-03],\n",
       "        [-7.36888349e-03, -8.73582891e-03],\n",
       "        [-7.21959100e-03, -1.04087481e-02],\n",
       "        [-7.09226141e-03, -1.20456865e-02],\n",
       "        [-7.00897481e-03, -1.36463252e-02],\n",
       "        [-6.99251716e-03, -1.52132353e-02],\n",
       "        [-7.06248776e-03, -1.67540370e-02],\n",
       "        [-6.53043996e-03,  0.00000000e+00],\n",
       "        [-6.51401458e-03, -1.69857200e-03],\n",
       "        [-6.47713612e-03, -3.38992779e-03],\n",
       "        [-6.42150058e-03, -5.06903712e-03],\n",
       "        [-6.35318247e-03, -6.73089159e-03],\n",
       "        [-6.28078610e-03, -8.37147815e-03],\n",
       "        [-6.21491563e-03, -9.98828169e-03],\n",
       "        [-6.16748139e-03, -1.15807433e-02],\n",
       "        [-6.15096027e-03, -1.31505308e-02],\n",
       "        [-6.17699694e-03, -1.47019886e-02],\n",
       "        [-6.25541331e-03, -1.62415953e-02],\n",
       "        [-5.43732849e-03,  0.00000000e+00],\n",
       "        [-5.43045675e-03, -1.64945837e-03],\n",
       "        [-5.41514288e-03, -3.29308093e-03],\n",
       "        [-5.39240699e-03, -4.92689283e-03],\n",
       "        [-5.36525262e-03, -6.54723016e-03],\n",
       "        [-5.33780622e-03, -8.15154627e-03],\n",
       "        [-5.31501559e-03, -9.73877020e-03],\n",
       "        [-5.30231691e-03, -1.13095641e-02],\n",
       "        [-5.30515753e-03, -1.28665035e-02],\n",
       "        [-5.32854621e-03, -1.44139822e-02],\n",
       "        [-5.37646084e-03, -1.59581247e-02],\n",
       "        [-4.45992745e-03,  0.00000000e+00],\n",
       "        [-4.45992745e-03, -1.63289293e-03],\n",
       "        [-4.45992745e-03, -3.26052014e-03],\n",
       "        [-4.45992745e-03, -4.87932193e-03],\n",
       "        [-4.45992745e-03, -6.48611966e-03],\n",
       "        [-4.45992745e-03, -8.07885158e-03],\n",
       "        [-4.45992745e-03, -9.65689132e-03],\n",
       "        [-4.45992745e-03, -1.12212669e-02],\n",
       "        [-4.45992745e-03, -1.27747258e-02],\n",
       "        [-4.45992745e-03, -1.43217091e-02],\n",
       "        [-4.45992745e-03, -1.58680702e-02],\n",
       "        [-3.48252640e-03,  0.00000000e+00],\n",
       "        [-3.48939814e-03, -1.64945837e-03],\n",
       "        [-3.50471201e-03, -3.29308093e-03],\n",
       "        [-3.52744791e-03, -4.92689283e-03],\n",
       "        [-3.55460227e-03, -6.54723016e-03],\n",
       "        [-3.58204868e-03, -8.15154627e-03],\n",
       "        [-3.60483930e-03, -9.73877020e-03],\n",
       "        [-3.61753798e-03, -1.13095641e-02],\n",
       "        [-3.61469736e-03, -1.28665035e-02],\n",
       "        [-3.59130868e-03, -1.44139822e-02],\n",
       "        [-3.54339405e-03, -1.59581247e-02],\n",
       "        [-2.38941493e-03,  0.00000000e+00],\n",
       "        [-2.40584031e-03, -1.69857200e-03],\n",
       "        [-2.44271878e-03, -3.38992779e-03],\n",
       "        [-2.49835431e-03, -5.06903712e-03],\n",
       "        [-2.56667242e-03, -6.73089159e-03],\n",
       "        [-2.63906879e-03, -8.37147815e-03],\n",
       "        [-2.70493927e-03, -9.98828169e-03],\n",
       "        [-2.75237351e-03, -1.15807433e-02],\n",
       "        [-2.76889463e-03, -1.31505308e-02],\n",
       "        [-2.74285795e-03, -1.47019886e-02],\n",
       "        [-2.66444159e-03, -1.62415953e-02],\n",
       "        [-1.05922899e-03,  0.00000000e+00],\n",
       "        [-1.08970805e-03, -1.77606092e-03],\n",
       "        [-1.15880723e-03, -3.54390310e-03],\n",
       "        [-1.26518235e-03, -5.29754378e-03],\n",
       "        [-1.40023837e-03, -7.03030736e-03],\n",
       "        [-1.55097140e-03, -8.73582891e-03],\n",
       "        [-1.70026389e-03, -1.04087481e-02],\n",
       "        [-1.82759348e-03, -1.20456865e-02],\n",
       "        [-1.91088008e-03, -1.36463252e-02],\n",
       "        [-1.92733773e-03, -1.52132353e-02],\n",
       "        [-1.85736713e-03, -1.67540370e-02],\n",
       "        [ 6.23949903e-04,  0.00000000e+00],\n",
       "        [ 5.75398058e-04, -1.86676657e-03],\n",
       "        [ 4.64128058e-04, -3.72698823e-03],\n",
       "        [ 2.89020515e-04, -5.57549288e-03],\n",
       "        [ 5.87475564e-05, -7.40523882e-03],\n",
       "        [-2.11823149e-04, -9.20768682e-03],\n",
       "        [-5.00542633e-04, -1.09731576e-02],\n",
       "        [-7.76997137e-04, -1.26921677e-02],\n",
       "        [-1.00294645e-03, -1.43580610e-02],\n",
       "        [-1.14007097e-03, -1.59716738e-02],\n",
       "        [-1.14792991e-03, -1.75356618e-02],\n",
       "        [ 2.72642281e-03,  0.00000000e+00],\n",
       "        [ 2.66007617e-03, -1.93373482e-03],\n",
       "        [ 2.50627607e-03, -3.86782527e-03],\n",
       "        [ 2.25869363e-03, -5.80197581e-03],\n",
       "        [ 1.92131191e-03, -7.73325413e-03],\n",
       "        [ 1.50403964e-03, -9.65497056e-03],\n",
       "        [ 1.02568267e-03, -1.15553993e-02],\n",
       "        [ 5.19092754e-04, -1.34170787e-02],\n",
       "        [ 3.69140296e-05, -1.52184676e-02],\n",
       "        [-3.39536497e-04, -1.69393594e-02],\n",
       "        [-5.43559825e-04, -1.85918671e-02],\n",
       "        [ 5.18553732e-03,  0.00000000e+00],\n",
       "        [ 5.10904747e-03, -1.91247574e-03],\n",
       "        [ 4.92963114e-03, -3.83692891e-03],\n",
       "        [ 4.63436712e-03, -5.78240182e-03],\n",
       "        [ 4.21820263e-03, -7.75673741e-03],\n",
       "        [ 3.67830261e-03, -9.76451271e-03],\n",
       "        [ 3.01683271e-03, -1.18046343e-02],\n",
       "        [ 2.24722710e-03, -1.38662041e-02],\n",
       "        [ 1.40804317e-03, -1.59216849e-02],\n",
       "        [ 5.78228272e-04, -1.79220545e-02],\n",
       "        [-1.54321013e-05, -1.97726155e-02],\n",
       "        [ 7.73692584e-03,  0.00000000e+00],\n",
       "        [ 7.66299363e-03, -1.72901439e-03],\n",
       "        [ 7.48739599e-03, -3.47879558e-03],\n",
       "        [ 7.19211692e-03, -5.26635515e-03],\n",
       "        [ 6.76286216e-03, -7.11082170e-03],\n",
       "        [ 6.18272430e-03, -9.03264498e-03],\n",
       "        [ 5.43340476e-03, -1.10540560e-02],\n",
       "        [ 4.49770953e-03, -1.31996509e-02],\n",
       "        [ 3.36323797e-03, -1.54945600e-02],\n",
       "        [ 2.05724898e-03, -1.79477056e-02],\n",
       "        [ 5.71225027e-04, -2.05594421e-02],\n",
       "        [ 9.94554783e-03,  0.00000000e+00],\n",
       "        [ 9.88288874e-03, -1.35665878e-03],\n",
       "        [ 9.73159500e-03, -2.72840003e-03],\n",
       "        [ 9.47088754e-03, -4.12789810e-03],\n",
       "        [ 9.07909917e-03, -5.57090500e-03],\n",
       "        [ 8.52677710e-03, -7.07569514e-03],\n",
       "        [ 7.77723102e-03, -8.66382011e-03],\n",
       "        [ 6.78959095e-03, -1.03632239e-02],\n",
       "        [ 5.52112012e-03, -1.22206054e-02],\n",
       "        [ 3.89047850e-03, -1.43375191e-02],\n",
       "        [ 2.04076042e-03, -1.68541575e-02],\n",
       "        [ 1.14264254e-02,  0.00000000e+00],\n",
       "        [ 1.13704941e-02, -8.86880514e-04],\n",
       "        [ 1.12344785e-02, -1.76412233e-03],\n",
       "        [ 1.09959058e-02, -2.62543498e-03],\n",
       "        [ 1.06261339e-02, -3.46359033e-03],\n",
       "        [ 1.00808078e-02, -4.27043927e-03],\n",
       "        [ 9.29406927e-03, -5.03262928e-03],\n",
       "        [ 8.17346223e-03, -5.71864433e-03],\n",
       "        [ 6.59891293e-03, -6.24589573e-03],\n",
       "        [ 4.43522303e-03, -6.41318982e-03],\n",
       "        [ 8.54220539e-04, -5.85608941e-03],\n",
       "        [ 1.21868309e-02,  0.00000000e+00],\n",
       "        [ 1.21245955e-02, -5.37412090e-04],\n",
       "        [ 1.19738813e-02, -1.03941594e-03],\n",
       "        [ 1.17096486e-02, -1.46981021e-03],\n",
       "        [ 1.12988806e-02, -1.78929115e-03],\n",
       "        [ 1.06884868e-02, -1.95574207e-03],\n",
       "        [ 9.79510109e-03, -1.92883695e-03],\n",
       "        [ 8.49288943e-03, -1.68504238e-03],\n",
       "        [ 6.60974454e-03, -1.25602367e-03],\n",
       "        [ 3.97795444e-03, -8.11082350e-04],\n",
       "        [ 1.54596005e-03, -8.80245227e-04]]))"
      ]
     },
     "execution_count": 63,
     "metadata": {},
     "output_type": "execute_result"
    }
   ],
   "source": [
    "#U_last[xd_middle.o_Ia], U_last[xd_inner.o_Ia]"
   ]
  },
  {
   "cell_type": "code",
   "execution_count": 74,
   "id": "5935f9fd-2b21-4e76-9b0f-84bef3e2f38a",
   "metadata": {},
   "outputs": [],
   "source": [
    "#xd_middle.map_U_to_field(U_last)"
   ]
  },
  {
   "cell_type": "code",
   "execution_count": 65,
   "id": "60a76fb9-33d4-4c78-902a-5a7e5b0a4beb",
   "metadata": {},
   "outputs": [],
   "source": [
    "if True:\n",
    "    mlab.options.backend = 'envisage'\n",
    "    mlab.options.offscreen = False # 'envisage'\n",
    "    f_strain = mlab.figure()\n",
    "    scene = mlab.get_engine().scenes[-1]\n",
    "    scene.name = 'stress'\n",
    "    strain_viz = Viz3DTensorField(vis3d=m.hist['stress'])\n",
    "    strain_viz.setup()\n",
    "    strain_viz.warp_vector.filter.scale_factor = 0.1\n",
    "    strain_viz.plot(s.tstep.t_n)\n",
    "    mlab.show()"
   ]
  },
  {
   "cell_type": "markdown",
   "id": "4a996375-3ab3-4b8b-bc2a-fa7411d40d0f",
   "metadata": {},
   "source": [
    "# Slide34 model used for a ligament"
   ]
  },
  {
   "cell_type": "markdown",
   "id": "8dd970d9-dbab-45cb-9a7b-48b562f0667f",
   "metadata": {},
   "source": [
    " - check the correctness of the wrapper interface  "
   ]
  },
  {
   "cell_type": "code",
   "execution_count": 1,
   "id": "4654789c-e875-4c8d-9759-1f40fd55d5b1",
   "metadata": {},
   "outputs": [],
   "source": [
    "%matplotlib widget\n",
    "import time\n",
    "from bmcs_expsim.utils.mlab_decorators import decorate_figure\n",
    "from mayavi import mlab\n",
    "import numpy as np\n",
    "np.seterr(divide='ignore', invalid='ignore') \n",
    "import warnings\n",
    "import matplotlib.pylab as plt\n",
    "import numpy as np\n",
    "from ibvpy.api import TStepBC, TFCyclicNonsymmetricConstant, TFBilinear\n",
    "from ibvpy.bcond import BCSliceI, BCDof\n",
    "from ibvpy.xmodel.xdomain_fe_grid_axisym import XDomainFEGridAxiSym\n",
    "from ibvpy.fets import FETS2D4Q\n",
    "from ibvpy.tmodel.viz3d_scalar_field import \\\n",
    "    Vis3DStateField, Viz3DScalarField\n",
    "from ibvpy.tmodel.viz3d_tensor_field import \\\n",
    "    Vis3DTensorField, Viz3DTensorField\n",
    "from ibvpy.tmodel.mats3D.mats3D_elastic.vmats3D_elastic import \\\n",
    "    MATS3DElastic\n",
    "from ibvpy.tmodel.mats2D.mats2D_elastic.vmats2D_elastic import \\\n",
    "    MATS2DElastic\n",
    "from bmcs_matmod.slide.vslide_34_ij import MATS3DSlideStrain, Slide34"
   ]
  },
  {
   "cell_type": "markdown",
   "id": "fe55870d-2a6b-4b5a-ba55-a2cd17b86ebc",
   "metadata": {},
   "source": [
    "## FE Axisymmetric discretization"
   ]
  },
  {
   "cell_type": "code",
   "execution_count": 2,
   "id": "67ff492f-2496-486c-92e9-67edd7aa0e1d",
   "metadata": {
    "scrolled": true,
    "tags": []
   },
   "outputs": [],
   "source": [
    "n_x_e = 1\n",
    "n_inner_y_e = 1\n",
    "n_outer_y_e = 1\n",
    "L_x = 100.0 # [mm]\n",
    "d_x = L_x / n_x_e\n",
    "R_in = 25 # [mm]\n",
    "dR = 10 # [mm]\n",
    "R_out = 50 # [mm]\n",
    "len_notch = 10\n",
    "n_notch = 0\n",
    "# geo_transform\n",
    "# gmesh\n",
    "xd_inner = XDomainFEGridAxiSym(integ_factor = 2 * np.pi,\n",
    "                               coord_min=(0, 0),\n",
    "                               coord_max=(L_x, R_in),\n",
    "                               shape=(n_x_e, n_inner_y_e),\n",
    "                               fets=FETS2D4Q())\n",
    "xd_middle = XDomainFEGridAxiSym(integ_factor = 2 * np.pi,\n",
    "                               coord_min=(0+n_notch*d_x, R_in),\n",
    "                               coord_max=(L_x-n_notch*d_x, R_in+dR),\n",
    "                               shape=(n_x_e-2*n_notch, 1),\n",
    "                               fets=FETS2D4Q())\n",
    "xd_outer = XDomainFEGridAxiSym(integ_factor = 2 * np.pi,\n",
    "                               coord_min=(0, R_in+dR),\n",
    "                               coord_max=(L_x, R_out),\n",
    "                               shape=(n_x_e, n_outer_y_e),\n",
    "                               fets=FETS2D4Q())\n",
    "m_elastic = MATS3DElastic(E=37000, nu=0.18)\n",
    "material_params =  dict(\n",
    "     E_T=1, gamma_T=500, K_T=0, S_T=0.5, c_T=6, bartau=3, \n",
    "     E_N=1, S_N=0.5, c_N = 3, m = 0.05, f_t=2, f_c=60, f_c0 = 40, eta=0.)\n",
    "bond_m = Slide34(**material_params)\n",
    "m_inelastic = MATS3DSlideStrain(slide_displ=bond_m)\n",
    "m = TStepBC(\n",
    "    domains=[(xd_inner, m_elastic),\n",
    "             (xd_outer, m_elastic),\n",
    "             (xd_middle, m_inelastic),\n",
    "             ]\n",
    ")"
   ]
  },
  {
   "cell_type": "markdown",
   "id": "63b627b3-6b28-40b0-8466-c33770c76013",
   "metadata": {},
   "source": [
    "## Boundary and transition conditions"
   ]
  },
  {
   "cell_type": "markdown",
   "id": "2dfe8e22-8d81-4c97-837a-aed277cf5e5d",
   "metadata": {},
   "source": [
    "### Kinematic links between the domains"
   ]
  },
  {
   "cell_type": "code",
   "execution_count": 3,
   "id": "9893c53f-cc19-4e72-bc6c-5419650e7b9f",
   "metadata": {},
   "outputs": [],
   "source": [
    "link_inner_middle = BCSliceI(var='u', dims=[0, 1],\n",
    "                             slice=xd_inner.mesh.I[n_notch:-n_notch, -1], \n",
    "                             link_slice=xd_middle.mesh.I[:, 0],\n",
    "                             link_coeffs=[1.0, 1.0],\n",
    "                             link_dims=[0, 1],\n",
    "                             value=0.0\n",
    "                            )\n",
    "link_middle_outer = BCSliceI(slice=xd_outer.mesh.I[n_notch:-n_notch, 0], \n",
    "                             var='u', dims=[0, 1],\n",
    "                             link_slice=xd_middle.mesh.I[:, -1],\n",
    "                             link_coeffs=[1, 1],\n",
    "                             link_dims=[0, 1],\n",
    "                             value=0,\n",
    "                            )"
   ]
  },
  {
   "cell_type": "markdown",
   "id": "f580db57-0a0d-4227-9a00-468229b31c2d",
   "metadata": {},
   "source": [
    "### Compression/Traction fc"
   ]
  },
  {
   "cell_type": "code",
   "execution_count": 4,
   "id": "f0d09f63-e4b5-4298-8805-8651450e8dc4",
   "metadata": {
    "tags": []
   },
   "outputs": [],
   "source": [
    "inner_fixed_1 = BCSliceI(slice=xd_inner.mesh.I[:, 0], var='u', dims=[1], value=0)\n",
    "outer_fixed_0 = BCSliceI(slice=xd_outer.mesh.I[0, :], var='u', dims=[0], value=0)\n",
    "\n",
    "outer_compression_slice = BCSliceI(slice=xd_outer.mesh.I[:, -1],\n",
    "                                   var='u', dims=[1], value=0.01)\n",
    "\n",
    "compression_dofs = outer_compression_slice.dofs\n",
    "compression = -10000*L_x / len(compression_dofs)\n",
    "outer_compression_force_first = [BCDof(var='f', dof=dof, value=compression) \n",
    "                                 for dof in compression_dofs ]\n",
    "outer_compression_force_first[0].value *=0.5\n",
    "outer_compression_force_first[-1].value *=0.5\n",
    "bc1 = [inner_fixed_1, \n",
    "#       outer_fixed_0,\n",
    "       link_inner_middle,\n",
    "       link_middle_outer\n",
    "      ] + outer_compression_force_first"
   ]
  },
  {
   "cell_type": "markdown",
   "id": "6aaae478-839b-47c4-8241-be7d504d2f37",
   "metadata": {},
   "source": [
    "### Sliding dc"
   ]
  },
  {
   "cell_type": "code",
   "execution_count": 5,
   "id": "2a0d918a-d7a2-4571-a6e3-b2164da9cbf1",
   "metadata": {
    "tags": []
   },
   "outputs": [],
   "source": [
    "#lower_fixed_0 = BCSlice(slice=xd_lower.mesh[:, 0, :, 0], var='u', dims=[1], value=0)\n",
    "#upper_fixed_1 = BCSlice(slice=xd_upper.mesh[0, :, 0, :], var='u', dims=[0], value=0)\n",
    "#\n",
    "#lower_slide = BCSlice(slice=xd_lower.mesh[0, :, 0, :], var='u', dims=[0], value=6)\n",
    "#\n",
    "#\n",
    "#bc1 =   [lower_fixed_0, upper_fixed_1, lower_slide]"
   ]
  },
  {
   "cell_type": "markdown",
   "id": "832e973d-6d20-4c5b-bf64-5cef7aee05b6",
   "metadata": {},
   "source": [
    "### Sliding fc"
   ]
  },
  {
   "cell_type": "code",
   "execution_count": 6,
   "id": "ce0bf989-b4f8-4848-aa1b-6e7efda1b62a",
   "metadata": {
    "tags": []
   },
   "outputs": [],
   "source": [
    "#lower_fixed_0 = BCSlice(slice=xd_lower.mesh[:, 0, :, 0], var='u', dims=[1], value=0)\n",
    "#upper_fixed_1 = BCSlice(slice=xd_upper.mesh[0, :, 0, :], var='u', dims=[0], value=0)\n",
    "#\n",
    "#\n",
    "#\n",
    "#lower_slide = BCSlice(slice=xd_lower.mesh[0, :, 0, :], var='u', dims=[0], value=0)\n",
    "#Force = 10 / len(lower_slide.dofs)\n",
    "#lower_slide_force = [BCDof(var='f', dof=dof, value = Force) \n",
    "#             for dof in lower_slide.dofs]\n",
    "#\n",
    "#bc1 =   [lower_fixed_0, upper_fixed_1] + lower_slide_force"
   ]
  },
  {
   "cell_type": "code",
   "execution_count": 7,
   "id": "b245b2fd-b006-4f23-a254-dec34981423a",
   "metadata": {
    "tags": []
   },
   "outputs": [
    {
     "data": {
      "text/plain": [
       "[<ibvpy.sim.domain_state.DomainState at 0x7fd55f869f90>,\n",
       " <ibvpy.sim.domain_state.DomainState at 0x7fd55f870b30>,\n",
       " <ibvpy.sim.domain_state.DomainState at 0x7fd55f870ae0>]"
      ]
     },
     "execution_count": 7,
     "metadata": {},
     "output_type": "execute_result"
    }
   ],
   "source": [
    "m.bc=bc1\n",
    "m.hist.vis_record = {\n",
    "#    'strain': Vis3DTensorField(var='eps_ab'),\n",
    "    'stress': Vis3DTensorField(var='sig_ab'),\n",
    "    #        'kinematic hardening': Vis3DStateField(var='z_a')\n",
    "}\n",
    "\n",
    "s = m.sim\n",
    "s.tloop.verbose = True\n",
    "s.tloop.k_max = 1000\n",
    "s.tline.step = 0.1\n",
    "# Accessing the following property - ensures serialization\n",
    "s.tstep.fe_domain.serialized_subdomains"
   ]
  },
  {
   "cell_type": "code",
   "execution_count": 8,
   "id": "1c314099-6adc-4129-ac74-41272fd49393",
   "metadata": {
    "scrolled": true
   },
   "outputs": [
    {
     "name": "stdout",
     "output_type": "stream",
     "text": [
      "t:\t 0.00"
     ]
    },
    {
     "ename": "ValueError",
     "evalue": "all the input arrays must have same number of dimensions, but the array at index 0 has 2 dimension(s) and the array at index 1 has 3 dimension(s)",
     "output_type": "error",
     "traceback": [
      "\u001b[0;31m---------------------------------------------------------------------------\u001b[0m",
      "\u001b[0;31mValueError\u001b[0m                                Traceback (most recent call last)",
      "\u001b[0;32m<ipython-input-8-370febf66049>\u001b[0m in \u001b[0;36m<module>\u001b[0;34m\u001b[0m\n\u001b[1;32m      1\u001b[0m \u001b[0ms\u001b[0m\u001b[0;34m.\u001b[0m\u001b[0mreset\u001b[0m\u001b[0;34m(\u001b[0m\u001b[0;34m)\u001b[0m\u001b[0;34m\u001b[0m\u001b[0;34m\u001b[0m\u001b[0m\n\u001b[0;32m----> 2\u001b[0;31m \u001b[0ms\u001b[0m\u001b[0;34m.\u001b[0m\u001b[0mrun\u001b[0m\u001b[0;34m(\u001b[0m\u001b[0;34m)\u001b[0m\u001b[0;34m\u001b[0m\u001b[0;34m\u001b[0m\u001b[0m\n\u001b[0m",
      "\u001b[0;32m~/PycharmProjects/bmcs_ibvpy/ibvpy/sim/sim_base.py\u001b[0m in \u001b[0;36mrun\u001b[0;34m(self)\u001b[0m\n\u001b[1;32m     57\u001b[0m         r'''Run a thread if it does not exist - do nothing otherwise\n\u001b[1;32m     58\u001b[0m         '''\n\u001b[0;32m---> 59\u001b[0;31m         \u001b[0mself\u001b[0m\u001b[0;34m.\u001b[0m\u001b[0mtloop\u001b[0m\u001b[0;34m(\u001b[0m\u001b[0;34m)\u001b[0m\u001b[0;34m\u001b[0m\u001b[0;34m\u001b[0m\u001b[0m\n\u001b[0m\u001b[1;32m     60\u001b[0m         \u001b[0;32mreturn\u001b[0m\u001b[0;34m\u001b[0m\u001b[0;34m\u001b[0m\u001b[0m\n\u001b[1;32m     61\u001b[0m \u001b[0;34m\u001b[0m\u001b[0m\n",
      "\u001b[0;32m~/PycharmProjects/bmcs_ibvpy/ibvpy/sim/tloop.py\u001b[0m in \u001b[0;36m__call__\u001b[0;34m(self)\u001b[0m\n\u001b[1;32m     63\u001b[0m     \u001b[0;32mdef\u001b[0m \u001b[0m__call__\u001b[0m\u001b[0;34m(\u001b[0m\u001b[0mself\u001b[0m\u001b[0;34m)\u001b[0m\u001b[0;34m:\u001b[0m\u001b[0;34m\u001b[0m\u001b[0;34m\u001b[0m\u001b[0m\n\u001b[1;32m     64\u001b[0m         \u001b[0mself\u001b[0m\u001b[0;34m.\u001b[0m\u001b[0minit\u001b[0m\u001b[0;34m(\u001b[0m\u001b[0;34m)\u001b[0m\u001b[0;34m\u001b[0m\u001b[0;34m\u001b[0m\u001b[0m\n\u001b[0;32m---> 65\u001b[0;31m         \u001b[0;32mreturn\u001b[0m \u001b[0mself\u001b[0m\u001b[0;34m.\u001b[0m\u001b[0meval\u001b[0m\u001b[0;34m(\u001b[0m\u001b[0;34m)\u001b[0m\u001b[0;34m\u001b[0m\u001b[0;34m\u001b[0m\u001b[0m\n\u001b[0m",
      "\u001b[0;32m~/PycharmProjects/bmcs_ibvpy/ibvpy/sim/tloop_implicit.py\u001b[0m in \u001b[0;36meval\u001b[0;34m(self)\u001b[0m\n\u001b[1;32m     36\u001b[0m             \u001b[0;31m# run the iteration loop\u001b[0m\u001b[0;34m\u001b[0m\u001b[0;34m\u001b[0m\u001b[0;34m\u001b[0m\u001b[0m\n\u001b[1;32m     37\u001b[0m             \u001b[0;32mwhile\u001b[0m \u001b[0;34m(\u001b[0m\u001b[0mk\u001b[0m \u001b[0;34m<\u001b[0m \u001b[0mself\u001b[0m\u001b[0;34m.\u001b[0m\u001b[0mk_max\u001b[0m\u001b[0;34m)\u001b[0m \u001b[0;32mand\u001b[0m \u001b[0;32mnot\u001b[0m \u001b[0mself\u001b[0m\u001b[0;34m.\u001b[0m\u001b[0muser_wants_abort\u001b[0m\u001b[0;34m:\u001b[0m\u001b[0;34m\u001b[0m\u001b[0;34m\u001b[0m\u001b[0m\n\u001b[0;32m---> 38\u001b[0;31m                 \u001b[0;32mif\u001b[0m \u001b[0mself\u001b[0m\u001b[0;34m.\u001b[0m\u001b[0mtstep\u001b[0m\u001b[0;34m.\u001b[0m\u001b[0mR_norm\u001b[0m \u001b[0;34m<\u001b[0m \u001b[0mself\u001b[0m\u001b[0;34m.\u001b[0m\u001b[0macc\u001b[0m\u001b[0;34m:\u001b[0m\u001b[0;34m\u001b[0m\u001b[0;34m\u001b[0m\u001b[0m\n\u001b[0m\u001b[1;32m     39\u001b[0m                     \u001b[0;32mif\u001b[0m \u001b[0mself\u001b[0m\u001b[0;34m.\u001b[0m\u001b[0mverbose\u001b[0m\u001b[0;34m:\u001b[0m\u001b[0;34m\u001b[0m\u001b[0;34m\u001b[0m\u001b[0m\n\u001b[1;32m     40\u001b[0m                         \u001b[0mprint\u001b[0m\u001b[0;34m(\u001b[0m\u001b[0;34m'(%g), '\u001b[0m \u001b[0;34m%\u001b[0m \u001b[0mk\u001b[0m\u001b[0;34m,\u001b[0m \u001b[0mend\u001b[0m\u001b[0;34m=\u001b[0m\u001b[0;34m'\\n'\u001b[0m\u001b[0;34m)\u001b[0m\u001b[0;34m\u001b[0m\u001b[0;34m\u001b[0m\u001b[0m\n",
      "\u001b[0;32m~/PycharmProjects/bmcs_ibvpy/ibvpy/sim/tstep_bc.py\u001b[0m in \u001b[0;36m_get_R_norm\u001b[0;34m(self)\u001b[0m\n\u001b[1;32m    172\u001b[0m \u001b[0;34m\u001b[0m\u001b[0m\n\u001b[1;32m    173\u001b[0m     \u001b[0;32mdef\u001b[0m \u001b[0m_get_R_norm\u001b[0m\u001b[0;34m(\u001b[0m\u001b[0mself\u001b[0m\u001b[0;34m)\u001b[0m\u001b[0;34m:\u001b[0m\u001b[0;34m\u001b[0m\u001b[0;34m\u001b[0m\u001b[0m\n\u001b[0;32m--> 174\u001b[0;31m         \u001b[0mR\u001b[0m \u001b[0;34m=\u001b[0m \u001b[0mself\u001b[0m\u001b[0;34m.\u001b[0m\u001b[0mR\u001b[0m\u001b[0;34m\u001b[0m\u001b[0;34m\u001b[0m\u001b[0m\n\u001b[0m\u001b[1;32m    175\u001b[0m         \u001b[0;32mreturn\u001b[0m \u001b[0mnp\u001b[0m\u001b[0;34m.\u001b[0m\u001b[0msqrt\u001b[0m\u001b[0;34m(\u001b[0m\u001b[0mnp\u001b[0m\u001b[0;34m.\u001b[0m\u001b[0meinsum\u001b[0m\u001b[0;34m(\u001b[0m\u001b[0;34m'...i,...i'\u001b[0m\u001b[0;34m,\u001b[0m \u001b[0mR\u001b[0m\u001b[0;34m,\u001b[0m \u001b[0mR\u001b[0m\u001b[0;34m)\u001b[0m\u001b[0;34m)\u001b[0m\u001b[0;34m\u001b[0m\u001b[0;34m\u001b[0m\u001b[0m\n\u001b[1;32m    176\u001b[0m \u001b[0;34m\u001b[0m\u001b[0m\n",
      "\u001b[0;32m~/PycharmProjects/bmcs_ibvpy/ibvpy/sim/tstep_bc.py\u001b[0m in \u001b[0;36m_get_R\u001b[0;34m(self)\u001b[0m\n\u001b[1;32m    178\u001b[0m \u001b[0;34m\u001b[0m\u001b[0m\n\u001b[1;32m    179\u001b[0m     \u001b[0;32mdef\u001b[0m \u001b[0m_get_R\u001b[0m\u001b[0;34m(\u001b[0m\u001b[0mself\u001b[0m\u001b[0;34m)\u001b[0m\u001b[0;34m:\u001b[0m\u001b[0;34m\u001b[0m\u001b[0;34m\u001b[0m\u001b[0m\n\u001b[0;32m--> 180\u001b[0;31m         \u001b[0mR\u001b[0m\u001b[0;34m,\u001b[0m \u001b[0m_\u001b[0m\u001b[0;34m,\u001b[0m \u001b[0m_\u001b[0m \u001b[0;34m=\u001b[0m \u001b[0mself\u001b[0m\u001b[0;34m.\u001b[0m\u001b[0mcorr_pred\u001b[0m\u001b[0;34m\u001b[0m\u001b[0;34m\u001b[0m\u001b[0m\n\u001b[0m\u001b[1;32m    181\u001b[0m         \u001b[0;32mreturn\u001b[0m \u001b[0mR\u001b[0m\u001b[0;34m.\u001b[0m\u001b[0mflatten\u001b[0m\u001b[0;34m(\u001b[0m\u001b[0;34m)\u001b[0m\u001b[0;34m\u001b[0m\u001b[0;34m\u001b[0m\u001b[0m\n\u001b[1;32m    182\u001b[0m \u001b[0;34m\u001b[0m\u001b[0m\n",
      "\u001b[0;32m~/miniconda3/envs/bmcs_env/lib/python3.8/site-packages/traits/has_traits.py\u001b[0m in \u001b[0;36mdecorator\u001b[0;34m(self)\u001b[0m\n\u001b[1;32m    925\u001b[0m         \u001b[0mresult\u001b[0m \u001b[0;34m=\u001b[0m \u001b[0mself\u001b[0m\u001b[0;34m.\u001b[0m\u001b[0m__dict__\u001b[0m\u001b[0;34m.\u001b[0m\u001b[0mget\u001b[0m\u001b[0;34m(\u001b[0m\u001b[0mname\u001b[0m\u001b[0;34m,\u001b[0m \u001b[0mUndefined\u001b[0m\u001b[0;34m)\u001b[0m\u001b[0;34m\u001b[0m\u001b[0;34m\u001b[0m\u001b[0m\n\u001b[1;32m    926\u001b[0m         \u001b[0;32mif\u001b[0m \u001b[0mresult\u001b[0m \u001b[0;32mis\u001b[0m \u001b[0mUndefined\u001b[0m\u001b[0;34m:\u001b[0m\u001b[0;34m\u001b[0m\u001b[0;34m\u001b[0m\u001b[0m\n\u001b[0;32m--> 927\u001b[0;31m             \u001b[0mself\u001b[0m\u001b[0;34m.\u001b[0m\u001b[0m__dict__\u001b[0m\u001b[0;34m[\u001b[0m\u001b[0mname\u001b[0m\u001b[0;34m]\u001b[0m \u001b[0;34m=\u001b[0m \u001b[0mresult\u001b[0m \u001b[0;34m=\u001b[0m \u001b[0mfunction\u001b[0m\u001b[0;34m(\u001b[0m\u001b[0mself\u001b[0m\u001b[0;34m)\u001b[0m\u001b[0;34m\u001b[0m\u001b[0;34m\u001b[0m\u001b[0m\n\u001b[0m\u001b[1;32m    928\u001b[0m \u001b[0;34m\u001b[0m\u001b[0m\n\u001b[1;32m    929\u001b[0m         \u001b[0;32mreturn\u001b[0m \u001b[0mresult\u001b[0m\u001b[0;34m\u001b[0m\u001b[0;34m\u001b[0m\u001b[0m\n",
      "\u001b[0;32m~/PycharmProjects/bmcs_ibvpy/ibvpy/sim/tstep_bc.py\u001b[0m in \u001b[0;36m_get_corr_pred\u001b[0;34m(self)\u001b[0m\n\u001b[1;32m    123\u001b[0m         \u001b[0mself\u001b[0m\u001b[0;34m.\u001b[0m\u001b[0mK\u001b[0m\u001b[0;34m.\u001b[0m\u001b[0mreset_mtx\u001b[0m\u001b[0;34m(\u001b[0m\u001b[0;34m)\u001b[0m\u001b[0;34m\u001b[0m\u001b[0;34m\u001b[0m\u001b[0m\n\u001b[1;32m    124\u001b[0m         f_Eis, K_ks, dof_Es = np.array(\n\u001b[0;32m--> 125\u001b[0;31m             [s.get_corr_pred(self.U_k, self.t_n, self.t_n1)\n\u001b[0m\u001b[1;32m    126\u001b[0m              for s in self.fe_domain],\n\u001b[1;32m    127\u001b[0m         dtype=object).T\n",
      "\u001b[0;32m~/PycharmProjects/bmcs_ibvpy/ibvpy/sim/tstep_bc.py\u001b[0m in \u001b[0;36m<listcomp>\u001b[0;34m(.0)\u001b[0m\n\u001b[1;32m    123\u001b[0m         \u001b[0mself\u001b[0m\u001b[0;34m.\u001b[0m\u001b[0mK\u001b[0m\u001b[0;34m.\u001b[0m\u001b[0mreset_mtx\u001b[0m\u001b[0;34m(\u001b[0m\u001b[0;34m)\u001b[0m\u001b[0;34m\u001b[0m\u001b[0;34m\u001b[0m\u001b[0m\n\u001b[1;32m    124\u001b[0m         f_Eis, K_ks, dof_Es = np.array(\n\u001b[0;32m--> 125\u001b[0;31m             [s.get_corr_pred(self.U_k, self.t_n, self.t_n1)\n\u001b[0m\u001b[1;32m    126\u001b[0m              for s in self.fe_domain],\n\u001b[1;32m    127\u001b[0m         dtype=object).T\n",
      "\u001b[0;32m~/PycharmProjects/bmcs_ibvpy/ibvpy/sim/domain_state.py\u001b[0m in \u001b[0;36mget_corr_pred\u001b[0;34m(self, U_k, t_n, t_n1)\u001b[0m\n\u001b[1;32m     52\u001b[0m         \u001b[0mU_k_field\u001b[0m \u001b[0;34m=\u001b[0m \u001b[0mself\u001b[0m\u001b[0;34m.\u001b[0m\u001b[0mxmodel\u001b[0m\u001b[0;34m.\u001b[0m\u001b[0mmap_U_to_field\u001b[0m\u001b[0;34m(\u001b[0m\u001b[0mU_k\u001b[0m\u001b[0;34m)\u001b[0m\u001b[0;34m\u001b[0m\u001b[0;34m\u001b[0m\u001b[0m\n\u001b[1;32m     53\u001b[0m         \u001b[0mself\u001b[0m\u001b[0;34m.\u001b[0m\u001b[0mstate_k\u001b[0m \u001b[0;34m=\u001b[0m \u001b[0mcopy\u001b[0m\u001b[0;34m.\u001b[0m\u001b[0mdeepcopy\u001b[0m\u001b[0;34m(\u001b[0m\u001b[0mself\u001b[0m\u001b[0;34m.\u001b[0m\u001b[0mstate_n\u001b[0m\u001b[0;34m)\u001b[0m \u001b[0;31m# todo: optimize memory management.\u001b[0m\u001b[0;34m\u001b[0m\u001b[0;34m\u001b[0m\u001b[0m\n\u001b[0;32m---> 54\u001b[0;31m         sig_k, D_k = self.tmodel.get_corr_pred(\n\u001b[0m\u001b[1;32m     55\u001b[0m             \u001b[0mU_k_field\u001b[0m\u001b[0;34m,\u001b[0m \u001b[0mt_n1\u001b[0m\u001b[0;34m,\u001b[0m \u001b[0;34m**\u001b[0m\u001b[0mself\u001b[0m\u001b[0;34m.\u001b[0m\u001b[0mstate_k\u001b[0m\u001b[0;34m\u001b[0m\u001b[0;34m\u001b[0m\u001b[0m\n\u001b[1;32m     56\u001b[0m         )\n",
      "\u001b[0;32m~/PycharmProjects/bmcs_matmod/bmcs_matmod/slide/vslide_34_ij.py\u001b[0m in \u001b[0;36mget_corr_pred\u001b[0;34m(self, eps_Emab_n1, tn1, **state)\u001b[0m\n\u001b[1;32m     72\u001b[0m \u001b[0;34m\u001b[0m\u001b[0m\n\u001b[1;32m     73\u001b[0m         \u001b[0mse\u001b[0m \u001b[0;34m=\u001b[0m \u001b[0mself\u001b[0m\u001b[0;34m.\u001b[0m\u001b[0mslide_displ\u001b[0m\u001b[0;34m\u001b[0m\u001b[0;34m\u001b[0m\u001b[0m\n\u001b[0;32m---> 74\u001b[0;31m         \u001b[0meps_NT_Ema\u001b[0m \u001b[0;34m=\u001b[0m \u001b[0mnp\u001b[0m\u001b[0;34m.\u001b[0m\u001b[0mconcatenate\u001b[0m\u001b[0;34m(\u001b[0m\u001b[0;34m[\u001b[0m\u001b[0meps_N\u001b[0m\u001b[0;34m,\u001b[0m \u001b[0meps_T\u001b[0m\u001b[0;34m]\u001b[0m\u001b[0;34m,\u001b[0m \u001b[0maxis\u001b[0m\u001b[0;34m=\u001b[0m\u001b[0;34m-\u001b[0m\u001b[0;36m1\u001b[0m\u001b[0;34m)\u001b[0m\u001b[0;34m\u001b[0m\u001b[0;34m\u001b[0m\u001b[0m\n\u001b[0m\u001b[1;32m     75\u001b[0m         \u001b[0msig_NT_Ema\u001b[0m\u001b[0;34m,\u001b[0m \u001b[0mD_Emab\u001b[0m \u001b[0;34m=\u001b[0m \u001b[0mse\u001b[0m\u001b[0;34m.\u001b[0m\u001b[0mget_corr_pred\u001b[0m\u001b[0;34m(\u001b[0m\u001b[0meps_NT_Ema\u001b[0m\u001b[0;34m,\u001b[0m \u001b[0mtn1\u001b[0m\u001b[0;34m,\u001b[0m \u001b[0;34m**\u001b[0m\u001b[0mstate\u001b[0m\u001b[0;34m)\u001b[0m\u001b[0;34m\u001b[0m\u001b[0;34m\u001b[0m\u001b[0m\n\u001b[1;32m     76\u001b[0m \u001b[0;34m\u001b[0m\u001b[0m\n",
      "\u001b[0;32m<__array_function__ internals>\u001b[0m in \u001b[0;36mconcatenate\u001b[0;34m(*args, **kwargs)\u001b[0m\n",
      "\u001b[0;31mValueError\u001b[0m: all the input arrays must have same number of dimensions, but the array at index 0 has 2 dimension(s) and the array at index 1 has 3 dimension(s)"
     ]
    }
   ],
   "source": [
    "s.reset()\n",
    "s.run()"
   ]
  },
  {
   "cell_type": "markdown",
   "id": "de3a1a04-59ab-44eb-be0c-b07105123ba4",
   "metadata": {},
   "source": [
    "## Postprocesing"
   ]
  },
  {
   "cell_type": "markdown",
   "id": "9ebdb24a-61a6-44ce-80b2-55bdc6b9d434",
   "metadata": {},
   "source": [
    "### Access the last displacement step"
   ]
  },
  {
   "cell_type": "code",
   "execution_count": 62,
   "id": "a3042021-3099-47b2-ab2d-3d70b59476da",
   "metadata": {},
   "outputs": [],
   "source": [
    "U_last = m.hist.U_t[-1]"
   ]
  },
  {
   "cell_type": "code",
   "execution_count": 63,
   "id": "070d4bb4-774a-486e-a03d-cb0cb8bbd9f7",
   "metadata": {},
   "outputs": [
    {
     "data": {
      "text/plain": [
       "(array([[-1.09606153e-02, -1.68541575e-02],\n",
       "        [-1.13161723e-02, -3.65336555e-02],\n",
       "        [-9.49107992e-03, -2.05594421e-02],\n",
       "        [-1.07469740e-02, -2.98337601e-02],\n",
       "        [-8.90442279e-03, -1.97726155e-02],\n",
       "        [-1.05895966e-02, -2.69007319e-02],\n",
       "        [-8.37629507e-03, -1.85918671e-02],\n",
       "        [-1.01037060e-02, -2.49618675e-02],\n",
       "        [-7.77192498e-03, -1.75356618e-02],\n",
       "        [-9.32190626e-03, -2.37190153e-02],\n",
       "        [-7.06248776e-03, -1.67540370e-02],\n",
       "        [-8.30010274e-03, -2.29528120e-02],\n",
       "        [-6.25541331e-03, -1.62415953e-02],\n",
       "        [-7.10747116e-03, -2.25104855e-02],\n",
       "        [-5.37646084e-03, -1.59581247e-02],\n",
       "        [-5.80869592e-03, -2.22853621e-02],\n",
       "        [-4.45992745e-03, -1.58680702e-02],\n",
       "        [-4.45992745e-03, -2.22168317e-02],\n",
       "        [-3.54339405e-03, -1.59581247e-02],\n",
       "        [-3.11115898e-03, -2.22853621e-02],\n",
       "        [-2.66444159e-03, -1.62415953e-02],\n",
       "        [-1.81238373e-03, -2.25104855e-02],\n",
       "        [-1.85736713e-03, -1.67540370e-02],\n",
       "        [-6.19752156e-04, -2.29528120e-02],\n",
       "        [-1.14792991e-03, -1.75356618e-02],\n",
       "        [ 4.02051368e-04, -2.37190153e-02],\n",
       "        [-5.43559825e-04, -1.85918671e-02],\n",
       "        [ 1.18385114e-03, -2.49618675e-02],\n",
       "        [-1.54321013e-05, -1.97726155e-02],\n",
       "        [ 1.66974169e-03, -2.69007319e-02],\n",
       "        [ 5.71225027e-04, -2.05594421e-02],\n",
       "        [ 1.82711913e-03, -2.98337601e-02],\n",
       "        [ 2.04076042e-03, -1.68541575e-02],\n",
       "        [ 2.39631739e-03, -3.65336555e-02]]),\n",
       " array([[-2.11066858e-02,  0.00000000e+00],\n",
       "        [-2.10444504e-02, -5.37412090e-04],\n",
       "        [-2.08937361e-02, -1.03941594e-03],\n",
       "        [-2.06295035e-02, -1.46981021e-03],\n",
       "        [-2.02187355e-02, -1.78929115e-03],\n",
       "        [-1.96083417e-02, -1.95574207e-03],\n",
       "        [-1.87149560e-02, -1.92883695e-03],\n",
       "        [-1.74127443e-02, -1.68504238e-03],\n",
       "        [-1.55295994e-02, -1.25602367e-03],\n",
       "        [-1.28978093e-02, -8.11082350e-04],\n",
       "        [-1.04658149e-02, -8.80245227e-04],\n",
       "        [-2.03462803e-02,  0.00000000e+00],\n",
       "        [-2.02903490e-02, -8.86880514e-04],\n",
       "        [-2.01543334e-02, -1.76412233e-03],\n",
       "        [-1.99157607e-02, -2.62543498e-03],\n",
       "        [-1.95459888e-02, -3.46359033e-03],\n",
       "        [-1.90006627e-02, -4.27043927e-03],\n",
       "        [-1.82139242e-02, -5.03262928e-03],\n",
       "        [-1.70933171e-02, -5.71864433e-03],\n",
       "        [-1.55187678e-02, -6.24589573e-03],\n",
       "        [-1.33550779e-02, -6.41318982e-03],\n",
       "        [-9.77407543e-03, -5.85608941e-03],\n",
       "        [-1.88654027e-02,  0.00000000e+00],\n",
       "        [-1.88027436e-02, -1.35665878e-03],\n",
       "        [-1.86514499e-02, -2.72840003e-03],\n",
       "        [-1.83907424e-02, -4.12789810e-03],\n",
       "        [-1.79989541e-02, -5.57090500e-03],\n",
       "        [-1.74466320e-02, -7.07569514e-03],\n",
       "        [-1.66970859e-02, -8.66382011e-03],\n",
       "        [-1.57094458e-02, -1.03632239e-02],\n",
       "        [-1.44409750e-02, -1.22206054e-02],\n",
       "        [-1.28103334e-02, -1.43375191e-02],\n",
       "        [-1.09606153e-02, -1.68541575e-02],\n",
       "        [-1.66567807e-02,  0.00000000e+00],\n",
       "        [-1.65828485e-02, -1.72901439e-03],\n",
       "        [-1.64072509e-02, -3.47879558e-03],\n",
       "        [-1.61119718e-02, -5.26635515e-03],\n",
       "        [-1.56827171e-02, -7.11082170e-03],\n",
       "        [-1.51025792e-02, -9.03264498e-03],\n",
       "        [-1.43532597e-02, -1.10540560e-02],\n",
       "        [-1.34175644e-02, -1.31996509e-02],\n",
       "        [-1.22830929e-02, -1.54945600e-02],\n",
       "        [-1.09771039e-02, -1.79477056e-02],\n",
       "        [-9.49107992e-03, -2.05594421e-02],\n",
       "        [-1.41053922e-02,  0.00000000e+00],\n",
       "        [-1.40289024e-02, -1.91247574e-03],\n",
       "        [-1.38494860e-02, -3.83692891e-03],\n",
       "        [-1.35542220e-02, -5.78240182e-03],\n",
       "        [-1.31380575e-02, -7.75673741e-03],\n",
       "        [-1.25981575e-02, -9.76451271e-03],\n",
       "        [-1.19366876e-02, -1.18046343e-02],\n",
       "        [-1.11670820e-02, -1.38662041e-02],\n",
       "        [-1.03278981e-02, -1.59216849e-02],\n",
       "        [-9.49808316e-03, -1.79220545e-02],\n",
       "        [-8.90442279e-03, -1.97726155e-02],\n",
       "        [-1.16462777e-02,  0.00000000e+00],\n",
       "        [-1.15799311e-02, -1.93373482e-03],\n",
       "        [-1.14261310e-02, -3.86782527e-03],\n",
       "        [-1.11785485e-02, -5.80197581e-03],\n",
       "        [-1.08411668e-02, -7.73325413e-03],\n",
       "        [-1.04238945e-02, -9.65497056e-03],\n",
       "        [-9.94553756e-03, -1.15553993e-02],\n",
       "        [-9.43894765e-03, -1.34170787e-02],\n",
       "        [-8.95676892e-03, -1.52184676e-02],\n",
       "        [-8.58031840e-03, -1.69393594e-02],\n",
       "        [-8.37629507e-03, -1.85918671e-02],\n",
       "        [-9.54380480e-03,  0.00000000e+00],\n",
       "        [-9.49525295e-03, -1.86676657e-03],\n",
       "        [-9.38398295e-03, -3.72698823e-03],\n",
       "        [-9.20887541e-03, -5.57549288e-03],\n",
       "        [-8.97860245e-03, -7.40523882e-03],\n",
       "        [-8.70803174e-03, -9.20768682e-03],\n",
       "        [-8.41931226e-03, -1.09731576e-02],\n",
       "        [-8.14285776e-03, -1.26921677e-02],\n",
       "        [-7.91690844e-03, -1.43580610e-02],\n",
       "        [-7.77978392e-03, -1.59716738e-02],\n",
       "        [-7.77192498e-03, -1.75356618e-02],\n",
       "        [-7.86062590e-03,  0.00000000e+00],\n",
       "        [-7.83014684e-03, -1.77606092e-03],\n",
       "        [-7.76104766e-03, -3.54390310e-03],\n",
       "        [-7.65467255e-03, -5.29754378e-03],\n",
       "        [-7.51961653e-03, -7.03030736e-03],\n",
       "        [-7.36888349e-03, -8.73582891e-03],\n",
       "        [-7.21959100e-03, -1.04087481e-02],\n",
       "        [-7.09226141e-03, -1.20456865e-02],\n",
       "        [-7.00897481e-03, -1.36463252e-02],\n",
       "        [-6.99251716e-03, -1.52132353e-02],\n",
       "        [-7.06248776e-03, -1.67540370e-02],\n",
       "        [-6.53043996e-03,  0.00000000e+00],\n",
       "        [-6.51401458e-03, -1.69857200e-03],\n",
       "        [-6.47713612e-03, -3.38992779e-03],\n",
       "        [-6.42150058e-03, -5.06903712e-03],\n",
       "        [-6.35318247e-03, -6.73089159e-03],\n",
       "        [-6.28078610e-03, -8.37147815e-03],\n",
       "        [-6.21491563e-03, -9.98828169e-03],\n",
       "        [-6.16748139e-03, -1.15807433e-02],\n",
       "        [-6.15096027e-03, -1.31505308e-02],\n",
       "        [-6.17699694e-03, -1.47019886e-02],\n",
       "        [-6.25541331e-03, -1.62415953e-02],\n",
       "        [-5.43732849e-03,  0.00000000e+00],\n",
       "        [-5.43045675e-03, -1.64945837e-03],\n",
       "        [-5.41514288e-03, -3.29308093e-03],\n",
       "        [-5.39240699e-03, -4.92689283e-03],\n",
       "        [-5.36525262e-03, -6.54723016e-03],\n",
       "        [-5.33780622e-03, -8.15154627e-03],\n",
       "        [-5.31501559e-03, -9.73877020e-03],\n",
       "        [-5.30231691e-03, -1.13095641e-02],\n",
       "        [-5.30515753e-03, -1.28665035e-02],\n",
       "        [-5.32854621e-03, -1.44139822e-02],\n",
       "        [-5.37646084e-03, -1.59581247e-02],\n",
       "        [-4.45992745e-03,  0.00000000e+00],\n",
       "        [-4.45992745e-03, -1.63289293e-03],\n",
       "        [-4.45992745e-03, -3.26052014e-03],\n",
       "        [-4.45992745e-03, -4.87932193e-03],\n",
       "        [-4.45992745e-03, -6.48611966e-03],\n",
       "        [-4.45992745e-03, -8.07885158e-03],\n",
       "        [-4.45992745e-03, -9.65689132e-03],\n",
       "        [-4.45992745e-03, -1.12212669e-02],\n",
       "        [-4.45992745e-03, -1.27747258e-02],\n",
       "        [-4.45992745e-03, -1.43217091e-02],\n",
       "        [-4.45992745e-03, -1.58680702e-02],\n",
       "        [-3.48252640e-03,  0.00000000e+00],\n",
       "        [-3.48939814e-03, -1.64945837e-03],\n",
       "        [-3.50471201e-03, -3.29308093e-03],\n",
       "        [-3.52744791e-03, -4.92689283e-03],\n",
       "        [-3.55460227e-03, -6.54723016e-03],\n",
       "        [-3.58204868e-03, -8.15154627e-03],\n",
       "        [-3.60483930e-03, -9.73877020e-03],\n",
       "        [-3.61753798e-03, -1.13095641e-02],\n",
       "        [-3.61469736e-03, -1.28665035e-02],\n",
       "        [-3.59130868e-03, -1.44139822e-02],\n",
       "        [-3.54339405e-03, -1.59581247e-02],\n",
       "        [-2.38941493e-03,  0.00000000e+00],\n",
       "        [-2.40584031e-03, -1.69857200e-03],\n",
       "        [-2.44271878e-03, -3.38992779e-03],\n",
       "        [-2.49835431e-03, -5.06903712e-03],\n",
       "        [-2.56667242e-03, -6.73089159e-03],\n",
       "        [-2.63906879e-03, -8.37147815e-03],\n",
       "        [-2.70493927e-03, -9.98828169e-03],\n",
       "        [-2.75237351e-03, -1.15807433e-02],\n",
       "        [-2.76889463e-03, -1.31505308e-02],\n",
       "        [-2.74285795e-03, -1.47019886e-02],\n",
       "        [-2.66444159e-03, -1.62415953e-02],\n",
       "        [-1.05922899e-03,  0.00000000e+00],\n",
       "        [-1.08970805e-03, -1.77606092e-03],\n",
       "        [-1.15880723e-03, -3.54390310e-03],\n",
       "        [-1.26518235e-03, -5.29754378e-03],\n",
       "        [-1.40023837e-03, -7.03030736e-03],\n",
       "        [-1.55097140e-03, -8.73582891e-03],\n",
       "        [-1.70026389e-03, -1.04087481e-02],\n",
       "        [-1.82759348e-03, -1.20456865e-02],\n",
       "        [-1.91088008e-03, -1.36463252e-02],\n",
       "        [-1.92733773e-03, -1.52132353e-02],\n",
       "        [-1.85736713e-03, -1.67540370e-02],\n",
       "        [ 6.23949903e-04,  0.00000000e+00],\n",
       "        [ 5.75398058e-04, -1.86676657e-03],\n",
       "        [ 4.64128058e-04, -3.72698823e-03],\n",
       "        [ 2.89020515e-04, -5.57549288e-03],\n",
       "        [ 5.87475564e-05, -7.40523882e-03],\n",
       "        [-2.11823149e-04, -9.20768682e-03],\n",
       "        [-5.00542633e-04, -1.09731576e-02],\n",
       "        [-7.76997137e-04, -1.26921677e-02],\n",
       "        [-1.00294645e-03, -1.43580610e-02],\n",
       "        [-1.14007097e-03, -1.59716738e-02],\n",
       "        [-1.14792991e-03, -1.75356618e-02],\n",
       "        [ 2.72642281e-03,  0.00000000e+00],\n",
       "        [ 2.66007617e-03, -1.93373482e-03],\n",
       "        [ 2.50627607e-03, -3.86782527e-03],\n",
       "        [ 2.25869363e-03, -5.80197581e-03],\n",
       "        [ 1.92131191e-03, -7.73325413e-03],\n",
       "        [ 1.50403964e-03, -9.65497056e-03],\n",
       "        [ 1.02568267e-03, -1.15553993e-02],\n",
       "        [ 5.19092754e-04, -1.34170787e-02],\n",
       "        [ 3.69140296e-05, -1.52184676e-02],\n",
       "        [-3.39536497e-04, -1.69393594e-02],\n",
       "        [-5.43559825e-04, -1.85918671e-02],\n",
       "        [ 5.18553732e-03,  0.00000000e+00],\n",
       "        [ 5.10904747e-03, -1.91247574e-03],\n",
       "        [ 4.92963114e-03, -3.83692891e-03],\n",
       "        [ 4.63436712e-03, -5.78240182e-03],\n",
       "        [ 4.21820263e-03, -7.75673741e-03],\n",
       "        [ 3.67830261e-03, -9.76451271e-03],\n",
       "        [ 3.01683271e-03, -1.18046343e-02],\n",
       "        [ 2.24722710e-03, -1.38662041e-02],\n",
       "        [ 1.40804317e-03, -1.59216849e-02],\n",
       "        [ 5.78228272e-04, -1.79220545e-02],\n",
       "        [-1.54321013e-05, -1.97726155e-02],\n",
       "        [ 7.73692584e-03,  0.00000000e+00],\n",
       "        [ 7.66299363e-03, -1.72901439e-03],\n",
       "        [ 7.48739599e-03, -3.47879558e-03],\n",
       "        [ 7.19211692e-03, -5.26635515e-03],\n",
       "        [ 6.76286216e-03, -7.11082170e-03],\n",
       "        [ 6.18272430e-03, -9.03264498e-03],\n",
       "        [ 5.43340476e-03, -1.10540560e-02],\n",
       "        [ 4.49770953e-03, -1.31996509e-02],\n",
       "        [ 3.36323797e-03, -1.54945600e-02],\n",
       "        [ 2.05724898e-03, -1.79477056e-02],\n",
       "        [ 5.71225027e-04, -2.05594421e-02],\n",
       "        [ 9.94554783e-03,  0.00000000e+00],\n",
       "        [ 9.88288874e-03, -1.35665878e-03],\n",
       "        [ 9.73159500e-03, -2.72840003e-03],\n",
       "        [ 9.47088754e-03, -4.12789810e-03],\n",
       "        [ 9.07909917e-03, -5.57090500e-03],\n",
       "        [ 8.52677710e-03, -7.07569514e-03],\n",
       "        [ 7.77723102e-03, -8.66382011e-03],\n",
       "        [ 6.78959095e-03, -1.03632239e-02],\n",
       "        [ 5.52112012e-03, -1.22206054e-02],\n",
       "        [ 3.89047850e-03, -1.43375191e-02],\n",
       "        [ 2.04076042e-03, -1.68541575e-02],\n",
       "        [ 1.14264254e-02,  0.00000000e+00],\n",
       "        [ 1.13704941e-02, -8.86880514e-04],\n",
       "        [ 1.12344785e-02, -1.76412233e-03],\n",
       "        [ 1.09959058e-02, -2.62543498e-03],\n",
       "        [ 1.06261339e-02, -3.46359033e-03],\n",
       "        [ 1.00808078e-02, -4.27043927e-03],\n",
       "        [ 9.29406927e-03, -5.03262928e-03],\n",
       "        [ 8.17346223e-03, -5.71864433e-03],\n",
       "        [ 6.59891293e-03, -6.24589573e-03],\n",
       "        [ 4.43522303e-03, -6.41318982e-03],\n",
       "        [ 8.54220539e-04, -5.85608941e-03],\n",
       "        [ 1.21868309e-02,  0.00000000e+00],\n",
       "        [ 1.21245955e-02, -5.37412090e-04],\n",
       "        [ 1.19738813e-02, -1.03941594e-03],\n",
       "        [ 1.17096486e-02, -1.46981021e-03],\n",
       "        [ 1.12988806e-02, -1.78929115e-03],\n",
       "        [ 1.06884868e-02, -1.95574207e-03],\n",
       "        [ 9.79510109e-03, -1.92883695e-03],\n",
       "        [ 8.49288943e-03, -1.68504238e-03],\n",
       "        [ 6.60974454e-03, -1.25602367e-03],\n",
       "        [ 3.97795444e-03, -8.11082350e-04],\n",
       "        [ 1.54596005e-03, -8.80245227e-04]]))"
      ]
     },
     "execution_count": 63,
     "metadata": {},
     "output_type": "execute_result"
    }
   ],
   "source": [
    "#U_last[xd_middle.o_Ia], U_last[xd_inner.o_Ia]"
   ]
  },
  {
   "cell_type": "code",
   "execution_count": 74,
   "id": "94486a18-89da-4d50-a819-4a855bf32baf",
   "metadata": {},
   "outputs": [],
   "source": [
    "#xd_middle.map_U_to_field(U_last)"
   ]
  },
  {
   "cell_type": "code",
   "execution_count": 65,
   "id": "7ade4a8b-1e71-4aef-8a3d-ad489f711b27",
   "metadata": {},
   "outputs": [],
   "source": [
    "if True:\n",
    "    mlab.options.backend = 'envisage'\n",
    "    mlab.options.offscreen = False # 'envisage'\n",
    "    f_strain = mlab.figure()\n",
    "    scene = mlab.get_engine().scenes[-1]\n",
    "    scene.name = 'stress'\n",
    "    strain_viz = Viz3DTensorField(vis3d=m.hist['stress'])\n",
    "    strain_viz.setup()\n",
    "    strain_viz.warp_vector.filter.scale_factor = 0.1\n",
    "    strain_viz.plot(s.tstep.t_n)\n",
    "    mlab.show()"
   ]
  },
  {
   "cell_type": "code",
   "execution_count": null,
   "id": "bd8162b2-651e-435a-89ba-52887d2ed22e",
   "metadata": {},
   "outputs": [],
   "source": []
  }
 ],
 "metadata": {
  "kernelspec": {
   "display_name": "bmcs_env",
   "language": "python",
   "name": "bmcs_env"
  },
  "language_info": {
   "codemirror_mode": {
    "name": "ipython",
    "version": 3
   },
   "file_extension": ".py",
   "mimetype": "text/x-python",
   "name": "python",
   "nbconvert_exporter": "python",
   "pygments_lexer": "ipython3",
   "version": "3.8.8"
  },
  "toc": {
   "base_numbering": 1,
   "nav_menu": {},
   "number_sections": true,
   "sideBar": true,
   "skip_h1_title": false,
   "title_cell": "Table of Contents",
   "title_sidebar": "Contents",
   "toc_cell": false,
   "toc_position": {},
   "toc_section_display": true,
   "toc_window_display": false
  }
 },
 "nbformat": 4,
 "nbformat_minor": 5
}
