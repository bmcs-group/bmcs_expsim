{
 "cells": [
  {
   "cell_type": "markdown",
   "id": "4faf2840",
   "metadata": {},
   "source": [
    "# PTST Idealization using axi-symmetric 2D interface layer"
   ]
  },
  {
   "cell_type": "markdown",
   "id": "5fa9f3d2-37c4-4ded-a75b-4a51d82b1e0a",
   "metadata": {},
   "source": [
    "## Purpose of the notebook"
   ]
  },
  {
   "cell_type": "markdown",
   "id": "1c7b4fa4-4629-4c9b-89fd-46473f5620f2",
   "metadata": {},
   "source": [
    "Verify the axi-symmetric model in an elastic state to ensure that the confinement is\n",
    "correctly reproduced. This notebook serves as a basis for 3D degradation within\n",
    "a ligament/bond zone in axi-symmetric models. Examples are\n",
    " - PTST\n",
    " - prestressing\n",
    " - confined bond configuration\n",
    " - effect of splitting cracks\n",
    " - restrained splitting cracks in fatigue tests"
   ]
  },
  {
   "cell_type": "markdown",
   "id": "c733ba8c-1083-4a87-8c81-51f87c068a87",
   "metadata": {},
   "source": [
    "## Implementation remarks"
   ]
  },
  {
   "cell_type": "markdown",
   "id": "89062103-111b-45eb-b4b8-4ee80b791faf",
   "metadata": {},
   "source": [
    "- The notebook now uses `BCSliceI` - to ensure the same order of nodes along an \n",
    "interfaces\n",
    "- Compression is applied using individual `BCDof` instances without integration \n",
    "  over the boundary. This should be changed to BCSliceE - which can use the \n",
    "  finite element shape functions to integrate over the element domain"
   ]
  },
  {
   "cell_type": "markdown",
   "id": "19df0a6e-14c4-43fc-8674-7a04fabda8d5",
   "metadata": {},
   "source": [
    "# Elastic material model for the ligament"
   ]
  },
  {
   "cell_type": "markdown",
   "id": "b0dadb7e-5242-494d-9fbd-5065687b1bda",
   "metadata": {},
   "source": [
    " - check the uniformity of the radial stress "
   ]
  },
  {
   "cell_type": "code",
   "execution_count": 61,
   "id": "5453e041-98d8-4951-923c-b64809a003dd",
   "metadata": {},
   "outputs": [],
   "source": [
    "%matplotlib widget\n",
    "import time\n",
    "from bmcs_expsim.utils.mlab_decorators import decorate_figure\n",
    "from mayavi import mlab\n",
    "import numpy as np\n",
    "np.seterr(divide='ignore', invalid='ignore') \n",
    "import warnings\n",
    "import matplotlib.pylab as plt\n",
    "import numpy as np\n",
    "from ibvpy.api import TStepBC, TFCyclicNonsymmetricConstant, TFBilinear\n",
    "from ibvpy.bcond import BCSliceI, BCDof\n",
    "from ibvpy.xmodel.xdomain_fe_grid_axisym import XDomainFEGridAxiSym\n",
    "from ibvpy.fets import FETS2D4Q\n",
    "from ibvpy.tmodel.viz3d_scalar_field import \\\n",
    "    Vis3DStateField, Viz3DScalarField\n",
    "from ibvpy.tmodel.viz3d_tensor_field import \\\n",
    "    Vis3DTensorField, Viz3DTensorField\n",
    "from ibvpy.tmodel.mats3D.mats3D_elastic.vmats3D_elastic import \\\n",
    "    MATS3DElastic\n",
    "from ibvpy.tmodel.mats2D.mats2D_elastic.vmats2D_elastic import \\\n",
    "    MATS2DElastic"
   ]
  },
  {
   "cell_type": "markdown",
   "id": "2fdaf708-abed-418a-aaba-c6d00ebb6ec8",
   "metadata": {},
   "source": [
    "## FE Axisymmetric discretization"
   ]
  },
  {
   "cell_type": "code",
   "execution_count": 77,
   "id": "86afb862-3f07-4dd1-b5e8-b8f6c0f470d8",
   "metadata": {
    "scrolled": true,
    "tags": []
   },
   "outputs": [],
   "source": [
    "n_x_e = 20\n",
    "n_inner_y_e = 10\n",
    "n_outer_y_e = 10\n",
    "L_x = 100.0 # [mm]\n",
    "d_x = L_x / n_x_e\n",
    "R_in = 25 # [mm]\n",
    "dR = 10 # [mm]\n",
    "R_out = 50 # [mm]\n",
    "len_notch = 10\n",
    "n_notch = 2\n",
    "# geo_transform\n",
    "# gmesh\n",
    "xd_inner = XDomainFEGridAxiSym(integ_factor = 2 * np.pi,\n",
    "                               coord_min=(0, 0),\n",
    "                               coord_max=(L_x, R_in),\n",
    "                               shape=(n_x_e, n_inner_y_e),\n",
    "                               fets=FETS2D4Q())\n",
    "xd_middle = XDomainFEGridAxiSym(integ_factor = 2 * np.pi,\n",
    "                               coord_min=(0+n_notch*d_x, R_in),\n",
    "                               coord_max=(L_x-n_notch*d_x, R_in+dR),\n",
    "                               shape=(n_x_e-2*n_notch, 1),\n",
    "                               fets=FETS2D4Q())\n",
    "xd_outer = XDomainFEGridAxiSym(integ_factor = 2 * np.pi,\n",
    "                               coord_min=(0, R_in+dR),\n",
    "                               coord_max=(L_x, R_out),\n",
    "                               shape=(n_x_e, n_outer_y_e),\n",
    "                               fets=FETS2D4Q())\n",
    "m_elastic = MATS3DElastic(E=37000, nu=0.18)\n",
    "m_inelastic = MATS3DElastic(E=37000, nu=0.18)\n",
    "m = TStepBC(\n",
    "    domains=[(xd_inner, m_elastic),\n",
    "             (xd_outer, m_elastic),\n",
    "             (xd_middle, m_inelastic),\n",
    "             ]\n",
    ")"
   ]
  },
  {
   "cell_type": "markdown",
   "id": "e176c27b-f225-453c-8b10-5b1489a90538",
   "metadata": {},
   "source": [
    "## Boundary and transition conditions"
   ]
  },
  {
   "cell_type": "markdown",
   "id": "7d260272-0225-4568-a8d0-c92a30094cdf",
   "metadata": {},
   "source": [
    "### Kinematic links between the domains"
   ]
  },
  {
   "cell_type": "code",
   "execution_count": 78,
   "id": "303ddd73-4f3e-454c-ac2c-6a01f13b72b6",
   "metadata": {},
   "outputs": [],
   "source": [
    "link_inner_middle = BCSliceI(var='u', dims=[0, 1],\n",
    "                             slice=xd_inner.mesh.I[n_notch:-n_notch, -1], \n",
    "                             link_slice=xd_middle.mesh.I[:, 0],\n",
    "                             link_coeffs=[1.0, 1.0],\n",
    "                             link_dims=[0, 1],\n",
    "                             value=0.0\n",
    "                            )\n",
    "link_middle_outer = BCSliceI(slice=xd_outer.mesh.I[n_notch:-n_notch, 0], \n",
    "                             var='u', dims=[0, 1],\n",
    "                             link_slice=xd_middle.mesh.I[:, -1],\n",
    "                             link_coeffs=[1, 1],\n",
    "                             link_dims=[0, 1],\n",
    "                             value=0,\n",
    "                            )"
   ]
  },
  {
   "cell_type": "markdown",
   "id": "33fdcf27-0a5f-439c-9ed0-e353a2e78c02",
   "metadata": {},
   "source": [
    "### Compression/Traction fc"
   ]
  },
  {
   "cell_type": "code",
   "execution_count": 79,
   "id": "2690f169-bddb-4d7a-87c8-924cf3cfed90",
   "metadata": {
    "tags": []
   },
   "outputs": [],
   "source": [
    "inner_fixed_1 = BCSliceI(slice=xd_inner.mesh.I[:, 0], var='u', dims=[1], value=0)\n",
    "outer_fixed_0 = BCSliceI(slice=xd_outer.mesh.I[0, :], var='u', dims=[0], value=0)\n",
    "\n",
    "outer_compression_slice = BCSliceI(slice=xd_outer.mesh.I[:, -1],\n",
    "                                   var='u', dims=[1], value=0.01)\n",
    "\n",
    "compression_dofs = outer_compression_slice.dofs\n",
    "compression = -10000*L_x / len(compression_dofs)\n",
    "outer_compression_force_first = [BCDof(var='f', dof=dof, value=compression) \n",
    "                                 for dof in compression_dofs ]\n",
    "outer_compression_force_first[0].value *=0.5\n",
    "outer_compression_force_first[-1].value *=0.5\n",
    "bc1 = [inner_fixed_1, \n",
    "       outer_fixed_0,\n",
    "       link_inner_middle,\n",
    "       link_middle_outer\n",
    "      ] + outer_compression_force_first"
   ]
  },
  {
   "cell_type": "markdown",
   "id": "b6eae98d-d05c-4f33-949a-ffd8d17d4d9e",
   "metadata": {},
   "source": [
    "### Sliding dc"
   ]
  },
  {
   "cell_type": "code",
   "execution_count": 80,
   "id": "0449a6e2-74ba-456e-8341-e87b5f65fefd",
   "metadata": {
    "tags": []
   },
   "outputs": [],
   "source": [
    "#lower_fixed_0 = BCSlice(slice=xd_lower.mesh[:, 0, :, 0], var='u', dims=[1], value=0)\n",
    "#upper_fixed_1 = BCSlice(slice=xd_upper.mesh[0, :, 0, :], var='u', dims=[0], value=0)\n",
    "#\n",
    "#lower_slide = BCSlice(slice=xd_lower.mesh[0, :, 0, :], var='u', dims=[0], value=6)\n",
    "#\n",
    "#\n",
    "#bc1 =   [lower_fixed_0, upper_fixed_1, lower_slide]"
   ]
  },
  {
   "cell_type": "markdown",
   "id": "25cf6602-f09e-45cb-9916-29dd9857bed4",
   "metadata": {},
   "source": [
    "### Sliding fc"
   ]
  },
  {
   "cell_type": "code",
   "execution_count": 81,
   "id": "c3b5ccf9-7691-44af-943f-eb3d6253e34f",
   "metadata": {
    "tags": []
   },
   "outputs": [],
   "source": [
    "#lower_fixed_0 = BCSlice(slice=xd_lower.mesh[:, 0, :, 0], var='u', dims=[1], value=0)\n",
    "#upper_fixed_1 = BCSlice(slice=xd_upper.mesh[0, :, 0, :], var='u', dims=[0], value=0)\n",
    "#\n",
    "#\n",
    "#\n",
    "#lower_slide = BCSlice(slice=xd_lower.mesh[0, :, 0, :], var='u', dims=[0], value=0)\n",
    "#Force = 10 / len(lower_slide.dofs)\n",
    "#lower_slide_force = [BCDof(var='f', dof=dof, value = Force) \n",
    "#             for dof in lower_slide.dofs]\n",
    "#\n",
    "#bc1 =   [lower_fixed_0, upper_fixed_1] + lower_slide_force"
   ]
  },
  {
   "cell_type": "code",
   "execution_count": 82,
   "id": "f78b8f97-b72d-4433-849b-628c3871052b",
   "metadata": {
    "tags": []
   },
   "outputs": [
    {
     "data": {
      "text/plain": [
       "[<ibvpy.sim.domain_state.DomainState at 0x7f5166313810>,\n",
       " <ibvpy.sim.domain_state.DomainState at 0x7f5166313090>,\n",
       " <ibvpy.sim.domain_state.DomainState at 0x7f51663130e0>]"
      ]
     },
     "execution_count": 82,
     "metadata": {},
     "output_type": "execute_result"
    }
   ],
   "source": [
    "m.bc=bc1\n",
    "m.hist.vis_record = {\n",
    "#    'strain': Vis3DTensorField(var='eps_ab'),\n",
    "    'stress': Vis3DTensorField(var='sig_ab'),\n",
    "    #        'kinematic hardening': Vis3DStateField(var='z_a')\n",
    "}\n",
    "\n",
    "s = m.sim\n",
    "s.tloop.verbose = True\n",
    "s.tloop.k_max = 1000\n",
    "s.tline.step = 0.1\n",
    "# Accessing the following property - ensures serialization\n",
    "s.tstep.fe_domain.serialized_subdomains"
   ]
  },
  {
   "cell_type": "code",
   "execution_count": 83,
   "id": "a401abc5-87a1-446b-8efc-9b2014bddcf4",
   "metadata": {
    "scrolled": true
   },
   "outputs": [
    {
     "name": "stdout",
     "output_type": "stream",
     "text": [
      "t:\t 0.00(0), \n",
      "\t 0.10(1), \n",
      "\t 0.20(1), \n",
      "\t 0.30(1), \n",
      "\t 0.40(1), \n",
      "\t 0.50(1), \n",
      "\t 0.60(1), \n",
      "\t 0.70(1), \n",
      "\t 0.80(1), \n",
      "\t 0.90(1), \n",
      "\t 1.00(1), \n",
      "\n"
     ]
    }
   ],
   "source": [
    "s.reset()\n",
    "s.run()"
   ]
  },
  {
   "cell_type": "markdown",
   "id": "59775c06-34e3-45b3-baf2-edcdacb4e930",
   "metadata": {},
   "source": [
    "## Postprocesing"
   ]
  },
  {
   "cell_type": "markdown",
   "id": "c5ae3e81-4545-454c-a6d3-d2c2e0c5d449",
   "metadata": {},
   "source": [
    "### Access the last displacement step"
   ]
  },
  {
   "cell_type": "code",
   "execution_count": 84,
   "id": "722b2c59-9978-4f51-b84a-74e4e4d5b1a1",
   "metadata": {},
   "outputs": [],
   "source": [
    "U_last = m.hist.U_t[-1]\n",
    "F_last = m.hist.U_t[-1]"
   ]
  },
  {
   "cell_type": "code",
   "execution_count": 85,
   "id": "5e8be362-3b40-42d4-8a89-af5768a6974b",
   "metadata": {},
   "outputs": [],
   "source": [
    "#U_last[xd_middle.o_Ia], U_last[xd_inner.o_Ia]"
   ]
  },
  {
   "cell_type": "code",
   "execution_count": 86,
   "id": "5935f9fd-2b21-4e76-9b0f-84bef3e2f38a",
   "metadata": {},
   "outputs": [],
   "source": [
    "#xd_middle.map_U_to_field(U_last)"
   ]
  },
  {
   "cell_type": "code",
   "execution_count": 88,
   "id": "60a76fb9-33d4-4c78-902a-5a7e5b0a4beb",
   "metadata": {},
   "outputs": [],
   "source": [
    "if False:\n",
    "    mlab.options.backend = 'envisage'\n",
    "    mlab.options.offscreen = False # 'envisage'\n",
    "    f_strain = mlab.figure()\n",
    "    scene = mlab.get_engine().scenes[-1]\n",
    "    scene.name = 'stress'\n",
    "    strain_viz = Viz3DTensorField(vis3d=m.hist['stress'])\n",
    "    strain_viz.setup()\n",
    "    strain_viz.warp_vector.filter.scale_factor = 0.1\n",
    "    strain_viz.plot(s.tstep.t_n)\n",
    "    mlab.show()"
   ]
  },
  {
   "cell_type": "markdown",
   "id": "4a996375-3ab3-4b8b-bc2a-fa7411d40d0f",
   "metadata": {},
   "source": [
    "# Slide34 model used for a ligament"
   ]
  },
  {
   "cell_type": "markdown",
   "id": "8dd970d9-dbab-45cb-9a7b-48b562f0667f",
   "metadata": {},
   "source": [
    " - check the correctness of the wrapper interface  "
   ]
  },
  {
   "cell_type": "code",
   "execution_count": 89,
   "id": "4654789c-e875-4c8d-9759-1f40fd55d5b1",
   "metadata": {},
   "outputs": [],
   "source": [
    "%matplotlib widget\n",
    "import time\n",
    "from bmcs_expsim.utils.mlab_decorators import decorate_figure\n",
    "from mayavi import mlab\n",
    "import numpy as np\n",
    "np.seterr(divide='ignore', invalid='ignore') \n",
    "import warnings\n",
    "import matplotlib.pylab as plt\n",
    "import numpy as np\n",
    "from ibvpy.api import TStepBC, TFCyclicNonsymmetricConstant, TFBilinear\n",
    "from ibvpy.bcond import BCSliceI, BCDof\n",
    "from ibvpy.xmodel.xdomain_fe_grid_axisym import XDomainFEGridAxiSym\n",
    "from ibvpy.fets import FETS2D4Q\n",
    "from ibvpy.tmodel.viz3d_scalar_field import \\\n",
    "    Vis3DStateField, Viz3DScalarField\n",
    "from ibvpy.tmodel.viz3d_tensor_field import \\\n",
    "    Vis3DTensorField, Viz3DTensorField\n",
    "from ibvpy.tmodel.mats3D.mats3D_elastic.vmats3D_elastic import \\\n",
    "    MATS3DElastic\n",
    "from ibvpy.tmodel.mats2D.mats2D_elastic.vmats2D_elastic import \\\n",
    "    MATS2DElastic\n",
    "from bmcs_matmod.slide.vslide_34_ij import MATS3DSlideStrain, Slide34"
   ]
  },
  {
   "cell_type": "code",
   "execution_count": 117,
   "id": "728a4618-32d1-4c78-ac2a-a71ee0ab87e3",
   "metadata": {},
   "outputs": [],
   "source": [
    "from bmcs_matmod.slide.vslide_34_ij import MATS3DSlideStrain\n",
    "class Debugging(MATS3DSlideStrain):\n",
    "    def get_corr_pred(self, eps_Emab_n1, tn1, **state):\n",
    "        r'''\n",
    "        Corrector predictor computation.\n",
    "        '''\n",
    "        n_i = self.n_a\n",
    "        eps_ij = eps_Emab_n1\n",
    "        eps_N = np.einsum('...ij,...i,...j->...', eps_ij, n_i, n_i)\n",
    "        #\n",
    "        # Change #1\n",
    "        # Instead of concatenation I reuse the eps_NT_Ema - in-place assuming that the first eps_NT_Ema[...,0] is zero \n",
    "        # Check if it is true\n",
    "        #\n",
    "        # eps_T = self.get_eps_T(eps_ij, n_i)\n",
    "        # eps_T = np.sqrt(np.einsum('...i,...i->...',eps_T, eps_T))\n",
    "        eps_NT_Ema = self.get_eps_T(eps_ij, n_i)\n",
    "        eps_NT_Ema[..., 0] = eps_N\n",
    "        # print(eps_N.shape, eps_T)\n",
    "        # eps_NT_Ema = np.concatenate([np.transpose(eps_N), np.transpose(eps_T)], axis=-1)\n",
    "        # print('eps_NT_Ema', eps_NT_Ema.shape)\n",
    "        # print(self.state_var_shapes)\n",
    "        se = self.slide_displ\n",
    "        sig_NT_Ema, D_Emab = se.get_corr_pred(eps_NT_Ema, tn1, **state)\n",
    "        \n",
    "        eps_N_p, eps_T_p_x, eps_T_p_y = state['w_pi'], state['s_pi_x'], state['s_pi_y']\n",
    "        eps_T = self.get_eps_T(eps_ij, n_i)\n",
    "        eps_T_p_i = self.get_eps_T_p(eps_T_p_x, eps_T)\n",
    "        omega_N_Em, omega_T_Em = state['omega_N'], state['omega_T']\n",
    "        phi_Emab = np.zeros_like(eps_Emab_n1)\n",
    "        # Change #2\n",
    "        # The ellipsis index must be used to handle the element, material point dimensions\n",
    "        #         phi_Emab[:,1, 1] = 0.\n",
    "        #         phi_Emab[:,2, 2] = np.sqrt(1 - omega_T_Em)\n",
    "        #         phi_Emab[:,0, 0] = np.sqrt(1 - omega_N_Em)\n",
    "        phi_Emab[..., 0, 0] = np.sqrt(1 - omega_N_Em)\n",
    "        phi_Emab[..., 1, 1] = np.sqrt(1 - omega_T_Em)\n",
    "        #\n",
    "        # Change #3\n",
    "        # - hoop stress - elastic - integrity - not damage\n",
    "        # phi_Emab[..., 2, 2] = 0\n",
    "        phi_Emab[..., 2, 2] = 1\n",
    "\n",
    "        # Change #3\n",
    "        #\n",
    "        # I would like to avoid transpose in the code - it should \n",
    "        # stick to index based notation. We do not write eps_ij^T in formulas.\n",
    "        #\n",
    "        #         beta_Emijkl = np.einsum('...ik,...jl->...ijkl', phi_Emab,\n",
    "        #                               np.transpose(phi_Emab, (1, 0)))\n",
    "        beta_Emijkl = np.einsum('...ik,...lj->...ijkl', phi_Emab, phi_Emab)\n",
    "\n",
    "        eps_ij_p = (np.einsum('i,...j->...ij', n_i, eps_T_p_i) +\n",
    "                    np.einsum('...i,j->...ij', eps_T_p_i,n_i) +\n",
    "                    np.einsum('...,i,j->...ij', eps_N_p, n_i, n_i)\n",
    "                   )\n",
    "\n",
    "        D_abef = self.D_abef\n",
    "#         print('D_abef', D_abef)\n",
    "        D_Emabcd = np.einsum('...ijkl,klrs,...rstu->...ijtu', beta_Emijkl, D_abef, beta_Emijkl)\n",
    "#         print('D_abef', D_Emabcd)\n",
    "\n",
    "        sigma_Emab = np.einsum('...ijkl,...kl->...ij', D_Emabcd, (eps_Emab_n1 - eps_ij_p))\n",
    "\n",
    "        return sigma_Emab, D_Emabcd"
   ]
  },
  {
   "cell_type": "markdown",
   "id": "fe55870d-2a6b-4b5a-ba55-a2cd17b86ebc",
   "metadata": {},
   "source": [
    "## FE Axisymmetric discretization"
   ]
  },
  {
   "cell_type": "code",
   "execution_count": 118,
   "id": "67ff492f-2496-486c-92e9-67edd7aa0e1d",
   "metadata": {
    "scrolled": true,
    "tags": []
   },
   "outputs": [],
   "source": [
    "n_x_e = 1\n",
    "n_inner_y_e = 1\n",
    "n_outer_y_e = 1\n",
    "L_x = 100.0 # [mm]\n",
    "d_x = L_x / n_x_e\n",
    "R_in = 25 # [mm]\n",
    "dR = 10 # [mm]\n",
    "R_out = 50 # [mm]\n",
    "len_notch = 10\n",
    "n_notch = 0\n",
    "# geo_transform\n",
    "# gmesh\n",
    "xd_inner = XDomainFEGridAxiSym(integ_factor = 2 * np.pi,\n",
    "                               coord_min=(0, 0),\n",
    "                               coord_max=(L_x, R_in),\n",
    "                               shape=(n_x_e, n_inner_y_e),\n",
    "                               fets=FETS2D4Q())\n",
    "xd_middle = XDomainFEGridAxiSym(integ_factor = 2 * np.pi,\n",
    "                               coord_min=(0+n_notch*d_x, R_in),\n",
    "                               coord_max=(L_x-n_notch*d_x, R_in+dR),\n",
    "                               shape=(n_x_e-2*n_notch, 1),\n",
    "                               fets=FETS2D4Q())\n",
    "xd_outer = XDomainFEGridAxiSym(integ_factor = 2 * np.pi,\n",
    "                               coord_min=(0, R_in+dR),\n",
    "                               coord_max=(L_x, R_out),\n",
    "                               shape=(n_x_e, n_outer_y_e),\n",
    "                               fets=FETS2D4Q())\n",
    "m_elastic = MATS3DElastic(E=37000, nu=0.18)\n",
    "material_params =  dict(\n",
    "     E_T=37000, gamma_T=500, K_T=0, S_T=1000000.5, c_T=6, bartau=300, \n",
    "     E_N=37000, S_N=1000000.5, c_N = 3, m = 0.05, f_t=2, f_c=6000, f_c0 = 4000, eta=0.)\n",
    "bond_m = Slide34(**material_params)\n",
    "#m_inelastic = MATS3DSlideStrain(slide_displ=bond_m)\n",
    "m_inelastic = Debugging(slide_displ=bond_m)\n",
    "m = TStepBC(\n",
    "    domains=[(xd_inner, m_elastic),\n",
    "             (xd_outer, m_elastic),\n",
    "             (xd_middle, m_inelastic),\n",
    "             ]\n",
    ")"
   ]
  },
  {
   "cell_type": "markdown",
   "id": "63b627b3-6b28-40b0-8466-c33770c76013",
   "metadata": {},
   "source": [
    "## Boundary and transition conditions"
   ]
  },
  {
   "cell_type": "markdown",
   "id": "2dfe8e22-8d81-4c97-837a-aed277cf5e5d",
   "metadata": {},
   "source": [
    "### Kinematic links between the domains"
   ]
  },
  {
   "cell_type": "code",
   "execution_count": 119,
   "id": "9893c53f-cc19-4e72-bc6c-5419650e7b9f",
   "metadata": {},
   "outputs": [],
   "source": [
    "link_inner_middle = BCSliceI(var='u', dims=[0, 1],\n",
    "                             slice=xd_inner.mesh.I[:, -1], \n",
    "#                             slice=xd_inner.mesh.I[n_notch:-n_notch, -1], \n",
    "                             link_slice=xd_middle.mesh.I[:, 0],\n",
    "                             link_coeffs=[1.0, 1.0],\n",
    "                             link_dims=[0, 1],\n",
    "                             value=0.0\n",
    "                            )\n",
    "link_middle_outer = BCSliceI(var='u', dims=[0, 1],\n",
    "#                              slice=xd_outer.mesh.I[n_notch:-n_notch, 0], \n",
    "                             slice=xd_outer.mesh.I[:, 0], \n",
    "                             link_slice=xd_middle.mesh.I[:, -1],\n",
    "                             link_coeffs=[1, 1],\n",
    "                             link_dims=[0, 1],\n",
    "                             value=0,\n",
    "                            )"
   ]
  },
  {
   "cell_type": "markdown",
   "id": "f580db57-0a0d-4227-9a00-468229b31c2d",
   "metadata": {},
   "source": [
    "### Compression/Traction fc"
   ]
  },
  {
   "cell_type": "code",
   "execution_count": 120,
   "id": "f0d09f63-e4b5-4298-8805-8651450e8dc4",
   "metadata": {
    "tags": []
   },
   "outputs": [],
   "source": [
    "inner_fixed_1 = BCSliceI(slice=xd_inner.mesh.I[:, 0], var='u', dims=[1], value=0)\n",
    "outer_fixed_0 = BCSliceI(slice=xd_outer.mesh.I[0, :], var='u', dims=[0], value=0)\n",
    "\n",
    "outer_compression_slice = BCSliceI(slice=xd_outer.mesh.I[:, -1],\n",
    "                                   var='u', dims=[1], value=0.01)\n",
    "\n",
    "compression_dofs = outer_compression_slice.dofs\n",
    "compression = -10000*L_x / len(compression_dofs)\n",
    "outer_compression_force_first = [BCDof(var='f', dof=dof, value=compression) \n",
    "                                 for dof in compression_dofs ]\n",
    "outer_compression_force_first[0].value *=0.5\n",
    "outer_compression_force_first[-1].value *=0.5\n",
    "bc1 = [inner_fixed_1, \n",
    "#       outer_fixed_0,\n",
    "       link_inner_middle,\n",
    "       link_middle_outer\n",
    "      ] + outer_compression_force_first"
   ]
  },
  {
   "cell_type": "markdown",
   "id": "6aaae478-839b-47c4-8241-be7d504d2f37",
   "metadata": {},
   "source": [
    "### Sliding dc"
   ]
  },
  {
   "cell_type": "code",
   "execution_count": 121,
   "id": "2a0d918a-d7a2-4571-a6e3-b2164da9cbf1",
   "metadata": {
    "tags": []
   },
   "outputs": [],
   "source": [
    "#lower_fixed_0 = BCSlice(slice=xd_lower.mesh[:, 0, :, 0], var='u', dims=[1], value=0)\n",
    "#upper_fixed_1 = BCSlice(slice=xd_upper.mesh[0, :, 0, :], var='u', dims=[0], value=0)\n",
    "#\n",
    "#lower_slide = BCSlice(slice=xd_lower.mesh[0, :, 0, :], var='u', dims=[0], value=6)\n",
    "#\n",
    "#\n",
    "#bc1 =   [lower_fixed_0, upper_fixed_1, lower_slide]"
   ]
  },
  {
   "cell_type": "markdown",
   "id": "832e973d-6d20-4c5b-bf64-5cef7aee05b6",
   "metadata": {},
   "source": [
    "### Sliding fc"
   ]
  },
  {
   "cell_type": "code",
   "execution_count": 122,
   "id": "ce0bf989-b4f8-4848-aa1b-6e7efda1b62a",
   "metadata": {
    "tags": []
   },
   "outputs": [],
   "source": [
    "#lower_fixed_0 = BCSlice(slice=xd_lower.mesh[:, 0, :, 0], var='u', dims=[1], value=0)\n",
    "#upper_fixed_1 = BCSlice(slice=xd_upper.mesh[0, :, 0, :], var='u', dims=[0], value=0)\n",
    "#\n",
    "#\n",
    "#\n",
    "#lower_slide = BCSlice(slice=xd_lower.mesh[0, :, 0, :], var='u', dims=[0], value=0)\n",
    "#Force = 10 / len(lower_slide.dofs)\n",
    "#lower_slide_force = [BCDof(var='f', dof=dof, value = Force) \n",
    "#             for dof in lower_slide.dofs]\n",
    "#\n",
    "#bc1 =   [lower_fixed_0, upper_fixed_1] + lower_slide_force"
   ]
  },
  {
   "cell_type": "code",
   "execution_count": 123,
   "id": "b245b2fd-b006-4f23-a254-dec34981423a",
   "metadata": {
    "tags": []
   },
   "outputs": [
    {
     "data": {
      "text/plain": [
       "[<ibvpy.sim.domain_state.DomainState at 0x7f515496dbd0>,\n",
       " <ibvpy.sim.domain_state.DomainState at 0x7f515496d220>,\n",
       " <ibvpy.sim.domain_state.DomainState at 0x7f515496d270>]"
      ]
     },
     "execution_count": 123,
     "metadata": {},
     "output_type": "execute_result"
    }
   ],
   "source": [
    "m.bc=bc1\n",
    "m.hist.vis_record = {\n",
    "#    'strain': Vis3DTensorField(var='eps_ab'),\n",
    "    'stress': Vis3DTensorField(var='sig_ab'),\n",
    "    #        'kinematic hardening': Vis3DStateField(var='z_a')\n",
    "}\n",
    "\n",
    "s = m.sim\n",
    "s.tloop.verbose = True\n",
    "s.tloop.k_max = 1000\n",
    "s.tline.step = 0.1\n",
    "# Accessing the following property - ensures serialization\n",
    "s.tstep.fe_domain.serialized_subdomains"
   ]
  },
  {
   "cell_type": "code",
   "execution_count": 124,
   "id": "1c314099-6adc-4129-ac74-41272fd49393",
   "metadata": {
    "scrolled": true
   },
   "outputs": [
    {
     "name": "stdout",
     "output_type": "stream",
     "text": [
      "t:\t 0.00u_N, u_T [[0. 0. 0. 0.]] [[0. 0. 0. 0.]] [[0. 0. 0. 0.]]\n",
      "(0), \n",
      "u_N, u_T [[0. 0. 0. 0.]] [[0. 0. 0. 0.]] [[0. 0. 0. 0.]]\n",
      "\t 0.10u_N, u_T [[0. 0. 0. 0.]] [[0. 0. 0. 0.]] [[0. 0. 0. 0.]]\n",
      "u_N, u_T [[-3.71908529e-05 -3.71908529e-05 -3.71908529e-05 -3.71908529e-05]] [[0. 0. 0. 0.]] [[0. 0. 0. 0.]]\n",
      "(1), \n",
      "u_N, u_T [[-3.71908529e-05 -3.71908529e-05 -3.71908529e-05 -3.71908529e-05]] [[0. 0. 0. 0.]] [[0. 0. 0. 0.]]\n",
      "\t 0.20u_N, u_T [[-3.71908529e-05 -3.71908529e-05 -3.71908529e-05 -3.71908529e-05]] [[0. 0. 0. 0.]] [[0. 0. 0. 0.]]\n",
      "u_N, u_T [[-7.43817058e-05 -7.43817058e-05 -7.43817058e-05 -7.43817058e-05]] [[0. 0. 0. 0.]] [[0. 0. 0. 0.]]\n",
      "(1), \n",
      "u_N, u_T [[-7.43817058e-05 -7.43817058e-05 -7.43817058e-05 -7.43817058e-05]] [[0. 0. 0. 0.]] [[0. 0. 0. 0.]]\n",
      "\t 0.30u_N, u_T [[-7.43817058e-05 -7.43817058e-05 -7.43817058e-05 -7.43817058e-05]] [[0. 0. 0. 0.]] [[0. 0. 0. 0.]]\n",
      "u_N, u_T [[-0.00011157 -0.00011157 -0.00011157 -0.00011157]] [[0. 0. 0. 0.]] [[0. 0. 0. 0.]]\n",
      "(1), \n",
      "u_N, u_T [[-0.00011157 -0.00011157 -0.00011157 -0.00011157]] [[0. 0. 0. 0.]] [[0. 0. 0. 0.]]\n",
      "\t 0.40u_N, u_T [[-0.00011157 -0.00011157 -0.00011157 -0.00011157]] [[0. 0. 0. 0.]] [[0. 0. 0. 0.]]\n",
      "u_N, u_T [[-0.00014876 -0.00014876 -0.00014876 -0.00014876]] [[0. 0. 0. 0.]] [[0. 0. 0. 0.]]\n",
      "(1), \n",
      "u_N, u_T [[-0.00014876 -0.00014876 -0.00014876 -0.00014876]] [[0. 0. 0. 0.]] [[0. 0. 0. 0.]]\n",
      "\t 0.50u_N, u_T [[-0.00014876 -0.00014876 -0.00014876 -0.00014876]] [[0. 0. 0. 0.]] [[0. 0. 0. 0.]]\n",
      "u_N, u_T [[-0.00018595 -0.00018595 -0.00018595 -0.00018595]] [[0. 0. 0. 0.]] [[0. 0. 0. 0.]]\n",
      "(1), \n",
      "u_N, u_T [[-0.00018595 -0.00018595 -0.00018595 -0.00018595]] [[0. 0. 0. 0.]] [[0. 0. 0. 0.]]\n",
      "\t 0.60u_N, u_T [[-0.00018595 -0.00018595 -0.00018595 -0.00018595]] [[0. 0. 0. 0.]] [[0. 0. 0. 0.]]\n",
      "u_N, u_T [[-0.00022315 -0.00022315 -0.00022315 -0.00022315]] [[0. 0. 0. 0.]] [[0. 0. 0. 0.]]\n",
      "(1), \n",
      "u_N, u_T [[-0.00022315 -0.00022315 -0.00022315 -0.00022315]] [[0. 0. 0. 0.]] [[0. 0. 0. 0.]]\n",
      "\t 0.70u_N, u_T [[-0.00022315 -0.00022315 -0.00022315 -0.00022315]] [[0. 0. 0. 0.]] [[0. 0. 0. 0.]]\n",
      "u_N, u_T [[-0.00026034 -0.00026034 -0.00026034 -0.00026034]] [[0. 0. 0. 0.]] [[0. 0. 0. 0.]]\n",
      "(1), \n",
      "u_N, u_T [[-0.00026034 -0.00026034 -0.00026034 -0.00026034]] [[0. 0. 0. 0.]] [[0. 0. 0. 0.]]\n",
      "\t 0.80u_N, u_T [[-0.00026034 -0.00026034 -0.00026034 -0.00026034]] [[0. 0. 0. 0.]] [[0. 0. 0. 0.]]\n",
      "u_N, u_T [[-0.00029753 -0.00029753 -0.00029753 -0.00029753]] [[0. 0. 0. 0.]] [[0. 0. 0. 0.]]\n",
      "(1), \n",
      "u_N, u_T [[-0.00029753 -0.00029753 -0.00029753 -0.00029753]] [[0. 0. 0. 0.]] [[0. 0. 0. 0.]]\n",
      "\t 0.90u_N, u_T [[-0.00029753 -0.00029753 -0.00029753 -0.00029753]] [[0. 0. 0. 0.]] [[0. 0. 0. 0.]]\n",
      "u_N, u_T [[-0.00033472 -0.00033472 -0.00033472 -0.00033472]] [[0. 0. 0. 0.]] [[0. 0. 0. 0.]]\n",
      "(1), \n",
      "u_N, u_T [[-0.00033472 -0.00033472 -0.00033472 -0.00033472]] [[0. 0. 0. 0.]] [[0. 0. 0. 0.]]\n",
      "\t 1.00u_N, u_T [[-0.00033472 -0.00033472 -0.00033472 -0.00033472]] [[0. 0. 0. 0.]] [[0. 0. 0. 0.]]\n",
      "u_N, u_T [[-0.00037191 -0.00037191 -0.00037191 -0.00037191]] [[0. 0. 0. 0.]] [[0. 0. 0. 0.]]\n",
      "(1), \n",
      "u_N, u_T [[-0.00037191 -0.00037191 -0.00037191 -0.00037191]] [[0. 0. 0. 0.]] [[0. 0. 0. 0.]]\n",
      "\n"
     ]
    }
   ],
   "source": [
    "s.reset()\n",
    "s.run()"
   ]
  },
  {
   "cell_type": "markdown",
   "id": "de3a1a04-59ab-44eb-be0c-b07105123ba4",
   "metadata": {},
   "source": [
    "## Postprocesing"
   ]
  },
  {
   "cell_type": "markdown",
   "id": "9ebdb24a-61a6-44ce-80b2-55bdc6b9d434",
   "metadata": {},
   "source": [
    "### Access the last displacement step"
   ]
  },
  {
   "cell_type": "code",
   "execution_count": 111,
   "id": "a3042021-3099-47b2-ab2d-3d70b59476da",
   "metadata": {},
   "outputs": [],
   "source": [
    "U_last = m.hist.U_t[-1]"
   ]
  },
  {
   "cell_type": "code",
   "execution_count": 112,
   "id": "070d4bb4-774a-486e-a03d-cb0cb8bbd9f7",
   "metadata": {},
   "outputs": [],
   "source": [
    "#U_last[xd_middle.o_Ia], U_last[xd_inner.o_Ia]"
   ]
  },
  {
   "cell_type": "code",
   "execution_count": 140,
   "id": "94486a18-89da-4d50-a819-4a855bf32baf",
   "metadata": {},
   "outputs": [],
   "source": [
    "eps_Emab = xd_outer.map_U_to_field(U_last)"
   ]
  },
  {
   "cell_type": "code",
   "execution_count": 142,
   "id": "11307b3a-5a51-4eee-b7d4-37ea768b7c24",
   "metadata": {},
   "outputs": [
    {
     "name": "stdout",
     "output_type": "stream",
     "text": [
      "u_N, u_T [[-0.00035219 -0.00035219 -0.00035219 -0.00035219]] [[0. 0. 0. 0.]] [[0. 0. 0. 0.]]\n"
     ]
    },
    {
     "data": {
      "text/plain": [
       "(array([[[[ -0.59082362,   0.05357139,   0.        ],\n",
       "          [  0.05357139, -15.16668365,   0.        ],\n",
       "          [  0.        ,   0.        , -15.37107986]],\n",
       " \n",
       "         [[ -0.59082362,  -0.05357139,   0.        ],\n",
       "          [ -0.05357139, -15.16668365,   0.        ],\n",
       "          [  0.        ,   0.        , -15.37107986]],\n",
       " \n",
       "         [[ -0.62108113,  -0.05357139,   0.        ],\n",
       "          [ -0.05357139, -15.16479833,   0.        ],\n",
       "          [  0.        ,   0.        , -15.33139573]],\n",
       " \n",
       "         [[ -0.62108113,   0.05357139,   0.        ],\n",
       "          [  0.05357139, -15.16479833,   0.        ],\n",
       "          [  0.        ,   0.        , -15.33139573]]]]),\n",
       " array([[[[[[37777.77777778,     0.        ,     0.        ],\n",
       "            [    0.        ,  9444.44444444,     0.        ],\n",
       "            [    0.        ,     0.        ,  9444.44444444]],\n",
       " \n",
       "           [[    0.        , 14166.66666667,     0.        ],\n",
       "            [14166.66666667,     0.        ,     0.        ],\n",
       "            [    0.        ,     0.        ,     0.        ]],\n",
       " \n",
       "           [[    0.        ,     0.        , 14166.66666667],\n",
       "            [    0.        ,     0.        ,     0.        ],\n",
       "            [14166.66666667,     0.        ,     0.        ]]],\n",
       " \n",
       " \n",
       "          [[[    0.        , 14166.66666667,     0.        ],\n",
       "            [14166.66666667,     0.        ,     0.        ],\n",
       "            [    0.        ,     0.        ,     0.        ]],\n",
       " \n",
       "           [[ 9444.44444444,     0.        ,     0.        ],\n",
       "            [    0.        , 37777.77777778,     0.        ],\n",
       "            [    0.        ,     0.        ,  9444.44444444]],\n",
       " \n",
       "           [[    0.        ,     0.        ,     0.        ],\n",
       "            [    0.        ,     0.        , 14166.66666667],\n",
       "            [    0.        , 14166.66666667,     0.        ]]],\n",
       " \n",
       " \n",
       "          [[[    0.        ,     0.        , 14166.66666667],\n",
       "            [    0.        ,     0.        ,     0.        ],\n",
       "            [14166.66666667,     0.        ,     0.        ]],\n",
       " \n",
       "           [[    0.        ,     0.        ,     0.        ],\n",
       "            [    0.        ,     0.        , 14166.66666667],\n",
       "            [    0.        , 14166.66666667,     0.        ]],\n",
       " \n",
       "           [[ 9444.44444444,     0.        ,     0.        ],\n",
       "            [    0.        ,  9444.44444444,     0.        ],\n",
       "            [    0.        ,     0.        , 37777.77777778]]]],\n",
       " \n",
       " \n",
       " \n",
       "         [[[[37777.77777778,     0.        ,     0.        ],\n",
       "            [    0.        ,  9444.44444444,     0.        ],\n",
       "            [    0.        ,     0.        ,  9444.44444444]],\n",
       " \n",
       "           [[    0.        , 14166.66666667,     0.        ],\n",
       "            [14166.66666667,     0.        ,     0.        ],\n",
       "            [    0.        ,     0.        ,     0.        ]],\n",
       " \n",
       "           [[    0.        ,     0.        , 14166.66666667],\n",
       "            [    0.        ,     0.        ,     0.        ],\n",
       "            [14166.66666667,     0.        ,     0.        ]]],\n",
       " \n",
       " \n",
       "          [[[    0.        , 14166.66666667,     0.        ],\n",
       "            [14166.66666667,     0.        ,     0.        ],\n",
       "            [    0.        ,     0.        ,     0.        ]],\n",
       " \n",
       "           [[ 9444.44444444,     0.        ,     0.        ],\n",
       "            [    0.        , 37777.77777778,     0.        ],\n",
       "            [    0.        ,     0.        ,  9444.44444444]],\n",
       " \n",
       "           [[    0.        ,     0.        ,     0.        ],\n",
       "            [    0.        ,     0.        , 14166.66666667],\n",
       "            [    0.        , 14166.66666667,     0.        ]]],\n",
       " \n",
       " \n",
       "          [[[    0.        ,     0.        , 14166.66666667],\n",
       "            [    0.        ,     0.        ,     0.        ],\n",
       "            [14166.66666667,     0.        ,     0.        ]],\n",
       " \n",
       "           [[    0.        ,     0.        ,     0.        ],\n",
       "            [    0.        ,     0.        , 14166.66666667],\n",
       "            [    0.        , 14166.66666667,     0.        ]],\n",
       " \n",
       "           [[ 9444.44444444,     0.        ,     0.        ],\n",
       "            [    0.        ,  9444.44444444,     0.        ],\n",
       "            [    0.        ,     0.        , 37777.77777778]]]],\n",
       " \n",
       " \n",
       " \n",
       "         [[[[37777.77777778,     0.        ,     0.        ],\n",
       "            [    0.        ,  9444.44444444,     0.        ],\n",
       "            [    0.        ,     0.        ,  9444.44444444]],\n",
       " \n",
       "           [[    0.        , 14166.66666667,     0.        ],\n",
       "            [14166.66666667,     0.        ,     0.        ],\n",
       "            [    0.        ,     0.        ,     0.        ]],\n",
       " \n",
       "           [[    0.        ,     0.        , 14166.66666667],\n",
       "            [    0.        ,     0.        ,     0.        ],\n",
       "            [14166.66666667,     0.        ,     0.        ]]],\n",
       " \n",
       " \n",
       "          [[[    0.        , 14166.66666667,     0.        ],\n",
       "            [14166.66666667,     0.        ,     0.        ],\n",
       "            [    0.        ,     0.        ,     0.        ]],\n",
       " \n",
       "           [[ 9444.44444444,     0.        ,     0.        ],\n",
       "            [    0.        , 37777.77777778,     0.        ],\n",
       "            [    0.        ,     0.        ,  9444.44444444]],\n",
       " \n",
       "           [[    0.        ,     0.        ,     0.        ],\n",
       "            [    0.        ,     0.        , 14166.66666667],\n",
       "            [    0.        , 14166.66666667,     0.        ]]],\n",
       " \n",
       " \n",
       "          [[[    0.        ,     0.        , 14166.66666667],\n",
       "            [    0.        ,     0.        ,     0.        ],\n",
       "            [14166.66666667,     0.        ,     0.        ]],\n",
       " \n",
       "           [[    0.        ,     0.        ,     0.        ],\n",
       "            [    0.        ,     0.        , 14166.66666667],\n",
       "            [    0.        , 14166.66666667,     0.        ]],\n",
       " \n",
       "           [[ 9444.44444444,     0.        ,     0.        ],\n",
       "            [    0.        ,  9444.44444444,     0.        ],\n",
       "            [    0.        ,     0.        , 37777.77777778]]]],\n",
       " \n",
       " \n",
       " \n",
       "         [[[[37777.77777778,     0.        ,     0.        ],\n",
       "            [    0.        ,  9444.44444444,     0.        ],\n",
       "            [    0.        ,     0.        ,  9444.44444444]],\n",
       " \n",
       "           [[    0.        , 14166.66666667,     0.        ],\n",
       "            [14166.66666667,     0.        ,     0.        ],\n",
       "            [    0.        ,     0.        ,     0.        ]],\n",
       " \n",
       "           [[    0.        ,     0.        , 14166.66666667],\n",
       "            [    0.        ,     0.        ,     0.        ],\n",
       "            [14166.66666667,     0.        ,     0.        ]]],\n",
       " \n",
       " \n",
       "          [[[    0.        , 14166.66666667,     0.        ],\n",
       "            [14166.66666667,     0.        ,     0.        ],\n",
       "            [    0.        ,     0.        ,     0.        ]],\n",
       " \n",
       "           [[ 9444.44444444,     0.        ,     0.        ],\n",
       "            [    0.        , 37777.77777778,     0.        ],\n",
       "            [    0.        ,     0.        ,  9444.44444444]],\n",
       " \n",
       "           [[    0.        ,     0.        ,     0.        ],\n",
       "            [    0.        ,     0.        , 14166.66666667],\n",
       "            [    0.        , 14166.66666667,     0.        ]]],\n",
       " \n",
       " \n",
       "          [[[    0.        ,     0.        , 14166.66666667],\n",
       "            [    0.        ,     0.        ,     0.        ],\n",
       "            [14166.66666667,     0.        ,     0.        ]],\n",
       " \n",
       "           [[    0.        ,     0.        ,     0.        ],\n",
       "            [    0.        ,     0.        , 14166.66666667],\n",
       "            [    0.        , 14166.66666667,     0.        ]],\n",
       " \n",
       "           [[ 9444.44444444,     0.        ,     0.        ],\n",
       "            [    0.        ,  9444.44444444,     0.        ],\n",
       "            [    0.        ,     0.        , 37777.77777778]]]]]]))"
      ]
     },
     "execution_count": 142,
     "metadata": {},
     "output_type": "execute_result"
    }
   ],
   "source": [
    "m_inelastic.get_corr_pred(eps_Emab, 1, **m.fe_domain[2].state_k)"
   ]
  },
  {
   "cell_type": "code",
   "execution_count": 139,
   "id": "b6257172-8eb5-47f8-af1c-cf44e9d2fe51",
   "metadata": {},
   "outputs": [
    {
     "name": "stdout",
     "output_type": "stream",
     "text": [
      "u_N, u_T [[-0.00037191 -0.00037191 -0.00037191 -0.00037191]] [[0. 0. 0. 0.]] [[0. 0. 0. 0.]]\n"
     ]
    },
    {
     "data": {
      "text/plain": [
       "(array([    488.27466054,  125488.64786776,    -488.27466054,\n",
       "         125488.64786776,    -899.79665829, -174168.46804043,\n",
       "            899.79665829, -174168.46804043]),\n",
       " <ibvpy.mathkit.linalg.sys_mtx_array.SysMtxArray at 0x7f514d309a90>,\n",
       " array([16, 17, 20, 21, 22, 23, 18, 19]))"
      ]
     },
     "execution_count": 139,
     "metadata": {},
     "output_type": "execute_result"
    }
   ],
   "source": [
    "m.fe_domain[2].get_corr_pred(U_last,1, 1)"
   ]
  },
  {
   "cell_type": "code",
   "execution_count": 114,
   "id": "7ade4a8b-1e71-4aef-8a3d-ad489f711b27",
   "metadata": {},
   "outputs": [],
   "source": [
    "if True:\n",
    "    mlab.options.backend = 'envisage'\n",
    "    mlab.options.offscreen = False # 'envisage'\n",
    "    f_strain = mlab.figure()\n",
    "    scene = mlab.get_engine().scenes[-1]\n",
    "    scene.name = 'stress'\n",
    "    strain_viz = Viz3DTensorField(vis3d=m.hist['stress'])\n",
    "    strain_viz.setup()\n",
    "    strain_viz.warp_vector.filter.scale_factor = 0.1\n",
    "    strain_viz.plot(s.tstep.t_n)\n",
    "    mlab.show()"
   ]
  },
  {
   "cell_type": "code",
   "execution_count": null,
   "id": "bd8162b2-651e-435a-89ba-52887d2ed22e",
   "metadata": {},
   "outputs": [],
   "source": []
  }
 ],
 "metadata": {
  "kernelspec": {
   "display_name": "bmcs_env",
   "language": "python",
   "name": "bmcs_env"
  },
  "language_info": {
   "codemirror_mode": {
    "name": "ipython",
    "version": 3
   },
   "file_extension": ".py",
   "mimetype": "text/x-python",
   "name": "python",
   "nbconvert_exporter": "python",
   "pygments_lexer": "ipython3",
   "version": "3.8.8"
  },
  "toc": {
   "base_numbering": 1,
   "nav_menu": {},
   "number_sections": true,
   "sideBar": true,
   "skip_h1_title": false,
   "title_cell": "Table of Contents",
   "title_sidebar": "Contents",
   "toc_cell": false,
   "toc_position": {},
   "toc_section_display": true,
   "toc_window_display": false
  }
 },
 "nbformat": 4,
 "nbformat_minor": 5
}
