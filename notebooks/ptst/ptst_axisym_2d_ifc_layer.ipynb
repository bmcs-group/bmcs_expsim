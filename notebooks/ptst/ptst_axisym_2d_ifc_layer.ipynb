{
 "cells": [
  {
   "cell_type": "markdown",
   "id": "4faf2840",
   "metadata": {},
   "source": [
    "# PTST Idealization using axi-symmetric 2D interface layer"
   ]
  },
  {
   "cell_type": "markdown",
   "id": "5fa9f3d2-37c4-4ded-a75b-4a51d82b1e0a",
   "metadata": {},
   "source": [
    "## Purpose of the notebook"
   ]
  },
  {
   "cell_type": "markdown",
   "id": "1c7b4fa4-4629-4c9b-89fd-46473f5620f2",
   "metadata": {},
   "source": [
    "Verify the axi-symmetric model in an elastic state to ensure that the confinement is\n",
    "correctly reproduced. This notebook serves as a basis for 3D degradation within\n",
    "a ligament/bond zone in axi-symmetric models. Examples are\n",
    " - PTST\n",
    " - prestressing\n",
    " - confined bond configuration\n",
    " - effect of splitting cracks\n",
    " - restrained splitting cracks in fatigue tests"
   ]
  },
  {
   "cell_type": "markdown",
   "id": "c733ba8c-1083-4a87-8c81-51f87c068a87",
   "metadata": {},
   "source": [
    "## Implementation remarks"
   ]
  },
  {
   "cell_type": "markdown",
   "id": "89062103-111b-45eb-b4b8-4ee80b791faf",
   "metadata": {},
   "source": [
    "- The notebook now uses `BCSliceI` - to ensure the same order of nodes along an \n",
    "interfaces\n",
    "- Compression is applied using individual `BCDof` instances without integration \n",
    "  over the boundary. This should be changed to BCSliceE - which can use the \n",
    "  finite element shape functions to integrate over the element domain"
   ]
  },
  {
   "cell_type": "markdown",
   "id": "8dd970d9-dbab-45cb-9a7b-48b562f0667f",
   "metadata": {},
   "source": [
    " - check the correctness of the wrapper interface  "
   ]
  },
  {
   "cell_type": "code",
   "execution_count": 1,
   "id": "4654789c-e875-4c8d-9759-1f40fd55d5b1",
   "metadata": {},
   "outputs": [],
   "source": [
    "%matplotlib widget\n",
    "import time\n",
    "from bmcs_expsim.utils.mlab_decorators import decorate_figure\n",
    "from mayavi import mlab\n",
    "import numpy as np\n",
    "np.seterr(divide='ignore', invalid='ignore') \n",
    "import warnings\n",
    "import matplotlib.pylab as plt\n",
    "import numpy as np\n",
    "from ibvpy.api import TStepBC, TFCyclicNonsymmetricConstant, TFBilinear\n",
    "from ibvpy.bcond import BCSliceI, BCDof\n",
    "from ibvpy.xmodel.xdomain_fe_grid_axisym import XDomainFEGridAxiSym\n",
    "from ibvpy.fets import FETS2D4Q\n",
    "from ibvpy.tmodel.viz3d_scalar_field import \\\n",
    "    Vis3DStateField, Viz3DScalarField\n",
    "from ibvpy.tmodel.viz3d_tensor_field import \\\n",
    "    Vis3DTensorField, Viz3DTensorField\n",
    "from ibvpy.tmodel.mats3D.mats3D_elastic.vmats3D_elastic import \\\n",
    "    MATS3DElastic\n",
    "from ibvpy.tmodel.mats2D.mats2D_elastic.vmats2D_elastic import \\\n",
    "    MATS2DElastic\n",
    "from bmcs_matmod.slide.vslide_34_ij import MATS3DSlideStrain, Slide34\n",
    "from ibvpy.tmodel.mats3D.mats3D_microplane.vmats3D_mpl_d_eeq import \\\n",
    "    MATS3DMplDamageEEQ\n",
    "from bmcs_matmod.ms1 import MS13D\n",
    "import bmcs_matmod.ms1.concrete_material_db as mp_db\n",
    "from ibvpy.tmodel.mats3D.mats3D_microplane import \\\n",
    "    MATS3DMplCSDEEQ"
   ]
  },
  {
   "cell_type": "code",
   "execution_count": 2,
   "id": "728a4618-32d1-4c78-ac2a-a71ee0ab87e3",
   "metadata": {},
   "outputs": [],
   "source": [
    "from bmcs_matmod.slide.vslide_34_ij import MATS3DSlideStrain\n",
    "class Debugging(MATS3DSlideStrain):\n",
    "    def get_corr_pred(self, eps_Emab_n1, tn1, **state):\n",
    "        n_i = self.n_a\n",
    "        eps_ij = eps_Emab_n1\n",
    "        eps_N = np.einsum('...ij,...i,...j->...', eps_ij, n_i, n_i)\n",
    "\n",
    "        eps_T_Ema = self.get_eps_T(eps_ij, n_i)\n",
    "        \n",
    "        eps_NT_Ema = np.zeros_like(eps_T_Ema)\n",
    "        eps_NT_Ema[..., 0] = eps_N\n",
    "        eps_NT_Ema[..., 1] = eps_T_Ema[...,0]\n",
    "        \n",
    "        se = self.slide_displ\n",
    "        sig_NT_Ema, D_Emab = se.get_corr_pred(eps_NT_Ema, tn1, **state)\n",
    "        # sig_NT_Ema[...,0] = np.clip(sig_NT_Ema[...,0], 0, 2)\n",
    "        # print(eps_NT_Ema)\n",
    "        # print(sig_NT_Ema)\n",
    "        eps_N_p, eps_T_p_x, eps_T_p_y = state['w_pi'], state['s_pi_x'], state['s_pi_y']\n",
    "        eps_T = self.get_eps_T(eps_ij, n_i)\n",
    "        eps_T_p_i = self.get_eps_T_p(eps_T_p_x, eps_T)\n",
    "        omega_N_Em, omega_T_Em = state['omega_N'], state['omega_T']\n",
    "        phi_Emab = np.zeros_like(eps_Emab_n1)\n",
    "\n",
    "\n",
    "        phi_Emab[..., 1, 1] = np.sqrt(1 - omega_N_Em)\n",
    "        phi_Emab[..., 0, 0] = np.sqrt(1 - omega_T_Em)\n",
    "\n",
    "        phi_Emab[..., 2, 2] = 1\n",
    "\n",
    "\n",
    "\n",
    "        beta_Emijkl = np.einsum('...ik,...lj->...ijkl', phi_Emab, phi_Emab)\n",
    "\n",
    "        eps_ij_p = (np.einsum('i,...j->...ij', n_i, eps_T_p_i) +\n",
    "                    np.einsum('...i,j->...ij', eps_T_p_i,n_i) +\n",
    "                    np.einsum('...,i,j->...ij', eps_N_p, n_i, n_i)\n",
    "                   )\n",
    "\n",
    "        D_abef = self.D_abef\n",
    "        D_Emabcd = np.einsum('...ijkl,klrs,...rstu->...ijtu', beta_Emijkl, D_abef, beta_Emijkl)\n",
    "\n",
    "        sigma_Emab = np.einsum('...ijkl,...kl->...ij', D_Emabcd, (eps_Emab_n1 - eps_ij_p))\n",
    "        # E = 37000\n",
    "        # nu = 0.18\n",
    "        # E_T = self.get_E_T( E, nu, n_i)\n",
    "        # # sigma_Emab = (np.einsum( '...ijkl,...kl->...ij',D_abef, eps_ij) \n",
    "        # #         - np.einsum( '...,...i,...j->...ij', eps_N, n_i, n_i) * E \n",
    "        # #         + np.einsum( '...,...i,...j,...->...ij', (eps_N - eps_N_p) , n_i, n_i, (1-omega_N_Em)* E)\n",
    "        # #         - E_T*(np.einsum('...i,...j->...ij', n_i, eps_T_Ema) + np.einsum('...i,...j->...ij', eps_T_Ema, n_i))\n",
    "        # #         + (np.einsum('...,...i,...j->...ij', (1 - omega_T_Em)*E_T, n_i, (eps_T_Ema - eps_T_p_i)) + np.einsum('...,...i,...j->...ij', (1 - omega_T_Em)*E_T, (eps_T_Ema - eps_T_p_i), n_i)) \n",
    "        # #        )  \n",
    "        # # print(sigma_Emab)\n",
    "        # sigma_Emab  = np.einsum( '...ijkl,...kl->...ij',D_abef, (eps_ij - eps_ij_p)) \n",
    "        # sigma_Emab[...,1,1] = sig_NT_Ema[...,0]\n",
    "        # sigma_Emab[...,0,1] = sigma_Emab[...,1,0] = sig_NT_Ema[...,1]\n",
    "        \n",
    "        # print(D_Emabcd)\n",
    "                  \n",
    "\n",
    "        return sigma_Emab, D_Emabcd"
   ]
  },
  {
   "cell_type": "markdown",
   "id": "fe55870d-2a6b-4b5a-ba55-a2cd17b86ebc",
   "metadata": {},
   "source": [
    "## FE Axisymmetric discretization"
   ]
  },
  {
   "cell_type": "code",
   "execution_count": 3,
   "id": "4de8df28-9e4c-416e-9336-33fd02649bcd",
   "metadata": {},
   "outputs": [],
   "source": [
    "def get_D_ijkl(E,nu):\n",
    "    delta_ij = np.identity(3)\n",
    "    la = E * nu / ((1. + nu) * (1. - 2. * nu))\n",
    "    mu = E / (2. + 2.* nu)\n",
    "    D_ijkl = (np.einsum(',ij,kl->ijkl', la, delta_ij, delta_ij) +\n",
    "              np.einsum(',ik,jl->ijkl', mu, delta_ij, delta_ij) +\n",
    "              np.einsum(',il,jk->ijkl', mu, delta_ij, delta_ij))\n",
    "    return D_ijkl"
   ]
  },
  {
   "cell_type": "code",
   "execution_count": 4,
   "id": "f95ec508-5154-4fef-b399-9d320a1db569",
   "metadata": {},
   "outputs": [],
   "source": [
    "def get_E_T(E,nu,n_i):\n",
    "    delta_ij = np.identity(3)\n",
    "    D_ijkl = get_D_ijkl(E,nu)\n",
    "    operator = 0.5*(np.einsum('i,jk,l->ijkl',n_i,delta_ij,n_i) \n",
    "                 + np.einsum('j,ik,l->jikl',n_i,delta_ij,n_i) \n",
    "                 - 2*np.einsum('i,j,k,l->ijkl',n_i,n_i,n_i,n_i))\n",
    "    E_T = np.einsum('ijkl,ijkl->', D_ijkl, operator)\n",
    "    return E_T"
   ]
  },
  {
   "cell_type": "code",
   "execution_count": 5,
   "id": "3cda00a6-1666-4a4f-a318-53aa06afe317",
   "metadata": {},
   "outputs": [],
   "source": [
    "# CAxisymm = dict(\n",
    "#     E = 40e+3,\n",
    "#     nu = 0.18,\n",
    "#     Ad = 3000.0,\n",
    "#     eps_0 = 0.00001,\n",
    "#     K_N = 17000.,\n",
    "#     sigma_N_0 = 45.,\n",
    "#     gamma_N = 9000.,\n",
    "#     sigma_T_0 = 300.0,\n",
    "#     K_T = 20000.0,\n",
    "#     gamma_T = 50000,\n",
    "#     S_T = 0.0075,\n",
    "#     c_T = 2.,\n",
    "#     r_T = 2.,\n",
    "#     m_T = 0.1,\n",
    "#     p_T = 1.\n",
    "# )\n",
    "\n",
    "CAxisymm = dict(\n",
    "    E = 40e+3,\n",
    "    nu = 0.,\n",
    "    Ad = 500.0,\n",
    "    eps_0 = 0.00001,\n",
    "    K_N = 17000.,\n",
    "    sigma_N_0 = 45.,\n",
    "    gamma_N = 9000.,\n",
    "    sigma_T_0 = 0.8,\n",
    "    K_T = 100.0,\n",
    "    gamma_T = 100,\n",
    "    S_T = 0.00001,\n",
    "    c_T = 1.6,\n",
    "    r_T = 2.,\n",
    "    m_T = 0.1,\n",
    "    p_T = 1.\n",
    ")\n",
    "\n",
    "CAxisymmMDM = dict(\n",
    "    epsilon_0 = 59.0e-6,\n",
    "    epsilon_f = 250.0e-6,\n",
    "    c_T = 0.02,\n",
    "    E = 40000,\n",
    "    nu = 0.18\n",
    ")"
   ]
  },
  {
   "cell_type": "code",
   "execution_count": 27,
   "id": "67ff492f-2496-486c-92e9-67edd7aa0e1d",
   "metadata": {
    "scrolled": true,
    "tags": []
   },
   "outputs": [],
   "source": [
    "n_x_e = 4\n",
    "n_inner_y_e = 2\n",
    "n_outer_y_e = 2\n",
    "L_x = 40.0 # [mm]\n",
    "d_x = L_x / n_x_e\n",
    "R_in = 25 # [mm]\n",
    "dR = 2 # [mm]\n",
    "R_out = 50 # [mm]\n",
    "len_notch = 20\n",
    "n_notch = 1\n",
    "# geo_transform\n",
    "# gmesh\n",
    "xd_inner = XDomainFEGridAxiSym(integ_factor = 2 * np.pi,\n",
    "                               coord_min=(0, 0),\n",
    "                               coord_max=(L_x, R_in),\n",
    "                               shape=(n_x_e, n_inner_y_e),\n",
    "                               fets=FETS2D4Q())\n",
    "xd_middle = XDomainFEGridAxiSym(integ_factor = 2 * np.pi,\n",
    "                               coord_min=(0+n_notch*d_x, R_in),\n",
    "                               coord_max=(L_x-n_notch*d_x, R_in+dR),\n",
    "                               shape=(n_x_e-2*n_notch, 1),\n",
    "                               fets=FETS2D4Q())\n",
    "xd_outer = XDomainFEGridAxiSym(integ_factor = 2 * np.pi,\n",
    "                               coord_min=(0, R_in+dR),\n",
    "                               coord_max=(L_x, R_out),\n",
    "                               shape=(n_x_e, n_outer_y_e),\n",
    "                               fets=FETS2D4Q())\n",
    "m_elastic = MATS3DElastic(E=40000, nu=0.)\n",
    "# m_elastic = MATS3DMplDamageEEQ(**CAxisymmMDM)\n",
    "# m_elastic = MS13D(**CAxisymm)\n",
    "\n",
    "\n",
    "# m_inelastic = MATS3DElastic(E=37000, nu=0.18)\n",
    "n_i = [0,1,0]\n",
    "E = 37000\n",
    "nu = 0.18\n",
    "material_params =  dict(\n",
    "     E_T=get_E_T(E,nu,n_i), gamma_T=10000, K_T=0, S_T=0.005, c_T=6, bartau=6, \n",
    "     E_N=E, S_N=0.5, c_N = 3, m = 0.1, f_t=4, f_c=100, f_c0 = 80, eta=0.)\n",
    "bond_m = Slide34(**material_params)\n",
    "m_inelastic = MS13D(**CAxisymm)\n",
    "# m_inelastic = MATS3DMplDamageEEQ(**CAxisymmMDM)\n",
    "# m_inelastic = Debugging(slide_displ=bond_m)\n",
    "m = TStepBC(\n",
    "    domains=[(xd_inner, m_elastic),\n",
    "             (xd_outer, m_elastic),\n",
    "             (xd_middle, m_inelastic),\n",
    "             ]\n",
    ")"
   ]
  },
  {
   "cell_type": "markdown",
   "id": "63b627b3-6b28-40b0-8466-c33770c76013",
   "metadata": {},
   "source": [
    "## Boundary and transition conditions"
   ]
  },
  {
   "cell_type": "code",
   "execution_count": 28,
   "id": "044557ca-f2bb-4b1c-87d3-c3f0cd8b5f6e",
   "metadata": {},
   "outputs": [],
   "source": [
    "tf_precrompression = TFBilinear(loading_ratio = 1.0, time_ratio=0.1)\n",
    "tf_sliding = TFBilinear(loading_ratio = 0.0, time_ratio=0.1)"
   ]
  },
  {
   "cell_type": "markdown",
   "id": "2dfe8e22-8d81-4c97-837a-aed277cf5e5d",
   "metadata": {},
   "source": [
    "### Kinematic links between the domains"
   ]
  },
  {
   "cell_type": "code",
   "execution_count": 29,
   "id": "8d30db9d-a1c9-4c76-a240-38f0c229e4d8",
   "metadata": {},
   "outputs": [],
   "source": [
    "# xd_inner.mesh.dofs"
   ]
  },
  {
   "cell_type": "code",
   "execution_count": 30,
   "id": "247142d2-c34e-49db-8c3e-3bb12bcc9823",
   "metadata": {},
   "outputs": [],
   "source": [
    "# xd_outer.mesh.dofs"
   ]
  },
  {
   "cell_type": "code",
   "execution_count": 31,
   "id": "62b15bf9-d804-4f9c-88f8-858b338b9e45",
   "metadata": {},
   "outputs": [],
   "source": [
    "# xd_middle.mesh.dofs"
   ]
  },
  {
   "cell_type": "code",
   "execution_count": 32,
   "id": "8a79dfad-4822-40b2-a423-edbe9ba3d861",
   "metadata": {},
   "outputs": [],
   "source": [
    "# xd_middle.mesh.I[:, -1].dofs"
   ]
  },
  {
   "cell_type": "code",
   "execution_count": 33,
   "id": "84612c3f-9452-4485-94ef-f57cb11b358b",
   "metadata": {},
   "outputs": [],
   "source": [
    "# xd_inner.mesh.I[:, -1].dofs"
   ]
  },
  {
   "cell_type": "code",
   "execution_count": 34,
   "id": "9893c53f-cc19-4e72-bc6c-5419650e7b9f",
   "metadata": {},
   "outputs": [],
   "source": [
    "link_inner_middle_0 = BCSliceI(var='u', dims=[0],\n",
    "                             # slice=xd_inner.mesh.I[:, -1], \n",
    "                             slice=xd_inner.mesh.I[n_notch:-n_notch, -1], \n",
    "                             link_slice=xd_middle.mesh.I[:, 0],\n",
    "                             link_coeffs=[1],\n",
    "                             link_dims=[0],\n",
    "                             value=0,\n",
    "                            )\n",
    "\n",
    "link_inner_middle_1 = BCSliceI(var='u', dims=[1],\n",
    "                             # slice=xd_inner.mesh.I[:, -1], \n",
    "                             slice=xd_inner.mesh.I[n_notch:-n_notch, -1], \n",
    "                             link_slice=xd_middle.mesh.I[:, 0],\n",
    "                             link_coeffs=[1],\n",
    "                             link_dims=[1],\n",
    "                             value=0,\n",
    "                            )\n",
    "\n",
    "link_middle_outer_0 = BCSliceI(var='u', dims=[0],\n",
    "                             slice=xd_outer.mesh.I[n_notch:-n_notch, 0], \n",
    "                             # slice=xd_outer.mesh.I[:, 0], \n",
    "                             link_slice=xd_middle.mesh.I[:, -1],\n",
    "                             link_coeffs=[1],\n",
    "                             link_dims=[0],\n",
    "                             value=0,\n",
    "                            )\n",
    "\n",
    "link_middle_outer_1 = BCSliceI(var='u', dims=[1],\n",
    "                             slice=xd_outer.mesh.I[n_notch:-n_notch, 0], \n",
    "                             # slice=xd_outer.mesh.I[:, 0], \n",
    "                             link_slice=xd_middle.mesh.I[:, -1],\n",
    "                             link_coeffs=[1],\n",
    "                             link_dims=[1],\n",
    "                             value=0,\n",
    "                            )\n",
    "\n",
    "# link_middle_outer = BCSliceI(var='u', dims=[0, 1],\n",
    "#                              slice=xd_middle.mesh.I[n_notch:-n_notch, 0], \n",
    "#                              # slice=xd_outer.mesh.I[:, 0], \n",
    "#                              link_slice=xd_outer.mesh.I[:, -1],\n",
    "#                              link_coeffs=[1, 1],\n",
    "#                              link_dims=[0, 1],\n",
    "#                              value=0,\n",
    "#                             )"
   ]
  },
  {
   "cell_type": "code",
   "execution_count": 35,
   "id": "4a1b494f-b4aa-4631-9c01-93a08aa695f9",
   "metadata": {},
   "outputs": [
    {
     "data": {
      "text/plain": [
       "array([36, 42, 48])"
      ]
     },
     "execution_count": 35,
     "metadata": {},
     "output_type": "execute_result"
    }
   ],
   "source": [
    "link_middle_outer_0.dofs"
   ]
  },
  {
   "cell_type": "markdown",
   "id": "f580db57-0a0d-4227-9a00-468229b31c2d",
   "metadata": {},
   "source": [
    "### Compression/Traction fc"
   ]
  },
  {
   "cell_type": "code",
   "execution_count": 36,
   "id": "f0d09f63-e4b5-4298-8805-8651450e8dc4",
   "metadata": {
    "tags": []
   },
   "outputs": [],
   "source": [
    "# inner_fixed_1 = BCSliceI(slice=xd_inner.mesh.I[:, 0], var='u', dims=[1], value=0)\n",
    "# outer_fixed_0 = BCSliceI(slice=xd_outer.mesh.I[0, :], var='u', dims=[0], value=0)\n",
    "\n",
    "# outer_compression_slice = BCSliceI(slice=xd_outer.mesh.I[:, -1],\n",
    "#                                    var='u', dims=[1], value=-0.6)\n",
    "\n",
    "# compression_dofs = outer_compression_slice.dofs\n",
    "# compression_stress = -10\n",
    "# compression_force = compression_stress  * 2*np.pi*R_out * L_x / len(compression_dofs)\n",
    "# outer_compression_force_first = [BCDof(var='f', dof=dof, value=compression_force) \n",
    "#                                  for dof in compression_dofs ]\n",
    "# # outer_compression_force_first[0].value *=0.5\n",
    "# # outer_compression_force_first[-1].value *=0.5\n",
    "# bc1 = [inner_fixed_1, \n",
    "# #       outer_fixed_0,\n",
    "#        link_inner_middle,\n",
    "#        link_middle_outer,\n",
    "#       outer_compression_slice] #+ outer_compression_force_first"
   ]
  },
  {
   "cell_type": "markdown",
   "id": "6aaae478-839b-47c4-8241-be7d504d2f37",
   "metadata": {},
   "source": [
    "### Sliding dc"
   ]
  },
  {
   "cell_type": "code",
   "execution_count": 37,
   "id": "2a0d918a-d7a2-4571-a6e3-b2164da9cbf1",
   "metadata": {
    "tags": []
   },
   "outputs": [],
   "source": [
    "# inner_fixed_1 = BCSliceI(slice=xd_inner.mesh.I[:, 0], var='u', dims=[1], value=0)\n",
    "# inner_fixed_0 = BCSliceI(slice=xd_inner.mesh.I[0, :], var='u', dims=[0], value=0)\n",
    "# inner_outer_1 = BCSliceI(slice=xd_outer.mesh.I[:, 0], var='u', dims=[1], value=0)\n",
    "\n",
    "# outer_slide_slice = BCSliceI(slice=xd_outer.mesh.I[0, :],\n",
    "#                                    var='u', dims=[0], value=-0.1)\n",
    "\n",
    "\n",
    "# bc1 =   [inner_fixed_1, \n",
    "#         inner_fixed_0,\n",
    "#          inner_outer_1,\n",
    "#         link_inner_middle,\n",
    "#         link_middle_outer,\n",
    "#         outer_slide_slice]"
   ]
  },
  {
   "cell_type": "markdown",
   "id": "03efb5f3-fe7e-45d6-8904-81dcbfdd6ebe",
   "metadata": {},
   "source": [
    "## Sliding dc + Precompression fc"
   ]
  },
  {
   "cell_type": "code",
   "execution_count": 38,
   "id": "96bc8948-7a22-42d7-ac9a-0a321034ec80",
   "metadata": {},
   "outputs": [],
   "source": [
    "# inner_fixed_1 = BCSliceI(slice=xd_inner.mesh.I[:, 0], var='u', dims=[1], value=0)\n",
    "# inner_fixed_0 = BCSliceI(slice=xd_inner.mesh.I[0, :], var='u', dims=[0], value=0)\n",
    "# outer_fixed_1 = BCSliceI(slice=xd_outer.mesh.I[:, -1], var='u', dims=[1], value=0)\n",
    "\n",
    "# outer_slide_slice = BCSliceI(slice=xd_outer.mesh.I[-1, :],\n",
    "#                                    var='u', dims=[0], value=-0.1)\n",
    "\n",
    "# slide_control_dofs = outer_slide_slice.dofs\n",
    "# outer_slide = [BCDof(var='u', dof=dof, value=-0.1 , time_function=tf_sliding) \n",
    "#                      for dof in slide_control_dofs ]\n",
    "\n",
    "\n",
    "# outer_compression_slice = BCSliceI(slice=xd_outer.mesh.I[:, -1],\n",
    "#                                    var='u', dims=[1], value=-5)\n",
    "\n",
    "# compression_dofs = outer_compression_slice.dofs\n",
    "# compression_stress = -5\n",
    "# compression_force = compression_stress  * 2* np.pi* R_out * L_x / len(compression_dofs)\n",
    "# outer_compression_force_first = [BCDof(var='f', dof=dof, value=compression_force, time_function=tf_precrompression) \n",
    "#                                  for dof in compression_dofs ]\n",
    "# # outer_compression_force_first = [BCDof(var='u', dof=dof, value=0.01, time_function=tf_precrompression) \n",
    "# #                                  for dof in compression_dofs ]\n",
    "# outer_compression_force_first[0].value *=0.5\n",
    "# outer_compression_force_first[-1].value *=0.5\n",
    "\n",
    "# bc1 =   [inner_fixed_1, \n",
    "#         # outer_fixed_1,\n",
    "#          inner_fixed_0,\n",
    "#         link_middle_outer_0,\n",
    "#          link_middle_outer_1,\n",
    "#         link_inner_middle_0,\n",
    "#          link_inner_middle_1\n",
    "#         ] + outer_compression_force_first + outer_slide"
   ]
  },
  {
   "cell_type": "code",
   "execution_count": 39,
   "id": "20384cf3-6190-4179-adb8-7ccee4bac9ee",
   "metadata": {},
   "outputs": [],
   "source": [
    "inner_fixed_1 = BCSliceI(slice=xd_inner.mesh.I[:, 0], var='u', dims=[1], value=0)\n",
    "outer_fixed_0 = BCSliceI(slice=xd_outer.mesh.I[0, :], var='u', dims=[0], value=0)\n",
    "\n",
    "inner_slide_slice = BCSliceI(slice=xd_inner.mesh.I[-1, :],\n",
    "                                   var='u', dims=[0], value=-0.1)\n",
    "\n",
    "slide_control_dofs = inner_slide_slice.dofs\n",
    "inner_slide = [BCDof(var='u', dof=dof, value=-0.1 , time_function=tf_sliding) \n",
    "                     for dof in slide_control_dofs ]\n",
    "\n",
    "\n",
    "outer_compression_slice = BCSliceI(slice=xd_outer.mesh.I[:, -1],\n",
    "                                   var='u', dims=[1], value=-5)\n",
    "\n",
    "compression_dofs = outer_compression_slice.dofs\n",
    "compression_stress = -5\n",
    "compression_force = compression_stress  * 2* np.pi* R_out * L_x / len(compression_dofs)\n",
    "outer_compression_force_first = [BCDof(var='f', dof=dof, value=compression_force, time_function=tf_precrompression) \n",
    "                                 for dof in compression_dofs ]\n",
    "# outer_compression_force_first = [BCDof(var='u', dof=dof, value=0.01, time_function=tf_precrompression) \n",
    "#                                  for dof in compression_dofs ]\n",
    "outer_compression_force_first[0].value *=0.5\n",
    "outer_compression_force_first[-1].value *=0.5\n",
    "\n",
    "bc1 =   [inner_fixed_1, \n",
    "         outer_fixed_0,\n",
    "        link_middle_outer_0,\n",
    "         link_middle_outer_1,\n",
    "        link_inner_middle_0,\n",
    "         link_inner_middle_1\n",
    "        ] + outer_compression_force_first + inner_slide"
   ]
  },
  {
   "cell_type": "code",
   "execution_count": 40,
   "id": "01873f7b-075a-4335-8e77-fb0936dce09d",
   "metadata": {},
   "outputs": [
    {
     "data": {
      "text/plain": [
       "array([35, 41, 47, 53, 59])"
      ]
     },
     "execution_count": 40,
     "metadata": {},
     "output_type": "execute_result"
    }
   ],
   "source": [
    "compression_dofs"
   ]
  },
  {
   "cell_type": "markdown",
   "id": "832e973d-6d20-4c5b-bf64-5cef7aee05b6",
   "metadata": {},
   "source": [
    "### Sliding fc"
   ]
  },
  {
   "cell_type": "code",
   "execution_count": 41,
   "id": "ce0bf989-b4f8-4848-aa1b-6e7efda1b62a",
   "metadata": {
    "tags": []
   },
   "outputs": [],
   "source": [
    "#lower_fixed_0 = BCSlice(slice=xd_lower.mesh[:, 0, :, 0], var='u', dims=[1], value=0)\n",
    "#upper_fixed_1 = BCSlice(slice=xd_upper.mesh[0, :, 0, :], var='u', dims=[0], value=0)\n",
    "#\n",
    "#\n",
    "#\n",
    "#lower_slide = BCSlice(slice=xd_lower.mesh[0, :, 0, :], var='u', dims=[0], value=0)\n",
    "#Force = 10 / len(lower_slide.dofs)\n",
    "#lower_slide_force = [BCDof(var='f', dof=dof, value = Force) \n",
    "#             for dof in lower_slide.dofs]\n",
    "#\n",
    "#bc1 =   [lower_fixed_0, upper_fixed_1] + lower_slide_force"
   ]
  },
  {
   "cell_type": "code",
   "execution_count": 42,
   "id": "b245b2fd-b006-4f23-a254-dec34981423a",
   "metadata": {
    "tags": []
   },
   "outputs": [
    {
     "data": {
      "text/plain": [
       "[<ibvpy.sim.domain_state.DomainState at 0x20d5222a3b0>,\n",
       " <ibvpy.sim.domain_state.DomainState at 0x20d52755810>,\n",
       " <ibvpy.sim.domain_state.DomainState at 0x20d527558b0>]"
      ]
     },
     "execution_count": 42,
     "metadata": {},
     "output_type": "execute_result"
    }
   ],
   "source": [
    "m.bc=bc1\n",
    "m.hist.vis_record = {\n",
    "#    'strain': Vis3DTensorField(var='eps_ab'),\n",
    "    'stress': Vis3DTensorField(var='sig_ab'),\n",
    "    #        'kinematic hardening': Vis3DStateField(var='z_a')\n",
    "}\n",
    "\n",
    "s = m.sim\n",
    "s.tloop.verbose = True\n",
    "s.tloop.k_max = 1000\n",
    "s.tline.step = 0.01\n",
    "# Accessing the following property - ensures serialization\n",
    "s.tstep.fe_domain.serialized_subdomains"
   ]
  },
  {
   "cell_type": "code",
   "execution_count": 43,
   "id": "1c314099-6adc-4129-ac74-41272fd49393",
   "metadata": {
    "scrolled": true
   },
   "outputs": [
    {
     "name": "stdout",
     "output_type": "stream",
     "text": [
      "t:\t 0.00(0), \n",
      "\t 0.01(1), \n",
      "\t 0.02(5), \n",
      "\t 0.03(10), \n",
      "\t 0.04(12), \n",
      "\t 0.05(12), \n",
      "\t 0.06(13), \n",
      "\t 0.07(13), \n",
      "\t 0.08(14), \n",
      "\t 0.09(14), \n",
      "\t 0.10(14), \n",
      "\t 0.11(12), \n",
      "\t 0.12(14), \n",
      "\t 0.13(18), \n",
      "\t 0.14(23), \n",
      "\t 0.15(27), \n",
      "\t 0.16(29), \n",
      "\t 0.17(29), \n",
      "\t 0.18(29), \n",
      "\t 0.19(29), \n",
      "\t 0.20(29), \n",
      "\t 0.21(29), \n",
      "\t 0.22(30), \n",
      "\t 0.23(30), \n",
      "\t 0.24(30), \n",
      "\t 0.25(31), \n",
      "\t 0.26(31), \n",
      "\t 0.27(32), \n",
      "\t 0.28(33), \n",
      "\t 0.29(34), \n",
      "\t 0.30(36), \n",
      "\t 0.31(37), \n",
      "\t 0.32(39), \n",
      "\t 0.33(42), \n",
      "\t 0.34(47), \n",
      "\t 0.35(52), \n",
      "\t 0.36(59), \n",
      "\t 0.37(70), \n",
      "\t 0.38(99), \n",
      "\t 0.39(93), \n",
      "\t 0.40(30), \n",
      "\t 0.41(30), \n",
      "\t 0.42(30), \n",
      "\t 0.43(30), \n",
      "\t 0.44(30), \n",
      "\t 0.45(30), \n",
      "\t 0.46(30), \n",
      "\t 0.47(30), \n",
      "\t 0.48(31), \n",
      "\t 0.49(31), \n",
      "\t 0.50(31), \n",
      "\t 0.51(31), \n",
      "\t 0.52(31), \n",
      "\t 0.53(31), \n",
      "\t 0.54(31), \n",
      "\t 0.55(31), \n",
      "\t 0.56(31), \n",
      "\t 0.57(31), \n",
      "\t 0.58(31), \n",
      "\t 0.59(31), \n",
      "\t 0.60(31), \n",
      "\t 0.61(31), \n",
      "\t 0.62(31), \n",
      "\t 0.63(31), \n",
      "\t 0.64(31), \n",
      "\t 0.65(31), \n",
      "\t 0.66(31), \n",
      "\t 0.67(31), \n",
      "\t 0.68(31), \n",
      "\t 0.69(31), \n",
      "\t 0.70(31), \n",
      "\t 0.71(31), \n",
      "\t 0.72(31), \n",
      "\t 0.73(31), \n",
      "\t 0.74(31), \n",
      "\t 0.75(31), \n",
      "\t 0.76(31), \n",
      "\t 0.77(31), \n",
      "\t 0.78(31), \n",
      "\t 0.79(31), \n",
      "\t 0.80(31), \n",
      "\t 0.81(31), \n",
      "\t 0.82(31), \n",
      "\t 0.83(31), \n",
      "\t 0.84(31), \n",
      "\t 0.85(31), \n",
      "\t 0.86(31), \n",
      "\t 0.87(31), \n",
      "\t 0.88(31), \n",
      "\t 0.89(31), \n",
      "\t 0.90(31), \n",
      "\t 0.91(31), \n",
      "\t 0.92(31), \n",
      "\t 0.93(31), \n",
      "\t 0.94(31), \n",
      "\t 0.95(32), \n",
      "\t 0.96(32), \n",
      "\t 0.97(32), \n",
      "\t 0.98(32), \n",
      "\t 0.99(32), \n",
      "\t 1.00(32), \n",
      "\n"
     ]
    }
   ],
   "source": [
    "s.reset()\n",
    "s.run()"
   ]
  },
  {
   "cell_type": "markdown",
   "id": "de3a1a04-59ab-44eb-be0c-b07105123ba4",
   "metadata": {},
   "source": [
    "## Postprocesing"
   ]
  },
  {
   "cell_type": "markdown",
   "id": "9ebdb24a-61a6-44ce-80b2-55bdc6b9d434",
   "metadata": {},
   "source": [
    "### Access the last displacement step"
   ]
  },
  {
   "cell_type": "code",
   "execution_count": 44,
   "id": "d055557f-49ff-483c-b532-c4ec207021fd",
   "metadata": {},
   "outputs": [],
   "source": [
    "F = m.hist.F_t\n",
    "U = m.hist.U_t"
   ]
  },
  {
   "cell_type": "code",
   "execution_count": 45,
   "id": "74ea5c59-7545-4090-91ea-3a30b33fe68e",
   "metadata": {},
   "outputs": [],
   "source": [
    "F_slide = np.sum(F[:, slide_control_dofs], axis=-1)\n",
    "U_slide = np.average(U[:, slide_control_dofs], axis=-1)"
   ]
  },
  {
   "cell_type": "code",
   "execution_count": 46,
   "id": "e5d3b09e-94ab-481f-91bd-b9ab3d94779d",
   "metadata": {},
   "outputs": [
    {
     "data": {
      "text/plain": [
       "<matplotlib.legend.Legend at 0x20d5562b610>"
      ]
     },
     "execution_count": 46,
     "metadata": {},
     "output_type": "execute_result"
    },
    {
     "data": {
      "application/vnd.jupyter.widget-view+json": {
       "model_id": "6641f3b6ad584d7ba70badeb300866c5",
       "version_major": 2,
       "version_minor": 0
      },
      "text/html": [
       "\n",
       "            <div style=\"display: inline-block;\">\n",
       "                <div class=\"jupyter-widgets widget-label\" style=\"text-align: center;\">\n",
       "                    Figure\n",
       "                </div>\n",
       "                <img src='data:image/png;base64,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' width=640.0/>\n",
       "            </div>\n",
       "        "
      ],
      "text/plain": [
       "Canvas(toolbar=Toolbar(toolitems=[('Home', 'Reset original view', 'home', 'home'), ('Back', 'Back to previous …"
      ]
     },
     "metadata": {},
     "output_type": "display_data"
    }
   ],
   "source": [
    "_, ax = plt.subplots(1,1)\n",
    "ax.plot(-U_slide, -F_slide/1000, label='5 MPa confinement')\n",
    "# ax.plot(-U_slide_2, -F_slide_2/1000, label='15 MPa confinement')\n",
    "# ax.plot(-U_slide_3, -F_slide_3/1000, label='30 MPa confinement')\n",
    "ax.set_ylabel('Force [kN]')\n",
    "ax.set_xlabel('Displacement [mm]')\n",
    "ax.legend()"
   ]
  },
  {
   "cell_type": "code",
   "execution_count": 26,
   "id": "7ade4a8b-1e71-4aef-8a3d-ad489f711b27",
   "metadata": {},
   "outputs": [],
   "source": [
    "if True:\n",
    "    mlab.options.backend = 'envisage'\n",
    "    mlab.options.offscreen = False # 'envisage'\n",
    "    f_strain = mlab.figure()\n",
    "    scene = mlab.get_engine().scenes[-1]\n",
    "    scene.name = 'stress'\n",
    "    strain_viz = Viz3DTensorField(vis3d=m.hist['stress'])\n",
    "    strain_viz.setup()\n",
    "    strain_viz.warp_vector.filter.scale_factor = 0.1\n",
    "    strain_viz.plot(s.tstep.t_n)\n",
    "    mlab.show()"
   ]
  },
  {
   "cell_type": "code",
   "execution_count": null,
   "id": "94486a18-89da-4d50-a819-4a855bf32baf",
   "metadata": {},
   "outputs": [],
   "source": [
    "# eps_Emab = xd_middle.map_U_to_field(U[-1])\n",
    "# m.fe_domain[2].state_k\n",
    "# m_inelastic.get_corr_pred(eps_Emab, 1, **m.fe_domain[2].state_k)"
   ]
  },
  {
   "cell_type": "code",
   "execution_count": null,
   "id": "bd8162b2-651e-435a-89ba-52887d2ed22e",
   "metadata": {},
   "outputs": [],
   "source": [
    "m.fe_domain[1].state_k"
   ]
  },
  {
   "cell_type": "code",
   "execution_count": null,
   "id": "e8965ad4-6ccf-4b12-9eea-d796e009f667",
   "metadata": {},
   "outputs": [],
   "source": []
  }
 ],
 "metadata": {
  "kernelspec": {
   "display_name": "bmcs_env",
   "language": "python",
   "name": "bmcs_env"
  },
  "language_info": {
   "codemirror_mode": {
    "name": "ipython",
    "version": 3
   },
   "file_extension": ".py",
   "mimetype": "text/x-python",
   "name": "python",
   "nbconvert_exporter": "python",
   "pygments_lexer": "ipython3",
   "version": "3.9.7"
  },
  "toc": {
   "base_numbering": 1,
   "nav_menu": {},
   "number_sections": true,
   "sideBar": true,
   "skip_h1_title": false,
   "title_cell": "Table of Contents",
   "title_sidebar": "Contents",
   "toc_cell": false,
   "toc_position": {},
   "toc_section_display": true,
   "toc_window_display": false
  }
 },
 "nbformat": 4,
 "nbformat_minor": 5
}
