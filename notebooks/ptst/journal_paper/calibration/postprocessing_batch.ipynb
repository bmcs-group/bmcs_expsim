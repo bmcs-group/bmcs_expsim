{
 "cells": [
  {
   "cell_type": "markdown",
   "id": "c1143535-2d2e-4f5b-9451-f6c5aa78b5aa",
   "metadata": {},
   "source": [
    "# Postprocessing PTST monotonic and cyclic results"
   ]
  },
  {
   "cell_type": "code",
   "execution_count": 29,
   "id": "83f63e78-3bbd-4515-9b2f-895b2b51c826",
   "metadata": {},
   "outputs": [],
   "source": [
    "%matplotlib widget\n",
    "import numpy as np\n",
    "import matplotlib.pylab as plt\n",
    "import pandas as pd\n",
    "import matplotlib.image as mpimg\n",
    "from matplotlib.offsetbox import OffsetImage, AnnotationBbox\n",
    "from mpl_toolkits.axes_grid1 import make_axes_locatable\n",
    "import matplotlib as mpl\n",
    "import csv"
   ]
  },
  {
   "cell_type": "code",
   "execution_count": 13,
   "id": "fb7c69e1-5e43-4e1a-a314-a1c54d6469c6",
   "metadata": {},
   "outputs": [],
   "source": [
    "path_initial = r'C:\\Users\\marag\\OneDrive - rwth-aachen.de\\PTST Journal Paper\\Calibration\\3.00\\PTST_dc'"
   ]
  },
  {
   "cell_type": "code",
   "execution_count": 17,
   "id": "a8ee21f6-6773-4357-8a98-985c4b91fe11",
   "metadata": {},
   "outputs": [],
   "source": [
    "list_confinement = [0, 4, 8, 16, 32]"
   ]
  },
  {
   "cell_type": "markdown",
   "id": "db2ce002-cfb8-40d0-9985-d2965c97a7d3",
   "metadata": {},
   "source": [
    "## Monotonic"
   ]
  },
  {
   "cell_type": "code",
   "execution_count": 52,
   "id": "c1ac1575-ecfa-489c-8a79-8f6362a53cc3",
   "metadata": {},
   "outputs": [],
   "source": [
    "force_list = []\n",
    "disp_list = []\n",
    "\n",
    "for i in range(len(list_confinement)):\n",
    "    monitors = path_initial + \"\\\\\" + str(list_confinement[i]) + \"MPa.gid\\\\AtenaCalculation\\\\monitors.csv\"\n",
    "    my_file = open(monitors)\n",
    "    csvreader = csv.reader(my_file,skipinitialspace=True,delimiter =';', quoting=csv.QUOTE_NONE)\n",
    "    rows = []\n",
    "    for row in csvreader:\n",
    "        # rows.append(row)\n",
    "        rows.append([element.strip() for element in row])\n",
    "    # string_list_monitor = my_file.readlines()\n",
    "    t_steps = np.array(rows[5][2]).astype(int)\n",
    "    force = []\n",
    "    for i in range(t_steps):\n",
    "        # print(rows[10+i][3])\n",
    "        force.append(np.array(rows[10+i][3]).astype(float))\n",
    "    force = np.array(force)\n",
    "    disp = []\n",
    "    for i in range(t_steps):\n",
    "        # print(rows[10+i][3])\n",
    "        # print(rows[20+i+t_steps])\n",
    "        disp.append(np.array(rows[3*10+i+2*t_steps][3]).astype(float))\n",
    "    disp = np.array(disp)\n",
    "    force_list.append(force)\n",
    "    disp_list.append(disp)"
   ]
  },
  {
   "cell_type": "code",
   "execution_count": 59,
   "id": "d2ac9d94-ddf9-4900-82e0-aa508687f71f",
   "metadata": {},
   "outputs": [
    {
     "data": {
      "application/vnd.jupyter.widget-view+json": {
       "model_id": "25896fb9cf2046acbb94c61041239fd5",
       "version_major": 2,
       "version_minor": 0
      },
      "text/plain": [
       "Canvas(toolbar=Toolbar(toolitems=[('Home', 'Reset original view', 'home', 'home'), ('Back', 'Back to previous …"
      ]
     },
     "metadata": {},
     "output_type": "display_data"
    },
    {
     "data": {
      "text/plain": [
       "<matplotlib.legend.Legend at 0x2464345afd0>"
      ]
     },
     "execution_count": 59,
     "metadata": {},
     "output_type": "execute_result"
    }
   ],
   "source": [
    "%matplotlib widget\n",
    "# study_plot = \"\\\\\" + study_variable \n",
    "list_peak = []\n",
    "\n",
    "fig, ax_1 = plt.subplots(1,1, tight_layout=True, figsize=(10,7))\n",
    "# ax_1.set_ylim(-1.5,120)\n",
    "ax_1.set_ylabel('Force [kN]')\n",
    "ax_1.set_xlabel('Displacement [mm]')\n",
    "for i in range(len(force_list)):\n",
    "    ax_1.plot(-(disp_list[i]), abs(force_list[i])/1000 * 8, label = str(list_confinement[i])) \n",
    "    list_peak_shear.append(max(abs(force_list[i])))\n",
    "ax_1.legend()"
   ]
  },
  {
   "cell_type": "code",
   "execution_count": 2,
   "id": "73c5d878-0fa9-41ba-8d5b-fe5202685f34",
   "metadata": {},
   "outputs": [],
   "source": [
    "unconfined_table = pd.read_csv(r'C:\\Users\\marag\\OneDrive - rwth-aachen.de\\GAMM\\paper\\ATENA\\PTST\\PTST_axisymm_unconfined.gid\\force_disp.csv')\n",
    "unconfined_array = np.array(unconfined_table)\n",
    "\n",
    "confined_75_table = pd.read_csv(r'C:\\Users\\marag\\OneDrive - rwth-aachen.de\\GAMM\\paper\\ATENA\\PTST\\PTST_axisymm_confined_7.5MPa_disp.gid\\force_disp.csv')\n",
    "confined_75_array = np.array(confined_75_table)\n",
    "\n",
    "confined_150_table = pd.read_csv(r'C:\\Users\\marag\\OneDrive - rwth-aachen.de\\GAMM\\paper\\ATENA\\PTST\\PTST_axisymm_confined_15MPa_disp.gid\\force_disp.csv')\n",
    "confined_150_array = np.array(confined_150_table)"
   ]
  },
  {
   "cell_type": "code",
   "execution_count": 3,
   "id": "bd25090f-46f0-4915-86b1-1823a4b4b916",
   "metadata": {},
   "outputs": [
    {
     "data": {
      "application/vnd.jupyter.widget-view+json": {
       "model_id": "76e333f0333343e4ae945ae2e5b3040c",
       "version_major": 2,
       "version_minor": 0
      },
      "text/plain": [
       "Canvas(toolbar=Toolbar(toolitems=[('Home', 'Reset original view', 'home', 'home'), ('Back', 'Back to previous …"
      ]
     },
     "metadata": {},
     "output_type": "display_data"
    },
    {
     "data": {
      "application/vnd.jupyter.widget-view+json": {
       "model_id": "a222a5e73eeb4546b9f08c96abd02a26",
       "version_major": 2,
       "version_minor": 0
      },
      "text/plain": [
       "Canvas(toolbar=Toolbar(toolitems=[('Home', 'Reset original view', 'home', 'home'), ('Back', 'Back to previous …"
      ]
     },
     "metadata": {},
     "output_type": "display_data"
    }
   ],
   "source": [
    "%matplotlib widget\n",
    "from matplotlib.offsetbox import OffsetImage, AnnotationBbox\n",
    "cm = 1/2.54  # centimeters in inches\n",
    "plt.tight_layout()\n",
    "max_F = []\n",
    "plt.rcParams[\"font.family\"] = \"Times New Roman\"\n",
    "\n",
    "fig, ((ax1, ax2, ax3, ax4))  = plt.subplots(1,4 , tight_layout=True,figsize=(21*cm, 6*cm))\n",
    "fig.canvas.header_visible=False\n",
    "\n",
    "\n",
    "ax1.plot(-unconfined_array[3:,0].astype(np.float),unconfined_array[3:,1].astype(np.float)/1000, label = 'unconfined')\n",
    "ax1.set_ylabel('force  [kN]', fontsize=10)\n",
    "ax1.set_ylim(0.00,120)\n",
    "ax1.set_xlabel('displacement [mm]', fontsize=10)\n",
    "\n",
    "ax1.plot(-confined_75_array[3:,0].astype(np.float),confined_75_array[3:,1].astype(np.float)/1000, label = '7.5 MPa confinement')\n",
    "# ax2.set_ylabel('Force  [kN]', fontsize=10)\n",
    "# ax2.set_ylim(0.00,120)\n",
    "# ax2.set_xlabel('Displacement [mm]', fontsize=10)\n",
    "\n",
    "ax1.plot(-confined_150_array[3:,0].astype(np.float),confined_150_array[3:,1].astype(np.float)/1000, label = '15 MPa confinement')\n",
    "# ax3.set_ylabel('Force  [kN]', fontsize=10)\n",
    "# ax3.set_ylim(0.00,120)\n",
    "# ax3.set_xlabel('Displacement [mm]', fontsize=10)\n",
    "\n",
    "ax1.legend(frameon=False, handlelength= 0.4, bbox_to_anchor =(1.05, -0.05), loc='lower right', labelspacing= 0.1)\n",
    "\n",
    "arr_img = plt.imread('C:\\\\Users\\\\marag\\\\OneDrive - rwth-aachen.de\\\\GAMM\\\\paper\\\\Figures\\\\pdf\\\\Monotonic\\\\color\\\\unconfined.png')\n",
    "im = OffsetImage(arr_img, zoom=.4)\n",
    "# ab = AnnotationBbox(im, (0, 0), xycoords='axes fraction')\n",
    "ax2.imshow(arr_img)\n",
    "ax2.spines['top'].set_visible(False)\n",
    "ax2.spines['right'].set_visible(False)\n",
    "ax2.spines['bottom'].set_visible(False)\n",
    "ax2.spines['left'].set_visible(False)\n",
    "ax2.get_xaxis().set_ticks([])\n",
    "ax2.get_yaxis().set_ticks([])\n",
    "ax2.set_xlabel('0 MPa confinement', fontsize=10)\n",
    "\n",
    "arr_img = plt.imread('C:\\\\Users\\\\marag\\\\OneDrive - rwth-aachen.de\\\\GAMM\\\\paper\\\\Figures\\\\pdf\\\\Monotonic\\\\color\\\\7.5.png')\n",
    "im = OffsetImage(arr_img, zoom=.4)\n",
    "# ab = AnnotationBbox(im, (0, 0), xycoords='axes fraction')\n",
    "ax3.imshow(arr_img)\n",
    "ax3.spines['top'].set_visible(False)\n",
    "ax3.spines['right'].set_visible(False)\n",
    "ax3.spines['bottom'].set_visible(False)\n",
    "ax3.spines['left'].set_visible(False)\n",
    "ax3.get_xaxis().set_ticks([])\n",
    "ax3.get_yaxis().set_ticks([])\n",
    "ax3.set_xlabel('7.5 MPa confinement', fontsize=10)\n",
    "\n",
    "\n",
    "arr_img = plt.imread('C:\\\\Users\\\\marag\\\\OneDrive - rwth-aachen.de\\\\GAMM\\\\paper\\\\Figures\\\\pdf\\\\Monotonic\\\\color\\\\15.png')\n",
    "im = OffsetImage(arr_img, zoom=.4)\n",
    "# ab = AnnotationBbox(im, (0, 0), xycoords='axes fraction')\n",
    "ax4.imshow(arr_img)\n",
    "ax4.spines['top'].set_visible(False)\n",
    "ax4.spines['right'].set_visible(False)\n",
    "ax4.spines['bottom'].set_visible(False)\n",
    "ax4.spines['left'].set_visible(False)\n",
    "ax4.get_xaxis().set_ticks([])\n",
    "ax4.get_yaxis().set_ticks([])\n",
    "ax4.set_xlabel('15 MPa confinement', fontsize=10)\n",
    "\n",
    "import string        \n",
    "for n, ax in enumerate([ax1,ax2,ax3,ax4]):     \n",
    "    ax.text(-0.1, 1.05, string.ascii_lowercase[n] + ')', transform=ax.transAxes, \n",
    "            size=10)\n",
    "plt.rcParams.update({'font.size': 10})\n",
    "\n",
    "# fig.savefig('C:\\\\Users\\\\marag\\\\OneDrive - rwth-aachen.de\\\\GAMM\\\\paper\\\\Figures\\\\png\\\\study03_PTST_monotonic.png')\n",
    "# fig.savefig('C:\\\\Users\\\\marag\\\\OneDrive - rwth-aachen.de\\\\GAMM\\\\paper\\\\Figures\\\\pdf\\\\study03_PTST_monotonic.svg')\n",
    "\n",
    "plt.show()"
   ]
  },
  {
   "cell_type": "markdown",
   "id": "8a2cb5a2-8160-4e8f-82aa-36691f7a36dd",
   "metadata": {},
   "source": [
    "## Gray scala"
   ]
  },
  {
   "cell_type": "code",
   "execution_count": 21,
   "id": "009c4006-283a-4afa-b065-96af9e9a9def",
   "metadata": {},
   "outputs": [
    {
     "data": {
      "application/vnd.jupyter.widget-view+json": {
       "model_id": "4b04d6d26d7a43d397977413cab50599",
       "version_major": 2,
       "version_minor": 0
      },
      "text/plain": [
       "Canvas(toolbar=Toolbar(toolitems=[('Home', 'Reset original view', 'home', 'home'), ('Back', 'Back to previous …"
      ]
     },
     "metadata": {},
     "output_type": "display_data"
    },
    {
     "data": {
      "application/vnd.jupyter.widget-view+json": {
       "model_id": "d5fe9dc91198487d8e670b877cdede6a",
       "version_major": 2,
       "version_minor": 0
      },
      "text/plain": [
       "Canvas(toolbar=Toolbar(toolitems=[('Home', 'Reset original view', 'home', 'home'), ('Back', 'Back to previous …"
      ]
     },
     "metadata": {},
     "output_type": "display_data"
    }
   ],
   "source": [
    "%matplotlib widget\n",
    "\n",
    "\n",
    "cm = 1/2.54  # centimeters in inches\n",
    "plt.tight_layout()\n",
    "max_F = []\n",
    "plt.rcParams[\"font.family\"] = \"Times New Roman\"\n",
    "\n",
    "fig, ((ax1, ax2, ax3, ax4))  = plt.subplots(1,4 , tight_layout=True,figsize=(23*cm, 6*cm))\n",
    "fig.canvas.header_visible=False\n",
    "\n",
    "\n",
    "ax1.plot(-unconfined_array[3:,0].astype(np.float),unconfined_array[3:,1].astype(np.float)/1000, label = 'Unconfined')\n",
    "ax1.set_ylabel('Force  [kN]', fontsize=10)\n",
    "ax1.set_ylim(0.00,120)\n",
    "ax1.set_xlabel('Displacement [mm]', fontsize=10)\n",
    "\n",
    "ax1.plot(-confined_75_array[3:,0].astype(np.float),confined_75_array[3:,1].astype(np.float)/1000, label = '7.5 MPa confinement')\n",
    "# ax2.set_ylabel('Force  [kN]', fontsize=10)\n",
    "# ax2.set_ylim(0.00,120)\n",
    "# ax2.set_xlabel('Displacement [mm]', fontsize=10)\n",
    "\n",
    "ax1.plot(-confined_150_array[3:,0].astype(np.float),confined_150_array[3:,1].astype(np.float)/1000, label = '15 MPa confinement')\n",
    "# ax3.set_ylabel('Force  [kN]', fontsize=10)\n",
    "# ax3.set_ylim(0.00,120)\n",
    "# ax3.set_xlabel('Displacement [mm]', fontsize=10)\n",
    "\n",
    "ax1.legend(frameon=False, handlelength= 0.4, bbox_to_anchor =(1.05, -0.05), loc='lower right', labelspacing= 0.1)\n",
    "\n",
    "arr_img = plt.imread('C:\\\\Users\\\\marag\\\\OneDrive - rwth-aachen.de\\\\GAMM\\\\paper\\\\Figures\\\\pdf\\\\Monotonic\\\\gray\\\\unconfined.png')\n",
    "im = OffsetImage(arr_img, zoom=.4)\n",
    "# ab = AnnotationBbox(im, (0, 0), xycoords='axes fraction')\n",
    "ax2.imshow(arr_img)\n",
    "ax2.spines['top'].set_visible(False)\n",
    "ax2.spines['right'].set_visible(False)\n",
    "ax2.spines['bottom'].set_visible(False)\n",
    "ax2.spines['left'].set_visible(False)\n",
    "ax2.get_xaxis().set_ticks([])\n",
    "ax2.get_yaxis().set_ticks([])\n",
    "\n",
    "arr_img = plt.imread('C:\\\\Users\\\\marag\\\\OneDrive - rwth-aachen.de\\\\GAMM\\\\paper\\\\Figures\\\\pdf\\\\Monotonic\\\\gray\\\\7.5.png')\n",
    "im = OffsetImage(arr_img, zoom=.4)\n",
    "# ab = AnnotationBbox(im, (0, 0), xycoords='axes fraction')\n",
    "ax3.imshow(arr_img)\n",
    "ax3.spines['top'].set_visible(False)\n",
    "ax3.spines['right'].set_visible(False)\n",
    "ax3.spines['bottom'].set_visible(False)\n",
    "ax3.spines['left'].set_visible(False)\n",
    "ax3.get_xaxis().set_ticks([])\n",
    "ax3.get_yaxis().set_ticks([])\n",
    "\n",
    "arr_img = plt.imread('C:\\\\Users\\\\marag\\\\OneDrive - rwth-aachen.de\\\\GAMM\\\\paper\\\\Figures\\\\pdf\\\\Monotonic\\\\gray\\\\15.png')\n",
    "im = OffsetImage(arr_img, zoom=.4)\n",
    "# ab = AnnotationBbox(im, (0, 0), xycoords='axes fraction')\n",
    "ax4.imshow(arr_img, origin = 'lower')\n",
    "ax4.spines['top'].set_visible(False)\n",
    "ax4.spines['right'].set_visible(False)\n",
    "ax4.spines['bottom'].set_visible(False)\n",
    "ax4.spines['left'].set_visible(False)\n",
    "ax4.get_xaxis().set_ticks([])\n",
    "ax4.get_yaxis().set_ticks([])\n",
    "\n",
    "cmap = plt.cm.jet  # define the colormap\n",
    "# extract all colors from the .jet map\n",
    "# cmaplist = [cmap(i) for i in range(cmap.N)]\n",
    "# # force the first color entry to be grey\n",
    "\n",
    "# # create the new map\n",
    "# cmap = mpl.colors.LinearSegmentedColormap.from_list(\n",
    "#     'Custom cmap', cmaplist, cmap.N)\n",
    "\n",
    "# define the bins and normalize\n",
    "bounds = np.linspace(0, 0.01, 10)\n",
    "norm = mpl.colors.BoundaryNorm(bounds, cmap.N)\n",
    "\n",
    "\n",
    "# create a second axes for the colorbar\n",
    "ax5 = fig.add_axes([0.95, 0.1, 0.03, 0.8])\n",
    "# cb = mpl.colorbar.ColorbarBase(ax5, cmap=cmap, norm=norm,\n",
    "#     spacing='proportional', ticks=bounds, boundaries=bounds, format='short')\n",
    "cb = mpl.colorbar.ColorbarBase(ax5, cmap=cmap, norm=norm)\n",
    "\n",
    "\n",
    "plt.rcParams.update({'font.size': 10})\n",
    "\n",
    "# fig.savefig('C:\\\\Users\\\\marag\\\\OneDrive - rwth-aachen.de\\\\GAMM\\\\paper\\\\Figures\\\\png\\\\study03_PTST_monotonic.png')\n",
    "# fig.savefig('C:\\\\Users\\\\marag\\\\OneDrive - rwth-aachen.de\\\\GAMM\\\\paper\\\\Figures\\\\pdf\\\\study03_PTST_monotonic.pdf')\n",
    "\n",
    "plt.show()"
   ]
  },
  {
   "cell_type": "code",
   "execution_count": null,
   "id": "a8c6f736-b55f-4c6c-83a9-48dea7cc128c",
   "metadata": {},
   "outputs": [
    {
     "data": {
      "application/vnd.jupyter.widget-view+json": {
       "model_id": "1062b16538a2436590c902ef85158ab7",
       "version_major": 2,
       "version_minor": 0
      },
      "text/plain": [
       "Canvas(toolbar=Toolbar(toolitems=[('Home', 'Reset original view', 'home', 'home'), ('Back', 'Back to previous …"
      ]
     },
     "metadata": {},
     "output_type": "display_data"
    },
    {
     "data": {
      "text/plain": [
       "Text(222.26704281959536, 0.5, 'Very custom cbar [-]')"
      ]
     },
     "execution_count": 18,
     "metadata": {},
     "output_type": "execute_result"
    }
   ],
   "source": [
    "import matplotlib as mpl\n",
    "import matplotlib.pylab as plt\n",
    "\n",
    "\n",
    "fig, ax = plt.subplots(1, 1, tight_layout=True, figsize=(3, 3))  # setup the plot\n",
    "\n",
    "x = np.random.rand(3)  # define the data\n",
    "y = np.random.rand(3)  # define the data\n",
    "\n",
    "\n",
    "cmap = (mpl.colors.ListedColormap(['gray', 'black', 'white'])\n",
    "        )\n",
    "\n",
    "# define the bins and normalize\n",
    "bounds = [0,0.01, 0.02, 0.03]\n",
    "norm = mpl.colors.BoundaryNorm(bounds, cmap.N)\n",
    "\n",
    "norm = mpl.colors.BoundaryNorm(bounds, cmap.N)\n",
    "fig.colorbar(\n",
    "    mpl.cm.ScalarMappable(cmap=cmap, norm=norm),\n",
    "    cax=ax,\n",
    "    extend='both',\n",
    "    ticks=bounds,\n",
    "    spacing='proportional',\n",
    "    orientation='vertical',\n",
    "    label='Discrete intervals, some other units',\n",
    ")\n",
    "\n",
    "ax.set_title('Well defined discrete colors')\n",
    "ax2.set_ylabel('Very custom cbar [-]', size=12)"
   ]
  },
  {
   "cell_type": "markdown",
   "id": "95a4d532-59ff-4173-9502-b937fce3d20f",
   "metadata": {},
   "source": [
    "## Cyclic"
   ]
  },
  {
   "cell_type": "code",
   "execution_count": 2,
   "id": "f4948084-d9e9-439d-8c9d-2299520aecae",
   "metadata": {},
   "outputs": [],
   "source": [
    "confined_75_force_disp_table = pd.read_csv(r'C:\\Users\\marag\\OneDrive - rwth-aachen.de\\GAMM\\paper\\ATENA\\PTST_cyclic\\curves\\70_20\\force_disp.csv')\n",
    "confined_75_force_disp = np.array(confined_75_force_disp_table)\n",
    "\n",
    "confined_75_plast_N_table = pd.read_csv(r'C:\\Users\\marag\\OneDrive - rwth-aachen.de\\GAMM\\paper\\ATENA\\PTST_cyclic\\curves\\70_20\\plast_N.csv')\n",
    "confined_75_plastic_N = np.array(confined_75_plast_N_table)\n",
    "\n",
    "confined_75_damage_N_table = pd.read_csv(r'C:\\Users\\marag\\OneDrive - rwth-aachen.de\\GAMM\\paper\\ATENA\\PTST_cyclic\\curves\\70_20\\damage_N.csv')\n",
    "confined_75_damage_N = np.array(confined_75_damage_N_table)\n",
    "\n",
    "confined_75_plast_T_table = pd.read_csv(r'C:\\Users\\marag\\OneDrive - rwth-aachen.de\\GAMM\\paper\\ATENA\\PTST_cyclic\\curves\\70_20\\plast_T.csv')\n",
    "confined_75_plastic_T = np.array(confined_75_plast_T_table)\n",
    "\n",
    "confined_75_damage_T_table = pd.read_csv(r'C:\\Users\\marag\\OneDrive - rwth-aachen.de\\GAMM\\paper\\ATENA\\PTST_cyclic\\curves\\70_20\\damage_T.csv')\n",
    "confined_75_damage_T = np.array(confined_75_damage_T_table)\n",
    "\n",
    "confined_75_elastic_T_table = pd.read_csv(r'C:\\Users\\marag\\OneDrive - rwth-aachen.de\\GAMM\\paper\\ATENA\\PTST_cyclic\\curves\\70_20\\energy_T.csv')\n",
    "confined_75_elastic_T = np.array(confined_75_elastic_T_table)\n",
    "\n",
    "confined_75_elastic_N_table = pd.read_csv(r'C:\\Users\\marag\\OneDrive - rwth-aachen.de\\GAMM\\paper\\ATENA\\PTST_cyclic\\curves\\70_20\\energy_T.csv')\n",
    "confined_75_elastic_N = np.array(confined_75_elastic_N_table)\n",
    "\n",
    "confined_68_force_disp_table = pd.read_csv(r'C:\\Users\\marag\\OneDrive - rwth-aachen.de\\GAMM\\paper\\ATENA\\PTST_cyclic\\curves\\68_20\\force_disp.csv')\n",
    "confined_68_force_disp = np.array(confined_68_force_disp_table)\n",
    "\n",
    "confined_68_plast_N_table = pd.read_csv(r'C:\\Users\\marag\\OneDrive - rwth-aachen.de\\GAMM\\paper\\ATENA\\PTST_cyclic\\curves\\68_20\\plast_N.csv')\n",
    "confined_68_plastic_N = np.array(confined_68_plast_N_table)\n",
    "\n",
    "confined_68_damage_N_table = pd.read_csv(r'C:\\Users\\marag\\OneDrive - rwth-aachen.de\\GAMM\\paper\\ATENA\\PTST_cyclic\\curves\\68_20\\damage_N.csv')\n",
    "confined_68_damage_N = np.array(confined_68_damage_N_table)\n",
    "\n",
    "confined_68_plast_T_table = pd.read_csv(r'C:\\Users\\marag\\OneDrive - rwth-aachen.de\\GAMM\\paper\\ATENA\\PTST_cyclic\\curves\\68_20\\plast_T.csv')\n",
    "confined_68_plastic_T = np.array(confined_68_plast_T_table)\n",
    "\n",
    "confined_68_damage_T_table = pd.read_csv(r'C:\\Users\\marag\\OneDrive - rwth-aachen.de\\GAMM\\paper\\ATENA\\PTST_cyclic\\curves\\68_20\\damage_T.csv')\n",
    "confined_68_damage_T = np.array(confined_68_damage_T_table)\n",
    "\n",
    "confined_68_elastic_T_table = pd.read_csv(r'C:\\Users\\marag\\OneDrive - rwth-aachen.de\\GAMM\\paper\\ATENA\\PTST_cyclic\\curves\\68_20\\energy_T.csv')\n",
    "confined_68_elastic_T = np.array(confined_68_elastic_T_table)\n",
    "\n",
    "confined_68_elastic_N_table = pd.read_csv(r'C:\\Users\\marag\\OneDrive - rwth-aachen.de\\GAMM\\paper\\ATENA\\PTST_cyclic\\curves\\68_20\\energy_T.csv')\n",
    "confined_68_elastic_N = np.array(confined_68_elastic_N_table)"
   ]
  },
  {
   "cell_type": "code",
   "execution_count": 87,
   "id": "0fd05fb1-92c0-41b0-9abf-9716607f2500",
   "metadata": {},
   "outputs": [
    {
     "data": {
      "application/vnd.jupyter.widget-view+json": {
       "model_id": "81f991484b104121909005fab35dd93d",
       "version_major": 2,
       "version_minor": 0
      },
      "text/plain": [
       "Canvas(toolbar=Toolbar(toolitems=[('Home', 'Reset original view', 'home', 'home'), ('Back', 'Back to previous …"
      ]
     },
     "metadata": {},
     "output_type": "display_data"
    },
    {
     "data": {
      "application/vnd.jupyter.widget-view+json": {
       "model_id": "738b18b5bb424f0fa87fa0da211f5b2f",
       "version_major": 2,
       "version_minor": 0
      },
      "text/plain": [
       "Canvas(toolbar=Toolbar(toolitems=[('Home', 'Reset original view', 'home', 'home'), ('Back', 'Back to previous …"
      ]
     },
     "metadata": {},
     "output_type": "display_data"
    }
   ],
   "source": [
    "%matplotlib widget\n",
    "from matplotlib.offsetbox import OffsetImage, AnnotationBbox\n",
    "cm = 1/2.54  # centimeters in inches\n",
    "plt.tight_layout()\n",
    "max_F = []\n",
    "plt.rcParams[\"font.family\"] = \"Times New Roman\"\n",
    "\n",
    "fig, ((ax1, ax2, ax3, ax4), (ax5, ax6, ax7, ax8))  = plt.subplots(2,4 , tight_layout=True,figsize=(21*cm, 10*cm))\n",
    "fig.canvas.header_visible=False\n",
    "factor = 2 * np.pi * 0.026\n",
    "factor = 1\n",
    "\n",
    "ax1.plot(-confined_75_force_disp[3:,0].astype(np.float),confined_75_force_disp[3:,1].astype(np.float)/1000)\n",
    "ax1.set_ylabel('Force  [kN]', fontsize=10)\n",
    "ax1.set_ylim(0.00,75)\n",
    "ax1.set_xlim(0.00,0.04)\n",
    "ax1.set_xlabel('Displacement [mm]', fontsize=10)\n",
    "# ax22=ax2.twinx()\n",
    "\n",
    "ax2.plot(confined_75_damage_N[92::50,0].astype(np.float),confined_75_damage_T[92::50,1].astype(np.float) * factor, color='black')\n",
    "ax2.plot(confined_75_damage_N[92::50,0].astype(np.float),(confined_75_damage_T[92::50,1].astype(np.float) + confined_75_damage_N[92::50,1].astype(np.float))* factor, color='black')\n",
    "ax2.plot(confined_75_damage_N[92::50,0].astype(np.float),(confined_75_plastic_N[92::50,1].astype(np.float) + confined_75_damage_N[92::50,1].astype(np.float) + confined_75_damage_T[92::50,1].astype(np.float)) * factor, color='black')\n",
    "ax2.plot(confined_75_damage_N[92::50,0].astype(np.float),(confined_75_plastic_N[92::50,1].astype(np.float) + confined_75_damage_N[92::50,1].astype(np.float) + confined_75_damage_T[92::50,1].astype(np.float) + confined_75_plastic_T[92::50,1].astype(np.float))* factor, color='black')\n",
    "ax2.fill_between(confined_75_damage_N[92::50,0].astype(np.float), (confined_75_damage_T[92::50,1].astype(np.float))* factor, color='gray',alpha=0.3);\n",
    "ax2.fill_between(confined_75_damage_N[92::50,0].astype(np.float), (confined_75_damage_N[92::50,1].astype(np.float) + confined_75_damage_T[92::50,1].astype(np.float) + confined_75_plastic_N[92::50,1].astype(np.float))* factor, (confined_75_damage_N[92::50,1].astype(np.float) +  confined_75_damage_T[92::50,1].astype(np.float))* factor, color='red',hatch='-');\n",
    "ax2.fill_between(confined_75_damage_N[92::50,0].astype(np.float), (confined_75_damage_N[92::50,1].astype(np.float) + confined_75_damage_T[92::50,1].astype(np.float) + confined_75_plastic_N[92::50,1].astype(np.float) + confined_75_plastic_T[92::50,1].astype(np.float))* factor, (confined_75_damage_N[92::50,1].astype(np.float) + confined_75_damage_T[92::50,1].astype(np.float) + confined_75_plastic_N[92::50,1].astype(np.float))* factor, color='red',alpha=0.3);\n",
    "ax2.fill_between(confined_75_damage_N[92::50,0].astype(np.float), (confined_75_damage_N[92::50,1].astype(np.float) + confined_75_damage_T[92::50,1].astype(np.float))* factor, (confined_75_damage_T[92::50,1].astype(np.float))* factor, color='black',hatch='|');\n",
    "# ax2.fill_between(confined_75_damage_N[92::50,0].astype(np.float), confined_75_damage_N[92::50,1].astype(np.float) + confined_75_damage_T[92::50,1].astype(np.float) + confined_75_plastic_N[92::50,1].astype(np.float) + confined_75_plastic_T[92::50,1].astype(np.float) + confined_75_elastic_T[92::50,1].astype(np.float) + confined_75_elastic_N[92::50,1].astype(np.float), confined_75_damage_N[92::50,1].astype(np.float) + confined_75_damage_T[92::50,1].astype(np.float) + confined_75_plastic_N[92::50,1].astype(np.float) + confined_75_plastic_T[92::50,1].astype(np.float), color='green',alpha=0.3);\n",
    "ax2.set_ylabel('Energy  [J]', fontsize=10)\n",
    "ax2.set_yscale('log')\n",
    "# ax22.set_ylim(0.0,500)\n",
    "ax2.set_ylim(0.01, 800)\n",
    "ax2.set_xlabel('Cycle [-]', fontsize=10)\n",
    "\n",
    "arr_img = plt.imread('C:\\\\Users\\\\marag\\\\OneDrive - rwth-aachen.de\\\\GAMM\\\\paper\\\\Figures\\\\pdf\\\\Cyclic\\\\70_20\\\\70_20_c26.png')\n",
    "im = OffsetImage(arr_img, zoom=.4)\n",
    "# ab = AnnotationBbox(im, (0, 0), xycoords='axes fraction')\n",
    "ax3.imshow(arr_img)\n",
    "ax3.spines['top'].set_visible(False)\n",
    "ax3.spines['right'].set_visible(False)\n",
    "ax3.spines['bottom'].set_visible(False)\n",
    "ax3.spines['left'].set_visible(False)\n",
    "ax3.get_xaxis().set_ticks([])\n",
    "ax3.get_yaxis().set_ticks([])\n",
    "ax3.set_xlabel('Cycle 26', fontsize=10)\n",
    "\n",
    "arr_img = plt.imread('C:\\\\Users\\\\marag\\\\OneDrive - rwth-aachen.de\\\\GAMM\\\\paper\\\\Figures\\\\pdf\\\\Cyclic\\\\70_20\\\\70_20_final.png')\n",
    "im = OffsetImage(arr_img, zoom=.4)\n",
    "# ab = AnnotationBbox(im, (0, 0), xycoords='axes fraction')\n",
    "ax4.imshow(arr_img)\n",
    "ax4.spines['top'].set_visible(False)\n",
    "ax4.spines['right'].set_visible(False)\n",
    "ax4.spines['bottom'].set_visible(False)\n",
    "ax4.spines['left'].set_visible(False)\n",
    "ax4.get_xaxis().set_ticks([])\n",
    "ax4.get_yaxis().set_ticks([])\n",
    "ax4.set_xlabel('Cycle 39', fontsize=10)\n",
    "\n",
    "ax5.plot(-confined_68_force_disp[3:,0].astype(np.float),confined_68_force_disp[3:,1].astype(np.float)/1000)\n",
    "ax5.set_ylabel('Force  [kN]', fontsize=10)\n",
    "ax5.set_ylim(0.00,75)\n",
    "ax5.set_xlim(0.00,0.04)\n",
    "ax5.set_xlabel('Displacement [mm]', fontsize=10)\n",
    "\n",
    "ax6.plot(confined_68_damage_T[90::48,0].astype(np.float),(confined_68_damage_T[90::48,1].astype(np.float))* factor, color='black')\n",
    "ax6.plot(confined_68_damage_N[90::48,0].astype(np.float),(confined_68_damage_T[90::48,1].astype(np.float) + confined_68_damage_N[90::48,1].astype(np.float))* factor, color='black')\n",
    "ax6.plot(confined_68_damage_N[90::48,0].astype(np.float),(confined_68_plastic_N[90::48,1].astype(np.float) + confined_68_damage_N[90::48,1].astype(np.float) + confined_68_damage_T[90::48,1].astype(np.float))* factor, color='black')\n",
    "ax6.plot(confined_68_damage_N[90::48,0].astype(np.float),(confined_68_plastic_N[90::48,1].astype(np.float) + confined_68_damage_N[90::48,1].astype(np.float) + confined_68_damage_T[90::48,1].astype(np.float) + confined_68_plastic_T[90::48,1].astype(np.float))* factor, color='black')\n",
    "ax6.fill_between(confined_68_damage_N[90::48,0].astype(np.float), (confined_68_damage_T[90::48,1].astype(np.float))* factor, color='gray',alpha=0.3);\n",
    "ax6.fill_between(confined_68_damage_N[90::48,0].astype(np.float), (confined_68_damage_N[90::48,1].astype(np.float) + confined_68_damage_T[90::48,1].astype(np.float))* factor, (confined_68_damage_T[90::48,1].astype(np.float))* factor, color='black',hatch='|');\n",
    "ax6.fill_between(confined_68_damage_N[90::48,0].astype(np.float), (confined_68_damage_N[90::48,1].astype(np.float) + confined_68_damage_T[90::48,1].astype(np.float) + confined_68_plastic_N[90::48,1].astype(np.float))* factor, (confined_68_damage_N[90::48,1].astype(np.float) +  confined_68_damage_T[90::48,1].astype(np.float))* factor, color='red',hatch='-');\n",
    "ax6.fill_between(confined_68_damage_N[90::48,0].astype(np.float), (confined_68_damage_N[90::48,1].astype(np.float) + confined_68_damage_T[90::48,1].astype(np.float) + confined_68_plastic_N[90::48,1].astype(np.float) + confined_68_plastic_T[90::48,1].astype(np.float))* factor, (confined_68_damage_N[90::48,1].astype(np.float) + confined_68_damage_T[90::48,1].astype(np.float) + confined_68_plastic_N[90::48,1].astype(np.float))* factor, color='red',alpha=0.3);\n",
    "# ax6.fill_between(confined_68_damage_N[90::48,0].astype(np.float), confined_68_damage_N[90::48,1].astype(np.float) + confined_68_damage_T[90::48,1].astype(np.float) + confined_68_plastic_N[90::48,1].astype(np.float) + confined_68_plastic_T[90::48,1].astype(np.float) + confined_68_elastic_T[90::48,1].astype(np.float) + confined_68_elastic_N[90::48,1].astype(np.float), confined_68_damage_N[90::48,1].astype(np.float) + confined_68_damage_T[90::48,1].astype(np.float) + confined_68_plastic_N[90::48,1].astype(np.float) + confined_68_plastic_T[90::48,1].astype(np.float), color='green',alpha=0.3);\n",
    "ax6.set_ylabel('Energy  [J]', fontsize=10)\n",
    "ax6.set_yscale('log')\n",
    "ax6.set_ylim(0.01,800)\n",
    "ax6.set_xlabel('Cycle [-]', fontsize=10)\n",
    "\n",
    "arr_img = plt.imread('C:\\\\Users\\\\marag\\\\OneDrive - rwth-aachen.de\\\\GAMM\\\\paper\\\\Figures\\\\pdf\\\\Cyclic\\\\68_20\\\\68_20_c180.png')\n",
    "im = OffsetImage(arr_img, zoom=.4)\n",
    "# ab = AnnotationBbox(im, (0, 0), xycoords='axes fraction')\n",
    "ax7.imshow(arr_img)\n",
    "ax7.spines['top'].set_visible(False)\n",
    "ax7.spines['right'].set_visible(False)\n",
    "ax7.spines['bottom'].set_visible(False)\n",
    "ax7.spines['left'].set_visible(False)\n",
    "ax7.get_xaxis().set_ticks([])\n",
    "ax7.get_yaxis().set_ticks([])\n",
    "ax7.set_xlabel('Cycle 180', fontsize=10)\n",
    "\n",
    "arr_img = plt.imread('C:\\\\Users\\\\marag\\\\OneDrive - rwth-aachen.de\\\\GAMM\\\\paper\\\\Figures\\\\pdf\\\\Cyclic\\\\68_20\\\\68_20_final.png')\n",
    "im = OffsetImage(arr_img, zoom=.4)\n",
    "# ab = AnnotationBbox(im, (0, 0), xycoords='axes fraction')\n",
    "ax8.imshow(arr_img)\n",
    "ax8.spines['top'].set_visible(False)\n",
    "ax8.spines['right'].set_visible(False)\n",
    "ax8.spines['bottom'].set_visible(False)\n",
    "ax8.spines['left'].set_visible(False)\n",
    "ax8.get_xaxis().set_ticks([])\n",
    "ax8.get_yaxis().set_ticks([])\n",
    "ax8.set_xlabel('Cycle 269', fontsize=10)\n",
    "\n",
    "import string        \n",
    "for n, ax in enumerate([ax1,ax2,ax3,ax4,ax5, ax6, ax7, ax8]):     \n",
    "    ax.text(-0.1, 1.05, string.ascii_lowercase[n] + ')', transform=ax.transAxes, \n",
    "            size=10)\n",
    "plt.rcParams.update({'font.size': 10})\n",
    "\n",
    "# plt.rcParams.update({'font.size': 10})\n",
    "\n",
    "fig.savefig('C:\\\\Users\\\\marag\\\\OneDrive - rwth-aachen.de\\\\GAMM\\\\paper\\\\Figures\\\\png\\\\study04_PTST_cyclic.png')\n",
    "fig.savefig('C:\\\\Users\\\\marag\\\\OneDrive - rwth-aachen.de\\\\GAMM\\\\paper\\\\Figures\\\\pdf\\\\study04_PTST_cyclic.svg')\n",
    "\n",
    "# plt.show()"
   ]
  },
  {
   "cell_type": "code",
   "execution_count": 216,
   "id": "4227cdf8-f8f7-4e67-89a0-d5e92a237e7f",
   "metadata": {},
   "outputs": [
    {
     "data": {
      "application/vnd.jupyter.widget-view+json": {
       "model_id": "910ff459152a4fcd8439834f2f2f6370",
       "version_major": 2,
       "version_minor": 0
      },
      "text/plain": [
       "Canvas(toolbar=Toolbar(toolitems=[('Home', 'Reset original view', 'home', 'home'), ('Back', 'Back to previous …"
      ]
     },
     "metadata": {},
     "output_type": "display_data"
    },
    {
     "data": {
      "application/vnd.jupyter.widget-view+json": {
       "model_id": "6e637b30249c4a4c9423a64a8d320876",
       "version_major": 2,
       "version_minor": 0
      },
      "text/plain": [
       "Canvas(toolbar=Toolbar(toolitems=[('Home', 'Reset original view', 'home', 'home'), ('Back', 'Back to previous …"
      ]
     },
     "metadata": {},
     "output_type": "display_data"
    }
   ],
   "source": [
    "%matplotlib widget\n",
    "from matplotlib.offsetbox import OffsetImage, AnnotationBbox\n",
    "import matplotlib.lines as mlines\n",
    "\n",
    "cm = 1/2.54  # centimeters in inches\n",
    "plt.tight_layout()\n",
    "max_F = []\n",
    "plt.rcParams[\"font.family\"] = \"Times New Roman\"\n",
    "\n",
    "fig, ((ax1, ax2, ax3, ax4, ax5), (ax6, ax7, ax8, ax9, ax10))  = plt.subplots(2,5 , tight_layout=True,figsize=(30*cm, 12*cm))\n",
    "fig.canvas.header_visible=False\n",
    "factor = 2 * np.pi * 0.026\n",
    "factor = 1\n",
    "\n",
    "ax1.plot(-confined_75_force_disp[3:,0].astype(np.float),confined_75_force_disp[3:,1].astype(np.float)/1000)\n",
    "ax1.plot(-confined_75_force_disp[2592].astype(np.float)[0], confined_75_force_disp[2592].astype(np.float)[1]/1000, marker=\"x\",markersize=6,color='black')\n",
    "ax1.plot(-confined_75_force_disp[-1].astype(np.float)[0], confined_75_force_disp[-1].astype(np.float)[1]/1000, marker=\"x\",markersize=6,color='red')\n",
    "ax1.set_ylabel('force  [kN]', fontsize=10)\n",
    "ax1.set_ylim(0.00,75)\n",
    "ax1.set_xlim(0.00,0.04)\n",
    "ax1.set_xlabel('displacement [mm]', fontsize=10)\n",
    "\n",
    "black_cross = mlines.Line2D([], [], color='black', marker='x', linestyle='None',markersize=6, label='cycle 26')\n",
    "red_cross = mlines.Line2D([], [], color='red', marker='x', linestyle='None',markersize=6, label='cycle 39')\n",
    "\n",
    "\n",
    "ax1.legend(handles=[black_cross, red_cross],frameon=False,handlelength= 0.4, labelspacing= 0.1)\n",
    "# leg = ax2.legend(, , bbox_to_anchor =(0.0, 1.05), loc='upper left')\n",
    "\n",
    "\n",
    "\n",
    "ax2.plot(confined_75_damage_N[92::50,0].astype(np.float),confined_75_damage_N[92::50,1].astype(np.float) , color='black')\n",
    "ax2.plot(confined_75_damage_N[92::50,0].astype(np.float),confined_75_damage_T[92::50,1].astype(np.float) + confined_75_damage_N[92::50,1].astype(np.float), color='black')\n",
    "ax2.fill_between(confined_75_damage_N[92::50,0].astype(np.float), (confined_75_damage_N[92::50,1].astype(np.float))* factor, color='black');\n",
    "ax2.fill_between(confined_75_damage_N[92::50,0].astype(np.float), (confined_75_damage_N[92::50,1].astype(np.float) + confined_75_damage_T[92::50,1].astype(np.float))* factor, (confined_75_damage_N[92::50,1].astype(np.float))* factor, color='gray',alpha=0.3);\n",
    "ax2.set_ylabel('damage diss. [J]', fontsize=10)\n",
    "ax2.set_ylim(0.0,5.5)\n",
    "ax2.plot(0,0,color='gray',alpha=0.3,label=\"tangential damage\")\n",
    "ax2.plot(0,0,color='black',label=\"normal damage\")\n",
    "ax2.set_xlabel('cycle [-]', fontsize=10)\n",
    "leg = ax2.legend(frameon=False, handlelength= 0.4, bbox_to_anchor =(0.0, 1.05), loc='upper left', labelspacing= 0.1)\n",
    "for line in leg.get_lines():\n",
    "    line.set_linewidth(6.0)\n",
    "    \n",
    "ax3.plot(confined_75_damage_N[92::50,0].astype(np.float),confined_75_plastic_N[92::50,1].astype(np.float) , color='black')\n",
    "ax3.plot(confined_75_damage_N[92::50,0].astype(np.float),confined_75_plastic_N[92::50,1].astype(np.float)  + confined_75_plastic_T[92::50,1].astype(np.float), color='black')\n",
    "ax3.fill_between(confined_75_damage_N[92::50,0].astype(np.float), (confined_75_plastic_N[92::50,1].astype(np.float) )* factor, color='red');\n",
    "ax3.fill_between(confined_75_damage_N[92::50,0].astype(np.float), (confined_75_plastic_N[92::50,1].astype(np.float) + confined_75_plastic_T[92::50,1].astype(np.float))* factor, (confined_75_plastic_N[92::50,1].astype(np.float))* factor, color='red',alpha=0.3);\n",
    "ax3.set_ylabel('plastic diss. [J]', fontsize=10)\n",
    "ax3.plot(0,0,color='red',alpha=0.3,label=\"tangential plastic\")\n",
    "ax3.plot(0,0,color='red',label=\"normal plastic\")\n",
    "ax3.set_ylim(0.0,500)\n",
    "ax3.set_xlabel('cycle [-]', fontsize=10)\n",
    "leg = ax3.legend(frameon=False, handlelength= 0.4, bbox_to_anchor =(0.0, 1.05), loc='upper left', labelspacing= 0.1)\n",
    "for line in leg.get_lines():\n",
    "    line.set_linewidth(6.0)\n",
    "\n",
    "\n",
    "arr_img = plt.imread('C:\\\\Users\\\\marag\\\\OneDrive - rwth-aachen.de\\\\GAMM\\\\paper\\\\Figures\\\\pdf\\\\Cyclic\\\\70_20\\\\70_20_c26.png')\n",
    "im = OffsetImage(arr_img, zoom=.4)\n",
    "# ab = AnnotationBbox(im, (0, 0), xycoords='axes fraction')\n",
    "# ax3.imshow(arr_img)\n",
    "ax4.spines['top'].set_visible(False)\n",
    "ax4.spines['right'].set_visible(False)\n",
    "ax4.spines['bottom'].set_visible(False)\n",
    "ax4.spines['left'].set_visible(False)\n",
    "ax4.get_xaxis().set_ticks([])\n",
    "ax4.get_yaxis().set_ticks([])\n",
    "ax4.set_xlabel('cycle 26', fontsize=10)\n",
    "\n",
    "arr_img = plt.imread('C:\\\\Users\\\\marag\\\\OneDrive - rwth-aachen.de\\\\GAMM\\\\paper\\\\Figures\\\\pdf\\\\Cyclic\\\\70_20\\\\70_20_final.png')\n",
    "im = OffsetImage(arr_img, zoom=.4)\n",
    "# ab = AnnotationBbox(im, (0, 0), xycoords='axes fraction')\n",
    "# ax4.imshow(arr_img)\n",
    "ax5.spines['top'].set_visible(False)\n",
    "ax5.spines['right'].set_visible(False)\n",
    "ax5.spines['bottom'].set_visible(False)\n",
    "ax5.spines['left'].set_visible(False)\n",
    "ax5.get_xaxis().set_ticks([])\n",
    "ax5.get_yaxis().set_ticks([])\n",
    "ax5.set_xlabel('cycle 39', fontsize=10)\n",
    "\n",
    "ax6.plot(-confined_68_force_disp[3:,0].astype(np.float),confined_68_force_disp[3:,1].astype(np.float)/1000)\n",
    "ax6.plot(-confined_68_force_disp[17274].astype(np.float)[0], confined_68_force_disp[17274].astype(np.float)[1]/1000, marker=\"x\",markersize=6,color='black')\n",
    "ax6.plot(-confined_68_force_disp[-1].astype(np.float)[0], confined_68_force_disp[-1].astype(np.float)[1]/1000, marker=\"x\",markersize=6,color='red')\n",
    "ax6.set_ylabel('Force  [kN]', fontsize=10)\n",
    "ax6.set_ylim(0.00,75)\n",
    "ax6.set_xlim(0.00,0.04)\n",
    "ax6.set_xlabel('displacement [mm]', fontsize=10)\n",
    "\n",
    "black_cross = mlines.Line2D([], [], color='black', marker='x', linestyle='None',markersize=6, label='cycle 180')\n",
    "red_cross = mlines.Line2D([], [], color='red', marker='x', linestyle='None',markersize=6, label='cycle 269')\n",
    "\n",
    "ax6.legend(handles=[black_cross, red_cross],frameon=False,handlelength= 0.4, labelspacing= 0.1)\n",
    "\n",
    "ax7.plot(confined_68_damage_T[90::48,0].astype(np.float),(confined_68_damage_N[90::48,1].astype(np.float))* factor, color='black')\n",
    "ax7.plot(confined_68_damage_N[90::48,0].astype(np.float),(confined_68_damage_T[90::48,1].astype(np.float) + confined_68_damage_N[90::48,1].astype(np.float))* factor, color='black')\n",
    "ax7.fill_between(confined_68_damage_N[90::48,0].astype(np.float), (confined_68_damage_N[90::48,1].astype(np.float))* factor, color='black');\n",
    "ax7.fill_between(confined_68_damage_N[90::48,0].astype(np.float), (confined_68_damage_N[90::48,1].astype(np.float) + confined_68_damage_T[90::48,1].astype(np.float))* factor, (confined_68_damage_N[90::48,1].astype(np.float))* factor, color='gray',alpha=0.3);\n",
    "ax7.set_ylabel('damage diss. [J]', fontsize=10)\n",
    "ax7.set_ylim(0.0,5.5)\n",
    "ax7.set_xlabel('cycle [-]', fontsize=10)\n",
    "\n",
    "ax8.plot(confined_68_damage_N[90::48,0].astype(np.float),(confined_68_plastic_N[90::48,1].astype(np.float))* factor, color='black')\n",
    "ax8.plot(confined_68_damage_N[90::48,0].astype(np.float),(confined_68_plastic_N[90::48,1].astype(np.float) + confined_68_plastic_T[90::48,1].astype(np.float))* factor, color='black')\n",
    "ax8.fill_between(confined_68_damage_N[90::48,0].astype(np.float), confined_68_plastic_N[90::48,1].astype(np.float) , color='red');\n",
    "ax8.fill_between(confined_68_damage_N[90::48,0].astype(np.float), confined_68_plastic_N[90::48,1].astype(np.float) + confined_68_plastic_T[90::48,1].astype(np.float), confined_68_plastic_N[90::48,1].astype(np.float), color='red',alpha=0.3);\n",
    "ax8.set_ylabel('plastic diss. [J]', fontsize=10)\n",
    "ax8.set_ylim(0.0,500)\n",
    "ax6.set_xlabel('cycle [-]', fontsize=10)\n",
    "\n",
    "# arr_img = plt.imread('C:\\\\Users\\\\marag\\\\OneDrive - rwth-aachen.de\\\\GAMM\\\\paper\\\\Figures\\\\pdf\\\\Cyclic\\\\68_20\\\\68_20_c180.png')\n",
    "# im = OffsetImage(arr_img, zoom=.4)\n",
    "# ab = AnnotationBbox(im, (0, 0), xycoords='axes fraction')\n",
    "# ax7.imshow(arr_img)\n",
    "ax9.spines['top'].set_visible(False)\n",
    "ax9.spines['right'].set_visible(False)\n",
    "ax9.spines['bottom'].set_visible(False)\n",
    "ax9.spines['left'].set_visible(False)\n",
    "ax9.get_xaxis().set_ticks([])\n",
    "ax9.get_yaxis().set_ticks([])\n",
    "ax9.set_xlabel('cycle 180', fontsize=10)\n",
    "\n",
    "# arr_img = plt.imread('C:\\\\Users\\\\marag\\\\OneDrive - rwth-aachen.de\\\\GAMM\\\\paper\\\\Figures\\\\pdf\\\\Cyclic\\\\68_20\\\\68_20_final.png')\n",
    "# im = OffsetImage(arr_img, zoom=.4)\n",
    "# ab = AnnotationBbox(im, (0, 0), xycoords='axes fraction')\n",
    "# ax8.imshow(arr_img)\n",
    "ax10.spines['top'].set_visible(False)\n",
    "ax10.spines['right'].set_visible(False)\n",
    "ax10.spines['bottom'].set_visible(False)\n",
    "ax10.spines['left'].set_visible(False)\n",
    "ax10.get_xaxis().set_ticks([])\n",
    "ax10.get_yaxis().set_ticks([])\n",
    "ax10.set_xlabel('cycle 269', fontsize=10)\n",
    "\n",
    "import string        \n",
    "for n, ax in enumerate([ax1,ax2,ax3,ax4,ax5, ax6, ax7, ax8]):     \n",
    "    ax.text(-0.1, 1.05, string.ascii_lowercase[n] + ')', transform=ax.transAxes, \n",
    "            size=10)\n",
    "plt.rcParams.update({'font.size': 10})\n",
    "\n",
    "# plt.rcParams.update({'font.size': 10})\n",
    "\n",
    "fig.savefig('C:\\\\Users\\\\marag\\\\OneDrive - rwth-aachen.de\\\\GAMM\\\\paper\\\\Figures\\\\png\\\\study04_PTST_cyclic.png')\n",
    "fig.savefig('C:\\\\Users\\\\marag\\\\OneDrive - rwth-aachen.de\\\\GAMM\\\\paper\\\\Figures\\\\pdf\\\\study04_PTST_cyclic.svg')\n",
    "\n",
    "# plt.show()"
   ]
  },
  {
   "cell_type": "code",
   "execution_count": 3,
   "id": "9c8de8aa-4511-4f7a-8e0c-ad66b0a45956",
   "metadata": {},
   "outputs": [
    {
     "data": {
      "text/html": [
       "<div>\n",
       "<style scoped>\n",
       "    .dataframe tbody tr th:only-of-type {\n",
       "        vertical-align: middle;\n",
       "    }\n",
       "\n",
       "    .dataframe tbody tr th {\n",
       "        vertical-align: top;\n",
       "    }\n",
       "\n",
       "    .dataframe thead th {\n",
       "        text-align: right;\n",
       "    }\n",
       "</style>\n",
       "<table border=\"1\" class=\"dataframe\">\n",
       "  <thead>\n",
       "    <tr style=\"text-align: right;\">\n",
       "      <th></th>\n",
       "      <th>Diagram 2</th>\n",
       "      <th>Unnamed: 1</th>\n",
       "    </tr>\n",
       "  </thead>\n",
       "  <tbody>\n",
       "    <tr>\n",
       "      <th>0</th>\n",
       "      <td>Monitor_1_DISPLACEMENTS #001000: X(2)</td>\n",
       "      <td>MonitorName_REACTIONS_DIR_2: DOF(2)</td>\n",
       "    </tr>\n",
       "    <tr>\n",
       "      <th>1</th>\n",
       "      <td>0</td>\n",
       "      <td>0</td>\n",
       "    </tr>\n",
       "    <tr>\n",
       "      <th>2</th>\n",
       "      <td>0</td>\n",
       "      <td>NaN</td>\n",
       "    </tr>\n",
       "    <tr>\n",
       "      <th>3</th>\n",
       "      <td>-1.37E-07</td>\n",
       "      <td>3.77E-15</td>\n",
       "    </tr>\n",
       "    <tr>\n",
       "      <th>4</th>\n",
       "      <td>-2.74E-07</td>\n",
       "      <td>-1.95E-14</td>\n",
       "    </tr>\n",
       "    <tr>\n",
       "      <th>...</th>\n",
       "      <td>...</td>\n",
       "      <td>...</td>\n",
       "    </tr>\n",
       "    <tr>\n",
       "      <th>3888</th>\n",
       "      <td>-0.034583316</td>\n",
       "      <td>65973.60624</td>\n",
       "    </tr>\n",
       "    <tr>\n",
       "      <th>3889</th>\n",
       "      <td>-0.035170826</td>\n",
       "      <td>66973.2063</td>\n",
       "    </tr>\n",
       "    <tr>\n",
       "      <th>3890</th>\n",
       "      <td>-0.035782669</td>\n",
       "      <td>67972.80635</td>\n",
       "    </tr>\n",
       "    <tr>\n",
       "      <th>3891</th>\n",
       "      <td>-0.036422312</td>\n",
       "      <td>68972.40641</td>\n",
       "    </tr>\n",
       "    <tr>\n",
       "      <th>3892</th>\n",
       "      <td>-0.037093359</td>\n",
       "      <td>69972.00647</td>\n",
       "    </tr>\n",
       "  </tbody>\n",
       "</table>\n",
       "<p>3893 rows × 2 columns</p>\n",
       "</div>"
      ],
      "text/plain": [
       "                                  Diagram 2  \\\n",
       "0     Monitor_1_DISPLACEMENTS #001000: X(2)   \n",
       "1                                         0   \n",
       "2                                         0   \n",
       "3                                 -1.37E-07   \n",
       "4                                 -2.74E-07   \n",
       "...                                     ...   \n",
       "3888                           -0.034583316   \n",
       "3889                           -0.035170826   \n",
       "3890                           -0.035782669   \n",
       "3891                           -0.036422312   \n",
       "3892                           -0.037093359   \n",
       "\n",
       "                               Unnamed: 1  \n",
       "0     MonitorName_REACTIONS_DIR_2: DOF(2)  \n",
       "1                                       0  \n",
       "2                                     NaN  \n",
       "3                                3.77E-15  \n",
       "4                               -1.95E-14  \n",
       "...                                   ...  \n",
       "3888                          65973.60624  \n",
       "3889                           66973.2063  \n",
       "3890                          67972.80635  \n",
       "3891                          68972.40641  \n",
       "3892                          69972.00647  \n",
       "\n",
       "[3893 rows x 2 columns]"
      ]
     },
     "execution_count": 3,
     "metadata": {},
     "output_type": "execute_result"
    }
   ],
   "source": [
    "confined_75_force_disp_table"
   ]
  },
  {
   "cell_type": "code",
   "execution_count": 38,
   "id": "4f475619-40ad-454e-9ca8-9aa7b3b964a7",
   "metadata": {},
   "outputs": [
    {
     "data": {
      "text/plain": [
       "(39,)"
      ]
     },
     "execution_count": 38,
     "metadata": {},
     "output_type": "execute_result"
    }
   ],
   "source": [
    "max_disp = np.abs((confined_75_force_disp_table.values[92::100][:,0]).astype(np.float))"
   ]
  },
  {
   "cell_type": "code",
   "execution_count": 37,
   "id": "ea3c29a9-1469-4fc3-a286-97756d5e025c",
   "metadata": {},
   "outputs": [
    {
     "data": {
      "text/plain": [
       "(39,)"
      ]
     },
     "execution_count": 37,
     "metadata": {},
     "output_type": "execute_result"
    }
   ],
   "source": [
    "min_disp = np.abs((confined_75_force_disp_table.values[42::100][:,0]).astype(np.float))"
   ]
  },
  {
   "cell_type": "code",
   "execution_count": 52,
   "id": "8b7e2344-0c38-4f2f-8fb3-09b82ff74a97",
   "metadata": {},
   "outputs": [
    {
     "data": {
      "application/vnd.jupyter.widget-view+json": {
       "model_id": "29da6bc7d0164487b390c8507b8f876d",
       "version_major": 2,
       "version_minor": 0
      },
      "text/plain": [
       "Canvas(toolbar=Toolbar(toolitems=[('Home', 'Reset original view', 'home', 'home'), ('Back', 'Back to previous …"
      ]
     },
     "metadata": {},
     "output_type": "display_data"
    },
    {
     "data": {
      "application/vnd.jupyter.widget-view+json": {
       "model_id": "26436cfe8d8746ab97c4ef258d7d66df",
       "version_major": 2,
       "version_minor": 0
      },
      "text/plain": [
       "Canvas(toolbar=Toolbar(toolitems=[('Home', 'Reset original view', 'home', 'home'), ('Back', 'Back to previous …"
      ]
     },
     "metadata": {},
     "output_type": "display_data"
    }
   ],
   "source": [
    "%matplotlib widget\n",
    "\n",
    "cm = 1/2.54  # centimeters in inches\n",
    "plt.tight_layout()\n",
    "max_F = []\n",
    "plt.rcParams[\"font.family\"] = \"Times New Roman\"\n",
    "\n",
    "\n",
    "fig, (ax1)  = plt.subplots(1,1 , tight_layout=True,figsize=(7.5*cm, 7.5*cm))\n",
    "fig.canvas.header_visible=False\n",
    "ax1.plot(np.arange(len(max_disp)), max_disp, color='black')\n",
    "ax1.plot(np.arange(len(max_disp)), min_disp, color='black')\n",
    "ax1.set_ylabel('displacement [mm]', fontsize=10)\n",
    "ax1.set_xlim(-4.,40)\n",
    "ax1.set_xlabel('cycle [-]', fontsize=10)\n",
    "\n",
    "fig.savefig('C:\\\\Users\\\\marag\\\\OneDrive - rwth-aachen.de\\\\GAMM\\\\paper\\\\Figures\\\\png\\\\creep_fatigue.png')\n",
    "fig.savefig('C:\\\\Users\\\\marag\\\\OneDrive - rwth-aachen.de\\\\GAMM\\\\paper\\\\Figures\\\\pdf\\\\creep_fatigue.svg')\n"
   ]
  },
  {
   "cell_type": "code",
   "execution_count": null,
   "id": "37c17b60-5c0d-49a0-afc9-282d536de86b",
   "metadata": {},
   "outputs": [],
   "source": []
  }
 ],
 "metadata": {
  "kernelspec": {
   "display_name": "bmcs_env",
   "language": "python",
   "name": "bmcs_env"
  },
  "language_info": {
   "codemirror_mode": {
    "name": "ipython",
    "version": 3
   },
   "file_extension": ".py",
   "mimetype": "text/x-python",
   "name": "python",
   "nbconvert_exporter": "python",
   "pygments_lexer": "ipython3",
   "version": "3.8.12"
  }
 },
 "nbformat": 4,
 "nbformat_minor": 5
}
