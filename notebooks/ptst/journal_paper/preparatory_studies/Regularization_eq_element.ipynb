{
 "cells": [
  {
   "cell_type": "markdown",
   "id": "7fe163db-9193-44c1-9033-f79a48775c99",
   "metadata": {},
   "source": [
    "# **MS1 calibration for monotonic behavior**"
   ]
  },
  {
   "cell_type": "markdown",
   "id": "a1af772b-a50e-4b71-873e-6713eda2ec74",
   "metadata": {},
   "source": [
    "Fitting comressive, tensile strength (3D) and confined shear peak load (axisymmetric)"
   ]
  },
  {
   "cell_type": "code",
   "execution_count": 1,
   "id": "d7b4549e-c36b-4c4c-96d2-8a71c0b9aae8",
   "metadata": {},
   "outputs": [],
   "source": [
    "%matplotlib widget\n",
    "import numpy as np\n",
    "np.seterr(divide='ignore', invalid='ignore') \n",
    "import matplotlib.pylab as plt\n",
    "from ibvpy.bcond import BCSlice, BCDof\n",
    "from ibvpy.fets import FETS3D8H\n",
    "from ibvpy.fets import FETS2D4Q\n",
    "from ibvpy.tmodel.mats3D import MATS3DElastic\n",
    "import bmcs_matmod.ms1.concrete_material_db as mp_db\n",
    "from ibvpy.tmodel.viz3d_scalar_field import \\\n",
    "    Vis3DStateField, Viz3DScalarField\n",
    "from ibvpy.tmodel.viz3d_tensor_field import \\\n",
    "    Vis3DTensorField, Viz3DTensorField\n",
    "from ibvpy.sim.tstep_bc import TStepBC\n",
    "from ibvpy.xmodel.xdomain_fe_grid import XDomainFEGrid\n",
    "from ibvpy.xmodel.xdomain_fe_grid_axisym import XDomainFEGridAxiSym\n",
    "from ibvpy.api import TStepBC, TFCyclicNonsymmetricConstant, TFBilinear\n",
    "from mayavi import mlab\n",
    "from bmcs_matmod.ms1 import MS13D\n",
    "from ibvpy.tmodel.mats3D.mats3D_microplane.vmats3D_mpl_d_eeq import \\\n",
    "    MATS3DMplDamageEEQ\n",
    "from ibvpy.bcond import BCSliceI, BCDof\n",
    "from ibvpy.tfunction import TimeFunction, TFSelector, TFCyclicSin, TFCyclicNonsymmetricConstant\n",
    "import copy"
   ]
  },
  {
   "cell_type": "code",
   "execution_count": 2,
   "id": "9883ccfa-7982-48f8-b25e-3c71cfd32b4a",
   "metadata": {},
   "outputs": [],
   "source": [
    "def get_damage(m):   \n",
    "    radial_damage = []\n",
    "    hoop_damage = []\n",
    "    shear_damage = []\n",
    "\n",
    "    for i in range(len(m.hist.state_vars)):\n",
    "        omega_T_Emn = np.average(m.hist.state_vars[i][0]['omega_T_Emn'],axis=1)\n",
    "        omega_N_Emn = np.average(m.hist.state_vars[i][0]['omega_N_Emn'],axis=1)\n",
    "        beta_N = 1. - omega_N_Emn\n",
    "        beta_T = 1. - omega_T_Emn\n",
    "        delta = m_inelastic.DELTA\n",
    "\n",
    "        beta_ijkl = np.einsum('n, ...n,ni, nj, nk, nl -> ...ijkl', m_inelastic._MPW, beta_N, m_inelastic._MPN, m_inelastic._MPN, m_inelastic._MPN,\n",
    "                              m_inelastic._MPN) + \\\n",
    "                    0.25 * (np.einsum('n, ...n,ni, nk, jl -> ...ijkl', m_inelastic._MPW, beta_T, m_inelastic._MPN, m_inelastic._MPN, delta) +\n",
    "                            np.einsum('n, ...n,ni, nl, jk -> ...ijkl', m_inelastic._MPW, beta_T, m_inelastic._MPN, m_inelastic._MPN, delta) +\n",
    "                            np.einsum('n, ...n,nj, nk, il -> ...ijkl', m_inelastic._MPW, beta_T, m_inelastic._MPN, m_inelastic._MPN, delta) +\n",
    "                            np.einsum('n, ...n,nj, nl, ik -> ...ijkl', m_inelastic._MPW, beta_T, m_inelastic._MPN, m_inelastic._MPN, delta) -\n",
    "                            4.0 * np.einsum('n, ...n, ni, nj, nk, nl -> ...ijkl', m_inelastic._MPW, beta_T, m_inelastic._MPN,\n",
    "                                            m_inelastic._MPN, m_inelastic._MPN, m_inelastic._MPN))\n",
    "\n",
    "        radial_damage.append(1-(beta_ijkl**2)[0,1,1,1,1])\n",
    "        hoop_damage.append(1-(beta_ijkl**2)[0,2,2,2,2])\n",
    "        shear_damage.append(1-((beta_ijkl)[0,1,0,1,0]*2)**2)\n",
    "    return radial_damage, hoop_damage, shear_damage\n"
   ]
  },
  {
   "cell_type": "code",
   "execution_count": 3,
   "id": "709f1bea-6619-48d7-99a3-486b3d380dd3",
   "metadata": {},
   "outputs": [],
   "source": [
    "def get_omega_N(m):\n",
    "    omega_N_11 = np.zeros((len(m.hist.state_vars),8))\n",
    "    for i in range(len(m.hist.state_vars)):\n",
    "        omega_N_11[i] = np.array([ m.hist.state_vars[i][0]['omega_N_Emn'][0,0][j] for j in [8, 9, 10,11, 16, 17, 18 ,19]])\n",
    "        \n",
    "    omega_N_01 = np.zeros((len(m.hist.state_vars),20))\n",
    "    for i in range(len(m.hist.state_vars)):\n",
    "        omega_N_01[i] = np.array([ m.hist.state_vars[i][0]['omega_N_Emn'][0,0][j] for j in [0,1,2,3,4,5,6,7,12,13,14,15,20,21,22,23,24,25,26,27]])\n",
    "    return omega_N_01, omega_N_11 "
   ]
  },
  {
   "cell_type": "code",
   "execution_count": 4,
   "id": "ce25f6a9-f75d-4fd3-b9df-145f352eaf55",
   "metadata": {},
   "outputs": [],
   "source": [
    "def get_omega_T(m):\n",
    "    omega_T_11 = np.zeros((len(m.hist.state_vars),8))\n",
    "    for i in range(len(m.hist.state_vars)):\n",
    "        omega_T_11[i] = np.array([ m.hist.state_vars[i][0]['omega_T_Emn'][0,0][j] for j in [8, 9, 10,11, 16, 17, 18 ,19]])\n",
    "        \n",
    "    omega_T_01 = np.zeros((len(m.hist.state_vars),20))\n",
    "    for i in range(len(m.hist.state_vars)):\n",
    "        omega_T_01[i] = np.array([ m.hist.state_vars[i][0]['omega_T_Emn'][0,0][j] for j in [0,1,2,3,4,5,6,7,12,13,14,15,20,21,22,23,24,25,26,27]])\n",
    "        \n",
    "    return omega_T_01, omega_T_11   "
   ]
  },
  {
   "cell_type": "code",
   "execution_count": 5,
   "id": "250d4f2e-3756-4ebb-8baf-b0da435b00ff",
   "metadata": {},
   "outputs": [],
   "source": [
    "def get_sigma_N(m):\n",
    "    \n",
    "    sigma_N_11 = np.zeros((len(m.hist.state_vars),8))\n",
    "    for i in range(len(m.hist.state_vars)):\n",
    "        eps_Emab = xmodel.map_U_to_field(m.hist.U_t[i])\n",
    "        eps_N_Emn = m_inelastic._get_e_N_Emn_2(eps_Emab)\n",
    "        eps_N_Emn = np.array([ eps_N_Emn[0,0][j] for j in [8, 9, 10,11, 16, 17, 18 ,19]])\n",
    "        E_N = m_inelastic.E / (1.0 - 2.0 * m_inelastic.nu)\n",
    "        omega_N_Emn = np.array([ m.hist.state_vars[i][0]['omega_N_Emn'][0,0][j] for j in [8, 9, 10,11, 16, 17, 18 ,19]])\n",
    "        eps_N_p_Emn = np.array([ m.hist.state_vars[i][0]['eps_N_p_Emn'][0,0][j] for j in [8, 9, 10,11, 16, 17, 18 ,19]])\n",
    "        sigma_N_11[i] = (1.0 - omega_N_Emn ) * E_N * (eps_N_Emn - eps_N_p_Emn)\n",
    "        \n",
    "    sigma_N_01 = np.zeros((len(m.hist.state_vars),20))\n",
    "    for i in range(len(m.hist.state_vars)):\n",
    "        eps_Emab = xmodel.map_U_to_field(m.hist.U_t[i])\n",
    "        eps_N_Emn = m_inelastic._get_e_N_Emn_2(eps_Emab)\n",
    "        eps_N_Emn = np.array([ eps_N_Emn[0,0][j] for j in [0,1,2,3,4,5,6,7,12,13,14,15,20,21,22,23,24,25,26,27]])\n",
    "        E_N = m_inelastic.E / (1.0 - 2.0 * m_inelastic.nu)\n",
    "        omega_N_Emn = np.array([ m.hist.state_vars[i][0]['omega_N_Emn'][0,0][j] for j in [0,1,2,3,4,5,6,7,12,13,14,15,20,21,22,23,24,25,26,27]])\n",
    "        eps_N_p_Emn = np.array([ m.hist.state_vars[i][0]['eps_N_p_Emn'][0,0][j] for j in [0,1,2,3,4,5,6,7,12,13,14,15,20,21,22,23,24,25,26,27]])\n",
    "        sigma_N_01[i] = (1.0 - omega_N_Emn ) * E_N * (eps_N_Emn - eps_N_p_Emn)\n",
    "    \n",
    "    sigma_radial = np.zeros(len(m.hist.state_vars))\n",
    "    for i in range(len(m.hist.state_vars)):\n",
    "        eps_Emab = xmodel.map_U_to_field(m.hist.U_t[i])\n",
    "        omega_T_Emn = np.average(m.hist.state_vars[i][0]['omega_T_Emn'],axis=1)\n",
    "        omega_N_Emn = np.average(m.hist.state_vars[i][0]['omega_N_Emn'],axis=1)\n",
    "        eps_T_pi_Emna = np.average(m.hist.state_vars[i][0]['eps_T_pi_Emna'],axis=1)\n",
    "        eps_N_p_Emn = np.average(m.hist.state_vars[i][0]['eps_N_p_Emn'],axis=1)\n",
    "        \n",
    "        beta_N = 1. - omega_N_Emn\n",
    "        beta_T = 1. - omega_T_Emn\n",
    "        delta = m_inelastic.DELTA\n",
    "\n",
    "        beta_Emabcd = np.einsum('n, ...n,ni, nj, nk, nl -> ...ijkl', m_inelastic._MPW, beta_N, m_inelastic._MPN, m_inelastic._MPN, m_inelastic._MPN,\n",
    "                              m_inelastic._MPN) + \\\n",
    "                    0.25 * (np.einsum('n, ...n,ni, nk, jl -> ...ijkl', m_inelastic._MPW, beta_T, m_inelastic._MPN, m_inelastic._MPN, delta) +\n",
    "                            np.einsum('n, ...n,ni, nl, jk -> ...ijkl', m_inelastic._MPW, beta_T, m_inelastic._MPN, m_inelastic._MPN, delta) +\n",
    "                            np.einsum('n, ...n,nj, nk, il -> ...ijkl', m_inelastic._MPW, beta_T, m_inelastic._MPN, m_inelastic._MPN, delta) +\n",
    "                            np.einsum('n, ...n,nj, nl, ik -> ...ijkl', m_inelastic._MPW, beta_T, m_inelastic._MPN, m_inelastic._MPN, delta) -\n",
    "                            4.0 * np.einsum('n, ...n, ni, nj, nk, nl -> ...ijkl', m_inelastic._MPW, beta_T, m_inelastic._MPN,\n",
    "                                            m_inelastic._MPN, m_inelastic._MPN, m_inelastic._MPN))\n",
    "\n",
    "        D_Emabcd = np.einsum(\n",
    "                     '...ijab, abef, ...cdef->...ijcd',\n",
    "                     beta_Emabcd, m_inelastic.D_abef, beta_Emabcd\n",
    "                )\n",
    "\n",
    "        eps_p_Emab = (\n",
    "        np.einsum('n,...n,na,nb->...ab',\n",
    "                  m_inelastic._MPW, eps_N_p_Emn, m_inelastic._MPN, m_inelastic._MPN) +\n",
    "        0.5 * (\n",
    "                np.einsum('n,...nf,na,fb->...ab',\n",
    "                          m_inelastic._MPW, eps_T_pi_Emna, m_inelastic._MPN, m_inelastic.DELTA) +\n",
    "                np.einsum('n,...nf,nb,fa->...ab',\n",
    "                          m_inelastic._MPW, eps_T_pi_Emna, m_inelastic._MPN, m_inelastic.DELTA)\n",
    "        )\n",
    "        )\n",
    "        eps_e_Emab = eps_Emab - eps_p_Emab\n",
    "\n",
    "        sig_Emab = np.einsum(\n",
    "            '...abcd,...cd,...ab->...ab',\n",
    "            D_Emabcd, eps_e_Emab, m_inelastic.DELTA\n",
    "                ) \n",
    "        sigma_11 = sig_Emab[0,:,1,1]\n",
    "        sigma_radial[i] = max(sigma_11)\n",
    "        \n",
    "    return sigma_N_01, sigma_N_11, sigma_radial"
   ]
  },
  {
   "cell_type": "markdown",
   "id": "181d2289-c3bd-436f-92e5-191da1a841b0",
   "metadata": {
    "jp-MarkdownHeadingCollapsed": true,
    "tags": []
   },
   "source": [
    "## Unit element 3D"
   ]
  },
  {
   "cell_type": "markdown",
   "id": "90eb7e25-ab30-42e0-b56b-6e95894c59d8",
   "metadata": {
    "tags": []
   },
   "source": [
    "## Tensile test"
   ]
  },
  {
   "cell_type": "code",
   "execution_count": 6,
   "id": "54c697cd-19ab-4aa9-9889-9a9d6f3d962e",
   "metadata": {
    "tags": []
   },
   "outputs": [],
   "source": [
    "CAxisymm = dict(\n",
    "    E = 39226,\n",
    "    nu = 0.18,\n",
    "    Ad = 7000.0,\n",
    "    eps_0 = 0.00001,\n",
    "    K_N = 10000.,\n",
    "    sigma_N_0 = 40.,\n",
    "    gamma_N = 60000.,\n",
    "    sigma_T_0 = 2.0,\n",
    "    K_T = 500.0,\n",
    "    gamma_T = 5000,\n",
    "    S_T = 0.003,\n",
    "    c_T = 10.,\n",
    "    r_T = 13.,\n",
    "    m_T = 0.1,\n",
    "    p_T = 6.\n",
    ")\n",
    "\n"
   ]
  },
  {
   "cell_type": "code",
   "execution_count": 7,
   "id": "c1873fef-b895-4de0-923a-2cceccb908b9",
   "metadata": {},
   "outputs": [],
   "source": [
    "size_x = 30\n",
    "size_y = 4\n",
    "size_z = 1\n",
    "n_e_x = 1\n",
    "n_e_y = 1\n",
    "n_e_z = 1\n",
    "\n",
    "xmodel = XDomainFEGrid(coord_min=(0, 0, 0),\n",
    "                       coord_max=(size_x ,size_y, size_z),\n",
    "                       shape=(n_e_x, n_e_y, n_e_z),\n",
    "                     integ_factor=1,\n",
    "                     fets=FETS3D8H())\n",
    "\n",
    "m_inelastic = MS13D(**CAxisymm)\n",
    "m = TStepBC(\n",
    "    domains=[(xmodel, m_inelastic),\n",
    "             ]\n",
    ")"
   ]
  },
  {
   "cell_type": "code",
   "execution_count": 8,
   "id": "48f271ff-99a9-4e77-8bc5-1e6315f6ec8b",
   "metadata": {},
   "outputs": [],
   "source": [
    "tf_precrompression = TFBilinear(loading_ratio = 1.0, time_ratio=1.0)\n",
    "tf_sliding = TFBilinear(loading_ratio = 0.0, time_ratio=1.0)"
   ]
  },
  {
   "cell_type": "code",
   "execution_count": 9,
   "id": "83131725-cc9a-4c2f-81ea-034586a8bd42",
   "metadata": {
    "tags": []
   },
   "outputs": [],
   "source": [
    "w_max = 0.1\n",
    "\n",
    "# Uniaxial tension/compression\n",
    "\n",
    "bc_1 = BCSlice(slice=xmodel.mesh[:, :, :, 0, 0, 0],\n",
    "                  var='u', dims=[0,1,2], value=0.0)\n",
    "\n",
    "bc_2 = BCSlice(slice=xmodel.mesh[:, :, :, 0, -1, 0],\n",
    "                  var='u', dims=[0,2], value=0.0)\n",
    "\n",
    "bc_3 = BCSlice(slice=xmodel.mesh[:, :, :, 0, 0, -1],\n",
    "                  var='u', dims=[0,1], value=0.0)\n",
    "\n",
    "bc_4 = BCSlice(slice=xmodel.mesh[:, :, :, 0, -1, -1],\n",
    "                  var='u', dims=[0], value=0.0)\n",
    "\n",
    "slide_slice = BCSlice(slice=xmodel.mesh[-1, :, :, -1, :, :],\n",
    "                 var='u', dims=[1], value=w_max)\n",
    "slide_dofs = slide_slice.dofs\n",
    "slide = [BCDof(var='u', dof=dof, value=w_max , time_function=tf_sliding) \n",
    "                     for dof in slide_dofs ]\n",
    "\n",
    "\n",
    "compression_slice = BCSlice(slice=xmodel.mesh[-1, :, :, -1, :, :],\n",
    "                 var='u', dims=[0], value=w_max)\n",
    "compression_dofs = compression_slice.dofs\n",
    "compression_force = 0 * (size_y*size_z) / len(compression_dofs)\n",
    "compression_force_first = [BCDof(var='f', dof=dof, value=compression_force, time_function=tf_precrompression) \n",
    "                                 for dof in compression_dofs ]\n",
    "bc1 = [bc_1, bc_2, bc_3, bc_4, compression_slice]  #+ slide #+ compression_force_first"
   ]
  },
  {
   "cell_type": "code",
   "execution_count": 10,
   "id": "31928cbb-be4c-4c02-a6a1-05c808c478d0",
   "metadata": {},
   "outputs": [],
   "source": [
    "m.bc=bc1\n",
    "\n",
    "m.hist.vis_record = {\n",
    "#    'strain': Vis3DTensorField(var='eps_ab'),\n",
    "    'stress': Vis3DTensorField(var='sig_ab'),\n",
    "    #        'kinematic hardening': Vis3DStateField(var='z_a')\n",
    "}\n",
    "\n",
    "s = m.sim\n",
    "s.tloop.verbose = False\n",
    "s.tloop.k_max = 1000\n",
    "s.tline.step = 0.005\n",
    "# Accessing the following property - ensures serialization\n",
    "s.tstep.fe_domain.serialized_subdomains\n",
    "s.reset()\n",
    "try:\n",
    "    s.run()\n",
    "except:\n",
    "    # m_list_monotnonic.append(m)\n",
    "    pass"
   ]
  },
  {
   "cell_type": "code",
   "execution_count": 11,
   "id": "66f31bb0-c71a-444c-9eb5-16d1150ef432",
   "metadata": {},
   "outputs": [],
   "source": [
    "U_tensile = np.average(m.hist.U_t[:, compression_dofs], axis=-1)\n",
    "F_tensile = np.sum(m.hist.F_t[:, compression_dofs], axis=-1)\n",
    "\n",
    "# G = np.trapz(F_t, x=U_t)/((size_z)*(size_y))*1000\n",
    "# G2 = np.trapz(F_t/(size_y*size_z), x=U_t/size_x)\n",
    "# print(G)\n",
    "# print(G2)"
   ]
  },
  {
   "cell_type": "code",
   "execution_count": 12,
   "id": "28244ecd-31d6-4472-b920-ecd6fba34a9c",
   "metadata": {},
   "outputs": [],
   "source": [
    "if False:\n",
    "    mlab.options.backend = 'envisage'\n",
    "    mlab.options.offscreen = False # 'envisage'\n",
    "    f_strain = mlab.figure()\n",
    "    scene = mlab.get_engine().scenes[-1]\n",
    "    scene.name = 'stress'\n",
    "    strain_viz = Viz3DTensorField(vis3d=m.hist['stress'])\n",
    "    strain_viz.setup()\n",
    "    strain_viz.warp_vector.filter.scale_factor = 0.1\n",
    "    strain_viz.plot(s.tstep.t_n)\n",
    "    mlab.show()"
   ]
  },
  {
   "cell_type": "markdown",
   "id": "5f2548cd-98ec-4f98-834c-be4852143219",
   "metadata": {
    "tags": []
   },
   "source": [
    "## Compression test"
   ]
  },
  {
   "cell_type": "code",
   "execution_count": 23,
   "id": "19d7e315-a816-4b9c-8090-b2f7f1c96033",
   "metadata": {},
   "outputs": [],
   "source": [
    "size_x = 30\n",
    "size_y = 4\n",
    "size_z = 1\n",
    "n_e_x = 1\n",
    "n_e_y = 1\n",
    "n_e_z = 1\n",
    "\n",
    "xmodel = XDomainFEGrid(coord_min=(0, 0, 0),\n",
    "                       coord_max=(size_x ,size_y, size_z),\n",
    "                       shape=(n_e_x, n_e_y, n_e_z),\n",
    "                     integ_factor=1,\n",
    "                     fets=FETS3D8H())\n",
    "\n",
    "m_inelastic = MS13D(**CAxisymm)\n",
    "m = TStepBC(\n",
    "    domains=[(xmodel, m_inelastic),\n",
    "             ]\n",
    ")"
   ]
  },
  {
   "cell_type": "code",
   "execution_count": 24,
   "id": "ffa6c120-cac7-461b-be9c-819eef7cefb6",
   "metadata": {
    "tags": []
   },
   "outputs": [],
   "source": [
    "w_max = -0.24\n",
    "\n",
    "# Uniaxial tension/compression\n",
    "\n",
    "bc_1 = BCSlice(slice=xmodel.mesh[:, :, :, 0, 0, 0],\n",
    "                  var='u', dims=[0,1,2], value=0.0)\n",
    "\n",
    "bc_2 = BCSlice(slice=xmodel.mesh[:, :, :, 0, -1, 0],\n",
    "                  var='u', dims=[0,2], value=0.0)\n",
    "\n",
    "bc_3 = BCSlice(slice=xmodel.mesh[:, :, :, 0, 0, -1],\n",
    "                  var='u', dims=[0,1], value=0.0)\n",
    "\n",
    "bc_4 = BCSlice(slice=xmodel.mesh[:, :, :, 0, -1, -1],\n",
    "                  var='u', dims=[0], value=0.0)\n",
    "\n",
    "slide_slice = BCSlice(slice=xmodel.mesh[-1, :, :, -1, :, :],\n",
    "                 var='u', dims=[1], value=w_max)\n",
    "slide_dofs = slide_slice.dofs\n",
    "slide = [BCDof(var='u', dof=dof, value=w_max , time_function=tf_sliding) \n",
    "                     for dof in slide_dofs ]\n",
    "\n",
    "\n",
    "compression_slice = BCSlice(slice=xmodel.mesh[-1, :, :, -1, :, :],\n",
    "                 var='u', dims=[0], value=w_max)\n",
    "compression_dofs = compression_slice.dofs\n",
    "compression_force = 0 * (size_y*size_z) / len(compression_dofs)\n",
    "compression_force_first = [BCDof(var='f', dof=dof, value=compression_force, time_function=tf_precrompression) \n",
    "                                 for dof in compression_dofs ]\n"
   ]
  },
  {
   "cell_type": "code",
   "execution_count": 25,
   "id": "49f3f593-49b7-4a5e-aadd-a0b962c3a89b",
   "metadata": {},
   "outputs": [],
   "source": [
    "bc1 = [bc_1, bc_2, bc_3, bc_4, compression_slice]  #+ slide #+ compression_force_first"
   ]
  },
  {
   "cell_type": "code",
   "execution_count": 26,
   "id": "3f610e1b-c2c3-4aa6-a6d6-7e2867f27aa7",
   "metadata": {},
   "outputs": [
    {
     "name": "stdout",
     "output_type": "stream",
     "text": [
      "\n"
     ]
    }
   ],
   "source": [
    "m.bc=bc1\n",
    "m.hist.vis_record = {\n",
    "#    'strain': Vis3DTensorField(var='eps_ab'),\n",
    "    'stress': Vis3DTensorField(var='sig_ab'),\n",
    "    'damage': Vis3DTensorField(var='omega_ab'),\n",
    "    #        'kinematic hardening': Vis3DStateField(var='z_a')\n",
    "}\n",
    "\n",
    "s = m.sim\n",
    "s.tloop.verbose = False\n",
    "s.tloop.k_max = 1000\n",
    "s.tline.step = 0.005\n",
    "# Accessing the following property - ensures serialization\n",
    "s.tstep.fe_domain.serialized_subdomains\n",
    "s.reset()\n",
    "try:\n",
    "    s.run()\n",
    "except:\n",
    "    # m_list_monotnonic.append(m)\n",
    "    pass"
   ]
  },
  {
   "cell_type": "code",
   "execution_count": 27,
   "id": "bdf4fbb1-e400-4cf6-82ba-3861790a17a6",
   "metadata": {},
   "outputs": [],
   "source": [
    "U_compression = np.average(m.hist.U_t[:, compression_dofs], axis=-1)\n",
    "F_compression = np.sum(m.hist.F_t[:, compression_dofs], axis=-1)"
   ]
  },
  {
   "cell_type": "code",
   "execution_count": 17,
   "id": "ebbeeaab-aa23-4c1e-9c2a-66df45b27b0e",
   "metadata": {},
   "outputs": [],
   "source": [
    "if False:\n",
    "    mlab.options.backend = 'envisage'\n",
    "    mlab.options.offscreen = False # 'envisage'\n",
    "    f_strain = mlab.figure()\n",
    "    scene = mlab.get_engine().scenes[-1]\n",
    "    scene.name = 'stress'\n",
    "    strain_viz = Viz3DTensorField(vis3d=m.hist['damage'])\n",
    "    strain_viz.setup()\n",
    "    strain_viz.warp_vector.filter.scale_factor = 0.1\n",
    "    strain_viz.plot(s.tstep.t_n)\n",
    "    mlab.show()"
   ]
  },
  {
   "cell_type": "markdown",
   "id": "6c9fabe6-e622-4e0c-97f2-aedd6c04d026",
   "metadata": {},
   "source": [
    "## shear "
   ]
  },
  {
   "cell_type": "code",
   "execution_count": 18,
   "id": "cfc8a405-15c0-4d2a-9687-08422101ab0e",
   "metadata": {},
   "outputs": [],
   "source": [
    "n_x_e = 3\n",
    "n_inner_y_e = 1\n",
    "n_outer_y_e = 1\n",
    "L_x = 90.0 # [mm]\n",
    "d_x = L_x / n_x_e\n",
    "R_in = 25 # [mm]\n",
    "dR = 4 # [mm]\n",
    "R_out = 50 # [mm]\n",
    "len_notch = 30\n",
    "n_notch = 1\n",
    "\n",
    "xmodel = XDomainFEGridAxiSym(integ_factor = 2 * np.pi,\n",
    "                               coord_min=(0+n_notch*d_x, R_in),\n",
    "                               coord_max=(L_x-n_notch*d_x, R_in+dR),\n",
    "                               shape=(n_x_e-2*n_notch, 1),\n",
    "                               fets=FETS2D4Q())\n",
    "\n",
    "m_inelastic = MS13D(**CAxisymm)\n",
    "m_elastic = MATS3DElastic(E=40000, nu=0.18)\n",
    "m = TStepBC(\n",
    "    domains=[(xmodel, m_inelastic),\n",
    "             ]\n",
    ")"
   ]
  },
  {
   "cell_type": "code",
   "execution_count": 19,
   "id": "2b77200b-9125-4358-be08-3e4e1aaea0f3",
   "metadata": {},
   "outputs": [],
   "source": [
    "tf_precrompression = TFBilinear(loading_ratio = 1.0, time_ratio=0.1)\n",
    "tf_sliding = TFBilinear(loading_ratio = 0.0, time_ratio=0.1)"
   ]
  },
  {
   "cell_type": "code",
   "execution_count": 20,
   "id": "203202d7-3369-481b-bdb0-bf3fb2d5b24f",
   "metadata": {},
   "outputs": [],
   "source": [
    "slide_upper_slice = BCSliceI(slice=xmodel.mesh.I[:, -1],\n",
    "                                   var='u', dims=[0], value=0.0)\n",
    "slide_upper_dofs = slide_upper_slice.dofs\n",
    "\n",
    "slide_lower_slice = BCSliceI(slice=xmodel.mesh.I[:, 0],\n",
    "                                   var='u', dims=[0], value=0.0)\n",
    "slide_lower_dofs = slide_lower_slice.dofs\n",
    "\n",
    "confinement_upper_slice = BCSliceI(slice=xmodel.mesh.I[:, -1],\n",
    "                                   var='u', dims=[1], value=0.0)\n",
    "confinement_upper_dofs = confinement_upper_slice.dofs\n",
    "\n",
    "confinement_lower_slice = BCSliceI(slice=xmodel.mesh.I[:, 0],\n",
    "                                   var='u', dims=[1], value=0.0)\n",
    "confinement_lower_dofs = confinement_lower_slice.dofs\n"
   ]
  },
  {
   "cell_type": "code",
   "execution_count": 21,
   "id": "6a8ae0b1-4516-4de0-89f5-5cb176d335a0",
   "metadata": {
    "tags": []
   },
   "outputs": [],
   "source": [
    "m_list_monotnonic = []\n",
    "# CAxisymm['m_T'] = 0.15\n",
    "# CAxisymm['p_T'] = 7\n",
    "# m_inelastic = MS13D(**CAxisymm)\n",
    "# compression_level = np.linspace(-20,10,3)\n",
    "compression_level = np.array([0,-5,-15,-30])\n",
    "\n",
    "w_max = 0.1\n",
    "\n",
    "for compression in compression_level:\n",
    "    m = TStepBC(\n",
    "    domains=[(xmodel, m_inelastic),\n",
    "             ]\n",
    "    )\n",
    "    # Shear bc\n",
    "    slide = 0.1\n",
    "    compression_stress = compression\n",
    "\n",
    "    inner_fixed_0 = slide_lower_slice\n",
    "    inner_fixed_1 = confinement_lower_slice\n",
    "\n",
    "    compression_force = compression_stress * 2 * np.pi * (R_in + dR) * len_notch  / (len(confinement_upper_dofs))\n",
    "    upper_compression_force = [BCDof(var='f', dof=dof, value=compression_force, \n",
    "                                     time_function=tf_precrompression)\n",
    "                               for dof in confinement_upper_dofs]\n",
    "    \n",
    "\n",
    "    \n",
    "    # upper_compression_force[0].value *= 0.5\n",
    "    # upper_compression_force[-1].value *= 0.5\n",
    "\n",
    "    slide_upper = [BCDof(var='u', dof=dof, value=slide, time_function=tf_sliding)\n",
    "                         for dof in slide_upper_dofs]\n",
    "    \n",
    "#     slide_upper[0].value *= 1.5\n",
    "#     slide_upper[-1].value *= 0.5\n",
    "    \n",
    "    \n",
    "    bc1 = [inner_fixed_0, inner_fixed_1] + slide_upper + upper_compression_force\n",
    "\n",
    "    m.bc=bc1\n",
    "    m.hist.vis_record = {\n",
    "    #    'strain': Vis3DTensorField(var='eps_ab'),\n",
    "        'stress': Vis3DTensorField(var='sig_ab'),\n",
    "        #        'kinematic hardening': Vis3DStateField(var='z_a')\n",
    "    }\n",
    "\n",
    "    s = m.sim\n",
    "    s.tloop.verbose = False\n",
    "    s.tloop.k_max = 1000\n",
    "    s.tline.step = 0.005\n",
    "    # Accessing the following property - ensures serialization\n",
    "    s.tstep.fe_domain.serialized_subdomains\n",
    "    s.reset()\n",
    "    # s.run()\n",
    "    try:\n",
    "        s.run()\n",
    "    except:\n",
    "        # m_list_monotnonic.append(m)\n",
    "        pass\n",
    "    m_list_monotnonic.append(m)"
   ]
  },
  {
   "cell_type": "code",
   "execution_count": 29,
   "id": "541380ef-d5b7-40d2-b7ce-dbb6d4b190b4",
   "metadata": {},
   "outputs": [
    {
     "name": "stdout",
     "output_type": "stream",
     "text": [
      "141.98615557854708\n",
      "162.00372769274986\n",
      "191.58293317757932\n",
      "224.2389985723909\n"
     ]
    },
    {
     "data": {
      "application/vnd.jupyter.widget-view+json": {
       "model_id": "691edbd695204fff8dc11a440b0bd660",
       "version_major": 2,
       "version_minor": 0
      },
      "text/html": [
       "\n",
       "            <div style=\"display: inline-block;\">\n",
       "                <div class=\"jupyter-widgets widget-label\" style=\"text-align: center;\">\n",
       "                    Figure\n",
       "                </div>\n",
       "                <img src='data:image/png;base64,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' width=826.771653543307/>\n",
       "            </div>\n",
       "        "
      ],
      "text/plain": [
       "Canvas(toolbar=Toolbar(toolitems=[('Home', 'Reset original view', 'home', 'home'), ('Back', 'Back to previous …"
      ]
     },
     "metadata": {},
     "output_type": "display_data"
    }
   ],
   "source": [
    "cm = 1/2.54  # centimeters in inches\n",
    "plt.style.use('grayscale')\n",
    "\n",
    "plt.tight_layout()\n",
    "max_F = []\n",
    "plt.rcParams[\"font.family\"] = \"Times New Roman\"\n",
    "\n",
    "\n",
    "\n",
    "\n",
    "fig, (ax1,ax2, ax3) = plt.subplots(1, 3,figsize=(21*cm, 7*cm))\n",
    "\n",
    "\n",
    "ax1.plot(-U_compression/size_x, -F_compression/(size_y*size_z))\n",
    "ax2.plot(U_tensile/size_x, F_tensile/(size_y*size_z))\n",
    "ax1.set_ylabel('compressive stress [MPa]')\n",
    "ax1.set_xlabel('strain [-]')\n",
    "ax1.set_xlim(-0.0001,0.0055)\n",
    "\n",
    "ax2.plot(U_tensile/size_x, F_tensile/(size_y*size_z))\n",
    "ax2.set_ylabel('tensile stress [MPa]')\n",
    "ax2.set_xlabel('strain [-]')\n",
    "\n",
    "for m,compression in zip(m_list_monotnonic,compression_level):\n",
    "    U_slide = np.average(m.hist.U_t[:, slide_upper_dofs], axis=-1)\n",
    "    U_dilatancy  =m.hist.U_t[:, confinement_upper_dofs[0]]\n",
    "    F_slide = np.sum(m.hist.F_t[:, slide_upper_dofs], axis=-1)\n",
    "    radial_damage, hoop_damage, shear_damage = get_damage(m)\n",
    "    print(max(abs(F_slide))/1000)\n",
    "\n",
    "    F_confinement = np.sum(m.hist.F_t[:, confinement_upper_dofs], axis=-1)\n",
    "    max_F.append(max(abs(F_slide)))\n",
    "    \n",
    "    \n",
    "    ax3.plot(U_slide, F_slide/1000, label=str(compression)+' MPa')\n",
    "    ax3.set_ylabel('shear force [kN]', fontsize=10)\n",
    "    ax3.set_xlabel('slip [mm]', fontsize=10)\n",
    "    \n",
    "ax3.legend(loc=4, prop={'size': 9},frameon=False)\n",
    "import string        \n",
    "for n, ax in enumerate([ax1,ax2,ax3]):     \n",
    "    ax.text(-0.1, 1.05, string.ascii_lowercase[n] + ')', transform=ax.transAxes, \n",
    "            size=10)  \n",
    "\n",
    "\n",
    "left  = 0.08  # the left side of the subplots of the figure\n",
    "right = 0.98  # the right side of the subplots of the figure\n",
    "bottom = 0.2   # the bottom of the subplots of the figure\n",
    "top = 0.9      # the top of the subplots of the figure\n",
    "wspace = 0.4   # the amount of width reserved for blank space between subplots\n",
    "hspace = 0.4   # the amount of height reserved for white space between subplots\n",
    "# mpl.rcParams['axes.prop_cycle'] = mpl.cycler(color=[\"k\", \"r\", \"b\"]) \n",
    "plt.subplots_adjust(left=left, bottom=bottom, right=right, top=None, wspace=wspace, hspace=hspace)\n",
    "\n",
    "# txt=str(CAxisymm)\n",
    "# plt.figtext(0.5, 0.01, txt, wrap=True, horizontalalignment='center', fontsize=10)\n",
    "\n",
    "fig.savefig('C:\\\\Users\\\\marag\\\\OneDrive - rwth-aachen.de\\\\EURO-C\\\\Figures\\\\study02_calibration_normal\\\\pdf\\\\study02_monotonic_' + '.pdf')\n",
    "fig.savefig('C:\\\\Users\\\\marag\\\\OneDrive - rwth-aachen.de\\\\EURO-C\\\\Figures\\\\study02_calibration_normal\\\\png\\\\study02_monotonic_'  + '.png')"
   ]
  },
  {
   "cell_type": "code",
   "execution_count": null,
   "id": "62e95b66-cf75-4822-8193-231a3805ccd2",
   "metadata": {},
   "outputs": [],
   "source": []
  }
 ],
 "metadata": {
  "kernelspec": {
   "display_name": "bmcs_env",
   "language": "python",
   "name": "bmcs_env"
  },
  "language_info": {
   "codemirror_mode": {
    "name": "ipython",
    "version": 3
   },
   "file_extension": ".py",
   "mimetype": "text/x-python",
   "name": "python",
   "nbconvert_exporter": "python",
   "pygments_lexer": "ipython3",
   "version": "3.9.7"
  }
 },
 "nbformat": 4,
 "nbformat_minor": 5
}
