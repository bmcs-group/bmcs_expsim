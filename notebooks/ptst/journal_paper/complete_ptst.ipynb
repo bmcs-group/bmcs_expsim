{
 "cells": [
  {
   "cell_type": "markdown",
   "id": "7fe163db-9193-44c1-9033-f79a48775c99",
   "metadata": {},
   "source": [
    "# **PTST**"
   ]
  },
  {
   "cell_type": "markdown",
   "id": "a1af772b-a50e-4b71-873e-6713eda2ec74",
   "metadata": {},
   "source": [
    "Includes shear test 3D, tensile test axisymm, investigation of state variables profile at ligament"
   ]
  },
  {
   "cell_type": "code",
   "execution_count": null,
   "id": "d7b4549e-c36b-4c4c-96d2-8a71c0b9aae8",
   "metadata": {},
   "outputs": [],
   "source": [
    "%matplotlib widget\n",
    "import numpy as np\n",
    "np.seterr(divide='ignore', invalid='ignore') \n",
    "import matplotlib.pylab as plt\n",
    "from ibvpy.bcond import BCSlice, BCDof\n",
    "from ibvpy.fets import FETS3D8H\n",
    "from ibvpy.fets import FETS2D4Q\n",
    "from ibvpy.tmodel.mats3D import MATS3DElastic\n",
    "import bmcs_matmod.ms1.concrete_material_db as mp_db\n",
    "from ibvpy.tmodel.viz3d_scalar_field import \\\n",
    "    Vis3DStateField, Viz3DScalarField\n",
    "from ibvpy.tmodel.viz3d_tensor_field import \\\n",
    "    Vis3DTensorField, Viz3DTensorField\n",
    "from ibvpy.sim.tstep_bc import TStepBC\n",
    "from ibvpy.xmodel.xdomain_fe_grid import XDomainFEGrid\n",
    "from ibvpy.xmodel.xdomain_fe_grid_axisym import XDomainFEGridAxiSym\n",
    "from ibvpy.api import TStepBC, TFCyclicNonsymmetricConstant, TFBilinear\n",
    "from mayavi import mlab\n",
    "from bmcs_matmod.ms1 import MS13D_compression\n",
    "from ibvpy.tmodel.mats3D.mats3D_microplane.vmats3D_mpl_d_eeq import \\\n",
    "    MATS3DMplDamageEEQ\n",
    "from ibvpy.bcond import BCSliceI, BCDof\n",
    "from ibvpy.tfunction import TimeFunction, TFSelector, TFCyclicSin, TFCyclicNonsymmetricConstant\n",
    "import copy"
   ]
  },
  {
   "cell_type": "code",
   "execution_count": null,
   "id": "9883ccfa-7982-48f8-b25e-3c71cfd32b4a",
   "metadata": {},
   "outputs": [],
   "source": [
    "def get_damage(m):   \n",
    "    radial_damage = []\n",
    "    hoop_damage = []\n",
    "    shear_damage = []\n",
    "\n",
    "    for i in range(len(m.hist.state_vars)):\n",
    "        omega_T_Emn = np.average(m.hist.state_vars[i][0]['omega_T_Emn'],axis=1)\n",
    "        omega_N_Emn = np.average(m.hist.state_vars[i][0]['omega_N_Emn'],axis=1)\n",
    "        beta_N = 1. - omega_N_Emn\n",
    "        beta_T = 1. - omega_T_Emn\n",
    "        delta = m_inelastic.DELTA\n",
    "\n",
    "        beta_ijkl = np.einsum('n, ...n,ni, nj, nk, nl -> ...ijkl', m_inelastic._MPW, beta_N, m_inelastic._MPN, m_inelastic._MPN, m_inelastic._MPN,\n",
    "                              m_inelastic._MPN) + \\\n",
    "                    0.25 * (np.einsum('n, ...n,ni, nk, jl -> ...ijkl', m_inelastic._MPW, beta_T, m_inelastic._MPN, m_inelastic._MPN, delta) +\n",
    "                            np.einsum('n, ...n,ni, nl, jk -> ...ijkl', m_inelastic._MPW, beta_T, m_inelastic._MPN, m_inelastic._MPN, delta) +\n",
    "                            np.einsum('n, ...n,nj, nk, il -> ...ijkl', m_inelastic._MPW, beta_T, m_inelastic._MPN, m_inelastic._MPN, delta) +\n",
    "                            np.einsum('n, ...n,nj, nl, ik -> ...ijkl', m_inelastic._MPW, beta_T, m_inelastic._MPN, m_inelastic._MPN, delta) -\n",
    "                            4.0 * np.einsum('n, ...n, ni, nj, nk, nl -> ...ijkl', m_inelastic._MPW, beta_T, m_inelastic._MPN,\n",
    "                                            m_inelastic._MPN, m_inelastic._MPN, m_inelastic._MPN))\n",
    "\n",
    "        radial_damage.append(1-(beta_ijkl**2)[0,1,1,1,1])\n",
    "        hoop_damage.append(1-(beta_ijkl**2)[0,2,2,2,2])\n",
    "        shear_damage.append(1-((beta_ijkl)[0,1,0,1,0]*2)**2)\n",
    "    return radial_damage, hoop_damage, shear_damage\n"
   ]
  },
  {
   "cell_type": "code",
   "execution_count": null,
   "id": "709f1bea-6619-48d7-99a3-486b3d380dd3",
   "metadata": {},
   "outputs": [],
   "source": [
    "def get_omega_N(m):\n",
    "    omega_N_11 = np.zeros((len(m.hist.state_vars),8))\n",
    "    for i in range(len(m.hist.state_vars)):\n",
    "        omega_N_11[i] = np.array([ m.hist.state_vars[i][0]['omega_N_Emn'][0,0][j] for j in [8, 9, 10,11, 16, 17, 18 ,19]])\n",
    "        \n",
    "    omega_N_01 = np.zeros((len(m.hist.state_vars),20))\n",
    "    for i in range(len(m.hist.state_vars)):\n",
    "        omega_N_01[i] = np.array([ m.hist.state_vars[i][0]['omega_N_Emn'][0,0][j] for j in [0,1,2,3,4,5,6,7,12,13,14,15,20,21,22,23,24,25,26,27]])\n",
    "    return omega_N_01, omega_N_11 "
   ]
  },
  {
   "cell_type": "code",
   "execution_count": null,
   "id": "ce25f6a9-f75d-4fd3-b9df-145f352eaf55",
   "metadata": {},
   "outputs": [],
   "source": [
    "def get_omega_T(m):\n",
    "    omega_T_11 = np.zeros((len(m.hist.state_vars),8))\n",
    "    for i in range(len(m.hist.state_vars)):\n",
    "        omega_T_11[i] = np.array([ m.hist.state_vars[i][0]['omega_T_Emn'][0,0][j] for j in [8, 9, 10,11, 16, 17, 18 ,19]])\n",
    "        \n",
    "    omega_T_01 = np.zeros((len(m.hist.state_vars),20))\n",
    "    for i in range(len(m.hist.state_vars)):\n",
    "        omega_T_01[i] = np.array([ m.hist.state_vars[i][0]['omega_T_Emn'][0,0][j] for j in [0,1,2,3,4,5,6,7,12,13,14,15,20,21,22,23,24,25,26,27]])\n",
    "        \n",
    "    return omega_T_01, omega_T_11   "
   ]
  },
  {
   "cell_type": "code",
   "execution_count": null,
   "id": "250d4f2e-3756-4ebb-8baf-b0da435b00ff",
   "metadata": {},
   "outputs": [],
   "source": [
    "def get_sigma_N(m):\n",
    "    \n",
    "    sigma_N_11 = np.zeros((len(m.hist.state_vars),8))\n",
    "    for i in range(len(m.hist.state_vars)):\n",
    "        eps_Emab = xmodel.map_U_to_field(m.hist.U_t[i])\n",
    "        eps_N_Emn = m_inelastic._get_e_N_Emn_2(eps_Emab)\n",
    "        eps_N_Emn = np.array([ eps_N_Emn[0,0][j] for j in [8, 9, 10,11, 16, 17, 18 ,19]])\n",
    "        E_N = m_inelastic.E / (1.0 - 2.0 * m_inelastic.nu)\n",
    "        omega_N_Emn = np.array([ m.hist.state_vars[i][0]['omega_N_Emn'][0,0][j] for j in [8, 9, 10,11, 16, 17, 18 ,19]])\n",
    "        eps_N_p_Emn = np.array([ m.hist.state_vars[i][0]['eps_N_p_Emn'][0,0][j] for j in [8, 9, 10,11, 16, 17, 18 ,19]])\n",
    "        sigma_N_11[i] = (1.0 - omega_N_Emn ) * E_N * (eps_N_Emn - eps_N_p_Emn)\n",
    "        \n",
    "    sigma_N_01 = np.zeros((len(m.hist.state_vars),20))\n",
    "    for i in range(len(m.hist.state_vars)):\n",
    "        eps_Emab = xmodel.map_U_to_field(m.hist.U_t[i])\n",
    "        eps_N_Emn = m_inelastic._get_e_N_Emn_2(eps_Emab)\n",
    "        eps_N_Emn = np.array([ eps_N_Emn[0,0][j] for j in [0,1,2,3,4,5,6,7,12,13,14,15,20,21,22,23,24,25,26,27]])\n",
    "        E_N = m_inelastic.E / (1.0 - 2.0 * m_inelastic.nu)\n",
    "        omega_N_Emn = np.array([ m.hist.state_vars[i][0]['omega_N_Emn'][0,0][j] for j in [0,1,2,3,4,5,6,7,12,13,14,15,20,21,22,23,24,25,26,27]])\n",
    "        eps_N_p_Emn = np.array([ m.hist.state_vars[i][0]['eps_N_p_Emn'][0,0][j] for j in [0,1,2,3,4,5,6,7,12,13,14,15,20,21,22,23,24,25,26,27]])\n",
    "        sigma_N_01[i] = (1.0 - omega_N_Emn ) * E_N * (eps_N_Emn - eps_N_p_Emn)\n",
    "    \n",
    "    sigma_radial = np.zeros(len(m.hist.state_vars))\n",
    "    for i in range(len(m.hist.state_vars)):\n",
    "        eps_Emab = xmodel.map_U_to_field(m.hist.U_t[i])\n",
    "        omega_T_Emn = np.average(m.hist.state_vars[i][0]['omega_T_Emn'],axis=1)\n",
    "        omega_N_Emn = np.average(m.hist.state_vars[i][0]['omega_N_Emn'],axis=1)\n",
    "        eps_T_pi_Emna = np.average(m.hist.state_vars[i][0]['eps_T_pi_Emna'],axis=1)\n",
    "        eps_N_p_Emn = np.average(m.hist.state_vars[i][0]['eps_N_p_Emn'],axis=1)\n",
    "        \n",
    "        beta_N = 1. - omega_N_Emn\n",
    "        beta_T = 1. - omega_T_Emn\n",
    "        delta = m_inelastic.DELTA\n",
    "\n",
    "        beta_Emabcd = np.einsum('n, ...n,ni, nj, nk, nl -> ...ijkl', m_inelastic._MPW, beta_N, m_inelastic._MPN, m_inelastic._MPN, m_inelastic._MPN,\n",
    "                              m_inelastic._MPN) + \\\n",
    "                    0.25 * (np.einsum('n, ...n,ni, nk, jl -> ...ijkl', m_inelastic._MPW, beta_T, m_inelastic._MPN, m_inelastic._MPN, delta) +\n",
    "                            np.einsum('n, ...n,ni, nl, jk -> ...ijkl', m_inelastic._MPW, beta_T, m_inelastic._MPN, m_inelastic._MPN, delta) +\n",
    "                            np.einsum('n, ...n,nj, nk, il -> ...ijkl', m_inelastic._MPW, beta_T, m_inelastic._MPN, m_inelastic._MPN, delta) +\n",
    "                            np.einsum('n, ...n,nj, nl, ik -> ...ijkl', m_inelastic._MPW, beta_T, m_inelastic._MPN, m_inelastic._MPN, delta) -\n",
    "                            4.0 * np.einsum('n, ...n, ni, nj, nk, nl -> ...ijkl', m_inelastic._MPW, beta_T, m_inelastic._MPN,\n",
    "                                            m_inelastic._MPN, m_inelastic._MPN, m_inelastic._MPN))\n",
    "\n",
    "        D_Emabcd = np.einsum(\n",
    "                     '...ijab, abef, ...cdef->...ijcd',\n",
    "                     beta_Emabcd, m_inelastic.D_abef, beta_Emabcd\n",
    "                )\n",
    "\n",
    "        eps_p_Emab = (\n",
    "        np.einsum('n,...n,na,nb->...ab',\n",
    "                  m_inelastic._MPW, eps_N_p_Emn, m_inelastic._MPN, m_inelastic._MPN) +\n",
    "        0.5 * (\n",
    "                np.einsum('n,...nf,na,fb->...ab',\n",
    "                          m_inelastic._MPW, eps_T_pi_Emna, m_inelastic._MPN, m_inelastic.DELTA) +\n",
    "                np.einsum('n,...nf,nb,fa->...ab',\n",
    "                          m_inelastic._MPW, eps_T_pi_Emna, m_inelastic._MPN, m_inelastic.DELTA)\n",
    "        )\n",
    "        )\n",
    "        eps_e_Emab = eps_Emab - eps_p_Emab\n",
    "\n",
    "        sig_Emab = np.einsum(\n",
    "            '...abcd,...cd,...ab->...ab',\n",
    "            D_Emabcd, eps_e_Emab, m_inelastic.DELTA\n",
    "                ) \n",
    "        sigma_11 = sig_Emab[0,:,1,1]\n",
    "        sigma_radial[i] = max(sigma_11)\n",
    "        \n",
    "    return sigma_N_01, sigma_N_11, sigma_radial"
   ]
  },
  {
   "cell_type": "code",
   "execution_count": null,
   "id": "0e266d9b-577b-40b8-ae1d-4580bce5a9d9",
   "metadata": {},
   "outputs": [],
   "source": [
    "mat_param =  dict(E = 37e+3, \n",
    "        nu = 0.0, \n",
    "        Ad_tension = 800.0, \n",
    "        eps_0_tension = 1e-5,\n",
    "        Ad_compression = 500.0, \n",
    "        eps_0_compression = 1e-3,\n",
    "        K_N = 0.,   \n",
    "        sigma_N_0 = 50.,\n",
    "        gamma_N = 80000.,  \n",
    "        sigma_T_0 = 10.0, \n",
    "        K_T = 0.0, \n",
    "        gamma_T = 5000,\n",
    "        S_T = 0.01,   \n",
    "        c_T = 10, \n",
    "        r_T = 13,   \n",
    "        m_T = 0.0, \n",
    "        p_T = 6.0)\n",
    "\n",
    "# E = 39000\n",
    "# nu = 0.2\n",
    "# mp = dict(          \n",
    "# Ad = 700,\n",
    "# eps_0  = 0.00001,\n",
    "# sig_0  = 50,\n",
    "# K_N = 0,\n",
    "# gamma_N = 80000,\n",
    "# sigma_T_0  = 10.0,\n",
    "# K_T  = 0,\n",
    "# gamma_T  = 5000,\n",
    "# S_T  = 0.01,\n",
    "# c_T  = 10,\n",
    "# r_T  = 13,\n",
    "# a  = 0.5,\n",
    "# e_T  = 6.0) "
   ]
  },
  {
   "cell_type": "markdown",
   "id": "1c4e6078-acea-4c15-a3a6-1e382f49e53d",
   "metadata": {
    "tags": []
   },
   "source": [
    "## Complete PTST - study about state variables profiles"
   ]
  },
  {
   "cell_type": "code",
   "execution_count": null,
   "id": "67ff492f-2496-486c-92e9-67edd7aa0e1d",
   "metadata": {
    "tags": []
   },
   "outputs": [],
   "source": [
    "n_x_e = 10\n",
    "n_inner_y_e = 5\n",
    "n_outer_y_e = 5\n",
    "L_x = 50.0 # [mm]\n",
    "d_x = L_x / n_x_e\n",
    "R_in = 25 # [mm]\n",
    "dR = 2 # [mm]\n",
    "R_out = 50 # [mm]\n",
    "len_notch = 20\n",
    "n_notch = 4\n",
    "# geo_transform\n",
    "# gmesh\n",
    "xd_inner = XDomainFEGridAxiSym(integ_factor = 2 * np.pi,\n",
    "                               coord_min=(0, 0),\n",
    "                               coord_max=(L_x, R_in),\n",
    "                               shape=(n_x_e, n_inner_y_e),\n",
    "                               fets=FETS2D4Q())\n",
    "xd_middle = XDomainFEGridAxiSym(integ_factor = 2 * np.pi,\n",
    "                               coord_min=(0+n_notch*d_x, R_in),\n",
    "                               coord_max=(L_x-n_notch*d_x, R_in+dR),\n",
    "                               shape=(n_x_e-2*n_notch, 1),\n",
    "                               fets=FETS2D4Q())\n",
    "xd_outer = XDomainFEGridAxiSym(integ_factor = 2 * np.pi,\n",
    "                               coord_min=(0, R_in+dR),\n",
    "                               coord_max=(L_x, R_out),\n",
    "                               shape=(n_x_e, n_outer_y_e),\n",
    "                               fets=FETS2D4Q())\n",
    "# m_elastic = MATS3DElastic(E=40000, nu=0.18)\n",
    "# m_inelastic_MDM = MATS3DMplDamageEEQ(**CAxisymmMDM)\n",
    "\n",
    "\n",
    "m_inelastic = MS13D_compression(**mat_param)\n",
    "\n",
    "m = TStepBC(\n",
    "    domains=[(xd_inner, m_inelastic),\n",
    "             (xd_outer, m_inelastic),\n",
    "             (xd_middle, m_inelastic),\n",
    "             ]\n",
    ")"
   ]
  },
  {
   "cell_type": "markdown",
   "id": "29373558-9668-46a6-a697-ebe650527353",
   "metadata": {},
   "source": [
    "## Boundary and transition conditions"
   ]
  },
  {
   "cell_type": "code",
   "execution_count": null,
   "id": "044557ca-f2bb-4b1c-87d3-c3f0cd8b5f6e",
   "metadata": {},
   "outputs": [],
   "source": [
    "tf_precrompression = TFBilinear(loading_ratio = 1.0, time_ratio=0.1)\n",
    "tf_sliding = TFBilinear(loading_ratio = 0.0, time_ratio=0.1)"
   ]
  },
  {
   "cell_type": "markdown",
   "id": "5e96e632-f400-452d-8f60-718a3213b314",
   "metadata": {},
   "source": [
    "### Kinematic links between the domains"
   ]
  },
  {
   "cell_type": "code",
   "execution_count": null,
   "id": "9893c53f-cc19-4e72-bc6c-5419650e7b9f",
   "metadata": {},
   "outputs": [],
   "source": [
    "link_inner_middle_0 = BCSliceI(var='u', dims=[0],\n",
    "                             # slice=xd_inner.mesh.I[:, -1], \n",
    "                             slice=xd_inner.mesh.I[n_notch:-n_notch, -1], \n",
    "                             link_slice=xd_middle.mesh.I[:, 0],\n",
    "                             link_coeffs=[1],\n",
    "                             link_dims=[0],\n",
    "                             value=0,\n",
    "                            )\n",
    "\n",
    "link_inner_middle_1 = BCSliceI(var='u', dims=[1],\n",
    "                             # slice=xd_inner.mesh.I[:, -1], \n",
    "                             slice=xd_inner.mesh.I[n_notch:-n_notch, -1], \n",
    "                             link_slice=xd_middle.mesh.I[:, 0],\n",
    "                             link_coeffs=[1],\n",
    "                             link_dims=[1],\n",
    "                             value=0,\n",
    "                            )\n",
    "\n",
    "link_middle_outer_0 = BCSliceI(var='u', dims=[0],\n",
    "                             slice=xd_outer.mesh.I[n_notch:-n_notch, 0], \n",
    "                             # slice=xd_outer.mesh.I[:, 0], \n",
    "                             link_slice=xd_middle.mesh.I[:, -1],\n",
    "                             link_coeffs=[1],\n",
    "                             link_dims=[0],\n",
    "                             value=0,\n",
    "                            )\n",
    "\n",
    "link_middle_outer_1 = BCSliceI(var='u', dims=[1],\n",
    "                             slice=xd_outer.mesh.I[n_notch:-n_notch, 0], \n",
    "                             # slice=xd_outer.mesh.I[:, 0], \n",
    "                             link_slice=xd_middle.mesh.I[:, -1],\n",
    "                             link_coeffs=[1],\n",
    "                             link_dims=[1],\n",
    "                             value=0,\n",
    "                            )\n",
    "\n",
    "# link_middle_outer = BCSliceI(var='u', dims=[0, 1],\n",
    "#                              slice=xd_middle.mesh.I[n_notch:-n_notch, 0], \n",
    "#                              # slice=xd_outer.mesh.I[:, 0], \n",
    "#                              link_slice=xd_outer.mesh.I[:, -1],\n",
    "#                              link_coeffs=[1, 1],\n",
    "#                              link_dims=[0, 1],\n",
    "#                              value=0,\n",
    "#                             )"
   ]
  },
  {
   "cell_type": "markdown",
   "id": "67bf4496-d30a-40e2-8fa2-297470c9c890",
   "metadata": {},
   "source": [
    "## Sliding dc + Precompression fc"
   ]
  },
  {
   "cell_type": "code",
   "execution_count": null,
   "id": "20384cf3-6190-4179-adb8-7ccee4bac9ee",
   "metadata": {},
   "outputs": [],
   "source": [
    "inner_fixed_1 = BCSliceI(slice=xd_inner.mesh.I[:, 0], var='u', dims=[1], value=0)\n",
    "outer_fixed_0 = BCSliceI(slice=xd_outer.mesh.I[0, :], var='u', dims=[0], value=0)\n",
    "outer_fixed_1 = BCSliceI(slice=xd_outer.mesh.I[:, -1], var='u', dims=[1], value=0)\n",
    "\n",
    "inner_fixed_out_1 = BCSliceI(slice=xd_inner.mesh.I[:, -1], var='u', dims=[1], value=0)\n",
    "\n",
    "slide = 1.00\n",
    "inner_slide_slice = BCSliceI(slice=xd_inner.mesh.I[-1, :],\n",
    "                                   var='u', dims=[0], value=-0.1)\n",
    "\n",
    "slide_control_dofs = inner_slide_slice.dofs\n",
    "inner_slide = [BCDof(var='u', dof=dof, value=-slide, time_function=tf_sliding) \n",
    "                     for dof in slide_control_dofs ]\n",
    "\n",
    "\n",
    "outer_compression_slice = BCSliceI(slice=xd_outer.mesh.I[:, -1],\n",
    "                                   var='u', dims=[1], value=-0.1)\n",
    "\n",
    "compression_dofs = outer_compression_slice.dofs\n",
    "compression_stress = -1\n",
    "compression_force = compression_stress  * 2* np.pi* R_out * L_x / len(compression_dofs)\n",
    "outer_compression_force_first = [BCDof(var='f', dof=dof, value=compression_force, time_function=tf_precrompression) \n",
    "                                 for dof in compression_dofs ]\n",
    "\n",
    "compression_dofs_inner = inner_fixed_out_1.dofs\n",
    "outer_compression_force_inner_first = [BCDof(var='f', dof=dof, value=compression_force, time_function=tf_precrompression) \n",
    "                                 for dof in compression_dofs_inner ]\n",
    "\n",
    "\n",
    "# outer_compression_force_first = [BCDof(var='u', dof=dof, value=0.01, time_function=tf_precrompression) \n",
    "#                                  for dof in compression_dofs ]\n",
    "outer_compression_force_first[0].value *=0.5\n",
    "outer_compression_force_first[-1].value *=0.5\n",
    "outer_compression_force_inner_first[0].value *=0.5\n",
    "outer_compression_force_inner_first[-1].value *=0.5\n",
    "\n",
    "bc1 =   [inner_fixed_1,\n",
    "        outer_fixed_0,\n",
    "        link_middle_outer_0,\n",
    "         link_middle_outer_1,\n",
    "        link_inner_middle_0,\n",
    "         link_inner_middle_1\n",
    "        ]  + inner_slide + outer_compression_force_first"
   ]
  },
  {
   "cell_type": "code",
   "execution_count": null,
   "id": "fa6206b7-1cf1-44ce-878c-2d7822587ae4",
   "metadata": {},
   "outputs": [],
   "source": [
    "ligament_upper_slide_slice = BCSliceI(slice=xd_middle.mesh.I[:, -1],\n",
    "                                   var='u', dims=[0], value=-0.1)\n",
    "ligament_upper_slide_dofs = ligament_upper_slide_slice.dofs\n",
    "\n",
    "ligament_lower_slide_slice = BCSliceI(slice=xd_middle.mesh.I[:, 0],\n",
    "                                   var='u', dims=[0], value=-0.1)\n",
    "ligament_lower_slide_dofs = ligament_lower_slide_slice.dofs\n",
    "\n",
    "ligament_upper_confinement_slice = BCSliceI(slice=xd_middle.mesh.I[:, -1],\n",
    "                                   var='u', dims=[1], value=-0.1)\n",
    "ligament_upper_confinement_dofs = ligament_upper_confinement_slice.dofs\n",
    "\n",
    "ligament_lower_confinement_slice = BCSliceI(slice=xd_middle.mesh.I[:, 0],\n",
    "                                   var='u', dims=[1], value=-0.1)\n",
    "ligament_lower_confinement_dofs = ligament_lower_confinement_slice.dofs"
   ]
  },
  {
   "cell_type": "code",
   "execution_count": null,
   "id": "b245b2fd-b006-4f23-a254-dec34981423a",
   "metadata": {
    "tags": []
   },
   "outputs": [],
   "source": [
    "m.bc=bc1\n",
    "m.hist.vis_record = {\n",
    "#    'strain': Vis3DTensorField(var='eps_ab'),\n",
    "    'stress': Vis3DTensorField(var='sig_ab'),\n",
    "    #        'kinematic hardening': Vis3DStateField(var='z_a')\n",
    "}\n",
    "\n",
    "s = m.sim\n",
    "s.tloop.verbose = True\n",
    "s.tloop.k_max = 1000\n",
    "s.tline.step = 0.01\n",
    "# Accessing the following property - ensures serialization\n",
    "s.tstep.fe_domain.serialized_subdomains"
   ]
  },
  {
   "cell_type": "code",
   "execution_count": null,
   "id": "1c314099-6adc-4129-ac74-41272fd49393",
   "metadata": {},
   "outputs": [],
   "source": [
    "s.reset()\n",
    "s.run()"
   ]
  },
  {
   "cell_type": "markdown",
   "id": "d08712d2-893e-4371-bdd0-f387e1a59cf2",
   "metadata": {},
   "source": [
    "## Postprocesing"
   ]
  },
  {
   "cell_type": "markdown",
   "id": "343f4284-2be6-42ae-9284-279196266fd0",
   "metadata": {},
   "source": [
    "### Access the last displacement step"
   ]
  },
  {
   "cell_type": "code",
   "execution_count": null,
   "id": "d055557f-49ff-483c-b532-c4ec207021fd",
   "metadata": {},
   "outputs": [],
   "source": [
    "F = m.hist.F_t\n",
    "U = m.hist.U_t"
   ]
  },
  {
   "cell_type": "code",
   "execution_count": null,
   "id": "74ea5c59-7545-4090-91ea-3a30b33fe68e",
   "metadata": {},
   "outputs": [],
   "source": [
    "F_slide = np.sum(F[:, slide_control_dofs], axis=-1)\n",
    "F_slide_ligament_upper = np.sum(F[:, ligament_upper_slide_dofs], axis=-1)\n",
    "F_slide_ligament_lower = np.sum(F[:, ligament_lower_slide_dofs], axis=-1)\n",
    "F_confinement_ligament_upper = np.sum(F[:, ligament_upper_confinement_dofs], axis=-1)\n",
    "F_confinement_ligament_lower = np.sum(F[:, ligament_lower_confinement_dofs], axis=-1)\n",
    "U_slide = np.average(U[:, slide_control_dofs], axis=-1)\n",
    "U_slide_ligament_upper = np.average(U[:, ligament_upper_slide_dofs], axis=-1)\n",
    "U_slide_ligament_lower = np.average(U[:, ligament_lower_slide_dofs], axis=-1)\n",
    "U_slide_differential_ligament = U_slide_ligament_upper - U_slide_ligament_lower"
   ]
  },
  {
   "cell_type": "code",
   "execution_count": null,
   "id": "e5d3b09e-94ab-481f-91bd-b9ab3d94779d",
   "metadata": {},
   "outputs": [],
   "source": [
    "_, ax = plt.subplots(1,1)\n",
    "ax.plot(-U_slide, -F_slide/1000)\n",
    "ax.set_ylabel('Force [kN]')\n",
    "ax.set_xlabel('Displacement at control[mm]')\n",
    "# ax.legend()"
   ]
  },
  {
   "cell_type": "code",
   "execution_count": null,
   "id": "7ade4a8b-1e71-4aef-8a3d-ad489f711b27",
   "metadata": {},
   "outputs": [],
   "source": [
    "if True:\n",
    "    mlab.options.backend = 'envisage'\n",
    "    mlab.options.offscreen = False # 'envisage'\n",
    "    f_strain = mlab.figure()\n",
    "    scene = mlab.get_engine().scenes[-1]\n",
    "    scene.name = 'stress'\n",
    "    strain_viz = Viz3DTensorField(vis3d=m.hist['stress'])\n",
    "    strain_viz.setup()\n",
    "    strain_viz.warp_vector.filter.scale_factor = 0.1\n",
    "    strain_viz.plot(s.tstep.t_n)\n",
    "    mlab.show()"
   ]
  },
  {
   "cell_type": "markdown",
   "id": "e1a6a1a4-d857-4067-961e-3c69ba2b922c",
   "metadata": {
    "tags": []
   },
   "source": [
    "## Unit element Axisymm"
   ]
  },
  {
   "cell_type": "code",
   "execution_count": null,
   "id": "2e77713a",
   "metadata": {},
   "outputs": [],
   "source": [
    "n_x_e = 3\n",
    "n_inner_y_e = 1\n",
    "n_outer_y_e = 1\n",
    "L_x = 90.0 # [mm]\n",
    "d_x = L_x / n_x_e\n",
    "R_in = 25 # [mm]\n",
    "dR = 4 # [mm]\n",
    "R_out = 50 # [mm]\n",
    "len_notch = 30\n",
    "n_notch = 1\n",
    "\n",
    "xmodel = XDomainFEGridAxiSym(integ_factor = 2 * np.pi,\n",
    "                               coord_min=(0+n_notch*d_x, R_in),\n",
    "                               coord_max=(L_x-n_notch*d_x, R_in+dR),\n",
    "                               shape=(n_x_e-2*n_notch, 1),\n",
    "                               fets=FETS2D4Q())\n",
    "\n",
    "m_inelastic = MS13D(**CAxisymm)\n",
    "m_elastic = MATS3DElastic(E=40000, nu=0.18)\n",
    "m = TStepBC(\n",
    "    domains=[(xmodel, m_inelastic),\n",
    "             ]\n",
    ")"
   ]
  },
  {
   "cell_type": "code",
   "execution_count": null,
   "id": "da00f621",
   "metadata": {},
   "outputs": [],
   "source": [
    "tf_precrompression = TFBilinear(loading_ratio = 1.0, time_ratio=0.1)\n",
    "tf_sliding = TFBilinear(loading_ratio = 0.0, time_ratio=0.1)"
   ]
  },
  {
   "cell_type": "code",
   "execution_count": null,
   "id": "eaa4bf7c",
   "metadata": {},
   "outputs": [],
   "source": [
    "slide_upper_slice = BCSliceI(slice=xmodel.mesh.I[:, -1],\n",
    "                                   var='u', dims=[0], value=0.0)\n",
    "slide_upper_dofs = slide_upper_slice.dofs\n",
    "\n",
    "slide_lower_slice = BCSliceI(slice=xmodel.mesh.I[:, 0],\n",
    "                                   var='u', dims=[0], value=0.0)\n",
    "slide_lower_dofs = slide_lower_slice.dofs\n",
    "\n",
    "confinement_upper_slice = BCSliceI(slice=xmodel.mesh.I[:, -1],\n",
    "                                   var='u', dims=[1], value=0.0)\n",
    "confinement_upper_dofs = confinement_upper_slice.dofs\n",
    "\n",
    "confinement_lower_slice = BCSliceI(slice=xmodel.mesh.I[:, 0],\n",
    "                                   var='u', dims=[1], value=0.0)\n",
    "confinement_lower_dofs = confinement_lower_slice.dofs\n"
   ]
  },
  {
   "cell_type": "code",
   "execution_count": null,
   "id": "79511e1c-883f-444b-8076-89decdfd9862",
   "metadata": {},
   "outputs": [],
   "source": [
    "factor = 1\n",
    "\n",
    "# Boundary conditions with inner side fixed\n",
    "\n",
    "slide = 0.05\n",
    "compression_stress = -0\n",
    "\n",
    "inner_fixed_0 = slide_lower_slice\n",
    "inner_fixed_1 = confinement_lower_slice\n",
    "\n",
    "compression_force = compression_stress  * 2 * np.pi* R_out * L_x / len(confinement_upper_dofs)\n",
    "upper_compression_force = [BCDof(var='f', dof=dof, value=compression_force, time_function=tf_precrompression) \n",
    "                                 for dof in confinement_upper_dofs ]\n",
    "upper_compression_force[0].value *=0.5\n",
    "upper_compression_force[-1].value *=0.5\n",
    "\n",
    "slide_upper = [BCDof(var='u', dof=dof, value=slide , time_function=tf_sliding) \n",
    "                     for dof in slide_upper_dofs ]\n",
    "bc1 = [inner_fixed_0, inner_fixed_1] + slide_upper #+ upper_compression_force\n",
    "\n",
    "# Boundary conditions with differential definition of ligament bc\n",
    "\n",
    "inner_fixed_0 = slide_lower_slice\n",
    "inner_fixed_1 = confinement_lower_slice\n",
    "delta_dilatancy = U[:, ligament_upper_confinement_dofs] - U[:, ligament_lower_confinement_dofs]\n",
    "delta_confinement = F[:, ligament_upper_confinement_dofs] - F[:, ligament_lower_confinement_dofs]\n",
    "delta_slide = U[:, ligament_upper_slide_dofs] - U[:, ligament_lower_slide_dofs]\n",
    "\n",
    "confinement_upper_0 = BCDof(var='u', dof=confinement_upper_dofs[0], value=delta_dilatancy[-1,0]*factor, time_function=tf_sliding)\n",
    "confinement_upper_1 = BCDof(var='u', dof=confinement_upper_dofs[1], value=delta_dilatancy[-1,1]*factor, time_function=tf_sliding)\n",
    "confinement_upper_2 = BCDof(var='u', dof=confinement_upper_dofs[2], value=delta_dilatancy[-1,2]*factor, time_function=tf_sliding)\n",
    "confinement_upper_3 = BCDof(var='u', dof=confinement_upper_dofs[3], value=delta_dilatancy[-1,3]*factor, time_function=tf_sliding)\n",
    "\n",
    "slide_upper_0 = BCDof(var='u', dof=slide_upper_dofs[0], value=delta_slide[-1,0]*factor, time_function=tf_sliding)\n",
    "slide_upper_1 = BCDof(var='u', dof=slide_upper_dofs[1], value=delta_slide[-1,1]*factor, time_function=tf_sliding)\n",
    "slide_upper_2 = BCDof(var='u', dof=slide_upper_dofs[2], value=delta_slide[-1,2]*factor, time_function=tf_sliding)\n",
    "slide_upper_3 = BCDof(var='u', dof=slide_upper_dofs[3], value=delta_slide[-1,3]*factor, time_function=tf_sliding)\n",
    "\n",
    "\n",
    "bc2 =   [confinement_upper_0, slide_upper_0,\n",
    "        confinement_upper_1, slide_upper_1,\n",
    "        confinement_upper_2, slide_upper_2,\n",
    "        confinement_upper_3, slide_upper_3,\n",
    "        inner_fixed_0, inner_fixed_1] \n",
    "\n",
    "\n",
    "# Boundary conditions with differential slide definition of ligament bc\n",
    "\n",
    "inner_fixed_0 = slide_lower_slice\n",
    "inner_fixed_1 = confinement_lower_slice\n",
    "delta_slide = U[:, ligament_upper_slide_dofs] - U[:, ligament_lower_slide_dofs]\n",
    "\n",
    "slide_upper_0 = BCDof(var='u', dof=slide_upper_dofs[0], value=delta_slide[-1,0]*factor, time_function=tf_sliding)\n",
    "slide_upper_1 = BCDof(var='u', dof=slide_upper_dofs[1], value=delta_slide[-1,1]*factor, time_function=tf_sliding)\n",
    "slide_upper_2 = BCDof(var='u', dof=slide_upper_dofs[2], value=delta_slide[-1,2]*factor, time_function=tf_sliding)\n",
    "slide_upper_3 = BCDof(var='u', dof=slide_upper_dofs[3], value=delta_slide[-1,3]*factor, time_function=tf_sliding)\n",
    "\n",
    "\n",
    "bc3 =   [slide_upper_0,\n",
    "        slide_upper_1, \n",
    "        slide_upper_2, \n",
    "        slide_upper_3, \n",
    "        inner_fixed_0, inner_fixed_1] \n",
    "\n",
    "# Boundary conditions with full definition of ligament bc\n",
    "\n",
    "\n",
    "confinement_upper_0 = BCDof(var='f', dof=confinement_upper_dofs[0], value=F[:, ligament_upper_confinement_dofs][-1,0]*factor, time_function=tf_sliding)\n",
    "confinement_upper_1 = BCDof(var='f', dof=confinement_upper_dofs[1], value=F[:, ligament_upper_confinement_dofs][-1,1]*factor, time_function=tf_sliding)\n",
    "confinement_upper_2 = BCDof(var='f', dof=confinement_upper_dofs[2], value=F[:, ligament_upper_confinement_dofs][-1,2]*factor, time_function=tf_sliding)\n",
    "confinement_upper_3 = BCDof(var='f', dof=confinement_upper_dofs[3], value=F[:, ligament_upper_confinement_dofs][-1,3]*factor, time_function=tf_sliding)\n",
    "\n",
    "confinement_lower_0 = BCDof(var='f', dof=confinement_lower_dofs[0], value=F[:, ligament_lower_confinement_dofs][-1,0]*factor, time_function=tf_sliding)\n",
    "confinement_lower_1 = BCDof(var='f', dof=confinement_lower_dofs[1], value=F[:, ligament_lower_confinement_dofs][-1,1]*factor, time_function=tf_sliding)\n",
    "confinement_lower_2 = BCDof(var='f', dof=confinement_lower_dofs[2], value=F[:, ligament_lower_confinement_dofs][-1,2]*factor, time_function=tf_sliding)\n",
    "confinement_lower_3 = BCDof(var='f', dof=confinement_lower_dofs[3], value=F[:, ligament_lower_confinement_dofs][-1,3]*factor, time_function=tf_sliding)\n",
    "\n",
    "slide_upper_0 = BCDof(var='u', dof=slide_upper_dofs[0], value=U[:, ligament_upper_slide_dofs][-1,0]*factor, time_function=tf_sliding)\n",
    "slide_upper_1 = BCDof(var='u', dof=slide_upper_dofs[1], value=U[:, ligament_upper_slide_dofs][-1,1]*factor, time_function=tf_sliding)\n",
    "slide_upper_2 = BCDof(var='u', dof=slide_upper_dofs[2], value=U[:, ligament_upper_slide_dofs][-1,2]*factor, time_function=tf_sliding)\n",
    "slide_upper_3 = BCDof(var='u', dof=slide_upper_dofs[3], value=U[:, ligament_upper_slide_dofs][-1,3]*factor, time_function=tf_sliding)\n",
    "\n",
    "slide_lower_0 = BCDof(var='u', dof=slide_lower_dofs[0], value=U[:, ligament_lower_slide_dofs][-1,0]*factor, time_function=tf_sliding)\n",
    "slide_lower_1 = BCDof(var='u', dof=slide_lower_dofs[1], value=U[:, ligament_lower_slide_dofs][-1,1]*factor, time_function=tf_sliding)\n",
    "slide_lower_2 = BCDof(var='u', dof=slide_lower_dofs[2], value=U[:, ligament_lower_slide_dofs][-1,2]*factor, time_function=tf_sliding)\n",
    "slide_lower_3 = BCDof(var='u', dof=slide_lower_dofs[3], value=U[:, ligament_lower_slide_dofs][-1,3]*factor, time_function=tf_sliding)\n",
    "\n",
    "\n",
    "bc4 =   [confinement_upper_0, confinement_lower_0, slide_upper_0, slide_lower_0,\n",
    "        confinement_upper_1, confinement_lower_1, slide_upper_1, slide_lower_1,\n",
    "        confinement_upper_2, confinement_lower_2, slide_upper_2, slide_lower_2,\n",
    "        confinement_upper_3, confinement_lower_3, slide_upper_3, slide_lower_3\n",
    "            ] "
   ]
  },
  {
   "cell_type": "code",
   "execution_count": null,
   "id": "aeeb0b9a-5415-4536-a19e-033cd85912e1",
   "metadata": {},
   "outputs": [],
   "source": [
    "m1 = copy.deepcopy(m)\n",
    "m1.bc=bc1\n",
    "m1.hist.vis_record = {\n",
    "#    'strain': Vis3DTensorField(var='eps_ab'),\n",
    "    'stress': Vis3DTensorField(var='sig_ab'),\n",
    "    #        'kinematic hardening': Vis3DStateField(var='z_a')\n",
    "}\n",
    "\n",
    "s1 = m1.sim\n",
    "s1.tloop.verbose = False\n",
    "s1.tloop.k_max = 1000\n",
    "s1.tline.step = 0.005/factor\n",
    "# Accessing the following property - ensures serialization\n",
    "s1.tstep.fe_domain.serialized_subdomains\n",
    "s1.reset()\n",
    "s1.run()"
   ]
  },
  {
   "cell_type": "code",
   "execution_count": null,
   "id": "92d02930-bfca-4ff3-aa80-b3f3030faba5",
   "metadata": {},
   "outputs": [],
   "source": [
    "U_t1 = np.average(m1.hist.U_t[:, slide_upper_dofs] - m1.hist.U_t[:, slide_lower_dofs], axis=-1)\n",
    "F_t1 = np.sum(m1.hist.F_t[:, slide_upper_dofs], axis=-1)"
   ]
  },
  {
   "cell_type": "code",
   "execution_count": null,
   "id": "dc505bbc-b6fd-4eae-87cf-d81105d0d48e",
   "metadata": {},
   "outputs": [],
   "source": [
    "m2 = copy.deepcopy(m)\n",
    "m2.bc=bc2\n",
    "m2.hist.vis_record = {\n",
    "#    'strain': Vis3DTensorField(var='eps_ab'),\n",
    "    'stress': Vis3DTensorField(var='sig_ab'),\n",
    "    #        'kinematic hardening': Vis3DStateField(var='z_a')\n",
    "}\n",
    "\n",
    "s2 = m2.sim\n",
    "s2.tloop.verbose = False\n",
    "s2.tloop.k_max = 1000\n",
    "s2.tline.step = 0.005/factor\n",
    "# Accessing the following property - ensures serialization\n",
    "s2.tstep.fe_domain.serialized_subdomains\n",
    "s2.reset()\n",
    "s2.run()"
   ]
  },
  {
   "cell_type": "code",
   "execution_count": null,
   "id": "d6f3527e-7327-43d5-a77f-fb4df399024e",
   "metadata": {},
   "outputs": [],
   "source": [
    "U_t2 = np.average(m2.hist.U_t[:, slide_upper_dofs] - m2.hist.U_t[:, slide_lower_dofs], axis=-1)\n",
    "F_t2 = np.sum(m2.hist.F_t[:, slide_upper_dofs], axis=-1)"
   ]
  },
  {
   "cell_type": "code",
   "execution_count": null,
   "id": "fd2c7d43-03fc-40aa-9799-e30328b2dc40",
   "metadata": {},
   "outputs": [],
   "source": [
    "# m3 = copy.deepcopy(m)\n",
    "# m3.bc=bc3\n",
    "# m3.hist.vis_record = {\n",
    "# #    'strain': Vis3DTensorField(var='eps_ab'),\n",
    "#     'stress': Vis3DTensorField(var='sig_ab'),\n",
    "#     #        'kinematic hardening': Vis3DStateField(var='z_a')\n",
    "# }\n",
    "\n",
    "# s3 = m3.sim\n",
    "# s3.tloop.verbose = False\n",
    "# s3.tloop.k_max = 1000\n",
    "# s3.tline.step = 0.005/factor\n",
    "# # Accessing the following property - ensures serialization\n",
    "# s3.tstep.fe_domain.serialized_subdomains\n",
    "# s3.reset()\n",
    "# s3.run()"
   ]
  },
  {
   "cell_type": "code",
   "execution_count": null,
   "id": "98a61a03-e200-445e-8c1f-537d1b77ca45",
   "metadata": {},
   "outputs": [],
   "source": [
    "# U_t3 = np.average(m3.hist.U_t[:, slide_upper_dofs] - m3.hist.U_t[:, slide_lower_dofs], axis=-1)\n",
    "# F_t3 = np.sum(m3.hist.F_t[:, slide_upper_dofs], axis=-1)"
   ]
  },
  {
   "cell_type": "code",
   "execution_count": null,
   "id": "3fab8784-59a9-4f2f-81ed-fdf5af4922a0",
   "metadata": {},
   "outputs": [],
   "source": [
    "fig, (ax1) = plt.subplots(1)\n",
    "ax1.plot(U_t1, F_t1/1000, label='simple bc')\n",
    "ax1.plot(U_t2, F_t2/1000, label='refined bc')\n",
    "# ax1.plot(U_t3, F_t3/1000, label='transferred bc')\n",
    "ax1.plot(U_slide_differential_ligament, -F_slide/1000, '--', label='full PTST')\n",
    "ax1.set_ylabel('Force [kN]')\n",
    "ax1.set_xlabel('Displacement[mm]')\n",
    "ax1.legend()\n",
    "# ax2.plot(-U_t/(L_x-n_notch*2*d_x), -F_t/(2 * np.pi * (R_in+dR)*(L_x-n_notch*2*d_x)))\n",
    "# # ax2.plot(-U_t/(L_x-n_notch*2*d_x), -F_t/(2 * np.pi * (R_in+dR)*(L_x-n_notch*2*d_x)))\n",
    "# # ax2.set_ylabel('Stress [MPa]')\n",
    "# # ax2.set_xlabel('Strain[-]')\n",
    "# G = np.trapz(F_t, x=U_t)/(2 * np.pi * (R_in+dR)*(L_x-n_notch*2*d_x))*1000\n",
    "# G2 = np.trapz(F_t/(2 * np.pi * (R_in+dR)), x=U_t/(L_x-n_notch*2*d_x))\n",
    "# print(G)\n",
    "# print(G2)\n",
    "# print(max(-F_t/1000))"
   ]
  },
  {
   "cell_type": "code",
   "execution_count": null,
   "id": "c4108f50-49f0-4db2-ad0c-2244b5a38b94",
   "metadata": {},
   "outputs": [],
   "source": [
    "if True:\n",
    "    mlab.options.backend = 'envisage'\n",
    "    mlab.options.offscreen = False # 'envisage'\n",
    "    f_strain = mlab.figure()\n",
    "    scene = mlab.get_engine().scenes[-1]\n",
    "    scene.name = 'stress'\n",
    "    strain_viz = Viz3DTensorField(vis3d=m.hist['stress'])\n",
    "    strain_viz.setup()\n",
    "    strain_viz.warp_vector.filter.scale_factor = 0.1\n",
    "    strain_viz.plot(s.tstep.t_n)\n",
    "    mlab.show()"
   ]
  },
  {
   "cell_type": "code",
   "execution_count": null,
   "id": "a91f98bf-9b86-47dc-bb73-452103866fdc",
   "metadata": {
    "tags": []
   },
   "outputs": [],
   "source": [
    "# m.fe_domain[2].state_k"
   ]
  },
  {
   "cell_type": "markdown",
   "id": "335c0425-62d5-4eba-a2b7-5e2ff64f4e81",
   "metadata": {},
   "source": [
    "## Postprocesing"
   ]
  },
  {
   "cell_type": "markdown",
   "id": "0ce3b92a-fe47-44af-873a-06820678ada1",
   "metadata": {
    "tags": []
   },
   "source": [
    "### Study about slide profile at ligament - PTST vs simple bc"
   ]
  },
  {
   "cell_type": "code",
   "execution_count": null,
   "id": "deed6385-16bd-4542-8fae-90f0c520e9f1",
   "metadata": {},
   "outputs": [],
   "source": [
    "_, ax = plt.subplots(1,1)\n",
    "for i in range(F[:, ligament_upper_confinement_dofs].shape[1]):\n",
    "    ax.plot(U_slide_differential_ligament, U[:, ligament_upper_slide_dofs][:,i] - U[:, ligament_lower_slide_dofs][:,i], '--', label='Position PTST' + str(i))\n",
    "    ax.plot(U_t1, m1.hist.U_t[:, slide_upper_dofs][:,i] - m1.hist.U_t[:, slide_lower_dofs][:,i], label='Position simple' + str(i))\n",
    "ax.set_ylabel('Displacement at each ligament node [kN]')\n",
    "ax.set_xlabel('Diferential displacement at ligament [mm]')\n",
    "ax.legend()\n",
    "\n"
   ]
  },
  {
   "cell_type": "markdown",
   "id": "ea125c83-2ce0-40e0-aadb-fe5a642d13ac",
   "metadata": {
    "tags": []
   },
   "source": [
    "### Study about slide profile at ligament - PTST vs refined bc"
   ]
  },
  {
   "cell_type": "code",
   "execution_count": null,
   "id": "9b37765d-351c-489b-a90c-217435beac5f",
   "metadata": {},
   "outputs": [],
   "source": [
    "_, ax = plt.subplots(1,1)\n",
    "for i in range(F[:, ligament_upper_confinement_dofs].shape[1]):\n",
    "    ax.plot(U_slide_differential_ligament, U[:, ligament_upper_slide_dofs][:,i] - U[:, ligament_lower_slide_dofs][:,i], '--', label='Position PTST' + str(i))\n",
    "    ax.plot(U_t2, m2.hist.U_t[:, slide_upper_dofs][:,i] - m2.hist.U_t[:, slide_lower_dofs][:,i], label='Position simple' + str(i))\n",
    "ax.set_ylabel('Displacement at each ligament node [kN]')\n",
    "ax.set_xlabel('Diferential displacement at ligament [mm]')\n",
    "ax.legend()"
   ]
  },
  {
   "cell_type": "markdown",
   "id": "b482244f-5197-45a5-ade4-2a4023b5f0a2",
   "metadata": {},
   "source": [
    "### Study about confinement profile at ligament - PTST vs simple bc"
   ]
  },
  {
   "cell_type": "code",
   "execution_count": null,
   "id": "1f07983e-5ddc-4354-8b49-263e767b6162",
   "metadata": {},
   "outputs": [],
   "source": [
    "_, ax = plt.subplots(1,1)\n",
    "for i in range(F[:, ligament_upper_confinement_dofs].shape[1]):\n",
    "    ax.plot(U_slide_differential_ligament, (F[:, ligament_upper_confinement_dofs][:,i] - F[:, ligament_lower_confinement_dofs][:,i])/1000, '--', label='Position PTST' + str(i))\n",
    "    ax.plot(U_t1, (m1.hist.F_t[:, confinement_upper_dofs][:,i]- m1.hist.F_t[:, confinement_lower_dofs][:,i])/1000, label='Position simple' + str(i))\n",
    "ax.set_ylabel('Force at each ligament node [kN]')\n",
    "ax.set_xlabel('Diferential displacement at ligament [mm]')\n",
    "ax.legend()"
   ]
  },
  {
   "cell_type": "markdown",
   "id": "eacafce6-02ae-4caf-b4de-7d1660155581",
   "metadata": {
    "tags": []
   },
   "source": [
    "### Study about slide profile at ligament - PTST vs refined bc"
   ]
  },
  {
   "cell_type": "code",
   "execution_count": null,
   "id": "092235fd-2262-461e-b203-8e23aa524a64",
   "metadata": {},
   "outputs": [],
   "source": [
    "_, ax = plt.subplots(1,1)\n",
    "for i in range(F[:, ligament_upper_confinement_dofs].shape[1]):\n",
    "    ax.plot(U_slide_differential_ligament, (F[:, ligament_upper_confinement_dofs][:,i] - F[:, ligament_lower_confinement_dofs][:,i])/1000, '--',label='Position PTST' + str(i))\n",
    "    ax.plot(U_t2, (m2.hist.F_t[:, confinement_upper_dofs][:,i] - m2.hist.F_t[:, confinement_lower_dofs][:,i])/1000, label='Position simple' + str(i))\n",
    "ax.set_ylabel('Force at each ligament node [kN]')\n",
    "ax.set_xlabel('Diferential displacement at ligament [mm]')\n",
    "ax.legend()"
   ]
  },
  {
   "cell_type": "markdown",
   "id": "77bde1c3-290c-4894-87ee-412327a0b596",
   "metadata": {},
   "source": [
    "### Study about dilatancy profile at ligament - PTST vs simple bc"
   ]
  },
  {
   "cell_type": "code",
   "execution_count": null,
   "id": "de495207-dddd-42dd-9ffd-d9d19108f3d6",
   "metadata": {},
   "outputs": [],
   "source": [
    "_, ax = plt.subplots(1,1)\n",
    "for i in range(F[:, ligament_upper_confinement_dofs].shape[1]):\n",
    "    ax.plot(U_slide_differential_ligament, U[:, ligament_upper_confinement_dofs][:,i] - U[:, ligament_lower_confinement_dofs][:,i], '--', label = 'Position PTST' + str(i))\n",
    "    ax.plot(U_t1, (m1.hist.U_t[:, confinement_upper_dofs][:,i] - m1.hist.U_t[:, confinement_lower_dofs][:,i]), label='Position simple' + str(i))\n",
    "ax.set_ylabel('Dilatancy at each node [mm]')\n",
    "ax.set_xlabel('Diferential displacement at ligament [mm]')\n",
    "ax.legend()\n"
   ]
  },
  {
   "cell_type": "markdown",
   "id": "492954f1-1f59-48e6-be84-f2a7ff7a40fd",
   "metadata": {},
   "source": [
    "### Study about dilatancy profile at ligament - PTST vs refined bc"
   ]
  },
  {
   "cell_type": "code",
   "execution_count": null,
   "id": "1eb951a4-fe2b-4f72-a91f-e61470dd1806",
   "metadata": {},
   "outputs": [],
   "source": [
    "_, ax = plt.subplots(1,1)\n",
    "for i in range(F[:, ligament_upper_confinement_dofs].shape[1]):\n",
    "    ax.plot(U_slide_differential_ligament, U[:, ligament_upper_confinement_dofs][:,i] - U[:, ligament_lower_confinement_dofs][:,i], '--', label = 'Position PTST' + str(i))\n",
    "    ax.plot(U_t2, (m2.hist.U_t[:, confinement_upper_dofs][:,i] - m2.hist.U_t[:, confinement_lower_dofs][:,i]), label='Position simple' + str(i))\n",
    "ax.set_ylabel('Dilatancy at each node [mm]')\n",
    "ax.set_xlabel('Diferential displacement at ligament [mm]')\n",
    "ax.legend()\n"
   ]
  },
  {
   "cell_type": "code",
   "execution_count": null,
   "id": "9bbab7dc-efd6-40d7-b7d7-4c747d981169",
   "metadata": {},
   "outputs": [],
   "source": []
  }
 ],
 "metadata": {
  "kernelspec": {
   "display_name": "bmcs_env",
   "language": "python",
   "name": "bmcs_env"
  },
  "language_info": {
   "codemirror_mode": {
    "name": "ipython",
    "version": 3
   },
   "file_extension": ".py",
   "mimetype": "text/x-python",
   "name": "python",
   "nbconvert_exporter": "python",
   "pygments_lexer": "ipython3"
  }
 },
 "nbformat": 4,
 "nbformat_minor": 5
}
