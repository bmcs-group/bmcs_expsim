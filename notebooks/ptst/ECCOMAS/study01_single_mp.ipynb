{
 "cells": [
  {
   "cell_type": "markdown",
   "id": "c1143535-2d2e-4f5b-9451-f6c5aa78b5aa",
   "metadata": {},
   "source": [
    "# **Microplane MS1 - uncoupled N-T interface**"
   ]
  },
  {
   "cell_type": "markdown",
   "id": "2d5112ec-31eb-4d77-8bc0-f1b4ad43fb4f",
   "metadata": {},
   "source": [
    "This sheets shows the application of the microplane integration\n",
    "on an example of VUNTIM (vectorized implementation of the uncoupled NT Interface Model."
   ]
  },
  {
   "cell_type": "code",
   "execution_count": 1,
   "id": "83f63e78-3bbd-4515-9b2f-895b2b51c826",
   "metadata": {},
   "outputs": [],
   "source": [
    "%matplotlib widget\n",
    "from bmcs_matmod.msx import MSX\n",
    "import matplotlib.pylab as plt\n",
    "import numpy as np\n",
    "np.seterr(divide='ignore', invalid='ignore');\n",
    "from bmcs_matmod.msx.energy_dissipation import EnergyDissipation\n",
    "from ibvpy.tfunction import TimeFunction, TFSelector, TFCyclicSin, TFCyclicNonsymmetricConstant\n",
    "from ibvpy.api import TStepBC, TFCyclicNonsymmetricConstant, TFBilinear\n",
    "from ibvpy.api import XDomainSinglePoint, MATS3DScalarDamage, TStepBC, BCDof\n",
    "from bmcs_matmod.ms1 import MS12D\n",
    "from ibvpy.tmodel.mats3D import MATS3DElastic"
   ]
  },
  {
   "cell_type": "markdown",
   "id": "1c5a1009-b3a6-4898-8398-f978165b7406",
   "metadata": {},
   "source": [
    "The example below demonstrate a case with ideally plastic response which delivers\n",
    "several peaks in the response. At the same time, it can be used to demonstrate that \n",
    "$\\nu \\leq 0.25$ leads does not deliver any solution upon return mapping due to a square root overflow.\n",
    "\n",
    "Once $E_\\mathrm{T}$ becomes negative, the return mapping algorithm cannot work properly.\n",
    "Is there some thermodynamically admissible interpretation of this case in the interface?\n",
    "This can be posed in two questions:\n",
    " - is it posssible to obtain a positive dissipation of an interface even for negative\n",
    "   value of $E_\\mathrm{T}$?\n",
    " - if yes, is it allowed to reach an inelastic domain in the tangential direction?"
   ]
  },
  {
   "cell_type": "code",
   "execution_count": 70,
   "id": "da0dc068-3d6d-4a1e-b40e-80f61ca4867a",
   "metadata": {},
   "outputs": [
    {
     "name": "stdout",
     "output_type": "stream",
     "text": [
      "ERROR! Session/line number was not unique in database. History logging moved to new session 2261\n"
     ]
    }
   ],
   "source": [
    "# E = 39000\n",
    "# nu = 0.2\n",
    "# mp = dict(          \n",
    "# Ad = 700,\n",
    "# eps_0  = 0.00001,\n",
    "# sig_0  = 50,\n",
    "# K_N = 0,\n",
    "# gamma_N = 80000,\n",
    "# sigma_T_0  = 10.0,\n",
    "# K_T  = 0,\n",
    "# gamma_T  = 5000,\n",
    "# S_T  = 0.01,\n",
    "# c_T  = 10,\n",
    "# r_T  = 13,\n",
    "# a  = 0.5,\n",
    "# e_T  = 6.0)\n",
    "\n",
    "# E = 39226\n",
    "# nu = 0.18\n",
    "# mp = dict(          \n",
    "# Ad = 7000,\n",
    "# eps_0  = 0.00001,\n",
    "# sig_0  = 40,\n",
    "# K_N = 10000,\n",
    "# gamma_N = 60000,\n",
    "# sigma_T_0  = 2.0,\n",
    "# K_T  = 0,\n",
    "# gamma_T  = 5000,\n",
    "# S_T  = 0.003,\n",
    "# c_T  = 10,\n",
    "# r_T  = 10,\n",
    "# a  = 0.1,\n",
    "# e_T  = 6.0)\n",
    "\n",
    "E = 39226\n",
    "nu = 0.18\n",
    "mp = dict(          \n",
    "Ad = 1800,\n",
    "eps_0  = 0.00001,\n",
    "sig_0  = 45,\n",
    "K_N = 17000,\n",
    "gamma_N = 9000,\n",
    "sigma_T_0  = 2.0,\n",
    "K_T  =20000,\n",
    "gamma_T  = 500000,\n",
    "S_T  = 0.0075,\n",
    "c_T  = 9,\n",
    "r_T  = 15,\n",
    "a  = 0.004,\n",
    "e_T  = 10.0)"
   ]
  },
  {
   "cell_type": "code",
   "execution_count": 71,
   "id": "c0fe8620-8489-44f8-933c-3edd80b1e866",
   "metadata": {},
   "outputs": [],
   "source": [
    "%matplotlib widget\n",
    "mpl = MSX()\n",
    "m_elastic = MATS3DElastic()\n",
    "mpl.trait_set(E=E, nu=nu, \n",
    "          mic='untim', eps_max=0.01, n_eps=30, double_pvw=True)\n",
    "mpl.mic_.trait_set(**mp)\n",
    "mpl.mic_.eps_max = 0.02\n",
    "# mpl.interact()\n",
    "# m13 = MS13D(**CAxisymm)"
   ]
  },
  {
   "cell_type": "code",
   "execution_count": 72,
   "id": "90684747-107c-4b37-a966-5d4c5ee3c2bd",
   "metadata": {},
   "outputs": [],
   "source": [
    "tf_precrompression = TFBilinear(loading_ratio = 1.0, time_ratio=0.1)\n",
    "tf_sliding = TFBilinear(loading_ratio = 0.0, time_ratio=0.1)"
   ]
  },
  {
   "cell_type": "code",
   "execution_count": 73,
   "id": "789d84fc-c568-47ff-9d32-84f5648fecee",
   "metadata": {},
   "outputs": [
    {
     "data": {
      "text/latex": [
       "\n",
       "        \\begin{array}{lrrl}\\hline\n",
       "        \\textrm{eps_max} & \\textrm{0.02} & & \\textrm{None}  \\\\\n",
       "                \\textrm{n_eps} & \\textrm{100} & & \\textrm{None}  \\\\\n",
       "                \\textrm{E_N} & \\textrm{61290.625} & & \\textrm{None}  \\\\\n",
       "                \\textrm{E_T} & \\textrm{14543.538135593222} & & \\textrm{None}  \\\\\n",
       "                \\textrm{gamma_T} & \\textrm{500000.0} & & \\textrm{None}  \\\\\n",
       "                \\textrm{K_T} & \\textrm{20000.0} & & \\textrm{None}  \\\\\n",
       "                \\textrm{S_T} & \\textrm{0.0075} & & \\textrm{None}  \\\\\n",
       "                \\textrm{r_T} & \\textrm{15.0} & & \\textrm{None}  \\\\\n",
       "                \\textrm{e_T} & \\textrm{10.0} & & \\textrm{None}  \\\\\n",
       "                \\textrm{c_T} & \\textrm{9.0} & & \\textrm{None}  \\\\\n",
       "                \\textrm{sigma_T_0} & \\textrm{2.0} & & \\textrm{None}  \\\\\n",
       "                \\textrm{a} & \\textrm{0.004} & & \\textrm{None}  \\\\\n",
       "                \\textrm{Ad} & \\textrm{1800.0} & & \\textrm{None}  \\\\\n",
       "                \\textrm{eps_0} & \\textrm{1e-05} & & \\textrm{None}  \\\\\n",
       "                \\textrm{K_N} & \\textrm{17000.0} & & \\textrm{None}  \\\\\n",
       "                \\textrm{gamma_N} & \\textrm{9000.0} & & \\textrm{None}  \\\\\n",
       "                \\textrm{sig_0} & \\textrm{45.0} & & \\textrm{None}  \\\\\n",
       "                \\textrm{E} & \\textrm{34000.0} & & \\textrm{Young's Modulus}  \\\\\n",
       "                \\textrm{nu} & \\textrm{0.2} & & \\textrm{Poison's ratio}  \\\\\n",
       "                \\hline\n",
       "        \\hline\n",
       "        \\end{array}\n",
       "        "
      ],
      "text/plain": [
       "<bmcs_matmod.ntim.vuntim.VUNTIM at 0x1facdb06770>"
      ]
     },
     "execution_count": 73,
     "metadata": {},
     "output_type": "execute_result"
    }
   ],
   "source": [
    "mpl.mic_"
   ]
  },
  {
   "cell_type": "code",
   "execution_count": 83,
   "id": "2dfdf46c-cbfe-4f7e-982c-7540b5d476ef",
   "metadata": {},
   "outputs": [
    {
     "name": "stdout",
     "output_type": "stream",
     "text": [
      "\n"
     ]
    }
   ],
   "source": [
    "compression_level = np.array([0,-15,-30,-45])\n",
    "# compression_level = np.array([0])\n",
    "\n",
    "m_list_monotonic = []\n",
    "\n",
    "for compression in compression_level:\n",
    "\n",
    "    xmodel = XDomainSinglePoint()\n",
    "    m = TStepBC(\n",
    "        domains=[(xmodel, mpl),],\n",
    "        bc=[BCDof(\n",
    "                var='u', dof=3, value=-0.015,\n",
    "             time_function=tf_sliding) , BCDof(\n",
    "                var='f', dof=1, value=compression,\n",
    "             time_function=tf_precrompression),\n",
    "           BCDof(\n",
    "                var='f', dof=2, value=0,\n",
    "             time_function=tf_precrompression)]\n",
    "    )\n",
    "    # m = TStepBC(\n",
    "    #     domains=[(xmodel, mpl),],\n",
    "    #     bc=[BCDof(\n",
    "    #             var='u', dof=0, value=-0.01,\n",
    "    #          time_function=tf_sliding)]\n",
    "    # )\n",
    "\n",
    "\n",
    "    m.sim.tline.trait_set(step=0.005)\n",
    "    m.sim.reset()\n",
    "    try:\n",
    "        m.sim.run()\n",
    "    except:\n",
    "        pass\n",
    "    m_list_monotonic.append(m)"
   ]
  },
  {
   "cell_type": "code",
   "execution_count": 84,
   "id": "bd25090f-46f0-4915-86b1-1823a4b4b916",
   "metadata": {},
   "outputs": [
    {
     "data": {
      "application/vnd.jupyter.widget-view+json": {
       "model_id": "06cf74c294be4512a4d806d02c44e9a3",
       "version_major": 2,
       "version_minor": 0
      },
      "text/plain": [
       "Canvas(toolbar=Toolbar(toolitems=[('Home', 'Reset original view', 'home', 'home'), ('Back', 'Back to previous …"
      ]
     },
     "metadata": {},
     "output_type": "display_data"
    },
    {
     "data": {
      "text/plain": [
       "[-20.826758258431134,\n",
       " -22.07338773098975,\n",
       " -28.915383405699888,\n",
       " -28.09740581911253]"
      ]
     },
     "execution_count": 84,
     "metadata": {},
     "output_type": "execute_result"
    }
   ],
   "source": [
    "%matplotlib widget\n",
    "import matplotlib.pylab as plt\n",
    "fig, ((ax1,ax2)) = plt.subplots(1, 2)\n",
    "\n",
    "max_F = []\n",
    "for m in m_list_monotonic:\n",
    "    ax1.plot(m.hist.U_t[:,3], m.hist.F_t[:,3])\n",
    "    # ax1.plot(m.hist.U_t[:,3], m.hist.F_t[:,3])\n",
    "    max_F.append(min(m.hist.F_t[:,3]))\n",
    "\n",
    "    # ax1.plot(m.hist.U_t[:,3], m.hist.F_t[:,1])\n",
    "    # ax1.plot(m.hist.U_t[:,3], m.hist.F_t[:,2])\n",
    "    # ax1.plot(m.hist.U_t[:,3], m.hist.F_t[:,4])'\n",
    "    # ax1.plot(m.hist.U_t[:,3], m.hist.F_t[:,5])\n",
    "    # ax2.plot(m.hist.U_t[:,3], -m.hist.U_t[:,1] / m.hist.U_t[:,0])\n",
    "    ax2.plot(m.hist.U_t[:,3], m.hist.F_t[:,1])\n",
    "max_F"
   ]
  },
  {
   "cell_type": "code",
   "execution_count": 76,
   "id": "a654e894-6eff-4849-8e8d-f259704dd638",
   "metadata": {},
   "outputs": [
    {
     "data": {
      "application/vnd.jupyter.widget-view+json": {
       "model_id": "3249de78ea3642df86ed0089676b1677",
       "version_major": 2,
       "version_minor": 0
      },
      "text/plain": [
       "Canvas(toolbar=Toolbar(toolitems=[('Home', 'Reset original view', 'home', 'home'), ('Back', 'Back to previous …"
      ]
     },
     "metadata": {},
     "output_type": "display_data"
    },
    {
     "data": {
      "application/vnd.jupyter.widget-view+json": {
       "model_id": "be14fdf6c1544f63a9ea1e10a5c87447",
       "version_major": 2,
       "version_minor": 0
      },
      "text/plain": [
       "Canvas(toolbar=Toolbar(toolitems=[('Home', 'Reset original view', 'home', 'home'), ('Back', 'Back to previous …"
      ]
     },
     "metadata": {},
     "output_type": "display_data"
    },
    {
     "data": {
      "application/vnd.jupyter.widget-view+json": {
       "model_id": "8ab9f7e4a8f74fbca3916534c3123514",
       "version_major": 2,
       "version_minor": 0
      },
      "text/plain": [
       "Canvas(toolbar=Toolbar(toolitems=[('Home', 'Reset original view', 'home', 'home'), ('Back', 'Back to previous …"
      ]
     },
     "metadata": {},
     "output_type": "display_data"
    },
    {
     "data": {
      "application/vnd.jupyter.widget-view+json": {
       "model_id": "a56df9c431dd4b65a82fa69265622fc8",
       "version_major": 2,
       "version_minor": 0
      },
      "text/plain": [
       "Canvas(toolbar=Toolbar(toolitems=[('Home', 'Reset original view', 'home', 'home'), ('Back', 'Back to previous …"
      ]
     },
     "metadata": {},
     "output_type": "display_data"
    }
   ],
   "source": [
    "for m in m_list_monotonic:\n",
    "    energydissipation = EnergyDissipation()\n",
    "    energydissipation.plot_energy_dissp(m, mpl)"
   ]
  },
  {
   "cell_type": "markdown",
   "id": "95a4d532-59ff-4173-9502-b937fce3d20f",
   "metadata": {},
   "source": [
    "## Fatigue"
   ]
  },
  {
   "cell_type": "code",
   "execution_count": 77,
   "id": "d1b19be2-5fc6-4ec8-9a07-a2959507583d",
   "metadata": {},
   "outputs": [],
   "source": [
    "number_of_cycles = 5\n",
    "shift_cycles = 1\n",
    "steps_branch = 25\n",
    "tf_cyclic = TFCyclicNonsymmetricConstant(number_of_cycles=number_of_cycles, unloading_ratio=0.05, shift_cycles=shift_cycles)\n",
    "tf_confinement = TFBilinear(loading_ratio=1, time_ratio=1/(number_of_cycles+shift_cycles))"
   ]
  },
  {
   "cell_type": "code",
   "execution_count": 78,
   "id": "9f5cdaa8-585a-4b01-953a-4e9a5b7aa44f",
   "metadata": {},
   "outputs": [
    {
     "data": {
      "text/plain": [
       "[-20.826758258431134,\n",
       " -34.23942928655724,\n",
       " -42.70607895364319,\n",
       " -39.47771629162216]"
      ]
     },
     "execution_count": 78,
     "metadata": {},
     "output_type": "execute_result"
    }
   ],
   "source": [
    "max_F"
   ]
  },
  {
   "cell_type": "code",
   "execution_count": 79,
   "id": "5e47c0ce-f3f8-452b-ba07-d109f95d0bb0",
   "metadata": {},
   "outputs": [
    {
     "name": "stdout",
     "output_type": "stream",
     "text": [
      "\n"
     ]
    }
   ],
   "source": [
    "compression_level = np.array([0,-15,-30, -45])\n",
    "\n",
    "m_list_cyclic = []\n",
    "\n",
    "for compression, max_shear in zip(compression_level, max_F):\n",
    "\n",
    "    xmodel = XDomainSinglePoint()\n",
    "    m = TStepBC(\n",
    "        domains=[(xmodel, mpl),],\n",
    "        bc=[BCDof(\n",
    "                var='f', dof=3, value= max_shear * 0.85,\n",
    "             time_function= tf_cyclic) , BCDof(\n",
    "                var='f', dof=1, value=compression,\n",
    "             time_function=tf_confinement), BCDof(\n",
    "                var='f', dof=2, value=compression,\n",
    "             time_function=tf_confinement)]\n",
    "    )\n",
    "\n",
    "\n",
    "    m.sim.tline.trait_set(step=1/(steps_branch*2*(number_of_cycles+1)))\n",
    "    m.sim.reset()\n",
    "    # m.sim.run()\n",
    "    try:\n",
    "        m.sim.run()\n",
    "    except:\n",
    "        pass\n",
    "    m_list_cyclic.append(m)"
   ]
  },
  {
   "cell_type": "code",
   "execution_count": 80,
   "id": "df804f0c-271a-463e-ae1a-32eaef5e1693",
   "metadata": {},
   "outputs": [
    {
     "data": {
      "application/vnd.jupyter.widget-view+json": {
       "model_id": "b95c3ecff78640a48b57495bd2f9bad9",
       "version_major": 2,
       "version_minor": 0
      },
      "text/plain": [
       "Canvas(toolbar=Toolbar(toolitems=[('Home', 'Reset original view', 'home', 'home'), ('Back', 'Back to previous …"
      ]
     },
     "metadata": {},
     "output_type": "display_data"
    },
    {
     "name": "stdout",
     "output_type": "stream",
     "text": [
      "[[[ 7.02260516e-08  2.94071897e-16 -3.65625634e-17]\n",
      "  [ 2.94071897e-16  2.85447935e-07 -8.51501837e+00]\n",
      "  [-3.65625634e-17 -8.51501837e+00  2.85447943e-07]]]\n",
      "[[[ 2.17887278e-06  1.42094615e-16  8.49112604e-18]\n",
      "  [ 1.42094615e-16 -1.49999839e+01 -7.27580551e-01]\n",
      "  [ 8.49112604e-18 -7.27580551e-01 -1.49999839e+01]]]\n",
      "[[[ 6.06691123e-06  2.37692583e-16  3.09107534e-17]\n",
      "  [ 2.37692583e-16 -2.99999896e+01 -9.07504817e-01]\n",
      "  [ 3.09107534e-17 -9.07504817e-01 -2.99999896e+01]]]\n",
      "[[[ 9.97872270e-06 -2.23357816e-16  7.44022512e-18]\n",
      "  [-2.23357816e-16 -4.49999718e+01 -8.38907017e-01]\n",
      "  [ 7.44022512e-18 -8.38907017e-01 -4.49999718e+01]]]\n"
     ]
    }
   ],
   "source": [
    "%matplotlib widget\n",
    "import matplotlib.pylab as plt\n",
    "fig, ((ax1,ax2)) = plt.subplots(1, 2)\n",
    "\n",
    "\n",
    "for m in m_list_cyclic:\n",
    "    # ax1.plot(m.hist.U_t[:,0], m.hist.F_t[:,0]*2*np.pi*29*30/1000)\n",
    "    ax1.plot(m.hist.U_t[:,3], m.hist.F_t[:,3])\n",
    "    print(xmodel.map_U_to_field(m.hist.F_t[-1]))\n",
    "\n",
    "    # ax1.plot(m.hist.U_t[:,3], m.hist.F_t[:,1])\n",
    "    # ax1.plot(m.hist.U_t[:,3], m.hist.F_t[:,2])\n",
    "    # ax1.plot(m.hist.U_t[:,3], m.hist.F_t[:,4])\n",
    "    # ax1.plot(m.hist.U_t[:,3], m.hist.F_t[:,5])\n",
    "    # ax2.plot(m.hist.U_t[:,3], -m.hist.U_t[:,1] / m.hist.U_t[:,0])\n",
    "    ax2.plot(m.hist.U_t[:,3], m.hist.F_t[:,1])"
   ]
  },
  {
   "cell_type": "code",
   "execution_count": null,
   "id": "66b25cb0-07d8-47a7-9761-2edb89619efa",
   "metadata": {},
   "outputs": [
    {
     "data": {
      "application/vnd.jupyter.widget-view+json": {
       "model_id": "f0d76439fbe44fa28831637779f0687f",
       "version_major": 2,
       "version_minor": 0
      },
      "text/plain": [
       "Canvas(toolbar=Toolbar(toolitems=[('Home', 'Reset original view', 'home', 'home'), ('Back', 'Back to previous …"
      ]
     },
     "metadata": {},
     "output_type": "display_data"
    },
    {
     "name": "stdout",
     "output_type": "stream",
     "text": [
      "[0.]\n",
      "[0.   1.25 2.5  3.75 5.  ]\n",
      "[0.   1.25 2.5  3.75 5.  ]\n",
      "[0.   1.25 2.5  3.75 5.  ]\n"
     ]
    },
    {
     "name": "stderr",
     "output_type": "stream",
     "text": [
      "C:\\Users\\marag\\miniconda3\\envs\\bmcs_env\\lib\\site-packages\\numpy\\core\\_asarray.py:136: VisibleDeprecationWarning: Creating an ndarray from ragged nested sequences (which is a list-or-tuple of lists-or-tuples-or ndarrays with different lengths or shapes) is deprecated. If you meant to do this, you must specify 'dtype=object' when creating the ndarray\n",
      "  return array(a, dtype, copy=False, order=order, subok=True)\n"
     ]
    }
   ],
   "source": [
    "cm = 1/2.54  # centimeters in inches\n",
    "plt.style.use('grayscale')\n",
    "N=[]\n",
    "plt.tight_layout()\n",
    "plt.rcParams[\"font.family\"] = \"Times New Roman\"\n",
    "\n",
    "fig, ((ax,ax2,ax3)) = plt.subplots(1, 3,figsize=(25*cm, 12*cm))\n",
    "\n",
    "start = int((shift_cycles+2)*steps_branch)\n",
    "end = int(steps_branch)\n",
    "plt.tight_layout()\n",
    "\n",
    "for m,compression in zip(m_list_cyclic,compression_level):\n",
    "    \n",
    "    U_slide = m.hist.U_t[:,3]\n",
    "    cycles = np.linspace(0, len(U_slide[start::steps_branch*2]),len(U_slide[start:-steps_branch:steps_branch*2]))\n",
    "    U_dilatancy = m.hist.U_t[:,0]\n",
    "    F_slide = m.hist.F_t[:,3]\n",
    "    F_confinement = m.hist.F_t[:,0]\n",
    "    print(cycles)\n",
    "\n",
    "    N.append(cycles)\n",
    "    # ax1.plot(cycles, F_confinement[start:-steps_branch:steps_branch*2], label=str(compression))\n",
    "    # ax1.plot(U_slide, F_confinement, label=str(compression))\n",
    "    ax.set_xlabel('confinement [MPa]')\n",
    "    ax.set_ylabel('cycle [-]')\n",
    "    # ax1.set_xlim(-5,55)\n",
    "\n",
    "    ax2.plot(U_slide, F_slide, label=str(compression))\n",
    "    ax2.set_ylabel('shear force [MPa]')\n",
    "    ax2.set_xlabel('shear strain [-]')\n",
    "        # ax2.set_ylim(-1,130)\n",
    "        # ax2.set_xlim(-0.0005,0.02)\n",
    "\n",
    "    ax3.plot(cycles, abs(U_slide[start:-end:steps_branch*2]), label=str(compression))\n",
    "    # ax3.plot(cycles[1:], U_slide[start+steps_branch:-end:steps_branch*2], label=str(compression))\n",
    "    ax3.set_ylabel('fatigue creep [-]')\n",
    "    ax3.set_xlabel('cycle [-]')\n",
    "    # ax3.set_ylim(-0.0005,0.03)\n",
    "    \n",
    "ax.plot(compression_level, N, '--ks', markersize=4)\n",
    "ax.set_xlim(ax.get_xlim()[::-1])\n",
    "ax.set_yscale('log')\n",
    "ax.set_ylim(1e0,1e4)\n",
    "\n",
    "left  = 0.1  # the left side of the subplots of the figure\n",
    "right = 0.98  # the right side of the subplots of the figure\n",
    "bottom = 0.2   # the bottom of the subplots of the figure\n",
    "top = 0.9      # the top of the subplots of the figure\n",
    "wspace = 0.4   # the amount of width reserved for blank space between subplots\n",
    "hspace = 0.4   # the amount of height reserved for white space between subplots\n",
    "# mpl.rcParams['axes.prop_cycle'] = mpl.cycler(color=[\"k\", \"r\", \"b\"]) \n",
    "plt.subplots_adjust(left=left, bottom=bottom, right=right, top=None, wspace=wspace, hspace=hspace)\n",
    "\n",
    "txt=str(CAxisymm)\n",
    "plt.figtext(0.5, 0.01, txt, wrap=True, horizontalalignment='center', fontsize=10)\n",
    "# ax1.set_xlim(-1,21)\n",
    "ax1.set_ylim(-32,2)\n"
   ]
  },
  {
   "cell_type": "code",
   "execution_count": 871,
   "id": "5ab9061b-90cb-4154-b1ae-7eb0639c89cb",
   "metadata": {},
   "outputs": [
    {
     "data": {
      "text/plain": [
       "(40725, 1, 3, 3)"
      ]
     },
     "execution_count": 871,
     "metadata": {},
     "output_type": "execute_result"
    }
   ],
   "source": [
    "sigma_ab, eps_ab = [], []\n",
    "for i in range(len(m.hist.F_t)):\n",
    "    sigma_ab.append(m.fe_domain[0].xmodel.map_U_to_field(m.hist.F_t[i]))\n",
    "    eps_ab.append(m.fe_domain[0].xmodel.map_U_to_field(m.hist.U_t[i]))\n",
    "sigma_ab = np.array(sigma_ab)\n",
    "eps_ab = np.array(eps_ab)\n",
    "eps_ab.shape"
   ]
  },
  {
   "cell_type": "code",
   "execution_count": 931,
   "id": "dc97d6ca-0b88-42d9-a3d1-56ee699e40d4",
   "metadata": {},
   "outputs": [],
   "source": [
    "def plot_energy_dissp(self, m, MSX):\n",
    "    from scipy.integrate import cumtrapz\n",
    "\n",
    "    sigma_ab, eps_ab = [], []\n",
    "    for i in range(len(m.hist.F_t)):\n",
    "        sigma_ab.append(m.fe_domain[0].xmodel.map_U_to_field(m.hist.F_t[i]))\n",
    "        eps_ab.append(m.fe_domain[0].xmodel.map_U_to_field(m.hist.U_t[i]))\n",
    "    sigma_ab = np.array(sigma_ab)\n",
    "    eps_ab = np.array(eps_ab)\n",
    "\n",
    "    fig_list = []\n",
    "\n",
    "    E_damage_N_total, E_damage_T_total, E_plastic_diss_N_total, E_plastic_diss_T_total, E_iso_free_energy_total,\\\n",
    "    E_kin_free_energy_total, W_arr_macro_total, E_damage_diss_total, E_plastic_diss_total, W_arr_micro_elastic = 0, 0, 0, 0, 0, 0, 0, 0 , 0, 0\n",
    "\n",
    "    # for i in range(1):\n",
    "\n",
    "    eps_Emab_hist = eps_ab.squeeze()\n",
    "    delta_eps_Emab = np.concatenate((np.zeros((3, 3))[np.newaxis, ...], np.diff(eps_Emab_hist, axis=0)), axis=0)\n",
    "    eps_a = self._get_e_a(eps_Emab_hist)\n",
    "    eps_a_ = np.einsum('...a->a...', eps_a)\n",
    "    eps_N = eps_a_[0, ...]\n",
    "    eps_T_a = np.einsum('a...->...a', eps_a_[1:, ...])\n",
    "    delta_eps_N = np.concatenate((np.zeros(28, )[np.newaxis, ...], np.diff(eps_N, axis=0)), axis=0)\n",
    "    delta_eps_T_a = np.concatenate((np.zeros((28, 3))[np.newaxis, ...], np.diff(eps_T_a, axis=0)), axis=0)\n",
    "\n",
    "    omega_N, z_N, alpha_N, r_N, eps_N_p, sig_N, omega_T, z_T, alpha_T_a, eps_T_p_a, sig_T_a = \\\n",
    "        [], [], [], [], [], [], [], [], [], [], []\n",
    "    for j in range(len(m.hist.state_vars)):\n",
    "        omega_N.append(m.hist.state_vars[j][0]['omega_N'][0])\n",
    "        z_N.append(m.hist.state_vars[j][0]['z_N'][0])\n",
    "        alpha_N.append(m.hist.state_vars[i][0]['alpha_N'][0])\n",
    "        r_N.append(m.hist.state_vars[j][0]['r_N'][0])\n",
    "        eps_N_p.append(m.hist.state_vars[j][0]['eps_N_p'][0])\n",
    "        sig_N.append(m.hist.state_vars[j][0]['sig_N'][0])\n",
    "        omega_T.append(m.hist.state_vars[j][0]['omega_T'][0])\n",
    "        z_T.append(m.hist.state_vars[j][0]['z_T'][0])\n",
    "        alpha_T_a.append(m.hist.state_vars[j][0]['alpha_T_a'][0])\n",
    "        eps_T_p_a.append(m.hist.state_vars[j][0]['eps_T_p_a'][0])\n",
    "        sig_T_a.append(m.hist.state_vars[j][0]['sig_T_a'][0])\n",
    "        \n",
    "\n",
    "    omega_N = np.array(omega_N).squeeze()\n",
    "    z_N = np.array(z_N).squeeze()\n",
    "    alpha_N = np.array(alpha_N).squeeze()\n",
    "    eps_N_p = np.array(eps_N_p).squeeze()\n",
    "    sig_N = np.array(sig_N).squeeze()\n",
    "    omega_T = np.array(omega_T).squeeze()\n",
    "    z_T = np.array(z_T).squeeze()\n",
    "    alpha_T_a = np.array(alpha_T_a).squeeze()\n",
    "    eps_T_p_a = np.array(eps_T_p_a).squeeze()\n",
    "    sig_T_a = np.array(sig_T_a).squeeze()\n",
    "    eps_N_e = eps_N - eps_N_p\n",
    "    eps_T_e_a = eps_T_a - eps_T_p_a\n",
    "    sig_Emab_hist = MSX.NT_to_ab(sig_N, sig_T_a)\n",
    "\n",
    "    work_microplane = np.einsum('...n,...n->...n', sig_N, delta_eps_N) + np.einsum('...na,...na->...n',\n",
    "                                                                                   sig_T_a,\n",
    "                                                                                   delta_eps_T_a)\n",
    "    work_microplane_elastic = 0.5 * np.einsum('...n,...n->...n', sig_N, eps_N_e) + np.einsum('...na,...na->...n',\n",
    "                                                                                   sig_T_a,\n",
    "                                                                                   eps_T_e_a)\n",
    "    W_arr_micro = cumtrapz(np.einsum('...n,...n->...', self._get_MPW(), work_microplane), initial=0)\n",
    "    W_arr_micro_elastic = np.einsum('...n,...n->...', self._get_MPW(), work_microplane_elastic)\n",
    "                           \n",
    "    W_arr_macro = cumtrapz(np.einsum('...ij,...ij->...', sig_Emab_hist, delta_eps_Emab), initial=0)\n",
    "\n",
    "    delta_eps_N_p = np.concatenate((np.zeros(28, )[np.newaxis, ...], np.diff(eps_N_p, axis=0)), axis=0)\n",
    "    delta_eps_N_e = np.concatenate((np.zeros(28, )[np.newaxis, ...], np.diff(eps_N_e, axis=0)), axis=0)\n",
    "    delta_alpha_N = np.concatenate((np.zeros(28, )[np.newaxis, ...], np.diff(alpha_N, axis=0)), axis=0)\n",
    "    delta_z_N = np.concatenate((np.zeros(28, )[np.newaxis, ...], np.diff(z_N, axis=0)), axis=0)\n",
    "    delta_omega_N = np.concatenate((np.zeros(28, )[np.newaxis, ...], np.diff(omega_N, axis=0)), axis=0)\n",
    "\n",
    "    Z_N = MSX.mic_.K_N * z_N\n",
    "    X_N = MSX.mic_.gamma_N * alpha_N\n",
    "    Y_N = 0.5 * MSX.mic_.E_N * (eps_N - eps_N_p) ** 2.0\n",
    "\n",
    "    plastic_work_N = np.einsum('...n,...n->...n', sig_N, delta_eps_N_p)\n",
    "    elastic_work_N = np.einsum('...n,...n->...n', sig_N, delta_eps_N_e)\n",
    "    kin_free_energy_N = np.einsum('...n,...n->...n', X_N, delta_alpha_N)\n",
    "    iso_free_energy_N = np.einsum('...n,...n->...n', Z_N, delta_z_N)\n",
    "    damage_dissip_N = np.einsum('...n,...n->...n', Y_N, delta_omega_N)\n",
    "\n",
    "    E_plastic_work_N = cumtrapz(np.einsum('...n,...n->...', self._get_MPW(), plastic_work_N), initial=0)\n",
    "    E_elastic_work_N = cumtrapz(np.einsum('...n,...n->...', self._get_MPW(), elastic_work_N), initial=0)\n",
    "    E_iso_free_energy_N = cumtrapz(np.einsum('...n,...n->...', self._get_MPW(), iso_free_energy_N), initial=0)\n",
    "    E_kin_free_energy_N = cumtrapz(np.einsum('...n,...n->...', self._get_MPW(), kin_free_energy_N), initial=0)\n",
    "    E_plastic_diss_N = E_plastic_work_N - E_iso_free_energy_N - E_kin_free_energy_N\n",
    "    E_damage_N = cumtrapz(np.einsum('...n,...n->...', self._get_MPW(), damage_dissip_N), initial=0)\n",
    "\n",
    "    delta_eps_T_p_a = np.concatenate((np.zeros((28, 3))[np.newaxis, ...], np.diff(eps_T_p_a, axis=0)), axis=0)\n",
    "    delta_eps_T_e_a = np.concatenate((np.zeros((28, 3))[np.newaxis, ...], np.diff(eps_T_e_a, axis=0)), axis=0)\n",
    "    delta_alpha_T_a = np.concatenate((np.zeros((28, 3))[np.newaxis, ...], np.diff(alpha_T_a, axis=0)), axis=0)\n",
    "    delta_z_T = np.concatenate((np.zeros(28, )[np.newaxis, ...], np.diff(z_T, axis=0)), axis=0)\n",
    "    delta_omega_T = np.concatenate((np.zeros(28, )[np.newaxis, ...], np.diff(omega_T, axis=0)), axis=0)\n",
    "    \n",
    "    Z_T = MSX.mic_.K_T * z_T\n",
    "    X_T = MSX.mic_.gamma_T * alpha_T_a\n",
    "    Y_T = 0.5 * MSX.mic_.E_T * np.einsum('...na,...na->...n', (eps_T_a - eps_T_p_a), (eps_T_a - eps_T_p_a))\n",
    "\n",
    "    plastic_work_T = np.einsum('...na,...na->...n', sig_T_a, delta_eps_T_p_a)\n",
    "    elastic_work_T = np.einsum('...na,...na->...n', sig_T_a, delta_eps_T_e_a)\n",
    "    kin_free_energy_T = np.einsum('...na,...na->...n', X_T, delta_alpha_T_a)\n",
    "    iso_free_energy_T = np.einsum('...n,...n->...n', Z_T, delta_z_T)\n",
    "    damage_dissip_T = np.einsum('...n,...n->...n', Y_T, delta_omega_T)\n",
    "\n",
    "    E_plastic_work_T = cumtrapz(np.einsum('...n,...n->...', self._get_MPW(), plastic_work_T), initial=0)\n",
    "    E_elastic_work_T = cumtrapz(np.einsum('...n,...n->...', self._get_MPW(), elastic_work_T), initial=0)\n",
    "    E_iso_free_energy_T = cumtrapz(np.einsum('...n,...n->...',self._get_MPW(), iso_free_energy_T), initial=0)\n",
    "    E_kin_free_energy_T = cumtrapz(np.einsum('...n,...n->...', self._get_MPW(), kin_free_energy_T), initial=0)\n",
    "    E_plastic_diss_T = E_plastic_work_T - E_iso_free_energy_T - E_kin_free_energy_T\n",
    "    E_damage_T = cumtrapz(np.einsum('...n,...n->...', self._get_MPW(), damage_dissip_T), initial=0)\n",
    "\n",
    "    E_kin_free_energy = E_kin_free_energy_T + E_kin_free_energy_N\n",
    "    E_iso_free_energy = E_iso_free_energy_T + E_iso_free_energy_N\n",
    "    E_plastic_diss = E_plastic_diss_T + E_plastic_diss_N\n",
    "    E_damage_diss = E_damage_T + E_damage_N\n",
    "    E_plastic_work = E_plastic_work_T + E_plastic_work_N\n",
    "    E_elastic_work = E_elastic_work_T + E_elastic_work_N\n",
    "\n",
    "    E_damage_N_total += E_damage_N\n",
    "    E_damage_T_total += E_damage_T\n",
    "    E_plastic_diss_N_total += E_plastic_diss_N\n",
    "    E_plastic_diss_T_total += E_plastic_diss_T\n",
    "    E_iso_free_energy_total += E_iso_free_energy\n",
    "    E_kin_free_energy_total += E_kin_free_energy\n",
    "    W_arr_macro_total += W_arr_macro\n",
    "    E_damage_diss_total += E_damage_diss\n",
    "    E_plastic_diss_total += E_plastic_diss\n",
    "\n",
    "    t_arr = np.linspace(0, 1, len(E_plastic_work))\n",
    "\n",
    "    fig = plt.figure()\n",
    "    ax = fig.subplots(1, 1)\n",
    "    E_level = 0\n",
    "\n",
    "    # ax2.plot(eps_Emab_hist[:, 0, 0], sig_Emab_hist[:, 0, 0])\n",
    "    # ax2.plot(eps_Emab_hist[:, 0, 1], sig_Emab_hist[:, 0, 1])\n",
    "    # ax2.plot(eps_Emab_hist[:, 0, 2], sig_Emab_hist[:, 0, 2])\n",
    "\n",
    "    ax.plot(t_arr, E_damage_diss_total + E_level, color='black', lw=2)\n",
    "    ax.fill_between(t_arr, E_damage_N_total + E_level, E_level, color='black',\n",
    "                    hatch='|', label=r'$W$ - damage N diss');\n",
    "    E_d_level = E_level + abs(E_damage_N_total)\n",
    "    ax.fill_between(t_arr, abs(E_damage_T_total) + E_d_level, E_d_level, color='gray',\n",
    "                    alpha=0.3, label=r'$W$ - damage T diss');\n",
    "\n",
    "    E_level = abs(E_damage_diss_total)\n",
    "\n",
    "    ax.plot(t_arr, E_plastic_diss_total + E_level, lw=1., color='red')\n",
    "    ax.fill_between(t_arr, E_plastic_diss_N_total + E_level, E_level, color='red',\n",
    "                    hatch='-', label=r'$W$ - plastic N diss')\n",
    "    E_d_level = E_level + E_plastic_diss_N_total\n",
    "    ax.fill_between(t_arr, E_plastic_diss_T_total + E_d_level, E_d_level, color='red',\n",
    "                    alpha=0.3, label=r'$W$ - plastic T diss')\n",
    "    E_level += E_plastic_diss_total\n",
    "\n",
    "    ax.plot(t_arr, abs(E_iso_free_energy_total) + E_level, '-.', lw=0.5, color='black')\n",
    "    ax.fill_between(t_arr, abs(E_iso_free_energy_total) + E_level, E_level, color='royalblue',\n",
    "                    hatch='|', label=r'$W$ - iso free energy')\n",
    "\n",
    "    E_level += abs(E_iso_free_energy_total)\n",
    "    ax.plot(t_arr, abs(E_kin_free_energy_total) + E_level, '-.', color='black', lw=0.5)\n",
    "    ax.fill_between(t_arr, abs(E_kin_free_energy_total) + E_level, E_level, color='royalblue', alpha=0.2,\n",
    "                    label=r'$W$ - kin free energyy')\n",
    "\n",
    "    E_level += abs(E_kin_free_energy_total)\n",
    "\n",
    "    ax.plot(t_arr, W_arr_micro_elastic + E_level, lw=0.5, color='black', label=r'$W$ - Input work')\n",
    "    # ax.plot(t_arr, G_arr, '--', color='black', lw = 0.5, label=r'$W^\\mathrm{inel}$ - Inelastic work')\n",
    "    ax.fill_between(t_arr, W_arr_micro_elastic + E_level, E_level, color='green', alpha=0.2, label=r'$W$ - stored energy')\n",
    "    ax.set_xlabel('$t$ [-]');\n",
    "    ax.set_ylabel(r'$E$ [Nmm]')\n",
    "    ax.legend()\n",
    "    fig_list.append(fig)\n",
    "\n",
    "    return fig_list"
   ]
  },
  {
   "cell_type": "code",
   "execution_count": 936,
   "id": "d8b79864-9278-4348-80a2-63d04816df80",
   "metadata": {},
   "outputs": [
    {
     "name": "stdout",
     "output_type": "stream",
     "text": [
      "[[ 1.71540826e-03 -8.57704014e-04 -8.57704014e-04]\n",
      " [-1.72122261e-03  8.60611606e-04 -8.60611606e-04]\n",
      " [-1.72122261e-03 -8.60611606e-04  8.60611606e-04]\n",
      " [ 1.71540826e-03  8.57704014e-04  8.57704014e-04]\n",
      " [ 6.12762021e-04 -1.14342945e-03 -1.14342945e-03]\n",
      " [-6.13659431e-04  1.14510436e-03 -1.14510436e-03]\n",
      " [-6.13659431e-04 -1.14510436e-03  1.14510436e-03]\n",
      " [ 6.12762021e-04  1.14342945e-03  1.14342945e-03]\n",
      " [ 3.70530782e-04  5.94340250e-04 -2.58863885e-03]\n",
      " [-3.72958239e-04 -5.94025479e-04 -2.58989194e-03]\n",
      " [-3.72958239e-04  5.94025479e-04  2.58989194e-03]\n",
      " [ 3.70530782e-04 -5.94340250e-04  2.58863885e-03]\n",
      " [ 3.70530782e-04 -2.58863885e-03  5.94340250e-04]\n",
      " [-3.72958239e-04  2.58989194e-03  5.94025479e-04]\n",
      " [-3.72958239e-04 -2.58989194e-03 -5.94025479e-04]\n",
      " [ 3.70530782e-04  2.58863885e-03 -5.94340250e-04]\n",
      " [ 1.21312426e-03 -1.62527873e-04 -1.62527873e-04]\n",
      " [-1.22789037e-03  1.64505569e-04 -1.64505569e-04]\n",
      " [-1.22789037e-03 -1.64505569e-04  1.64505569e-04]\n",
      " [ 1.21312426e-03  1.62527873e-04  1.62527873e-04]\n",
      " [ 6.58237698e-04 -2.36807127e-03 -2.37154294e-05]\n",
      " [-6.58501499e-04  2.36978147e-03 -2.35203498e-05]\n",
      " [-6.58501499e-04 -2.36978147e-03  2.35203498e-05]\n",
      " [ 6.58237698e-04  2.36807127e-03  2.37154294e-05]\n",
      " [ 6.58237698e-04 -2.37154294e-05 -2.36807127e-03]\n",
      " [-6.58501499e-04  2.35203498e-05 -2.36978147e-03]\n",
      " [-6.58501499e-04 -2.35203498e-05  2.36978147e-03]\n",
      " [ 6.58237698e-04  2.37154294e-05  2.36807127e-03]]\n"
     ]
    },
    {
     "data": {
      "application/vnd.jupyter.widget-view+json": {
       "model_id": "13b3cd3167d24865befd100f131c6d6d",
       "version_major": 2,
       "version_minor": 0
      },
      "text/plain": [
       "Canvas(toolbar=Toolbar(toolitems=[('Home', 'Reset original view', 'home', 'home'), ('Back', 'Back to previous …"
      ]
     },
     "metadata": {},
     "output_type": "display_data"
    },
    {
     "name": "stdout",
     "output_type": "stream",
     "text": [
      "[[ 8.30297405e-04 -4.15149038e-04 -4.15148492e-04]\n",
      " [-1.69098114e-03  8.45490648e-04 -8.45490646e-04]\n",
      " [-1.69098106e-03 -8.45490609e-04  8.45490607e-04]\n",
      " [ 8.30297405e-04  4.15148489e-04  4.15149041e-04]\n",
      " [ 2.53286988e-04 -4.72640457e-04 -4.72639569e-04]\n",
      " [-5.69114307e-04  1.06198185e-03 -1.06198185e-03]\n",
      " [-5.69114362e-04 -1.06198195e-03  1.06198195e-03]\n",
      " [ 2.53286988e-04  4.72639568e-04  4.72640458e-04]\n",
      " [-9.05010739e-05  5.33184062e-04 -1.89936910e-03]\n",
      " [-6.81484360e-04 -3.69951244e-04 -2.06216141e-03]\n",
      " [-6.81483496e-04  3.69951533e-04  2.06216163e-03]\n",
      " [-9.05005156e-05 -5.33183824e-04  1.89936877e-03]\n",
      " [-9.05005153e-05 -1.89936878e-03  5.33183825e-04]\n",
      " [-6.81484359e-04  2.06216141e-03  3.69951245e-04]\n",
      " [-6.81483495e-04 -2.06216163e-03 -3.69951534e-04]\n",
      " [-9.05010735e-05  1.89936911e-03 -5.33184063e-04]\n",
      " [ 3.87656610e-04 -5.19361266e-05 -5.19359529e-05]\n",
      " [-1.21164952e-03  1.62330020e-04 -1.62330017e-04]\n",
      " [-1.21164912e-03 -1.62329966e-04  1.62329963e-04]\n",
      " [ 3.87656610e-04  5.19359496e-05  5.19361300e-05]\n",
      " [-2.05905314e-04 -2.10292236e-03  7.69381447e-04]\n",
      " [-1.05308056e-03  1.77809803e-03 -5.76640753e-04]\n",
      " [-1.05308043e-03 -1.77809828e-03  5.76640558e-04]\n",
      " [-2.05905541e-04  2.10292345e-03 -7.69381966e-04]\n",
      " [-2.05905542e-04  7.69381966e-04 -2.10292344e-03]\n",
      " [-1.05308056e-03  5.76640754e-04 -1.77809803e-03]\n",
      " [-1.05308043e-03 -5.76640560e-04  1.77809827e-03]\n",
      " [-2.05905315e-04 -7.69381446e-04  2.10292235e-03]]\n"
     ]
    },
    {
     "data": {
      "application/vnd.jupyter.widget-view+json": {
       "model_id": "4d29831a647a414c9290ae406851dd7f",
       "version_major": 2,
       "version_minor": 0
      },
      "text/plain": [
       "Canvas(toolbar=Toolbar(toolitems=[('Home', 'Reset original view', 'home', 'home'), ('Back', 'Back to previous …"
      ]
     },
     "metadata": {},
     "output_type": "display_data"
    },
    {
     "name": "stdout",
     "output_type": "stream",
     "text": [
      "[[ 2.90494344e-04 -1.45247232e-04 -1.45247224e-04]\n",
      " [-1.59190948e-03  7.95954804e-04 -7.95954804e-04]\n",
      " [-1.59190948e-03 -7.95954804e-04  7.95954804e-04]\n",
      " [ 2.90494344e-04  1.45247224e-04  1.45247232e-04]\n",
      " [ 8.86169633e-05 -1.65361553e-04 -1.65361541e-04]\n",
      " [-7.27638182e-04  1.35779145e-03 -1.35779145e-03]\n",
      " [-7.27638174e-04 -1.35779143e-03  1.35779143e-03]\n",
      " [ 8.86169633e-05  1.65361541e-04  1.65361553e-04]\n",
      " [-1.72325885e-04  4.88194964e-04 -1.64964268e-03]\n",
      " [-7.00655748e-04 -3.03670857e-04 -1.83397100e-03]\n",
      " [-7.00655736e-04  3.03670861e-04  1.83397100e-03]\n",
      " [-1.72325878e-04 -4.88194962e-04  1.64964268e-03]\n",
      " [-1.72325878e-04 -1.64964268e-03  4.88194962e-04]\n",
      " [-7.00655748e-04  1.83397100e-03  3.03670857e-04]\n",
      " [-7.00655736e-04 -1.83397100e-03 -3.03670861e-04]\n",
      " [-1.72325885e-04  1.64964268e-03 -4.88194964e-04]\n",
      " [ 1.35628592e-04 -1.81707211e-05 -1.81707186e-05]\n",
      " [-1.14790314e-03  1.53789650e-04 -1.53789650e-04]\n",
      " [-1.14790313e-03 -1.53789649e-04  1.53789649e-04]\n",
      " [ 1.35628592e-04  1.81707186e-05  1.81707211e-05]\n",
      " [-5.04288858e-04 -2.31120303e-03  1.12357362e-03]\n",
      " [-1.04727524e-03  1.55958129e-03 -6.29386811e-04]\n",
      " [-1.04727524e-03 -1.55958130e-03  6.29386809e-04]\n",
      " [-5.04288864e-04  2.31120305e-03 -1.12357363e-03]\n",
      " [-5.04288864e-04  1.12357363e-03 -2.31120305e-03]\n",
      " [-1.04727524e-03  6.29386811e-04 -1.55958129e-03]\n",
      " [-1.04727524e-03 -6.29386809e-04  1.55958130e-03]\n",
      " [-5.04288858e-04 -1.12357362e-03  2.31120303e-03]]\n"
     ]
    },
    {
     "data": {
      "application/vnd.jupyter.widget-view+json": {
       "model_id": "3597ba61d7e64156aa60b5164530d135",
       "version_major": 2,
       "version_minor": 0
      },
      "text/plain": [
       "Canvas(toolbar=Toolbar(toolitems=[('Home', 'Reset original view', 'home', 'home'), ('Back', 'Back to previous …"
      ]
     },
     "metadata": {},
     "output_type": "display_data"
    }
   ],
   "source": [
    "for m in m_list_monotonic:\n",
    "    energydissipation = EnergyDissipation()\n",
    "    fig = plot_energy_dissp(energydissipation, m, mpl)"
   ]
  },
  {
   "cell_type": "markdown",
   "id": "2d196cd3-f191-4e48-9304-8150bb377603",
   "metadata": {},
   "source": [
    "## 2D 1 single mp"
   ]
  },
  {
   "cell_type": "code",
   "execution_count": 3,
   "id": "10ab9a91-f0bf-499f-aca0-a4686bc9c207",
   "metadata": {},
   "outputs": [],
   "source": [
    "m_inelastic = MS12D(**CAxisymm)"
   ]
  },
  {
   "cell_type": "code",
   "execution_count": 4,
   "id": "70a65030-43aa-4cd0-adb6-aee29733357b",
   "metadata": {},
   "outputs": [],
   "source": [
    "tf_precrompression = TFBilinear(loading_ratio = 1.0, time_ratio=0.1)\n",
    "tf_sliding = TFBilinear(loading_ratio = 0.0, time_ratio=0.1)"
   ]
  },
  {
   "cell_type": "code",
   "execution_count": 5,
   "id": "9ca73913-3e0b-4567-9847-d4804a81b648",
   "metadata": {},
   "outputs": [],
   "source": [
    "xmodel = XDomainSinglePoint2D()\n",
    "m = TStepBC(\n",
    "    domains=[(xmodel, m_inelastic),],\n",
    "    bc=[BCDof(\n",
    "            var='u', dof=2, value=-0.01,\n",
    "         time_function=tf_sliding) , BCDof(\n",
    "            var='f', dof=0, value=-5,\n",
    "         time_function=tf_precrompression)]\n",
    ")"
   ]
  },
  {
   "cell_type": "code",
   "execution_count": null,
   "id": "d200e997-8688-4e5b-a6cd-4bdf4cee5eba",
   "metadata": {},
   "outputs": [],
   "source": [
    "m.sim.tline.trait_set(step=0.1)\n",
    "m.sim.reset()\n",
    "m.sim.run()"
   ]
  },
  {
   "cell_type": "code",
   "execution_count": null,
   "id": "5e39dfa7-e367-44a3-8727-6b31491b7288",
   "metadata": {},
   "outputs": [],
   "source": []
  }
 ],
 "metadata": {
  "kernelspec": {
   "display_name": "bmcs_env",
   "language": "python",
   "name": "bmcs_env"
  },
  "language_info": {
   "codemirror_mode": {
    "name": "ipython",
    "version": 3
   },
   "file_extension": ".py",
   "mimetype": "text/x-python",
   "name": "python",
   "nbconvert_exporter": "python",
   "pygments_lexer": "ipython3",
   "version": "3.8.12"
  }
 },
 "nbformat": 4,
 "nbformat_minor": 5
}
