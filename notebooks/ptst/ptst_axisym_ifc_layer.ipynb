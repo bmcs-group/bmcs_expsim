{
 "cells": [
  {
   "cell_type": "markdown",
   "id": "c9b1a703-90dc-4390-9d8c-2455c3d5370b",
   "metadata": {},
   "source": [
    "# PTST with non-zero thickness ligament "
   ]
  },
  {
   "cell_type": "code",
   "execution_count": 1,
   "id": "c775a0bd-f04d-4e38-be6a-b2feec8fcb1d",
   "metadata": {},
   "outputs": [],
   "source": [
    "import numpy as np"
   ]
  },
  {
   "cell_type": "markdown",
   "id": "8bfda3c6-1558-4cea-b3a8-23d8ac1ed60d",
   "metadata": {},
   "source": [
    "To combine axi-symmetric stress state with the fatigue degradation ligament\n",
    "it is necessary to address the issue of correct representation of the uniform elastic\n",
    "state."
   ]
  },
  {
   "cell_type": "markdown",
   "id": "0dcaeb75-f228-4439-be8d-bf48489f491c",
   "metadata": {},
   "source": [
    "## Option #1 - application of slide for reduced strain state"
   ]
  },
  {
   "cell_type": "markdown",
   "id": "b18f43f8-fe0c-4314-9fc3-ea4ab707e7cd",
   "metadata": {},
   "source": [
    "To correctly reproduce the axisymmetric strain and stress state, consider the strain tensor\n",
    "projections\n",
    "$$\n",
    "  e_a = n_a \\varepsilon_{ab}\n",
    "$$\n",
    "Assuming that the axis of symmetry is aligned with $x$ axis,\n",
    "the normal to the interface is given as $n_a = [0, 1, 0]$. \n",
    "Thus, the normal and tangential strain components can be \n",
    "detached from the strain tensor by setting\n",
    "$$\n",
    "  e_N = \\delta_{Na} e_a, e_T = \\delta_{Ta} e_a\n",
    "$$\n",
    "where\n",
    "$$\n",
    "\\delta_{Na} = [0, 1, 0], \\;\n",
    "\\delta_{Ta} = \n",
    "\\left[\n",
    "\\begin{array}{lll}\n",
    " 0, & 1, & 0 \\\\\n",
    " 0, & 0, & 1\n",
    "\\end{array}\n",
    "\\right].\n",
    "$$\n",
    "\n",
    "$$\n",
    "  e_N = \\varepsilon_{11}, e_T = \\varepsilon_{10}.\n",
    "$$\n",
    "Note that the strain component $\\varepsilon_{00}$ is disregarded. Is it an acceptable assumption? The stress along the ligament is implicitly assumed zero."
   ]
  },
  {
   "cell_type": "markdown",
   "id": "251c7c11-2c30-417e-ac6b-b1450410c841",
   "metadata": {},
   "source": [
    "$$\n",
    "\\begin{array}{ccc}\n",
    " \\varepsilon_{00} &  \\varepsilon_{T} & 0 \\\\\n",
    " \\varepsilon_{T} &  \\varepsilon_{N} & 0 \\\\\n",
    " 0 &  0 & \\varepsilon_{\\theta}\n",
    "\\end{array}\n",
    "$$"
   ]
  },
  {
   "cell_type": "markdown",
   "id": "800c1100-43e2-40ba-933c-91d138bc22e1",
   "metadata": {},
   "source": [
    "$$\n",
    "\\begin{array}{ccc}\n",
    " \\sigma_{00} &  \\sigma_{T} & 0 \\\\\n",
    " \\sigma_{T} &  \\sigma_{N} & 0 \\\\\n",
    " 0 &  0 & \\sigma_{\\theta}\n",
    "\\end{array}\n",
    "$$"
   ]
  },
  {
   "cell_type": "markdown",
   "id": "e3a1813d-74e7-4706-b5bc-aa559fac73ff",
   "metadata": {},
   "source": [
    "# Damage plasticity for decohesion/compression along dissipative plane"
   ]
  },
  {
   "cell_type": "markdown",
   "id": "88e5afc9-e8c2-4de8-bc1d-403003b42b85",
   "metadata": {},
   "source": [
    "## Normal strain component"
   ]
  },
  {
   "cell_type": "markdown",
   "id": "53b02d1e-956b-4edd-b90e-ed39e679a797",
   "metadata": {},
   "source": [
    "### Kinematic constraint"
   ]
  },
  {
   "cell_type": "markdown",
   "id": "94d6b18b-d0fd-4204-990e-44b3cbc3fa37",
   "metadata": {},
   "source": [
    "The normal strain vector acting in the direction $n_a$ is given as"
   ]
  },
  {
   "cell_type": "markdown",
   "id": "7174e274-c16c-4572-b566-435af59369c1",
   "metadata": {},
   "source": [
    "$$\n",
    "  \\varepsilon_N = n_a n_b \\varepsilon_{ab}\n",
    "$$"
   ]
  },
  {
   "cell_type": "markdown",
   "id": "0c1d2a2d-7a4e-4d96-aab6-4008744d5d2e",
   "metadata": {},
   "source": [
    "The strain tensor $\\varepsilon_{N_{ab}}$ equivalent to the normal strain $\\varepsilon_N$ acting in the direction $n_a$ is obtained using the principle of virtual work. Considering a virtual stress tensor $\\delta \\sigma_{ab}$, the corresponding virtual stress $\\sigma_N$ acting in direction $n_a$ is obtained as the projection"
   ]
  },
  {
   "cell_type": "markdown",
   "id": "c675024e-e900-45a8-b2b8-c017cdf502b6",
   "metadata": {},
   "source": [
    "$$\n",
    "  \\delta \\sigma_N = n_a n_b \\delta \\sigma_{ab}\n",
    "$$"
   ]
  },
  {
   "cell_type": "markdown",
   "id": "702adb7c-7d52-42f2-a7c9-5ce1f22b6008",
   "metadata": {},
   "source": [
    "The representation of the normal strain $\\varepsilon_N$ within a tensor can be established by requiring"
   ]
  },
  {
   "cell_type": "markdown",
   "id": "61a4da5d-bc0e-4ab2-962e-27b6a45fb491",
   "metadata": {},
   "source": [
    "$$\n",
    "  \\varepsilon_{N_{ab}} \\delta \\sigma_{ab} = \\varepsilon_N \\delta \\sigma_N\n",
    "$$"
   ]
  },
  {
   "cell_type": "markdown",
   "id": "f5a04dfe-ba4d-415b-9d84-68b691b0c2f4",
   "metadata": {},
   "source": [
    "By substituting for $\\delta \\sigma_{N}$ we obtain"
   ]
  },
  {
   "cell_type": "markdown",
   "id": "dc778c32-4d7b-4a6f-977e-14e856c86eb7",
   "metadata": {},
   "source": [
    "$$\n",
    "  \\varepsilon_{N_{ab}} = n_a n_b \\varepsilon_N.\n",
    "$$"
   ]
  },
  {
   "cell_type": "markdown",
   "id": "7eec6956-758c-4c53-aeb5-4fb85691377f",
   "metadata": {},
   "source": [
    "The direct relation between strain tensor $\\varepsilon_N$ and the fraction associated with the direction $n_a$ is obtained as"
   ]
  },
  {
   "cell_type": "markdown",
   "id": "35e4943b-b575-4c50-9e7a-8bbe82a92d39",
   "metadata": {},
   "source": [
    "$$\n",
    "  \\varepsilon_{N_{ef}} = n_e n_f \\varepsilon_N = n_e n_f n_a n_b \\varepsilon_{ab}.\n",
    "$$"
   ]
  },
  {
   "cell_type": "markdown",
   "id": "bafd70d0-5002-4640-8847-b20bedb1cf90",
   "metadata": {},
   "source": [
    "**Remark:** The complementary part of the strain tensor can be extracted as"
   ]
  },
  {
   "cell_type": "markdown",
   "id": "69929353-adb5-4a02-b071-05774b993922",
   "metadata": {},
   "source": [
    "$$\n",
    "  \\varepsilon_{\\setminus N_{ab}} = \\varepsilon_{ab} - \\varepsilon_{N_{ab}}\n",
    "$$"
   ]
  },
  {
   "cell_type": "markdown",
   "id": "d0677287-bc02-415e-b725-c3fd43dfca27",
   "metadata": {},
   "source": [
    "By substituting for $\\varepsilon_N$ and applying an identity rank four tensor, this can be rewritten as"
   ]
  },
  {
   "cell_type": "markdown",
   "id": "dc83f7ca-8f1b-40a1-b2f2-bb8c86e5858a",
   "metadata": {},
   "source": [
    "$$\n",
    "  \\varepsilon_{\\setminus N_{ef}} = (I_{efab} - n_e n_f n_a n_b) \\varepsilon_{ab}\n",
    "$$"
   ]
  },
  {
   "cell_type": "markdown",
   "id": "35749cb2-f707-4fb6-ab8a-b7ed8d8c455e",
   "metadata": {},
   "source": [
    "**Check - tensor properties:**\n",
    "Are the invariants of $\\varepsilon_{ab}$ equivalent to the sum of invariants obtained separately for $\\varepsilon_{\\setminus N_{ab}}$ and $\\varepsilon_{N_{ab}}$?"
   ]
  },
  {
   "cell_type": "markdown",
   "id": "b4bab527-6994-45ed-b13d-b5235f848ea2",
   "metadata": {},
   "source": [
    "**Check - equivalence of free energy:** Is the non-dissipative part of Helmholtz free energy defined on $\\varepsilon_{\\setminus N}$ equivalent to the difference between \n",
    "the free energy associated with the full strain tensor $\\varepsilon_{ab}$ and the normal strain $\\varepsilon_N$?"
   ]
  },
  {
   "cell_type": "markdown",
   "id": "6149c0ff-b798-4015-9b8d-82f673de60e7",
   "metadata": {},
   "source": [
    "$$\n",
    " \\rho \\psi_{\\varepsilon}^\\mathrm{e} - \\rho \\psi_{\\varepsilon_N}^\\mathrm{e} \n",
    " =\n",
    " \\rho \\psi_{\\varepsilon_{\\setminus N}}^\\mathrm{e}\n",
    "$$"
   ]
  },
  {
   "cell_type": "markdown",
   "id": "1fce5efe-fda5-491a-adf4-e661483907b5",
   "metadata": {},
   "source": [
    "The left hand side is expressed as"
   ]
  },
  {
   "cell_type": "markdown",
   "id": "d9da75f2-2cd5-432d-9148-61194c4192ad",
   "metadata": {},
   "source": [
    "\\begin{align}\n",
    " \\rho \\psi_{\\varepsilon}^\\mathrm{e} - \\rho \\psi_{\\varepsilon_N}^\\mathrm{e} \n",
    " &=\n",
    " \\frac{1}{2} D_{abcd} \\varepsilon_{ab} \\varepsilon_{cd} - \\frac{1}{2} D_{abcd} \\varepsilon_{N_{ab}} \\varepsilon_{N_{cd}} \\\\\n",
    " &=\n",
    " \\frac{1}{2} D_{abcd} \\varepsilon_{ab} \\varepsilon_{cd} - \\frac{1}{2} D_{abcd} \\, n_a n_b n_e n_f \\varepsilon_{ef} \\, n_c n_d n_g n_h  \\varepsilon_{gh} \\\\\n",
    " &=\n",
    " \\frac{1}{2} D_{abcd} (I_{abef}  I_{cdgh} - n_a n_b n_e n_f n_c n_d n_g n_h ) \\varepsilon_{ef} \\varepsilon_{gh} \n",
    "\\end{align}"
   ]
  },
  {
   "cell_type": "markdown",
   "id": "fce4c87b-ee0d-4cd4-87e4-7fba4944a881",
   "metadata": {},
   "source": [
    "while for the right hand side the expression is obtained"
   ]
  },
  {
   "cell_type": "markdown",
   "id": "7bfc4684-4c70-4b1c-8622-82cc4e61d7d6",
   "metadata": {},
   "source": [
    "\\begin{align}\n",
    "\\rho \\psi_{\\setminus N}^\\mathrm{e} &= \\frac{1}{2} D_{abcd} \\varepsilon_{\\setminus N_{ab}} \\varepsilon_{\\setminus N_{cd}} \\\\\n",
    " &= \n",
    " \\frac{1}{2} D_{abcd} \\, (I_{abef} - n_a n_b n_e n_f) \\varepsilon_{ef} \\, (I_{cdgh} - n_c n_d n_g n_h) \\varepsilon_{gh} \\\\ \n",
    " &=\n",
    " \\frac{1}{2} D_{abcd} \\, (I_{abef} - n_a n_b n_e n_f) (I_{cdgh} - n_c n_d n_g n_h) \\, \\varepsilon_{ef} \\varepsilon_{gh} \\\\\n",
    " &= \n",
    " \\frac{1}{2} D_{abcd} \\, (I_{abef} I_{cdgh} - I_{cdgh} n_a n_b n_e n_f - I_{abef} n_c n_d n_g n_h + n_a n_b n_e n_f n_c n_d n_g n_h) \\, \\varepsilon_{ef} \\varepsilon_{gh} \\\\\n",
    "\\end{align}"
   ]
  },
  {
   "cell_type": "markdown",
   "id": "7a1cb009-2e3c-4888-8fef-f75631598c13",
   "metadata": {},
   "source": [
    "The free energy of the complementary strain is not the same as the difference between \n",
    "the free energy associated with the original strain reduced by the free energy of the normal strain, i.e. "
   ]
  },
  {
   "cell_type": "markdown",
   "id": "6bb67195-4878-442c-af46-5098b0ce80f9",
   "metadata": {},
   "source": [
    "$$\n",
    " \\rho \\psi_{\\varepsilon}^\\mathrm{e} - \\rho \\psi_{\\varepsilon_N}^\\mathrm{e} \n",
    " \\neq \n",
    " \\rho \\psi_{\\varepsilon_{\\setminus N}}^\\mathrm{e}\\\\\n",
    " \\frac{1}{2} D_{abcd} \\varepsilon_{ab} \\varepsilon_{cd} - \\frac{1}{2} D_{abcd} \\varepsilon_{N_{ab}} \\varepsilon_{N_{cd}} \\neq\n",
    " \\frac{1}{2} D_{abcd} \\varepsilon_{\\setminus N_{ab}} \\varepsilon_{\\setminus N{cd}}\n",
    "$$"
   ]
  },
  {
   "cell_type": "markdown",
   "id": "4900bf15-edca-449c-be39-c4438b0edd1f",
   "metadata": {},
   "source": [
    "### Helmholtz free energy"
   ]
  },
  {
   "cell_type": "markdown",
   "id": "9400162a-a0e6-4e0e-969b-2248dc49a7a1",
   "metadata": {},
   "source": [
    "Given a strain tensor $\\varepsilon_{ab}$ and a vector $n_a$ defining the orientation of the dissipative plane, the free energy including elastic bulk material and dissipative plane with damage $\\omega_{N}$ and plastic strain $\\varepsilon_N^p$ can be written as"
   ]
  },
  {
   "cell_type": "markdown",
   "id": "2013463e-e924-4000-aca1-beebc6695949",
   "metadata": {},
   "source": [
    "$$\n",
    "\\newcommand{\\sd}[3]{   {#1}_{#2}^{\\mathrm{#3}}\n",
    "}\n",
    "\\rho \\sd{\\psi}{N}{}\n",
    "= \\frac{1}{2} D_{abcd} \\varepsilon_{ab} \\varepsilon_{cd}\n",
    "-\n",
    " \\frac{1}{2} D_{abcd} \\varepsilon_{N_{ab}} \\varepsilon_{N_{cd}}\n",
    "+\n",
    " \\frac{1}{2} (1- \\omega_N) D_{abcd} \\, n_a n_b (n_e n_f \\varepsilon_{ef} - \\varepsilon^\\mathrm{p}_N) \\, n_c n_d ( n_g n_h \\varepsilon_{gh} - \\varepsilon^\\mathrm{p}_N)\n",
    "$$"
   ]
  },
  {
   "cell_type": "markdown",
   "id": "7cc57e0d-6b7c-46fc-8e85-948ba3c67e50",
   "metadata": {},
   "source": [
    "The macroscopic strain is then obtained as"
   ]
  },
  {
   "cell_type": "markdown",
   "id": "6e598da6-2173-4418-a698-4b4a85c7cc0a",
   "metadata": {},
   "source": [
    "\\begin{align}\n",
    " \\sigma_{ab} &= \\frac{\\partial \\rho \\psi_N}{\\partial \\varepsilon_{ab}} \\\\\n",
    "  &=\n",
    "  D_{abcd} \\varepsilon_{cd} - D_{abcd} n_a n_b n_e n_f n_c n_d n_g n_h \\varepsilon_{gh} \n",
    "  +\n",
    "  (1-\\omega_N) D_{abcd} n_a n_b n_e n_f n_c n_d (n_g n_h \\varepsilon_{gh} - \\varepsilon^\\mathrm{p}_N)\n",
    "\\end{align}"
   ]
  },
  {
   "cell_type": "markdown",
   "id": "5300a71a-20ab-4509-8395-440aae5c467f",
   "metadata": {},
   "source": [
    "**Remark - elastic case:** By setting $\\omega_N = 0$ and $\\varepsilon^\\mathrm{p}_N = 0$, the elastic matrix $D_{abcd}$ is recovered."
   ]
  },
  {
   "cell_type": "markdown",
   "id": "7c80935b-f92b-4836-b055-556b97181481",
   "metadata": {},
   "source": [
    "**Remark - damage in N direction:** By setting $\\varepsilon^\\mathrm{p}_N = 0$, the damage variable is introduced in the direction $N$ normal to the plane $n_a$. The damage tensor $\\beta_{abef}$ can be derived by setting\n",
    "\\begin{align}\n",
    " \\beta_{abef} = I_{abef} - \\phi n_a n_b n_e n_f\n",
    "\\end{align}\n",
    "where $\\phi = \\sqrt{1 - \\omega}$. Then, the effective damage stiffness can be expressed as \n",
    "$$\n",
    "  D^{\\omega}_{abcd} = \\beta_{abef} D_{efgh} \\beta_{cdgh}\n",
    "$$"
   ]
  },
  {
   "cell_type": "markdown",
   "id": "bd2c9ed9-9c48-4676-8318-c671d26e347e",
   "metadata": {},
   "source": [
    "**Remark - thermodynamic forces:** The corresponding thermodynamic forces $\\sigma^\\mathrm{p}_{cd}$ and energy release rate $Y_N$"
   ]
  },
  {
   "cell_type": "markdown",
   "id": "af808c68-16ea-40a7-9bdb-a1b0e5db65af",
   "metadata": {},
   "source": [
    "$$\n",
    "  \\sigma^\\mathrm{p}_{N} = \\frac{\\partial \\rho \\psi_N}{\\partial \\varepsilon_N^\\mathrm{p}} =  (1 - \\omega_N) D_{abcd} n_a n_b n_c n_d \\varepsilon^\\mathrm{p}_N \\\\\n",
    "  Y_N = -\\frac{\\partial \\rho \\psi_N}{\\partial \\omega} = \\frac{1}{2} D_{abcd} n_a n_b (n_e n_f \\varepsilon_{ef} - \\varepsilon_N^\\mathrm{p})\n",
    "  n_c n_d ( n_g n_h \\varepsilon_{gh} - \\varepsilon^\\mathrm{p}_N)\n",
    "$$"
   ]
  },
  {
   "cell_type": "markdown",
   "id": "a9c0fae2-06df-474e-b2c8-f6b9474e3280",
   "metadata": {},
   "source": [
    "**Questions:** \n",
    " - How does the above derivation relate to spectral decomposition?\n",
    " - Is there any relation to orientation distribution functions (ODF)?\n",
    " - Is spurious energy dissipation excluded?\n",
    " - What are the properties of the secant material tensor? Which symmetries are lost? Is this admissible? \n",
    " - It is usual to ascribe dissipative effects to tensor invariant, e.g. J2 plasticity. In analogy to the above\n",
    "   one could define reversible part of free energy as the difference between the full strain tensor $\\varepsilon_{ab}$\n",
    "   and subtracting the free energy associated with the deviatoric part of strain tensor. Then, the dissipative term would be\n",
    "   added again acting upon the deviatoric part of the strain tensor.\n",
    " - How to inject several dissipative planes/mechanisms? Do they have to be orthogonal? Is the assumption  \n",
    "   for such a procedure spectral decomposition / irreducible stiffness representation (ODF)?"
   ]
  },
  {
   "cell_type": "markdown",
   "id": "b1f12b7d-cb1b-4c55-9a29-cd8e54bac495",
   "metadata": {},
   "source": [
    "## Tangential strain and stress "
   ]
  },
  {
   "cell_type": "markdown",
   "id": "56eed783-cc7b-4f42-a547-a36126cfd449",
   "metadata": {},
   "source": [
    "\\begin{align}\n",
    "  \\varepsilon_{T_a} &= \\varepsilon_{ab} n_b \n",
    "  - n_a \\varepsilon_N = \\frac{1}{2} \n",
    "  (\\varepsilon_{ab} n_b + \\varepsilon_{ba} n_b)\n",
    "  - n_a n_b n_c \\varepsilon_{bc}\\\\\n",
    "  &= \\frac{1}{2}\\left[\n",
    "     n_b \\delta_{ca} + n_c \\delta_{ba}\n",
    "     - 2 n_b n_c n_a\n",
    "  \\right] \\varepsilon_{bc}\n",
    "\\end{align}"
   ]
  },
  {
   "cell_type": "markdown",
   "id": "12350bf4-38f8-4ec9-a697-72f923860970",
   "metadata": {},
   "source": [
    "$$\n",
    "\\sigma_{T_{ab}} \\delta \\varepsilon_{ab}\n",
    "=\n",
    "\\sigma_{T_a} \\delta \\varepsilon_{T_a}\n",
    "$$"
   ]
  },
  {
   "cell_type": "markdown",
   "id": "68640fe2-1a1f-4189-88ed-f0a6a9ed9669",
   "metadata": {},
   "source": [
    "$$\n",
    "  \\sigma_{T_{ab}} = \\sigma_{T_a} \\frac{1}{2} \\left[\n",
    "    n_b \\delta_{ca} + n_c \\delta_{ba}\n",
    "  \\right]\n",
    "$$"
   ]
  },
  {
   "cell_type": "markdown",
   "id": "a3e906fe-dd5f-49ae-9723-970e477b49be",
   "metadata": {},
   "source": [
    "Analogical steps to the above derivation are possible."
   ]
  },
  {
   "cell_type": "code",
   "execution_count": 2,
   "id": "d261f254-4e1e-4c0d-85c8-5be49a2f8244",
   "metadata": {},
   "outputs": [
    {
     "data": {
      "text/plain": [
       "array([0.99503719, 0.09950372, 0.        ])"
      ]
     },
     "execution_count": 2,
     "metadata": {},
     "output_type": "execute_result"
    }
   ],
   "source": [
    "eps_ab = np.array([[0.1, 1, 1],\n",
    "                   [1, 0.8, 1],\n",
    "                   [1, 1, 0.3]\n",
    "                   ])\n",
    "v_a = np.array([1, .1, 0], np.float_)\n",
    "n_a = v_a / (np.sqrt(np.einsum('a,a', v_a, v_a)))\n",
    "n_a"
   ]
  },
  {
   "cell_type": "code",
   "execution_count": 3,
   "id": "0319c28f-5ef4-4b69-a613-17c01cdd889f",
   "metadata": {},
   "outputs": [
    {
     "data": {
      "text/plain": [
       "0.30495049504950505"
      ]
     },
     "execution_count": 3,
     "metadata": {},
     "output_type": "execute_result"
    }
   ],
   "source": [
    "eps_N = np.einsum('a,b,ab', n_a, n_a, eps_ab)\n",
    "eps_N"
   ]
  },
  {
   "cell_type": "code",
   "execution_count": 4,
   "id": "68353c5b-da05-43ea-8a11-cb3d0cb51611",
   "metadata": {},
   "outputs": [
    {
     "data": {
      "text/plain": [
       "array([[0.30193118, 0.03019312, 0.        ],\n",
       "       [0.03019312, 0.00301931, 0.        ],\n",
       "       [0.        , 0.        , 0.        ]])"
      ]
     },
     "execution_count": 4,
     "metadata": {},
     "output_type": "execute_result"
    }
   ],
   "source": [
    "eps_N_ab = np.einsum('a,b->ab', n_a, n_a) * eps_N\n",
    "eps_N_ab"
   ]
  },
  {
   "cell_type": "code",
   "execution_count": 5,
   "id": "398f844f-8da2-46c6-a04a-7c6bdde01ead",
   "metadata": {},
   "outputs": [
    {
     "data": {
      "text/plain": [
       "0.3049504950495053"
      ]
     },
     "execution_count": 5,
     "metadata": {},
     "output_type": "execute_result"
    }
   ],
   "source": [
    "eps_N2 = np.einsum('a,b,ab', n_a, n_a, eps_N_ab)\n",
    "eps_N2"
   ]
  },
  {
   "cell_type": "code",
   "execution_count": 6,
   "id": "206cd4ac-0c27-42f0-8d5e-23ae02bcf189",
   "metadata": {},
   "outputs": [
    {
     "data": {
      "text/plain": [
       "array([[-0.20193118,  0.96980688,  1.        ],\n",
       "       [ 0.96980688,  0.79698069,  1.        ],\n",
       "       [ 1.        ,  1.        ,  0.3       ]])"
      ]
     },
     "execution_count": 6,
     "metadata": {},
     "output_type": "execute_result"
    }
   ],
   "source": [
    "eps_ab - eps_N_ab"
   ]
  },
  {
   "cell_type": "code",
   "execution_count": 7,
   "id": "e70a32af-6e5e-421a-9346-74eea15c74c2",
   "metadata": {},
   "outputs": [],
   "source": [
    "delta_ab = np.identity(3)\n",
    "T_abc = 0.5 * (\n",
    "        np.einsum('a,bc -> abc', n_a, delta_ab) +\n",
    "        np.einsum('b,ac -> bac', n_a, delta_ab) - 2 *\n",
    "        np.einsum('a,b,c -> abc', n_a, n_a, n_a)\n",
    ")"
   ]
  },
  {
   "cell_type": "code",
   "execution_count": 8,
   "id": "bf510857-8498-4fde-a5a8-a112078ee329",
   "metadata": {},
   "outputs": [
    {
     "data": {
      "text/plain": [
       "array([-0.10442965,  1.04429646,  1.09454091])"
      ]
     },
     "execution_count": 8,
     "metadata": {},
     "output_type": "execute_result"
    }
   ],
   "source": [
    "np.einsum('abc,ab->c', T_abc, eps_ab)"
   ]
  },
  {
   "cell_type": "markdown",
   "id": "1c1f752f-2471-4005-be4a-8b203d167bce",
   "metadata": {},
   "source": [
    "$$\n",
    " \\sigma_{ab} = \\frac{\\partial \\rho \\psi_T}{ \\partial \\varepsilon_{cd} }\n",
    "$$"
   ]
  },
  {
   "cell_type": "markdown",
   "id": "24b38a4a-b24e-4ad2-8986-27a9c3c2e58a",
   "metadata": {},
   "source": [
    "$$\n",
    "\\sigma_{ab} = \n",
    " \\beta_{abcd}\n",
    " D_{cdef}\n",
    " \\beta_{efgh}\n",
    " (\\varepsilon_{gh} - \\varepsilon_{gh}^p)\n",
    "$$"
   ]
  },
  {
   "cell_type": "markdown",
   "id": "30764d13-d341-4a93-9179-78335f3dfa2a",
   "metadata": {},
   "source": [
    "$$\n",
    " \\rho \\psi_{n} = \\frac{1}{2} n_c n_d \\sigma_{cd}  n_a n_b \\varepsilon_{ab}\n",
    " = \\frac{1}{2} n_c n_d D_{cdef} \\varepsilon_{ef}  n_a n_b \\varepsilon_{ab}\n",
    "$$"
   ]
  },
  {
   "cell_type": "code",
   "execution_count": null,
   "id": "62ed64cb-64a6-4bcc-8c37-2d9ff95f320c",
   "metadata": {},
   "outputs": [],
   "source": []
  }
 ],
 "metadata": {
  "kernelspec": {
   "display_name": "bmcs_env",
   "language": "python",
   "name": "bmcs_env"
  },
  "language_info": {
   "codemirror_mode": {
    "name": "ipython",
    "version": 3
   },
   "file_extension": ".py",
   "mimetype": "text/x-python",
   "name": "python",
   "nbconvert_exporter": "python",
   "pygments_lexer": "ipython3",
   "version": "3.8.8"
  }
 },
 "nbformat": 4,
 "nbformat_minor": 5
}
