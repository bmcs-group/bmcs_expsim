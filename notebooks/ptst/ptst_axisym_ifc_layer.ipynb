{
 "cells": [
  {
   "cell_type": "markdown",
   "id": "c9b1a703-90dc-4390-9d8c-2455c3d5370b",
   "metadata": {},
   "source": [
    "# PTST with non-zero thickness ligament "
   ]
  },
  {
   "cell_type": "markdown",
   "id": "8bfda3c6-1558-4cea-b3a8-23d8ac1ed60d",
   "metadata": {},
   "source": [
    "To combine axi-symmetric stress state with the fatigue degradation ligament\n",
    "it is necessary to address the issue of correct representation of the uniform elastic\n",
    "state."
   ]
  },
  {
   "cell_type": "markdown",
   "id": "0dcaeb75-f228-4439-be8d-bf48489f491c",
   "metadata": {},
   "source": [
    "## Option #1 - application of slide for reduced strain state"
   ]
  },
  {
   "cell_type": "markdown",
   "id": "b18f43f8-fe0c-4314-9fc3-ea4ab707e7cd",
   "metadata": {},
   "source": [
    "To correctly reproduce the axisymmetric strain and stress state, consider the strain tensor\n",
    "projections\n",
    "$$\n",
    "  e_a = n_a \\varepsilon_{ab}\n",
    "$$\n",
    "Assuming that the axis of symmetry is aligned with $x$ axis,\n",
    "the normal to the interface is given as $n_a = [0, 1, 0]$. \n",
    "Thus, the normal and tangential strain components can be \n",
    "detached from the strain tensor by setting\n",
    "$$\n",
    "  e_N = \\delta_{Na} e_a, e_T = \\delta_{Ta} e_a\n",
    "$$\n",
    "where\n",
    "$$\n",
    "\\delta_{Na} = [0, 1, 0], \\;\n",
    "\\delta_{Ta} = \n",
    "\\left[\n",
    "\\begin{array}{lll}\n",
    " 0, & 1, & 0 \\\\\n",
    " 0, & 0, & 1\n",
    "\\end{array}\n",
    "\\right].\n",
    "$$\n",
    "\n",
    "$$\n",
    "  e_N = \\varepsilon_{11}, e_T = \\varepsilon_{10}.\n",
    "$$\n",
    "Note that the strain component $\\varepsilon_{00}$ is disregarded. Is it an acceptable assumption? The stress along the ligament is implicitly assumed zero."
   ]
  },
  {
   "cell_type": "markdown",
   "id": "251c7c11-2c30-417e-ac6b-b1450410c841",
   "metadata": {},
   "source": [
    "$$\n",
    "\\begin{array}{ccc}\n",
    " \\varepsilon_{00} &  \\varepsilon_{T} & 0 \\\\\n",
    " \\varepsilon_{T} &  \\varepsilon_{N} & 0 \\\\\n",
    " 0 &  0 & \\varepsilon_{\\theta}\n",
    "\\end{array}\n",
    "$$"
   ]
  },
  {
   "cell_type": "markdown",
   "id": "800c1100-43e2-40ba-933c-91d138bc22e1",
   "metadata": {},
   "source": [
    "$$\n",
    "\\begin{array}{ccc}\n",
    " \\sigma_{00} &  \\sigma_{T} & 0 \\\\\n",
    " \\sigma_{T} &  \\sigma_{N} & 0 \\\\\n",
    " 0 &  0 & \\sigma_{\\theta}\n",
    "\\end{array}\n",
    "$$"
   ]
  },
  {
   "cell_type": "markdown",
   "id": "b4faead5-3221-4cce-b0b5-2879f52be1f9",
   "metadata": {},
   "source": [
    "$$\n",
    "\\newcommand{\\sd}[3]{   {#1}_{\\mathrm{#2}}^{\\mathrm{#3}}\n",
    "}\n",
    "\\rho \\sd{\\psi}{T}{}\n",
    "(\\sd{\\boldsymbol{u}}{T}{}, \\sd{\\boldsymbol{u}}{T}{p}, \\sd{\\omega}{T}{}, z, \\boldsymbol{\\alpha}) \n",
    "=\\frac{1}{2} (1 - \\sd{\\omega}{T}{})  \\sd{E}{T}{} \\left[ (\\sd{\\boldsymbol{u}}{T}{} - \\sd{\\boldsymbol{u}}{T}{p})^T \\cdot (\\sd{\\boldsymbol{u}}{T}{} - \\sd{\\boldsymbol{u}}{T}{p}) \\right]  +  \\frac{1}{2} K z^2  + \\frac{1}{2} \\gamma \n",
    "(\\boldsymbol{\\alpha}^T \\cdot \\boldsymbol{\\alpha}),\n",
    "$$"
   ]
  },
  {
   "cell_type": "markdown",
   "id": "2013463e-e924-4000-aca1-beebc6695949",
   "metadata": {},
   "source": [
    "$$\n",
    "\\newcommand{\\sd}[3]{   {#1}_{\\mathrm{#2}}^{\\mathrm{#3}}\n",
    "}\n",
    "\\rho \\sd{\\psi}{T}{}\n",
    "(\\sd{\\boldsymbol{u}}{T}{}, \\sd{\\boldsymbol{u}}{T}{p}, \\sd{\\omega}{T}{}, z, \\boldsymbol{\\alpha}) \n",
    "= \\frac{1}{2} D_{abcd} \\varepsilon_{ab} \\varepsilon_{cd}\n",
    "-\n",
    " \\frac{1}{2} E_T (\\delta_{Ta}n_a \\varepsilon_{ab}) (\\delta_{Tc}n_c \\varepsilon_{cd})\n",
    "+\n",
    " \\frac{1}{2} (1- \\omega_T) E_T (\\delta_{Ta}n_a (\\varepsilon_{ab} - n_a n_b \\varepsilon^p_T)) (\\delta_{Tc}n_c \\varepsilon_{cd} - \\varepsilon^p_T)\n",
    "$$"
   ]
  },
  {
   "cell_type": "markdown",
   "id": "39aee887-9627-4083-9f56-4f8bdcb9c0f7",
   "metadata": {},
   "source": [
    "$$\n",
    "\\newcommand{\\sd}[3]{   {#1}_{\\mathrm{#2}}^{\\mathrm{#3}}\n",
    "}\n",
    "\\rho \\sd{\\psi}{T}{}\n",
    "(\\sd{\\boldsymbol{u}}{T}{}, \\sd{\\boldsymbol{u}}{T}{p}, \\sd{\\omega}{T}{}, z, \\boldsymbol{\\alpha}) \n",
    "= \\frac{1}{2} D_{abcd} \\varepsilon_{ab} \\varepsilon_{cd}\n",
    "-\n",
    " \\frac{1}{2} D_{abcd} (\\delta_{Ta}n_a \\varepsilon_{ab}) (\\delta_{Tc}n_c \\varepsilon_{cd})\n",
    "+\n",
    " \\frac{1}{2} (1- \\omega_T) D_{abcd} (\\delta_{Ta}n_a \\varepsilon_{ab} - n_a n_b \\varepsilon^p_T) (\\delta_{Tc}n_c \\varepsilon_{cd} - n_a n_b \\varepsilon^p_T) )\n",
    "$$"
   ]
  },
  {
   "cell_type": "markdown",
   "id": "1c1f752f-2471-4005-be4a-8b203d167bce",
   "metadata": {},
   "source": [
    "$$\n",
    " \\sigma_{ab} = \\frac{\\partial \\rho \\psi_T}{ \\partial \\varepsilon_{cd} }\n",
    "$$"
   ]
  },
  {
   "cell_type": "markdown",
   "id": "24b38a4a-b24e-4ad2-8986-27a9c3c2e58a",
   "metadata": {},
   "source": [
    "$$\n",
    "\\sigma_{ab} = \n",
    " \\beta_{abcd}\n",
    " D_{cdef}\n",
    " \\beta_{efgh}\n",
    " (\\varepsilon_{gh} - \\varepsilon_{gh}^p)\n",
    "$$"
   ]
  },
  {
   "cell_type": "code",
   "execution_count": 15,
   "id": "169a6263-b1c1-4bd4-a3db-75a2cba5ada2",
   "metadata": {},
   "outputs": [],
   "source": [
    "%matplotlib widget\n",
    "import time\n",
    "from bmcs_expsim.utils.mlab_decorators import decorate_figure\n",
    "from mayavi import mlab\n",
    "import numpy as np\n",
    "np.seterr(divide='ignore', invalid='ignore') \n",
    "import warnings\n",
    "import matplotlib.pylab as plt\n",
    "import numpy as np\n",
    "from ibvpy.api import TStepBC , TFCyclicNonsymmetricConstant, TFBilinear\n",
    "from ibvpy.bcond import BCSlice, BCDof\n",
    "from ibvpy.xmodel.xdomain_fe_grid_axisym import XDomainFEGridAxiSym\n",
    "from ibvpy.xmodel.xdomain_fe_grid import XDomainFEGrid\n",
    "from ibvpy.xmodel.xdomain_interface import XDomainFEInterface\n",
    "from ibvpy.fets import FETS2D4Q\n",
    "from ibvpy.fets.fets1D5 import FETS1D52ULRH\n",
    "from ibvpy.tmodel.viz3d_scalar_field import \\\n",
    "    Vis3DStateField, Viz3DScalarField\n",
    "from ibvpy.tmodel.viz3d_tensor_field import \\\n",
    "    Vis3DTensorField, Viz3DTensorField\n",
    "from bmcs_matmod.slide.vslide_34_TN_axisym import Slide34\n",
    "from ibvpy.tmodel.mats3D.mats3D_elastic.vmats3D_elastic import \\\n",
    "    MATS3DElastic\n",
    "from ibvpy.tmodel.mats2D.mats2D_elastic.vmats2D_elastic import \\\n",
    "    MATS2DElastic"
   ]
  },
  {
   "cell_type": "code",
   "execution_count": 42,
   "id": "fe798f3c-ab73-4710-a2ad-53792e0702a5",
   "metadata": {},
   "outputs": [],
   "source": [
    "n_y_e = 1\n",
    "n_inner_x_e = 1\n",
    "n_outer_x_e = 1\n",
    "L_x = 1.0\n",
    "P = 1.0\n",
    "R_in = P / (2 * np.pi) \n",
    "R_out = 2 * R_in\n",
    "xd_lower = XDomainFEGridAxiSym(integ_factor = 2 * np.pi,\n",
    "                         coord_min=(0, 0),\n",
    "                          coord_max=(L_x, R_in),\n",
    "                          shape=(n_y_e, n_inner_x_e),\n",
    "                          fets=FETS2D4Q())\n",
    "xd_upper = XDomainFEGridAxiSym(integ_factor = 2 * np.pi,\n",
    "                         coord_min=(0, R_in),\n",
    "                          coord_max=(L_x, R_out),\n",
    "                          shape=(n_y_e, n_outer_x_e),\n",
    "                          fets=FETS2D4Q())\n",
    "m1 = MATS3DElastic(E=37000, nu=0.18)\n",
    "m2 = MATS3DElastic(E=37000, nu=0.18)\n",
    "\n",
    "xd12 = XDomainFEInterface(\n",
    "    integ_factor =  2 * np.pi * R_in,\n",
    "    I=xd_lower.mesh.I[:, -1],\n",
    "    J=xd_upper.mesh.I[:, 0],\n",
    "    fets=FETS1D52ULRH()\n",
    ")"
   ]
  },
  {
   "cell_type": "code",
   "execution_count": 63,
   "id": "05cb70cf-3ae4-4647-8bbf-c84a83b3a63d",
   "metadata": {},
   "outputs": [],
   "source": [
    "material_params =  dict(\n",
    "     E_T=1, gamma_T=500, K_T=0, S_T=0.5, c_T=6, bartau=3, \n",
    "     E_N=1, S_N=0.5, c_N=3, m=0.05, f_t=2, f_c=60, f_c0=40, eta=0.)\n",
    "bond_m = Slide34(**material_params)"
   ]
  },
  {
   "cell_type": "code",
   "execution_count": 64,
   "id": "90ebaae6-2e38-42f5-9d7b-d47df966ff85",
   "metadata": {},
   "outputs": [],
   "source": [
    "m = TStepBC(\n",
    "    domains=[(xd_lower, m1),\n",
    "             (xd_upper, m2),\n",
    "             (xd12, bond_m),\n",
    "             ]\n",
    ")"
   ]
  },
  {
   "cell_type": "code",
   "execution_count": 65,
   "id": "ec567687-f5fb-4fff-bd12-60d705658ea4",
   "metadata": {},
   "outputs": [],
   "source": [
    "lower_fixed_1 = BCSlice(slice=xd_lower.mesh[:, 0, :, 0], var='u', dims=[1], value=0)\n",
    "lower_fixed_0 = BCSlice(slice=xd_lower.mesh[0, 0, 0, 0], var='u', dims=[0], value=0)\n",
    "\n",
    "upper_compression_slice = BCSlice(slice=xd_upper.mesh[:, -1, :, -1],\n",
    "         var='u', dims=[1], value=0.00001)\n",
    "\n",
    "compression_dofs = upper_compression_slice.dofs\n",
    "compression = -1 / len(compression_dofs)\n",
    "upper_compression_force_first = [BCDof(var='f', dof=dof, value = compression) \n",
    "             for dof in compression_dofs ]\n",
    "bc1 = [lower_fixed_0, lower_fixed_1] + upper_compression_force_first"
   ]
  },
  {
   "cell_type": "code",
   "execution_count": 66,
   "id": "87c7b7c7-a271-4252-8bcf-f23c4f84a897",
   "metadata": {},
   "outputs": [],
   "source": [
    "m.bc=bc1\n",
    "m.hist.vis_record = {\n",
    "#    'strain': Vis3DTensorField(var='eps_ab'),\n",
    "    'stress': Vis3DTensorField(var='sig_ab'),\n",
    "    #        'kinematic hardening': Vis3DStateField(var='z_a')\n",
    "}\n",
    "\n",
    "s = m.sim\n",
    "s.tloop.verbose = True\n",
    "s.tloop.k_max = 1000\n",
    "s.tline.step = 0.1"
   ]
  },
  {
   "cell_type": "code",
   "execution_count": 67,
   "id": "65dbc647-674c-4247-9b4a-b1df383f3d92",
   "metadata": {},
   "outputs": [
    {
     "name": "stdout",
     "output_type": "stream",
     "text": [
      "t:\t 0.00(0), \n",
      "\t 0.10(1), \n",
      "\t 0.20(1), \n",
      "\t 0.30(1), \n",
      "\t 0.40(1), \n",
      "\t 0.50(1), \n",
      "\t 0.60(1), \n",
      "\t 0.70(1), \n",
      "\t 0.80(1), \n",
      "\t 0.90(1), \n",
      "\t 1.00(1), \n",
      "\n"
     ]
    }
   ],
   "source": [
    "xd12.hidden = True\n",
    "s.reset()\n",
    "s.run()"
   ]
  },
  {
   "cell_type": "code",
   "execution_count": 68,
   "id": "eb590261-5b02-43a7-9330-c0d77eaef7ba",
   "metadata": {},
   "outputs": [],
   "source": [
    "if True:\n",
    "    mlab.options.backend = 'envisage'\n",
    "    mlab.options.offscreen = False # 'envisage'\n",
    "    f_strain = mlab.figure()\n",
    "    scene = mlab.get_engine().scenes[-1]\n",
    "    scene.name = 'stress'\n",
    "    strain_viz = Viz3DTensorField(vis3d=m.hist['stress'])\n",
    "    strain_viz.setup()\n",
    "    strain_viz.warp_vector.filter.scale_factor = 0.1\n",
    "    strain_viz.plot(s.tstep.t_n)\n",
    "    mlab.show()"
   ]
  },
  {
   "cell_type": "code",
   "execution_count": null,
   "id": "1cc34126-dd74-48e1-9e8c-cdffce9273ac",
   "metadata": {},
   "outputs": [],
   "source": []
  }
 ],
 "metadata": {
  "kernelspec": {
   "display_name": "bmcs_env",
   "language": "python",
   "name": "bmcs_env"
  },
  "language_info": {
   "codemirror_mode": {
    "name": "ipython",
    "version": 3
   },
   "file_extension": ".py",
   "mimetype": "text/x-python",
   "name": "python",
   "nbconvert_exporter": "python",
   "pygments_lexer": "ipython3",
   "version": "3.8.8"
  }
 },
 "nbformat": 4,
 "nbformat_minor": 5
}
