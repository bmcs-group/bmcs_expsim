{
 "cells": [
  {
   "cell_type": "markdown",
   "id": "4faf2840",
   "metadata": {},
   "source": [
    "# Axisym PTST with unit ligament area"
   ]
  },
  {
   "cell_type": "code",
   "execution_count": 89,
   "id": "5453e041-98d8-4951-923c-b64809a003dd",
   "metadata": {},
   "outputs": [],
   "source": [
    "%matplotlib widget\n",
    "import time\n",
    "from bmcs_expsim.utils.mlab_decorators import decorate_figure\n",
    "from mayavi import mlab\n",
    "import numpy as np\n",
    "np.seterr(divide='ignore', invalid='ignore') \n",
    "import warnings\n",
    "import matplotlib.pylab as plt\n",
    "import numpy as np\n",
    "from ibvpy.api import TStepBC , TFCyclicNonsymmetricConstant, TFBilinear\n",
    "from ibvpy.bcond import BCSlice, BCDof\n",
    "from ibvpy.xmodel.xdomain_fe_grid_axisym import XDomainFEGridAxiSym\n",
    "from ibvpy.xmodel.xdomain_interface import XDomainFEInterface\n",
    "from ibvpy.fets import FETS2D4Q\n",
    "from ibvpy.fets.fets1D5 import FETS1D52ULRH\n",
    "from ibvpy.tmodel.viz3d_scalar_field import \\\n",
    "    Vis3DStateField, Viz3DScalarField\n",
    "from ibvpy.tmodel.viz3d_tensor_field import \\\n",
    "    Vis3DTensorField, Viz3DTensorField\n",
    "from bmcs_matmod.slide.vslide_34_TN_axisym import Slide34\n",
    "from ibvpy.tmodel.mats3D.mats3D_elastic.vmats3D_elastic import \\\n",
    "    MATS3DElastic"
   ]
  },
  {
   "cell_type": "markdown",
   "id": "e1a47727-8111-47b1-9e97-a67e78173a61",
   "metadata": {},
   "source": [
    "# FE axisymmetric discretization - Applying lateral compression/tension"
   ]
  },
  {
   "cell_type": "markdown",
   "id": "2b27c18e-808a-446a-8e6f-2134798e1c0b",
   "metadata": {},
   "source": [
    "## Area of the section = 1, load = 1"
   ]
  },
  {
   "cell_type": "markdown",
   "id": "45e51170-9696-4403-b6f1-e85b39c23962",
   "metadata": {},
   "source": [
    "Expected $\\sigma_{x} =  \\frac{Load}{Area} =  \\frac{Load}{1} = Load$ \n",
    "Expected $u_x = \\frac{\\sigma_{x}}{E} = \\frac{Load}{10000} = Load 1e^{-4}$ "
   ]
  },
  {
   "cell_type": "code",
   "execution_count": 153,
   "id": "8f58394b-64af-41e7-a0b0-157218bb6a66",
   "metadata": {
    "scrolled": true,
    "tags": []
   },
   "outputs": [],
   "source": [
    "n_y_e = 1\n",
    "n_inner_x_e = 1\n",
    "n_outer_x_e = 1\n",
    "L_x = 1.0\n",
    "P = 1.0\n",
    "R_in = P / (2 * np.pi) \n",
    "R_out = 2 * R_in\n",
    "xd_lower = XDomainFEGridAxiSym(coord_min=(0, 0),\n",
    "                          coord_max=(L_x, R_in),\n",
    "                          shape=(n_y_e, n_inner_x_e),\n",
    "                          integ_factor=2 * np.pi,\n",
    "                          fets=FETS2D4Q())\n",
    "xd_upper = XDomainFEGridAxiSym(coord_min=(0, R_in),\n",
    "                          coord_max=(L_x, R_out),\n",
    "                          shape=(n_y_e, n_outer_x_e),\n",
    "                          integ_factor=2 * np.pi,\n",
    "                          fets=FETS2D4Q())\n",
    "m1 = MATS3DElastic(E=10000, nu=0.3)\n",
    "m2 = MATS3DElastic(E=10000, nu=0.3)\n",
    "\n",
    "xd12 = XDomainFEInterface(\n",
    "    integ_factor = 2 * np.pi * R_in,\n",
    "    I=xd_lower.mesh.I[:, -1],\n",
    "    J=xd_upper.mesh.I[:, 0],\n",
    "    fets=FETS1D52ULRH()\n",
    ")"
   ]
  },
  {
   "cell_type": "code",
   "execution_count": 154,
   "id": "8219b3ef-adbe-4103-8acf-ec929d00bab3",
   "metadata": {},
   "outputs": [],
   "source": [
    "material_params =  dict(\n",
    "     E_T=10000, gamma_T=500, K_T=0, S_T=0.5, c_T=6, bartau=3, \n",
    "     E_N=10000, S_N=0.05, c_N = 3, m = 0., f_t=2, f_c=60, f_c0 = 40, eta=0.)\n",
    "bond_m = Slide34(**material_params)"
   ]
  },
  {
   "cell_type": "code",
   "execution_count": 155,
   "id": "ecc6f34c-8453-4aca-8ed9-0badaa04c140",
   "metadata": {},
   "outputs": [],
   "source": [
    "m = TStepBC(\n",
    "    domains=[(xd_lower, m1),\n",
    "             (xd_upper, m2),\n",
    "             (xd12, bond_m),\n",
    "             ]\n",
    ")"
   ]
  },
  {
   "cell_type": "code",
   "execution_count": 156,
   "id": "6c6721de-f287-483b-818b-ab4f97f35fb6",
   "metadata": {},
   "outputs": [],
   "source": [
    "lower_fixed_1 = BCSlice(slice=xd_lower.mesh[:, 0, :, 0], var='u', dims=[1], value=0)\n",
    "lower_fixed_0 = BCSlice(slice=xd_lower.mesh[0, 0, 0, 0], var='u', dims=[0], value=0)\n",
    "\n",
    "upper_compression_slice = BCSlice(slice=xd_upper.mesh[:, -1, :, -1],\n",
    "         var='u', dims=[1], value=-0.1)\n",
    "compression_dofs = upper_compression_slice.dofs\n",
    "compression = 100 / len(compression_dofs)\n",
    "upper_compression_force_first = [BCDof(var='f', dof=dof, value = compression) \n",
    "             for dof in compression_dofs ]\n",
    "\n",
    "bc1 =  upper_compression_force_first + [lower_fixed_0, lower_fixed_1]"
   ]
  },
  {
   "cell_type": "code",
   "execution_count": 157,
   "id": "063a8d0b-df81-417a-b13d-bdcdc8ef58b1",
   "metadata": {
    "tags": []
   },
   "outputs": [
    {
     "data": {
      "text/plain": [
       "[<ibvpy.sim.domain_state.DomainState at 0x20d04d34540>,\n",
       " <ibvpy.sim.domain_state.DomainState at 0x20d04d6e130>,\n",
       " <ibvpy.sim.domain_state.DomainState at 0x20d04d6e090>]"
      ]
     },
     "execution_count": 157,
     "metadata": {},
     "output_type": "execute_result"
    }
   ],
   "source": [
    "m.bc=bc1\n",
    "\n",
    "m.hist.vis_record = {\n",
    "#    'strain': Vis3DTensorField(var='eps_ab'),\n",
    "    'stress': Vis3DTensorField(var='sig_ab'),\n",
    "    #        'kinematic hardening': Vis3DStateField(var='z_a')\n",
    "}\n",
    "\n",
    "s = m.sim\n",
    "s.tloop.verbose = True\n",
    "s.tloop.k_max = 1000\n",
    "s.tline.step = 0.1\n",
    "s.tstep.fe_domain.serialized_subdomains"
   ]
  },
  {
   "cell_type": "code",
   "execution_count": 158,
   "id": "3ba96541-e035-4a81-96b3-2e796469eeaf",
   "metadata": {},
   "outputs": [],
   "source": [
    "#bond_m.interact()"
   ]
  },
  {
   "cell_type": "code",
   "execution_count": 159,
   "id": "b60f4577-e837-4d6e-bbfc-1b1b5f80e690",
   "metadata": {
    "scrolled": true
   },
   "outputs": [
    {
     "name": "stdout",
     "output_type": "stream",
     "text": [
      "t:\t 0.00(0), \n",
      "\t 0.10(1), \n",
      "\t 0.20(1), \n",
      "\t 0.30(1), \n",
      "\t 0.40(1), \n",
      "\t 0.50(1), \n",
      "\t 0.60(1), \n",
      "\t 0.70(1), \n",
      "\t 0.80(1), \n",
      "\t 0.90(1), \n",
      "\t 1.00(1), \n",
      "\n"
     ]
    }
   ],
   "source": [
    "xd12.hidden = True\n",
    "s.reset()\n",
    "s.run()"
   ]
  },
  {
   "cell_type": "code",
   "execution_count": 160,
   "id": "733c2e2d-5a1e-4907-857b-c61c385ea386",
   "metadata": {},
   "outputs": [],
   "source": [
    "states_t = [states_t[2] for states_t in m.hist.state_vars]\n",
    "var_names = states_t[0].keys()\n",
    "EpsSig_t = {\n",
    "    var_name: np.array([ state_dict[var_name] for state_dict in states_t ]) \n",
    "    for var_name in var_names \n",
    "}\n",
    "u_pi_N = EpsSig_t['w_pi']\n",
    "u_pi_Tx = EpsSig_t['s_pi_x']\n",
    "sig_pi_N = EpsSig_t['sig_pi']\n",
    "sig_pi_Tx = EpsSig_t['tau_pi_x']\n",
    "sig_pi_Ty = EpsSig_t['tau_pi_y']\n",
    "omega_Nx = EpsSig_t['omega_N']\n",
    "omega_Tx = EpsSig_t['omega_T']\n",
    "x_m = xd12.x_Eia[:,:,0].flatten()"
   ]
  },
  {
   "cell_type": "code",
   "execution_count": 161,
   "id": "76bb7aed-25b5-4994-b8b3-341e6c6bcd20",
   "metadata": {},
   "outputs": [
    {
     "data": {
      "application/vnd.jupyter.widget-view+json": {
       "model_id": "113b53aeb7eb40e09e2648d93dafe2be",
       "version_major": 2,
       "version_minor": 0
      },
      "text/plain": [
       "Canvas(toolbar=Toolbar(toolitems=[('Home', 'Reset original view', 'home', 'home'), ('Back', 'Back to previous …"
      ]
     },
     "metadata": {},
     "output_type": "display_data"
    },
    {
     "data": {
      "text/plain": [
       "<matplotlib.legend.Legend at 0x20d05009970>"
      ]
     },
     "execution_count": 161,
     "metadata": {},
     "output_type": "execute_result"
    }
   ],
   "source": [
    "time = m.hist.t\n",
    "_, (ax1, ax2) = plt.subplots(1,2)\n",
    "ax1.plot(time, sig_pi_N[:,0,0].flatten(), label='sigma')\n",
    "ax1.plot(time, sig_pi_N[:,0,1].flatten(), label='sigma')\n",
    "ax1.set_xlabel('time')\n",
    "ax1.set_ylabel('normal stress')\n",
    "ax1.legend()\n",
    "\n",
    "ax2.plot(time, sig_pi_Tx[:,0,0].flatten(), color='red', label='tau')\n",
    "ax2.set_xlabel('time')\n",
    "ax2.set_ylabel('tangential stress')\n",
    "ax2.legend()"
   ]
  },
  {
   "cell_type": "code",
   "execution_count": 152,
   "id": "19ad08fd-312c-44f7-95e9-728a6ae2502a",
   "metadata": {},
   "outputs": [
    {
     "data": {
      "text/plain": [
       "52.53727159897743"
      ]
     },
     "execution_count": 152,
     "metadata": {},
     "output_type": "execute_result"
    }
   ],
   "source": [
    "max(sig_pi_N[:,0,0])"
   ]
  },
  {
   "cell_type": "code",
   "execution_count": 111,
   "id": "5d2bc6c5-f835-42a3-a57b-a62e0e57c58b",
   "metadata": {
    "tags": []
   },
   "outputs": [],
   "source": [
    "if True:\n",
    "    mlab.options.backend = 'envisage'\n",
    "    mlab.options.offscreen = False # 'envisage'\n",
    "    f_strain = mlab.figure()\n",
    "    scene = mlab.get_engine().scenes[-1]\n",
    "    scene.name = 'stress'\n",
    "    strain_viz = Viz3DTensorField(vis3d=m.hist['stress'])\n",
    "    strain_viz.setup()\n",
    "    strain_viz.warp_vector.filter.scale_factor = 0.1\n",
    "    strain_viz.plot(s.tstep.t_n)\n",
    "    mlab.show()"
   ]
  },
  {
   "cell_type": "markdown",
   "id": "7bc0f4a9-4bf9-4bd9-ae90-45d14f9d1017",
   "metadata": {},
   "source": [
    "# FE 2D discretization - Applying lateral compression/tension"
   ]
  },
  {
   "cell_type": "code",
   "execution_count": 1,
   "id": "354a9747-58a4-42b0-9df9-4e8172e5c596",
   "metadata": {},
   "outputs": [],
   "source": [
    "%matplotlib widget\n",
    "import time\n",
    "from bmcs_expsim.utils.mlab_decorators import decorate_figure\n",
    "from mayavi import mlab\n",
    "import numpy as np\n",
    "np.seterr(divide='ignore', invalid='ignore') \n",
    "import warnings\n",
    "import matplotlib.pylab as plt\n",
    "import numpy as np\n",
    "from ibvpy.api import TStepBC , TFCyclicNonsymmetricConstant, TFBilinear\n",
    "from ibvpy.bcond import BCSlice, BCDof\n",
    "from ibvpy.xmodel.xdomain_fe_grid_axisym import XDomainFEGridAxiSym\n",
    "from ibvpy.xmodel.xdomain_fe_grid import XDomainFEGrid\n",
    "from ibvpy.xmodel.xdomain_interface import XDomainFEInterface\n",
    "from ibvpy.fets import FETS2D4Q\n",
    "from ibvpy.fets.fets1D5 import FETS1D52ULRH\n",
    "from ibvpy.tmodel.viz3d_scalar_field import \\\n",
    "    Vis3DStateField, Viz3DScalarField\n",
    "from ibvpy.tmodel.viz3d_tensor_field import \\\n",
    "    Vis3DTensorField, Viz3DTensorField\n",
    "from bmcs_matmod.slide.vslide_34_TN_axisym import Slide34\n",
    "from ibvpy.tmodel.mats3D.mats3D_elastic.vmats3D_elastic import \\\n",
    "    MATS3DElastic\n",
    "from ibvpy.tmodel.mats2D.mats2D_elastic.vmats2D_elastic import \\\n",
    "    MATS2DElastic"
   ]
  },
  {
   "cell_type": "code",
   "execution_count": 190,
   "id": "b1e73a36-a1c4-4af9-b24c-9369ffb750e2",
   "metadata": {
    "scrolled": true,
    "tags": []
   },
   "outputs": [],
   "source": [
    "n_y_e = 1\n",
    "n_inner_x_e = 1\n",
    "n_outer_x_e = 1\n",
    "L_x = 1.0\n",
    "P = 1.0\n",
    "R_in = P / (2 * np.pi) \n",
    "R_out = 2 * R_in\n",
    "xd_lower = XDomainFEGrid(integ_factor = P,\n",
    "                         coord_min=(0, 0),\n",
    "                          coord_max=(L_x, R_in),\n",
    "                          shape=(n_y_e, n_inner_x_e),\n",
    "                          fets=FETS2D4Q())\n",
    "xd_upper = XDomainFEGrid(integ_factor = P,\n",
    "                         coord_min=(0, R_in),\n",
    "                          coord_max=(L_x, R_out),\n",
    "                          shape=(n_y_e, n_outer_x_e),\n",
    "                          fets=FETS2D4Q())\n",
    "m1 = MATS2DElastic(E=37000, nu=0.18)\n",
    "m2 = MATS2DElastic(E=37000, nu=0.18)\n",
    "\n",
    "xd12 = XDomainFEInterface(\n",
    "    integ_factor = P,\n",
    "    I=xd_lower.mesh.I[:, -1],\n",
    "    J=xd_upper.mesh.I[:, 0],\n",
    "    fets=FETS1D52ULRH()\n",
    ")"
   ]
  },
  {
   "cell_type": "code",
   "execution_count": 191,
   "id": "ed8c1091-f04b-4062-b487-da50fc060986",
   "metadata": {},
   "outputs": [],
   "source": [
    "material_params =  dict(\n",
    "     E_T=1000, gamma_T=500, K_T=0, S_T=0.5, c_T=1, bartau=3, \n",
    "     E_N=1000, S_N=0.00005, c_N = 3, m = 0., f_t=2, f_c=60, f_c0 = 40, eta=0.)\n",
    "bond_m = Slide34(**material_params)"
   ]
  },
  {
   "cell_type": "code",
   "execution_count": 192,
   "id": "c9f2d4b8-6585-4669-a9d5-5dd912004631",
   "metadata": {},
   "outputs": [],
   "source": [
    "# lower_fixed_1 = BCSlice(slice=xd_lower.mesh[:, 0, :, 0], var='u', dims=[1], value=0)\n",
    "# lower_fixed_0 = BCSlice(slice=xd_lower.mesh[0, 0, 0, 0], var='u', dims=[0], value=0)\n",
    "    \n",
    "# upper_compression_slice = BCSlice(slice=xd_upper.mesh[:, -1, :, -1],\n",
    "#          var='u', dims=[1], value=0)\n",
    "# compression_dofs = upper_compression_slice.dofs\n",
    "# compression = -100 / len(compression_dofs)\n",
    "# upper_compression_force_first = [BCDof(var='f', dof=dof, value = compression) \n",
    "#              for dof in compression_dofs ]\n",
    "# bc1 =  upper_compression_force_first + [lower_fixed_0, lower_fixed_1]"
   ]
  },
  {
   "cell_type": "code",
   "execution_count": 193,
   "id": "534fa221-e988-41dd-95f2-c7015e9478d6",
   "metadata": {},
   "outputs": [],
   "source": [
    "m = TStepBC(\n",
    "    domains=[(xd_lower, m1),\n",
    "             (xd_upper, m2),\n",
    "             (xd12, bond_m),\n",
    "             ]\n",
    ")"
   ]
  },
  {
   "cell_type": "code",
   "execution_count": 194,
   "id": "c5b1badf-88d7-4765-8e7c-938fac1abd51",
   "metadata": {},
   "outputs": [],
   "source": [
    "lower_fixed_1 = BCSlice(slice=xd_lower.mesh[:, 0, :, 0], var='u', dims=[1], value=0)\n",
    "lower_fixed_0 = BCSlice(slice=xd_lower.mesh[0, 0, 0, 0], var='u', dims=[0], value=0)\n",
    "\n",
    "upper_compression_slice = BCSlice(slice=xd_upper.mesh[:, -1, :, -1],\n",
    "         var='u', dims=[1], value=-0.1)\n",
    "compression_dofs = upper_compression_slice.dofs\n",
    "compression = 10 / len(compression_dofs)\n",
    "upper_compression_force_first = [BCDof(var='f', dof=dof, value = compression) \n",
    "             for dof in compression_dofs ]\n",
    "bc1 =  upper_compression_force_first + [lower_fixed_0, lower_fixed_1]"
   ]
  },
  {
   "cell_type": "code",
   "execution_count": 195,
   "id": "8e48a3e2-81be-495d-998b-dacff12b783a",
   "metadata": {},
   "outputs": [
    {
     "data": {
      "text/plain": [
       "array([11, 15])"
      ]
     },
     "execution_count": 195,
     "metadata": {},
     "output_type": "execute_result"
    }
   ],
   "source": [
    "upper_compression_slice.dofs"
   ]
  },
  {
   "cell_type": "code",
   "execution_count": 196,
   "id": "5a9f9a7d-7996-4d7e-b347-f53fe65865cd",
   "metadata": {
    "tags": []
   },
   "outputs": [
    {
     "data": {
      "text/plain": [
       "[<ibvpy.sim.domain_state.DomainState at 0x20d084e9040>,\n",
       " <ibvpy.sim.domain_state.DomainState at 0x20d084e9b30>,\n",
       " <ibvpy.sim.domain_state.DomainState at 0x20d084e9a40>]"
      ]
     },
     "execution_count": 196,
     "metadata": {},
     "output_type": "execute_result"
    }
   ],
   "source": [
    "m.bc=bc1\n",
    "m.hist.vis_record = {\n",
    "#    'strain': Vis3DTensorField(var='eps_ab'),\n",
    "    'stress': Vis3DTensorField(var='sig_ab'),\n",
    "    #        'kinematic hardening': Vis3DStateField(var='z_a')\n",
    "}\n",
    "\n",
    "s = m.sim\n",
    "s.tloop.verbose = True\n",
    "s.tloop.k_max = 1000\n",
    "s.tline.step = 0.1\n",
    "s.tstep.fe_domain.serialized_subdomains"
   ]
  },
  {
   "cell_type": "code",
   "execution_count": 197,
   "id": "90a66f9b-ce0d-4318-b5fe-c514304b873c",
   "metadata": {},
   "outputs": [],
   "source": [
    "#bond_m.interact()"
   ]
  },
  {
   "cell_type": "code",
   "execution_count": 198,
   "id": "20a6daa9-8b77-4353-9afe-c3448ea3cd76",
   "metadata": {
    "scrolled": true
   },
   "outputs": [
    {
     "name": "stdout",
     "output_type": "stream",
     "text": [
      "t:\t 0.00(0), \n",
      "\t 0.10(1), \n",
      "\t 0.20(1), \n",
      "\t 0.30(1), \n",
      "\t 0.40(1), \n",
      "\t 0.50(1), \n",
      "\t 0.60(1), \n",
      "\t 0.70(1), \n",
      "\t 0.80(1), \n",
      "\t 0.90(1), \n",
      "\t 1.00(1), \n",
      "\n"
     ]
    }
   ],
   "source": [
    "xd12.hidden = True\n",
    "s.reset()\n",
    "s.run()"
   ]
  },
  {
   "cell_type": "code",
   "execution_count": 199,
   "id": "1c4ab08f-af19-4c96-b110-bec6355150bb",
   "metadata": {},
   "outputs": [],
   "source": [
    "states_t = [states_t[2] for states_t in m.hist.state_vars]\n",
    "var_names = states_t[0].keys()\n",
    "EpsSig_t = {\n",
    "    var_name: np.array([ state_dict[var_name] for state_dict in states_t ]) \n",
    "    for var_name in var_names \n",
    "}\n",
    "u_pi_N = EpsSig_t['w_pi']\n",
    "u_pi_Tx = EpsSig_t['s_pi_x']\n",
    "sig_pi_N = EpsSig_t['sig_pi']\n",
    "sig_pi_Tx = EpsSig_t['tau_pi_x']\n",
    "sig_pi_Ty = EpsSig_t['tau_pi_y']\n",
    "omega_Nx = EpsSig_t['omega_N']\n",
    "omega_Tx = EpsSig_t['omega_T']\n",
    "x_m = xd12.x_Eia[:,:,0].flatten()"
   ]
  },
  {
   "cell_type": "code",
   "execution_count": 200,
   "id": "119b9d3e-f13b-498d-a0fa-b3a2b31d73c6",
   "metadata": {},
   "outputs": [
    {
     "data": {
      "text/plain": [
       "array([[[[ 2,  3],\n",
       "         [ 6,  7]],\n",
       "\n",
       "        [[ 8,  9],\n",
       "         [12, 13]]]])"
      ]
     },
     "execution_count": 200,
     "metadata": {},
     "output_type": "execute_result"
    }
   ],
   "source": [
    "xd12.o_Epia"
   ]
  },
  {
   "cell_type": "code",
   "execution_count": 201,
   "id": "2538f06d-5e0a-4684-b108-aeab02cd55b5",
   "metadata": {},
   "outputs": [
    {
     "data": {
      "text/plain": [
       "array([[[[-3.97576090e-20,  4.30148495e-05],\n",
       "         [-4.86486486e-05,  4.30148495e-05]],\n",
       "\n",
       "        [[-4.04734842e-18,  1.00430148e-02],\n",
       "         [-4.86486486e-05,  1.00430148e-02]]]])"
      ]
     },
     "execution_count": 201,
     "metadata": {},
     "output_type": "execute_result"
    }
   ],
   "source": [
    "U_last = m.hist.U_t[-1]\n",
    "U_last[xd12.o_Epia]"
   ]
  },
  {
   "cell_type": "code",
   "execution_count": 202,
   "id": "07890b3d-c8df-4378-952f-4d440ce20960",
   "metadata": {},
   "outputs": [
    {
     "data": {
      "text/plain": [
       "array([[[-4.00759081e-18,  1.00000000e-02],\n",
       "        [-3.78115508e-18,  1.00000000e-02]]])"
      ]
     },
     "execution_count": 202,
     "metadata": {},
     "output_type": "execute_result"
    }
   ],
   "source": [
    "xd12.map_U_to_field(U_last)"
   ]
  },
  {
   "cell_type": "code",
   "execution_count": 203,
   "id": "aba83a6a-e893-42dc-b8a5-85533b002f1d",
   "metadata": {},
   "outputs": [
    {
     "data": {
      "application/vnd.jupyter.widget-view+json": {
       "model_id": "11b9375ef8ca4030b7e9af3f11c8cc7b",
       "version_major": 2,
       "version_minor": 0
      },
      "text/plain": [
       "Canvas(toolbar=Toolbar(toolitems=[('Home', 'Reset original view', 'home', 'home'), ('Back', 'Back to previous …"
      ]
     },
     "metadata": {},
     "output_type": "display_data"
    },
    {
     "data": {
      "text/plain": [
       "<matplotlib.legend.Legend at 0x20d05bf4190>"
      ]
     },
     "execution_count": 203,
     "metadata": {},
     "output_type": "execute_result"
    }
   ],
   "source": [
    "time = m.hist.t\n",
    "f, (ax1, ax2, ax3, ax4) = plt.subplots(1,4)\n",
    "ax1.plot(time, sig_pi_N[:,0,0].flatten(), label='sigma')\n",
    "ax1.plot(time, sig_pi_N[:,0,1].flatten(), label='sigma')\n",
    "ax1.set_xlabel('time')\n",
    "ax1.set_ylabel('normal stress')\n",
    "ax1.legend()\n",
    "\n",
    "ax2.plot(time, sig_pi_Tx[:,0,0].flatten(), color='red', label='tau')\n",
    "ax2.set_xlabel('time')\n",
    "ax2.set_ylabel('tangential stress')\n",
    "ax2.legend()\n",
    "\n",
    "ax3.plot(time, omega_Nx[:,0,0].flatten(), color='red', label='normal damage')\n",
    "ax3.set_xlabel('time')\n",
    "ax3.set_ylabel('damage')\n",
    "ax3.legend()\n",
    "\n",
    "ax4.plot(time, u_pi_N[:,0,0].flatten(), color='red', label='opening')\n",
    "ax4.set_xlabel('time')\n",
    "ax4.set_ylabel('opening')\n",
    "ax4.legend()"
   ]
  },
  {
   "cell_type": "code",
   "execution_count": 88,
   "id": "07b069ec-46e8-4173-85da-0191e71772bb",
   "metadata": {},
   "outputs": [
    {
     "data": {
      "text/plain": [
       "(11, 1, 2)"
      ]
     },
     "execution_count": 88,
     "metadata": {},
     "output_type": "execute_result"
    }
   ],
   "source": [
    "sig_pi_N.shape"
   ]
  },
  {
   "cell_type": "code",
   "execution_count": 256,
   "id": "14b4c181-5fb5-489f-a806-4631cb8bd246",
   "metadata": {},
   "outputs": [],
   "source": [
    "if True:\n",
    "    mlab.options.backend = 'envisage'\n",
    "    mlab.options.offscreen = False # 'envisage'\n",
    "    f_strain = mlab.figure()\n",
    "    scene = mlab.get_engine().scenes[-1]\n",
    "    scene.name = 'stress'\n",
    "    strain_viz = Viz3DTensorField(vis3d=m.hist['stress'])\n",
    "    strain_viz.setup()\n",
    "    strain_viz.warp_vector.filter.scale_factor = 0.1\n",
    "    strain_viz.plot(s.tstep.t_n)\n",
    "    mlab.show()"
   ]
  },
  {
   "cell_type": "markdown",
   "id": "3c0e3974-0214-4586-a365-a60e0a3320af",
   "metadata": {},
   "source": [
    "# FE 2D discretization - Applying sliding dc"
   ]
  },
  {
   "cell_type": "code",
   "execution_count": 162,
   "id": "1fb45211-d4e3-4dd5-8dce-46f2a4356f97",
   "metadata": {
    "scrolled": true,
    "tags": []
   },
   "outputs": [],
   "source": [
    "n_y_e = 1\n",
    "n_inner_x_e = 1\n",
    "n_outer_x_e = 1\n",
    "L_x = 1.0\n",
    "P = 1.0\n",
    "R_in = P / (2 * np.pi) \n",
    "R_out = 2 * R_in\n",
    "xd_lower = XDomainFEGrid(integ_factor = P,\n",
    "                         coord_min=(0, 0),\n",
    "                          coord_max=(L_x, R_in),\n",
    "                          shape=(n_y_e, n_inner_x_e),\n",
    "                          fets=FETS2D4Q())\n",
    "xd_upper = XDomainFEGrid(integ_factor = P,\n",
    "                         coord_min=(0, R_in),\n",
    "                          coord_max=(L_x, R_out),\n",
    "                          shape=(n_y_e, n_outer_x_e),\n",
    "                          fets=FETS2D4Q())\n",
    "m1 = MATS2DElastic(E=37000, nu=0.18)\n",
    "m2 = MATS2DElastic(E=37000, nu=0.18)\n",
    "\n",
    "xd12 = XDomainFEInterface(\n",
    "    integ_factor = P,\n",
    "    I=xd_lower.mesh.I[:, -1],\n",
    "    J=xd_upper.mesh.I[:, 0],\n",
    "    fets=FETS1D52ULRH()\n",
    ")"
   ]
  },
  {
   "cell_type": "code",
   "execution_count": 163,
   "id": "662cc2e1-29e7-4c24-9b81-93ad701104a3",
   "metadata": {},
   "outputs": [],
   "source": [
    "material_params =  dict(\n",
    "     E_T=1000, gamma_T=500, K_T=0, S_T=0.5, c_T=1, bartau=3, \n",
    "     E_N=1000, S_N=0.00005, c_N = 3, m = 0., f_t=2, f_c=60, f_c0 = 40, eta=0.)\n",
    "bond_m = Slide34(**material_params)"
   ]
  },
  {
   "cell_type": "code",
   "execution_count": 164,
   "id": "67685d55-8b90-4e1b-9102-50b1bd481a09",
   "metadata": {},
   "outputs": [],
   "source": [
    "m = TStepBC(\n",
    "    domains=[(xd_lower, m1),\n",
    "             (xd_upper, m2),\n",
    "             (xd12, bond_m),\n",
    "             ]\n",
    ")"
   ]
  },
  {
   "cell_type": "code",
   "execution_count": 176,
   "id": "870d840c-552e-4a7a-936d-4b0823ecba78",
   "metadata": {},
   "outputs": [],
   "source": [
    "lower_fixed_1 = BCSlice(slice=xd_lower.mesh[:, 0, :, 0], var='u', dims=[1], value=0)\n",
    "lower_fixed_0 = BCSlice(slice=xd_lower.mesh[0, 0, 0, 0], var='u', dims=[0], value=0)\n",
    "upper_fixed_1 = BCSlice(slice=xd_upper.mesh[:, -1, :, -1], var='u', dims=[1], value=0)\n",
    "\n",
    "upper_slide_slice = BCSlice(slice=xd_upper.mesh[:, -1, :, -1],\n",
    "         var='u', dims=[0], value=1)\n",
    "\n",
    "bc1 =  [lower_fixed_0, lower_fixed_1,upper_fixed_1, upper_slide_slice]"
   ]
  },
  {
   "cell_type": "code",
   "execution_count": 177,
   "id": "b4a9417d-0eb5-4596-b9d4-9efefd75bb24",
   "metadata": {},
   "outputs": [
    {
     "data": {
      "text/plain": [
       "array([ 9, 13])"
      ]
     },
     "execution_count": 177,
     "metadata": {},
     "output_type": "execute_result"
    }
   ],
   "source": [
    "upper_compression_slice.dofs"
   ]
  },
  {
   "cell_type": "code",
   "execution_count": 178,
   "id": "16c39c8a-eef5-42bd-a2d6-428d83607279",
   "metadata": {},
   "outputs": [],
   "source": [
    "# lower_fixed_1 = BCSlice(slice=xd_lower.mesh[:, 0, :, 0], var='u', dims=[1], value=0)\n",
    "# lower_fixed_0 = BCSlice(slice=xd_lower.mesh[0, 0, 0, 0], var='u', dims=[0], value=0)\n",
    "    \n",
    "# upper_compression_slice = BCSlice(slice=xd_lower.mesh[:, -1, :, -1],\n",
    "#          var='u', dims=[1], value=0)\n",
    "# compression_dofs = upper_compression_slice.dofs\n",
    "# compression = -100 / len(compression_dofs)\n",
    "# upper_compression_force_first = [BCDof(var='f', dof=dof, value = compression) \n",
    "#              for dof in compression_dofs ]\n",
    "# bc1 =  upper_compression_force_first + [lower_fixed_0, lower_fixed_1]"
   ]
  },
  {
   "cell_type": "code",
   "execution_count": 179,
   "id": "79860760-7f1c-4275-a6d9-2cda16f1dd83",
   "metadata": {
    "tags": []
   },
   "outputs": [
    {
     "data": {
      "text/plain": [
       "[<ibvpy.sim.domain_state.DomainState at 0x20d05962630>,\n",
       " <ibvpy.sim.domain_state.DomainState at 0x20d0596a180>,\n",
       " <ibvpy.sim.domain_state.DomainState at 0x20d0596a090>]"
      ]
     },
     "execution_count": 179,
     "metadata": {},
     "output_type": "execute_result"
    }
   ],
   "source": [
    "m.bc=bc1\n",
    "m.hist.vis_record = {\n",
    "#    'strain': Vis3DTensorField(var='eps_ab'),\n",
    "    'stress': Vis3DTensorField(var='sig_ab'),\n",
    "    #        'kinematic hardening': Vis3DStateField(var='z_a')\n",
    "}\n",
    "\n",
    "s = m.sim\n",
    "s.tloop.verbose = True\n",
    "s.tloop.k_max = 1000\n",
    "s.tline.step = 0.1\n",
    "s.tstep.fe_domain.serialized_subdomains"
   ]
  },
  {
   "cell_type": "code",
   "execution_count": 180,
   "id": "96aaab11-7c4d-434f-8390-3bb1609b0292",
   "metadata": {},
   "outputs": [],
   "source": [
    "#bond_m.interact()"
   ]
  },
  {
   "cell_type": "code",
   "execution_count": 181,
   "id": "79bb5e8a-0896-4890-97a4-b238ba3c4e40",
   "metadata": {
    "scrolled": true
   },
   "outputs": [
    {
     "name": "stdout",
     "output_type": "stream",
     "text": [
      "t:\t 0.00(4), \n",
      "\t 0.10(8), \n",
      "\t 0.20(8), \n",
      "\t 0.30(7), \n",
      "\t 0.40(7), \n",
      "\t 0.50(7), \n",
      "\t 0.60(7), \n",
      "\t 0.70(7), \n",
      "\t 0.80(7), \n",
      "\t 0.90(7), \n",
      "\t 1.00(7), \n",
      "\n"
     ]
    }
   ],
   "source": [
    "xd12.hidden = True\n",
    "s.reset()\n",
    "s.run()"
   ]
  },
  {
   "cell_type": "code",
   "execution_count": 182,
   "id": "166a63eb-002f-4c5d-a348-35676c54266e",
   "metadata": {},
   "outputs": [],
   "source": [
    "states_t = [states_t[2] for states_t in m.hist.state_vars]\n",
    "var_names = states_t[0].keys()\n",
    "EpsSig_t = {\n",
    "    var_name: np.array([ state_dict[var_name] for state_dict in states_t ]) \n",
    "    for var_name in var_names \n",
    "}\n",
    "u_pi_N = EpsSig_t['w_pi']\n",
    "u_pi_Tx = EpsSig_t['s_pi_x']\n",
    "sig_pi_N = EpsSig_t['sig_pi']\n",
    "sig_pi_Tx = EpsSig_t['tau_pi_x']\n",
    "sig_pi_Ty = EpsSig_t['tau_pi_y']\n",
    "omega_Nx = EpsSig_t['omega_N']\n",
    "omega_Tx = EpsSig_t['omega_T']\n",
    "x_m = xd12.x_Eia[:,:,0].flatten()"
   ]
  },
  {
   "cell_type": "code",
   "execution_count": 183,
   "id": "9fd305e4-5dd9-4342-b901-a8a00fbf050a",
   "metadata": {},
   "outputs": [
    {
     "data": {
      "text/plain": [
       "array([[[[ 2,  3],\n",
       "         [ 6,  7]],\n",
       "\n",
       "        [[ 8,  9],\n",
       "         [12, 13]]]])"
      ]
     },
     "execution_count": 183,
     "metadata": {},
     "output_type": "execute_result"
    }
   ],
   "source": [
    "xd12.o_Epia"
   ]
  },
  {
   "cell_type": "code",
   "execution_count": 184,
   "id": "f94d83cf-c257-4f51-a540-0ed5e6d04af2",
   "metadata": {},
   "outputs": [
    {
     "data": {
      "text/plain": [
       "array([[[[ 6.06222552e-05, -1.10837616e-06],\n",
       "         [ 2.32834729e-04, -1.07183022e-05]],\n",
       "\n",
       "        [[ 9.99974402e-01,  4.78141545e-06],\n",
       "         [ 9.99974469e-01, -4.82850990e-06]]]])"
      ]
     },
     "execution_count": 184,
     "metadata": {},
     "output_type": "execute_result"
    }
   ],
   "source": [
    "U_last = m.hist.U_t[-1]\n",
    "U_last[xd12.o_Epia]"
   ]
  },
  {
   "cell_type": "code",
   "execution_count": 185,
   "id": "15005b1b-4070-45cc-91f4-71a47ce1650b",
   "metadata": {},
   "outputs": [
    {
     "data": {
      "text/plain": [
       "array([[[9.99913779e-01, 5.88979160e-06],\n",
       "        [9.99741634e-01, 5.88979234e-06]]])"
      ]
     },
     "execution_count": 185,
     "metadata": {},
     "output_type": "execute_result"
    }
   ],
   "source": [
    "xd12.map_U_to_field(U_last)"
   ]
  },
  {
   "cell_type": "code",
   "execution_count": 189,
   "id": "f59dc84e-6062-4792-9b35-82cb1682d095",
   "metadata": {},
   "outputs": [
    {
     "data": {
      "application/vnd.jupyter.widget-view+json": {
       "model_id": "27dd631ee59443c482fc8f3489376a43",
       "version_major": 2,
       "version_minor": 0
      },
      "text/plain": [
       "Canvas(toolbar=Toolbar(toolitems=[('Home', 'Reset original view', 'home', 'home'), ('Back', 'Back to previous …"
      ]
     },
     "metadata": {},
     "output_type": "display_data"
    },
    {
     "data": {
      "text/plain": [
       "<matplotlib.legend.Legend at 0x20d06810880>"
      ]
     },
     "execution_count": 189,
     "metadata": {},
     "output_type": "execute_result"
    }
   ],
   "source": [
    "time = m.hist.t\n",
    "f, (ax1, ax2, ax3, ax4) = plt.subplots(1,4)\n",
    "ax1.plot(time, sig_pi_N[:,0,0].flatten(), label='sigma')\n",
    "ax1.plot(time, sig_pi_N[:,0,1].flatten(), label='sigma')\n",
    "ax1.set_xlabel('time')\n",
    "ax1.set_ylabel('normal stress')\n",
    "ax1.legend()\n",
    "\n",
    "ax2.plot(time, sig_pi_Tx[:,0,0].flatten(), color='red', label='tau')\n",
    "ax2.set_xlabel('time')\n",
    "ax2.set_ylabel('tangential stress')\n",
    "ax2.legend()\n",
    "\n",
    "ax3.plot(time, omega_Tx[:,0,0].flatten(), color='red', label='tangential damage')\n",
    "ax3.set_xlabel('time')\n",
    "ax3.set_ylabel('damage')\n",
    "ax3.legend()\n",
    "\n",
    "ax4.plot(time, u_pi_N[:,0,0].flatten(), color='red', label='opening')\n",
    "ax4.set_xlabel('time')\n",
    "ax4.set_ylabel('opening')\n",
    "ax4.legend()"
   ]
  },
  {
   "cell_type": "code",
   "execution_count": 88,
   "id": "8900f4de-4b4e-4b84-95c4-0a5dd0f8e05b",
   "metadata": {},
   "outputs": [
    {
     "data": {
      "text/plain": [
       "(11, 1, 2)"
      ]
     },
     "execution_count": 88,
     "metadata": {},
     "output_type": "execute_result"
    }
   ],
   "source": [
    "sig_pi_N.shape"
   ]
  },
  {
   "cell_type": "code",
   "execution_count": 256,
   "id": "b4317a80-c605-4262-bc2e-5259795bddc7",
   "metadata": {},
   "outputs": [],
   "source": [
    "if True:\n",
    "    mlab.options.backend = 'envisage'\n",
    "    mlab.options.offscreen = False # 'envisage'\n",
    "    f_strain = mlab.figure()\n",
    "    scene = mlab.get_engine().scenes[-1]\n",
    "    scene.name = 'stress'\n",
    "    strain_viz = Viz3DTensorField(vis3d=m.hist['stress'])\n",
    "    strain_viz.setup()\n",
    "    strain_viz.warp_vector.filter.scale_factor = 0.1\n",
    "    strain_viz.plot(s.tstep.t_n)\n",
    "    mlab.show()"
   ]
  },
  {
   "cell_type": "code",
   "execution_count": null,
   "id": "cf672c71-ab38-4be8-b699-f2eda3a22548",
   "metadata": {},
   "outputs": [],
   "source": []
  }
 ],
 "metadata": {
  "kernelspec": {
   "display_name": "bmcs_env",
   "language": "python",
   "name": "bmcs_env"
  },
  "language_info": {
   "codemirror_mode": {
    "name": "ipython",
    "version": 3
   },
   "file_extension": ".py",
   "mimetype": "text/x-python",
   "name": "python",
   "nbconvert_exporter": "python",
   "pygments_lexer": "ipython3",
   "version": "3.9.7"
  },
  "toc": {
   "base_numbering": 1,
   "nav_menu": {},
   "number_sections": true,
   "sideBar": true,
   "skip_h1_title": false,
   "title_cell": "Table of Contents",
   "title_sidebar": "Contents",
   "toc_cell": false,
   "toc_position": {},
   "toc_section_display": true,
   "toc_window_display": false
  }
 },
 "nbformat": 4,
 "nbformat_minor": 5
}
