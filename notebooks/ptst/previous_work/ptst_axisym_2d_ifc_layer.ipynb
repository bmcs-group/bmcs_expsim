{
 "cells": [
  {
   "cell_type": "markdown",
   "id": "4faf2840",
   "metadata": {},
   "source": [
    "# PTST Idealization using axi-symmetric 2D interface layer"
   ]
  },
  {
   "cell_type": "markdown",
   "id": "5fa9f3d2-37c4-4ded-a75b-4a51d82b1e0a",
   "metadata": {},
   "source": [
    "## Purpose of the notebook"
   ]
  },
  {
   "cell_type": "markdown",
   "id": "1c7b4fa4-4629-4c9b-89fd-46473f5620f2",
   "metadata": {},
   "source": [
    "Verify the axi-symmetric model in an elastic state to ensure that the confinement is\n",
    "correctly reproduced. This notebook serves as a basis for 3D degradation within\n",
    "a ligament/bond zone in axi-symmetric models. Examples are\n",
    " - PTST\n",
    " - prestressing\n",
    " - confined bond configuration\n",
    " - effect of splitting cracks\n",
    " - restrained splitting cracks in fatigue tests"
   ]
  },
  {
   "cell_type": "markdown",
   "id": "c733ba8c-1083-4a87-8c81-51f87c068a87",
   "metadata": {},
   "source": [
    "## Implementation remarks"
   ]
  },
  {
   "cell_type": "markdown",
   "id": "89062103-111b-45eb-b4b8-4ee80b791faf",
   "metadata": {},
   "source": [
    "- The notebook now uses `BCSliceI` - to ensure the same order of nodes along an \n",
    "interfaces\n",
    "- Compression is applied using individual `BCDof` instances without integration \n",
    "  over the boundary. This should be changed to BCSliceE - which can use the \n",
    "  finite element shape functions to integrate over the element domain"
   ]
  },
  {
   "cell_type": "markdown",
   "id": "8dd970d9-dbab-45cb-9a7b-48b562f0667f",
   "metadata": {},
   "source": [
    " - check the correctness of the wrapper interface  "
   ]
  },
  {
   "cell_type": "code",
   "execution_count": null,
   "id": "4654789c-e875-4c8d-9759-1f40fd55d5b1",
   "metadata": {},
   "outputs": [],
   "source": [
    "%matplotlib widget\n",
    "import time\n",
    "from bmcs_expsim.utils.mlab_decorators import decorate_figure\n",
    "from mayavi import mlab\n",
    "import numpy as np\n",
    "np.seterr(divide='ignore', invalid='ignore') \n",
    "import warnings\n",
    "import matplotlib.pylab as plt\n",
    "import numpy as np\n",
    "from ibvpy.api import TStepBC, TFCyclicNonsymmetricConstant, TFBilinear\n",
    "from ibvpy.bcond import BCSliceI, BCDof\n",
    "from ibvpy.xmodel.xdomain_fe_grid_axisym import XDomainFEGridAxiSym\n",
    "from ibvpy.fets import FETS2D4Q\n",
    "from ibvpy.tmodel.viz3d_scalar_field import \\\n",
    "    Vis3DStateField, Viz3DScalarField\n",
    "from ibvpy.tmodel.viz3d_tensor_field import \\\n",
    "    Vis3DTensorField, Viz3DTensorField\n",
    "from ibvpy.tmodel.mats3D.mats3D_elastic.vmats3D_elastic import \\\n",
    "    MATS3DElastic\n",
    "from ibvpy.tmodel.mats2D.mats2D_elastic.vmats2D_elastic import \\\n",
    "    MATS2DElastic\n",
    "from bmcs_matmod.slide.vslide_34_ij import MATS3DSlideStrain, Slide34\n",
    "from ibvpy.tmodel.mats3D.mats3D_microplane.vmats3D_mpl_d_eeq import \\\n",
    "    MATS3DMplDamageEEQ\n",
    "from bmcs_matmod.ms1 import MS13D\n",
    "import bmcs_matmod.ms1.concrete_material_db as mp_db\n",
    "from ibvpy.tmodel.mats3D.mats3D_microplane import \\\n",
    "    MATS3DMplCSDEEQ"
   ]
  },
  {
   "cell_type": "markdown",
   "id": "ebc92c47-2c12-4c0f-9a65-8170a44edb25",
   "metadata": {},
   "source": [
    "## Simplified Ligament"
   ]
  },
  {
   "cell_type": "code",
   "execution_count": null,
   "id": "54c697cd-19ab-4aa9-9889-9a9d6f3d962e",
   "metadata": {
    "tags": []
   },
   "outputs": [],
   "source": [
    "CAxisymm = dict(E = 40e+3,    \n",
    "                nu = 0.18,    \n",
    "                Ad = 500.0,    \n",
    "                eps_0 = 0.00001,    \n",
    "                K_N = 17000.,    \n",
    "                sigma_N_0 = 200., \n",
    "                gamma_N = 9000.,   \n",
    "                sigma_T_0 = 3.0,   \n",
    "                K_T = 200.0,  \n",
    "                gamma_T = 5000,  \n",
    "                S_T = 0.0007,  \n",
    "                c_T = 2.9, \n",
    "                r_T = 3.,  \n",
    "                m_T = 0.1, \n",
    "                p_T = 1.)\n"
   ]
  },
  {
   "cell_type": "code",
   "execution_count": null,
   "id": "c1873fef-b895-4de0-923a-2cceccb908b9",
   "metadata": {},
   "outputs": [],
   "source": [
    "n_x_e = 4\n",
    "n_inner_y_e = 2\n",
    "n_outer_y_e = 2\n",
    "L_x = 40.0 # [mm]\n",
    "d_x = L_x / n_x_e\n",
    "R_in = 25 # [mm]\n",
    "dR = 2 # [mm]\n",
    "R_out = 50 # [mm]\n",
    "len_notch = 20\n",
    "n_notch = 1\n",
    "\n",
    "xmodel = XDomainFEGridAxiSym(integ_factor = 2 * np.pi,\n",
    "                               coord_min=(0+n_notch*d_x, R_in),\n",
    "                               coord_max=(L_x-n_notch*d_x, R_in+dR),\n",
    "                               shape=(n_x_e-2*n_notch, 1),\n",
    "                               fets=FETS2D4Q())\n",
    "\n",
    "E = 34000\n",
    "\n",
    "m_inelastic = MS13D(**CAxisymm)\n",
    "m_elastic = MATS3DElastic(E=34000, nu=0.2)\n",
    "m = TStepBC(\n",
    "    domains=[(xmodel, m_inelastic),\n",
    "             ]\n",
    ")"
   ]
  },
  {
   "cell_type": "code",
   "execution_count": null,
   "id": "48f271ff-99a9-4e77-8bc5-1e6315f6ec8b",
   "metadata": {},
   "outputs": [],
   "source": [
    "tf_precrompression = TFBilinear(loading_ratio = 1.0, time_ratio=0.1)\n",
    "tf_sliding = TFBilinear(loading_ratio = 0.0, time_ratio=0.1)"
   ]
  },
  {
   "cell_type": "code",
   "execution_count": null,
   "id": "0356b72b-8990-490e-9933-7122a4ba5e42",
   "metadata": {},
   "outputs": [],
   "source": [
    "#w_max = 0.1\n",
    "#\n",
    "## Shear bc\n",
    "#bc_l_x = BCSlice(slice=xmodel.mesh[0, :, :, 0, :, :],\n",
    "#                  var='u', dims=[0,1,2], value=0.0)\n",
    "#bc_r_x = BCSlice(slice=xmodel.mesh[-1, :, :, -1, :, :],\n",
    "#                 var='u', dims=[1], value=w_max)\n",
    "#bc_r_x_2 = BCSlice(slice=xmodel.mesh[-1, :, :, -1, :, :],\n",
    "#                 var='u', dims=[0], value=0.0)"
   ]
  },
  {
   "cell_type": "code",
   "execution_count": null,
   "id": "dbbf249f-788b-435f-b949-57e40d3807f0",
   "metadata": {},
   "outputs": [],
   "source": [
    "inner_fixed_1 = BCSliceI(slice=xmodel.mesh.I[:, 0], var='u', dims=[1], value=0)\n",
    "inner_fixed_0 = BCSliceI(slice=xmodel.mesh.I[:, 0], var='u', dims=[0], value=0)\n",
    "\n",
    "#outer_hoop = BCSliceI(slice=xmodel.mesh.I[:, -1], var='u', dims=[2], value=0)\n",
    "#outer_hoop_dofs = outer_hoop.dofs\n",
    "\n",
    "slide_slice = BCSliceI(slice=xmodel.mesh.I[:, -1],\n",
    "                                   var='u', dims=[0], value=-0.1)\n",
    "\n",
    "slide_control_dofs = slide_slice.dofs\n",
    "slide = [BCDof(var='u', dof=dof, value=-0.1 , time_function=tf_sliding) \n",
    "                     for dof in slide_control_dofs ]\n",
    "\n",
    "\n",
    "outer_compression_slice = BCSliceI(slice=xmodel.mesh.I[:, -1],\n",
    "                                   var='u', dims=[1], value=-5)\n",
    "\n",
    "compression_dofs = outer_compression_slice.dofs\n",
    "compression_stress = -15\n",
    "compression_force = compression_stress  * 2 * np.pi* R_out * L_x / len(compression_dofs)\n",
    "outer_compression_force_first = [BCDof(var='f', dof=dof, value=compression_force, time_function=tf_precrompression) \n",
    "                                 for dof in compression_dofs ]\n",
    "# outer_compression_force_first = [BCDof(var='u', dof=dof, value=0.01, time_function=tf_precrompression) \n",
    "#                                  for dof in compression_dofs ]\n",
    "outer_compression_force_first[0].value *=0.5\n",
    "outer_compression_force_first[-1].value *=0.5\n",
    "\n",
    "bc1 =   [inner_fixed_1, \n",
    "         inner_fixed_0,\n",
    "        ]   + slide + outer_compression_force_first \n",
    "           "
   ]
  },
  {
   "cell_type": "code",
   "execution_count": null,
   "id": "31928cbb-be4c-4c02-a6a1-05c808c478d0",
   "metadata": {},
   "outputs": [],
   "source": [
    "m.bc=bc1\n",
    "m.hist.vis_record = {\n",
    "#    'strain': Vis3DTensorField(var='eps_ab'),\n",
    "    'stress': Vis3DTensorField(var='sig_ab'),\n",
    "    #        'kinematic hardening': Vis3DStateField(var='z_a')\n",
    "}\n",
    "\n",
    "s = m.sim\n",
    "s.tloop.verbose = False\n",
    "s.tloop.k_max = 1000\n",
    "s.tline.step = 0.01\n",
    "# Accessing the following property - ensures serialization\n",
    "s.tstep.fe_domain.serialized_subdomains\n",
    "s.reset()\n",
    "s.run()"
   ]
  },
  {
   "cell_type": "code",
   "execution_count": null,
   "id": "66f31bb0-c71a-444c-9eb5-16d1150ef432",
   "metadata": {},
   "outputs": [],
   "source": [
    "U_last = m.hist.U_t[-1]\n",
    "F_last = m.hist.U_t[-1]\n",
    "U_t = np.average(m.hist.U_t[:, slide_control_dofs], axis=-1)\n",
    "F_t = np.sum(m.hist.F_t[:, slide_control_dofs], axis=-1)\n",
    "fig, (ax1,ax2) = plt.subplots(1, 2)\n",
    "ax1.plot(-U_t, -F_t)\n",
    "ax1.set_ylabel('Force [N]')\n",
    "ax1.set_xlabel('Displacement[mm]')\n",
    "ax2.plot(-U_t/(L_x-n_notch*2*d_x), -F_t/(2 * np.pi * (R_in+dR)*(L_x-n_notch*2*d_x)))\n",
    "ax2.set_ylabel('Stress [MPa]')\n",
    "ax2.set_xlabel('Strain[-]')\n",
    "G = np.trapz(F_t, x=U_t)/(2 * np.pi * (R_in+dR)*(L_x-n_notch*2*d_x))*1000\n",
    "G2 = np.trapz(F_t/(2 * np.pi * (R_in+dR)), x=U_t/(L_x-n_notch*2*d_x))\n",
    "print(G)\n",
    "print(G2)"
   ]
  },
  {
   "cell_type": "code",
   "execution_count": null,
   "id": "28244ecd-31d6-4472-b920-ecd6fba34a9c",
   "metadata": {},
   "outputs": [],
   "source": [
    "if True:\n",
    "    mlab.options.backend = 'envisage'\n",
    "    mlab.options.offscreen = False # 'envisage'\n",
    "    f_strain = mlab.figure()\n",
    "    scene = mlab.get_engine().scenes[-1]\n",
    "    scene.name = 'stress'\n",
    "    strain_viz = Viz3DTensorField(vis3d=m.hist['stress'])\n",
    "    strain_viz.setup()\n",
    "    strain_viz.warp_vector.filter.scale_factor = 0.1\n",
    "    strain_viz.plot(s.tstep.t_n)\n",
    "    mlab.show()"
   ]
  },
  {
   "cell_type": "markdown",
   "id": "88afcf49-216d-4cb9-b8dc-ddce54c47adf",
   "metadata": {},
   "source": [
    "## Complete representation"
   ]
  },
  {
   "cell_type": "code",
   "execution_count": null,
   "id": "3cda00a6-1666-4a4f-a318-53aa06afe317",
   "metadata": {},
   "outputs": [],
   "source": [
    "# CAxisymm = dict(\n",
    "#     E = 40e+3,\n",
    "#     nu = 0.18,\n",
    "#     Ad = 3000.0,\n",
    "#     eps_0 = 0.00001,\n",
    "#     K_N = 17000.,\n",
    "#     sigma_N_0 = 45.,\n",
    "#     gamma_N = 9000.,\n",
    "#     sigma_T_0 = 300.0,\n",
    "#     K_T = 20000.0,\n",
    "#     gamma_T = 50000,\n",
    "#     S_T = 0.0075,\n",
    "#     c_T = 2.,\n",
    "#     r_T = 2.,\n",
    "#     m_T = 0.1,\n",
    "#     p_T = 1.\n",
    "# )\n",
    "\n",
    "# CAxisymm = dict(\n",
    "#     E = 40e+3,\n",
    "#     nu = 0.18,\n",
    "#     Ad = 1802.0,\n",
    "#     eps_0 = 0.0001,\n",
    "#     K_N = 17000.,\n",
    "#     sigma_N_0 = 45.,\n",
    "#     gamma_N = 9000.,\n",
    "#     sigma_T_0 = 2.0,\n",
    "#     K_T = 20000.0,\n",
    "#     gamma_T = 500000,\n",
    "#     S_T = 0.0075,\n",
    "#     c_T = 9.,\n",
    "#     r_T = 5.,\n",
    "#     m_T = 0.1,\n",
    "#     p_T = 10.\n",
    "# )\n",
    "\n",
    "CAxisymm = dict(\n",
    "    E = 40e+3,\n",
    "    nu = 0.18,\n",
    "    Ad = 500.0,\n",
    "    eps_0 = 0.00001,\n",
    "    K_N = 17000.,\n",
    "    sigma_N_0 = 45.,\n",
    "    gamma_N = 9000.,\n",
    "    sigma_T_0 = 0.8,\n",
    "    K_T = 100.0,\n",
    "    gamma_T = 100,\n",
    "    S_T = 0.00001,\n",
    "    c_T = 1.6,\n",
    "    r_T = 2.,\n",
    "    m_T = 0.1,\n",
    "    p_T = 1.\n",
    ")\n",
    "\n",
    "CAxisymmMDM = dict(\n",
    "    epsilon_0 = 59.0e-6,\n",
    "    epsilon_f = 250.0e-6,\n",
    "    c_T = 0.02,\n",
    "    E = 40000,\n",
    "    nu = 0.18\n",
    ")"
   ]
  },
  {
   "cell_type": "code",
   "execution_count": null,
   "id": "67ff492f-2496-486c-92e9-67edd7aa0e1d",
   "metadata": {
    "tags": []
   },
   "outputs": [],
   "source": [
    "n_x_e = 4\n",
    "n_inner_y_e = 2\n",
    "n_outer_y_e = 2\n",
    "L_x = 40.0 # [mm]\n",
    "d_x = L_x / n_x_e\n",
    "R_in = 25 # [mm]\n",
    "dR = 2 # [mm]\n",
    "R_out = 50 # [mm]\n",
    "len_notch = 20\n",
    "n_notch = 1\n",
    "# geo_transform\n",
    "# gmesh\n",
    "xd_inner = XDomainFEGridAxiSym(integ_factor = 2 * np.pi,\n",
    "                               coord_min=(0, 0),\n",
    "                               coord_max=(L_x, R_in),\n",
    "                               shape=(n_x_e, n_inner_y_e),\n",
    "                               fets=FETS2D4Q())\n",
    "xd_middle = XDomainFEGridAxiSym(integ_factor = 2 * np.pi,\n",
    "                               coord_min=(0+n_notch*d_x, R_in),\n",
    "                               coord_max=(L_x-n_notch*d_x, R_in+dR),\n",
    "                               shape=(n_x_e-2*n_notch, 1),\n",
    "                               fets=FETS2D4Q())\n",
    "xd_outer = XDomainFEGridAxiSym(integ_factor = 2 * np.pi,\n",
    "                               coord_min=(0, R_in+dR),\n",
    "                               coord_max=(L_x, R_out),\n",
    "                               shape=(n_x_e, n_outer_y_e),\n",
    "                               fets=FETS2D4Q())\n",
    "m_elastic = MATS3DElastic(E=40000, nu=0.18)\n",
    "# m_elastic = MATS3DMplDamageEEQ(**CAxisymmMDM)\n",
    "# m_elastic = MS13D(**CAxisymm)\n",
    "\n",
    "\n",
    "# m_inelastic = MATS3DElastic(E=37000, nu=0.18)\n",
    "n_i = [0,1,0]\n",
    "E = 37000\n",
    "nu = 0.18\n",
    "#material_params =  dict(\n",
    "#     E_T=get_E_T(E,nu,n_i), gamma_T=10000, K_T=0, S_T=0.005, c_T=6, bartau=6, \n",
    "#     E_N=E, S_N=0.5, c_N = 3, m = 0.1, f_t=4, f_c=100, f_c0 = 80, eta=0.)\n",
    "#bond_m = Slide34(**material_params)\n",
    "m_inelastic = MS13D(**CAxisymm)\n",
    "# m_inelastic = MATS3DMplDamageEEQ(**CAxisymmMDM)\n",
    "# m_inelastic = Debugging(slide_displ=bond_m)\n",
    "m = TStepBC(\n",
    "    domains=[(xd_inner, m_elastic),\n",
    "             (xd_outer, m_elastic),\n",
    "             (xd_middle, m_inelastic),\n",
    "             ]\n",
    ")"
   ]
  },
  {
   "cell_type": "markdown",
   "id": "63b627b3-6b28-40b0-8466-c33770c76013",
   "metadata": {},
   "source": [
    "## Boundary and transition conditions"
   ]
  },
  {
   "cell_type": "code",
   "execution_count": null,
   "id": "044557ca-f2bb-4b1c-87d3-c3f0cd8b5f6e",
   "metadata": {},
   "outputs": [],
   "source": [
    "tf_precrompression = TFBilinear(loading_ratio = 1.0, time_ratio=0.1)\n",
    "tf_sliding = TFBilinear(loading_ratio = 0.0, time_ratio=0.1)"
   ]
  },
  {
   "cell_type": "markdown",
   "id": "2dfe8e22-8d81-4c97-837a-aed277cf5e5d",
   "metadata": {},
   "source": [
    "### Kinematic links between the domains"
   ]
  },
  {
   "cell_type": "code",
   "execution_count": null,
   "id": "8d30db9d-a1c9-4c76-a240-38f0c229e4d8",
   "metadata": {},
   "outputs": [],
   "source": [
    "# xd_inner.mesh.dofs"
   ]
  },
  {
   "cell_type": "code",
   "execution_count": null,
   "id": "247142d2-c34e-49db-8c3e-3bb12bcc9823",
   "metadata": {},
   "outputs": [],
   "source": [
    "# xd_outer.mesh.dofs"
   ]
  },
  {
   "cell_type": "code",
   "execution_count": null,
   "id": "62b15bf9-d804-4f9c-88f8-858b338b9e45",
   "metadata": {},
   "outputs": [],
   "source": [
    "# xd_middle.mesh.dofs"
   ]
  },
  {
   "cell_type": "code",
   "execution_count": null,
   "id": "8a79dfad-4822-40b2-a423-edbe9ba3d861",
   "metadata": {},
   "outputs": [],
   "source": [
    "# xd_middle.mesh.I[:, -1].dofs"
   ]
  },
  {
   "cell_type": "code",
   "execution_count": null,
   "id": "84612c3f-9452-4485-94ef-f57cb11b358b",
   "metadata": {},
   "outputs": [],
   "source": [
    "# xd_inner.mesh.I[:, -1].dofs"
   ]
  },
  {
   "cell_type": "code",
   "execution_count": null,
   "id": "9893c53f-cc19-4e72-bc6c-5419650e7b9f",
   "metadata": {},
   "outputs": [],
   "source": [
    "link_inner_middle_0 = BCSliceI(var='u', dims=[0],\n",
    "                             # slice=xd_inner.mesh.I[:, -1], \n",
    "                             slice=xd_inner.mesh.I[n_notch:-n_notch, -1], \n",
    "                             link_slice=xd_middle.mesh.I[:, 0],\n",
    "                             link_coeffs=[1],\n",
    "                             link_dims=[0],\n",
    "                             value=0,\n",
    "                            )\n",
    "\n",
    "link_inner_middle_1 = BCSliceI(var='u', dims=[1],\n",
    "                             # slice=xd_inner.mesh.I[:, -1], \n",
    "                             slice=xd_inner.mesh.I[n_notch:-n_notch, -1], \n",
    "                             link_slice=xd_middle.mesh.I[:, 0],\n",
    "                             link_coeffs=[1],\n",
    "                             link_dims=[1],\n",
    "                             value=0,\n",
    "                            )\n",
    "\n",
    "link_middle_outer_0 = BCSliceI(var='u', dims=[0],\n",
    "                             slice=xd_outer.mesh.I[n_notch:-n_notch, 0], \n",
    "                             # slice=xd_outer.mesh.I[:, 0], \n",
    "                             link_slice=xd_middle.mesh.I[:, -1],\n",
    "                             link_coeffs=[1],\n",
    "                             link_dims=[0],\n",
    "                             value=0,\n",
    "                            )\n",
    "\n",
    "link_middle_outer_1 = BCSliceI(var='u', dims=[1],\n",
    "                             slice=xd_outer.mesh.I[n_notch:-n_notch, 0], \n",
    "                             # slice=xd_outer.mesh.I[:, 0], \n",
    "                             link_slice=xd_middle.mesh.I[:, -1],\n",
    "                             link_coeffs=[1],\n",
    "                             link_dims=[1],\n",
    "                             value=0,\n",
    "                            )\n",
    "\n",
    "# link_middle_outer = BCSliceI(var='u', dims=[0, 1],\n",
    "#                              slice=xd_middle.mesh.I[n_notch:-n_notch, 0], \n",
    "#                              # slice=xd_outer.mesh.I[:, 0], \n",
    "#                              link_slice=xd_outer.mesh.I[:, -1],\n",
    "#                              link_coeffs=[1, 1],\n",
    "#                              link_dims=[0, 1],\n",
    "#                              value=0,\n",
    "#                             )"
   ]
  },
  {
   "cell_type": "code",
   "execution_count": null,
   "id": "4a1b494f-b4aa-4631-9c01-93a08aa695f9",
   "metadata": {},
   "outputs": [],
   "source": [
    "link_middle_outer_0.dofs"
   ]
  },
  {
   "cell_type": "markdown",
   "id": "f580db57-0a0d-4227-9a00-468229b31c2d",
   "metadata": {},
   "source": [
    "### Compression/Traction fc"
   ]
  },
  {
   "cell_type": "code",
   "execution_count": null,
   "id": "f0d09f63-e4b5-4298-8805-8651450e8dc4",
   "metadata": {
    "tags": []
   },
   "outputs": [],
   "source": [
    "# inner_fixed_1 = BCSliceI(slice=xd_inner.mesh.I[:, 0], var='u', dims=[1], value=0)\n",
    "# outer_fixed_0 = BCSliceI(slice=xd_outer.mesh.I[0, :], var='u', dims=[0], value=0)\n",
    "\n",
    "# outer_compression_slice = BCSliceI(slice=xd_outer.mesh.I[:, -1],\n",
    "#                                    var='u', dims=[1], value=-0.6)\n",
    "\n",
    "# compression_dofs = outer_compression_slice.dofs\n",
    "# compression_stress = -10\n",
    "# compression_force = compression_stress  * 2*np.pi*R_out * L_x / len(compression_dofs)\n",
    "# outer_compression_force_first = [BCDof(var='f', dof=dof, value=compression_force) \n",
    "#                                  for dof in compression_dofs ]\n",
    "# # outer_compression_force_first[0].value *=0.5\n",
    "# # outer_compression_force_first[-1].value *=0.5\n",
    "# bc1 = [inner_fixed_1, \n",
    "# #       outer_fixed_0,\n",
    "#        link_inner_middle,\n",
    "#        link_middle_outer,\n",
    "#       outer_compression_slice] #+ outer_compression_force_first"
   ]
  },
  {
   "cell_type": "markdown",
   "id": "6aaae478-839b-47c4-8241-be7d504d2f37",
   "metadata": {},
   "source": [
    "### Sliding dc"
   ]
  },
  {
   "cell_type": "code",
   "execution_count": null,
   "id": "2a0d918a-d7a2-4571-a6e3-b2164da9cbf1",
   "metadata": {
    "tags": []
   },
   "outputs": [],
   "source": [
    "# inner_fixed_1 = BCSliceI(slice=xd_inner.mesh.I[:, 0], var='u', dims=[1], value=0)\n",
    "# inner_fixed_0 = BCSliceI(slice=xd_inner.mesh.I[0, :], var='u', dims=[0], value=0)\n",
    "# inner_outer_1 = BCSliceI(slice=xd_outer.mesh.I[:, 0], var='u', dims=[1], value=0)\n",
    "\n",
    "# outer_slide_slice = BCSliceI(slice=xd_outer.mesh.I[0, :],\n",
    "#                                    var='u', dims=[0], value=-0.1)\n",
    "\n",
    "\n",
    "# bc1 =   [inner_fixed_1, \n",
    "#         inner_fixed_0,\n",
    "#          inner_outer_1,\n",
    "#         link_inner_middle,\n",
    "#         link_middle_outer,\n",
    "#         outer_slide_slice]"
   ]
  },
  {
   "cell_type": "markdown",
   "id": "03efb5f3-fe7e-45d6-8904-81dcbfdd6ebe",
   "metadata": {},
   "source": [
    "## Sliding dc + Precompression fc"
   ]
  },
  {
   "cell_type": "code",
   "execution_count": null,
   "id": "96bc8948-7a22-42d7-ac9a-0a321034ec80",
   "metadata": {},
   "outputs": [],
   "source": [
    "# inner_fixed_1 = BCSliceI(slice=xd_inner.mesh.I[:, 0], var='u', dims=[1], value=0)\n",
    "# inner_fixed_0 = BCSliceI(slice=xd_inner.mesh.I[0, :], var='u', dims=[0], value=0)\n",
    "# outer_fixed_1 = BCSliceI(slice=xd_outer.mesh.I[:, -1], var='u', dims=[1], value=0)\n",
    "\n",
    "# outer_slide_slice = BCSliceI(slice=xd_outer.mesh.I[-1, :],\n",
    "#                                    var='u', dims=[0], value=-0.1)\n",
    "\n",
    "# slide_control_dofs = outer_slide_slice.dofs\n",
    "# outer_slide = [BCDof(var='u', dof=dof, value=-0.1 , time_function=tf_sliding) \n",
    "#                      for dof in slide_control_dofs ]\n",
    "\n",
    "\n",
    "# outer_compression_slice = BCSliceI(slice=xd_outer.mesh.I[:, -1],\n",
    "#                                    var='u', dims=[1], value=-5)\n",
    "\n",
    "# compression_dofs = outer_compression_slice.dofs\n",
    "# compression_stress = -5\n",
    "# compression_force = compression_stress  * 2* np.pi* R_out * L_x / len(compression_dofs)\n",
    "# outer_compression_force_first = [BCDof(var='f', dof=dof, value=compression_force, time_function=tf_precrompression) \n",
    "#                                  for dof in compression_dofs ]\n",
    "# # outer_compression_force_first = [BCDof(var='u', dof=dof, value=0.01, time_function=tf_precrompression) \n",
    "# #                                  for dof in compression_dofs ]\n",
    "# outer_compression_force_first[0].value *=0.5\n",
    "# outer_compression_force_first[-1].value *=0.5\n",
    "\n",
    "# bc1 =   [inner_fixed_1, \n",
    "#         # outer_fixed_1,\n",
    "#          inner_fixed_0,\n",
    "#         link_middle_outer_0,\n",
    "#          link_middle_outer_1,\n",
    "#         link_inner_middle_0,\n",
    "#          link_inner_middle_1\n",
    "#         ] + outer_compression_force_first + outer_slide"
   ]
  },
  {
   "cell_type": "code",
   "execution_count": null,
   "id": "20384cf3-6190-4179-adb8-7ccee4bac9ee",
   "metadata": {},
   "outputs": [],
   "source": [
    "inner_fixed_1 = BCSliceI(slice=xd_inner.mesh.I[:, 0], var='u', dims=[1], value=0)\n",
    "outer_fixed_0 = BCSliceI(slice=xd_outer.mesh.I[0, :], var='u', dims=[0], value=0)\n",
    "inner_fixed_out_1 = BCSliceI(slice=xd_inner.mesh.I[:, -1], var='u', dims=[1], value=0)\n",
    "\n",
    "\n",
    "inner_slide_slice = BCSliceI(slice=xd_inner.mesh.I[-1, :],\n",
    "                                   var='u', dims=[0], value=-0.1)\n",
    "\n",
    "slide_control_dofs = inner_slide_slice.dofs\n",
    "inner_slide = [BCDof(var='u', dof=dof, value=-0.5 , time_function=tf_sliding) \n",
    "                     for dof in slide_control_dofs ]\n",
    "\n",
    "\n",
    "outer_compression_slice = BCSliceI(slice=xd_outer.mesh.I[:, -1],\n",
    "                                   var='u', dims=[1], value=-5)\n",
    "\n",
    "compression_dofs = outer_compression_slice.dofs\n",
    "compression_stress = -15\n",
    "compression_force = compression_stress  * 2* np.pi* R_out * L_x / len(compression_dofs)\n",
    "outer_compression_force_first = [BCDof(var='f', dof=dof, value=compression_force, time_function=tf_precrompression) \n",
    "                                 for dof in compression_dofs ]\n",
    "\n",
    "compression_dofs_inner = inner_fixed_out_1.dofs\n",
    "outer_compression_force_inner_first = [BCDof(var='f', dof=dof, value=compression_force, time_function=tf_precrompression) \n",
    "                                 for dof in compression_dofs_inner ]\n",
    "\n",
    "\n",
    "# outer_compression_force_first = [BCDof(var='u', dof=dof, value=0.01, time_function=tf_precrompression) \n",
    "#                                  for dof in compression_dofs ]\n",
    "outer_compression_force_first[0].value *=0.5\n",
    "outer_compression_force_first[-1].value *=0.5\n",
    "outer_compression_force_inner_first[0].value *=0.5\n",
    "outer_compression_force_inner_first[-1].value *=0.5\n",
    "\n",
    "bc1 =   [inner_fixed_1,\n",
    "        outer_fixed_0,\n",
    "        link_middle_outer_0,\n",
    "         link_middle_outer_1,\n",
    "        link_inner_middle_0,\n",
    "         link_inner_middle_1\n",
    "        ] + outer_compression_force_first + inner_slide"
   ]
  },
  {
   "cell_type": "code",
   "execution_count": null,
   "id": "01873f7b-075a-4335-8e77-fb0936dce09d",
   "metadata": {},
   "outputs": [],
   "source": [
    "compression_dofs"
   ]
  },
  {
   "cell_type": "markdown",
   "id": "832e973d-6d20-4c5b-bf64-5cef7aee05b6",
   "metadata": {},
   "source": [
    "### Sliding fc"
   ]
  },
  {
   "cell_type": "code",
   "execution_count": null,
   "id": "ce0bf989-b4f8-4848-aa1b-6e7efda1b62a",
   "metadata": {
    "tags": []
   },
   "outputs": [],
   "source": [
    "#lower_fixed_0 = BCSlice(slice=xd_lower.mesh[:, 0, :, 0], var='u', dims=[1], value=0)\n",
    "#upper_fixed_1 = BCSlice(slice=xd_upper.mesh[0, :, 0, :], var='u', dims=[0], value=0)\n",
    "#\n",
    "#\n",
    "#\n",
    "#lower_slide = BCSlice(slice=xd_lower.mesh[0, :, 0, :], var='u', dims=[0], value=0)\n",
    "#Force = 10 / len(lower_slide.dofs)\n",
    "#lower_slide_force = [BCDof(var='f', dof=dof, value = Force) \n",
    "#             for dof in lower_slide.dofs]\n",
    "#\n",
    "#bc1 =   [lower_fixed_0, upper_fixed_1] + lower_slide_force"
   ]
  },
  {
   "cell_type": "code",
   "execution_count": null,
   "id": "b245b2fd-b006-4f23-a254-dec34981423a",
   "metadata": {
    "tags": []
   },
   "outputs": [],
   "source": [
    "m.bc=bc1\n",
    "m.hist.vis_record = {\n",
    "#    'strain': Vis3DTensorField(var='eps_ab'),\n",
    "    'stress': Vis3DTensorField(var='sig_ab'),\n",
    "    #        'kinematic hardening': Vis3DStateField(var='z_a')\n",
    "}\n",
    "\n",
    "s = m.sim\n",
    "s.tloop.verbose = True\n",
    "s.tloop.k_max = 500\n",
    "s.tline.step = 0.02\n",
    "# Accessing the following property - ensures serialization\n",
    "s.tstep.fe_domain.serialized_subdomains"
   ]
  },
  {
   "cell_type": "code",
   "execution_count": null,
   "id": "1c314099-6adc-4129-ac74-41272fd49393",
   "metadata": {},
   "outputs": [],
   "source": [
    "s.reset()\n",
    "s.run()"
   ]
  },
  {
   "cell_type": "markdown",
   "id": "de3a1a04-59ab-44eb-be0c-b07105123ba4",
   "metadata": {},
   "source": [
    "## Postprocesing"
   ]
  },
  {
   "cell_type": "markdown",
   "id": "9ebdb24a-61a6-44ce-80b2-55bdc6b9d434",
   "metadata": {},
   "source": [
    "### Access the last displacement step"
   ]
  },
  {
   "cell_type": "code",
   "execution_count": null,
   "id": "d055557f-49ff-483c-b532-c4ec207021fd",
   "metadata": {},
   "outputs": [],
   "source": [
    "F = m.hist.F_t\n",
    "U = m.hist.U_t"
   ]
  },
  {
   "cell_type": "code",
   "execution_count": null,
   "id": "74ea5c59-7545-4090-91ea-3a30b33fe68e",
   "metadata": {},
   "outputs": [],
   "source": [
    "F_slide = np.sum(F[:, slide_control_dofs], axis=-1)\n",
    "U_slide = np.average(U[:, slide_control_dofs], axis=-1)"
   ]
  },
  {
   "cell_type": "code",
   "execution_count": null,
   "id": "e5d3b09e-94ab-481f-91bd-b9ab3d94779d",
   "metadata": {},
   "outputs": [],
   "source": [
    "_, ax = plt.subplots(1,1)\n",
    "ax.plot(-U_slide, -F_slide/1000, label='5 MPa confinement')\n",
    "# ax.plot(-U_slide_2, -F_slide_2/1000, label='15 MPa confinement')\n",
    "# ax.plot(-U_slide_3, -F_slide_3/1000, label='30 MPa confinement')\n",
    "ax.set_ylabel('Force [kN]')\n",
    "ax.set_xlabel('Displacement [mm]')\n",
    "ax.legend()"
   ]
  },
  {
   "cell_type": "code",
   "execution_count": null,
   "id": "7ade4a8b-1e71-4aef-8a3d-ad489f711b27",
   "metadata": {},
   "outputs": [],
   "source": [
    "if True:\n",
    "    mlab.options.backend = 'envisage'\n",
    "    mlab.options.offscreen = False # 'envisage'\n",
    "    f_strain = mlab.figure()\n",
    "    scene = mlab.get_engine().scenes[-1]\n",
    "    scene.name = 'stress'\n",
    "    strain_viz = Viz3DTensorField(vis3d=m.hist['stress'])\n",
    "    strain_viz.setup()\n",
    "    strain_viz.warp_vector.filter.scale_factor = 0.1\n",
    "    strain_viz.plot(s.tstep.t_n)\n",
    "    mlab.show()"
   ]
  },
  {
   "cell_type": "code",
   "execution_count": null,
   "id": "94486a18-89da-4d50-a819-4a855bf32baf",
   "metadata": {},
   "outputs": [],
   "source": [
    "eps_Emab = xd_middle.map_U_to_field(U[0])\n",
    "m.fe_domain[2].state_k\n",
    "m_inelastic.get_corr_pred(eps_Emab, 1, **m.fe_domain[2].state_k)"
   ]
  },
  {
   "cell_type": "code",
   "execution_count": null,
   "id": "bd8162b2-651e-435a-89ba-52887d2ed22e",
   "metadata": {},
   "outputs": [],
   "source": [
    "m.fe_domain[2].state_k"
   ]
  },
  {
   "cell_type": "markdown",
   "id": "47045b6a-bf47-44c6-8fb9-f79f0649eafc",
   "metadata": {},
   "source": [
    "## Dissipative plane"
   ]
  },
  {
   "cell_type": "code",
   "execution_count": null,
   "id": "728a4618-32d1-4c78-ac2a-a71ee0ab87e3",
   "metadata": {},
   "outputs": [],
   "source": [
    "from bmcs_matmod.slide.vslide_34_ij import MATS3DSlideStrain\n",
    "class Debugging(MATS3DSlideStrain):\n",
    "    def get_corr_pred(self, eps_Emab_n1, tn1, **state):\n",
    "        n_i = self.n_a\n",
    "        eps_ij = eps_Emab_n1\n",
    "        eps_N = np.einsum('...ij,...i,...j->...', eps_ij, n_i, n_i)\n",
    "\n",
    "        eps_T_Ema = self.get_eps_T(eps_ij, n_i)\n",
    "        \n",
    "        eps_NT_Ema = np.zeros_like(eps_T_Ema)\n",
    "        eps_NT_Ema[..., 0] = eps_N\n",
    "        eps_NT_Ema[..., 1] = eps_T_Ema[...,0]\n",
    "        \n",
    "        se = self.slide_displ\n",
    "        sig_NT_Ema, D_Emab = se.get_corr_pred(eps_NT_Ema, tn1, **state)\n",
    "        # sig_NT_Ema[...,0] = np.clip(sig_NT_Ema[...,0], 0, 2)\n",
    "        # print(eps_NT_Ema)\n",
    "        # print(sig_NT_Ema)\n",
    "        eps_N_p, eps_T_p_x, eps_T_p_y = state['w_pi'], state['s_pi_x'], state['s_pi_y']\n",
    "        eps_T = self.get_eps_T(eps_ij, n_i)\n",
    "        eps_T_p_i = self.get_eps_T_p(eps_T_p_x, eps_T)\n",
    "        omega_N_Em, omega_T_Em = state['omega_N'], state['omega_T']\n",
    "        phi_Emab = np.zeros_like(eps_Emab_n1)\n",
    "\n",
    "\n",
    "        phi_Emab[..., 1, 1] = np.sqrt(1 - omega_N_Em)\n",
    "        phi_Emab[..., 0, 0] = np.sqrt(1 - omega_T_Em)\n",
    "\n",
    "        phi_Emab[..., 2, 2] = 1\n",
    "\n",
    "\n",
    "\n",
    "        beta_Emijkl = np.einsum('...ik,...lj->...ijkl', phi_Emab, phi_Emab)\n",
    "\n",
    "        eps_ij_p = (np.einsum('i,...j->...ij', n_i, eps_T_p_i) +\n",
    "                    np.einsum('...i,j->...ij', eps_T_p_i,n_i) +\n",
    "                    np.einsum('...,i,j->...ij', eps_N_p, n_i, n_i)\n",
    "                   )\n",
    "\n",
    "        D_abef = self.D_abef\n",
    "        D_Emabcd = np.einsum('...ijkl,klrs,...rstu->...ijtu', beta_Emijkl, D_abef, beta_Emijkl)\n",
    "\n",
    "        sigma_Emab = np.einsum('...ijkl,...kl->...ij', D_Emabcd, (eps_Emab_n1 - eps_ij_p))\n",
    "        # E = 37000\n",
    "        # nu = 0.18\n",
    "        # E_T = self.get_E_T( E, nu, n_i)\n",
    "        # # sigma_Emab = (np.einsum( '...ijkl,...kl->...ij',D_abef, eps_ij) \n",
    "        # #         - np.einsum( '...,...i,...j->...ij', eps_N, n_i, n_i) * E \n",
    "        # #         + np.einsum( '...,...i,...j,...->...ij', (eps_N - eps_N_p) , n_i, n_i, (1-omega_N_Em)* E)\n",
    "        # #         - E_T*(np.einsum('...i,...j->...ij', n_i, eps_T_Ema) + np.einsum('...i,...j->...ij', eps_T_Ema, n_i))\n",
    "        # #         + (np.einsum('...,...i,...j->...ij', (1 - omega_T_Em)*E_T, n_i, (eps_T_Ema - eps_T_p_i)) + np.einsum('...,...i,...j->...ij', (1 - omega_T_Em)*E_T, (eps_T_Ema - eps_T_p_i), n_i)) \n",
    "        # #        )  \n",
    "        # # print(sigma_Emab)\n",
    "        # sigma_Emab  = np.einsum( '...ijkl,...kl->...ij',D_abef, (eps_ij - eps_ij_p)) \n",
    "        # sigma_Emab[...,1,1] = sig_NT_Ema[...,0]\n",
    "        # sigma_Emab[...,0,1] = sigma_Emab[...,1,0] = sig_NT_Ema[...,1]\n",
    "        \n",
    "        # print(D_Emabcd)\n",
    "                  \n",
    "\n",
    "        return sigma_Emab, D_Emabcd"
   ]
  },
  {
   "cell_type": "markdown",
   "id": "fe55870d-2a6b-4b5a-ba55-a2cd17b86ebc",
   "metadata": {},
   "source": [
    "## FE Axisymmetric discretization"
   ]
  },
  {
   "cell_type": "code",
   "execution_count": null,
   "id": "4de8df28-9e4c-416e-9336-33fd02649bcd",
   "metadata": {},
   "outputs": [],
   "source": [
    "def get_D_ijkl(E,nu):\n",
    "    delta_ij = np.identity(3)\n",
    "    la = E * nu / ((1. + nu) * (1. - 2. * nu))\n",
    "    mu = E / (2. + 2.* nu)\n",
    "    D_ijkl = (np.einsum(',ij,kl->ijkl', la, delta_ij, delta_ij) +\n",
    "              np.einsum(',ik,jl->ijkl', mu, delta_ij, delta_ij) +\n",
    "              np.einsum(',il,jk->ijkl', mu, delta_ij, delta_ij))\n",
    "    return D_ijkl"
   ]
  },
  {
   "cell_type": "code",
   "execution_count": null,
   "id": "f95ec508-5154-4fef-b399-9d320a1db569",
   "metadata": {},
   "outputs": [],
   "source": [
    "def get_E_T(E,nu,n_i):\n",
    "    delta_ij = np.identity(3)\n",
    "    D_ijkl = get_D_ijkl(E,nu)\n",
    "    operator = 0.5*(np.einsum('i,jk,l->ijkl',n_i,delta_ij,n_i) \n",
    "                 + np.einsum('j,ik,l->jikl',n_i,delta_ij,n_i) \n",
    "                 - 2*np.einsum('i,j,k,l->ijkl',n_i,n_i,n_i,n_i))\n",
    "    E_T = np.einsum('ijkl,ijkl->', D_ijkl, operator)\n",
    "    return E_T"
   ]
  }
 ],
 "metadata": {
  "kernelspec": {
   "display_name": "bmcs_env",
   "language": "python",
   "name": "bmcs_env"
  },
  "language_info": {
   "codemirror_mode": {
    "name": "ipython",
    "version": 3
   },
   "file_extension": ".py",
   "mimetype": "text/x-python",
   "name": "python",
   "nbconvert_exporter": "python",
   "pygments_lexer": "ipython3"
  },
  "toc": {
   "base_numbering": 1,
   "nav_menu": {},
   "number_sections": true,
   "sideBar": true,
   "skip_h1_title": false,
   "title_cell": "Table of Contents",
   "title_sidebar": "Contents",
   "toc_cell": false,
   "toc_position": {},
   "toc_section_display": true,
   "toc_window_display": false
  }
 },
 "nbformat": 4,
 "nbformat_minor": 5
}
