{
 "cells": [
  {
   "cell_type": "markdown",
   "id": "4faf2840",
   "metadata": {},
   "source": [
    "# Axisym PTST with unit ligament area"
   ]
  },
  {
   "cell_type": "code",
   "execution_count": null,
   "id": "5453e041-98d8-4951-923c-b64809a003dd",
   "metadata": {},
   "outputs": [],
   "source": [
    "%matplotlib widget\n",
    "import time\n",
    "from bmcs_expsim.utils.mlab_decorators import decorate_figure\n",
    "from mayavi import mlab\n",
    "import numpy as np\n",
    "np.seterr(divide='ignore', invalid='ignore') \n",
    "import warnings\n",
    "import matplotlib.pylab as plt\n",
    "import numpy as np"
   ]
  },
  {
   "cell_type": "code",
   "execution_count": null,
   "id": "cd92087f",
   "metadata": {},
   "outputs": [],
   "source": [
    "from ibvpy.api import TStepBC , TFCyclicNonsymmetricConstant, TFBilinear\n",
    "from ibvpy.bcond import BCSlice, BCDof\n",
    "from ibvpy.xmodel.xdomain_fe_grid_axisym import XDomainFEGridAxiSym\n",
    "from ibvpy.xmodel.xdomain_interface import XDomainFEInterface"
   ]
  },
  {
   "cell_type": "code",
   "execution_count": null,
   "id": "0af3b921",
   "metadata": {},
   "outputs": [],
   "source": [
    "from ibvpy.fets import FETS2D4Q\n",
    "from ibvpy.fets.fets1D5 import FETS1D52ULRH"
   ]
  },
  {
   "cell_type": "code",
   "execution_count": null,
   "id": "c303f4c4",
   "metadata": {},
   "outputs": [],
   "source": [
    "from ibvpy.tmodel.viz3d_scalar_field import \\\n",
    "    Vis3DStateField, Viz3DScalarField\n",
    "from ibvpy.tmodel.viz3d_tensor_field import \\\n",
    "    Vis3DTensorField, Viz3DTensorField"
   ]
  },
  {
   "cell_type": "markdown",
   "id": "35b16d33",
   "metadata": {},
   "source": [
    "# Material models"
   ]
  },
  {
   "cell_type": "code",
   "execution_count": null,
   "id": "12b9248d-6ee7-4b0c-ac3b-7c66012a2343",
   "metadata": {},
   "outputs": [],
   "source": [
    "from bmcs_matmod.slide.vslide_34_TN_axisym import Slide34\n",
    "from ibvpy.tmodel.mats3D.mats3D_elastic.vmats3D_elastic import \\\n",
    "    MATS3DElastic"
   ]
  },
  {
   "cell_type": "markdown",
   "id": "f2962828",
   "metadata": {},
   "source": [
    "# FE discretization - Force-controlled - 1N load"
   ]
  },
  {
   "cell_type": "markdown",
   "id": "824b15cd-0a1b-4b80-8e08-74b6ba39429f",
   "metadata": {},
   "source": [
    "## Ligament of unit area"
   ]
  },
  {
   "cell_type": "markdown",
   "id": "5ebc0a6c-b53f-4d6d-9029-9fe1956e0898",
   "metadata": {},
   "source": [
    "Expected $\\sigma_{\\mathrm{T}} = \\frac{Load}{Area} = \\frac{1}{1} = 1$ "
   ]
  },
  {
   "cell_type": "code",
   "execution_count": null,
   "id": "ca631af3",
   "metadata": {
    "tags": []
   },
   "outputs": [],
   "source": [
    "n_y_e = 1\n",
    "n_inner_x_e = 1\n",
    "n_outer_x_e = 1\n",
    "L_x = 1.0\n",
    "P = 1.0\n",
    "R_in = P / (2 * np.pi) \n",
    "R_out = 2 * R_in\n",
    "xd_lower = XDomainFEGridAxiSym(coord_min=(0, 0),\n",
    "                          coord_max=(L_x, R_in),\n",
    "                          shape=(n_y_e, n_inner_x_e),\n",
    "                          integ_factor=2 * np.pi,\n",
    "                          fets=FETS2D4Q())\n",
    "xd_upper = XDomainFEGridAxiSym(coord_min=(0, R_in),\n",
    "                          coord_max=(L_x, R_out),\n",
    "                          shape=(n_y_e, n_outer_x_e),\n",
    "                          integ_factor=2 * np.pi,\n",
    "                          fets=FETS2D4Q())\n",
    "m1 = MATS3DElastic(E=10000, nu=0.3)\n",
    "m2 = MATS3DElastic(E=10000, nu=0.3)\n",
    "\n",
    "xd12 = XDomainFEInterface(\n",
    "    integ_factor = 2 * np.pi * R_in,\n",
    "    I=xd_lower.mesh.I[:, -1],\n",
    "    J=xd_upper.mesh.I[:, 0],\n",
    "    fets=FETS1D52ULRH()\n",
    ")"
   ]
  },
  {
   "cell_type": "code",
   "execution_count": null,
   "id": "c7e23d56-c6cd-4850-b123-95fe5b1cac89",
   "metadata": {},
   "outputs": [],
   "source": [
    "#bond_m = Slide34(E_T=10000, E_N=10000)\n",
    "# material_params =  dict(\n",
    "#      E_T=1, gamma_T=500, K_T=0, S_T=0.5, c_T=6, bartau=3000, \n",
    "#      E_N=1, S_N=0.05, c_N = 3, m = 0., f_t=2000, f_c=100000, f_c0 = 40000, eta=0.)\n",
    "# bond_m = Slide34(**material_params)\n",
    "\n",
    "material_params =  dict(\n",
    "     E_T=1, gamma_T=500, K_T=0, S_T=0.5, c_T=6, bartau=3000, \n",
    "     E_N=1, S_N=0.05, c_N = 3, m = 0., f_t=2000, f_c=100000, f_c0 = 40000, eta=0.)\n",
    "bond_m = Slide34(**material_params)"
   ]
  },
  {
   "cell_type": "code",
   "execution_count": null,
   "id": "cefa6985-d176-4087-b53f-01189fb75f5d",
   "metadata": {},
   "outputs": [],
   "source": [
    "axisym = BCSlice(slice=xd_lower.mesh[0, 0, 0, 0],\n",
    "                 var='u', dims=[1], value=0)\n",
    "fixed_upper_support = BCSlice(slice=xd_upper.mesh[0, :, 0, :],\n",
    "                 var='u', dims=[0], value=0)\n",
    "loaded_lower= BCSlice(slice=xd_lower.mesh[-1, :, -1, :],\n",
    "                  var='u', dims=[0], value=0)\n",
    "loaded_lower_dof = loaded_lower.dofs[0]\n",
    "loaded_lower_bc = BCDof(var='f', dof=loaded_lower_dof, value = -1)\n",
    "\n",
    "bc1 = [axisym, fixed_upper_support, loaded_lower_bc]"
   ]
  },
  {
   "cell_type": "code",
   "execution_count": null,
   "id": "d71e5250-997a-425f-bbc7-5175ca19f295",
   "metadata": {
    "tags": []
   },
   "outputs": [],
   "source": [
    "m = TStepBC(\n",
    "    domains=[(xd_lower, m1),\n",
    "             (xd_upper, m2),\n",
    "             (xd12, bond_m),\n",
    "             ],\n",
    "    bc=bc1,  # + bc2,\n",
    ")\n",
    "\n",
    "m.hist.vis_record = {\n",
    "#    'strain': Vis3DTensorField(var='eps_ab'),\n",
    "    'stress': Vis3DTensorField(var='sig_ab'),\n",
    "    #        'kinematic hardening': Vis3DStateField(var='z_a')\n",
    "}\n",
    "\n",
    "s = m.sim\n",
    "s.tloop.verbose = True\n",
    "s.tloop.k_max = 1000\n",
    "s.tline.step = 1\n",
    "s.tstep.fe_domain.serialized_subdomains"
   ]
  },
  {
   "cell_type": "code",
   "execution_count": null,
   "id": "c95f5fa2",
   "metadata": {},
   "outputs": [],
   "source": [
    "#bond_m.interact()"
   ]
  },
  {
   "cell_type": "code",
   "execution_count": null,
   "id": "cef0b911-0e10-444c-9083-23f63b6944a6",
   "metadata": {},
   "outputs": [],
   "source": [
    "xd12.hidden = True\n",
    "s.reset()\n",
    "s.run()"
   ]
  },
  {
   "cell_type": "code",
   "execution_count": null,
   "id": "1d8e7e31-dac2-46db-8344-d3ca115de1ab",
   "metadata": {},
   "outputs": [],
   "source": [
    "F_to = m.hist.F_t\n",
    "U_to = m.hist.U_t\n",
    "F_outer_t = np.sum(F_to[:, fixed_upper_support.dofs], axis=-1)\n",
    "F_inner_t = np.sum(F_to[:, loaded_lower.dofs], axis=-1)\n",
    "U_inner_right_t = np.average(U_to[:, loaded_lower.dofs], axis=-1)\n",
    "# U_inner_left_t = np.average(U_to[:, unloaded_inner.dofs], axis=-1)"
   ]
  },
  {
   "cell_type": "code",
   "execution_count": null,
   "id": "122baac2-7a3b-41a3-b48c-b3bb008f6993",
   "metadata": {},
   "outputs": [],
   "source": [
    "states_t = [states_t[2] for states_t in m.hist.state_vars]\n",
    "var_names = states_t[0].keys()\n",
    "EpsSig_t = {\n",
    "    var_name: np.array([ state_dict[var_name] for state_dict in states_t ]) \n",
    "    for var_name in var_names \n",
    "}\n",
    "u_pi_N = EpsSig_t['w_pi']\n",
    "u_pi_Tx = EpsSig_t['s_pi_x']\n",
    "sig_pi_N = EpsSig_t['sig_pi']\n",
    "sig_pi_Tx = EpsSig_t['tau_pi_x']\n",
    "sig_pi_Ty = EpsSig_t['tau_pi_y']\n",
    "omega_Nx = EpsSig_t['omega_N']\n",
    "omega_Tx = EpsSig_t['omega_T']\n",
    "x_m = xd12.x_Eia[:,:,0].flatten()"
   ]
  },
  {
   "cell_type": "code",
   "execution_count": null,
   "id": "e06e891b-3180-4327-9ef9-4ca4e46109ce",
   "metadata": {},
   "outputs": [],
   "source": [
    "_, (ax1, ax2) = plt.subplots(1,2)\n",
    "ax1.plot(-U_inner_right_t, F_outer_t, label='F_outer(U_top)')\n",
    "# ax1.plot(-U_inner_left_t, F_outer_t, label='F_outer(U_top)')\n",
    "ax1.plot(-U_inner_right_t, F_inner_t, label='F_inner(U_top)')\n",
    "ax1.legend()\n",
    "idx = -1\n",
    "ax_u = ax2.twinx()\n",
    "ax2.plot(x_m, sig_pi_N[idx,:,:].flatten(), color='blue', label='sig')\n",
    "ax_u.plot(x_m, u_pi_N[idx,:,:].flatten(), color='blue', linestyle='dashed', label='sig')\n",
    "ax2.plot(x_m, sig_pi_Tx[idx,:,:].flatten(), 'o-', color='red', label='tau')\n",
    "#ax.fill_between(x_m.flatten().flatten(), sig_pi_Tx[idx,:,:].flatten(), 0, 'o-', color='red', alpha=0.2)\n",
    "ax_u.plot(x_m, u_pi_Tx[idx,:,:].flatten(), color='red', linestyle='dashed', label='u_Tx')\n",
    "ax2.legend()"
   ]
  },
  {
   "cell_type": "markdown",
   "id": "06def892-f848-4d86-9651-cb1986646d46",
   "metadata": {},
   "source": [
    "## Ligament area equal to 2 - Case 1: Perimiter = 2, Height = 1"
   ]
  },
  {
   "cell_type": "markdown",
   "id": "a37742c4-f499-4148-99c8-c53ebcbad589",
   "metadata": {},
   "source": [
    "Expected $\\sigma_{\\mathrm{T}} = \\frac{Load}{Area} = \\frac{1}{2} = 0.5$ "
   ]
  },
  {
   "cell_type": "code",
   "execution_count": null,
   "id": "ac18efd5-ade7-49d7-885d-bc585a3a786c",
   "metadata": {},
   "outputs": [],
   "source": [
    "n_y_e = 1\n",
    "n_inner_x_e = 1\n",
    "n_outer_x_e = 1\n",
    "L_x = 1.0\n",
    "P = 2.0\n",
    "R_in = P / (2 * np.pi) \n",
    "R_out = 2 * R_in\n",
    "xd_lower = XDomainFEGridAxiSym(coord_min=(0, 0),\n",
    "                          coord_max=(L_x, R_in),\n",
    "                          shape=(n_y_e, n_inner_x_e),\n",
    "                          integ_factor=2 * np.pi,\n",
    "                          fets=FETS2D4Q())\n",
    "xd_upper = XDomainFEGridAxiSym(coord_min=(0, R_in),\n",
    "                          coord_max=(L_x, R_out),\n",
    "                          shape=(n_y_e, n_outer_x_e),\n",
    "                          integ_factor=2 * np.pi,\n",
    "                          fets=FETS2D4Q())\n",
    "m1 = MATS3DElastic(E=10000, nu=0.3)\n",
    "m2 = MATS3DElastic(E=10000, nu=0.3)\n",
    "\n",
    "xd12 = XDomainFEInterface(\n",
    "    integ_factor = 2 * np.pi * R_in,\n",
    "    I=xd_lower.mesh.I[:, -1],\n",
    "    J=xd_upper.mesh.I[:, 0],\n",
    "    fets=FETS1D52ULRH()\n",
    ")"
   ]
  },
  {
   "cell_type": "code",
   "execution_count": null,
   "id": "98b6d868-e0b6-4503-8d67-07a81382d39f",
   "metadata": {},
   "outputs": [],
   "source": [
    "#bond_m = Slide34(E_T=10000, E_N=10000)\n",
    "# material_params =  dict(\n",
    "#      E_T=1, gamma_T=500, K_T=0, S_T=0.5, c_T=6, bartau=3000, \n",
    "#      E_N=1, S_N=0.05, c_N = 3, m = 0., f_t=2000, f_c=100000, f_c0 = 40000, eta=0.)\n",
    "# bond_m = Slide34(**material_params)\n",
    "\n",
    "material_params =  dict(\n",
    "     E_T=1, gamma_T=500, K_T=0, S_T=0.5, c_T=6, bartau=3000, \n",
    "     E_N=1, S_N=0.05, c_N = 3, m = 0., f_t=2000, f_c=100000, f_c0 = 40000, eta=0.)\n",
    "bond_m = Slide34(**material_params)"
   ]
  },
  {
   "cell_type": "code",
   "execution_count": null,
   "id": "3f71ff89-d7f0-4cba-88bc-96c0be6c19a3",
   "metadata": {},
   "outputs": [],
   "source": [
    "axisym = BCSlice(slice=xd_lower.mesh[0, 0, 0, 0],\n",
    "                 var='u', dims=[1], value=0)\n",
    "fixed_upper_support = BCSlice(slice=xd_upper.mesh[0, :, 0, :],\n",
    "                 var='u', dims=[0], value=0)\n",
    "loaded_lower= BCSlice(slice=xd_lower.mesh[-1, :, -1, :],\n",
    "                  var='u', dims=[0], value=0)\n",
    "loaded_lower_dof = loaded_lower.dofs[0]\n",
    "loaded_lower_bc = BCDof(var='f', dof=loaded_lower_dof, value = -1)\n",
    "\n",
    "bc1 = [axisym, fixed_upper_support, loaded_lower_bc]"
   ]
  },
  {
   "cell_type": "code",
   "execution_count": null,
   "id": "58b6ae22-11d7-4e83-b5a5-dce7bd4e51c1",
   "metadata": {
    "tags": []
   },
   "outputs": [],
   "source": [
    "m = TStepBC(\n",
    "    domains=[(xd_lower, m1),\n",
    "             (xd_upper, m2),\n",
    "             (xd12, bond_m),\n",
    "             ],\n",
    "    bc=bc1,  # + bc2,\n",
    ")\n",
    "\n",
    "m.hist.vis_record = {\n",
    "#    'strain': Vis3DTensorField(var='eps_ab'),\n",
    "    'stress': Vis3DTensorField(var='sig_ab'),\n",
    "    #        'kinematic hardening': Vis3DStateField(var='z_a')\n",
    "}\n",
    "\n",
    "s = m.sim\n",
    "s.tloop.verbose = True\n",
    "s.tloop.k_max = 1000\n",
    "s.tline.step = 1\n",
    "s.tstep.fe_domain.serialized_subdomains"
   ]
  },
  {
   "cell_type": "code",
   "execution_count": null,
   "id": "7e8a7612-fd9f-4208-ba1d-558bc0082da7",
   "metadata": {},
   "outputs": [],
   "source": [
    "#bond_m.interact()"
   ]
  },
  {
   "cell_type": "code",
   "execution_count": null,
   "id": "56e3948b-6ad0-49bf-80be-99a41d17c1a9",
   "metadata": {},
   "outputs": [],
   "source": [
    "xd12.hidden = True\n",
    "s.reset()\n",
    "s.run()"
   ]
  },
  {
   "cell_type": "code",
   "execution_count": null,
   "id": "20b321b3-e5f4-4921-bf94-0d4d6206f0ed",
   "metadata": {},
   "outputs": [],
   "source": [
    "F_to = m.hist.F_t\n",
    "U_to = m.hist.U_t\n",
    "F_outer_t = np.sum(F_to[:, fixed_upper_support.dofs], axis=-1)\n",
    "F_inner_t = np.sum(F_to[:, loaded_lower.dofs], axis=-1)\n",
    "U_inner_right_t = np.average(U_to[:, loaded_lower.dofs], axis=-1)"
   ]
  },
  {
   "cell_type": "code",
   "execution_count": null,
   "id": "17eeb9be-c8d1-464f-a098-6b15911243d5",
   "metadata": {},
   "outputs": [],
   "source": [
    "states_t = [states_t[2] for states_t in m.hist.state_vars]\n",
    "var_names = states_t[0].keys()\n",
    "EpsSig_t = {\n",
    "    var_name: np.array([ state_dict[var_name] for state_dict in states_t ]) \n",
    "    for var_name in var_names \n",
    "}\n",
    "u_pi_N = EpsSig_t['w_pi']\n",
    "u_pi_Tx = EpsSig_t['s_pi_x']\n",
    "sig_pi_N = EpsSig_t['sig_pi']\n",
    "sig_pi_Tx = EpsSig_t['tau_pi_x']\n",
    "sig_pi_Ty = EpsSig_t['tau_pi_y']\n",
    "omega_Nx = EpsSig_t['omega_N']\n",
    "omega_Tx = EpsSig_t['omega_T']\n",
    "x_m = xd12.x_Eia[:,:,0].flatten()"
   ]
  },
  {
   "cell_type": "code",
   "execution_count": null,
   "id": "4b5d2b87-e3ba-4e49-97fa-f78d16bd2e92",
   "metadata": {},
   "outputs": [],
   "source": [
    "_, (ax1, ax2) = plt.subplots(1,2)\n",
    "ax1.plot(-U_inner_right_t, F_outer_t, label='F_outer(U_top)')\n",
    "ax1.plot(-U_inner_right_t, F_inner_t, label='F_inner(U_top)')\n",
    "ax1.legend()\n",
    "idx = -1\n",
    "ax_u = ax2.twinx()\n",
    "ax2.plot(x_m, sig_pi_N[idx,:,:].flatten(), color='blue', label='sig')\n",
    "ax_u.plot(x_m, u_pi_N[idx,:,:].flatten(), color='blue', linestyle='dashed', label='sig')\n",
    "ax2.plot(x_m, sig_pi_Tx[idx,:,:].flatten(), 'o-', color='red', label='tau')\n",
    "#ax.fill_between(x_m.flatten().flatten(), sig_pi_Tx[idx,:,:].flatten(), 0, 'o-', color='red', alpha=0.2)\n",
    "ax_u.plot(x_m, u_pi_Tx[idx,:,:].flatten(), color='red', linestyle='dashed', label='u_Tx')\n",
    "ax2.legend()"
   ]
  },
  {
   "cell_type": "markdown",
   "id": "36621ec6-5c41-4d8f-8281-dc0b121ecd44",
   "metadata": {},
   "source": [
    "## Ligament area equal to 2 - Case 2: Perimiter = 1, Height = 2"
   ]
  },
  {
   "cell_type": "markdown",
   "id": "c30ba821-c518-4c16-a84d-e4a54dc4d052",
   "metadata": {},
   "source": [
    "Expected $\\sigma_{\\mathrm{T}} = \\frac{Load}{Area} = \\frac{1}{2} = 0.5$ "
   ]
  },
  {
   "cell_type": "code",
   "execution_count": null,
   "id": "10dcbb83-fb6e-4369-a5eb-6e63cd91580c",
   "metadata": {},
   "outputs": [],
   "source": [
    "n_y_e = 1\n",
    "n_inner_x_e = 1\n",
    "n_outer_x_e = 1\n",
    "L_x = 2.0\n",
    "P = 1.0\n",
    "R_in = P / (2 * np.pi) \n",
    "R_out = 2 * R_in\n",
    "xd_lower = XDomainFEGridAxiSym(coord_min=(0, 0),\n",
    "                          coord_max=(L_x, R_in),\n",
    "                          shape=(n_y_e, n_inner_x_e),\n",
    "                          integ_factor=2 * np.pi,\n",
    "                          fets=FETS2D4Q())\n",
    "xd_upper = XDomainFEGridAxiSym(coord_min=(0, R_in),\n",
    "                          coord_max=(L_x, R_out),\n",
    "                          shape=(n_y_e, n_outer_x_e),\n",
    "                          integ_factor=2 * np.pi,\n",
    "                          fets=FETS2D4Q())\n",
    "m1 = MATS3DElastic(E=10000, nu=0.3)\n",
    "m2 = MATS3DElastic(E=10000, nu=0.3)\n",
    "\n",
    "xd12 = XDomainFEInterface(\n",
    "    integ_factor = 2 * np.pi * R_in,\n",
    "    I=xd_lower.mesh.I[:, -1],\n",
    "    J=xd_upper.mesh.I[:, 0],\n",
    "    fets=FETS1D52ULRH()\n",
    ")"
   ]
  },
  {
   "cell_type": "code",
   "execution_count": null,
   "id": "2bc0e460-6891-4d63-b8b6-53d9f968ea2a",
   "metadata": {},
   "outputs": [],
   "source": [
    "#bond_m = Slide34(E_T=10000, E_N=10000)\n",
    "# material_params =  dict(\n",
    "#      E_T=1, gamma_T=500, K_T=0, S_T=0.5, c_T=6, bartau=3000, \n",
    "#      E_N=1, S_N=0.05, c_N = 3, m = 0., f_t=2000, f_c=100000, f_c0 = 40000, eta=0.)\n",
    "# bond_m = Slide34(**material_params)\n",
    "\n",
    "material_params =  dict(\n",
    "     E_T=1, gamma_T=500, K_T=0, S_T=0.5, c_T=6, bartau=3000, \n",
    "     E_N=1, S_N=0.05, c_N = 3, m = 0., f_t=2000, f_c=100000, f_c0 = 40000, eta=0.)\n",
    "bond_m = Slide34(**material_params)"
   ]
  },
  {
   "cell_type": "code",
   "execution_count": null,
   "id": "2a4633a3-ce0c-4011-8436-1a9e5c99a679",
   "metadata": {},
   "outputs": [],
   "source": [
    "axisym = BCSlice(slice=xd_lower.mesh[0, 0, 0, 0],\n",
    "                 var='u', dims=[1], value=0)\n",
    "fixed_upper_support = BCSlice(slice=xd_upper.mesh[0, :, 0, :],\n",
    "                 var='u', dims=[0], value=0)\n",
    "loaded_lower= BCSlice(slice=xd_lower.mesh[-1, :, -1, :],\n",
    "                  var='u', dims=[0], value=0)\n",
    "loaded_lower_dof = loaded_lower.dofs[0]\n",
    "loaded_lower_bc = BCDof(var='f', dof=loaded_lower_dof, value = -1)\n",
    "\n",
    "bc1 = [axisym, fixed_upper_support, loaded_lower_bc]"
   ]
  },
  {
   "cell_type": "code",
   "execution_count": null,
   "id": "23bbf7d5-b646-4ec2-835c-dc09a026dad1",
   "metadata": {
    "tags": []
   },
   "outputs": [],
   "source": [
    "m = TStepBC(\n",
    "    domains=[(xd_lower, m1),\n",
    "             (xd_upper, m2),\n",
    "             (xd12, bond_m),\n",
    "             ],\n",
    "    bc=bc1,  # + bc2,\n",
    ")\n",
    "\n",
    "m.hist.vis_record = {\n",
    "#    'strain': Vis3DTensorField(var='eps_ab'),\n",
    "    'stress': Vis3DTensorField(var='sig_ab'),\n",
    "    #        'kinematic hardening': Vis3DStateField(var='z_a')\n",
    "}\n",
    "\n",
    "s = m.sim\n",
    "s.tloop.verbose = True\n",
    "s.tloop.k_max = 1000\n",
    "s.tline.step = 1\n",
    "s.tstep.fe_domain.serialized_subdomains"
   ]
  },
  {
   "cell_type": "code",
   "execution_count": null,
   "id": "641dc9ea-65f4-473a-9d4a-02f2afc84c6e",
   "metadata": {},
   "outputs": [],
   "source": [
    "#bond_m.interact()"
   ]
  },
  {
   "cell_type": "code",
   "execution_count": null,
   "id": "a312b784-f3ac-496c-ada0-2b7142947285",
   "metadata": {},
   "outputs": [],
   "source": [
    "xd12.hidden = True\n",
    "s.reset()\n",
    "s.run()"
   ]
  },
  {
   "cell_type": "code",
   "execution_count": null,
   "id": "b546b446-3e9f-40d1-9d35-e6c4aa2d02a8",
   "metadata": {},
   "outputs": [],
   "source": [
    "F_to = m.hist.F_t\n",
    "U_to = m.hist.U_t\n",
    "F_outer_t = np.sum(F_to[:, fixed_upper_support.dofs], axis=-1)\n",
    "F_inner_t = np.sum(F_to[:, loaded_lower.dofs], axis=-1)\n",
    "U_inner_right_t = np.average(U_to[:, loaded_lower.dofs], axis=-1)"
   ]
  },
  {
   "cell_type": "code",
   "execution_count": null,
   "id": "90a78466-ed48-4937-86c2-1d4866df5579",
   "metadata": {},
   "outputs": [],
   "source": [
    "states_t = [states_t[2] for states_t in m.hist.state_vars]\n",
    "var_names = states_t[0].keys()\n",
    "EpsSig_t = {\n",
    "    var_name: np.array([ state_dict[var_name] for state_dict in states_t ]) \n",
    "    for var_name in var_names \n",
    "}\n",
    "u_pi_N = EpsSig_t['w_pi']\n",
    "u_pi_Tx = EpsSig_t['s_pi_x']\n",
    "sig_pi_N = EpsSig_t['sig_pi']\n",
    "sig_pi_Tx = EpsSig_t['tau_pi_x']\n",
    "sig_pi_Ty = EpsSig_t['tau_pi_y']\n",
    "omega_Nx = EpsSig_t['omega_N']\n",
    "omega_Tx = EpsSig_t['omega_T']\n",
    "x_m = xd12.x_Eia[:,:,0].flatten()"
   ]
  },
  {
   "cell_type": "code",
   "execution_count": null,
   "id": "44df933e-99b1-4c75-b88a-91ccfb092a14",
   "metadata": {},
   "outputs": [],
   "source": [
    "_, (ax1, ax2) = plt.subplots(1,2)\n",
    "ax1.plot(-U_inner_right_t, F_outer_t, label='F_outer(U_top)')\n",
    "ax1.plot(-U_inner_right_t, F_inner_t, label='F_inner(U_top)')\n",
    "ax1.legend()\n",
    "idx = -1\n",
    "ax_u = ax2.twinx()\n",
    "ax2.plot(x_m, sig_pi_N[idx,:,:].flatten(), color='blue', label='sig')\n",
    "ax_u.plot(x_m, u_pi_N[idx,:,:].flatten(), color='blue', linestyle='dashed', label='sig')\n",
    "ax2.plot(x_m, sig_pi_Tx[idx,:,:].flatten(), 'o-', color='red', label='tau')\n",
    "#ax.fill_between(x_m.flatten().flatten(), sig_pi_Tx[idx,:,:].flatten(), 0, 'o-', color='red', alpha=0.2)\n",
    "ax_u.plot(x_m, u_pi_Tx[idx,:,:].flatten(), color='red', linestyle='dashed', label='u_Tx')\n",
    "ax2.legend()"
   ]
  },
  {
   "cell_type": "markdown",
   "id": "31f8ff31-b931-4bbe-9145-38ec818479b8",
   "metadata": {},
   "source": [
    "# FE discretization - Displacement-controlled - 1 mm sliding"
   ]
  },
  {
   "cell_type": "markdown",
   "id": "96be4b29-3d7d-4f23-8e2c-51077a7b3282",
   "metadata": {},
   "source": [
    "## Ligament of area = 2"
   ]
  },
  {
   "cell_type": "markdown",
   "id": "154431ee-d2cc-4b7e-a07f-44cd48c2d48d",
   "metadata": {},
   "source": [
    "Expected $\\sigma_{\\mathrm{T}} = E_{\\mathrm{T}} *  u_{\\mathrm{T}} = 1 * 1 = 1$ \n",
    "Expected $F = \\sigma_{\\mathrm{T}} *  Area = 1 * 2 = 2$ "
   ]
  },
  {
   "cell_type": "code",
   "execution_count": null,
   "id": "251ee5e5-fa1e-40d0-9391-1784322538cf",
   "metadata": {},
   "outputs": [],
   "source": [
    "n_y_e = 1\n",
    "n_inner_x_e = 1\n",
    "n_outer_x_e = 1\n",
    "L_x = 1.0\n",
    "P = 2.0\n",
    "R_in = P / (2 * np.pi) \n",
    "R_out = 2 * R_in\n",
    "xd_lower = XDomainFEGridAxiSym(coord_min=(0, 0),\n",
    "                          coord_max=(L_x, R_in),\n",
    "                          shape=(n_y_e, n_inner_x_e),\n",
    "                          integ_factor=2 * np.pi,\n",
    "                          fets=FETS2D4Q())\n",
    "xd_upper = XDomainFEGridAxiSym(coord_min=(0, R_in),\n",
    "                          coord_max=(L_x, R_out),\n",
    "                          shape=(n_y_e, n_outer_x_e),\n",
    "                          integ_factor=2 * np.pi,\n",
    "                          fets=FETS2D4Q())\n",
    "m1 = MATS3DElastic(E=10000, nu=0.3)\n",
    "m2 = MATS3DElastic(E=10000, nu=0.3)\n",
    "\n",
    "xd12 = XDomainFEInterface(\n",
    "    integ_factor = 2 * np.pi * R_in,\n",
    "    I=xd_lower.mesh.I[:, -1],\n",
    "    J=xd_upper.mesh.I[:, 0],\n",
    "    fets=FETS1D52ULRH()\n",
    ")"
   ]
  },
  {
   "cell_type": "code",
   "execution_count": null,
   "id": "2aa74266-e2af-45d5-904f-7b6194bf2c13",
   "metadata": {},
   "outputs": [],
   "source": [
    "#bond_m = Slide34(E_T=10000, E_N=10000)\n",
    "# material_params =  dict(\n",
    "#      E_T=1, gamma_T=500, K_T=0, S_T=0.5, c_T=6, bartau=3000, \n",
    "#      E_N=1, S_N=0.05, c_N = 3, m = 0., f_t=2000, f_c=100000, f_c0 = 40000, eta=0.)\n",
    "# bond_m = Slide34(**material_params)\n",
    "\n",
    "material_params =  dict(\n",
    "     E_T=1, gamma_T=500, K_T=0, S_T=0.5, c_T=6, bartau=3000, \n",
    "     E_N=1, S_N=0.05, c_N = 3, m = 0., f_t=2000, f_c=100000, f_c0 = 40000, eta=0.)\n",
    "bond_m = Slide34(**material_params)"
   ]
  },
  {
   "cell_type": "code",
   "execution_count": null,
   "id": "ba43f9df-5b54-48bc-9a42-8b0e579c3ed0",
   "metadata": {},
   "outputs": [],
   "source": [
    "axisym = BCSlice(slice=xd_lower.mesh[0, 0, 0, 0],\n",
    "                 var='u', dims=[1], value=0)\n",
    "fixed_upper_support = BCSlice(slice=xd_upper.mesh[0, :, 0, :],\n",
    "                 var='u', dims=[0], value=0)\n",
    "loaded_lower= BCSlice(slice=xd_lower.mesh[-1, :, -1, :],\n",
    "                  var='u', dims=[0], value=0)\n",
    "loaded_lower_dof = loaded_lower.dofs[0]\n",
    "loaded_lower_bc = BCDof(var='u', dof=loaded_lower_dof, value = -1)\n",
    "\n",
    "bc1 = [axisym, fixed_upper_support, loaded_lower_bc]"
   ]
  },
  {
   "cell_type": "code",
   "execution_count": null,
   "id": "efcf0ff1-3d8e-4d8f-beaf-4cfce353fea7",
   "metadata": {
    "tags": []
   },
   "outputs": [],
   "source": [
    "m = TStepBC(\n",
    "    domains=[(xd_lower, m1),\n",
    "             (xd_upper, m2),\n",
    "             (xd12, bond_m),\n",
    "             ],\n",
    "    bc=bc1,  # + bc2,\n",
    ")\n",
    "\n",
    "m.hist.vis_record = {\n",
    "#    'strain': Vis3DTensorField(var='eps_ab'),\n",
    "    'stress': Vis3DTensorField(var='sig_ab'),\n",
    "    #        'kinematic hardening': Vis3DStateField(var='z_a')\n",
    "}\n",
    "\n",
    "s = m.sim\n",
    "s.tloop.verbose = True\n",
    "s.tloop.k_max = 1000\n",
    "s.tline.step = 1\n",
    "s.tstep.fe_domain.serialized_subdomains"
   ]
  },
  {
   "cell_type": "code",
   "execution_count": null,
   "id": "344fa8dd-8f36-4842-89e1-a75fda7b3dbc",
   "metadata": {},
   "outputs": [],
   "source": [
    "#bond_m.interact()"
   ]
  },
  {
   "cell_type": "code",
   "execution_count": null,
   "id": "311cac16-cf90-4e56-b4f0-b313dabfda38",
   "metadata": {},
   "outputs": [],
   "source": [
    "xd12.hidden = True\n",
    "s.reset()\n",
    "s.run()"
   ]
  },
  {
   "cell_type": "code",
   "execution_count": null,
   "id": "1b856cb5-353a-4ac7-b5e3-7ef2b3971a42",
   "metadata": {},
   "outputs": [],
   "source": [
    "F_to = m.hist.F_t\n",
    "U_to = m.hist.U_t\n",
    "F_outer_t = np.sum(F_to[:, fixed_upper_support.dofs], axis=-1)\n",
    "F_inner_t = np.sum(F_to[:, loaded_lower.dofs], axis=-1)\n",
    "U_inner_right_t = np.average(U_to[:, loaded_lower.dofs], axis=-1)"
   ]
  },
  {
   "cell_type": "code",
   "execution_count": null,
   "id": "88e6b224-f388-46cb-84dd-ab71cd13eaf2",
   "metadata": {},
   "outputs": [],
   "source": [
    "states_t = [states_t[2] for states_t in m.hist.state_vars]\n",
    "var_names = states_t[0].keys()\n",
    "EpsSig_t = {\n",
    "    var_name: np.array([ state_dict[var_name] for state_dict in states_t ]) \n",
    "    for var_name in var_names \n",
    "}\n",
    "u_pi_N = EpsSig_t['w_pi']\n",
    "u_pi_Tx = EpsSig_t['s_pi_x']\n",
    "sig_pi_N = EpsSig_t['sig_pi']\n",
    "sig_pi_Tx = EpsSig_t['tau_pi_x']\n",
    "sig_pi_Ty = EpsSig_t['tau_pi_y']\n",
    "omega_Nx = EpsSig_t['omega_N']\n",
    "omega_Tx = EpsSig_t['omega_T']\n",
    "x_m = xd12.x_Eia[:,:,0].flatten()"
   ]
  },
  {
   "cell_type": "code",
   "execution_count": null,
   "id": "bed4b8c0-57e3-48d0-bf2a-172d964db993",
   "metadata": {},
   "outputs": [],
   "source": [
    "_, (ax1, ax2) = plt.subplots(1,2)\n",
    "ax1.plot(-U_inner_right_t, F_outer_t, label='F_outer(U_top)')\n",
    "ax1.legend()\n",
    "idx = -1\n",
    "ax_u = ax2.twinx()\n",
    "ax2.plot(x_m, sig_pi_N[idx,:,:].flatten(), color='blue', label='sig')\n",
    "ax_u.plot(x_m, u_pi_N[idx,:,:].flatten(), color='blue', linestyle='dashed', label='sig')\n",
    "ax2.plot(x_m, sig_pi_Tx[idx,:,:].flatten(), 'o-', color='red', label='tau')\n",
    "#ax.fill_between(x_m.flatten().flatten(), sig_pi_Tx[idx,:,:].flatten(), 0, 'o-', color='red', alpha=0.2)\n",
    "ax_u.plot(x_m, u_pi_Tx[idx,:,:].flatten(), color='red', linestyle='dashed', label='u_Tx')\n",
    "ax2.legend()"
   ]
  },
  {
   "cell_type": "markdown",
   "id": "e1a47727-8111-47b1-9e97-a67e78173a61",
   "metadata": {},
   "source": [
    "# FE discretization - Applying lateral compression/tension"
   ]
  },
  {
   "cell_type": "markdown",
   "id": "2b27c18e-808a-446a-8e6f-2134798e1c0b",
   "metadata": {},
   "source": [
    "## Area of the section = 1, load = 1"
   ]
  },
  {
   "cell_type": "markdown",
   "id": "45e51170-9696-4403-b6f1-e85b39c23962",
   "metadata": {},
   "source": [
    "Expected $\\sigma_{x} =  \\frac{Load}{Area} =  \\frac{1}{1} = 1$ \n",
    "Expected $u_x = \\frac{\\sigma_{x}}{E} = \\frac{1}{1} = 1$ "
   ]
  },
  {
   "cell_type": "code",
   "execution_count": null,
   "id": "8f58394b-64af-41e7-a0b0-157218bb6a66",
   "metadata": {
    "tags": []
   },
   "outputs": [],
   "source": [
    "n_y_e = 8\n",
    "n_inner_x_e = 4\n",
    "n_outer_x_e = 4\n",
    "L_x = 1.0\n",
    "P = 1.0\n",
    "R_in = P / (2 * np.pi) \n",
    "R_out = 2 * R_in\n",
    "xd_lower = XDomainFEGridAxiSym(coord_min=(0, 0),\n",
    "                          coord_max=(L_x, R_in),\n",
    "                          shape=(n_y_e, n_inner_x_e),\n",
    "                          integ_factor=2 * np.pi,\n",
    "                          fets=FETS2D4Q())\n",
    "xd_upper = XDomainFEGridAxiSym(coord_min=(0, R_in),\n",
    "                          coord_max=(L_x, R_out),\n",
    "                          shape=(n_y_e, n_outer_x_e),\n",
    "                          integ_factor=2 * np.pi,\n",
    "                          fets=FETS2D4Q())\n",
    "m1 = MATS3DElastic(E=10000, nu=0.3)\n",
    "m2 = MATS3DElastic(E=10000, nu=0.3)\n",
    "\n",
    "xd12 = XDomainFEInterface(\n",
    "    integ_factor = 2 * np.pi * R_in,\n",
    "    I=xd_upper.mesh.I[:, -1],\n",
    "    J=xd_lower.mesh.I[:, 0],\n",
    "    fets=FETS1D52ULRH()\n",
    ")"
   ]
  },
  {
   "cell_type": "code",
   "execution_count": null,
   "id": "8219b3ef-adbe-4103-8acf-ec929d00bab3",
   "metadata": {},
   "outputs": [],
   "source": [
    "material_params =  dict(\n",
    "     E_T=10000, gamma_T=500, K_T=0, S_T=0.5, c_T=6, bartau=3000, \n",
    "     E_N=10000, S_N=0.05, c_N = 3, m = 0., f_t=2000, f_c=100000, f_c0 = 40000, eta=0.)\n",
    "bond_m = Slide34(**material_params)"
   ]
  },
  {
   "cell_type": "code",
   "execution_count": null,
   "id": "6c6721de-f287-483b-818b-ab4f97f35fb6",
   "metadata": {},
   "outputs": [],
   "source": [
    "axisym = BCSlice(slice=xd_lower.mesh[:, 0, :, 0],\n",
    "                 var='u', dims=[1], value=0)\n",
    "fixed_upper_support = BCSlice(slice=xd_upper.mesh[0, :, 0, :],\n",
    "                 var='u', dims=[0], value=0)\n",
    "radial = BCSlice(slice=xd_upper.mesh[:, -1, :, -1],\n",
    "                 var='u', dims=[1], value=0.001)\n",
    "\n",
    "F = -1 / len(radial.dofs)\n",
    "\n",
    "radial_compression = [BCDof(var='f', dof=dof, value = F) \n",
    "                                      for dof in radial.dofs ]\n",
    "\n",
    "bc1 = [axisym, fixed_upper_support ] + radial_compression"
   ]
  },
  {
   "cell_type": "code",
   "execution_count": null,
   "id": "063a8d0b-df81-417a-b13d-bdcdc8ef58b1",
   "metadata": {
    "tags": []
   },
   "outputs": [],
   "source": [
    "m = TStepBC(\n",
    "    domains=[(xd_lower, m1),\n",
    "             (xd_upper, m2),\n",
    "             (xd12, bond_m),\n",
    "             ],\n",
    "    bc=bc1,  # + bc2,\n",
    ")\n",
    "\n",
    "m.hist.vis_record = {\n",
    "#    'strain': Vis3DTensorField(var='eps_ab'),\n",
    "    'stress': Vis3DTensorField(var='sig_ab'),\n",
    "    #        'kinematic hardening': Vis3DStateField(var='z_a')\n",
    "}\n",
    "\n",
    "s = m.sim\n",
    "s.tloop.verbose = True\n",
    "s.tloop.k_max = 1000\n",
    "s.tline.step = 0.1\n",
    "s.tstep.fe_domain.serialized_subdomains"
   ]
  },
  {
   "cell_type": "code",
   "execution_count": null,
   "id": "3ba96541-e035-4a81-96b3-2e796469eeaf",
   "metadata": {},
   "outputs": [],
   "source": [
    "#bond_m.interact()"
   ]
  },
  {
   "cell_type": "code",
   "execution_count": null,
   "id": "b60f4577-e837-4d6e-bbfc-1b1b5f80e690",
   "metadata": {},
   "outputs": [],
   "source": [
    "xd12.hidden = True\n",
    "s.reset()\n",
    "s.run()"
   ]
  },
  {
   "cell_type": "code",
   "execution_count": null,
   "id": "733c2e2d-5a1e-4907-857b-c61c385ea386",
   "metadata": {},
   "outputs": [],
   "source": [
    "states_t = [states_t[2] for states_t in m.hist.state_vars]\n",
    "var_names = states_t[0].keys()\n",
    "EpsSig_t = {\n",
    "    var_name: np.array([ state_dict[var_name] for state_dict in states_t ]) \n",
    "    for var_name in var_names \n",
    "}\n",
    "u_pi_N = EpsSig_t['w_pi']\n",
    "u_pi_Tx = EpsSig_t['s_pi_x']\n",
    "sig_pi_N = EpsSig_t['sig_pi']\n",
    "sig_pi_Tx = EpsSig_t['tau_pi_x']\n",
    "sig_pi_Ty = EpsSig_t['tau_pi_y']\n",
    "omega_Nx = EpsSig_t['omega_N']\n",
    "omega_Tx = EpsSig_t['omega_T']\n",
    "x_m = xd12.x_Eia[:,:,0].flatten()"
   ]
  },
  {
   "cell_type": "code",
   "execution_count": null,
   "id": "76bb7aed-25b5-4994-b8b3-341e6c6bcd20",
   "metadata": {},
   "outputs": [],
   "source": [
    "time = m.hist.t\n",
    "_, (ax1, ax2) = plt.subplots(1,2)\n",
    "ax1.plot(time, sig_pi_N[:,:,0].flatten(), label='sigma')\n",
    "ax1.plot(time, sig_pi_N[:,:,1].flatten(), label='sigma')\n",
    "ax1.set_xlabel('time')\n",
    "ax1.set_ylabel('normal stress')\n",
    "ax1.legend()\n",
    "\n",
    "ax2.plot(time, sig_pi_Tx[:,:,0].flatten(), color='red', label='tau')\n",
    "ax2.set_xlabel('time')\n",
    "ax2.set_ylabel('tangential stress')\n",
    "ax2.legend()"
   ]
  },
  {
   "cell_type": "code",
   "execution_count": null,
   "id": "5d2bc6c5-f835-42a3-a57b-a62e0e57c58b",
   "metadata": {},
   "outputs": [],
   "source": [
    "if True:\n",
    "    mlab.options.backend = 'envisage'\n",
    "    mlab.options.offscreen = False # 'envisage'\n",
    "    f_strain = mlab.figure()\n",
    "    scene = mlab.get_engine().scenes[-1]\n",
    "    scene.name = 'stress'\n",
    "    strain_viz = Viz3DTensorField(vis3d=m.hist['stress'])\n",
    "    strain_viz.setup()\n",
    "    strain_viz.warp_vector.filter.scale_factor = 0.1\n",
    "    strain_viz.plot(s.tstep.t_n)\n",
    "    mlab.show()"
   ]
  },
  {
   "cell_type": "markdown",
   "id": "05ade4a9-e264-4184-a76a-b22370d5ff1c",
   "metadata": {},
   "source": [
    "# FE discretization - Checking stresses at Mayavi "
   ]
  },
  {
   "cell_type": "markdown",
   "id": "4e97351f-1e31-47ce-b567-4744de32bb92",
   "metadata": {},
   "source": [
    "## Area of the section = 1, load = 1"
   ]
  },
  {
   "cell_type": "markdown",
   "id": "cf11640e-1dc9-461b-8314-9ee45e6fa7c5",
   "metadata": {},
   "source": [
    "Expected $\\sigma_{x} =  \\frac{Load}{Area} =  \\frac{1}{1} = 1$ \n",
    "Expected $u_x = \\frac{\\sigma_{x}}{E} = \\frac{1}{1} = 1$ "
   ]
  },
  {
   "cell_type": "code",
   "execution_count": null,
   "id": "16fe03ff-865b-4b4a-ab77-88f36fca59a2",
   "metadata": {},
   "outputs": [],
   "source": [
    "n_y_e = 1\n",
    "n_inner_x_e = 1\n",
    "\n",
    "L_x = 1.0\n",
    "R_in = 1.0 / 2 * (np.pi)\n",
    "\n",
    "xd_lower = XDomainFEGridAxiSym(coord_min=(0, 0),\n",
    "                          coord_max=(L_x, R_in),\n",
    "                          shape=(n_y_e, n_inner_x_e),\n",
    "                          integ_factor=2 * np.pi,\n",
    "                          fets=FETS2D4Q())\n",
    "\n",
    "m1 = MATS3DElastic(E=1000, nu=0.3)\n"
   ]
  },
  {
   "cell_type": "code",
   "execution_count": null,
   "id": "b905fe3a-e791-4057-a0be-20c9cd7ef939",
   "metadata": {},
   "outputs": [],
   "source": [
    "axisym = BCSlice(slice=xd_lower.mesh[:, -1, :, -1],\n",
    "                 var='u', dims=[1], value=0)\n",
    "fixed_support = BCSlice(slice=xd_lower.mesh[0, :, 0, :],\n",
    "                 var='u', dims=[0], value=0)\n",
    "loaded_lower= BCSlice(slice=xd_lower.mesh[-1, :, -1, :],\n",
    "                  var='u', dims=[0], value=-0.001)\n",
    "\n",
    "# loaded_lower_dof = loaded_lower.dofs[0]\n",
    "# loaded_lower_dof_2 = loaded_lower.dofs[1]\n",
    "\n",
    "# loaded_lower_bc = BCDof(var='f', dof=loaded_lower_dof, value = -0.5)\n",
    "# loaded_lower_bc_2 = BCDof(var='f', dof=loaded_lower_dof_2, value = -0.5)\n",
    "\n",
    "# bc1 = [axisym, fixed_support, loaded_lower_bc, loaded_lower_bc_2]\n",
    "\n",
    "loaded_lower_dof = loaded_lower.dofs\n",
    "\n",
    "load = 1\n",
    "F = load / len(loaded_lower_dof)\n",
    "\n",
    "loaded_lower_force = [BCDof(var='f', dof=dof, value = F) \n",
    "                     for dof in loaded_lower_dof]\n",
    "\n",
    "# bc1 = [axisym, fixed_support] + loaded_lower_force\n",
    "bc1 = [axisym, fixed_support, loaded_lower] \n"
   ]
  },
  {
   "cell_type": "code",
   "execution_count": null,
   "id": "25dc2d46-d3f5-4365-8415-9b5ce0ddb8a7",
   "metadata": {},
   "outputs": [],
   "source": [
    "F"
   ]
  },
  {
   "cell_type": "code",
   "execution_count": null,
   "id": "fd533e38-a75d-4273-93dc-fa06b7ac438f",
   "metadata": {
    "tags": []
   },
   "outputs": [],
   "source": [
    "m = TStepBC(\n",
    "    domains=[(xd_lower, m1),\n",
    "             ],\n",
    "    bc=bc1,  # + bc2,\n",
    ")\n",
    "\n",
    "m.hist.vis_record = {\n",
    "#    'strain': Vis3DTensorField(var='eps_ab'),\n",
    "    'stress': Vis3DTensorField(var='sig_ab'),\n",
    "    #        'kinematic hardening': Vis3DStateField(var='z_a')\n",
    "}\n",
    "\n",
    "s = m.sim\n",
    "s.tloop.verbose = True\n",
    "s.tloop.k_max = 1000\n",
    "s.tline.step = 1\n",
    "s.tstep.fe_domain.serialized_subdomains"
   ]
  },
  {
   "cell_type": "code",
   "execution_count": null,
   "id": "4fa37e72-e673-459a-8463-7cb1f34bb5dc",
   "metadata": {},
   "outputs": [],
   "source": [
    "#bond_m.interact()"
   ]
  },
  {
   "cell_type": "code",
   "execution_count": null,
   "id": "1cacabec-bdf8-455c-bbb4-3c929859988e",
   "metadata": {},
   "outputs": [],
   "source": [
    "s.reset()\n",
    "s.run()"
   ]
  },
  {
   "cell_type": "code",
   "execution_count": null,
   "id": "1ab3926f-3e3a-4321-a9ef-ff72cb8ab35a",
   "metadata": {},
   "outputs": [],
   "source": [
    "F_to = m.hist.F_t\n",
    "U_to = m.hist.U_t\n",
    "F_inner_t = np.sum(F_to[:, loaded_lower.dofs], axis=-1)\n",
    "U_inner_right_t = np.average(U_to[:, loaded_lower.dofs], axis=-1)"
   ]
  },
  {
   "cell_type": "code",
   "execution_count": null,
   "id": "8948410f-e666-470b-98e3-a05ca0ea97b4",
   "metadata": {},
   "outputs": [],
   "source": [
    "_, (ax1) = plt.subplots(1,1)\n",
    "ax1.plot(-U_inner_right_t, F_inner_t, label='F_inner(U_top)')\n",
    "ax1.legend()\n"
   ]
  },
  {
   "cell_type": "code",
   "execution_count": null,
   "id": "05072349-b465-45c5-b6c7-a97c3b639594",
   "metadata": {},
   "outputs": [],
   "source": [
    "if True:\n",
    "    mlab.options.backend = 'envisage'\n",
    "    mlab.options.offscreen = False # 'envisage'\n",
    "    f_strain = mlab.figure()\n",
    "    scene = mlab.get_engine().scenes[-1]\n",
    "    scene.name = 'stress'\n",
    "    strain_viz = Viz3DTensorField(vis3d=m.hist['stress'])\n",
    "    strain_viz.setup()\n",
    "    strain_viz.warp_vector.filter.scale_factor = 0.1\n",
    "    strain_viz.plot(s.tstep.t_n)\n",
    "    mlab.show()"
   ]
  },
  {
   "cell_type": "markdown",
   "id": "1f81547f",
   "metadata": {},
   "source": [
    "# Plot the punch-through curve"
   ]
  },
  {
   "cell_type": "code",
   "execution_count": null,
   "id": "30f88b7e",
   "metadata": {},
   "outputs": [],
   "source": [
    "F_to = m.hist.F_t\n",
    "U_to = m.hist.U_t"
   ]
  },
  {
   "cell_type": "code",
   "execution_count": null,
   "id": "5116de67-1e78-4f1d-9970-e45aec667755",
   "metadata": {},
   "outputs": [],
   "source": [
    "xd12.o_Eia"
   ]
  },
  {
   "cell_type": "code",
   "execution_count": null,
   "id": "9f99ac70-b142-47ef-be22-4a7373e37089",
   "metadata": {},
   "outputs": [],
   "source": [
    "m.hist.U_t[-1][xd12.o_Eia]"
   ]
  },
  {
   "cell_type": "code",
   "execution_count": null,
   "id": "6660108c-95cb-4280-96a0-e2de828518b0",
   "metadata": {},
   "outputs": [],
   "source": [
    "xd12.map_U_to_field(U_to[-1])[0,0]"
   ]
  },
  {
   "cell_type": "code",
   "execution_count": null,
   "id": "220e923e",
   "metadata": {},
   "outputs": [],
   "source": [
    "F_to.shape"
   ]
  },
  {
   "cell_type": "code",
   "execution_count": null,
   "id": "8ee3cb43",
   "metadata": {},
   "outputs": [],
   "source": [
    "F_outer_t = np.sum(F_to[:, fixed_upper_support.dofs], axis=-1)\n",
    "F_inner_t = np.sum(F_to[:, loaded_lower.dofs], axis=-1)\n",
    "U_inner_right_t = np.average(U_to[:, loaded_lower.dofs], axis=-1)\n",
    "U_inner_left_t = np.average(U_to[:, unloaded_inner.dofs], axis=-1)\n",
    "#U_inner_bot_t = np.average(U_to[:, free_inner_y.dofs], axis=-1)"
   ]
  },
  {
   "cell_type": "code",
   "execution_count": null,
   "id": "be243971",
   "metadata": {},
   "outputs": [],
   "source": [
    "_, ax = plt.subplots(1,1)\n",
    "ax.plot(-U_inner_right_t, F_outer_t, label='F_outer(U_top)')\n",
    "ax.plot(-U_inner_left_t, F_outer_t, label='F_outer(U_top)')\n",
    "ax.plot(-U_inner_right_t, F_inner_t, label='F_inner(U_top)')\n",
    "#ax.plot(-U_inner_bot_t, F_inner_t, label='F_inner(U_bot)')\n",
    "ax.legend()"
   ]
  },
  {
   "cell_type": "code",
   "execution_count": null,
   "id": "6d303963-9c6e-4adc-ad0a-0a34e25bd08a",
   "metadata": {},
   "outputs": [],
   "source": [
    "if True:\n",
    "    mlab.options.backend = 'envisage'\n",
    "    mlab.options.offscreen = False # 'envisage'\n",
    "    f_strain = mlab.figure()\n",
    "    scene = mlab.get_engine().scenes[-1]\n",
    "    scene.name = 'stress'\n",
    "    strain_viz = Viz3DTensorField(vis3d=m.hist['stress'])\n",
    "    strain_viz.setup()\n",
    "    strain_viz.warp_vector.filter.scale_factor = 0.1\n",
    "    strain_viz.plot(s.tstep.t_n)\n",
    "    mlab.show()"
   ]
  },
  {
   "cell_type": "code",
   "execution_count": null,
   "id": "fa159b7e-462b-44bf-b1bc-a1f5dc3a3186",
   "metadata": {},
   "outputs": [],
   "source": [
    "states_t = [states_t[2] for states_t in m.hist.state_vars]\n",
    "var_names = states_t[0].keys()\n",
    "EpsSig_t = {\n",
    "    var_name: np.array([ state_dict[var_name] for state_dict in states_t ]) \n",
    "    for var_name in var_names \n",
    "}"
   ]
  },
  {
   "cell_type": "code",
   "execution_count": null,
   "id": "8875bf8e-2dcd-4705-9f85-cf52efa7b1d4",
   "metadata": {},
   "outputs": [],
   "source": [
    "var_names"
   ]
  },
  {
   "cell_type": "code",
   "execution_count": null,
   "id": "7e3aed39-09b2-4527-adaf-dcccce053372",
   "metadata": {},
   "outputs": [],
   "source": [
    "u_pi_N = EpsSig_t['w_pi']\n",
    "u_pi_Tx = EpsSig_t['s_pi_x']\n",
    "sig_pi_N = EpsSig_t['sig_pi']\n",
    "sig_pi_Tx = EpsSig_t['tau_pi_x']\n",
    "sig_pi_Ty = EpsSig_t['tau_pi_y']\n",
    "omega_Nx = EpsSig_t['omega_N']\n",
    "omega_Tx = EpsSig_t['omega_T']"
   ]
  },
  {
   "cell_type": "code",
   "execution_count": null,
   "id": "f9e27a02-7826-4772-8f1a-39214856dbe5",
   "metadata": {},
   "outputs": [],
   "source": [
    "x_m = xd12.x_Eia[:,:,0].flatten()"
   ]
  },
  {
   "cell_type": "code",
   "execution_count": null,
   "id": "f2a0285f-8322-44fa-841d-6be327f78c3f",
   "metadata": {},
   "outputs": [],
   "source": [
    "_, (ax, ax_omega) = plt.subplots(1,2, figsize=(10,5))\n",
    "idx = -1\n",
    "ax_u = ax.twinx()\n",
    "ax.plot(x_m, sig_pi_N[idx,:,:].flatten(), color='blue', label='sig')\n",
    "ax_u.plot(x_m, u_pi_N[idx,:,:].flatten(), color='blue', linestyle='dashed', label='sig')\n",
    "ax.plot(x_m, sig_pi_Tx[idx,:,:].flatten(), 'o-', color='red', label='tau')\n",
    "#ax.fill_between(x_m.flatten().flatten(), sig_pi_Tx[idx,:,:].flatten(), 0, 'o-', color='red', alpha=0.2)\n",
    "ax_u.plot(x_m, u_pi_Tx[idx,:,:].flatten(), color='red', linestyle='dashed', label='u_Tx')\n",
    "ax_omega.plot(x_m, omega_Nx[idx,:,:].flatten(), color='green', label='omega_N')\n",
    "ax_omega.plot(x_m, omega_Tx[idx,:,:].flatten(), color='green', linestyle='dashed', label='omega_T')\n",
    "ax.legend()\n",
    "ax_omega.legend()"
   ]
  },
  {
   "cell_type": "code",
   "execution_count": null,
   "id": "a2d41bdf-d155-4eb9-b990-6057e97efbe7",
   "metadata": {},
   "outputs": [],
   "source": [
    "sig_pi_Tx[-1]"
   ]
  },
  {
   "cell_type": "markdown",
   "id": "34cd5362-fef3-484d-83b1-efbc6899bd14",
   "metadata": {},
   "source": [
    "# FE discretization - Force-controlled"
   ]
  },
  {
   "cell_type": "code",
   "execution_count": null,
   "id": "6d421f70-7ea6-4dcd-8cc1-cadae2605662",
   "metadata": {},
   "outputs": [],
   "source": [
    "tf_cyclic = TFCyclicNonsymmetricConstant(number_of_cycles=10, unloading_ratio=0.20)\n",
    "tf_cyclic.interact()"
   ]
  },
  {
   "cell_type": "code",
   "execution_count": null,
   "id": "aebdc67d-2a80-4345-bf44-afaa5750b19c",
   "metadata": {
    "tags": []
   },
   "outputs": [],
   "source": [
    "n_y_e = 1\n",
    "n_inner_x_e = 1\n",
    "n_outer_x_e = 1\n",
    "L_x = 1.0\n",
    "P = 1.0\n",
    "R_in = P / (2 * np.pi) \n",
    "R_out = 2 * R_in\n",
    "xd_lower = XDomainFEGridAxiSym(coord_min=(0, 0),\n",
    "                          coord_max=(L_x, R_in),\n",
    "                          shape=(n_y_e, n_inner_x_e),\n",
    "                          integ_factor=2 * np.pi,\n",
    "                          fets=FETS2D4Q())\n",
    "xd_upper = XDomainFEGridAxiSym(coord_min=(0, R_in),\n",
    "                          coord_max=(L_x, R_out),\n",
    "                          shape=(n_y_e, n_outer_x_e),\n",
    "                          integ_factor=2 * np.pi,\n",
    "                          fets=FETS2D4Q())\n",
    "m1 = MATS3DElastic(E=37000, nu=0.18)\n",
    "m2 = MATS3DElastic(E=37000, nu=0.18)\n",
    "\n",
    "xd12 = XDomainFEInterface(\n",
    "    integ_factor = 2 * np.pi * R_in,\n",
    "    I=xd_lower.mesh.I[:, -1],\n",
    "    J=xd_upper.mesh.I[:, 0],\n",
    "    fets=FETS1D52ULRH()\n",
    ")"
   ]
  },
  {
   "cell_type": "code",
   "execution_count": null,
   "id": "7b5fe458-5d50-4d65-938e-3fddba6279aa",
   "metadata": {},
   "outputs": [],
   "source": [
    "#bond_m = Slide34(E_T=10000, E_N=10000)\n",
    "# material_params =  dict(\n",
    "#      E_T=1, gamma_T=500, K_T=0, S_T=0.5, c_T=6, bartau=3000, \n",
    "#      E_N=1, S_N=0.05, c_N = 3, m = 0., f_t=2000, f_c=100000, f_c0 = 40000, eta=0.)\n",
    "# bond_m = Slide34(**material_params)\n",
    "\n",
    "material_params =  dict(\n",
    "     E_T=500, gamma_T=700, K_T=0, S_T=1., c_T=15, bartau=3, \n",
    "     E_N=1000, S_N=0.05, c_N = 2, m = 0.0, f_t=3, f_c=100, f_c0 = 75, eta=0.05 , r =12)\n",
    "bond_m = Slide34(**material_params)"
   ]
  },
  {
   "cell_type": "code",
   "execution_count": null,
   "id": "48308f57-215c-450d-8fe0-e8f06139e58f",
   "metadata": {},
   "outputs": [],
   "source": [
    "axisym = BCSlice(slice=xd_lower.mesh[0, 0, 0, 0],\n",
    "                 var='u', dims=[1], value=0)\n",
    "fixed_upper_support = BCSlice(slice=xd_upper.mesh[0, :, 0, :],\n",
    "                 var='u', dims=[0], value=0)\n",
    "loaded_lower= BCSlice(slice=xd_lower.mesh[-1, :, -1, :],\n",
    "                  var='u', dims=[0], value=-4.0)\n",
    "loaded_lower_dof = loaded_lower.dofs[0]\n",
    "loaded_lower_bc = BCDof(var='f', dof=loaded_lower_dof, time_function=tf_cyclic ,  value = 0.8 * -57.81254426110897)\n",
    "\n",
    "bc1 = [axisym, fixed_upper_support, loaded_lower_bc]"
   ]
  },
  {
   "cell_type": "code",
   "execution_count": null,
   "id": "4d2d16c4-ec7e-4983-adec-313352e76dfe",
   "metadata": {
    "tags": []
   },
   "outputs": [],
   "source": [
    "m = TStepBC(\n",
    "    domains=[(xd_lower, m1),\n",
    "             (xd_upper, m2),\n",
    "             (xd12, bond_m),\n",
    "             ],\n",
    "    bc=bc1,  # + bc2,\n",
    ")\n",
    "\n",
    "m.hist.vis_record = {\n",
    "#    'strain': Vis3DTensorField(var='eps_ab'),\n",
    "    'stress': Vis3DTensorField(var='sig_ab'),\n",
    "    #        'kinematic hardening': Vis3DStateField(var='z_a')\n",
    "}\n",
    "\n",
    "s = m.sim\n",
    "s.tloop.verbose = True\n",
    "s.tloop.k_max = 1000\n",
    "s.tline.step = (1 / (36 * 2 * tf_cyclic.number_of_cycles))\n",
    "s.tstep.fe_domain.serialized_subdomains"
   ]
  },
  {
   "cell_type": "code",
   "execution_count": null,
   "id": "413b05c6-de37-4e51-80c8-cb8fd43b0f2b",
   "metadata": {},
   "outputs": [],
   "source": [
    "#bond_m.interact()"
   ]
  },
  {
   "cell_type": "code",
   "execution_count": null,
   "id": "cacb06c5-fd38-4d50-9cb7-257fb7a368f1",
   "metadata": {},
   "outputs": [],
   "source": [
    "xd12.hidden = True\n",
    "s.reset()\n",
    "s.run()"
   ]
  },
  {
   "cell_type": "code",
   "execution_count": null,
   "id": "e8d690b0-a7fb-4ce4-9d52-ad30f1a3d910",
   "metadata": {},
   "outputs": [],
   "source": [
    "F_to = m.hist.F_t\n",
    "U_to = m.hist.U_t\n",
    "F_outer_t = np.sum(F_to[:, fixed_upper_support.dofs], axis=-1)\n",
    "F_inner_t = np.sum(F_to[:, loaded_lower.dofs], axis=-1)\n",
    "U_inner_right_t = np.average(U_to[:, loaded_lower.dofs], axis=-1)\n",
    "# U_inner_left_t = np.average(U_to[:, unloaded_inner.dofs], axis=-1)"
   ]
  },
  {
   "cell_type": "code",
   "execution_count": null,
   "id": "c785d7de-5435-4159-9ea4-b455c4f4554b",
   "metadata": {},
   "outputs": [],
   "source": [
    "states_t = [states_t[2] for states_t in m.hist.state_vars]\n",
    "var_names = states_t[0].keys()\n",
    "EpsSig_t = {\n",
    "    var_name: np.array([ state_dict[var_name] for state_dict in states_t ]) \n",
    "    for var_name in var_names \n",
    "}\n",
    "u_pi_N = EpsSig_t['w_pi']\n",
    "u_pi_Tx = EpsSig_t['s_pi_x']\n",
    "sig_pi_N = EpsSig_t['sig_pi']\n",
    "sig_pi_Tx = EpsSig_t['tau_pi_x']\n",
    "sig_pi_Ty = EpsSig_t['tau_pi_y']\n",
    "omega_Nx = EpsSig_t['omega_N']\n",
    "omega_Tx = EpsSig_t['omega_T']\n",
    "x_m = xd12.x_Eia[:,:,0].flatten()"
   ]
  },
  {
   "cell_type": "code",
   "execution_count": null,
   "id": "31bcf669-fc3b-4859-9983-fb8a99e28feb",
   "metadata": {},
   "outputs": [],
   "source": [
    "_, (ax1, ax2) = plt.subplots(1,2)\n",
    "ax1.plot(-U_inner_right_t, F_outer_t, label='F_outer(U_top)')\n",
    "# ax1.plot(-U_inner_left_t, F_outer_t, label='F_outer(U_top)')\n",
    "ax1.plot(-U_inner_right_t, F_inner_t, label='F_inner(U_top)')\n",
    "ax1.legend()\n",
    "idx = -1\n",
    "ax_u = ax2.twinx()\n",
    "ax2.plot(x_m, sig_pi_N[idx,:,:].flatten(), color='blue', label='sig')\n",
    "ax_u.plot(x_m, u_pi_N[idx,:,:].flatten(), color='blue', linestyle='dashed', label='sig')\n",
    "ax2.plot(x_m, sig_pi_Tx[idx,:,:].flatten(), 'o-', color='red', label='tau')\n",
    "#ax.fill_between(x_m.flatten().flatten(), sig_pi_Tx[idx,:,:].flatten(), 0, 'o-', color='red', alpha=0.2)\n",
    "ax_u.plot(x_m, u_pi_Tx[idx,:,:].flatten(), color='red', linestyle='dashed', label='u_Tx')\n",
    "ax2.legend()"
   ]
  },
  {
   "cell_type": "code",
   "execution_count": null,
   "id": "28fb55fc-ed8b-49e6-b868-8797d73d1ecd",
   "metadata": {},
   "outputs": [],
   "source": [
    "states_t = [states_t[2] for states_t in m.hist.state_vars]\n",
    "var_names = states_t[0].keys()\n",
    "EpsSig_t = {\n",
    "    var_name: np.array([ state_dict[var_name] for state_dict in states_t ]) \n",
    "    for var_name in var_names \n",
    "}"
   ]
  },
  {
   "cell_type": "code",
   "execution_count": null,
   "id": "1307443d-8bcb-4338-8d56-8d1cc7520d66",
   "metadata": {},
   "outputs": [],
   "source": [
    "var_names"
   ]
  },
  {
   "cell_type": "code",
   "execution_count": null,
   "id": "7b649408-e86c-4a42-8533-2a9a0206a74a",
   "metadata": {},
   "outputs": [],
   "source": [
    "u_pi_N = EpsSig_t['w_pi']\n",
    "u_pi_Tx = EpsSig_t['s_pi_x']\n",
    "sig_pi_N = EpsSig_t['sig_pi']\n",
    "sig_pi_Tx = EpsSig_t['tau_pi_x']\n",
    "sig_pi_Ty = EpsSig_t['tau_pi_y']\n",
    "omega_Nx = EpsSig_t['omega_N']\n",
    "omega_Tx = EpsSig_t['omega_T']"
   ]
  },
  {
   "cell_type": "code",
   "execution_count": null,
   "id": "6dad2a26-3af1-4b66-903b-88cc2f0ecaf6",
   "metadata": {},
   "outputs": [],
   "source": [
    "x_m = xd12.x_Eia[:,:,0].flatten()"
   ]
  },
  {
   "cell_type": "code",
   "execution_count": null,
   "id": "617111c0-9847-4572-8886-125dc6b56b7a",
   "metadata": {},
   "outputs": [],
   "source": [
    "np.max(sig_pi_Tx[:,0,0])"
   ]
  },
  {
   "cell_type": "code",
   "execution_count": null,
   "id": "46d36918-0b21-4e87-acf4-92e3f060ac33",
   "metadata": {},
   "outputs": [],
   "source": [
    "_, (ax, ax_omega) = plt.subplots(1,2, figsize=(10,5))\n",
    "idx = np.argmax(sig_pi_Tx[:,0,0])\n",
    "ax_u = ax.twinx()\n",
    "ax.plot(x_m, sig_pi_N[idx,:,:].flatten(), color='blue', label='sig')\n",
    "ax_u.plot(x_m, u_pi_N[idx,:,:].flatten(), color='blue', linestyle='dashed', label='sig')\n",
    "ax.plot(x_m, sig_pi_Tx[idx,:,:].flatten(), 'o-', color='red', label='tau')\n",
    "#ax.fill_between(x_m.flatten().flatten(), sig_pi_Tx[idx,:,:].flatten(), 0, 'o-', color='red', alpha=0.2)\n",
    "ax_u.plot(x_m, u_pi_Tx[idx,:,:].flatten(), color='red', linestyle='dashed', label='u_Tx')\n",
    "ax_omega.plot(x_m, omega_Nx[idx,:,:].flatten(), color='green', label='omega_N')\n",
    "ax_omega.plot(x_m, omega_Tx[idx,:,:].flatten(), color='green', linestyle='dashed', label='omega_T')\n",
    "ax.legend()\n",
    "ax_omega.legend()"
   ]
  },
  {
   "cell_type": "code",
   "execution_count": null,
   "id": "5bc9636e-de79-4b9f-8716-2db8928e5ac9",
   "metadata": {},
   "outputs": [],
   "source": [
    "fig, ((ax, ax_omega), (ax_creep, ax_disp)) = plt.subplots(2,2, figsize=(15,10))\n",
    "idx = -1\n",
    "# ax_u = ax.twinx()\n",
    "lenght = int(np.floor(len(U_inner_right_t)/3))\n",
    "ax.plot(-U_inner_right_t[:lenght], sig_pi_Tx[:lenght,0,0].flatten(), color='black')\n",
    "ax.set_xlabel('Displacement [mm]')\n",
    "ax.set_ylabel('$\\sigma_{\\mathrm{T}}$ [MPa]')\n",
    "\n",
    "ax_omega.plot(-U_inner_right_t[:lenght], omega_Tx[:lenght,0,0].flatten(), color='red',  alpha=1.0, label='$\\omega_T$')\n",
    "ax_omega.plot(-U_inner_right_t[:lenght], omega_Nx[:lenght,0,0].flatten(), color='green',  alpha=0.98, label='omega_N')\n",
    "ax_omega.set_xlabel('Displacement [mm]')\n",
    "ax_omega.set_ylabel('Damage [-]')\n",
    "\n",
    "# ax_disp.plot(-U_inner_right_t, u_pi_N[:2000,0,-1].flatten(), color='green', label='opening')\n",
    "ax_disp.plot(np.arange(len(omega_Tx[:lenght:36,0,0].flatten())), omega_Tx[:lenght:36,0,0].flatten(), color='red')\n",
    "ax_disp.plot(np.arange(len(omega_Nx[:lenght:36,0,0].flatten())), omega_Nx[:lenght:36,0,0].flatten(), color='green')\n",
    "ax_disp.set_xlabel('Cycle [N]')\n",
    "ax_disp.set_ylabel('Damage [-]')\n",
    "ax_disp.set_xlim(-10,210)\n",
    "\n",
    "\n",
    "ax_creep.plot(np.arange(len(omega_Tx[36:lenght:72,0,0].flatten()))*2, -U_inner_right_t[36:lenght:72], color='red')\n",
    "ax_creep.plot(np.arange(len(omega_Nx[72:lenght:72,0,0].flatten()))*2, -U_inner_right_t[72:lenght:72], color='green')\n",
    "ax_creep.set_xlabel('Cycle [N]')\n",
    "ax_creep.set_ylabel('Displacement [mm]')\n",
    "ax_creep.set_ylabel('Displacement [mm]')\n",
    "ax_creep.set_xlim(-10,210)\n",
    "ax_creep.set_ylim(-0.05,0.95)\n",
    "\n",
    "\n",
    "\n",
    "\n",
    "ax.legend()\n",
    "ax_omega.legend()\n",
    "ax_disp.legend()\n",
    "\n",
    "fig.savefig('cyclic.pdf')   "
   ]
  },
  {
   "cell_type": "code",
   "execution_count": null,
   "id": "e8fa0510-1f7d-4a33-968e-b6514142dcf2",
   "metadata": {},
   "outputs": [],
   "source": [
    "if True:\n",
    "    mlab.options.backend = 'envisage'\n",
    "    mlab.options.offscreen = False # 'envisage'\n",
    "    f_strain = mlab.figure()\n",
    "    scene = mlab.get_engine().scenes[-1]\n",
    "    scene.name = 'stress'\n",
    "    strain_viz = Viz3DTensorField(vis3d=m.hist['stress'])\n",
    "    strain_viz.setup()\n",
    "    strain_viz.warp_vector.filter.scale_factor = 0.1\n",
    "    strain_viz.plot(s.tstep.t_n)\n",
    "    mlab.show()"
   ]
  },
  {
   "cell_type": "code",
   "execution_count": null,
   "id": "dd628b59-ee02-408f-a207-e2b1f1102f2c",
   "metadata": {},
   "outputs": [],
   "source": [
    "len(U_inner_right_t)"
   ]
  },
  {
   "cell_type": "code",
   "execution_count": null,
   "id": "0812cf63-ab9f-42bb-ae30-65bd5a82ecdb",
   "metadata": {},
   "outputs": [],
   "source": []
  }
 ],
 "metadata": {
  "kernelspec": {
   "display_name": "bmcs_env",
   "language": "python",
   "name": "bmcs_env"
  },
  "language_info": {
   "codemirror_mode": {
    "name": "ipython",
    "version": 3
   },
   "file_extension": ".py",
   "mimetype": "text/x-python",
   "name": "python",
   "nbconvert_exporter": "python",
   "pygments_lexer": "ipython3"
  },
  "toc": {
   "base_numbering": 1,
   "nav_menu": {},
   "number_sections": true,
   "sideBar": true,
   "skip_h1_title": false,
   "title_cell": "Table of Contents",
   "title_sidebar": "Contents",
   "toc_cell": false,
   "toc_position": {},
   "toc_section_display": true,
   "toc_window_display": false
  }
 },
 "nbformat": 4,
 "nbformat_minor": 5
}
