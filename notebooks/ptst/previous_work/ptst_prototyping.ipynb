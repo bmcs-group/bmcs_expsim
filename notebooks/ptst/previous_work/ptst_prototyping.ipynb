{
 "cells": [
  {
   "cell_type": "markdown",
   "id": "4faf2840",
   "metadata": {},
   "source": [
    "# Axisym Punch-Through Shear Test"
   ]
  },
  {
   "cell_type": "markdown",
   "id": "57d69647-096b-4cdc-96bd-df4f418f617f",
   "metadata": {},
   "source": [
    "This example couples two domains via an zero-thickness interface. "
   ]
  },
  {
   "cell_type": "markdown",
   "id": "7d2814c0-0e91-4154-ae5e-f24918a0b1d0",
   "metadata": {},
   "source": [
    "State - 2021-07-19 [RC]:\n",
    "\n",
    "- Slide34 included with not verified material parameters. The push through test is running for a small step size\n",
    "- Add the force control boundary conditions in analogy to single facet example\n",
    "- Change of the parameters to brittle response leads to convergence problems at the transition to inelastic state - check the range which converges.\n",
    "- Either initial or secant stiffness has been used     "
   ]
  },
  {
   "cell_type": "code",
   "execution_count": null,
   "id": "5453e041-98d8-4951-923c-b64809a003dd",
   "metadata": {},
   "outputs": [],
   "source": [
    "%matplotlib widget\n",
    "# import time\n",
    "# from bmcs_expsim.utils.mlab_decorators import decorate_figure\n",
    "from mayavi import mlab\n",
    "import numpy as np\n",
    "np.seterr(divide='ignore', invalid='ignore') \n",
    "import warnings\n",
    "import matplotlib.pylab as plt"
   ]
  },
  {
   "cell_type": "code",
   "execution_count": null,
   "id": "cd92087f",
   "metadata": {},
   "outputs": [],
   "source": [
    "from ibvpy.api import TStepBC , TFCyclicNonsymmetricConstant, TFBilinear\n",
    "from ibvpy.bcond import BCSlice, BCDof\n",
    "from ibvpy.xmodel.xdomain_fe_grid_axisym import XDomainFEGridAxiSym\n",
    "from ibvpy.xmodel.xdomain_interface import XDomainFEInterface"
   ]
  },
  {
   "cell_type": "code",
   "execution_count": null,
   "id": "0af3b921",
   "metadata": {},
   "outputs": [],
   "source": [
    "from ibvpy.fets import FETS2D4Q\n",
    "from ibvpy.fets.fets1D5 import FETS1D52ULRH"
   ]
  },
  {
   "cell_type": "code",
   "execution_count": null,
   "id": "c303f4c4",
   "metadata": {},
   "outputs": [],
   "source": [
    "from ibvpy.tmodel.viz3d_scalar_field import \\\n",
    "    Vis3DStateField, Viz3DScalarField\n",
    "from ibvpy.tmodel.viz3d_tensor_field import \\\n",
    "    Vis3DTensorField, Viz3DTensorField"
   ]
  },
  {
   "cell_type": "markdown",
   "id": "35b16d33",
   "metadata": {},
   "source": [
    "# Material models"
   ]
  },
  {
   "cell_type": "code",
   "execution_count": null,
   "id": "12b9248d-6ee7-4b0c-ac3b-7c66012a2343",
   "metadata": {},
   "outputs": [],
   "source": [
    "from bmcs_matmod.slide.vslide_34_TN_axisym import Slide34\n",
    "from ibvpy.tmodel.mats3D.mats3D_elastic.vmats3D_elastic import \\\n",
    "    MATS3DElastic\n",
    "from bmcs_matmod.slide.slide_explorer import SlideExplorer"
   ]
  },
  {
   "cell_type": "markdown",
   "id": "f2962828",
   "metadata": {},
   "source": [
    "# FE discretization - Displacement-controlled"
   ]
  },
  {
   "cell_type": "code",
   "execution_count": null,
   "id": "ca631af3",
   "metadata": {},
   "outputs": [],
   "source": [
    "n_x_e = 3\n",
    "n_inner_y_e = 2\n",
    "n_outer_y_e = 2\n",
    "n_steel_y_e = 2\n",
    "L_x = 40.0\n",
    "R_in = 25.0\n",
    "R_out = 50.0\n",
    "R_steel = R_out + 7\n",
    "\n",
    "xd_lower = XDomainFEGridAxiSym(coord_min=(0, 0),\n",
    "                          coord_max=(L_x, R_in),\n",
    "                          shape=(n_x_e, n_inner_y_e),\n",
    "                          integ_factor=2 * np.pi,\n",
    "                          fets=FETS2D4Q())\n",
    "xd_upper = XDomainFEGridAxiSym(coord_min=(0, R_in),\n",
    "                          coord_max=(L_x, R_out),\n",
    "                          shape=(n_x_e, n_outer_y_e),\n",
    "                          integ_factor=2 * np.pi,\n",
    "                          fets=FETS2D4Q())\n",
    "xd_ring = XDomainFEGridAxiSym(coord_min=(0, R_out),\n",
    "                          coord_max=(L_x, R_steel),\n",
    "                          shape=(n_x_e, n_steel_y_e),\n",
    "                          integ_factor=2 * np.pi,\n",
    "                          fets=FETS2D4Q())\n",
    "\n",
    "m1 = MATS3DElastic(E=37000, nu=0.18)\n",
    "m2 = MATS3DElastic(E=37000, nu=0.18)\n",
    "m3 = MATS3DElastic(E=210000, nu=0.3)\n",
    "\n",
    "xd12 = XDomainFEInterface(\n",
    "#     I=xd_lower.mesh.I[1:-1,-1],\n",
    "#     J=xd_upper.mesh.I[1:-1, 0],\n",
    "    I=xd_lower.mesh.I[-1, -1:-1],\n",
    "    J=xd_upper.mesh.I[0, 1:-1],\n",
    "    fets=FETS1D52ULRH()\n",
    ")\n",
    "\n",
    "xd23 = XDomainFEInterface(\n",
    "    I=xd_lower.mesh.I[-1,:],\n",
    "    J=xd_ring.mesh.I[0,:,0],\n",
    "#     I=xd_lower.mesh.I[1:-1, -1],\n",
    "#     J=xd_upper.mesh.I[1:-1, 0],\n",
    "    fets=FETS1D52ULRH()\n",
    ")"
   ]
  },
  {
   "cell_type": "code",
   "execution_count": null,
   "id": "c7e23d56-c6cd-4850-b123-95fe5b1cac89",
   "metadata": {},
   "outputs": [],
   "source": [
    "#bond_m = Slide34(E_T=10000, E_N=10000)\n",
    "material_params =  dict(\n",
    "     E_T=350, gamma_T=650, K_T=100, S_T=0.75, c_T=2, bartau=3000, \n",
    "     E_N=370, S_N=0.0005, c_N = 3, m = 0.0, f_t=3000, f_c=100000, f_c0 = 75000, eta=0. , r =12)\n",
    "bond_m = Slide34(**material_params)\n",
    "\n",
    "material_params_2 =  dict(\n",
    "     E_T=350, gamma_T=650, K_T=100, S_T=0.75, c_T=2, bartau=3000, \n",
    "     E_N=2000, S_N=0.000005, c_N = 3, m = 0.0, f_t=10000, f_c=10000, f_c0 = 7500, eta=0. , r =12)\n",
    "bond_m_2 = Slide34(**material_params_2)"
   ]
  },
  {
   "cell_type": "code",
   "execution_count": null,
   "id": "e56a9673-3db8-42f8-9944-c0b446da0eea",
   "metadata": {},
   "outputs": [],
   "source": [
    "se1 = SlideExplorer(n_steps=500, k_max=50)\n",
    "se1.slide_model.trait_set(**material_params_2)\n",
    "se1.trait_set(s_x_1 = 0.5, s_y_1 = 0, w_1 =0);\n",
    "se1.run()"
   ]
  },
  {
   "cell_type": "code",
   "execution_count": null,
   "id": "30860e47-d322-4ec8-95d3-ace4bde43087",
   "metadata": {},
   "outputs": [],
   "source": [
    "se1.interact()"
   ]
  },
  {
   "cell_type": "code",
   "execution_count": null,
   "id": "cefa6985-d176-4087-b53f-01189fb75f5d",
   "metadata": {},
   "outputs": [],
   "source": [
    "axisym = BCSlice(slice=xd_lower.mesh[0, :, 0, :],\n",
    "                 var='u', dims=[1], value=0)\n",
    "outer_ring_hoop = BCSlice(slice=xd_upper.mesh[-1, :, -1, :],\n",
    "                 var='u', dims=[1], value=0.0)\n",
    "fixed_upper_support = BCSlice(slice=xd_upper.mesh[:, -1, :, -1],\n",
    "                 var='u', dims=[0], value=0)\n",
    "fixed_ring_support = BCSlice(slice=xd_ring.mesh[:, -1, :, -1],\n",
    "                 var='u', dims=[0], value=0)\n",
    "loaded_lower= BCSlice(slice=xd_lower.mesh[:, 0, :, 0],\n",
    "                  var='u', dims=[0], value=-0.1)\n",
    "unloaded_inner = BCSlice(slice=xd_lower.mesh[0, :, 0, :],\n",
    "                  var='u', dims=[0], value=0)\n",
    "bc1 = [axisym, fixed_upper_support, loaded_lower]"
   ]
  },
  {
   "cell_type": "code",
   "execution_count": null,
   "id": "34aac77b-3c72-48c2-9448-af50b15f0c84",
   "metadata": {},
   "outputs": [],
   "source": [
    "print(xd_lower.mesh[:,:,:,:].dofs)\n",
    "xd12.mesh.dofs"
   ]
  },
  {
   "cell_type": "code",
   "execution_count": null,
   "id": "d71e5250-997a-425f-bbc7-5175ca19f295",
   "metadata": {
    "tags": []
   },
   "outputs": [],
   "source": [
    "m = TStepBC(\n",
    "    domains=[(xd_lower, m1),\n",
    "             (xd_upper, m2),\n",
    "             (xd12, bond_m),\n",
    "#              (xd23, bond_m_2),\n",
    "#              (xd_ring, m3),\n",
    "             ],\n",
    "    bc=bc1,  # + bc2,\n",
    ")\n",
    "\n",
    "m.hist.vis_record = {\n",
    "#    'strain': Vis3DTensorField(var='eps_ab'),\n",
    "    'stress': Vis3DTensorField(var='sig_ab'),\n",
    "    #        'kinematic hardening': Vis3DStateField(var='z_a')\n",
    "}\n",
    "\n",
    "s = m.sim\n",
    "s.tloop.verbose = True\n",
    "s.tloop.k_max = 1000\n",
    "s.tline.step = 0.1\n",
    "s.tstep.fe_domain.serialized_subdomains"
   ]
  },
  {
   "cell_type": "code",
   "execution_count": null,
   "id": "c95f5fa2",
   "metadata": {},
   "outputs": [],
   "source": [
    "#bond_m.interact()"
   ]
  },
  {
   "cell_type": "code",
   "execution_count": null,
   "id": "cef0b911-0e10-444c-9083-23f63b6944a6",
   "metadata": {},
   "outputs": [],
   "source": [
    "xd12.hidden = True\n",
    "xd23.hidden = True\n",
    "s.reset()\n",
    "s.run()"
   ]
  },
  {
   "cell_type": "markdown",
   "id": "1f81547f",
   "metadata": {},
   "source": [
    "# Plot the punch-through curve"
   ]
  },
  {
   "cell_type": "code",
   "execution_count": null,
   "id": "30f88b7e",
   "metadata": {},
   "outputs": [],
   "source": [
    "F_to = m.hist.F_t\n",
    "U_to = m.hist.U_t"
   ]
  },
  {
   "cell_type": "code",
   "execution_count": null,
   "id": "220e923e",
   "metadata": {},
   "outputs": [],
   "source": [
    "F_to.shape"
   ]
  },
  {
   "cell_type": "code",
   "execution_count": null,
   "id": "8ee3cb43",
   "metadata": {},
   "outputs": [],
   "source": [
    "F_outer_t = np.sum(F_to[:, fixed_upper_support.dofs], axis=-1)\n",
    "F_inner_t = np.sum(F_to[:, loaded_lower.dofs], axis=-1)\n",
    "U_inner_right_t = np.average(U_to[:, loaded_lower.dofs], axis=-1)\n",
    "U_inner_left_t = np.average(U_to[:, unloaded_inner.dofs], axis=-1)\n",
    "#U_inner_bot_t = np.average(U_to[:, free_inner_y.dofs], axis=-1)"
   ]
  },
  {
   "cell_type": "code",
   "execution_count": null,
   "id": "be243971",
   "metadata": {},
   "outputs": [],
   "source": [
    "_, ax = plt.subplots(1,1)\n",
    "ax.plot(-U_inner_right_t, F_outer_t, label='F_outer(U_top)')\n",
    "ax.plot(-U_inner_left_t, F_outer_t, label='F_outer(U_top)')\n",
    "ax.plot(-U_inner_right_t, F_inner_t, label='F_inner(U_top)')\n",
    "#ax.plot(-U_inner_bot_t, F_inner_t, label='F_inner(U_bot)')\n",
    "ax.legend()"
   ]
  },
  {
   "cell_type": "code",
   "execution_count": null,
   "id": "6d303963-9c6e-4adc-ad0a-0a34e25bd08a",
   "metadata": {},
   "outputs": [],
   "source": [
    "if True:\n",
    "    mlab.options.backend = 'envisage'\n",
    "    mlab.options.offscreen = False # 'envisage'\n",
    "    f_strain = mlab.figure()\n",
    "    scene = mlab.get_engine().scenes[-1]\n",
    "    scene.name = 'stress'\n",
    "    strain_viz = Viz3DTensorField(vis3d=m.hist['stress'])\n",
    "    strain_viz.setup()\n",
    "    strain_viz.warp_vector.filter.scale_factor = 0.1\n",
    "    strain_viz.plot(s.tstep.t_n)\n",
    "    mlab.show()"
   ]
  },
  {
   "cell_type": "code",
   "execution_count": null,
   "id": "fa159b7e-462b-44bf-b1bc-a1f5dc3a3186",
   "metadata": {},
   "outputs": [],
   "source": [
    "states_t = [states_t[2] for states_t in m.hist.state_vars]\n",
    "var_names = states_t[0].keys()\n",
    "EpsSig_t = {\n",
    "    var_name: np.array([ state_dict[var_name] for state_dict in states_t ]) \n",
    "    for var_name in var_names \n",
    "}"
   ]
  },
  {
   "cell_type": "code",
   "execution_count": null,
   "id": "8875bf8e-2dcd-4705-9f85-cf52efa7b1d4",
   "metadata": {},
   "outputs": [],
   "source": [
    "var_names"
   ]
  },
  {
   "cell_type": "code",
   "execution_count": null,
   "id": "7e3aed39-09b2-4527-adaf-dcccce053372",
   "metadata": {},
   "outputs": [],
   "source": [
    "u_pi_N = EpsSig_t['w_pi']\n",
    "u_pi_Tx = EpsSig_t['s_pi_x']\n",
    "sig_pi_N = EpsSig_t['sig_pi']\n",
    "sig_pi_Tx = EpsSig_t['tau_pi_x']\n",
    "sig_pi_Ty = EpsSig_t['tau_pi_y']\n",
    "omega_Nx = EpsSig_t['omega_N']\n",
    "omega_Tx = EpsSig_t['omega_T']"
   ]
  },
  {
   "cell_type": "code",
   "execution_count": null,
   "id": "f9e27a02-7826-4772-8f1a-39214856dbe5",
   "metadata": {},
   "outputs": [],
   "source": [
    "x_m = xd12.x_Eia[:,:,0].flatten()"
   ]
  },
  {
   "cell_type": "code",
   "execution_count": null,
   "id": "f2a0285f-8322-44fa-841d-6be327f78c3f",
   "metadata": {},
   "outputs": [],
   "source": [
    "_, (ax, ax_omega) = plt.subplots(1,2, figsize=(10,5))\n",
    "idx = -1\n",
    "ax_u = ax.twinx()\n",
    "ax.plot(x_m, sig_pi_N[idx,:,:].flatten(), color='blue', label='sig')\n",
    "ax_u.plot(x_m, u_pi_N[idx,:,:].flatten(), color='blue', linestyle='dashed', label='sig')\n",
    "ax.plot(x_m, sig_pi_Tx[idx,:,:].flatten(), 'o-', color='red', label='tau')\n",
    "#ax.fill_between(x_m.flatten().flatten(), sig_pi_Tx[idx,:,:].flatten(), 0, 'o-', color='red', alpha=0.2)\n",
    "ax_u.plot(x_m, u_pi_Tx[idx,:,:].flatten(), color='red', linestyle='dashed', label='u_Tx')\n",
    "ax_omega.plot(x_m, omega_Nx[idx,:,:].flatten(), color='green', label='omega_N')\n",
    "ax_omega.plot(x_m, omega_Tx[idx,:,:].flatten(), color='green', linestyle='dashed', label='omega_T')\n",
    "ax.legend()\n",
    "ax_omega.legend()"
   ]
  },
  {
   "cell_type": "code",
   "execution_count": null,
   "id": "96353f98-ea03-4143-b1c3-e07e673c85ab",
   "metadata": {},
   "outputs": [],
   "source": [
    "sig_pi_Tx.shape"
   ]
  },
  {
   "cell_type": "code",
   "execution_count": null,
   "id": "a8038691-bc34-4e12-a8a9-8cf59fa4b433",
   "metadata": {},
   "outputs": [],
   "source": [
    "_, (ax, ax_omega) = plt.subplots(1,2, figsize=(10,5))\n",
    "idx = -1\n",
    "ax_u = ax.twinx()\n",
    "\n",
    "ax.plot(-U_inner_right_t, sig_pi_Tx[:,0,0].flatten(), color='red', label='tau')\n",
    "\n",
    "\n",
    "ax_omega.plot(-U_inner_right_t, omega_Tx[:,0,0].flatten(), color='green', linestyle='dashed', label='omega_T')\n",
    "ax.legend()\n",
    "ax_omega.legend()"
   ]
  },
  {
   "cell_type": "code",
   "execution_count": null,
   "id": "a2d41bdf-d155-4eb9-b990-6057e97efbe7",
   "metadata": {},
   "outputs": [],
   "source": [
    "max(sig_pi_Tx[:,0,0])"
   ]
  },
  {
   "cell_type": "markdown",
   "id": "34cd5362-fef3-484d-83b1-efbc6899bd14",
   "metadata": {},
   "source": [
    "# FE discretization - Force-controlled"
   ]
  },
  {
   "cell_type": "code",
   "execution_count": null,
   "id": "0be2ce17-beab-41f4-adfc-755adbaf66cb",
   "metadata": {},
   "outputs": [],
   "source": [
    "n_y_e = 10\n",
    "n_inner_x_e = 5\n",
    "n_outer_x_e = 5\n",
    "L_x = 200.0\n",
    "R_in = 100.0\n",
    "R_out = 200.0\n",
    "xd_lower = XDomainFEGridAxiSym(coord_min=(0, 0),\n",
    "                          coord_max=(L_x, R_in),\n",
    "                          shape=(n_y_e, n_inner_x_e),\n",
    "                          integ_factor=2 * np.pi,\n",
    "                          fets=FETS2D4Q())\n",
    "xd_upper = XDomainFEGridAxiSym(coord_min=(0, R_in),\n",
    "                          coord_max=(L_x, R_out),\n",
    "                          shape=(n_y_e, n_outer_x_e),\n",
    "                          integ_factor=2 * np.pi,\n",
    "                          fets=FETS2D4Q())\n",
    "m1 = MATS3DElastic(E=28000, nu=0.3)\n",
    "m2 = MATS3DElastic(E=28000, nu=0.3)\n",
    "\n",
    "xd12 = XDomainFEInterface(\n",
    "    I=xd_lower.mesh.I[1:-1, -1],\n",
    "    J=xd_upper.mesh.I[1:-1, 0],\n",
    "    fets=FETS1D52ULRH()\n",
    ")"
   ]
  },
  {
   "cell_type": "code",
   "execution_count": null,
   "id": "a05c347e-f70a-4f72-b965-b47b7b1eeeec",
   "metadata": {},
   "outputs": [],
   "source": [
    "#bond_m = Slide34(E_T=10000, E_N=10000)\n",
    "material_params = dict(\n",
    "         E_T=100, gamma_T=200, K_T=0, S_T=0.05, c_T=3, bartau=3, \n",
    "         E_N=100, S_N=0.05, c_N = 3, m = 0.15, f_t=5, f_c=80, f_c0 = 40, eta=0.2)\n",
    "bond_m = Slide34(**material_params)"
   ]
  },
  {
   "cell_type": "code",
   "execution_count": null,
   "id": "94820f32-5b5c-45b1-bc94-4254ce75eba6",
   "metadata": {},
   "outputs": [],
   "source": [
    "tf_force = TFBilinear()\n",
    "tf_force.interact()"
   ]
  },
  {
   "cell_type": "code",
   "execution_count": null,
   "id": "d2580dc8-80d5-46c6-888e-4cf5141a1463",
   "metadata": {},
   "outputs": [],
   "source": [
    "axisym = BCSlice(slice=xd_lower.mesh[0, 0, 0, 0],\n",
    "                 var='u', dims=[1], value=0)\n",
    "fixed_upper_support = BCSlice(slice=xd_upper.mesh[0, :, 0, :],\n",
    "                 var='u', dims=[0], value=0)\n",
    "loaded_lower_slice= BCSlice(slice=xd_lower.mesh[-1, :, -1, :],\n",
    "                  var='u', dims=[0], value=0.5)\n",
    "loaded_lower_dofs = loaded_lower_slice.dofs\n",
    "\n",
    "load = 500\n",
    "F = load / len(loaded_lower_dofs)\n",
    "\n",
    "loaded_lower = [BCDof(var='f', dof=dof, value = F, time_function=tf_force  ) \n",
    "                     for dof in loaded_lower_dofs]\n",
    "\n",
    "bc1 = [axisym, fixed_upper_support, loaded_lower]"
   ]
  },
  {
   "cell_type": "code",
   "execution_count": null,
   "id": "dd6fb0db-9643-404a-ae7d-552459a34cf0",
   "metadata": {
    "tags": []
   },
   "outputs": [],
   "source": [
    "m = TStepBC(\n",
    "    domains=[(xd_lower, m1),\n",
    "             (xd_upper, m2),\n",
    "             (xd12, bond_m),\n",
    "             ],\n",
    "    bc=bc1,  # + bc2,\n",
    ")\n",
    "\n",
    "m.hist.vis_record = {\n",
    "    'strain': Vis3DTensorField(var='eps_ab'),\n",
    "    #        'damage': Vis3DStateField(var='omega_a'),\n",
    "    #        'kinematic hardening': Vis3DStateField(var='z_a')\n",
    "}\n",
    "\n",
    "s = m.sim\n",
    "s.tloop.verbose = True\n",
    "s.tloop.k_max = 1000\n",
    "s.tline.step = 0.02\n",
    "s.tstep.fe_domain.serialized_subdomains"
   ]
  },
  {
   "cell_type": "code",
   "execution_count": null,
   "id": "bb9a1935-8237-4755-8ba4-d3bcf5807ed2",
   "metadata": {},
   "outputs": [],
   "source": [
    "#bond_m.interact()"
   ]
  },
  {
   "cell_type": "code",
   "execution_count": null,
   "id": "bab70f32-766f-453c-a215-5c44cd83d5e0",
   "metadata": {},
   "outputs": [],
   "source": [
    "xd12.hidden = True\n",
    "s.reset()\n",
    "s.run()"
   ]
  },
  {
   "cell_type": "code",
   "execution_count": null,
   "id": "dd628b59-ee02-408f-a207-e2b1f1102f2c",
   "metadata": {},
   "outputs": [],
   "source": []
  }
 ],
 "metadata": {
  "kernelspec": {
   "display_name": "bmcs_env",
   "language": "python",
   "name": "bmcs_env"
  },
  "language_info": {
   "codemirror_mode": {
    "name": "ipython",
    "version": 3
   },
   "file_extension": ".py",
   "mimetype": "text/x-python",
   "name": "python",
   "nbconvert_exporter": "python",
   "pygments_lexer": "ipython3"
  },
  "toc": {
   "base_numbering": 1,
   "nav_menu": {},
   "number_sections": true,
   "sideBar": true,
   "skip_h1_title": false,
   "title_cell": "Table of Contents",
   "title_sidebar": "Contents",
   "toc_cell": false,
   "toc_position": {},
   "toc_section_display": true,
   "toc_window_display": false
  }
 },
 "nbformat": 4,
 "nbformat_minor": 5
}
