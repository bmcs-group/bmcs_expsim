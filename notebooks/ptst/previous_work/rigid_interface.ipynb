{
 "cells": [
  {
   "cell_type": "markdown",
   "id": "4faf2840",
   "metadata": {},
   "source": [
    "# Working interface models"
   ]
  },
  {
   "cell_type": "code",
   "execution_count": null,
   "id": "5453e041-98d8-4951-923c-b64809a003dd",
   "metadata": {},
   "outputs": [],
   "source": [
    "%matplotlib widget\n",
    "import time\n",
    "from bmcs_expsim.utils.mlab_decorators import decorate_figure\n",
    "from mayavi import mlab\n",
    "import numpy as np\n",
    "np.seterr(divide='ignore', invalid='ignore') \n",
    "import warnings\n",
    "import matplotlib.pylab as plt\n",
    "import numpy as np\n",
    "from ibvpy.api import TStepBC , TFCyclicNonsymmetricConstant, TFBilinear\n",
    "from ibvpy.bcond import BCSlice, BCDof\n",
    "from ibvpy.xmodel.xdomain_fe_grid_axisym import XDomainFEGridAxiSym\n",
    "from ibvpy.xmodel.xdomain_fe_grid import XDomainFEGrid\n",
    "from ibvpy.xmodel.xdomain_interface import XDomainFEInterface\n",
    "from ibvpy.fets import FETS2D4Q\n",
    "from ibvpy.fets.fets1D5 import FETS1D52ULRH\n",
    "from ibvpy.tmodel.viz3d_scalar_field import \\\n",
    "    Vis3DStateField, Viz3DScalarField\n",
    "from ibvpy.tmodel.viz3d_tensor_field import \\\n",
    "    Vis3DTensorField, Viz3DTensorField\n",
    "from bmcs_matmod.slide.vslide_34_TN_axisym import Slide34\n",
    "from ibvpy.tmodel.mats3D.mats3D_elastic.vmats3D_elastic import \\\n",
    "    MATS3DElastic\n",
    "from ibvpy.tmodel.mats2D.mats2D_elastic.vmats2D_elastic import \\\n",
    "    MATS2DElastic\n",
    "from bmcs_matmod.slide.slide_explorer import SlideExplorer"
   ]
  },
  {
   "cell_type": "markdown",
   "id": "e9920188-5785-4013-874a-6aa67a780722",
   "metadata": {},
   "source": [
    "# Single material point"
   ]
  },
  {
   "cell_type": "code",
   "execution_count": null,
   "id": "77713d6d-6406-4692-8139-57add9e1a7c6",
   "metadata": {},
   "outputs": [],
   "source": [
    "%%capture\n",
    "import numpy as np\n",
    "material_params = dict(\n",
    "    E_T=1e6, gamma_T=0, K_T=0, S_T=100, c_T=1, bartau=6, \n",
    "    E_N=1e6, S_N=300, c_N = 1, m = 0.1, f_t=6, f_c=500, f_c0=400, eta=0.)\n",
    "\n",
    "eta_range = [0]\n",
    "se_N_list = []\n",
    "se_T_list = []\n",
    "\n",
    "for eta in eta_range:\n",
    "    material_params['eta'] = eta\n",
    "    se1 = SlideExplorer(n_steps=300, k_max=50)\n",
    "    se1.slide_model.trait_set(**material_params)\n",
    "    se1.trait_set(s_x_1 = 0, s_y_1 = 0, w_1 = 0.0001);\n",
    "    se1.run()\n",
    "    se_N_list.append(se1)\n",
    "\n",
    "\n",
    "\n",
    "    se2 = SlideExplorer(n_steps=300, k_max=50)\n",
    "    se2.slide_model.trait_set(**material_params)\n",
    "    se2.trait_set(s_x_1 =  0.0001, s_y_1 = 0, w_1 = 0);\n",
    "    se2.run()\n",
    "    se_T_list.append(se2)"
   ]
  },
  {
   "cell_type": "code",
   "execution_count": null,
   "id": "0eac0315-0a56-4612-9c7a-7df8dd29976a",
   "metadata": {},
   "outputs": [],
   "source": [
    "import matplotlib.pylab as plt\n",
    "fig, (ax_N,  ax_T) = plt.subplots(1,2, tight_layout=True, figsize=(10,4))\n",
    "fig.canvas.header_visible=False\n",
    "\n",
    "for se1, se2 in zip(se_N_list, se_T_list):\n",
    "\n",
    "    tau_x_pi_1, tau_y_pi_1, sig_pi_1, Z_1, X_x_1, X_y_1, Y_T_1, Y_N_1 = se1.Sig_arr.T\n",
    "    tau_x_pi_2, tau_y_pi_2, sig_pi_2, Z_2, X_x_2, X_y_2, Y_T_2, Y_N_2 = se2.Sig_arr.T\n",
    "\n",
    "    w_1 = np.linspace(0, se1.w_1, n_step_1)\n",
    "    s_x_2 = np.linspace(0, se2.s_x_1, n_step_2)\n",
    "\n",
    "    ax_N.plot(w_1, sig_pi_1)\n",
    "                 \n",
    "    ax_N.set_xlabel('$w$')\n",
    "    ax_N.set_ylabel('$\\sigma_N$')\n",
    "\n",
    "    ax_T.plot(s_x_2, tau_x_pi_2)\n",
    "    ax_T.set_xlabel('$s_x$')\n",
    "    ax_T.set_ylabel('$\\sigma_T$')"
   ]
  },
  {
   "cell_type": "markdown",
   "id": "2fdaf708-abed-418a-aaba-c6d00ebb6ec8",
   "metadata": {},
   "source": [
    "# FE Axisymmetric discretization"
   ]
  },
  {
   "cell_type": "code",
   "execution_count": null,
   "id": "86afb862-3f07-4dd1-b5e8-b8f6c0f470d8",
   "metadata": {
    "tags": []
   },
   "outputs": [],
   "source": [
    "n_y_e = 1\n",
    "n_inner_x_e = 1\n",
    "n_outer_x_e = 1\n",
    "L_x = 1.0\n",
    "P = 1.0\n",
    "R_in = P / (2 * np.pi)\n",
    "# R_in = 1\n",
    "R_out = 2 * R_in\n",
    "xd_lower = XDomainFEGridAxiSym(integ_factor = 2 * np.pi,\n",
    "                         coord_min=(0, 0),\n",
    "                          coord_max=(L_x, R_in),\n",
    "                          shape=(n_y_e, n_inner_x_e),\n",
    "                          fets=FETS2D4Q())\n",
    "xd_upper = XDomainFEGridAxiSym(integ_factor = 2 * np.pi,\n",
    "                         coord_min=(0, R_in),\n",
    "                          coord_max=(L_x, R_out),\n",
    "                          shape=(n_y_e, n_outer_x_e),\n",
    "                          fets=FETS2D4Q())\n",
    "m1 = MATS3DElastic(E=37000, nu=0.18)\n",
    "m2 = MATS3DElastic(E=37000, nu=0.18)\n",
    "\n",
    "xd12 = XDomainFEInterface(\n",
    "    integ_factor =  2 * np.pi * R_in,\n",
    "    I=xd_lower.mesh.I[:, -1],\n",
    "    J=xd_upper.mesh.I[:, 0],\n",
    "    fets=FETS1D52ULRH()\n",
    ")"
   ]
  },
  {
   "cell_type": "code",
   "execution_count": null,
   "id": "f534ef5a-6526-4ea0-8c4b-ca3f227ea92b",
   "metadata": {},
   "outputs": [],
   "source": [
    "material_params =  dict(\n",
    "     E_T=1e7, gamma_T=0, K_T=0, S_T=5, c_T=6, bartau=3, \n",
    "     E_N=1e7, S_N=5, c_N = 3, m = 0.1, f_t=2, f_c=60, f_c0 = 40, eta=0.)\n",
    "bond_m = Slide34(**material_params)"
   ]
  },
  {
   "cell_type": "code",
   "execution_count": null,
   "id": "2234c2d6-8f85-47f7-a78b-0d0ee395c7f4",
   "metadata": {},
   "outputs": [],
   "source": [
    "m = TStepBC(\n",
    "    domains=[(xd_lower, m1),\n",
    "             (xd_upper, m2),\n",
    "             (xd12, bond_m),\n",
    "             ]\n",
    ")"
   ]
  },
  {
   "cell_type": "markdown",
   "id": "33fdcf27-0a5f-439c-9ed0-e353a2e78c02",
   "metadata": {},
   "source": [
    "## Compression/Traction fc"
   ]
  },
  {
   "cell_type": "code",
   "execution_count": null,
   "id": "2690f169-bddb-4d7a-87c8-924cf3cfed90",
   "metadata": {
    "tags": []
   },
   "outputs": [],
   "source": [
    "lower_fixed_1 = BCSlice(slice=xd_lower.mesh[:, 0, :, 0], var='u', dims=[1], value=0)\n",
    "lower_fixed_0 = BCSlice(slice=xd_upper.mesh[0, :, 0, :], var='u', dims=[0], value=0)\n",
    "\n",
    "lower_slide_dummy = BCSlice(slice=xd_lower.mesh[0, :, 0, :], var='u', dims=[0], value=0.001)\n",
    "lower_slide_dofs = lower_slide_dummy.dofs\n",
    "\n",
    "\n",
    "upper_compression_slice = BCSlice(slice=xd_upper.mesh[:, -1, :, -1],\n",
    "         var='u', dims=[1], value=0.01)\n",
    "\n",
    "compression_dofs = upper_compression_slice.dofs\n",
    "compression = -20 / len(compression_dofs)\n",
    "upper_compression_force_first = [BCDof(var='f', dof=dof, value = compression) \n",
    "             for dof in compression_dofs ]\n",
    "bc1 = [lower_fixed_0, lower_fixed_1] + upper_compression_force_first"
   ]
  },
  {
   "cell_type": "code",
   "execution_count": null,
   "id": "c7f94c19-f22a-4351-9484-26811a570aeb",
   "metadata": {},
   "outputs": [],
   "source": [
    "compression"
   ]
  },
  {
   "cell_type": "code",
   "execution_count": null,
   "id": "5a93ddb8-9acc-432d-b471-f0717c0bb700",
   "metadata": {
    "tags": []
   },
   "outputs": [],
   "source": [
    "m.bc=bc1\n",
    "m.hist.vis_record = {\n",
    "#    'strain': Vis3DTensorField(var='eps_ab'),\n",
    "    'stress': Vis3DTensorField(var='sig_ab'),\n",
    "    #        'kinematic hardening': Vis3DStateField(var='z_a')\n",
    "}\n",
    "\n",
    "s = m.sim\n",
    "s.tloop.verbose = True\n",
    "s.tloop.k_max = 100\n",
    "s.tline.step = 0.01\n",
    "s.tstep.fe_domain.serialized_subdomains"
   ]
  },
  {
   "cell_type": "code",
   "execution_count": null,
   "id": "83881814-4ed8-418c-a12a-ce67a95199d3",
   "metadata": {},
   "outputs": [],
   "source": [
    "xd12.hidden = True\n",
    "s.reset()\n",
    "s.run()"
   ]
  },
  {
   "cell_type": "code",
   "execution_count": null,
   "id": "cf874ac1-e769-4828-8449-3c497c45b91d",
   "metadata": {},
   "outputs": [],
   "source": [
    "F_to = m.hist.F_t\n",
    "U_to = m.hist.U_t\n",
    "U_compression = np.average(U_to[:, compression_dofs], axis=-1)\n",
    "U_slide = np.average(U_to[:, lower_slide_dofs], axis=-1)\n",
    "\n",
    "states_t = [states_t[2] for states_t in m.hist.state_vars]\n",
    "var_names = states_t[0].keys()\n",
    "EpsSig_t = {\n",
    "    var_name: np.array([ state_dict[var_name] for state_dict in states_t ]) \n",
    "    for var_name in var_names \n",
    "}\n",
    "u_pi_N = EpsSig_t['w_pi']\n",
    "u_pi_Tx = EpsSig_t['s_pi_x']\n",
    "sig_pi_N = EpsSig_t['sig_pi']\n",
    "sig_pi_Tx = EpsSig_t['tau_pi_x']\n",
    "sig_pi_Ty = EpsSig_t['tau_pi_y']\n",
    "omega_Nx = EpsSig_t['omega_N']\n",
    "omega_Tx = EpsSig_t['omega_T']\n",
    "x_m = xd12.x_Eia[:,:,0].flatten()"
   ]
  },
  {
   "cell_type": "code",
   "execution_count": null,
   "id": "ef2c933c-879d-450d-a916-3fe2eb649078",
   "metadata": {},
   "outputs": [],
   "source": [
    "time = m.hist.t\n",
    "f, (ax1, ax2, ax3, ax4) = plt.subplots(1,4, figsize=(10, 3))\n",
    "\n",
    "ax1.plot(U_compression, sig_pi_N[:,0,0].flatten(), label='sigma')\n",
    "ax1.plot(U_compression, sig_pi_N[:,0,1].flatten(), label='sigma')\n",
    "ax1.set_xlabel('displacement [mm]')\n",
    "ax1.set_ylabel('normal stress')\n",
    "ax1.legend()\n",
    "\n",
    "ax2.plot(U_slide, sig_pi_Tx[:,0,0].flatten(), color='red', label='tau')\n",
    "ax2.set_xlabel('displacement [mm]')\n",
    "ax2.set_ylabel('tangential stress')\n",
    "ax2.legend()\n",
    "\n",
    "ax3.plot(time, omega_Nx[:,0,0].flatten(), color='red', label='normal damage')\n",
    "ax3.plot(time, omega_Tx[:,0,0].flatten(), color='green', label='tangential damage')\n",
    "\n",
    "ax3.set_xlabel('time')\n",
    "ax3.set_ylabel('damage')\n",
    "ax3.legend()\n",
    "\n",
    "ax4.plot(time, u_pi_N[:,0,0].flatten(), color='red', label='opening')\n",
    "ax4.set_xlabel('time')\n",
    "ax4.set_ylabel('opening')\n",
    "ax4.legend()\n",
    "plt.tight_layout()\n"
   ]
  },
  {
   "cell_type": "code",
   "execution_count": null,
   "id": "0a47be30-e3c6-4422-ad3a-95eed17df35e",
   "metadata": {},
   "outputs": [],
   "source": [
    "# if True:\n",
    "#     mlab.options.backend = 'envisage'\n",
    "#     mlab.options.offscreen = False # 'envisage'\n",
    "#     f_strain = mlab.figure()\n",
    "#     scene = mlab.get_engine().scenes[-1]\n",
    "#     scene.name = 'stress'\n",
    "#     strain_viz = Viz3DTensorField(vis3d=m.hist['stress'])\n",
    "#     strain_viz.setup()\n",
    "#     strain_viz.warp_vector.filter.scale_factor = 0.1\n",
    "#     strain_viz.plot(s.tstep.t_n)\n",
    "#     mlab.show()"
   ]
  },
  {
   "cell_type": "markdown",
   "id": "b6eae98d-d05c-4f33-949a-ffd8d17d4d9e",
   "metadata": {},
   "source": [
    "## Sliding dc"
   ]
  },
  {
   "cell_type": "code",
   "execution_count": null,
   "id": "4753eaa3-c9c5-4f96-b5f7-9fbca94ea7f6",
   "metadata": {},
   "outputs": [],
   "source": [
    "material_params =  dict(\n",
    "     E_T=1e7, gamma_T=1e5, K_T=0, S_T=50000, c_T=6, bartau=3, \n",
    "     E_N=1e7, S_N=50000, c_N = 3, m = 0.05, f_t=2, f_c=60, f_c0 = 40, eta=0.)\n",
    "bond_m = Slide34(**material_params)"
   ]
  },
  {
   "cell_type": "code",
   "execution_count": null,
   "id": "0449a6e2-74ba-456e-8341-e87b5f65fefd",
   "metadata": {
    "tags": []
   },
   "outputs": [],
   "source": [
    "lower_fixed_0 = BCSlice(slice=xd_lower.mesh[:, 0, :, 0], var='u', dims=[1], value=0)\n",
    "upper_fixed_1 = BCSlice(slice=xd_upper.mesh[0, :, 0, :], var='u', dims=[0], value=0)\n",
    "\n",
    "lower_slide = BCSlice(slice=xd_lower.mesh[-1, :, -1, :], var='u', dims=[0], value=0.0002)\n",
    "lower_slide_dofs = lower_slide_dummy.dofs\n",
    "\n",
    "upper_compression_slice = BCSlice(slice=xd_upper.mesh[:, -1, :, -1],\n",
    "         var='u', dims=[1], value=0.01)\n",
    "\n",
    "compression_dofs = upper_compression_slice.dofs\n",
    "\n",
    "bc1 =   [lower_fixed_0, upper_fixed_1, lower_slide]"
   ]
  },
  {
   "cell_type": "code",
   "execution_count": null,
   "id": "2514f689-ce3c-4762-a6c3-aac7828805fb",
   "metadata": {
    "tags": []
   },
   "outputs": [],
   "source": [
    "m = TStepBC(\n",
    "    domains=[(xd_lower, m1),\n",
    "             (xd_upper, m2),\n",
    "             (xd12, bond_m),\n",
    "             ]\n",
    ")"
   ]
  },
  {
   "cell_type": "code",
   "execution_count": null,
   "id": "59397b06-8db2-421c-801a-a304fe3b7648",
   "metadata": {
    "tags": []
   },
   "outputs": [],
   "source": [
    "m.bc=bc1\n",
    "m.hist.vis_record = {\n",
    "#    'strain': Vis3DTensorField(var='eps_ab'),\n",
    "    'stress': Vis3DTensorField(var='sig_ab'),\n",
    "    #        'kinematic hardening': Vis3DStateField(var='z_a')\n",
    "}\n",
    "\n",
    "s = m.sim\n",
    "s.tloop.verbose = True\n",
    "s.tloop.k_max = 100\n",
    "s.tline.step = 0.01\n",
    "s.tstep.fe_domain.serialized_subdomains"
   ]
  },
  {
   "cell_type": "code",
   "execution_count": null,
   "id": "7c5bc358-18fb-4f73-ad47-aecd1d3999d7",
   "metadata": {},
   "outputs": [],
   "source": [
    "xd12.hidden = True\n",
    "s.reset()\n",
    "s.run()"
   ]
  },
  {
   "cell_type": "code",
   "execution_count": null,
   "id": "af93af48-bd1a-45ae-8abd-a35460f0bcb2",
   "metadata": {},
   "outputs": [],
   "source": [
    "F_to = m.hist.F_t\n",
    "U_to = m.hist.U_t\n",
    "U_compression = np.average(U_to[:, compression_dofs], axis=-1)\n",
    "U_slide = np.average(U_to[:, lower_slide_dofs], axis=-1)\n",
    "\n",
    "states_t = [states_t[2] for states_t in m.hist.state_vars]\n",
    "var_names = states_t[0].keys()\n",
    "EpsSig_t = {\n",
    "    var_name: np.array([ state_dict[var_name] for state_dict in states_t ]) \n",
    "    for var_name in var_names \n",
    "}\n",
    "u_pi_N = EpsSig_t['w_pi']\n",
    "u_pi_Tx = EpsSig_t['s_pi_x']\n",
    "sig_pi_N = EpsSig_t['sig_pi']\n",
    "sig_pi_Tx = EpsSig_t['tau_pi_x']\n",
    "sig_pi_Ty = EpsSig_t['tau_pi_y']\n",
    "omega_Nx = EpsSig_t['omega_N']\n",
    "omega_Tx = EpsSig_t['omega_T']\n",
    "x_m = xd12.x_Eia[:,:,0].flatten()"
   ]
  },
  {
   "cell_type": "code",
   "execution_count": null,
   "id": "cfd24e57-07f6-443f-ab61-df645bbc6057",
   "metadata": {},
   "outputs": [],
   "source": [
    "time = m.hist.t\n",
    "f, (ax1, ax2, ax3, ax4) = plt.subplots(1,4, figsize=(10, 3))\n",
    "\n",
    "ax1.plot(U_compression, sig_pi_N[:,0,0].flatten(), label='sigma')\n",
    "ax1.plot(U_compression, sig_pi_N[:,0,1].flatten(), label='sigma')\n",
    "ax1.set_xlabel('displacement [mm]')\n",
    "ax1.set_ylabel('normal stress')\n",
    "ax1.legend()\n",
    "\n",
    "ax2.plot(U_slide, sig_pi_Tx[:,0,0].flatten(), color='red', label='tau')\n",
    "ax2.set_xlabel('displacement [mm]')\n",
    "ax2.set_ylabel('tangential stress')\n",
    "ax2.legend()\n",
    "\n",
    "ax3.plot(time, omega_Nx[:,0,0].flatten(), color='red', label='normal damage')\n",
    "ax3.plot(time, omega_Tx[:,0,0].flatten(), color='green', label='tangential damage')\n",
    "\n",
    "ax3.set_xlabel('time')\n",
    "ax3.set_ylabel('damage')\n",
    "ax3.legend()\n",
    "\n",
    "ax4.plot(time, u_pi_N[:,0,0].flatten(), color='red', label='opening')\n",
    "ax4.set_xlabel('time')\n",
    "ax4.set_ylabel('opening')\n",
    "ax4.legend()\n",
    "plt.tight_layout()\n"
   ]
  },
  {
   "cell_type": "code",
   "execution_count": null,
   "id": "90a0a746-3ebe-4bb1-82dc-35059f25d994",
   "metadata": {},
   "outputs": [],
   "source": [
    "if True:\n",
    "    mlab.options.backend = 'envisage'\n",
    "    mlab.options.offscreen = False # 'envisage'\n",
    "    f_strain = mlab.figure()\n",
    "    scene = mlab.get_engine().scenes[-1]\n",
    "    scene.name = 'stress'\n",
    "    strain_viz = Viz3DTensorField(vis3d=m.hist['stress'])\n",
    "    strain_viz.setup()\n",
    "    strain_viz.warp_vector.filter.scale_factor = 0.1\n",
    "    strain_viz.plot(s.tstep.t_n)\n",
    "    mlab.show()"
   ]
  },
  {
   "cell_type": "markdown",
   "id": "25cf6602-f09e-45cb-9916-29dd9857bed4",
   "metadata": {},
   "source": [
    "## Sliding fc"
   ]
  },
  {
   "cell_type": "code",
   "execution_count": null,
   "id": "c3b5ccf9-7691-44af-943f-eb3d6253e34f",
   "metadata": {
    "tags": []
   },
   "outputs": [],
   "source": [
    "lower_fixed_0 = BCSlice(slice=xd_lower.mesh[:, 0, :, 0], var='u', dims=[1], value=0)\n",
    "upper_fixed_1 = BCSlice(slice=xd_upper.mesh[-1, :, 0-1, :], var='u', dims=[0], value=0)\n",
    "\n",
    "lower_slide = BCSlice(slice=xd_lower.mesh[0, :, 0, :], var='u', dims=[0], value=0)\n",
    "Force = 4 / len(lower_slide.dofs)\n",
    "lower_slide_force = [BCDof(var='f', dof=dof, value = Force) \n",
    "            for dof in lower_slide.dofs]\n",
    "\n",
    "bc1 =   [lower_fixed_0, upper_fixed_1] + lower_slide_force"
   ]
  },
  {
   "cell_type": "code",
   "execution_count": null,
   "id": "b3c28253-1707-4ff9-8dff-1645ad2e1b4c",
   "metadata": {
    "tags": []
   },
   "outputs": [],
   "source": [
    "m = TStepBC(\n",
    "    domains=[(xd_lower, m1),\n",
    "             (xd_upper, m2),\n",
    "             (xd12, bond_m),\n",
    "             ]\n",
    ")"
   ]
  },
  {
   "cell_type": "code",
   "execution_count": null,
   "id": "63d6ec58-969a-4ca3-9fa8-76c0cf729fb0",
   "metadata": {
    "tags": []
   },
   "outputs": [],
   "source": [
    "m.bc=bc1\n",
    "m.hist.vis_record = {\n",
    "#    'strain': Vis3DTensorField(var='eps_ab'),\n",
    "    'stress': Vis3DTensorField(var='sig_ab'),\n",
    "    #        'kinematic hardening': Vis3DStateField(var='z_a')\n",
    "}\n",
    "\n",
    "s = m.sim\n",
    "s.tloop.verbose = True\n",
    "s.tloop.k_max = 100\n",
    "s.tline.step = 0.01\n",
    "s.tstep.fe_domain.serialized_subdomains"
   ]
  },
  {
   "cell_type": "code",
   "execution_count": null,
   "id": "c162ca46-74e8-4fbc-84b9-c280810f4d33",
   "metadata": {},
   "outputs": [],
   "source": [
    "xd12.hidden = True\n",
    "s.reset()\n",
    "s.run()"
   ]
  },
  {
   "cell_type": "code",
   "execution_count": null,
   "id": "d8ac0678-3177-4005-95aa-c8d3c85355e0",
   "metadata": {},
   "outputs": [],
   "source": [
    "states_t = [states_t[2] for states_t in m.hist.state_vars]\n",
    "var_names = states_t[0].keys()\n",
    "EpsSig_t = {\n",
    "    var_name: np.array([ state_dict[var_name] for state_dict in states_t ]) \n",
    "    for var_name in var_names \n",
    "}\n",
    "u_pi_N = EpsSig_t['w_pi']\n",
    "u_pi_Tx = EpsSig_t['s_pi_x']\n",
    "sig_pi_N = EpsSig_t['sig_pi']\n",
    "sig_pi_Tx = EpsSig_t['tau_pi_x']\n",
    "sig_pi_Ty = EpsSig_t['tau_pi_y']\n",
    "omega_Nx = EpsSig_t['omega_N']\n",
    "omega_Tx = EpsSig_t['omega_T']\n",
    "x_m = xd12.x_Eia[:,:,0].flatten()"
   ]
  },
  {
   "cell_type": "code",
   "execution_count": null,
   "id": "9880aebe-a669-408e-ba00-ac54c49ba717",
   "metadata": {},
   "outputs": [],
   "source": [
    "time = m.hist.t\n",
    "f, (ax1, ax2, ax3, ax4) = plt.subplots(1,4)\n",
    "ax1.plot(time, sig_pi_N[:,0,0].flatten(), label='sigma')\n",
    "ax1.plot(time, sig_pi_N[:,0,1].flatten(), label='sigma')\n",
    "ax1.set_xlabel('time')\n",
    "ax1.set_ylabel('normal stress')\n",
    "ax1.legend()\n",
    "\n",
    "ax2.plot(time, sig_pi_Tx[:,0,0].flatten(), color='red', label='tau')\n",
    "ax2.set_xlabel('time')\n",
    "ax2.set_ylabel('tangential stress')\n",
    "ax2.legend()\n",
    "\n",
    "ax3.plot(time, omega_Nx[:,0,0].flatten(), color='red', label='normal damage')\n",
    "ax3.plot(time, omega_Tx[:,0,0].flatten(), color='green', label='tangential damage')\n",
    "\n",
    "ax3.set_xlabel('time')\n",
    "ax3.set_ylabel('damage')\n",
    "ax3.legend()\n",
    "\n",
    "ax4.plot(time, u_pi_N[:,0,0].flatten(), color='red', label='opening')\n",
    "ax4.set_xlabel('time')\n",
    "ax4.set_ylabel('opening')\n",
    "ax4.legend()"
   ]
  },
  {
   "cell_type": "code",
   "execution_count": null,
   "id": "aee73987-c1c9-497d-9006-e8bf5f1f8eb0",
   "metadata": {},
   "outputs": [],
   "source": [
    "if True:\n",
    "    mlab.options.backend = 'envisage'\n",
    "    mlab.options.offscreen = False # 'envisage'\n",
    "    f_strain = mlab.figure()\n",
    "    scene = mlab.get_engine().scenes[-1]\n",
    "    scene.name = 'stress'\n",
    "    strain_viz = Viz3DTensorField(vis3d=m.hist['stress'])\n",
    "    strain_viz.setup()\n",
    "    strain_viz.warp_vector.filter.scale_factor = 0.1\n",
    "    strain_viz.plot(s.tstep.t_n)\n",
    "    mlab.show()"
   ]
  },
  {
   "cell_type": "code",
   "execution_count": null,
   "id": "9d203019-534d-4833-a328-e3925e8e187f",
   "metadata": {},
   "outputs": [],
   "source": []
  }
 ],
 "metadata": {
  "kernelspec": {
   "display_name": "bmcs_env",
   "language": "python",
   "name": "bmcs_env"
  },
  "language_info": {
   "codemirror_mode": {
    "name": "ipython",
    "version": 3
   },
   "file_extension": ".py",
   "mimetype": "text/x-python",
   "name": "python",
   "nbconvert_exporter": "python",
   "pygments_lexer": "ipython3"
  },
  "toc": {
   "base_numbering": 1,
   "nav_menu": {},
   "number_sections": true,
   "sideBar": true,
   "skip_h1_title": false,
   "title_cell": "Table of Contents",
   "title_sidebar": "Contents",
   "toc_cell": false,
   "toc_position": {},
   "toc_section_display": true,
   "toc_window_display": false
  }
 },
 "nbformat": 4,
 "nbformat_minor": 5
}
