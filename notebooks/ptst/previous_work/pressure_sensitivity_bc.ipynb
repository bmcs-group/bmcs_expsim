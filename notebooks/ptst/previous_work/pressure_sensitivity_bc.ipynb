{
 "cells": [
  {
   "cell_type": "markdown",
   "id": "4faf2840",
   "metadata": {},
   "source": [
    "# Studies focused on the pressure sensitivity of SLIDE model"
   ]
  },
  {
   "cell_type": "code",
   "execution_count": 11,
   "id": "5453e041-98d8-4951-923c-b64809a003dd",
   "metadata": {},
   "outputs": [],
   "source": [
    "%matplotlib widget\n",
    "import time\n",
    "from bmcs_expsim.utils.mlab_decorators import decorate_figure\n",
    "from mayavi import mlab\n",
    "import numpy as np\n",
    "np.seterr(divide='ignore', invalid='ignore')\n",
    "import warnings\n",
    "import matplotlib.pylab as plt\n",
    "import numpy as np\n",
    "from ibvpy.api import TStepBC , TFCyclicNonsymmetricConstant, TFBilinear\n",
    "from ibvpy.bcond import BCSlice, BCDof\n",
    "from ibvpy.xmodel.xdomain_fe_grid_axisym import XDomainFEGridAxiSym\n",
    "from ibvpy.xmodel.xdomain_fe_grid import XDomainFEGrid\n",
    "from ibvpy.xmodel.xdomain_interface import XDomainFEInterface\n",
    "from ibvpy.fets import FETS2D4Q\n",
    "from ibvpy.fets.fets1D5 import FETS1D52ULRH\n",
    "from ibvpy.tmodel.viz3d_scalar_field import \\\n",
    "    Vis3DStateField, Viz3DScalarField\n",
    "from ibvpy.tmodel.viz3d_tensor_field import \\\n",
    "    Vis3DTensorField, Viz3DTensorField\n",
    "from bmcs_matmod.slide.vslide_34_TN_axisym import Slide34\n",
    "from ibvpy.tmodel.mats3D.mats3D_elastic.vmats3D_elastic import \\\n",
    "    MATS3DElastic\n",
    "from ibvpy.tmodel.mats2D.mats2D_elastic.vmats2D_elastic import \\\n",
    "    MATS2DElastic\n",
    "from bmcs_matmod.slide.slide_explorer import SlideExplorer"
   ]
  },
  {
   "cell_type": "markdown",
   "id": "7bc0f4a9-4bf9-4bd9-ae90-45d14f9d1017",
   "metadata": {},
   "source": [
    "## Geometry, BC and Material Parameters"
   ]
  },
  {
   "cell_type": "code",
   "execution_count": 12,
   "id": "b1e73a36-a1c4-4af9-b24c-9369ffb750e2",
   "metadata": {
    "scrolled": true,
    "tags": []
   },
   "outputs": [],
   "source": [
    "n_y_e = 1\n",
    "n_inner_x_e = 1\n",
    "n_outer_x_e = 1\n",
    "L_x = 1\n",
    "R_in = 1\n",
    "R_out = 2\n",
    "P = 1.\n",
    "\n",
    "xd_lower = XDomainFEGrid(integ_factor = P,\n",
    "                         coord_min=(0, 0),\n",
    "                          coord_max=(L_x, R_in),\n",
    "                          shape=(n_y_e, n_inner_x_e),\n",
    "                          fets=FETS2D4Q())\n",
    "xd_upper = XDomainFEGrid(integ_factor = P,\n",
    "                         coord_min=(0, R_in),\n",
    "                          coord_max=(L_x, R_out),\n",
    "                          shape=(n_y_e, n_outer_x_e),\n",
    "                          fets=FETS2D4Q())\n",
    "m1 = MATS2DElastic(E=37000, nu=0.18)\n",
    "m2 = MATS2DElastic(E=37000, nu=0.18)\n",
    "\n",
    "xd12 = XDomainFEInterface(\n",
    "    integ_factor = P,\n",
    "    I=xd_lower.mesh.I[:, -1],\n",
    "    J=xd_upper.mesh.I[:, 0],\n",
    "    fets=FETS1D52ULRH()\n",
    ")"
   ]
  },
  {
   "cell_type": "markdown",
   "id": "7ac4b224-3e8b-4957-9dd5-6ff23503354f",
   "metadata": {},
   "source": [
    "# Study 3: introducing some damage"
   ]
  },
  {
   "cell_type": "code",
   "execution_count": 13,
   "id": "3ccc945d-5132-45a1-abb5-f8d9f7c28f80",
   "metadata": {},
   "outputs": [],
   "source": [
    "material_params_dam =  dict(\n",
    "     E_T=200, gamma_T=400, K_T=0, S_T=1.0, c_T=6, bartau=5,\n",
    "     E_N=300, S_N=1.5, c_N = 3, m = 0.2, f_t=2, f_c=100, f_c0 = 80, eta=0.0)\n",
    "\n",
    "\n",
    "\n",
    "bond_m = Slide34(**material_params_dam)"
   ]
  },
  {
   "cell_type": "markdown",
   "id": "aafe310d-0a5e-48b7-b2f6-8de182f7abc9",
   "metadata": {},
   "source": [
    "### Monotonic case"
   ]
  },
  {
   "cell_type": "code",
   "execution_count": 14,
   "id": "0b149a38-d19f-4699-be22-c513a009ed1b",
   "metadata": {},
   "outputs": [],
   "source": [
    "m_dam_mon = TStepBC(\n",
    "    domains=[(xd_lower, m1),\n",
    "             (xd_upper, m2),\n",
    "             (xd12, bond_m),\n",
    "             ]\n",
    ")"
   ]
  },
  {
   "cell_type": "code",
   "execution_count": 15,
   "id": "111833d3-c514-4774-803e-5e85f2f5d4ea",
   "metadata": {},
   "outputs": [],
   "source": [
    "lower_fixed_0 = BCSlice(slice=xd_lower.mesh[:, 0, :, 0], var='u', dims=[1], value=0)\n",
    "upper_fixed_1 = BCSlice(slice=xd_upper.mesh[0, :, 0, :], var='u', dims=[0], value=0)\n",
    "\n",
    "tf_first = TFBilinear(loading_ratio=1.0, time_ratio=0.05)\n",
    "tf_second = TFBilinear(loading_ratio=0.00, time_ratio=0.05)\n",
    "\n",
    "compression_list = np.linspace(-10,-35,2)"
   ]
  },
  {
   "cell_type": "code",
   "execution_count": 16,
   "id": "06ce3bee-1a44-43a4-8a37-597f7a6958b5",
   "metadata": {},
   "outputs": [
    {
     "name": "stdout",
     "output_type": "stream",
     "text": [
      "compression -10.0\n",
      "t:\t 0.00compression -35.0\n",
      "t:\t 0.00"
     ]
    }
   ],
   "source": [
    "m_list_dam_mon = []\n",
    "\n",
    "for c in compression_list:\n",
    "    m_dam_mon = TStepBC(\n",
    "        domains=[(xd_lower, m1),\n",
    "                 (xd_upper, m2),\n",
    "                 (xd12, bond_m),\n",
    "                 ]\n",
    "    )\n",
    "    print('compression', c)\n",
    "\n",
    "    max_u_T = 0.1\n",
    "    lower_slide = BCSlice(slice=xd_lower.mesh[0, :, 0, :], var='u', dims=[0], \n",
    "                          value=max_u_T, time_function=tf_second)\n",
    "\n",
    "    upper_compression_slice = BCSlice(slice=xd_upper.mesh[:, -1, :, -1],\n",
    "             var='u', dims=[1], value=0,  time_function=tf_first)\n",
    "\n",
    "    compression_dofs = upper_compression_slice.dofs\n",
    "\n",
    "    compression = c / len(compression_dofs)\n",
    "    upper_compression_force_first = [BCDof(var='f', dof=dof, value = compression, time_function=tf_first)\n",
    "                 for dof in compression_dofs ]\n",
    "    # rigidity of the lower plate in x-direction\n",
    "    lower_plate_0 = BCSlice(slice=xd_lower.mesh[:, :, :, :], var='u', dims=[0])\n",
    "    lpd_0 = lower_plate_0.dofs\n",
    "    lower_plate_links_0 = [BCDof(var='u', value=0, dof = dof, link_dofs = [lpd_0[0]], \n",
    "                               link_coeffs = [1]) for dof in lpd_0[1:]]\n",
    "    # rigidity of the lower plate in y-direction\n",
    "    lower_plate_1 = BCSlice(slice=xd_lower.mesh[:, :, :, :], var='u', dims=[1])\n",
    "    lpd_1 = lower_plate_1.dofs\n",
    "    lower_plate_links_1 = [BCDof(var='u', value=0, dof = dof, link_dofs = [lpd_1[0]], \n",
    "                               link_coeffs = [1]) for dof in lpd_1[1:]]\n",
    "    # rigidity of the upper plate in x-direction\n",
    "    upper_plate_0 = BCSlice(slice=xd_upper.mesh[:, :, :, :], var='u', dims=[0])\n",
    "    upd_0 = upper_plate_0.dofs\n",
    "    upper_plate_links_0 = [BCDof(var='u', value=0, dof = dof, link_dofs = [upd_0[0]], \n",
    "                               link_coeffs = [1]) for dof in upd_0[1:]]\n",
    "    # rigidity of the upper plate in y-direction\n",
    "    upper_plate_1 = BCSlice(slice=xd_upper.mesh[:, :, :, :], var='u', dims=[1])\n",
    "    upd_1 = upper_plate_1.dofs\n",
    "    upper_plate_links_1 = [BCDof(var='u', value=0, dof = dof, link_dofs = [upd_1[0]], \n",
    "                               link_coeffs = [1]) for dof in upd_1[1:]]\n",
    "\n",
    "    \n",
    "    bc1 = [lower_fixed_0, upper_fixed_1,lower_slide] + \\\n",
    "            upper_compression_force_first + lower_plate_links_0 + lower_plate_links_1 + \\\n",
    "            upper_plate_links_0 + upper_plate_links_1\n",
    "#     bc1 = [lower_fixed_0, upper_fixed_1,lower_slide] + upper_compression_force_first\n",
    "\n",
    "    m_dam_mon.bc=bc1\n",
    "    m_dam_mon.hist.vis_record = {\n",
    "        'stress': Vis3DTensorField(var='sig_ab'),\n",
    "    }\n",
    "\n",
    "    s = m_dam_mon.sim\n",
    "    s.tloop.verbose = True\n",
    "    s.tloop.k_max = 1000\n",
    "    s.tline.step = 0.01\n",
    "    s.tstep.fe_domain.serialized_subdomains\n",
    "\n",
    "    xd12.hidden = True\n",
    "    s.reset()\n",
    "    try:\n",
    "        s.run()\n",
    "    except:\n",
    "        pass\n",
    "    m_list_dam_mon.append(m_dam_mon)"
   ]
  },
  {
   "cell_type": "code",
   "execution_count": 17,
   "id": "f59b3d34-1944-4980-8ab9-c9499346f9f9",
   "metadata": {},
   "outputs": [
    {
     "ename": "IndexError",
     "evalue": "too many indices for array: array is 1-dimensional, but 2 were indexed",
     "output_type": "error",
     "traceback": [
      "\u001b[0;31m---------------------------------------------------------------------------\u001b[0m",
      "\u001b[0;31mIndexError\u001b[0m                                Traceback (most recent call last)",
      "Cell \u001b[0;32mIn [17], line 8\u001b[0m\n\u001b[1;32m      6\u001b[0m F_to \u001b[38;5;241m=\u001b[39m m\u001b[38;5;241m.\u001b[39mhist\u001b[38;5;241m.\u001b[39mF_t\n\u001b[1;32m      7\u001b[0m U_to \u001b[38;5;241m=\u001b[39m m\u001b[38;5;241m.\u001b[39mhist\u001b[38;5;241m.\u001b[39mU_t\n\u001b[0;32m----> 8\u001b[0m F_inner_t \u001b[38;5;241m=\u001b[39m np\u001b[38;5;241m.\u001b[39msum(\u001b[43mF_to\u001b[49m\u001b[43m[\u001b[49m\u001b[43m:\u001b[49m\u001b[43m,\u001b[49m\u001b[43m \u001b[49m\u001b[43mlower_slide\u001b[49m\u001b[38;5;241;43m.\u001b[39;49m\u001b[43mdofs\u001b[49m\u001b[43m]\u001b[49m, axis\u001b[38;5;241m=\u001b[39m\u001b[38;5;241m-\u001b[39m\u001b[38;5;241m1\u001b[39m)\n\u001b[1;32m      9\u001b[0m U_inner_t \u001b[38;5;241m=\u001b[39m np\u001b[38;5;241m.\u001b[39maverage(U_to[:, lower_slide\u001b[38;5;241m.\u001b[39mdofs], axis\u001b[38;5;241m=\u001b[39m\u001b[38;5;241m-\u001b[39m\u001b[38;5;241m1\u001b[39m)\n\u001b[1;32m     10\u001b[0m \u001b[38;5;28mprint\u001b[39m(\u001b[38;5;28mmax\u001b[39m(F_inner_t))\n",
      "\u001b[0;31mIndexError\u001b[0m: too many indices for array: array is 1-dimensional, but 2 were indexed"
     ]
    },
    {
     "data": {
      "application/vnd.jupyter.widget-view+json": {
       "model_id": "7665bb401aa14cdf8ccc743b07926f9c",
       "version_major": 2,
       "version_minor": 0
      },
      "image/png": "[encoded data removed]",
      "text/html": [
       "\n",
       "            <div style=\"display: inline-block;\">\n",
       "                <div class=\"jupyter-widgets widget-label\" style=\"text-align: center;\">\n",
       "                    Figure\n",
       "                </div>\n",
       "                <img src='data:image/png;base64,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' width=1200.0/>\n",
       "            </div>\n",
       "        "
      ],
      "text/plain": [
       "Canvas(toolbar=Toolbar(toolitems=[('Home', 'Reset original view', 'home', 'home'), ('Back', 'Back to previous …"
      ]
     },
     "metadata": {},
     "output_type": "display_data"
    }
   ],
   "source": [
    "f, (ax1, ax2, ax3, ax4) = plt.subplots(1, 4, tight_layout=True, figsize=(12,3.5))\n",
    "plt.rcParams.update({'font.size': 14})\n",
    "\n",
    "max_tau = []\n",
    "for m,c in zip(m_list_dam_mon,compression_list):\n",
    "    F_to = m.hist.F_t\n",
    "    U_to = m.hist.U_t\n",
    "    F_inner_t = np.sum(F_to[:, lower_slide.dofs], axis=-1)\n",
    "    U_inner_t = np.average(U_to[:, lower_slide.dofs], axis=-1)\n",
    "    print(max(F_inner_t))\n",
    "    max_tau.append(max(F_inner_t))\n",
    "\n",
    "    states_t = [states_t[2] for states_t in m.hist.state_vars]\n",
    "    var_names = states_t[0].keys()\n",
    "    EpsSig_t = {\n",
    "        var_name: np.array([state_dict[var_name] for state_dict in states_t])\n",
    "        for var_name in var_names\n",
    "    }\n",
    "    u_pi_N = EpsSig_t['w_pi']\n",
    "    u_pi_Tx = EpsSig_t['s_pi_x']\n",
    "    sig_pi_N = EpsSig_t['sig_pi']\n",
    "    sig_pi_Tx = EpsSig_t['tau_pi_x']\n",
    "    sig_pi_Ty = EpsSig_t['tau_pi_y']\n",
    "    omega_Nx = EpsSig_t['omega_N']\n",
    "    omega_Tx = EpsSig_t['omega_T']\n",
    "    x_m = xd12.x_Eia[:, :, 0].flatten()\n",
    "\n",
    "    time = m.hist.t\n",
    "    \n",
    "    # miltiplay by 2pir for getting axisymm forces: ax1.plot(U_inner_t, F_inner_t * 2 * 25 * np.pi, label= str(c))\n",
    "    ax1.plot(U_inner_t, F_inner_t, label= str(c))\n",
    "    ax1.set_xlabel('Displacement [mm]')\n",
    "    ax1.set_ylabel('Force (push) [N]')\n",
    "    ax1.legend()\n",
    "    \n",
    "    ax2.plot(time, sig_pi_N[:, 0, 0].flatten(), label= str(c))\n",
    "    ax2.set_xlabel('time')\n",
    "    ax2.set_ylabel('normal stress')\n",
    "\n",
    "    ax3.plot(U_inner_t, sig_pi_Tx[:, 0, 0].flatten(), label= str(c))\n",
    "    ax3.set_xlabel('time')\n",
    "    ax3.set_ylabel('tangential stress')\n",
    "\n",
    "    #ax3.plot(time, omega_Nx[:, 0, 0].flatten(),  label='normal'+ str(c))\n",
    "    ax4.plot(time, omega_Tx[:, 0, 0].flatten(),  label='tangential'+ str(c))\n",
    "    ax4.set_xlabel('time')\n",
    "    ax4.set_ylabel('damage')\n",
    "    ax4.legend()\n",
    "\n",
    "plt.show()\n",
    "\n",
    "plt.savefig('monotonic_damage.pdf', bbox_inches='tight', pad_inches=0.01/2.54, dpi=300)\n"
   ]
  },
  {
   "cell_type": "markdown",
   "id": "4fd5bca1-0b12-42cf-a32e-98016e1d5863",
   "metadata": {},
   "source": [
    "## Cyclic loading"
   ]
  },
  {
   "cell_type": "code",
   "execution_count": 8,
   "id": "5041ea34-91b3-49ee-951f-2380bc1d1360",
   "metadata": {},
   "outputs": [],
   "source": [
    "m_dam_cyc = TStepBC(\n",
    "        domains=[(xd_lower, m1),\n",
    "                 (xd_upper, m2),\n",
    "                 (xd12, bond_m),\n",
    "                 ]\n",
    "    )\n",
    "\n",
    "tf_precrompression = TFCyclicNonsymmetricConstant(number_of_cycles = 3, shift_cycles = 0, unloading_ratio = 1.0)\n",
    "tf_cyclic = TFCyclicNonsymmetricConstant(number_of_cycles = 3, shift_cycles = 1, unloading_ratio = 0.05)\n",
    "\n",
    "\n",
    "list_param = np.linspace(300,500,3)\n",
    "compression_list = np.linspace(-15,-30,2)\n",
    "#list_param = [500]\n",
    "#max_tau = [38.46641793836478, 49.592421717344706]\n",
    "bond_m = Slide34(**material_params_dam)\n",
    "\n",
    "m_list_dam_cyc = []\n",
    "S_max = 0.9"
   ]
  },
  {
   "cell_type": "code",
   "execution_count": 9,
   "id": "408b9b66-ab77-46a5-8f9b-8463133eb5e4",
   "metadata": {},
   "outputs": [],
   "source": [
    "for (c,p) in zip(compression_list,max_tau):\n",
    "    m_dam_cyc = TStepBC(\n",
    "        domains=[(xd_lower, m1),\n",
    "                 (xd_upper, m2),\n",
    "                 (xd12, bond_m),\n",
    "                 ]\n",
    "    )\n",
    "\n",
    "    lower_slide = BCSlice(slice=xd_lower.mesh[0, :, 0, :], var='u', dims=[0], value=.8, time_function=tf_cyclic)\n",
    "\n",
    "    push = p * S_max / len(lower_slide.dofs)\n",
    "    push_force = [BCDof(var='f', dof=dof, value=push, time_function=tf_cyclic)\n",
    "                                     for dof in lower_slide.dofs]\n",
    "\n",
    "    upper_compression_slice = BCSlice(slice=xd_upper.mesh[:, -1, :, -1],\n",
    "             var='u', dims=[1], value=0,  time_function=tf_precrompression)\n",
    "\n",
    "    compression_dofs = upper_compression_slice.dofs\n",
    "\n",
    "    compression = c / len(compression_dofs)\n",
    "    upper_compression_force_first = [BCDof(var='f', dof=dof, value = compression, time_function=tf_precrompression)\n",
    "                 for dof in compression_dofs ]\n",
    "\n",
    "    bc1 = [lower_fixed_0, upper_fixed_1] + upper_compression_force_first + push_force\n",
    "\n",
    "    m_dam_cyc.bc=bc1\n",
    "    m_dam_cyc.hist.vis_record = {\n",
    "    #    'strain': Vis3DTensorField(var='eps_ab'),\n",
    "        'stress': Vis3DTensorField(var='sig_ab'),\n",
    "        #        'kinematic hardening': Vis3DStateField(var='z_a')\n",
    "    }\n",
    "\n",
    "    s = m_dam_cyc.sim\n",
    "    s.tloop.verbose = False\n",
    "    s.tloop.k_max = 1000\n",
    "    s.tline.step = (1/(100*5))\n",
    "    s.tstep.fe_domain.serialized_subdomains\n",
    "\n",
    "    xd12.hidden = True\n",
    "    s.reset()\n",
    "    try:\n",
    "        s.run()\n",
    "    except:\n",
    "        pass\n",
    "    m_list_dam_cyc.append(m_dam_cyc)"
   ]
  },
  {
   "cell_type": "code",
   "execution_count": 10,
   "id": "cd07aa86-555c-4bc8-bf2b-988c495f792c",
   "metadata": {},
   "outputs": [
    {
     "data": {
      "application/vnd.jupyter.widget-view+json": {
       "model_id": "9c04c7e0ee2c4b849eeba998666bc0ce",
       "version_major": 2,
       "version_minor": 0
      },
      "image/png": "[encoded data removed]",
      "text/html": [
       "\n",
       "            <div style=\"display: inline-block;\">\n",
       "                <div class=\"jupyter-widgets widget-label\" style=\"text-align: center;\">\n",
       "                    Figure\n",
       "                </div>\n",
       "                <img src='data:image/png;base64,iVBORw0KGgoAAAANSUhEUgAABdwAAAFeCAYAAACfAt2kAAAAOXRFWHRTb2Z0d2FyZQBNYXRwbG90bGliIHZlcnNpb24zLjYuMiwgaHR0cHM6Ly9tYXRwbG90bGliLm9yZy8o6BhiAAAACXBIWXMAAA9hAAAPYQGoP6dpAAAqsUlEQVR4nO3df5CU9X3A8c/pyQVPbj09MyURfzGIehYlKoYRRMRwKdXWzliHwky0U/FHRzrxVzKg9GDAYJNppsMwaS0kmClDlWnJTGaYRkLJYdHQkqCxRQVEQDRGuQZ2GRoPDp7+wdwFcvy65cvePcfrNXN/8Dx73/3uunlf5rN3z1ZlWZYFAAAAAABwSs7q6Q0AAAAAAEBfYOAOAAAAAAAJGLgDAAAAAEACBu4AAAAAAJCAgTsAAAAAACRg4A4AAAAAAAkYuAMAAAAAQAIG7gAAAAAAkICBOwAAAAAAJGDgDgAAAAAACRi4AwAAAABAAgbuAAAAAACQgIE7AAAAAAAkYOAOAAAAAAAJGLgDAAAAAEACBu4AAAAAAJCAgTsAAAAAACRg4A4AAAAAAAkYuAMAAAAAQAIG7gAAAAAAkICBOwAAAAAAJGDgDgAAAAAACRi4AwAAAABAAgbuAAAAAACQgIE7AAAAAAAkYOAOAAAAAAAJGLgDAAAAAEACPTJwX7x4cTz00ENx4403Rk1NTVRVVcULL7zQ7XUOHjwY8+fPj2HDhkX//v3joosuinvvvTc2b96cftMA6DdAjmk4QD7pN0C+9MjA/Zlnnol//Md/jO3bt8fAgQPLXufhhx+OqVOnxoEDB2Lq1KkxYcKE+OEPfxg33XRTvPXWWwl3DECEfgPkmYYD5JN+A+RLjwzcFy5cGNu2bYudO3fGww8/XNYaP/nJT2LBggUxevToWL9+fXzzm9+M73//+7F8+fIolUrxyCOPJN41APoNkF8aDpBP+g2QLz0ycL/jjjvi0ksvPaU1FixYEBERc+bMiZqams7j48aNi6ampnjllVdi06ZNp3QfABxJvwHyS8MB8km/AfIltx+a2tLSErW1tXHLLbd0OdfU1BQREatXr670tgA4Af0GyC8NB8gn/QaonFwO3Pfu3RsfffRRXH755XH22Wd3OT9kyJCICB/8AdDL6DdAfmk4QD7pN0BlVff0BspRLBYjIqJQKBz1fF1d3RG3O5a2trZoa2vr/PfBgwfj17/+dVx44YVRVVWVaLcAR5dlWezZsyc+97nPxVln5fL9z27Tb6AvOBP7HZGm4foN9CT91m8gv/LU8FwO3FOZO3duzJo1q6e3AZzhduzYERdffHFPbyNX9BvoDfS7+/Qb6A30u/v0G+gt8tDwXA7cO96VPda7r6VS6YjbHcu0adPi8ccf7/x3sViMSy65JHbs2NH5Di/A6VIqlWLQoEExYMCAnt5Kxeg30Becif2OSNNw/QZ6kn7rN5BfeWp4LgfutbW1MXDgwNi6dWscOHCgyzXIOq471nEdsmOpqak54tO5O9TV1fmBAVTMmfQnmPoN9CVnUr8j0jRcv4HeQL/1G8ivPDS8d1/w5jjGjBkTe/fujVdffbXLuZdffrnzNgD0LvoNkF8aDpBP+g1QOb1+4N7a2hrvvPNOtLa2HnH8wQcfjIiIZ555Jvbt29d5/N///d/j5ZdfjltvvTWuvPLKiu4VgN/Sb4D80nCAfNJvgJ7XI5eUWbhwYaxZsyYiIv77v/+781hLS0tERNx9991x9913R0TE/PnzY9asWdHc3BwzZ87sXGPs2LHxwAMPxMKFC2P48OHxh3/4h/Hxxx/HSy+9FHV1dfH3f//3lXxIAGcE/QbILw0HyCf9BsiXHhm4r1mzJr7//e8fcezVV1/t/NOmyy67rPOHxfE8//zzMWzYsHj++edj3rx5cd5558Vdd90Vzz77rHdmAU4D/QbILw0HyCf9BsiXqizLsp7eRG9RKpWiUChEsVj0oR/Aaac56XgugUrSnHQ8l0AlaU46nkug0vLUnV5/DXcAAAAAAMgDA3cAAAAAAEjAwB0AAAAAABIwcAcAAAAAgAQM3AEAAAAAIAEDdwAAAAAASMDAHQAAAAAAEjBwBwAAAACABAzcAQAAAAAgAQN3AAAAAABIwMAdAAAAAAASMHAHAAAAAIAEDNwBAAAAACABA3cAAAAAAEjAwB0AAAAAABIwcAcAAAAAgAQM3AEAAAAAIAEDdwAAAAAASMDAHQAAAAAAEjBwBwAAAACABAzcAQAAAAAgAQN3AAAAAABIwMAdAAAAAAASMHAHAAAAAIAEDNwBAAAAACABA3cAAAAAAEjAwB0AAAAAABIwcAcAAAAAgAQM3AEAAAAAIAEDdwAAAAAASMDAHQAAAAAAEjBwBwAAAACABAzcAQAAAAAgAQN3AAAAAABIwMAdAAAAAAASMHAHAAAAAIAEDNwBAAAAACCBHhu4r1u3LiZMmBD19fVRW1sbI0aMiCVLlnRrjd27d8df//Vfx7Bhw2LAgAHR0NAQN910U8yfPz8+/fTT07RzgDObfgPkl4YD5JN+A+RHdU/caUtLSzQ1NUW/fv1i4sSJUSgUYtmyZTF58uTYtm1bTJ8+/YRr7N69O2644YZ47733YtSoUfHQQw9FW1tb/Nu//VtMnTo1fvCDH8SPf/zjOOssv8QPkIp+A+SXhgPkk34D5ExWYfv3788GDx6c1dTUZOvXr+88XiqVssbGxqy6ujrbtGnTCdf5m7/5mywisscee+yI421tbdlNN92URUS2evXqbu2tWCxmEZEVi8VufR9AOfLWHP0GOCSPzemtDc/jcwnkVx6bo98Ah+SpOxV/63LVqlWxZcuWmDRpUgwfPrzz+IABA2LGjBnR3t4eixYtOuE67733XkRETJgw4Yjj/fr1iy996UsREfHJJ58k3DnAmU2/AfJLwwHySb8B8qfiA/eWlpaIiBg/fnyXcx3HVq9efcJ1GhsbIyLiRz/60RHH9+/fHytXroz+/fvHyJEjT3G3AHTQb4D80nCAfNJvgPyp+DXcN2/eHBERQ4YM6XKuvr4+GhoaOm9zPA888ED80z/9U/zt3/5t/OxnP4ubbrop2tra4kc/+lHs2rUrlixZEp///OePu0ZbW1u0tbV1/rtUKnXz0QCcOfQbIL96S8P1G6B79Bsgfyo+cC8WixERUSgUjnq+rq4uPvjggxOu079//2hpaYmHHnooFi9e3PmO7llnnRWPPvpojBo16oRrzJ07N2bNmtWN3QOcufQbIL96S8P1G6B79Bsgf3L78dOtra3xpS99KdauXRvLly+P3bt3x69+9av4h3/4h1i0aFHcfPPNsWvXruOuMW3atCgWi51fO3bsqNDuAc5c+g2QX6facP0G6Bn6DVA5Ff8N9453ZTvepf1dpVLpmO/cHu7xxx+P1157LX7xi1/EsGHDOteeMmVKHDhwIB555JH4u7/7u+O+A1tTUxM1NTVlPAqAM49+A+RXb2m4fgN0j34D5E/Ff8O947pjR7vG2K5du6K1tfWo1yb7XcuXL48LLrig8wfF4W6//faIiPj5z39+irsFoIN+A+SXhgPkk34D5E/FB+5jxoyJiIgVK1Z0OddxrOM2x7Nv374olUqxb9++Lud27twZEeHdV4CE9BsgvzQcIJ/0GyB/Kj5wHzduXFxxxRWxZMmSeOONNzqP79mzJ2bPnh3V1dVx//33dx5vbW2Nd955J1pbW49Y55Zbbon29vaYPXv2Ecfb2to6j40dO/a0PQ6AM41+A+SXhgPkk34D5FDWA1atWpWdc8452XnnnZdNmTIle+KJJ7LLL788i4hszpw5R9y2ubk5i4isubn5iOOvv/56NmDAgCwishEjRmSPPfZY9sgjj2RXXHFFFhHZDTfckP3mN7/p1r6KxWIWEVmxWDzVhwhwQnlsjn4D5Lc5vbHheX0ugXzKa3P0GyBf3an4b7hHHHrXdM2aNTFq1KhYunRpfOc734kLL7wwFi9eHE8//fRJrXH99dfHz3/+8/jzP//z+NWvfhXz58+PF154IWpra2PWrFnxyiuvxGc+85nT/EgAziz6DZBfGg6QT/oNkC9VWZZlPb2J3qLj072LxWLU1dX19HaAPk5z0vFcApWkOel4LoFK0px0PJdApeWpOz3yG+4AAAAAANDXGLgDAAAAAEACBu4AAAAAAJCAgTsAAAAAACRg4A4AAAAAAAkYuAMAAAAAQAIG7gAAAAAAkICBOwAAAAAAJGDgDgAAAAAACRi4AwAAAABAAgbuAAAAAACQgIE7AAAAAAAkYOAOAAAAAAAJGLgDAAAAAEACBu4AAAAAAJCAgTsAAAAAACRg4A4AAAAAAAkYuAMAAAAAQAIG7gAAAAAAkICBOwAAAAAAJGDgDgAAAAAACRi4AwAAAABAAgbuAAAAAACQgIE7AAAAAAAkYOAOAAAAAAAJGLgDAAAAAEACBu4AAAAAAJCAgTsAAAAAACRg4A4AAAAAAAkYuAMAAAAAQAIG7gAAAAAAkICBOwAAAAAAJGDgDgAAAAAACRi4AwAAAABAAgbuAAAAAACQgIE7AAAAAAAkYOAOAAAAAAAJ9NjAfd26dTFhwoSor6+P2traGDFiRCxZsqTb6+zZsyeam5vj2muvjXPPPTfOP//8+MIXvhCzZs06DbsGQL8B8kvDAfJJvwHyoyrLsqzSd9rS0hJNTU3Rr1+/mDhxYhQKhVi2bFls3bo1nn322Zg+ffpJrfP+++/H7bffHu+9917ccccdMXz48Ghra4t333033n///XjzzTe7ta9SqRSFQiGKxWLU1dWV89AATloem6PfAPltTm9seF6fSyCf8toc/QbIV3cqPnBvb2+Pq666Kj744IP46U9/GsOHD4+IQ++yjhw5MjZu3BhvvfVWDBky5LjrHDhwIEaOHBn/8z//E8uXL4+xY8d2uZ/q6upu7S1P/+GA/Mtbc/Qb4JA8Nqe3NjyPzyWQX3lsjn4DHJKn7lT8kjKrVq2KLVu2xKRJkzp/UEREDBgwIGbMmBHt7e2xaNGiE67zL//yL7Fu3bp48sknu/ygiIhuD2sAOD79BsgvDQfIJ/0GyJ+KF7WlpSUiIsaPH9/lXMex1atXn3Cdl156KSIi/vRP/zR27NgRy5cvj927d8fgwYPjD/7gD+K8885Lt2kA9BsgxzQcIJ/0GyB/Kj5w37x5c0TEUf/cqb6+PhoaGjpvczw/+9nPIiJizZo18dhjj0VbW1vnuYsuuiiWLl0at91223HXaGtrO+L7SqXSyTwEgDOSfgPkV29puH4DdI9+A+RPxS8pUywWIyKiUCgc9XxdXV3nbY7nk08+iYiIqVOnxle/+tXYsWNH7Ny5M+bNmxfFYjHuvvvu+Oijj467xty5c6NQKHR+DRo0qJuPBuDMod8A+dVbGq7fAN2j3wD5U/GBeyoHDx6MiIg777wznnvuubj44oujoaEhpk6dGo899lgUi8X47ne/e9w1pk2bFsVisfNrx44dldg6wBlNvwHy61Qbrt8APUO/ASqn4gP3jndlj/UObMcnzp7sOn/0R3/U5dxdd90VEb/9k6ljqampibq6uiO+ADg6/QbIr97ScP0G6B79Bsifig/cO647drRrjO3atStaW1uPem2y3zV06NCIiDj//PO7nOs49pvf/Kb8jQJwBP0GyC8NB8gn/QbIn4oP3MeMGRMREStWrOhyruNYx22O5/bbb4+IiLfeeqvLuY5jl112WbnbBOB36DdAfmk4QD7pN0D+VGVZllXyDtvb22Po0KHx4Ycfxtq1a+P666+PiIg9e/bEyJEjY+PGjbFhw4a48sorIyKitbU1Wltbo6GhIRoaGjrX2bp1a1x99dVRKBRi/fr18fnPf75znVtvvTXeeOONWLlyZYwbN+6k99bxp1jFYtGfRwGnXd6ao98Ah+SxOb214Xl8LoH8ymNz9BvgkDx1p+K/4V5dXR0LFy6MgwcPxujRo+PBBx+MJ598Mq677rrYsGFDzJw5s/MHRUTE/Pnz4+qrr4758+cfsc7ll18e3/rWt+KTTz6J6667LqZMmRKPPvpoDBs2LN5444148MEHuzWsAeD49BsgvzQcIJ/0GyB/qnviTseOHRtr1qyJ5ubmWLp0aezbty8aGxtj9uzZMXny5JNeZ+rUqXHZZZfFt771rXjxxRejvb09GhsbY/r06TFlypTT+AgAzkz6DZBfGg6QT/oNkC8Vv6RMb5anP00A8k9z0vFcApWkOel4LoFK0px0PJdApeWpOxW/pAwAAAAAAPRFBu4AAAAAAJCAgTsAAAAAACRg4A4AAAAAAAkYuAMAAAAAQAIG7gAAAAAAkICBOwAAAAAAJGDgDgAAAAAACRi4AwAAAABAAgbuAAAAAACQgIE7AAAAAAAkYOAOAAAAAAAJGLgDAAAAAEACBu4AAAAAAJCAgTsAAAAAACRg4A4AAAAAAAkYuAMAAAAAQAIG7gAAAAAAkICBOwAAAAAAJGDgDgAAAAAACRi4AwAAAABAAgbuAAAAAACQgIE7AAAAAAAkYOAOAAAAAAAJGLgDAAAAAEACBu4AAAAAAJCAgTsAAAAAACRg4A4AAAAAAAkYuAMAAAAAQAIG7gAAAAAAkICBOwAAAAAAJGDgDgAAAAAACRi4AwAAAABAAgbuAAAAAACQgIE7AAAAAAAkYOAOAAAAAAAJGLgDAAAAAEACPTZwX7duXUyYMCHq6+ujtrY2RowYEUuWLCl7vf3798f1118fVVVVcdVVVyXcKQCH02+A/NJwgHzSb4D8qO6JO21paYmmpqbo169fTJw4MQqFQixbtiwmT54c27Zti+nTp3d7zdmzZ8e77757GnYLQAf9BsgvDQfIJ/0GyJeqLMuySt5he3t7XHXVVfHBBx/ET3/60xg+fHhEROzZsydGjhwZGzdujLfeeiuGDBly0muuX78+br755vj2t78df/VXfxVDhw6Nd955p9t7K5VKUSgUolgsRl1dXbe/H6A78tYc/QY4JI/N6a0Nz+NzCeRXHpuj3wCH5Kk7Fb+kzKpVq2LLli0xadKkzh8UEREDBgyIGTNmRHt7eyxatOik19u3b1/cf//98cUvfjEeffTR07FlAEK/AfJMwwHySb8B8qfil5RpaWmJiIjx48d3OddxbPXq1Se93syZM2Pz5s3xi1/8IqqqqpLsEYCu9BsgvzQcIJ/0GyB/Kj5w37x5c0TEUf/cqb6+PhoaGjpvcyLr1q2Lb37zm/GNb3wjrrzyym7vpa2tLdra2jr/XSqVur0GwJlCvwHyq7c0XL8Buke/AfKn4peUKRaLERFRKBSOer6urq7zNsfT1tYW999/fwwfPjyeeOKJsvYyd+7cKBQKnV+DBg0qax2AM4F+A+RXb2m4fgN0j34D5E/FB+6pzJgxIzZv3hzf+9734uyzzy5rjWnTpkWxWOz82rFjR+JdAvC79Bsgv0614foN0DP0G6ByKn5JmY53ZY/1DmzHJ84ez/r16+Pb3/52zJgxI37/93+/7L3U1NRETU1N2d8PcCbRb4D86i0N12+A7tFvgPyp+G+4d1x37GjXGNu1a1e0trYe9dpkh3vzzTfjwIEDMXPmzKiqqjriKyJi48aNUVVVFeeff37y/QOcqfQbIL80HCCf9Bsgfyr+G+5jxoyJuXPnxooVK2LixIlHnFuxYkXnbY7nyiuvjL/4i7846rnvfve7USgU4p577olzzz03zaYB0G+AHNNwgHzSb4D8qcqyLKvkHba3t8fQoUPjww8/jLVr18b1118fERF79uyJkSNHxsaNG2PDhg2dn5jd2toara2t0dDQEA0NDSdcv6qqKoYOHRrvvPNOt/fW8adYxWIx6urquv39AN2Rt+boN8AheWxOb214Hp9LIL/y2Bz9BjgkT92p+CVlqqurY+HChXHw4MEYPXp0PPjgg/Hkk0/GddddFxs2bIiZM2d2/qCIiJg/f35cffXVMX/+/EpvFYDD6DdAfmk4QD7pN0D+VPySMhERY8eOjTVr1kRzc3MsXbo09u3bF42NjTF79uyYPHlyT2wJgJOg3wD5peEA+aTfAPlS8UvK9GZ5+tMEIP80Jx3PJVBJmpOO5xKoJM1Jx3MJVFqeulPxS8oAAAAAAEBfZOAOAAAAAAAJGLgDAAAAAEACBu4AAAAAAJCAgTsAAAAAACRg4A4AAAAAAAkYuAMAAAAAQAIG7gAAAAAAkICBOwAAAAAAJGDgDgAAAAAACRi4AwAAAABAAgbuAAAAAACQgIE7AAAAAAAkYOAOAAAAAAAJGLgDAAAAAEACBu4AAAAAAJCAgTsAAAAAACRg4A4AAAAAAAkYuAMAAAAAQAIG7gAAAAAAkICBOwAAAAAAJGDgDgAAAAAACRi4AwAAAABAAgbuAAAAAACQgIE7AAAAAAAkYOAOAAAAAAAJGLgDAAAAAEACBu4AAAAAAJCAgTsAAAAAACRg4A4AAAAAAAkYuAMAAAAAQAIG7gAAAAAAkICBOwAAAAAAJGDgDgAAAAAACRi4AwAAAABAAgbuAAAAAACQgIE7AAAAAAAk0GMD93Xr1sWECROivr4+amtrY8SIEbFkyZKT/v41a9bEE088ETfccENceOGF8ZnPfCauuuqq+PrXvx67d+8+fRsHOMPpN0B+aThAPuk3QH5UZVmWVfpOW1paoqmpKfr16xcTJ06MQqEQy5Yti61bt8azzz4b06dPP+Eav/d7vxetra0xatSoGD58eFRVVUVLS0u8/vrrMXjw4Hjttdfis5/9bLf2VSqVolAoRLFYjLq6unIfHsBJyWNz9Bsgv83pjQ3P63MJ5FNem6PfADnrTlZh+/fvzwYPHpzV1NRk69ev7zxeKpWyxsbGrLq6Otu0adMJ13nuueeyX/7yl0ccO3jwYPbII49kEZH95V/+Zbf3ViwWs4jIisVit78XoLvy1hz9Bjgkj83prQ3P43MJ5Fcem6PfAIfkqTsVv6TMqlWrYsuWLTFp0qQYPnx45/EBAwbEjBkzor29PRYtWnTCdb7+9a/HwIEDjzhWVVUVM2bMiIiI1atXp904wBlOvwHyS8MB8km/AfKn4gP3lpaWiIgYP358l3Mdx04l9Oecc05ERFRXV5e9BgBd6TdAfmk4QD7pN0D+VLyomzdvjoiIIUOGdDlXX18fDQ0Nnbcpx/e+972IOPoPo9/V1tYWbW1tnf8ulUpl3y9AX6ffAPnVWxqu3wDdo98A+VPx33AvFosREVEoFI56vq6urvM23fXGG2/ErFmz4rOf/Wx87WtfO+Ht586dG4VCofNr0KBBZd0vwJlAvwHyq7c0XL8Buke/AfKn4gP302Xr1q1x5513xoEDB+LFF1+MhoaGE37PtGnTolgsdn7t2LGjAjsF4HD6DZBf3W24fgP0DvoNcPpU/JIyHe/KHusd2FKpdMx3bo9l+/btMXbs2Ni5c2f867/+a4wdO/akvq+mpiZqamq6dV8AZyr9Bsiv3tJw/QboHv0GyJ+K/4Z7x3XHjnaNsV27dkVra+tRr012LNu2bYvbbrstfvnLX8bSpUvjzjvvTLZXAH5LvwHyS8MB8km/AfKn4gP3MWPGRETEihUrupzrONZxmxPp+EHx4YcfxksvvRR//Md/nG6jABxBvwHyS8MB8km/AfKn4gP3cePGxRVXXBFLliyJN954o/P4nj17Yvbs2VFdXR33339/5/HW1tZ45513orW19Yh1Dv9B8eKLL8af/MmfVOgRAJyZ9BsgvzQcIJ/0GyB/Kn4N9+rq6li4cGE0NTXF6NGj48/+7M+irq4uli1bFlu3bo05c+bElVde2Xn7+fPnx6xZs6K5uTlmzpzZefy2226L7du3xxe/+MV4880348033+xyX4ffHoBTo98A+aXhAPmk3wD5U/GBe0TE2LFjY82aNdHc3BxLly6Nffv2RWNjY8yePTsmT558Umts3749IiLWrl0ba9euPept/LAASEu/AfJLwwHySb8B8qUqy7KspzfRW3R8unexWIy6urqe3g7Qx2lOOp5LoJI0Jx3PJVBJmpOO5xKotDx1p+LXcAcAAAAAgL7IwB0AAAAAABIwcAcAAAAAgAQM3AEAAAAAIAEDdwAAAAAASMDAHQAAAAAAEjBwBwAAAACABAzcAQAAAAAgAQN3AAAAAABIwMAdAAAAAAASMHAHAAAAAIAEDNwBAAAAACABA3cAAAAAAEjAwB0AAAAAABIwcAcAAAAAgAQM3AEAAAAAIAEDdwAAAAAASMDAHQAAAAAAEjBwBwAAAACABAzcAQAAAAAgAQN3AAAAAABIwMAdAAAAAAASMHAHAAAAAIAEDNwBAAAAACABA3cAAAAAAEjAwB0AAAAAABIwcAcAAAAAgAQM3AEAAAAAIAEDdwAAAAAASMDAHQAAAAAAEjBwBwAAAACABAzcAQAAAAAgAQN3AAAAAABIwMAdAAAAAAASMHAHAAAAAIAEDNwBAAAAACABA3cAAAAAAEigxwbu69atiwkTJkR9fX3U1tbGiBEjYsmSJd1a4+DBgzF//vwYNmxY9O/fPy666KK49957Y/Pmzadp1wDoN0B+aThAPuk3QH70yMC9paUlRo0aFf/xH/8R99xzTzzyyCPR2toakydPjm984xsnvc7DDz8cU6dOjQMHDsTUqVNjwoQJ8cMf/jBuuummeOutt07jIwA4M+k3QH5pOEA+6TdAzmQVtn///mzw4MFZTU1Ntn79+s7jpVIpa2xszKqrq7NNmzadcJ1Vq1ZlEZGNHj06+/TTTzuPr1y5MquqqspuvfXWbu+tWCxmEZEVi8Vufy9Ad+WtOfoNcEgem9NbG57H5xLIrzw2R78BDslTdyr+G+6rVq2KLVu2xKRJk2L48OGdxwcMGBAzZsyI9vb2WLRo0QnXWbBgQUREzJkzJ2pqajqPjxs3LpqamuKVV16JTZs2pX8AAGco/QbILw0HyCf9Bsifig/cW1paIiJi/PjxXc51HFu9evVJrVNbWxu33HJLl3NNTU0nvQ4AJ0e/AfJLwwHySb8B8qe60nfY8WEcQ4YM6XKuvr4+GhoaTviBHXv37o2PPvoorr322jj77LO7nO9Y+0TrtLW1RVtbW+e/i8ViRESUSqXjPwiABDpak2VZD+/k5Og3wCF563dE72m4fgM9Sb/1G8ivPDW84gP3jigXCoWjnq+rq4sPPvjglNc4/HbHMnfu3Jg1a1aX44MGDTru9wGk9L//+7/H7Flvot8AR8pLvyN6T8P1G+gN9LvrGoff7mj0G+gt8tDwig/ce5Np06bF448/3vnv3bt3x6WXXhrvv/9+r/8PR+9RKpVi0KBBsWPHjs7/owIno1gsxiWXXBIXXHBBT28ld/SbFPSbcul3+fSbVDSccuh3+fSbVPSbcuWp4RUfuHeE+FjvnJZKpRPG+mTWOPx2x1JTU3PEh4Ucvr7/0dNddXV1XjeU5ayzKv5xGmXRb/oq/aZceel3RO9puH6TmoZTDv3uusbhtzsa/SY1/aZceWh4xXd4vGuD7dq1K1pbW496bbLD1dbWxsCBA2Pr1q1x4MCBLuePd40zAMqj3wD5peEA+aTfAPlT8YH7mDFjIiJixYoVXc51HOu4zYnW2bt3b7z66qtdzr388ssnvQ4AJ0e/AfJLwwHySb8BciirsP3792dXXHFFVlNTk73++uudx0ulUtbY2JhVV1dnGzdu7Dy+c+fO7O2338527tx5xDqrVq3KIiIbPXp01tbW1nl85cqVWVVVVXbrrbd2e2+ffvpp1tzcnH366afdf2CcsbxuKFfeXjv6TV/jdUO58vja6a0Nz+NzSe/gtUM58vi60W/6Gq8dypWn107FB+5Zdij055xzTnbeeedlU6ZMyZ544ons8ssvzyIimzNnzhG3bW5uziIia25u7rLOAw88kEVEds0112RPPfVU9pWvfCWrqanJCoVCtmHDhgo9GoAzh34D5JeGA+STfgPkS49cZX7s2LGxZs2aGDVqVCxdujS+853vxIUXXhiLFy+Op59++qTXef7552PevHlRVVUV8+bNi+XLl8ddd90V//Vf/xXXXHPNaXwEAGcm/QbILw0HyCf9BsiXqizLsp7eBAAAAAAA5F2P/IY7AAAAAAD0NQbuAAAAAACQQJ8euK9bty4mTJgQ9fX1UVtbGyNGjIglS5Z0a42DBw/G/PnzY9iwYdG/f/+46KKL4t57743Nmzefpl3TG5zqa6elpSWqqqqO+bV27drTuHt6wuLFi+Ohhx6KG2+8MWpqaqKqqipeeOGFbq+jOb+l4ZRDvymHhqel35RDvymHfqel35RLw+muvt7v6h6999OopaUlmpqaol+/fjFx4sQoFAqxbNmymDx5cmzbti2mT59+Uus8/PDDsWDBgrjmmmti6tSp8fHHH8dLL70UK1asiNdee80Hi/RBqV47ERFjxoyJ2267rcvxiy++OOGO6Q2eeeaZ2L59ezQ0NMTAgQNj+/btZa2jOYdoOOXQb8ql4enoN+XQb8ql3+noN+XScMrR5/ud9UH79+/PBg8enNXU1GTr16/vPF4qlbLGxsasuro627Rp0wnXWbVqVRYR2ejRo7NPP/208/jKlSuzqqqq7NZbbz0t+6fnpHrt/OQnP8kiImtubj6Nu6U3+fGPf5xt27Yty7Ismzt3bhYR2aJFi7q1huYcouGUQ785FRqehn5TDv3mVOh3GvpNuTSccvX1fvfJS8qsWrUqtmzZEpMmTYrhw4d3Hh8wYEDMmDEj2tvbY9GiRSdcZ8GCBRERMWfOnKipqek8Pm7cuGhqaopXXnklNm3alP4B0GNSvXY489xxxx1x6aWXntIamnOIhlMO/eZUaHga+k059JtTod9p6Dfl0nDK1df73ScH7i0tLRERMX78+C7nOo6tXr36pNapra2NW265pcu5pqamk16H/Ej12umwefPmmDdvXjz33HPxz//8z9Ha2ppkn/RNmnOIhlMO/aanaY5+Ux79pqdpjn5TPg2nJ/Xm5vTJa7h3XBh/yJAhXc7V19dHQ0PDCS+ev3fv3vjoo4/i2muvjbPPPrvL+Y61e/oi/KSV4rVzuCVLlhzxQSH9+/ePWbNmxVNPPXXqm6VP0Zzf0nDKod/0JM05RL8ph37TkzTnEP2mXBpOT+ntzemTv+FeLBYjIqJQKBz1fF1dXedtTmWNw29H35DitRMRcdFFF8W3vvWtePvtt2Pv3r3x4YcfxuLFi+OCCy6Ir33ta/H8888n3Tf5pzm/peGUQ7/pSZpziH5TDv2mJ2nOIfpNuTScntLbm9Mnf8MdelpjY2M0NjZ2/vvcc8+NyZMnx3XXXRc33HBDNDc3x5QpU+Kss/rke14AuaXfAPmk3wD5peH0NX3yldrx7sax3sUolUrHfAekO2scfjv6hhSvneO59tpr4+abb46PP/443n333bLXoe/RnN/ScMqh3/QkzTlEvymHftOTNOcQ/aZcGk5P6e3N6ZMD9+Ndp2fXrl3R2tp61OtLHa62tjYGDhwYW7dujQMHDnQ5f7zrVJFfKV47J9LQ0BAREf/3f/93SuvQt2jOb2k45dBvepLmHKLflEO/6Umac4h+Uy4Np6f09ub0yYH7mDFjIiJixYoVXc51HOu4zYnW2bt3b7z66qtdzr388ssnvQ75keq1cyzt7e2xfv36qKqqiksuuaTsdeibNOcQDacc+k1P0xz9pjz6TU/THP2mfBpOT+rVzcn6oP3792dXXHFFVlNTk73++uudx0ulUtbY2JhVV1dnGzdu7Dy+c+fO7O2338527tx5xDqrVq3KIiIbPXp01tbW1nl85cqVWVVVVXbrrbee9sdCZaV67bz22mvZwYMHu6z91a9+NYuI7Mtf/vJpfRz0rLlz52YRkS1atOio5zXn+DSccug3qWh4+fSbcug3qeh3+fSbcmk4KfTFfvfJgXuWHXrSzznnnOy8887LpkyZkj3xxBPZ5ZdfnkVENmfOnCNu29zcnEVE1tzc3GWdBx54IIuI7Jprrsmeeuqp7Ctf+UpWU1OTFQqFbMOGDRV6NFRSitfOpZdeml122WXZpEmTsqeeeiqbMmVKNnTo0CwisksuuSTbtm1bBR8RlbBgwYLsvvvuy+67777sC1/4QhYR2S233NJ57Ac/+EHnbTXnxDSccug35dLwdPSbcug35dLvdPSbcmk45ejr/e6zA/csy7L//M//zL785S9nhUIh69+/f3bjjTdmixcv7nK74/2HO3DgQDZv3ryssbExq6mpyS688MLsnnvuOeIdOvqeU33tPPfcc9ltt92Wfe5zn8v69euXnXvuudmwYcOyp59+Ovv1r39doUdBJd13331ZRBzz6/DXiOacHA2nHPpNOTQ8Lf2mHPpNOfQ7Lf2mXBpOd/X1fldlWZad3MVnAAAAAACAY+mTH5oKAAAAAACVZuAOAAAAAAAJGLgDAAAAAEACBu4AAAAAAJCAgTsAAAAAACRg4A4AAAAAAAkYuAMAAAAAQAIG7gAAAAAAkICBOwAAAAAAJGDgDgAAAAAACRi4AwAAAABAAgbuAAAAAACQgIE7AAAAAAAkYOAOAAAAAAAJGLgDAAAAAEACBu4AAAAAAJCAgTsAAAAAACRg4A4AAAAAAAkYuAMAAAAAQAIG7gAAAAAAkICBOwAAAAAAJGDgDgAAAAAACRi4AwAAAABAAgbuAAAAAACQgIE7AAAAAAAkYOAOAAAAAAAJGLgDAAAAAEACBu4AAAAAAJCAgTsAAAAAACRg4A4AAAAAAAn8P5NAY7fyfT6qAAAAAElFTkSuQmCC' width=1500.0/>\n",
       "            </div>\n",
       "        "
      ],
      "text/plain": [
       "Canvas(toolbar=Toolbar(toolitems=[('Home', 'Reset original view', 'home', 'home'), ('Back', 'Back to previous …"
      ]
     },
     "metadata": {},
     "output_type": "display_data"
    }
   ],
   "source": [
    "f, (ax1, ax2, ax3, ax4) = plt.subplots(1, 4, tight_layout=True, figsize=(15,3.5))\n",
    "plt.rcParams.update({'font.size': 18})\n",
    "\n",
    "for m,c in zip(m_list_dam_cyc,compression_list):\n",
    "    F_to = m.hist.F_t\n",
    "    U_to = m.hist.U_t\n",
    "    F_inner_t = np.sum(F_to[:, lower_slide.dofs], axis=-1)\n",
    "    U_inner_t = np.average(U_to[:, lower_slide.dofs], axis=-1)\n",
    "    \n",
    "    states_t = [states_t[2] for states_t in m.hist.state_vars]\n",
    "    var_names = states_t[0].keys()\n",
    "    EpsSig_t = {\n",
    "        var_name: np.array([state_dict[var_name] for state_dict in states_t])\n",
    "        for var_name in var_names\n",
    "    }\n",
    "    u_pi_N = EpsSig_t['w_pi']\n",
    "    u_pi_Tx = EpsSig_t['s_pi_x']\n",
    "    sig_pi_N = EpsSig_t['sig_pi']\n",
    "    sig_pi_Tx = EpsSig_t['tau_pi_x']\n",
    "    sig_pi_Ty = EpsSig_t['tau_pi_y']\n",
    "    omega_Nx = EpsSig_t['omega_N']\n",
    "    omega_Tx = EpsSig_t['omega_T']\n",
    "    x_m = xd12.x_Eia[:, :, 0].flatten()\n",
    "\n",
    "    time = m.hist.t\n",
    "    \n",
    "    # miltiplay by 2pir for getting axisymm forces: ax1.plot(U_inner_t, F_inner_t * 2 * 25 * np.pi, label= str(c))\n",
    "    ax1.plot(U_inner_t, F_inner_t, label= str(c))\n",
    "    ax1.set_xlabel('Displacement [mm]')\n",
    "    ax1.set_ylabel('Force (push) [N]')\n",
    "    ax1.legend()\n",
    "    \n",
    "    ax2.plot(time, sig_pi_N[:, 0, 0].flatten(), label= str(c))\n",
    "    ax2.set_xlabel('time')\n",
    "    ax2.set_ylabel('normal stress')\n",
    "\n",
    "    ax3.plot(time, sig_pi_Tx[:, 0, 0].flatten(), label= str(c))\n",
    "    ax3.set_xlabel('time')\n",
    "    ax3.set_ylabel('tangential stress')\n",
    "\n",
    "    #ax3.plot(time, omega_Nx[:, 0, 0].flatten(),  label='normal'+ str(c))\n",
    "    ax4.plot(time, omega_Tx[:, 0, 0].flatten(),  label='tangential'+ str(c))\n",
    "    ax4.set_xlabel('time')\n",
    "    ax4.set_ylabel('damage')\n",
    "    ax4.legend()\n",
    "plt.rcParams.update({'font.size': 18})\n",
    "\n",
    "plt.show()\n",
    "\n",
    "plt.savefig('cyclic_damage.pdf', bbox_inches='tight', pad_inches=0.01/2.54, dpi=300)"
   ]
  },
  {
   "cell_type": "code",
   "execution_count": null,
   "id": "69de7884-3856-4a4e-b9e8-46e92c60887e",
   "metadata": {},
   "outputs": [],
   "source": []
  }
 ],
 "metadata": {
  "kernelspec": {
   "display_name": "mayavi_env",
   "language": "python",
   "name": "python3"
  },
  "language_info": {
   "codemirror_mode": {
    "name": "ipython",
    "version": 3
   },
   "file_extension": ".py",
   "mimetype": "text/x-python",
   "name": "python",
   "nbconvert_exporter": "python",
   "pygments_lexer": "ipython3",
   "version": "3.10.8"
  },
  "toc": {
   "base_numbering": 1,
   "nav_menu": {},
   "number_sections": true,
   "sideBar": true,
   "skip_h1_title": false,
   "title_cell": "Table of Contents",
   "title_sidebar": "Contents",
   "toc_cell": false,
   "toc_position": {},
   "toc_section_display": true,
   "toc_window_display": false
  }
 },
 "nbformat": 4,
 "nbformat_minor": 5
}
