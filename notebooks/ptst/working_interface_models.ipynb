{
 "cells": [
  {
   "cell_type": "markdown",
   "id": "4faf2840",
   "metadata": {},
   "source": [
    "# Working interface models"
   ]
  },
  {
   "cell_type": "code",
   "execution_count": 13,
   "id": "5453e041-98d8-4951-923c-b64809a003dd",
   "metadata": {},
   "outputs": [],
   "source": [
    "%matplotlib widget\n",
    "import time\n",
    "from bmcs_expsim.utils.mlab_decorators import decorate_figure\n",
    "from mayavi import mlab\n",
    "import numpy as np\n",
    "np.seterr(divide='ignore', invalid='ignore') \n",
    "import warnings\n",
    "import matplotlib.pylab as plt\n",
    "import numpy as np\n",
    "from ibvpy.api import TStepBC , TFCyclicNonsymmetricConstant, TFBilinear\n",
    "from ibvpy.bcond import BCSlice, BCDof\n",
    "from ibvpy.xmodel.xdomain_fe_grid_axisym import XDomainFEGridAxiSym\n",
    "from ibvpy.xmodel.xdomain_fe_grid import XDomainFEGrid\n",
    "from ibvpy.xmodel.xdomain_interface import XDomainFEInterface\n",
    "from ibvpy.fets import FETS2D4Q\n",
    "from ibvpy.fets.fets1D5 import FETS1D52ULRH\n",
    "from ibvpy.tmodel.viz3d_scalar_field import \\\n",
    "    Vis3DStateField, Viz3DScalarField\n",
    "from ibvpy.tmodel.viz3d_tensor_field import \\\n",
    "    Vis3DTensorField, Viz3DTensorField\n",
    "from bmcs_matmod.slide.vslide_34_TN_axisym import Slide34\n",
    "from ibvpy.tmodel.mats3D.mats3D_elastic.vmats3D_elastic import \\\n",
    "    MATS3DElastic\n",
    "from ibvpy.tmodel.mats2D.mats2D_elastic.vmats2D_elastic import \\\n",
    "    MATS2DElastic"
   ]
  },
  {
   "cell_type": "markdown",
   "id": "7bc0f4a9-4bf9-4bd9-ae90-45d14f9d1017",
   "metadata": {},
   "source": [
    "# FE 2D discretization"
   ]
  },
  {
   "cell_type": "code",
   "execution_count": 14,
   "id": "b1e73a36-a1c4-4af9-b24c-9369ffb750e2",
   "metadata": {
    "scrolled": true,
    "tags": []
   },
   "outputs": [],
   "source": [
    "n_y_e = 2\n",
    "n_inner_x_e = 1\n",
    "n_outer_x_e = 1\n",
    "L_x = 1.0\n",
    "P = 1.0\n",
    "R_in = 10 / (2 * np.pi) \n",
    "R_out = 2 * R_in\n",
    "xd_lower = XDomainFEGrid(integ_factor = P,\n",
    "                         coord_min=(0, 0),\n",
    "                          coord_max=(L_x, R_in),\n",
    "                          shape=(n_y_e, n_inner_x_e),\n",
    "                          fets=FETS2D4Q())\n",
    "xd_upper = XDomainFEGrid(integ_factor = P,\n",
    "                         coord_min=(0, R_in),\n",
    "                          coord_max=(L_x, R_out),\n",
    "                          shape=(n_y_e, n_outer_x_e),\n",
    "                          fets=FETS2D4Q())\n",
    "m1 = MATS2DElastic(E=37000, nu=0.18)\n",
    "m2 = MATS2DElastic(E=37000, nu=0.18)\n",
    "\n",
    "xd12 = XDomainFEInterface(\n",
    "    integ_factor = P,\n",
    "    I=xd_lower.mesh.I[:, -1],\n",
    "    J=xd_upper.mesh.I[:, 0],\n",
    "    fets=FETS1D52ULRH()\n",
    ")"
   ]
  },
  {
   "cell_type": "code",
   "execution_count": 15,
   "id": "ed8c1091-f04b-4062-b487-da50fc060986",
   "metadata": {},
   "outputs": [],
   "source": [
    "material_params =  dict(\n",
    "     E_T=1, gamma_T=500, K_T=0, S_T=0.5, c_T=6, bartau=3, \n",
    "     E_N=1, S_N=0.5, c_N = 3, m = 0.05, f_t=2, f_c=60, f_c0 = 40, eta=0.)\n",
    "bond_m = Slide34(**material_params)"
   ]
  },
  {
   "cell_type": "code",
   "execution_count": 11,
   "id": "534fa221-e988-41dd-95f2-c7015e9478d6",
   "metadata": {},
   "outputs": [],
   "source": [
    "m = TStepBC(\n",
    "    domains=[(xd_lower, m1),\n",
    "             (xd_upper, m2),\n",
    "             (xd12, bond_m),\n",
    "             ]\n",
    ")"
   ]
  },
  {
   "cell_type": "code",
   "execution_count": 12,
   "id": "61e7265b-e135-4737-a697-7e929265adc6",
   "metadata": {},
   "outputs": [
    {
     "data": {
      "text/plain": [
       "(array([[ 2,  3],\n",
       "        [ 6,  7],\n",
       "        [10, 11]]),\n",
       " array([[12, 13],\n",
       "        [16, 17],\n",
       "        [20, 21]]))"
      ]
     },
     "execution_count": 12,
     "metadata": {},
     "output_type": "execute_result"
    }
   ],
   "source": [
    "xd12.I.dofs, xd12.J.dofs"
   ]
  },
  {
   "cell_type": "markdown",
   "id": "2057c5ba-9540-4860-bb0c-35598d17b351",
   "metadata": {},
   "source": [
    "## Compression/Traction fc"
   ]
  },
  {
   "cell_type": "code",
   "execution_count": 5,
   "id": "c5b1badf-88d7-4765-8e7c-938fac1abd51",
   "metadata": {
    "tags": []
   },
   "outputs": [],
   "source": [
    "lower_fixed_1 = BCSlice(slice=xd_lower.mesh[:, 0, :, 0], var='u', dims=[1], value=0)\n",
    "lower_fixed_0 = BCSlice(slice=xd_lower.mesh[0, 0, 0, 0], var='u', dims=[0], value=0)\n",
    "\n",
    "upper_compression_slice = BCSlice(slice=xd_upper.mesh[:, -1, :, -1],\n",
    "         var='u', dims=[1], value=0.01)\n",
    "\n",
    "compression_dofs = upper_compression_slice.dofs\n",
    "compression = -20 / len(compression_dofs)\n",
    "upper_compression_force_first = [BCDof(var='f', dof=dof, value = compression) \n",
    "             for dof in compression_dofs ]\n",
    "bc1 = [lower_fixed_0, lower_fixed_1] + upper_compression_force_first"
   ]
  },
  {
   "cell_type": "markdown",
   "id": "828cad7a-2a8f-4822-843e-fce5d8b78405",
   "metadata": {},
   "source": [
    "## Sliding dc"
   ]
  },
  {
   "cell_type": "code",
   "execution_count": 6,
   "id": "a52cd8ed-5eed-4687-bb8b-4b6f36108cd3",
   "metadata": {
    "tags": []
   },
   "outputs": [],
   "source": [
    "#lower_fixed_0 = BCSlice(slice=xd_lower.mesh[:, 0, :, 0], var='u', dims=[1], value=0)\n",
    "#upper_fixed_1 = BCSlice(slice=xd_upper.mesh[0, :, 0, :], var='u', dims=[0], value=0)\n",
    "#\n",
    "#lower_slide = BCSlice(slice=xd_lower.mesh[0, :, 0, :], var='u', dims=[0], value=6)\n",
    "#\n",
    "#\n",
    "#bc1 =   [lower_fixed_0, upper_fixed_1, lower_slide]"
   ]
  },
  {
   "cell_type": "markdown",
   "id": "9d5878e1-e9d5-48f3-98ff-7ba03a1ae50a",
   "metadata": {},
   "source": [
    "## Sliding fc"
   ]
  },
  {
   "cell_type": "code",
   "execution_count": 7,
   "id": "3e964d1e-1a74-49e3-a012-e6c9a3c8a168",
   "metadata": {
    "tags": []
   },
   "outputs": [],
   "source": [
    "#lower_fixed_0 = BCSlice(slice=xd_lower.mesh[:, 0, :, 0], var='u', dims=[1], value=0)\n",
    "#upper_fixed_1 = BCSlice(slice=xd_upper.mesh[0, :, 0, :], var='u', dims=[0], value=0)\n",
    "#\n",
    "#\n",
    "#\n",
    "#lower_slide = BCSlice(slice=xd_lower.mesh[0, :, 0, :], var='u', dims=[0], value=0)\n",
    "#Force = 4 / len(lower_slide.dofs)\n",
    "#lower_slide_force = [BCDof(var='f', dof=dof, value = Force) \n",
    "#             for dof in lower_slide.dofs]\n",
    "#\n",
    "#bc1 =   [lower_fixed_0, upper_fixed_1] + lower_slide_force"
   ]
  },
  {
   "cell_type": "code",
   "execution_count": 8,
   "id": "5a9f9a7d-7996-4d7e-b347-f53fe65865cd",
   "metadata": {
    "tags": []
   },
   "outputs": [
    {
     "data": {
      "text/plain": [
       "[<ibvpy.sim.domain_state.DomainState at 0x7f3bd32e5950>,\n",
       " <ibvpy.sim.domain_state.DomainState at 0x7f3bd3267310>,\n",
       " <ibvpy.sim.domain_state.DomainState at 0x7f3bd3aaef40>]"
      ]
     },
     "execution_count": 8,
     "metadata": {},
     "output_type": "execute_result"
    }
   ],
   "source": [
    "m.bc=bc1\n",
    "m.hist.vis_record = {\n",
    "#    'strain': Vis3DTensorField(var='eps_ab'),\n",
    "    'stress': Vis3DTensorField(var='sig_ab'),\n",
    "    #        'kinematic hardening': Vis3DStateField(var='z_a')\n",
    "}\n",
    "\n",
    "s = m.sim\n",
    "s.tloop.verbose = True\n",
    "s.tloop.k_max = 1000\n",
    "s.tline.step = 0.1\n",
    "s.tstep.fe_domain.serialized_subdomains"
   ]
  },
  {
   "cell_type": "code",
   "execution_count": 10,
   "id": "41f0b4c5-4dd0-4e9d-bbf3-16acdca3e097",
   "metadata": {},
   "outputs": [
    {
     "data": {
      "text/plain": [
       "array([[0, 1],\n",
       "       [2, 3],\n",
       "       [4, 5],\n",
       "       [6, 7]])"
      ]
     },
     "execution_count": 10,
     "metadata": {},
     "output_type": "execute_result"
    }
   ],
   "source": [
    "xd_lower.mesh.dofs"
   ]
  },
  {
   "cell_type": "code",
   "execution_count": 11,
   "id": "ff37615a-e09f-4d84-a45a-be992c693ed3",
   "metadata": {},
   "outputs": [
    {
     "data": {
      "text/plain": [
       "array([[ 8,  9],\n",
       "       [10, 11],\n",
       "       [12, 13],\n",
       "       [14, 15]])"
      ]
     },
     "execution_count": 11,
     "metadata": {},
     "output_type": "execute_result"
    }
   ],
   "source": [
    "xd_upper.mesh.dofs"
   ]
  },
  {
   "cell_type": "code",
   "execution_count": 9,
   "id": "20a6daa9-8b77-4353-9afe-c3448ea3cd76",
   "metadata": {
    "scrolled": true
   },
   "outputs": [
    {
     "name": "stdout",
     "output_type": "stream",
     "text": [
      "t:\t 0.00(0), \n",
      "\t 0.10(1), \n",
      "\t 0.20(1), \n",
      "\t 0.30(1), \n",
      "\t 0.40(1), \n",
      "\t 0.50(1), \n",
      "\t 0.60(1), \n",
      "\t 0.70(1), \n",
      "\t 0.80(1), \n",
      "\t 0.90(1), \n",
      "\t 1.00(1), \n",
      "\n"
     ]
    }
   ],
   "source": [
    "xd12.hidden = True\n",
    "s.reset()\n",
    "s.run()"
   ]
  },
  {
   "cell_type": "code",
   "execution_count": 10,
   "id": "1c4ab08f-af19-4c96-b110-bec6355150bb",
   "metadata": {},
   "outputs": [],
   "source": [
    "states_t = [states_t[2] for states_t in m.hist.state_vars]\n",
    "var_names = states_t[0].keys()\n",
    "EpsSig_t = {\n",
    "    var_name: np.array([ state_dict[var_name] for state_dict in states_t ]) \n",
    "    for var_name in var_names \n",
    "}\n",
    "u_pi_N = EpsSig_t['w_pi']\n",
    "u_pi_Tx = EpsSig_t['s_pi_x']\n",
    "sig_pi_N = EpsSig_t['sig_pi']\n",
    "sig_pi_Tx = EpsSig_t['tau_pi_x']\n",
    "sig_pi_Ty = EpsSig_t['tau_pi_y']\n",
    "omega_Nx = EpsSig_t['omega_N']\n",
    "omega_Tx = EpsSig_t['omega_T']\n",
    "x_m = xd12.x_Eia[:,:,0].flatten()"
   ]
  },
  {
   "cell_type": "code",
   "execution_count": 11,
   "id": "119b9d3e-f13b-498d-a0fa-b3a2b31d73c6",
   "metadata": {},
   "outputs": [
    {
     "data": {
      "text/plain": [
       "array([[[[ 2,  3],\n",
       "         [ 6,  7]],\n",
       "\n",
       "        [[ 8,  9],\n",
       "         [12, 13]]]])"
      ]
     },
     "execution_count": 11,
     "metadata": {},
     "output_type": "execute_result"
    }
   ],
   "source": [
    "xd12.o_Epia"
   ]
  },
  {
   "cell_type": "code",
   "execution_count": 12,
   "id": "2538f06d-5e0a-4684-b108-aeab02cd55b5",
   "metadata": {},
   "outputs": [
    {
     "data": {
      "text/plain": [
       "array([[[[ 1.06443751e-15, -8.60296990e-04],\n",
       "         [ 9.72972973e-05, -8.60296990e-04]],\n",
       "\n",
       "        [[ 3.96031070e-13, -2.00008603e+01],\n",
       "         [ 9.72972977e-05, -2.00008603e+01]]]])"
      ]
     },
     "execution_count": 12,
     "metadata": {},
     "output_type": "execute_result"
    }
   ],
   "source": [
    "U_last = m.hist.U_t[-1]\n",
    "U_last[xd12.o_Epia]"
   ]
  },
  {
   "cell_type": "code",
   "execution_count": 13,
   "id": "07890b3d-c8df-4378-952f-4d440ce20960",
   "metadata": {},
   "outputs": [
    {
     "data": {
      "text/plain": [
       "array([[[ 3.94966632e-13, -2.00000000e+01],\n",
       "        [ 3.94808982e-13, -2.00000000e+01]]])"
      ]
     },
     "execution_count": 13,
     "metadata": {},
     "output_type": "execute_result"
    }
   ],
   "source": [
    "xd12.map_U_to_field(U_last)"
   ]
  },
  {
   "cell_type": "code",
   "execution_count": 14,
   "id": "aba83a6a-e893-42dc-b8a5-85533b002f1d",
   "metadata": {},
   "outputs": [
    {
     "data": {
      "application/vnd.jupyter.widget-view+json": {
       "model_id": "d0b996105c26424d83ff76a8cbf6999c",
       "version_major": 2,
       "version_minor": 0
      },
      "text/plain": [
       "Canvas(toolbar=Toolbar(toolitems=[('Home', 'Reset original view', 'home', 'home'), ('Back', 'Back to previous …"
      ]
     },
     "metadata": {},
     "output_type": "display_data"
    },
    {
     "data": {
      "text/plain": [
       "<matplotlib.legend.Legend at 0x1e022943880>"
      ]
     },
     "execution_count": 14,
     "metadata": {},
     "output_type": "execute_result"
    }
   ],
   "source": [
    "time = m.hist.t\n",
    "f, (ax1, ax2, ax3, ax4) = plt.subplots(1,4)\n",
    "ax1.plot(time, sig_pi_N[:,0,0].flatten(), label='sigma')\n",
    "ax1.plot(time, sig_pi_N[:,0,1].flatten(), label='sigma')\n",
    "ax1.set_xlabel('time')\n",
    "ax1.set_ylabel('normal stress')\n",
    "ax1.legend()\n",
    "\n",
    "ax2.plot(time, sig_pi_Tx[:,0,0].flatten(), color='red', label='tau')\n",
    "ax2.set_xlabel('time')\n",
    "ax2.set_ylabel('tangential stress')\n",
    "ax2.legend()\n",
    "\n",
    "ax3.plot(time, omega_Nx[:,0,0].flatten(), color='red', label='normal damage')\n",
    "ax3.plot(time, omega_Tx[:,0,0].flatten(), color='green', label='tangential damage')\n",
    "\n",
    "ax3.set_xlabel('time')\n",
    "ax3.set_ylabel('damage')\n",
    "ax3.legend()\n",
    "\n",
    "ax4.plot(time, u_pi_N[:,0,0].flatten(), color='red', label='opening')\n",
    "ax4.set_xlabel('time')\n",
    "ax4.set_ylabel('opening')\n",
    "ax4.legend()"
   ]
  },
  {
   "cell_type": "code",
   "execution_count": 66,
   "id": "07b069ec-46e8-4173-85da-0191e71772bb",
   "metadata": {},
   "outputs": [
    {
     "data": {
      "text/plain": [
       "(11, 1, 2)"
      ]
     },
     "execution_count": 66,
     "metadata": {},
     "output_type": "execute_result"
    }
   ],
   "source": [
    "sig_pi_N.shape"
   ]
  },
  {
   "cell_type": "code",
   "execution_count": 67,
   "id": "14b4c181-5fb5-489f-a806-4631cb8bd246",
   "metadata": {},
   "outputs": [
    {
     "name": "stderr",
     "output_type": "stream",
     "text": [
      "ERROR|2021-10-14 11:44:17,647|Exception occurred in traits notification handler for object: <mayavi.core.lut_manager.LUTManager object at 0x000001C33ACF7E50>, trait: data_range, old value: [0. 0.], new value: [  0. -20.]\n",
      "Traceback (most recent call last):\n",
      "  File \"C:\\Users\\marag\\miniconda3\\envs\\bmcs_env\\lib\\site-packages\\traits\\trait_notifiers.py\", line 342, in __call__\n",
      "    self.handler(*args)\n",
      "  File \"C:\\Users\\marag\\miniconda3\\envs\\bmcs_env\\lib\\site-packages\\mayavi\\core\\lut_manager.py\", line 434, in _data_range_changed\n",
      "    assert value[0] <= value[1]\n",
      "AssertionError\n"
     ]
    }
   ],
   "source": [
    "if True:\n",
    "    mlab.options.backend = 'envisage'\n",
    "    mlab.options.offscreen = False # 'envisage'\n",
    "    f_strain = mlab.figure()\n",
    "    scene = mlab.get_engine().scenes[-1]\n",
    "    scene.name = 'stress'\n",
    "    strain_viz = Viz3DTensorField(vis3d=m.hist['stress'])\n",
    "    strain_viz.setup()\n",
    "    strain_viz.warp_vector.filter.scale_factor = 0.1\n",
    "    strain_viz.plot(s.tstep.t_n)\n",
    "    mlab.show()"
   ]
  },
  {
   "cell_type": "markdown",
   "id": "2fdaf708-abed-418a-aaba-c6d00ebb6ec8",
   "metadata": {},
   "source": [
    "# FE Axisymmetric discretization"
   ]
  },
  {
   "cell_type": "code",
   "execution_count": 33,
   "id": "86afb862-3f07-4dd1-b5e8-b8f6c0f470d8",
   "metadata": {
    "scrolled": true,
    "tags": []
   },
   "outputs": [],
   "source": [
    "n_y_e = 1\n",
    "n_inner_x_e = 1\n",
    "n_outer_x_e = 1\n",
    "L_x = 1.0\n",
    "P = 1.0\n",
    "R_in = P / (2 * np.pi) \n",
    "R_out = 2 * R_in\n",
    "xd_lower = XDomainFEGridAxiSym(integ_factor = 2 * np.pi,\n",
    "                         coord_min=(0, 0),\n",
    "                          coord_max=(L_x, R_in),\n",
    "                          shape=(n_y_e, n_inner_x_e),\n",
    "                          fets=FETS2D4Q())\n",
    "xd_upper = XDomainFEGridAxiSym(integ_factor = 2 * np.pi,\n",
    "                         coord_min=(0, R_in),\n",
    "                          coord_max=(L_x, R_out),\n",
    "                          shape=(n_y_e, n_outer_x_e),\n",
    "                          fets=FETS2D4Q())\n",
    "m1 = MATS3DElastic(E=37000, nu=0.18)\n",
    "m2 = MATS3DElastic(E=37000, nu=0.18)\n",
    "\n",
    "xd12 = XDomainFEInterface(\n",
    "    integ_factor =  2 * np.pi * R_in,\n",
    "    I=xd_lower.mesh.I[:, -1],\n",
    "    J=xd_upper.mesh.I[:, 0],\n",
    "    fets=FETS1D52ULRH()\n",
    ")"
   ]
  },
  {
   "cell_type": "code",
   "execution_count": 34,
   "id": "f534ef5a-6526-4ea0-8c4b-ca3f227ea92b",
   "metadata": {},
   "outputs": [],
   "source": [
    "material_params =  dict(\n",
    "     E_T=1, gamma_T=500, K_T=0, S_T=0.5, c_T=6, bartau=3, \n",
    "     E_N=1, S_N=0.5, c_N = 3, m = 0.05, f_t=2, f_c=60, f_c0 = 40, eta=0.)\n",
    "bond_m = Slide34(**material_params)"
   ]
  },
  {
   "cell_type": "code",
   "execution_count": 35,
   "id": "2234c2d6-8f85-47f7-a78b-0d0ee395c7f4",
   "metadata": {},
   "outputs": [],
   "source": [
    "m = TStepBC(\n",
    "    domains=[(xd_lower, m1),\n",
    "             (xd_upper, m2),\n",
    "             (xd12, bond_m),\n",
    "             ]\n",
    ")"
   ]
  },
  {
   "cell_type": "markdown",
   "id": "33fdcf27-0a5f-439c-9ed0-e353a2e78c02",
   "metadata": {},
   "source": [
    "## Compression/Traction fc"
   ]
  },
  {
   "cell_type": "code",
   "execution_count": 36,
   "id": "2690f169-bddb-4d7a-87c8-924cf3cfed90",
   "metadata": {
    "tags": []
   },
   "outputs": [],
   "source": [
    "lower_fixed_1 = BCSlice(slice=xd_lower.mesh[:, 0, :, 0], var='u', dims=[1], value=0)\n",
    "lower_fixed_0 = BCSlice(slice=xd_upper.mesh[0, :, 0, :], var='u', dims=[0], value=0)\n",
    "\n",
    "upper_compression_slice = BCSlice(slice=xd_upper.mesh[:, -1, :, -1],\n",
    "         var='u', dims=[1], value=0.01)\n",
    "\n",
    "compression_dofs = upper_compression_slice.dofs\n",
    "compression = -20 / len(compression_dofs)\n",
    "upper_compression_force_first = [BCDof(var='f', dof=dof, value = compression) \n",
    "             for dof in compression_dofs ]\n",
    "bc1 = [lower_fixed_0, lower_fixed_1] + upper_compression_force_first"
   ]
  },
  {
   "cell_type": "markdown",
   "id": "b6eae98d-d05c-4f33-949a-ffd8d17d4d9e",
   "metadata": {},
   "source": [
    "## Sliding dc"
   ]
  },
  {
   "cell_type": "code",
   "execution_count": 37,
   "id": "0449a6e2-74ba-456e-8341-e87b5f65fefd",
   "metadata": {
    "tags": []
   },
   "outputs": [],
   "source": [
    "#lower_fixed_0 = BCSlice(slice=xd_lower.mesh[:, 0, :, 0], var='u', dims=[1], value=0)\n",
    "#upper_fixed_1 = BCSlice(slice=xd_upper.mesh[0, :, 0, :], var='u', dims=[0], value=0)\n",
    "#\n",
    "#lower_slide = BCSlice(slice=xd_lower.mesh[0, :, 0, :], var='u', dims=[0], value=6)\n",
    "#\n",
    "#\n",
    "#bc1 =   [lower_fixed_0, upper_fixed_1, lower_slide]"
   ]
  },
  {
   "cell_type": "markdown",
   "id": "25cf6602-f09e-45cb-9916-29dd9857bed4",
   "metadata": {},
   "source": [
    "## Sliding fc"
   ]
  },
  {
   "cell_type": "code",
   "execution_count": 38,
   "id": "c3b5ccf9-7691-44af-943f-eb3d6253e34f",
   "metadata": {
    "tags": []
   },
   "outputs": [],
   "source": [
    "#lower_fixed_0 = BCSlice(slice=xd_lower.mesh[:, 0, :, 0], var='u', dims=[1], value=0)\n",
    "#upper_fixed_1 = BCSlice(slice=xd_upper.mesh[0, :, 0, :], var='u', dims=[0], value=0)\n",
    "#\n",
    "#\n",
    "#\n",
    "#lower_slide = BCSlice(slice=xd_lower.mesh[0, :, 0, :], var='u', dims=[0], value=0)\n",
    "#Force = 10 / len(lower_slide.dofs)\n",
    "#lower_slide_force = [BCDof(var='f', dof=dof, value = Force) \n",
    "#             for dof in lower_slide.dofs]\n",
    "#\n",
    "#bc1 =   [lower_fixed_0, upper_fixed_1] + lower_slide_force"
   ]
  },
  {
   "cell_type": "code",
   "execution_count": 39,
   "id": "f78b8f97-b72d-4433-849b-628c3871052b",
   "metadata": {
    "tags": []
   },
   "outputs": [
    {
     "data": {
      "text/plain": [
       "[<ibvpy.sim.domain_state.DomainState at 0x1ccab044f90>,\n",
       " <ibvpy.sim.domain_state.DomainState at 0x1ccab039680>,\n",
       " <ibvpy.sim.domain_state.DomainState at 0x1ccab039e00>]"
      ]
     },
     "execution_count": 39,
     "metadata": {},
     "output_type": "execute_result"
    }
   ],
   "source": [
    "m.bc=bc1\n",
    "m.hist.vis_record = {\n",
    "#    'strain': Vis3DTensorField(var='eps_ab'),\n",
    "    'stress': Vis3DTensorField(var='sig_ab'),\n",
    "    #        'kinematic hardening': Vis3DStateField(var='z_a')\n",
    "}\n",
    "\n",
    "s = m.sim\n",
    "s.tloop.verbose = True\n",
    "s.tloop.k_max = 1000\n",
    "s.tline.step = 0.1\n",
    "s.tstep.fe_domain.serialized_subdomains"
   ]
  },
  {
   "cell_type": "code",
   "execution_count": 40,
   "id": "451804eb-884a-4a25-94e4-b85db74cca76",
   "metadata": {},
   "outputs": [],
   "source": [
    "#bond_m.interact()"
   ]
  },
  {
   "cell_type": "code",
   "execution_count": 41,
   "id": "a401abc5-87a1-446b-8efc-9b2014bddcf4",
   "metadata": {
    "scrolled": true
   },
   "outputs": [
    {
     "name": "stdout",
     "output_type": "stream",
     "text": [
      "t:\t 0.00(0), \n",
      "\t 0.10(1), \n",
      "\t 0.20(1), \n",
      "\t 0.30(1), \n",
      "\t 0.40(1), \n",
      "\t 0.50(1), \n",
      "\t 0.60(1), \n",
      "\t 0.70(1), \n",
      "\t 0.80(1), \n",
      "\t 0.90(1), \n",
      "\t 1.00(1), \n",
      "\n"
     ]
    }
   ],
   "source": [
    "xd12.hidden = True\n",
    "s.reset()\n",
    "s.run()"
   ]
  },
  {
   "cell_type": "code",
   "execution_count": 42,
   "id": "0c6cb4e6-c944-4aec-acbf-1cd2fb6cb40e",
   "metadata": {},
   "outputs": [],
   "source": [
    "states_t = [states_t[2] for states_t in m.hist.state_vars]\n",
    "var_names = states_t[0].keys()\n",
    "EpsSig_t = {\n",
    "    var_name: np.array([ state_dict[var_name] for state_dict in states_t ]) \n",
    "    for var_name in var_names \n",
    "}\n",
    "u_pi_N = EpsSig_t['w_pi']\n",
    "u_pi_Tx = EpsSig_t['s_pi_x']\n",
    "sig_pi_N = EpsSig_t['sig_pi']\n",
    "sig_pi_Tx = EpsSig_t['tau_pi_x']\n",
    "sig_pi_Ty = EpsSig_t['tau_pi_y']\n",
    "omega_Nx = EpsSig_t['omega_N']\n",
    "omega_Tx = EpsSig_t['omega_T']\n",
    "x_m = xd12.x_Eia[:,:,0].flatten()"
   ]
  },
  {
   "cell_type": "code",
   "execution_count": 43,
   "id": "4c89af24-d33d-45bb-85db-ba1d8c2b4af1",
   "metadata": {},
   "outputs": [
    {
     "data": {
      "text/plain": [
       "array([[[[ 2,  3],\n",
       "         [ 6,  7]],\n",
       "\n",
       "        [[ 8,  9],\n",
       "         [12, 13]]]])"
      ]
     },
     "execution_count": 43,
     "metadata": {},
     "output_type": "execute_result"
    }
   ],
   "source": [
    "xd12.o_Epia"
   ]
  },
  {
   "cell_type": "code",
   "execution_count": 44,
   "id": "722b2c59-9978-4f51-b84a-74e4e4d5b1a1",
   "metadata": {},
   "outputs": [
    {
     "data": {
      "text/plain": [
       "array([[[[ 6.51531806e-05, -7.03709651e-10],\n",
       "         [ 6.51661469e-05, -6.96591866e-10]],\n",
       "\n",
       "        [[ 0.00000000e+00, -1.09004725e-04],\n",
       "         [ 1.30319328e-04, -1.08272374e-04]]]])"
      ]
     },
     "execution_count": 44,
     "metadata": {},
     "output_type": "execute_result"
    }
   ],
   "source": [
    "U_last = m.hist.U_t[-1]\n",
    "U_last[xd12.o_Epia]"
   ]
  },
  {
   "cell_type": "code",
   "execution_count": 45,
   "id": "5935f9fd-2b21-4e76-9b0f-84bef3e2f38a",
   "metadata": {},
   "outputs": [
    {
     "data": {
      "text/plain": [
       "array([[[-6.51531806e-05, -1.09004021e-04],\n",
       "        [ 6.51531806e-05, -1.08271677e-04]]])"
      ]
     },
     "execution_count": 45,
     "metadata": {},
     "output_type": "execute_result"
    }
   ],
   "source": [
    "xd12.map_U_to_field(U_last)"
   ]
  },
  {
   "cell_type": "code",
   "execution_count": 46,
   "id": "255194f7-7649-435b-8e6b-7a758ae59c24",
   "metadata": {},
   "outputs": [
    {
     "data": {
      "text/plain": [
       "<matplotlib.legend.Legend at 0x1cca74e4670>"
      ]
     },
     "execution_count": 46,
     "metadata": {},
     "output_type": "execute_result"
    },
    {
     "data": {
      "application/vnd.jupyter.widget-view+json": {
       "model_id": "55ee0a681917423fb8e71486868d69c7",
       "version_major": 2,
       "version_minor": 0
      },
      "text/html": [
       "\n",
       "            <div style=\"display: inline-block;\">\n",
       "                <div class=\"jupyter-widgets widget-label\" style=\"text-align: center;\">\n",
       "                    Figure\n",
       "                </div>\n",
       "                <img src='data:image/png;base64,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' width=640.0/>\n",
       "            </div>\n",
       "        "
      ],
      "text/plain": [
       "Canvas(toolbar=Toolbar(toolitems=[('Home', 'Reset original view', 'home', 'home'), ('Back', 'Back to previous …"
      ]
     },
     "metadata": {},
     "output_type": "display_data"
    }
   ],
   "source": [
    "time = m.hist.t\n",
    "f, (ax1, ax2, ax3, ax4) = plt.subplots(1,4)\n",
    "ax1.plot(time, sig_pi_N[:,0,0].flatten(), label='sigma')\n",
    "ax1.plot(time, sig_pi_N[:,0,1].flatten(), label='sigma')\n",
    "ax1.set_xlabel('time')\n",
    "ax1.set_ylabel('normal stress')\n",
    "ax1.legend()\n",
    "\n",
    "ax2.plot(time, sig_pi_Tx[:,0,0].flatten(), color='red', label='tau')\n",
    "ax2.set_xlabel('time')\n",
    "ax2.set_ylabel('tangential stress')\n",
    "ax2.legend()\n",
    "\n",
    "ax3.plot(time, omega_Nx[:,0,0].flatten(), color='red', label='normal damage')\n",
    "ax3.plot(time, omega_Tx[:,0,0].flatten(), color='green', label='tangential damage')\n",
    "\n",
    "ax3.set_xlabel('time')\n",
    "ax3.set_ylabel('damage')\n",
    "ax3.legend()\n",
    "\n",
    "ax4.plot(time, u_pi_N[:,0,0].flatten(), color='red', label='opening')\n",
    "ax4.set_xlabel('time')\n",
    "ax4.set_ylabel('opening')\n",
    "ax4.legend()"
   ]
  },
  {
   "cell_type": "code",
   "execution_count": 47,
   "id": "cd700f7c-ffc4-406e-805d-493f3328ba9e",
   "metadata": {},
   "outputs": [
    {
     "data": {
      "text/plain": [
       "(11, 1, 2)"
      ]
     },
     "execution_count": 47,
     "metadata": {},
     "output_type": "execute_result"
    }
   ],
   "source": [
    "sig_pi_N.shape"
   ]
  },
  {
   "cell_type": "code",
   "execution_count": 48,
   "id": "60a76fb9-33d4-4c78-902a-5a7e5b0a4beb",
   "metadata": {},
   "outputs": [],
   "source": [
    "if True:\n",
    "    mlab.options.backend = 'envisage'\n",
    "    mlab.options.offscreen = False # 'envisage'\n",
    "    f_strain = mlab.figure()\n",
    "    scene = mlab.get_engine().scenes[-1]\n",
    "    scene.name = 'stress'\n",
    "    strain_viz = Viz3DTensorField(vis3d=m.hist['stress'])\n",
    "    strain_viz.setup()\n",
    "    strain_viz.warp_vector.filter.scale_factor = 0.1\n",
    "    strain_viz.plot(s.tstep.t_n)\n",
    "    mlab.show()"
   ]
  },
  {
   "cell_type": "code",
   "execution_count": null,
   "id": "cf672c71-ab38-4be8-b699-f2eda3a22548",
   "metadata": {},
   "outputs": [],
   "source": []
  }
 ],
 "metadata": {
  "kernelspec": {
   "display_name": "bmcs_env",
   "language": "python",
   "name": "bmcs_env"
  },
  "language_info": {
   "codemirror_mode": {
    "name": "ipython",
    "version": 3
   },
   "file_extension": ".py",
   "mimetype": "text/x-python",
   "name": "python",
   "nbconvert_exporter": "python",
   "pygments_lexer": "ipython3",
   "version": "3.8.8"
  },
  "toc": {
   "base_numbering": 1,
   "nav_menu": {},
   "number_sections": true,
   "sideBar": true,
   "skip_h1_title": false,
   "title_cell": "Table of Contents",
   "title_sidebar": "Contents",
   "toc_cell": false,
   "toc_position": {},
   "toc_section_display": true,
   "toc_window_display": false
  }
 },
 "nbformat": 4,
 "nbformat_minor": 5
}
