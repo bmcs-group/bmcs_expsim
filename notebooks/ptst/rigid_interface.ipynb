{
 "cells": [
  {
   "cell_type": "markdown",
   "id": "4faf2840",
   "metadata": {},
   "source": [
    "# Working interface models"
   ]
  },
  {
   "cell_type": "code",
   "execution_count": 1,
   "id": "5453e041-98d8-4951-923c-b64809a003dd",
   "metadata": {},
   "outputs": [],
   "source": [
    "%matplotlib widget\n",
    "import time\n",
    "from bmcs_expsim.utils.mlab_decorators import decorate_figure\n",
    "from mayavi import mlab\n",
    "import numpy as np\n",
    "np.seterr(divide='ignore', invalid='ignore') \n",
    "import warnings\n",
    "import matplotlib.pylab as plt\n",
    "import numpy as np\n",
    "from ibvpy.api import TStepBC , TFCyclicNonsymmetricConstant, TFBilinear\n",
    "from ibvpy.bcond import BCSlice, BCDof\n",
    "from ibvpy.xmodel.xdomain_fe_grid_axisym import XDomainFEGridAxiSym\n",
    "from ibvpy.xmodel.xdomain_fe_grid import XDomainFEGrid\n",
    "from ibvpy.xmodel.xdomain_interface import XDomainFEInterface\n",
    "from ibvpy.fets import FETS2D4Q\n",
    "from ibvpy.fets.fets1D5 import FETS1D52ULRH\n",
    "from ibvpy.tmodel.viz3d_scalar_field import \\\n",
    "    Vis3DStateField, Viz3DScalarField\n",
    "from ibvpy.tmodel.viz3d_tensor_field import \\\n",
    "    Vis3DTensorField, Viz3DTensorField\n",
    "from bmcs_matmod.slide.vslide_34_TN_axisym import Slide34\n",
    "from ibvpy.tmodel.mats3D.mats3D_elastic.vmats3D_elastic import \\\n",
    "    MATS3DElastic\n",
    "from ibvpy.tmodel.mats2D.mats2D_elastic.vmats2D_elastic import \\\n",
    "    MATS2DElastic"
   ]
  },
  {
   "cell_type": "markdown",
   "id": "2fdaf708-abed-418a-aaba-c6d00ebb6ec8",
   "metadata": {},
   "source": [
    "# FE Axisymmetric discretization"
   ]
  },
  {
   "cell_type": "code",
   "execution_count": 2,
   "id": "86afb862-3f07-4dd1-b5e8-b8f6c0f470d8",
   "metadata": {
    "scrolled": true,
    "tags": []
   },
   "outputs": [],
   "source": [
    "n_y_e = 1\n",
    "n_inner_x_e = 1\n",
    "n_outer_x_e = 1\n",
    "L_x = 1.0\n",
    "P = 1.0\n",
    "R_in = P / (2 * np.pi)\n",
    "# R_in = 1\n",
    "R_out = 2 * R_in\n",
    "xd_lower = XDomainFEGridAxiSym(integ_factor = 2 * np.pi,\n",
    "                         coord_min=(0, 0),\n",
    "                          coord_max=(L_x, R_in),\n",
    "                          shape=(n_y_e, n_inner_x_e),\n",
    "                          fets=FETS2D4Q())\n",
    "xd_upper = XDomainFEGridAxiSym(integ_factor = 2 * np.pi,\n",
    "                         coord_min=(0, R_in),\n",
    "                          coord_max=(L_x, R_out),\n",
    "                          shape=(n_y_e, n_outer_x_e),\n",
    "                          fets=FETS2D4Q())\n",
    "m1 = MATS3DElastic(E=37000, nu=0.18)\n",
    "m2 = MATS3DElastic(E=37000, nu=0.18)\n",
    "\n",
    "xd12 = XDomainFEInterface(\n",
    "    integ_factor =  2 * np.pi * R_in,\n",
    "    I=xd_lower.mesh.I[:, -1],\n",
    "    J=xd_upper.mesh.I[:, 0],\n",
    "    fets=FETS1D52ULRH()\n",
    ")"
   ]
  },
  {
   "cell_type": "code",
   "execution_count": 3,
   "id": "f534ef5a-6526-4ea0-8c4b-ca3f227ea92b",
   "metadata": {},
   "outputs": [],
   "source": [
    "material_params =  dict(\n",
    "     E_T=1e7, gamma_T=0, K_T=0, S_T=5, c_T=6, bartau=3, \n",
    "     E_N=1e7, S_N=5, c_N = 3, m = 0.1, f_t=2, f_c=60, f_c0 = 40, eta=0.)\n",
    "bond_m = Slide34(**material_params)"
   ]
  },
  {
   "cell_type": "code",
   "execution_count": 4,
   "id": "2234c2d6-8f85-47f7-a78b-0d0ee395c7f4",
   "metadata": {},
   "outputs": [],
   "source": [
    "m = TStepBC(\n",
    "    domains=[(xd_lower, m1),\n",
    "             (xd_upper, m2),\n",
    "             (xd12, bond_m),\n",
    "             ]\n",
    ")"
   ]
  },
  {
   "cell_type": "markdown",
   "id": "33fdcf27-0a5f-439c-9ed0-e353a2e78c02",
   "metadata": {},
   "source": [
    "## Compression/Traction fc"
   ]
  },
  {
   "cell_type": "code",
   "execution_count": 5,
   "id": "2690f169-bddb-4d7a-87c8-924cf3cfed90",
   "metadata": {
    "tags": []
   },
   "outputs": [],
   "source": [
    "lower_fixed_1 = BCSlice(slice=xd_lower.mesh[:, 0, :, 0], var='u', dims=[1], value=0)\n",
    "lower_fixed_0 = BCSlice(slice=xd_upper.mesh[0, :, 0, :], var='u', dims=[0], value=0)\n",
    "\n",
    "lower_slide_dummy = BCSlice(slice=xd_lower.mesh[0, :, 0, :], var='u', dims=[0], value=0.001)\n",
    "lower_slide_dofs = lower_slide_dummy.dofs\n",
    "\n",
    "\n",
    "upper_compression_slice = BCSlice(slice=xd_upper.mesh[:, -1, :, -1],\n",
    "         var='u', dims=[1], value=0.01)\n",
    "\n",
    "compression_dofs = upper_compression_slice.dofs\n",
    "compression = -20 / len(compression_dofs)\n",
    "upper_compression_force_first = [BCDof(var='f', dof=dof, value = compression) \n",
    "             for dof in compression_dofs ]\n",
    "bc1 = [lower_fixed_0, lower_fixed_1] + upper_compression_force_first"
   ]
  },
  {
   "cell_type": "code",
   "execution_count": 6,
   "id": "c7f94c19-f22a-4351-9484-26811a570aeb",
   "metadata": {},
   "outputs": [
    {
     "data": {
      "text/plain": [
       "-10.0"
      ]
     },
     "execution_count": 6,
     "metadata": {},
     "output_type": "execute_result"
    }
   ],
   "source": [
    "compression"
   ]
  },
  {
   "cell_type": "code",
   "execution_count": 7,
   "id": "5a93ddb8-9acc-432d-b471-f0717c0bb700",
   "metadata": {
    "tags": []
   },
   "outputs": [
    {
     "data": {
      "text/plain": [
       "[<ibvpy.sim.domain_state.DomainState at 0x2dd232f3400>,\n",
       " <ibvpy.sim.domain_state.DomainState at 0x2dd233170e0>,\n",
       " <ibvpy.sim.domain_state.DomainState at 0x2dd23317090>]"
      ]
     },
     "execution_count": 7,
     "metadata": {},
     "output_type": "execute_result"
    }
   ],
   "source": [
    "m.bc=bc1\n",
    "m.hist.vis_record = {\n",
    "#    'strain': Vis3DTensorField(var='eps_ab'),\n",
    "    'stress': Vis3DTensorField(var='sig_ab'),\n",
    "    #        'kinematic hardening': Vis3DStateField(var='z_a')\n",
    "}\n",
    "\n",
    "s = m.sim\n",
    "s.tloop.verbose = True\n",
    "s.tloop.k_max = 100\n",
    "s.tline.step = 0.01\n",
    "s.tstep.fe_domain.serialized_subdomains"
   ]
  },
  {
   "cell_type": "code",
   "execution_count": 8,
   "id": "83881814-4ed8-418c-a12a-ce67a95199d3",
   "metadata": {
    "scrolled": true
   },
   "outputs": [
    {
     "name": "stdout",
     "output_type": "stream",
     "text": [
      "t:\t 0.00(0), \n",
      "\t 0.01(1), \n",
      "\t 0.02(1), \n",
      "\t 0.03(1), \n",
      "\t 0.04(1), \n",
      "\t 0.05(1), \n",
      "\t 0.06(1), \n",
      "\t 0.07(1), \n",
      "\t 0.08(1), \n",
      "\t 0.09(1), \n",
      "\t 0.10(1), \n",
      "\t 0.11(1), \n",
      "\t 0.12(1), \n",
      "\t 0.13(1), \n",
      "\t 0.14(1), \n",
      "\t 0.15(1), \n",
      "\t 0.16(1), \n",
      "\t 0.17(1), \n",
      "\t 0.18(1), \n",
      "\t 0.19(1), \n",
      "\t 0.20(1), \n",
      "\t 0.21(1), \n",
      "\t 0.22(1), \n",
      "\t 0.23(1), \n",
      "\t 0.24(1), \n",
      "\t 0.25(1), \n",
      "\t 0.26(1), \n",
      "\t 0.27(1), \n",
      "\t 0.28(1), \n",
      "\t 0.29(1), \n",
      "\t 0.30(1), \n",
      "\t 0.31(1), \n",
      "\t 0.32(1), \n",
      "\t 0.33(1), \n",
      "\t 0.34(1), \n",
      "\t 0.35(1), \n",
      "\t 0.36(1), \n",
      "\t 0.37(1), \n",
      "\t 0.38(1), \n",
      "\t 0.39(1), \n",
      "\t 0.40(1), \n",
      "\t 0.41(1), \n",
      "\t 0.42(1), \n",
      "\t 0.43(1), \n",
      "\t 0.44(1), \n",
      "\t 0.45(1), \n",
      "\t 0.46(1), \n",
      "\t 0.47(1), \n",
      "\t 0.48(1), \n",
      "\t 0.49(1), \n",
      "\t 0.50(1), \n",
      "\t 0.51(1), \n",
      "\t 0.52(1), \n",
      "\t 0.53(1), \n",
      "\t 0.54(1), \n",
      "\t 0.55(1), \n",
      "\t 0.56(1), \n",
      "\t 0.57(1), \n",
      "\t 0.58(1), \n",
      "\t 0.59(1), \n",
      "\t 0.60(1), \n",
      "\t 0.61(1), \n",
      "\t 0.62(1), \n",
      "\t 0.63(1), \n",
      "\t 0.64(1), \n",
      "\t 0.65(1), \n",
      "\t 0.66(1), \n",
      "\t 0.67(1), \n",
      "\t 0.68(1), \n",
      "\t 0.69(1), \n",
      "\t 0.70(1), \n",
      "\t 0.71(1), \n",
      "\t 0.72(1), \n",
      "\t 0.73(1), \n",
      "\t 0.74(1), \n",
      "\t 0.75(1), \n",
      "\t 0.76(1), \n",
      "\t 0.77(1), \n",
      "\t 0.78(1), \n",
      "\t 0.79(1), \n",
      "\t 0.80(1), \n",
      "\t 0.81(1), \n",
      "\t 0.82(1), \n",
      "\t 0.83(1), \n",
      "\t 0.84(1), \n",
      "\t 0.85(1), \n",
      "\t 0.86(1), \n",
      "\t 0.87(1), \n",
      "\t 0.88(1), \n",
      "\t 0.89(1), \n",
      "\t 0.90(1), \n",
      "\t 0.91(1), \n",
      "\t 0.92(1), \n",
      "\t 0.93(1), \n",
      "\t 0.94(1), \n",
      "\t 0.95(1), \n",
      "\t 0.96(1), \n",
      "\t 0.97(1), \n",
      "\t 0.98(1), \n",
      "\t 0.99(1), \n",
      "\t 1.00(1), \n",
      "\n"
     ]
    }
   ],
   "source": [
    "xd12.hidden = True\n",
    "s.reset()\n",
    "s.run()"
   ]
  },
  {
   "cell_type": "code",
   "execution_count": 9,
   "id": "cf874ac1-e769-4828-8449-3c497c45b91d",
   "metadata": {},
   "outputs": [],
   "source": [
    "F_to = m.hist.F_t\n",
    "U_to = m.hist.U_t\n",
    "U_compression = np.average(U_to[:, compression_dofs], axis=-1)\n",
    "U_slide = np.average(U_to[:, lower_slide_dofs], axis=-1)\n",
    "\n",
    "states_t = [states_t[2] for states_t in m.hist.state_vars]\n",
    "var_names = states_t[0].keys()\n",
    "EpsSig_t = {\n",
    "    var_name: np.array([ state_dict[var_name] for state_dict in states_t ]) \n",
    "    for var_name in var_names \n",
    "}\n",
    "u_pi_N = EpsSig_t['w_pi']\n",
    "u_pi_Tx = EpsSig_t['s_pi_x']\n",
    "sig_pi_N = EpsSig_t['sig_pi']\n",
    "sig_pi_Tx = EpsSig_t['tau_pi_x']\n",
    "sig_pi_Ty = EpsSig_t['tau_pi_y']\n",
    "omega_Nx = EpsSig_t['omega_N']\n",
    "omega_Tx = EpsSig_t['omega_T']\n",
    "x_m = xd12.x_Eia[:,:,0].flatten()"
   ]
  },
  {
   "cell_type": "code",
   "execution_count": 10,
   "id": "ef2c933c-879d-450d-a916-3fe2eb649078",
   "metadata": {},
   "outputs": [
    {
     "data": {
      "application/vnd.jupyter.widget-view+json": {
       "model_id": "3d255360b46248638488c4be2e0bc114",
       "version_major": 2,
       "version_minor": 0
      },
      "text/plain": [
       "Canvas(toolbar=Toolbar(toolitems=[('Home', 'Reset original view', 'home', 'home'), ('Back', 'Back to previous …"
      ]
     },
     "metadata": {},
     "output_type": "display_data"
    }
   ],
   "source": [
    "time = m.hist.t\n",
    "f, (ax1, ax2, ax3, ax4) = plt.subplots(1,4, figsize=(10, 3))\n",
    "\n",
    "ax1.plot(U_compression, sig_pi_N[:,0,0].flatten(), label='sigma')\n",
    "ax1.plot(U_compression, sig_pi_N[:,0,1].flatten(), label='sigma')\n",
    "ax1.set_xlabel('displacement [mm]')\n",
    "ax1.set_ylabel('normal stress')\n",
    "ax1.legend()\n",
    "\n",
    "ax2.plot(U_slide, sig_pi_Tx[:,0,0].flatten(), color='red', label='tau')\n",
    "ax2.set_xlabel('displacement [mm]')\n",
    "ax2.set_ylabel('tangential stress')\n",
    "ax2.legend()\n",
    "\n",
    "ax3.plot(time, omega_Nx[:,0,0].flatten(), color='red', label='normal damage')\n",
    "ax3.plot(time, omega_Tx[:,0,0].flatten(), color='green', label='tangential damage')\n",
    "\n",
    "ax3.set_xlabel('time')\n",
    "ax3.set_ylabel('damage')\n",
    "ax3.legend()\n",
    "\n",
    "ax4.plot(time, u_pi_N[:,0,0].flatten(), color='red', label='opening')\n",
    "ax4.set_xlabel('time')\n",
    "ax4.set_ylabel('opening')\n",
    "ax4.legend()\n",
    "plt.tight_layout()\n"
   ]
  },
  {
   "cell_type": "code",
   "execution_count": 551,
   "id": "0a47be30-e3c6-4422-ad3a-95eed17df35e",
   "metadata": {},
   "outputs": [],
   "source": [
    "# if True:\n",
    "#     mlab.options.backend = 'envisage'\n",
    "#     mlab.options.offscreen = False # 'envisage'\n",
    "#     f_strain = mlab.figure()\n",
    "#     scene = mlab.get_engine().scenes[-1]\n",
    "#     scene.name = 'stress'\n",
    "#     strain_viz = Viz3DTensorField(vis3d=m.hist['stress'])\n",
    "#     strain_viz.setup()\n",
    "#     strain_viz.warp_vector.filter.scale_factor = 0.1\n",
    "#     strain_viz.plot(s.tstep.t_n)\n",
    "#     mlab.show()"
   ]
  },
  {
   "cell_type": "markdown",
   "id": "b6eae98d-d05c-4f33-949a-ffd8d17d4d9e",
   "metadata": {},
   "source": [
    "## Sliding dc"
   ]
  },
  {
   "cell_type": "code",
   "execution_count": 26,
   "id": "4753eaa3-c9c5-4f96-b5f7-9fbca94ea7f6",
   "metadata": {},
   "outputs": [],
   "source": [
    "material_params =  dict(\n",
    "     E_T=1e7, gamma_T=1e5, K_T=0, S_T=0.5, c_T=6, bartau=3, \n",
    "     E_N=1e7, S_N=0.5, c_N = 3, m = 0.05, f_t=2, f_c=60, f_c0 = 40, eta=0.)\n",
    "bond_m = Slide34(**material_params)"
   ]
  },
  {
   "cell_type": "code",
   "execution_count": 27,
   "id": "0449a6e2-74ba-456e-8341-e87b5f65fefd",
   "metadata": {
    "tags": []
   },
   "outputs": [],
   "source": [
    "lower_fixed_0 = BCSlice(slice=xd_lower.mesh[:, 0, :, 0], var='u', dims=[1], value=0)\n",
    "upper_fixed_1 = BCSlice(slice=xd_upper.mesh[0, :, 0, :], var='u', dims=[0], value=0)\n",
    "\n",
    "lower_slide = BCSlice(slice=xd_lower.mesh[-1, :, -1, :], var='u', dims=[0], value=0.001)\n",
    "lower_slide_dofs = lower_slide_dummy.dofs\n",
    "\n",
    "upper_compression_slice = BCSlice(slice=xd_upper.mesh[:, -1, :, -1],\n",
    "         var='u', dims=[1], value=0.01)\n",
    "\n",
    "compression_dofs = upper_compression_slice.dofs\n",
    "\n",
    "bc1 =   [lower_fixed_0, upper_fixed_1, lower_slide]"
   ]
  },
  {
   "cell_type": "code",
   "execution_count": 28,
   "id": "2514f689-ce3c-4762-a6c3-aac7828805fb",
   "metadata": {
    "tags": []
   },
   "outputs": [],
   "source": [
    "m = TStepBC(\n",
    "    domains=[(xd_lower, m1),\n",
    "             (xd_upper, m2),\n",
    "             (xd12, bond_m),\n",
    "             ]\n",
    ")"
   ]
  },
  {
   "cell_type": "code",
   "execution_count": 29,
   "id": "59397b06-8db2-421c-801a-a304fe3b7648",
   "metadata": {
    "tags": []
   },
   "outputs": [
    {
     "data": {
      "text/plain": [
       "[<ibvpy.sim.domain_state.DomainState at 0x2dd2ba62900>,\n",
       " <ibvpy.sim.domain_state.DomainState at 0x2dd2b94cf90>,\n",
       " <ibvpy.sim.domain_state.DomainState at 0x2dd2ba52040>]"
      ]
     },
     "execution_count": 29,
     "metadata": {},
     "output_type": "execute_result"
    }
   ],
   "source": [
    "m.bc=bc1\n",
    "m.hist.vis_record = {\n",
    "#    'strain': Vis3DTensorField(var='eps_ab'),\n",
    "    'stress': Vis3DTensorField(var='sig_ab'),\n",
    "    #        'kinematic hardening': Vis3DStateField(var='z_a')\n",
    "}\n",
    "\n",
    "s = m.sim\n",
    "s.tloop.verbose = True\n",
    "s.tloop.k_max = 100\n",
    "s.tline.step = 0.01\n",
    "s.tstep.fe_domain.serialized_subdomains"
   ]
  },
  {
   "cell_type": "code",
   "execution_count": 30,
   "id": "7c5bc358-18fb-4f73-ad47-aecd1d3999d7",
   "metadata": {
    "scrolled": true
   },
   "outputs": [
    {
     "name": "stdout",
     "output_type": "stream",
     "text": [
      "t:\t 0.00(0), \n",
      "\t 0.01(1), \n",
      "\t 0.02(1), \n",
      "\t 0.03(1), \n",
      "\t 0.04(1), \n",
      "\t 0.05(1), \n",
      "\t 0.06(1), \n",
      "\t 0.07(1), \n",
      "\t 0.08(1), \n",
      "\t 0.09(1), \n",
      "\t 0.10(1), \n",
      "\t 0.11(1), \n",
      "\t 0.12(1), \n",
      "\t 0.13(1), \n",
      "\t 0.14(1), \n",
      "\t 0.15(1), \n",
      "\t 0.16(1), \n",
      "\t 0.17(1), \n",
      "\t 0.18\n"
     ]
    },
    {
     "ename": "StopIteration",
     "evalue": "Warning: convergence not reached in 100 iterations",
     "output_type": "error",
     "traceback": [
      "\u001b[1;31m---------------------------------------------------------------------------\u001b[0m",
      "\u001b[1;31mStopIteration\u001b[0m                             Traceback (most recent call last)",
      "\u001b[1;32m<ipython-input-30-905e2f2b18d9>\u001b[0m in \u001b[0;36m<module>\u001b[1;34m\u001b[0m\n\u001b[0;32m      1\u001b[0m \u001b[0mxd12\u001b[0m\u001b[1;33m.\u001b[0m\u001b[0mhidden\u001b[0m \u001b[1;33m=\u001b[0m \u001b[1;32mTrue\u001b[0m\u001b[1;33m\u001b[0m\u001b[1;33m\u001b[0m\u001b[0m\n\u001b[0;32m      2\u001b[0m \u001b[0ms\u001b[0m\u001b[1;33m.\u001b[0m\u001b[0mreset\u001b[0m\u001b[1;33m(\u001b[0m\u001b[1;33m)\u001b[0m\u001b[1;33m\u001b[0m\u001b[1;33m\u001b[0m\u001b[0m\n\u001b[1;32m----> 3\u001b[1;33m \u001b[0ms\u001b[0m\u001b[1;33m.\u001b[0m\u001b[0mrun\u001b[0m\u001b[1;33m(\u001b[0m\u001b[1;33m)\u001b[0m\u001b[1;33m\u001b[0m\u001b[1;33m\u001b[0m\u001b[0m\n\u001b[0m",
      "\u001b[1;32mc:\\users\\marag\\pycharmprojects\\bmcs_ibvpy\\ibvpy\\sim\\sim_base.py\u001b[0m in \u001b[0;36mrun\u001b[1;34m(self)\u001b[0m\n\u001b[0;32m     57\u001b[0m         r'''Run a thread if it does not exist - do nothing otherwise\n\u001b[0;32m     58\u001b[0m         '''\n\u001b[1;32m---> 59\u001b[1;33m         \u001b[0mself\u001b[0m\u001b[1;33m.\u001b[0m\u001b[0mtloop\u001b[0m\u001b[1;33m(\u001b[0m\u001b[1;33m)\u001b[0m\u001b[1;33m\u001b[0m\u001b[1;33m\u001b[0m\u001b[0m\n\u001b[0m\u001b[0;32m     60\u001b[0m         \u001b[1;32mreturn\u001b[0m\u001b[1;33m\u001b[0m\u001b[1;33m\u001b[0m\u001b[0m\n\u001b[0;32m     61\u001b[0m \u001b[1;33m\u001b[0m\u001b[0m\n",
      "\u001b[1;32mc:\\users\\marag\\pycharmprojects\\bmcs_ibvpy\\ibvpy\\sim\\tloop.py\u001b[0m in \u001b[0;36m__call__\u001b[1;34m(self)\u001b[0m\n\u001b[0;32m     63\u001b[0m     \u001b[1;32mdef\u001b[0m \u001b[0m__call__\u001b[0m\u001b[1;33m(\u001b[0m\u001b[0mself\u001b[0m\u001b[1;33m)\u001b[0m\u001b[1;33m:\u001b[0m\u001b[1;33m\u001b[0m\u001b[1;33m\u001b[0m\u001b[0m\n\u001b[0;32m     64\u001b[0m         \u001b[0mself\u001b[0m\u001b[1;33m.\u001b[0m\u001b[0minit\u001b[0m\u001b[1;33m(\u001b[0m\u001b[1;33m)\u001b[0m\u001b[1;33m\u001b[0m\u001b[1;33m\u001b[0m\u001b[0m\n\u001b[1;32m---> 65\u001b[1;33m         \u001b[1;32mreturn\u001b[0m \u001b[0mself\u001b[0m\u001b[1;33m.\u001b[0m\u001b[0meval\u001b[0m\u001b[1;33m(\u001b[0m\u001b[1;33m)\u001b[0m\u001b[1;33m\u001b[0m\u001b[1;33m\u001b[0m\u001b[0m\n\u001b[0m",
      "\u001b[1;32mc:\\users\\marag\\pycharmprojects\\bmcs_ibvpy\\ibvpy\\sim\\tloop_implicit.py\u001b[0m in \u001b[0;36meval\u001b[1;34m(self)\u001b[0m\n\u001b[0;32m     50\u001b[0m                     \u001b[0mself\u001b[0m\u001b[1;33m.\u001b[0m\u001b[0mrestart\u001b[0m \u001b[1;33m=\u001b[0m \u001b[1;32mTrue\u001b[0m\u001b[1;33m\u001b[0m\u001b[1;33m\u001b[0m\u001b[0m\n\u001b[0;32m     51\u001b[0m                     \u001b[0mprint\u001b[0m\u001b[1;33m(\u001b[0m\u001b[1;34m''\u001b[0m\u001b[1;33m)\u001b[0m\u001b[1;33m\u001b[0m\u001b[1;33m\u001b[0m\u001b[0m\n\u001b[1;32m---> 52\u001b[1;33m                     raise StopIteration('Warning: '\n\u001b[0m\u001b[0;32m     53\u001b[0m                                         'convergence not reached in %g iterations' % k)\n\u001b[0;32m     54\u001b[0m                 \u001b[1;32mreturn\u001b[0m\u001b[1;33m\u001b[0m\u001b[1;33m\u001b[0m\u001b[0m\n",
      "\u001b[1;31mStopIteration\u001b[0m: Warning: convergence not reached in 100 iterations"
     ]
    }
   ],
   "source": [
    "xd12.hidden = True\n",
    "s.reset()\n",
    "s.run()"
   ]
  },
  {
   "cell_type": "code",
   "execution_count": 31,
   "id": "af93af48-bd1a-45ae-8abd-a35460f0bcb2",
   "metadata": {},
   "outputs": [],
   "source": [
    "F_to = m.hist.F_t\n",
    "U_to = m.hist.U_t\n",
    "U_compression = np.average(U_to[:, compression_dofs], axis=-1)\n",
    "U_slide = np.average(U_to[:, lower_slide_dofs], axis=-1)\n",
    "\n",
    "states_t = [states_t[2] for states_t in m.hist.state_vars]\n",
    "var_names = states_t[0].keys()\n",
    "EpsSig_t = {\n",
    "    var_name: np.array([ state_dict[var_name] for state_dict in states_t ]) \n",
    "    for var_name in var_names \n",
    "}\n",
    "u_pi_N = EpsSig_t['w_pi']\n",
    "u_pi_Tx = EpsSig_t['s_pi_x']\n",
    "sig_pi_N = EpsSig_t['sig_pi']\n",
    "sig_pi_Tx = EpsSig_t['tau_pi_x']\n",
    "sig_pi_Ty = EpsSig_t['tau_pi_y']\n",
    "omega_Nx = EpsSig_t['omega_N']\n",
    "omega_Tx = EpsSig_t['omega_T']\n",
    "x_m = xd12.x_Eia[:,:,0].flatten()"
   ]
  },
  {
   "cell_type": "code",
   "execution_count": 32,
   "id": "cfd24e57-07f6-443f-ab61-df645bbc6057",
   "metadata": {},
   "outputs": [
    {
     "data": {
      "application/vnd.jupyter.widget-view+json": {
       "model_id": "ecb9fbae7014444aa0a34e618114a5fa",
       "version_major": 2,
       "version_minor": 0
      },
      "text/plain": [
       "Canvas(toolbar=Toolbar(toolitems=[('Home', 'Reset original view', 'home', 'home'), ('Back', 'Back to previous …"
      ]
     },
     "metadata": {},
     "output_type": "display_data"
    }
   ],
   "source": [
    "time = m.hist.t\n",
    "f, (ax1, ax2, ax3, ax4) = plt.subplots(1,4, figsize=(10, 3))\n",
    "\n",
    "ax1.plot(U_compression, sig_pi_N[:,0,0].flatten(), label='sigma')\n",
    "ax1.plot(U_compression, sig_pi_N[:,0,1].flatten(), label='sigma')\n",
    "ax1.set_xlabel('displacement [mm]')\n",
    "ax1.set_ylabel('normal stress')\n",
    "ax1.legend()\n",
    "\n",
    "ax2.plot(U_slide, sig_pi_Tx[:,0,0].flatten(), color='red', label='tau')\n",
    "ax2.set_xlabel('displacement [mm]')\n",
    "ax2.set_ylabel('tangential stress')\n",
    "ax2.legend()\n",
    "\n",
    "ax3.plot(time, omega_Nx[:,0,0].flatten(), color='red', label='normal damage')\n",
    "ax3.plot(time, omega_Tx[:,0,0].flatten(), color='green', label='tangential damage')\n",
    "\n",
    "ax3.set_xlabel('time')\n",
    "ax3.set_ylabel('damage')\n",
    "ax3.legend()\n",
    "\n",
    "ax4.plot(time, u_pi_N[:,0,0].flatten(), color='red', label='opening')\n",
    "ax4.set_xlabel('time')\n",
    "ax4.set_ylabel('opening')\n",
    "ax4.legend()\n",
    "plt.tight_layout()\n"
   ]
  },
  {
   "cell_type": "code",
   "execution_count": 33,
   "id": "90a0a746-3ebe-4bb1-82dc-35059f25d994",
   "metadata": {},
   "outputs": [],
   "source": [
    "if True:\n",
    "    mlab.options.backend = 'envisage'\n",
    "    mlab.options.offscreen = False # 'envisage'\n",
    "    f_strain = mlab.figure()\n",
    "    scene = mlab.get_engine().scenes[-1]\n",
    "    scene.name = 'stress'\n",
    "    strain_viz = Viz3DTensorField(vis3d=m.hist['stress'])\n",
    "    strain_viz.setup()\n",
    "    strain_viz.warp_vector.filter.scale_factor = 0.1\n",
    "    strain_viz.plot(s.tstep.t_n)\n",
    "    mlab.show()"
   ]
  },
  {
   "cell_type": "markdown",
   "id": "25cf6602-f09e-45cb-9916-29dd9857bed4",
   "metadata": {},
   "source": [
    "## Sliding fc"
   ]
  },
  {
   "cell_type": "code",
   "execution_count": 34,
   "id": "c3b5ccf9-7691-44af-943f-eb3d6253e34f",
   "metadata": {
    "tags": []
   },
   "outputs": [],
   "source": [
    "lower_fixed_0 = BCSlice(slice=xd_lower.mesh[:, 0, :, 0], var='u', dims=[1], value=0)\n",
    "upper_fixed_1 = BCSlice(slice=xd_upper.mesh[-1, :, 0-1, :], var='u', dims=[0], value=0)\n",
    "\n",
    "lower_slide = BCSlice(slice=xd_lower.mesh[0, :, 0, :], var='u', dims=[0], value=0)\n",
    "Force = 4 / len(lower_slide.dofs)\n",
    "lower_slide_force = [BCDof(var='f', dof=dof, value = Force) \n",
    "            for dof in lower_slide.dofs]\n",
    "\n",
    "bc1 =   [lower_fixed_0, upper_fixed_1] + lower_slide_force"
   ]
  },
  {
   "cell_type": "code",
   "execution_count": 35,
   "id": "b3c28253-1707-4ff9-8dff-1645ad2e1b4c",
   "metadata": {
    "tags": []
   },
   "outputs": [],
   "source": [
    "m = TStepBC(\n",
    "    domains=[(xd_lower, m1),\n",
    "             (xd_upper, m2),\n",
    "             (xd12, bond_m),\n",
    "             ]\n",
    ")"
   ]
  },
  {
   "cell_type": "code",
   "execution_count": 36,
   "id": "63d6ec58-969a-4ca3-9fa8-76c0cf729fb0",
   "metadata": {
    "tags": []
   },
   "outputs": [
    {
     "data": {
      "text/plain": [
       "[<ibvpy.sim.domain_state.DomainState at 0x2dd5071d360>,\n",
       " <ibvpy.sim.domain_state.DomainState at 0x2dd4f9a5590>,\n",
       " <ibvpy.sim.domain_state.DomainState at 0x2dd4f9a5630>]"
      ]
     },
     "execution_count": 36,
     "metadata": {},
     "output_type": "execute_result"
    }
   ],
   "source": [
    "m.bc=bc1\n",
    "m.hist.vis_record = {\n",
    "#    'strain': Vis3DTensorField(var='eps_ab'),\n",
    "    'stress': Vis3DTensorField(var='sig_ab'),\n",
    "    #        'kinematic hardening': Vis3DStateField(var='z_a')\n",
    "}\n",
    "\n",
    "s = m.sim\n",
    "s.tloop.verbose = True\n",
    "s.tloop.k_max = 100\n",
    "s.tline.step = 0.01\n",
    "s.tstep.fe_domain.serialized_subdomains"
   ]
  },
  {
   "cell_type": "code",
   "execution_count": 37,
   "id": "c162ca46-74e8-4fbc-84b9-c280810f4d33",
   "metadata": {
    "scrolled": true
   },
   "outputs": [
    {
     "name": "stdout",
     "output_type": "stream",
     "text": [
      "t:\t 0.00(0), \n",
      "\t 0.01(1), \n",
      "\t 0.02(1), \n",
      "\t 0.03(1), \n",
      "\t 0.04(1), \n",
      "\t 0.05(1), \n",
      "\t 0.06(1), \n",
      "\t 0.07(1), \n",
      "\t 0.08(1), \n",
      "\t 0.09(1), \n",
      "\t 0.10(1), \n",
      "\t 0.11(1), \n",
      "\t 0.12(1), \n",
      "\t 0.13(1), \n",
      "\t 0.14(1), \n",
      "\t 0.15(1), \n",
      "\t 0.16(1), \n",
      "\t 0.17(1), \n",
      "\t 0.18(1), \n",
      "\t 0.19(1), \n",
      "\t 0.20(1), \n",
      "\t 0.21(1), \n",
      "\t 0.22(1), \n",
      "\t 0.23(1), \n",
      "\t 0.24(1), \n",
      "\t 0.25(1), \n",
      "\t 0.26(1), \n",
      "\t 0.27(1), \n",
      "\t 0.28(1), \n",
      "\t 0.29(1), \n",
      "\t 0.30(1), \n",
      "\t 0.31(1), \n",
      "\t 0.32(1), \n",
      "\t 0.33(1), \n",
      "\t 0.34(1), \n",
      "\t 0.35(1), \n",
      "\t 0.36(1), \n",
      "\t 0.37(1), \n",
      "\t 0.38(1), \n",
      "\t 0.39(1), \n",
      "\t 0.40(1), \n",
      "\t 0.41(1), \n",
      "\t 0.42(1), \n",
      "\t 0.43(1), \n",
      "\t 0.44(1), \n",
      "\t 0.45(1), \n",
      "\t 0.46(1), \n",
      "\t 0.47(1), \n",
      "\t 0.48(1), \n",
      "\t 0.49(1), \n",
      "\t 0.50(1), \n",
      "\t 0.51(1), \n",
      "\t 0.52(1), \n",
      "\t 0.53\n"
     ]
    },
    {
     "ename": "StopIteration",
     "evalue": "Warning: convergence not reached in 100 iterations",
     "output_type": "error",
     "traceback": [
      "\u001b[1;31m---------------------------------------------------------------------------\u001b[0m",
      "\u001b[1;31mStopIteration\u001b[0m                             Traceback (most recent call last)",
      "\u001b[1;32m<ipython-input-37-905e2f2b18d9>\u001b[0m in \u001b[0;36m<module>\u001b[1;34m\u001b[0m\n\u001b[0;32m      1\u001b[0m \u001b[0mxd12\u001b[0m\u001b[1;33m.\u001b[0m\u001b[0mhidden\u001b[0m \u001b[1;33m=\u001b[0m \u001b[1;32mTrue\u001b[0m\u001b[1;33m\u001b[0m\u001b[1;33m\u001b[0m\u001b[0m\n\u001b[0;32m      2\u001b[0m \u001b[0ms\u001b[0m\u001b[1;33m.\u001b[0m\u001b[0mreset\u001b[0m\u001b[1;33m(\u001b[0m\u001b[1;33m)\u001b[0m\u001b[1;33m\u001b[0m\u001b[1;33m\u001b[0m\u001b[0m\n\u001b[1;32m----> 3\u001b[1;33m \u001b[0ms\u001b[0m\u001b[1;33m.\u001b[0m\u001b[0mrun\u001b[0m\u001b[1;33m(\u001b[0m\u001b[1;33m)\u001b[0m\u001b[1;33m\u001b[0m\u001b[1;33m\u001b[0m\u001b[0m\n\u001b[0m",
      "\u001b[1;32mc:\\users\\marag\\pycharmprojects\\bmcs_ibvpy\\ibvpy\\sim\\sim_base.py\u001b[0m in \u001b[0;36mrun\u001b[1;34m(self)\u001b[0m\n\u001b[0;32m     57\u001b[0m         r'''Run a thread if it does not exist - do nothing otherwise\n\u001b[0;32m     58\u001b[0m         '''\n\u001b[1;32m---> 59\u001b[1;33m         \u001b[0mself\u001b[0m\u001b[1;33m.\u001b[0m\u001b[0mtloop\u001b[0m\u001b[1;33m(\u001b[0m\u001b[1;33m)\u001b[0m\u001b[1;33m\u001b[0m\u001b[1;33m\u001b[0m\u001b[0m\n\u001b[0m\u001b[0;32m     60\u001b[0m         \u001b[1;32mreturn\u001b[0m\u001b[1;33m\u001b[0m\u001b[1;33m\u001b[0m\u001b[0m\n\u001b[0;32m     61\u001b[0m \u001b[1;33m\u001b[0m\u001b[0m\n",
      "\u001b[1;32mc:\\users\\marag\\pycharmprojects\\bmcs_ibvpy\\ibvpy\\sim\\tloop.py\u001b[0m in \u001b[0;36m__call__\u001b[1;34m(self)\u001b[0m\n\u001b[0;32m     63\u001b[0m     \u001b[1;32mdef\u001b[0m \u001b[0m__call__\u001b[0m\u001b[1;33m(\u001b[0m\u001b[0mself\u001b[0m\u001b[1;33m)\u001b[0m\u001b[1;33m:\u001b[0m\u001b[1;33m\u001b[0m\u001b[1;33m\u001b[0m\u001b[0m\n\u001b[0;32m     64\u001b[0m         \u001b[0mself\u001b[0m\u001b[1;33m.\u001b[0m\u001b[0minit\u001b[0m\u001b[1;33m(\u001b[0m\u001b[1;33m)\u001b[0m\u001b[1;33m\u001b[0m\u001b[1;33m\u001b[0m\u001b[0m\n\u001b[1;32m---> 65\u001b[1;33m         \u001b[1;32mreturn\u001b[0m \u001b[0mself\u001b[0m\u001b[1;33m.\u001b[0m\u001b[0meval\u001b[0m\u001b[1;33m(\u001b[0m\u001b[1;33m)\u001b[0m\u001b[1;33m\u001b[0m\u001b[1;33m\u001b[0m\u001b[0m\n\u001b[0m",
      "\u001b[1;32mc:\\users\\marag\\pycharmprojects\\bmcs_ibvpy\\ibvpy\\sim\\tloop_implicit.py\u001b[0m in \u001b[0;36meval\u001b[1;34m(self)\u001b[0m\n\u001b[0;32m     50\u001b[0m                     \u001b[0mself\u001b[0m\u001b[1;33m.\u001b[0m\u001b[0mrestart\u001b[0m \u001b[1;33m=\u001b[0m \u001b[1;32mTrue\u001b[0m\u001b[1;33m\u001b[0m\u001b[1;33m\u001b[0m\u001b[0m\n\u001b[0;32m     51\u001b[0m                     \u001b[0mprint\u001b[0m\u001b[1;33m(\u001b[0m\u001b[1;34m''\u001b[0m\u001b[1;33m)\u001b[0m\u001b[1;33m\u001b[0m\u001b[1;33m\u001b[0m\u001b[0m\n\u001b[1;32m---> 52\u001b[1;33m                     raise StopIteration('Warning: '\n\u001b[0m\u001b[0;32m     53\u001b[0m                                         'convergence not reached in %g iterations' % k)\n\u001b[0;32m     54\u001b[0m                 \u001b[1;32mreturn\u001b[0m\u001b[1;33m\u001b[0m\u001b[1;33m\u001b[0m\u001b[0m\n",
      "\u001b[1;31mStopIteration\u001b[0m: Warning: convergence not reached in 100 iterations"
     ]
    }
   ],
   "source": [
    "xd12.hidden = True\n",
    "s.reset()\n",
    "s.run()"
   ]
  },
  {
   "cell_type": "code",
   "execution_count": 38,
   "id": "d8ac0678-3177-4005-95aa-c8d3c85355e0",
   "metadata": {},
   "outputs": [],
   "source": [
    "states_t = [states_t[2] for states_t in m.hist.state_vars]\n",
    "var_names = states_t[0].keys()\n",
    "EpsSig_t = {\n",
    "    var_name: np.array([ state_dict[var_name] for state_dict in states_t ]) \n",
    "    for var_name in var_names \n",
    "}\n",
    "u_pi_N = EpsSig_t['w_pi']\n",
    "u_pi_Tx = EpsSig_t['s_pi_x']\n",
    "sig_pi_N = EpsSig_t['sig_pi']\n",
    "sig_pi_Tx = EpsSig_t['tau_pi_x']\n",
    "sig_pi_Ty = EpsSig_t['tau_pi_y']\n",
    "omega_Nx = EpsSig_t['omega_N']\n",
    "omega_Tx = EpsSig_t['omega_T']\n",
    "x_m = xd12.x_Eia[:,:,0].flatten()"
   ]
  },
  {
   "cell_type": "code",
   "execution_count": 39,
   "id": "9880aebe-a669-408e-ba00-ac54c49ba717",
   "metadata": {},
   "outputs": [
    {
     "data": {
      "application/vnd.jupyter.widget-view+json": {
       "model_id": "112a9a3130894d47ba86212afb176159",
       "version_major": 2,
       "version_minor": 0
      },
      "text/plain": [
       "Canvas(toolbar=Toolbar(toolitems=[('Home', 'Reset original view', 'home', 'home'), ('Back', 'Back to previous …"
      ]
     },
     "metadata": {},
     "output_type": "display_data"
    },
    {
     "data": {
      "text/plain": [
       "<matplotlib.legend.Legend at 0x2dd228825e0>"
      ]
     },
     "execution_count": 39,
     "metadata": {},
     "output_type": "execute_result"
    }
   ],
   "source": [
    "time = m.hist.t\n",
    "f, (ax1, ax2, ax3, ax4) = plt.subplots(1,4)\n",
    "ax1.plot(time, sig_pi_N[:,0,0].flatten(), label='sigma')\n",
    "ax1.plot(time, sig_pi_N[:,0,1].flatten(), label='sigma')\n",
    "ax1.set_xlabel('time')\n",
    "ax1.set_ylabel('normal stress')\n",
    "ax1.legend()\n",
    "\n",
    "ax2.plot(time, sig_pi_Tx[:,0,0].flatten(), color='red', label='tau')\n",
    "ax2.set_xlabel('time')\n",
    "ax2.set_ylabel('tangential stress')\n",
    "ax2.legend()\n",
    "\n",
    "ax3.plot(time, omega_Nx[:,0,0].flatten(), color='red', label='normal damage')\n",
    "ax3.plot(time, omega_Tx[:,0,0].flatten(), color='green', label='tangential damage')\n",
    "\n",
    "ax3.set_xlabel('time')\n",
    "ax3.set_ylabel('damage')\n",
    "ax3.legend()\n",
    "\n",
    "ax4.plot(time, u_pi_N[:,0,0].flatten(), color='red', label='opening')\n",
    "ax4.set_xlabel('time')\n",
    "ax4.set_ylabel('opening')\n",
    "ax4.legend()"
   ]
  },
  {
   "cell_type": "code",
   "execution_count": 78,
   "id": "aee73987-c1c9-497d-9006-e8bf5f1f8eb0",
   "metadata": {},
   "outputs": [],
   "source": [
    "if True:\n",
    "    mlab.options.backend = 'envisage'\n",
    "    mlab.options.offscreen = False # 'envisage'\n",
    "    f_strain = mlab.figure()\n",
    "    scene = mlab.get_engine().scenes[-1]\n",
    "    scene.name = 'stress'\n",
    "    strain_viz = Viz3DTensorField(vis3d=m.hist['stress'])\n",
    "    strain_viz.setup()\n",
    "    strain_viz.warp_vector.filter.scale_factor = 0.1\n",
    "    strain_viz.plot(s.tstep.t_n)\n",
    "    mlab.show()"
   ]
  }
 ],
 "metadata": {
  "kernelspec": {
   "display_name": "bmcs_env",
   "language": "python",
   "name": "bmcs_env"
  },
  "language_info": {
   "codemirror_mode": {
    "name": "ipython",
    "version": 3
   },
   "file_extension": ".py",
   "mimetype": "text/x-python",
   "name": "python",
   "nbconvert_exporter": "python",
   "pygments_lexer": "ipython3",
   "version": "3.9.5"
  },
  "toc": {
   "base_numbering": 1,
   "nav_menu": {},
   "number_sections": true,
   "sideBar": true,
   "skip_h1_title": false,
   "title_cell": "Table of Contents",
   "title_sidebar": "Contents",
   "toc_cell": false,
   "toc_position": {},
   "toc_section_display": true,
   "toc_window_display": false
  }
 },
 "nbformat": 4,
 "nbformat_minor": 5
}
