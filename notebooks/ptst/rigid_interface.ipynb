{
 "cells": [
  {
   "cell_type": "markdown",
   "id": "4faf2840",
   "metadata": {},
   "source": [
    "# Working interface models"
   ]
  },
  {
   "cell_type": "code",
   "execution_count": 2,
   "id": "5453e041-98d8-4951-923c-b64809a003dd",
   "metadata": {},
   "outputs": [],
   "source": [
    "%matplotlib widget\n",
    "import time\n",
    "from bmcs_expsim.utils.mlab_decorators import decorate_figure\n",
    "from mayavi import mlab\n",
    "import numpy as np\n",
    "np.seterr(divide='ignore', invalid='ignore') \n",
    "import warnings\n",
    "import matplotlib.pylab as plt\n",
    "import numpy as np\n",
    "from ibvpy.api import TStepBC , TFCyclicNonsymmetricConstant, TFBilinear\n",
    "from ibvpy.bcond import BCSlice, BCDof\n",
    "from ibvpy.xmodel.xdomain_fe_grid_axisym import XDomainFEGridAxiSym\n",
    "from ibvpy.xmodel.xdomain_fe_grid import XDomainFEGrid\n",
    "from ibvpy.xmodel.xdomain_interface import XDomainFEInterface\n",
    "from ibvpy.fets import FETS2D4Q\n",
    "from ibvpy.fets.fets1D5 import FETS1D52ULRH\n",
    "from ibvpy.tmodel.viz3d_scalar_field import \\\n",
    "    Vis3DStateField, Viz3DScalarField\n",
    "from ibvpy.tmodel.viz3d_tensor_field import \\\n",
    "    Vis3DTensorField, Viz3DTensorField\n",
    "from bmcs_matmod.slide.vslide_34_TN_axisym import Slide34\n",
    "from ibvpy.tmodel.mats3D.mats3D_elastic.vmats3D_elastic import \\\n",
    "    MATS3DElastic\n",
    "from ibvpy.tmodel.mats2D.mats2D_elastic.vmats2D_elastic import \\\n",
    "    MATS2DElastic\n",
    "from bmcs_matmod.slide.slide_explorer import SlideExplorer"
   ]
  },
  {
   "cell_type": "markdown",
   "id": "e9920188-5785-4013-874a-6aa67a780722",
   "metadata": {},
   "source": [
    "# Single material point"
   ]
  },
  {
   "cell_type": "code",
   "execution_count": 7,
   "id": "77713d6d-6406-4692-8139-57add9e1a7c6",
   "metadata": {},
   "outputs": [],
   "source": [
    "%%capture\n",
    "import numpy as np\n",
    "material_params = dict(\n",
    "    E_T=1e6, gamma_T=0, K_T=0, S_T=100, c_T=1, bartau=6, \n",
    "    E_N=1e6, S_N=300, c_N = 1, m = 0.1, f_t=6, f_c=500, f_c0=400, eta=0.)\n",
    "\n",
    "eta_range = [0]\n",
    "se_N_list = []\n",
    "se_T_list = []\n",
    "\n",
    "for eta in eta_range:\n",
    "    material_params['eta'] = eta\n",
    "    se1 = SlideExplorer(n_steps=300, k_max=50)\n",
    "    se1.slide_model.trait_set(**material_params)\n",
    "    se1.trait_set(s_x_1 = 0, s_y_1 = 0, w_1 = 0.0001);\n",
    "    se1.run()\n",
    "    se_N_list.append(se1)\n",
    "\n",
    "\n",
    "\n",
    "    se2 = SlideExplorer(n_steps=300, k_max=50)\n",
    "    se2.slide_model.trait_set(**material_params)\n",
    "    se2.trait_set(s_x_1 =  0.0001, s_y_1 = 0, w_1 = 0);\n",
    "    se2.run()\n",
    "    se_T_list.append(se2)"
   ]
  },
  {
   "cell_type": "code",
   "execution_count": 9,
   "id": "0eac0315-0a56-4612-9c7a-7df8dd29976a",
   "metadata": {},
   "outputs": [
    {
     "data": {
      "application/vnd.jupyter.widget-view+json": {
       "model_id": "ab63e36c847744edb2ec20d7d8bc620b",
       "version_major": 2,
       "version_minor": 0
      },
      "text/html": [
       "\n",
       "            <div style=\"display: inline-block;\">\n",
       "                <div class=\"jupyter-widgets widget-label\" style=\"text-align: center;\">\n",
       "                    Figure\n",
       "                </div>\n",
       "                <img src='data:image/png;base64,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' width=1000.0/>\n",
       "            </div>\n",
       "        "
      ],
      "text/plain": [
       "Canvas(header_visible=False, toolbar=Toolbar(toolitems=[('Home', 'Reset original view', 'home', 'home'), ('Bac…"
      ]
     },
     "metadata": {},
     "output_type": "display_data"
    }
   ],
   "source": [
    "import matplotlib.pylab as plt\n",
    "fig, (ax_N,  ax_T) = plt.subplots(1,2, tight_layout=True, figsize=(10,4))\n",
    "fig.canvas.header_visible=False\n",
    "\n",
    "for se1, se2 in zip(se_N_list, se_T_list):\n",
    "\n",
    "    tau_x_pi_1, tau_y_pi_1, sig_pi_1, Z_1, X_x_1, X_y_1, Y_T_1, Y_N_1 = se1.Sig_arr.T\n",
    "    tau_x_pi_2, tau_y_pi_2, sig_pi_2, Z_2, X_x_2, X_y_2, Y_T_2, Y_N_2 = se2.Sig_arr.T\n",
    "\n",
    "    w_1 = np.linspace(0, se1.w_1, n_step_1)\n",
    "    s_x_2 = np.linspace(0, se2.s_x_1, n_step_2)\n",
    "\n",
    "    ax_N.plot(w_1, sig_pi_1)\n",
    "                 \n",
    "    ax_N.set_xlabel('$w$')\n",
    "    ax_N.set_ylabel('$\\sigma_N$')\n",
    "\n",
    "    ax_T.plot(s_x_2, tau_x_pi_2)\n",
    "    ax_T.set_xlabel('$s_x$')\n",
    "    ax_T.set_ylabel('$\\sigma_T$')"
   ]
  },
  {
   "cell_type": "markdown",
   "id": "2fdaf708-abed-418a-aaba-c6d00ebb6ec8",
   "metadata": {},
   "source": [
    "# FE Axisymmetric discretization"
   ]
  },
  {
   "cell_type": "code",
   "execution_count": 2,
   "id": "86afb862-3f07-4dd1-b5e8-b8f6c0f470d8",
   "metadata": {
    "scrolled": true,
    "tags": []
   },
   "outputs": [],
   "source": [
    "n_y_e = 1\n",
    "n_inner_x_e = 1\n",
    "n_outer_x_e = 1\n",
    "L_x = 1.0\n",
    "P = 1.0\n",
    "R_in = P / (2 * np.pi)\n",
    "# R_in = 1\n",
    "R_out = 2 * R_in\n",
    "xd_lower = XDomainFEGridAxiSym(integ_factor = 2 * np.pi,\n",
    "                         coord_min=(0, 0),\n",
    "                          coord_max=(L_x, R_in),\n",
    "                          shape=(n_y_e, n_inner_x_e),\n",
    "                          fets=FETS2D4Q())\n",
    "xd_upper = XDomainFEGridAxiSym(integ_factor = 2 * np.pi,\n",
    "                         coord_min=(0, R_in),\n",
    "                          coord_max=(L_x, R_out),\n",
    "                          shape=(n_y_e, n_outer_x_e),\n",
    "                          fets=FETS2D4Q())\n",
    "m1 = MATS3DElastic(E=37000, nu=0.18)\n",
    "m2 = MATS3DElastic(E=37000, nu=0.18)\n",
    "\n",
    "xd12 = XDomainFEInterface(\n",
    "    integ_factor =  2 * np.pi * R_in,\n",
    "    I=xd_lower.mesh.I[:, -1],\n",
    "    J=xd_upper.mesh.I[:, 0],\n",
    "    fets=FETS1D52ULRH()\n",
    ")"
   ]
  },
  {
   "cell_type": "code",
   "execution_count": 3,
   "id": "f534ef5a-6526-4ea0-8c4b-ca3f227ea92b",
   "metadata": {},
   "outputs": [],
   "source": [
    "material_params =  dict(\n",
    "     E_T=1e7, gamma_T=0, K_T=0, S_T=5, c_T=6, bartau=3, \n",
    "     E_N=1e7, S_N=5, c_N = 3, m = 0.1, f_t=2, f_c=60, f_c0 = 40, eta=0.)\n",
    "bond_m = Slide34(**material_params)"
   ]
  },
  {
   "cell_type": "code",
   "execution_count": 4,
   "id": "2234c2d6-8f85-47f7-a78b-0d0ee395c7f4",
   "metadata": {},
   "outputs": [],
   "source": [
    "m = TStepBC(\n",
    "    domains=[(xd_lower, m1),\n",
    "             (xd_upper, m2),\n",
    "             (xd12, bond_m),\n",
    "             ]\n",
    ")"
   ]
  },
  {
   "cell_type": "markdown",
   "id": "33fdcf27-0a5f-439c-9ed0-e353a2e78c02",
   "metadata": {},
   "source": [
    "## Compression/Traction fc"
   ]
  },
  {
   "cell_type": "code",
   "execution_count": 5,
   "id": "2690f169-bddb-4d7a-87c8-924cf3cfed90",
   "metadata": {
    "tags": []
   },
   "outputs": [],
   "source": [
    "lower_fixed_1 = BCSlice(slice=xd_lower.mesh[:, 0, :, 0], var='u', dims=[1], value=0)\n",
    "lower_fixed_0 = BCSlice(slice=xd_upper.mesh[0, :, 0, :], var='u', dims=[0], value=0)\n",
    "\n",
    "lower_slide_dummy = BCSlice(slice=xd_lower.mesh[0, :, 0, :], var='u', dims=[0], value=0.001)\n",
    "lower_slide_dofs = lower_slide_dummy.dofs\n",
    "\n",
    "\n",
    "upper_compression_slice = BCSlice(slice=xd_upper.mesh[:, -1, :, -1],\n",
    "         var='u', dims=[1], value=0.01)\n",
    "\n",
    "compression_dofs = upper_compression_slice.dofs\n",
    "compression = -20 / len(compression_dofs)\n",
    "upper_compression_force_first = [BCDof(var='f', dof=dof, value = compression) \n",
    "             for dof in compression_dofs ]\n",
    "bc1 = [lower_fixed_0, lower_fixed_1] + upper_compression_force_first"
   ]
  },
  {
   "cell_type": "code",
   "execution_count": 6,
   "id": "c7f94c19-f22a-4351-9484-26811a570aeb",
   "metadata": {},
   "outputs": [
    {
     "data": {
      "text/plain": [
       "-10.0"
      ]
     },
     "execution_count": 6,
     "metadata": {},
     "output_type": "execute_result"
    }
   ],
   "source": [
    "compression"
   ]
  },
  {
   "cell_type": "code",
   "execution_count": 7,
   "id": "5a93ddb8-9acc-432d-b471-f0717c0bb700",
   "metadata": {
    "tags": []
   },
   "outputs": [
    {
     "data": {
      "text/plain": [
       "[<ibvpy.sim.domain_state.DomainState at 0x2dd232f3400>,\n",
       " <ibvpy.sim.domain_state.DomainState at 0x2dd233170e0>,\n",
       " <ibvpy.sim.domain_state.DomainState at 0x2dd23317090>]"
      ]
     },
     "execution_count": 7,
     "metadata": {},
     "output_type": "execute_result"
    }
   ],
   "source": [
    "m.bc=bc1\n",
    "m.hist.vis_record = {\n",
    "#    'strain': Vis3DTensorField(var='eps_ab'),\n",
    "    'stress': Vis3DTensorField(var='sig_ab'),\n",
    "    #        'kinematic hardening': Vis3DStateField(var='z_a')\n",
    "}\n",
    "\n",
    "s = m.sim\n",
    "s.tloop.verbose = True\n",
    "s.tloop.k_max = 100\n",
    "s.tline.step = 0.01\n",
    "s.tstep.fe_domain.serialized_subdomains"
   ]
  },
  {
   "cell_type": "code",
   "execution_count": 8,
   "id": "83881814-4ed8-418c-a12a-ce67a95199d3",
   "metadata": {
    "scrolled": true
   },
   "outputs": [
    {
     "name": "stdout",
     "output_type": "stream",
     "text": [
      "t:\t 0.00(0), \n",
      "\t 0.01(1), \n",
      "\t 0.02(1), \n",
      "\t 0.03(1), \n",
      "\t 0.04(1), \n",
      "\t 0.05(1), \n",
      "\t 0.06(1), \n",
      "\t 0.07(1), \n",
      "\t 0.08(1), \n",
      "\t 0.09(1), \n",
      "\t 0.10(1), \n",
      "\t 0.11(1), \n",
      "\t 0.12(1), \n",
      "\t 0.13(1), \n",
      "\t 0.14(1), \n",
      "\t 0.15(1), \n",
      "\t 0.16(1), \n",
      "\t 0.17(1), \n",
      "\t 0.18(1), \n",
      "\t 0.19(1), \n",
      "\t 0.20(1), \n",
      "\t 0.21(1), \n",
      "\t 0.22(1), \n",
      "\t 0.23(1), \n",
      "\t 0.24(1), \n",
      "\t 0.25(1), \n",
      "\t 0.26(1), \n",
      "\t 0.27(1), \n",
      "\t 0.28(1), \n",
      "\t 0.29(1), \n",
      "\t 0.30(1), \n",
      "\t 0.31(1), \n",
      "\t 0.32(1), \n",
      "\t 0.33(1), \n",
      "\t 0.34(1), \n",
      "\t 0.35(1), \n",
      "\t 0.36(1), \n",
      "\t 0.37(1), \n",
      "\t 0.38(1), \n",
      "\t 0.39(1), \n",
      "\t 0.40(1), \n",
      "\t 0.41(1), \n",
      "\t 0.42(1), \n",
      "\t 0.43(1), \n",
      "\t 0.44(1), \n",
      "\t 0.45(1), \n",
      "\t 0.46(1), \n",
      "\t 0.47(1), \n",
      "\t 0.48(1), \n",
      "\t 0.49(1), \n",
      "\t 0.50(1), \n",
      "\t 0.51(1), \n",
      "\t 0.52(1), \n",
      "\t 0.53(1), \n",
      "\t 0.54(1), \n",
      "\t 0.55(1), \n",
      "\t 0.56(1), \n",
      "\t 0.57(1), \n",
      "\t 0.58(1), \n",
      "\t 0.59(1), \n",
      "\t 0.60(1), \n",
      "\t 0.61(1), \n",
      "\t 0.62(1), \n",
      "\t 0.63(1), \n",
      "\t 0.64(1), \n",
      "\t 0.65(1), \n",
      "\t 0.66(1), \n",
      "\t 0.67(1), \n",
      "\t 0.68(1), \n",
      "\t 0.69(1), \n",
      "\t 0.70(1), \n",
      "\t 0.71(1), \n",
      "\t 0.72(1), \n",
      "\t 0.73(1), \n",
      "\t 0.74(1), \n",
      "\t 0.75(1), \n",
      "\t 0.76(1), \n",
      "\t 0.77(1), \n",
      "\t 0.78(1), \n",
      "\t 0.79(1), \n",
      "\t 0.80(1), \n",
      "\t 0.81(1), \n",
      "\t 0.82(1), \n",
      "\t 0.83(1), \n",
      "\t 0.84(1), \n",
      "\t 0.85(1), \n",
      "\t 0.86(1), \n",
      "\t 0.87(1), \n",
      "\t 0.88(1), \n",
      "\t 0.89(1), \n",
      "\t 0.90(1), \n",
      "\t 0.91(1), \n",
      "\t 0.92(1), \n",
      "\t 0.93(1), \n",
      "\t 0.94(1), \n",
      "\t 0.95(1), \n",
      "\t 0.96(1), \n",
      "\t 0.97(1), \n",
      "\t 0.98(1), \n",
      "\t 0.99(1), \n",
      "\t 1.00(1), \n",
      "\n"
     ]
    }
   ],
   "source": [
    "xd12.hidden = True\n",
    "s.reset()\n",
    "s.run()"
   ]
  },
  {
   "cell_type": "code",
   "execution_count": 9,
   "id": "cf874ac1-e769-4828-8449-3c497c45b91d",
   "metadata": {},
   "outputs": [],
   "source": [
    "F_to = m.hist.F_t\n",
    "U_to = m.hist.U_t\n",
    "U_compression = np.average(U_to[:, compression_dofs], axis=-1)\n",
    "U_slide = np.average(U_to[:, lower_slide_dofs], axis=-1)\n",
    "\n",
    "states_t = [states_t[2] for states_t in m.hist.state_vars]\n",
    "var_names = states_t[0].keys()\n",
    "EpsSig_t = {\n",
    "    var_name: np.array([ state_dict[var_name] for state_dict in states_t ]) \n",
    "    for var_name in var_names \n",
    "}\n",
    "u_pi_N = EpsSig_t['w_pi']\n",
    "u_pi_Tx = EpsSig_t['s_pi_x']\n",
    "sig_pi_N = EpsSig_t['sig_pi']\n",
    "sig_pi_Tx = EpsSig_t['tau_pi_x']\n",
    "sig_pi_Ty = EpsSig_t['tau_pi_y']\n",
    "omega_Nx = EpsSig_t['omega_N']\n",
    "omega_Tx = EpsSig_t['omega_T']\n",
    "x_m = xd12.x_Eia[:,:,0].flatten()"
   ]
  },
  {
   "cell_type": "code",
   "execution_count": 10,
   "id": "ef2c933c-879d-450d-a916-3fe2eb649078",
   "metadata": {},
   "outputs": [
    {
     "data": {
      "application/vnd.jupyter.widget-view+json": {
       "model_id": "3d255360b46248638488c4be2e0bc114",
       "version_major": 2,
       "version_minor": 0
      },
      "text/plain": [
       "Canvas(toolbar=Toolbar(toolitems=[('Home', 'Reset original view', 'home', 'home'), ('Back', 'Back to previous …"
      ]
     },
     "metadata": {},
     "output_type": "display_data"
    }
   ],
   "source": [
    "time = m.hist.t\n",
    "f, (ax1, ax2, ax3, ax4) = plt.subplots(1,4, figsize=(10, 3))\n",
    "\n",
    "ax1.plot(U_compression, sig_pi_N[:,0,0].flatten(), label='sigma')\n",
    "ax1.plot(U_compression, sig_pi_N[:,0,1].flatten(), label='sigma')\n",
    "ax1.set_xlabel('displacement [mm]')\n",
    "ax1.set_ylabel('normal stress')\n",
    "ax1.legend()\n",
    "\n",
    "ax2.plot(U_slide, sig_pi_Tx[:,0,0].flatten(), color='red', label='tau')\n",
    "ax2.set_xlabel('displacement [mm]')\n",
    "ax2.set_ylabel('tangential stress')\n",
    "ax2.legend()\n",
    "\n",
    "ax3.plot(time, omega_Nx[:,0,0].flatten(), color='red', label='normal damage')\n",
    "ax3.plot(time, omega_Tx[:,0,0].flatten(), color='green', label='tangential damage')\n",
    "\n",
    "ax3.set_xlabel('time')\n",
    "ax3.set_ylabel('damage')\n",
    "ax3.legend()\n",
    "\n",
    "ax4.plot(time, u_pi_N[:,0,0].flatten(), color='red', label='opening')\n",
    "ax4.set_xlabel('time')\n",
    "ax4.set_ylabel('opening')\n",
    "ax4.legend()\n",
    "plt.tight_layout()\n"
   ]
  },
  {
   "cell_type": "code",
   "execution_count": 551,
   "id": "0a47be30-e3c6-4422-ad3a-95eed17df35e",
   "metadata": {},
   "outputs": [],
   "source": [
    "# if True:\n",
    "#     mlab.options.backend = 'envisage'\n",
    "#     mlab.options.offscreen = False # 'envisage'\n",
    "#     f_strain = mlab.figure()\n",
    "#     scene = mlab.get_engine().scenes[-1]\n",
    "#     scene.name = 'stress'\n",
    "#     strain_viz = Viz3DTensorField(vis3d=m.hist['stress'])\n",
    "#     strain_viz.setup()\n",
    "#     strain_viz.warp_vector.filter.scale_factor = 0.1\n",
    "#     strain_viz.plot(s.tstep.t_n)\n",
    "#     mlab.show()"
   ]
  },
  {
   "cell_type": "markdown",
   "id": "b6eae98d-d05c-4f33-949a-ffd8d17d4d9e",
   "metadata": {},
   "source": [
    "## Sliding dc"
   ]
  },
  {
   "cell_type": "code",
   "execution_count": 26,
   "id": "4753eaa3-c9c5-4f96-b5f7-9fbca94ea7f6",
   "metadata": {},
   "outputs": [],
   "source": [
    "material_params =  dict(\n",
    "     E_T=1e7, gamma_T=1e5, K_T=0, S_T=0.5, c_T=6, bartau=3, \n",
    "     E_N=1e7, S_N=0.5, c_N = 3, m = 0.05, f_t=2, f_c=60, f_c0 = 40, eta=0.)\n",
    "bond_m = Slide34(**material_params)"
   ]
  },
  {
   "cell_type": "code",
   "execution_count": 27,
   "id": "0449a6e2-74ba-456e-8341-e87b5f65fefd",
   "metadata": {
    "tags": []
   },
   "outputs": [],
   "source": [
    "lower_fixed_0 = BCSlice(slice=xd_lower.mesh[:, 0, :, 0], var='u', dims=[1], value=0)\n",
    "upper_fixed_1 = BCSlice(slice=xd_upper.mesh[0, :, 0, :], var='u', dims=[0], value=0)\n",
    "\n",
    "lower_slide = BCSlice(slice=xd_lower.mesh[-1, :, -1, :], var='u', dims=[0], value=0.001)\n",
    "lower_slide_dofs = lower_slide_dummy.dofs\n",
    "\n",
    "upper_compression_slice = BCSlice(slice=xd_upper.mesh[:, -1, :, -1],\n",
    "         var='u', dims=[1], value=0.01)\n",
    "\n",
    "compression_dofs = upper_compression_slice.dofs\n",
    "\n",
    "bc1 =   [lower_fixed_0, upper_fixed_1, lower_slide]"
   ]
  },
  {
   "cell_type": "code",
   "execution_count": 28,
   "id": "2514f689-ce3c-4762-a6c3-aac7828805fb",
   "metadata": {
    "tags": []
   },
   "outputs": [],
   "source": [
    "m = TStepBC(\n",
    "    domains=[(xd_lower, m1),\n",
    "             (xd_upper, m2),\n",
    "             (xd12, bond_m),\n",
    "             ]\n",
    ")"
   ]
  },
  {
   "cell_type": "code",
   "execution_count": 29,
   "id": "59397b06-8db2-421c-801a-a304fe3b7648",
   "metadata": {
    "tags": []
   },
   "outputs": [
    {
     "data": {
      "text/plain": [
       "[<ibvpy.sim.domain_state.DomainState at 0x2dd2ba62900>,\n",
       " <ibvpy.sim.domain_state.DomainState at 0x2dd2b94cf90>,\n",
       " <ibvpy.sim.domain_state.DomainState at 0x2dd2ba52040>]"
      ]
     },
     "execution_count": 29,
     "metadata": {},
     "output_type": "execute_result"
    }
   ],
   "source": [
    "m.bc=bc1\n",
    "m.hist.vis_record = {\n",
    "#    'strain': Vis3DTensorField(var='eps_ab'),\n",
    "    'stress': Vis3DTensorField(var='sig_ab'),\n",
    "    #        'kinematic hardening': Vis3DStateField(var='z_a')\n",
    "}\n",
    "\n",
    "s = m.sim\n",
    "s.tloop.verbose = True\n",
    "s.tloop.k_max = 100\n",
    "s.tline.step = 0.01\n",
    "s.tstep.fe_domain.serialized_subdomains"
   ]
  },
  {
   "cell_type": "code",
   "execution_count": 30,
   "id": "7c5bc358-18fb-4f73-ad47-aecd1d3999d7",
   "metadata": {
    "scrolled": true
   },
   "outputs": [
    {
     "name": "stdout",
     "output_type": "stream",
     "text": [
      "t:\t 0.00(0), \n",
      "\t 0.01(1), \n",
      "\t 0.02(1), \n",
      "\t 0.03(1), \n",
      "\t 0.04(1), \n",
      "\t 0.05(1), \n",
      "\t 0.06(1), \n",
      "\t 0.07(1), \n",
      "\t 0.08(1), \n",
      "\t 0.09(1), \n",
      "\t 0.10(1), \n",
      "\t 0.11(1), \n",
      "\t 0.12(1), \n",
      "\t 0.13(1), \n",
      "\t 0.14(1), \n",
      "\t 0.15(1), \n",
      "\t 0.16(1), \n",
      "\t 0.17(1), \n",
      "\t 0.18\n"
     ]
    },
    {
     "ename": "StopIteration",
     "evalue": "Warning: convergence not reached in 100 iterations",
     "output_type": "error",
     "traceback": [
      "\u001b[1;31m---------------------------------------------------------------------------\u001b[0m",
      "\u001b[1;31mStopIteration\u001b[0m                             Traceback (most recent call last)",
      "\u001b[1;32m<ipython-input-30-905e2f2b18d9>\u001b[0m in \u001b[0;36m<module>\u001b[1;34m\u001b[0m\n\u001b[0;32m      1\u001b[0m \u001b[0mxd12\u001b[0m\u001b[1;33m.\u001b[0m\u001b[0mhidden\u001b[0m \u001b[1;33m=\u001b[0m \u001b[1;32mTrue\u001b[0m\u001b[1;33m\u001b[0m\u001b[1;33m\u001b[0m\u001b[0m\n\u001b[0;32m      2\u001b[0m \u001b[0ms\u001b[0m\u001b[1;33m.\u001b[0m\u001b[0mreset\u001b[0m\u001b[1;33m(\u001b[0m\u001b[1;33m)\u001b[0m\u001b[1;33m\u001b[0m\u001b[1;33m\u001b[0m\u001b[0m\n\u001b[1;32m----> 3\u001b[1;33m \u001b[0ms\u001b[0m\u001b[1;33m.\u001b[0m\u001b[0mrun\u001b[0m\u001b[1;33m(\u001b[0m\u001b[1;33m)\u001b[0m\u001b[1;33m\u001b[0m\u001b[1;33m\u001b[0m\u001b[0m\n\u001b[0m",
      "\u001b[1;32mc:\\users\\marag\\pycharmprojects\\bmcs_ibvpy\\ibvpy\\sim\\sim_base.py\u001b[0m in \u001b[0;36mrun\u001b[1;34m(self)\u001b[0m\n\u001b[0;32m     57\u001b[0m         r'''Run a thread if it does not exist - do nothing otherwise\n\u001b[0;32m     58\u001b[0m         '''\n\u001b[1;32m---> 59\u001b[1;33m         \u001b[0mself\u001b[0m\u001b[1;33m.\u001b[0m\u001b[0mtloop\u001b[0m\u001b[1;33m(\u001b[0m\u001b[1;33m)\u001b[0m\u001b[1;33m\u001b[0m\u001b[1;33m\u001b[0m\u001b[0m\n\u001b[0m\u001b[0;32m     60\u001b[0m         \u001b[1;32mreturn\u001b[0m\u001b[1;33m\u001b[0m\u001b[1;33m\u001b[0m\u001b[0m\n\u001b[0;32m     61\u001b[0m \u001b[1;33m\u001b[0m\u001b[0m\n",
      "\u001b[1;32mc:\\users\\marag\\pycharmprojects\\bmcs_ibvpy\\ibvpy\\sim\\tloop.py\u001b[0m in \u001b[0;36m__call__\u001b[1;34m(self)\u001b[0m\n\u001b[0;32m     63\u001b[0m     \u001b[1;32mdef\u001b[0m \u001b[0m__call__\u001b[0m\u001b[1;33m(\u001b[0m\u001b[0mself\u001b[0m\u001b[1;33m)\u001b[0m\u001b[1;33m:\u001b[0m\u001b[1;33m\u001b[0m\u001b[1;33m\u001b[0m\u001b[0m\n\u001b[0;32m     64\u001b[0m         \u001b[0mself\u001b[0m\u001b[1;33m.\u001b[0m\u001b[0minit\u001b[0m\u001b[1;33m(\u001b[0m\u001b[1;33m)\u001b[0m\u001b[1;33m\u001b[0m\u001b[1;33m\u001b[0m\u001b[0m\n\u001b[1;32m---> 65\u001b[1;33m         \u001b[1;32mreturn\u001b[0m \u001b[0mself\u001b[0m\u001b[1;33m.\u001b[0m\u001b[0meval\u001b[0m\u001b[1;33m(\u001b[0m\u001b[1;33m)\u001b[0m\u001b[1;33m\u001b[0m\u001b[1;33m\u001b[0m\u001b[0m\n\u001b[0m",
      "\u001b[1;32mc:\\users\\marag\\pycharmprojects\\bmcs_ibvpy\\ibvpy\\sim\\tloop_implicit.py\u001b[0m in \u001b[0;36meval\u001b[1;34m(self)\u001b[0m\n\u001b[0;32m     50\u001b[0m                     \u001b[0mself\u001b[0m\u001b[1;33m.\u001b[0m\u001b[0mrestart\u001b[0m \u001b[1;33m=\u001b[0m \u001b[1;32mTrue\u001b[0m\u001b[1;33m\u001b[0m\u001b[1;33m\u001b[0m\u001b[0m\n\u001b[0;32m     51\u001b[0m                     \u001b[0mprint\u001b[0m\u001b[1;33m(\u001b[0m\u001b[1;34m''\u001b[0m\u001b[1;33m)\u001b[0m\u001b[1;33m\u001b[0m\u001b[1;33m\u001b[0m\u001b[0m\n\u001b[1;32m---> 52\u001b[1;33m                     raise StopIteration('Warning: '\n\u001b[0m\u001b[0;32m     53\u001b[0m                                         'convergence not reached in %g iterations' % k)\n\u001b[0;32m     54\u001b[0m                 \u001b[1;32mreturn\u001b[0m\u001b[1;33m\u001b[0m\u001b[1;33m\u001b[0m\u001b[0m\n",
      "\u001b[1;31mStopIteration\u001b[0m: Warning: convergence not reached in 100 iterations"
     ]
    }
   ],
   "source": [
    "xd12.hidden = True\n",
    "s.reset()\n",
    "s.run()"
   ]
  },
  {
   "cell_type": "code",
   "execution_count": 31,
   "id": "af93af48-bd1a-45ae-8abd-a35460f0bcb2",
   "metadata": {},
   "outputs": [],
   "source": [
    "F_to = m.hist.F_t\n",
    "U_to = m.hist.U_t\n",
    "U_compression = np.average(U_to[:, compression_dofs], axis=-1)\n",
    "U_slide = np.average(U_to[:, lower_slide_dofs], axis=-1)\n",
    "\n",
    "states_t = [states_t[2] for states_t in m.hist.state_vars]\n",
    "var_names = states_t[0].keys()\n",
    "EpsSig_t = {\n",
    "    var_name: np.array([ state_dict[var_name] for state_dict in states_t ]) \n",
    "    for var_name in var_names \n",
    "}\n",
    "u_pi_N = EpsSig_t['w_pi']\n",
    "u_pi_Tx = EpsSig_t['s_pi_x']\n",
    "sig_pi_N = EpsSig_t['sig_pi']\n",
    "sig_pi_Tx = EpsSig_t['tau_pi_x']\n",
    "sig_pi_Ty = EpsSig_t['tau_pi_y']\n",
    "omega_Nx = EpsSig_t['omega_N']\n",
    "omega_Tx = EpsSig_t['omega_T']\n",
    "x_m = xd12.x_Eia[:,:,0].flatten()"
   ]
  },
  {
   "cell_type": "code",
   "execution_count": 32,
   "id": "cfd24e57-07f6-443f-ab61-df645bbc6057",
   "metadata": {},
   "outputs": [
    {
     "data": {
      "application/vnd.jupyter.widget-view+json": {
       "model_id": "ecb9fbae7014444aa0a34e618114a5fa",
       "version_major": 2,
       "version_minor": 0
      },
      "text/plain": [
       "Canvas(toolbar=Toolbar(toolitems=[('Home', 'Reset original view', 'home', 'home'), ('Back', 'Back to previous …"
      ]
     },
     "metadata": {},
     "output_type": "display_data"
    }
   ],
   "source": [
    "time = m.hist.t\n",
    "f, (ax1, ax2, ax3, ax4) = plt.subplots(1,4, figsize=(10, 3))\n",
    "\n",
    "ax1.plot(U_compression, sig_pi_N[:,0,0].flatten(), label='sigma')\n",
    "ax1.plot(U_compression, sig_pi_N[:,0,1].flatten(), label='sigma')\n",
    "ax1.set_xlabel('displacement [mm]')\n",
    "ax1.set_ylabel('normal stress')\n",
    "ax1.legend()\n",
    "\n",
    "ax2.plot(U_slide, sig_pi_Tx[:,0,0].flatten(), color='red', label='tau')\n",
    "ax2.set_xlabel('displacement [mm]')\n",
    "ax2.set_ylabel('tangential stress')\n",
    "ax2.legend()\n",
    "\n",
    "ax3.plot(time, omega_Nx[:,0,0].flatten(), color='red', label='normal damage')\n",
    "ax3.plot(time, omega_Tx[:,0,0].flatten(), color='green', label='tangential damage')\n",
    "\n",
    "ax3.set_xlabel('time')\n",
    "ax3.set_ylabel('damage')\n",
    "ax3.legend()\n",
    "\n",
    "ax4.plot(time, u_pi_N[:,0,0].flatten(), color='red', label='opening')\n",
    "ax4.set_xlabel('time')\n",
    "ax4.set_ylabel('opening')\n",
    "ax4.legend()\n",
    "plt.tight_layout()\n"
   ]
  },
  {
   "cell_type": "code",
   "execution_count": 33,
   "id": "90a0a746-3ebe-4bb1-82dc-35059f25d994",
   "metadata": {},
   "outputs": [],
   "source": [
    "if True:\n",
    "    mlab.options.backend = 'envisage'\n",
    "    mlab.options.offscreen = False # 'envisage'\n",
    "    f_strain = mlab.figure()\n",
    "    scene = mlab.get_engine().scenes[-1]\n",
    "    scene.name = 'stress'\n",
    "    strain_viz = Viz3DTensorField(vis3d=m.hist['stress'])\n",
    "    strain_viz.setup()\n",
    "    strain_viz.warp_vector.filter.scale_factor = 0.1\n",
    "    strain_viz.plot(s.tstep.t_n)\n",
    "    mlab.show()"
   ]
  },
  {
   "cell_type": "markdown",
   "id": "25cf6602-f09e-45cb-9916-29dd9857bed4",
   "metadata": {},
   "source": [
    "## Sliding fc"
   ]
  },
  {
   "cell_type": "code",
   "execution_count": 34,
   "id": "c3b5ccf9-7691-44af-943f-eb3d6253e34f",
   "metadata": {
    "tags": []
   },
   "outputs": [],
   "source": [
    "lower_fixed_0 = BCSlice(slice=xd_lower.mesh[:, 0, :, 0], var='u', dims=[1], value=0)\n",
    "upper_fixed_1 = BCSlice(slice=xd_upper.mesh[-1, :, 0-1, :], var='u', dims=[0], value=0)\n",
    "\n",
    "lower_slide = BCSlice(slice=xd_lower.mesh[0, :, 0, :], var='u', dims=[0], value=0)\n",
    "Force = 4 / len(lower_slide.dofs)\n",
    "lower_slide_force = [BCDof(var='f', dof=dof, value = Force) \n",
    "            for dof in lower_slide.dofs]\n",
    "\n",
    "bc1 =   [lower_fixed_0, upper_fixed_1] + lower_slide_force"
   ]
  },
  {
   "cell_type": "code",
   "execution_count": 35,
   "id": "b3c28253-1707-4ff9-8dff-1645ad2e1b4c",
   "metadata": {
    "tags": []
   },
   "outputs": [],
   "source": [
    "m = TStepBC(\n",
    "    domains=[(xd_lower, m1),\n",
    "             (xd_upper, m2),\n",
    "             (xd12, bond_m),\n",
    "             ]\n",
    ")"
   ]
  },
  {
   "cell_type": "code",
   "execution_count": 36,
   "id": "63d6ec58-969a-4ca3-9fa8-76c0cf729fb0",
   "metadata": {
    "tags": []
   },
   "outputs": [
    {
     "data": {
      "text/plain": [
       "[<ibvpy.sim.domain_state.DomainState at 0x2dd5071d360>,\n",
       " <ibvpy.sim.domain_state.DomainState at 0x2dd4f9a5590>,\n",
       " <ibvpy.sim.domain_state.DomainState at 0x2dd4f9a5630>]"
      ]
     },
     "execution_count": 36,
     "metadata": {},
     "output_type": "execute_result"
    }
   ],
   "source": [
    "m.bc=bc1\n",
    "m.hist.vis_record = {\n",
    "#    'strain': Vis3DTensorField(var='eps_ab'),\n",
    "    'stress': Vis3DTensorField(var='sig_ab'),\n",
    "    #        'kinematic hardening': Vis3DStateField(var='z_a')\n",
    "}\n",
    "\n",
    "s = m.sim\n",
    "s.tloop.verbose = True\n",
    "s.tloop.k_max = 100\n",
    "s.tline.step = 0.01\n",
    "s.tstep.fe_domain.serialized_subdomains"
   ]
  },
  {
   "cell_type": "code",
   "execution_count": 37,
   "id": "c162ca46-74e8-4fbc-84b9-c280810f4d33",
   "metadata": {
    "scrolled": true
   },
   "outputs": [
    {
     "name": "stdout",
     "output_type": "stream",
     "text": [
      "t:\t 0.00(0), \n",
      "\t 0.01(1), \n",
      "\t 0.02(1), \n",
      "\t 0.03(1), \n",
      "\t 0.04(1), \n",
      "\t 0.05(1), \n",
      "\t 0.06(1), \n",
      "\t 0.07(1), \n",
      "\t 0.08(1), \n",
      "\t 0.09(1), \n",
      "\t 0.10(1), \n",
      "\t 0.11(1), \n",
      "\t 0.12(1), \n",
      "\t 0.13(1), \n",
      "\t 0.14(1), \n",
      "\t 0.15(1), \n",
      "\t 0.16(1), \n",
      "\t 0.17(1), \n",
      "\t 0.18(1), \n",
      "\t 0.19(1), \n",
      "\t 0.20(1), \n",
      "\t 0.21(1), \n",
      "\t 0.22(1), \n",
      "\t 0.23(1), \n",
      "\t 0.24(1), \n",
      "\t 0.25(1), \n",
      "\t 0.26(1), \n",
      "\t 0.27(1), \n",
      "\t 0.28(1), \n",
      "\t 0.29(1), \n",
      "\t 0.30(1), \n",
      "\t 0.31(1), \n",
      "\t 0.32(1), \n",
      "\t 0.33(1), \n",
      "\t 0.34(1), \n",
      "\t 0.35(1), \n",
      "\t 0.36(1), \n",
      "\t 0.37(1), \n",
      "\t 0.38(1), \n",
      "\t 0.39(1), \n",
      "\t 0.40(1), \n",
      "\t 0.41(1), \n",
      "\t 0.42(1), \n",
      "\t 0.43(1), \n",
      "\t 0.44(1), \n",
      "\t 0.45(1), \n",
      "\t 0.46(1), \n",
      "\t 0.47(1), \n",
      "\t 0.48(1), \n",
      "\t 0.49(1), \n",
      "\t 0.50(1), \n",
      "\t 0.51(1), \n",
      "\t 0.52(1), \n",
      "\t 0.53\n"
     ]
    },
    {
     "ename": "StopIteration",
     "evalue": "Warning: convergence not reached in 100 iterations",
     "output_type": "error",
     "traceback": [
      "\u001b[1;31m---------------------------------------------------------------------------\u001b[0m",
      "\u001b[1;31mStopIteration\u001b[0m                             Traceback (most recent call last)",
      "\u001b[1;32m<ipython-input-37-905e2f2b18d9>\u001b[0m in \u001b[0;36m<module>\u001b[1;34m\u001b[0m\n\u001b[0;32m      1\u001b[0m \u001b[0mxd12\u001b[0m\u001b[1;33m.\u001b[0m\u001b[0mhidden\u001b[0m \u001b[1;33m=\u001b[0m \u001b[1;32mTrue\u001b[0m\u001b[1;33m\u001b[0m\u001b[1;33m\u001b[0m\u001b[0m\n\u001b[0;32m      2\u001b[0m \u001b[0ms\u001b[0m\u001b[1;33m.\u001b[0m\u001b[0mreset\u001b[0m\u001b[1;33m(\u001b[0m\u001b[1;33m)\u001b[0m\u001b[1;33m\u001b[0m\u001b[1;33m\u001b[0m\u001b[0m\n\u001b[1;32m----> 3\u001b[1;33m \u001b[0ms\u001b[0m\u001b[1;33m.\u001b[0m\u001b[0mrun\u001b[0m\u001b[1;33m(\u001b[0m\u001b[1;33m)\u001b[0m\u001b[1;33m\u001b[0m\u001b[1;33m\u001b[0m\u001b[0m\n\u001b[0m",
      "\u001b[1;32mc:\\users\\marag\\pycharmprojects\\bmcs_ibvpy\\ibvpy\\sim\\sim_base.py\u001b[0m in \u001b[0;36mrun\u001b[1;34m(self)\u001b[0m\n\u001b[0;32m     57\u001b[0m         r'''Run a thread if it does not exist - do nothing otherwise\n\u001b[0;32m     58\u001b[0m         '''\n\u001b[1;32m---> 59\u001b[1;33m         \u001b[0mself\u001b[0m\u001b[1;33m.\u001b[0m\u001b[0mtloop\u001b[0m\u001b[1;33m(\u001b[0m\u001b[1;33m)\u001b[0m\u001b[1;33m\u001b[0m\u001b[1;33m\u001b[0m\u001b[0m\n\u001b[0m\u001b[0;32m     60\u001b[0m         \u001b[1;32mreturn\u001b[0m\u001b[1;33m\u001b[0m\u001b[1;33m\u001b[0m\u001b[0m\n\u001b[0;32m     61\u001b[0m \u001b[1;33m\u001b[0m\u001b[0m\n",
      "\u001b[1;32mc:\\users\\marag\\pycharmprojects\\bmcs_ibvpy\\ibvpy\\sim\\tloop.py\u001b[0m in \u001b[0;36m__call__\u001b[1;34m(self)\u001b[0m\n\u001b[0;32m     63\u001b[0m     \u001b[1;32mdef\u001b[0m \u001b[0m__call__\u001b[0m\u001b[1;33m(\u001b[0m\u001b[0mself\u001b[0m\u001b[1;33m)\u001b[0m\u001b[1;33m:\u001b[0m\u001b[1;33m\u001b[0m\u001b[1;33m\u001b[0m\u001b[0m\n\u001b[0;32m     64\u001b[0m         \u001b[0mself\u001b[0m\u001b[1;33m.\u001b[0m\u001b[0minit\u001b[0m\u001b[1;33m(\u001b[0m\u001b[1;33m)\u001b[0m\u001b[1;33m\u001b[0m\u001b[1;33m\u001b[0m\u001b[0m\n\u001b[1;32m---> 65\u001b[1;33m         \u001b[1;32mreturn\u001b[0m \u001b[0mself\u001b[0m\u001b[1;33m.\u001b[0m\u001b[0meval\u001b[0m\u001b[1;33m(\u001b[0m\u001b[1;33m)\u001b[0m\u001b[1;33m\u001b[0m\u001b[1;33m\u001b[0m\u001b[0m\n\u001b[0m",
      "\u001b[1;32mc:\\users\\marag\\pycharmprojects\\bmcs_ibvpy\\ibvpy\\sim\\tloop_implicit.py\u001b[0m in \u001b[0;36meval\u001b[1;34m(self)\u001b[0m\n\u001b[0;32m     50\u001b[0m                     \u001b[0mself\u001b[0m\u001b[1;33m.\u001b[0m\u001b[0mrestart\u001b[0m \u001b[1;33m=\u001b[0m \u001b[1;32mTrue\u001b[0m\u001b[1;33m\u001b[0m\u001b[1;33m\u001b[0m\u001b[0m\n\u001b[0;32m     51\u001b[0m                     \u001b[0mprint\u001b[0m\u001b[1;33m(\u001b[0m\u001b[1;34m''\u001b[0m\u001b[1;33m)\u001b[0m\u001b[1;33m\u001b[0m\u001b[1;33m\u001b[0m\u001b[0m\n\u001b[1;32m---> 52\u001b[1;33m                     raise StopIteration('Warning: '\n\u001b[0m\u001b[0;32m     53\u001b[0m                                         'convergence not reached in %g iterations' % k)\n\u001b[0;32m     54\u001b[0m                 \u001b[1;32mreturn\u001b[0m\u001b[1;33m\u001b[0m\u001b[1;33m\u001b[0m\u001b[0m\n",
      "\u001b[1;31mStopIteration\u001b[0m: Warning: convergence not reached in 100 iterations"
     ]
    }
   ],
   "source": [
    "xd12.hidden = True\n",
    "s.reset()\n",
    "s.run()"
   ]
  },
  {
   "cell_type": "code",
   "execution_count": 38,
   "id": "d8ac0678-3177-4005-95aa-c8d3c85355e0",
   "metadata": {},
   "outputs": [],
   "source": [
    "states_t = [states_t[2] for states_t in m.hist.state_vars]\n",
    "var_names = states_t[0].keys()\n",
    "EpsSig_t = {\n",
    "    var_name: np.array([ state_dict[var_name] for state_dict in states_t ]) \n",
    "    for var_name in var_names \n",
    "}\n",
    "u_pi_N = EpsSig_t['w_pi']\n",
    "u_pi_Tx = EpsSig_t['s_pi_x']\n",
    "sig_pi_N = EpsSig_t['sig_pi']\n",
    "sig_pi_Tx = EpsSig_t['tau_pi_x']\n",
    "sig_pi_Ty = EpsSig_t['tau_pi_y']\n",
    "omega_Nx = EpsSig_t['omega_N']\n",
    "omega_Tx = EpsSig_t['omega_T']\n",
    "x_m = xd12.x_Eia[:,:,0].flatten()"
   ]
  },
  {
   "cell_type": "code",
   "execution_count": 39,
   "id": "9880aebe-a669-408e-ba00-ac54c49ba717",
   "metadata": {},
   "outputs": [
    {
     "data": {
      "application/vnd.jupyter.widget-view+json": {
       "model_id": "112a9a3130894d47ba86212afb176159",
       "version_major": 2,
       "version_minor": 0
      },
      "text/plain": [
       "Canvas(toolbar=Toolbar(toolitems=[('Home', 'Reset original view', 'home', 'home'), ('Back', 'Back to previous …"
      ]
     },
     "metadata": {},
     "output_type": "display_data"
    },
    {
     "data": {
      "text/plain": [
       "<matplotlib.legend.Legend at 0x2dd228825e0>"
      ]
     },
     "execution_count": 39,
     "metadata": {},
     "output_type": "execute_result"
    }
   ],
   "source": [
    "time = m.hist.t\n",
    "f, (ax1, ax2, ax3, ax4) = plt.subplots(1,4)\n",
    "ax1.plot(time, sig_pi_N[:,0,0].flatten(), label='sigma')\n",
    "ax1.plot(time, sig_pi_N[:,0,1].flatten(), label='sigma')\n",
    "ax1.set_xlabel('time')\n",
    "ax1.set_ylabel('normal stress')\n",
    "ax1.legend()\n",
    "\n",
    "ax2.plot(time, sig_pi_Tx[:,0,0].flatten(), color='red', label='tau')\n",
    "ax2.set_xlabel('time')\n",
    "ax2.set_ylabel('tangential stress')\n",
    "ax2.legend()\n",
    "\n",
    "ax3.plot(time, omega_Nx[:,0,0].flatten(), color='red', label='normal damage')\n",
    "ax3.plot(time, omega_Tx[:,0,0].flatten(), color='green', label='tangential damage')\n",
    "\n",
    "ax3.set_xlabel('time')\n",
    "ax3.set_ylabel('damage')\n",
    "ax3.legend()\n",
    "\n",
    "ax4.plot(time, u_pi_N[:,0,0].flatten(), color='red', label='opening')\n",
    "ax4.set_xlabel('time')\n",
    "ax4.set_ylabel('opening')\n",
    "ax4.legend()"
   ]
  },
  {
   "cell_type": "code",
   "execution_count": 78,
   "id": "aee73987-c1c9-497d-9006-e8bf5f1f8eb0",
   "metadata": {},
   "outputs": [],
   "source": [
    "if True:\n",
    "    mlab.options.backend = 'envisage'\n",
    "    mlab.options.offscreen = False # 'envisage'\n",
    "    f_strain = mlab.figure()\n",
    "    scene = mlab.get_engine().scenes[-1]\n",
    "    scene.name = 'stress'\n",
    "    strain_viz = Viz3DTensorField(vis3d=m.hist['stress'])\n",
    "    strain_viz.setup()\n",
    "    strain_viz.warp_vector.filter.scale_factor = 0.1\n",
    "    strain_viz.plot(s.tstep.t_n)\n",
    "    mlab.show()"
   ]
  }
 ],
 "metadata": {
  "kernelspec": {
   "display_name": "bmcs_env",
   "language": "python",
   "name": "bmcs_env"
  },
  "language_info": {
   "codemirror_mode": {
    "name": "ipython",
    "version": 3
   },
   "file_extension": ".py",
   "mimetype": "text/x-python",
   "name": "python",
   "nbconvert_exporter": "python",
   "pygments_lexer": "ipython3",
   "version": "3.9.5"
  },
  "toc": {
   "base_numbering": 1,
   "nav_menu": {},
   "number_sections": true,
   "sideBar": true,
   "skip_h1_title": false,
   "title_cell": "Table of Contents",
   "title_sidebar": "Contents",
   "toc_cell": false,
   "toc_position": {},
   "toc_section_display": true,
   "toc_window_display": false
  }
 },
 "nbformat": 4,
 "nbformat_minor": 5
}
