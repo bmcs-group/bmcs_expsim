{
 "cells": [
  {
   "cell_type": "markdown",
   "metadata": {
    "pycharm": {
     "name": "#%% md\n"
    }
   },
   "source": [
    "# Cylindrical compressive test"
   ]
  },
  {
   "cell_type": "code",
   "execution_count": 1,
   "metadata": {
    "pycharm": {
     "name": "#%%\n"
    }
   },
   "outputs": [],
   "source": [
    "%matplotlib widget\n",
    "from ibvpy.bcond import BCSlice\n",
    "from ibvpy.fets import FETS2D4Q\n",
    "from ibvpy.tmodel.mats3D import MATS3DElastic\n",
    "from bmcs_matmod.ms1.ms1 import MS13D\n",
    "import bmcs_matmod.ms1.concrete_material_db as mp_db\n",
    "from ibvpy.tmodel.viz3d_scalar_field import \\\n",
    "    Vis3DStateField, Viz3DScalarField\n",
    "from ibvpy.tmodel.viz3d_tensor_field import \\\n",
    "    Vis3DTensorField, Viz3DTensorField\n",
    "from mayavi import mlab\n",
    "from ibvpy.sim.tstep_bc import TStepBC\n",
    "from ibvpy.xmodel.xdomain_fe_grid_axisym import XDomainFEGridAxiSym\n",
    "\n",
    "import numpy as np\n"
   ]
  },
  {
   "cell_type": "code",
   "execution_count": 2,
   "metadata": {
    "pycharm": {
     "name": "#%%\n"
    }
   },
   "outputs": [
    {
     "data": {
      "text/plain": [
       "0.5641895835477563"
      ]
     },
     "execution_count": 2,
     "metadata": {},
     "output_type": "execute_result"
    }
   ],
   "source": [
    "from bmcs_expsim.utils.mlab_decorators import decorate_figure\n",
    "\n",
    "# a = pi r**2\n",
    "# r = np.sqrt( a / pi )\n",
    "\n",
    "unit_radius = np.sqrt( 1 / np.pi )\n",
    "unit_height = 1\n",
    "unit_radius"
   ]
  },
  {
   "cell_type": "code",
   "execution_count": 3,
   "metadata": {
    "pycharm": {
     "name": "#%%\n"
    }
   },
   "outputs": [],
   "source": [
    "inner_radius = 0\n",
    "outer_radius = unit_radius\n",
    "height = unit_height\n",
    "\n",
    "xmodel = XDomainFEGridAxiSym(coord_min=(0,inner_radius),\n",
    "                             coord_max=(height,outer_radius),\n",
    "                             shape=(2, 2),\n",
    "                             integ_factor=2 * np.pi,\n",
    "                             fets=FETS2D4Q())"
   ]
  },
  {
   "cell_type": "code",
   "execution_count": 4,
   "metadata": {
    "pycharm": {
     "name": "#%%\n"
    }
   },
   "outputs": [],
   "source": [
    "tmodel = MS13D(**mp_db.C40MS1)\n",
    "#tmodel = MATS3DElastic(E=1, nu=0)\n",
    "\n",
    "w_max = -0.01\n",
    "bc_ax_sym = BCSlice(slice=xmodel.mesh[:, 0, :, 0],\n",
    "                 var='u', dims=[1], value=0)\n",
    "bc_l_x = BCSlice(slice=xmodel.mesh[0, :, 0, :],\n",
    "                  var='u', dims=[0], value=0.0)\n",
    "bc_r_x = BCSlice(slice=xmodel.mesh[-1, :, -1, :],\n",
    "                 var='u', dims=[0], value=w_max)\n",
    "# bc_r_y = BCSlice(slice=xmodel.mesh[-1, :, -1, :],\n",
    "#                   var='u', dims=[1], value=0)"
   ]
  },
  {
   "cell_type": "code",
   "execution_count": 5,
   "metadata": {
    "pycharm": {
     "name": "#%%\n"
    }
   },
   "outputs": [],
   "source": [
    "m = TStepBC(\n",
    "    domains=[(xmodel, tmodel)],\n",
    "    bc=[bc_ax_sym, bc_l_x, bc_r_x]\n",
    ")\n",
    "\n",
    "m.hist.vis_record = {\n",
    "    'strain': Vis3DTensorField(var='eps_ab'),\n",
    "    # 'stress': Vis3DTensorField(var='sig_ab'),\n",
    "    #        'damage': Vis3DStateField(var='omega_a'),\n",
    "    #        'kinematic hardening': Vis3DStateField(var='z_a')\n",
    "}"
   ]
  },
  {
   "cell_type": "code",
   "execution_count": 6,
   "metadata": {
    "pycharm": {
     "name": "#%%\n"
    }
   },
   "outputs": [
    {
     "name": "stdout",
     "output_type": "stream",
     "text": [
      "VAR\n",
      "eps_ab\n",
      "DOMAIN\n",
      "{'eps_ab': <bound method MATSXDEval.get_eps_ab of <bmcs_matmod.ms1.ms1.MS13D object at 0x7fabb39eedb0>>, 'sig_ab': <bound method MATSXDEval.get_sig_ab of <bmcs_matmod.ms1.ms1.MS13D object at 0x7fabb39eedb0>>}\n",
      "t:\t 0.00(0), \n",
      "\t 0.01(1), \n",
      "\t 0.01(1), \n",
      "\t 0.01(1), \n",
      "\t 0.02(1), \n",
      "\t 0.03(1), \n",
      "\t 0.03(1), \n",
      "\t 0.04(1), \n",
      "\t 0.04(3), \n",
      "\t 0.04(3), \n",
      "\t 0.05(4), \n",
      "\t 0.05(4), \n",
      "\t 0.06(4), \n",
      "\t 0.06(5), \n",
      "\t 0.07(5), \n",
      "\t 0.07(5), \n",
      "\t 0.08(5), \n",
      "\t 0.09(5), \n",
      "\t 0.09(5), \n",
      "\t 0.10(5), \n",
      "\t 0.10(5), \n",
      "\t 0.11(7), \n",
      "\t 0.11(7), \n",
      "\t 0.12(7), \n",
      "\t 0.12(7), \n",
      "\t 0.13(7), \n",
      "\t 0.13(7), \n",
      "\t 0.14(7), \n",
      "\t 0.14(7), \n",
      "\t 0.15(7), \n",
      "\t 0.15(7), \n",
      "\t 0.16(7), \n",
      "\t 0.16(7), \n",
      "\t 0.17(7), \n",
      "\t 0.17(7), \n",
      "\t 0.18(7), \n",
      "\t 0.18(7), \n",
      "\t 0.19(7), \n",
      "\t 0.19(7), \n",
      "\t 0.20(7), \n",
      "\t 0.20(7), \n",
      "\t 0.21(7), \n",
      "\t 0.21(7), \n",
      "\t 0.22(7), \n",
      "\t 0.22(7), \n",
      "\t 0.23(8), \n",
      "\t 0.23(8), \n",
      "\t 0.24(8), \n",
      "\t 0.24(8), \n",
      "\t 0.25(9), \n",
      "\t 0.25(10), \n",
      "\t 0.26(10), \n",
      "\t 0.26(9), \n",
      "\t 0.27(9), \n",
      "\t 0.27(22), \n",
      "\t 0.28(37), \n",
      "\t 0.28(36), \n",
      "\t 0.29(89), \n",
      "\t 0.29(16), \n",
      "\t 0.30(16), \n",
      "\t 0.30(16), \n",
      "\t 0.31(16), \n",
      "\t 0.31(16), \n",
      "\t 0.32(18), \n",
      "\t 0.32(18), \n",
      "\t 0.33(18), \n",
      "\t 0.33(18), \n",
      "\t 0.34(18), \n",
      "\t 0.34(18), \n",
      "\t 0.35(18), \n",
      "\t 0.35(19), \n",
      "\t 0.36(19), \n",
      "\t 0.36(17), \n",
      "\t 0.37(18), \n",
      "\t 0.37(18), \n",
      "\t 0.38(17), \n",
      "\t 0.38(17), \n",
      "\t 0.39(17), \n",
      "\t 0.39(16), \n",
      "\t 0.40(16), \n",
      "\t 0.40(16), \n",
      "\t 0.41(16), \n",
      "\t 0.41(16), \n",
      "\t 0.42(16), \n",
      "\t 0.42(16), \n",
      "\t 0.43(17), \n",
      "\t 0.43(17), \n",
      "\t 0.44(17), \n",
      "\t 0.44(17), \n",
      "\t 0.45(15), \n",
      "\t 0.45(14), \n",
      "\t 0.46(14), \n",
      "\t 0.46(14), \n",
      "\t 0.47(14), \n",
      "\t 0.47(14), \n",
      "\t 0.48(14), \n",
      "\t 0.48(14), \n",
      "\t 0.49(15), \n",
      "\t 0.49(14), \n",
      "\t 0.50(14), \n",
      "\t 0.50(14), \n",
      "\t 0.51(14), \n",
      "\t 0.51(15), \n",
      "\t 0.52(15), \n",
      "\t 0.52(15), \n",
      "\t 0.53(15), \n",
      "\t 0.53(15), \n",
      "\t 0.54(16), \n",
      "\t 0.54(16), \n",
      "\t 0.55(16), \n",
      "\t 0.55(16), \n",
      "\t 0.56(16), \n",
      "\t 0.56(16), \n",
      "\t 0.57(16), \n",
      "\t 0.57(16), \n",
      "\t 0.58(16), \n",
      "\t 0.58(16), \n",
      "\t 0.59(16), \n",
      "\t 0.59(16), \n",
      "\t 0.60(16), \n",
      "\t 0.60(16), \n",
      "\t 0.61(16), \n",
      "\t 0.61(17), \n",
      "\t 0.62(17), \n",
      "\t 0.62(17), \n",
      "\t 0.63(17), \n",
      "\t 0.63(17), \n",
      "\t 0.64(17), \n",
      "\t 0.64(17), \n",
      "\t 0.65(17), \n",
      "\t 0.65(17), \n",
      "\t 0.66(17), \n",
      "\t 0.66(18), \n",
      "\t 0.67(18), \n",
      "\t 0.67(18), \n",
      "\t 0.68(18), \n",
      "\t 0.68(18), \n",
      "\t 0.69(18), \n",
      "\t 0.69(18), \n",
      "\t 0.70(18), \n",
      "\t 0.70(18), \n",
      "\t 0.71(18), \n",
      "\t 0.71(18), \n",
      "\t 0.72(18), \n",
      "\t 0.72(18), \n",
      "\t 0.73(18), \n",
      "\t 0.73(18), \n",
      "\t 0.74(18), \n",
      "\t 0.74(19), \n",
      "\t 0.75(19), \n",
      "\t 0.75(19), \n",
      "\t 0.76(19), \n",
      "\t 0.76(19), \n",
      "\t 0.77(19), \n",
      "\t 0.77(19), \n",
      "\t 0.78(19), \n",
      "\t 0.78(19), \n",
      "\t 0.79(24), \n",
      "\t 0.79(19), \n",
      "\t 0.80(19), \n",
      "\t 0.80(18), \n",
      "\t 0.81(18), \n",
      "\t 0.81(18), \n",
      "\t 0.82(18), \n",
      "\t 0.82(18), \n",
      "\t 0.83(18), \n",
      "\t 0.83(18), \n",
      "\t 0.84(19), \n",
      "\t 0.84(18), \n",
      "\t 0.85(18), \n",
      "\t 0.85(18), \n",
      "\t 0.86(18), \n",
      "\t 0.86(18), \n",
      "\t 0.87(18), \n",
      "\t 0.87(18), \n",
      "\t 0.88(18), \n",
      "\t 0.88(18), \n",
      "\t 0.89(21), \n",
      "\t 0.89(19), \n",
      "\t 0.90(18), \n",
      "\t 0.90(18), \n",
      "\t 0.91(18), \n",
      "\t 0.91(18), \n",
      "\t 0.92(20), \n",
      "\t 0.92(21), \n",
      "\t 0.93(18), \n",
      "\t 0.93(20), \n",
      "\t 0.94(20), \n",
      "\t 0.94(20), \n",
      "\t 0.95(20), \n",
      "\t 0.95(22), \n",
      "\t 0.96(25), \n",
      "\t 0.96(18), \n",
      "\t 0.97(20), \n",
      "\t 0.97(18), \n",
      "\t 0.98(25), \n",
      "\t 0.98(24), \n",
      "\t 0.99(24), \n",
      "\t 0.99(24), \n",
      "\t 1.00(23), \n",
      "\t 1.00(23), \n",
      "\n"
     ]
    }
   ],
   "source": [
    "w_steps = 200\n",
    "s = m.sim\n",
    "s.tloop.k_max = 1000\n",
    "s.tline.step = 1 / w_steps\n",
    "s.tloop.verbose = True\n",
    "s.run()"
   ]
  },
  {
   "cell_type": "code",
   "execution_count": 7,
   "metadata": {
    "pycharm": {
     "name": "#%%\n"
    }
   },
   "outputs": [],
   "source": [
    "F_to = m.hist.F_t\n",
    "U_to = m.hist.U_t"
   ]
  },
  {
   "cell_type": "code",
   "execution_count": 8,
   "metadata": {
    "pycharm": {
     "name": "#%%\n"
    }
   },
   "outputs": [
    {
     "data": {
      "application/vnd.jupyter.widget-view+json": {
       "model_id": "e21ac922c7cd42e39891ddc10c477f9a",
       "version_major": 2,
       "version_minor": 0
      },
      "text/plain": [
       "Canvas(toolbar=Toolbar(toolitems=[('Home', 'Reset original view', 'home', 'home'), ('Back', 'Back to previous …"
      ]
     },
     "metadata": {},
     "output_type": "display_data"
    },
    {
     "data": {
      "text/plain": [
       "[<matplotlib.lines.Line2D at 0x7fabb2fff640>]"
      ]
     },
     "execution_count": 8,
     "metadata": {},
     "output_type": "execute_result"
    }
   ],
   "source": [
    "F_l_t = np.sum(F_to[:, bc_l_x.dofs], axis=-1)\n",
    "F_r_t = np.sum(F_to[:, bc_r_x.dofs], axis=-1)\n",
    "U_r_t = np.average(U_to[:, bc_r_x.dofs], axis=-1)\n",
    "\n",
    "import matplotlib.pylab as plt\n",
    "plt.plot(-U_r_t, -F_r_t)\n",
    "plt.plot(-U_r_t, F_l_t)"
   ]
  },
  {
   "cell_type": "code",
   "execution_count": 9,
   "metadata": {
    "pycharm": {
     "name": "#%%\n"
    }
   },
   "outputs": [
    {
     "data": {
      "text/plain": [
       "0.9999999999999998"
      ]
     },
     "execution_count": 9,
     "metadata": {},
     "output_type": "execute_result"
    }
   ],
   "source": [
    "F_l_t[-1]"
   ]
  },
  {
   "cell_type": "code",
   "execution_count": null,
   "metadata": {
    "pycharm": {
     "name": "#%%\n"
    }
   },
   "outputs": [],
   "source": []
  }
 ],
 "metadata": {
  "kernelspec": {
   "display_name": "Python 3",
   "language": "python",
   "name": "python3"
  },
  "language_info": {
   "codemirror_mode": {
    "name": "ipython",
    "version": 3
   },
   "file_extension": ".py",
   "mimetype": "text/x-python",
   "name": "python",
   "nbconvert_exporter": "python",
   "pygments_lexer": "ipython3",
   "version": "3.9.1"
  },
  "toc": {
   "base_numbering": 1,
   "nav_menu": {},
   "number_sections": true,
   "sideBar": true,
   "skip_h1_title": false,
   "title_cell": "Table of Contents",
   "title_sidebar": "Contents",
   "toc_cell": false,
   "toc_position": {},
   "toc_section_display": true,
   "toc_window_display": false
  }
 },
 "nbformat": 4,
 "nbformat_minor": 4
}