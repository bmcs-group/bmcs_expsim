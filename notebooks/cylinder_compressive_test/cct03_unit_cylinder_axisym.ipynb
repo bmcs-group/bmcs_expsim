{
 "cells": [
  {
   "cell_type": "markdown",
   "metadata": {
    "pycharm": {
     "name": "#%% md\n"
    }
   },
   "source": [
    "# Cylindrical compressive test"
   ]
  },
  {
   "cell_type": "code",
   "execution_count": null,
   "metadata": {
    "pycharm": {
     "name": "#%%\n"
    }
   },
   "outputs": [],
   "source": [
    "%matplotlib widget\n",
    "from ibvpy.bcond import BCSlice\n",
    "from ibvpy.fets import FETS2D4Q\n",
    "from ibvpy.tmodel.mats3D import MATS3DElastic\n",
    "from bmcs_matmod.ms1.ms1 import MS13D\n",
    "import bmcs_matmod.ms1.concrete_material_db as mp_db\n",
    "from ibvpy.tmodel.viz3d_scalar_field import \\\n",
    "    Vis3DStateField, Viz3DScalarField\n",
    "from ibvpy.tmodel.viz3d_tensor_field import \\\n",
    "    Vis3DTensorField, Viz3DTensorField\n",
    "from mayavi import mlab\n",
    "from ibvpy.sim.tstep_bc import TStepBC\n",
    "from ibvpy.xmodel.xdomain_fe_grid_axisym import XDomainFEGridAxiSym\n",
    "\n",
    "import numpy as np\n"
   ]
  },
  {
   "cell_type": "code",
   "execution_count": null,
   "metadata": {
    "pycharm": {
     "name": "#%%\n"
    }
   },
   "outputs": [],
   "source": [
    "from bmcs_expsim.utils.mlab_decorators import decorate_figure\n",
    "\n",
    "# a = pi r**2\n",
    "# r = np.sqrt( a / pi )\n",
    "\n",
    "unit_radius = np.sqrt( 1 / np.pi )\n",
    "unit_height = 1\n",
    "unit_radius"
   ]
  },
  {
   "cell_type": "code",
   "execution_count": null,
   "metadata": {
    "pycharm": {
     "name": "#%%\n"
    }
   },
   "outputs": [],
   "source": [
    "inner_radius = 0\n",
    "outer_radius = unit_radius\n",
    "height = unit_height\n",
    "\n",
    "xmodel = XDomainFEGridAxiSym(coord_min=(0,inner_radius),\n",
    "                             coord_max=(height,outer_radius),\n",
    "                             shape=(2, 2),\n",
    "                             integ_factor=2 * np.pi,\n",
    "                             fets=FETS2D4Q())"
   ]
  },
  {
   "cell_type": "code",
   "execution_count": null,
   "metadata": {
    "pycharm": {
     "name": "#%%\n"
    }
   },
   "outputs": [],
   "source": [
    "tmodel = MS13D(**mp_db.C40MS1)\n",
    "#tmodel = MATS3DElastic(E=1, nu=0)\n",
    "\n",
    "w_max = -0.01\n",
    "bc_ax_sym = BCSlice(slice=xmodel.mesh[:, 0, :, 0],\n",
    "                 var='u', dims=[1], value=0)\n",
    "bc_l_x = BCSlice(slice=xmodel.mesh[0, :, 0, :],\n",
    "                  var='u', dims=[0], value=0.0)\n",
    "bc_r_x = BCSlice(slice=xmodel.mesh[-1, :, -1, :],\n",
    "                 var='u', dims=[0], value=w_max)\n",
    "# bc_r_y = BCSlice(slice=xmodel.mesh[-1, :, -1, :],\n",
    "#                   var='u', dims=[1], value=0)"
   ]
  },
  {
   "cell_type": "code",
   "execution_count": null,
   "metadata": {
    "pycharm": {
     "name": "#%%\n"
    }
   },
   "outputs": [],
   "source": [
    "m = TStepBC(\n",
    "    domains=[(xmodel, tmodel)],\n",
    "    bc=[bc_ax_sym, bc_l_x, bc_r_x]\n",
    ")\n",
    "\n",
    "m.hist.vis_record = {\n",
    "    'strain': Vis3DTensorField(var='eps_ab'),\n",
    "    # 'stress': Vis3DTensorField(var='sig_ab'),\n",
    "    #        'damage': Vis3DStateField(var='omega_a'),\n",
    "    #        'kinematic hardening': Vis3DStateField(var='z_a')\n",
    "}"
   ]
  },
  {
   "cell_type": "code",
   "execution_count": null,
   "metadata": {
    "pycharm": {
     "name": "#%%\n"
    }
   },
   "outputs": [],
   "source": [
    "w_steps = 200\n",
    "s = m.sim\n",
    "s.tloop.k_max = 1000\n",
    "s.tline.step = 1 / w_steps\n",
    "s.tloop.verbose = True\n",
    "s.run()"
   ]
  },
  {
   "cell_type": "code",
   "execution_count": null,
   "metadata": {
    "pycharm": {
     "name": "#%%\n"
    }
   },
   "outputs": [],
   "source": [
    "F_to = m.hist.F_t\n",
    "U_to = m.hist.U_t"
   ]
  },
  {
   "cell_type": "code",
   "execution_count": null,
   "metadata": {
    "pycharm": {
     "name": "#%%\n"
    }
   },
   "outputs": [],
   "source": [
    "F_l_t = np.sum(F_to[:, bc_l_x.dofs], axis=-1)\n",
    "F_r_t = np.sum(F_to[:, bc_r_x.dofs], axis=-1)\n",
    "U_r_t = np.average(U_to[:, bc_r_x.dofs], axis=-1)\n",
    "\n",
    "import matplotlib.pylab as plt\n",
    "plt.plot(-U_r_t, -F_r_t)\n",
    "plt.plot(-U_r_t, F_l_t)"
   ]
  },
  {
   "cell_type": "code",
   "execution_count": null,
   "metadata": {
    "pycharm": {
     "name": "#%%\n"
    }
   },
   "outputs": [],
   "source": [
    "F_l_t[-1]"
   ]
  },
  {
   "cell_type": "code",
   "execution_count": null,
   "metadata": {
    "pycharm": {
     "name": "#%%\n"
    }
   },
   "outputs": [],
   "source": []
  }
 ],
 "metadata": {
  "kernelspec": {
   "display_name": "Python 3",
   "language": "python",
   "name": "python3"
  },
  "language_info": {
   "codemirror_mode": {
    "name": "ipython",
    "version": 3
   },
   "file_extension": ".py",
   "mimetype": "text/x-python",
   "name": "python",
   "nbconvert_exporter": "python",
   "pygments_lexer": "ipython3",
   "version": "3.9.1"
  },
  "toc": {
   "base_numbering": 1,
   "nav_menu": {},
   "number_sections": true,
   "sideBar": true,
   "skip_h1_title": false,
   "title_cell": "Table of Contents",
   "title_sidebar": "Contents",
   "toc_cell": false,
   "toc_position": {},
   "toc_section_display": true,
   "toc_window_display": false
  }
 },
 "nbformat": 4,
 "nbformat_minor": 4
}
