{
 "cells": [
  {
   "cell_type": "markdown",
   "metadata": {
    "pycharm": {
     "name": "#%% md\n"
    }
   },
   "source": [
    "# Single material point simulation with MS1\n"
   ]
  },
  {
   "cell_type": "code",
   "execution_count": null,
   "metadata": {},
   "outputs": [],
   "source": [
    "%matplotlib widget\n",
    "import matplotlib.pylab as plt"
   ]
  },
  {
   "cell_type": "code",
   "execution_count": null,
   "metadata": {},
   "outputs": [],
   "source": [
    "from bmcs_matmod.ms1.ms1 import MS13D\n",
    "import bmcs_matmod.ms1.concrete_material_db as mp_db"
   ]
  },
  {
   "cell_type": "code",
   "execution_count": null,
   "metadata": {},
   "outputs": [],
   "source": [
    "import numpy as np"
   ]
  },
  {
   "cell_type": "code",
   "execution_count": null,
   "metadata": {},
   "outputs": [],
   "source": [
    "tmodel = MS13D(**mp_db.C40MS1)"
   ]
  },
  {
   "cell_type": "code",
   "execution_count": null,
   "metadata": {},
   "outputs": [],
   "source": [
    "DELTA = np.identity(3)\n",
    "\n",
    "EPS = np.zeros((3, 3, 3), dtype='f')\n",
    "EPS[(0, 1, 2), (1, 2, 0), (2, 0, 1)] = 1\n",
    "EPS[(2, 1, 0), (1, 0, 2), (0, 2, 1)] = -1\n",
    "\n",
    "\n",
    "DD = np.hstack([DELTA, np.zeros_like(DELTA)])\n",
    "EEPS = np.hstack([np.zeros_like(EPS), EPS])\n",
    "\n",
    "GAMMA = np.einsum(\n",
    "    'ik,jk->kij', DD, DD\n",
    ") + np.einsum(\n",
    "    'ikj->kij', np.fabs(EEPS)\n",
    ")\n",
    "\n",
    "\n",
    "def get_eps_ab(eps_O): return np.einsum(\n",
    "    'Oab,...O->...ab', GAMMA, eps_O\n",
    ")[np.newaxis, ...]\n",
    "\n",
    "\n",
    "GAMMA_inv = np.einsum(\n",
    "    'aO,bO->Oab', DD, DD\n",
    ") + 0.5 * np.einsum(\n",
    "    'aOb->Oab', np.fabs(EEPS)\n",
    ")\n",
    "\n",
    "\n",
    "def get_sig_O(sig_ab): return np.einsum(\n",
    "    'Oab,...ab->...O', GAMMA_inv, sig_ab\n",
    ")[0, ...]\n",
    "\n",
    "\n",
    "GG = np.einsum(\n",
    "    'Oab,Pcd->OPabcd', GAMMA_inv, GAMMA_inv\n",
    ")\n",
    "\n",
    "\n",
    "def get_K_OP(D_abcd):\n",
    "    return np.einsum(\n",
    "        'OPabcd,abcd->OP', GG, D_abcd\n",
    "    )\n"
   ]
  },
  {
   "cell_type": "code",
   "execution_count": null,
   "metadata": {},
   "outputs": [],
   "source": [
    "eps_max = -0.01\n",
    "eps_range = np.linspace(0,eps_max,100)\n",
    "eps_ab = np.zeros((3,3), dtype = np.float_)\n",
    "sig_range = []\n",
    "n_O = 6\n",
    "F_ext = np.zeros((n_O,), np.float_)\n",
    "F_O = np.zeros((n_O,), np.float_)\n",
    "U_P = np.zeros((n_O,), np.float_)\n",
    "U_k_O = np.zeros((n_O,), dtype=np.float_)\n",
    "state_arrays = {name: np.zeros(shape_, dtype=np.float_) for \n",
    "                name, shape_ in tmodel.state_var_shapes.items()}\n",
    "CONTROL = 0\n",
    "FREE = slice(1, None)  # This means all except the first index, i.e. [1:]\n",
    "    \n",
    "for i in range(1,len(eps_range)):\n",
    "    \n",
    "    k = 0\n",
    "    k_max, R_acc = 1000, 1e-3\n",
    "    F_ext = F_O\n",
    "    delta_U = eps_range[i] - eps_range[i-1]\n",
    "    # Equilibrium iteration loop\n",
    "    while k < k_max:\n",
    "        # Transform the primary vector to field\n",
    "        eps_ab = get_eps_ab(U_k_O).reshape(3, 3)\n",
    "        # Stress and material stiffness\n",
    "        sig_ab, D_abcd = tmodel.get_corr_pred(\n",
    "            eps_ab, 0, **state_arrays\n",
    "        )\n",
    "        F_O = get_sig_O(sig_ab.reshape(1, 3, 3)).reshape(6, )\n",
    "        # System matrix\n",
    "        K_OP = get_K_OP(D_abcd)\n",
    "        #Beta = get_K_OP(beta_Emabcd)\n",
    "        # Get the balancing forces - NOTE - for more displacements\n",
    "        # this should be an assembly operator.\n",
    "        # KU remains a 2-d array so we have to make it a vector\n",
    "        KU = K_OP[:, CONTROL] * delta_U\n",
    "        # Residuum\n",
    "        R_O = F_ext - F_O - KU\n",
    "        # Convergence criterion\n",
    "        R_norm = np.linalg.norm(R_O[FREE])\n",
    "        if R_norm < R_acc:\n",
    "            print('%d(%d)' % (i, k))\n",
    "            # Convergence reached\n",
    "            break\n",
    "        # Next iteration -\n",
    "        delta_U_O = np.linalg.solve(K_OP[FREE, FREE], R_O[FREE])\n",
    "        # Update total displacement\n",
    "        U_k_O[FREE] += delta_U_O\n",
    "        # Update control displacement\n",
    "        U_k_O[CONTROL] += delta_U\n",
    "        # Note - control displacement nonzero only in the first iteration.\n",
    "        delta_U = 0\n",
    "        k += 1\n",
    "\n",
    "    else:\n",
    "        print('no convergence')\n",
    "        break\n",
    "        \n",
    "    sig_range.append(sig_ab[0,0])"
   ]
  },
  {
   "cell_type": "code",
   "execution_count": null,
   "metadata": {},
   "outputs": [],
   "source": [
    "_, ax = plt.subplots(1,1)\n",
    "ax.plot(np.abs(eps_range[1:]), np.abs(sig_range))"
   ]
  },
  {
   "cell_type": "code",
   "execution_count": null,
   "metadata": {},
   "outputs": [],
   "source": []
  },
  {
   "cell_type": "code",
   "execution_count": null,
   "metadata": {},
   "outputs": [],
   "source": []
  }
 ],
 "metadata": {
  "kernelspec": {
   "display_name": "bmcs_env",
   "language": "python",
   "name": "bmcs_env"
  },
  "language_info": {
   "codemirror_mode": {
    "name": "ipython",
    "version": 3
   },
   "file_extension": ".py",
   "mimetype": "text/x-python",
   "name": "python",
   "nbconvert_exporter": "python",
   "pygments_lexer": "ipython3",
   "version": "3.9.1"
  },
  "toc": {
   "base_numbering": 1,
   "nav_menu": {},
   "number_sections": true,
   "sideBar": true,
   "skip_h1_title": false,
   "title_cell": "Table of Contents",
   "title_sidebar": "Contents",
   "toc_cell": false,
   "toc_position": {},
   "toc_section_display": true,
   "toc_window_display": true
  }
 },
 "nbformat": 4,
 "nbformat_minor": 4
}