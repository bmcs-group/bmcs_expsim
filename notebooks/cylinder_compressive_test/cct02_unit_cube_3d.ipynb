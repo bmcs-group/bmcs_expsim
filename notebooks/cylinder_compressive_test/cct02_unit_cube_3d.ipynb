{
 "cells": [
  {
   "cell_type": "markdown",
   "metadata": {
    "collapsed": true,
    "pycharm": {
     "name": "#%% md\n"
    }
   },
   "source": [
    "# Cylindrical compressive test"
   ]
  },
  {
   "cell_type": "code",
   "execution_count": 1,
   "outputs": [],
   "source": [
    "from ibvpy.bcond import BCSlice\n",
    "from ibvpy.fets import FETS3D8H\n",
    "from ibvpy.tmodel.mats3D import MATS3DElastic\n",
    "from bmcs_matmod.ms1.ms1 import MS13D\n",
    "import bmcs_matmod.ms1.concrete_material_db as mp_db\n",
    "from ibvpy.tmodel.viz3d_scalar_field import \\\n",
    "    Vis3DStateField, Viz3DScalarField\n",
    "from ibvpy.tmodel.viz3d_tensor_field import \\\n",
    "    Vis3DTensorField, Viz3DTensorField\n",
    "from mayavi import mlab\n",
    "from ibvpy.sim.tstep_bc import TStepBC\n",
    "from ibvpy.xmodel.xdomain_fe_grid import XDomainFEGrid\n",
    "\n",
    "import numpy as np\n"
   ],
   "metadata": {
    "collapsed": false,
    "pycharm": {
     "name": "#%%\n"
    }
   }
  },
  {
   "cell_type": "code",
   "execution_count": 2,
   "outputs": [],
   "source": [
    "from bmcs_expsim.utils.mlab_decorators import decorate_figure\n",
    "\n",
    "unit_length = 1\n",
    "unit_height = 1"
   ],
   "metadata": {
    "collapsed": false,
    "pycharm": {
     "name": "#%%\n"
    }
   }
  },
  {
   "cell_type": "markdown",
   "source": [
    "**Check the material parameters** of C40 concrete matrix"
   ],
   "metadata": {
    "collapsed": false,
    "pycharm": {
     "name": "#%% md\n"
    }
   }
  },
  {
   "cell_type": "code",
   "execution_count": 3,
   "outputs": [
    {
     "data": {
      "text/plain": "{'E': 37000.0,\n 'nu': 0.2,\n 'Ad': 800.0,\n 'eps_0': 7e-05,\n 'K_N': 14000.0,\n 'sigma_N_0': 25.0,\n 'gamma_N': 5000.0,\n 'sigma_T_0': 2.2,\n 'K_T': 1200.0,\n 'gamma_T': 65000,\n 'S_T': 0.0025,\n 'c_T': 8.7,\n 'r_T': 9.2,\n 'm_T': 0.001,\n 'p_T': 7.5}"
     },
     "execution_count": 3,
     "metadata": {},
     "output_type": "execute_result"
    }
   ],
   "source": [
    "mp_db.C40MS1"
   ],
   "metadata": {
    "collapsed": false,
    "pycharm": {
     "name": "#%%\n"
    }
   }
  },
  {
   "cell_type": "code",
   "execution_count": 4,
   "outputs": [],
   "source": [
    "xmodel = XDomainFEGrid(coord_min=(0,0,0),\n",
    "                     coord_max=(unit_height,unit_length, unit_length),\n",
    "                     shape=(1, 1, 1),\n",
    "                     integ_factor=1,\n",
    "                     fets=FETS3D8H())"
   ],
   "metadata": {
    "collapsed": false,
    "pycharm": {
     "name": "#%%\n"
    }
   }
  },
  {
   "cell_type": "code",
   "execution_count": 18,
   "outputs": [],
   "source": [
    "#tmodel = MS13D(**mp_db.C40MS1)\n",
    "tmodel = MATS3DElastic(E=1, nu=0.2)"
   ],
   "metadata": {
    "collapsed": false,
    "pycharm": {
     "name": "#%%\n"
    }
   }
  },
  {
   "cell_type": "code",
   "execution_count": 19,
   "outputs": [
    {
     "data": {
      "text/plain": "array([[[[1.11111111, 0.        , 0.        ],\n         [0.        , 0.27777778, 0.        ],\n         [0.        , 0.        , 0.27777778]],\n\n        [[0.        , 0.41666667, 0.        ],\n         [0.41666667, 0.        , 0.        ],\n         [0.        , 0.        , 0.        ]],\n\n        [[0.        , 0.        , 0.41666667],\n         [0.        , 0.        , 0.        ],\n         [0.41666667, 0.        , 0.        ]]],\n\n\n       [[[0.        , 0.41666667, 0.        ],\n         [0.41666667, 0.        , 0.        ],\n         [0.        , 0.        , 0.        ]],\n\n        [[0.27777778, 0.        , 0.        ],\n         [0.        , 1.11111111, 0.        ],\n         [0.        , 0.        , 0.27777778]],\n\n        [[0.        , 0.        , 0.        ],\n         [0.        , 0.        , 0.41666667],\n         [0.        , 0.41666667, 0.        ]]],\n\n\n       [[[0.        , 0.        , 0.41666667],\n         [0.        , 0.        , 0.        ],\n         [0.41666667, 0.        , 0.        ]],\n\n        [[0.        , 0.        , 0.        ],\n         [0.        , 0.        , 0.41666667],\n         [0.        , 0.41666667, 0.        ]],\n\n        [[0.27777778, 0.        , 0.        ],\n         [0.        , 0.27777778, 0.        ],\n         [0.        , 0.        , 1.11111111]]]])"
     },
     "execution_count": 19,
     "metadata": {},
     "output_type": "execute_result"
    }
   ],
   "source": [
    "tmodel.D_abef"
   ],
   "metadata": {
    "collapsed": false,
    "pycharm": {
     "name": "#%%\n"
    }
   }
  },
  {
   "cell_type": "code",
   "execution_count": null,
   "outputs": [],
   "source": [
    "w_max = -1e-3\n",
    "w_max = -1\n",
    "bc_l_x = BCSlice(slice=xmodel.mesh[0, :, :, 0, :, :],\n",
    "                  var='u', dims=[0], value=0.0)\n",
    "bc_r_x = BCSlice(slice=xmodel.mesh[-1, :, :, -1, :, :],\n",
    "                 var='u', dims=[0], value=w_max)\n",
    "bc_xy_z0 = BCSlice(slice=xmodel.mesh[:, :, 0, :, :, 0],\n",
    "                  var='u', dims=[2], value=0)\n",
    "bc_xz_y0 = BCSlice(slice=xmodel.mesh[:, 0, :, :, 0, :],\n",
    "                 var='u', dims=[1], value=0)"
   ],
   "metadata": {
    "collapsed": false,
    "pycharm": {
     "name": "#%%\n"
    }
   }
  },
  {
   "cell_type": "code",
   "execution_count": 13,
   "outputs": [],
   "source": [
    "m = TStepBC(\n",
    "    domains=[(xmodel, tmodel)],\n",
    "    bc=[bc_l_x, bc_r_x, bc_xy_z0, bc_xz_y0] # , bc_r_y],\n",
    ")\n",
    "\n",
    "m.hist.vis_record = {\n",
    "    'strain': Vis3DTensorField(var='eps_ab'),\n",
    "    # 'stress': Vis3DTensorField(var='sig_ab'),\n",
    "    #        'damage': Vis3DStateField(var='omega_a'),\n",
    "    #        'kinematic hardening': Vis3DStateField(var='z_a')\n",
    "}"
   ],
   "metadata": {
    "collapsed": false,
    "pycharm": {
     "name": "#%%\n"
    }
   }
  },
  {
   "cell_type": "code",
   "execution_count": 14,
   "outputs": [
    {
     "data": {
      "text/plain": "3"
     },
     "execution_count": 14,
     "metadata": {},
     "output_type": "execute_result"
    }
   ],
   "source": [
    "m.fe_domain[0].xmodel.n_u"
   ],
   "metadata": {
    "collapsed": false,
    "pycharm": {
     "name": "#%%\n"
    }
   }
  },
  {
   "cell_type": "code",
   "execution_count": 15,
   "outputs": [
    {
     "name": "stdout",
     "output_type": "stream",
     "text": [
      "VAR\n",
      "eps_ab\n",
      "DOMAIN\n",
      "{'eps_ab': <bound method MATSXDEval.get_eps_ab of <ibvpy.tmodel.mats3D.mats3D_elastic.vmats3D_elastic.MATS3DElastic object at 0x7f3a8c2a7860>>, 'sig_ab': <bound method MATSXDEval.get_sig_ab of <ibvpy.tmodel.mats3D.mats3D_elastic.vmats3D_elastic.MATS3DElastic object at 0x7f3a8c2a7860>>}\n",
      "t:\t 0.00(0), \n",
      "\t 0.05(1), \n",
      "\t 0.10(1), \n",
      "\t 0.15(1), \n",
      "\t 0.20(1), \n",
      "\t 0.25(1), \n",
      "\t 0.30(1), \n",
      "\t 0.35(1), \n",
      "\t 0.40(1), \n",
      "\t 0.45(1), \n",
      "\t 0.50(1), \n",
      "\t 0.55(1), \n",
      "\t 0.60(1), \n",
      "\t 0.65(1), \n",
      "\t 0.70(1), \n",
      "\t 0.75(1), \n",
      "\t 0.80(1), \n",
      "\t 0.85(1), \n",
      "\t 0.90(1), \n",
      "\t 0.95(1), \n",
      "\t 1.00(1), \n",
      "\n"
     ]
    }
   ],
   "source": [
    "w_steps = 20\n",
    "s = m.sim\n",
    "s.tloop.k_max = 1000\n",
    "s.tline.step = 1 / w_steps\n",
    "s.tloop.verbose = True\n",
    "s.run()"
   ],
   "metadata": {
    "collapsed": false,
    "pycharm": {
     "name": "#%%\n"
    }
   }
  },
  {
   "cell_type": "code",
   "execution_count": 16,
   "outputs": [],
   "source": [
    "F_to = m.hist.F_t\n",
    "U_to = m.hist.U_t"
   ],
   "metadata": {
    "collapsed": false,
    "pycharm": {
     "name": "#%%\n"
    }
   }
  },
  {
   "cell_type": "code",
   "execution_count": 17,
   "outputs": [
    {
     "data": {
      "text/plain": "[<matplotlib.lines.Line2D at 0x7f3a8c923f70>]"
     },
     "execution_count": 17,
     "metadata": {},
     "output_type": "execute_result"
    },
    {
     "data": {
      "text/plain": "<Figure size 432x288 with 1 Axes>",
      "image/png": "[encoded data removed]"
     },
     "metadata": {
      "needs_background": "light"
     },
     "output_type": "display_data"
    }
   ],
   "source": [
    "F_l_t = np.sum(F_to[:, bc_l_x.dofs], axis=-1)\n",
    "F_r_t = np.sum(F_to[:, bc_r_x.dofs], axis=-1)\n",
    "U_r_t = np.average(U_to[:, bc_r_x.dofs], axis=-1)\n",
    "\n",
    "import matplotlib.pylab as plt\n",
    "plt.plot(-U_r_t, -F_r_t)\n",
    "plt.plot(-U_r_t, F_l_t)"
   ],
   "metadata": {
    "collapsed": false,
    "pycharm": {
     "name": "#%%\n"
    }
   }
  },
  {
   "cell_type": "code",
   "execution_count": 23,
   "outputs": [],
   "source": [],
   "metadata": {
    "collapsed": false,
    "pycharm": {
     "name": "#%%\n"
    }
   }
  },
  {
   "cell_type": "code",
   "execution_count": 29,
   "outputs": [],
   "source": [],
   "metadata": {
    "collapsed": false,
    "pycharm": {
     "name": "#%%\n"
    }
   }
  },
  {
   "cell_type": "code",
   "execution_count": null,
   "outputs": [],
   "source": [],
   "metadata": {
    "collapsed": false,
    "pycharm": {
     "name": "#%%\n"
    }
   }
  }
 ],
 "metadata": {
  "kernelspec": {
   "display_name": "Python 3",
   "language": "python",
   "name": "python3"
  },
  "language_info": {
   "codemirror_mode": {
    "name": "ipython",
    "version": 2
   },
   "file_extension": ".py",
   "mimetype": "text/x-python",
   "name": "python",
   "nbconvert_exporter": "python",
   "pygments_lexer": "ipython2",
   "version": "2.7.6"
  }
 },
 "nbformat": 4,
 "nbformat_minor": 0
}