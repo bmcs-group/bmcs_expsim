{
 "cells": [
  {
   "cell_type": "markdown",
   "metadata": {
    "pycharm": {
     "name": "#%% md\n"
    }
   },
   "source": [
    "# Cylindrical compressive test"
   ]
  },
  {
   "cell_type": "code",
   "execution_count": 1,
   "metadata": {
    "pycharm": {
     "name": "#%%\n"
    }
   },
   "outputs": [],
   "source": [
    "%matplotlib widget\n",
    "import matplotlib.pylab as plt\n",
    "from ibvpy.bcond import BCSlice\n",
    "from ibvpy.fets import FETS3D8H\n",
    "from ibvpy.tmodel.mats3D import MATS3DElastic\n",
    "from bmcs_matmod.ms1.ms1 import MS13D\n",
    "import bmcs_matmod.ms1.concrete_material_db as mp_db\n",
    "from ibvpy.tmodel.viz3d_scalar_field import \\\n",
    "    Vis3DStateField, Viz3DScalarField\n",
    "from ibvpy.tmodel.viz3d_tensor_field import \\\n",
    "    Vis3DTensorField, Viz3DTensorField\n",
    "from mayavi import mlab\n",
    "from ibvpy.sim.tstep_bc import TStepBC\n",
    "from ibvpy.xmodel.xdomain_fe_grid import XDomainFEGrid\n",
    "\n",
    "import numpy as np"
   ]
  },
  {
   "cell_type": "code",
   "execution_count": 2,
   "metadata": {
    "pycharm": {
     "name": "#%%\n"
    }
   },
   "outputs": [],
   "source": [
    "from bmcs_expsim.utils.mlab_decorators import decorate_figure"
   ]
  },
  {
   "cell_type": "markdown",
   "metadata": {
    "pycharm": {
     "name": "#%% md\n"
    }
   },
   "source": [
    "**Check the material parameters** of C40 concrete matrix"
   ]
  },
  {
   "cell_type": "code",
   "execution_count": 3,
   "metadata": {
    "pycharm": {
     "name": "#%%\n"
    }
   },
   "outputs": [
    {
     "data": {
      "text/plain": [
       "{'E': 37000.0,\n",
       " 'nu': 0.2,\n",
       " 'Ad': 800.0,\n",
       " 'eps_0': 7e-05,\n",
       " 'K_N': 14000.0,\n",
       " 'sigma_N_0': 25.0,\n",
       " 'gamma_N': 5000.0,\n",
       " 'sigma_T_0': 2.2,\n",
       " 'K_T': 1200.0,\n",
       " 'gamma_T': 65000,\n",
       " 'S_T': 0.0025,\n",
       " 'c_T': 8.7,\n",
       " 'r_T': 9.2,\n",
       " 'm_T': 0.001,\n",
       " 'p_T': 7.5}"
      ]
     },
     "execution_count": 3,
     "metadata": {},
     "output_type": "execute_result"
    }
   ],
   "source": [
    "mp_db.C40MS1"
   ]
  },
  {
   "cell_type": "code",
   "execution_count": 4,
   "metadata": {
    "pycharm": {
     "name": "#%%\n"
    }
   },
   "outputs": [],
   "source": [
    "size = 1\n",
    "n_e = 1\n",
    "xmodel = XDomainFEGrid(coord_min=(0,0,0),\n",
    "                     coord_max=(size , size, size),\n",
    "                     shape=(n_e, n_e, n_e),\n",
    "                     integ_factor=1,\n",
    "                     fets=FETS3D8H())"
   ]
  },
  {
   "cell_type": "code",
   "execution_count": 5,
   "metadata": {
    "pycharm": {
     "name": "#%%\n"
    }
   },
   "outputs": [],
   "source": [
    "tmodel = MS13D(**mp_db.C40MS1)\n",
    "#tmodel = MATS3DElastic(E=1, nu=0)"
   ]
  },
  {
   "cell_type": "code",
   "execution_count": 6,
   "metadata": {
    "pycharm": {
     "name": "#%%\n"
    }
   },
   "outputs": [],
   "source": [
    "w_max = -0.01 * size\n",
    "#w_max = -1\n",
    "bc_l_x = BCSlice(slice=xmodel.mesh[0, :, :, 0, :, :],\n",
    "                  var='u', dims=[0], value=0.0)\n",
    "bc_r_x = BCSlice(slice=xmodel.mesh[-1, :, :, -1, :, :],\n",
    "                 var='u', dims=[0], value=w_max)\n",
    "bc_xy_z0 = BCSlice(slice=xmodel.mesh[:, :, 0, :, :, 0],\n",
    "                  var='u', dims=[2], value=0)\n",
    "bc_xz_y0 = BCSlice(slice=xmodel.mesh[:, 0, :, :, 0, :],\n",
    "                 var='u', dims=[1], value=0)\n"
   ]
  },
  {
   "cell_type": "code",
   "execution_count": 7,
   "metadata": {
    "pycharm": {
     "name": "#%%\n"
    }
   },
   "outputs": [],
   "source": [
    "m = TStepBC(\n",
    "    domains=[(xmodel, tmodel)],\n",
    "    bc=[bc_l_x, bc_r_x, bc_xy_z0, bc_xz_y0] # , bc_r_y],\n",
    ")\n",
    "\n",
    "m.hist.vis_record = {\n",
    "    'strain': Vis3DTensorField(var='eps_ab'),\n",
    "    # 'stress': Vis3DTensorField(var='sig_ab'),\n",
    "    #        'damage': Vis3DStateField(var='omega_a'),\n",
    "    #        'kinematic hardening': Vis3DStateField(var='z_a')\n",
    "}\n"
   ]
  },
  {
   "cell_type": "code",
   "execution_count": 8,
   "metadata": {
    "pycharm": {
     "name": "#%%\n"
    }
   },
   "outputs": [
    {
     "name": "stdout",
     "output_type": "stream",
     "text": [
      "VAR\n",
      "eps_ab\n",
      "DOMAIN\n",
      "{'eps_ab': <bound method MATSXDEval.get_eps_ab of <bmcs_matmod.ms1.ms1.MS13D object at 0x7f477a823040>>, 'sig_ab': <bound method MATSXDEval.get_sig_ab of <bmcs_matmod.ms1.ms1.MS13D object at 0x7f477a823040>>}\n",
      "t:\t 0.00(0), \n",
      "\t 0.01(1), \n",
      "\t 0.01(1), \n",
      "\t 0.01(1), \n",
      "\t 0.02(1), \n",
      "\t 0.03(1), \n",
      "\t 0.03(1), \n",
      "\t 0.04(1), \n",
      "\t 0.04(3), \n",
      "\t 0.04(3), \n",
      "\t 0.05(3), \n",
      "\t 0.05(4), \n",
      "\t 0.06(4), \n",
      "\t 0.06(4), \n",
      "\t 0.07(4), \n",
      "\t 0.07(5), \n",
      "\t 0.08(5), \n",
      "\t 0.09(5), \n",
      "\t 0.09(5), \n",
      "\t 0.10(5), \n",
      "\t 0.10(5), \n",
      "\t 0.11(7), \n",
      "\t 0.11(6), \n",
      "\t 0.12(6), \n",
      "\t 0.12(6), \n",
      "\t 0.13(6), \n",
      "\t 0.13(6), \n",
      "\t 0.14(6), \n",
      "\t 0.14(6), \n",
      "\t 0.15(6), \n",
      "\t 0.15(6), \n",
      "\t 0.16(6), \n",
      "\t 0.16(6), \n",
      "\t 0.17(7), \n",
      "\t 0.17(7), \n",
      "\t 0.18(7), \n",
      "\t 0.18(7), \n",
      "\t 0.19(7), \n",
      "\t 0.19(7), \n",
      "\t 0.20(7), \n",
      "\t 0.20(7), \n",
      "\t 0.21(7), \n",
      "\t 0.21(7), \n",
      "\t 0.22(7), \n",
      "\t 0.22(7), \n",
      "\t 0.23(7), \n",
      "\t 0.23(7), \n",
      "\t 0.24(8), \n",
      "\t 0.24(8), \n",
      "\t 0.25(10), \n",
      "\t 0.25(9), \n",
      "\t 0.26(8), \n",
      "\t 0.26(5), \n",
      "\t 0.27(8), \n",
      "\t 0.27(21), \n",
      "\t 0.28(29), \n",
      "\t 0.28(35), \n",
      "\t 0.29(48), \n",
      "\t 0.29(38), \n",
      "\t 0.30(34), \n",
      "\t 0.30(32), \n",
      "\t 0.31(30), \n",
      "\t 0.31(29), \n",
      "\t 0.32(28), \n",
      "\t 0.32(26), \n",
      "\t 0.33(25), \n",
      "\t 0.33(23), \n",
      "\t 0.34(21), \n",
      "\t 0.34(19), \n",
      "\t 0.35(18), \n",
      "\t 0.35(17), \n",
      "\t 0.36(16), \n",
      "\t 0.36(15), \n",
      "\t 0.37(14), \n",
      "\t 0.37(14), \n",
      "\t 0.38(13), \n",
      "\t 0.38(13), \n",
      "\t 0.39(13), \n",
      "\t 0.39(12), \n",
      "\t 0.40(12), \n",
      "\t 0.40(11), \n",
      "\t 0.41(11), \n",
      "\t 0.41(11), \n",
      "\t 0.42(10), \n",
      "\t 0.42(10), \n",
      "\t 0.43(9), \n",
      "\t 0.43(9), \n",
      "\t 0.44(8), \n",
      "\t 0.44(8), \n",
      "\t 0.45(13), \n",
      "\t 0.45(10), \n",
      "\t 0.46(10), \n",
      "\t 0.46(10), \n",
      "\t 0.47(10), \n",
      "\t 0.47(10), \n",
      "\t 0.48(10), \n",
      "\t 0.48(10), \n",
      "\t 0.49(9), \n",
      "\t 0.49(9), \n",
      "\t 0.50(9), \n",
      "\t 0.50(9), \n",
      "\t 0.51(8), \n",
      "\t 0.51(8), \n",
      "\t 0.52(8), \n",
      "\t 0.52(7), \n",
      "\t 0.53(7), \n",
      "\t 0.53(7), \n",
      "\t 0.54(6), \n",
      "\t 0.54(6), \n",
      "\t 0.55(5), \n",
      "\t 0.55(4), \n",
      "\t 0.56(4), \n",
      "\t 0.56(5), \n",
      "\t 0.57(5), \n",
      "\t 0.57(5), \n",
      "\t 0.58(6), \n",
      "\t 0.58(6), \n",
      "\t 0.59(6), \n",
      "\t 0.59(6), \n",
      "\t 0.60(6), \n",
      "\t 0.60(6), \n",
      "\t 0.61(6), \n",
      "\t 0.61(6), \n",
      "\t 0.62(6), \n",
      "\t 0.62(6), \n",
      "\t 0.63(6), \n",
      "\t 0.63(6), \n",
      "\t 0.64(6), \n",
      "\t 0.64(5), \n",
      "\t 0.65(5), \n",
      "\t 0.65(5), \n",
      "\t 0.66(5), \n",
      "\t 0.66(5), \n",
      "\t 0.67(5), \n",
      "\t 0.67(5), \n",
      "\t 0.68(5), \n",
      "\t 0.68(5), \n",
      "\t 0.69(5), \n",
      "\t 0.69(5), \n",
      "\t 0.70(5), \n",
      "\t 0.70(5), \n",
      "\t 0.71(5), \n",
      "\t 0.71(5), \n",
      "\t 0.72(5), \n",
      "\t 0.72(5), \n",
      "\t 0.73(5), \n",
      "\t 0.73(5), \n",
      "\t 0.74(5), \n",
      "\t 0.74(5), \n",
      "\t 0.75(5), \n",
      "\t 0.75(5), \n",
      "\t 0.76(5), \n",
      "\t 0.76(4), \n",
      "\t 0.77(4), \n",
      "\t 0.77(4), \n",
      "\t 0.78(4), \n",
      "\t 0.78(4), \n",
      "\t 0.79(4), \n",
      "\t 0.79(4), \n",
      "\t 0.80(4), \n",
      "\t 0.80(4), \n",
      "\t 0.81(4), \n",
      "\t 0.81(4), \n",
      "\t 0.82(4), \n",
      "\t 0.82(4), \n",
      "\t 0.83(4), \n",
      "\t 0.83(4), \n",
      "\t 0.84(4), \n",
      "\t 0.84(4), \n",
      "\t 0.85(4), \n",
      "\t 0.85(4), \n",
      "\t 0.86(4), \n",
      "\t 0.86(4), \n",
      "\t 0.87(4), \n",
      "\t 0.87(4), \n",
      "\t 0.88(4), \n",
      "\t 0.88(4), \n",
      "\t 0.89(3), \n",
      "\t 0.89(3), \n",
      "\t 0.90(3), \n",
      "\t 0.90(3), \n",
      "\t 0.91(3), \n",
      "\t 0.91(3), \n",
      "\t 0.92(3), \n",
      "\t 0.92(3), \n",
      "\t 0.93(3), \n",
      "\t 0.93(3), \n",
      "\t 0.94(3), \n",
      "\t 0.94(3), \n",
      "\t 0.95(3), \n",
      "\t 0.95(3), \n",
      "\t 0.96(3), \n",
      "\t 0.96(2), \n",
      "\t 0.97(3), \n",
      "\t 0.97(3), \n",
      "\t 0.98(3), \n",
      "\t 0.98(3), \n",
      "\t 0.99(3), \n",
      "\t 0.99(3), \n",
      "\t 1.00(3), \n",
      "\t 1.00(3), \n",
      "\n"
     ]
    }
   ],
   "source": [
    "w_steps = 200\n",
    "s = m.sim\n",
    "s.tloop.k_max = 1000\n",
    "s.tline.step = 1 / w_steps\n",
    "s.tloop.verbose = True\n",
    "s.run()"
   ]
  },
  {
   "cell_type": "code",
   "execution_count": 9,
   "metadata": {
    "pycharm": {
     "name": "#%%\n"
    }
   },
   "outputs": [],
   "source": [
    "F_to = m.hist.F_t\n",
    "U_to = m.hist.U_t"
   ]
  },
  {
   "cell_type": "code",
   "execution_count": 10,
   "metadata": {
    "pycharm": {
     "name": "#%%\n"
    }
   },
   "outputs": [
    {
     "data": {
      "application/vnd.jupyter.widget-view+json": {
       "model_id": "d395f16d78af40d7a20f424e21183915",
       "version_major": 2,
       "version_minor": 0
      },
      "text/plain": [
       "Canvas(toolbar=Toolbar(toolitems=[('Home', 'Reset original view', 'home', 'home'), ('Back', 'Back to previous …"
      ]
     },
     "metadata": {},
     "output_type": "display_data"
    },
    {
     "data": {
      "text/plain": [
       "[<matplotlib.lines.Line2D at 0x7f477a333e80>]"
      ]
     },
     "execution_count": 10,
     "metadata": {},
     "output_type": "execute_result"
    }
   ],
   "source": [
    "F_l_t = np.sum(F_to[:, bc_l_x.dofs], axis=-1)\n",
    "F_r_t = np.sum(F_to[:, bc_r_x.dofs], axis=-1)\n",
    "U_r_t = np.average(U_to[:, bc_r_x.dofs], axis=-1)\n",
    "\n",
    "plt.plot(-U_r_t, -F_r_t)\n",
    "plt.plot(-U_r_t, F_l_t)"
   ]
  },
  {
   "cell_type": "code",
   "execution_count": null,
   "metadata": {},
   "outputs": [],
   "source": []
  }
 ],
 "metadata": {
  "kernelspec": {
   "display_name": "bmcs_env",
   "language": "python",
   "name": "bmcs_env"
  },
  "language_info": {
   "codemirror_mode": {
    "name": "ipython",
    "version": 3
   },
   "file_extension": ".py",
   "mimetype": "text/x-python",
   "name": "python",
   "nbconvert_exporter": "python",
   "pygments_lexer": "ipython3",
   "version": "3.9.1"
  },
  "toc": {
   "base_numbering": 1,
   "nav_menu": {},
   "number_sections": true,
   "sideBar": true,
   "skip_h1_title": false,
   "title_cell": "Table of Contents",
   "title_sidebar": "Contents",
   "toc_cell": false,
   "toc_position": {},
   "toc_section_display": true,
   "toc_window_display": false
  }
 },
 "nbformat": 4,
 "nbformat_minor": 4
}
