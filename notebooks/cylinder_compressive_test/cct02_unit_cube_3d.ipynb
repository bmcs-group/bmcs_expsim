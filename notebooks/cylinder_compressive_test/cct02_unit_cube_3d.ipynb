{
 "cells": [
  {
   "cell_type": "markdown",
   "metadata": {
    "collapsed": true,
    "pycharm": {
     "name": "#%% md\n"
    }
   },
   "source": [
    "# Cylindrical compressive test"
   ]
  },
  {
   "cell_type": "code",
   "execution_count": 1,
   "outputs": [],
   "source": [
    "from ibvpy.bcond import BCSlice\n",
    "from ibvpy.fets import FETS3D8H\n",
    "from ibvpy.tmodel.mats3D import MATS3DElastic\n",
    "from bmcs_matmod.ms1.ms1 import MS13D\n",
    "import bmcs_matmod.ms1.concrete_material_db as mp_db\n",
    "from ibvpy.tmodel.viz3d_scalar_field import \\\n",
    "    Vis3DStateField, Viz3DScalarField\n",
    "from ibvpy.tmodel.viz3d_tensor_field import \\\n",
    "    Vis3DTensorField, Viz3DTensorField\n",
    "from mayavi import mlab\n",
    "from ibvpy.sim.tstep_bc import TStepBC\n",
    "from ibvpy.xmodel.xdomain_fe_grid import XDomainFEGrid\n",
    "\n",
    "import numpy as np\n"
   ],
   "metadata": {
    "collapsed": false,
    "pycharm": {
     "name": "#%%\n"
    }
   }
  },
  {
   "cell_type": "code",
   "execution_count": 2,
   "outputs": [],
   "source": [
    "from bmcs_expsim.utils.mlab_decorators import decorate_figure\n",
    "\n",
    "unit_length = 1\n",
    "unit_height = 1"
   ],
   "metadata": {
    "collapsed": false,
    "pycharm": {
     "name": "#%%\n"
    }
   }
  },
  {
   "cell_type": "markdown",
   "source": [
    "**Check the material parameters** of C40 concrete matrix"
   ],
   "metadata": {
    "collapsed": false,
    "pycharm": {
     "name": "#%% md\n"
    }
   }
  },
  {
   "cell_type": "code",
   "execution_count": 3,
   "outputs": [
    {
     "data": {
      "text/plain": "{'E': 37000.0,\n 'nu': 0.2,\n 'Ad': 800.0,\n 'eps_0': 7e-05,\n 'K_N': 14000.0,\n 'sigma_N_0': 25.0,\n 'gamma_N': 5000.0,\n 'sigma_T_0': 2.2,\n 'K_T': 1200.0,\n 'gamma_T': 65000,\n 'S_T': 0.0025,\n 'c_T': 8.7,\n 'r_T': 9.2,\n 'm_T': 0.001,\n 'p_T': 7.5}"
     },
     "execution_count": 3,
     "metadata": {},
     "output_type": "execute_result"
    }
   ],
   "source": [
    "mp_db.C40MS1"
   ],
   "metadata": {
    "collapsed": false,
    "pycharm": {
     "name": "#%%\n"
    }
   }
  },
  {
   "cell_type": "code",
   "execution_count": 4,
   "outputs": [],
   "source": [
    "xmodel = XDomainFEGrid(coord_min=(0,0,0),\n",
    "                     coord_max=(unit_height,unit_length, unit_length),\n",
    "                     shape=(1, 1, 1),\n",
    "                     integ_factor=1,\n",
    "                     fets=FETS3D8H())"
   ],
   "metadata": {
    "collapsed": false,
    "pycharm": {
     "name": "#%%\n"
    }
   }
  },
  {
   "cell_type": "code",
   "execution_count": 5,
   "outputs": [],
   "source": [
    "tmodel = MS13D(**mp_db.C40MS1)\n",
    "#tmodel = MATS3DElastic(E=1, nu=0)"
   ],
   "metadata": {
    "collapsed": false,
    "pycharm": {
     "name": "#%%\n"
    }
   }
  },
  {
   "cell_type": "code",
   "execution_count": 6,
   "outputs": [],
   "source": [
    "w_max = -1e-2\n",
    "#w_max = -1\n",
    "bc_l_x = BCSlice(slice=xmodel.mesh[0, :, :, 0, :, :],\n",
    "                  var='u', dims=[0], value=0.0)\n",
    "bc_r_x = BCSlice(slice=xmodel.mesh[-1, :, :, -1, :, :],\n",
    "                 var='u', dims=[0], value=w_max)\n",
    "bc_xy_z0 = BCSlice(slice=xmodel.mesh[:, :, 0, :, :, 0],\n",
    "                  var='u', dims=[2], value=0)\n",
    "bc_xz_y0 = BCSlice(slice=xmodel.mesh[:, 0, :, :, 0, :],\n",
    "                 var='u', dims=[1], value=0)\n"
   ],
   "metadata": {
    "collapsed": false,
    "pycharm": {
     "name": "#%%\n"
    }
   }
  },
  {
   "cell_type": "code",
   "execution_count": 7,
   "outputs": [],
   "source": [
    "m = TStepBC(\n",
    "    domains=[(xmodel, tmodel)],\n",
    "    bc=[bc_l_x, bc_r_x, bc_xy_z0, bc_xz_y0] # , bc_r_y],\n",
    ")\n",
    "\n",
    "m.hist.vis_record = {\n",
    "    'strain': Vis3DTensorField(var='eps_ab'),\n",
    "    # 'stress': Vis3DTensorField(var='sig_ab'),\n",
    "    #        'damage': Vis3DStateField(var='omega_a'),\n",
    "    #        'kinematic hardening': Vis3DStateField(var='z_a')\n",
    "}\n"
   ],
   "metadata": {
    "collapsed": false,
    "pycharm": {
     "name": "#%%\n"
    }
   }
  },
  {
   "cell_type": "code",
   "execution_count": 8,
   "outputs": [
    {
     "name": "stdout",
     "output_type": "stream",
     "text": [
      "VAR\n",
      "eps_ab\n",
      "DOMAIN\n",
      "{'eps_ab': <bound method MATSXDEval.get_eps_ab of <bmcs_matmod.ms1.ms1.MS13D object at 0x7fd06209b180>>, 'sig_ab': <bound method MATSXDEval.get_sig_ab of <bmcs_matmod.ms1.ms1.MS13D object at 0x7fd06209b180>>}\n",
      "t:\t 0.00(0), \n",
      "\t 0.02(1), \n",
      "\t 0.04(2), \n",
      "\t 0.06(4), \n",
      "\t 0.08(4), \n",
      "\t 0.10(6), \n",
      "\t 0.12(6), \n",
      "\t 0.14(7), \n",
      "\t 0.16(7), \n",
      "\t 0.18(7), \n",
      "\t 0.20(8), \n",
      "\t 0.22(8), \n",
      "\t 0.24(11), \n",
      "\t 0.26(11), \n",
      "\t 0.28(11), \n",
      "\t 0.30(11), \n",
      "\t 0.32(10), \n",
      "\t 0.34(14), \n",
      "\t 0.36(14), \n",
      "\t 0.38(32), \n",
      "\t 0.40(35), \n",
      "\t 0.42"
     ]
    },
    {
     "name": "stderr",
     "output_type": "stream",
     "text": [
      "/home/rch/PycharmProjects/bmcs_matmod/bmcs_matmod/ms1/ms1.py:294: RuntimeWarning: invalid value encountered in power\n",
      "  (self.sigma_T_0 / (self.sigma_T_0 + self.m_T * sigma_N_Emn)) ** self.p_T\n"
     ]
    },
    {
     "ename": "RuntimeError",
     "evalue": "Factor is exactly singular",
     "output_type": "error",
     "traceback": [
      "\u001B[0;31m---------------------------------------------------------------------------\u001B[0m",
      "\u001B[0;31mRuntimeError\u001B[0m                              Traceback (most recent call last)",
      "\u001B[0;32m<ipython-input-8-12ca4f46bc4c>\u001B[0m in \u001B[0;36m<module>\u001B[0;34m\u001B[0m\n\u001B[1;32m      4\u001B[0m \u001B[0ms\u001B[0m\u001B[0;34m.\u001B[0m\u001B[0mtline\u001B[0m\u001B[0;34m.\u001B[0m\u001B[0mstep\u001B[0m \u001B[0;34m=\u001B[0m \u001B[0;36m1\u001B[0m \u001B[0;34m/\u001B[0m \u001B[0mw_steps\u001B[0m\u001B[0;34m\u001B[0m\u001B[0;34m\u001B[0m\u001B[0m\n\u001B[1;32m      5\u001B[0m \u001B[0ms\u001B[0m\u001B[0;34m.\u001B[0m\u001B[0mtloop\u001B[0m\u001B[0;34m.\u001B[0m\u001B[0mverbose\u001B[0m \u001B[0;34m=\u001B[0m \u001B[0;32mTrue\u001B[0m\u001B[0;34m\u001B[0m\u001B[0;34m\u001B[0m\u001B[0m\n\u001B[0;32m----> 6\u001B[0;31m \u001B[0ms\u001B[0m\u001B[0;34m.\u001B[0m\u001B[0mrun\u001B[0m\u001B[0;34m(\u001B[0m\u001B[0;34m)\u001B[0m\u001B[0;34m\u001B[0m\u001B[0;34m\u001B[0m\u001B[0m\n\u001B[0m\u001B[1;32m      7\u001B[0m \u001B[0;34m\u001B[0m\u001B[0m\n",
      "\u001B[0;32m~/PycharmProjects/bmcs_ibvpy/ibvpy/sim/sim_base.py\u001B[0m in \u001B[0;36mrun\u001B[0;34m(self)\u001B[0m\n\u001B[1;32m     71\u001B[0m         r'''Run a thread if it does not exist - do nothing otherwise\n\u001B[1;32m     72\u001B[0m         '''\n\u001B[0;32m---> 73\u001B[0;31m         \u001B[0mself\u001B[0m\u001B[0;34m.\u001B[0m\u001B[0mtloop\u001B[0m\u001B[0;34m(\u001B[0m\u001B[0;34m)\u001B[0m\u001B[0;34m\u001B[0m\u001B[0;34m\u001B[0m\u001B[0m\n\u001B[0m\u001B[1;32m     74\u001B[0m         \u001B[0;32mreturn\u001B[0m\u001B[0;34m\u001B[0m\u001B[0;34m\u001B[0m\u001B[0m\n\u001B[1;32m     75\u001B[0m \u001B[0;34m\u001B[0m\u001B[0m\n",
      "\u001B[0;32m~/PycharmProjects/bmcs_ibvpy/ibvpy/sim/tloop.py\u001B[0m in \u001B[0;36m__call__\u001B[0;34m(self)\u001B[0m\n\u001B[1;32m     63\u001B[0m     \u001B[0;32mdef\u001B[0m \u001B[0m__call__\u001B[0m\u001B[0;34m(\u001B[0m\u001B[0mself\u001B[0m\u001B[0;34m)\u001B[0m\u001B[0;34m:\u001B[0m\u001B[0;34m\u001B[0m\u001B[0;34m\u001B[0m\u001B[0m\n\u001B[1;32m     64\u001B[0m         \u001B[0mself\u001B[0m\u001B[0;34m.\u001B[0m\u001B[0minit\u001B[0m\u001B[0;34m(\u001B[0m\u001B[0;34m)\u001B[0m\u001B[0;34m\u001B[0m\u001B[0;34m\u001B[0m\u001B[0m\n\u001B[0;32m---> 65\u001B[0;31m         \u001B[0;32mreturn\u001B[0m \u001B[0mself\u001B[0m\u001B[0;34m.\u001B[0m\u001B[0meval\u001B[0m\u001B[0;34m(\u001B[0m\u001B[0;34m)\u001B[0m\u001B[0;34m\u001B[0m\u001B[0;34m\u001B[0m\u001B[0m\n\u001B[0m",
      "\u001B[0;32m~/PycharmProjects/bmcs_ibvpy/ibvpy/sim/tloop_implicit.py\u001B[0m in \u001B[0;36meval\u001B[0;34m(self)\u001B[0m\n\u001B[1;32m     43\u001B[0m                     \u001B[0mself\u001B[0m\u001B[0;34m.\u001B[0m\u001B[0mtstep\u001B[0m\u001B[0;34m.\u001B[0m\u001B[0mmake_iter\u001B[0m\u001B[0;34m(\u001B[0m\u001B[0;34m)\u001B[0m\u001B[0;34m\u001B[0m\u001B[0;34m\u001B[0m\u001B[0m\n\u001B[1;32m     44\u001B[0m                 \u001B[0;32mexcept\u001B[0m \u001B[0mRuntimeError\u001B[0m \u001B[0;32mas\u001B[0m \u001B[0me\u001B[0m\u001B[0;34m:\u001B[0m\u001B[0;34m\u001B[0m\u001B[0;34m\u001B[0m\u001B[0m\n\u001B[0;32m---> 45\u001B[0;31m                     \u001B[0;32mraise\u001B[0m\u001B[0;34m(\u001B[0m\u001B[0me\u001B[0m\u001B[0;34m)\u001B[0m\u001B[0;34m\u001B[0m\u001B[0;34m\u001B[0m\u001B[0m\n\u001B[0m\u001B[1;32m     46\u001B[0m                 \u001B[0mk\u001B[0m \u001B[0;34m+=\u001B[0m \u001B[0;36m1\u001B[0m\u001B[0;34m\u001B[0m\u001B[0;34m\u001B[0m\u001B[0m\n\u001B[1;32m     47\u001B[0m             \u001B[0;32melse\u001B[0m\u001B[0;34m:\u001B[0m  \u001B[0;31m# handle unfinished iteration loop\u001B[0m\u001B[0;34m\u001B[0m\u001B[0;34m\u001B[0m\u001B[0m\n",
      "\u001B[0;32m~/PycharmProjects/bmcs_ibvpy/ibvpy/sim/tloop_implicit.py\u001B[0m in \u001B[0;36meval\u001B[0;34m(self)\u001B[0m\n\u001B[1;32m     41\u001B[0m                     \u001B[0;32mbreak\u001B[0m\u001B[0;34m\u001B[0m\u001B[0;34m\u001B[0m\u001B[0m\n\u001B[1;32m     42\u001B[0m                 \u001B[0;32mtry\u001B[0m\u001B[0;34m:\u001B[0m\u001B[0;34m\u001B[0m\u001B[0;34m\u001B[0m\u001B[0m\n\u001B[0;32m---> 43\u001B[0;31m                     \u001B[0mself\u001B[0m\u001B[0;34m.\u001B[0m\u001B[0mtstep\u001B[0m\u001B[0;34m.\u001B[0m\u001B[0mmake_iter\u001B[0m\u001B[0;34m(\u001B[0m\u001B[0;34m)\u001B[0m\u001B[0;34m\u001B[0m\u001B[0;34m\u001B[0m\u001B[0m\n\u001B[0m\u001B[1;32m     44\u001B[0m                 \u001B[0;32mexcept\u001B[0m \u001B[0mRuntimeError\u001B[0m \u001B[0;32mas\u001B[0m \u001B[0me\u001B[0m\u001B[0;34m:\u001B[0m\u001B[0;34m\u001B[0m\u001B[0;34m\u001B[0m\u001B[0m\n\u001B[1;32m     45\u001B[0m                     \u001B[0;32mraise\u001B[0m\u001B[0;34m(\u001B[0m\u001B[0me\u001B[0m\u001B[0;34m)\u001B[0m\u001B[0;34m\u001B[0m\u001B[0;34m\u001B[0m\u001B[0m\n",
      "\u001B[0;32m~/PycharmProjects/bmcs_ibvpy/ibvpy/sim/tstep_bc.py\u001B[0m in \u001B[0;36mmake_iter\u001B[0;34m(self)\u001B[0m\n\u001B[1;32m    147\u001B[0m         '''Perform a single iteration\n\u001B[1;32m    148\u001B[0m         '''\n\u001B[0;32m--> 149\u001B[0;31m         \u001B[0md_U_k\u001B[0m\u001B[0;34m,\u001B[0m \u001B[0mpos_def\u001B[0m \u001B[0;34m=\u001B[0m \u001B[0mself\u001B[0m\u001B[0;34m.\u001B[0m\u001B[0mK\u001B[0m\u001B[0;34m.\u001B[0m\u001B[0msolve\u001B[0m\u001B[0;34m(\u001B[0m\u001B[0mcheck_pos_def\u001B[0m\u001B[0;34m=\u001B[0m\u001B[0;32mTrue\u001B[0m\u001B[0;34m)\u001B[0m\u001B[0;34m\u001B[0m\u001B[0;34m\u001B[0m\u001B[0m\n\u001B[0m\u001B[1;32m    150\u001B[0m         \u001B[0;32mif\u001B[0m \u001B[0mself\u001B[0m\u001B[0;34m.\u001B[0m\u001B[0mdebug\u001B[0m\u001B[0;34m:\u001B[0m\u001B[0;34m\u001B[0m\u001B[0;34m\u001B[0m\u001B[0m\n\u001B[1;32m    151\u001B[0m             \u001B[0mprint\u001B[0m\u001B[0;34m(\u001B[0m\u001B[0;34m'positive definite'\u001B[0m\u001B[0;34m,\u001B[0m \u001B[0mpos_def\u001B[0m\u001B[0;34m)\u001B[0m\u001B[0;34m\u001B[0m\u001B[0;34m\u001B[0m\u001B[0m\n",
      "\u001B[0;32m~/PycharmProjects/bmcs_ibvpy/ibvpy/mathkit/linalg/sys_mtx_assembly.py\u001B[0m in \u001B[0;36msolve\u001B[0;34m(self, rhs, matrix_type, check_pos_def)\u001B[0m\n\u001B[1;32m    267\u001B[0m \u001B[0;34m\u001B[0m\u001B[0m\n\u001B[1;32m    268\u001B[0m         \u001B[0mmtx\u001B[0m \u001B[0;34m=\u001B[0m \u001B[0mself\u001B[0m\u001B[0;34m.\u001B[0m\u001B[0mmatrix_type_\u001B[0m\u001B[0;34m(\u001B[0m\u001B[0massemb\u001B[0m\u001B[0;34m=\u001B[0m\u001B[0mself\u001B[0m\u001B[0;34m)\u001B[0m\u001B[0;34m\u001B[0m\u001B[0;34m\u001B[0m\u001B[0m\n\u001B[0;32m--> 269\u001B[0;31m         \u001B[0;32mreturn\u001B[0m \u001B[0mmtx\u001B[0m\u001B[0;34m.\u001B[0m\u001B[0msolve\u001B[0m\u001B[0;34m(\u001B[0m\u001B[0mself\u001B[0m\u001B[0;34m.\u001B[0m\u001B[0m_rhs\u001B[0m\u001B[0;34m,\u001B[0m \u001B[0mcheck_pos_def\u001B[0m\u001B[0;34m)\u001B[0m\u001B[0;34m\u001B[0m\u001B[0;34m\u001B[0m\u001B[0m\n\u001B[0m\u001B[1;32m    270\u001B[0m \u001B[0;34m\u001B[0m\u001B[0m\n\u001B[1;32m    271\u001B[0m     \u001B[0;32mdef\u001B[0m \u001B[0mreset\u001B[0m\u001B[0;34m(\u001B[0m\u001B[0mself\u001B[0m\u001B[0;34m)\u001B[0m\u001B[0;34m:\u001B[0m\u001B[0;34m\u001B[0m\u001B[0;34m\u001B[0m\u001B[0m\n",
      "\u001B[0;32m~/PycharmProjects/bmcs_ibvpy/ibvpy/mathkit/linalg/coo_mtx.py\u001B[0m in \u001B[0;36msolve\u001B[0;34m(self, rhs, check_pos_dev)\u001B[0m\n\u001B[1;32m     77\u001B[0m         \u001B[0mpos_def\u001B[0m \u001B[0;34m=\u001B[0m \u001B[0;32mTrue\u001B[0m\u001B[0;34m\u001B[0m\u001B[0;34m\u001B[0m\u001B[0m\n\u001B[1;32m     78\u001B[0m         \u001B[0;32mif\u001B[0m \u001B[0mcheck_pos_dev\u001B[0m\u001B[0;34m:\u001B[0m\u001B[0;34m\u001B[0m\u001B[0;34m\u001B[0m\u001B[0m\n\u001B[0;32m---> 79\u001B[0;31m             \u001B[0mevals_small\u001B[0m\u001B[0;34m,\u001B[0m \u001B[0mevecs_small\u001B[0m \u001B[0;34m=\u001B[0m \u001B[0meigsh\u001B[0m\u001B[0;34m(\u001B[0m\u001B[0mmtx_csr\u001B[0m\u001B[0;34m,\u001B[0m \u001B[0;36m3\u001B[0m\u001B[0;34m,\u001B[0m \u001B[0msigma\u001B[0m\u001B[0;34m=\u001B[0m\u001B[0;36m0\u001B[0m\u001B[0;34m,\u001B[0m \u001B[0mwhich\u001B[0m\u001B[0;34m=\u001B[0m\u001B[0;34m'LM'\u001B[0m\u001B[0;34m)\u001B[0m\u001B[0;34m\u001B[0m\u001B[0;34m\u001B[0m\u001B[0m\n\u001B[0m\u001B[1;32m     80\u001B[0m             \u001B[0mmin_eval\u001B[0m \u001B[0;34m=\u001B[0m \u001B[0mnp\u001B[0m\u001B[0;34m.\u001B[0m\u001B[0mmin\u001B[0m\u001B[0;34m(\u001B[0m\u001B[0mevals_small\u001B[0m\u001B[0;34m)\u001B[0m\u001B[0;34m\u001B[0m\u001B[0;34m\u001B[0m\u001B[0m\n\u001B[1;32m     81\u001B[0m             \u001B[0mpos_def\u001B[0m \u001B[0;34m=\u001B[0m \u001B[0mmin_eval\u001B[0m \u001B[0;34m>\u001B[0m \u001B[0;36m1e-10\u001B[0m\u001B[0;34m\u001B[0m\u001B[0;34m\u001B[0m\u001B[0m\n",
      "\u001B[0;32m~/miniconda3/envs/bmcs_env/lib/python3.9/site-packages/scipy/sparse/linalg/eigen/arpack/arpack.py\u001B[0m in \u001B[0;36meigsh\u001B[0;34m(A, k, M, sigma, which, v0, ncv, maxiter, tol, return_eigenvectors, Minv, OPinv, mode)\u001B[0m\n\u001B[1;32m   1639\u001B[0m             \u001B[0mmatvec\u001B[0m \u001B[0;34m=\u001B[0m \u001B[0;32mNone\u001B[0m\u001B[0;34m\u001B[0m\u001B[0;34m\u001B[0m\u001B[0m\n\u001B[1;32m   1640\u001B[0m             \u001B[0;32mif\u001B[0m \u001B[0mOPinv\u001B[0m \u001B[0;32mis\u001B[0m \u001B[0;32mNone\u001B[0m\u001B[0;34m:\u001B[0m\u001B[0;34m\u001B[0m\u001B[0;34m\u001B[0m\u001B[0m\n\u001B[0;32m-> 1641\u001B[0;31m                 Minv_matvec = get_OPinv_matvec(A, M, sigma,\n\u001B[0m\u001B[1;32m   1642\u001B[0m                                                hermitian=True, tol=tol)\n\u001B[1;32m   1643\u001B[0m             \u001B[0;32melse\u001B[0m\u001B[0;34m:\u001B[0m\u001B[0;34m\u001B[0m\u001B[0;34m\u001B[0m\u001B[0m\n",
      "\u001B[0;32m~/miniconda3/envs/bmcs_env/lib/python3.9/site-packages/scipy/sparse/linalg/eigen/arpack/arpack.py\u001B[0m in \u001B[0;36mget_OPinv_matvec\u001B[0;34m(A, M, sigma, hermitian, tol)\u001B[0m\n\u001B[1;32m   1057\u001B[0m \u001B[0;32mdef\u001B[0m \u001B[0mget_OPinv_matvec\u001B[0m\u001B[0;34m(\u001B[0m\u001B[0mA\u001B[0m\u001B[0;34m,\u001B[0m \u001B[0mM\u001B[0m\u001B[0;34m,\u001B[0m \u001B[0msigma\u001B[0m\u001B[0;34m,\u001B[0m \u001B[0mhermitian\u001B[0m\u001B[0;34m=\u001B[0m\u001B[0;32mFalse\u001B[0m\u001B[0;34m,\u001B[0m \u001B[0mtol\u001B[0m\u001B[0;34m=\u001B[0m\u001B[0;36m0\u001B[0m\u001B[0;34m)\u001B[0m\u001B[0;34m:\u001B[0m\u001B[0;34m\u001B[0m\u001B[0;34m\u001B[0m\u001B[0m\n\u001B[1;32m   1058\u001B[0m     \u001B[0;32mif\u001B[0m \u001B[0msigma\u001B[0m \u001B[0;34m==\u001B[0m \u001B[0;36m0\u001B[0m\u001B[0;34m:\u001B[0m\u001B[0;34m\u001B[0m\u001B[0;34m\u001B[0m\u001B[0m\n\u001B[0;32m-> 1059\u001B[0;31m         \u001B[0;32mreturn\u001B[0m \u001B[0mget_inv_matvec\u001B[0m\u001B[0;34m(\u001B[0m\u001B[0mA\u001B[0m\u001B[0;34m,\u001B[0m \u001B[0mhermitian\u001B[0m\u001B[0;34m=\u001B[0m\u001B[0mhermitian\u001B[0m\u001B[0;34m,\u001B[0m \u001B[0mtol\u001B[0m\u001B[0;34m=\u001B[0m\u001B[0mtol\u001B[0m\u001B[0;34m)\u001B[0m\u001B[0;34m\u001B[0m\u001B[0;34m\u001B[0m\u001B[0m\n\u001B[0m\u001B[1;32m   1060\u001B[0m \u001B[0;34m\u001B[0m\u001B[0m\n\u001B[1;32m   1061\u001B[0m     \u001B[0;32mif\u001B[0m \u001B[0mM\u001B[0m \u001B[0;32mis\u001B[0m \u001B[0;32mNone\u001B[0m\u001B[0;34m:\u001B[0m\u001B[0;34m\u001B[0m\u001B[0;34m\u001B[0m\u001B[0m\n",
      "\u001B[0;32m~/miniconda3/envs/bmcs_env/lib/python3.9/site-packages/scipy/sparse/linalg/eigen/arpack/arpack.py\u001B[0m in \u001B[0;36mget_inv_matvec\u001B[0;34m(M, hermitian, tol)\u001B[0m\n\u001B[1;32m   1050\u001B[0m     \u001B[0;32melif\u001B[0m \u001B[0misspmatrix\u001B[0m\u001B[0;34m(\u001B[0m\u001B[0mM\u001B[0m\u001B[0;34m)\u001B[0m \u001B[0;32mor\u001B[0m \u001B[0mis_pydata_spmatrix\u001B[0m\u001B[0;34m(\u001B[0m\u001B[0mM\u001B[0m\u001B[0;34m)\u001B[0m\u001B[0;34m:\u001B[0m\u001B[0;34m\u001B[0m\u001B[0;34m\u001B[0m\u001B[0m\n\u001B[1;32m   1051\u001B[0m         \u001B[0mM\u001B[0m \u001B[0;34m=\u001B[0m \u001B[0m_fast_spmatrix_to_csc\u001B[0m\u001B[0;34m(\u001B[0m\u001B[0mM\u001B[0m\u001B[0;34m,\u001B[0m \u001B[0mhermitian\u001B[0m\u001B[0;34m=\u001B[0m\u001B[0mhermitian\u001B[0m\u001B[0;34m)\u001B[0m\u001B[0;34m\u001B[0m\u001B[0;34m\u001B[0m\u001B[0m\n\u001B[0;32m-> 1052\u001B[0;31m         \u001B[0;32mreturn\u001B[0m \u001B[0mSpLuInv\u001B[0m\u001B[0;34m(\u001B[0m\u001B[0mM\u001B[0m\u001B[0;34m)\u001B[0m\u001B[0;34m.\u001B[0m\u001B[0mmatvec\u001B[0m\u001B[0;34m\u001B[0m\u001B[0;34m\u001B[0m\u001B[0m\n\u001B[0m\u001B[1;32m   1053\u001B[0m     \u001B[0;32melse\u001B[0m\u001B[0;34m:\u001B[0m\u001B[0;34m\u001B[0m\u001B[0;34m\u001B[0m\u001B[0m\n\u001B[1;32m   1054\u001B[0m         \u001B[0;32mreturn\u001B[0m \u001B[0mIterInv\u001B[0m\u001B[0;34m(\u001B[0m\u001B[0mM\u001B[0m\u001B[0;34m,\u001B[0m \u001B[0mtol\u001B[0m\u001B[0;34m=\u001B[0m\u001B[0mtol\u001B[0m\u001B[0;34m)\u001B[0m\u001B[0;34m.\u001B[0m\u001B[0mmatvec\u001B[0m\u001B[0;34m\u001B[0m\u001B[0;34m\u001B[0m\u001B[0m\n",
      "\u001B[0;32m~/miniconda3/envs/bmcs_env/lib/python3.9/site-packages/scipy/sparse/linalg/eigen/arpack/arpack.py\u001B[0m in \u001B[0;36m__init__\u001B[0;34m(self, M)\u001B[0m\n\u001B[1;32m    912\u001B[0m     \"\"\"\n\u001B[1;32m    913\u001B[0m     \u001B[0;32mdef\u001B[0m \u001B[0m__init__\u001B[0m\u001B[0;34m(\u001B[0m\u001B[0mself\u001B[0m\u001B[0;34m,\u001B[0m \u001B[0mM\u001B[0m\u001B[0;34m)\u001B[0m\u001B[0;34m:\u001B[0m\u001B[0;34m\u001B[0m\u001B[0;34m\u001B[0m\u001B[0m\n\u001B[0;32m--> 914\u001B[0;31m         \u001B[0mself\u001B[0m\u001B[0;34m.\u001B[0m\u001B[0mM_lu\u001B[0m \u001B[0;34m=\u001B[0m \u001B[0msplu\u001B[0m\u001B[0;34m(\u001B[0m\u001B[0mM\u001B[0m\u001B[0;34m)\u001B[0m\u001B[0;34m\u001B[0m\u001B[0;34m\u001B[0m\u001B[0m\n\u001B[0m\u001B[1;32m    915\u001B[0m         \u001B[0mself\u001B[0m\u001B[0;34m.\u001B[0m\u001B[0mshape\u001B[0m \u001B[0;34m=\u001B[0m \u001B[0mM\u001B[0m\u001B[0;34m.\u001B[0m\u001B[0mshape\u001B[0m\u001B[0;34m\u001B[0m\u001B[0;34m\u001B[0m\u001B[0m\n\u001B[1;32m    916\u001B[0m         \u001B[0mself\u001B[0m\u001B[0;34m.\u001B[0m\u001B[0mdtype\u001B[0m \u001B[0;34m=\u001B[0m \u001B[0mM\u001B[0m\u001B[0;34m.\u001B[0m\u001B[0mdtype\u001B[0m\u001B[0;34m\u001B[0m\u001B[0;34m\u001B[0m\u001B[0m\n",
      "\u001B[0;32m~/miniconda3/envs/bmcs_env/lib/python3.9/site-packages/scipy/sparse/linalg/dsolve/linsolve.py\u001B[0m in \u001B[0;36msplu\u001B[0;34m(A, permc_spec, diag_pivot_thresh, relax, panel_size, options)\u001B[0m\n\u001B[1;32m    335\u001B[0m         \u001B[0m_options\u001B[0m\u001B[0;34m[\u001B[0m\u001B[0;34m\"SymmetricMode\"\u001B[0m\u001B[0;34m]\u001B[0m \u001B[0;34m=\u001B[0m \u001B[0;32mTrue\u001B[0m\u001B[0;34m\u001B[0m\u001B[0;34m\u001B[0m\u001B[0m\n\u001B[1;32m    336\u001B[0m \u001B[0;34m\u001B[0m\u001B[0m\n\u001B[0;32m--> 337\u001B[0;31m     return _superlu.gstrf(N, A.nnz, A.data, A.indices, A.indptr,\n\u001B[0m\u001B[1;32m    338\u001B[0m                           \u001B[0mcsc_construct_func\u001B[0m\u001B[0;34m=\u001B[0m\u001B[0mcsc_construct_func\u001B[0m\u001B[0;34m,\u001B[0m\u001B[0;34m\u001B[0m\u001B[0;34m\u001B[0m\u001B[0m\n\u001B[1;32m    339\u001B[0m                           ilu=False, options=_options)\n",
      "\u001B[0;31mRuntimeError\u001B[0m: Factor is exactly singular"
     ]
    }
   ],
   "source": [
    "w_steps = 50\n",
    "s = m.sim\n",
    "s.tloop.k_max = 1000\n",
    "s.tline.step = 1 / w_steps\n",
    "s.tloop.verbose = True\n",
    "s.run()"
   ],
   "metadata": {
    "collapsed": false,
    "pycharm": {
     "name": "#%%\n"
    }
   }
  },
  {
   "cell_type": "code",
   "execution_count": 9,
   "outputs": [],
   "source": [
    "F_to = m.hist.F_t\n",
    "U_to = m.hist.U_t"
   ],
   "metadata": {
    "collapsed": false,
    "pycharm": {
     "name": "#%%\n"
    }
   }
  },
  {
   "cell_type": "code",
   "execution_count": 10,
   "outputs": [
    {
     "data": {
      "text/plain": "[<matplotlib.lines.Line2D at 0x7fe74dfc54f0>]"
     },
     "execution_count": 10,
     "metadata": {},
     "output_type": "execute_result"
    },
    {
     "data": {
      "text/plain": "<Figure size 432x288 with 1 Axes>",
      "image/png": "[encoded data removed]"
     },
     "metadata": {
      "needs_background": "light"
     },
     "output_type": "display_data"
    }
   ],
   "source": [
    "F_l_t = np.sum(F_to[:, bc_l_x.dofs], axis=-1)\n",
    "F_r_t = np.sum(F_to[:, bc_r_x.dofs], axis=-1)\n",
    "U_r_t = np.average(U_to[:, bc_r_x.dofs], axis=-1)\n",
    "\n",
    "import matplotlib.pylab as plt\n",
    "plt.plot(-U_r_t, -F_r_t)\n",
    "plt.plot(-U_r_t, F_l_t)"
   ],
   "metadata": {
    "collapsed": false,
    "pycharm": {
     "name": "#%%\n"
    }
   }
  },
  {
   "cell_type": "code",
   "execution_count": 27,
   "outputs": [],
   "source": [],
   "metadata": {
    "collapsed": false,
    "pycharm": {
     "name": "#%%\n"
    }
   }
  }
 ],
 "metadata": {
  "kernelspec": {
   "display_name": "Python 3",
   "language": "python",
   "name": "python3"
  },
  "language_info": {
   "codemirror_mode": {
    "name": "ipython",
    "version": 2
   },
   "file_extension": ".py",
   "mimetype": "text/x-python",
   "name": "python",
   "nbconvert_exporter": "python",
   "pygments_lexer": "ipython2",
   "version": "2.7.6"
  }
 },
 "nbformat": 4,
 "nbformat_minor": 0
}