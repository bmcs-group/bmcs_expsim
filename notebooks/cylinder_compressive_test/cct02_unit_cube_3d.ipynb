{
 "cells": [
  {
   "cell_type": "markdown",
   "metadata": {
    "pycharm": {
     "name": "#%% md\n"
    }
   },
   "source": [
    "# Cylindrical compressive test"
   ]
  },
  {
   "cell_type": "code",
   "execution_count": 1,
   "metadata": {
    "pycharm": {
     "name": "#%%\n"
    }
   },
   "outputs": [],
   "source": [
    "from ibvpy.bcond import BCSlice\n",
    "from ibvpy.fets import FETS3D8H\n",
    "from ibvpy.tmodel.mats3D import MATS3DElastic\n",
    "from bmcs_matmod.ms1.ms1 import MS13D\n",
    "import bmcs_matmod.ms1.concrete_material_db as mp_db\n",
    "from ibvpy.tmodel.viz3d_scalar_field import \\\n",
    "    Vis3DStateField, Viz3DScalarField\n",
    "from ibvpy.tmodel.viz3d_tensor_field import \\\n",
    "    Vis3DTensorField, Viz3DTensorField\n",
    "from mayavi import mlab\n",
    "from ibvpy.sim.tstep_bc import TStepBC\n",
    "from ibvpy.xmodel.xdomain_fe_grid import XDomainFEGrid\n",
    "\n",
    "import numpy as np"
   ]
  },
  {
   "cell_type": "code",
   "execution_count": 2,
   "metadata": {
    "pycharm": {
     "name": "#%%\n"
    }
   },
   "outputs": [],
   "source": [
    "from bmcs_expsim.utils.mlab_decorators import decorate_figure"
   ]
  },
  {
   "cell_type": "markdown",
   "metadata": {
    "pycharm": {
     "name": "#%% md\n"
    }
   },
   "source": [
    "**Check the material parameters** of C40 concrete matrix"
   ]
  },
  {
   "cell_type": "code",
   "execution_count": 3,
   "metadata": {
    "pycharm": {
     "name": "#%%\n"
    }
   },
   "outputs": [
    {
     "data": {
      "text/plain": [
       "{'E': 37000.0,\n",
       " 'nu': 0.2,\n",
       " 'Ad': 800.0,\n",
       " 'eps_0': 7e-05,\n",
       " 'K_N': 14000.0,\n",
       " 'sigma_N_0': 25.0,\n",
       " 'gamma_N': 5000.0,\n",
       " 'sigma_T_0': 2.2,\n",
       " 'K_T': 1200.0,\n",
       " 'gamma_T': 65000,\n",
       " 'S_T': 0.0025,\n",
       " 'c_T': 8.7,\n",
       " 'r_T': 9.2,\n",
       " 'm_T': 0.001,\n",
       " 'p_T': 7.5}"
      ]
     },
     "execution_count": 3,
     "metadata": {},
     "output_type": "execute_result"
    }
   ],
   "source": [
    "mp_db.C40MS1"
   ]
  },
  {
   "cell_type": "code",
   "execution_count": 4,
   "metadata": {
    "pycharm": {
     "name": "#%%\n"
    }
   },
   "outputs": [],
   "source": [
    "xmodel = XDomainFEGrid(coord_min=(0,0,0),\n",
    "                     coord_max=(1,1, 1),\n",
    "                     shape=(1, 1, 1),\n",
    "                     integ_factor=1,\n",
    "                     fets=FETS3D8H())"
   ]
  },
  {
   "cell_type": "code",
   "execution_count": 5,
   "metadata": {
    "pycharm": {
     "name": "#%%\n"
    }
   },
   "outputs": [],
   "source": [
    "tmodel = MS13D(**mp_db.C40MS1)\n",
    "#tmodel = MATS3DElastic(E=1, nu=0)"
   ]
  },
  {
   "cell_type": "code",
   "execution_count": 6,
   "metadata": {
    "pycharm": {
     "name": "#%%\n"
    }
   },
   "outputs": [],
   "source": [
    "w_max = -1e-2\n",
    "#w_max = -1\n",
    "bc_l_x = BCSlice(slice=xmodel.mesh[0, :, :, 0, :, :],\n",
    "                  var='u', dims=[0], value=0.0)\n",
    "bc_r_x = BCSlice(slice=xmodel.mesh[-1, :, :, -1, :, :],\n",
    "                 var='u', dims=[0], value=w_max)\n",
    "bc_xy_z0 = BCSlice(slice=xmodel.mesh[:, :, 0, :, :, 0],\n",
    "                  var='u', dims=[2], value=0)\n",
    "bc_xz_y0 = BCSlice(slice=xmodel.mesh[:, 0, :, :, 0, :],\n",
    "                 var='u', dims=[1], value=0)\n"
   ]
  },
  {
   "cell_type": "code",
   "execution_count": 7,
   "metadata": {
    "pycharm": {
     "name": "#%%\n"
    }
   },
   "outputs": [],
   "source": [
    "m = TStepBC(\n",
    "    domains=[(xmodel, tmodel)],\n",
    "    bc=[bc_l_x, bc_r_x, bc_xy_z0, bc_xz_y0] # , bc_r_y],\n",
    ")\n",
    "\n",
    "m.hist.vis_record = {\n",
    "    'strain': Vis3DTensorField(var='eps_ab'),\n",
    "    # 'stress': Vis3DTensorField(var='sig_ab'),\n",
    "    #        'damage': Vis3DStateField(var='omega_a'),\n",
    "    #        'kinematic hardening': Vis3DStateField(var='z_a')\n",
    "}\n"
   ]
  },
  {
   "cell_type": "code",
   "execution_count": 8,
   "metadata": {
    "pycharm": {
     "name": "#%%\n"
    }
   },
   "outputs": [
    {
     "name": "stdout",
     "output_type": "stream",
     "text": [
      "VAR\n",
      "eps_ab\n",
      "DOMAIN\n",
      "{'eps_ab': <bound method MATSXDEval.get_eps_ab of <bmcs_matmod.ms1.ms1.MS13D object at 0x7f19f7765db0>>, 'sig_ab': <bound method MATSXDEval.get_sig_ab of <bmcs_matmod.ms1.ms1.MS13D object at 0x7f19f7765db0>>}\n",
      "t:\t 0.00corrected version\n",
      "corrected version\n",
      "(0), \n",
      "\t 0.05corrected version\n",
      "corrected version\n",
      "corrected version\n",
      "corrected version\n",
      "corrected version\n",
      "corrected version\n",
      "corrected version\n",
      "corrected version\n",
      "(3), \n",
      "\t 0.10corrected version\n",
      "corrected version\n",
      "corrected version\n",
      "corrected version\n",
      "corrected version\n",
      "corrected version\n",
      "corrected version\n",
      "corrected version\n",
      "corrected version\n",
      "corrected version\n",
      "corrected version\n",
      "corrected version\n",
      "corrected version\n",
      "corrected version\n",
      "(6), \n",
      "\t 0.15corrected version\n",
      "corrected version\n",
      "corrected version\n",
      "corrected version\n",
      "corrected version\n",
      "corrected version\n",
      "corrected version\n",
      "corrected version\n",
      "corrected version\n",
      "corrected version\n",
      "corrected version\n",
      "corrected version\n",
      "corrected version\n",
      "corrected version\n",
      "corrected version\n",
      "corrected version\n",
      "corrected version\n",
      "corrected version\n",
      "(8), \n",
      "\t 0.20corrected version\n",
      "corrected version\n",
      "corrected version\n",
      "corrected version\n",
      "corrected version\n",
      "corrected version\n",
      "corrected version\n",
      "corrected version\n",
      "corrected version\n",
      "corrected version\n",
      "corrected version\n",
      "corrected version\n",
      "corrected version\n",
      "corrected version\n",
      "corrected version\n",
      "corrected version\n",
      "corrected version\n",
      "corrected version\n",
      "corrected version\n",
      "corrected version\n",
      "corrected version\n",
      "corrected version\n",
      "(10), \n",
      "\t 0.25corrected version\n",
      "corrected version\n",
      "corrected version\n",
      "corrected version\n",
      "corrected version\n",
      "corrected version\n",
      "corrected version\n",
      "corrected version\n",
      "corrected version\n",
      "corrected version\n",
      "corrected version\n",
      "corrected version\n",
      "corrected version\n",
      "corrected version\n",
      "corrected version\n",
      "corrected version\n",
      "corrected version\n",
      "corrected version\n",
      "corrected version\n",
      "corrected version\n",
      "corrected version\n",
      "corrected version\n",
      "corrected version\n",
      "corrected version\n",
      "corrected version\n",
      "corrected version\n",
      "corrected version\n",
      "corrected version\n",
      "corrected version\n",
      "corrected version\n",
      "corrected version\n",
      "corrected version\n",
      "corrected version\n",
      "corrected version\n",
      "corrected version\n",
      "corrected version\n",
      "corrected version\n",
      "corrected version\n",
      "(18), \n",
      "\t 0.30corrected version\n",
      "corrected version\n",
      "corrected version\n",
      "corrected version\n",
      "corrected version\n",
      "corrected version\n",
      "corrected version\n",
      "corrected version\n",
      "corrected version\n",
      "corrected version\n",
      "corrected version\n",
      "corrected version\n",
      "corrected version\n",
      "corrected version\n",
      "corrected version\n",
      "corrected version\n",
      "corrected version\n",
      "corrected version\n",
      "(8), \n",
      "\t 0.35corrected version\n",
      "corrected version\n",
      "corrected version\n",
      "corrected version\n",
      "corrected version\n",
      "corrected version\n",
      "corrected version\n",
      "corrected version\n",
      "corrected version\n",
      "corrected version\n",
      "corrected version\n",
      "corrected version\n",
      "corrected version\n",
      "corrected version\n",
      "corrected version\n",
      "corrected version\n",
      "corrected version\n",
      "corrected version\n",
      "corrected version\n",
      "corrected version\n",
      "corrected version\n",
      "corrected version\n",
      "corrected version\n",
      "corrected version\n",
      "corrected version\n",
      "corrected version\n",
      "corrected version\n",
      "corrected version\n",
      "(13), \n",
      "\t 0.40corrected version\n",
      "corrected version\n",
      "corrected version\n",
      "corrected version\n",
      "corrected version\n",
      "corrected version\n",
      "corrected version\n",
      "corrected version\n",
      "corrected version\n",
      "corrected version\n",
      "corrected version\n",
      "corrected version\n",
      "(5), \n",
      "\t 0.45corrected version\n",
      "corrected version\n",
      "corrected version\n",
      "corrected version\n",
      "corrected version\n",
      "corrected version\n",
      "corrected version\n",
      "corrected version\n",
      "corrected version\n",
      "corrected version\n",
      "corrected version\n",
      "corrected version\n",
      "(5), \n",
      "\t 0.50corrected version\n",
      "corrected version\n",
      "corrected version\n",
      "corrected version\n",
      "corrected version\n",
      "corrected version\n",
      "corrected version\n",
      "corrected version\n",
      "corrected version\n",
      "corrected version\n",
      "(4), \n",
      "\t 0.55corrected version\n",
      "corrected version\n",
      "corrected version\n",
      "corrected version\n",
      "corrected version\n",
      "corrected version\n",
      "corrected version\n",
      "corrected version\n",
      "corrected version\n",
      "corrected version\n",
      "(4), \n",
      "\t 0.60corrected version\n",
      "corrected version\n",
      "corrected version\n",
      "corrected version\n",
      "corrected version\n",
      "corrected version\n",
      "corrected version\n",
      "corrected version\n",
      "(3), \n",
      "\t 0.65corrected version\n",
      "corrected version\n",
      "corrected version\n",
      "corrected version\n",
      "corrected version\n",
      "corrected version\n",
      "corrected version\n",
      "corrected version\n",
      "corrected version\n",
      "corrected version\n",
      "(4), \n",
      "\t 0.70corrected version\n",
      "corrected version\n",
      "corrected version\n",
      "corrected version\n",
      "corrected version\n",
      "corrected version\n",
      "corrected version\n",
      "corrected version\n",
      "corrected version\n",
      "corrected version\n",
      "corrected version\n",
      "corrected version\n",
      "corrected version\n",
      "corrected version\n",
      "(6), \n",
      "\t 0.75corrected version\n",
      "corrected version\n",
      "corrected version\n",
      "corrected version\n",
      "corrected version\n",
      "corrected version\n",
      "corrected version\n",
      "corrected version\n",
      "corrected version\n",
      "corrected version\n",
      "corrected version\n",
      "corrected version\n",
      "corrected version\n",
      "corrected version\n",
      "(6), \n",
      "\t 0.80corrected version\n",
      "corrected version\n",
      "corrected version\n",
      "corrected version\n",
      "corrected version\n",
      "corrected version\n",
      "corrected version\n",
      "corrected version\n",
      "corrected version\n",
      "corrected version\n",
      "corrected version\n",
      "corrected version\n",
      "(5), \n",
      "\t 0.85corrected version\n",
      "corrected version\n",
      "corrected version\n",
      "corrected version\n",
      "corrected version\n",
      "corrected version\n",
      "corrected version\n",
      "corrected version\n",
      "corrected version\n",
      "corrected version\n",
      "corrected version\n",
      "corrected version\n",
      "(5), \n",
      "\t 0.90corrected version\n",
      "corrected version\n",
      "corrected version\n",
      "corrected version\n",
      "corrected version\n",
      "corrected version\n",
      "corrected version\n",
      "corrected version\n",
      "corrected version\n",
      "corrected version\n",
      "corrected version\n",
      "corrected version\n",
      "(5), \n",
      "\t 0.95corrected version\n",
      "corrected version\n",
      "corrected version\n",
      "corrected version\n",
      "corrected version\n",
      "corrected version\n",
      "corrected version\n",
      "corrected version\n",
      "corrected version\n",
      "corrected version\n",
      "(4), \n",
      "\t 1.00corrected version\n",
      "corrected version\n",
      "corrected version\n",
      "corrected version\n",
      "corrected version\n",
      "corrected version\n",
      "corrected version\n",
      "corrected version\n",
      "corrected version\n",
      "corrected version\n",
      "(4), \n",
      "\n"
     ]
    }
   ],
   "source": [
    "w_steps = 20\n",
    "s = m.sim\n",
    "s.tloop.k_max = 1000\n",
    "s.tline.step = 1 / w_steps\n",
    "s.tloop.verbose = True\n",
    "s.run()"
   ]
  },
  {
   "cell_type": "code",
   "execution_count": 9,
   "metadata": {
    "pycharm": {
     "name": "#%%\n"
    }
   },
   "outputs": [],
   "source": [
    "F_to = m.hist.F_t\n",
    "U_to = m.hist.U_t"
   ]
  },
  {
   "cell_type": "code",
   "execution_count": 10,
   "metadata": {
    "pycharm": {
     "name": "#%%\n"
    }
   },
   "outputs": [
    {
     "data": {
      "text/plain": [
       "[<matplotlib.lines.Line2D at 0x7f19f59aa280>]"
      ]
     },
     "execution_count": 10,
     "metadata": {},
     "output_type": "execute_result"
    },
    {
     "data": {
      "image/png": "[encoded data removed]",
      "text/plain": [
       "<Figure size 432x288 with 1 Axes>"
      ]
     },
     "metadata": {
      "needs_background": "light"
     },
     "output_type": "display_data"
    }
   ],
   "source": [
    "F_l_t = np.sum(F_to[:, bc_l_x.dofs], axis=-1)\n",
    "F_r_t = np.sum(F_to[:, bc_r_x.dofs], axis=-1)\n",
    "U_r_t = np.average(U_to[:, bc_r_x.dofs], axis=-1)\n",
    "\n",
    "import matplotlib.pylab as plt\n",
    "plt.plot(-U_r_t, -F_r_t)\n",
    "plt.plot(-U_r_t, F_l_t)"
   ]
  },
  {
   "cell_type": "code",
   "execution_count": null,
   "metadata": {
    "pycharm": {
     "name": "#%%\n"
    }
   },
   "outputs": [],
   "source": []
  },
  {
   "cell_type": "code",
   "execution_count": null,
   "metadata": {},
   "outputs": [],
   "source": []
  }
 ],
 "metadata": {
  "kernelspec": {
   "display_name": "bmcs_env",
   "language": "python",
   "name": "bmcs_env"
  },
  "language_info": {
   "codemirror_mode": {
    "name": "ipython",
    "version": 3
   },
   "file_extension": ".py",
   "mimetype": "text/x-python",
   "name": "python",
   "nbconvert_exporter": "python",
   "pygments_lexer": "ipython3",
   "version": "3.9.1"
  },
  "toc": {
   "base_numbering": 1,
   "nav_menu": {},
   "number_sections": true,
   "sideBar": true,
   "skip_h1_title": false,
   "title_cell": "Table of Contents",
   "title_sidebar": "Contents",
   "toc_cell": false,
   "toc_position": {},
   "toc_section_display": true,
   "toc_window_display": false
  }
 },
 "nbformat": 4,
 "nbformat_minor": 4
}
