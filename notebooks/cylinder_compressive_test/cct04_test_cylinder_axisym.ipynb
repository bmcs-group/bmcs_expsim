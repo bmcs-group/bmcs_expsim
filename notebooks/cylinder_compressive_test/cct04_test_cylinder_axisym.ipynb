{
 "cells": [
  {
   "cell_type": "markdown",
   "metadata": {
    "collapsed": true,
    "pycharm": {
     "name": "#%% md\n"
    }
   },
   "source": [
    "# Cylindrical compressive test"
   ]
  },
  {
   "cell_type": "code",
   "execution_count": 1,
   "outputs": [],
   "source": [
    "from ibvpy.bcond import BCSlice\n",
    "from ibvpy.fets import FETS2D4Q\n",
    "from ibvpy.tmodel.mats3D import MATS3DElastic\n",
    "from bmcs_matmod.ms1.ms1 import MS13D\n",
    "import bmcs_matmod.ms1.concrete_material_db as mp_db\n",
    "from ibvpy.tmodel.viz3d_scalar_field import \\\n",
    "    Vis3DStateField, Viz3DScalarField\n",
    "from ibvpy.tmodel.viz3d_tensor_field import \\\n",
    "    Vis3DTensorField, Viz3DTensorField\n",
    "from mayavi import mlab\n",
    "from ibvpy.sim.tstep_bc import TStepBC\n",
    "from ibvpy.xmodel.xdomain_fe_grid_axisym import XDomainFEGridAxiSym\n",
    "\n",
    "import numpy as np\n"
   ],
   "metadata": {
    "collapsed": false,
    "pycharm": {
     "name": "#%%\n"
    }
   }
  },
  {
   "cell_type": "code",
   "execution_count": 2,
   "outputs": [],
   "source": [
    "from bmcs_expsim.utils.mlab_decorators import decorate_figure\n",
    "\n",
    "# a = pi r**2\n",
    "# r = np.sqrt( a / pi )\n",
    "\n",
    "unit_radius = np.sqrt( 1 / np.pi )\n",
    "unit_height = 1"
   ],
   "metadata": {
    "collapsed": false,
    "pycharm": {
     "name": "#%%\n"
    }
   }
  },
  {
   "cell_type": "code",
   "execution_count": 3,
   "outputs": [],
   "source": [
    "\n",
    "\n",
    "inner_radius = 0\n",
    "outer_radius = 75\n",
    "height = 150\n",
    "\n",
    "xmodel = XDomainFEGridAxiSym(coord_min=(0,inner_radius),\n",
    "                             coord_max=(height,outer_radius),\n",
    "                             shape=(3, 3),\n",
    "                             integ_factor=2 * np.pi,\n",
    "                             fets=FETS2D4Q())"
   ],
   "metadata": {
    "collapsed": false,
    "pycharm": {
     "name": "#%%\n"
    }
   }
  },
  {
   "cell_type": "code",
   "execution_count": 4,
   "outputs": [],
   "source": [
    "tmodel = MS13D(**mp_db.C40MS1)\n",
    "#tmodel = MATS3DElastic(E=1, nu=0.3)\n",
    "\n",
    "w_max = height * -1e-2\n",
    "bc_ax_sym = BCSlice(slice=xmodel.mesh[:, 0, :, 0],\n",
    "                 var='u', dims=[1], value=0)\n",
    "bc_l_x = BCSlice(slice=xmodel.mesh[0, :, 0, :],\n",
    "                  var='u', dims=[0], value=0.0)\n",
    "bc_r_x = BCSlice(slice=xmodel.mesh[-1, :, -1, :],\n",
    "                 var='u', dims=[0], value=w_max)\n",
    "bc_r_y = BCSlice(slice=xmodel.mesh[-1, :, -1, :],\n",
    "                  var='u', dims=[1], value=0)"
   ],
   "metadata": {
    "collapsed": false,
    "pycharm": {
     "name": "#%%\n"
    }
   }
  },
  {
   "cell_type": "code",
   "execution_count": 5,
   "outputs": [],
   "source": [
    "m = TStepBC(\n",
    "    domains=[(xmodel, tmodel)],\n",
    "    bc=[bc_ax_sym, bc_l_x, bc_r_x] # , bc_r_y],\n",
    ")\n",
    "\n",
    "m.hist.vis_record = {\n",
    "    'strain': Vis3DTensorField(var='eps_ab'),\n",
    "    # 'stress': Vis3DTensorField(var='sig_ab'),\n",
    "    #        'damage': Vis3DStateField(var='omega_a'),\n",
    "    #        'kinematic hardening': Vis3DStateField(var='z_a')\n",
    "}"
   ],
   "metadata": {
    "collapsed": false,
    "pycharm": {
     "name": "#%%\n"
    }
   }
  },
  {
   "cell_type": "code",
   "execution_count": 6,
   "outputs": [
    {
     "name": "stdout",
     "output_type": "stream",
     "text": [
      "VAR\n",
      "eps_ab\n",
      "DOMAIN\n",
      "{'eps_ab': <bound method MATSXDEval.get_eps_ab of <bmcs_matmod.ms1.ms1.MS13D object at 0x7fed049acd10>>, 'sig_ab': <bound method MATSXDEval.get_sig_ab of <bmcs_matmod.ms1.ms1.MS13D object at 0x7fed049acd10>>}\n",
      "t:\t 0.00(0), \n",
      "\t 0.05(6), \n",
      "\t 0.10(11), \n",
      "\t 0.15(14), \n",
      "\t 0.20(15), \n",
      "\t 0.25(41), \n",
      "\t 0.30(25), \n",
      "\t 0.35(228), \n",
      "\t 0.40(91), \n",
      "\t 0.45(77), \n",
      "\t 0.50(71), \n",
      "\t 0.55(79), \n",
      "\t 0.60(85), \n",
      "\t 0.65(87), \n",
      "\t 0.70(88), \n",
      "\t 0.75(89), \n",
      "\t 0.80(88), \n",
      "\t 0.85(81), \n",
      "\t 0.90(80), \n",
      "\t 0.95(84), \n",
      "\t 1.00(89), \n",
      "\n"
     ]
    }
   ],
   "source": [
    "w_steps = 20\n",
    "s = m.sim\n",
    "s.tloop.k_max = 1000\n",
    "s.tline.step = 1 / w_steps\n",
    "s.tloop.verbose = True\n",
    "s.run()"
   ],
   "metadata": {
    "collapsed": false,
    "pycharm": {
     "name": "#%%\n"
    }
   }
  },
  {
   "cell_type": "code",
   "execution_count": 7,
   "outputs": [],
   "source": [
    "F_to = m.hist.F_t\n",
    "U_to = m.hist.U_t"
   ],
   "metadata": {
    "collapsed": false,
    "pycharm": {
     "name": "#%%\n"
    }
   }
  },
  {
   "cell_type": "code",
   "execution_count": 8,
   "outputs": [
    {
     "data": {
      "text/plain": "[<matplotlib.lines.Line2D at 0x7fecff465f40>]"
     },
     "execution_count": 8,
     "metadata": {},
     "output_type": "execute_result"
    },
    {
     "data": {
      "text/plain": "<Figure size 432x288 with 1 Axes>",
      "image/png": "[encoded data removed]"
     },
     "metadata": {
      "needs_background": "light"
     },
     "output_type": "display_data"
    }
   ],
   "source": [
    "F_l_t = np.sum(F_to[:, bc_l_x.dofs], axis=-1)\n",
    "F_r_t = np.sum(F_to[:, bc_r_x.dofs], axis=-1)\n",
    "U_r_t = np.average(U_to[:, bc_r_x.dofs], axis=-1)\n",
    "\n",
    "A = np.pi * outer_radius**2\n",
    "import matplotlib.pylab as plt\n",
    "plt.plot(-U_r_t, -F_r_t/A)\n",
    "plt.plot(-U_r_t, F_l_t/A)"
   ],
   "metadata": {
    "collapsed": false,
    "pycharm": {
     "name": "#%%\n"
    }
   }
  },
  {
   "cell_type": "code",
   "execution_count": 9,
   "outputs": [],
   "source": [
    "\n",
    "#mlab.options.backend = 'envisage'\n",
    "\n",
    "f_strain = mlab.figure()\n",
    "scene = mlab.get_engine().scenes[-1]\n",
    "scene.name = 'strain'\n",
    "strain_viz = Viz3DTensorField(vis3d=m.hist['strain'])\n",
    "strain_viz.setup()\n",
    "\n",
    "decorate_figure(f_strain, strain_viz, 200, [70, 20, 0])\n",
    "\n",
    "# f_stress = mlab.figure()\n",
    "# scene = mlab.get_engine().scenes[-1]\n",
    "# scene.name = 'stress'\n",
    "# stress_viz = Viz3DTensorField(vis3d=m.hist['stress'])\n",
    "# stress_viz.setup()\n",
    "#\n",
    "# decorate_figure(f_stress, stress_viz, 200, [70, 20, 0])\n",
    "\n",
    "mlab.show()"
   ],
   "metadata": {
    "collapsed": false,
    "pycharm": {
     "name": "#%%\n"
    }
   }
  },
  {
   "cell_type": "code",
   "execution_count": 9,
   "outputs": [],
   "source": [],
   "metadata": {
    "collapsed": false,
    "pycharm": {
     "name": "#%%\n"
    }
   }
  },
  {
   "cell_type": "code",
   "execution_count": null,
   "outputs": [],
   "source": [],
   "metadata": {
    "collapsed": false,
    "pycharm": {
     "name": "#%%\n"
    }
   }
  }
 ],
 "metadata": {
  "kernelspec": {
   "display_name": "Python 3",
   "language": "python",
   "name": "python3"
  },
  "language_info": {
   "codemirror_mode": {
    "name": "ipython",
    "version": 2
   },
   "file_extension": ".py",
   "mimetype": "text/x-python",
   "name": "python",
   "nbconvert_exporter": "python",
   "pygments_lexer": "ipython2",
   "version": "2.7.6"
  }
 },
 "nbformat": 4,
 "nbformat_minor": 0
}