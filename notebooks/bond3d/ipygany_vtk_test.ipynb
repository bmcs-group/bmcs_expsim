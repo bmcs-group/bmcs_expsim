{
 "cells": [
  {
   "cell_type": "markdown",
   "id": "028c1c1f",
   "metadata": {},
   "source": [
    "# Ipygany visualization example"
   ]
  },
  {
   "cell_type": "code",
   "execution_count": null,
   "id": "c17e775f-5bba-4a06-b79d-cc3b727d5b09",
   "metadata": {},
   "outputs": [],
   "source": [
    "from ipygany import Scene, PolyMesh\n",
    "import os\n",
    "\n",
    "home_dir = os.path.expanduser('~')\n",
    "filename = os.path.join(home_dir,'simdb','data','test','eps_ab_step_000_9000.vtk')\n",
    "\n",
    "mesh = PolyMesh.from_vtk(filename)\n",
    "\n",
    "scene = Scene([mesh])\n",
    "scene"
   ]
  },
  {
   "cell_type": "markdown",
   "id": "e2b5935d",
   "metadata": {},
   "source": [
    "Check the options of the Isocolor and Warp classes to visualize the displacement and strain profiles"
   ]
  },
  {
   "cell_type": "code",
   "execution_count": null,
   "id": "636534cd-f715-42b9-8e31-83a68ef5f855",
   "metadata": {},
   "outputs": [],
   "source": [
    "from ipygany import IsoColor, Warp\n",
    "\n",
    "colored_mesh = IsoColor(mesh, input='H', min=0., max=1003.)\n",
    "warped_mesh = Warp(colored_mesh, input=(0, 0, ('H', 'X1')), warp_factor=0.)\n",
    "\n",
    "scene2 = Scene([warped_mesh])\n",
    "scene2"
   ]
  },
  {
   "cell_type": "code",
   "execution_count": null,
   "id": "096d88ec-cd77-483c-92c6-b7933c7467c8",
   "metadata": {},
   "outputs": [],
   "source": []
  }
 ],
 "metadata": {
  "kernelspec": {
   "display_name": "bmcs_env",
   "language": "python",
   "name": "bmcs_env"
  },
  "language_info": {
   "codemirror_mode": {
    "name": "ipython",
    "version": 3
   },
   "file_extension": ".py",
   "mimetype": "text/x-python",
   "name": "python",
   "nbconvert_exporter": "python",
   "pygments_lexer": "ipython3"
  },
  "toc": {
   "base_numbering": 1,
   "nav_menu": {},
   "number_sections": true,
   "sideBar": true,
   "skip_h1_title": false,
   "title_cell": "Table of Contents",
   "title_sidebar": "Contents",
   "toc_cell": false,
   "toc_position": {},
   "toc_section_display": true,
   "toc_window_display": true
  }
 },
 "nbformat": 4,
 "nbformat_minor": 5
}
