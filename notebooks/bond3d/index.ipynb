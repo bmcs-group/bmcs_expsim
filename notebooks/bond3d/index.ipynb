{
 "cells": [
  {
   "cell_type": "markdown",
   "id": "9c893d1d",
   "metadata": {},
   "source": [
    "# 3D Plotting in Jupyter"
   ]
  },
  {
   "cell_type": "markdown",
   "id": "d8cc4805",
   "metadata": {},
   "source": [
    "There are several options to render data in jupyter. They all use VTK data format as an input. The notebooks below demonstrate the rendering using an example of a crack bridge simulation which stores the data in the `simdb` directory. "
   ]
  },
  {
   "cell_type": "markdown",
   "id": "09a4b78f",
   "metadata": {},
   "source": [
    "# Calculate the data"
   ]
  },
  {
   "cell_type": "markdown",
   "id": "1022b3fc",
   "metadata": {},
   "source": [
    "[Pullout simulation](pullout_axisim_el.ipynb)"
   ]
  },
  {
   "cell_type": "markdown",
   "id": "55aeaf54",
   "metadata": {},
   "source": [
    "# K3d plotting"
   ]
  },
  {
   "cell_type": "markdown",
   "id": "70e65ba9",
   "metadata": {},
   "source": [
    "[Visualization example](k3d_vtk_plotting.ipynb)"
   ]
  },
  {
   "cell_type": "markdown",
   "id": "5a7cb59d",
   "metadata": {},
   "source": [
    "# Ipygany plotting"
   ]
  },
  {
   "cell_type": "markdown",
   "id": "e5144d80",
   "metadata": {},
   "source": [
    "[Visualization example](ipygany_vtk_test.ipynb)"
   ]
  },
  {
   "cell_type": "markdown",
   "id": "1b4328a9",
   "metadata": {},
   "source": [
    "# Mayavi plotting"
   ]
  },
  {
   "cell_type": "code",
   "execution_count": null,
   "id": "d7faee3c",
   "metadata": {},
   "outputs": [],
   "source": []
  }
 ],
 "metadata": {
  "kernelspec": {
   "display_name": "bmcs_env",
   "language": "python",
   "name": "bmcs_env"
  },
  "language_info": {
   "codemirror_mode": {
    "name": "ipython",
    "version": 3
   },
   "file_extension": ".py",
   "mimetype": "text/x-python",
   "name": "python",
   "nbconvert_exporter": "python",
   "pygments_lexer": "ipython3",
   "version": "3.8.8"
  },
  "toc": {
   "base_numbering": 1,
   "nav_menu": {},
   "number_sections": true,
   "sideBar": true,
   "skip_h1_title": false,
   "title_cell": "Table of Contents",
   "title_sidebar": "Contents",
   "toc_cell": false,
   "toc_position": {},
   "toc_section_display": true,
   "toc_window_display": false
  }
 },
 "nbformat": 4,
 "nbformat_minor": 5
}
