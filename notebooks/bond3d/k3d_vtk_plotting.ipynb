{
 "cells": [
  {
   "cell_type": "markdown",
   "id": "405cced2",
   "metadata": {},
   "source": [
    "# K3D and VTK plotting\n",
    "\n",
    "This sheet tests the k3d ability to plot the VTK date within jupyter.\n",
    "K3D uses the most general data format of vtk - PolyData. Any other data format \n",
    "can be transformed to PolyData. The question is on the flexibility of the color plots."
   ]
  },
  {
   "cell_type": "code",
   "execution_count": 1,
   "id": "77ee820e",
   "metadata": {},
   "outputs": [],
   "source": [
    "import k3d\n",
    "import os\n",
    "import vtk"
   ]
  },
  {
   "cell_type": "markdown",
   "id": "42ae49f1",
   "metadata": {},
   "source": [
    "# Create the reader for the vtk data\n",
    "\n",
    "Create the reader, set the path to a vtk file and read the data into the reader."
   ]
  },
  {
   "cell_type": "code",
   "execution_count": 2,
   "id": "9060ba42-fcfc-4b2f-a531-3132d03ca866",
   "metadata": {},
   "outputs": [],
   "source": [
    "reader = vtk.vtkUnstructuredGridReader()\n",
    "home_dir = os.path.expanduser('~')\n",
    "filename = os.path.join(home_dir,'simdb','data','test','eps_ab_step_000_9000.vtk')\n",
    "reader.SetFileName(filename)\n",
    "reader.Update()"
   ]
  },
  {
   "cell_type": "markdown",
   "id": "d1749c29",
   "metadata": {},
   "source": [
    "# Setup a warp filter\n",
    "\n",
    "Set the WarpVector module, connect it to the reader, set the scale facture and update"
   ]
  },
  {
   "cell_type": "code",
   "execution_count": 3,
   "id": "61ca72fd",
   "metadata": {},
   "outputs": [],
   "source": [
    "warp_vector = vtk.vtkWarpVector()\n",
    "warp_vector.SetInputData(reader.GetOutput())\n",
    "warp_vector.SetScaleFactor(100)\n",
    "warp_vector.Update()"
   ]
  },
  {
   "cell_type": "markdown",
   "id": "aae8cf83",
   "metadata": {},
   "source": [
    "# Add the Tensor filter\n",
    "\n",
    "Connect the tensor filter to the warp filter as the next visualization node."
   ]
  },
  {
   "cell_type": "code",
   "execution_count": 4,
   "id": "fbe521e3",
   "metadata": {},
   "outputs": [],
   "source": [
    "etc = vtk.vtkExtractTensorComponents()\n",
    "etc.SetInputData(warp_vector.GetOutput())\n",
    "etc.SetScalarComponents(0,0)\n",
    "etc.Update()"
   ]
  },
  {
   "cell_type": "markdown",
   "id": "133bfda7",
   "metadata": {},
   "source": [
    "# Add a geometry filter\n",
    "\n",
    "Attach the geometry filter to the output port of the tensor filter "
   ]
  },
  {
   "cell_type": "code",
   "execution_count": 5,
   "id": "e8e28d94",
   "metadata": {},
   "outputs": [],
   "source": [
    "geo_filter = vtk.vtkGeometryFilter()\n",
    "geo_filter.SetInputData(etc.GetOutput())\n",
    "geo_filter.Update()"
   ]
  },
  {
   "cell_type": "markdown",
   "id": "a220b67c",
   "metadata": {},
   "source": [
    "# Check the type of the output\n",
    "\n",
    "The output of GeometryFilter has the PolyData type, so that it can be used as input for k3d"
   ]
  },
  {
   "cell_type": "code",
   "execution_count": 6,
   "id": "4e2cf8a3",
   "metadata": {},
   "outputs": [
    {
     "data": {
      "text/plain": [
       "(vtkmodules.vtkCommonDataModel.vtkPolyData)0x7fc769706e20"
      ]
     },
     "execution_count": 6,
     "metadata": {},
     "output_type": "execute_result"
    }
   ],
   "source": [
    "geo_filter.GetOutput()"
   ]
  },
  {
   "cell_type": "code",
   "execution_count": 7,
   "id": "05fc980d",
   "metadata": {},
   "outputs": [
    {
     "data": {
      "application/vnd.jupyter.widget-view+json": {
       "model_id": "c638c7e9af664849a464c0c513fa7cf5",
       "version_major": 2,
       "version_minor": 0
      },
      "text/plain": [
       "Output()"
      ]
     },
     "metadata": {},
     "output_type": "display_data"
    }
   ],
   "source": [
    "model_matrix = (\n",
    "     10.0,  0.0, 0.0, 0.0,\n",
    "     0.0,  10.0, 0.0, 0.0,\n",
    "     0.0,  0.0, 10.0, 0.0,\n",
    "     0.0,  0.0, 0.0, 1.0\n",
    ")\n",
    "plot = k3d.plot()\n",
    "deformed_field = k3d.vtk_poly_data(geo_filter.GetOutput(), \n",
    "                         color_map=k3d.basic_color_maps.Jet)#, model_matrix=model_matrix)\n",
    "#                           )\n",
    "plot += deformed_field\n",
    "plot.display()"
   ]
  },
  {
   "cell_type": "code",
   "execution_count": null,
   "id": "607f3359-5075-43b3-8ad1-9bf996934579",
   "metadata": {},
   "outputs": [],
   "source": []
  },
  {
   "cell_type": "code",
   "execution_count": null,
   "id": "a69b1a2d",
   "metadata": {},
   "outputs": [],
   "source": []
  }
 ],
 "metadata": {
  "kernelspec": {
   "display_name": "bmcs_env",
   "language": "python",
   "name": "bmcs_env"
  },
  "language_info": {
   "codemirror_mode": {
    "name": "ipython",
    "version": 3
   },
   "file_extension": ".py",
   "mimetype": "text/x-python",
   "name": "python",
   "nbconvert_exporter": "python",
   "pygments_lexer": "ipython3",
   "version": "3.8.8"
  },
  "toc": {
   "base_numbering": 1,
   "nav_menu": {},
   "number_sections": true,
   "sideBar": true,
   "skip_h1_title": false,
   "title_cell": "Table of Contents",
   "title_sidebar": "Contents",
   "toc_cell": false,
   "toc_position": {},
   "toc_section_display": true,
   "toc_window_display": false
  }
 },
 "nbformat": 4,
 "nbformat_minor": 5
}
