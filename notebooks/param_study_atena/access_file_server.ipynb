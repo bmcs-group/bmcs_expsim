{
 "cells": [
  {
   "cell_type": "code",
   "execution_count": 1,
   "metadata": {},
   "outputs": [],
   "source": [
    "from access_file_server import access_file_server"
   ]
  },
  {
   "cell_type": "code",
   "execution_count": 7,
   "metadata": {},
   "outputs": [
    {
     "ename": "LogonFailure",
     "evalue": "Received unexpected status from the server: The attempted logon is invalid. This is either due to a bad username or authentication information. (3221225581) STATUS_LOGON_FAILURE: 0xc000006d",
     "output_type": "error",
     "traceback": [
      "\u001b[0;31m---------------------------------------------------------------------------\u001b[0m",
      "\u001b[0;31mLogonFailure\u001b[0m                              Traceback (most recent call last)",
      "Cell \u001b[0;32mIn[7], line 3\u001b[0m\n\u001b[1;32m      1\u001b[0m username \u001b[38;5;241m=\u001b[39m \u001b[38;5;124m\"\u001b[39m\u001b[38;5;124mrchudoba\u001b[39m\u001b[38;5;124m\"\u001b[39m\n\u001b[1;32m      2\u001b[0m password \u001b[38;5;241m=\u001b[39m \u001b[38;5;124m\"\u001b[39m\u001b[38;5;124mpassword\u001b[39m\u001b[38;5;124m\"\u001b[39m\n\u001b[0;32m----> 3\u001b[0m \u001b[43maccess_file_server\u001b[49m\u001b[43m(\u001b[49m\u001b[43musername\u001b[49m\u001b[43m,\u001b[49m\u001b[43m \u001b[49m\u001b[43mpassword\u001b[49m\u001b[43m)\u001b[49m\n",
      "Cell \u001b[0;32mIn[6], line 17\u001b[0m, in \u001b[0;36maccess_file_server\u001b[0;34m(username, password)\u001b[0m\n\u001b[1;32m     15\u001b[0m \u001b[38;5;66;03m# Create a session with the server using the provided credentials\u001b[39;00m\n\u001b[1;32m     16\u001b[0m session \u001b[38;5;241m=\u001b[39m Session(connection, username, password)\n\u001b[0;32m---> 17\u001b[0m \u001b[43msession\u001b[49m\u001b[38;5;241;43m.\u001b[39;49m\u001b[43mconnect\u001b[49m\u001b[43m(\u001b[49m\u001b[43m)\u001b[49m\n\u001b[1;32m     19\u001b[0m \u001b[38;5;66;03m# Connect to the share\u001b[39;00m\n\u001b[1;32m     20\u001b[0m tree \u001b[38;5;241m=\u001b[39m TreeConnect(session, \u001b[38;5;124mf\u001b[39m\u001b[38;5;124m\"\u001b[39m\u001b[38;5;130;01m\\\\\u001b[39;00m\u001b[38;5;130;01m\\\\\u001b[39;00m\u001b[38;5;132;01m{\u001b[39;00mserver_name\u001b[38;5;132;01m}\u001b[39;00m\u001b[38;5;130;01m\\\\\u001b[39;00m\u001b[38;5;132;01m{\u001b[39;00mshare_name\u001b[38;5;132;01m}\u001b[39;00m\u001b[38;5;124m\"\u001b[39m)\n",
      "File \u001b[0;32m~/miniconda3/envs/icc_env/lib/python3.13/site-packages/smbprotocol/session.py:308\u001b[0m, in \u001b[0;36mSession.connect\u001b[0;34m(self)\u001b[0m\n\u001b[1;32m    306\u001b[0m log\u001b[38;5;241m.\u001b[39minfo(\u001b[38;5;124m\"\u001b[39m\u001b[38;5;124mReceiving SMB2_SESSION_SETUP response message\u001b[39m\u001b[38;5;124m\"\u001b[39m)\n\u001b[1;32m    307\u001b[0m \u001b[38;5;28;01mtry\u001b[39;00m:\n\u001b[0;32m--> 308\u001b[0m     response \u001b[38;5;241m=\u001b[39m \u001b[38;5;28;43mself\u001b[39;49m\u001b[38;5;241;43m.\u001b[39;49m\u001b[43mconnection\u001b[49m\u001b[38;5;241;43m.\u001b[39;49m\u001b[43mreceive\u001b[49m\u001b[43m(\u001b[49m\u001b[43mrequest\u001b[49m\u001b[43m)\u001b[49m\n\u001b[1;32m    309\u001b[0m \u001b[38;5;28;01mexcept\u001b[39;00m MoreProcessingRequired \u001b[38;5;28;01mas\u001b[39;00m exc:\n\u001b[1;32m    310\u001b[0m     response \u001b[38;5;241m=\u001b[39m exc\u001b[38;5;241m.\u001b[39mheader\n",
      "File \u001b[0;32m~/miniconda3/envs/icc_env/lib/python3.13/site-packages/smbprotocol/connection.py:1103\u001b[0m, in \u001b[0;36mConnection.receive\u001b[0;34m(self, request, wait, timeout, resolve_symlinks)\u001b[0m\n\u001b[1;32m   1100\u001b[0m             \u001b[38;5;28mself\u001b[39m\u001b[38;5;241m.\u001b[39moutstanding_requests\u001b[38;5;241m.\u001b[39mpop(message_id, \u001b[38;5;28;01mNone\u001b[39;00m)\n\u001b[1;32m   1102\u001b[0m             \u001b[38;5;28;01mif\u001b[39;00m status \u001b[38;5;129;01mnot\u001b[39;00m \u001b[38;5;129;01min\u001b[39;00m [NtStatus\u001b[38;5;241m.\u001b[39mSTATUS_SUCCESS, NtStatus\u001b[38;5;241m.\u001b[39mSTATUS_PENDING]:\n\u001b[0;32m-> 1103\u001b[0m                 \u001b[38;5;28;01mraise\u001b[39;00m SMBResponseException(response)\n\u001b[1;32m   1105\u001b[0m             \u001b[38;5;28;01mbreak\u001b[39;00m\n\u001b[1;32m   1107\u001b[0m \u001b[38;5;28;01mreturn\u001b[39;00m response\n",
      "\u001b[0;31mLogonFailure\u001b[0m: Received unexpected status from the server: The attempted logon is invalid. This is either due to a bad username or authentication information. (3221225581) STATUS_LOGON_FAILURE: 0xc000006d"
     ]
    }
   ],
   "source": [
    "username = \"rchudoba\"\n",
    "password = \"password\"\n",
    "access_file_server(username, password)"
   ]
  },
  {
   "cell_type": "code",
   "execution_count": null,
   "metadata": {},
   "outputs": [],
   "source": [
    "import smbclient\n",
    "\n",
    "# Optional - specify the default credentials to use on the global config object\n",
    "smbclient.ClientConfig(username='user', password='pass')\n",
    "\n",
    "# Optional - register the credentials with a server (overrides ClientConfig for that server)\n",
    "smbclient.register_session(\"server\", username=\"user\", password=\"pass\")\n",
    "\n",
    "smbclient.mkdir(r\"\\\\server\\share\\directory\", username=\"user\", password=\"pass\")\n",
    "\n",
    "with smbclient.open_file(r\"\\\\server\\share\\directory\\file.txt\", mode=\"w\") as fd:\n",
    "    fd.write(u\"file contents\")"
   ]
  }
 ],
 "metadata": {
  "kernelspec": {
   "display_name": "icc_env",
   "language": "python",
   "name": "python3"
  },
  "language_info": {
   "codemirror_mode": {
    "name": "ipython",
    "version": 3
   },
   "file_extension": ".py",
   "mimetype": "text/x-python",
   "name": "python",
   "nbconvert_exporter": "python",
   "pygments_lexer": "ipython3",
   "version": "3.13.2"
  }
 },
 "nbformat": 4,
 "nbformat_minor": 2
}
