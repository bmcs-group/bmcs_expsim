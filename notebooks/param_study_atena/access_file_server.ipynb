{
 "cells": [
  {
   "cell_type": "code",
   "execution_count": null,
   "metadata": {},
   "outputs": [],
   "source": [
    "from access_file_server import access_file_server"
   ]
  },
  {
   "cell_type": "code",
   "execution_count": null,
   "metadata": {},
   "outputs": [],
   "source": [
    "username = \"rchudoba\"\n",
    "password = \"password\"\n",
    "access_file_server(username, password)"
   ]
  },
  {
   "cell_type": "code",
   "execution_count": null,
   "metadata": {},
   "outputs": [],
   "source": [
    "import uuid\n",
    "from smbprotocol.connection import Connection\n",
    "from smbprotocol.session import Session\n",
    "from smbprotocol.tree import TreeConnect\n",
    "from smbprotocol.open import Open, CreateDisposition, FileAttributes, FileInformationClass\n",
    "\n",
    "def access_file_server(username, password):\n",
    "    server_name = \"fileserver.imb.rwth-aachen.de\"\n",
    "    share_name = \"data\"\n",
    "    \n",
    "    # Establish a connection to the server\n",
    "    connection = Connection(uuid.uuid4(), server_name, 445)\n",
    "    connection.connect()\n",
    "    \n",
    "    # Create a session with the server using the provided credentials\n",
    "    session = Session(connection, username, password)\n",
    "    session.connect()\n",
    "    \n",
    "    # Connect to the share\n",
    "    tree = TreeConnect(session, f\"\\\\\\\\{server_name}\\\\{share_name}\")\n",
    "    tree.connect()\n",
    "    \n",
    "    # Open the root directory\n",
    "    root_dir = Open(tree, \"\", access_mask=FileAttributes.FILE_LIST_DIRECTORY, create_disposition=CreateDisposition.FILE_OPEN)\n",
    "    root_dir.create()\n",
    "    \n",
    "    # List the contents of the directory\n",
    "    files = root_dir.query_directory(\"*\", FileInformationClass.FILE_NAMES_INFORMATION)\n",
    "    for file in files:\n",
    "        print(file[\"file_name\"].get_value())\n",
    "    \n",
    "    # Close the directory\n",
    "    root_dir.close()\n",
    "    \n",
    "    # Disconnect the tree and session\n",
    "    tree.disconnect()\n",
    "    session.disconnect()\n",
    "    connection.disconnect()\n",
    "\n",
    "# Define your credentials\n",
    "username = \"rchudoba\"\n",
    "\n",
    "# Access the file server\n",
    "access_file_server(username, password)"
   ]
  },
  {
   "cell_type": "code",
   "execution_count": null,
   "metadata": {},
   "outputs": [],
   "source": []
  }
 ],
 "metadata": {
  "kernelspec": {
   "display_name": "icc_env",
   "language": "python",
   "name": "python3"
  },
  "language_info": {
   "codemirror_mode": {
    "name": "ipython",
    "version": 3
   },
   "file_extension": ".py",
   "mimetype": "text/x-python",
   "name": "python",
   "nbconvert_exporter": "python",
   "pygments_lexer": "ipython3"
  }
 },
 "nbformat": 4,
 "nbformat_minor": 2
}
