{
 "cells": [
  {
   "cell_type": "code",
   "execution_count": null,
   "metadata": {},
   "outputs": [],
   "source": [
    "%matplotlib widget\n",
    "from atena_inp_gen import inject_time_functions\n",
    "from pathlib import Path\n",
    "import numpy as np\n",
    "import matplotlib.pyplot as plt"
   ]
  },
  {
   "cell_type": "code",
   "execution_count": null,
   "metadata": {},
   "outputs": [],
   "source": [
    "# Check if the input file exists\n",
    "input_file = Path.cwd() / 'atena_pavement_inp.txt'\n",
    "output_file = Path.cwd() / 'atena_pavement_out.txt'\n"
   ]
  },
  {
   "cell_type": "code",
   "execution_count": null,
   "metadata": {},
   "outputs": [],
   "source": [
    "time_functions = {\n",
    "    20251: [(0.0, 0.0),  (1.0, 10.0), (2.0, 20.0), (3.0, 25.0)],\n",
    "    20252: [(0.0, 5.0),  (1.0, 15.0), (2.0, 30.0), (3.0, 80.0)],\n",
    "    20253: [(0.0, 100.), (5.0, 150.)], \n",
    "    20253: [(0.0, 100.), (5.0, 150.)], \n",
    "    20253: [(0.0, 100.), (5.0, 150.)], \n",
    "}\n"
   ]
  },
  {
   "cell_type": "code",
   "execution_count": null,
   "metadata": {},
   "outputs": [],
   "source": [
    "inject_time_functions(input_file, output_file, time_functions)"
   ]
  },
  {
   "cell_type": "code",
   "execution_count": null,
   "metadata": {},
   "outputs": [],
   "source": []
  }
 ],
 "metadata": {
  "kernelspec": {
   "display_name": "bmcs_env2",
   "language": "python",
   "name": "python3"
  },
  "language_info": {
   "codemirror_mode": {
    "name": "ipython",
    "version": 3
   },
   "file_extension": ".py",
   "mimetype": "text/x-python",
   "name": "python",
   "nbconvert_exporter": "python",
   "pygments_lexer": "ipython3"
  }
 },
 "nbformat": 4,
 "nbformat_minor": 2
}
