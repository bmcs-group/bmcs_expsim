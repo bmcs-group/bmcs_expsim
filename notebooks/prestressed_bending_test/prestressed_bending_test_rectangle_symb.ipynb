{
 "cells": [
  {
   "cell_type": "markdown",
   "metadata": {},
   "source": [
    "# Preliminary plan for the prestressed bending tests"
   ]
  },
  {
   "cell_type": "markdown",
   "metadata": {},
   "source": [
    "## Rectangular cross section "
   ]
  },
  {
   "attachments": {
    "image-2.png": {
     "image/png": "[encoded data removed]"
    }
   },
   "cell_type": "markdown",
   "metadata": {},
   "source": [
    "![image-2.png](attachment:image-2.png)"
   ]
  },
  {
   "cell_type": "code",
   "execution_count": 1,
   "metadata": {},
   "outputs": [],
   "source": [
    "%matplotlib widget\n",
    "import numpy as np # numerical package\n",
    "import matplotlib.pyplot as plt # plotting package\n",
    "import sympy as sp # computer algebra package\n",
    "sp.init_printing()\n",
    "import bmcs_utils.api as bu"
   ]
  },
  {
   "cell_type": "markdown",
   "metadata": {},
   "source": [
    "### Beam dimensions and eccentriciy "
   ]
  },
  {
   "cell_type": "code",
   "execution_count": 2,
   "metadata": {},
   "outputs": [],
   "source": [
    "#Beam dimensions\n",
    "b, h, L = sp.symbols(r'b, h, L', positive=True)"
   ]
  },
  {
   "cell_type": "code",
   "execution_count": 3,
   "metadata": {},
   "outputs": [],
   "source": [
    "# Compressive strength\n",
    "fc = sp.symbols(r'f_c', positive=True)"
   ]
  },
  {
   "cell_type": "code",
   "execution_count": 4,
   "metadata": {},
   "outputs": [],
   "source": [
    "# Eccentricity\n",
    "e = sp.symbols(r'e') "
   ]
  },
  {
   "cell_type": "code",
   "execution_count": 5,
   "metadata": {},
   "outputs": [],
   "source": [
    "# Distance between applied loading points (four point bending test)\n",
    "a = sp.symbols(r'a')"
   ]
  },
  {
   "cell_type": "markdown",
   "metadata": {},
   "source": [
    "Maximum eccentricity Determined from the dimensions of the used prestressing 100kN cylinder with dimameter of 70mm"
   ]
  },
  {
   "cell_type": "code",
   "execution_count": 6,
   "metadata": {},
   "outputs": [
    {
     "data": {
      "image/png": "[encoded data removed]",
      "text/latex": [
       "$\\displaystyle - d_{cyl} + \\frac{h}{2} - \\frac{s_{cyl}}{2}$"
      ],
      "text/plain": [
       "         h   s_cyl\n",
       "-d_cyl + ─ - ─────\n",
       "         2     2  "
      ]
     },
     "execution_count": 6,
     "metadata": {},
     "output_type": "execute_result"
    }
   ],
   "source": [
    "d_cyl = sp.symbols(r'd_cyl')\n",
    "s_cyl = sp.symbols(r's_cyl')\n",
    "e_max_ = h/2 - (2*d_cyl+s_cyl)/2\n",
    "e_max_"
   ]
  },
  {
   "cell_type": "code",
   "execution_count": 7,
   "metadata": {},
   "outputs": [],
   "source": [
    "# #Beam dimensions\n",
    "# b = 100 #[mm] \n",
    "# h = 250  #[mm] \n",
    "# L = 1000 #[mm] \n",
    "\n",
    "# # Compressive strength\n",
    "# fc = 30 #[N/mm2] \n",
    "\n",
    "# # Eccentricity\n",
    "# e = 25 #[mm] \n",
    "\n",
    "# # Distance between applied loading points (four point bending test)\n",
    "# a = 300 #[mm] \n",
    "\n",
    "# # maximum eccentricity \n",
    "# e_max = h/2 - (70+70+30)/2    # Determined from the dimensions of the used prestressing 100kN cylinder with dimameter of 70mm\n",
    "# e_max "
   ]
  },
  {
   "cell_type": "markdown",
   "metadata": {},
   "source": [
    "### Resulting stresses "
   ]
  },
  {
   "cell_type": "markdown",
   "metadata": {},
   "source": [
    "#### 1. Self weight (g) "
   ]
  },
  {
   "cell_type": "code",
   "execution_count": 8,
   "metadata": {},
   "outputs": [
    {
     "data": {
      "image/png": "[encoded data removed]",
      "text/latex": [
       "$\\displaystyle \\left( - \\frac{1.8 \\cdot 10^{-5} L^{2}}{h}, \\  \\frac{1.8 \\cdot 10^{-5} L^{2}}{h}\\right)$"
      ],
      "text/plain": [
       "⎛         2           2⎞\n",
       "⎜-1.8e-5⋅L    1.8e-5⋅L ⎟\n",
       "⎜───────────, ─────────⎟\n",
       "⎝     h           h    ⎠"
      ]
     },
     "execution_count": 8,
     "metadata": {},
     "output_type": "execute_result"
    }
   ],
   "source": [
    "# Self weihgt \n",
    "q_g = b * h * 24e-6\n",
    "M_g = q_g * L**2 / 8\n",
    "q_g, M_g\n",
    "\n",
    "sigma_g_top = - M_g / (b * h**2 /6)\n",
    "sigma_g_bot =  M_g / (b * h**2 /6)\n",
    "\n",
    "sigma_g_top, sigma_g_bot"
   ]
  },
  {
   "cell_type": "markdown",
   "metadata": {},
   "source": [
    "#### 2. Prestressing force (pr) "
   ]
  },
  {
   "cell_type": "code",
   "execution_count": 9,
   "metadata": {},
   "outputs": [
    {
     "data": {
      "image/png": "[encoded data removed]",
      "text/latex": [
       "$\\displaystyle \\left( \\frac{6 P e}{b h^{2}} - \\frac{P}{b h}, \\  - \\frac{6 P e}{b h^{2}} - \\frac{P}{b h}\\right)$"
      ],
      "text/plain": [
       "⎛6⋅P⋅e    P     6⋅P⋅e    P ⎞\n",
       "⎜───── - ───, - ───── - ───⎟\n",
       "⎜    2   b⋅h        2   b⋅h⎟\n",
       "⎝ b⋅h            b⋅h       ⎠"
      ]
     },
     "execution_count": 9,
     "metadata": {},
     "output_type": "execute_result"
    }
   ],
   "source": [
    "# Prestressing force\n",
    "#P = 400e3 #[N]  # Using 4 cylinder each one 100kN\n",
    "P = sp.symbols(r'P', positive=True)\n",
    "\n",
    "M_pr = P * e\n",
    "\n",
    "sigma_pr_top = - (P / (b * h)) + M_pr / (b * h**2 /6)\n",
    "sigma_pr_bot = - (P / (b * h)) - M_pr / (b * h**2 /6)\n",
    "\n",
    "sigma_pr_top, sigma_pr_bot"
   ]
  },
  {
   "cell_type": "markdown",
   "metadata": {},
   "source": [
    "#### 3. Vertical force (f) "
   ]
  },
  {
   "cell_type": "code",
   "execution_count": 10,
   "metadata": {},
   "outputs": [
    {
     "data": {
      "image/png": "[encoded data removed]",
      "text/latex": [
       "$\\displaystyle \\left( - \\frac{3 F \\left(L - a\\right)}{2 b h^{2}}, \\  \\frac{3 F \\left(L - a\\right)}{2 b h^{2}}\\right)$"
      ],
      "text/plain": [
       "⎛-3⋅F⋅(L - a)   3⋅F⋅(L - a)⎞\n",
       "⎜─────────────, ───────────⎟\n",
       "⎜         2             2  ⎟\n",
       "⎝    2⋅b⋅h         2⋅b⋅h   ⎠"
      ]
     },
     "execution_count": 10,
     "metadata": {},
     "output_type": "execute_result"
    }
   ],
   "source": [
    "# Vertical force\n",
    "# F = 130e3 #[N] # The machine is limited to 160kN\n",
    "F = sp.symbols(r'F', positive=True)\n",
    "\n",
    "\n",
    "M_f = (F/2) *(L-a)/2\n",
    "\n",
    "sigma_f_top = - M_f / (b * h**2 /6)\n",
    "sigma_f_bot = M_f / (b * h**2 /6)\n",
    "\n",
    "sigma_f_top, sigma_f_bot"
   ]
  },
  {
   "cell_type": "markdown",
   "metadata": {},
   "source": [
    "### Plotting stress profiles"
   ]
  },
  {
   "cell_type": "code",
   "execution_count": 11,
   "metadata": {},
   "outputs": [],
   "source": [
    "class P4PBTExpr(bu.SymbExpr):\n",
    "    # parameters\n",
    "    L = L\n",
    "    a = a\n",
    "    e = e\n",
    "    b = b\n",
    "    h = h\n",
    "    P = P\n",
    "    F = F\n",
    "    d_cyl = d_cyl\n",
    "    s_cyl = s_cyl\n",
    "    \n",
    "    e_max_ = e_max_\n",
    "    \n",
    "    sigma_f_bot = sigma_f_bot\n",
    "    sigma_f_top = sigma_f_top\n",
    "    sigma_pr_bot = sigma_pr_bot\n",
    "    sigma_pr_top = sigma_pr_top\n",
    "    sigma_g_bot = sigma_g_bot\n",
    "    sigma_g_top = sigma_g_top\n",
    "    \n",
    "    symb_model_params = ['L', 'b', 'h', 'a', 'e', 'P', 'F', 'd_cyl', 's_cyl']\n",
    "\n",
    "    symb_expressions = [\n",
    "        ('sigma_f_bot', ()),\n",
    "        ('sigma_f_top', ()),\n",
    "        ('sigma_pr_bot', ()),\n",
    "        ('sigma_pr_top', ()),\n",
    "        ('sigma_g_bot', ()),\n",
    "        ('sigma_g_top', ()),\n",
    "    ]"
   ]
  },
  {
   "cell_type": "code",
   "execution_count": 19,
   "metadata": {},
   "outputs": [],
   "source": [
    "class P4PBT(bu.InteractiveModel, bu.InjectSymbExpr):\n",
    "    symb_class = P4PBTExpr\n",
    "    \n",
    "    L = bu.Float(1000)\n",
    "    a = bu.Float(300)\n",
    "    e = bu.Float(10)\n",
    "    b = bu.Float(100)\n",
    "    h = bu.Float(400)\n",
    "    P = bu.Float(400)\n",
    "    F = bu.Float(150)\n",
    "    d_cyl = bu.Float(70)\n",
    "    s_cyl = bu.Float(20)\n",
    "    fc = bu.Float(30)\n",
    "\n",
    "    ipw_view = bu.View(\n",
    "        bu.Item('L'),\n",
    "        bu.Item('a'),\n",
    "        bu.Item('e'),\n",
    "        bu.Item('b'),\n",
    "        bu.Item('h'),\n",
    "        bu.Item('P'),\n",
    "        bu.Item('F'),\n",
    "        bu.Item('d_cyl'),\n",
    "        bu.Item('s_cyl'),\n",
    "        bu.Item('fc')\n",
    "    )\n",
    "\n",
    "    def get_sigma(self):\n",
    "        \n",
    "        sigma_f_bot = self.symb.get_sigma_f_bot()\n",
    "        sigma_f_top = self.symb.get_sigma_f_top()\n",
    "        sigma_pr_bot = self.symb.get_sigma_pr_bot()\n",
    "        sigma_pr_top = self.symb.get_sigma_pr_top()\n",
    "        sigma_g_bot = self.symb.get_sigma_g_bot()\n",
    "        sigma_g_top = self.symb.get_sigma_g_top()\n",
    "\n",
    "        sigma_g = np.array([ sigma_g_bot, 0, 0, sigma_g_top, sigma_g_bot])\n",
    "        sigma_pr = np.array([sigma_pr_bot,  0, 0, sigma_pr_top, sigma_pr_bot])\n",
    "        sigma_f = np.array([sigma_f_bot,  0, 0, sigma_f_top, sigma_f_bot])\n",
    "        return sigma_g, sigma_pr, sigma_f\n",
    "\n",
    "    def plot_stress_profiles(self, ax1, ax2, ax3, ax4):\n",
    "        y = np.array([0, 0, self.h, self.h, 0])\n",
    "        x_0 = np.array([0, 0, 0, 0, 0])\n",
    "\n",
    "        sigma_g, sigma_pr, sigma_f = self.get_sigma()\n",
    "        \n",
    "        ax1.plot(sigma_g, y , color='black', lw=2)\n",
    "        ax1.fill_between(sigma_g, y,  x_0, color='black', alpha=0.3)\n",
    "        ax1.set_xlim(-self.fc/10, self.fc/100)\n",
    "        ax1.set_xlabel('Stress - self weight')\n",
    "        ax1.set_ylabel('Height [mm]')\n",
    "\n",
    "        ax2.plot(sigma_pr, y , color='green', lw=2)\n",
    "        ax2.fill_between(sigma_pr, y,  x_0, color='green', alpha=0.3)\n",
    "        ax2.set_xlim(-self.fc, self.fc/10)\n",
    "        ax2.set_xlabel('Stress - prestressing force (P)')\n",
    "\n",
    "        ax3.plot(sigma_f, y , color='blue', lw=2)\n",
    "        ax3.fill_between(sigma_f, y,  x_0, color='blue', alpha=0.3)\n",
    "        ax3.set_xlim(-self.fc, self.fc)\n",
    "        ax3.set_xlabel('Stress - vertical loading (F)')\n",
    "\n",
    "        ax4.plot(sigma_g + sigma_pr + sigma_f, y , color='red', lw=2, label='loading')\n",
    "        ax4.plot(sigma_g + sigma_pr, y , \"--r\", lw=1, label='unloading')\n",
    "        ax4.fill_between(sigma_g + sigma_pr + sigma_f, y,  x_0, color='red', alpha=0.3)\n",
    "        ax4.set_xlim(-self.fc, self.fc/10)\n",
    "        ax4.set_xlabel('Sum of stresses')\n",
    "        ax4.legend(loc=1)\n",
    "        \n",
    "    def plot_normalized_stress_profiles(self, ax1, ax2, ax3, ax4):\n",
    "        ax1.plot(sigma_g/fc, y , color='black', lw=2)\n",
    "        ax1.fill_between(sigma_g/fc, y,  x_0, color='black', alpha=0.3)\n",
    "        ax1.set_xlabel('Normalized stress - self weight')\n",
    "        ax1.set_xlim(-1/10, 1/100)\n",
    "        ax1.set_ylabel('Height [mm]')\n",
    "\n",
    "        ax2.plot(sigma_pr/fc, y , color='green', lw=2)\n",
    "        ax2.fill_between(sigma_pr/fc, y,  x_0, color='green', alpha=0.3)\n",
    "        ax2.set_xlim(-1, 1/10)\n",
    "        ax2.set_xlabel('Normalized stress - prestressing force (P)')\n",
    "\n",
    "        ax3.plot(sigma_f/fc, y , color='blue', lw=2)\n",
    "        ax3.fill_between(sigma_f/fc, y,  x_0, color='blue', alpha=0.3)\n",
    "        ax3.set_xlim(-1, 1)\n",
    "        ax3.set_xlabel('Normalized stress - vertical loading (F)')\n",
    "\n",
    "        ax4.plot((sigma_g + sigma_pr + sigma_f)/fc, y , color='red', lw=2, label='loading')\n",
    "        ax4.plot((sigma_g + sigma_pr)/fc , y, \"--r\", lw=1, label='loading')\n",
    "        ax4.fill_between((sigma_g + sigma_pr + sigma_f)/fc, y,  x_0, color='red', alpha=0.3)\n",
    "        #ax4.fill_between((sigma_g + sigma_pr)/fc, y,  x_0, color='red', alpha=0.1)\n",
    "        ax4.set_xlim(-1, 1/10)\n",
    "        ax4.set_xlabel('Sum of normalized stresses')\n",
    "        ax4.legend(loc=1)\n",
    "    \n",
    "    def subplots(self, fig):\n",
    "        return fig.subplots(1,4)\n",
    "\n",
    "    def update_plot(self, axes):\n",
    "        ax1, ax2, ax3, ax4 = axes\n",
    "        self.plot_stress_profiles(ax1, ax2, ax3, ax4)\n",
    "        \n",
    "    def report(self):\n",
    "        sigma_g, sigma_pr, sigma_f = self.get_sigma()\n",
    "\n",
    "        print(\"Stress ratios at top\")\n",
    "        print(\"Loading stage: Smax =\", np.around(-(sigma_g + sigma_pr + sigma_f)[3]/self.fc,2))\n",
    "        print(\"Loading stage: Smin =\",  np.around(-(sigma_g + sigma_pr)[3]/self.fc, 2))\n",
    "        print(\"Loading stage: Amplitude =\", np.around(-(sigma_g + sigma_pr + sigma_f)[3]/self.fc + \n",
    "                                                      (sigma_g + sigma_pr)[3]/self.fc, 2))\n",
    "        print(\"*****************\")\n",
    "\n",
    "\n",
    "        print(\"Stress ratios at bottom\")\n",
    "        print(\"Unloading stage: Smax =\", np.around(-(sigma_g + sigma_pr)[0]/self.fc,2))\n",
    "        print(\"Unloading stage: Smin =\", np.around(-(sigma_g + sigma_pr + sigma_f)[0]/self.fc, 2))\n",
    "        print(\"Loading stage: Amplitude =\", np.around(+(sigma_g + sigma_pr + sigma_f)[0]/self.fc - \n",
    "                                                      (sigma_g + sigma_pr)[0]/self.fc, 2))\n"
   ]
  },
  {
   "cell_type": "code",
   "execution_count": 20,
   "metadata": {},
   "outputs": [],
   "source": [
    "p4pbt = P4PBT()"
   ]
  },
  {
   "cell_type": "code",
   "execution_count": 21,
   "metadata": {
    "scrolled": false
   },
   "outputs": [
    {
     "data": {
      "application/vnd.jupyter.widget-view+json": {
       "model_id": "0971ad2cbae84762b194707c0da4fbec",
       "version_major": 2,
       "version_minor": 0
      },
      "text/plain": [
       "VBox(children=(Output(), Tab(children=(VBox(children=(GridBox(children=(FloatText(value=1000.0, description='L…"
      ]
     },
     "metadata": {},
     "output_type": "display_data"
    }
   ],
   "source": [
    "p4pbt.interact()"
   ]
  },
  {
   "cell_type": "markdown",
   "metadata": {},
   "source": [
    "### Normalized stress profiles ($\\sigma$ / fc)"
   ]
  },
  {
   "cell_type": "code",
   "execution_count": 22,
   "metadata": {},
   "outputs": [
    {
     "name": "stdout",
     "output_type": "stream",
     "text": [
      "Stress ratios at top\n",
      "Loading stage: Smax = 0.0\n",
      "Loading stage: Smin = 0.0\n",
      "Loading stage: Amplitude = 0.0\n",
      "*****************\n",
      "Stress ratios at bottom\n",
      "Unloading stage: Smax = -0.0\n",
      "Unloading stage: Smin = -0.0\n",
      "Loading stage: Amplitude = 0.0\n"
     ]
    }
   ],
   "source": [
    "p4pbt.report()"
   ]
  },
  {
   "cell_type": "markdown",
   "metadata": {},
   "source": [
    "### Summary of some requirements\n",
    "1. After applying the prestressing force:\n",
    " - stress at the top < 0 (no tension)\n",
    " - stress at the bottom < fc \n",
    " ----\n",
    "2. The sum of stresses:\n",
    " - no tension at bottom\n",
    " - stress at the top < fc\n",
    " - The differnce of the streess at top during loading and unloading should be large enough to get fatigue failure"
   ]
  }
 ],
 "metadata": {
  "kernelspec": {
   "display_name": "bmcs_env",
   "language": "python",
   "name": "bmcs_env"
  },
  "language_info": {
   "codemirror_mode": {
    "name": "ipython",
    "version": 3
   },
   "file_extension": ".py",
   "mimetype": "text/x-python",
   "name": "python",
   "nbconvert_exporter": "python",
   "pygments_lexer": "ipython3",
   "version": "3.9.1"
  },
  "toc": {
   "base_numbering": 1,
   "nav_menu": {},
   "number_sections": true,
   "sideBar": true,
   "skip_h1_title": true,
   "title_cell": "Table of Contents",
   "title_sidebar": "Contents",
   "toc_cell": false,
   "toc_position": {
    "height": "calc(100% - 180px)",
    "left": "10px",
    "top": "150px",
    "width": "165px"
   },
   "toc_section_display": true,
   "toc_window_display": true
  }
 },
 "nbformat": 4,
 "nbformat_minor": 4
}
