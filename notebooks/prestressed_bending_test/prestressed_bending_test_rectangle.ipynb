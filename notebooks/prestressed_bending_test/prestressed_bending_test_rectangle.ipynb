{
 "cells": [
  {
   "cell_type": "markdown",
   "metadata": {},
   "source": [
    "# Preliminary plan for the prestressed bending tests"
   ]
  },
  {
   "cell_type": "markdown",
   "metadata": {},
   "source": [
    "## Rectangular cross section "
   ]
  },
  {
   "attachments": {
    "image-2.png": {
     "image/png": "[encoded data removed]"
    }
   },
   "cell_type": "markdown",
   "metadata": {},
   "source": [
    "![image-2.png](attachment:image-2.png)"
   ]
  },
  {
   "cell_type": "code",
   "execution_count": null,
   "metadata": {},
   "outputs": [],
   "source": [
    "import numpy as np # numerical package\n",
    "import matplotlib.pyplot as plt # plotting package"
   ]
  },
  {
   "cell_type": "markdown",
   "metadata": {},
   "source": [
    "### Beam dimensions and eccentriciy "
   ]
  },
  {
   "cell_type": "code",
   "execution_count": null,
   "metadata": {},
   "outputs": [],
   "source": [
    "#Beam dimensions\n",
    "b = 100 #[mm] \n",
    "h = 250  #[mm] \n",
    "L = 1000 #[mm] \n",
    "\n",
    "# Compressive strength\n",
    "fc = 30 #[N/mm2] \n",
    "\n",
    "# Eccentricity\n",
    "e = 25 #[mm] \n",
    "\n",
    "# Distance between applied loading points (four point bending test)\n",
    "a = 300 #[mm] \n",
    "\n",
    "# maximum eccentricity \n",
    "e_max = h/2 - (70+70+30)/2    # Determined from the dimensions of the used prestressing 100kN cylinder with dimameter of 70mm\n",
    "e_max "
   ]
  },
  {
   "cell_type": "markdown",
   "metadata": {},
   "source": [
    "### Resulting stresses "
   ]
  },
  {
   "cell_type": "markdown",
   "metadata": {},
   "source": [
    "#### 1. Self weight (g) "
   ]
  },
  {
   "cell_type": "code",
   "execution_count": null,
   "metadata": {},
   "outputs": [],
   "source": [
    "# Self weihgt \n",
    "q_g = b * h * 24e-6\n",
    "M_g = q_g * L**2 / 8\n",
    "q_g,M_g\n",
    "\n",
    "sigma_g_top = - M_g / (b * h**2 /6)\n",
    "sigma_g_bot =  M_g / (b * h**2 /6)\n",
    "\n",
    "#sigma_g_top, sigma_g_bot"
   ]
  },
  {
   "cell_type": "markdown",
   "metadata": {},
   "source": [
    "#### 2. Prestressing force (pr) "
   ]
  },
  {
   "cell_type": "code",
   "execution_count": null,
   "metadata": {},
   "outputs": [],
   "source": [
    "# Prestressing force\n",
    "P = 400e3 #[N]  # Using 4 cylinder each one 100kN\n",
    "\n",
    "M_pr = P * e\n",
    "\n",
    "sigma_pr_top = - (P / (b * h)) + M_pr / (b * h**2 /6)\n",
    "sigma_pr_bot = - (P / (b * h)) - M_pr / (b * h**2 /6)\n",
    "\n",
    "sigma_pr_top, sigma_pr_bot"
   ]
  },
  {
   "cell_type": "markdown",
   "metadata": {},
   "source": [
    "#### 3. Vertical force (f) "
   ]
  },
  {
   "cell_type": "code",
   "execution_count": null,
   "metadata": {},
   "outputs": [],
   "source": [
    "# Vertical force\n",
    "F = 130e3 #[N] # The machine is limited to 160kN\n",
    "\n",
    "\n",
    "M_f = (F/2) *(L-a)/2\n",
    "\n",
    "sigma_f_top = - M_f / (b * h**2 /6)\n",
    "sigma_f_bot = M_f / (b * h**2 /6)\n",
    "\n",
    "sigma_f_top, sigma_f_bot"
   ]
  },
  {
   "cell_type": "markdown",
   "metadata": {},
   "source": [
    "### Plotting stress profiles"
   ]
  },
  {
   "cell_type": "code",
   "execution_count": null,
   "metadata": {},
   "outputs": [],
   "source": [
    "sigma_g = np.array([ sigma_g_bot, 0, 0, sigma_g_top, sigma_g_bot])\n",
    "sigma_pr = np.array([sigma_pr_bot,  0, 0, sigma_pr_top, sigma_pr_bot])\n",
    "sigma_f = np.array([sigma_f_bot,  0, 0, sigma_f_top, sigma_f_bot])\n",
    "\n",
    "y = np.array([0, 0, h, h, 0])\n",
    "x_0 = np.array([0, 0, 0, 0, 0])"
   ]
  },
  {
   "cell_type": "code",
   "execution_count": null,
   "metadata": {},
   "outputs": [],
   "source": [
    "fig, (ax1, ax2, ax3, ax4)= plt.subplots(1,4,figsize=(15,2))\n",
    "\n",
    "ax1.plot(sigma_g, y , color='black', lw=2)\n",
    "ax1.fill_between(sigma_g, y,  x_0, color='black', alpha=0.3)\n",
    "ax1.set_xlim(-fc/10, fc/100)\n",
    "ax1.set_xlabel('Stress - self weight')\n",
    "ax1.set_ylabel('Height [mm]')\n",
    "\n",
    "ax2.plot(sigma_pr, y , color='green', lw=2)\n",
    "ax2.fill_between(sigma_pr, y,  x_0, color='green', alpha=0.3)\n",
    "ax2.set_xlim(-fc, fc/10)\n",
    "ax2.set_xlabel('Stress - prestressing force (P)')\n",
    "\n",
    "\n",
    "ax3.plot(sigma_f, y , color='blue', lw=2)\n",
    "ax3.fill_between(sigma_f, y,  x_0, color='blue', alpha=0.3)\n",
    "ax3.set_xlim(-fc, fc)\n",
    "ax3.set_xlabel('Stress - vertical loading (F)')\n",
    "\n",
    "\n",
    "ax4.plot(sigma_g + sigma_pr + sigma_f, y , color='red', lw=2, label='loading')\n",
    "ax4.plot(sigma_g + sigma_pr, y , \"--r\", lw=1, label='unloading')\n",
    "ax4.fill_between(sigma_g + sigma_pr + sigma_f, y,  x_0, color='red', alpha=0.3)\n",
    "ax4.set_xlim(-fc, fc/10)\n",
    "ax4.set_xlabel('Sum of stresses')\n",
    "ax4.legend(loc=1)\n"
   ]
  },
  {
   "cell_type": "markdown",
   "metadata": {},
   "source": [
    "### Normalized stress profiles ($\\sigma$ / fc)"
   ]
  },
  {
   "cell_type": "code",
   "execution_count": null,
   "metadata": {},
   "outputs": [],
   "source": [
    "fig, (ax1, ax2, ax3, ax4)= plt.subplots(1,4,figsize=(15,2))\n",
    "\n",
    "ax1.plot(sigma_g/fc, y , color='black', lw=2)\n",
    "ax1.fill_between(sigma_g/fc, y,  x_0, color='black', alpha=0.3)\n",
    "ax1.set_xlabel('Normalized stress - self weight')\n",
    "ax1.set_xlim(-1/10, 1/100)\n",
    "ax1.set_ylabel('Height [mm]')\n",
    "\n",
    "ax2.plot(sigma_pr/fc, y , color='green', lw=2)\n",
    "ax2.fill_between(sigma_pr/fc, y,  x_0, color='green', alpha=0.3)\n",
    "ax2.set_xlim(-1, 1/10)\n",
    "ax2.set_xlabel('Normalized stress - prestressing force (P)')\n",
    "\n",
    "ax3.plot(sigma_f/fc, y , color='blue', lw=2)\n",
    "ax3.fill_between(sigma_f/fc, y,  x_0, color='blue', alpha=0.3)\n",
    "ax3.set_xlim(-1, 1)\n",
    "ax3.set_xlabel('Normalized stress - vertical loading (F)')\n",
    "\n",
    "ax4.plot((sigma_g + sigma_pr + sigma_f)/fc, y , color='red', lw=2, label='loading')\n",
    "ax4.plot((sigma_g + sigma_pr)/fc , y, \"--r\", lw=1, label='loading')\n",
    "ax4.fill_between((sigma_g + sigma_pr + sigma_f)/fc, y,  x_0, color='red', alpha=0.3)\n",
    "#ax4.fill_between((sigma_g + sigma_pr)/fc, y,  x_0, color='red', alpha=0.1)\n",
    "ax4.set_xlim(-1, 1/10)\n",
    "ax4.set_xlabel('Sum of normalized stresses')\n",
    "ax4.legend(loc=1)"
   ]
  },
  {
   "cell_type": "code",
   "execution_count": null,
   "metadata": {},
   "outputs": [],
   "source": [
    "print(\"Stress ratios at top\")\n",
    "print(\"Loading stage: Smax =\", np.around(-(sigma_g + sigma_pr + sigma_f)[3]/fc,2))\n",
    "print(\"Loading stage: Smin =\",  np.around(-(sigma_g + sigma_pr)[3]/fc, 2))\n",
    "print(\"Loading stage: Amplitude =\", np.around(-(sigma_g + sigma_pr + sigma_f)[3]/fc + (sigma_g + sigma_pr)[3]/fc, 2))\n",
    "print(\"*****************\")\n",
    "\n",
    "print(\"Stress ratios at bottom\")\n",
    "print(\"Unloading stage: Smax =\", np.around(-(sigma_g + sigma_pr)[0]/fc,2))\n",
    "print(\"Unloading stage: Smin =\", np.around(-(sigma_g + sigma_pr + sigma_f)[0]/fc, 2))\n",
    "print(\"Loading stage: Amplitude =\", np.around(+(sigma_g + sigma_pr + sigma_f)[0]/fc - (sigma_g + sigma_pr)[0]/fc, 2))"
   ]
  },
  {
   "cell_type": "markdown",
   "metadata": {},
   "source": [
    "### Summary of some requirements\n",
    "1. After applying the prestressing force:\n",
    " - stress at the top < 0 (no tension)\n",
    " - stress at the bottom < fc \n",
    " ----\n",
    "2. The sum of stresses:\n",
    " - no tension at bottom\n",
    " - stress at the top < fc\n",
    " - The differnce of the streess at top during loading and unloading should be large enough to get fatigue failure"
   ]
  },
  {
   "cell_type": "code",
   "execution_count": null,
   "metadata": {},
   "outputs": [],
   "source": []
  },
  {
   "cell_type": "code",
   "execution_count": null,
   "metadata": {},
   "outputs": [],
   "source": []
  }
 ],
 "metadata": {
  "kernelspec": {
   "display_name": "bmcs_env",
   "language": "python",
   "name": "bmcs_env"
  },
  "language_info": {
   "codemirror_mode": {
    "name": "ipython",
    "version": 3
   },
   "file_extension": ".py",
   "mimetype": "text/x-python",
   "name": "python",
   "nbconvert_exporter": "python",
   "pygments_lexer": "ipython3"
  },
  "toc": {
   "base_numbering": 1,
   "nav_menu": {},
   "number_sections": true,
   "sideBar": true,
   "skip_h1_title": true,
   "title_cell": "Table of Contents",
   "title_sidebar": "Contents",
   "toc_cell": false,
   "toc_position": {
    "height": "calc(100% - 180px)",
    "left": "10px",
    "top": "150px",
    "width": "165px"
   },
   "toc_section_display": true,
   "toc_window_display": true
  }
 },
 "nbformat": 4,
 "nbformat_minor": 4
}
