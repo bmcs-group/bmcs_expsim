{
 "cells": [
  {
   "cell_type": "markdown",
   "metadata": {},
   "source": [
    "# Working interface models"
   ]
  },
  {
   "cell_type": "code",
   "execution_count": null,
   "metadata": {},
   "outputs": [],
   "source": [
    "%matplotlib widget\n",
    "import numpy as np\n",
    "np.seterr(divide='ignore', invalid='ignore') \n",
    "import warnings\n",
    "import matplotlib.pylab as plt\n",
    "import numpy as np\n",
    "from ibvpy.api import TStepBC , TFCyclicNonsymmetricConstant, TFBilinear\n",
    "from ibvpy.bcond import BCSlice, BCDof\n",
    "from ibvpy.xmodel.xdomain_fe_grid_axisym import XDomainFEGridAxiSym\n",
    "from ibvpy.xmodel.xdomain_fe_grid import XDomainFEGrid\n",
    "from ibvpy.xmodel.xdomain_interface import XDomainFEInterface\n",
    "from ibvpy.fets import FETS2D4Q\n",
    "from ibvpy.fets.fets1D5 import FETS1D52ULRH\n",
    "from ibvpy.tmodel.viz3d_scalar_field import \\\n",
    "    Vis3DStateField, Viz3DScalarField\n",
    "from ibvpy.tmodel.viz3d_tensor_field import \\\n",
    "    Vis3DTensorField, Viz3DTensorField\n",
    "from bmcs_matmod.slide.vslide_34_TN_axisym import Slide34\n",
    "from ibvpy.tmodel.mats3D.mats3D_elastic.vmats3D_elastic import \\\n",
    "    MATS3DElastic\n",
    "from ibvpy.tmodel.mats2D.mats2D_elastic.vmats2D_elastic import \\\n",
    "    MATS2DElastic"
   ]
  },
  {
   "cell_type": "markdown",
   "metadata": {},
   "source": [
    "# FE 2D discretization"
   ]
  },
  {
   "cell_type": "code",
   "execution_count": null,
   "metadata": {},
   "outputs": [],
   "source": [
    "n_y_e = 20\n",
    "n_inner_x_e = 2\n",
    "n_outer_x_e = 2\n",
    "L_x = 1.0\n",
    "P = 1.0\n",
    "R_in = 10 / (2 * np.pi) \n",
    "R_out = 2 * R_in\n",
    "xd_lower = XDomainFEGrid(integ_factor = P,\n",
    "                         coord_min=(0, 0),\n",
    "                          coord_max=(L_x, R_in),\n",
    "                          shape=(n_y_e, n_inner_x_e),\n",
    "                          fets=FETS2D4Q())\n",
    "xd_upper = XDomainFEGrid(integ_factor = P,\n",
    "                         coord_min=(0, R_in),\n",
    "                          coord_max=(L_x, R_out),\n",
    "                          shape=(n_y_e, n_outer_x_e),\n",
    "                          fets=FETS2D4Q())\n",
    "m1 = MATS2DElastic(E=37000, nu=0.18)\n",
    "m2 = MATS2DElastic(E=37000, nu=0.18)\n",
    "\n",
    "xd12 = XDomainFEInterface(\n",
    "    integ_factor = P,\n",
    "    I=xd_lower.mesh.I[:, -1],\n",
    "    J=xd_upper.mesh.I[:, 0],\n",
    "    fets=FETS1D52ULRH()\n",
    ")"
   ]
  },
  {
   "cell_type": "code",
   "execution_count": null,
   "metadata": {},
   "outputs": [],
   "source": [
    "material_params =  dict(\n",
    "     E_T=1, gamma_T=500, K_T=0, S_T=0.5, c_T=6, bartau=3, \n",
    "     E_N=1, S_N=0.5, c_N = 3, m = 0.05, f_t=2, f_c=60, f_c0 = 40, eta=0.)\n",
    "bond_m = Slide34(**material_params)"
   ]
  },
  {
   "cell_type": "code",
   "execution_count": null,
   "metadata": {},
   "outputs": [],
   "source": [
    "m = TStepBC(\n",
    "    domains=[(xd_lower, m1),\n",
    "             (xd_upper, m2),\n",
    "             (xd12, bond_m),\n",
    "             ]\n",
    ")"
   ]
  },
  {
   "cell_type": "code",
   "execution_count": null,
   "metadata": {},
   "outputs": [],
   "source": [
    "xd12.I.dofs, xd12.J.dofs"
   ]
  },
  {
   "cell_type": "markdown",
   "metadata": {},
   "source": [
    "## Sliding dc"
   ]
  },
  {
   "cell_type": "code",
   "execution_count": null,
   "metadata": {},
   "outputs": [],
   "source": [
    "lower_fixed_0 = BCSlice(slice=xd_lower.mesh[:, 0, :, 0], var='u', dims=[1], value=0)\n",
    "upper_fixed_1 = BCSlice(slice=xd_upper.mesh[0, :, 0, :], var='u', dims=[0], value=0)\n",
    "lower_slide = BCSlice(slice=xd_lower.mesh[0, :, 0, :], var='u', dims=[0], value=16)\n",
    "bc1 =   [lower_fixed_0, upper_fixed_1, lower_slide]"
   ]
  },
  {
   "cell_type": "markdown",
   "metadata": {},
   "source": [
    "## Sliding fc"
   ]
  },
  {
   "cell_type": "code",
   "execution_count": null,
   "metadata": {},
   "outputs": [],
   "source": [
    "#lower_fixed_0 = BCSlice(slice=xd_lower.mesh[:, 0, :, 0], var='u', dims=[1], value=0)\n",
    "#upper_fixed_1 = BCSlice(slice=xd_upper.mesh[0, :, 0, :], var='u', dims=[0], value=0)\n",
    "#\n",
    "#\n",
    "#\n",
    "#lower_slide = BCSlice(slice=xd_lower.mesh[0, :, 0, :], var='u', dims=[0], value=0)\n",
    "#Force = 4 / len(lower_slide.dofs)\n",
    "#lower_slide_force = [BCDof(var='f', dof=dof, value = Force) \n",
    "#             for dof in lower_slide.dofs]\n",
    "#\n",
    "#bc1 =   [lower_fixed_0, upper_fixed_1] + lower_slide_force"
   ]
  },
  {
   "cell_type": "code",
   "execution_count": null,
   "metadata": {},
   "outputs": [],
   "source": [
    "m.bc=bc1\n",
    "s = m.sim\n",
    "s.tloop.verbose = True\n",
    "s.tloop.k_max = 1000\n",
    "s.tline.step = 0.05\n",
    "s.tstep.fe_domain.serialized_subdomains"
   ]
  },
  {
   "cell_type": "code",
   "execution_count": null,
   "metadata": {},
   "outputs": [],
   "source": [
    "xd12.hidden = True\n",
    "s.reset()\n",
    "s.run()"
   ]
  },
  {
   "cell_type": "code",
   "execution_count": null,
   "metadata": {},
   "outputs": [],
   "source": [
    "states_t = [states_t[2] for states_t in m.hist.state_vars]\n",
    "var_names = states_t[0].keys()\n",
    "EpsSig_t = {\n",
    "    var_name: np.array([ state_dict[var_name] for state_dict in states_t ]) \n",
    "    for var_name in var_names \n",
    "}\n",
    "u_pi_N = EpsSig_t['w_pi']\n",
    "u_pi_Tx = EpsSig_t['s_pi_x']\n",
    "sig_pi_N = EpsSig_t['sig_pi']\n",
    "sig_pi_Tx = EpsSig_t['tau_pi_x']\n",
    "sig_pi_Ty = EpsSig_t['tau_pi_y']\n",
    "omega_Nx = EpsSig_t['omega_N']\n",
    "omega_Tx = EpsSig_t['omega_T']\n",
    "x_m = xd12.x_Eia[:,:,0].flatten()"
   ]
  },
  {
   "cell_type": "code",
   "execution_count": null,
   "metadata": {},
   "outputs": [],
   "source": [
    "time = m.hist.t\n",
    "f, (ax1, ax2, ax3, ax4) = plt.subplots(1,4, figsize=(10,4))\n",
    "ax1.plot(time, sig_pi_N[:,0,0].flatten(), label='sigma')\n",
    "ax1.plot(time, sig_pi_N[:,0,1].flatten(), label='sigma')\n",
    "ax1.set_xlabel('time')\n",
    "ax1.set_ylabel('normal stress')\n",
    "ax1.legend()\n",
    "\n",
    "ax2.plot(time, sig_pi_Tx[:,0,0].flatten(), color='red', label='tau')\n",
    "ax2.set_xlabel('time')\n",
    "ax2.set_ylabel('tangential stress')\n",
    "ax2.legend()\n",
    "\n",
    "ax3.plot(time, omega_Nx[:,0,0].flatten(), color='red', label='normal damage')\n",
    "ax3.plot(time, omega_Tx[:,0,0].flatten(), color='green', label='tangential damage')\n",
    "\n",
    "ax3.set_xlabel('time')\n",
    "ax3.set_ylabel('damage')\n",
    "ax3.legend()\n",
    "\n",
    "ax4.plot(time, u_pi_Tx[:,0,0].flatten(), color='red', label='opening')\n",
    "ax4.set_xlabel('time')\n",
    "ax4.set_ylabel('opening')\n",
    "ax4.legend()\n",
    "f.tight_layout()"
   ]
  },
  {
   "cell_type": "code",
   "execution_count": null,
   "metadata": {},
   "outputs": [],
   "source": []
  },
  {
   "cell_type": "code",
   "execution_count": null,
   "metadata": {},
   "outputs": [],
   "source": []
  }
 ],
 "metadata": {
  "kernelspec": {
   "display_name": "mayavi_env",
   "language": "python",
   "name": "python3"
  },
  "language_info": {
   "codemirror_mode": {
    "name": "ipython",
    "version": 3
   },
   "file_extension": ".py",
   "mimetype": "text/x-python",
   "name": "python",
   "nbconvert_exporter": "python",
   "pygments_lexer": "ipython3"
  }
 },
 "nbformat": 4,
 "nbformat_minor": 2
}
