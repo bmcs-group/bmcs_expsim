{
 "cells": [
  {
   "cell_type": "markdown",
   "id": "4faf2840",
   "metadata": {},
   "source": [
    "# Working interface models"
   ]
  },
  {
   "cell_type": "code",
   "execution_count": 1,
   "id": "5453e041-98d8-4951-923c-b64809a003dd",
   "metadata": {},
   "outputs": [
    {
     "name": "stdout",
     "output_type": "stream",
     "text": [
      "********************************************************************************\n",
      "WARNING: Imported VTK version (9.3) does not match the one used\n",
      "         to build the TVTK classes (9.1). This may cause problems.\n",
      "         Please rebuild TVTK.\n",
      "********************************************************************************\n",
      "\n"
     ]
    }
   ],
   "source": [
    "%matplotlib widget\n",
    "import time\n",
    "from bmcs_expsim.utils.mlab_decorators import decorate_figure\n",
    "from mayavi import mlab\n",
    "import numpy as np\n",
    "np.seterr(divide='ignore', invalid='ignore') \n",
    "import warnings\n",
    "import matplotlib.pylab as plt\n",
    "import numpy as np\n",
    "from ibvpy.api import TStepBC , TFCyclicNonsymmetricConstant, TFBilinear\n",
    "from ibvpy.bcond import BCSlice, BCDof\n",
    "from ibvpy.xmodel.xdomain_fe_grid_axisym import XDomainFEGridAxiSym\n",
    "from ibvpy.xmodel.xdomain_fe_grid import XDomainFEGrid\n",
    "from ibvpy.xmodel.xdomain_interface import XDomainFEInterface\n",
    "from ibvpy.fets import FETS2D4Q\n",
    "from ibvpy.fets.fets1D5 import FETS1D52ULRH\n",
    "# from ibvpy.tmodel.viz3d_scalar_field import \\\n",
    "#   Vis3DStateField, Viz3DScalarField\n",
    "#from ibvpy.tmodel.viz3d_tensor_field import \\\n",
    "#    Vis3DTensorField, Viz3DTensorField\n",
    "from bmcs_matmod.slide.vslide_34_TN_axisym import Slide34\n",
    "from ibvpy.tmodel.mats3D.mats3D_elastic.vmats3D_elastic import \\\n",
    "    MATS3DElastic\n",
    "from ibvpy.tmodel.mats2D.mats2D_elastic.vmats2D_elastic import \\\n",
    "    MATS2DElastic"
   ]
  },
  {
   "cell_type": "code",
   "execution_count": 2,
   "id": "a81c2bca",
   "metadata": {},
   "outputs": [],
   "source": [
    "mayavi_on = False"
   ]
  },
  {
   "cell_type": "markdown",
   "id": "7bc0f4a9-4bf9-4bd9-ae90-45d14f9d1017",
   "metadata": {},
   "source": [
    "# FE 2D discretization"
   ]
  },
  {
   "cell_type": "code",
   "execution_count": 3,
   "id": "b1e73a36-a1c4-4af9-b24c-9369ffb750e2",
   "metadata": {
    "tags": []
   },
   "outputs": [],
   "source": [
    "n_y_e = 2\n",
    "n_inner_x_e = 1\n",
    "n_outer_x_e = 1\n",
    "L_x = 1.0\n",
    "P = 1.0\n",
    "R_in = 10 / (2 * np.pi) \n",
    "R_out = 2 * R_in\n",
    "xd_lower = XDomainFEGrid(integ_factor = P,\n",
    "                         coord_min=(0, 0),\n",
    "                          coord_max=(L_x, R_in),\n",
    "                          shape=(n_y_e, n_inner_x_e),\n",
    "                          fets=FETS2D4Q())\n",
    "xd_upper = XDomainFEGrid(integ_factor = P,\n",
    "                         coord_min=(0, R_in),\n",
    "                          coord_max=(L_x, R_out),\n",
    "                          shape=(n_y_e, n_outer_x_e),\n",
    "                          fets=FETS2D4Q())\n",
    "m1 = MATS2DElastic(E=37000, nu=0.18)\n",
    "m2 = MATS2DElastic(E=37000, nu=0.18)\n",
    "\n",
    "xd12 = XDomainFEInterface(\n",
    "    integ_factor = P,\n",
    "    I=xd_lower.mesh.I[:, -1],\n",
    "    J=xd_upper.mesh.I[:, 0],\n",
    "    fets=FETS1D52ULRH()\n",
    ")"
   ]
  },
  {
   "cell_type": "code",
   "execution_count": 4,
   "id": "ed8c1091-f04b-4062-b487-da50fc060986",
   "metadata": {},
   "outputs": [],
   "source": [
    "material_params =  dict(\n",
    "     E_T=1, gamma_T=500, K_T=0, S_T=0.5, c_T=6, bartau=3, \n",
    "     E_N=1, S_N=0.5, c_N = 3, m = 0.05, f_t=2, f_c=60, f_c0 = 40, eta=0.)\n",
    "bond_m = Slide34(**material_params)"
   ]
  },
  {
   "cell_type": "code",
   "execution_count": 5,
   "id": "534fa221-e988-41dd-95f2-c7015e9478d6",
   "metadata": {},
   "outputs": [],
   "source": [
    "m = TStepBC(\n",
    "    domains=[(xd_lower, m1),\n",
    "             (xd_upper, m2),\n",
    "             (xd12, bond_m),\n",
    "             ]\n",
    ")"
   ]
  },
  {
   "cell_type": "code",
   "execution_count": 6,
   "id": "61e7265b-e135-4737-a697-7e929265adc6",
   "metadata": {},
   "outputs": [
    {
     "data": {
      "text/plain": [
       "(array([[ 2,  3],\n",
       "        [ 6,  7],\n",
       "        [10, 11]]),\n",
       " array([[12, 13],\n",
       "        [16, 17],\n",
       "        [20, 21]]))"
      ]
     },
     "execution_count": 6,
     "metadata": {},
     "output_type": "execute_result"
    }
   ],
   "source": [
    "xd12.I.dofs, xd12.J.dofs"
   ]
  },
  {
   "cell_type": "markdown",
   "id": "2057c5ba-9540-4860-bb0c-35598d17b351",
   "metadata": {},
   "source": [
    "## Compression/Traction fc"
   ]
  },
  {
   "cell_type": "code",
   "execution_count": 7,
   "id": "c5b1badf-88d7-4765-8e7c-938fac1abd51",
   "metadata": {
    "tags": []
   },
   "outputs": [],
   "source": [
    "lower_fixed_1 = BCSlice(slice=xd_lower.mesh[:, 0, :, 0], var='u', dims=[1], value=0)\n",
    "lower_fixed_0 = BCSlice(slice=xd_lower.mesh[0, 0, 0, 0], var='u', dims=[0], value=0)\n",
    "\n",
    "upper_compression_slice = BCSlice(slice=xd_upper.mesh[:, -1, :, -1],\n",
    "         var='u', dims=[1], value=0.01)\n",
    "\n",
    "compression_dofs = upper_compression_slice.dofs\n",
    "compression = -20 / len(compression_dofs)\n",
    "upper_compression_force_first = [BCDof(var='f', dof=dof, value = compression) \n",
    "             for dof in compression_dofs ]\n",
    "bc1 = [lower_fixed_0, lower_fixed_1] + upper_compression_force_first"
   ]
  },
  {
   "cell_type": "markdown",
   "id": "828cad7a-2a8f-4822-843e-fce5d8b78405",
   "metadata": {},
   "source": [
    "## Sliding dc"
   ]
  },
  {
   "cell_type": "code",
   "execution_count": 8,
   "id": "a52cd8ed-5eed-4687-bb8b-4b6f36108cd3",
   "metadata": {
    "tags": []
   },
   "outputs": [],
   "source": [
    "#lower_fixed_0 = BCSlice(slice=xd_lower.mesh[:, 0, :, 0], var='u', dims=[1], value=0)\n",
    "#upper_fixed_1 = BCSlice(slice=xd_upper.mesh[0, :, 0, :], var='u', dims=[0], value=0)\n",
    "#\n",
    "#lower_slide = BCSlice(slice=xd_lower.mesh[0, :, 0, :], var='u', dims=[0], value=6)\n",
    "#\n",
    "#\n",
    "#bc1 =   [lower_fixed_0, upper_fixed_1, lower_slide]"
   ]
  },
  {
   "cell_type": "markdown",
   "id": "9d5878e1-e9d5-48f3-98ff-7ba03a1ae50a",
   "metadata": {},
   "source": [
    "## Sliding fc"
   ]
  },
  {
   "cell_type": "code",
   "execution_count": 9,
   "id": "3e964d1e-1a74-49e3-a012-e6c9a3c8a168",
   "metadata": {
    "tags": []
   },
   "outputs": [],
   "source": [
    "#lower_fixed_0 = BCSlice(slice=xd_lower.mesh[:, 0, :, 0], var='u', dims=[1], value=0)\n",
    "#upper_fixed_1 = BCSlice(slice=xd_upper.mesh[0, :, 0, :], var='u', dims=[0], value=0)\n",
    "#\n",
    "#\n",
    "#\n",
    "#lower_slide = BCSlice(slice=xd_lower.mesh[0, :, 0, :], var='u', dims=[0], value=0)\n",
    "#Force = 4 / len(lower_slide.dofs)\n",
    "#lower_slide_force = [BCDof(var='f', dof=dof, value = Force) \n",
    "#             for dof in lower_slide.dofs]\n",
    "#\n",
    "#bc1 =   [lower_fixed_0, upper_fixed_1] + lower_slide_force"
   ]
  },
  {
   "cell_type": "code",
   "execution_count": 10,
   "id": "5a9f9a7d-7996-4d7e-b347-f53fe65865cd",
   "metadata": {
    "tags": []
   },
   "outputs": [
    {
     "data": {
      "text/plain": [
       "[<ibvpy.sim.domain_state.DomainState at 0x2168fd8cd60>,\n",
       " <ibvpy.sim.domain_state.DomainState at 0x2168fd87900>,\n",
       " <ibvpy.sim.domain_state.DomainState at 0x2168fd878b0>]"
      ]
     },
     "execution_count": 10,
     "metadata": {},
     "output_type": "execute_result"
    }
   ],
   "source": [
    "m.bc=bc1\n",
    "m.hist.vis_record = {\n",
    "#    'strain': Vis3DTensorField(var='eps_ab'),\n",
    "    'stress': Vis3DTensorField(var='sig_ab'),\n",
    "    #        'kinematic hardening': Vis3DStateField(var='z_a')\n",
    "}\n",
    "\n",
    "s = m.sim\n",
    "s.tloop.verbose = True\n",
    "s.tloop.k_max = 1000\n",
    "s.tline.step = 0.1\n",
    "s.tstep.fe_domain.serialized_subdomains"
   ]
  },
  {
   "cell_type": "code",
   "execution_count": 11,
   "id": "41f0b4c5-4dd0-4e9d-bbf3-16acdca3e097",
   "metadata": {},
   "outputs": [
    {
     "data": {
      "text/plain": [
       "array([[ 0,  1],\n",
       "       [ 2,  3],\n",
       "       [ 4,  5],\n",
       "       [ 6,  7],\n",
       "       [ 8,  9],\n",
       "       [10, 11]])"
      ]
     },
     "execution_count": 11,
     "metadata": {},
     "output_type": "execute_result"
    }
   ],
   "source": [
    "xd_lower.mesh.dofs"
   ]
  },
  {
   "cell_type": "code",
   "execution_count": 12,
   "id": "ff37615a-e09f-4d84-a45a-be992c693ed3",
   "metadata": {},
   "outputs": [
    {
     "data": {
      "text/plain": [
       "array([[12, 13],\n",
       "       [14, 15],\n",
       "       [16, 17],\n",
       "       [18, 19],\n",
       "       [20, 21],\n",
       "       [22, 23]])"
      ]
     },
     "execution_count": 12,
     "metadata": {},
     "output_type": "execute_result"
    }
   ],
   "source": [
    "xd_upper.mesh.dofs"
   ]
  },
  {
   "cell_type": "code",
   "execution_count": 13,
   "id": "3df7a1f0",
   "metadata": {},
   "outputs": [
    {
     "data": {
      "text/plain": [
       "array([[24, 25],\n",
       "       [26, 27],\n",
       "       [23, 23],\n",
       "       [23, 23],\n",
       "       [23, 23],\n",
       "       [23, 23],\n",
       "       [23, 23],\n",
       "       [23, 23]])"
      ]
     },
     "execution_count": 13,
     "metadata": {},
     "output_type": "execute_result"
    }
   ],
   "source": [
    "xd12.mesh.dofs"
   ]
  },
  {
   "cell_type": "code",
   "execution_count": 14,
   "id": "20a6daa9-8b77-4353-9afe-c3448ea3cd76",
   "metadata": {},
   "outputs": [
    {
     "name": "stdout",
     "output_type": "stream",
     "text": [
      "t:\t 0.00(0), \n",
      "\t 0.10(1), \n",
      "\t 0.20(1), \n",
      "\t 0.30(1), \n",
      "\t 0.40(1), \n",
      "\t 0.50(1), \n",
      "\t 0.60(1), \n",
      "\t 0.70(1), \n",
      "\t 0.80(1), \n",
      "\t 0.90(1), \n",
      "\t 1.00(1), \n",
      "\n"
     ]
    }
   ],
   "source": [
    "xd12.hidden = True\n",
    "s.reset()\n",
    "s.run()"
   ]
  },
  {
   "cell_type": "code",
   "execution_count": 15,
   "id": "1c4ab08f-af19-4c96-b110-bec6355150bb",
   "metadata": {},
   "outputs": [],
   "source": [
    "states_t = [states_t[2] for states_t in m.hist.state_vars]\n",
    "var_names = states_t[0].keys()\n",
    "EpsSig_t = {\n",
    "    var_name: np.array([ state_dict[var_name] for state_dict in states_t ]) \n",
    "    for var_name in var_names \n",
    "}\n",
    "u_pi_N = EpsSig_t['w_pi']\n",
    "u_pi_Tx = EpsSig_t['s_pi_x']\n",
    "sig_pi_N = EpsSig_t['sig_pi']\n",
    "sig_pi_Tx = EpsSig_t['tau_pi_x']\n",
    "sig_pi_Ty = EpsSig_t['tau_pi_y']\n",
    "omega_Nx = EpsSig_t['omega_N']\n",
    "omega_Tx = EpsSig_t['omega_T']\n",
    "x_m = xd12.x_Eia[:,:,0].flatten()"
   ]
  },
  {
   "cell_type": "code",
   "execution_count": 16,
   "id": "119b9d3e-f13b-498d-a0fa-b3a2b31d73c6",
   "metadata": {},
   "outputs": [
    {
     "data": {
      "text/plain": [
       "array([[[[ 2,  3],\n",
       "         [ 6,  7]],\n",
       "\n",
       "        [[12, 13],\n",
       "         [16, 17]]],\n",
       "\n",
       "\n",
       "       [[[ 6,  7],\n",
       "         [10, 11]],\n",
       "\n",
       "        [[16, 17],\n",
       "         [20, 21]]]])"
      ]
     },
     "execution_count": 16,
     "metadata": {},
     "output_type": "execute_result"
    }
   ],
   "source": [
    "xd12.o_Epia\n"
   ]
  },
  {
   "cell_type": "code",
   "execution_count": 17,
   "id": "2538f06d-5e0a-4684-b108-aeab02cd55b5",
   "metadata": {},
   "outputs": [
    {
     "data": {
      "text/plain": [
       "array([[[[ 2.52682678e-10, -8.60296793e-04],\n",
       "         [ 4.86487487e-05, -8.60297157e-04]],\n",
       "\n",
       "        [[ 1.24033317e-05, -2.00008386e+01],\n",
       "         [ 4.86487681e-05, -2.00008820e+01]]],\n",
       "\n",
       "\n",
       "       [[[ 4.86487487e-05, -8.60297157e-04],\n",
       "         [ 9.72972446e-05, -8.60296793e-04]],\n",
       "\n",
       "        [[ 4.86487681e-05, -2.00008820e+01],\n",
       "         [ 8.48942046e-05, -2.00008386e+01]]]])"
      ]
     },
     "execution_count": 17,
     "metadata": {},
     "output_type": "execute_result"
    }
   ],
   "source": [
    "U_last = m.hist.U_t[-1]\n",
    "U_last[xd12.o_Epia]"
   ]
  },
  {
   "cell_type": "code",
   "execution_count": 18,
   "id": "07890b3d-c8df-4378-952f-4d440ce20960",
   "metadata": {},
   "outputs": [
    {
     "data": {
      "text/plain": [
       "array([[[ 1.24030790e-05, -1.99999783e+01],\n",
       "        [ 1.94581779e-11, -2.00000217e+01]],\n",
       "\n",
       "       [[ 1.94581779e-11, -2.00000217e+01],\n",
       "        [-1.24030401e-05, -1.99999783e+01]]])"
      ]
     },
     "execution_count": 18,
     "metadata": {},
     "output_type": "execute_result"
    }
   ],
   "source": [
    "xd12.map_U_to_field(U_last)"
   ]
  },
  {
   "cell_type": "code",
   "execution_count": 19,
   "id": "aba83a6a-e893-42dc-b8a5-85533b002f1d",
   "metadata": {},
   "outputs": [
    {
     "data": {
      "application/vnd.jupyter.widget-view+json": {
       "model_id": "0231606ed623466182b4374c7b97b660",
       "version_major": 2,
       "version_minor": 0
      },
      "image/png": "[encoded data removed]",
      "text/html": [
       "\n",
       "            <div style=\"display: inline-block;\">\n",
       "                <div class=\"jupyter-widgets widget-label\" style=\"text-align: center;\">\n",
       "                    Figure\n",
       "                </div>\n",
       "                <img src='data:image/png;base64,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' width=640.0/>\n",
       "            </div>\n",
       "        "
      ],
      "text/plain": [
       "Canvas(toolbar=Toolbar(toolitems=[('Home', 'Reset original view', 'home', 'home'), ('Back', 'Back to previous …"
      ]
     },
     "metadata": {},
     "output_type": "display_data"
    }
   ],
   "source": [
    "time = m.hist.t\n",
    "f, (ax1, ax2, ax3, ax4) = plt.subplots(1,4)\n",
    "ax1.plot(time, sig_pi_N[:,0,0].flatten(), label='sigma')\n",
    "ax1.plot(time, sig_pi_N[:,0,1].flatten(), label='sigma')\n",
    "ax1.set_xlabel('time')\n",
    "ax1.set_ylabel('normal stress')\n",
    "ax1.legend()\n",
    "\n",
    "ax2.plot(time, sig_pi_Tx[:,0,0].flatten(), color='red', label='tau')\n",
    "ax2.set_xlabel('time')\n",
    "ax2.set_ylabel('tangential stress')\n",
    "ax2.legend()\n",
    "\n",
    "ax3.plot(time, omega_Nx[:,0,0].flatten(), color='red', label='normal damage')\n",
    "ax3.plot(time, omega_Tx[:,0,0].flatten(), color='green', label='tangential damage')\n",
    "\n",
    "ax3.set_xlabel('time')\n",
    "ax3.set_ylabel('damage')\n",
    "ax3.legend()\n",
    "\n",
    "ax4.plot(time, u_pi_N[:,0,0].flatten(), color='red', label='opening')\n",
    "ax4.set_xlabel('time')\n",
    "ax4.set_ylabel('opening')\n",
    "ax4.legend()\n",
    "f.tight_layout()"
   ]
  },
  {
   "cell_type": "code",
   "execution_count": 20,
   "id": "07b069ec-46e8-4173-85da-0191e71772bb",
   "metadata": {},
   "outputs": [
    {
     "data": {
      "text/plain": [
       "(11, 2, 2)"
      ]
     },
     "execution_count": 20,
     "metadata": {},
     "output_type": "execute_result"
    }
   ],
   "source": [
    "sig_pi_N.shape"
   ]
  }
 ],
 "metadata": {
  "kernelspec": {
   "display_name": "mayavi_env",
   "language": "python",
   "name": "python3"
  },
  "language_info": {
   "codemirror_mode": {
    "name": "ipython",
    "version": 3
   },
   "file_extension": ".py",
   "mimetype": "text/x-python",
   "name": "python",
   "nbconvert_exporter": "python",
   "pygments_lexer": "ipython3",
   "version": "3.8.18"
  },
  "toc": {
   "base_numbering": 1,
   "nav_menu": {},
   "number_sections": true,
   "sideBar": true,
   "skip_h1_title": false,
   "title_cell": "Table of Contents",
   "title_sidebar": "Contents",
   "toc_cell": false,
   "toc_position": {},
   "toc_section_display": true,
   "toc_window_display": false
  }
 },
 "nbformat": 4,
 "nbformat_minor": 5
}
