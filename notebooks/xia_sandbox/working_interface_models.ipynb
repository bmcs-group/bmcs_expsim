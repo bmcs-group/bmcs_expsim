{
 "cells": [
  {
   "cell_type": "markdown",
   "id": "4faf2840",
   "metadata": {},
   "source": [
    "# Working interface models"
   ]
  },
  {
   "cell_type": "code",
   "execution_count": null,
   "id": "5453e041-98d8-4951-923c-b64809a003dd",
   "metadata": {},
   "outputs": [],
   "source": [
    "%matplotlib widget\n",
    "import time\n",
    "from bmcs_expsim.utils.mlab_decorators import decorate_figure\n",
    "from mayavi import mlab\n",
    "import numpy as np\n",
    "np.seterr(divide='ignore', invalid='ignore') \n",
    "import warnings\n",
    "import matplotlib.pylab as plt\n",
    "import numpy as np\n",
    "from ibvpy.api import TStepBC , TFCyclicNonsymmetricConstant, TFBilinear\n",
    "from ibvpy.bcond import BCSlice, BCDof\n",
    "from ibvpy.xmodel.xdomain_fe_grid_axisym import XDomainFEGridAxiSym\n",
    "from ibvpy.xmodel.xdomain_fe_grid import XDomainFEGrid\n",
    "from ibvpy.xmodel.xdomain_interface import XDomainFEInterface\n",
    "from ibvpy.fets import FETS2D4Q\n",
    "from ibvpy.fets.fets1D5 import FETS1D52ULRH\n",
    "from ibvpy.tmodel.viz3d_scalar_field import \\\n",
    "    Vis3DStateField, Viz3DScalarField\n",
    "from ibvpy.tmodel.viz3d_tensor_field import \\\n",
    "    Vis3DTensorField, Viz3DTensorField\n",
    "from bmcs_matmod.slide.vslide_34_TN_axisym import Slide34\n",
    "from ibvpy.tmodel.mats3D.mats3D_elastic.vmats3D_elastic import \\\n",
    "    MATS3DElastic\n",
    "from ibvpy.tmodel.mats2D.mats2D_elastic.vmats2D_elastic import \\\n",
    "    MATS2DElastic"
   ]
  },
  {
   "cell_type": "code",
   "execution_count": null,
   "id": "a81c2bca",
   "metadata": {},
   "outputs": [],
   "source": [
    "mayavi_on = False"
   ]
  },
  {
   "cell_type": "markdown",
   "id": "7bc0f4a9-4bf9-4bd9-ae90-45d14f9d1017",
   "metadata": {},
   "source": [
    "# FE 2D discretization"
   ]
  },
  {
   "cell_type": "code",
   "execution_count": null,
   "id": "b1e73a36-a1c4-4af9-b24c-9369ffb750e2",
   "metadata": {
    "tags": []
   },
   "outputs": [],
   "source": [
    "n_y_e = 2\n",
    "n_inner_x_e = 1\n",
    "n_outer_x_e = 1\n",
    "L_x = 1.0\n",
    "P = 1.0\n",
    "R_in = 10 / (2 * np.pi) \n",
    "R_out = 2 * R_in\n",
    "xd_lower = XDomainFEGrid(integ_factor = P,\n",
    "                         coord_min=(0, 0),\n",
    "                          coord_max=(L_x, R_in),\n",
    "                          shape=(n_y_e, n_inner_x_e),\n",
    "                          fets=FETS2D4Q())\n",
    "xd_upper = XDomainFEGrid(integ_factor = P,\n",
    "                         coord_min=(0, R_in),\n",
    "                          coord_max=(L_x, R_out),\n",
    "                          shape=(n_y_e, n_outer_x_e),\n",
    "                          fets=FETS2D4Q())\n",
    "m1 = MATS2DElastic(E=37000, nu=0.18)\n",
    "m2 = MATS2DElastic(E=37000, nu=0.18)\n",
    "\n",
    "xd12 = XDomainFEInterface(\n",
    "    integ_factor = P,\n",
    "    I=xd_lower.mesh.I[:, -1],\n",
    "    J=xd_upper.mesh.I[:, 0],\n",
    "    fets=FETS1D52ULRH()\n",
    ")"
   ]
  },
  {
   "cell_type": "code",
   "execution_count": null,
   "id": "ed8c1091-f04b-4062-b487-da50fc060986",
   "metadata": {},
   "outputs": [],
   "source": [
    "material_params =  dict(\n",
    "     E_T=1, gamma_T=500, K_T=0, S_T=0.5, c_T=6, bartau=3, \n",
    "     E_N=1, S_N=0.5, c_N = 3, m = 0.05, f_t=2, f_c=60, f_c0 = 40, eta=0.)\n",
    "bond_m = Slide34(**material_params)"
   ]
  },
  {
   "cell_type": "code",
   "execution_count": null,
   "id": "534fa221-e988-41dd-95f2-c7015e9478d6",
   "metadata": {},
   "outputs": [],
   "source": [
    "m = TStepBC(\n",
    "    domains=[(xd_lower, m1),\n",
    "             (xd_upper, m2),\n",
    "             (xd12, bond_m),\n",
    "             ]\n",
    ")"
   ]
  },
  {
   "cell_type": "code",
   "execution_count": null,
   "id": "61e7265b-e135-4737-a697-7e929265adc6",
   "metadata": {},
   "outputs": [],
   "source": [
    "xd12.I.dofs, xd12.J.dofs"
   ]
  },
  {
   "cell_type": "markdown",
   "id": "2057c5ba-9540-4860-bb0c-35598d17b351",
   "metadata": {},
   "source": [
    "## Compression/Traction fc"
   ]
  },
  {
   "cell_type": "code",
   "execution_count": null,
   "id": "c5b1badf-88d7-4765-8e7c-938fac1abd51",
   "metadata": {
    "tags": []
   },
   "outputs": [],
   "source": [
    "lower_fixed_1 = BCSlice(slice=xd_lower.mesh[:, 0, :, 0], var='u', dims=[1], value=0)\n",
    "lower_fixed_0 = BCSlice(slice=xd_lower.mesh[0, 0, 0, 0], var='u', dims=[0], value=0)\n",
    "\n",
    "upper_compression_slice = BCSlice(slice=xd_upper.mesh[:, -1, :, -1],\n",
    "         var='u', dims=[1], value=0.01)\n",
    "\n",
    "compression_dofs = upper_compression_slice.dofs\n",
    "compression = -20 / len(compression_dofs)\n",
    "upper_compression_force_first = [BCDof(var='f', dof=dof, value = compression) \n",
    "             for dof in compression_dofs ]\n",
    "bc1 = [lower_fixed_0, lower_fixed_1] + upper_compression_force_first"
   ]
  },
  {
   "cell_type": "markdown",
   "id": "828cad7a-2a8f-4822-843e-fce5d8b78405",
   "metadata": {},
   "source": [
    "## Sliding dc"
   ]
  },
  {
   "cell_type": "code",
   "execution_count": null,
   "id": "a52cd8ed-5eed-4687-bb8b-4b6f36108cd3",
   "metadata": {
    "tags": []
   },
   "outputs": [],
   "source": [
    "#lower_fixed_0 = BCSlice(slice=xd_lower.mesh[:, 0, :, 0], var='u', dims=[1], value=0)\n",
    "#upper_fixed_1 = BCSlice(slice=xd_upper.mesh[0, :, 0, :], var='u', dims=[0], value=0)\n",
    "#\n",
    "#lower_slide = BCSlice(slice=xd_lower.mesh[0, :, 0, :], var='u', dims=[0], value=6)\n",
    "#\n",
    "#\n",
    "#bc1 =   [lower_fixed_0, upper_fixed_1, lower_slide]"
   ]
  },
  {
   "cell_type": "markdown",
   "id": "9d5878e1-e9d5-48f3-98ff-7ba03a1ae50a",
   "metadata": {},
   "source": [
    "## Sliding fc"
   ]
  },
  {
   "cell_type": "code",
   "execution_count": null,
   "id": "3e964d1e-1a74-49e3-a012-e6c9a3c8a168",
   "metadata": {
    "tags": []
   },
   "outputs": [],
   "source": [
    "#lower_fixed_0 = BCSlice(slice=xd_lower.mesh[:, 0, :, 0], var='u', dims=[1], value=0)\n",
    "#upper_fixed_1 = BCSlice(slice=xd_upper.mesh[0, :, 0, :], var='u', dims=[0], value=0)\n",
    "#\n",
    "#\n",
    "#\n",
    "#lower_slide = BCSlice(slice=xd_lower.mesh[0, :, 0, :], var='u', dims=[0], value=0)\n",
    "#Force = 4 / len(lower_slide.dofs)\n",
    "#lower_slide_force = [BCDof(var='f', dof=dof, value = Force) \n",
    "#             for dof in lower_slide.dofs]\n",
    "#\n",
    "#bc1 =   [lower_fixed_0, upper_fixed_1] + lower_slide_force"
   ]
  },
  {
   "cell_type": "code",
   "execution_count": null,
   "id": "5a9f9a7d-7996-4d7e-b347-f53fe65865cd",
   "metadata": {
    "tags": []
   },
   "outputs": [],
   "source": [
    "m.bc=bc1\n",
    "m.hist.vis_record = {\n",
    "#    'strain': Vis3DTensorField(var='eps_ab'),\n",
    "    'stress': Vis3DTensorField(var='sig_ab'),\n",
    "    #        'kinematic hardening': Vis3DStateField(var='z_a')\n",
    "}\n",
    "\n",
    "s = m.sim\n",
    "s.tloop.verbose = True\n",
    "s.tloop.k_max = 1000\n",
    "s.tline.step = 0.1\n",
    "s.tstep.fe_domain.serialized_subdomains"
   ]
  },
  {
   "cell_type": "code",
   "execution_count": null,
   "id": "41f0b4c5-4dd0-4e9d-bbf3-16acdca3e097",
   "metadata": {},
   "outputs": [],
   "source": [
    "xd_lower.mesh.dofs"
   ]
  },
  {
   "cell_type": "code",
   "execution_count": null,
   "id": "ff37615a-e09f-4d84-a45a-be992c693ed3",
   "metadata": {},
   "outputs": [],
   "source": [
    "xd_upper.mesh.dofs"
   ]
  },
  {
   "cell_type": "code",
   "execution_count": null,
   "id": "3df7a1f0",
   "metadata": {},
   "outputs": [],
   "source": [
    "xd12.mesh.dofs"
   ]
  },
  {
   "cell_type": "code",
   "execution_count": null,
   "id": "20a6daa9-8b77-4353-9afe-c3448ea3cd76",
   "metadata": {},
   "outputs": [],
   "source": [
    "xd12.hidden = True\n",
    "s.reset()\n",
    "s.run()"
   ]
  },
  {
   "cell_type": "code",
   "execution_count": null,
   "id": "1c4ab08f-af19-4c96-b110-bec6355150bb",
   "metadata": {},
   "outputs": [],
   "source": [
    "states_t = [states_t[2] for states_t in m.hist.state_vars]\n",
    "var_names = states_t[0].keys()\n",
    "EpsSig_t = {\n",
    "    var_name: np.array([ state_dict[var_name] for state_dict in states_t ]) \n",
    "    for var_name in var_names \n",
    "}\n",
    "u_pi_N = EpsSig_t['w_pi']\n",
    "u_pi_Tx = EpsSig_t['s_pi_x']\n",
    "sig_pi_N = EpsSig_t['sig_pi']\n",
    "sig_pi_Tx = EpsSig_t['tau_pi_x']\n",
    "sig_pi_Ty = EpsSig_t['tau_pi_y']\n",
    "omega_Nx = EpsSig_t['omega_N']\n",
    "omega_Tx = EpsSig_t['omega_T']\n",
    "x_m = xd12.x_Eia[:,:,0].flatten()"
   ]
  },
  {
   "cell_type": "code",
   "execution_count": null,
   "id": "119b9d3e-f13b-498d-a0fa-b3a2b31d73c6",
   "metadata": {},
   "outputs": [],
   "source": [
    "xd12.o_Epia"
   ]
  },
  {
   "cell_type": "code",
   "execution_count": null,
   "id": "2538f06d-5e0a-4684-b108-aeab02cd55b5",
   "metadata": {},
   "outputs": [],
   "source": [
    "U_last = m.hist.U_t[-1]\n",
    "U_last[xd12.o_Epia]"
   ]
  },
  {
   "cell_type": "code",
   "execution_count": null,
   "id": "07890b3d-c8df-4378-952f-4d440ce20960",
   "metadata": {},
   "outputs": [],
   "source": [
    "xd12.map_U_to_field(U_last)"
   ]
  },
  {
   "cell_type": "code",
   "execution_count": null,
   "id": "aba83a6a-e893-42dc-b8a5-85533b002f1d",
   "metadata": {},
   "outputs": [],
   "source": [
    "time = m.hist.t\n",
    "f, (ax1, ax2, ax3, ax4) = plt.subplots(1,4)\n",
    "ax1.plot(time, sig_pi_N[:,0,0].flatten(), label='sigma')\n",
    "ax1.plot(time, sig_pi_N[:,0,1].flatten(), label='sigma')\n",
    "ax1.set_xlabel('time')\n",
    "ax1.set_ylabel('normal stress')\n",
    "ax1.legend()\n",
    "\n",
    "ax2.plot(time, sig_pi_Tx[:,0,0].flatten(), color='red', label='tau')\n",
    "ax2.set_xlabel('time')\n",
    "ax2.set_ylabel('tangential stress')\n",
    "ax2.legend()\n",
    "\n",
    "ax3.plot(time, omega_Nx[:,0,0].flatten(), color='red', label='normal damage')\n",
    "ax3.plot(time, omega_Tx[:,0,0].flatten(), color='green', label='tangential damage')\n",
    "\n",
    "ax3.set_xlabel('time')\n",
    "ax3.set_ylabel('damage')\n",
    "ax3.legend()\n",
    "\n",
    "ax4.plot(time, u_pi_N[:,0,0].flatten(), color='red', label='opening')\n",
    "ax4.set_xlabel('time')\n",
    "ax4.set_ylabel('opening')\n",
    "ax4.legend()\n",
    "f.tight_layout()"
   ]
  },
  {
   "cell_type": "code",
   "execution_count": null,
   "id": "07b069ec-46e8-4173-85da-0191e71772bb",
   "metadata": {},
   "outputs": [],
   "source": [
    "sig_pi_N.shape"
   ]
  },
  {
   "cell_type": "code",
   "execution_count": null,
   "id": "14b4c181-5fb5-489f-a806-4631cb8bd246",
   "metadata": {},
   "outputs": [],
   "source": [
    "if mayavi_on:\n",
    "    mlab.options.backend = 'envisage'\n",
    "    mlab.options.offscreen = False # 'envisage'\n",
    "    f_strain = mlab.figure()\n",
    "    scene = mlab.get_engine().scenes[-1]\n",
    "    scene.name = 'stress'\n",
    "    strain_viz = Viz3DTensorField(vis3d=m.hist['stress'])\n",
    "    strain_viz.setup()\n",
    "    strain_viz.warp_vector.filter.scale_factor = 0.1\n",
    "    strain_viz.plot(s.tstep.t_n)\n",
    "    mlab.show()"
   ]
  },
  {
   "cell_type": "markdown",
   "id": "2fdaf708-abed-418a-aaba-c6d00ebb6ec8",
   "metadata": {},
   "source": [
    "# FE Axisymmetric discretization"
   ]
  },
  {
   "cell_type": "code",
   "execution_count": null,
   "id": "86afb862-3f07-4dd1-b5e8-b8f6c0f470d8",
   "metadata": {
    "tags": []
   },
   "outputs": [],
   "source": [
    "n_y_e = 1\n",
    "n_inner_x_e = 1\n",
    "n_outer_x_e = 1\n",
    "L_x = 1.0\n",
    "P = 1.0\n",
    "R_in = P / (2 * np.pi) \n",
    "R_out = 2 * R_in\n",
    "xd_lower = XDomainFEGridAxiSym(integ_factor = 2 * np.pi,\n",
    "                         coord_min=(0, 0),\n",
    "                          coord_max=(L_x, R_in),\n",
    "                          shape=(n_y_e, n_inner_x_e),\n",
    "                          fets=FETS2D4Q())\n",
    "xd_upper = XDomainFEGridAxiSym(integ_factor = 2 * np.pi,\n",
    "                         coord_min=(0, R_in),\n",
    "                          coord_max=(L_x, R_out),\n",
    "                          shape=(n_y_e, n_outer_x_e),\n",
    "                          fets=FETS2D4Q())\n",
    "m1 = MATS3DElastic(E=37000, nu=0.18)\n",
    "m2 = MATS3DElastic(E=37000, nu=0.18)\n",
    "\n",
    "xd12 = XDomainFEInterface(\n",
    "    integ_factor =  2 * np.pi * R_in,\n",
    "    I=xd_lower.mesh.I[:, -1],\n",
    "    J=xd_upper.mesh.I[:, 0],\n",
    "    fets=FETS1D52ULRH()\n",
    ")"
   ]
  },
  {
   "cell_type": "code",
   "execution_count": null,
   "id": "f534ef5a-6526-4ea0-8c4b-ca3f227ea92b",
   "metadata": {},
   "outputs": [],
   "source": [
    "material_params =  dict(\n",
    "     E_T=1, gamma_T=500, K_T=0, S_T=0.5, c_T=6, bartau=3, \n",
    "     E_N=1, S_N=0.5, c_N = 3, m = 0.05, f_t=2, f_c=60, f_c0 = 40, eta=0.)\n",
    "bond_m = Slide34(**material_params)"
   ]
  },
  {
   "cell_type": "code",
   "execution_count": null,
   "id": "2234c2d6-8f85-47f7-a78b-0d0ee395c7f4",
   "metadata": {},
   "outputs": [],
   "source": [
    "m = TStepBC(\n",
    "    domains=[(xd_lower, m1),\n",
    "             (xd_upper, m2),\n",
    "             (xd12, bond_m),\n",
    "             ]\n",
    ")"
   ]
  },
  {
   "cell_type": "markdown",
   "id": "33fdcf27-0a5f-439c-9ed0-e353a2e78c02",
   "metadata": {},
   "source": [
    "## Compression/Traction fc"
   ]
  },
  {
   "cell_type": "code",
   "execution_count": null,
   "id": "2690f169-bddb-4d7a-87c8-924cf3cfed90",
   "metadata": {
    "tags": []
   },
   "outputs": [],
   "source": [
    "lower_fixed_1 = BCSlice(slice=xd_lower.mesh[:, 0, :, 0], var='u', dims=[1], value=0)\n",
    "lower_fixed_0 = BCSlice(slice=xd_upper.mesh[0, :, 0, :], var='u', dims=[0], value=0)\n",
    "\n",
    "upper_compression_slice = BCSlice(slice=xd_upper.mesh[:, -1, :, -1],\n",
    "         var='u', dims=[1], value=0.01)\n",
    "\n",
    "compression_dofs = upper_compression_slice.dofs\n",
    "compression = -20 / len(compression_dofs)\n",
    "upper_compression_force_first = [BCDof(var='f', dof=dof, value = compression) \n",
    "             for dof in compression_dofs ]\n",
    "bc1 = [lower_fixed_0, lower_fixed_1] + upper_compression_force_first"
   ]
  },
  {
   "cell_type": "markdown",
   "id": "b6eae98d-d05c-4f33-949a-ffd8d17d4d9e",
   "metadata": {},
   "source": [
    "## Sliding dc"
   ]
  },
  {
   "cell_type": "code",
   "execution_count": null,
   "id": "0449a6e2-74ba-456e-8341-e87b5f65fefd",
   "metadata": {
    "tags": []
   },
   "outputs": [],
   "source": [
    "#lower_fixed_0 = BCSlice(slice=xd_lower.mesh[:, 0, :, 0], var='u', dims=[1], value=0)\n",
    "#upper_fixed_1 = BCSlice(slice=xd_upper.mesh[0, :, 0, :], var='u', dims=[0], value=0)\n",
    "#\n",
    "#lower_slide = BCSlice(slice=xd_lower.mesh[0, :, 0, :], var='u', dims=[0], value=6)\n",
    "#\n",
    "#\n",
    "#bc1 =   [lower_fixed_0, upper_fixed_1, lower_slide]"
   ]
  },
  {
   "cell_type": "markdown",
   "id": "25cf6602-f09e-45cb-9916-29dd9857bed4",
   "metadata": {},
   "source": [
    "## Sliding fc"
   ]
  },
  {
   "cell_type": "code",
   "execution_count": null,
   "id": "c3b5ccf9-7691-44af-943f-eb3d6253e34f",
   "metadata": {
    "tags": []
   },
   "outputs": [],
   "source": [
    "#lower_fixed_0 = BCSlice(slice=xd_lower.mesh[:, 0, :, 0], var='u', dims=[1], value=0)\n",
    "#upper_fixed_1 = BCSlice(slice=xd_upper.mesh[0, :, 0, :], var='u', dims=[0], value=0)\n",
    "#\n",
    "#\n",
    "#\n",
    "#lower_slide = BCSlice(slice=xd_lower.mesh[0, :, 0, :], var='u', dims=[0], value=0)\n",
    "#Force = 10 / len(lower_slide.dofs)\n",
    "#lower_slide_force = [BCDof(var='f', dof=dof, value = Force) \n",
    "#             for dof in lower_slide.dofs]\n",
    "#\n",
    "#bc1 =   [lower_fixed_0, upper_fixed_1] + lower_slide_force"
   ]
  },
  {
   "cell_type": "code",
   "execution_count": null,
   "id": "f78b8f97-b72d-4433-849b-628c3871052b",
   "metadata": {
    "tags": []
   },
   "outputs": [],
   "source": [
    "m.bc=bc1\n",
    "m.hist.vis_record = {\n",
    "#    'strain': Vis3DTensorField(var='eps_ab'),\n",
    "    'stress': Vis3DTensorField(var='sig_ab'),\n",
    "    #        'kinematic hardening': Vis3DStateField(var='z_a')\n",
    "}\n",
    "\n",
    "s = m.sim\n",
    "s.tloop.verbose = True\n",
    "s.tloop.k_max = 1000\n",
    "s.tline.step = 0.1\n",
    "s.tstep.fe_domain.serialized_subdomains"
   ]
  },
  {
   "cell_type": "code",
   "execution_count": null,
   "id": "451804eb-884a-4a25-94e4-b85db74cca76",
   "metadata": {},
   "outputs": [],
   "source": [
    "#bond_m.interact()"
   ]
  },
  {
   "cell_type": "code",
   "execution_count": null,
   "id": "a401abc5-87a1-446b-8efc-9b2014bddcf4",
   "metadata": {},
   "outputs": [],
   "source": [
    "xd12.hidden = True\n",
    "s.reset()\n",
    "s.run()"
   ]
  },
  {
   "cell_type": "code",
   "execution_count": null,
   "id": "0c6cb4e6-c944-4aec-acbf-1cd2fb6cb40e",
   "metadata": {},
   "outputs": [],
   "source": [
    "states_t = [states_t[2] for states_t in m.hist.state_vars]\n",
    "var_names = states_t[0].keys()\n",
    "EpsSig_t = {\n",
    "    var_name: np.array([ state_dict[var_name] for state_dict in states_t ]) \n",
    "    for var_name in var_names \n",
    "}\n",
    "u_pi_N = EpsSig_t['w_pi']\n",
    "u_pi_Tx = EpsSig_t['s_pi_x']\n",
    "sig_pi_N = EpsSig_t['sig_pi']\n",
    "sig_pi_Tx = EpsSig_t['tau_pi_x']\n",
    "sig_pi_Ty = EpsSig_t['tau_pi_y']\n",
    "omega_Nx = EpsSig_t['omega_N']\n",
    "omega_Tx = EpsSig_t['omega_T']\n",
    "x_m = xd12.x_Eia[:,:,0].flatten()"
   ]
  },
  {
   "cell_type": "code",
   "execution_count": null,
   "id": "4c89af24-d33d-45bb-85db-ba1d8c2b4af1",
   "metadata": {},
   "outputs": [],
   "source": [
    "xd12.o_Epia"
   ]
  },
  {
   "cell_type": "code",
   "execution_count": null,
   "id": "722b2c59-9978-4f51-b84a-74e4e4d5b1a1",
   "metadata": {},
   "outputs": [],
   "source": [
    "U_last = m.hist.U_t[-1]\n",
    "U_last[xd12.o_Epia]"
   ]
  },
  {
   "cell_type": "code",
   "execution_count": null,
   "id": "5935f9fd-2b21-4e76-9b0f-84bef3e2f38a",
   "metadata": {},
   "outputs": [],
   "source": [
    "xd12.map_U_to_field(U_last)"
   ]
  },
  {
   "cell_type": "code",
   "execution_count": null,
   "id": "255194f7-7649-435b-8e6b-7a758ae59c24",
   "metadata": {},
   "outputs": [],
   "source": [
    "time = m.hist.t\n",
    "f, (ax1, ax2, ax3, ax4) = plt.subplots(1,4)\n",
    "ax1.plot(time, sig_pi_N[:,0,0].flatten(), label='sigma')\n",
    "ax1.plot(time, sig_pi_N[:,0,1].flatten(), label='sigma')\n",
    "ax1.set_xlabel('time')\n",
    "ax1.set_ylabel('normal stress')\n",
    "ax1.legend()\n",
    "\n",
    "ax2.plot(time, sig_pi_Tx[:,0,0].flatten(), color='red', label='tau')\n",
    "ax2.set_xlabel('time')\n",
    "ax2.set_ylabel('tangential stress')\n",
    "ax2.legend()\n",
    "\n",
    "ax3.plot(time, omega_Nx[:,0,0].flatten(), color='red', label='normal damage')\n",
    "ax3.plot(time, omega_Tx[:,0,0].flatten(), color='green', label='tangential damage')\n",
    "\n",
    "ax3.set_xlabel('time')\n",
    "ax3.set_ylabel('damage')\n",
    "ax3.legend()\n",
    "\n",
    "ax4.plot(time, u_pi_N[:,0,0].flatten(), color='red', label='opening')\n",
    "ax4.set_xlabel('time')\n",
    "ax4.set_ylabel('opening')\n",
    "ax4.legend()"
   ]
  },
  {
   "cell_type": "code",
   "execution_count": null,
   "id": "cd700f7c-ffc4-406e-805d-493f3328ba9e",
   "metadata": {},
   "outputs": [],
   "source": [
    "sig_pi_N.shape"
   ]
  },
  {
   "cell_type": "code",
   "execution_count": null,
   "id": "60a76fb9-33d4-4c78-902a-5a7e5b0a4beb",
   "metadata": {},
   "outputs": [],
   "source": [
    "if mayavi_on:\n",
    "    mlab.options.backend = 'envisage'\n",
    "    mlab.options.offscreen = False # 'envisage'\n",
    "    f_strain = mlab.figure()\n",
    "    scene = mlab.get_engine().scenes[-1]\n",
    "    scene.name = 'stress'\n",
    "    strain_viz = Viz3DTensorField(vis3d=m.hist['stress'])\n",
    "    strain_viz.setup()\n",
    "    strain_viz.warp_vector.filter.scale_factor = 0.1\n",
    "    strain_viz.plot(s.tstep.t_n)\n",
    "    mlab.show()\n"
   ]
  },
  {
   "cell_type": "code",
   "execution_count": null,
   "id": "cf672c71-ab38-4be8-b699-f2eda3a22548",
   "metadata": {},
   "outputs": [],
   "source": []
  }
 ],
 "metadata": {
  "kernelspec": {
   "display_name": "mayavi_env",
   "language": "python",
   "name": "python3"
  },
  "language_info": {
   "codemirror_mode": {
    "name": "ipython",
    "version": 3
   },
   "file_extension": ".py",
   "mimetype": "text/x-python",
   "name": "python",
   "nbconvert_exporter": "python",
   "pygments_lexer": "ipython3"
  },
  "toc": {
   "base_numbering": 1,
   "nav_menu": {},
   "number_sections": true,
   "sideBar": true,
   "skip_h1_title": false,
   "title_cell": "Table of Contents",
   "title_sidebar": "Contents",
   "toc_cell": false,
   "toc_position": {},
   "toc_section_display": true,
   "toc_window_display": false
  }
 },
 "nbformat": 4,
 "nbformat_minor": 5
}
